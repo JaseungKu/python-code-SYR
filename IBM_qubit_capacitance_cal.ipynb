{
 "cells": [
  {
   "cell_type": "code",
   "execution_count": 1,
   "metadata": {},
   "outputs": [],
   "source": [
    "import numpy as np\n",
    "from scipy import linalg\n",
    "import matplotlib.pyplot as plt"
   ]
  },
  {
   "cell_type": "markdown",
   "metadata": {},
   "source": [
    "# function def."
   ]
  },
  {
   "cell_type": "code",
<<<<<<< HEAD
   "execution_count": 182,
=======
   "execution_count": 455,
>>>>>>> 49300d8a4f707378b33d642052e400f13aefd376
   "metadata": {
    "code_folding": [
     22,
     94
    ]
   },
   "outputs": [],
   "source": [
    "def update_mutual_capacitance(Maxwell_cap_matrix,conductor1_index, conductor2_index, new_cap):\n",
    "    \"\"\"\n",
    "    Args:\n",
    "        Maxwell_cap_matrix: Maxwell capacitance matrix from Q3D\n",
    "        conductor1_index : index of conductor 1\n",
    "        conductor2_index : index of conductor 2\n",
    "        new_cap : new capacitance for replacement\n",
    "    \"\"\"\n",
    "    \n",
    "    if conductor1_index == conductor2_index:\n",
    "        raise('Error. First and second conductor index must be different!')\n",
    "    \n",
    "    M = np.copy(Maxwell_cap_matrix)\n",
    "    \n",
    "    M[conductor1_index, conductor2_index] = -new_cap\n",
    "    M[conductor2_index, conductor1_index] = -new_cap\n",
    "    \n",
    "    for i in range(M.shape[0]):\n",
    "        M[i,i] = -(np.sum(M[i,:]) - M[i,i])\n",
    "        \n",
    "    return M\n",
    "\n",
    "def calculate_qubit_2bus_1read_equiv_cap(C_M, index):\n",
    "    \"\"\"\n",
    "    Calculate effective shunt and coupling capacitance.\n",
    "    Arg:\n",
    "        C_M : Maxewll capacitance matrix\n",
    "        index : index of each conductor in C_M, starting from 0\n",
    "    Return:\n",
    "        Tuple of effective bus, readout and shunt capacitance\n",
    "    \"\"\"\n",
    "    index_bus1 = index['bus1']\n",
    "    index_bus2 = index['bus2']\n",
    "    index_gnd = index['gnd']\n",
    "    index_island1 = index['island1']\n",
    "    index_island2 = index['island2']\n",
    "    index_read = index['read']\n",
    "    \n",
    "    NUM_CONDUCTOR = C_M.shape[0]\n",
    "    \n",
    "    # find beta_bus1, beta_bus2 and beta_readout\n",
    "    #, where beta_bus1 = C_bus1/C_sigma \n",
    "    # and C_sigma = C_bus1 + C_bus2 + C_read + C_shunt\n",
    "\n",
    "    C_M_1 = np.zeros((NUM_CONDUCTOR, NUM_CONDUCTOR))\n",
    "    C_M_1[:, index_island1] = C_M[:, index_island1]\n",
    "    C_M_1[:, index_island2] = C_M[:, index_island2]\n",
    "    C_M_1[index_bus1, index_bus1] = -1\n",
    "    C_M_1[index_bus2, index_bus2] = -1\n",
    "    C_M_1[index_gnd, index_gnd] = -1\n",
    "    C_M_1[index_read, index_read] = -1\n",
    "\n",
    "    b1 = np.linalg.solve(C_M_1, -C_M[:, index_bus1])\n",
    "    beta_bus1 = b1[index_island1] - b1[index_island2]\n",
    "\n",
    "    b2 = np.linalg.solve(C_M_1, -C_M[:, index_bus2])\n",
    "    beta_bus2 = b2[index_island1] - b2[index_island2]\n",
    "    \n",
    "    r = np.linalg.solve(C_M_1, -C_M[:, index_read])\n",
    "    beta_read = r[index_island1] - r[index_island2]\n",
    "    \n",
    "    # Find C_sigma\n",
    "    # V_island1 - V_island2 = 1, Eq.1\n",
    "    # Q_island1 + Q_island2 = 0, Eq.2\n",
    "    # From Eq1 and Eq2, find V_island1 and V_island2 \n",
    "\n",
    "    A = np.array([[1, -1],\n",
    "                 [C_M[index_island1, index_island1]+C_M[index_island2, index_island1]\n",
    "                  , C_M[index_island1, index_island2]+C_M[index_island2, index_island2]]])\n",
    "\n",
    "    b = np.array([[1]\n",
    "                  ,[0]])\n",
    "    V = np.linalg.solve(A, b)  # A*V = b, solve for V[0]=V_island1, V[1]=V_island2\n",
    "\n",
    "    V0 = np.zeros(NUM_CONDUCTOR)\n",
    "    V0[index_island1] = V[0]\n",
    "    V0[index_island2] = V[1]\n",
    "\n",
    "    Q = C_M.dot(V0)\n",
    "    C_sigma = np.dot(Q, V0)\n",
    "      \n",
    "    # find C_bus1, C_bus2, C_read and C_shunt\n",
    "    A = np.array([[beta_bus1-1, beta_bus1, beta_bus1, beta_bus1]\n",
    "                  ,[beta_bus2, beta_bus2-1, beta_bus2, beta_bus2]\n",
    "                ,[beta_read, beta_read, beta_read-1, beta_read]  \n",
    "                ,[1, 1, 1, 1]])\n",
    "    b = np.array([[0]\n",
    "                  ,[0]\n",
    "                  ,[0]\n",
    "                 ,[C_sigma]])\n",
    "    c = np.linalg.solve(A, b)\n",
    "    \n",
    "    out = np.append(c, np.array([C_sigma, beta_bus1, beta_bus1, beta_read]))\n",
    "    \n",
    "    return out\n",
    "\n",
    "def print_result_2bus_1read(c):\n",
    "    c = np.ndarray.flatten(c)\n",
    "    print(f'C_bus1 = {c[0]:.3f} fF\\n' \n",
    "         + f'C_bus2 = {c[1]:.3f} fF\\n' \n",
    "         + f'C_read = {c[2]:.3f} fF\\n'\n",
<<<<<<< HEAD
    "         + f'C_shunt = {c[3]:.3f} fF\\n'\n",
    "         + f'C_sigma = {c[4]:.3f} fF\\n'\n",
    "         + f'beta_bu1 = {c[5]:.3f}\\n'\n",
    "         + f'beta_bus2 = {c[6]:.3f}\\n'\n",
    "         + f'beta_read = {c[7]:.3f}')\n",
    "    "
   ]
  },
  {
   "cell_type": "code",
   "execution_count": 187,
   "metadata": {},
   "outputs": [],
   "source": [
    "Mod7p5 = np.array([[107.94,   -0.072728, -96.56, -0.72528, -9.7239,-0.041219]\n",
    "               ,[-0.072728, 107.72, -95.966, -0.72699, -9.5856, -0.041242]\n",
    "               ,[-96.56,   -95.966, 586.48,  -59.967, -55.133, -95.917]\n",
    "               ,[-0.72528, -0.72699, -59.967, 92.027,  -23.543,   -7.0491]\n",
    "               ,[-9.7239, -9.5856,-55.133, -23.543, 98.962,-0.61872]\n",
    "               ,[-0.041219,-0.041242, -95.917,   -7.0491, -0.61872, 103.03]\n",
    "              ]) \n",
    "\n",
    "# index dictionary of conductors in input Maxwell capacitance matrix\n",
    "conductor_index = { 'gnd' : 2\n",
    "                   , 'island1' : 3\n",
    "                   , 'island2' : 4\n",
    "                   , 'bus1' : 0\n",
    "                   , 'bus2' :1\n",
    "                   , 'read' : 5\n",
    "                  }"
   ]
  },
  {
   "cell_type": "code",
   "execution_count": 192,
   "metadata": {
    "scrolled": false
   },
   "outputs": [
    {
     "name": "stdout",
     "output_type": "stream",
     "text": [
      "C_bus1 = -4.248 fF\n",
      "C_bus2 = -4.181 fF\n",
      "C_read = 3.400 fF\n",
      "C_shunt = 64.464 fF\n",
      "C_sigma = 59.435 fF\n",
      "beta_bu1 = -0.071\n",
      "beta_bus2 = -0.071\n",
      "beta_read = 0.057\n"
     ]
    },
    {
     "data": {
      "text/plain": [
       "0.05274225403315132"
      ]
     },
     "execution_count": 192,
     "metadata": {},
     "output_type": "execute_result"
    }
   ],
   "source": [
    "result_2bus_1read = calculate_qubit_2bus_1read_equiv_cap(Mod7p5, conductor_index)\n",
    "print_result_2bus_1read(result_2bus_1read)\n",
    "result_2bus_1read[2]/result_2bus_1read[3]"
   ]
  },
  {
   "cell_type": "code",
   "execution_count": 156,
   "metadata": {},
   "outputs": [
    {
     "data": {
      "text/plain": [
       "0.3010150680896959"
      ]
     },
     "execution_count": 156,
     "metadata": {},
     "output_type": "execute_result"
    }
   ],
   "source": [
    "from scipy.constants import h,e\n",
    "e**2/2/(64.3497e-15)/h/1e9"
   ]
  },
  {
   "cell_type": "code",
   "execution_count": 50,
   "metadata": {},
   "outputs": [
    {
     "name": "stdout",
     "output_type": "stream",
     "text": [
      "C_bus1 = -5.032 fF\n",
      "C_bus2 = -5.034 fF\n",
      "C_read = 4.067 fF\n",
      "C_shunt = 72.758 fF\n",
      "C_sigma = 66.758 fF\n"
     ]
    }
   ],
   "source": [
    "Mod7p5_1 = np.array([[84.12624,-0.09242,-71.19074,-0.87456,-11.50396,-0.05208]\n",
    ",[-0.09242,88.28012,-75.31159,-0.88000,-11.51359,-0.05269]\n",
    ",[-71.19074,-75.31159,412.95030,-63.82632,-57.68698,-73.02149]\n",
    ",[-0.87456,-0.88000,-63.82632,103.15110,-26.88716,-8.47016]\n",
    ",[-11.50396,-11.51359,-57.68698,-26.88716,110.44020,-0.75749]\n",
    ",[-0.05208,-0.05269,-73.02149,-8.47016,-0.75749,82.78218]\n",
    "])\n",
    "result = calculate_qubit_2bus_1read_equiv_cap(Mod7p5_1,conductor_index)\n",
    "print_result_2bus_1read(result)"
   ]
  },
  {
   "cell_type": "code",
   "execution_count": 55,
   "metadata": {},
   "outputs": [
    {
     "name": "stdout",
     "output_type": "stream",
     "text": [
      "C_bus1 = -5.054 fF\n",
      "C_bus2 = -5.054 fF\n",
      "C_read = 4.083 fF\n",
      "C_shunt = 72.871 fF\n",
      "C_sigma = 66.846 fF\n"
     ]
    }
   ],
   "source": [
    "Mod7p5_1_vac = np.array([[84.72878,-0.09250,-71.74216,-0.87504,-11.55217,-0.05220]\n",
    "                     ,[-0.09250,88.92006,-75.90389,-0.88032,-11.55874,-0.05278]\n",
    "                     ,[-71.74216,-75.90389,414.49250,-63.90671,-57.74837,-73.63248]\n",
    "                     ,[-0.87504,-0.88032,-63.90671,103.27270,-26.92179,-8.50045]\n",
    "                     ,[-11.55217,-11.55874,-57.74837,-26.92179,110.60460,-0.75809]\n",
    "                     ,[-0.05220,-0.05278,-73.63248,-8.50045,-0.75809,83.43167]\n",
    "                    ])\n",
    "\n",
    "result = calculate_qubit_2bus_1read_equiv_cap(Mod7p5_1_vac, conductor_index)\n",
    "print_result_2bus_1read(result)"
   ]
  },
  {
   "cell_type": "code",
   "execution_count": 56,
   "metadata": {},
   "outputs": [
    {
     "name": "stdout",
     "output_type": "stream",
     "text": [
      "C_bus1 = -4.794 fF\n",
      "C_bus2 = -4.758 fF\n",
      "C_read = 3.840 fF\n",
      "C_shunt = 70.051 fF\n",
      "C_sigma = 64.339 fF\n"
     ]
    }
   ],
   "source": [
    "Mod7p5_1_3D = np.array([[78.37977,-0.08718,-66.37413,-0.83166,-10.94480,-0.04701]\n",
    "                        ,[-0.08718,82.16091,-70.31457,-0.83693,-10.87366,-0.04858]\n",
    "                        ,[-66.37413,-70.31457,378.64200,-63.08294,-56.15770,-69.24143]\n",
    "                        ,[-0.83166,-0.83693,-63.08294,99.49774,-25.90376,-8.01563]\n",
    "                        ,[-10.94480,-10.87366,-56.15770,-25.90376,106.35550,-0.72377]\n",
    "                        ,[-0.04701,-0.04858,-69.24143,-8.01563,-0.72377,78.07643]\n",
    "                       ])\n",
    "result = calculate_qubit_2bus_1read_equiv_cap(Mod7p5_1_3D, conductor_index)\n",
    "print_result_2bus_1read(result)"
   ]
  },
  {
   "cell_type": "code",
   "execution_count": 57,
   "metadata": {},
   "outputs": [
    {
     "name": "stdout",
     "output_type": "stream",
     "text": [
      "C_bus1 = -5.031 fF\n",
      "C_bus2 = -5.032 fF\n",
      "C_read = 4.065 fF\n",
      "C_shunt = 72.694 fF\n",
      "C_sigma = 66.696 fF\n"
     ]
    }
   ],
   "source": [
    "Mod7p5_1_730um = np.array([[84.15124,-0.08934,-71.46975,-0.87062,-11.49056,-0.05460]\n",
    "                           ,[-0.08934,88.30017,-75.60000,-0.87623,-11.49921,-0.05525]\n",
    "                           ,[-71.46975,-75.60000,417.90610,-63.69661,-57.57972,-73.44236]\n",
    "                           ,[-0.87062,-0.87623,-63.69661,103.29970,-26.62650,-8.45201]\n",
    "                           ,[-11.49056,-11.49921,-57.57972,-26.62650,110.56090,-0.73732]\n",
    "                           ,[-0.05460,-0.05525,-73.44236,-8.45201,-0.73732,82.80042]\n",
    "                          ])\n",
    "result = calculate_qubit_2bus_1read_equiv_cap(Mod7p5_1_730um, conductor_index)\n",
    "print_result_2bus_1read(result)"
   ]
  },
  {
   "cell_type": "code",
   "execution_count": 52,
   "metadata": {},
   "outputs": [
    {
     "name": "stdout",
     "output_type": "stream",
     "text": [
      "C_bus1 = -5.038 fF\n",
      "C_bus2 = -5.040 fF\n",
      "C_read = 4.061 fF\n",
      "C_shunt = 72.866 fF\n",
      "C_sigma = 66.849 fF\n"
     ]
    }
   ],
   "source": [
    "Mod7p5_2 = np.array([[130.05110,-0.08772,-117.41530,-0.85238,-11.48498,-0.04923]\n",
    "                     ,[-0.08772,130.04180,-117.40910,-0.85247,-11.48951,-0.04929]\n",
    "                     ,[-117.41530,-117.40910,614.68360,-65.88101,-59.61173,-115.08970]\n",
    "                     ,[-0.85238,-0.85247,-65.88101,103.51120,-26.72682,-8.44574]\n",
    "                       ,[-11.48498,-11.48951,-59.61173,-26.72682,110.75670,-0.73710]\n",
    "                       ,[-0.04923,-0.04929,-115.08970,-8.44574,-0.73710,124.52270]\n",
    "])\n",
    "result = calculate_qubit_2bus_1read_equiv_cap(Mod7p5_2, conductor_index)\n",
    "print_result_2bus_1read(result)"
   ]
  },
  {
   "cell_type": "code",
   "execution_count": 196,
   "metadata": {},
   "outputs": [
    {
     "name": "stdout",
     "output_type": "stream",
     "text": [
      "C_bus1 = -4.248 fF\n",
      "C_bus2 = -4.181 fF\n",
      "C_read = 3.400 fF\n",
      "C_shunt = 64.464 fF\n",
      "C_sigma = 59.435 fF\n",
      "beta_bu1 = -0.071\n",
      "beta_bus2 = -0.071\n",
      "beta_read = 0.057\n"
     ]
    },
    {
     "data": {
      "text/plain": [
       "0.052740699656511535"
      ]
     },
     "execution_count": 196,
     "metadata": {},
     "output_type": "execute_result"
    }
   ],
   "source": [
    "Mod7 = np.array([[107.94,-0.072728,-96.56,-0.72528,-9.7239,-0.041219]\n",
    "                     ,[-0.072728,107.72,-95.966,-0.72699,-9.5856,-0.041242]\n",
    "                     ,[-95.56,-95.966,586.48,-59.967,-55.133,-95.917]\n",
    "                       ,[-0.72528,-0.72699,-59.967,92.027,-23.543,-7.0491]\n",
    "                       ,[-9.7239,-9.5856,-55.133,-23.543,98.962,-0.61892]\n",
    "                 ,[-0.041219,-0.041242,-95.917,-7.0491, -0.61872,103.03]\n",
    "])\n",
    "# index dictionary of conductors in input Maxwell capacitance matrix\n",
    "conductor_index = { 'gnd' : 2\n",
    "                   , 'island1' : 3\n",
    "                   , 'island2' : 4\n",
    "                   , 'bus1' : 0\n",
    "                   , 'bus2' :1\n",
    "                   , 'read' : 5\n",
    "                  }\n",
    "result = calculate_qubit_2bus_1read_equiv_cap(Mod7, conductor_index)\n",
    "print_result_2bus_1read(result)\n",
    "result[2]/result[3]"
   ]
  },
  {
   "cell_type": "markdown",
   "metadata": {},
   "source": [
    "\n",
    "# 1-bus, 1-readout"
   ]
  },
  {
   "cell_type": "code",
   "execution_count": 201,
   "metadata": {
    "code_folding": [
     0,
     22
    ]
   },
   "outputs": [],
   "source": [
    "def update_mutual_capacitance(Maxwell_cap_matrix,conductor1_index, conductor2_index, new_cap):\n",
    "    \"\"\"\n",
    "    Args:\n",
    "        Maxwell_cap_matrix: Maxwell capacitance matrix from Q3D\n",
    "        conductor1_index : index of conductor 1\n",
    "        conductor2_index : index of conductor 2\n",
    "        new_cap : new capacitance for replacement\n",
    "    \"\"\"\n",
    "    \n",
    "    if conductor1_index == conductor2_index:\n",
    "        raise('Error. First and second conductor index must be different!')\n",
    "    \n",
    "    M = np.copy(Maxwell_cap_matrix)\n",
    "    \n",
    "    M[conductor1_index, conductor2_index] = -new_cap\n",
    "    M[conductor2_index, conductor1_index] = -new_cap\n",
    "    \n",
    "    for i in range(M.shape[0]):\n",
    "        M[i,i] = -(np.sum(M[i,:]) - M[i,i])\n",
    "        \n",
    "    return M\n",
=======
    "         + f'C_shunt = {c[3]:.3f} fF')\n",
>>>>>>> 49300d8a4f707378b33d642052e400f13aefd376
    "\n",
    "def calculate_qubit_1bus_1read_equiv_cap(C_M, index):\n",
    "    \"\"\"\n",
    "    Calculate effective shunt and coupling capacitance.\n",
    "    Arg:\n",
    "        C_M : Maxewll capacitance matrix\n",
    "        index : index of each conductor in C_M, starting from 0\n",
    "    Return:\n",
    "        Tuple of effective bus, readout and shunt capacitance\n",
    "    \"\"\"\n",
    "    index_bus1 = index['bus1']\n",
    "    index_gnd = index['gnd']\n",
    "    index_island1 = index['island1']\n",
    "    index_island2 = index['island2']\n",
    "    index_read = index['read']\n",
    "    \n",
    "    NUM_CONDUCTOR = C_M.shape[0]\n",
    "    \n",
    "    C_M_1 = np.zeros((NUM_CONDUCTOR, NUM_CONDUCTOR))\n",
    "    C_M_1[:, index_island1] = C_M[:, index_island1]\n",
    "    C_M_1[:, index_island2] = C_M[:, index_island2]\n",
    "    C_M_1[index_bus1, index_bus1] = -1\n",
    "    C_M_1[index_gnd, index_gnd] = -1\n",
    "    C_M_1[index_read, index_read] = -1\n",
    "\n",
    "    b1 = np.linalg.solve(C_M_1, -C_M[:, index_bus1])\n",
    "    beta_bus1 = b1[index_island1] - b1[index_island2]\n",
    "\n",
    "    r = np.linalg.solve(C_M_1, -C_M[:, index_read])\n",
    "    beta_read = r[index_island1] - r[index_island2]\n",
    "    \n",
    "    # Find C_sigma\n",
    "    # V_island1 - V_island2 = 1, Eq.1\n",
    "    # Q_island1 + Q_island2 = 0, Eq.2\n",
    "    # From Eq1 and Eq2, find V_island1 and V_island2 \n",
    "\n",
    "    A = np.array([[1, -1],\n",
    "                 [C_M[index_island1, index_island1]+C_M[index_island2, index_island1]\n",
    "                  , C_M[index_island1, index_island2]+C_M[index_island2, index_island2]]])\n",
    "\n",
    "    b = np.array([[1]\n",
    "                  ,[0]])\n",
    "    V = np.linalg.solve(A, b)  # A*V = b, solve for V[0]=V_island1, V[1]=V_island2\n",
    "\n",
    "    V0 = np.zeros(NUM_CONDUCTOR)\n",
    "    V0[index_island1] = V[0]\n",
    "    V0[index_island2] = V[1]\n",
    "\n",
    "    Q = C_M.dot(V0)\n",
    "    C_sigma = np.dot(Q, V0)\n",
    "    print(f'C_sigma from charging energy = {C_sigma:.3f}')\n",
    "    \n",
    "    # find C_bus1, C_read and C_shunt\n",
    "    A = np.array([[beta_bus1-1, beta_bus1, beta_bus1]\n",
    "                ,[beta_read,  beta_read-1, beta_read]  \n",
    "                ,[1, 1, 1]])\n",
    "    b = np.array([[0]\n",
    "                  ,[0]\n",
    "                 ,[C_sigma]])\n",
    "    c = np.linalg.solve(A, b)\n",
    "    c = np.append(c, np.array([C_sigma, beta_bus1, beta_read]))\n",
    "    \n",
    "    out = np.append(c, np.array([C_sigma, beta_bus1, beta_read]))\n",
    "    \n",
    "    return out\n",
    "\n",
    "def print_result_1bus_1read(c):\n",
    "    c = np.ndarray.flatten(c)\n",
    "    print(f'C_bus1 = {c[0]:.3f} fF\\n' \n",
    "         + f'C_read = {c[1]:.3f} fF\\n'\n",
    "         + f'C_shunt = {c[2]:.3f} fF\\n'\n",
    "         + f'C_sigma = {c[3]:.3f} fF\\n'\n",
    "         + f'beta_bus1 = {c[4]:.3f}\\n'\n",
<<<<<<< HEAD
    "         + f'beta_read = {c[5]:.3f}')\n",
    "    "
=======
    "         + f'beta_read = {c[5]:.3f}')"
   ]
  },
  {
   "cell_type": "markdown",
   "metadata": {},
   "source": [
    "# 2-bus, 1-readout"
   ]
  },
  {
   "cell_type": "code",
   "execution_count": 64,
   "metadata": {},
   "outputs": [],
   "source": [
    "C_M = np.array([[107.94,   -0.072728, -96.56, -0.72528, -9.7239,-0.041219]\n",
    "               ,[-0.072728, 107.72, -95.966, -0.72699, -9.5856, -0.041242]\n",
    "               ,[-96.56,   -95.966, 586.48,  -59.967, -55.133, -95.917]\n",
    "               ,[-0.72528, -0.72699, -59.967, 92.027,  -23.543,   -7.0491]\n",
    "               ,[-9.7239, -9.5856,-55.133, -23.543, 98.962,-0.61872]\n",
    "               ,[-0.041219,-0.041242, -95.917,   -7.0491, -0.61872, 103.03]\n",
    "              ]) \n",
    "\n",
    "# index dictionary of conductors in input Maxwell capacitance matrix\n",
    "conductor_index = { 'gnd' : 2\n",
    "                   , 'island1' : 3\n",
    "                   , 'island2' : 4\n",
    "                   , 'bus1' : 0\n",
    "                   , 'bus2' :1\n",
    "                   , 'read' : 5\n",
    "                  }"
   ]
  },
  {
   "cell_type": "code",
   "execution_count": 69,
   "metadata": {},
   "outputs": [
    {
     "name": "stdout",
     "output_type": "stream",
     "text": [
      "C_bus1 = 4.248 fF\n",
      "C_bus2 = 4.181 fF\n",
      "C_read = -3.400 fF\n",
      "C_shunt = 54.407 fF\n"
     ]
    }
   ],
   "source": [
    "result_2bus_1read = calculate_qubit_2bus_1read_equiv_cap(C_M, conductor_index)\n",
    "print_result_2bus_1read(result_2bus_1read)"
   ]
  },
  {
   "cell_type": "code",
   "execution_count": 74,
   "metadata": {},
   "outputs": [],
   "source": [
    "C_M = update_mutual_capacitance(C_M,2,3,80)"
   ]
  },
  {
   "cell_type": "code",
   "execution_count": 78,
   "metadata": {},
   "outputs": [
    {
     "name": "stdout",
     "output_type": "stream",
     "text": [
      "C_bus1 = -4.929 fF\n",
      "C_bus2 = -4.853 fF\n",
      "C_read = 2.900 fF\n",
      "C_shunt = 71.039 fF\n",
      "64.15754886396333\n"
     ]
    }
   ],
   "source": [
    "conductor_index = { 'gnd' : 2\n",
    "                   , 'island1' : 3\n",
    "                   , 'island2' : 4\n",
    "                   , 'bus1' : 0\n",
    "                   , 'bus2' :1\n",
    "                   , 'read' : 5\n",
    "                  }\n",
    "result_2bus_1read = calculate_qubit_2bus_1read_equiv_cap(C_M, conductor_index)\n",
    "print_result_2bus_1read(result_2bus_1read)\n",
    "print(np.sum(result_2bus_1read))"
   ]
  },
  {
   "cell_type": "code",
   "execution_count": 79,
   "metadata": {},
   "outputs": [
    {
     "name": "stdout",
     "output_type": "stream",
     "text": [
      "C_bus1 = 4.929 fF\n",
      "C_bus2 = 4.853 fF\n",
      "C_read = -2.900 fF\n",
      "C_shunt = 57.276 fF\n",
      "64.1575488639633\n"
     ]
    }
   ],
   "source": [
    "conductor_index = { 'gnd' : 2\n",
    "                   , 'island1' : 4\n",
    "                   , 'island2' : 3\n",
    "                   , 'bus1' : 0\n",
    "                   , 'bus2' :1\n",
    "                   , 'read' : 5\n",
    "                  }\n",
    "result_2bus_1read = calculate_qubit_2bus_1read_equiv_cap(C_M, conductor_index)\n",
    "print_result_2bus_1read(result_2bus_1read)\n",
    "print(np.sum(result_2bus_1read))"
   ]
  },
  {
   "cell_type": "markdown",
   "metadata": {},
   "source": [
    "# 1-bus, 1-readout"
>>>>>>> 49300d8a4f707378b33d642052e400f13aefd376
   ]
  },
  {
   "cell_type": "code",
   "execution_count": 150,
   "metadata": {},
   "outputs": [],
   "source": [
    "C_M = np.array([[107.94, -96.56, -0.72528, -9.7239,-0.041219]\n",
    "               ,[-96.56, 586.48,  -59.967, -55.133, -95.917]\n",
    "               ,[-0.72528, -59.967, 92.027,  -23.543,   -7.0491]\n",
    "               ,[-9.7239, -55.133, -23.543, 98.962,-0.61872]\n",
    "               ,[-0.041219, -95.917,   -7.0491, -0.61872, 103.03]\n",
    "              ])\n",
    "\n",
    "# index dictionary of conductors in input Maxwell capacitance matrix\n",
    "conductor_index = { 'gnd' : 1\n",
    "                   , 'island1' : 2\n",
    "                   , 'island2' : 3\n",
    "                   , 'bus1' : 0\n",
    "                   , 'read' : 4\n",
    "                  }"
   ]
  },
  {
   "cell_type": "code",
   "execution_count": 151,
   "metadata": {},
   "outputs": [
    {
     "name": "stdout",
     "output_type": "stream",
     "text": [
      "C_bus1 = -4.248 fF\n",
      "C_read = 3.400 fF\n",
      "C_shunt = 60.283 fF\n",
      "C_sigma = 59.435 fF\n"
     ]
    }
   ],
   "source": [
    "cap_result = calculate_qubit_1bus_1read_equiv_cap(C_M, conductor_index)\n",
    "print_result_1bus_1read(cap_result)"
   ]
  },
  {
   "cell_type": "code",
   "execution_count": 152,
   "metadata": {
    "scrolled": true
   },
   "outputs": [
    {
     "name": "stdout",
     "output_type": "stream",
     "text": [
      "C_bus1 = -19.081 fF\n",
      "C_read = 4.055 fF\n",
      "C_shunt = 79.860 fF\n",
      "C_sigma = 64.834 fF\n"
     ]
    }
   ],
   "source": [
    "C_M_1 = update_mutual_capacitance(C_M, 0, 3, 50)\n",
    "cap_result1 = calculate_qubit_1bus_1read_equiv_cap(C_M_1, conductor_index)\n",
    "print_result_1bus_1read(cap_result1)"
   ]
  },
  {
   "cell_type": "code",
   "execution_count": 153,
   "metadata": {},
   "outputs": [
    {
     "data": {
      "text/plain": [
       "122.6582117411505"
      ]
     },
     "execution_count": 153,
     "metadata": {},
     "output_type": "execute_result"
    }
   ],
   "source": [
    "7e-15/2*np.sqrt(6.26e9*5.05e9/55e-15/468e-15)/1e6"
   ]
  },
  {
   "cell_type": "markdown",
   "metadata": {},
   "source": [
    "# ZZ gate, qubit "
   ]
  },
  {
   "cell_type": "code",
   "execution_count": 105,
   "metadata": {
    "code_folding": [
     0
    ]
   },
   "outputs": [],
   "source": [
    "C_M = np.array([[143.07500,-87.36528,-2.23553,-52.84648,-0.23655]\n",
    "               ,[-87.36528,294.22820,-40.74111,-46.17334,-77.96845]\n",
    "               ,[-2.23553,-40.74111,67.58779,-15.71175,-7.76007]\n",
    "               ,[-52.84648,-46.17334,-15.71175,118.06270,-0.89528]\n",
    "               ,[-0.23655,-77.96845,-7.76007,-0.89528,86.86034]\n",
    "              ])\n",
    "\n",
    "C_M_CSFQ = np.array([[158.77860,-97.66067,-2.39180,-57.64469,-0.25352]\n",
    "                     ,[-97.66067,344.81040,-41.88761,-48.54764,-83.19365]\n",
    "                     ,[-2.39180,-41.88761,71.05150,-17.08321,-8.46331]\n",
    "                     ,[-57.64469,-48.54764,-17.08321,125.56610,-0.97516]\n",
    "                     ,[-0.25352,-83.19365,-8.46331,-0.97516,93.34146]\n",
    "                  ])\n",
    "\n",
    "C_M_Transmon_1G = np.array([[132.68060,-89.06221,-1.96755,-40.88322,-0.13255]\n",
    "                         ,[-89.06221,292.83490,-32.38189,-35.28765,-73.27939]\n",
    "                         ,[-1.96755,-32.38189,64.17877,-19.45839,-9.51221]\n",
    "                         ,[-40.88322,-35.28765,-19.45839,97.41683,-0.92067]\n",
    "                         ,[-0.13255,-73.27939,-9.51221,-0.92067,84.28134]\n",
    "    ]) # 1 GHz\n",
    "\n",
    "C_M_Transmon_5G = np.array([[132.68060,-89.06221,-1.96755,-40.88322,-0.13255]\n",
    "                            ,[-89.06221,292.83490,-32.38189,-35.28765,-73.27939]\n",
    "                            ,[-1.96755,-32.38189,64.17877,-19.45839,-9.51221]\n",
    "                              ,[-40.88322,-35.28765,-19.45839,97.41683,-0.92067]\n",
    "                              ,[-0.13255,-73.27939,-9.51221,-0.92067,84.28134]\n",
    "                             ])\n",
    "\n",
    "C_M_bus350um = np.array([[121.05030,-83.51384,-2.17964,-34.36814,-0.13098]\n",
    "                         ,[-83.51384,348.45120,-63.86928,-56.00028,-72.96077]\n",
    "                         ,[-2.17964,-63.86928,103.10760,-26.38928,-8.46271]\n",
    "                         ,[-34.36814,-56.00028,-26.38928,119.45440,-0.72889]\n",
    "                         ,[-0.13098,-72.96077,-8.46271,-0.72889,82.71109]\n",
    "                        ])\n",
    "\n",
    "# index dictionary of conductors in input Maxwell capacitance matrix\n",
    "conductor_index = { 'gnd' : 1\n",
    "                   , 'island1' : 2\n",
    "                   , 'island2' : 3\n",
    "                   , 'bus1' : 0\n",
    "                   , 'read' : 4\n",
    "                  }"
   ]
  },
  {
   "cell_type": "code",
   "execution_count": 106,
   "metadata": {},
   "outputs": [
    {
     "name": "stdout",
     "output_type": "stream",
     "text": [
      "C_bus1 = -16.292 fF\n",
      "C_read = 4.849 fF\n",
      "C_shunt = 61.582 fF\n",
      "C_sigma = 50.139 fF\n"
     ]
    }
   ],
   "source": [
    "cap_result = calculate_qubit_1bus_1read_equiv_cap(C_M, conductor_index)\n",
    "print_result_1bus_1read(cap_result)"
   ]
  },
  {
   "cell_type": "code",
   "execution_count": 107,
   "metadata": {},
   "outputs": [
    {
     "name": "stdout",
     "output_type": "stream",
     "text": [
      "C_bus1 = -17.553 fF\n",
      "C_read = 5.328 fF\n",
      "C_shunt = 65.348 fF\n",
      "C_sigma = 53.123 fF\n"
     ]
    }
   ],
   "source": [
    "cap_result_CSFQ = calculate_qubit_1bus_1read_equiv_cap(C_M_CSFQ, conductor_index)\n",
    "print_result_1bus_1read(cap_result_CSFQ)"
   ]
  },
  {
   "cell_type": "code",
   "execution_count": 110,
   "metadata": {},
   "outputs": [
    {
     "name": "stdout",
     "output_type": "stream",
     "text": [
      "C_bus1 = -13.653 fF\n",
      "C_read = 5.709 fF\n",
      "C_shunt = 55.821 fF\n",
      "C_sigma = 47.877 fF\n"
     ]
    }
   ],
   "source": [
    "cap_result_Transmon_1G = calculate_qubit_1bus_1read_equiv_cap(C_M_Transmon_1G, conductor_index)\n",
    "print_result_1bus_1read(cap_result_Transmon_1G)"
   ]
  },
  {
   "cell_type": "code",
   "execution_count": 111,
   "metadata": {},
   "outputs": [
    {
     "name": "stdout",
     "output_type": "stream",
     "text": [
      "C_bus1 = -13.653 fF\n",
      "C_read = 5.709 fF\n",
      "C_shunt = 55.821 fF\n",
      "C_sigma = 47.877 fF\n"
     ]
    }
   ],
   "source": [
    "cap_result_Transmon_5G = calculate_qubit_1bus_1read_equiv_cap(C_M_Transmon_5G, conductor_index)\n",
    "print_result_1bus_1read(cap_result_Transmon_5G)"
   ]
  },
  {
   "cell_type": "code",
   "execution_count": 86,
   "metadata": {},
   "outputs": [
    {
     "name": "stdout",
     "output_type": "stream",
     "text": [
      "C_bus1 = -14.335 fF\n",
      "C_read = 4.309 fF\n",
      "C_shunt = 78.467 fF\n",
      "C_sigma = 68.442 fF\n"
     ]
    }
   ],
   "source": [
    "cap_result_bus350um = calculate_qubit_1bus_1read_equiv_cap(C_M_bus350um, conductor_index)\n",
    "print_result_1bus_1read(cap_result_bus350um)"
   ]
  },
  {
   "cell_type": "markdown",
   "metadata": {},
   "source": [
    "# I101 CSFQ"
   ]
  },
  {
   "cell_type": "code",
   "execution_count": 171,
   "metadata": {},
   "outputs": [],
   "source": [
    "import pandas as pd\n",
    "\n",
    "def read_capacitance_matrix_csv_to_numpy(filepath, num_conductor, display_df=True):\n",
    "    df = pd.read_csv(filepath, header=6, nrows=num_conductor, index_col=0, usecols=range(num_conductor+1))\n",
    "    if display_df:\n",
    "        display(df)\n",
    "    C_M = df.to_numpy()\n",
    "    \n",
    "    return C_M\n",
    "    "
   ]
  },
  {
   "cell_type": "code",
   "execution_count": 199,
   "metadata": {},
   "outputs": [
    {
     "data": {
      "text/html": [
       "<div>\n",
       "<style scoped>\n",
       "    .dataframe tbody tr th:only-of-type {\n",
       "        vertical-align: middle;\n",
       "    }\n",
       "\n",
       "    .dataframe tbody tr th {\n",
       "        vertical-align: top;\n",
       "    }\n",
       "\n",
       "    .dataframe thead th {\n",
       "        text-align: right;\n",
       "    }\n",
       "</style>\n",
       "<table border=\"1\" class=\"dataframe\">\n",
       "  <thead>\n",
       "    <tr style=\"text-align: right;\">\n",
       "      <th></th>\n",
       "      <th>bus</th>\n",
       "      <th>gnd</th>\n",
       "      <th>island1</th>\n",
       "      <th>island2</th>\n",
       "      <th>read</th>\n",
       "    </tr>\n",
       "  </thead>\n",
       "  <tbody>\n",
       "    <tr>\n",
       "      <th>bus</th>\n",
       "      <td>97.19611</td>\n",
       "      <td>-79.64800</td>\n",
       "      <td>-1.28021</td>\n",
       "      <td>-16.19203</td>\n",
       "      <td>-0.07586</td>\n",
       "    </tr>\n",
       "    <tr>\n",
       "      <th>gnd</th>\n",
       "      <td>-79.64800</td>\n",
       "      <td>369.43280</td>\n",
       "      <td>-65.51223</td>\n",
       "      <td>-62.57492</td>\n",
       "      <td>-66.05134</td>\n",
       "    </tr>\n",
       "    <tr>\n",
       "      <th>island1</th>\n",
       "      <td>-1.28021</td>\n",
       "      <td>-65.51223</td>\n",
       "      <td>101.68750</td>\n",
       "      <td>-26.85384</td>\n",
       "      <td>-6.66395</td>\n",
       "    </tr>\n",
       "    <tr>\n",
       "      <th>island2</th>\n",
       "      <td>-16.19203</td>\n",
       "      <td>-62.57492</td>\n",
       "      <td>-26.85384</td>\n",
       "      <td>107.63560</td>\n",
       "      <td>-0.71144</td>\n",
       "    </tr>\n",
       "    <tr>\n",
       "      <th>read</th>\n",
       "      <td>-0.07586</td>\n",
       "      <td>-66.05134</td>\n",
       "      <td>-6.66395</td>\n",
       "      <td>-0.71144</td>\n",
       "      <td>73.50259</td>\n",
       "    </tr>\n",
       "  </tbody>\n",
       "</table>\n",
       "</div>"
      ],
      "text/plain": [
       "              bus        gnd    island1    island2      read\n",
       "bus      97.19611  -79.64800   -1.28021  -16.19203  -0.07586\n",
       "gnd     -79.64800  369.43280  -65.51223  -62.57492 -66.05134\n",
       "island1  -1.28021  -65.51223  101.68750  -26.85384  -6.66395\n",
       "island2 -16.19203  -62.57492  -26.85384  107.63560  -0.71144\n",
       "read     -0.07586  -66.05134   -6.66395   -0.71144  73.50259"
      ]
     },
     "metadata": {},
     "output_type": "display_data"
    }
   ],
   "source": [
    "# C_M_I101_CSFQ = np.array([[97.33724,-79.78570,-1.27928,-16.19649,-0.07577]\n",
    "#                           ,[-79.78570,369.54590,-65.51718,-62.59272,-66.09797]\n",
    "#                             ,[-1.27928,-65.51718,101.69510,-26.86022,-6.66609]\n",
    "#                             ,[-16.19649,-62.59272,-26.86022,107.66730,-0.71155]\n",
    "#                               ,[-0.07577,-66.09797,-6.66609,-0.71155,73.55138]\n",
    "#                              ])\n",
    "\n",
    "filepath = r'Z:\\User\\Jaseung\\projects\\ZZgate\\Q3D\\ZZgate_I101_CSFQ.csv'\n",
    "C_M_I101_CSFQ = read_capacitance_matrix_csv_to_numpy(filepath, 5)\n",
    "\n",
    "# index dictionary of conductors in input Maxwell capacitance matrix\n",
    "conductor_index = { 'gnd' : 1\n",
    "                   , 'island1' : 2\n",
    "                   , 'island2' : 3\n",
    "                   , 'bus1' : 0\n",
    "                   , 'read' : 4\n",
    "                  }"
   ]
  },
  {
   "cell_type": "code",
   "execution_count": 202,
   "metadata": {},
   "outputs": [
    {
     "name": "stdout",
     "output_type": "stream",
     "text": [
      "C_bus1 = -7.122 fF\n",
      "C_read = 3.117 fF\n",
      "C_shunt = 69.706 fF\n",
      "C_sigma = 65.701 fF\n",
      "beta_bus1 = -0.108\n",
      "beta_read = 0.047\n"
     ]
    }
   ],
   "source": [
    "cap_result_I101_CSFQ = calculate_qubit_1bus_1read_equiv_cap(C_M_I101_CSFQ, conductor_index)\n",
    "print_result_1bus_1read(cap_result_I101_CSFQ)\n",
    "# C_QB  = 6.5 fF, C_QR = 2.8 fF"
   ]
  },
  {
   "cell_type": "code",
   "execution_count": 76,
   "metadata": {},
   "outputs": [],
   "source": [
    "import transmonCPW\n",
    "from scipy.constants import h,e,k"
   ]
  },
  {
   "cell_type": "code",
   "execution_count": 215,
   "metadata": {},
   "outputs": [],
   "source": [
    "Ec = e**2/2/67.7e-15/h/1e9\n",
    "q = transmonCPW.Transmon.in_GHz(13.7, Ec)"
   ]
  },
  {
   "cell_type": "code",
   "execution_count": 216,
   "metadata": {},
   "outputs": [
    {
     "data": {
      "text/plain": [
       "0.286118601581263"
      ]
     },
     "execution_count": 216,
     "metadata": {},
     "output_type": "execute_result"
    }
   ],
   "source": [
    "Ec"
   ]
  },
  {
   "cell_type": "code",
   "execution_count": 217,
   "metadata": {},
   "outputs": [
    {
     "data": {
      "text/plain": [
       "5296.703805037685"
      ]
     },
     "execution_count": 217,
     "metadata": {},
     "output_type": "execute_result"
    }
   ],
   "source": [
    "q.f01/1e6"
   ]
  },
  {
   "cell_type": "code",
   "execution_count": 218,
   "metadata": {},
   "outputs": [
    {
     "data": {
      "text/plain": [
       "-329.9005001770377"
      ]
     },
     "execution_count": 218,
     "metadata": {},
     "output_type": "execute_result"
    }
   ],
   "source": [
<<<<<<< HEAD
    "q.anharmonicity/1e6"
=======
    "q.charge_dispersion"
   ]
  },
  {
   "cell_type": "code",
   "execution_count": 255,
   "metadata": {
    "code_folding": [
     0
    ]
   },
   "outputs": [],
   "source": [
    "def calculate_qubit_2bus_1read_equiv_cap(C_M, index):\n",
    "    \"\"\"\n",
    "    Calculate effective shunt and coupling capacitance.\n",
    "    Arg:\n",
    "        C_M : Maxewll capacitance matrix\n",
    "        index : index of each conductor in C_M, starting from 0\n",
    "    Return:\n",
    "        Tuple of effective bus, readout and shunt capacitance\n",
    "    \"\"\"\n",
    "    index_bus1 = index['bus1']\n",
    "    index_bus2 = index['bus2']\n",
    "    index_gnd = index['gnd']\n",
    "    index_island1 = index['island1']\n",
    "    index_island2 = index['island2']\n",
    "    index_read = index['read']\n",
    "    \n",
    "    NUM_CONDUCTOR = C_M.shape[0]\n",
    "    \n",
    "    # find beta_bus1, beta_bus2 and beta_readout\n",
    "    #, where beta_bus1 = C_bus1/C_sigma \n",
    "    # and C_sigma = C_bus1 + C_bus2 + C_read + C_shunt\n",
    "\n",
    "    C_M_1 = np.zeros((NUM_CONDUCTOR, NUM_CONDUCTOR))\n",
    "    C_M_1[:, index_island1] = C_M[:, index_island1]\n",
    "    C_M_1[:, index_island2] = C_M[:, index_island2]\n",
    "    C_M_1[index_bus1, index_bus1] = -1\n",
    "    C_M_1[index_bus2, index_bus2] = -1\n",
    "    C_M_1[index_gnd, index_gnd] = -1\n",
    "    C_M_1[index_read, index_read] = -1\n",
    "\n",
    "    b1 = np.linalg.solve(C_M_1, -C_M[:, index_bus1])\n",
    "    beta_bus1 = b1[index_island1] - b1[index_island2]\n",
    "    \n",
    "    b2 = np.linalg.solve(C_M_1, -C_M[:, index_bus2])\n",
    "    beta_bus2 = b2[index_island1] - b2[index_island2]\n",
    "    \n",
    "    r = np.linalg.solve(C_M_1, -C_M[:, index_read])\n",
    "    beta_read = r[index_island1] - r[index_island2]\n",
    "    print(beta_bus1, beta_bus2, beta_read)\n",
    "    \n",
    "    # Find C_sigma\n",
    "    # V_island1 - V_island2 = 1, Eq.1\n",
    "    # Q_island1 + Q_island2 = 0, Eq.2\n",
    "    # From Eq1 and Eq2, find V_island1 and V_island2 \n",
    "\n",
    "    A = np.array([[1, -1],\n",
    "                 [C_M[index_island1, index_island1]+C_M[index_island2, index_island1]\n",
    "                  , C_M[index_island1, index_island2]+C_M[index_island2, index_island2]]])\n",
    "    print(A)\n",
    "    b = np.array([[1]\n",
    "                  ,[0]])\n",
    "    V = np.linalg.solve(A, b)  # A*V = b, solve for V[0]=V_island1, V[1]=V_island2\n",
    "\n",
    "    V0 = np.zeros(NUM_CONDUCTOR)\n",
    "    V0[index_island1] = V[0]\n",
    "    V0[index_island2] = V[1]\n",
    "    print(V0)\n",
    "    \n",
    "#     Q = C_M.dot(V0)\n",
    "#     print(Q)\n",
    "#     C_sigma = np.dot(Q, V0)\n",
    "    summ = 0\n",
    "    for i in range(6):\n",
    "        for j in range(6):\n",
    "            if i<j:\n",
    "                summ = summ +  1/2*(-C_M[i,j])*(V0[i]-V0[j])**2\n",
    "                    \n",
    "    C_sigma = summ *2\n",
    "    print(C_sigma)\n",
    "    # find C_bus1, C_bus2, C_read and C_shunt\n",
    "#     beta_bus1 = np.abs(beta_bus1)\n",
    "#     beta_bus2 = np.abs(beta_bus2)\n",
    "#     beta_read= np.abs(beta_read)\n",
    "\n",
    "    A = np.array([[beta_bus1-1, beta_bus1, beta_bus1, beta_bus1]\n",
    "                  ,[beta_bus2, beta_bus2-1, beta_bus2, beta_bus2]\n",
    "                ,[beta_read, beta_read, beta_read-1, beta_read]  \n",
    "                ,[1, 1, 1, 1]])\n",
    "#     A = np.array([[beta_bus1-1, beta_bus1, 0, beta_bus1]\n",
    "#               ,[beta_bus2, beta_bus2-1, 0, beta_bus2]\n",
    "#             ,[0, 0, beta_read-1, beta_read]  \n",
    "#             ,[1, 1, 1, 1]])\n",
    "    b = np.array([[0]\n",
    "                  ,[0]\n",
    "                  ,[0]\n",
    "                 ,[C_sigma]])\n",
    "    c = np.linalg.solve(A, b)\n",
    "    \n",
    "    return c"
   ]
  },
  {
   "cell_type": "code",
   "execution_count": 256,
   "metadata": {},
   "outputs": [],
   "source": [
    "C_M = np.array([[107.94,   -0.072728, -96.56, -0.72528, -9.7239,-0.041219]\n",
    "               ,[-0.072728, 107.72, -95.966, -0.72699, -9.5856, -0.041242]\n",
    "               ,[-96.56,   -95.966, 586.48,  -59.967, -55.133, -95.917]\n",
    "               ,[-0.72528, -0.72699, -59.967, 92.027,  -23.543,   -7.0491]\n",
    "               ,[-9.7239, -9.5856,-55.133, -23.543, 98.962,-0.61872]\n",
    "               ,[-0.041219,-0.041242, -95.917,   -7.0491, -0.61872, 103.03]\n",
    "              ]) \n",
    "\n",
    "# index dictionary of conductors in input Maxwell capacitance matrix\n",
    "conductor_index = { 'gnd' : 2\n",
    "                   , 'island1' : 3\n",
    "                   , 'island2' : 4\n",
    "                   , 'bus1' : 0\n",
    "                   , 'bus2' :1\n",
    "                   , 'read' : 5\n",
    "                  }"
   ]
  },
  {
   "cell_type": "code",
   "execution_count": 257,
   "metadata": {},
   "outputs": [
    {
     "name": "stdout",
     "output_type": "stream",
     "text": [
      "-0.0714648191785757 -0.07034235776989464 0.0572043954280144\n",
      "[[ 1.    -1.   ]\n",
      " [68.484 75.419]]\n",
      "[ 0.          0.          0.          0.52409609 -0.47590391  0.        ]\n",
      "59.34987196734467\n",
      "C_bus1 = -4.241 fF\n",
      "C_bus2 = -4.175 fF\n",
      "C_read = 3.395 fF\n",
      "C_shunt = 64.371 fF\n"
     ]
    }
   ],
   "source": [
    "result_2bus_1read = calculate_qubit_2bus_1read_equiv_cap(C_M, conductor_index)\n",
    "print_result_2bus_1read(result_2bus_1read)"
   ]
  },
  {
   "cell_type": "code",
   "execution_count": 246,
   "metadata": {},
   "outputs": [],
   "source": [
    "C_M_1 = update_mutual_capacitance(C_M, 4,0, 30)\n"
   ]
  },
  {
   "cell_type": "code",
   "execution_count": 247,
   "metadata": {},
   "outputs": [
    {
     "name": "stdout",
     "output_type": "stream",
     "text": [
      "-0.19114905630491585 -0.056529012954670554 0.06063900359136734\n",
      "[[ 1.      -1.     ]\n",
      " [68.46837 95.33732]]\n",
      "[ 0.         0.         0.         0.5820147 -0.4179853  0.       ]\n",
      "[ 12.11743529   3.58352099 -11.8568923   63.39259802 -63.39259802\n",
      "  -3.84406398]\n",
      "63.39259802414923\n",
      "C_bus1 = -12.117 fF\n",
      "C_bus2 = -3.584 fF\n",
      "C_read = 3.844 fF\n",
      "C_shunt = 75.249 fF\n"
     ]
    },
    {
     "data": {
      "text/plain": [
       "94.79451059208995"
      ]
     },
     "execution_count": 247,
     "metadata": {},
     "output_type": "execute_result"
    }
   ],
   "source": [
    "result_2bus_1read = calculate_qubit_2bus_1read_equiv_cap(C_M_1, conductor_index)\n",
    "print_result_2bus_1read(result_2bus_1read)\n",
    "np.sum(np.abs(result_2bus_1read))"
   ]
  },
  {
   "cell_type": "code",
   "execution_count": 248,
   "metadata": {},
   "outputs": [
    {
     "name": "stdout",
     "output_type": "stream",
     "text": [
      "0.19114905630491585 0.056529012954670554 -0.06063900359136734\n",
      "[[ 1.      -1.     ]\n",
      " [95.33732 68.46837]]\n",
      "[ 0.         0.         0.        -0.5820147  0.4179853  0.       ]\n",
      "[-12.11743529  -3.58352099  11.8568923  -63.39259802  63.39259802\n",
      "   3.84406398]\n",
      "63.39259802414921\n",
      "C_bus1 = 12.117 fF\n",
      "C_bus2 = 3.584 fF\n",
      "C_read = -3.844 fF\n",
      "C_shunt = 51.536 fF\n"
     ]
    },
    {
     "data": {
      "text/plain": [
       "71.08072598265419"
      ]
     },
     "execution_count": 248,
     "metadata": {},
     "output_type": "execute_result"
    }
   ],
   "source": [
    "conductor_index = { 'gnd' : 2\n",
    "                   , 'island1' : 4\n",
    "                   , 'island2' : 3\n",
    "                   , 'bus1' : 0\n",
    "                   , 'bus2' :1\n",
    "                   , 'read' : 5\n",
    "                  }\n",
    "result_2bus_1read = calculate_qubit_2bus_1read_equiv_cap(C_M_1, conductor_index)\n",
    "print_result_2bus_1read(result_2bus_1read)\n",
    "np.sum(np.abs(result_2bus_1read))"
   ]
  },
  {
   "cell_type": "code",
   "execution_count": 271,
   "metadata": {},
   "outputs": [
    {
     "data": {
      "text/plain": [
       "0.29663444604979344"
      ]
     },
     "execution_count": 271,
     "metadata": {},
     "output_type": "execute_result"
    }
   ],
   "source": [
    "from scipy.constants import h,e\n",
    "e**2/2/65.3e-15/h/1e9"
   ]
  },
  {
   "cell_type": "code",
   "execution_count": 272,
   "metadata": {},
   "outputs": [],
   "source": [
    "import transmonCPW"
   ]
  },
  {
   "cell_type": "code",
   "execution_count": 273,
   "metadata": {},
   "outputs": [],
   "source": [
    "q = transmonCPW.Transmon.in_GHz(12,0.296)"
   ]
  },
  {
   "cell_type": "code",
   "execution_count": 274,
   "metadata": {},
   "outputs": [
    {
     "data": {
      "text/plain": [
       "5.015187780303034"
      ]
     },
     "execution_count": 274,
     "metadata": {},
     "output_type": "execute_result"
    }
   ],
   "source": [
    "q.f01/1e9"
   ]
  },
  {
   "cell_type": "code",
   "execution_count": 275,
   "metadata": {},
   "outputs": [
    {
     "data": {
      "text/plain": [
       "-346879165.19573385"
      ]
     },
     "execution_count": 275,
     "metadata": {},
     "output_type": "execute_result"
    }
   ],
   "source": [
    "q.anharmonicity"
   ]
  },
  {
   "cell_type": "code",
   "execution_count": 440,
   "metadata": {},
   "outputs": [
    {
     "name": "stdout",
     "output_type": "stream",
     "text": [
      "C_sigma from charging energy = 57.381\n",
      "C_bus1 = -5.700 fF\n",
      "C_read = 5.700 fF\n",
      "C_shunt = 57.380 fF\n"
     ]
    },
    {
     "data": {
      "text/plain": [
       "57.38055363654504"
      ]
     },
     "execution_count": 440,
     "metadata": {},
     "output_type": "execute_result"
    }
   ],
   "source": [
    "C_M_mod7 = np.array([[587.1,-39.97, -117.08,-40.814,-118.09]\n",
    "               ,[-39.97,84.619,-12.5,-29.821,-1.1642]\n",
    "               ,[-117.08,-12.5, 125.53,-1.1792,-0.13214]\n",
    "               ,[-40.814,-29.821,-1.1792,85.265,-12.645]\n",
    "               ,[-118.09,-1.1642,-0.13214,-12.645,125.61]\n",
    "               ])\n",
    "\n",
    "conductor_index = { 'gnd' : 0\n",
    "                   , 'island1' : 1\n",
    "                   , 'island2' : 3\n",
    "                   , 'bus1' : 4\n",
    "                   , 'read' : 2\n",
    "                  }\n",
    "result_1bus_1read = calculate_qubit_1bus_1read_equiv_cap(C_M_mod7, conductor_index)\n",
    "print_result_1bus_1read(result_1bus_1read)\n",
    "np.sum(result_1bus_1read)\n"
   ]
  },
  {
   "cell_type": "code",
   "execution_count": 453,
   "metadata": {},
   "outputs": [
    {
     "data": {
      "text/plain": [
       "0.3012477344798057"
      ]
     },
     "execution_count": 453,
     "metadata": {},
     "output_type": "execute_result"
    }
   ],
   "source": [
    "e**2/2/(64.3)/1e-15/h/1e9"
   ]
  },
  {
   "cell_type": "code",
   "execution_count": 293,
   "metadata": {},
   "outputs": [],
   "source": [
    "import transmonCPW"
   ]
  },
  {
   "cell_type": "code",
   "execution_count": 449,
   "metadata": {},
   "outputs": [],
   "source": [
    "\n",
    "q = transmonCPW.Transmon.in_GHz(13.4105, 0.323)"
   ]
  },
  {
   "cell_type": "code",
   "execution_count": 450,
   "metadata": {},
   "outputs": [
    {
     "data": {
      "text/plain": [
       "5.5427039708357215"
      ]
     },
     "execution_count": 450,
     "metadata": {},
     "output_type": "execute_result"
    }
   ],
   "source": [
    "q.f01/1e9"
   ]
  },
  {
   "cell_type": "code",
   "execution_count": 451,
   "metadata": {},
   "outputs": [
    {
     "data": {
      "text/plain": [
       "-377.5862913052408"
      ]
     },
     "execution_count": 451,
     "metadata": {},
     "output_type": "execute_result"
    }
   ],
   "source": [
    "q.anharmonicity/1e6"
   ]
  },
  {
   "cell_type": "code",
   "execution_count": 433,
   "metadata": {},
   "outputs": [
    {
     "data": {
      "text/plain": [
       "60.74074074074073"
      ]
     },
     "execution_count": 433,
     "metadata": {},
     "output_type": "execute_result"
    }
   ],
   "source": [
    "q.Ej_to_Ec_ratio\n"
   ]
  },
  {
   "cell_type": "code",
   "execution_count": 379,
   "metadata": {},
   "outputs": [
    {
     "data": {
      "text/plain": [
       "0.24325291130291987"
      ]
     },
     "execution_count": 379,
     "metadata": {},
     "output_type": "execute_result"
    }
   ],
   "source": [
    "e**2/2/(69.99+4.82*2)/1e-15/h/1e9"
   ]
  },
  {
   "cell_type": "code",
   "execution_count": 395,
   "metadata": {},
   "outputs": [],
   "source": [
    "q = transmonCPW.Transmon.in_GHz(11.4, 0.2432)"
   ]
  },
  {
   "cell_type": "code",
   "execution_count": 396,
   "metadata": {},
   "outputs": [
    {
     "data": {
      "text/plain": [
       "4.45167011802067"
      ]
     },
     "execution_count": 396,
     "metadata": {},
     "output_type": "execute_result"
    }
   ],
   "source": [
    "q.f01/1e9"
   ]
  },
  {
   "cell_type": "code",
   "execution_count": 397,
   "metadata": {},
   "outputs": [
    {
     "data": {
      "text/plain": [
       "-0.2809613403454797"
      ]
     },
     "execution_count": 397,
     "metadata": {},
     "output_type": "execute_result"
    }
   ],
   "source": [
    "q.anharmonicity/1e9"
   ]
  },
  {
   "cell_type": "code",
   "execution_count": 398,
   "metadata": {},
   "outputs": [
    {
     "data": {
      "text/plain": [
       "4.5600764"
      ]
     },
     "execution_count": 398,
     "metadata": {},
     "output_type": "execute_result"
    }
   ],
   "source": [
    "62.4668*0.073"
   ]
  },
  {
   "cell_type": "code",
   "execution_count": 399,
   "metadata": {},
   "outputs": [
    {
     "data": {
      "text/plain": [
       "0.2705838133154647"
      ]
     },
     "execution_count": 399,
     "metadata": {},
     "output_type": "execute_result"
    }
   ],
   "source": [
    "e**2/2/(62.4668+4.56*2)/1e-15/h/1e9\n",
    "# e**2/2/(62.4668)/1e-15/h/1e9"
   ]
  },
  {
   "cell_type": "code",
   "execution_count": 400,
   "metadata": {},
   "outputs": [
    {
     "data": {
      "text/plain": [
       "71.5868"
      ]
     },
     "execution_count": 400,
     "metadata": {},
     "output_type": "execute_result"
    }
   ],
   "source": [
    "62.4668+4.56*2"
   ]
  },
  {
   "cell_type": "code",
   "execution_count": 458,
   "metadata": {},
   "outputs": [
    {
     "name": "stdout",
     "output_type": "stream",
     "text": [
      "C_sigma from charging energy = 63.250\n",
      "C_bus1 = -4.099 fF\n",
      "C_read = 4.499 fF\n",
      "C_shunt = 62.850 fF\n",
      "C_sigma = 63.250 fF\n",
      "beta_bus1 = -0.065\n",
      "beta_read = 0.071\n"
     ]
    },
    {
     "data": {
      "text/plain": [
       "126.50675067218438"
      ]
     },
     "execution_count": 458,
     "metadata": {},
     "output_type": "execute_result"
    }
   ],
   "source": [
    "C_M_mod4 = np.array([[291.34,-51.173,-17.152,-58.758,-17.068]\n",
    "               ,[-51.173,92.843,-8.6623,-30.712,-0.0641]\n",
    "               ,[-17.152,-8.6623,25.913,-0.0779,-0.00136]\n",
    "               ,[-58.758,-30.712,-0.07791,99.027,-8.6762]\n",
    "               ,[-17.068,-0.0641,-0.001367,-8.6762, 25.913]\n",
    "               ])\n",
    "\n",
    "conductor_index = { 'gnd' : 0\n",
    "                   , 'island1' : 1\n",
    "                   , 'island2' :3 \n",
    "                   , 'bus1' : 4\n",
    "                   , 'read' : 2\n",
    "                  }\n",
    "result_1bus_1read = calculate_qubit_1bus_1read_equiv_cap(C_M_mod4, conductor_index)\n",
    "print_result_1bus_1read(result_1bus_1read)\n",
    "np.sum(result_1bus_1read)\n"
   ]
  },
  {
   "cell_type": "code",
   "execution_count": 474,
   "metadata": {},
   "outputs": [
    {
     "data": {
      "text/plain": [
       "0.20639562415611626"
      ]
     },
     "execution_count": 474,
     "metadata": {},
     "output_type": "execute_result"
    }
   ],
   "source": [
    "e**2/2/(78.25+7.8*2)/1e-15/h/1e9"
   ]
  },
  {
   "cell_type": "code",
   "execution_count": 476,
   "metadata": {},
   "outputs": [
    {
     "data": {
      "text/plain": [
       "4.999467350948322"
      ]
     },
     "execution_count": 476,
     "metadata": {},
     "output_type": "execute_result"
    }
   ],
   "source": [
    "q = transmonCPW.Transmon.in_GHz(16.5, 0.206)\n",
    "q.f01/1e9"
   ]
  },
  {
   "cell_type": "code",
   "execution_count": 477,
   "metadata": {},
   "outputs": [
    {
     "data": {
      "text/plain": [
       "-228.54547331634254"
      ]
     },
     "execution_count": 477,
     "metadata": {},
     "output_type": "execute_result"
    }
   ],
   "source": [
    "q.anharmonicity/1e6"
   ]
  },
  {
   "cell_type": "code",
   "execution_count": null,
   "metadata": {},
   "outputs": [],
   "source": []
  },
  {
   "cell_type": "code",
   "execution_count": 439,
   "metadata": {},
   "outputs": [
    {
     "name": "stdout",
     "output_type": "stream",
     "text": [
      "C_sigma from charging energy = 57.832\n",
      "C_bus1 = -7.920 fF\n",
      "C_read = 7.925 fF\n",
      "C_shunt = 57.827 fF\n"
     ]
    },
    {
     "data": {
      "text/plain": [
       "57.8324681664697"
      ]
     },
     "execution_count": 439,
     "metadata": {},
     "output_type": "execute_result"
    }
   ],
   "source": [
    "C_M_mod7_1 = np.array([[568.7, -43.028,-118.33,-39.898,-117.51]\n",
    "               ,[-43.028,87.197,-16.9,-28.218,-1.1171]\n",
    "               ,[-118.33,-16.9, 133.82, -1.126,-0.110033]\n",
    "               ,[-39.898, -28.218,-1.126, 87.699, -17.034]\n",
    "               ,[-117.51,-1.1171, -0.11033, -17.034, 133.73]\n",
    "               ])\n",
    "\n",
    "conductor_index = { 'gnd' : 0\n",
    "                   , 'island1' : 1\n",
    "                   , 'island2' :3 \n",
    "                   , 'bus1' : 4\n",
    "                   , 'read' : 2\n",
    "                  }\n",
    "result_1bus_1read = calculate_qubit_1bus_1read_equiv_cap(C_M_mod7_1, conductor_index)\n",
    "print_result_1bus_1read(result_1bus_1read)\n",
    "np.sum(result_1bus_1read)\n"
>>>>>>> 49300d8a4f707378b33d642052e400f13aefd376
   ]
  },
  {
   "cell_type": "code",
<<<<<<< HEAD
   "execution_count": 91,
=======
   "execution_count": 438,
>>>>>>> 49300d8a4f707378b33d642052e400f13aefd376
   "metadata": {},
   "outputs": [
    {
     "data": {
      "text/plain": [
<<<<<<< HEAD
       "70.62384119993452"
      ]
     },
     "execution_count": 91,
=======
       "73.672"
      ]
     },
     "execution_count": 438,
>>>>>>> 49300d8a4f707378b33d642052e400f13aefd376
     "metadata": {},
     "output_type": "execute_result"
    }
   ],
   "source": [
<<<<<<< HEAD
    "q.Ej_to_Ec_ratio"
=======
    "57.827+7.92+7.925"
>>>>>>> 49300d8a4f707378b33d642052e400f13aefd376
   ]
  }
 ],
 "metadata": {
  "kernelspec": {
   "display_name": "Python 3",
   "language": "python",
   "name": "python3"
  },
  "language_info": {
   "codemirror_mode": {
    "name": "ipython",
    "version": 3
   },
   "file_extension": ".py",
   "mimetype": "text/x-python",
   "name": "python",
   "nbconvert_exporter": "python",
   "pygments_lexer": "ipython3",
   "version": "3.6.7"
  },
  "toc": {
   "base_numbering": 1,
   "nav_menu": {},
   "number_sections": true,
   "sideBar": true,
   "skip_h1_title": false,
   "title_cell": "Table of Contents",
   "title_sidebar": "Contents",
   "toc_cell": false,
   "toc_position": {
    "height": "calc(100% - 180px)",
    "left": "10px",
    "top": "150px",
    "width": "246px"
   },
   "toc_section_display": true,
   "toc_window_display": true
  }
 },
 "nbformat": 4,
 "nbformat_minor": 4
}
