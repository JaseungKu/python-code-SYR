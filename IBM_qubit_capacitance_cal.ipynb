{
 "cells": [
  {
   "cell_type": "code",
   "execution_count": 1,
   "metadata": {},
   "outputs": [],
   "source": [
    "import numpy as np\n",
    "from scipy import linalg\n",
    "import matplotlib.pyplot as plt"
   ]
  },
  {
   "cell_type": "markdown",
   "metadata": {},
   "source": [
    "# 2-bus, 1-readout"
   ]
  },
  {
   "cell_type": "code",
   "execution_count": 59,
   "metadata": {
    "code_folding": [
     0,
     72
    ]
   },
   "outputs": [],
   "source": [
    "def calculate_qubit_2bus_1read_equiv_cap(C_M, index):\n",
    "    \"\"\"\n",
    "    Calculate effective shunt and coupling capacitance.\n",
    "    Arg:\n",
    "        C_M : Maxewll capacitance matrix\n",
    "        index : index of each conductor in C_M, starting from 0\n",
    "    Return:\n",
    "        Tuple of effective bus, readout and shunt capacitance\n",
    "    \"\"\"\n",
    "    index_bus1 = index['bus1']\n",
    "    index_bus2 = index['bus2']\n",
    "    index_gnd = index['gnd']\n",
    "    index_island1 = index['island1']\n",
    "    index_island2 = index['island2']\n",
    "    index_read = index['read']\n",
    "    \n",
    "    NUM_CONDUCTOR = C_M.shape[0]\n",
    "    \n",
    "    # find beta_bus1, beta_bus2 and beta_readout\n",
    "    #, where beta_bus1 = C_bus1/C_sigma \n",
    "    # and C_sigma = C_bus1 + C_bus2 + C_read + C_shunt\n",
    "\n",
    "    C_M_1 = np.zeros((NUM_CONDUCTOR, NUM_CONDUCTOR))\n",
    "    C_M_1[:, index_island1] = C_M[:, index_island1]\n",
    "    C_M_1[:, index_island2] = C_M[:, index_island2]\n",
    "    C_M_1[index_bus1, index_bus1] = -1\n",
    "    C_M_1[index_bus2, index_bus2] = -1\n",
    "    C_M_1[index_gnd, index_gnd] = -1\n",
    "    C_M_1[index_read, index_read] = -1\n",
    "\n",
    "    b1 = np.linalg.solve(C_M_1, -C_M[:, index_bus1])\n",
    "    beta_bus1 = b1[index_island1] - b1[index_island2]\n",
    "\n",
    "    b2 = np.linalg.solve(C_M_1, -C_M[:, index_bus2])\n",
    "    beta_bus2 = b2[index_island1] - b2[index_island2]\n",
    "    \n",
    "    r = np.linalg.solve(C_M_1, -C_M[:, index_read])\n",
    "    beta_read = r[index_island1] - r[index_island2]\n",
    "    \n",
    "    # Find C_sigma\n",
    "    # V_island1 - V_island2 = 1, Eq.1\n",
    "    # Q_island1 + Q_island2 = 0, Eq.2\n",
    "    # From Eq1 and Eq2, find V_island1 and V_island2 \n",
    "\n",
    "    A = np.array([[1, -1],\n",
    "                 [C_M[index_island1, index_island1]+C_M[index_island2, index_island1]\n",
    "                  , C_M[index_island1, index_island2]+C_M[index_island2, index_island2]]])\n",
    "\n",
    "    b = np.array([[1]\n",
    "                  ,[0]])\n",
    "    V = np.linalg.solve(A, b)  # A*V = b, solve for V[0]=V_island1, V[1]=V_island2\n",
    "\n",
    "    V0 = np.zeros(NUM_CONDUCTOR)\n",
    "    V0[index_island1] = V[0]\n",
    "    V0[index_island2] = V[1]\n",
    "\n",
    "    Q = C_M.dot(V0)\n",
    "    C_sigma = np.dot(Q, V0)\n",
    "      \n",
    "    # find C_bus1, C_bus2, C_read and C_shunt\n",
    "    A = np.array([[beta_bus1-1, beta_bus1, beta_bus1, beta_bus1]\n",
    "                  ,[beta_bus2, beta_bus2-1, beta_bus2, beta_bus2]\n",
    "                ,[beta_read, beta_read, beta_read-1, beta_read]  \n",
    "                ,[1, 1, 1, 1]])\n",
    "    b = np.array([[0]\n",
    "                  ,[0]\n",
    "                  ,[0]\n",
    "                 ,[C_sigma]])\n",
    "    c = np.linalg.solve(A, b)\n",
    "    \n",
    "    return c\n",
    "\n",
    "def print_result_2bus_1read(c):\n",
    "    c = np.ndarray.flatten(c)\n",
    "    print(f'C_bus1 = {c[0]:.3f} fF\\n' \n",
    "         + f'C_bus2 = {c[1]:.3f} fF\\n' \n",
    "         + f'C_read = {c[2]:.3f} fF\\n'\n",
    "         + f'C_shunt = {c[3]:.3f} fF')\n",
    "    "
   ]
  },
  {
   "cell_type": "code",
   "execution_count": 60,
   "metadata": {},
   "outputs": [],
   "source": [
    "C_M = np.array([[107.94,   -0.072728, -96.56, -0.72528, -9.7239,-0.041219]\n",
    "               ,[-0.072728, 107.72, -95.966, -0.72699, -9.5856, -0.041242]\n",
    "               ,[-96.56,   -95.966, 586.48,  -59.967, -55.133, -95.917]\n",
    "               ,[-0.72528, -0.72699, -59.967, 92.027,  -23.543,   -7.0491]\n",
    "               ,[-9.7239, -9.5856,-55.133, -23.543, 98.962,-0.61872]\n",
    "               ,[-0.041219,-0.041242, -95.917,   -7.0491, -0.61872, 103.03]\n",
    "              ]) \n",
    "\n",
    "# index dictionary of conductors in input Maxwell capacitance matrix\n",
    "conductor_index = { 'gnd' : 2\n",
    "                   , 'island1' : 3\n",
    "                   , 'island2' : 4\n",
    "                   , 'bus1' : 0\n",
    "                   , 'bus2' :1\n",
    "                   , 'read' : 5\n",
    "                  }"
   ]
  },
  {
   "cell_type": "code",
   "execution_count": 61,
   "metadata": {},
   "outputs": [
    {
     "name": "stdout",
     "output_type": "stream",
     "text": [
      "C_bus1 = -4.248 fF\n",
      "C_bus2 = -4.181 fF\n",
      "C_read = 3.400 fF\n",
      "C_shunt = 64.464 fF\n"
     ]
    }
   ],
   "source": [
    "result_2bus_1read = calculate_qubit_2bus_1read_equiv_cap(C_M, conductor_index)\n",
    "print_result_2bus_1read(result_2bus_1read)"
   ]
  },
  {
   "cell_type": "markdown",
   "metadata": {},
   "source": [
    "# 1-bus, 1-readout"
   ]
  },
  {
   "cell_type": "code",
   "execution_count": 4,
   "metadata": {
    "code_folding": [
     0,
     22
    ]
   },
   "outputs": [],
   "source": [
    "def update_mutual_capacitance(Maxwell_cap_matrix,conductor1_index, conductor2_index, new_cap):\n",
    "    \"\"\"\n",
    "    Args:\n",
    "        Maxwell_cap_matrix: Maxwell capacitance matrix from Q3D\n",
    "        conductor1_index : index of conductor 1\n",
    "        conductor2_index : index of conductor 2\n",
    "        new_cap : new capacitance for replacement\n",
    "    \"\"\"\n",
    "    \n",
    "    if conductor1_index == conductor2_index:\n",
    "        raise('Error. First and second conductor index must be different!')\n",
    "    \n",
    "    M = np.copy(Maxwell_cap_matrix)\n",
    "    \n",
    "    M[conductor1_index, conductor2_index] = -new_cap\n",
    "    M[conductor2_index, conductor1_index] = -new_cap\n",
    "    \n",
    "    for i in range(M.shape[0]):\n",
    "        M[i,i] = -(np.sum(M[i,:]) - M[i,i])\n",
    "        \n",
    "    return M\n",
    "\n",
    "def calculate_qubit_1bus_1read_equiv_cap(C_M, index):\n",
    "    \"\"\"\n",
    "    Calculate effective shunt and coupling capacitance.\n",
    "    Arg:\n",
    "        C_M : Maxewll capacitance matrix\n",
    "        index : index of each conductor in C_M, starting from 0\n",
    "    Return:\n",
    "        Tuple of effective bus, readout and shunt capacitance\n",
    "    \"\"\"\n",
    "    index_bus1 = index['bus1']\n",
    "    index_gnd = index['gnd']\n",
    "    index_island1 = index['island1']\n",
    "    index_island2 = index['island2']\n",
    "    index_read = index['read']\n",
    "    \n",
    "    NUM_CONDUCTOR = C_M.shape[0]\n",
    "    \n",
    "    C_M_1 = np.zeros((NUM_CONDUCTOR, NUM_CONDUCTOR))\n",
    "    C_M_1[:, index_island1] = C_M[:, index_island1]\n",
    "    C_M_1[:, index_island2] = C_M[:, index_island2]\n",
    "    C_M_1[index_bus1, index_bus1] = -1\n",
    "    C_M_1[index_gnd, index_gnd] = -1\n",
    "    C_M_1[index_read, index_read] = -1\n",
    "\n",
    "    b1 = np.linalg.solve(C_M_1, -C_M[:, index_bus1])\n",
    "    beta_bus1 = b1[index_island1] - b1[index_island2]\n",
    "\n",
    "    r = np.linalg.solve(C_M_1, -C_M[:, index_read])\n",
    "    beta_read = r[index_island1] - r[index_island2]\n",
    "    \n",
    "    # Find C_sigma\n",
    "    # V_island1 - V_island2 = 1, Eq.1\n",
    "    # Q_island1 + Q_island2 = 0, Eq.2\n",
    "    # From Eq1 and Eq2, find V_island1 and V_island2 \n",
    "\n",
    "    A = np.array([[1, -1],\n",
    "                 [C_M[index_island1, index_island1]+C_M[index_island2, index_island1]\n",
    "                  , C_M[index_island1, index_island2]+C_M[index_island2, index_island2]]])\n",
    "\n",
    "    b = np.array([[1]\n",
    "                  ,[0]])\n",
    "    V = np.linalg.solve(A, b)  # A*V = b, solve for V[0]=V_island1, V[1]=V_island2\n",
    "\n",
    "    V0 = np.zeros(NUM_CONDUCTOR)\n",
    "    V0[index_island1] = V[0]\n",
    "    V0[index_island2] = V[1]\n",
    "    V0[index_bus1] = 0\n",
    "    V0[index_read] = 0\n",
    "    V0[index_gnd] = 0\n",
    "\n",
    "    Q = C_M.dot(V0)\n",
    "    C_sigma = np.dot(Q, V0)\n",
    "    \n",
    "    # find C_bus1, C_read and C_shunt\n",
    "    A = np.array([[beta_bus1-1, beta_bus1, beta_bus1]\n",
    "                ,[beta_read,  beta_read-1, beta_read]  \n",
    "                ,[1, 1, 1]])\n",
    "    b = np.array([[0]\n",
    "                  ,[0]\n",
    "                 ,[C_sigma]])\n",
    "    c = np.linalg.solve(A, b)\n",
    "    \n",
    "    return c\n",
    "\n",
    "def print_result_1bus_1read(c):\n",
    "    c = np.ndarray.flatten(c)\n",
    "    print(f'C_bus1 = {c[0]:.3f} fF\\n' \n",
    "         + f'C_read = {c[1]:.3f} fF\\n'\n",
    "         + f'C_shunt = {c[2]:.3f} fF')\n",
    "    "
   ]
  },
  {
   "cell_type": "code",
   "execution_count": 5,
   "metadata": {},
   "outputs": [],
   "source": [
    "C_M = np.array([[107.94, -96.56, -0.72528, -9.7239,-0.041219]\n",
    "               ,[-96.56, 586.48,  -59.967, -55.133, -95.917]\n",
    "               ,[-0.72528, -59.967, 92.027,  -23.543,   -7.0491]\n",
    "               ,[-9.7239, -55.133, -23.543, 98.962,-0.61872]\n",
    "               ,[-0.041219, -95.917,   -7.0491, -0.61872, 103.03]\n",
    "              ])\n",
    "\n",
    "# index dictionary of conductors in input Maxwell capacitance matrix\n",
    "conductor_index = { 'gnd' : 1\n",
    "                   , 'island1' : 2\n",
    "                   , 'island2' : 3\n",
    "                   , 'bus1' : 0\n",
    "                   , 'read' : 4\n",
    "                  }"
   ]
  },
  {
   "cell_type": "code",
   "execution_count": 6,
   "metadata": {},
   "outputs": [
    {
     "name": "stdout",
     "output_type": "stream",
     "text": [
      "C_bus1 = -4.248 fF\n",
      "C_read = 3.400 fF\n",
      "C_shunt = 60.283 fF\n"
     ]
    }
   ],
   "source": [
    "cap_result = calculate_qubit_1bus_1read_equiv_cap(C_M, conductor_index)\n",
    "print_result(cap_result)"
   ]
  },
  {
   "cell_type": "code",
   "execution_count": 7,
   "metadata": {
    "scrolled": true
   },
   "outputs": [
    {
     "name": "stdout",
     "output_type": "stream",
     "text": [
      "C_bus1 = -19.081 fF\n",
      "C_read = 4.055 fF\n",
      "C_shunt = 79.860 fF\n"
     ]
    }
   ],
   "source": [
    "C_M_1 = update_mutual_capacitance(C_M, 0, 3, 50)\n",
    "cap_result1 = calculate_qubit_1bus_1read_equiv_cap(C_M_1, conductor_index)\n",
    "print_result(cap_result1)"
   ]
  },
  {
   "cell_type": "code",
   "execution_count": 8,
   "metadata": {},
   "outputs": [
    {
     "data": {
      "text/plain": [
       "122.6582117411505"
      ]
     },
     "execution_count": 8,
     "metadata": {},
     "output_type": "execute_result"
    }
   ],
   "source": [
    "7e-15/2*np.sqrt(6.26e9*5.05e9/55e-15/468e-15)/1e6"
   ]
  },
  {
   "cell_type": "markdown",
   "metadata": {},
   "source": [
    "# ZZ gate, qubit "
   ]
  },
  {
   "cell_type": "code",
   "execution_count": 9,
   "metadata": {
    "code_folding": []
   },
   "outputs": [],
   "source": [
    "C_M = np.array([[143.07500,-87.36528,-2.23553,-52.84648,-0.23655]\n",
    "               ,[-87.36528,294.22820,-40.74111,-46.17334,-77.96845]\n",
    "               ,[-2.23553,-40.74111,67.58779,-15.71175,-7.76007]\n",
    "               ,[-52.84648,-46.17334,-15.71175,118.06270,-0.89528]\n",
    "               ,[-0.23655,-77.96845,-7.76007,-0.89528,86.86034]\n",
    "              ])\n",
    "C_M_N4 = np.array([[105.30560,-79.80541,-1.58229,-23.78888,-0.09290]\n",
    "                   ,[-79.80541,326.48530,-62.62674,-57.28538,-70.37290]\n",
    "                   ,[-1.58229,-62.62674,100.41100,-26.05792,-8.15522]\n",
    "                   ,[-23.78888,-57.28538,-26.05792,110.20110,-0.72336]\n",
    "                   ,[-0.09290,-70.37290,-8.15522,-0.72336,79.40180]\n",
    "                  ])\n",
    "\n",
    "C_M_N5 = np.array([[119.07130,-84.60930,-2.05832,-32.15181,-0.11997]\n",
    "                  ,[-84.60930,326.59040,-62.31408,-54.56391,-70.06300]\n",
    "                  ,[-2.05832,-62.31408,100.36980,-25.74456,-8.16695]\n",
    "                  ,[-32.15181,-54.56391,-25.74456,115.51110,-0.70659]\n",
    "                  ,[-0.11997,-70.06300,-8.16695,-0.70659,79.16525]\n",
    "                  ])\n",
    "\n",
    "# index dictionary of conductors in input Maxwell capacitance matrix\n",
    "conductor_index = { 'gnd' : 1\n",
    "                   , 'island1' : 2\n",
    "                   , 'island2' : 3\n",
    "                   , 'bus1' : 0\n",
    "                   , 'read' : 4\n",
    "                  }"
   ]
  },
  {
   "cell_type": "code",
   "execution_count": 10,
   "metadata": {},
   "outputs": [
    {
     "name": "stdout",
     "output_type": "stream",
     "text": [
      "C_bus1 = -16.292 fF\n",
      "C_read = 4.849 fF\n",
      "C_shunt = 61.582 fF\n"
     ]
    }
   ],
   "source": [
    "cap_result = calculate_qubit_1bus_1read_equiv_cap(C_M, conductor_index)\n",
    "print_result(cap_result)"
   ]
  },
  {
   "cell_type": "code",
   "execution_count": 11,
   "metadata": {},
   "outputs": [
    {
     "name": "stdout",
     "output_type": "stream",
     "text": [
      "C_bus1 = -10.320 fF\n",
      "C_read = 3.990 fF\n",
      "C_shunt = 71.860 fF\n"
     ]
    }
   ],
   "source": [
    "cap_result_N4 = calculate_qubit_1bus_1read_equiv_cap(C_M_N4, conductor_index)\n",
    "print_result(cap_result_N4)"
   ]
  },
  {
   "cell_type": "code",
   "execution_count": 12,
   "metadata": {},
   "outputs": [
    {
     "name": "stdout",
     "output_type": "stream",
     "text": [
      "C_bus1 = -13.471 fF\n",
      "C_read = 4.139 fF\n",
      "C_shunt = 75.826 fF\n"
     ]
    }
   ],
   "source": [
    "cap_result_N5 = calculate_qubit_1bus_1read_equiv_cap(C_M_N5, conductor_index)\n",
    "print_result(cap_result_N5)"
   ]
  },
  {
   "cell_type": "code",
   "execution_count": 13,
   "metadata": {},
   "outputs": [],
   "source": [
    "import transmonCPW\n",
    "from scipy.constants import h,e,k"
   ]
  },
  {
   "cell_type": "code",
   "execution_count": 14,
   "metadata": {},
   "outputs": [],
   "source": [
    "Ec = e**2/2/75.82e-15/h/1e9\n",
    "q = transmonCPW.Transmon.in_GHz(20, Ec)"
   ]
  },
  {
   "cell_type": "code",
   "execution_count": 15,
   "metadata": {},
   "outputs": [
    {
     "data": {
      "text/plain": [
       "0.2554765144691573"
      ]
     },
     "execution_count": 15,
     "metadata": {},
     "output_type": "execute_result"
    }
   ],
   "source": [
    "Ec"
   ]
  },
  {
   "cell_type": "code",
   "execution_count": 16,
   "metadata": {},
   "outputs": [
    {
     "data": {
      "text/plain": [
       "-283.83999835346816"
      ]
     },
     "execution_count": 16,
     "metadata": {},
     "output_type": "execute_result"
    }
   ],
   "source": [
    "q.anharmonicity/1e6"
   ]
  },
  {
   "cell_type": "code",
   "execution_count": 17,
   "metadata": {},
   "outputs": [
    {
     "data": {
      "text/plain": [
       "6126.509351275784"
      ]
     },
     "execution_count": 17,
     "metadata": {},
     "output_type": "execute_result"
    }
   ],
   "source": [
    "q.f01/1e6"
   ]
  },
  {
   "cell_type": "code",
   "execution_count": 18,
   "metadata": {},
   "outputs": [
    {
     "data": {
      "text/plain": [
       "78.28508245290986"
      ]
     },
     "execution_count": 18,
     "metadata": {},
     "output_type": "execute_result"
    }
   ],
   "source": [
    "q.Ej_to_Ec_ratio"
   ]
  },
  {
   "cell_type": "code",
   "execution_count": 19,
   "metadata": {},
   "outputs": [
    {
     "data": {
      "text/plain": [
       "2361.203378677368"
      ]
     },
     "execution_count": 19,
     "metadata": {},
     "output_type": "execute_result"
    }
   ],
   "source": [
    "q.charge_dispersion"
   ]
  },
  {
   "cell_type": "code",
   "execution_count": 20,
   "metadata": {},
   "outputs": [],
   "source": [
    "a= np.array([0,1])"
   ]
  },
  {
   "cell_type": "code",
   "execution_count": 22,
   "metadata": {},
   "outputs": [
    {
     "data": {
      "text/plain": [
       "['__bool__',\n",
       " '__class__',\n",
       " '__delattr__',\n",
       " '__dir__',\n",
       " '__doc__',\n",
       " '__eq__',\n",
       " '__format__',\n",
       " '__ge__',\n",
       " '__getattribute__',\n",
       " '__getitem__',\n",
       " '__gt__',\n",
       " '__hash__',\n",
       " '__init__',\n",
       " '__init_subclass__',\n",
       " '__le__',\n",
       " '__len__',\n",
       " '__lt__',\n",
       " '__mul__',\n",
       " '__ne__',\n",
       " '__new__',\n",
       " '__reduce__',\n",
       " '__reduce_ex__',\n",
       " '__repr__',\n",
       " '__rmul__',\n",
       " '__setattr__',\n",
       " '__setstate__',\n",
       " '__sizeof__',\n",
       " '__str__',\n",
       " '__subclasshook__',\n",
       " 'alignment',\n",
       " 'base',\n",
       " 'byteorder',\n",
       " 'char',\n",
       " 'descr',\n",
       " 'fields',\n",
       " 'flags',\n",
       " 'hasobject',\n",
       " 'isalignedstruct',\n",
       " 'isbuiltin',\n",
       " 'isnative',\n",
       " 'itemsize',\n",
       " 'kind',\n",
       " 'metadata',\n",
       " 'name',\n",
       " 'names',\n",
       " 'ndim',\n",
       " 'newbyteorder',\n",
       " 'num',\n",
       " 'shape',\n",
       " 'str',\n",
       " 'subdtype',\n",
       " 'type']"
      ]
     },
     "execution_count": 22,
     "metadata": {},
     "output_type": "execute_result"
    }
   ],
   "source": [
    "a."
   ]
  },
  {
   "cell_type": "code",
   "execution_count": null,
   "metadata": {},
   "outputs": [],
   "source": []
  }
 ],
 "metadata": {
  "kernelspec": {
   "display_name": "Python 3",
   "language": "python",
   "name": "python3"
  },
  "language_info": {
   "codemirror_mode": {
    "name": "ipython",
    "version": 3
   },
   "file_extension": ".py",
   "mimetype": "text/x-python",
   "name": "python",
   "nbconvert_exporter": "python",
   "pygments_lexer": "ipython3",
   "version": "3.8.2"
  },
  "toc": {
   "base_numbering": 1,
   "nav_menu": {},
   "number_sections": true,
   "sideBar": true,
   "skip_h1_title": false,
   "title_cell": "Table of Contents",
   "title_sidebar": "Contents",
   "toc_cell": false,
   "toc_position": {
    "height": "calc(100% - 180px)",
    "left": "10px",
    "top": "150px",
    "width": "246px"
   },
   "toc_section_display": true,
   "toc_window_display": true
  }
 },
 "nbformat": 4,
 "nbformat_minor": 4
}
