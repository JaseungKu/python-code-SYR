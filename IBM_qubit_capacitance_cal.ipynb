{
 "cells": [
  {
   "cell_type": "markdown",
   "metadata": {},
   "source": [
    "# Module import and function defination"
   ]
  },
  {
   "cell_type": "code",
   "execution_count": 197,
   "metadata": {
    "code_folding": [
     7,
     31,
     105,
     168,
     177,
     179,
     188,
     204
    ]
   },
   "outputs": [],
   "source": [
    "import numpy as np\n",
    "from scipy import linalg\n",
    "import matplotlib.pyplot as plt\n",
    "import pandas as pd\n",
    "from scipy.constants import h,e\n",
    "import transmonCPW\n",
    "\n",
    "def update_mutual_capacitance(Maxwell_cap_matrix,conductor1_index, conductor2_index, new_cap):\n",
    "    \"\"\"\n",
    "    Args:\n",
    "        Maxwell_cap_matrix: Maxwell capacitance matrix from Q3D\n",
    "        conductor1_index : index of conductor 1\n",
    "        conductor2_index : index of conductor 2\n",
    "        new_cap : new capacitance for replacement\n",
    "    Return:\n",
    "        Updated Maxwell capacitance matrix\n",
    "    \"\"\"\n",
    "    \n",
    "    if conductor1_index == conductor2_index:\n",
    "        raise('Error. First and second conductor index must be different!')\n",
    "    \n",
    "    M = np.copy(Maxwell_cap_matrix)\n",
    "    \n",
    "    M[conductor1_index, conductor1_index] = M[conductor1_index, conductor1_index] + M[conductor1_index, conductor2_index] + new_cap\n",
    "    M[conductor2_index, conductor2_index] = M[conductor2_index, conductor2_index] + M[conductor2_index, conductor1_index] + new_cap\n",
    "    \n",
    "    M[conductor1_index, conductor2_index] = -new_cap\n",
    "    M[conductor2_index, conductor1_index] = -new_cap\n",
    "        \n",
    "    return M\n",
    "\n",
    "def calculate_qubit_2bus_1read_equiv_cap(C_M, index):\n",
    "    \"\"\"\n",
    "    Calculate effective shunt and coupling capacitances.\n",
    "    Arg:\n",
    "        C_M : ndarray, Maxewll capacitance matrix\n",
    "        index : dict,  index of each conductor in C_M, starting from 0\n",
    "    Return:\n",
    "        1D numpy array of C_bus1, C_bus2, C_shunt, C_sigam, beta_bus1, beta_bus2 and beta_read.\n",
    "    \"\"\"\n",
    "    index_bus1 = index['bus1']\n",
    "    index_bus2 = index['bus2']\n",
    "    index_gnd = index['gnd']\n",
    "    index_island1 = index['island1']\n",
    "    index_island2 = index['island2']\n",
    "    index_read = index['read']\n",
    "    \n",
    "    NUM_CONDUCTOR = C_M.shape[0]\n",
    "    \n",
    "    # find beta_bus1, beta_bus2 and beta_readout\n",
    "    #, where beta_bus1 = C_bus1/C_sigma \n",
    "    # and C_sigma = C_bus1 + C_bus2 + C_read + C_shunt\n",
    "\n",
    "    C_M_1 = np.zeros((NUM_CONDUCTOR, NUM_CONDUCTOR))\n",
    "    C_M_1[:, index_island1] = C_M[:, index_island1]\n",
    "    C_M_1[:, index_island2] = C_M[:, index_island2]\n",
    "    C_M_1[index_bus1, index_bus1] = -1\n",
    "    C_M_1[index_bus2, index_bus2] = -1\n",
    "    C_M_1[index_gnd, index_gnd] = -1\n",
    "    C_M_1[index_read, index_read] = -1\n",
    "\n",
    "    b1 = np.linalg.solve(C_M_1, -C_M[:, index_bus1])\n",
    "    beta_bus1 = b1[index_island1] - b1[index_island2]\n",
    "\n",
    "    b2 = np.linalg.solve(C_M_1, -C_M[:, index_bus2])\n",
    "    beta_bus2 = b2[index_island1] - b2[index_island2]\n",
    "    \n",
    "    r = np.linalg.solve(C_M_1, -C_M[:, index_read])\n",
    "    beta_read = r[index_island1] - r[index_island2]\n",
    "    \n",
    "    # Find C_sigma\n",
    "    # V_island1 - V_island2 = 1, Eq.1\n",
    "    # Q_island1 + Q_island2 = 0, Eq.2\n",
    "    # From Eq1 and Eq2, find V_island1 and V_island2 \n",
    "\n",
    "    A = np.array([[1, -1],\n",
    "                 [C_M[index_island1, index_island1]+C_M[index_island2, index_island1]\n",
    "                  , C_M[index_island1, index_island2]+C_M[index_island2, index_island2]]])\n",
    "\n",
    "    b = np.array([[1]\n",
    "                  ,[0]])\n",
    "    V = np.linalg.solve(A, b)  # A*V = b, solve for V[0]=V_island1, V[1]=V_island2\n",
    "\n",
    "    V0 = np.zeros(NUM_CONDUCTOR)\n",
    "    V0[index_island1] = V[0]\n",
    "    V0[index_island2] = V[1]\n",
    "\n",
    "    Q = C_M.dot(V0)\n",
    "    C_sigma = np.dot(Q, V0)\n",
    "      \n",
    "    # find C_bus1, C_bus2, C_read and C_shunt\n",
    "    A = np.array([[beta_bus1-1, beta_bus1, beta_bus1, beta_bus1]\n",
    "                  ,[beta_bus2, beta_bus2-1, beta_bus2, beta_bus2]\n",
    "                ,[beta_read, beta_read, beta_read-1, beta_read]  \n",
    "                ,[1, 1, 1, 1]])\n",
    "    b = np.array([[0]\n",
    "                  ,[0]\n",
    "                  ,[0]\n",
    "                 ,[C_sigma]])\n",
    "    c = np.linalg.solve(A, b)\n",
    "    \n",
    "    out = np.append(c, np.array([C_sigma, beta_bus1, beta_bus2, beta_read]))\n",
    "    \n",
    "    return out\n",
    "\n",
    "def calculate_qubit_1bus_1read_equiv_cap(C_M, index):\n",
    "    \"\"\"\n",
    "    Calculate effective shunt and coupling capacitances.\n",
    "    Arg:\n",
    "        C_M : ndarray, Maxewll capacitance matrix\n",
    "        index : dict, index of each conductor in C_M, starting from 0\n",
    "    Return:\n",
    "        1D numpy array of C_bus1, C_shunt, C_sigam, beta_bus1, and beta_read.\n",
    "    \"\"\"\n",
    "    index_bus1 = index['bus1']\n",
    "    index_gnd = index['gnd']\n",
    "    index_island1 = index['island1']\n",
    "    index_island2 = index['island2']\n",
    "    index_read = index['read']\n",
    "    \n",
    "    NUM_CONDUCTOR = C_M.shape[0]\n",
    "    \n",
    "    C_M_1 = np.zeros((NUM_CONDUCTOR, NUM_CONDUCTOR))\n",
    "    C_M_1[:, index_island1] = C_M[:, index_island1]\n",
    "    C_M_1[:, index_island2] = C_M[:, index_island2]\n",
    "    C_M_1[index_bus1, index_bus1] = -1\n",
    "    C_M_1[index_gnd, index_gnd] = -1\n",
    "    C_M_1[index_read, index_read] = -1\n",
    "\n",
    "    b1 = np.linalg.solve(C_M_1, -C_M[:, index_bus1])\n",
    "    beta_bus1 = b1[index_island1] - b1[index_island2]\n",
    "\n",
    "    r = np.linalg.solve(C_M_1, -C_M[:, index_read])\n",
    "    beta_read = r[index_island1] - r[index_island2]\n",
    "    \n",
    "    # Find C_sigma\n",
    "    # V_island1 - V_island2 = 1, Eq.1\n",
    "    # Q_island1 + Q_island2 = 0, Eq.2\n",
    "    # From Eq1 and Eq2, find V_island1 and V_island2 \n",
    "\n",
    "    A = np.array([[1, -1],\n",
    "                 [C_M[index_island1, index_island1]+C_M[index_island2, index_island1]\n",
    "                  , C_M[index_island1, index_island2]+C_M[index_island2, index_island2]]])\n",
    "\n",
    "    b = np.array([[1]\n",
    "                  ,[0]])\n",
    "    V = np.linalg.solve(A, b)  # A*V = b, solve for V[0]=V_island1, V[1]=V_island2\n",
    "\n",
    "    V0 = np.zeros(NUM_CONDUCTOR)\n",
    "    V0[index_island1] = V[0]\n",
    "    V0[index_island2] = V[1]\n",
    "\n",
    "    Q = C_M.dot(V0)\n",
    "    C_sigma = np.dot(Q, V0)\n",
    "        \n",
    "    # find C_bus1, C_read and C_shunt\n",
    "    A = np.array([[beta_bus1-1, beta_bus1, beta_bus1]\n",
    "                ,[beta_read,  beta_read-1, beta_read]  \n",
    "                ,[1, 1, 1]])\n",
    "    b = np.array([[0]\n",
    "                  ,[0]\n",
    "                 ,[C_sigma]])\n",
    "    c = np.linalg.solve(A, b)\n",
    "        \n",
    "    out = np.append(c, np.array([C_sigma, beta_bus1, beta_read]))\n",
    "    \n",
    "    return out\n",
    "\n",
    "def print_result_1bus_1read(c):\n",
    "    c = np.ndarray.flatten(c)\n",
    "    print(f'C_bus1 = {c[0]:.3f} fF\\n' \n",
    "         + f'C_read = {c[1]:.3f} fF\\n'\n",
    "         + f'C_shunt = {c[2]:.3f} fF\\n'\n",
    "         + f'C_sigma = {c[3]:.3f} fF\\n'\n",
    "         + f'beta_bus1 = {c[4]:.3f}\\n'\n",
    "         + f'beta_read = {c[5]:.3f}')\n",
    "    \n",
    "def print_result_2bus_1read(c):\n",
    "    c = np.ndarray.flatten(c)\n",
    "    print(f'C_bus1 = {c[0]:.3f} fF\\n' \n",
    "         + f'C_bus2 = {c[1]:.3f} fF\\n' \n",
    "         + f'C_read = {c[2]:.3f} fF\\n'\n",
    "         + f'C_shunt = {c[3]:.3f} fF\\n'\n",
    "         + f'C_sigma = {c[4]:.3f} fF\\n'\n",
    "         + f'beta_bus1 = {c[5]:.3f}\\n'\n",
    "         + f'beta_bus2 = {c[6]:.3f}\\n'\n",
    "         + f'beta_read = {c[7]:.3f}')\n",
    "\n",
    "def read_capacitance_matrix_csv_to_numpy(filepath, num_conductor, display_df=True):\n",
    "    \"\"\"\n",
    "    Read Q3D capacitance matrix in cvs form and output it in numpy array. \n",
    "    Args:\n",
    "        filepath : Str, full file path\n",
    "        num_conductor: int, number of conductors\n",
    "        display_df: boolean, disply dataframe or not\n",
    "    \"\"\"\n",
    "    \n",
    "    df = pd.read_csv(filepath, header=6, nrows=num_conductor, index_col=0, usecols=range(num_conductor+1))\n",
    "    if display_df:\n",
    "        display(df)\n",
    "    C_M = df.to_numpy()\n",
    "  \n",
    "    return C_M\n",
    "\n",
    "def get_Ec_GHz_from_cap_fF(cap):\n",
    "    return e**2/2/cap/1e-15/h/1e9"
   ]
  },
  {
   "cell_type": "markdown",
   "metadata": {},
   "source": [
    "# ZZ gate, qubit "
   ]
  },
  {
   "cell_type": "code",
   "execution_count": 161,
   "metadata": {
    "code_folding": []
   },
   "outputs": [],
   "source": [
    "# index dictionary of conductors in input Maxwell capacitance matrix\n",
    "conductor_index = { 'gnd' : 1\n",
    "                   , 'island1' : 2\n",
    "                   , 'island2' : 3\n",
    "                   , 'bus1' : 0\n",
    "                   , 'read' : 4\n",
    "                  }"
   ]
  },
  {
   "cell_type": "code",
   "execution_count": 74,
   "metadata": {},
   "outputs": [
    {
     "data": {
      "text/html": [
       "<div>\n",
       "<style scoped>\n",
       "    .dataframe tbody tr th:only-of-type {\n",
       "        vertical-align: middle;\n",
       "    }\n",
       "\n",
       "    .dataframe tbody tr th {\n",
       "        vertical-align: top;\n",
       "    }\n",
       "\n",
       "    .dataframe thead th {\n",
       "        text-align: right;\n",
       "    }\n",
       "</style>\n",
       "<table border=\"1\" class=\"dataframe\">\n",
       "  <thead>\n",
       "    <tr style=\"text-align: right;\">\n",
       "      <th></th>\n",
       "      <th>bus</th>\n",
       "      <th>gnd</th>\n",
       "      <th>island1</th>\n",
       "      <th>island2</th>\n",
       "      <th>read</th>\n",
       "    </tr>\n",
       "  </thead>\n",
       "  <tbody>\n",
       "    <tr>\n",
       "      <th>bus</th>\n",
       "      <td>158.77860</td>\n",
       "      <td>-97.66067</td>\n",
       "      <td>-2.39180</td>\n",
       "      <td>-57.64469</td>\n",
       "      <td>-0.25352</td>\n",
       "    </tr>\n",
       "    <tr>\n",
       "      <th>gnd</th>\n",
       "      <td>-97.66067</td>\n",
       "      <td>344.81040</td>\n",
       "      <td>-41.88761</td>\n",
       "      <td>-48.54764</td>\n",
       "      <td>-83.19365</td>\n",
       "    </tr>\n",
       "    <tr>\n",
       "      <th>island1</th>\n",
       "      <td>-2.39180</td>\n",
       "      <td>-41.88761</td>\n",
       "      <td>71.05150</td>\n",
       "      <td>-17.08321</td>\n",
       "      <td>-8.46331</td>\n",
       "    </tr>\n",
       "    <tr>\n",
       "      <th>island2</th>\n",
       "      <td>-57.64469</td>\n",
       "      <td>-48.54764</td>\n",
       "      <td>-17.08321</td>\n",
       "      <td>125.56610</td>\n",
       "      <td>-0.97516</td>\n",
       "    </tr>\n",
       "    <tr>\n",
       "      <th>read</th>\n",
       "      <td>-0.25352</td>\n",
       "      <td>-83.19365</td>\n",
       "      <td>-8.46331</td>\n",
       "      <td>-0.97516</td>\n",
       "      <td>93.34146</td>\n",
       "    </tr>\n",
       "  </tbody>\n",
       "</table>\n",
       "</div>"
      ],
      "text/plain": [
       "               bus        gnd   island1    island2      read\n",
       "bus      158.77860  -97.66067  -2.39180  -57.64469  -0.25352\n",
       "gnd      -97.66067  344.81040 -41.88761  -48.54764 -83.19365\n",
       "island1   -2.39180  -41.88761  71.05150  -17.08321  -8.46331\n",
       "island2  -57.64469  -48.54764 -17.08321  125.56610  -0.97516\n",
       "read      -0.25352  -83.19365  -8.46331   -0.97516  93.34146"
      ]
     },
     "metadata": {},
     "output_type": "display_data"
    },
    {
     "name": "stdout",
     "output_type": "stream",
     "text": [
      "C_bus1 = -17.553 fF\n",
      "C_read = 5.328 fF\n",
      "C_shunt = 65.348 fF\n",
      "C_sigma = 53.123 fF\n",
      "beta_bus1 = -0.330\n",
      "beta_read = 0.100\n",
      "Ec = 0.36463278092306656 GHz\n"
     ]
    }
   ],
   "source": [
    "filepath = r'Z:/User/Jaseung/projects/ZZgate/Q3D/ZZgate_QubitPadC_Q3D.csv'\n",
    "CSFQ = read_capacitance_matrix_csv_to_numpy(filepath, 5, display_df=True)\n",
    "\n",
    "result = calculate_qubit_1bus_1read_equiv_cap(CSFQ, conductor_index)\n",
    "print_result_1bus_1read(result)\n",
    "print(f'Ec = {e**2/2/result[3]/1e-15/h/1e9} GHz')"
   ]
  },
  {
   "cell_type": "code",
   "execution_count": 171,
   "metadata": {},
   "outputs": [
    {
     "data": {
      "text/html": [
       "<div>\n",
       "<style scoped>\n",
       "    .dataframe tbody tr th:only-of-type {\n",
       "        vertical-align: middle;\n",
       "    }\n",
       "\n",
       "    .dataframe tbody tr th {\n",
       "        vertical-align: top;\n",
       "    }\n",
       "\n",
       "    .dataframe thead th {\n",
       "        text-align: right;\n",
       "    }\n",
       "</style>\n",
       "<table border=\"1\" class=\"dataframe\">\n",
       "  <thead>\n",
       "    <tr style=\"text-align: right;\">\n",
       "      <th></th>\n",
       "      <th>bus</th>\n",
       "      <th>gnd</th>\n",
       "      <th>island1</th>\n",
       "      <th>island2</th>\n",
       "      <th>read</th>\n",
       "    </tr>\n",
       "  </thead>\n",
       "  <tbody>\n",
       "    <tr>\n",
       "      <th>bus</th>\n",
       "      <td>133.78190</td>\n",
       "      <td>-92.38573</td>\n",
       "      <td>-1.94789</td>\n",
       "      <td>-38.55561</td>\n",
       "      <td>-0.20832</td>\n",
       "    </tr>\n",
       "    <tr>\n",
       "      <th>gnd</th>\n",
       "      <td>-92.38573</td>\n",
       "      <td>331.49750</td>\n",
       "      <td>-43.49309</td>\n",
       "      <td>-47.30495</td>\n",
       "      <td>-74.34755</td>\n",
       "    </tr>\n",
       "    <tr>\n",
       "      <th>island1</th>\n",
       "      <td>-1.94789</td>\n",
       "      <td>-43.49309</td>\n",
       "      <td>71.62598</td>\n",
       "      <td>-16.54816</td>\n",
       "      <td>-8.40905</td>\n",
       "    </tr>\n",
       "    <tr>\n",
       "      <th>island2</th>\n",
       "      <td>-38.55561</td>\n",
       "      <td>-47.30495</td>\n",
       "      <td>-16.54816</td>\n",
       "      <td>104.64300</td>\n",
       "      <td>-0.94813</td>\n",
       "    </tr>\n",
       "    <tr>\n",
       "      <th>read</th>\n",
       "      <td>-0.20832</td>\n",
       "      <td>-74.34755</td>\n",
       "      <td>-8.40905</td>\n",
       "      <td>-0.94813</td>\n",
       "      <td>84.33580</td>\n",
       "    </tr>\n",
       "  </tbody>\n",
       "</table>\n",
       "</div>"
      ],
      "text/plain": [
       "               bus        gnd   island1    island2      read\n",
       "bus      133.78190  -92.38573  -1.94789  -38.55561  -0.20832\n",
       "gnd      -92.38573  331.49750 -43.49309  -47.30495 -74.34755\n",
       "island1   -1.94789  -43.49309  71.62598  -16.54816  -8.40905\n",
       "island2  -38.55561  -47.30495 -16.54816  104.64300  -0.94813\n",
       "read      -0.20832  -74.34755  -8.40905   -0.94813  84.33580"
      ]
     },
     "metadata": {},
     "output_type": "display_data"
    },
    {
     "name": "stdout",
     "output_type": "stream",
     "text": [
      "C_bus1 = -13.634 fF\n",
      "C_read = 4.809 fF\n",
      "C_shunt = 59.262 fF\n",
      "C_sigma = 50.438 fF\n",
      "beta_bus1 = -0.270\n",
      "beta_read = 0.095\n",
      "Ec = 0.3840418179292488 GHz\n"
     ]
    }
   ],
   "source": [
    "filepath = r'Z:/User/Jaseung/projects/ZZgate/Q3D/ZZgate_QubitPadT_Q3D.csv'\n",
    "transmon = read_capacitance_matrix_csv_to_numpy(filepath, 5, display_df=True)\n",
    "\n",
    "result = calculate_qubit_1bus_1read_equiv_cap(transmon, conductor_index)\n",
    "print_result_1bus_1read(result)\n",
    "print(f'Ec = {e**2/2/result[3]/1e-15/h/1e9} GHz')"
   ]
  },
  {
   "cell_type": "code",
   "execution_count": 253,
   "metadata": {},
   "outputs": [
    {
     "data": {
      "text/html": [
       "<div>\n",
       "<style scoped>\n",
       "    .dataframe tbody tr th:only-of-type {\n",
       "        vertical-align: middle;\n",
       "    }\n",
       "\n",
       "    .dataframe tbody tr th {\n",
       "        vertical-align: top;\n",
       "    }\n",
       "\n",
       "    .dataframe thead th {\n",
       "        text-align: right;\n",
       "    }\n",
       "</style>\n",
       "<table border=\"1\" class=\"dataframe\">\n",
       "  <thead>\n",
       "    <tr style=\"text-align: right;\">\n",
       "      <th></th>\n",
       "      <th>bus</th>\n",
       "      <th>gnd</th>\n",
       "      <th>island1</th>\n",
       "      <th>island2</th>\n",
       "      <th>read</th>\n",
       "    </tr>\n",
       "  </thead>\n",
       "  <tbody>\n",
       "    <tr>\n",
       "      <th>bus</th>\n",
       "      <td>121.05030</td>\n",
       "      <td>-83.51384</td>\n",
       "      <td>-2.17964</td>\n",
       "      <td>-34.36814</td>\n",
       "      <td>-0.13098</td>\n",
       "    </tr>\n",
       "    <tr>\n",
       "      <th>gnd</th>\n",
       "      <td>-83.51384</td>\n",
       "      <td>348.45120</td>\n",
       "      <td>-63.86928</td>\n",
       "      <td>-56.00028</td>\n",
       "      <td>-72.96077</td>\n",
       "    </tr>\n",
       "    <tr>\n",
       "      <th>island1</th>\n",
       "      <td>-2.17964</td>\n",
       "      <td>-63.86928</td>\n",
       "      <td>103.10760</td>\n",
       "      <td>-26.38928</td>\n",
       "      <td>-8.46271</td>\n",
       "    </tr>\n",
       "    <tr>\n",
       "      <th>island2</th>\n",
       "      <td>-34.36814</td>\n",
       "      <td>-56.00028</td>\n",
       "      <td>-26.38928</td>\n",
       "      <td>119.45440</td>\n",
       "      <td>-0.72889</td>\n",
       "    </tr>\n",
       "    <tr>\n",
       "      <th>read</th>\n",
       "      <td>-0.13098</td>\n",
       "      <td>-72.96077</td>\n",
       "      <td>-8.46271</td>\n",
       "      <td>-0.72889</td>\n",
       "      <td>82.71109</td>\n",
       "    </tr>\n",
       "  </tbody>\n",
       "</table>\n",
       "</div>"
      ],
      "text/plain": [
       "               bus        gnd    island1    island2      read\n",
       "bus      121.05030  -83.51384   -2.17964  -34.36814  -0.13098\n",
       "gnd      -83.51384  348.45120  -63.86928  -56.00028 -72.96077\n",
       "island1   -2.17964  -63.86928  103.10760  -26.38928  -8.46271\n",
       "island2  -34.36814  -56.00028  -26.38928  119.45440  -0.72889\n",
       "read      -0.13098  -72.96077   -8.46271   -0.72889  82.71109"
      ]
     },
     "metadata": {},
     "output_type": "display_data"
    },
    {
     "name": "stdout",
     "output_type": "stream",
     "text": [
      "C_bus1 = -14.335 fF\n",
      "C_read = 4.309 fF\n",
      "C_shunt = 78.467 fF\n",
      "C_sigma = 68.442 fF\n",
      "beta_bus1 = -0.209\n",
      "beta_read = 0.063\n",
      "Ec = 0.2830180642294425 GHz\n"
     ]
    }
   ],
   "source": [
    "filepath = r'Z:/User/Jaseung/projects/ZZgate/Q3D/ZZgate_Mod7p5_bus350um.csv'\n",
    "bus350um = read_capacitance_matrix_csv_to_numpy(filepath, 5, display_df=True)\n",
    "\n",
    "result = calculate_qubit_1bus_1read_equiv_cap(bus350um, conductor_index)\n",
    "print_result_1bus_1read(result)\n",
    "print(f'Ec = {e**2/2/result[3]/1e-15/h/1e9} GHz')"
   ]
  },
  {
   "cell_type": "code",
   "execution_count": 254,
   "metadata": {},
   "outputs": [
    {
     "data": {
      "text/html": [
       "<div>\n",
       "<style scoped>\n",
       "    .dataframe tbody tr th:only-of-type {\n",
       "        vertical-align: middle;\n",
       "    }\n",
       "\n",
       "    .dataframe tbody tr th {\n",
       "        vertical-align: top;\n",
       "    }\n",
       "\n",
       "    .dataframe thead th {\n",
       "        text-align: right;\n",
       "    }\n",
       "</style>\n",
       "<table border=\"1\" class=\"dataframe\">\n",
       "  <thead>\n",
       "    <tr style=\"text-align: right;\">\n",
       "      <th></th>\n",
       "      <th>bus</th>\n",
       "      <th>gnd</th>\n",
       "      <th>island1</th>\n",
       "      <th>island2</th>\n",
       "      <th>read</th>\n",
       "    </tr>\n",
       "  </thead>\n",
       "  <tbody>\n",
       "    <tr>\n",
       "      <th>bus</th>\n",
       "      <td>183.33960</td>\n",
       "      <td>-128.05210</td>\n",
       "      <td>-5.47775</td>\n",
       "      <td>-47.76669</td>\n",
       "      <td>-0.28035</td>\n",
       "    </tr>\n",
       "    <tr>\n",
       "      <th>gnd</th>\n",
       "      <td>-128.05210</td>\n",
       "      <td>373.83790</td>\n",
       "      <td>-67.95404</td>\n",
       "      <td>-32.56430</td>\n",
       "      <td>-73.65653</td>\n",
       "    </tr>\n",
       "    <tr>\n",
       "      <th>island1</th>\n",
       "      <td>-5.47775</td>\n",
       "      <td>-67.95404</td>\n",
       "      <td>98.13900</td>\n",
       "      <td>-13.72449</td>\n",
       "      <td>-8.61106</td>\n",
       "    </tr>\n",
       "    <tr>\n",
       "      <th>island2</th>\n",
       "      <td>-47.76669</td>\n",
       "      <td>-32.56430</td>\n",
       "      <td>-13.72449</td>\n",
       "      <td>95.69699</td>\n",
       "      <td>-0.43286</td>\n",
       "    </tr>\n",
       "    <tr>\n",
       "      <th>read</th>\n",
       "      <td>-0.28035</td>\n",
       "      <td>-73.65653</td>\n",
       "      <td>-8.61106</td>\n",
       "      <td>-0.43286</td>\n",
       "      <td>83.41221</td>\n",
       "    </tr>\n",
       "  </tbody>\n",
       "</table>\n",
       "</div>"
      ],
      "text/plain": [
       "               bus        gnd   island1   island2      read\n",
       "bus      183.33960 -128.05210  -5.47775 -47.76669  -0.28035\n",
       "gnd     -128.05210  373.83790 -67.95404 -32.56430 -73.65653\n",
       "island1   -5.47775  -67.95404  98.13900 -13.72449  -8.61106\n",
       "island2  -47.76669  -32.56430 -13.72449  95.69699  -0.43286\n",
       "read      -0.28035  -73.65653  -8.61106  -0.43286  83.41221"
      ]
     },
     "metadata": {},
     "output_type": "display_data"
    },
    {
     "name": "stdout",
     "output_type": "stream",
     "text": [
      "C_bus1 = -21.535 fF\n",
      "C_read = 4.023 fF\n",
      "C_shunt = 72.825 fF\n",
      "C_sigma = 55.312 fF\n",
      "beta_bus1 = -0.389\n",
      "beta_read = 0.073\n",
      "Ec = 0.3501976144436483 GHz\n"
     ]
    }
   ],
   "source": [
    "filepath = r'Z:/User/Jaseung/projects/ZZgate/Q3D/ZZgate_Mod7p5_largeG.csv'\n",
    "mod7p5_largeG = read_capacitance_matrix_csv_to_numpy(filepath, 5, display_df=True)\n",
    "\n",
    "result = calculate_qubit_1bus_1read_equiv_cap(mod7p5_largeG, conductor_index)\n",
    "print_result_1bus_1read(result)\n",
    "print(f'Ec = {e**2/2/result[3]/1e-15/h/1e9} GHz')"
   ]
  },
  {
   "cell_type": "code",
   "execution_count": 259,
   "metadata": {},
   "outputs": [
    {
     "data": {
      "text/html": [
       "<div>\n",
       "<style scoped>\n",
       "    .dataframe tbody tr th:only-of-type {\n",
       "        vertical-align: middle;\n",
       "    }\n",
       "\n",
       "    .dataframe tbody tr th {\n",
       "        vertical-align: top;\n",
       "    }\n",
       "\n",
       "    .dataframe thead th {\n",
       "        text-align: right;\n",
       "    }\n",
       "</style>\n",
       "<table border=\"1\" class=\"dataframe\">\n",
       "  <thead>\n",
       "    <tr style=\"text-align: right;\">\n",
       "      <th></th>\n",
       "      <th>bus</th>\n",
       "      <th>gnd</th>\n",
       "      <th>island1</th>\n",
       "      <th>island2</th>\n",
       "      <th>read</th>\n",
       "    </tr>\n",
       "  </thead>\n",
       "  <tbody>\n",
       "    <tr>\n",
       "      <th>bus</th>\n",
       "      <td>242.69930</td>\n",
       "      <td>-150.97040</td>\n",
       "      <td>-22.03286</td>\n",
       "      <td>-66.37392</td>\n",
       "      <td>-0.68677</td>\n",
       "    </tr>\n",
       "    <tr>\n",
       "      <th>gnd</th>\n",
       "      <td>-150.97040</td>\n",
       "      <td>380.68730</td>\n",
       "      <td>-62.83069</td>\n",
       "      <td>-22.04527</td>\n",
       "      <td>-73.55152</td>\n",
       "    </tr>\n",
       "    <tr>\n",
       "      <th>island1</th>\n",
       "      <td>-22.03286</td>\n",
       "      <td>-62.83069</td>\n",
       "      <td>103.38800</td>\n",
       "      <td>-7.86103</td>\n",
       "      <td>-8.49926</td>\n",
       "    </tr>\n",
       "    <tr>\n",
       "      <th>island2</th>\n",
       "      <td>-66.37392</td>\n",
       "      <td>-22.04527</td>\n",
       "      <td>-7.86103</td>\n",
       "      <td>97.33856</td>\n",
       "      <td>-0.25754</td>\n",
       "    </tr>\n",
       "    <tr>\n",
       "      <th>read</th>\n",
       "      <td>-0.68677</td>\n",
       "      <td>-73.55152</td>\n",
       "      <td>-8.49926</td>\n",
       "      <td>-0.25754</td>\n",
       "      <td>83.42281</td>\n",
       "    </tr>\n",
       "  </tbody>\n",
       "</table>\n",
       "</div>"
      ],
      "text/plain": [
       "               bus        gnd    island1   island2      read\n",
       "bus      242.69930 -150.97040  -22.03286 -66.37392  -0.68677\n",
       "gnd     -150.97040  380.68730  -62.83069 -22.04527 -73.55152\n",
       "island1  -22.03286  -62.83069  103.38800  -7.86103  -8.49926\n",
       "island2  -66.37392  -22.04527   -7.86103  97.33856  -0.25754\n",
       "read      -0.68677  -73.55152   -8.49926  -0.25754  83.42281"
      ]
     },
     "metadata": {},
     "output_type": "display_data"
    },
    {
     "name": "stdout",
     "output_type": "stream",
     "text": [
      "C_bus1 = -23.616 fF\n",
      "C_read = 3.978 fF\n",
      "C_shunt = 73.701 fF\n",
      "C_sigma = 54.063 fF\n",
      "beta_bus1 = -0.437\n",
      "beta_read = 0.074\n",
      "Ec = 0.35829191704551716 GHz\n"
     ]
    }
   ],
   "source": [
    "filepath = r'Z:/User/Jaseung/projects/ZZgate/Q3D/ZZgate_Mod7p5_largeG_2.csv'\n",
    "mod7p5_largeG_2 = read_capacitance_matrix_csv_to_numpy(filepath, 5, display_df=True)\n",
    "\n",
    "result = calculate_qubit_1bus_1read_equiv_cap(mod7p5_largeG_2, conductor_index)\n",
    "print_result_1bus_1read(result)\n",
    "print(f'Ec = {e**2/2/result[3]/1e-15/h/1e9} GHz')"
   ]
  },
  {
   "cell_type": "code",
   "execution_count": 282,
   "metadata": {},
   "outputs": [
    {
     "data": {
      "text/html": [
       "<div>\n",
       "<style scoped>\n",
       "    .dataframe tbody tr th:only-of-type {\n",
       "        vertical-align: middle;\n",
       "    }\n",
       "\n",
       "    .dataframe tbody tr th {\n",
       "        vertical-align: top;\n",
       "    }\n",
       "\n",
       "    .dataframe thead th {\n",
       "        text-align: right;\n",
       "    }\n",
       "</style>\n",
       "<table border=\"1\" class=\"dataframe\">\n",
       "  <thead>\n",
       "    <tr style=\"text-align: right;\">\n",
       "      <th></th>\n",
       "      <th>bus</th>\n",
       "      <th>gnd</th>\n",
       "      <th>island1</th>\n",
       "      <th>island2</th>\n",
       "      <th>read</th>\n",
       "    </tr>\n",
       "  </thead>\n",
       "  <tbody>\n",
       "    <tr>\n",
       "      <th>bus</th>\n",
       "      <td>259.58200</td>\n",
       "      <td>-149.61280</td>\n",
       "      <td>-23.03372</td>\n",
       "      <td>-83.67349</td>\n",
       "      <td>-0.68428</td>\n",
       "    </tr>\n",
       "    <tr>\n",
       "      <th>gnd</th>\n",
       "      <td>-149.61280</td>\n",
       "      <td>380.57990</td>\n",
       "      <td>-62.86164</td>\n",
       "      <td>-23.21674</td>\n",
       "      <td>-73.55020</td>\n",
       "    </tr>\n",
       "    <tr>\n",
       "      <th>island1</th>\n",
       "      <td>-23.03372</td>\n",
       "      <td>-62.86164</td>\n",
       "      <td>103.38380</td>\n",
       "      <td>-6.82302</td>\n",
       "      <td>-8.49842</td>\n",
       "    </tr>\n",
       "    <tr>\n",
       "      <th>island2</th>\n",
       "      <td>-83.67349</td>\n",
       "      <td>-23.21674</td>\n",
       "      <td>-6.82302</td>\n",
       "      <td>114.82350</td>\n",
       "      <td>-0.25886</td>\n",
       "    </tr>\n",
       "    <tr>\n",
       "      <th>read</th>\n",
       "      <td>-0.68428</td>\n",
       "      <td>-73.55020</td>\n",
       "      <td>-8.49842</td>\n",
       "      <td>-0.25886</td>\n",
       "      <td>83.41989</td>\n",
       "    </tr>\n",
       "  </tbody>\n",
       "</table>\n",
       "</div>"
      ],
      "text/plain": [
       "               bus        gnd    island1    island2      read\n",
       "bus      259.58200 -149.61280  -23.03372  -83.67349  -0.68428\n",
       "gnd     -149.61280  380.57990  -62.86164  -23.21674 -73.55020\n",
       "island1  -23.03372  -62.86164  103.38380   -6.82302  -8.49842\n",
       "island2  -83.67349  -23.21674   -6.82302  114.82350  -0.25886\n",
       "read      -0.68428  -73.55020   -8.49842   -0.25886  83.41989"
      ]
     },
     "metadata": {},
     "output_type": "display_data"
    },
    {
     "name": "stdout",
     "output_type": "stream",
     "text": [
      "C_bus1 = -27.336 fF\n",
      "C_read = 4.365 fF\n",
      "C_shunt = 80.775 fF\n",
      "C_sigma = 57.803 fF\n",
      "beta_bus1 = -0.473\n",
      "beta_read = 0.076\n",
      "Ec = 0.3351053678525255 GHz\n"
     ]
    }
   ],
   "source": [
    "filepath = r'Z:/User/Jaseung/projects/ZZgate/Q3D/ZZgate_Mod7p5_largeG_3.csv'\n",
    "mod7p5_largeG_3 = read_capacitance_matrix_csv_to_numpy(filepath, 5, display_df=True)\n",
    "\n",
    "result = calculate_qubit_1bus_1read_equiv_cap(mod7p5_largeG_3, conductor_index)\n",
    "print_result_1bus_1read(result)\n",
    "print(f'Ec = {e**2/2/result[3]/1e-15/h/1e9} GHz')"
   ]
  },
  {
   "cell_type": "code",
   "execution_count": 274,
   "metadata": {},
   "outputs": [
    {
     "data": {
      "text/html": [
       "<div>\n",
       "<style scoped>\n",
       "    .dataframe tbody tr th:only-of-type {\n",
       "        vertical-align: middle;\n",
       "    }\n",
       "\n",
       "    .dataframe tbody tr th {\n",
       "        vertical-align: top;\n",
       "    }\n",
       "\n",
       "    .dataframe thead th {\n",
       "        text-align: right;\n",
       "    }\n",
       "</style>\n",
       "<table border=\"1\" class=\"dataframe\">\n",
       "  <thead>\n",
       "    <tr style=\"text-align: right;\">\n",
       "      <th></th>\n",
       "      <th>bus</th>\n",
       "      <th>gnd</th>\n",
       "      <th>island1</th>\n",
       "      <th>island2</th>\n",
       "      <th>read</th>\n",
       "    </tr>\n",
       "  </thead>\n",
       "  <tbody>\n",
       "    <tr>\n",
       "      <th>bus</th>\n",
       "      <td>183.00200</td>\n",
       "      <td>-126.41060</td>\n",
       "      <td>-2.59293</td>\n",
       "      <td>-51.98851</td>\n",
       "      <td>-0.27621</td>\n",
       "    </tr>\n",
       "    <tr>\n",
       "      <th>gnd</th>\n",
       "      <td>-126.41060</td>\n",
       "      <td>372.35190</td>\n",
       "      <td>-48.05055</td>\n",
       "      <td>-52.99280</td>\n",
       "      <td>-73.27376</td>\n",
       "    </tr>\n",
       "    <tr>\n",
       "      <th>island1</th>\n",
       "      <td>-2.59293</td>\n",
       "      <td>-48.05055</td>\n",
       "      <td>75.29654</td>\n",
       "      <td>-15.18587</td>\n",
       "      <td>-7.84231</td>\n",
       "    </tr>\n",
       "    <tr>\n",
       "      <th>island2</th>\n",
       "      <td>-51.98851</td>\n",
       "      <td>-52.99280</td>\n",
       "      <td>-15.18587</td>\n",
       "      <td>123.17360</td>\n",
       "      <td>-0.99644</td>\n",
       "    </tr>\n",
       "    <tr>\n",
       "      <th>read</th>\n",
       "      <td>-0.27621</td>\n",
       "      <td>-73.27376</td>\n",
       "      <td>-7.84231</td>\n",
       "      <td>-0.99644</td>\n",
       "      <td>82.82472</td>\n",
       "    </tr>\n",
       "  </tbody>\n",
       "</table>\n",
       "</div>"
      ],
      "text/plain": [
       "               bus        gnd   island1    island2      read\n",
       "bus      183.00200 -126.41060  -2.59293  -51.98851  -0.27621\n",
       "gnd     -126.41060  372.35190 -48.05055  -52.99280 -73.27376\n",
       "island1   -2.59293  -48.05055  75.29654  -15.18587  -7.84231\n",
       "island2  -51.98851  -52.99280 -15.18587  123.17360  -0.99644\n",
       "read      -0.27621  -73.27376  -7.84231   -0.99644  82.82472"
      ]
     },
     "metadata": {},
     "output_type": "display_data"
    },
    {
     "name": "stdout",
     "output_type": "stream",
     "text": [
      "C_bus1 = -16.925 fF\n",
      "C_read = 4.682 fF\n",
      "C_shunt = 66.045 fF\n",
      "C_sigma = 53.801 fF\n",
      "beta_bus1 = -0.315\n",
      "beta_read = 0.087\n",
      "Ec = 0.36003182982795295 GHz\n"
     ]
    }
   ],
   "source": [
    "filepath = r'Z:/User/Jaseung/projects/ZZgate/Q3D/ZZgate_Mod7p5_largeG_4.csv'\n",
    "CM = read_capacitance_matrix_csv_to_numpy(filepath, 5, display_df=True)\n",
    "\n",
    "result = calculate_qubit_1bus_1read_equiv_cap(CM, conductor_index)\n",
    "print_result_1bus_1read(result)\n",
    "print(f'Ec = {e**2/2/result[3]/1e-15/h/1e9} GHz')"
   ]
  },
  {
   "cell_type": "code",
   "execution_count": 285,
   "metadata": {},
   "outputs": [
    {
     "data": {
      "text/html": [
       "<div>\n",
       "<style scoped>\n",
       "    .dataframe tbody tr th:only-of-type {\n",
       "        vertical-align: middle;\n",
       "    }\n",
       "\n",
       "    .dataframe tbody tr th {\n",
       "        vertical-align: top;\n",
       "    }\n",
       "\n",
       "    .dataframe thead th {\n",
       "        text-align: right;\n",
       "    }\n",
       "</style>\n",
       "<table border=\"1\" class=\"dataframe\">\n",
       "  <thead>\n",
       "    <tr style=\"text-align: right;\">\n",
       "      <th></th>\n",
       "      <th>bus</th>\n",
       "      <th>gnd</th>\n",
       "      <th>island1</th>\n",
       "      <th>island2</th>\n",
       "      <th>read</th>\n",
       "    </tr>\n",
       "  </thead>\n",
       "  <tbody>\n",
       "    <tr>\n",
       "      <th>bus</th>\n",
       "      <td>256.13620</td>\n",
       "      <td>-153.40870</td>\n",
       "      <td>-12.76857</td>\n",
       "      <td>-86.31126</td>\n",
       "      <td>-0.90851</td>\n",
       "    </tr>\n",
       "    <tr>\n",
       "      <th>gnd</th>\n",
       "      <td>-153.40870</td>\n",
       "      <td>374.72120</td>\n",
       "      <td>-47.83652</td>\n",
       "      <td>-28.10257</td>\n",
       "      <td>-73.80664</td>\n",
       "    </tr>\n",
       "    <tr>\n",
       "      <th>island1</th>\n",
       "      <td>-12.76857</td>\n",
       "      <td>-47.83652</td>\n",
       "      <td>75.51451</td>\n",
       "      <td>-5.42510</td>\n",
       "      <td>-7.87152</td>\n",
       "    </tr>\n",
       "    <tr>\n",
       "      <th>island2</th>\n",
       "      <td>-86.31126</td>\n",
       "      <td>-28.10257</td>\n",
       "      <td>-5.42510</td>\n",
       "      <td>121.20690</td>\n",
       "      <td>-0.36809</td>\n",
       "    </tr>\n",
       "    <tr>\n",
       "      <th>read</th>\n",
       "      <td>-0.90851</td>\n",
       "      <td>-73.80664</td>\n",
       "      <td>-7.87152</td>\n",
       "      <td>-0.36809</td>\n",
       "      <td>83.39549</td>\n",
       "    </tr>\n",
       "  </tbody>\n",
       "</table>\n",
       "</div>"
      ],
      "text/plain": [
       "               bus        gnd   island1    island2      read\n",
       "bus      256.13620 -153.40870 -12.76857  -86.31126  -0.90851\n",
       "gnd     -153.40870  374.72120 -47.83652  -28.10257 -73.80664\n",
       "island1  -12.76857  -47.83652  75.51451   -5.42510  -7.87152\n",
       "island2  -86.31126  -28.10257  -5.42510  121.20690  -0.36809\n",
       "read      -0.90851  -73.80664  -7.87152   -0.36809  83.39549"
      ]
     },
     "metadata": {},
     "output_type": "display_data"
    },
    {
     "name": "stdout",
     "output_type": "stream",
     "text": [
      "C_bus1 = -24.593 fF\n",
      "C_read = 4.764 fF\n",
      "C_shunt = 68.913 fF\n",
      "C_sigma = 49.085 fF\n",
      "beta_bus1 = -0.501\n",
      "beta_read = 0.097\n",
      "Ec = 0.3946279939224378 GHz\n"
     ]
    }
   ],
   "source": [
    "filepath = r'Z:/User/Jaseung/projects/ZZgate/Q3D/ZZgate_Mod7p5_largeG_5.csv'\n",
    "CM = read_capacitance_matrix_csv_to_numpy(filepath, 5, display_df=True)\n",
    "\n",
    "result = calculate_qubit_1bus_1read_equiv_cap(CM, conductor_index)\n",
    "print_result_1bus_1read(result)\n",
    "print(f'Ec = {e**2/2/result[3]/1e-15/h/1e9} GHz')"
   ]
  },
  {
   "cell_type": "code",
   "execution_count": 301,
   "metadata": {},
   "outputs": [
    {
     "name": "stdout",
     "output_type": "stream",
     "text": [
      "C_bus1 = -28.539 fF\n",
      "C_read = 4.419 fF\n",
      "C_shunt = 86.785 fF\n",
      "C_sigma = 62.665 fF\n",
      "beta_bus1 = -0.455\n",
      "beta_read = 0.071\n",
      "Ec = 0.30910735282748575 GHz\n"
     ]
    },
    {
     "data": {
      "text/plain": [
       "array([[ 280.05637, -153.4087 ,  -23.     , -100.     ,   -0.90851],\n",
       "       [-153.4087 ,  356.61863,  -47.83652,  -10.     ,  -73.80664],\n",
       "       [ -23.     ,  -47.83652,   96.32084,  -16.     ,   -7.87152],\n",
       "       [-100.     ,  -10.     ,  -16.     ,  127.36797,   -0.36809],\n",
       "       [  -0.90851,  -73.80664,   -7.87152,   -0.36809,   83.39549]])"
      ]
     },
     "execution_count": 301,
     "metadata": {},
     "output_type": "execute_result"
    }
   ],
   "source": [
    "CM = update_mutual_capacitance(CM, 0, 3, 100)\n",
    "CM = update_mutual_capacitance(CM, 1, 3, 10)\n",
    "CM = update_mutual_capacitance(CM, 2, 3, 16)\n",
    "CM = update_mutual_capacitance(CM, 2, 0, 23)\n",
    "result = calculate_qubit_1bus_1read_equiv_cap(CM,conductor_index)\n",
    "print_result_1bus_1read(result)\n",
    "print(f'Ec = {e**2/2/result[3]/1e-15/h/1e9} GHz')\n",
    "CM"
   ]
  },
  {
   "cell_type": "code",
   "execution_count": null,
   "metadata": {},
   "outputs": [],
   "source": []
  },
  {
   "cell_type": "markdown",
   "metadata": {},
   "source": [
    "# I101 CSFQ, CR paper"
   ]
  },
  {
   "cell_type": "code",
   "execution_count": 49,
   "metadata": {},
   "outputs": [],
   "source": [
    "# index dictionary of conductors in input Maxwell capacitance matrix\n",
    "conductor_index = { 'gnd' : 1\n",
    "                   , 'island1' : 2\n",
    "                   , 'island2' : 3\n",
    "                   , 'bus1' : 0\n",
    "                   , 'read' : 4\n",
    "                  }"
   ]
  },
  {
   "cell_type": "code",
   "execution_count": 50,
   "metadata": {},
   "outputs": [
    {
     "data": {
      "text/html": [
       "<div>\n",
       "<style scoped>\n",
       "    .dataframe tbody tr th:only-of-type {\n",
       "        vertical-align: middle;\n",
       "    }\n",
       "\n",
       "    .dataframe tbody tr th {\n",
       "        vertical-align: top;\n",
       "    }\n",
       "\n",
       "    .dataframe thead th {\n",
       "        text-align: right;\n",
       "    }\n",
       "</style>\n",
       "<table border=\"1\" class=\"dataframe\">\n",
       "  <thead>\n",
       "    <tr style=\"text-align: right;\">\n",
       "      <th></th>\n",
       "      <th>bus</th>\n",
       "      <th>gnd</th>\n",
       "      <th>island1</th>\n",
       "      <th>island2</th>\n",
       "      <th>read</th>\n",
       "    </tr>\n",
       "  </thead>\n",
       "  <tbody>\n",
       "    <tr>\n",
       "      <th>bus</th>\n",
       "      <td>95.48912</td>\n",
       "      <td>-77.86762</td>\n",
       "      <td>-1.24333</td>\n",
       "      <td>-15.94358</td>\n",
       "      <td>-0.07352</td>\n",
       "    </tr>\n",
       "    <tr>\n",
       "      <th>gnd</th>\n",
       "      <td>-77.86762</td>\n",
       "      <td>372.94720</td>\n",
       "      <td>-65.75782</td>\n",
       "      <td>-62.77826</td>\n",
       "      <td>-64.56598</td>\n",
       "    </tr>\n",
       "    <tr>\n",
       "      <th>island1</th>\n",
       "      <td>-1.24333</td>\n",
       "      <td>-65.75782</td>\n",
       "      <td>101.74740</td>\n",
       "      <td>-26.47125</td>\n",
       "      <td>-6.56720</td>\n",
       "    </tr>\n",
       "    <tr>\n",
       "      <th>island2</th>\n",
       "      <td>-15.94358</td>\n",
       "      <td>-62.77826</td>\n",
       "      <td>-26.47125</td>\n",
       "      <td>107.50170</td>\n",
       "      <td>-0.68268</td>\n",
       "    </tr>\n",
       "    <tr>\n",
       "      <th>read</th>\n",
       "      <td>-0.07352</td>\n",
       "      <td>-64.56598</td>\n",
       "      <td>-6.56720</td>\n",
       "      <td>-0.68268</td>\n",
       "      <td>72.09665</td>\n",
       "    </tr>\n",
       "  </tbody>\n",
       "</table>\n",
       "</div>"
      ],
      "text/plain": [
       "              bus        gnd    island1    island2      read\n",
       "bus      95.48912  -77.86762   -1.24333  -15.94358  -0.07352\n",
       "gnd     -77.86762  372.94720  -65.75782  -62.77826 -64.56598\n",
       "island1  -1.24333  -65.75782  101.74740  -26.47125  -6.56720\n",
       "island2 -15.94358  -62.77826  -26.47125  107.50170  -0.68268\n",
       "read     -0.07352  -64.56598   -6.56720   -0.68268  72.09665"
      ]
     },
     "metadata": {},
     "output_type": "display_data"
    },
    {
     "name": "stdout",
     "output_type": "stream",
     "text": [
      "C_bus1 = -7.034 fF\n",
      "C_read = 3.076 fF\n",
      "C_shunt = 69.453 fF\n",
      "C_sigma = 65.495 fF\n",
      "beta_bus1 = -0.107\n",
      "beta_read = 0.047\n"
     ]
    }
   ],
   "source": [
    "filepath = r'Z:\\User\\Jaseung\\projects\\ZZgate\\Q3D\\ZZgate_I101_CSFQ.csv'\n",
    "C_M_I101_CSFQ = read_capacitance_matrix_csv_to_numpy(filepath, 5)\n",
    "\n",
    "cap_result_I101_CSFQ = calculate_qubit_1bus_1read_equiv_cap(C_M_I101_CSFQ, conductor_index)\n",
    "print_result_1bus_1read(cap_result_I101_CSFQ)\n",
    "# C_QB  = 6.5 fF, C_QR = 2.8 fF"
   ]
  },
  {
   "cell_type": "code",
   "execution_count": 13,
   "metadata": {},
   "outputs": [],
   "source": [
    "import transmonCPW\n",
    "from scipy.constants import h,e,k"
   ]
  },
  {
   "cell_type": "code",
   "execution_count": 119,
   "metadata": {},
   "outputs": [],
   "source": [
    "Ec = get_Ec_GHz_from_cap_fF(result[3])\n",
    "q = transmonCPW.Transmon.in_GHz(13, Ec)"
   ]
  },
  {
   "cell_type": "code",
   "execution_count": 120,
   "metadata": {},
   "outputs": [
    {
     "data": {
      "text/plain": [
       "0.300483302301303"
      ]
     },
     "execution_count": 120,
     "metadata": {},
     "output_type": "execute_result"
    }
   ],
   "source": [
    "Ec"
   ]
  },
  {
   "cell_type": "code",
   "execution_count": 121,
   "metadata": {},
   "outputs": [
    {
     "data": {
      "text/plain": [
       "5270.691503812834"
      ]
     },
     "execution_count": 121,
     "metadata": {},
     "output_type": "execute_result"
    }
   ],
   "source": [
    "q.f01/1e6"
   ]
  },
  {
   "cell_type": "code",
   "execution_count": 122,
   "metadata": {},
   "outputs": [
    {
     "data": {
      "text/plain": [
       "-349.8107414289418"
      ]
     },
     "execution_count": 122,
     "metadata": {},
     "output_type": "execute_result"
    }
   ],
   "source": [
    "q.anharmonicity/1e6"
   ]
  },
  {
   "cell_type": "markdown",
   "metadata": {},
   "source": [
    "# Mod 3"
   ]
  },
  {
   "cell_type": "code",
   "execution_count": 123,
   "metadata": {},
   "outputs": [
    {
     "name": "stdout",
     "output_type": "stream",
     "text": [
      "C_bus1 = 31.349 fF\n",
      "C_read = 4.734 fF\n",
      "C_shunt = 34.748 fF\n",
      "C_sigma = 70.832 fF\n",
      "beta_bus1 = 0.443\n",
      "beta_read = 0.067\n"
     ]
    }
   ],
   "source": [
    "Mod3 = np.array([[0.28888, -0.0434,-0.0157,-0.0719,-0.0158]\n",
    "                 ,[-0.0434, 0.0924,-0.00797,-0.0386,-0.0577]\n",
    "                 ,[-0.0157,-0.00797, 0.0242,-0.000101,-0.00179]            \n",
    "                 ,[-0.07198,-0.0386,-0.000101,0.119,-0.00803]\n",
    "                 ,[-0.0158,-0.05778,-0.00179,-0.00803,0.0242]\n",
    "                ])\n",
    "Mod3 = Mod3 * 1e3\n",
    "conductor_index = { 'gnd' : 0\n",
    "                   , 'island1' : 1\n",
    "                   , 'island2' :3 \n",
    "                   , 'bus1' : 4\n",
    "                   , 'read' : 2\n",
    "                  }\n",
    "result = calculate_qubit_1bus_1read_equiv_cap(Mod3, conductor_index)\n",
    "print_result_1bus_1read(result)\n"
   ]
  },
  {
   "cell_type": "code",
   "execution_count": 94,
   "metadata": {},
   "outputs": [
    {
     "data": {
      "text/plain": [
       "-319.5507373346004"
      ]
     },
     "execution_count": 94,
     "metadata": {},
     "output_type": "execute_result"
    }
   ],
   "source": [
    "Ec = get_Ec_GHz_from_cap_fF(result[3])\n",
    "q = transmonCPW.Transmon.in_GHz(11.4, Ec)\n",
    "q.anharmonicity/1e6"
   ]
  },
  {
   "cell_type": "markdown",
   "metadata": {},
   "source": [
    "# Mod 4, 1bus-1read"
   ]
  },
  {
   "cell_type": "code",
   "execution_count": 97,
   "metadata": {},
   "outputs": [
    {
     "name": "stdout",
     "output_type": "stream",
     "text": [
      "C_bus1 = -4.099 fF\n",
      "C_read = 4.499 fF\n",
      "C_shunt = 62.850 fF\n",
      "C_sigma = 63.250 fF\n",
      "beta_bus1 = -0.065\n",
      "beta_read = 0.071\n"
     ]
    }
   ],
   "source": [
    "C_M_mod4 = np.array([[291.34,-51.173,-17.152,-58.758,-17.068]\n",
    "               ,[-51.173,92.843,-8.6623,-30.712,-0.0641]\n",
    "               ,[-17.152,-8.6623,25.913,-0.0779,-0.00136]\n",
    "               ,[-58.758,-30.712,-0.07791,99.027,-8.6762]\n",
    "               ,[-17.068,-0.0641,-0.001367,-8.6762, 25.913]\n",
    "               ])\n",
    "\n",
    "conductor_index = { 'gnd' : 0\n",
    "                   , 'island1' : 1\n",
    "                   , 'island2' :3 \n",
    "                   , 'bus1' : 4\n",
    "                   , 'read' : 2\n",
    "                  }\n",
    "result = calculate_qubit_1bus_1read_equiv_cap(C_M_mod4, conductor_index)\n",
    "print_result_1bus_1read(result)"
   ]
  },
  {
   "cell_type": "code",
   "execution_count": 104,
   "metadata": {},
   "outputs": [
    {
     "data": {
      "text/plain": [
       "4.7190626880612845"
      ]
     },
     "execution_count": 104,
     "metadata": {},
     "output_type": "execute_result"
    }
   ],
   "source": [
    "Ec = get_Ec_GHz_from_cap_fF(result[3])\n",
    "q = transmonCPW.Transmon.in_GHz(10.4, Ec)\n",
    "q.f01/1e9"
   ]
  },
  {
   "cell_type": "code",
   "execution_count": 105,
   "metadata": {},
   "outputs": [
    {
     "data": {
      "text/plain": [
       "-366.1916325955258"
      ]
     },
     "execution_count": 105,
     "metadata": {},
     "output_type": "execute_result"
    }
   ],
   "source": [
    "q.anharmonicity/1e6"
   ]
  },
  {
   "cell_type": "markdown",
   "metadata": {},
   "source": [
    "# Mod 7, 1bus-1read"
   ]
  },
  {
   "cell_type": "code",
   "execution_count": 109,
   "metadata": {},
   "outputs": [
    {
     "name": "stdout",
     "output_type": "stream",
     "text": [
      "C_bus1 = -7.920 fF\n",
      "C_read = 7.925 fF\n",
      "C_shunt = 57.827 fF\n",
      "C_sigma = 57.832 fF\n",
      "beta_bus1 = -0.137\n",
      "beta_read = 0.137\n"
     ]
    },
    {
     "data": {
      "text/plain": [
       "115.66502631980579"
      ]
     },
     "execution_count": 109,
     "metadata": {},
     "output_type": "execute_result"
    }
   ],
   "source": [
    "Mod7_oldppt = np.array([[568.7, -43.028,-118.33,-39.898,-117.51]\n",
    "               ,[-43.028,87.197,-16.9,-28.218,-1.1171]\n",
    "               ,[-118.33,-16.9, 133.82, -1.126,-0.110033]\n",
    "               ,[-39.898, -28.218,-1.126, 87.699, -17.034]\n",
    "               ,[-117.51,-1.1171, -0.11033, -17.034, 133.73]\n",
    "               ])\n",
    "\n",
    "conductor_index = { 'gnd' : 0\n",
    "                   , 'island1' : 1\n",
    "                   , 'island2' :3 \n",
    "                   , 'bus1' : 4\n",
    "                   , 'read' : 2\n",
    "                  }\n",
    "result_1bus_1read = calculate_qubit_1bus_1read_equiv_cap(Mod7_oldppt, conductor_index)\n",
    "print_result_1bus_1read(result_1bus_1read)\n",
    "np.sum(result_1bus_1read)\n",
    "\n",
    "# Predicted values in the ppt seem wrong. e.g., g, chi are huge."
   ]
  },
  {
   "cell_type": "markdown",
   "metadata": {},
   "source": [
    "# Mod 7.5, 2bus-1read"
   ]
  },
  {
   "cell_type": "code",
   "execution_count": 114,
   "metadata": {
    "scrolled": true
   },
   "outputs": [
    {
     "name": "stdout",
     "output_type": "stream",
     "text": [
      "C_bus1 = -4.248 fF\n",
      "C_bus2 = -4.181 fF\n",
      "C_read = 3.400 fF\n",
      "C_shunt = 64.464 fF\n",
      "C_sigma = 59.435 fF\n",
      "beta_bu1 = -0.071\n",
      "beta_bus2 = -0.070\n",
      "beta_read = 0.057\n"
     ]
    },
    {
     "data": {
      "text/plain": [
       "0.3259050254764452"
      ]
     },
     "execution_count": 114,
     "metadata": {},
     "output_type": "execute_result"
    }
   ],
   "source": [
    "# From Jay's ppt, MQC0V11 Summary_ADC.ppt\n",
    "C_M = np.array([[107.94,   -0.072728, -96.56, -0.72528, -9.7239,-0.041219]\n",
    "               ,[-0.072728, 107.72, -95.966, -0.72699, -9.5856, -0.041242]\n",
    "               ,[-96.56,   -95.966, 586.48,  -59.967, -55.133, -95.917]\n",
    "               ,[-0.72528, -0.72699, -59.967, 92.027,  -23.543,   -7.0491]\n",
    "               ,[-9.7239, -9.5856,-55.133, -23.543, 98.962,-0.61872]\n",
    "               ,[-0.041219,-0.041242, -95.917,   -7.0491, -0.61872, 103.03]\n",
    "              ])  # from Jay's ppt\n",
    "\n",
    "# index dictionary of conductors in input Maxwell capacitance matrix\n",
    "conductor_index = { 'gnd' : 2\n",
    "                   , 'island1' : 3\n",
    "                   , 'island2' : 4\n",
    "                   , 'bus1' : 0\n",
    "                   , 'bus2' :1\n",
    "                   , 'read' : 5\n",
    "                  }\n",
    "result = calculate_qubit_2bus_1read_equiv_cap(C_M, conductor_index)\n",
    "print_result_2bus_1read(result)\n",
    "get_Ec_GHz_from_cap_fF(result[4])"
   ]
  },
  {
   "cell_type": "code",
   "execution_count": 45,
   "metadata": {
    "scrolled": true
   },
   "outputs": [
    {
     "data": {
      "text/html": [
       "<div>\n",
       "<style scoped>\n",
       "    .dataframe tbody tr th:only-of-type {\n",
       "        vertical-align: middle;\n",
       "    }\n",
       "\n",
       "    .dataframe tbody tr th {\n",
       "        vertical-align: top;\n",
       "    }\n",
       "\n",
       "    .dataframe thead th {\n",
       "        text-align: right;\n",
       "    }\n",
       "</style>\n",
       "<table border=\"1\" class=\"dataframe\">\n",
       "  <thead>\n",
       "    <tr style=\"text-align: right;\">\n",
       "      <th></th>\n",
       "      <th>bus1</th>\n",
       "      <th>bus2</th>\n",
       "      <th>gnd</th>\n",
       "      <th>island1</th>\n",
       "      <th>island2</th>\n",
       "      <th>read</th>\n",
       "    </tr>\n",
       "  </thead>\n",
       "  <tbody>\n",
       "    <tr>\n",
       "      <th>bus1</th>\n",
       "      <td>84.12624</td>\n",
       "      <td>-0.09242</td>\n",
       "      <td>-71.19074</td>\n",
       "      <td>-0.87456</td>\n",
       "      <td>-11.50396</td>\n",
       "      <td>-0.05208</td>\n",
       "    </tr>\n",
       "    <tr>\n",
       "      <th>bus2</th>\n",
       "      <td>-0.09242</td>\n",
       "      <td>88.28012</td>\n",
       "      <td>-75.31159</td>\n",
       "      <td>-0.88000</td>\n",
       "      <td>-11.51359</td>\n",
       "      <td>-0.05269</td>\n",
       "    </tr>\n",
       "    <tr>\n",
       "      <th>gnd</th>\n",
       "      <td>-71.19074</td>\n",
       "      <td>-75.31159</td>\n",
       "      <td>412.95030</td>\n",
       "      <td>-63.82632</td>\n",
       "      <td>-57.68698</td>\n",
       "      <td>-73.02149</td>\n",
       "    </tr>\n",
       "    <tr>\n",
       "      <th>island1</th>\n",
       "      <td>-0.87456</td>\n",
       "      <td>-0.88000</td>\n",
       "      <td>-63.82632</td>\n",
       "      <td>103.15110</td>\n",
       "      <td>-26.88716</td>\n",
       "      <td>-8.47016</td>\n",
       "    </tr>\n",
       "    <tr>\n",
       "      <th>island2</th>\n",
       "      <td>-11.50396</td>\n",
       "      <td>-11.51359</td>\n",
       "      <td>-57.68698</td>\n",
       "      <td>-26.88716</td>\n",
       "      <td>110.44020</td>\n",
       "      <td>-0.75749</td>\n",
       "    </tr>\n",
       "    <tr>\n",
       "      <th>read</th>\n",
       "      <td>-0.05208</td>\n",
       "      <td>-0.05269</td>\n",
       "      <td>-73.02149</td>\n",
       "      <td>-8.47016</td>\n",
       "      <td>-0.75749</td>\n",
       "      <td>82.78218</td>\n",
       "    </tr>\n",
       "  </tbody>\n",
       "</table>\n",
       "</div>"
      ],
      "text/plain": [
       "             bus1      bus2        gnd    island1    island2      read\n",
       "bus1     84.12624  -0.09242  -71.19074   -0.87456  -11.50396  -0.05208\n",
       "bus2     -0.09242  88.28012  -75.31159   -0.88000  -11.51359  -0.05269\n",
       "gnd     -71.19074 -75.31159  412.95030  -63.82632  -57.68698 -73.02149\n",
       "island1  -0.87456  -0.88000  -63.82632  103.15110  -26.88716  -8.47016\n",
       "island2 -11.50396 -11.51359  -57.68698  -26.88716  110.44020  -0.75749\n",
       "read     -0.05208  -0.05269  -73.02149   -8.47016   -0.75749  82.78218"
      ]
     },
     "metadata": {},
     "output_type": "display_data"
    },
    {
     "name": "stdout",
     "output_type": "stream",
     "text": [
      "C_bus1 = -5.032 fF\n",
      "C_bus2 = -5.034 fF\n",
      "C_read = 4.067 fF\n",
      "C_shunt = 72.758 fF\n",
      "C_sigma = 66.758 fF\n",
      "beta_bu1 = -0.075\n",
      "beta_bus2 = -0.075\n",
      "beta_read = 0.061\n"
     ]
    }
   ],
   "source": [
    "# My own Mod7.5\n",
    "filepath = r'Z:/User/Jaseung/projects/ZZgate/Q3D/ZZgate_Mod7p5_1.csv'\n",
    "Mod_7p5_1= read_capacitance_matrix_csv_to_numpy(filepath, 6, display_df=True)\n",
    "\n",
    "result_2bus_1read = calculate_qubit_2bus_1read_equiv_cap(Mod_7p5_1, conductor_index)\n",
    "print_result_2bus_1read(result_2bus_1read)"
   ]
  },
  {
   "cell_type": "code",
   "execution_count": 125,
   "metadata": {
    "scrolled": true
   },
   "outputs": [
    {
     "data": {
      "text/html": [
       "<div>\n",
       "<style scoped>\n",
       "    .dataframe tbody tr th:only-of-type {\n",
       "        vertical-align: middle;\n",
       "    }\n",
       "\n",
       "    .dataframe tbody tr th {\n",
       "        vertical-align: top;\n",
       "    }\n",
       "\n",
       "    .dataframe thead th {\n",
       "        text-align: right;\n",
       "    }\n",
       "</style>\n",
       "<table border=\"1\" class=\"dataframe\">\n",
       "  <thead>\n",
       "    <tr style=\"text-align: right;\">\n",
       "      <th></th>\n",
       "      <th>bus1</th>\n",
       "      <th>bus2</th>\n",
       "      <th>gnd</th>\n",
       "      <th>island1</th>\n",
       "      <th>island2</th>\n",
       "      <th>read</th>\n",
       "    </tr>\n",
       "  </thead>\n",
       "  <tbody>\n",
       "    <tr>\n",
       "      <th>bus1</th>\n",
       "      <td>130.05110</td>\n",
       "      <td>-0.08772</td>\n",
       "      <td>-117.41530</td>\n",
       "      <td>-0.85238</td>\n",
       "      <td>-11.48498</td>\n",
       "      <td>-0.04923</td>\n",
       "    </tr>\n",
       "    <tr>\n",
       "      <th>bus2</th>\n",
       "      <td>-0.08772</td>\n",
       "      <td>130.04180</td>\n",
       "      <td>-117.40910</td>\n",
       "      <td>-0.85247</td>\n",
       "      <td>-11.48951</td>\n",
       "      <td>-0.04929</td>\n",
       "    </tr>\n",
       "    <tr>\n",
       "      <th>gnd</th>\n",
       "      <td>-117.41530</td>\n",
       "      <td>-117.40910</td>\n",
       "      <td>614.68360</td>\n",
       "      <td>-65.88101</td>\n",
       "      <td>-59.61173</td>\n",
       "      <td>-115.08970</td>\n",
       "    </tr>\n",
       "    <tr>\n",
       "      <th>island1</th>\n",
       "      <td>-0.85238</td>\n",
       "      <td>-0.85247</td>\n",
       "      <td>-65.88101</td>\n",
       "      <td>103.51120</td>\n",
       "      <td>-26.72682</td>\n",
       "      <td>-8.44574</td>\n",
       "    </tr>\n",
       "    <tr>\n",
       "      <th>island2</th>\n",
       "      <td>-11.48498</td>\n",
       "      <td>-11.48951</td>\n",
       "      <td>-59.61173</td>\n",
       "      <td>-26.72682</td>\n",
       "      <td>110.75670</td>\n",
       "      <td>-0.73710</td>\n",
       "    </tr>\n",
       "    <tr>\n",
       "      <th>read</th>\n",
       "      <td>-0.04923</td>\n",
       "      <td>-0.04929</td>\n",
       "      <td>-115.08970</td>\n",
       "      <td>-8.44574</td>\n",
       "      <td>-0.73710</td>\n",
       "      <td>124.52270</td>\n",
       "    </tr>\n",
       "  </tbody>\n",
       "</table>\n",
       "</div>"
      ],
      "text/plain": [
       "              bus1       bus2        gnd    island1    island2       read\n",
       "bus1     130.05110   -0.08772 -117.41530   -0.85238  -11.48498   -0.04923\n",
       "bus2      -0.08772  130.04180 -117.40910   -0.85247  -11.48951   -0.04929\n",
       "gnd     -117.41530 -117.40910  614.68360  -65.88101  -59.61173 -115.08970\n",
       "island1   -0.85238   -0.85247  -65.88101  103.51120  -26.72682   -8.44574\n",
       "island2  -11.48498  -11.48951  -59.61173  -26.72682  110.75670   -0.73710\n",
       "read      -0.04923   -0.04929 -115.08970   -8.44574   -0.73710  124.52270"
      ]
     },
     "metadata": {},
     "output_type": "display_data"
    },
    {
     "name": "stdout",
     "output_type": "stream",
     "text": [
      "C_bus1 = -5.038 fF\n",
      "C_bus2 = -5.040 fF\n",
      "C_read = 4.061 fF\n",
      "C_shunt = 72.866 fF\n",
      "C_sigma = 66.849 fF\n",
      "beta_bu1 = -0.075\n",
      "beta_bus2 = -0.075\n",
      "beta_read = 0.061\n"
     ]
    }
   ],
   "source": [
    "conductor_index = { 'gnd' : 2\n",
    "                   , 'island1' : 3\n",
    "                   , 'island2' : 4\n",
    "                   , 'bus1' : 0\n",
    "                   , 'bus2' :1\n",
    "                   , 'read' : 5\n",
    "                  }\n",
    "\n",
    "filepath = r'Z:/User/Jaseung/projects/ZZgate/Q3D/ZZgate_Mod7p5_2.csv' # lareger GND plane\n",
    "Mod_7p5_2= read_capacitance_matrix_csv_to_numpy(filepath, 6)\n",
    "result_2bus_1read = calculate_qubit_2bus_1read_equiv_cap(Mod_7p5_2, conductor_index)\n",
    "print_result_2bus_1read(result_2bus_1read)"
   ]
  },
  {
   "cell_type": "code",
   "execution_count": 129,
   "metadata": {},
   "outputs": [
    {
     "data": {
      "text/html": [
       "<div>\n",
       "<style scoped>\n",
       "    .dataframe tbody tr th:only-of-type {\n",
       "        vertical-align: middle;\n",
       "    }\n",
       "\n",
       "    .dataframe tbody tr th {\n",
       "        vertical-align: top;\n",
       "    }\n",
       "\n",
       "    .dataframe thead th {\n",
       "        text-align: right;\n",
       "    }\n",
       "</style>\n",
       "<table border=\"1\" class=\"dataframe\">\n",
       "  <thead>\n",
       "    <tr style=\"text-align: right;\">\n",
       "      <th></th>\n",
       "      <th>bus1</th>\n",
       "      <th>bus2</th>\n",
       "      <th>gnd</th>\n",
       "      <th>island1</th>\n",
       "      <th>island2</th>\n",
       "      <th>read</th>\n",
       "    </tr>\n",
       "  </thead>\n",
       "  <tbody>\n",
       "    <tr>\n",
       "      <th>bus1</th>\n",
       "      <td>84.72878</td>\n",
       "      <td>-0.09250</td>\n",
       "      <td>-71.74216</td>\n",
       "      <td>-0.87504</td>\n",
       "      <td>-11.55217</td>\n",
       "      <td>-0.05220</td>\n",
       "    </tr>\n",
       "    <tr>\n",
       "      <th>bus2</th>\n",
       "      <td>-0.09250</td>\n",
       "      <td>88.92006</td>\n",
       "      <td>-75.90389</td>\n",
       "      <td>-0.88032</td>\n",
       "      <td>-11.55874</td>\n",
       "      <td>-0.05278</td>\n",
       "    </tr>\n",
       "    <tr>\n",
       "      <th>gnd</th>\n",
       "      <td>-71.74216</td>\n",
       "      <td>-75.90389</td>\n",
       "      <td>414.49250</td>\n",
       "      <td>-63.90671</td>\n",
       "      <td>-57.74837</td>\n",
       "      <td>-73.63248</td>\n",
       "    </tr>\n",
       "    <tr>\n",
       "      <th>island1</th>\n",
       "      <td>-0.87504</td>\n",
       "      <td>-0.88032</td>\n",
       "      <td>-63.90671</td>\n",
       "      <td>103.27270</td>\n",
       "      <td>-26.92179</td>\n",
       "      <td>-8.50045</td>\n",
       "    </tr>\n",
       "    <tr>\n",
       "      <th>island2</th>\n",
       "      <td>-11.55217</td>\n",
       "      <td>-11.55874</td>\n",
       "      <td>-57.74837</td>\n",
       "      <td>-26.92179</td>\n",
       "      <td>110.60460</td>\n",
       "      <td>-0.75809</td>\n",
       "    </tr>\n",
       "    <tr>\n",
       "      <th>read</th>\n",
       "      <td>-0.05220</td>\n",
       "      <td>-0.05278</td>\n",
       "      <td>-73.63248</td>\n",
       "      <td>-8.50045</td>\n",
       "      <td>-0.75809</td>\n",
       "      <td>83.43167</td>\n",
       "    </tr>\n",
       "  </tbody>\n",
       "</table>\n",
       "</div>"
      ],
      "text/plain": [
       "             bus1      bus2        gnd    island1    island2      read\n",
       "bus1     84.72878  -0.09250  -71.74216   -0.87504  -11.55217  -0.05220\n",
       "bus2     -0.09250  88.92006  -75.90389   -0.88032  -11.55874  -0.05278\n",
       "gnd     -71.74216 -75.90389  414.49250  -63.90671  -57.74837 -73.63248\n",
       "island1  -0.87504  -0.88032  -63.90671  103.27270  -26.92179  -8.50045\n",
       "island2 -11.55217 -11.55874  -57.74837  -26.92179  110.60460  -0.75809\n",
       "read     -0.05220  -0.05278  -73.63248   -8.50045   -0.75809  83.43167"
      ]
     },
     "metadata": {},
     "output_type": "display_data"
    },
    {
     "name": "stdout",
     "output_type": "stream",
     "text": [
      "C_bus1 = -5.054 fF\n",
      "C_bus2 = -5.054 fF\n",
      "C_read = 4.083 fF\n",
      "C_shunt = 72.871 fF\n",
      "C_sigma = 66.846 fF\n",
      "beta_bu1 = -0.076\n",
      "beta_bus2 = -0.076\n",
      "beta_read = 0.061\n"
     ]
    }
   ],
   "source": [
    "conductor_index = { 'gnd' : 2\n",
    "                   , 'island1' : 3\n",
    "                   , 'island2' : 4\n",
    "                   , 'bus1' : 0\n",
    "                   , 'bus2' :1\n",
    "                   , 'read' : 5\n",
    "                  }\n",
    "filepath = r'Z:/User/Jaseung/projects/ZZgate/Q3D/ZZgate_Mod7p5_1_vac.csv' # lareger GND plane\n",
    "Mod7p5_1_vac= read_capacitance_matrix_csv_to_numpy(filepath, 6)\n",
    "result = calculate_qubit_2bus_1read_equiv_cap(Mod7p5_1_vac, conductor_index)\n",
    "print_result_2bus_1read(result)"
   ]
  },
  {
   "cell_type": "code",
   "execution_count": 130,
   "metadata": {},
   "outputs": [
    {
     "data": {
      "text/html": [
       "<div>\n",
       "<style scoped>\n",
       "    .dataframe tbody tr th:only-of-type {\n",
       "        vertical-align: middle;\n",
       "    }\n",
       "\n",
       "    .dataframe tbody tr th {\n",
       "        vertical-align: top;\n",
       "    }\n",
       "\n",
       "    .dataframe thead th {\n",
       "        text-align: right;\n",
       "    }\n",
       "</style>\n",
       "<table border=\"1\" class=\"dataframe\">\n",
       "  <thead>\n",
       "    <tr style=\"text-align: right;\">\n",
       "      <th></th>\n",
       "      <th>bus1</th>\n",
       "      <th>bus2</th>\n",
       "      <th>gnd</th>\n",
       "      <th>island1</th>\n",
       "      <th>island2</th>\n",
       "      <th>read</th>\n",
       "    </tr>\n",
       "  </thead>\n",
       "  <tbody>\n",
       "    <tr>\n",
       "      <th>bus1</th>\n",
       "      <td>78.37977</td>\n",
       "      <td>-0.08718</td>\n",
       "      <td>-66.37413</td>\n",
       "      <td>-0.83166</td>\n",
       "      <td>-10.94480</td>\n",
       "      <td>-0.04701</td>\n",
       "    </tr>\n",
       "    <tr>\n",
       "      <th>bus2</th>\n",
       "      <td>-0.08718</td>\n",
       "      <td>82.16091</td>\n",
       "      <td>-70.31457</td>\n",
       "      <td>-0.83693</td>\n",
       "      <td>-10.87366</td>\n",
       "      <td>-0.04858</td>\n",
       "    </tr>\n",
       "    <tr>\n",
       "      <th>gnd</th>\n",
       "      <td>-66.37413</td>\n",
       "      <td>-70.31457</td>\n",
       "      <td>378.64200</td>\n",
       "      <td>-63.08294</td>\n",
       "      <td>-56.15770</td>\n",
       "      <td>-69.24143</td>\n",
       "    </tr>\n",
       "    <tr>\n",
       "      <th>island1</th>\n",
       "      <td>-0.83166</td>\n",
       "      <td>-0.83693</td>\n",
       "      <td>-63.08294</td>\n",
       "      <td>99.49774</td>\n",
       "      <td>-25.90376</td>\n",
       "      <td>-8.01563</td>\n",
       "    </tr>\n",
       "    <tr>\n",
       "      <th>island2</th>\n",
       "      <td>-10.94480</td>\n",
       "      <td>-10.87366</td>\n",
       "      <td>-56.15770</td>\n",
       "      <td>-25.90376</td>\n",
       "      <td>106.35550</td>\n",
       "      <td>-0.72377</td>\n",
       "    </tr>\n",
       "    <tr>\n",
       "      <th>read</th>\n",
       "      <td>-0.04701</td>\n",
       "      <td>-0.04858</td>\n",
       "      <td>-69.24143</td>\n",
       "      <td>-8.01563</td>\n",
       "      <td>-0.72377</td>\n",
       "      <td>78.07643</td>\n",
       "    </tr>\n",
       "  </tbody>\n",
       "</table>\n",
       "</div>"
      ],
      "text/plain": [
       "             bus1      bus2        gnd   island1    island2      read\n",
       "bus1     78.37977  -0.08718  -66.37413  -0.83166  -10.94480  -0.04701\n",
       "bus2     -0.08718  82.16091  -70.31457  -0.83693  -10.87366  -0.04858\n",
       "gnd     -66.37413 -70.31457  378.64200 -63.08294  -56.15770 -69.24143\n",
       "island1  -0.83166  -0.83693  -63.08294  99.49774  -25.90376  -8.01563\n",
       "island2 -10.94480 -10.87366  -56.15770 -25.90376  106.35550  -0.72377\n",
       "read     -0.04701  -0.04858  -69.24143  -8.01563   -0.72377  78.07643"
      ]
     },
     "metadata": {},
     "output_type": "display_data"
    },
    {
     "name": "stdout",
     "output_type": "stream",
     "text": [
      "C_bus1 = -4.794 fF\n",
      "C_bus2 = -4.758 fF\n",
      "C_read = 3.840 fF\n",
      "C_shunt = 70.051 fF\n",
      "C_sigma = 64.339 fF\n",
      "beta_bu1 = -0.075\n",
      "beta_bus2 = -0.074\n",
      "beta_read = 0.060\n"
     ]
    }
   ],
   "source": [
    "conductor_index = { 'gnd' : 2\n",
    "                   , 'island1' : 3\n",
    "                   , 'island2' : 4\n",
    "                   , 'bus1' : 0\n",
    "                   , 'bus2' :1\n",
    "                   , 'read' : 5\n",
    "                  }\n",
    "filepath = r'Z:/User/Jaseung/projects/ZZgate/Q3D/ZZgate_Mod7p5_1_3D.csv' # lareger GND plane\n",
    "Mod7p5_1_3D= read_capacitance_matrix_csv_to_numpy(filepath, 6)\n",
    "result = calculate_qubit_2bus_1read_equiv_cap(Mod7p5_1_3D, conductor_index)\n",
    "print_result_2bus_1read(result)"
   ]
  },
  {
   "cell_type": "code",
   "execution_count": 133,
   "metadata": {},
   "outputs": [
    {
     "name": "stdout",
     "output_type": "stream",
     "text": [
      "C_bus1 = -5.031 fF\n",
      "C_bus2 = -5.032 fF\n",
      "C_read = 4.065 fF\n",
      "C_shunt = 72.694 fF\n",
      "C_sigma = 66.696 fF\n",
      "beta_bu1 = -0.075\n",
      "beta_bus2 = -0.075\n",
      "beta_read = 0.061\n"
     ]
    }
   ],
   "source": [
    "Mod7p5_1_730um = np.array([[84.15124,-0.08934,-71.46975,-0.87062,-11.49056,-0.05460]\n",
    "                           ,[-0.08934,88.30017,-75.60000,-0.87623,-11.49921,-0.05525]\n",
    "                           ,[-71.46975,-75.60000,417.90610,-63.69661,-57.57972,-73.44236]\n",
    "                           ,[-0.87062,-0.87623,-63.69661,103.29970,-26.62650,-8.45201]\n",
    "                           ,[-11.49056,-11.49921,-57.57972,-26.62650,110.56090,-0.73732]\n",
    "                           ,[-0.05460,-0.05525,-73.44236,-8.45201,-0.73732,82.80042]\n",
    "                          ])\n",
    "result = calculate_qubit_2bus_1read_equiv_cap(Mod7p5_1_730um, conductor_index)\n",
    "print_result_2bus_1read(result)"
   ]
  },
  {
   "cell_type": "code",
   "execution_count": 159,
   "metadata": {},
   "outputs": [
    {
     "data": {
      "text/plain": [
       "0.01563000000000425"
      ]
     },
     "execution_count": 159,
     "metadata": {},
     "output_type": "execute_result"
    }
   ],
   "source": [
    "a=C_M[3,:]\n",
    "a[:]\n",
    "np.sum(a)"
   ]
  },
  {
   "cell_type": "code",
   "execution_count": 156,
   "metadata": {},
   "outputs": [
    {
     "data": {
      "text/plain": [
       "1.3274400000000068"
      ]
     },
     "execution_count": 156,
     "metadata": {},
     "output_type": "execute_result"
    }
   ],
   "source": [
    "np.sum(a)"
   ]
  },
  {
   "cell_type": "code",
   "execution_count": null,
   "metadata": {},
   "outputs": [],
   "source": []
  },
  {
   "cell_type": "code",
   "execution_count": null,
   "metadata": {},
   "outputs": [],
   "source": []
  }
 ],
 "metadata": {
  "kernelspec": {
   "display_name": "Python 3",
   "language": "python",
   "name": "python3"
  },
  "language_info": {
   "codemirror_mode": {
    "name": "ipython",
    "version": 3
   },
   "file_extension": ".py",
   "mimetype": "text/x-python",
   "name": "python",
   "nbconvert_exporter": "python",
   "pygments_lexer": "ipython3",
   "version": "3.6.7"
  },
  "toc": {
   "base_numbering": 1,
   "nav_menu": {},
   "number_sections": true,
   "sideBar": true,
   "skip_h1_title": false,
   "title_cell": "Table of Contents",
   "title_sidebar": "Contents",
   "toc_cell": false,
   "toc_position": {
    "height": "calc(100% - 180px)",
    "left": "10px",
    "top": "150px",
    "width": "165px"
   },
   "toc_section_display": true,
   "toc_window_display": true
  }
 },
 "nbformat": 4,
 "nbformat_minor": 4
}
