{
 "cells": [
  {
   "cell_type": "code",
   "execution_count": 1,
   "metadata": {},
   "outputs": [],
   "source": [
    "import numpy as np\n",
    "from scipy import linalg\n",
    "import matplotlib.pyplot as plt"
   ]
  },
  {
   "cell_type": "markdown",
   "metadata": {},
   "source": [
    "# old,  2-bus, 1-readout"
   ]
  },
  {
   "cell_type": "code",
   "execution_count": 185,
   "metadata": {},
   "outputs": [],
   "source": [
    "def reorder_C_M(C_M, island_mapping):\n",
    "    N = len(island_mapping)\n",
    "    M = np.zeros((N,N))\n",
    "    for i in range(N):\n",
    "        for j in range(N):\n",
    "            M[i,j] = C_M[island_mapping[i],island_mapping[j]]\n",
    "    \n",
    "    return M\n",
    "    \n",
    "C_M_in = np.array([[107.94,   -0.072728, -96.56, -0.72528, -9.7239,-0.041219]\n",
    "               ,[-0.072728, 107.72, -95.966, -0.72699, -9.5856, -0.041242]\n",
    "               ,[-96.56,   -95.966, 586.48,  -59.967, -55.133, -95.917]\n",
    "               ,[-0.72528, -0.72699, -59.967, 92.027,  -23.543,   -7.0491]\n",
    "               ,[-9.7239, -9.5856,-55.133, -23.543, 98.962,-0.61872]\n",
    "               ,[-0.041219,-0.041242, -95.917,   -7.0491, -0.61872, 103.03]\n",
    "              ]) \n",
    "\n",
    "island_mapping = [2,3,4,0,1,5] # 0th island on my own scheme is mapped to island_mapping[0]th island of input.\n",
    "C_M = reorder_C_M(C_M_in, island_mapping)"
   ]
  },
  {
   "cell_type": "code",
   "execution_count": 186,
   "metadata": {},
   "outputs": [
    {
     "data": {
      "text/plain": [
       "array([[ 5.8648e+02, -5.9967e+01, -5.5133e+01, -9.6560e+01, -9.5966e+01,\n",
       "        -9.5917e+01],\n",
       "       [-5.9967e+01,  9.2027e+01, -2.3543e+01, -7.2528e-01, -7.2699e-01,\n",
       "        -7.0491e+00],\n",
       "       [-5.5133e+01, -2.3543e+01,  9.8962e+01, -9.7239e+00, -9.5856e+00,\n",
       "        -6.1872e-01],\n",
       "       [-9.6560e+01, -7.2528e-01, -9.7239e+00,  1.0794e+02, -7.2728e-02,\n",
       "        -4.1219e-02],\n",
       "       [-9.5966e+01, -7.2699e-01, -9.5856e+00, -7.2728e-02,  1.0772e+02,\n",
       "        -4.1242e-02],\n",
       "       [-9.5917e+01, -7.0491e+00, -6.1872e-01, -4.1219e-02, -4.1242e-02,\n",
       "         1.0303e+02]])"
      ]
     },
     "execution_count": 186,
     "metadata": {},
     "output_type": "execute_result"
    }
   ],
   "source": [
    "C_M\n"
   ]
  },
  {
   "cell_type": "code",
   "execution_count": 187,
   "metadata": {},
   "outputs": [],
   "source": [
    "# find beta_c\n",
    "# beta_c = C_c / C_sigma\n",
    "# C_sigma = C_a + C_b + C_c\n",
    "C_M_1 = np.zeros((6, 6))\n",
    "C_M_1[:, 1:3] = C_M[:, 1:3]\n",
    "C_M_1[0, 0] = -1\n",
    "C_M_1[3, 3] = -1\n",
    "C_M_1[4, 4] = -1\n",
    "C_M_1[5, 5] = -1"
   ]
  },
  {
   "cell_type": "code",
   "execution_count": 188,
   "metadata": {},
   "outputs": [],
   "source": [
    "# find beta_b1, beta_b2 and beta_r\n",
    "b1 = linalg.inv(C_M_1).dot(-C_M[:,3])\n",
    "beta_b1 = np.abs(b1[2] - b1[1]) # V2-V1\n",
    "b2 = linalg.inv(C_M_1).dot(-C_M[:,4])\n",
    "beta_b2 = np.abs(b2[2] - b2[1])  \n",
    "r = linalg.inv(C_M_1).dot(-C_M[:,5])\n",
    "beta_r = np.abs(r[2] - r[1])"
   ]
  },
  {
   "cell_type": "code",
   "execution_count": 189,
   "metadata": {},
   "outputs": [
    {
     "data": {
      "image/png": "[encoded data removed]",
      "text/latex": [
       "$\\displaystyle 0.0714648191785757$"
      ],
      "text/plain": [
       "0.0714648191785757"
      ]
     },
     "execution_count": 189,
     "metadata": {},
     "output_type": "execute_result"
    }
   ],
   "source": [
    "beta_b1"
   ]
  },
  {
   "cell_type": "code",
   "execution_count": 190,
   "metadata": {},
   "outputs": [
    {
     "data": {
      "text/plain": [
       "array([[59.4351968]])"
      ]
     },
     "execution_count": 190,
     "metadata": {},
     "output_type": "execute_result"
    }
   ],
   "source": [
    "# find C_sigma\n",
    "A = np.array([[-1, 1],\n",
    "             [C_M[1,1]+C_M[1,2], C_M[2,1]+C_M[2,2]]])\n",
    "b = np.array([[1]\n",
    "              ,[0]])\n",
    "c = np.linalg.solve(A, b)  # A*c = b, solve for c,i.e., v1,v2\n",
    "Q2_Q3 = C_M[1:3, 1:3].dot(c)\n",
    "C_sigma = Q2_Q3.T.dot(c)\n",
    "C_sigma"
   ]
  },
  {
   "cell_type": "code",
   "execution_count": 191,
   "metadata": {},
   "outputs": [
    {
     "data": {
      "text/plain": [
       "array([[ 4.24752559],\n",
       "       [ 4.18081188],\n",
       "       [ 3.3999545 ],\n",
       "       [47.60690483]])"
      ]
     },
     "execution_count": 191,
     "metadata": {},
     "output_type": "execute_result"
    }
   ],
   "source": [
    "# find C_b1, C_b2, C_r and C_sh\n",
    "A = np.array([[beta_b1-1, beta_b1, beta_b1, beta_b1]\n",
    "            ,[beta_b2, beta_b2-1, beta_b2, beta_b2]\n",
    "            ,[beta_r, beta_r, beta_r-1, beta_r]  \n",
    "            ,[1, 1, 1, 1]])\n",
    "b = np.array([[0]\n",
    "              ,[0]\n",
    "              ,[0]\n",
    "             ,C_sigma[0]])\n",
    "c = np.linalg.solve(A, b)\n",
    "c"
   ]
  },
  {
   "cell_type": "markdown",
   "metadata": {},
   "source": [
    "# 2-bus, 1-readout"
   ]
  },
  {
   "cell_type": "code",
   "execution_count": 21,
   "metadata": {},
   "outputs": [],
   "source": [
    "C_M = np.array([[107.94,   -0.072728, -96.56, -0.72528, -9.7239,-0.041219]\n",
    "               ,[-0.072728, 107.72, -95.966, -0.72699, -9.5856, -0.041242]\n",
    "               ,[-96.56,   -95.966, 586.48,  -59.967, -55.133, -95.917]\n",
    "               ,[-0.72528, -0.72699, -59.967, 92.027,  -23.543,   -7.0491]\n",
    "               ,[-9.7239, -9.5856,-55.133, -23.543, 98.962,-0.61872]\n",
    "               ,[-0.041219,-0.041242, -95.917,   -7.0491, -0.61872, 103.03]\n",
    "              ]) "
   ]
  },
  {
   "cell_type": "code",
   "execution_count": 22,
   "metadata": {},
   "outputs": [],
   "source": [
    "# index of conductors in input Maxwell capacitance matrix\n",
    "index_gnd = 2\n",
    "index_island1 = 3\n",
    "index_island2 = 4\n",
    "index_bus1 = 0\n",
    "index_bus2 = 1\n",
    "index_read = 5\n",
    "\n",
    "NUM_CONDUCTOR = 6"
   ]
  },
  {
   "cell_type": "code",
   "execution_count": 23,
   "metadata": {
    "code_folding": [
     0
    ]
   },
   "outputs": [],
   "source": [
    "def update_mutual_capacitance(Maxwell_cap_matrix,first_conductor_index, second_conductor_index, new_cap):\n",
    "    if first_conductor_index == second_conductor_index:\n",
    "        raise('Error. First and second conductor index must be different!')\n",
    "        \n",
    "    Maxwell_cap_matrix[first_conductor_index, second_conductor_index] = -new_cap\n",
    "    Maxwell_cap_matrix[second_conductor_index, first_conductor_index] = -new_cap\n",
    "    \n",
    "    for i in range(Maxwell_cap_matrix.shape[0]):\n",
    "        Maxwell_cap_matrix[i,i] = -(np.sum(Maxwell_cap_matrix[i,:]) - Maxwell_cap_matrix[i,i])\n",
    "        \n",
    "    return Maxwell_cap_matrix"
   ]
  },
  {
   "cell_type": "code",
   "execution_count": 24,
   "metadata": {},
   "outputs": [
    {
     "data": {
      "text/plain": [
       "array([[ 1.0794e+02, -7.2728e-02, -9.6560e+01, -7.2528e-01, -9.7239e+00,\n",
       "        -4.1219e-02],\n",
       "       [-7.2728e-02,  1.0772e+02, -9.5966e+01, -7.2699e-01, -9.5856e+00,\n",
       "        -4.1242e-02],\n",
       "       [-9.6560e+01, -9.5966e+01,  5.8648e+02, -5.9967e+01, -5.5133e+01,\n",
       "        -9.5917e+01],\n",
       "       [-7.2528e-01, -7.2699e-01, -5.9967e+01,  9.2027e+01, -2.3543e+01,\n",
       "        -7.0491e+00],\n",
       "       [-9.7239e+00, -9.5856e+00, -5.5133e+01, -2.3543e+01,  9.8962e+01,\n",
       "        -6.1872e-01],\n",
       "       [-4.1219e-02, -4.1242e-02, -9.5917e+01, -7.0491e+00, -6.1872e-01,\n",
       "         1.0303e+02]])"
      ]
     },
     "execution_count": 24,
     "metadata": {},
     "output_type": "execute_result"
    }
   ],
   "source": [
    "C_M"
   ]
  },
  {
   "cell_type": "code",
   "execution_count": 25,
   "metadata": {},
   "outputs": [],
   "source": [
    "# find beta_bus1, beta_bus2 and beta_readout\n",
    "#, where beta_bus1 = C_bus1/C_sigma and C_sigma = C_bus1 + C_bus2 + C_read + C_shunt\n",
    "\n",
    "C_M_1 = np.zeros((NUM_CONDUCTOR, NUM_CONDUCTOR))\n",
    "C_M_1[:, index_island1] = C_M[:, index_island1]\n",
    "C_M_1[:, index_island2] = C_M[:, index_island2]\n",
    "C_M_1[index_bus1, index_bus1] = -1\n",
    "C_M_1[index_bus2, index_bus2] = -1\n",
    "C_M_1[index_gnd, index_gnd] = -1\n",
    "C_M_1[index_read, index_read] = -1\n",
    "\n",
    "# Solve for, e.g., Q0, V1, V2, Q3, Q4, Q5\n",
    "b1 = np.linalg.solve(C_M_1, -C_M[:, index_bus1])\n",
    "beta_bus1 = b1[index_island1] - b1[index_island2]\n",
    "\n",
    "b2 = np.linalg.solve(C_M_1, -C_M[:, index_bus2])\n",
    "beta_bus2 = b2[index_island1] - b2[index_island2]\n",
    "\n",
    "r = np.linalg.solve(C_M_1, -C_M[:, index_read])\n",
    "beta_read = r[index_island1] - r[index_island2]"
   ]
  },
  {
   "cell_type": "code",
   "execution_count": 26,
   "metadata": {},
   "outputs": [
    {
     "data": {
      "text/plain": [
       "array([[ -1.     ,   0.     ,   0.     ,  -0.72528,  -9.7239 ,   0.     ],\n",
       "       [  0.     ,  -1.     ,   0.     ,  -0.72699,  -9.5856 ,   0.     ],\n",
       "       [  0.     ,   0.     ,  -1.     , -59.967  , -55.133  ,   0.     ],\n",
       "       [  0.     ,   0.     ,   0.     ,  92.027  , -23.543  ,   0.     ],\n",
       "       [  0.     ,   0.     ,   0.     , -23.543  ,  98.962  ,   0.     ],\n",
       "       [  0.     ,   0.     ,   0.     ,  -7.0491 ,  -0.61872,  -1.     ]])"
      ]
     },
     "execution_count": 26,
     "metadata": {},
     "output_type": "execute_result"
    }
   ],
   "source": [
    "C_M_1"
   ]
  },
  {
   "cell_type": "code",
   "execution_count": 27,
   "metadata": {},
   "outputs": [
    {
     "data": {
      "text/plain": [
       "-0.0714648191785757"
      ]
     },
     "execution_count": 27,
     "metadata": {},
     "output_type": "execute_result"
    }
   ],
   "source": [
    "beta_bus1"
   ]
  },
  {
   "cell_type": "code",
   "execution_count": 28,
   "metadata": {},
   "outputs": [
    {
     "data": {
      "text/plain": [
       "59.43519679923281"
      ]
     },
     "execution_count": 28,
     "metadata": {},
     "output_type": "execute_result"
    }
   ],
   "source": [
    "# Find C_sigma\n",
    "# V_island1 - V_island2 = 1, Eq.1\n",
    "# Q_island1 + Q_island2 = 0, Eq.2\n",
    "# From Eq1 and Eq2, find V_island1 and V_island2 \n",
    "\n",
    "A = np.array([[1, -1],\n",
    "             [C_M[index_island1, index_island1]+C_M[index_island2, index_island1]\n",
    "              , C_M[index_island1, index_island2]+C_M[index_island2, index_island2]]])\n",
    "\n",
    "b = np.array([[1]\n",
    "              ,[0]])\n",
    "V = np.linalg.solve(A, b)  # A*V = b, solve for V[0]=V_island1, V[1]=V_island2\n",
    "\n",
    "V0 = np.zeros(NUM_CONDUCTOR)\n",
    "V0[index_island1] = V[0]\n",
    "V0[index_island2] = V[1]\n",
    "V0[index_bus1] = 0\n",
    "V0[index_bus2] = 0\n",
    "V0[index_read] = 0\n",
    "V0[index_gnd] = 0\n",
    "\n",
    "Q = C_M.dot(V0)\n",
    "C_sigma = np.dot(Q, V0)\n",
    "C_sigma"
   ]
  },
  {
   "cell_type": "code",
   "execution_count": 29,
   "metadata": {},
   "outputs": [
    {
     "data": {
      "text/plain": [
       "array([  4.24752559,   4.18081188,  -5.19046025,  59.4351968 ,\n",
       "       -59.4351968 ,  -3.3999545 ])"
      ]
     },
     "execution_count": 29,
     "metadata": {},
     "output_type": "execute_result"
    }
   ],
   "source": [
    "Q"
   ]
  },
  {
   "cell_type": "code",
   "execution_count": 30,
   "metadata": {},
   "outputs": [
    {
     "data": {
      "text/plain": [
       "array([ 0.        ,  0.        ,  0.        ,  0.52409609, -0.47590391,\n",
       "        0.        ])"
      ]
     },
     "execution_count": 30,
     "metadata": {},
     "output_type": "execute_result"
    }
   ],
   "source": [
    "V0"
   ]
  },
  {
   "cell_type": "code",
   "execution_count": 31,
   "metadata": {
    "scrolled": true
   },
   "outputs": [
    {
     "name": "stdout",
     "output_type": "stream",
     "text": [
      "C_bus1 = -4.248 fF\n",
      "C_bus2 = -4.181 fF\n",
      "C_read = 3.400 fF\n",
      "C_shunt = 64.464 fF\n"
     ]
    }
   ],
   "source": [
    "# find C_b1, C_b2, C_r and C_sh\n",
    "A = np.array([[beta_bus1-1, beta_bus1, beta_bus1, beta_bus1]\n",
    "            ,[beta_bus2, beta_bus2-1, beta_bus2, beta_bus2]\n",
    "            ,[beta_read, beta_read, beta_read-1, beta_read]  \n",
    "            ,[1, 1, 1, 1]])\n",
    "b = np.array([[0]\n",
    "              ,[0]\n",
    "              ,[0]\n",
    "             ,[C_sigma]])\n",
    "c = np.linalg.solve(A, b)\n",
    "c = np.ndarray.flatten(c)\n",
    "print(f'C_bus1 = {c[0]:.3f} fF\\n' \n",
    "     + f'C_bus2 = {c[1]:.3f} fF\\n'\n",
    "     + f'C_read = {c[2]:.3f} fF\\n'\n",
    "     + f'C_shunt = {c[3]:.3f} fF')"
   ]
  },
  {
   "cell_type": "markdown",
   "metadata": {},
   "source": [
    "# 1-bus, 1-readout"
   ]
  },
  {
   "cell_type": "code",
   "execution_count": 4,
   "metadata": {
    "code_folding": [
     0
    ]
   },
   "outputs": [],
   "source": [
    "def update_mutual_capacitance(Maxwell_cap_matrix,conductor1_index, conductor2_index, new_cap):\n",
    "    \"\"\"\n",
    "    Args:\n",
    "        Maxwell_cap_matrix: Maxwell capacitance matrix from Q3D\n",
    "        conductor1_index : index of conductor 1\n",
    "        conductor2_index : index of conductor 2\n",
    "        new_cap : new capacitance for replacement\n",
    "    \"\"\"\n",
    "    \n",
    "    if conductor1_index == conductor2_index:\n",
    "        raise('Error. First and second conductor index must be different!')\n",
    "    \n",
    "    M = np.copy(Maxwell_cap_matrix)\n",
    "    \n",
    "    M[conductor1_index, conductor2_index] = -new_cap\n",
    "    M[conductor2_index, conductor1_index] = -new_cap\n",
    "    \n",
    "    for i in range(M.shape[0]):\n",
    "        M[i,i] = -(np.sum(M[i,:]) - M[i,i])\n",
    "        \n",
    "    return M\n",
    "\n",
    "def calculate_qubit_1bus_1read_equiv_cap(C_M, index):\n",
    "    \"\"\"\n",
    "    Calculate effective shunt and coupling capacitance.\n",
    "    Arg:\n",
    "        C_M : Maxewll capacitance matrix\n",
    "        index : index of each conductor in C_M, starting from 0\n",
    "    Return:\n",
    "        Tuple of effective bus, readout and shunt capacitance\n",
    "    \"\"\"\n",
    "    index_bus1 = index['bus1']\n",
    "    index_gnd = index['gnd']\n",
    "    index_island1 = index['island1']\n",
    "    index_island2 = index['island2']\n",
    "    index_read = index['read']\n",
    "    \n",
    "    NUM_CONDUCTOR = C_M.shape[0]\n",
    "    \n",
    "    C_M_1 = np.zeros((NUM_CONDUCTOR, NUM_CONDUCTOR))\n",
    "    C_M_1[:, index_island1] = C_M[:, index_island1]\n",
    "    C_M_1[:, index_island2] = C_M[:, index_island2]\n",
    "    C_M_1[index_bus1, index_bus1] = -1\n",
    "    C_M_1[index_gnd, index_gnd] = -1\n",
    "    C_M_1[index_read, index_read] = -1\n",
    "\n",
    "    b1 = np.linalg.solve(C_M_1, -C_M[:, index_bus1])\n",
    "    beta_bus1 = b1[index_island1] - b1[index_island2]\n",
    "\n",
    "    r = np.linalg.solve(C_M_1, -C_M[:, index_read])\n",
    "    beta_read = r[index_island1] - r[index_island2]\n",
    "    \n",
    "    # Find C_sigma\n",
    "    # V_island1 - V_island2 = 1, Eq.1\n",
    "    # Q_island1 + Q_island2 = 0, Eq.2\n",
    "    # From Eq1 and Eq2, find V_island1 and V_island2 \n",
    "\n",
    "    A = np.array([[1, -1],\n",
    "                 [C_M[index_island1, index_island1]+C_M[index_island2, index_island1]\n",
    "                  , C_M[index_island1, index_island2]+C_M[index_island2, index_island2]]])\n",
    "\n",
    "    b = np.array([[1]\n",
    "                  ,[0]])\n",
    "    V = np.linalg.solve(A, b)  # A*V = b, solve for V[0]=V_island1, V[1]=V_island2\n",
    "\n",
    "    V0 = np.zeros(NUM_CONDUCTOR)\n",
    "    V0[index_island1] = V[0]\n",
    "    V0[index_island2] = V[1]\n",
    "    V0[index_bus1] = 0\n",
    "    V0[index_read] = 0\n",
    "    V0[index_gnd] = 0\n",
    "\n",
    "    Q = C_M.dot(V0)\n",
    "    C_sigma = np.dot(Q, V0)\n",
    "    \n",
    "    # find C_bus1, C_read and C_shunt\n",
    "    A = np.array([[beta_bus1-1, beta_bus1, beta_bus1]\n",
    "                ,[beta_read,  beta_read-1, beta_read]  \n",
    "                ,[1, 1, 1]])\n",
    "    b = np.array([[0]\n",
    "                  ,[0]\n",
    "                 ,[C_sigma]])\n",
    "    c = np.linalg.solve(A, b)\n",
    "    \n",
    "    return c\n",
    "\n",
    "def print_result(c):\n",
    "    c = np.ndarray.flatten(c)\n",
    "    print(f'C_bus1 = {c[0]:.3f} fF\\n' \n",
    "         + f'C_read = {c[1]:.3f} fF\\n'\n",
    "         + f'C_shunt = {c[2]:.3f} fF')\n",
    "    "
   ]
  },
  {
   "cell_type": "code",
   "execution_count": 5,
   "metadata": {},
   "outputs": [],
   "source": [
    "C_M = np.array([[107.94, -96.56, -0.72528, -9.7239,-0.041219]\n",
    "               ,[-96.56, 586.48,  -59.967, -55.133, -95.917]\n",
    "               ,[-0.72528, -59.967, 92.027,  -23.543,   -7.0491]\n",
    "               ,[-9.7239, -55.133, -23.543, 98.962,-0.61872]\n",
    "               ,[-0.041219, -95.917,   -7.0491, -0.61872, 103.03]\n",
    "              ])\n",
    "\n",
    "# index dictionary of conductors in input Maxwell capacitance matrix\n",
    "conductor_index = { 'gnd' : 1\n",
    "                   , 'island1' : 2\n",
    "                   , 'island2' : 3\n",
    "                   , 'bus1' : 0\n",
    "                   , 'read' : 4\n",
    "                  }"
   ]
  },
  {
   "cell_type": "code",
   "execution_count": 6,
   "metadata": {},
   "outputs": [
    {
     "name": "stdout",
     "output_type": "stream",
     "text": [
      "C_bus1 = -4.248 fF\n",
      "C_read = 3.400 fF\n",
      "C_shunt = 60.283 fF\n"
     ]
    }
   ],
   "source": [
    "cap_result = calculate_qubit_1bus_1read_equiv_cap(C_M, conductor_index)\n",
    "print_result(cap_result)"
   ]
  },
  {
   "cell_type": "code",
   "execution_count": 7,
   "metadata": {
    "scrolled": true
   },
   "outputs": [
    {
     "name": "stdout",
     "output_type": "stream",
     "text": [
      "C_bus1 = -19.081 fF\n",
      "C_read = 4.055 fF\n",
      "C_shunt = 79.860 fF\n"
     ]
    }
   ],
   "source": [
    "C_M_1 = update_mutual_capacitance(C_M, 0, 3, 50)\n",
    "cap_result1 = calculate_qubit_1bus_1read_equiv_cap(C_M_1, conductor_index)\n",
    "print_result(cap_result1)"
   ]
  },
  {
   "cell_type": "code",
   "execution_count": 8,
   "metadata": {},
   "outputs": [
    {
     "data": {
      "text/plain": [
       "122.6582117411505"
      ]
     },
     "execution_count": 8,
     "metadata": {},
     "output_type": "execute_result"
    }
   ],
   "source": [
    "7e-15/2*np.sqrt(6.26e9*5.05e9/55e-15/468e-15)/1e6"
   ]
  },
  {
   "cell_type": "markdown",
   "metadata": {},
   "source": [
    "# ZZ gate, qubit "
   ]
  },
  {
   "cell_type": "code",
   "execution_count": 9,
   "metadata": {
    "code_folding": []
   },
   "outputs": [],
   "source": [
    "C_M = np.array([[143.07500,-87.36528,-2.23553,-52.84648,-0.23655]\n",
    "               ,[-87.36528,294.22820,-40.74111,-46.17334,-77.96845]\n",
    "               ,[-2.23553,-40.74111,67.58779,-15.71175,-7.76007]\n",
    "               ,[-52.84648,-46.17334,-15.71175,118.06270,-0.89528]\n",
    "               ,[-0.23655,-77.96845,-7.76007,-0.89528,86.86034]\n",
    "              ])\n",
    "C_M_N4 = np.array([[105.30560,-79.80541,-1.58229,-23.78888,-0.09290]\n",
    "                   ,[-79.80541,326.48530,-62.62674,-57.28538,-70.37290]\n",
    "                   ,[-1.58229,-62.62674,100.41100,-26.05792,-8.15522]\n",
    "                   ,[-23.78888,-57.28538,-26.05792,110.20110,-0.72336]\n",
    "                   ,[-0.09290,-70.37290,-8.15522,-0.72336,79.40180]\n",
    "                  ])\n",
    "\n",
    "C_M_N5 = np.array([[119.07130,-84.60930,-2.05832,-32.15181,-0.11997]\n",
    "                  ,[-84.60930,326.59040,-62.31408,-54.56391,-70.06300]\n",
    "                  ,[-2.05832,-62.31408,100.36980,-25.74456,-8.16695]\n",
    "                  ,[-32.15181,-54.56391,-25.74456,115.51110,-0.70659]\n",
    "                  ,[-0.11997,-70.06300,-8.16695,-0.70659,79.16525]\n",
    "                  ])\n",
    "\n",
    "# index dictionary of conductors in input Maxwell capacitance matrix\n",
    "conductor_index = { 'gnd' : 1\n",
    "                   , 'island1' : 2\n",
    "                   , 'island2' : 3\n",
    "                   , 'bus1' : 0\n",
    "                   , 'read' : 4\n",
    "                  }"
   ]
  },
  {
   "cell_type": "code",
   "execution_count": 10,
   "metadata": {},
   "outputs": [
    {
     "name": "stdout",
     "output_type": "stream",
     "text": [
      "C_bus1 = -16.292 fF\n",
      "C_read = 4.849 fF\n",
      "C_shunt = 61.582 fF\n"
     ]
    }
   ],
   "source": [
    "cap_result = calculate_qubit_1bus_1read_equiv_cap(C_M, conductor_index)\n",
    "print_result(cap_result)"
   ]
  },
  {
   "cell_type": "code",
   "execution_count": 11,
   "metadata": {},
   "outputs": [
    {
     "name": "stdout",
     "output_type": "stream",
     "text": [
      "C_bus1 = -10.320 fF\n",
      "C_read = 3.990 fF\n",
      "C_shunt = 71.860 fF\n"
     ]
    }
   ],
   "source": [
    "cap_result_N4 = calculate_qubit_1bus_1read_equiv_cap(C_M_N4, conductor_index)\n",
    "print_result(cap_result_N4)"
   ]
  },
  {
   "cell_type": "code",
   "execution_count": 12,
   "metadata": {},
   "outputs": [
    {
     "name": "stdout",
     "output_type": "stream",
     "text": [
      "C_bus1 = -13.471 fF\n",
      "C_read = 4.139 fF\n",
      "C_shunt = 75.826 fF\n"
     ]
    }
   ],
   "source": [
    "cap_result_N5 = calculate_qubit_1bus_1read_equiv_cap(C_M_N5, conductor_index)\n",
    "print_result(cap_result_N5)"
   ]
  },
  {
   "cell_type": "code",
   "execution_count": 13,
   "metadata": {},
   "outputs": [],
   "source": [
    "import transmonCPW\n",
    "from scipy.constants import h,e,k"
   ]
  },
  {
   "cell_type": "code",
   "execution_count": 14,
   "metadata": {},
   "outputs": [],
   "source": [
    "Ec = e**2/2/75.82e-15/h/1e9\n",
    "q = transmonCPW.Transmon.in_GHz(20, Ec)"
   ]
  },
  {
   "cell_type": "code",
   "execution_count": 15,
   "metadata": {},
   "outputs": [
    {
     "data": {
      "text/plain": [
       "0.2554765144691573"
      ]
     },
     "execution_count": 15,
     "metadata": {},
     "output_type": "execute_result"
    }
   ],
   "source": [
    "Ec"
   ]
  },
  {
   "cell_type": "code",
   "execution_count": 16,
   "metadata": {},
   "outputs": [
    {
     "data": {
      "text/plain": [
       "-283.83999835346816"
      ]
     },
     "execution_count": 16,
     "metadata": {},
     "output_type": "execute_result"
    }
   ],
   "source": [
    "q.anharmonicity/1e6"
   ]
  },
  {
   "cell_type": "code",
   "execution_count": 17,
   "metadata": {},
   "outputs": [
    {
     "data": {
      "text/plain": [
       "6126.509351275784"
      ]
     },
     "execution_count": 17,
     "metadata": {},
     "output_type": "execute_result"
    }
   ],
   "source": [
    "q.f01/1e6"
   ]
  },
  {
   "cell_type": "code",
   "execution_count": 18,
   "metadata": {},
   "outputs": [
    {
     "data": {
      "text/plain": [
       "78.28508245290986"
      ]
     },
     "execution_count": 18,
     "metadata": {},
     "output_type": "execute_result"
    }
   ],
   "source": [
    "q.Ej_to_Ec_ratio"
   ]
  },
  {
   "cell_type": "code",
   "execution_count": 19,
   "metadata": {},
   "outputs": [
    {
     "data": {
      "text/plain": [
       "2361.203378677368"
      ]
     },
     "execution_count": 19,
     "metadata": {},
     "output_type": "execute_result"
    }
   ],
   "source": [
    "q.charge_dispersion"
   ]
  },
  {
   "cell_type": "code",
   "execution_count": 20,
   "metadata": {},
   "outputs": [],
   "source": [
    "a= np.array([0,1])"
   ]
  },
  {
   "cell_type": "code",
   "execution_count": 22,
   "metadata": {},
   "outputs": [
    {
     "data": {
      "text/plain": [
       "['__bool__',\n",
       " '__class__',\n",
       " '__delattr__',\n",
       " '__dir__',\n",
       " '__doc__',\n",
       " '__eq__',\n",
       " '__format__',\n",
       " '__ge__',\n",
       " '__getattribute__',\n",
       " '__getitem__',\n",
       " '__gt__',\n",
       " '__hash__',\n",
       " '__init__',\n",
       " '__init_subclass__',\n",
       " '__le__',\n",
       " '__len__',\n",
       " '__lt__',\n",
       " '__mul__',\n",
       " '__ne__',\n",
       " '__new__',\n",
       " '__reduce__',\n",
       " '__reduce_ex__',\n",
       " '__repr__',\n",
       " '__rmul__',\n",
       " '__setattr__',\n",
       " '__setstate__',\n",
       " '__sizeof__',\n",
       " '__str__',\n",
       " '__subclasshook__',\n",
       " 'alignment',\n",
       " 'base',\n",
       " 'byteorder',\n",
       " 'char',\n",
       " 'descr',\n",
       " 'fields',\n",
       " 'flags',\n",
       " 'hasobject',\n",
       " 'isalignedstruct',\n",
       " 'isbuiltin',\n",
       " 'isnative',\n",
       " 'itemsize',\n",
       " 'kind',\n",
       " 'metadata',\n",
       " 'name',\n",
       " 'names',\n",
       " 'ndim',\n",
       " 'newbyteorder',\n",
       " 'num',\n",
       " 'shape',\n",
       " 'str',\n",
       " 'subdtype',\n",
       " 'type']"
      ]
     },
     "execution_count": 22,
     "metadata": {},
     "output_type": "execute_result"
    }
   ],
   "source": [
    "a."
   ]
  },
  {
   "cell_type": "code",
   "execution_count": null,
   "metadata": {},
   "outputs": [],
   "source": []
  }
 ],
 "metadata": {
  "kernelspec": {
   "display_name": "Python 3",
   "language": "python",
   "name": "python3"
  },
  "language_info": {
   "codemirror_mode": {
    "name": "ipython",
    "version": 3
   },
   "file_extension": ".py",
   "mimetype": "text/x-python",
   "name": "python",
   "nbconvert_exporter": "python",
   "pygments_lexer": "ipython3",
   "version": "3.8.2"
  },
  "toc": {
   "base_numbering": 1,
   "nav_menu": {},
   "number_sections": true,
   "sideBar": true,
   "skip_h1_title": false,
   "title_cell": "Table of Contents",
   "title_sidebar": "Contents",
   "toc_cell": false,
   "toc_position": {
    "height": "calc(100% - 180px)",
    "left": "10px",
    "top": "150px",
    "width": "246px"
   },
   "toc_section_display": true,
   "toc_window_display": true
  }
 },
 "nbformat": 4,
 "nbformat_minor": 4
}
