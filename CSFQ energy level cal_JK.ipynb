{
 "cells": [
  {
   "cell_type": "markdown",
   "metadata": {},
   "source": [
    "# CSFQ class"
   ]
  },
  {
   "cell_type": "raw",
   "metadata": {},
   "source": [
    "% FILE: csfq_1d.m\n",
    "% DATE: 15-Sep-2010\n",
    "% Author: Matthias Steffen <msteffe@us.ibm.com>\n",
    "%\n",
    "% Looking at CSFQ simulation using 1D potential approximation\n",
    "\n",
    "% Matlab file converted to python code by Jaseung Ku, 6/13/2016."
   ]
  },
  {
   "cell_type": "code",
   "execution_count": 9,
   "metadata": {
    "code_folding": []
   },
   "outputs": [
    {
     "name": "stdout",
     "output_type": "stream",
     "text": [
      "Using matplotlib backend: TkAgg\n"
     ]
    }
   ],
   "source": [
    "%matplotlib\n",
    "import numpy as np\n",
    "import numpy.linalg as LA\n",
    "import matplotlib.pyplot as plt\n",
    "from math import pi\n",
    "from scipy.constants import h,e, hbar\n",
    "\n",
    "class CSFQ(object):\n",
    "    '''\n",
    "    compute eigenvalues and eigenstates of CSFQ Hamilitonian using 1D potential\n",
    "    Args:\n",
    "           I0 : critical current of large JJ in A\n",
    "           alpha : critical current ratio of small to large JJ, < 1\n",
    "           Cj : junction capacitance of large JJ in F\n",
    "           Cs : shunt capacitance in F\n",
    "    '''\n",
    "    \n",
    "    def __init__(self, I0=None, alpha=None, Cj=None, Cs=None):\n",
    "        \n",
    "        self.I0 = I0\n",
    "        self.alpha = alpha \n",
    "        self.Cj = Cj\n",
    "        self.Cs = Cs\n",
    "            \n",
    "    def solveHamiltonian(self, flux):\n",
    "        \"\"\"\n",
    "        Solve Hamiltonian.\n",
    "        Args:\n",
    "            flux: normalized by flux quantum\n",
    "        Return:\n",
    "            Tuple of sorted eigenvalues and eigenvectors\n",
    "        \"\"\"\n",
    "        f0 = h/2/e; #flux quantum\n",
    "        n = 256 # dimension of Hamitonian matrix\n",
    "    \n",
    "        beta = self.alpha + self.Cs / self.Cj\n",
    "        \n",
    "        # Do 1D Potential\n",
    "        delta = np.linspace(-1.8*pi, 1.8*pi, n)\n",
    "        dd = delta[1] - delta[0]\n",
    "\n",
    "        U = self.potentialE(delta, flux)\n",
    "\n",
    "        # Numerically sovle 1D potential\n",
    "        Cnew = (2*self.Cj/4) * (1+2*beta)\n",
    "        h22m = 4*e**2/2/Cnew\n",
    "        diffOp = -h22m/dd**2\n",
    "        onOp = +2*h22m/dd**2\n",
    "        H = np.diag(U)+ np.eye(len(U), k=1) * diffOp + np.eye(len(U), k=-1) * diffOp + np.eye(len(U)) * onOp\n",
    "        self.H = H\n",
    "        \n",
    "        eigval, eigvec = LA.eigh(H)\n",
    "        \n",
    "        eigval_sorted = np.sort(eigval)  # eigval.sort()\n",
    "        eigvec_sorted = eigvec[:, eigval.argsort()]\n",
    "        \n",
    "        energy_diff = np.diff(eigval_sorted) / h / 1e9 # in GHz\n",
    "\n",
    "        return (energy_diff, eigvec_sorted)\n",
    "    \n",
    "    def potentialE(self, delta, f):\n",
    "        \"\"\"\n",
    "        f: flux normalized by flux quantum \n",
    "        \"\"\"\n",
    "        f0 = h/2/e\n",
    "        n = 256 # dimension of Hamitonian matrix\n",
    "    \n",
    "        beta = self.alpha + self.Cs / self.Cj\n",
    "        \n",
    "        U = -2*self.I0*f0/2/pi*np.cos(delta/2) - self.alpha*self.I0*f0/2/pi*np.cos(2*pi*f-2*delta/2)\n",
    "          \n",
    "        return U"
   ]
  },
  {
   "cell_type": "code",
   "execution_count": 32,
   "metadata": {},
   "outputs": [
    {
     "name": "stdout",
     "output_type": "stream",
     "text": [
      "f01 = 4.935 GHz\n",
      "anharm = 0.608 GHz\n"
     ]
    }
   ],
   "source": [
    "# Test\n",
    "I0 =200e-9\n",
    "Cj = 5e-15\n",
    "Cs = 60e-15\n",
    "alpha = 0.43\n",
    "flux = 0.5\n",
    "\n",
    "csfq = CSFQ(I0=I0, Cj=Cj, Cs=Cs, alpha=alpha)\n",
    "energy_diff, eigenvec = csfq.solveHamiltonian(flux)\n",
    "\n",
    "print(f'f01 = {energy_diff[0]:.3f} GHz')\n",
    "print(f'anharm = {energy_diff[1] - energy_diff[0]:.3f} GHz')"
   ]
  },
  {
   "cell_type": "markdown",
   "metadata": {},
   "source": [
    "# Spectrum vs flux"
   ]
  },
  {
   "cell_type": "code",
   "execution_count": 30,
   "metadata": {},
   "outputs": [
    {
     "name": "stdout",
     "output_type": "stream",
     "text": [
      "f01=5.164,anharmonicity=0.648\n"
     ]
    }
   ],
   "source": [
    "# get spectrum up to w34\n",
    "I0 =200e-9\n",
    "Cj = 5e-15\n",
    "Cs = 55e-15\n",
    "alpha = 0.43\n",
    "\n",
    "csfq = CSFQ(I0=I0, Cj=Cj, Cs=Cs, alpha=alpha)\n",
    "\n",
    "N = 201 # number of flux points\n",
    "flux = np.linspace(0,1,N)\n",
    "\n",
    "# plot set up\n",
    "f, spec = np.array([]), np.array([])\n",
    "fig, axes = plt.subplots(1,1)\n",
    "lines1, = axes.plot([], [],'k-')\n",
    "lines2, = axes.plot([], [], 'r-')\n",
    "lines3, = axes.plot([], [], 'b-')\n",
    "lines4, = axes.plot([], [], 'g-')\n",
    "axes.set_xlabel(r'Flux ($\\Phi_0$)', size=18)\n",
    "axes.set_ylabel('Energy (GHz)', size=18)\n",
    "axes.tick_params(axis='x', labelsize=14)\n",
    "axes.tick_params(axis='y', labelsize=14)\n",
    "axes.grid(which='both',color='gray', linestyle='--', linewidth=0.5)\n",
    "\n",
    "for f1 in flux:\n",
    "    energy_diff = csfq.solveHamiltonian(f1)[0][0:3]\n",
    "    if spec.size ==0:\n",
    "        spec = energy_diff\n",
    "        spec.shape = (1,spec.size)\n",
    "    else:\n",
    "        spec = np.vstack((spec, energy_diff))\n",
    "        \n",
    "    f = np.append(f,f1)\n",
    "        \n",
    "    lines1.set_xdata(f)\n",
    "    lines1.set_ydata(spec[:,0])\n",
    "    lines2.set_xdata(f)\n",
    "    lines2.set_ydata(spec[:,1])\n",
    "    lines3.set_xdata(f)\n",
    "    \n",
    "    lines3.set_ydata(spec[:,2])\n",
    "      \n",
    "    axes.relim()\n",
    "    axes.autoscale()\n",
    "    \n",
    "    fig.canvas.draw() \n",
    "    fig.canvas.flush_events()\n",
    "\n",
    "axes.legend((f'f01', f'f12', f'f23'), loc=0, fontsize=16, frameon=False)\n",
    "f01 = csfq.solveHamiltonian(0.5)[0][0]                                \n",
    "f12 = csfq.solveHamiltonian(0.5)[0][1]  \n",
    "\n",
    "print('f01={:.4g},anharmonicity={:.3g}'.format(f01, f12-f01))"
   ]
  },
  {
   "cell_type": "code",
   "execution_count": null,
   "metadata": {},
   "outputs": [],
   "source": []
  }
 ],
 "metadata": {
  "anaconda-cloud": {},
  "kernelspec": {
   "display_name": "Python 3",
   "language": "python",
   "name": "python3"
  },
  "language_info": {
   "codemirror_mode": {
    "name": "ipython",
    "version": 3
   },
   "file_extension": ".py",
   "mimetype": "text/x-python",
   "name": "python",
   "nbconvert_exporter": "python",
   "pygments_lexer": "ipython3",
   "version": "3.8.5"
  },
  "toc": {
   "base_numbering": 1,
   "nav_menu": {
    "height": "155px",
    "width": "252px"
   },
   "number_sections": true,
   "sideBar": true,
   "skip_h1_title": false,
   "title_cell": "Table of Contents",
   "title_sidebar": "Contents",
   "toc_cell": false,
   "toc_position": {
    "height": "calc(100% - 180px)",
    "left": "10px",
    "top": "150px",
    "width": "194px"
   },
   "toc_section_display": "block",
   "toc_window_display": true
  }
 },
 "nbformat": 4,
 "nbformat_minor": 1
}
