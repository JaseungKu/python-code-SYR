{
 "cells": [
  {
   "cell_type": "code",
   "execution_count": 1,
   "metadata": {
    "collapsed": false
   },
   "outputs": [],
   "source": [
    "import sys\n",
    "sys.path.append('\\\\\\\\shared.ad.syr.edu\\\\AS-Filer\\\\PHY-PRL-labshare\\\\Programs\\\\python\\\\Drivers')"
   ]
  },
  {
   "cell_type": "code",
   "execution_count": 2,
   "metadata": {
    "collapsed": false
   },
   "outputs": [
    {
     "name": "stdout",
     "output_type": "stream",
     "text": [
      "Populating the interactive namespace from numpy and matplotlib\n"
     ]
    }
   ],
   "source": [
    "%pylab inline"
   ]
  },
  {
   "cell_type": "code",
   "execution_count": 3,
   "metadata": {
    "collapsed": false
   },
   "outputs": [],
   "source": [
    "from AgilentN5230A import AgilentN5230A"
   ]
  },
  {
   "cell_type": "code",
   "execution_count": 4,
   "metadata": {
    "collapsed": false
   },
   "outputs": [
    {
     "name": "stdout",
     "output_type": "stream",
     "text": [
      "Initialized S21 Measurement 'S21Meas'\n"
     ]
    }
   ],
   "source": [
    "pna = AgilentN5230A(16)\n",
    "pna.connect()\n",
    "pna.setupMeas()\n",
    "pna.avgCount(50)"
   ]
  },
  {
   "cell_type": "code",
   "execution_count": 5,
   "metadata": {
    "collapsed": true
   },
   "outputs": [],
   "source": [
    "savepath = 'Z:\\\\Experiments\\\\Vortex_measurements\\\\Kenneth\\\\6ResNb122216\\\\'"
   ]
  },
  {
   "cell_type": "code",
   "execution_count": 13,
   "metadata": {
    "collapsed": false
   },
   "outputs": [],
   "source": [
    "f0s = [3.912897,4.79087,6.767286,7.70971]\n",
    "spans = [0.025,0.52,0.15,3.78]\n",
    "pows = [0,-5,-10,-15,-20,-25,-30,-35,-40,-45,-50,-55,-60,-65]\n",
    "\n",
    "for (f0,span) in zip(f0s,spans):\n",
    "    pna.centerF(f0)\n",
    "    pna.spanf(span)\n",
    "    for pow in pows:\n",
    "        pna.pwr(pow)\n",
    "        pna.avgCount((abs(pow)+1)*15)\n",
    "        freq,S21 = pna.getData(True)\n",
    "        S21_real, S21_imag = np.real(S21), np.imag(S21)\n",
    "        S21_mag, S21_phase = np.sqrt(S21_real**2 + S21_imag**2), np.angle(S21, deg=True) # phase in degree\n",
    "        S21_mag_log = 20.0 * np.log10(S21_mag)\n",
    "        savetxt(savepath+'Res'+str(round(f0))[0]+'P'+str(abs(pow))+'.txt',list(zip(freq,S21_mag_log,S21_phase)),delimiter = '\\t',newline = '\\r\\n',fmt='%.6e')\n",
    "    \n",
    "#pna.centerF(2.931344)\n",
    "#pna.spanf(5)\n",
    "#pna.numPoints(1601)\n",
    "#freq,S21 = pna.getData(True)\n",
    "#S21_real, S21_imag = np.real(S21), np.imag(S21)\n",
    "#S21_mag, S21_phase = np.sqrt(S21_real**2 + S21_imag**2), np.angle(S21, deg=True) # phase in degree\n",
    "#S21_mag_log = 20.0 * np.log10(S21_mag)\n",
    "#savetxt(savepath+'Res'+str()+'P'+str()+'.txt',list(zip(freq,S21_mag_log,S21_phase)),delimiter = '\\t',newline = '\\r\\n',fmt='%.6e')"
   ]
  },
  {
   "cell_type": "code",
   "execution_count": 17,
   "metadata": {
    "collapsed": false
   },
   "outputs": [],
   "source": [
    "####################################\n",
    "freqs = [1.971018e9,2.931344e9,3.898026e9,4.765892e9,6.739851e9,7.638164]\n",
    "powss = [0,-10,-20,-30,-40,-50,-60,-70,-80,-90]\n",
    "points = [600,100,100]\n",
    "spans = [4e6,4e6,4e6,4e6,150e6]\n",
    "avgs = [50,51,100,101,200,400,5000,8000,20001,20000]\n",
    "span_bg = 8.0e6\n",
    "IFbandwidth = 1e3\n",
    "pna.setIF(IFbandwidth)\n",
    "\n",
    "save_path = 'Z:\\Experiments\\Vortex_measurements\\Kenneth\\6ResNb122016'\n",
    "surfix = ''\n",
    "####################################\n",
    "background_control = [0,1,2]\n",
    "\n",
    "# dictionary for parameters to be saved in json file. Solely for log.\n",
    "xID, xStart, xEnd, xStep = 'Power (dBm)', startPwr, endPwr, stepPwr\n",
    "yID, yStart, yEnd, yStep = 'Frequency (Hz)',startFreq, endFreq, (endFreq-startFreq)/(numPoints-1)\n",
    "\n",
    "# plot setup\n",
    "plotobj= myplots.plot1D_2sub(xlabel1 = '', ylabel1='S21 (dB)', \n",
    "                             xlabel2 = 'Freq. (Hz)', ylabel2='Phase(degree)',\n",
    "                             title = 'S21 vs Freq.', plotStyle='b-o')\n",
    "\n",
    "# preconfigure instrument\n",
    "pna.setupMeas()\n",
    "pna.pwrOn()\n",
    "pna.setSweepType('linear')\n",
    "\n",
    "# data initialization\n",
    "S21_mag_log_sum, S21_phase_sum = np.array([]), np.array([])\n",
    "S21_mag_log_avg, S21_phase_avg = np.array([]), np.array([])\n",
    "\n",
    "for fnum in range(len(freqs)):\n",
    "    for pnum in range(len(powss)):\n",
    "        freqC = freq = freqs[fnum]\n",
    "        for bgc in background_control:\n",
    "            avg = avgs[pnum]\n",
    "            for avgidx in range(avg):\n",
    "                pna.avgClear()\n",
    "                if bgc == 0:\n",
    "                    freq = freqs[fnum]\n",
    "                    span = spans[fnum]\n",
    "\n",
    "                if bgc == 1:\n",
    "                    freq = freqs[fnum]-3e6\n",
    "                    span = 2e6\n",
    "\n",
    "                if bgc ==2:\n",
    "                    freq = freqs[fnum]+3e6\n",
    "                    span = 2e6\n",
    "                point = points[bgc]\n",
    "                pows = powss[pnum]\n",
    "\n",
    "                print(\"Mesuring Freq {}: Span {}: Pow: {} AVG: {} PTS: {}\".format(freq, span, pows, avg, point))\n",
    "    ###############################################\n",
    "                # dictionary for parameters to be saved in json file. Solely for log.\n",
    "                header = '{:s} {:s} {:s}'.format('Frequency(Hz)', 'mag(dB)', 'phase(degree)')\n",
    "                para = dict([('readout Freq (Hz)',freqC),('background_control',bgc),('readout Power (dBm)', pows),('numPoints',point),\n",
    "                             ('IFbandwidth (Hz)', IFbandwidth),('avg',(avgidx+1)),('header', header)])\n",
    "                # file setup\n",
    "                FAA = float(lsci.tempGet('B')) # unicode to num  \n",
    "                baseStr = 'S21vsV_fr{:.9g}_BGc{:.9g}_Pr{:.9g}_T{:.3g}_{}'\n",
    "                baseFileName = baseStr.format(freqC/1e9,bgc, pows, FAA, surfix)\n",
    "                dataFileName  = os.path.join(save_path, baseFileName + '.dat')\n",
    "                logFileName = os.path.join(save_path, baseFileName + '.json')\n",
    "                with open(logFileName, 'w') as f:\n",
    "                    json.dump(para,f,indent=4, sort_keys=True)\n",
    "\n",
    "                f_data = open(dataFileName, 'a')\n",
    "###############################################################\n",
    "                pna.centerF(freq)\n",
    "                pna.spanf(span)\n",
    "                pna.pwr(pows)\n",
    "                pna.numPoints(point)\n",
    "##############################################################\n",
    "                freq,S21 = pna.getData(cplx=True)\n",
    "\n",
    "                # S21 conversion\n",
    "                S21_real, S21_imag = np.real(S21), np.imag(S21)\n",
    "                S21_mag, S21_phase = np.sqrt(S21_real**2 + S21_imag**2), np.angle(S21, deg=True) # phase in degree\n",
    "                S21_mag_log = 20.0 * np.log10(S21_mag)    # dB\n",
    "                \n",
    "                if S21_mag_log_sum.size == 0: # when S21_mag_2D is empty\n",
    "                    S21_mag_log_sum = S21_mag_log\n",
    "                    S21_mag_log_sum.shape = (S21_mag_log.size, 1)\n",
    "                    S21_phase_sum = S21_phase\n",
    "                    S21_phase_sum.shape = (S21_phase.size, 1)\n",
    "                else:\n",
    "                    S21_mag_log_sum = S21_mag_log_sum + S21_mag_log\n",
    "                    S21_phase_sum = S21_phase_sum + S21_phase\n",
    "                \n",
    "                S21_mag_log_avg = S21_mag_log_sum/(avgidx+1)\n",
    "                S21_phase_avg = S21_phase_sum/(avgidx+1)\n",
    "                \n",
    "                # plot and update\n",
    "                plotobj.update(freq, S21_mag_log_avg, freq, S21_phase_avg)\n",
    "                \n",
    "                # save data in each iteration\n",
    "                string = '{:.9g}\\t{:.3g}\\t{:.3g} \\n'.format(sweeper.curr_val, S21_mag_log_avg,S21_phase_avg)\n",
    "                f_data.write(string)\n",
    "\n",
    "                # update sweep\n",
    "                sweeper.update()\n",
    "                \n",
    "#################################################                \n",
    "############## sweep end #########################    \n",
    "\n",
    "# Post measurement    \n",
    "pna.pwrOff()\n",
    "f_data.close()\n",
    "f.close()\n",
    "print('Measurement done!!')"
   ]
  },
  {
   "cell_type": "code",
   "execution_count": null,
   "metadata": {
    "collapsed": true
   },
   "outputs": [],
   "source": [
    "                freq_r = round(freq,3)\n",
    "                span_r = round(span,1)\n",
    "                freq_str = str(freq_r)\n",
    "                span_str = str (span_r)\n",
    "                pow_str = str(pows)\n",
    "                point_str = str(point)\n",
    "                avg_str = str(avg)\n",
    "                num_str = str(num)\n",
    "\n",
    "\n",
    "                head = [0.000,freq_r,0.000,0.000,pows,0.000,0.000,0.000,point,avg]\n",
    "                f = open(\"head.txt\",\"w\")\n",
    "                i = 0\n",
    "                for h in head:\n",
    "                    out = str(head[i])+\"\\n\"\n",
    "                    f.write(out)\n",
    "                    i +=1\n",
    "                f.close()\n",
    "\n",
    "\n",
    "                output = \"output.txt\"\n",
    "                print(\"Writing {} to file\\n\".format(output))\n",
    "                savetxt(output,np.transpose([x_mag,y_mag_log,y_phase,y_mag,y_real,y_imag]),delimiter=\",\")\n",
    "\n",
    "                filename = [\"head.txt\",output]\n",
    "                name = \"Niobium05122016_\"+freq_str+\"_\"+span_str+\"_\"+pow_str+\"_\"+point_str+\"_\"+avg_str+\"_\"+num_str+\".txt\"\n",
    "                with open(name,\"w\") as outfile:\n",
    "                    for fname in filename:\n",
    "                        with open(fname) as infile:\n",
    "                            for line in infile:\n",
    "                                outfile.write(line)"
   ]
  },
  {
   "cell_type": "code",
   "execution_count": 39,
   "metadata": {
    "collapsed": false
   },
   "outputs": [
    {
     "data": {
      "text/plain": [
       "'Z:\\\\Experiments\\\\Vortex_measurements\\\\Kenneth\\\\6ResNb122016\\\\save.txt'"
      ]
     },
     "execution_count": 39,
     "metadata": {},
     "output_type": "execute_result"
    }
   ],
   "source": [
    "savepath+'save.txt'"
   ]
  },
  {
   "cell_type": "code",
   "execution_count": 12,
   "metadata": {
    "collapsed": false
   },
   "outputs": [
    {
     "data": {
      "text/plain": [
       "'3'"
      ]
     },
     "execution_count": 12,
     "metadata": {},
     "output_type": "execute_result"
    }
   ],
   "source": [
    "str(round(3,2))[0]"
   ]
  },
  {
   "cell_type": "code",
   "execution_count": 44,
   "metadata": {
    "collapsed": false
   },
   "outputs": [
    {
     "data": {
      "text/plain": [
       "'2'"
      ]
     },
     "execution_count": 44,
     "metadata": {},
     "output_type": "execute_result"
    }
   ],
   "source": [
    "str(round(2.24612346))"
   ]
  },
  {
   "cell_type": "code",
   "execution_count": 55,
   "metadata": {
    "collapsed": true
   },
   "outputs": [],
   "source": [
    "pna.centerF(7.638164)\n",
    "pna.spanf(0.25)\n",
    "pna.numPoints(1601)"
   ]
  },
  {
   "cell_type": "code",
   "execution_count": null,
   "metadata": {
    "collapsed": true
   },
   "outputs": [],
   "source": []
  }
 ],
 "metadata": {
  "anaconda-cloud": {},
  "kernelspec": {
   "display_name": "Python 2",
   "language": "python",
   "name": "python2"
  },
  "language_info": {
   "codemirror_mode": {
    "name": "ipython",
    "version": 2
   },
   "file_extension": ".py",
   "mimetype": "text/x-python",
   "name": "python",
   "nbconvert_exporter": "python",
   "pygments_lexer": "ipython2",
   "version": "2.7.12"
  }
 },
 "nbformat": 4,
 "nbformat_minor": 0
}
