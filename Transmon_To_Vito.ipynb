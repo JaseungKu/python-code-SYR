{
 "cells": [
  {
   "cell_type": "markdown",
   "metadata": {},
   "source": [
    "# Transmon"
   ]
  },
  {
   "cell_type": "code",
   "execution_count": 1,
   "metadata": {
    "code_folding": [
     11,
     156
    ]
   },
   "outputs": [],
   "source": [
    "# Jaseung Ku\n",
    "# Aug 2020\n",
    "\n",
    "from math import pi\n",
    "from scipy.special import ellipk\n",
    "from scipy.constants import h, hbar, e, epsilon_0, mu_0\n",
    "from scipy import optimize\n",
    "import matplotlib.pyplot as plt\n",
    "import numpy as np\n",
    "from qutip import *\n",
    "\n",
    "class CPW(object):\n",
    "    \"\"\"\n",
    "    Coplanar Waveguide class\n",
    "    \n",
    "       air\n",
    "    -------------       --------       -----------\n",
    "       metal    |   s   |  w   |   s   |\n",
    "    ----------------------------------------------\n",
    "       dielectric\n",
    "    ----------------------------------------------\n",
    "       air\n",
    "                      \n",
    "    Parameters\n",
    "    -----------\n",
    "    w : width of center conductor in um\n",
    "    s : gap size between center conductor and GND plane in um\n",
    "    h : thickness of substrate in um\n",
    "    t : thickness of metal in um\n",
    "    epsilon_r: relative permeability of substrate\n",
    "    metal: type of metal. Need it for kinetic inductance calculation\n",
    "    kinetic_induct_include : True or False\n",
    "    \n",
    "    TODO\n",
    "    ----\n",
    "    lambda_L vs thickness for metal.\n",
    "    \n",
    "    \"\"\"\n",
    "    \n",
    "    def __init__(self, w=10, s=5, h=500, t=0.1, epsilon_r=11.6, metal='Nb', kinetic_induct_include=False):\n",
    "        self.w = w\n",
    "        self.s = s\n",
    "        self.h = h\n",
    "        self.t = t\n",
    "        self.epsilon_r = epsilon_r\n",
    "        self.metal = metal\n",
    "        self.kinetic_induct_include = kinetic_induct_include\n",
    "                    \n",
    "    @property\n",
    "    def b(self):\n",
    "        return self.w + 2 * self.s\n",
    "    \n",
    "    @property\n",
    "    def lambda_L(self):\n",
    "        \"\"\"\n",
    "        London penentration depth of a metal in um. \n",
    "        This depends on thickness and temperature, but we assume T=0 since operating temperature is much lower than Tc.\n",
    "        \"\"\"\n",
    "        \n",
    "        return 0.08 # for 100nm Nb\n",
    "    \n",
    "    @property   \n",
    "    def epsilon_eff(self):\n",
    "        \"\"\"\n",
    "        Effectvie permittivity. Unitless\n",
    "        Ref: Simmons' book (Schuster thesis)\n",
    "        \"\"\"        \n",
    "        k = self.w / self.b\n",
    "        k3 = np.tanh(pi*self.w/4/self.h) / np.sqrt(pi*self.b/4/self.h)\n",
    "        k_p = sqrt(1 - k**2)\n",
    "        k3_p = sqrt(1 - k3**2)\n",
    "\n",
    "        K_tilda = ellipk(k_p) * ellipk(k3) / ellipk(k) / ellipk(k3_p)\n",
    "        epsilon_eff = (1 + self.epsilon_r * K_tilda) / (1 + K_tilda)\n",
    "        \n",
    "        return epsilon_eff\n",
    "    \n",
    "    @property\n",
    "    def epsilon_eff_1(self):\n",
    "        \"\"\"\n",
    "        Effectvie permittivity. Unitless\n",
    "        Ref: Gopple paper\n",
    "        \"\"\"\n",
    "        epsilon_r1 = 1\n",
    "\n",
    "        k0 = self.w / self.b\n",
    "        k0_p = sqrt(1 - k0**2)\n",
    "\n",
    "        # k1 = np.sinh(pi*2/4/h1) / np.sinh(pi*b/4/h1)\n",
    "        k1=0\n",
    "        k1_p = sqrt(1 - k1**2)\n",
    "        k2 = np.sinh(pi*self.w/4/self.h) / np.sinh(pi*self.b/4/self.h)\n",
    "        k2_p = sqrt(1 - k2**2)\n",
    "\n",
    "        epsilon_eff_1 = (1 \n",
    "                    + (epsilon_r1 - 1)/2*ellipk(k1)*ellipk(k0_p)/ellipk(k1_p)/ellipk(k0) # This term is zero\n",
    "                    + (self.epsilon_r - epsilon_r1)/2*ellipk(k2)*ellipk(k0_p)/ellipk(k2_p)/ellipk(k0)\n",
    "                      )\n",
    "        \n",
    "        return epsilon_eff_1\n",
    "    \n",
    "    @property\n",
    "    def Lm_l(self):\n",
    "        \"\"\" \n",
    "        Magnetic inductance per unit length, H/m\n",
    "        Ref: Goople paper, Yosida1995(Schuster thesis): They show the same expressions.\n",
    "        \"\"\"\n",
    "        k0 = self.w / self.b\n",
    "        k0_p = sqrt(1 - k0**2)\n",
    "        L_l = mu_0 / 4 * ellipk(k0_p)/ellipk(k0)\n",
    "        \n",
    "        return L_l\n",
    "    \n",
    "    @property\n",
    "    def C_l(self):\n",
    "        \"\"\"\n",
    "        Capacitance per unit length, F/m\n",
    "        Ref: Goople paper\n",
    "        \"\"\"\n",
    "        k0 = self.w / self.b\n",
    "        k0_p = sqrt(1 - k0**2)\n",
    "        C_l = 4 * epsilon_0 * self.epsilon_eff * ellipk(k0)/ellipk(k0_p)\n",
    "        \n",
    "        return C_l\n",
    "    \n",
    "    @property\n",
    "    def Lk_l(self):\n",
    "        \"\"\"\n",
    "        Kinetic inductance per length on metal\n",
    "        Ref: Yosida1995 (Schuster thesis)\n",
    "        \"\"\"\n",
    "        \n",
    "        k = self.w / self.b\n",
    "        \n",
    "        g = 1 / (2*(k*ellipk(k))**2) * (-np.log(self.t/4/self.w) + 2 * (self.w + self.s) / self.b * np.log(self.s/(self.w + self.s)) \\\n",
    "                                        - self.w/self.b *np.log(self.t/4/self.b))\n",
    "        Lk_l = mu_0 * self.lambda_L / (self.w * self.s) * g\n",
    "        \n",
    "        return Lk_l\n",
    "            \n",
    "    \n",
    "    @property\n",
    "    def Z0(self):\n",
    "        \"\"\"\n",
    "        Characteristic impedance of CPW.\n",
    "        Ref: Simons book (Schuster thesis)\n",
    "        \"\"\"\n",
    "        k = self.w / self.b\n",
    "        k3 = np.sqrt(pi*self.w/4/self.h) / np.sqrt(pi*self.b/4/self.h)\n",
    "        k_p = sqrt(1 - k**2)\n",
    "        k3_p = sqrt(1 - k3**2)\n",
    "        \n",
    "        Z0 = 60 * pi / sqrt(self.epsilon_eff) / (ellipk(k)/ellipk(k_p) + ellipk(k3)/ellipk(k3_p))\n",
    "        \n",
    "        return Z0\n",
    "        \n",
    "class QuarterWaveResonator(CPW):\n",
    "    \"\"\"\n",
    "    CPW quart-wave resonator class. This inherits CPW class.\n",
    "    \n",
    "    Parameters\n",
    "    ----------\n",
    "    w, a, h, epsilon_s\n",
    "    w_r : fundamental resonant freq in rad/s\n",
    "    kappa : linewidh of resonant peak in rad/s\n",
    "    \n",
    "    TODO:\n",
    "    Calculate frequency shift by coupling cap.\n",
    "    \"\"\"\n",
    "    def __init__(self, w_r=None, kappa=None, **kwargs):\n",
    "        super().__init__(**kwargs)\n",
    "        self.w_r = w_r\n",
    "        self.kappa = kappa\n",
    "                \n",
    "    def __str__(self):\n",
    "        out = f'w={self.w} um, s={self.s} um, h={self.h} um, e_r={self.epsilon_r}, f_r={self.w_r/2/pi/1e9 :.3f} GHz, kappa/2pi={self.kappa/2/pi/1e6 :.3f} MHz'\n",
    "        return out\n",
    "    \n",
    "    @property\n",
    "    def resonator_length(self):\n",
    "        \"\"\"\n",
    "        Calculate the length of resonator in meter. \n",
    "        kinetic_induct : True if kinetic inductance is accounted for.\n",
    "        \"\"\"\n",
    "        if self.kinetic_induct_include:\n",
    "            total_induct_per_length = self.Lm_l + self.Lk_l\n",
    "        else:\n",
    "            total_induct_per_length = self.Lm_l\n",
    "        w_r_pulled = self.get_dressed_res_freq()\n",
    "        \n",
    "        l = 1/sqrt(total_induct_per_length * self.C_l) / (w_r_pulled/2/pi) / 4\n",
    "        \n",
    "        return l\n",
    "    \n",
    "    def get_dressed_res_freq(self):\n",
    "        w_r_pulled = self.w_r  # TODO: calculate frequency shift by coupling cap.\n",
    "        return w_r_pulled\n",
    "    \n",
    "    @property\n",
    "    def Qc(self):\n",
    "        return self.w_r / self.kappa\n",
    "    \n",
    "    @property\n",
    "    def Mc(self):\n",
    "        \"\"\"\n",
    "        Mutual inductance between resonator and feedline, given w_r and kappa.\n",
    "        Ref: Madison Simulation-and-Design\n",
    "        \"\"\"\n",
    "        M = self.Z0 / self.w_r * sqrt(8/self.Qc/pi)\n",
    "        \n",
    "        return M \n",
    "\n",
    "class Transmon(object):\n",
    "    \"\"\"\n",
    "    Charge qubit object\n",
    "    \n",
    "    Parameters\n",
    "    ----------\n",
    "    Ej : Josephson energy in Joule\n",
    "    Ec : Charging energy in Joule\n",
    "    N : number of charge states involved for Hamiltonian matrix\n",
    "    ng_vec : numpy array of gate charge values.\n",
    "    \n",
    "    - Use classmethod 'in_GHz' if you want to use GHz unit for Ej and Ec.\n",
    "    - Usage:  q = Transmon(Ej=10*1e9*h, Ec=0.3*1e9*h) or \n",
    "              q = Transmon.in_GHz(Ej=10, Ec=0.3)  \n",
    "    \"\"\"\n",
    "    \n",
    "    def __init__(self, Ej=0, Ec=0, N=10, ng_vec=np.linspace(-3, 3, 200)):\n",
    "        self.Ej = Ej \n",
    "        self.Ec = Ec \n",
    "        self.N = N        \n",
    "        self.ng_vec = ng_vec\n",
    "       \n",
    "    @classmethod\n",
    "    def in_GHz(cls, Ej=10, Ec=0.3, **kwargs):\n",
    "        return cls(Ej=Ej*1e9*h, Ec=Ec*1e9*h, **kwargs)\n",
    "        \n",
    "    @property\n",
    "    def energies(self):\n",
    "        return  self._get_energies()\n",
    "    \n",
    "    def _get_energies(self):\n",
    "        energies = np.array([self.hamiltonian(ng).eigenenergies() for ng in self.ng_vec])\n",
    "        return energies\n",
    "    \n",
    "    def hamiltonian(self, ng):\n",
    "        \"\"\"\n",
    "        Return the charge qubit hamiltonian as a Qobj instance.\n",
    "        \"\"\"\n",
    "        N = self.N\n",
    "        m = np.diag(4 * self.Ec * (np.arange(-N,N+1)-ng)**2) + 0.5 * self.Ej * (np.diag(-np.ones(2*N), 1) + \n",
    "                                                               np.diag(-np.ones(2*N), -1))\n",
    "        return Qobj(m)\n",
    "\n",
    "    @property\n",
    "    def total_cap(self):\n",
    "        \"\"\"\n",
    "        Total capacitance : C_j + C_g + C_s\n",
    "        C_j : junction capacitance\n",
    "        C_g : cap. between resonator and qubit\n",
    "        C_s : shunt capacitance\n",
    "        \"\"\"\n",
    "        return e**2 / self.Ec /2\n",
    "    \n",
    "    @property\n",
    "    def Ej_to_Ec_ratio(self):\n",
    "        return self.Ej / self.Ec\n",
    "\n",
    "    @property\n",
    "    def charge_dispersion(self):\n",
    "        \"\"\" Difference between max and min f01 \"\"\"\n",
    "        energies = self.energies  # to evaluate energies once\n",
    "        f01 = (energies[:,1] - energies[:,0])/h\n",
    "        charge_dispersion = (f01.max()-f01.min())\n",
    "\n",
    "        return charge_dispersion\n",
    "    \n",
    "    @property\n",
    "    def anharmonicity(self):\n",
    "        energies = self.energies  # to evaluate energies once\n",
    "        f01 = (energies[:,1] - energies[:,0]) / h\n",
    "        f12 = (energies[:,2] - energies[:,1]) / h\n",
    "        anharmonicity = (f12-f01).mean() \n",
    "\n",
    "        return anharmonicity\n",
    "    \n",
    "    @property\n",
    "    def w01(self):\n",
    "        \"\"\"\n",
    "        qubit frequency in Hz. Average of max and min over ng\n",
    "        \"\"\"\n",
    "        energies = self.energies  # to evaluate energies once\n",
    "        f01 = (energies[:,1] - energies[:,0]) / h\n",
    "        freq_01 = (f01.max() + f01.min()) / 2\n",
    "\n",
    "        return freq_01 * 2 * pi\n",
    "    \n",
    "    @property\n",
    "    def f01(self):\n",
    "        return self.w01 / 2/ pi\n",
    "   \n",
    "    def g01(self, res, C_g):\n",
    "        \"\"\"\n",
    "        Calculate the coupling strength.\n",
    "        Ref: Koch paper\n",
    "        \n",
    "        Parameters:\n",
    "        res: Resonator object\n",
    "        C_g: Coupling capacitance between resonator and qubit\n",
    "        \"\"\"\n",
    "\n",
    "        Ej, Ec = self.Ej, self.Ec\n",
    "        w_r = res.w_r\n",
    "        C_l = res.C_l\n",
    "        l = res.resonator_length\n",
    "\n",
    "        matrix_element_01 = np.sqrt(1/2)*(Ej/8/Ec)**(1/4)\n",
    "        beta = C_g / self.total_cap\n",
    "        #     alpha = e**2 / (4*pi*epsilon_0*hbar*c)\n",
    "\n",
    "        V0rms = np.sqrt(hbar * w_r / (C_l * l))\n",
    "        g_01 = 2 * beta * e * V0rms * matrix_element_01 / hbar\n",
    "\n",
    "        return g_01\n",
    "    \n",
    "    def g01_Madison(self, res, C_g):\n",
    "        \"\"\"\n",
    "        g = 1/2 * Cg /sqrt(Cg+Cs)/sqrt(Cg+Cr)*sqrt(wr*wq)\n",
    "        Cg: gate capacitance in F\n",
    "        Cs: qubit shunt capacitance in F\n",
    "        Cr: lump-element effective capacitance, Cr = C_l * l /2 , is this only true for half-wave CPW? what is Cr for quarter-wave\n",
    "        wr: resonator frequency, rad/s\n",
    "        wq: qubit 01 frequency, rad/s\n",
    "        \n",
    "        This expression comes from the model that two LC resonators coupled via gate capacitor(Cg).\n",
    "        Note: I think Cg+Cs should be replaced with Cg+Cs+Cj....\n",
    "        \"\"\"\n",
    "        C_r = res.C_l*res.resonator_length/2\n",
    "        g_01 = 1/2 * C_g / np.sqrt(self.total_cap) / np.sqrt(C_g + C_r) * np.sqrt(self.w01 * res.w_r)\n",
    "        \n",
    "        return g_01\n",
    "    \n",
    "    def Chi01(self, res, C_g):\n",
    "        \"\"\"\n",
    "        Ref: Koch paper\n",
    "        res : Resonator object\n",
    "        C_g : capacitance between resonator and qubit\n",
    "        \"\"\"\n",
    "        delta = self.w01 - res.w_r\n",
    "        anharm = self.anharmonicity\n",
    "        \n",
    "        Chi01 = self.g01(res, C_g)**2 / delta * (anharm/(anharm + delta)) \n",
    "        \n",
    "        return Chi01\n",
    "    \n",
    "    def plot_energies(self, ymax=(20, 3)):\n",
    "        \"\"\"\n",
    "        Plot energy levels as a function of bias parameter ng_vec.\n",
    "        \"\"\"\n",
    "        energies = self.energies  # to evaluate energies once\n",
    "        \n",
    "        fig, axes = plt.subplots(1,2, figsize=(16,6))\n",
    "\n",
    "        for n in range(energies.shape[1]):\n",
    "            axes[0].plot(self.ng_vec, energies[:,n]/1e9/h)\n",
    "\n",
    "        axes[0].set_ylim((energies[0,:]/1e9/h).min() * 1.3, ymax[0]) # modified, JK\n",
    "        axes[0].set_xlabel(r'$n_g$', fontsize=18)\n",
    "        axes[0].set_ylabel(r'$E_n$', fontsize=18)\n",
    "\n",
    "        for n in range(energies.shape[1]):\n",
    "            axes[1].plot(self.ng_vec, (energies[:,n]-energies[:,0])/(energies[:,1]-energies[:,0]))\n",
    "\n",
    "        axes[1].set_ylim(-0.2, ymax[1])\n",
    "        axes[1].set_xlabel(r'$n_g$', fontsize=18)\n",
    "        axes[1].set_ylabel(r'$(E_n-E_0)/(E_1-E_0)$', fontsize=18)\n",
    "        \n",
    "        return fig, axes\n",
    "    \n",
    "    def find_Ej_Ec(self, f01, anharm):\n",
    "        \"\"\" \n",
    "        Given f01 and anharmonicity, find Ej and Ec.\n",
    "        Minimize (f01-f(Ej, Ec))**2 + (anharmonictiy- anharm(Ej,Ec))**2 \n",
    "        \n",
    "        Args: f01 and anharm in SI unit\n",
    "        Returns Ej and Ec.\n",
    "        \"\"\"\n",
    "        sol = optimize.fmin(self._func, [12e9*h, 0.3e9*h], args=(f01, anharm))\n",
    "        print(f'Ej={sol[0]/h/1e9} GHz, Ec={sol[1]/h/1e9} GHz')\n",
    "        \n",
    "        return sol\n",
    "    \n",
    "    def _func(self, x, *args):\n",
    "        self.Ej = x[0]\n",
    "        self.Ec = x[1]\n",
    "#         print(f'Ej={self.Ej}')\n",
    "#         print(f'Ec={self.Ec}')\n",
    "        \n",
    "        return (self.f01 - args[0])**2 +(self.anharmonicity - args[1])**2"
   ]
  },
  {
   "cell_type": "markdown",
   "metadata": {},
   "source": [
    "## If you know Ej and Ec"
   ]
  },
  {
   "cell_type": "code",
   "execution_count": 57,
   "metadata": {},
   "outputs": [],
   "source": [
    "q = Transmon.in_GHz(Ej=16.9, Ec=0.185) # create a transmon object with Ej and Ec in GHz unit."
   ]
  },
  {
   "cell_type": "code",
   "execution_count": 58,
   "metadata": {},
   "outputs": [
    {
     "data": {
      "text/plain": [
       "4.808588034479269"
      ]
     },
     "execution_count": 58,
     "metadata": {},
     "output_type": "execute_result"
    }
   ],
   "source": [
    "q.f01/1e9"
   ]
  },
  {
   "cell_type": "code",
   "execution_count": 59,
   "metadata": {},
   "outputs": [
    {
     "data": {
      "text/plain": [
       "-203.663211115995"
      ]
     },
     "execution_count": 59,
     "metadata": {},
     "output_type": "execute_result"
    }
   ],
   "source": [
    "q.anharmonicity/1e6"
   ]
  },
  {
   "cell_type": "code",
   "execution_count": null,
   "metadata": {},
   "outputs": [],
   "source": [
    "q."
   ]
  },
  {
   "cell_type": "code",
   "execution_count": 4,
   "metadata": {},
   "outputs": [
    {
     "data": {
      "text/plain": [
       "67.72807457011017"
      ]
     },
     "execution_count": 4,
     "metadata": {},
     "output_type": "execute_result"
    }
   ],
   "source": [
    "e**2/2/(0.286e9*h)/1e-15"
   ]
  },
  {
   "cell_type": "markdown",
   "metadata": {},
   "source": [
    "## If you don't know Ej and Ec"
   ]
  },
  {
   "cell_type": "code",
   "execution_count": 2,
   "metadata": {},
   "outputs": [],
   "source": [
    "q1 = Transmon() # creat a Transmon object"
   ]
  },
  {
   "cell_type": "code",
   "execution_count": 6,
   "metadata": {},
   "outputs": [
    {
     "name": "stdout",
     "output_type": "stream",
     "text": [
      "Optimization terminated successfully.\n",
      "         Current function value: 0.000032\n",
      "         Iterations: 91\n",
      "         Function evaluations: 175\n",
      "Ej=7.240194242972664 GHz, Ec=0.32816792278086665 GHz\n"
     ]
    }
   ],
   "source": [
    "f01, anharm  = 5.8e9, -330e6\n",
    "sol = q1.find_Ej_Ec(f01, anharm)  # find Ej and Ec, given f01 and anharmonicity"
   ]
  },
  {
   "cell_type": "code",
   "execution_count": 7,
   "metadata": {},
   "outputs": [
    {
     "name": "stdout",
     "output_type": "stream",
     "text": [
      "anharmonicity =-420.000 MHz\n",
      "f01 = 4.000 GHz\n",
      "charge dispersion = 3.477 MHz\n"
     ]
    }
   ],
   "source": [
    "(q1.Ej, q1.Ec) = sol\n",
    "\n",
    "print(f'anharmonicity ={q1.anharmonicity/1e6:.3f} MHz')\n",
    "print(f'f01 = {q1.f01/1e9:.3f} GHz')\n",
    "print(f'charge dispersion = {q1.charge_dispersion/1e6:.3f} MHz')"
   ]
  },
  {
   "cell_type": "code",
   "execution_count": 8,
   "metadata": {},
   "outputs": [
    {
     "name": "stdout",
     "output_type": "stream",
     "text": [
      "total capacitance = 59.02535861186511 fF\n"
     ]
    }
   ],
   "source": [
    "print(f'total capacitance = {q1.total_cap/1e-15} fF')"
   ]
  },
  {
   "cell_type": "code",
   "execution_count": 9,
   "metadata": {},
   "outputs": [
    {
     "data": {
      "text/plain": [
       "(<Figure size 1152x432 with 2 Axes>,\n",
       " array([<matplotlib.axes._subplots.AxesSubplot object at 0x7f1212c23a60>,\n",
       "        <matplotlib.axes._subplots.AxesSubplot object at 0x7f11f28b49a0>],\n",
       "       dtype=object))"
      ]
     },
     "execution_count": 9,
     "metadata": {},
     "output_type": "execute_result"
    },
    {
     "data": {
      "image/png": "[encoded data removed]",
      "text/plain": [
       "<Figure size 1152x432 with 2 Axes>"
      ]
     },
     "metadata": {
      "needs_background": "light"
     },
     "output_type": "display_data"
    }
   ],
   "source": [
    "%matplotlib inline\n",
    "q1.plot_energies()"
   ]
  },
  {
   "cell_type": "code",
   "execution_count": null,
   "metadata": {},
   "outputs": [],
   "source": []
  }
 ],
 "metadata": {
  "kernelspec": {
   "display_name": "Python 3",
   "language": "python",
   "name": "python3"
  },
  "language_info": {
   "codemirror_mode": {
    "name": "ipython",
    "version": 3
   },
   "file_extension": ".py",
   "mimetype": "text/x-python",
   "name": "python",
   "nbconvert_exporter": "python",
   "pygments_lexer": "ipython3",
   "version": "3.8.2"
  },
  "toc": {
   "base_numbering": 1,
   "nav_menu": {},
   "number_sections": true,
   "sideBar": false,
   "skip_h1_title": false,
   "title_cell": "Table of Contents",
   "title_sidebar": "Contents",
   "toc_cell": false,
   "toc_position": {
    "height": "420px",
    "left": "324px",
    "top": "110px",
    "width": "178.792px"
   },
   "toc_section_display": true,
   "toc_window_display": false
  }
 },
 "nbformat": 4,
 "nbformat_minor": 2
}
