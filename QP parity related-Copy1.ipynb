{
 "cells": [
  {
   "cell_type": "code",
   "execution_count": 3,
   "metadata": {},
   "outputs": [
    {
     "name": "stdout",
     "output_type": "stream",
     "text": [
      "Using matplotlib backend: TkAgg\n"
     ]
    }
   ],
   "source": [
    "%matplotlib\n",
    "import numpy as np\n",
    "import matplotlib.pyplot as plt"
   ]
  },
  {
   "cell_type": "code",
   "execution_count": 4,
   "metadata": {},
   "outputs": [],
   "source": [
    "filename = '/home/jaseung/Labshare/Experiments/DR1/Data/WiscCST/190704/QP_Parity_binary_25us_20000by288.txt'\n",
    "data2D = np.loadtxt(filename, delimiter=',')\n",
    "\n",
    "(r, c) = data2D.shape\n",
    "\n",
    "data2D_FFT_magSqr= data2D.copy()\n",
    "\n",
    "for i in range(c):\n",
    "    data2D_FFT_magSqr[:, i] = np.absolute(np.fft.fft(data2D[:,i]))**2"
   ]
  },
  {
   "cell_type": "code",
   "execution_count": 13,
   "metadata": {},
   "outputs": [],
   "source": [
    "traceIndex = 50\n",
    "trace = data2D_FFT_magSqr[:,traceIndex]"
   ]
  },
  {
   "cell_type": "code",
   "execution_count": 14,
   "metadata": {},
   "outputs": [],
   "source": [
    "plt.plot(trace)\n",
    "plt.yscale('log')\n",
    "plt.xscale('log')"
   ]
  },
  {
   "cell_type": "code",
   "execution_count": 19,
   "metadata": {},
   "outputs": [],
   "source": [
    "test = np.mean(data2D_FFT, axis=1)"
   ]
  },
  {
   "cell_type": "markdown",
   "metadata": {},
   "source": [
    "# Measurement histrogram and S-curve"
   ]
  },
  {
   "cell_type": "code",
   "execution_count": 16,
   "metadata": {},
   "outputs": [
    {
     "name": "stdout",
     "output_type": "stream",
     "text": [
      "Using matplotlib backend: TkAgg\n"
     ]
    },
    {
     "data": {
      "text/plain": [
       "[<matplotlib.lines.Line2D at 0x7f6ccd007e48>,\n",
       " <matplotlib.lines.Line2D at 0x7f6cc7068320>,\n",
       " <matplotlib.lines.Line2D at 0x7f6cc7068a58>,\n",
       " <matplotlib.lines.Line2D at 0x7f6cc7068be0>]"
      ]
     },
     "execution_count": 16,
     "metadata": {},
     "output_type": "execute_result"
    }
   ],
   "source": [
    "%matplotlib\n",
    "import numpy as np\n",
    "import matplotlib.pyplot as plt\n",
    "from scipy import integrate\n",
    "\n",
    "xg, xe = -1, 1\n",
    "sig_g, sig_e =  1.5, 1.5\n",
    "\n",
    "x = np.linspace(-5, 5, 1000)\n",
    "yg = lambda x: np.exp(-((x-xg)/sig_g)**2)\n",
    "ye = lambda x: np.exp(-((x-xe)/sig_e)**2)\n",
    "\n",
    "yg_integ_func = lambda t: integrate.quad(yg, x[0], t)\n",
    "ye_integ_func = lambda t: integrate.quad(ye, x[0], t)\n",
    "\n",
    "yg_integ = [yg_integ_func(t) for t in x]\n",
    "ye_integ = [ye_integ_func(t) for t in x]\n",
    "\n",
    "\n",
    "plt.plot(x, yg(x), x,ye(x))\n",
    "plt.plot(x, yg_integ, x, ye_integ)\n"
   ]
  },
  {
   "cell_type": "markdown",
   "metadata": {},
   "source": [
    "# Lorentzian power spectrum"
   ]
  },
  {
   "cell_type": "code",
   "execution_count": 17,
   "metadata": {},
   "outputs": [
    {
     "name": "stdout",
     "output_type": "stream",
     "text": [
      "Using matplotlib backend: TkAgg\n"
     ]
    }
   ],
   "source": [
    "%matplotlib\n",
    "import numpy as np\n",
    "import matplotlib.pyplot as plt\n",
    "\n",
    "f = np.logspace(0.1, 5, 100)\n",
    "# f = np.linspace(0.1, 1e5, 10000)\n",
    "\n",
    "lor = 1 / (1 + 1e-5*f**2)\n",
    "\n",
    "plt.plot(f, lor,'.')\n",
    "plt.xscale('log')\n",
    "plt.yscale('log')\n"
   ]
  },
  {
   "cell_type": "code",
   "execution_count": 36,
   "metadata": {},
   "outputs": [],
   "source": [
    "np.logspace?"
   ]
  },
  {
   "cell_type": "code",
   "execution_count": 27,
   "metadata": {},
   "outputs": [
    {
     "data": {
      "text/plain": [
       "32689.961900148155"
      ]
     },
     "execution_count": 27,
     "metadata": {},
     "output_type": "execute_result"
    }
   ],
   "source": [
    "f[900]"
   ]
  },
  {
   "cell_type": "code",
   "execution_count": null,
   "metadata": {},
   "outputs": [],
   "source": []
  },
  {
   "cell_type": "code",
   "execution_count": null,
   "metadata": {},
   "outputs": [],
   "source": []
  }
 ],
 "metadata": {
  "kernelspec": {
   "display_name": "Python 3",
   "language": "python",
   "name": "python3"
  },
  "language_info": {
   "codemirror_mode": {
    "name": "ipython",
    "version": 3
   },
   "file_extension": ".py",
   "mimetype": "text/x-python",
   "name": "python",
   "nbconvert_exporter": "python",
   "pygments_lexer": "ipython3",
   "version": "3.6.8"
  },
  "toc": {
   "base_numbering": 1,
   "nav_menu": {},
   "number_sections": true,
   "sideBar": true,
   "skip_h1_title": false,
   "title_cell": "Table of Contents",
   "title_sidebar": "Contents",
   "toc_cell": false,
   "toc_position": {},
   "toc_section_display": true,
   "toc_window_display": false
  }
 },
 "nbformat": 4,
 "nbformat_minor": 2
}
