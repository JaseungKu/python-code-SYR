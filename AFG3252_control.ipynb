{
 "cells": [
  {
   "cell_type": "markdown",
   "metadata": {},
   "source": [
    "# Initial setup"
   ]
  },
  {
   "cell_type": "code",
   "execution_count": 1,
   "metadata": {
    "collapsed": true
   },
   "outputs": [],
   "source": [
    "import visa\n",
    "from imp import reload\n",
    "import sys\n",
    "sys.path.append('Instrument Driver') # path added\n",
    "sys.path.append('..\\Helper') # path added\n",
    "import AFG3252"
   ]
  },
  {
   "cell_type": "code",
   "execution_count": 2,
   "metadata": {
    "collapsed": true
   },
   "outputs": [],
   "source": [
    "# reload(AFG3252)  # run this if AFG3252 module is modified."
   ]
  },
  {
   "cell_type": "code",
   "execution_count": 3,
   "metadata": {},
   "outputs": [
    {
     "data": {
      "text/plain": [
       "('ASRL1::INSTR',\n",
       " 'ASRL3::INSTR',\n",
       " 'ASRL6::INSTR',\n",
       " 'ASRL7::INSTR',\n",
       " 'ASRL8::INSTR',\n",
       " 'ASRL10::INSTR',\n",
       " 'GPIB0::2::INSTR',\n",
       " 'GPIB0::10::INSTR',\n",
       " 'GPIB0::20::INSTR',\n",
       " 'GPIB0::16::INSTR',\n",
       " 'GPIB0::18::INSTR',\n",
       " 'PXI0::3-1.0::INSTR')"
      ]
     },
     "execution_count": 3,
     "metadata": {},
     "output_type": "execute_result"
    }
   ],
   "source": [
    "# Run this to find resource name\n",
    "visa.ResourceManager().list_resources()"
   ]
  },
  {
   "cell_type": "markdown",
   "metadata": {},
   "source": [
    "# Set AFG3252"
   ]
  },
  {
   "cell_type": "code",
   "execution_count": 8,
   "metadata": {
    "collapsed": true
   },
   "outputs": [],
   "source": [
    "awg= AFG3252.AFG3252('USB0::0x0699::0x0347::C033963::INSTR')"
   ]
  },
  {
   "cell_type": "code",
   "execution_count": 11,
   "metadata": {
    "collapsed": true
   },
   "outputs": [],
   "source": [
    "period = 200 # in us unit\n",
    "width = 0.2 # in us unit\n",
    "delay1, delay2 = 0.5, 0 # in us unit. \n",
    "high1, low1 = 1, 0   # in V unit\n",
    "high2, low2 = 2, 0\n",
    "\n",
    "awg.setPulsePeriod(1, period)\n",
    "awg.setPulsePeriod(2, period)\n",
    "\n",
    "#awg.setFreqConCurrent('OFF')  # To make sure Ch1 and Ch2 synchronized. \n",
    "#awg.setFreqConCurrent('ON')   # To make sure Ch1 and Ch2 synchronized. \n",
    "\n",
    "awg.setPulseWidth(1, width)\n",
    "awg.setPulseWidth(2, width)\n",
    "\n",
    "awg.setPulseDealy(1, delay1)\n",
    "\n",
    "awg.setAmpHighLow(1, high1, low1) # in V unit\n",
    "awg.setAmpHighLow(2, high2, low2)\n",
    "\n",
    "awg.setClkRef('EXT')  # To make sure Ch1 and Ch2 synchronized. \n",
    "awg.setClkRef('INT')\n",
    "\n",
    "# add a code to turn on channel Not done yet.\n",
    "# awg.setOutputImp(1, 50)\n",
    "# awg.setOutputImp(2, 50)\n",
    "# awg.setOutputState(1, 'ON')\n",
    "# awg.setOutputState(2, 'ON')"
   ]
  },
  {
   "cell_type": "code",
   "execution_count": 1,
   "metadata": {
    "collapsed": true
   },
   "outputs": [],
   "source": [
    "import visa"
   ]
  },
  {
   "cell_type": "code",
   "execution_count": 2,
   "metadata": {},
   "outputs": [
    {
     "data": {
      "text/plain": [
       "['',\n",
       " 'Z:\\\\Experiments\\\\DR2\\\\QGL-last-matlab',\n",
       " 'C:\\\\Anaconda3\\\\python36.zip',\n",
       " 'C:\\\\Anaconda3\\\\DLLs',\n",
       " 'C:\\\\Anaconda3\\\\lib',\n",
       " 'C:\\\\Anaconda3',\n",
       " 'C:\\\\Anaconda3\\\\lib\\\\site-packages',\n",
       " 'C:\\\\Anaconda3\\\\lib\\\\site-packages\\\\Babel-2.5.0-py3.6.egg',\n",
       " 'z:\\\\experiments\\\\dr2\\\\auspex\\\\src',\n",
       " 'z:\\\\experiments\\\\dr2\\\\quince',\n",
       " 'C:\\\\Anaconda3\\\\lib\\\\site-packages\\\\libalazar-0.1.0-py3.6.egg',\n",
       " 'C:\\\\Anaconda3\\\\lib\\\\site-packages\\\\libaps2-1.3-py3.6.egg',\n",
       " 'C:\\\\Anaconda3\\\\lib\\\\site-packages\\\\win32',\n",
       " 'C:\\\\Anaconda3\\\\lib\\\\site-packages\\\\win32\\\\lib',\n",
       " 'C:\\\\Anaconda3\\\\lib\\\\site-packages\\\\Pythonwin',\n",
       " 'C:\\\\Anaconda3\\\\lib\\\\site-packages\\\\IPython\\\\extensions',\n",
       " 'C:\\\\Users\\\\Lab User\\\\.ipython']"
      ]
     },
     "execution_count": 2,
     "metadata": {},
     "output_type": "execute_result"
    }
   ],
   "source": [
    "import sys\n",
    "sys.path"
   ]
  },
  {
   "cell_type": "code",
   "execution_count": 1,
   "metadata": {
    "collapsed": true
   },
   "outputs": [],
   "source": [
    "import visa"
   ]
  },
  {
   "cell_type": "code",
   "execution_count": 2,
   "metadata": {},
   "outputs": [
    {
     "data": {
      "text/plain": [
       "['',\n",
       " 'Z:\\\\Experiments\\\\DR2\\\\QGL-last-matlab',\n",
       " 'C:\\\\Anaconda3\\\\python36.zip',\n",
       " 'C:\\\\Anaconda3\\\\DLLs',\n",
       " 'C:\\\\Anaconda3\\\\lib',\n",
       " 'C:\\\\Anaconda3',\n",
       " 'C:\\\\Anaconda3\\\\lib\\\\site-packages',\n",
       " 'C:\\\\Anaconda3\\\\lib\\\\site-packages\\\\Babel-2.5.0-py3.6.egg',\n",
       " 'z:\\\\experiments\\\\dr2\\\\auspex\\\\src',\n",
       " 'z:\\\\experiments\\\\dr2\\\\quince',\n",
       " 'C:\\\\Anaconda3\\\\lib\\\\site-packages\\\\libalazar-0.1.0-py3.6.egg',\n",
       " 'C:\\\\Anaconda3\\\\lib\\\\site-packages\\\\libaps2-1.3-py3.6.egg',\n",
       " 'C:\\\\Anaconda3\\\\lib\\\\site-packages\\\\win32',\n",
       " 'C:\\\\Anaconda3\\\\lib\\\\site-packages\\\\win32\\\\lib',\n",
       " 'C:\\\\Anaconda3\\\\lib\\\\site-packages\\\\Pythonwin',\n",
       " 'C:\\\\Anaconda3\\\\lib\\\\site-packages\\\\IPython\\\\extensions',\n",
       " 'C:\\\\Users\\\\Lab User\\\\.ipython']"
      ]
     },
     "execution_count": 2,
     "metadata": {},
     "output_type": "execute_result"
    }
   ],
   "source": [
    "import sys\n",
    "sys.path\n"
   ]
  },
  {
   "cell_type": "code",
   "execution_count": null,
   "metadata": {
    "collapsed": true
   },
   "outputs": [],
   "source": []
  }
 ],
 "metadata": {
  "anaconda-cloud": {},
  "kernelspec": {
   "display_name": "Python 3",
   "language": "python",
   "name": "python3"
  },
  "language_info": {
   "codemirror_mode": {
    "name": "ipython",
    "version": 3
   },
   "file_extension": ".py",
   "mimetype": "text/x-python",
   "name": "python",
   "nbconvert_exporter": "python",
   "pygments_lexer": "ipython3",
   "version": "3.8.2"
  },
  "toc": {
   "base_numbering": 1,
   "nav_menu": {},
   "number_sections": true,
   "sideBar": true,
   "skip_h1_title": false,
   "title_cell": "Table of Contents",
   "title_sidebar": "Contents",
   "toc_cell": false,
   "toc_position": {},
   "toc_section_display": "block",
   "toc_window_display": false
  }
 },
 "nbformat": 4,
 "nbformat_minor": 1
}
