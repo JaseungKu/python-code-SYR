{
 "cells": [
  {
   "cell_type": "code",
   "execution_count": 104,
   "metadata": {
    "ExecuteTime": {
     "end_time": "2019-12-11T01:25:38.996024Z",
     "start_time": "2019-12-11T01:25:38.976037Z"
    }
   },
   "outputs": [],
   "source": [
    "import h5py\n",
    "\n",
    "f = h5py.File(r'Z:\\Logs\\ADR2\\ADR2 Log\\2019-12\\ADR2 Log-20191210.hdf5', 'r')\n",
    "# print(list(f.keys()))\n",
    "# chan_1 = f['chan_1']\n",
    "# print(list(chan_1.keys()))\n",
    "# # chan_1_inst = chan_1['instructions']\n",
    "# print(chan_1_inst.value)\n",
    "# chan_1_inst_value = chan_1_inst.value\n",
    "# print(len(chan_1_inst_value))\n",
    "# chan_1_inst_value[0]"
   ]
  },
  {
   "cell_type": "code",
   "execution_count": 153,
   "metadata": {
    "ExecuteTime": {
     "end_time": "2019-12-11T01:48:15.780716Z",
     "start_time": "2019-12-11T01:48:15.760718Z"
    }
   },
   "outputs": [
    {
     "data": {
      "text/plain": [
       "'Z:\\\\Logs\\\\ADR2\\\\ADR2 Log\\\\2019-12\\\\ADR2 Log-20191210.hdf5'"
      ]
     },
     "execution_count": 153,
     "metadata": {},
     "output_type": "execute_result"
    }
   ],
   "source": [
    "import os\n",
    "log_folder = 'Z:\\Logs\\ADR2'\n",
    "log_subfolder = 'ADR2 Log'\n",
    "\n",
    "month_folder = datetime.date.strftime(datetime.date.today(), '%Y-%m')\n",
    "filename = ''.join([log_subfolder, '-', datetime.date.strftime(datetime.date.today(), '%Y%m%d'),'.hdf5'])\n",
    "fn = os.path.join(log_folder, log_subfolder, month_folder, filename)\n",
    "with h5py.File(fn, 'r') as f:\n",
    "    pass\n",
    "fn"
   ]
  },
  {
   "cell_type": "code",
   "execution_count": 155,
   "metadata": {
    "ExecuteTime": {
     "end_time": "2019-12-11T15:06:16.708222Z",
     "start_time": "2019-12-11T15:06:16.688222Z"
    }
   },
   "outputs": [
    {
     "data": {
      "text/plain": [
       "'2019-06'"
      ]
     },
     "execution_count": 155,
     "metadata": {},
     "output_type": "execute_result"
    }
   ],
   "source": [
    "import datetime\n",
    "\n",
    "datetime.date.strftime(datetime.date(2019,6,2), '%Y-%m')"
   ]
  },
  {
   "cell_type": "code",
   "execution_count": null,
   "metadata": {},
   "outputs": [],
   "source": []
  },
  {
   "cell_type": "code",
   "execution_count": 145,
   "metadata": {
    "ExecuteTime": {
     "end_time": "2019-12-11T01:42:16.769689Z",
     "start_time": "2019-12-11T01:42:16.759686Z"
    }
   },
   "outputs": [],
   "source": [
    "f.close()"
   ]
  },
  {
   "cell_type": "code",
   "execution_count": 105,
   "metadata": {
    "ExecuteTime": {
     "end_time": "2019-12-11T01:25:42.495823Z",
     "start_time": "2019-12-11T01:25:42.475824Z"
    }
   },
   "outputs": [
    {
     "data": {
      "text/plain": [
       "['Channels',\n",
       " 'Data',\n",
       " 'Instrument config',\n",
       " 'Instruments',\n",
       " 'Log list',\n",
       " 'Settings',\n",
       " 'Step config',\n",
       " 'Step list',\n",
       " 'Tags']"
      ]
     },
     "execution_count": 105,
     "metadata": {},
     "output_type": "execute_result"
    }
   ],
   "source": [
    "list(f.keys())"
   ]
  },
  {
   "cell_type": "code",
   "execution_count": 15,
   "metadata": {
    "ExecuteTime": {
     "end_time": "2019-12-10T21:06:51.276101Z",
     "start_time": "2019-12-10T21:06:51.266102Z"
    }
   },
   "outputs": [
    {
     "data": {
      "text/plain": [
       "[<HDF5 dataset \"Channels\": shape (8,), type \"|V115\">,\n",
       " <HDF5 group \"/Instrument config\" (3 members)>,\n",
       " <HDF5 dataset \"Instruments\": shape (3,), type \"|V141\">,\n",
       " <HDF5 dataset \"Log list\": shape (5,), type \"|V8\">,\n",
       " <HDF5 group \"/Settings\" (0 members)>,\n",
       " <HDF5 group \"/Step config\" (0 members)>,\n",
       " <HDF5 dataset \"Step list\": shape (0,), type \"|V50\">,\n",
       " <HDF5 group \"/Tags\" (0 members)>,\n",
       " <HDF5 group \"/Views\" (1 members)>]"
      ]
     },
     "execution_count": 15,
     "metadata": {},
     "output_type": "execute_result"
    }
   ],
   "source": [
    "list(f.values())"
   ]
  },
  {
   "cell_type": "code",
   "execution_count": 107,
   "metadata": {
    "ExecuteTime": {
     "end_time": "2019-12-11T01:26:40.331277Z",
     "start_time": "2019-12-11T01:26:40.311290Z"
    }
   },
   "outputs": [
    {
     "data": {
      "text/plain": [
       "[('GGG',), ('FAA',), ('3K',), ('50K',), ('Induct. Volt',)]"
      ]
     },
     "execution_count": 107,
     "metadata": {},
     "output_type": "execute_result"
    }
   ],
   "source": [
    "list(f['Log list'])"
   ]
  },
  {
   "cell_type": "code",
   "execution_count": 27,
   "metadata": {
    "ExecuteTime": {
     "end_time": "2019-12-10T21:10:20.449182Z",
     "start_time": "2019-12-10T21:10:20.439184Z"
    }
   },
   "outputs": [
    {
     "data": {
      "text/plain": [
       "['Channels',\n",
       " 'Data',\n",
       " 'Instrument config',\n",
       " 'Instruments',\n",
       " 'Log list',\n",
       " 'Settings',\n",
       " 'Step config',\n",
       " 'Step list',\n",
       " 'Tags']"
      ]
     },
     "execution_count": 27,
     "metadata": {},
     "output_type": "execute_result"
    }
   ],
   "source": [
    "list(f)"
   ]
  },
  {
   "cell_type": "code",
   "execution_count": 93,
   "metadata": {
    "ExecuteTime": {
     "end_time": "2019-12-10T21:31:22.542309Z",
     "start_time": "2019-12-10T21:31:21.052394Z"
    },
    "scrolled": false
   },
   "outputs": [],
   "source": [
    "a =list(f['Data'])\n",
    "line = [i[1] for i in a]"
   ]
  },
  {
   "cell_type": "code",
   "execution_count": 96,
   "metadata": {
    "ExecuteTime": {
     "end_time": "2019-12-10T21:31:40.301297Z",
     "start_time": "2019-12-10T21:31:40.291298Z"
    }
   },
   "outputs": [
    {
     "data": {
      "text/plain": [
       "-0.0084"
      ]
     },
     "execution_count": 96,
     "metadata": {},
     "output_type": "execute_result"
    }
   ],
   "source": [
    "f['Data'][-1][5]"
   ]
  },
  {
   "cell_type": "code",
   "execution_count": 59,
   "metadata": {
    "ExecuteTime": {
     "end_time": "2019-12-10T21:17:22.428437Z",
     "start_time": "2019-12-10T21:17:22.368439Z"
    }
   },
   "outputs": [
    {
     "name": "stdout",
     "output_type": "stream",
     "text": [
      "Using matplotlib backend: Qt5Agg\n"
     ]
    },
    {
     "data": {
      "text/plain": [
       "[<matplotlib.lines.Line2D at 0x1f2f43d0a58>]"
      ]
     },
     "execution_count": 59,
     "metadata": {},
     "output_type": "execute_result"
    }
   ],
   "source": [
    "%matplotlib\n",
    "import matplotlib.pyplot as plt\n",
    "\n",
    "plt.plot(line)"
   ]
  },
  {
   "cell_type": "code",
   "execution_count": 88,
   "metadata": {
    "ExecuteTime": {
     "end_time": "2019-12-10T21:28:34.871350Z",
     "start_time": "2019-12-10T21:28:34.851348Z"
    }
   },
   "outputs": [],
   "source": [
    "f.flush()"
   ]
  },
  {
   "cell_type": "code",
   "execution_count": null,
   "metadata": {},
   "outputs": [],
   "source": []
  }
 ],
 "metadata": {
  "kernelspec": {
   "display_name": "Python 3",
   "language": "python",
   "name": "python3"
  },
  "language_info": {
   "codemirror_mode": {
    "name": "ipython",
    "version": 3
   },
   "file_extension": ".py",
   "mimetype": "text/x-python",
   "name": "python",
   "nbconvert_exporter": "python",
   "pygments_lexer": "ipython3",
   "version": "3.7.3"
  },
  "toc": {
   "base_numbering": 1,
   "nav_menu": {},
   "number_sections": true,
   "sideBar": true,
   "skip_h1_title": false,
   "title_cell": "Table of Contents",
   "title_sidebar": "Contents",
   "toc_cell": false,
   "toc_position": {},
   "toc_section_display": true,
   "toc_window_display": false
  }
 },
 "nbformat": 4,
 "nbformat_minor": 2
}
