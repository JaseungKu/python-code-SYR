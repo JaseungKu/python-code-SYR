{
 "cells": [
  {
   "cell_type": "markdown",
   "metadata": {},
   "source": [
    "# Cool down ADR1"
   ]
  },
  {
   "cell_type": "markdown",
   "metadata": {},
   "source": [
    "## Run 'Logger Acquire' if it's not running. Then run 'Logger Visualize' to plot temperatures "
   ]
  },
  {
   "cell_type": "markdown",
   "metadata": {},
   "source": [
    "## Close heat switch. Important!"
   ]
  },
  {
   "cell_type": "code",
   "execution_count": 2,
   "metadata": {
    "ExecuteTime": {
     "end_time": "2019-12-05T22:31:31.439718Z",
     "start_time": "2019-12-05T22:31:26.420007Z"
    }
   },
   "outputs": [
    {
     "name": "stderr",
     "output_type": "stream",
     "text": [
      "INFO:root:Heat switch closed @18:04:02.\n"
     ]
    }
   ],
   "source": [
    "import ADR1MagCycle\n",
    "ADR1MagCycle.MagCycle.close_heat_switch()    # closes heat switch"
   ]
  },
  {
   "cell_type": "markdown",
   "metadata": {},
   "source": [
    "## Pump vaccum can down to low $10^{-4}$ Torr."
   ]
  },
  {
   "cell_type": "markdown",
   "metadata": {},
   "source": [
    "## Turn on compressor & cooling water. Make sure the oil temperature in  85-105 F."
   ]
  },
  {
   "cell_type": "markdown",
   "metadata": {},
   "source": [
    "# While ADR1 is cold ..."
   ]
  },
  {
   "cell_type": "markdown",
   "metadata": {},
   "source": [
    "## Run Mag Cycle immediately"
   ]
  },
  {
   "cell_type": "code",
   "execution_count": 3,
   "metadata": {
    "ExecuteTime": {
     "end_time": "2019-12-06T19:58:23.487159Z",
     "start_time": "2019-12-06T17:19:12.715240Z"
    },
    "scrolled": false
   },
   "outputs": [
    {
     "name": "stderr",
     "output_type": "stream",
     "text": [
      "INFO:root:Mag cycle started @10:19:59!\n",
      "INFO:root:All instrument connected\n",
      "INFO:root:Magup started @10:20:02!\n",
      "INFO:root:Voltage is ramping up...\n",
      "INFO:root:Heat switch closed @10:33:40.\n",
      "INFO:root:Waiting to reach the max current 9.2 A...\n",
      "INFO:root:Current reached the max current 9.2 A...\n",
      "INFO:root:Magup finished @10:58:11!!\n",
      "INFO:root:Heat switch opened @10:58:16.\n",
      "INFO:root:Heat switch closed @10:58:21.\n",
      "INFO:root:Soak started @10:58:21 and will last for 1 hr.\n",
      "INFO:root:Soak finished @11:58:33\n",
      "INFO:root:Magdown started @11:58:33!\n",
      "INFO:root:Heat switch opened @11:58:38.\n",
      "INFO:root:Voltage is ramping down to zero...\n",
      "INFO:root:Waiting to reach 0 A...\n",
      "INFO:root:Magdown finished @13:39:50!\n",
      "INFO:root:Mag cycle ended @13:39:50! Yeah!\n"
     ]
    }
   ],
   "source": [
    "%matplotlib qt5\n",
    "import ADR1MagCycle\n",
    "\n",
    "how_long_to_soak = 1 # in hour\n",
    "\n",
    "ADR1MagCycle.MagCycle.run_mag_cycle(soak_hour=how_long_to_soak)"
   ]
  },
  {
   "cell_type": "markdown",
   "metadata": {},
   "source": [
    "## Run a scheduled Mag Cycle"
   ]
  },
  {
   "cell_type": "code",
   "execution_count": 3,
   "metadata": {
    "scrolled": false
   },
   "outputs": [
    {
     "name": "stdout",
     "output_type": "stream",
     "text": [
      "Scheduled date/time are correct? (y/n)y\n"
     ]
    },
    {
     "name": "stderr",
     "output_type": "stream",
     "text": [
      "INFO:root:Mag cycle is scheduled to start @12/20/19. 07:00:00\n",
      "INFO:root:Waiting to start a mag cycle...\n",
      "INFO:root:Mag cycle started @07:00:59!\n",
      "INFO:root:All instrument connected\n",
      "INFO:root:Magup started @07:01:03!\n",
      "INFO:root:Voltage is ramping up...\n",
      "INFO:root:Heat switch closed @07:31:03.\n",
      "INFO:root:Waiting to reach the max current 9.2 A...\n",
      "INFO:root:Current reached the max current 9.2 A...\n",
      "INFO:root:Magup finished @07:39:10!!\n",
      "INFO:root:Heat switch opened @07:39:15.\n",
      "INFO:root:Heat switch closed @07:39:20.\n",
      "INFO:root:Soak started @07:39:20 and will last for 1 hr.\n",
      "INFO:root:Soak finished @08:39:32\n",
      "INFO:root:Magdown started @08:39:32!\n",
      "INFO:root:Heat switch opened @08:39:37.\n",
      "INFO:root:Voltage is ramping down to zero...\n",
      "INFO:root:Waiting to reach 0 A...\n",
      "INFO:root:Magdown finished @10:20:09!\n",
      "INFO:root:Mag cycle ended @10:20:09! Yeah!\n",
      "INFO:root:Scheduled mag cycle is complete @12/20/19, 10:20:09! Yeah!\n"
     ]
    }
   ],
   "source": [
    "%matplotlib qt5\n",
    "import ADR1MagCycle\n",
    "import datetime\n",
    "\n",
    "# Schedule a mag cycle to start at specific date and time. \n",
    "# Take into account that the magup and magdown normally take ~2.5 hr in total.\n",
    "scheduled_datetime = datetime.datetime(2019, 12, 20, 7, 0) # (year, month, day, hour, minute)\n",
    "how_long_to_soak = 1  # in hours\n",
    "\n",
    "ADR1MagCycle.MagCycle.schedule_mag_cycle(scheduled_datetime, soak_hour=how_long_to_soak)"
   ]
  },
  {
   "cell_type": "markdown",
   "metadata": {},
   "source": [
    "# Warm up ADR1"
   ]
  },
  {
   "cell_type": "markdown",
   "metadata": {},
   "source": [
    "## (Optional) Close heat switch"
   ]
  },
  {
   "cell_type": "code",
   "execution_count": 5,
   "metadata": {},
   "outputs": [
    {
     "ename": "TypeError",
     "evalue": "close_heat_switch() takes 0 positional arguments but 1 was given",
     "output_type": "error",
     "traceback": [
      "\u001b[1;31m---------------------------------------------------------------------------\u001b[0m",
      "\u001b[1;31mTypeError\u001b[0m                                 Traceback (most recent call last)",
      "\u001b[1;32m<ipython-input-5-09837498ad7a>\u001b[0m in \u001b[0;36m<module>\u001b[1;34m\u001b[0m\n\u001b[0;32m      1\u001b[0m \u001b[1;32mimport\u001b[0m \u001b[0mADR1MagCycle\u001b[0m\u001b[1;33m\u001b[0m\u001b[1;33m\u001b[0m\u001b[0m\n\u001b[1;32m----> 2\u001b[1;33m \u001b[0mADR1MagCycle\u001b[0m\u001b[1;33m.\u001b[0m\u001b[0mMagCycle\u001b[0m\u001b[1;33m.\u001b[0m\u001b[0mclose_heat_switch\u001b[0m\u001b[1;33m(\u001b[0m\u001b[1;33m)\u001b[0m\u001b[1;33m\u001b[0m\u001b[1;33m\u001b[0m\u001b[0m\n\u001b[0m",
      "\u001b[1;31mTypeError\u001b[0m: close_heat_switch() takes 0 positional arguments but 1 was given"
     ]
    }
   ],
   "source": [
    "import ADR1MagCycle\n",
    "ADR1MagCycle.MagCycle.close_heat_switch()"
   ]
  },
  {
   "cell_type": "markdown",
   "metadata": {},
   "source": [
    "## Turn off compressor & cooling water. "
   ]
  },
  {
   "cell_type": "markdown",
   "metadata": {},
   "source": [
    "## Inject a puff of nitrogen gas into the fridge. The end!"
   ]
  },
  {
   "cell_type": "markdown",
   "metadata": {},
   "source": [
    "If you want faster warm-up, vent the fridge up to 1 atm and set up a fan once all temperatures get higher than 77K."
   ]
  }
 ],
 "metadata": {
  "kernelspec": {
   "display_name": "Python 3",
   "language": "python",
   "name": "python3"
  },
  "language_info": {
   "codemirror_mode": {
    "name": "ipython",
    "version": 3
   },
   "file_extension": ".py",
   "mimetype": "text/x-python",
   "name": "python",
   "nbconvert_exporter": "python",
   "pygments_lexer": "ipython3",
   "version": "3.6.9"
  },
  "toc": {
   "base_numbering": 1,
   "nav_menu": {},
   "number_sections": true,
   "sideBar": true,
   "skip_h1_title": false,
   "title_cell": "Table of Contents",
   "title_sidebar": "Contents",
   "toc_cell": false,
   "toc_position": {},
   "toc_section_display": true,
   "toc_window_display": true
  }
 },
 "nbformat": 4,
 "nbformat_minor": 2
}
