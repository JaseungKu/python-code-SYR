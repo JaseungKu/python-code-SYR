{
 "cells": [
  {
   "cell_type": "markdown",
   "metadata": {},
   "source": [
    "# Cool down ADR1"
   ]
  },
  {
   "cell_type": "markdown",
   "metadata": {},
   "source": [
    "## Run 'Logger Acquire' if it's not running. Then run 'Logger Visualize' to plot temperatures "
   ]
  },
  {
   "cell_type": "markdown",
   "metadata": {},
   "source": [
    "## Close heat switch. Important!"
   ]
  },
  {
   "cell_type": "code",
   "execution_count": 5,
   "metadata": {
    "ExecuteTime": {
     "end_time": "2019-12-05T22:31:31.439718Z",
     "start_time": "2019-12-05T22:31:26.420007Z"
    }
   },
   "outputs": [
    {
     "name": "stderr",
     "output_type": "stream",
     "text": [
      "INFO:root:Heat switch closed @04/30/21, 23:08:10.\n"
     ]
    }
   ],
   "source": [
    "import ADR1MagCycle\n",
    "ADR1MagCycle.MagCycle.close_heat_switch()    # closes heat switch"
   ]
  },
  {
   "cell_type": "code",
   "execution_count": null,
   "metadata": {},
   "outputs": [],
   "source": [
    "import ADR1MagCycle\n",
    "ADR1MagCycle.MagCycle.open_heat_switch()    # open heat switch"
   ]
  },
  {
   "cell_type": "markdown",
   "metadata": {},
   "source": [
    "## Pump vaccum can down to low $10^{-4}$ Torr."
   ]
  },
  {
   "cell_type": "markdown",
   "metadata": {},
   "source": [
    "## Turn on compressor & cooling water. Make sure the oil temperature in  85-105 F."
   ]
  },
  {
   "cell_type": "markdown",
   "metadata": {},
   "source": [
    "# While ADR1 is cold ..."
   ]
  },
  {
   "cell_type": "markdown",
   "metadata": {},
   "source": [
    "## Run Mag Cycle immediately"
   ]
  },
  {
   "cell_type": "code",
   "execution_count": 2,
   "metadata": {
    "ExecuteTime": {
     "end_time": "2019-12-06T19:58:23.487159Z",
     "start_time": "2019-12-06T17:19:12.715240Z"
    },
    "scrolled": false
   },
   "outputs": [
    {
     "name": "stderr",
     "output_type": "stream",
     "text": [
      "INFO:root:Mag cycle started @09:05:42!\n",
      "INFO:root:All instrument connected\n",
      "INFO:root:Magup started @09:05:45!\n",
      "INFO:root:Voltage is ramping up...\n",
      "INFO:root:Heat switch closed @09:35:32.\n",
      "INFO:root:Waiting to reach the max current 9.2 A...\n",
      "INFO:root:Current reached the max current 9.2 A...\n",
      "INFO:root:Magup finished @09:44:37!!\n",
      "INFO:root:Heat switch opened @09:44:42.\n",
      "INFO:root:Heat switch closed @09:44:47.\n",
      "INFO:root:Soak started @09:44:47 and will last for 1 hr.\n",
      "INFO:root:Soak finished @10:44:59\n",
      "INFO:root:Magdown started @10:44:59!\n",
      "INFO:root:Heat switch opened @10:45:04.\n",
      "INFO:root:Voltage is ramping down to zero...\n",
      "INFO:root:Waiting to reach 0 A...\n",
      "INFO:root:Magdown finished @11:58:17!\n",
      "INFO:root:Mag cycle ended @11:58:17! Yeah!\n"
     ]
    }
   ],
   "source": [
    "%matplotlib qt5\n",
    "import ADR1MagCycle\n",
    "\n",
    "#Note: Heat Switch wont close until FAA is ~3K\n",
    "#COM9 is the heat switch - Sometimes needs to be unplugged and plugged back in before first mag cycle. \n",
    "\n",
    "how_long_to_soak = 1 # in hour\n",
    "timestep_magup = 3 # in sec, default = 3\n",
    "timestep_magdown = 2 # in sec, default = 5\n",
    "\n",
    "ADR1MagCycle.MagCycle.run_mag_cycle(soak_hour=how_long_to_soak\n",
    "                                    , timestep_magup=timestep_magup\n",
    "                                    , timestep_magdown=timestep_magdown)"
   ]
  },
  {
   "cell_type": "code",
   "execution_count": null,
   "metadata": {},
   "outputs": [],
   "source": [
    "import ADR1MagCycle\n",
    "ADR1MagCycle.MagCycle.run_mag_down_only()"
   ]
  },
  {
   "cell_type": "markdown",
   "metadata": {},
   "source": [
    "## Run a scheduled Mag Cycle"
   ]
  },
  {
   "cell_type": "code",
   "execution_count": 3,
   "metadata": {
    "scrolled": false
   },
   "outputs": [
    {
     "name": "stdout",
     "output_type": "stream",
     "text": [
      "Scheduled date/time are correct? (y/n)y\n"
     ]
    },
    {
     "name": "stderr",
     "output_type": "stream",
     "text": [
      "INFO:root:Mag cycle is scheduled to start @05/05/21. 06:00:00\n",
      "INFO:root:Waiting to start a mag cycle...\n",
      "INFO:root:Mag cycle started @06:00:37!\n",
      "INFO:root:All instrument connected\n",
      "INFO:root:Magup started @06:00:41!\n",
      "INFO:root:Voltage is ramping up...\n",
      "INFO:root:Heat switch closed @06:31:27.\n",
      "INFO:root:Waiting to reach the max current 9.2 A...\n",
      "INFO:root:Current reached the max current 9.2 A...\n",
      "INFO:root:Magup finished @06:39:32!!\n",
      "INFO:root:Heat switch opened @06:39:37.\n",
      "INFO:root:Heat switch closed @06:39:42.\n",
      "INFO:root:Soak started @06:39:42 and will last for 1 hr.\n",
      "INFO:root:Soak finished @07:39:54\n",
      "INFO:root:Magdown started @07:39:54!\n",
      "INFO:root:Heat switch opened @07:39:59.\n",
      "INFO:root:Voltage is ramping down to zero...\n",
      "INFO:root:Waiting to reach 0 A...\n",
      "INFO:root:Magdown finished @08:53:16!\n",
      "INFO:root:Mag cycle ended @08:53:16! Yeah!\n",
      "INFO:root:Scheduled mag cycle is complete @05/05/21, 08:53:16! Yeah!\n"
     ]
    }
   ],
   "source": [
    "%matplotlib qt5\n",
    "import ADR1MagCycle\n",
    "import datetime\n",
    "\n",
    "# Schedule a mag cycle to start at specific date and time. \n",
    "# Take into account that the magup and magdown normally take ~2.5 hr in total.\n",
    "scheduled_datetime = datetime.datetime(2021, 5, 5, 6 , 0) # (year, month, day, hour, minute)\n",
    "how_long_to_soak = 1  # in hours\n",
    "timestep_magup = 3\n",
    "timestep_magdown = 2\n",
    "ADR1MagCycle.MagCycle.schedule_mag_cycle(scheduled_datetime\n",
    "                                         , soak_hour=how_long_to_soak\n",
    "                                         , timestep_magdown=timestep_magdown\n",
    "                                         , timestep_magup=timestep_magup)"
   ]
  },
  {
   "cell_type": "markdown",
   "metadata": {},
   "source": [
    "# Warm up ADR1"
   ]
  },
  {
   "cell_type": "markdown",
   "metadata": {},
   "source": [
    "## (Optional) Close heat switch"
   ]
  },
  {
   "cell_type": "code",
   "execution_count": 3,
   "metadata": {},
   "outputs": [
    {
     "name": "stderr",
     "output_type": "stream",
     "text": [
      "INFO:root:Heat switch closed @04/19/21, 14:42:15.\n"
     ]
    }
   ],
   "source": [
    "import ADR1MagCycle\n",
    "ADR1MagCycle.MagCycle.close_heat_switch()"
   ]
  },
  {
   "cell_type": "markdown",
   "metadata": {},
   "source": [
    "## Turn off compressor & cooling water. "
   ]
  },
  {
   "cell_type": "markdown",
   "metadata": {},
   "source": [
    "## Inject a puff of nitrogen gas into the fridge. The end!"
   ]
  },
  {
   "cell_type": "markdown",
   "metadata": {},
   "source": [
    "If you want faster warm-up, vent the fridge up to 1 atm and set up a fan once all temperatures get higher than 77K."
   ]
  }
 ],
 "metadata": {
  "kernelspec": {
   "display_name": "Python 3",
   "language": "python",
   "name": "python3"
  },
  "language_info": {
   "codemirror_mode": {
    "name": "ipython",
    "version": 3
   },
   "file_extension": ".py",
   "mimetype": "text/x-python",
   "name": "python",
   "nbconvert_exporter": "python",
   "pygments_lexer": "ipython3",
   "version": "3.8.5"
  },
  "toc": {
   "base_numbering": 1,
   "nav_menu": {},
   "number_sections": true,
   "sideBar": true,
   "skip_h1_title": false,
   "title_cell": "Table of Contents",
   "title_sidebar": "Contents",
   "toc_cell": false,
   "toc_position": {
    "height": "calc(100% - 180px)",
    "left": "10px",
    "top": "150px",
    "width": "165px"
   },
   "toc_section_display": true,
   "toc_window_display": true
  }
 },
 "nbformat": 4,
 "nbformat_minor": 2
}
