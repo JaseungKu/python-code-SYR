{
 "cells": [
  {
   "cell_type": "markdown",
   "metadata": {},
   "source": [
    "# Cool down ADR2"
   ]
  },
  {
   "cell_type": "markdown",
   "metadata": {},
   "source": [
    "## Run Logger Acquire if it's not running. Then run Logger Visualizer to plot temperatures"
   ]
  },
  {
   "cell_type": "markdown",
   "metadata": {},
   "source": [
    "## Close heat switch. Important!"
   ]
  },
  {
   "cell_type": "code",
   "execution_count": 9,
   "metadata": {
    "ExecuteTime": {
     "end_time": "2020-11-15T21:47:47.090064Z",
     "start_time": "2020-11-15T21:47:39.066194Z"
    }
   },
   "outputs": [
    {
     "name": "stderr",
     "output_type": "stream",
     "text": [
      "INFO:root:Heat switch closed @05/02/21, 17:31:36.\n"
     ]
    }
   ],
   "source": [
    "import ADR2MagCycle\n",
    "ADR2MagCycle.MagCycle.close_heat_switch()    # close heat switch\n",
    "# ADR2MagCycle.MagCycle.open_heat_switch()    # open heat switch"
   ]
  },
  {
   "cell_type": "markdown",
   "metadata": {},
   "source": [
    "## Pump vaccum can down to low $10^{-4}$ Torr."
   ]
  },
  {
   "cell_type": "markdown",
   "metadata": {},
   "source": [
    "## Turn on compressor & cooling water. Make sure the oil temperature is in the          range of 90-105 F."
   ]
  },
  {
   "cell_type": "markdown",
   "metadata": {},
   "source": [
    "# While ADR2 is cold..."
   ]
  },
  {
   "cell_type": "markdown",
   "metadata": {},
   "source": [
    "## Run Mag Cycle immediately"
   ]
  },
  {
   "cell_type": "code",
   "execution_count": 11,
   "metadata": {
    "ExecuteTime": {
     "end_time": "2020-11-08T15:51:46.040748Z",
     "start_time": "2020-11-08T12:57:05.933300Z"
    },
    "scrolled": true
   },
   "outputs": [
    {
     "name": "stderr",
     "output_type": "stream",
     "text": [
      "INFO:root:Mag cycle started @10:29:04!\n",
      "INFO:root:All instrument connected\n",
      "INFO:root:Magup started @10:29:09!\n",
      "INFO:root:Voltage is ramping up...\n",
      "INFO:root:Heat switch closed @10:59:58.\n",
      "INFO:root:Waiting to reach the max current 9.2 A...\n",
      "INFO:root:Current reached the max current 9.2 A...\n",
      "INFO:root:Magup finished @11:04:09!!\n",
      "INFO:root:Heat switch opened @11:04:14.\n",
      "INFO:root:Heat switch closed @11:04:19.\n",
      "INFO:root:Soak started @11:04:19 and will last for 1 hr.\n",
      "INFO:root:Soak finished @12:04:38\n",
      "INFO:root:Magdown started @12:04:38!\n",
      "INFO:root:Heat switch opened @12:04:43.\n",
      "INFO:root:Voltage is ramping down to zero...\n",
      "INFO:root:Waiting to reach 0 A...\n",
      "INFO:root:Magdown finished @13:37:53!\n",
      "INFO:root:Mag cycle is completed @13:37:53! Yeah!\n"
     ]
    }
   ],
   "source": [
    "%matplotlib qt5\n",
    "import ADR2MagCycle\n",
    "\n",
    "how_long_to_soak = 1 # in hour\n",
    "timestep_magup = 3 # in sec, default = 3\n",
    "timestep_magdown = 5 # in sec, default = 5\n",
    "\n",
    "ADR2MagCycle.MagCycle.run_mag_cycle(soak_hour=how_long_to_soak\n",
    "                                    , timestep_magup=timestep_magup\n",
    "                                    , timestep_magdown=timestep_magdown)"
   ]
  },
  {
   "cell_type": "markdown",
   "metadata": {},
   "source": [
    "+## Run a scheduled Mag Cycle"
   ]
  },
  {
   "cell_type": "code",
   "execution_count": null,
   "metadata": {
    "ExecuteTime": {
     "end_time": "2020-11-03T19:15:52.002533Z",
     "start_time": "2020-11-03T19:15:43.612538Z"
    },
    "scrolled": false
   },
   "outputs": [
    {
     "name": "stderr",
     "output_type": "stream",
     "text": [
      "C:\\ProgramData\\Anaconda3\\lib\\site-packages\\visa.py:13: FutureWarning: The visa module provided by PyVISA is being deprecated. You can replace `import visa` by `import pyvisa as visa` to achieve the same effect.\n",
      "\n",
      "The reason for the deprecation is the possible conflict with the visa package provided by the https://github.com/visa-sdk/visa-python which can result in hard to debug situations.\n",
      "  warnings.warn(\n"
     ]
    },
    {
     "name": "stdout",
     "output_type": "stream",
     "text": [
      "Scheduled date/time are correct? (y/n)y\n"
     ]
    },
    {
     "name": "stderr",
     "output_type": "stream",
     "text": [
      "INFO:root:Mag cycle is scheduled to start @05/06/21, 05:00:00\n",
      "INFO:root:Waiting to start a mag cycle...\n"
     ]
    }
   ],
   "source": [
    "%matplotlib qt5\n",
    "import ADR2MagCycle\n",
    "import datetime\n",
    "\n",
    "# Schedule a mag cycle to start at specific date and time. \n",
    "# The magup and magdown normally take ~2.5 hr in total.\n",
    "scheduled_datetime = datetime.datetime(2021, 5, 6, 5, 0) # (year, mon, day, hour, min)\n",
    "how_long_to_soak = 1  # in hours\n",
    "\n",
    "ADR2MagCycle.MagCycle.schedule_mag_cycle(scheduled_datetime, soak_hour=how_long_to_soak)"
   ]
  },
  {
   "cell_type": "markdown",
   "metadata": {},
   "source": [
    "\n",
    "# Warm up ADR2"
   ]
  },
  {
   "cell_type": "markdown",
   "metadata": {},
   "source": [
    "## (Optional) Close heat switch."
   ]
  },
  {
   "cell_type": "code",
   "execution_count": 2,
   "metadata": {
    "ExecuteTime": {
     "end_time": "2020-02-27T22:50:15.075732Z",
     "start_time": "2020-02-27T22:50:15.035733Z"
    }
   },
   "outputs": [
    {
     "name": "stderr",
     "output_type": "stream",
     "text": [
      "INFO:root:Heat switch closed @04/04/21, 14:24:06.\n"
     ]
    }
   ],
   "source": [
    "import ADR2MagCycle\n",
    "ADR2MagCycle.MagCycle.close_heat_switch()\n",
    "# ADR2MagCycle.MagCycle.open_heat_switch()"
   ]
  },
  {
   "cell_type": "markdown",
   "metadata": {},
   "source": [
    "## Turn off compressor & cooling water.   "
   ]
  },
  {
   "cell_type": "markdown",
   "metadata": {},
   "source": [
    "## Inject a puff of nitrogen gas to the fridge. THE END! "
   ]
  },
  {
   "cell_type": "markdown",
   "metadata": {},
   "source": [
    "If you want faster warm-up, vent the fridge up to 1 atm once all temperatures get higher than 77K."
   ]
  },
  {
   "cell_type": "code",
   "execution_count": 2,
   "metadata": {
    "ExecuteTime": {
     "end_time": "2020-11-02T19:50:53.996918Z",
     "start_time": "2020-11-02T19:50:53.988434Z"
    }
   },
   "outputs": [
    {
     "ename": "ModuleNotFoundError",
     "evalue": "No module named 'Agilent6641A'",
     "output_type": "error",
     "traceback": [
      "\u001b[1;31m---------------------------------------------------------------------------\u001b[0m",
      "\u001b[1;31mModuleNotFoundError\u001b[0m                       Traceback (most recent call last)",
      "\u001b[1;32m<ipython-input-2-a31e73cf0e1f>\u001b[0m in \u001b[0;36m<module>\u001b[1;34m\u001b[0m\n\u001b[0;32m      1\u001b[0m \u001b[1;32mimport\u001b[0m \u001b[0msys\u001b[0m\u001b[1;33m\u001b[0m\u001b[1;33m\u001b[0m\u001b[0m\n\u001b[0;32m      2\u001b[0m \u001b[1;32mimport\u001b[0m \u001b[0mos\u001b[0m\u001b[1;33m.\u001b[0m\u001b[0mpath\u001b[0m\u001b[1;33m\u001b[0m\u001b[1;33m\u001b[0m\u001b[0m\n\u001b[1;32m----> 3\u001b[1;33m \u001b[1;32mimport\u001b[0m \u001b[0mAgilent6641A\u001b[0m\u001b[1;33m\u001b[0m\u001b[1;33m\u001b[0m\u001b[0m\n\u001b[0m\u001b[0;32m      4\u001b[0m \u001b[0mpower_supply\u001b[0m \u001b[1;33m=\u001b[0m \u001b[0mAgilent6641A\u001b[0m\u001b[1;33m.\u001b[0m\u001b[0mAgilent6641A\u001b[0m\u001b[1;33m(\u001b[0m\u001b[0mMagCycle\u001b[0m\u001b[1;33m.\u001b[0m\u001b[0m_Agilent6641A_GPIB_ADDR\u001b[0m\u001b[1;33m)\u001b[0m\u001b[1;33m\u001b[0m\u001b[1;33m\u001b[0m\u001b[0m\n\u001b[0;32m      5\u001b[0m \u001b[0mpower_supply\u001b[0m\u001b[1;33m.\u001b[0m\u001b[0msetCurrent\u001b[0m\u001b[1;33m(\u001b[0m\u001b[1;36m0\u001b[0m\u001b[1;33m)\u001b[0m\u001b[1;33m\u001b[0m\u001b[1;33m\u001b[0m\u001b[0m\n",
      "\u001b[1;31mModuleNotFoundError\u001b[0m: No module named 'Agilent6641A'"
     ]
    }
   ],
   "source": [
    "import sys\n",
    "import os.path\n",
    "import Agilent6641A\n",
    "power_supply = Agilent6641A.Agilent6641A(MagCycle._Agilent6641A_GPIB_ADDR)\n",
    "power_supply.setCurrent(0)\n"
   ]
  },
  {
   "cell_type": "code",
   "execution_count": 6,
   "metadata": {},
   "outputs": [
    {
     "data": {
      "text/plain": [
       "0.007943282347242814"
      ]
     },
     "execution_count": 6,
     "metadata": {},
     "output_type": "execute_result"
    }
   ],
   "source": [
    "10**(-42/20)"
   ]
  },
  {
   "cell_type": "code",
   "execution_count": null,
   "metadata": {},
   "outputs": [],
   "source": []
  }
 ],
 "metadata": {
  "kernelspec": {
   "display_name": "Python 3",
   "language": "python",
   "name": "python3"
  },
  "language_info": {
   "codemirror_mode": {
    "name": "ipython",
    "version": 3
   },
   "file_extension": ".py",
   "mimetype": "text/x-python",
   "name": "python",
   "nbconvert_exporter": "python",
   "pygments_lexer": "ipython3",
   "version": "3.8.5"
  },
  "toc": {
   "base_numbering": 1,
   "nav_menu": {},
   "number_sections": true,
   "sideBar": true,
   "skip_h1_title": false,
   "title_cell": "Table of Contents",
   "title_sidebar": "Contents",
   "toc_cell": false,
   "toc_position": {
    "height": "100px",
    "left": "37px",
    "top": "234.483px",
    "width": "324.438px"
   },
   "toc_section_display": true,
   "toc_window_display": false
  }
 },
 "nbformat": 4,
 "nbformat_minor": 2
}
