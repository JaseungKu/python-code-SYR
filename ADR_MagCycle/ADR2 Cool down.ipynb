{
 "cells": [
  {
   "cell_type": "markdown",
   "metadata": {},
   "source": [
    "# Cool down ADR2"
   ]
  },
  {
   "cell_type": "markdown",
   "metadata": {},
   "source": [
    "## Run Logger Acquire if it's not running. Then run Logger Visualizer to plot temperatures"
   ]
  },
  {
   "cell_type": "markdown",
   "metadata": {},
   "source": [
    "## Close heat switch. Important!"
   ]
  },
  {
   "cell_type": "code",
   "execution_count": null,
   "metadata": {
    "ExecuteTime": {
     "end_time": "2020-11-15T21:47:47.090064Z",
     "start_time": "2020-11-15T21:47:39.066194Z"
    }
   },
   "outputs": [],
   "source": [
    "import ADR2MagCycle\n",
    "ADR2MagCycle.MagCycle.close_heat_switch()    # close heat switch\n",
    "# ADR2MagCycle.MagCycle.open_heat_switch()    # open heat switch"
   ]
  },
  {
   "cell_type": "markdown",
   "metadata": {},
   "source": [
    "## Pump vaccum can down to low $10^{-4}$ Torr."
   ]
  },
  {
   "cell_type": "markdown",
   "metadata": {},
   "source": [
    "## Turn on compressor & cooling water. Make sure the oil temperature is in the          range of 90-105 F."
   ]
  },
  {
   "cell_type": "markdown",
   "metadata": {},
   "source": [
    "# While ADR2 is cold..."
   ]
  },
  {
   "cell_type": "markdown",
   "metadata": {},
   "source": [
    "## Run Mag Cycle immediately"
   ]
  },
  {
   "cell_type": "code",
   "execution_count": null,
   "metadata": {
    "ExecuteTime": {
     "end_time": "2020-11-08T15:51:46.040748Z",
     "start_time": "2020-11-08T12:57:05.933300Z"
    },
    "scrolled": false
   },
   "outputs": [],
   "source": [
    "%matplotlib qt5\n",
    "import ADR2MagCycle\n",
    "\n",
    "how_long_to_soak = 1 # in hour\n",
    "timestep_magup = 3 # in sec, default = 3\n",
    "timestep_magdown = 5 # in sec, default = 5\n",
    "\n",
    "ADR2MagCycle.MagCycle.run_mag_cycle(soak_hour=how_long_to_soak\n",
    "                                    , timestep_magup=timestep_magup\n",
    "                                    , timestep_magdown=timestep_magdown)"
   ]
  },
  {
   "cell_type": "markdown",
   "metadata": {},
   "source": [
    "## Run a scheduled Mag Cycle"
   ]
  },
  {
   "cell_type": "code",
   "execution_count": null,
   "metadata": {
    "ExecuteTime": {
     "end_time": "2020-11-03T19:15:52.002533Z",
     "start_time": "2020-11-03T19:15:43.612538Z"
    },
    "scrolled": false
   },
   "outputs": [],
   "source": [
    "%matplotlib qt5\n",
    "import ADR2MagCycle\n",
    "import datetime\n",
    "\n",
    "# Schedule a mag cycle to start at specific date and time. \n",
    "# The magup and magdown normally take ~2.5 hr in total.\n",
    "scheduled_datetime = datetime.datetime(2021, 2, 5, 4, 0) # (year, mon, day, hour, min)\n",
    "how_long_to_soak = 1  # in hours\n",
    "\n",
    "ADR2MagCycle.MagCycle.schedule_mag_cycle(scheduled_datetime, soak_hour=how_long_to_soak)"
   ]
  },
  {
   "cell_type": "markdown",
   "metadata": {},
   "source": [
    "# Warm up ADR2"
   ]
  },
  {
   "cell_type": "markdown",
   "metadata": {},
   "source": [
    "## (Optional) Close heat switch."
   ]
  },
  {
   "cell_type": "code",
   "execution_count": null,
   "metadata": {
    "ExecuteTime": {
     "end_time": "2020-02-27T22:50:15.075732Z",
     "start_time": "2020-02-27T22:50:15.035733Z"
    }
   },
   "outputs": [],
   "source": [
    "import ADR2MagCycle\n",
    "ADR2MagCycle.MagCycle.close_heat_switch()\n",
    "# ADR2MagCycle.MagCycle.open_heat_switch()"
   ]
  },
  {
   "cell_type": "markdown",
   "metadata": {},
   "source": [
    "## Turn off compressor & cooling water.   "
   ]
  },
  {
   "cell_type": "markdown",
   "metadata": {},
   "source": [
    "## Inject a puff of nitrogen gas to the fridge. THE END! "
   ]
  },
  {
   "cell_type": "markdown",
   "metadata": {},
   "source": [
    "If you want faster warm-up, vent the fridge up to 1 atm once all temperatures get higher than 77K."
   ]
  },
  {
   "cell_type": "code",
   "execution_count": null,
   "metadata": {
    "ExecuteTime": {
     "end_time": "2020-11-02T19:50:53.996918Z",
     "start_time": "2020-11-02T19:50:53.988434Z"
    }
   },
   "outputs": [],
   "source": [
    "7.18/3.3\n",
    "\n"
   ]
  },
  {
   "cell_type": "code",
   "execution_count": null,
   "metadata": {},
   "outputs": [],
   "source": [
    "0.5 mv"
   ]
  }
 ],
 "metadata": {
  "kernelspec": {
   "display_name": "Python 3",
   "language": "python",
   "name": "python3"
  },
  "language_info": {
   "codemirror_mode": {
    "name": "ipython",
    "version": 3
   },
   "file_extension": ".py",
   "mimetype": "text/x-python",
   "name": "python",
   "nbconvert_exporter": "python",
   "pygments_lexer": "ipython3",
   "version": "3.8.5"
  },
  "toc": {
   "base_numbering": 1,
   "nav_menu": {},
   "number_sections": true,
   "sideBar": true,
   "skip_h1_title": false,
   "title_cell": "Table of Contents",
   "title_sidebar": "Contents",
   "toc_cell": false,
   "toc_position": {
    "height": "100px",
    "left": "37px",
    "top": "234.483px",
    "width": "324.438px"
   },
   "toc_section_display": true,
   "toc_window_display": true
  }
 },
 "nbformat": 4,
 "nbformat_minor": 2
}
