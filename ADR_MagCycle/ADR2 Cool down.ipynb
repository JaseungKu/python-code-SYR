{
 "cells": [
  {
   "cell_type": "markdown",
   "metadata": {},
   "source": [
    "# Cool down ADR2"
   ]
  },
  {
   "cell_type": "markdown",
   "metadata": {},
   "source": [
    "## Run Logger Acquire if it's not running. Then run Logger Visualizer to plot temperatures"
   ]
  },
  {
   "cell_type": "markdown",
   "metadata": {},
   "source": [
    "## Close heat switch. Important!"
   ]
  },
  {
   "cell_type": "code",
   "execution_count": 2,
   "metadata": {
    "ExecuteTime": {
     "end_time": "2020-01-17T21:13:50.857466Z",
     "start_time": "2020-01-17T21:13:42.831048Z"
    }
   },
   "outputs": [
    {
     "name": "stderr",
     "output_type": "stream",
     "text": [
      "INFO:root:Heat switch closed @16:13:50.\n"
     ]
    }
   ],
   "source": [
    "import ADR2MagCycle\n",
    "ADR2MagCycle.MagCycle.close_heat_switch()    # closes heat switch"
   ]
  },
  {
   "cell_type": "markdown",
   "metadata": {},
   "source": [
    "## Pump vaccum can down to low $10^{-4}$ Torr."
   ]
  },
  {
   "cell_type": "markdown",
   "metadata": {},
   "source": [
    "## Turn on compressor & cooling water. Make sure the oil temperature is in the          range of 90-105 F."
   ]
  },
  {
   "cell_type": "markdown",
   "metadata": {},
   "source": [
    "# While ADR2 is cold..."
   ]
  },
  {
   "cell_type": "markdown",
   "metadata": {},
   "source": [
    "## Run Mag Cycle immediately"
   ]
  },
  {
   "cell_type": "code",
   "execution_count": 4,
   "metadata": {
    "ExecuteTime": {
     "end_time": "2020-01-13T19:08:11.465531Z",
     "start_time": "2020-01-13T15:56:30.981473Z"
    },
    "scrolled": false
   },
   "outputs": [
    {
     "name": "stderr",
     "output_type": "stream",
     "text": [
      "INFO:root:Mag cycle started @10:56:30!\n",
      "INFO:root:All instrument connected\n",
      "INFO:root:Magup started @10:56:34!\n",
      "INFO:root:Voltage is ramping up...\n",
      "INFO:root:Heat switch closed @11:11:44.\n",
      "INFO:root:Current reached the max current 9.2 A...\n",
      "INFO:root:Magup finished @11:33:35!!\n",
      "INFO:root:Heat switch opened @11:33:40.\n",
      "INFO:root:Heat switch closed @11:33:45.\n",
      "INFO:root:Soak started @11:33:45 and will last for 1 hr.\n",
      "INFO:root:Soak finished @12:33:56\n",
      "INFO:root:Magdown started @12:33:56!\n",
      "INFO:root:Heat switch opened @12:34:01.\n",
      "INFO:root:Voltage is ramping down to zero...\n",
      "INFO:root:Waiting to reach 0 A...\n",
      "INFO:root:Magdown finished @14:08:11!\n",
      "INFO:root:Mag cycle is completed @14:08:11! Yeah!\n"
     ]
    }
   ],
   "source": [
    "%matplotlib qt5\n",
    "import ADR2MagCycle\n",
    "\n",
    "how_long_to_soak = 1  # in hour\n",
    "ADR2MagCycle.MagCycle.run_mag_cycle(soak_hour=how_long_to_soak)"
   ]
  },
  {
   "cell_type": "markdown",
   "metadata": {},
   "source": [
    "## Run a scheduled Mag Cycle"
   ]
  },
  {
   "cell_type": "code",
   "execution_count": 6,
   "metadata": {
    "ExecuteTime": {
     "end_time": "2019-12-20T16:13:03.110012Z",
     "start_time": "2019-12-19T22:53:41.282961Z"
    },
    "scrolled": false
   },
   "outputs": [
    {
     "name": "stdout",
     "output_type": "stream",
     "text": [
      "Scheduled date/time are correct? (y/n)y\n"
     ]
    },
    {
     "name": "stderr",
     "output_type": "stream",
     "text": [
      "INFO:root:Mag cycle is scheduled to start @12/20/19. 08:00:00\n",
      "INFO:root:Waiting to start a mag cycle...\n",
      "INFO:root:Mag cycle started @08:00:48!\n",
      "INFO:root:All instrument connected\n",
      "INFO:root:Magup started @08:00:51!\n",
      "INFO:root:Voltage is ramping up...\n",
      "INFO:root:Heat switch closed @08:32:29.\n",
      "INFO:root:Current reached the max current 9.2 A...\n",
      "INFO:root:Magup finished @08:37:38!!\n",
      "INFO:root:Heat switch opened @08:37:43.\n",
      "INFO:root:Heat switch closed @08:37:48.\n",
      "INFO:root:Soak started @08:37:48 and will last for 1 hr.\n",
      "INFO:root:Soak finished @09:37:58\n",
      "INFO:root:Magdown started @09:37:58!\n",
      "INFO:root:Heat switch opened @09:38:03.\n",
      "INFO:root:Voltage is ramping down to zero...\n",
      "INFO:root:Waiting to reach 0 A...\n",
      "INFO:root:Magdown finished @11:13:03!\n",
      "INFO:root:Mag cycle is completed @11:13:03! Yeah!\n",
      "INFO:root:Scheduled mag cycle is complete @12/20/19, 11:13:03! Yeah!\n"
     ]
    }
   ],
   "source": [
    "%matplotlib qt5\n",
    "import ADR2MagCycle\n",
    "import datetime\n",
    "\n",
    "# Schedule a mag cycle to start at specific date and time. \n",
    "# The magup and magdown normally take ~2.5 hr in total.\n",
    "scheduled_datetime = datetime.datetime(2019, 12, 20, 8, 0) # (year, mon, day, hour, min)\n",
    "how_long_to_soak = 1  # in hours\n",
    "\n",
    "ADR2MagCycle.MagCycle.schedule_mag_cycle(scheduled_datetime, soak_hour=how_long_to_soak)"
   ]
  },
  {
   "cell_type": "markdown",
   "metadata": {},
   "source": [
    "# Warm up ADR2"
   ]
  },
  {
   "cell_type": "markdown",
   "metadata": {},
   "source": [
    "## (Optional) Close heat switch."
   ]
  },
  {
   "cell_type": "code",
   "execution_count": 4,
   "metadata": {
    "ExecuteTime": {
     "end_time": "2020-01-17T21:28:02.282961Z",
     "start_time": "2020-01-17T21:27:54.254136Z"
    }
   },
   "outputs": [
    {
     "name": "stderr",
     "output_type": "stream",
     "text": [
      "INFO:root:Heat switch closed @16:28:02.\n"
     ]
    }
   ],
   "source": [
    "import ADR2MagCycle\n",
    "ADR2MagCycle.MagCycle.close_heat_switch()\n",
    "# ADR2MagCycle.MagCycle.open_heat_switch()"
   ]
  },
  {
   "cell_type": "markdown",
   "metadata": {},
   "source": [
    "## Turn off compressor & cooling water.   "
   ]
  },
  {
   "cell_type": "markdown",
   "metadata": {},
   "source": [
    "## Inject a puff of nitrogen gas to the fridge. THE END! "
   ]
  },
  {
   "cell_type": "markdown",
   "metadata": {},
   "source": [
    "If you want faster warm-up, vent the fridge up to 1 atm once all temperatures get higher than 77K."
   ]
  }
 ],
 "metadata": {
  "kernelspec": {
   "display_name": "Python 3",
   "language": "python",
   "name": "python3"
  },
  "language_info": {
   "codemirror_mode": {
    "name": "ipython",
    "version": 3
   },
   "file_extension": ".py",
   "mimetype": "text/x-python",
   "name": "python",
   "nbconvert_exporter": "python",
   "pygments_lexer": "ipython3",
   "version": "3.6.9"
  },
  "toc": {
   "base_numbering": 1,
   "nav_menu": {},
   "number_sections": true,
   "sideBar": true,
   "skip_h1_title": false,
   "title_cell": "Table of Contents",
   "title_sidebar": "Contents",
   "toc_cell": false,
   "toc_position": {},
   "toc_section_display": true,
   "toc_window_display": true
  }
 },
 "nbformat": 4,
 "nbformat_minor": 2
}
