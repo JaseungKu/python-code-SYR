{
 "cells": [
  {
   "cell_type": "markdown",
   "metadata": {},
   "source": [
    "# Cool down ADR2"
   ]
  },
  {
   "cell_type": "markdown",
   "metadata": {},
   "source": [
    "## Run Logger Acquire if it's not running. Then run Logger Visualizer to plot temperatures"
   ]
  },
  {
   "cell_type": "markdown",
   "metadata": {},
   "source": [
    "## Close heat switch. Important!"
   ]
  },
  {
   "cell_type": "code",
   "execution_count": 4,
   "metadata": {
    "ExecuteTime": {
     "end_time": "2020-11-10T16:20:49.292025Z",
     "start_time": "2020-11-10T16:20:41.275514Z"
    }
   },
   "outputs": [
    {
     "name": "stderr",
     "output_type": "stream",
     "text": [
      "INFO:root:Heat switch closed @11/10/20, 11:20:49.\n"
     ]
    }
   ],
   "source": [
    "import ADR2MagCycle\n",
    "ADR2MagCycle.MagCycle.close_heat_switch()    # closes heat switch"
   ]
  },
  {
   "cell_type": "markdown",
   "metadata": {},
   "source": [
    "## Pump vaccum can down to low $10^{-4}$ Torr."
   ]
  },
  {
   "cell_type": "markdown",
   "metadata": {},
   "source": [
    "## Turn on compressor & cooling water. Make sure the oil temperature is in the          range of 90-105 F."
   ]
  },
  {
   "cell_type": "markdown",
   "metadata": {},
   "source": [
    "# While ADR2 is cold..."
   ]
  },
  {
   "cell_type": "markdown",
   "metadata": {},
   "source": [
    "## Run Mag Cycle immediately"
   ]
  },
  {
   "cell_type": "code",
   "execution_count": 3,
   "metadata": {
    "ExecuteTime": {
     "end_time": "2020-11-08T15:51:46.040748Z",
     "start_time": "2020-11-08T12:57:05.933300Z"
    },
    "scrolled": true
   },
   "outputs": [
    {
     "name": "stderr",
     "output_type": "stream",
     "text": [
      "INFO:root:Mag cycle started @07:57:05!\n",
      "INFO:root:All instrument connected\n",
      "INFO:root:Magup started @07:57:09!\n",
      "INFO:root:Voltage is ramping up...\n",
      "INFO:root:Heat switch closed @08:17:38.\n",
      "INFO:root:Waiting to reach the max current 9.2 A...\n",
      "INFO:root:Current reached the max current 9.2 A...\n",
      "INFO:root:Magup finished @08:34:59!!\n",
      "INFO:root:Heat switch opened @08:35:04.\n",
      "INFO:root:Heat switch closed @08:35:09.\n",
      "INFO:root:Soak started @08:35:09 and will last for 0.75 hr.\n",
      "INFO:root:Soak finished @09:20:17\n",
      "INFO:root:Magdown started @09:20:17!\n",
      "INFO:root:Heat switch opened @09:20:22.\n",
      "INFO:root:Voltage is ramping down to zero...\n",
      "INFO:root:Waiting to reach 0 A...\n",
      "INFO:root:Magdown finished @10:51:46!\n",
      "INFO:root:Mag cycle is completed @10:51:46! Yeah!\n"
     ]
    }
   ],
   "source": [
    "%matplotlib qt5\n",
    "import ADR2MagCycle\n",
    "\n",
    "how_long_to_soak = .75  # in hour\n",
    "ADR2MagCycle.MagCycle.run_mag_cycle(soak_hour=how_long_to_soak)"
   ]
  },
  {
   "cell_type": "markdown",
   "metadata": {},
   "source": [
    "## Run a scheduled Mag Cycle"
   ]
  },
  {
   "cell_type": "code",
   "execution_count": null,
   "metadata": {
    "ExecuteTime": {
     "end_time": "2020-11-03T19:15:52.002533Z",
     "start_time": "2020-11-03T19:15:43.612538Z"
    },
    "scrolled": false
   },
   "outputs": [],
   "source": [
    "%matplotlib qt5\n",
    "import ADR2MagCycle\n",
    "import datetime\n",
    "\n",
    "# Schedule a mag cycle to start at specific date and time. \n",
    "# The magup and magdown normally take ~2.5 hr in total.\n",
    "scheduled_datetime = datetime.datetime(2020, 2, 24, 5, 0) # (year, mon, day, hour, min)\n",
    "how_long_to_soak = 1  # in hours\n",
    "\n",
    "ADR2MagCycle.MagCycle.schedule_mag_cycle(scheduled_datetime, soak_hour=how_long_to_soak)"
   ]
  },
  {
   "cell_type": "markdown",
   "metadata": {},
   "source": [
    "# Warm up ADR2"
   ]
  },
  {
   "cell_type": "markdown",
   "metadata": {},
   "source": [
    "## (Optional) Close heat switch."
   ]
  },
  {
   "cell_type": "code",
   "execution_count": null,
   "metadata": {
    "ExecuteTime": {
     "end_time": "2020-02-27T22:50:15.075732Z",
     "start_time": "2020-02-27T22:50:15.035733Z"
    }
   },
   "outputs": [],
   "source": [
    "import ADR2MagCycle\n",
    "ADR2MagCycle.MagCycle.close_heat_switch()\n",
    "# ADR2MagCycle.MagCycle.open_heat_switch()"
   ]
  },
  {
   "cell_type": "markdown",
   "metadata": {},
   "source": [
    "## Turn off compressor & cooling water.   "
   ]
  },
  {
   "cell_type": "markdown",
   "metadata": {},
   "source": [
    "## Inject a puff of nitrogen gas to the fridge. THE END! "
   ]
  },
  {
   "cell_type": "markdown",
   "metadata": {},
   "source": [
    "If you want faster warm-up, vent the fridge up to 1 atm once all temperatures get higher than 77K."
   ]
  },
  {
   "cell_type": "code",
   "execution_count": null,
   "metadata": {
    "ExecuteTime": {
     "end_time": "2020-11-02T19:50:53.996918Z",
     "start_time": "2020-11-02T19:50:53.988434Z"
    }
   },
   "outputs": [],
   "source": [
    "7.18/3.3\n",
    "\n"
   ]
  },
  {
   "cell_type": "code",
   "execution_count": null,
   "metadata": {},
   "outputs": [],
   "source": [
    "0.5 mv"
   ]
  }
 ],
 "metadata": {
  "kernelspec": {
   "display_name": "Python 3",
   "language": "python",
   "name": "python3"
  },
  "language_info": {
   "codemirror_mode": {
    "name": "ipython",
    "version": 3
   },
   "file_extension": ".py",
   "mimetype": "text/x-python",
   "name": "python",
   "nbconvert_exporter": "python",
   "pygments_lexer": "ipython3",
   "version": "3.7.3"
  },
  "toc": {
   "base_numbering": 1,
   "nav_menu": {},
   "number_sections": true,
   "sideBar": true,
   "skip_h1_title": false,
   "title_cell": "Table of Contents",
   "title_sidebar": "Contents",
   "toc_cell": false,
   "toc_position": {
    "height": "100px",
    "left": "37px",
    "top": "234.483px",
    "width": "285.467px"
   },
   "toc_section_display": true,
   "toc_window_display": true
  }
 },
 "nbformat": 4,
 "nbformat_minor": 2
}
