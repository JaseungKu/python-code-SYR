{
 "cells": [
  {
   "cell_type": "code",
   "execution_count": 2,
   "metadata": {
    "code_folding": [
     9
    ]
   },
   "outputs": [
    {
     "name": "stdout",
     "output_type": "stream",
     "text": [
      "Using matplotlib backend: TkAgg\n"
     ]
    }
   ],
   "source": [
    "%matplotlib\n",
    "import numpy as np\n",
    "import numpy.linalg as LA\n",
    "import matplotlib.pyplot as plt\n",
    "from math import pi\n",
    "from scipy.constants import h,e,hbar\n",
    "# from matplotlib import rc\n",
    "# rc('text', usetex=True)\n",
    "\n",
    "class CSFQ(object):\n",
    "    '''\n",
    "    compute eigenvalues and eigenstates of CSFQ Hamilitonian using 1D potential\n",
    "    Args:\n",
    "           I0 : critical current of large JJ in A\n",
    "           alpha : critical current ratio of small to large JJ\n",
    "           Cj : junction capacitance of large JJ in F\n",
    "           Cs : shunt capacitance in F\n",
    "           \n",
    "    Return:\n",
    "        Tuple of eigenvalues and eigenvectors\n",
    "    '''\n",
    "    \n",
    "    def __init__(self, I0=None, alpha=None, Cj=None, Cs=None):\n",
    "        \n",
    "        self.I0 = I0\n",
    "        self.alpha = alpha \n",
    "        self.Cj = Cj\n",
    "        self.Cs = Cs\n",
    "            \n",
    "    def solveHamiltonian(self, flux):\n",
    "        \"\"\"\n",
    "        flux: normalized by flux quantum\n",
    "        \"\"\"\n",
    "        f0 = h/2/e; #flux quantum\n",
    "        n = 256 # dimension of Hamitonian matrix\n",
    "    \n",
    "        beta = self.alpha + self.Cs / self.Cj\n",
    "        \n",
    "        # Do 1D Potential\n",
    "        delta = np.linspace(-1.8*pi, 1.8*pi, n)\n",
    "        dd = delta[1] - delta[0]\n",
    "\n",
    "        U = self.potentialE(delta, flux)\n",
    "#         U = -2*self.I0*f0/2/pi*np.cos(delta/2) - self.alpha*self.I0*f0/2/pi*np.cos(2*pi*f-2*delta/2)\n",
    "\n",
    "        # Numerically sovle 1D potential\n",
    "        Cnew = (2*self.Cj/4) * (1+2*beta)\n",
    "        h22m = 4*e**2/2/Cnew\n",
    "        diffOp = -h22m/dd**2\n",
    "        onOp = +2*h22m/dd**2\n",
    "        H = np.diag(U)+ np.eye(len(U), k=1) * diffOp + np.eye(len(U), k=-1) * diffOp + np.eye(len(U)) * onOp\n",
    "        self.H = H\n",
    "        \n",
    "        eigval, eigvec = LA.eigh(H)\n",
    "        \n",
    "        eigval_sorted = np.sort(eigval)  # eigval.sort()\n",
    "        eigvec_sorted = eigvec[:, eigval.argsort()]\n",
    "        \n",
    "        energy_diff = np.diff(eigval_sorted) / h / 1e9 # in GHz\n",
    "\n",
    "        return (energy_diff, eigvec_sorted)\n",
    "    \n",
    "    def potentialE(self, delta, f):\n",
    "        \"\"\"\n",
    "        f: flux normalized by flux quantum \n",
    "        \"\"\"\n",
    "        f0 = h/2/e\n",
    "        n = 256 # dimension of Hamitonian matrix\n",
    "    \n",
    "        beta = self.alpha + self.Cs / self.Cj\n",
    "        \n",
    "        U = -2*self.I0*f0/2/pi*np.cos(delta/2) - self.alpha*self.I0*f0/2/pi*np.cos(2*pi*f-2*delta/2)\n",
    "          \n",
    "        return U"
   ]
  },
  {
   "cell_type": "code",
   "execution_count": 3,
   "metadata": {},
   "outputs": [],
   "source": [
    "jc = 30/(0.2*0.1)  # A/um^2"
   ]
  },
  {
   "cell_type": "code",
   "execution_count": null,
   "metadata": {},
   "outputs": [],
   "source": [
    "I0 =125e-9\n",
    "Cj = 9e-15\n",
    "Cs = 57e-15\n",
    "alpha = 0.43\n",
    "\n",
    "csfq = CSFQ(I0=I0, Cj=Cj, Cs=Cs, alpha=alpha)\n",
    "energy_diff, eigenvec = csfq.solveHamiltonian(0.5)\n",
    "print(f'f01 = {energy_diff[0]:.3f} GHz')\n",
    "print(f'anharm = {energy_diff[1] - energy_diff[0]:.3f} GHz')"
   ]
  }
 ],
 "metadata": {
  "kernelspec": {
   "display_name": "Python 3",
   "language": "python",
   "name": "python3"
  },
  "language_info": {
   "codemirror_mode": {
    "name": "ipython",
    "version": 3
   },
   "file_extension": ".py",
   "mimetype": "text/x-python",
   "name": "python",
   "nbconvert_exporter": "python",
   "pygments_lexer": "ipython3",
   "version": "3.8.2"
  },
  "toc": {
   "base_numbering": 1,
   "nav_menu": {},
   "number_sections": true,
   "sideBar": true,
   "skip_h1_title": false,
   "title_cell": "Table of Contents",
   "title_sidebar": "Contents",
   "toc_cell": false,
   "toc_position": {},
   "toc_section_display": true,
   "toc_window_display": false
  }
 },
 "nbformat": 4,
 "nbformat_minor": 4
}
