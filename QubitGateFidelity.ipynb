{
 "cells": [
  {
   "cell_type": "markdown",
   "metadata": {},
   "source": [
    "# Single qubit gate fidelity"
   ]
  },
  {
   "cell_type": "code",
   "execution_count": 1,
   "metadata": {},
   "outputs": [],
   "source": [
    "import numpy as np\n",
    "\n",
    "def singleQubitGateFidelity(T1,T2,gate_length):\n",
    "    return 1 - 0.5*(1.-2./3.*np.exp(-gate_length/T2)-1./3.*np.exp(-gate_length/T1))\n",
    "#0.5*(1.-2./3.*np.exp(-gate_length/T2)-1./3.*np.exp(-gate_length/T1)) from Dave\n",
    "\n",
    "def singleQubitGateFidelity_GaussinDecay(T1,T2,gate_length):\n",
    "    return 1 - 0.5*(1.-2./3.*np.exp(-(gate_length/T2)**2)-1./3.*np.exp(-gate_length/T1))\n"
   ]
  },
  {
   "cell_type": "code",
   "execution_count": 2,
   "metadata": {},
   "outputs": [
    {
     "data": {
      "text/plain": [
       "0.9964981955737693"
      ]
     },
     "execution_count": 2,
     "metadata": {},
     "output_type": "execute_result"
    }
   ],
   "source": [
    "singleQubitGateFidelity(18, 2, 0.020)"
   ]
  },
  {
   "cell_type": "code",
   "execution_count": 3,
   "metadata": {},
   "outputs": [
    {
     "data": {
      "text/plain": [
       "0.00021841400934241584"
      ]
     },
     "execution_count": 3,
     "metadata": {},
     "output_type": "execute_result"
    }
   ],
   "source": [
    "1-singleQubitGateFidelity_GaussinDecay(18, 2, 0.02)"
   ]
  },
  {
   "cell_type": "code",
   "execution_count": null,
   "metadata": {},
   "outputs": [],
   "source": []
  },
  {
   "cell_type": "code",
   "execution_count": 4,
   "metadata": {},
   "outputs": [
    {
     "name": "stdout",
     "output_type": "stream",
     "text": [
      "Using matplotlib backend: TkAgg\n"
     ]
    },
    {
     "data": {
      "text/plain": [
       "<matplotlib.legend.Legend at 0x7ff3479da390>"
      ]
     },
     "execution_count": 4,
     "metadata": {},
     "output_type": "execute_result"
    }
   ],
   "source": [
    "# Gate fid vs gate length\n",
    "%matplotlib\n",
    "import matplotlib.pyplot as plt\n",
    "\n",
    "T1, T2 = 40, 45\n",
    "T1_1, T2_1 = 18,  5\n",
    "\n",
    "gate_lengths = np.linspace(0, 0.1, 101)\n",
    "\n",
    "fid = singleQubitGateFidelity(T1, T2, gate_lengths)\n",
    "fid1 = singleQubitGateFidelity(T1_1, T2_1, gate_lengths)\n",
    "\n",
    "label_FFT = 'FFT:T1={:.1f},T2={:.1f}'.format(T1, T2)\n",
    "label_CSFQ = 'CSFQ:T1={:.1f},T2={:.1f}'.format(T1_1, T2_1)\n",
    "plt.plot(gate_lengths, fid, '.-', label=label_FFT)\n",
    "plt.plot(gate_lengths, fid1, '.-', label=label_CSFQ)\n",
    "plt.xlabel('Gate length (us)')\n",
    "plt.ylabel('Gate Fidelity')\n",
    "plt.grid()\n",
    "plt.legend()"
   ]
  },
  {
   "cell_type": "code",
   "execution_count": 7,
   "metadata": {},
   "outputs": [
    {
     "name": "stdout",
     "output_type": "stream",
     "text": [
      "Using matplotlib backend: TkAgg\n"
     ]
    }
   ],
   "source": [
    "# Gate fid vs T2\n",
    "%matplotlib\n",
    "import matplotlib.pyplot as plt\n",
    "\n",
    "T1 = 18\n",
    "T2 = np.linspace(2, 16, 1001) # in us\n",
    "gate_length = 0.02\n",
    "fid = singleQubitGateFidelity(T1, T2, gate_length)\n",
    "\n",
    "plt.plot(T2, fid)\n",
    "plt.xlabel('T2 (us)')\n",
    "plt.ylabel('Gate Fidelity')\n",
    "# plt.xscale('log')\n",
    "# plt.yscale('log')\n",
    "plt.grid()"
   ]
  },
  {
   "cell_type": "markdown",
   "metadata": {},
   "source": [
    "# Two qubit gate fidelity calculation: function defined"
   ]
  },
  {
   "cell_type": "code",
   "execution_count": 5,
   "metadata": {},
   "outputs": [],
   "source": [
    "import numpy as np\n",
    "\n",
    "\n",
    "def twoQubitGateFidelity(T1_t, T2_t, T1_c, T2_c, gate_length):\n",
    "    \"\"\" Return the two qubit gate fidelity in percent \"\"\"\n",
    "    T1 = [T1_t, T1_c]\n",
    "    T2 = [T2_t, T2_c]\n",
    "    T1factor, T2factor = 0, 0\n",
    "\n",
    "    for i in range(2):\n",
    "        T1factor += 1. / 15. * np.exp(-gate_length / T1[i])\n",
    "        T2factor += 2. / 15. * \\\n",
    "            (np.exp(-gate_length /\n",
    "                    T2[i]) + np.exp(-gate_length * (1. / T2[i] + 1. / T1[1 - i])))\n",
    "\n",
    "    T1factor += 1. / 15. * np.exp(-gate_length * (1. / T1[0] + 1. / T1[1]))\n",
    "    T2factor += 4. / 15. * np.exp(-gate_length * (1. / T2[0] + 1. / T2[1]))\n",
    "\n",
    "    return (1 - 0.75 * (1. - T1factor - T2factor)) * 100"
   ]
  },
  {
   "cell_type": "code",
   "execution_count": 6,
   "metadata": {},
   "outputs": [
    {
     "name": "stdout",
     "output_type": "stream",
     "text": [
      "fidelity = 99.16 %\n"
     ]
    }
   ],
   "source": [
    "# Function test\n",
    "T1_t, T2_t, T1_c, T2_c, gate_length = 40, 31, 20, 16, 0.16\n",
    "# T1_t, T2_t, T1_c, T2_c, gate_length = 20,16, 40, 31, 0.2\n",
    "\n",
    "fidelity = twoQubitGateFidelity(T1_t, T2_t, T1_c, T2_c, gate_length)\n",
    "print('fidelity = {:.2f} %'.format(fidelity))"
   ]
  },
  {
   "cell_type": "markdown",
   "metadata": {},
   "source": [
    "# Fidelity decay function for two-qubit"
   ]
  },
  {
   "cell_type": "code",
   "execution_count": 7,
   "metadata": {},
   "outputs": [
    {
     "name": "stdout",
     "output_type": "stream",
     "text": [
      "Using matplotlib backend: TkAgg\n"
     ]
    },
    {
     "data": {
      "text/plain": [
       "<matplotlib.legend.Legend at 0x7ff347a18c88>"
      ]
     },
     "execution_count": 7,
     "metadata": {},
     "output_type": "execute_result"
    }
   ],
   "source": [
    "%matplotlib\n",
    "import matplotlib.pyplot as plt\n",
    "import numpy as np\n",
    "\n",
    "num_cl_gates = np.linspace(1, 200, 100)\n",
    "gate_errors = [0.001, 0.002,0.004,0.006,0.008, 0.01]\n",
    "# e = 3/4*(1-0.9^(1/1.5))\n",
    "for gate_error in gate_errors:\n",
    "    p = (1 - gate_error *4/3)**1.5\n",
    "    fid = 0.5 + 0.5 *p**num_cl_gates\n",
    "    plt.plot(num_cl_gates, fid, label=f'e={gate_error:.2g}')\n",
    "plt.grid('on')\n",
    "plt.legend()"
   ]
  },
  {
   "cell_type": "code",
   "execution_count": null,
   "metadata": {},
   "outputs": [],
   "source": []
  },
  {
   "cell_type": "markdown",
   "metadata": {},
   "source": [
    "# FFT and CSFQ (IBM384QB56)"
   ]
  },
  {
   "cell_type": "code",
   "execution_count": 11,
   "metadata": {},
   "outputs": [
    {
     "name": "stdout",
     "output_type": "stream",
     "text": [
      "Using matplotlib backend: TkAgg\n",
      "T1(FFT), T2(FFT) = 50, 50 us\n",
      "T1(CSFQ), T2(CSFQ) = 50, 50\n",
      "\n"
     ]
    }
   ],
   "source": [
    "# Gate fid vs gate length\n",
    "%matplotlib\n",
    "import matplotlib.pyplot as plt\n",
    "\n",
    "T1_t, T2_t, T1_c, T2_c =  40, 45, 18, 5\n",
    "T1_t, T2_t, T1_c, T2_c =  100, 100, 100, 100\n",
    "T1_t, T2_t, T1_c, T2_c =  50, 50, 50, 50\n",
    "\n",
    "gate_lengths = np.linspace(10,300,100) / 1e3\n",
    "\n",
    "print('T1(FFT), T2(FFT) = {:.3g}, {:.3g} us'.format(T1_t, T2_t))\n",
    "print('T1(CSFQ), T2(CSFQ) = {:.3g}, {:.3g}\\n'.format(T1_c, T2_c))\n",
    "\n",
    "# for gate_length in gate_lengths:\n",
    "#     fidelity = twoQubitGateFidelity(T1_t, T2_t, T1_c, T2_c, gate_length)\n",
    "# #     print('gate length ={:5g} ns, fidelity = {:.2f} %'.format(gate_length*1e3,fidelity))\n",
    "\n",
    "# gate_lengths = np.linspace(10, 500, 100)/1e3\n",
    "fid = twoQubitGateFidelity(T1_t, T2_t, T1_c, T2_c, gate_lengths)\n",
    "plt.plot(gate_lengths, fid)\n",
    "# plt.plot(gate_lengths, fid2, 'b-')\n",
    "plt.xlabel('Gate length (us)')\n",
    "plt.ylabel('Gate Fidelity (%)')\n",
    "plt.grid()"
   ]
  },
  {
   "cell_type": "code",
   "execution_count": 18,
   "metadata": {},
   "outputs": [
    {
     "name": "stdout",
     "output_type": "stream",
     "text": [
      "Using matplotlib backend: TkAgg\n"
     ]
    }
   ],
   "source": [
    "%matplotlib\n",
    "import matplotlib.pyplot as plt\n",
    "\n",
    "gate_lengths = np.linspace(160,450,100) / 1e3\n",
    "\n",
    "T1_t, T2_t, T1_c, T2_c =  40, 45, 18, 16\n",
    "fid1 = twoQubitGateFidelity(T1_t, T2_t, T1_c, T2_c, gate_lengths)\n",
    "T1_t, T2_t, T1_c, T2_c =  40, 45, 18, 6\n",
    "fid2 = twoQubitGateFidelity(T1_t, T2_t, T1_c, T2_c, gate_lengths)\n",
    "T1_t, T2_t, T1_c, T2_c =  40, 45, 18, 3\n",
    "fid3 = twoQubitGateFidelity(T1_t, T2_t, T1_c, T2_c, gate_lengths)\n",
    "\n",
    "plt.plot(gate_lengths, fid1)\n",
    "plt.plot(gate_lengths, fid2)\n",
    "plt.plot(gate_lengths, fid3)\n",
    "plt.xlabel('Gate length (us)')\n",
    "plt.ylabel('Gate Fidelity (%)')\n",
    "plt.grid()"
   ]
  },
  {
   "cell_type": "code",
   "execution_count": 7,
   "metadata": {
    "scrolled": true
   },
   "outputs": [
    {
     "data": {
      "text/plain": [
       "Text(0.5,1,'T1_t, T2_t, T1_c, T2_c = 40, 45, 18, (16,6,3)')"
      ]
     },
     "execution_count": 7,
     "metadata": {},
     "output_type": "execute_result"
    }
   ],
   "source": [
    "plt.title('T1_t, T2_t, T1_c, T2_c = 40, 45, 18, (16,6,3)')"
   ]
  },
  {
   "cell_type": "code",
   "execution_count": 57,
   "metadata": {
    "collapsed": true
   },
   "outputs": [],
   "source": [
    "file = 'Z:\\Experiments\\Rack3\\Qlab\\experiments\\muWaveDetection\\JKscripts\\gatelengthvsfid1'\n",
    "np.savetxt(file, gatelengthvsfid)"
   ]
  },
  {
   "cell_type": "code",
   "execution_count": 25,
   "metadata": {},
   "outputs": [
    {
     "name": "stdout",
     "output_type": "stream",
     "text": [
      "Using matplotlib backend: Qt5Agg\n"
     ]
    },
    {
     "data": {
      "text/plain": [
       "<matplotlib.legend.Legend at 0x2e2d99d4b00>"
      ]
     },
     "execution_count": 25,
     "metadata": {},
     "output_type": "execute_result"
    }
   ],
   "source": [
    "# Gate fid vs T2\n",
    "%matplotlib\n",
    "import matplotlib.pyplot as plt\n",
    "\n",
    "T1_t, T2_t, T1_c  =  40, 45, 18\n",
    "T2_c = np.linspace(2, 15, 1001)\n",
    "\n",
    "gate_length_200 = 0.200\n",
    "gate_length_300 = 0.300\n",
    "gate_length_440 = 0.440\n",
    "\n",
    "fid_200ns = [twoQubitGateFidelity(T1_t, T2_t, T1_c, T2, gate_length_200) for T2 in T2_c]\n",
    "fid_300ns = [twoQubitGateFidelity(T1_t, T2_t, T1_c, T2, gate_length_300) for T2 in T2_c]\n",
    "fid_440ns = [twoQubitGateFidelity(T1_t, T2_t, T1_c, T2, gate_length_440) for T2 in T2_c]\n",
    "    \n",
    "plt.plot(T2_c, fid_200ns, label='200ns')\n",
    "plt.plot(T2_c, fid_300ns, label='300ns')\n",
    "plt.plot(T2_c, fid_440ns, label='440ns')\n",
    "\n",
    "plt.xlabel('T2_c (us)')\n",
    "plt.ylabel('Gate Fidelity (%)')\n",
    "plt.grid()\n",
    "plt.ylim([93,99.5])\n",
    "plt.title('T1_t, T2_t, T1_c, gate_length = {:3g}, {:3g}, {:3g} us, {:3g} us'.format(T1_t, T2_t, T1_c, gate_length))\n",
    "plt.legend()"
   ]
  },
  {
   "cell_type": "code",
   "execution_count": 19,
   "metadata": {},
   "outputs": [
    {
     "data": {
      "text/plain": [
       "[<matplotlib.lines.Line2D at 0x237b9cebf60>]"
      ]
     },
     "execution_count": 19,
     "metadata": {},
     "output_type": "execute_result"
    }
   ],
   "source": [
    "T1_t, T2_t, T1_c  =  39, 40, 18.6\n",
    "T2_c = np.linspace(1, 20, 1001)\n",
    "gate_length = 0.3\n",
    "fid = [twoQubitGateFidelity(T1_t, T2_t, T1_c, T2, gate_length) for T2 in T2_c]\n",
    "    \n",
    "plt.plot(T2_c, fid)"
   ]
  },
  {
   "cell_type": "code",
   "execution_count": 17,
   "metadata": {},
   "outputs": [
    {
     "data": {
      "text/plain": [
       "96.79035661988155"
      ]
     },
     "execution_count": 17,
     "metadata": {},
     "output_type": "execute_result"
    }
   ],
   "source": []
  },
  {
   "cell_type": "code",
   "execution_count": null,
   "metadata": {
    "collapsed": true
   },
   "outputs": [],
   "source": []
  }
 ],
 "metadata": {
  "kernelspec": {
   "display_name": "Python 3",
   "language": "python",
   "name": "python3"
  },
  "language_info": {
   "codemirror_mode": {
    "name": "ipython",
    "version": 3
   },
   "file_extension": ".py",
   "mimetype": "text/x-python",
   "name": "python",
   "nbconvert_exporter": "python",
   "pygments_lexer": "ipython3",
   "version": "3.6.9"
  },
  "toc": {
   "base_numbering": 1,
   "nav_menu": {},
   "number_sections": true,
   "sideBar": false,
   "skip_h1_title": false,
   "title_cell": "Table of Contents",
   "title_sidebar": "Contents",
   "toc_cell": false,
   "toc_position": {
    "height": "430px",
    "left": "28px",
    "right": "1680px",
    "top": "131px",
    "width": "212px"
   },
   "toc_section_display": "block",
   "toc_window_display": false
  }
 },
 "nbformat": 4,
 "nbformat_minor": 2
}
