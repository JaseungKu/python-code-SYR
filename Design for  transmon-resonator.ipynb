{
 "cells": [
  {
   "cell_type": "markdown",
   "metadata": {},
   "source": [
    "# Qubit-Resonator Design"
   ]
  },
  {
   "cell_type": "markdown",
   "metadata": {},
   "source": [
    "Senario: We want to design a resonator coupled to a transmon. What kind of parameters need to be determined before drawing a mask\n",
    "\n",
    "For the resonator, determine:\n",
    "- $\\omega_r$ : resonant (angular) frequency \n",
    "- $\\kappa$ : linewidth of the resonance\n",
    "\n",
    "Then calculate:\n",
    "- $l$ : length of the resonator\n",
    "- $C_c$ : coupling capacitance to the feedline.\n",
    "\n",
    "For the transmon, determine:\n",
    "- $f_{01}$ : qubit frequency\n",
    "- $\\alpha$ : anharmonicity\n",
    "- $g$ : coupling strength between the resonator and transmon. \n",
    "- $\\chi$: $\\chi$ shift\n",
    "\n",
    "Then calculate:\n",
    "- $E_j$ : Josepthon energy\n",
    "- $E_c$ : Charging energy\n",
    "- $C_g$ : coupling capacitance between qubit island to the resonator\n",
    "- $C_s$ : shunt capacitance across Josephson junction\n",
    "\n",
    "Note on choosing parameters. $g$, $\\chi$, $\\kappa$, $\\Delta$, $\\omega_r$.\n",
    "\n",
    "- For charge-sensitive qubit, small $E_j/E_c$. Charge dispersion and qubit frequency determine $E_j$ and $E_c$ uniquely.\n",
    "- For a normal transmon, $E_j/E_c = 50-60$.There is a room for anharmoncity. It affects the tyep of gate operation, gate speed, etc.\n",
    "- Depending on weak-dispersive ($\\kappa \\gg 2\\chi$) vs strong-dispersive ($\\kappa\\ll2\\chi$) vs intermediate regime (for high-fidelity measurement, $\\kappa=2\\chi$), $\\chi$ and $\\kappa$ are determined. $\\chi=\\left(\\frac{g^2}{\\Delta}\\right)\\cdot\\left(\\frac{\\alpha}{\\Delta+\\alpha}\\right)$.\n",
    "- Put relation Qc vs Cc for capacitive and inductive coupling"
   ]
  },
  {
   "cell_type": "markdown",
   "metadata": {},
   "source": [
    "# CPW, Resonator, Transmon"
   ]
  },
  {
   "cell_type": "code",
   "execution_count": 1,
   "metadata": {
    "code_folding": [
     153,
     209
    ]
   },
   "outputs": [],
   "source": [
    "from math import sqrt, inf, pi, tanh, log, sinh\n",
    "from scipy.special import ellipk\n",
    "from scipy.constants import h, hbar, e, epsilon_0, c, mu_0\n",
    "from scipy import optimize\n",
    "import matplotlib.pyplot as plt\n",
    "import numpy as np\n",
    "from qutip import *\n",
    "\n",
    "class CPW(object):\n",
    "    \"\"\"\n",
    "    Coplanar Waveguide class\n",
    "    \n",
    "       air\n",
    "    -------------       --------       -----------\n",
    "       metal    |   s   |  w   |   s   |\n",
    "    ----------------------------------------------\n",
    "       dielectric\n",
    "    ----------------------------------------------\n",
    "       air\n",
    "                      \n",
    "    Parameters\n",
    "    -----------\n",
    "    w : width of center conductor in um\n",
    "    s : gap size between center conductor and GND plane in um\n",
    "    h : thickness of substrate in um\n",
    "    t : thickness of metal in um\n",
    "    epsilon_r: relative permeability of substrate\n",
    "    metal: type of metal. Need it for kinetic inductance calculation\n",
    "    kinetic_induct_include : True or False\n",
    "    \n",
    "    TODO\n",
    "    ----\n",
    "    lambda_L vs thickness for metal.\n",
    "    \n",
    "    \"\"\"\n",
    "    \n",
    "    def __init__(self, w=10, s=5, h=500, t=0.1, epsilon_r=11.6, metal='Nb', kinetic_induct_include=False):\n",
    "        self.w = w\n",
    "        self.s = s\n",
    "        self.h = h\n",
    "        self.t = t\n",
    "        self.epsilon_r = epsilon_r\n",
    "        self.metal = metal\n",
    "        self.kinetic_induct_include = kinetic_induct_include\n",
    "                    \n",
    "    @property\n",
    "    def b(self):\n",
    "        return self.w + 2 * self.s\n",
    "    \n",
    "    @property\n",
    "    def lambda_L(self):\n",
    "        \"\"\"\n",
    "        London penentration depth of a metal in um. \n",
    "        This depends on thickness and temperature, but we assume T=0 since operating temperature is much lower than Tc.\n",
    "        \"\"\"\n",
    "        \n",
    "        return 0.08 # for 100nm Nb\n",
    "    \n",
    "    @property   \n",
    "    def epsilon_eff(self):\n",
    "        \"\"\"\n",
    "        Effectvie permittivity. Unitless\n",
    "        Ref: Simmons' book (Schuster thesis)\n",
    "        No ground plane under Si????\n",
    "        \"\"\"        \n",
    "        k = self.w / self.b\n",
    "        k3 = tanh(pi*self.w/4/self.h) / tanh(pi*self.b/4/self.h)\n",
    "        k_p = sqrt(1 - k**2)\n",
    "        k3_p = sqrt(1 - k3**2)\n",
    "\n",
    "        K_tilda = ellipk(k_p) * ellipk(k3) / ellipk(k) / ellipk(k3_p)\n",
    "        epsilon_eff = (1 + self.epsilon_r * K_tilda) / (1 + K_tilda)\n",
    "        \n",
    "        return epsilon_eff\n",
    "    \n",
    "    @property\n",
    "    def epsilon_eff_1(self):\n",
    "        \"\"\"\n",
    "        Effectvie permittivity. Unitless\n",
    "        Ref: Gopple thesis\n",
    "        \"\"\"\n",
    "        epsilon_r1 = 1\n",
    "\n",
    "        k0 = self.w / self.b\n",
    "        k0_p = sqrt(1 - k0**2)\n",
    "\n",
    "        # k1 = sinh(pi*2/4/h1) / sinh(pi*b/4/h1)\n",
    "        k1=0\n",
    "        k1_p = sqrt(1 - k1**2)\n",
    "        k2 = sinh(pi*self.w/4/self.h) / sinh(pi*self.b/4/self.h)\n",
    "        k2_p = sqrt(1 - k2**2)\n",
    "\n",
    "        epsilon_eff_1 = (1 \n",
    "                    + (epsilon_r1 - 1)/2*ellipk(k1)*ellipk(k0_p)/ellipk(k1_p)/ellipk(k0) # This term is zero\n",
    "                    + (self.epsilon_r - epsilon_r1)/2*ellipk(k2)*ellipk(k0_p)/ellipk(k2_p)/ellipk(k0)\n",
    "                      )\n",
    "        \n",
    "        return epsilon_eff_1\n",
    "    \n",
    "    @property\n",
    "    def Lm_l(self):\n",
    "        \"\"\" \n",
    "        Magnetic inductance per unit length, H/m\n",
    "        Ref: Goople paper, Yosida1995(Schuster thesis): They show the same expressions.\n",
    "        \"\"\"\n",
    "        k0 = self.w / self.b\n",
    "        k0_p = sqrt(1 - k0**2)\n",
    "        L_l = mu_0 / 4 * ellipk(k0_p)/ellipk(k0)\n",
    "        \n",
    "        return L_l\n",
    "    \n",
    "    @property\n",
    "    def C_l(self):\n",
    "        \"\"\"\n",
    "        Capacitance per unit length, F/m\n",
    "        Ref: Goople paper\n",
    "        \"\"\"\n",
    "        k0 = self.w / self.b\n",
    "        k0_p = sqrt(1 - k0**2)\n",
    "        C_l = 4 * epsilon_0 * self.epsilon_eff * ellipk(k0)/ellipk(k0_p)\n",
    "        \n",
    "        return C_l\n",
    "    \n",
    "    @property\n",
    "    def Lk_l(self):\n",
    "        \"\"\"\n",
    "        Kinetic inductance per length on metal\n",
    "        Ref: Yosida1995 (Schuster thesis)\n",
    "        \"\"\"\n",
    "        \n",
    "        k = self.w / self.b\n",
    "        \n",
    "        g = 1 / (2*(k*ellipk(k))**2) * (-log(self.t/4/self.w) + 2 * (self.w + self.s) / self.b * log(self.s/(self.w + self.s)) \\\n",
    "                                        - self.w/self.b *log(self.t/4/self.b))\n",
    "        Lk_l = mu_0 * self.lambda_L / (self.w * self.s) * g\n",
    "        \n",
    "        return Lk_l\n",
    "            \n",
    "    \n",
    "    @property\n",
    "    def Z0(self):\n",
    "        \"\"\"\n",
    "        Characteristic impedance of CPW.\n",
    "        Ref: Simons book (Schuster thesis)\n",
    "        \"\"\"\n",
    "        k = self.w / self.b\n",
    "        k3 = tanh(pi*self.w/4/self.h) / tanh(pi*self.b/4/self.h)\n",
    "        k_p = sqrt(1 - k**2)\n",
    "        k3_p = sqrt(1 - k3**2)\n",
    "        \n",
    "        Z0 = 60 * pi / sqrt(self.epsilon_eff) / (ellipk(k)/ellipk(k_p) + ellipk(k3)/ellipk(k3_p))\n",
    "        \n",
    "        return Z0\n",
    "        \n",
    "class QuarterWaveResonator(CPW):\n",
    "    \"\"\"\n",
    "    CPW quart-wave resonator class. This inherits CPW class.\n",
    "    \n",
    "    Parameters\n",
    "    ----------\n",
    "    w, a, h, epsilon_s\n",
    "    w_r : fundamental resonant freq in rad/s\n",
    "    kappa : linewidh of resonant peak in rad/s\n",
    "    \n",
    "    TODO:\n",
    "    Calculate frequency shift by coupling cap.\n",
    "    \"\"\"\n",
    "    def __init__(self, w_r=None, kappa=None, **kwargs):\n",
    "        super().__init__(**kwargs)\n",
    "        self.w_r = w_r\n",
    "        self.kappa = kappa\n",
    "                \n",
    "    def __str__(self):\n",
    "        out = f'w={self.w} um, s={self.s} um, h={self.h} um, e_r={self.epsilon_r}, f_r={self.w_r/2/pi/1e9 :.3f} GHz, kappa/2pi={self.kappa/2/pi/1e6 :.3f} MHz'\n",
    "        return out\n",
    "    \n",
    "    @property\n",
    "    def resonator_length(self):\n",
    "        \"\"\"\n",
    "        Calculate the length of resonator in meter. \n",
    "        kinetic_induct : True if kinetic inductance is accounted for.\n",
    "        \"\"\"\n",
    "        if self.kinetic_induct_include:\n",
    "            total_induct_per_length = self.Lm_l + self.Lk_l\n",
    "        else:\n",
    "            total_induct_per_length = self.Lm_l\n",
    "        w_r_pulled = self.get_dressed_res_freq()\n",
    "        \n",
    "        l = 1/sqrt(total_induct_per_length * self.C_l) / (w_r_pulled/2/pi) / 4\n",
    "        \n",
    "        return l\n",
    "    \n",
    "    def get_dressed_res_freq(self):\n",
    "        w_r_pulled = self.w_r  # TODO: calculate frequency shift by coupling cap.\n",
    "        return w_r_pulled\n",
    "    \n",
    "    @property\n",
    "    def Qc(self):\n",
    "        return self.w_r / self.kappa\n",
    "    \n",
    "    @property\n",
    "    def Mc(self):\n",
    "        \"\"\"\n",
    "        Mutual inductance between resonator and feedline, given w_r and kappa.\n",
    "        Ref: Madison Simulation-and-Design\n",
    "        \"\"\"\n",
    "        M = self.Z0 / self.w_r * sqrt(8/self.Qc/pi)\n",
    "        \n",
    "        return M \n",
    "\n",
    "class Transmon(object):\n",
    "    \"\"\"\n",
    "    Charge qubit object\n",
    "    \n",
    "    Parameters\n",
    "    ----------\n",
    "    Ej : Josephson energy in Joule\n",
    "    Ec : Charging energy in Joule\n",
    "    N : number of charge states involved for Hamiltonian matrix\n",
    "    ng_vec : numpy array of gate charge values.\n",
    "    \n",
    "    - Use classmethod 'in_GHz' if you want to use GHz unit for Ej and Ec.\n",
    "    - Usage:  q = Transmon(Ej=10*1e9*h, Ec=0.3*1e9*h) or \n",
    "              q = Transmon.in_GHz(Ej=10, Ec=0.3)  \n",
    "    \"\"\"\n",
    "    \n",
    "    def __init__(self, Ej=0, Ec=0, N=10, ng_vec=np.linspace(-3, 3, 200)):\n",
    "        self.Ej = Ej \n",
    "        self.Ec = Ec \n",
    "        self.N = N        \n",
    "        self.ng_vec = ng_vec\n",
    "       \n",
    "    @classmethod\n",
    "    def in_GHz(cls, Ej=10, Ec=0.3, **kwargs):\n",
    "        return cls(Ej=Ej*1e9*h, Ec=Ec*1e9*h, **kwargs)\n",
    "        \n",
    "    @property\n",
    "    def energies(self):\n",
    "        return  self._get_energies()\n",
    "    \n",
    "    def _get_energies(self):\n",
    "        energies = np.array([self.hamiltonian(ng).eigenenergies() for ng in self.ng_vec])\n",
    "        return energies\n",
    "    \n",
    "    def hamiltonian(self, ng):\n",
    "        \"\"\"\n",
    "        Return the charge qubit hamiltonian as a Qobj instance.\n",
    "        \"\"\"\n",
    "        N = self.N\n",
    "        m = np.diag(4 * self.Ec * (np.arange(-N,N+1)-ng)**2) + 0.5 * self.Ej * (np.diag(-np.ones(2*N), 1) + \n",
    "                                                               np.diag(-np.ones(2*N), -1))\n",
    "        return Qobj(m)\n",
    "\n",
    "    @property\n",
    "    def total_cap(self):\n",
    "        \"\"\"\n",
    "        Total capacitance : C_j + C_g + C_s\n",
    "        C_j : junction capacitance\n",
    "        C_g : cap. between resonator and qubit\n",
    "        C_s : shunt capacitance\n",
    "        \"\"\"\n",
    "        return e**2 / self.Ec /2\n",
    "    \n",
    "    @property\n",
    "    def Ej_to_Ec_ratio(self):\n",
    "        return self.Ej / self.Ec\n",
    "\n",
    "    @property\n",
    "    def charge_dispersion(self):\n",
    "        energies = self.energies  # to evaluate energies once\n",
    "        f01 = (energies[:,1] - energies[:,0])/h\n",
    "        charge_dispersion = (f01.max()-f01.min())\n",
    "\n",
    "        return charge_dispersion\n",
    "    \n",
    "    @property\n",
    "    def anharmonicity(self):\n",
    "        energies = self.energies  # to evaluate energies once\n",
    "        f01 = (energies[:,1] - energies[:,0]) / h\n",
    "        f12 = (energies[:,2] - energies[:,1]) / h\n",
    "        anharmonicity = (f12-f01).mean() \n",
    "\n",
    "        return anharmonicity\n",
    "    \n",
    "    @property\n",
    "    def w01(self):\n",
    "        \"\"\"\n",
    "        qubit frequency in Hz. Average of max and min over ng\n",
    "        \"\"\"\n",
    "        energies = self.energies  # to evaluate energies once\n",
    "        f01 = (energies[:,1] - energies[:,0]) / h\n",
    "        freq_01 = (f01.max() + f01.min()) / 2\n",
    "\n",
    "        return freq_01 * 2 * pi\n",
    "    \n",
    "    @property\n",
    "    def f01(self):\n",
    "        return self.w01 / 2/ pi\n",
    "   \n",
    "    def g01(self, res, C_g):\n",
    "        \"\"\"\n",
    "        Calculate the coupling strength.\n",
    "        Ref: Koch paper\n",
    "        \n",
    "        Parameters:\n",
    "        res: Resonator object\n",
    "        C_g: Coupling capacitance between resonator and qubit\n",
    "        \"\"\"\n",
    "\n",
    "        Ej, Ec = self.Ej, self.Ec\n",
    "        w_r = res.w_r\n",
    "        C_l = res.C_l\n",
    "        l = res.resonator_length\n",
    "\n",
    "        matrix_element_01 = sqrt(1/2)*(Ej/8/Ec)**(1/4)\n",
    "        beta = C_g / self.total_cap\n",
    "        #     alpha = e**2 / (4*pi*epsilon_0*hbar*c)\n",
    "\n",
    "        V0rms = sqrt(hbar * w_r / (C_l * l))\n",
    "        g_01 = 2 * beta * e * V0rms * matrix_element_01 / hbar\n",
    "\n",
    "        return g_01\n",
    "    \n",
    "    def g01_Madison(self, res, C_g):\n",
    "        \"\"\"\n",
    "        g = 1/2 * Cg /sqrt(Cg+Cs)/sqrt(Cg+Cr)*sqrt(wr*wq)\n",
    "        Cg: gate capacitance in F\n",
    "        Cs: qubit shunt capacitance in F\n",
    "        Cr: lump-element effective capacitance, Cr = C_l * l /2\n",
    "        wr: resonator frequency, rad/s\n",
    "        wq: qubit 01 frequency, rad/s\n",
    "        \n",
    "        This expression comes from the model that two LC resonators coupled via gate capacitor(Cg).\n",
    "        Note: I think Cg+Cs should be replaced with Cg+Cs+Cj....\n",
    "        \"\"\"\n",
    "        C_r = res.C_l*res.resonator_length/2\n",
    "        g_01 = 1/2 * C_g / sqrt(self.total_cap) / sqrt(C_g + C_r) * sqrt(self.w01 * res.w_r)\n",
    "        \n",
    "        return g_01\n",
    "    \n",
    "    def Chi01(self, res, C_g):\n",
    "        \"\"\"\n",
    "        Ref: Koch paper\n",
    "        res : Resonator object\n",
    "        C_g : capacitance between resonator and qubit\n",
    "        \"\"\"\n",
    "        delta = self.w01 - res.w_r\n",
    "        anharm = self.anharmonicity\n",
    "        \n",
    "        Chi01 = self.g01(res, C_g)**2 / delta * (anharm/(anharm + delta)) \n",
    "        \n",
    "        return Chi01\n",
    "    \n",
    "    def plot_energies(self, ymax=(20, 3)):\n",
    "        \"\"\"\n",
    "        Plot energy levels as a function of bias parameter ng_vec.\n",
    "        \"\"\"\n",
    "        energies = self.energies  # to evaluate energies once\n",
    "        \n",
    "        fig, axes = plt.subplots(1,2, figsize=(16,6))\n",
    "\n",
    "        for n in range(energies.shape[1]):\n",
    "            axes[0].plot(self.ng_vec, energies[:,n]/1e9/h)\n",
    "\n",
    "        axes[0].set_ylim((energies[0,:]/1e9/h).min() * 1.3, ymax[0]) # modified, JK\n",
    "        axes[0].set_xlabel(r'$n_g$', fontsize=18)\n",
    "        axes[0].set_ylabel(r'$E_n$', fontsize=18)\n",
    "\n",
    "        for n in range(energies.shape[1]):\n",
    "            axes[1].plot(self.ng_vec, (energies[:,n]-energies[:,0])/(energies[:,1]-energies[:,0]))\n",
    "\n",
    "        axes[1].set_ylim(-0.2, ymax[1])\n",
    "        axes[1].set_xlabel(r'$n_g$', fontsize=18)\n",
    "        axes[1].set_ylabel(r'$(E_n-E_0)/(E_1-E_0)$', fontsize=18)\n",
    "        return fig, axes\n",
    "    \n",
    "    def find_Ej_Ec(self, f01, anharm):\n",
    "        \"\"\" \n",
    "        Given f01 and anharmonicity, find Ej and Ec.\n",
    "        Minimize (f01-f(Ej, Ec))**2 + (anharmonictiy- anharm(Ej,Ec))**2 \n",
    "        Returns Ej and Ec solution.\n",
    "        \"\"\"\n",
    "        sol = optimize.fmin(self._func, [12e9*h, 0.3e9*h], args=(f01, anharm))\n",
    "        print(f'Ej={sol[0]/h/1e9} GHz, Ec={sol[1]/h/1e9} GHz')\n",
    "        return sol\n",
    "    \n",
    "    def _func(self, x, *args):\n",
    "        self.Ej = x[0]\n",
    "        self.Ec = x[1]\n",
    "#         print(f'Ej={self.Ej}')\n",
    "#         print(f'Ec={self.Ec}')\n",
    "        \n",
    "        return (self.f01 - args[0])**2 +(self.anharmonicity - args[1])**2\n",
    "\n",
    "#All three classes are in transmonCPW module"
   ]
  },
  {
   "cell_type": "code",
   "execution_count": 2,
   "metadata": {},
   "outputs": [],
   "source": [
    "# from transmonCPW import CPW, QuarterWaveResonator, Transmon\n",
    "from math import pi"
   ]
  },
  {
   "cell_type": "markdown",
   "metadata": {},
   "source": [
    "# Test"
   ]
  },
  {
   "cell_type": "code",
   "execution_count": 3,
   "metadata": {},
   "outputs": [],
   "source": [
    "# from resonator import QuarterWaveResonator\n",
    "# from qubit import Transmon"
   ]
  },
  {
   "cell_type": "code",
   "execution_count": 61,
   "metadata": {},
   "outputs": [
    {
     "name": "stdout",
     "output_type": "stream",
     "text": [
      "w=250 um, s=175 um, h=500 um, e_r=11.6, f_r=6.400 GHz, kappa/2pi=0.300 MHz\n"
     ]
    }
   ],
   "source": [
    "res = QuarterWaveResonator(w=250\n",
    "                           , s=175\n",
    "                           , h=500\n",
    "                           , t=0.1\n",
    "                           , epsilon_r=11.6\n",
    "                           , metal='Nb'\n",
    "                           , kinetic_induct_include=False\n",
    "                           , w_r=6.4e9 * (2*pi)\n",
    "                           , kappa=0.3e6 * (2*pi)\n",
    "                          )\n",
    "print(res)"
   ]
  },
  {
   "cell_type": "code",
   "execution_count": 62,
   "metadata": {},
   "outputs": [
    {
     "data": {
      "text/plain": [
       "50.603681739448604"
      ]
     },
     "execution_count": 62,
     "metadata": {},
     "output_type": "execute_result"
    }
   ],
   "source": [
    "res.Z0"
   ]
  },
  {
   "cell_type": "code",
   "execution_count": 36,
   "metadata": {},
   "outputs": [
    {
     "name": "stdout",
     "output_type": "stream",
     "text": [
      "L(nH) = 1.472\n"
     ]
    }
   ],
   "source": [
    "w, t, l = 2e-3, 0.1e-3, 1 # mm\n",
    "L = 0.2*l*(np.log(2*l/(w+t))+0.5+(w+t)/3/l)\n",
    "print(f'L(nH) = {L:.3f}')"
   ]
  },
  {
   "cell_type": "code",
   "execution_count": 11,
   "metadata": {},
   "outputs": [
    {
     "data": {
      "text/plain": [
       "-12.126272883117188"
      ]
     },
     "execution_count": 11,
     "metadata": {},
     "output_type": "execute_result"
    }
   ],
   "source": [
    "gamma = (160-96.5)/(160+96.5)\n",
    "20*np.log10(gamma)"
   ]
  },
  {
   "cell_type": "code",
   "execution_count": 31,
   "metadata": {},
   "outputs": [
    {
     "data": {
      "text/plain": [
       "1.589101546689813e-06"
      ]
     },
     "execution_count": 31,
     "metadata": {},
     "output_type": "execute_result"
    }
   ],
   "source": [
    "res.Lm_l/1e-6"
   ]
  },
  {
   "cell_type": "code",
   "execution_count": 12,
   "metadata": {},
   "outputs": [
    {
     "data": {
      "text/plain": [
       "0.004665450575163268"
      ]
     },
     "execution_count": 12,
     "metadata": {},
     "output_type": "execute_result"
    }
   ],
   "source": [
    "res.resonator_length"
   ]
  },
  {
   "cell_type": "code",
   "execution_count": 94,
   "metadata": {},
   "outputs": [
    {
     "data": {
      "text/plain": [
       "0.021734327555452918"
      ]
     },
     "execution_count": 94,
     "metadata": {},
     "output_type": "execute_result"
    }
   ],
   "source": [
    "res.Lk_l/res.Lm_l"
   ]
  },
  {
   "cell_type": "code",
   "execution_count": 119,
   "metadata": {},
   "outputs": [
    {
     "data": {
      "text/plain": [
       "1.4236531206698523e-11"
      ]
     },
     "execution_count": 119,
     "metadata": {},
     "output_type": "execute_result"
    }
   ],
   "source": [
    "res.Mc"
   ]
  },
  {
   "cell_type": "code",
   "execution_count": 28,
   "metadata": {},
   "outputs": [
    {
     "data": {
      "text/plain": [
       "2.3272520045524528e-06"
      ]
     },
     "execution_count": 28,
     "metadata": {},
     "output_type": "execute_result"
    }
   ],
   "source": [
    "res.Lm_l"
   ]
  },
  {
   "cell_type": "code",
   "execution_count": 18,
   "metadata": {},
   "outputs": [
    {
     "name": "stdout",
     "output_type": "stream",
     "text": [
      "2.2807131758889314 mm\n"
     ]
    }
   ],
   "source": [
    "print(f'{1e-9/res.Lm_l*1e3} mm')"
   ]
  },
  {
   "cell_type": "code",
   "execution_count": 2,
   "metadata": {},
   "outputs": [],
   "source": [
    "q = Transmon.in_GHz(Ej=12, Ec=0.30)"
   ]
  },
  {
   "cell_type": "code",
   "execution_count": 18,
   "metadata": {},
   "outputs": [
    {
     "data": {
      "text/plain": [
       "-352.06423089206646"
      ]
     },
     "execution_count": 18,
     "metadata": {},
     "output_type": "execute_result"
    }
   ],
   "source": [
    "q.anharmonicity/1e6"
   ]
  },
  {
   "cell_type": "code",
   "execution_count": 19,
   "metadata": {},
   "outputs": [
    {
     "data": {
      "text/plain": [
       "1.9878210449999999e-25"
      ]
     },
     "execution_count": 19,
     "metadata": {},
     "output_type": "execute_result"
    }
   ],
   "source": [
    "0.3e9*h"
   ]
  },
  {
   "cell_type": "code",
   "execution_count": 3,
   "metadata": {},
   "outputs": [
    {
     "name": "stdout",
     "output_type": "stream",
     "text": [
      "Optimization terminated successfully.\n",
      "         Current function value: 0.000021\n",
      "         Iterations: 88\n",
      "         Function evaluations: 170\n",
      "Ej=6.9528378245419775 GHz, Ec=0.3449478232764514 GHz\n"
     ]
    }
   ],
   "source": [
    "sol = q.find_Ej_Ec(4e9, -0.45e9)"
   ]
  },
  {
   "cell_type": "code",
   "execution_count": 5,
   "metadata": {},
   "outputs": [
    {
     "name": "stdout",
     "output_type": "stream",
     "text": [
      "-450.0000000043336\n",
      "3.9999999999984492\n",
      "5.780699465854645\n"
     ]
    }
   ],
   "source": [
    "(q.Ej, q.Ec) = sol\n",
    "# Chi01 = self.g01(res, C_g)**2 / delta * (anharm/(anharm + delta)) \n",
    "# sqrt((0.9e6 * (6.805-5.285)*1e9))/1e6\n",
    "print(q.anharmonicity/1e6)\n",
    "print(q.f01/1e9)\n",
    "print(q.charge_dispersion/1e6)"
   ]
  },
  {
   "cell_type": "code",
   "execution_count": 83,
   "metadata": {},
   "outputs": [
    {
     "data": {
      "text/plain": [
       "6.84136194944555e-14"
      ]
     },
     "execution_count": 83,
     "metadata": {},
     "output_type": "execute_result"
    }
   ],
   "source": [
    "q.total_cap"
   ]
  },
  {
   "cell_type": "code",
   "execution_count": 197,
   "metadata": {},
   "outputs": [
    {
     "data": {
      "text/plain": [
       "4976.509099566019"
      ]
     },
     "execution_count": 197,
     "metadata": {},
     "output_type": "execute_result"
    }
   ],
   "source": [
    "res.resonator_length * 1e6"
   ]
  },
  {
   "cell_type": "code",
   "execution_count": 199,
   "metadata": {},
   "outputs": [
    {
     "data": {
      "text/plain": [
       "0.0590649871378968"
      ]
     },
     "execution_count": 199,
     "metadata": {},
     "output_type": "execute_result"
    }
   ],
   "source": [
    "res.Lk_l / res.Lm_l"
   ]
  },
  {
   "cell_type": "code",
   "execution_count": 285,
   "metadata": {},
   "outputs": [
    {
     "data": {
      "text/plain": [
       "1.694637083911534e-10"
      ]
     },
     "execution_count": 285,
     "metadata": {},
     "output_type": "execute_result"
    }
   ],
   "source": [
    "res.C_l"
   ]
  },
  {
   "cell_type": "code",
   "execution_count": 202,
   "metadata": {},
   "outputs": [
    {
     "name": "stdout",
     "output_type": "stream",
     "text": [
      "Ej(GHz), Ec, Ej/Ec, charge disp(MHz), f01(GHz), anharm(MHz), g/2pi, Chi/2pi\n",
      "----------------------------------------------------------------------------\n",
      "10.0, 0.39, 25.641,  1.810,          5.162, -485.560, 60.005, -0.362\n"
     ]
    }
   ],
   "source": [
    "Cg = 3e-15\n",
    "print(f'Ej(GHz), Ec, Ej/Ec, charge disp(MHz), f01(GHz), anharm(MHz), g/2pi, Chi/2pi')\n",
    "print(f'----------------------------------------------------------------------------')\n",
    "print(f'{q.Ej/1e9/h:.1f}, {q.Ec/1e9/h}, {q.Ej_to_Ec_ratio:.3f},  {q.charge_dispersion/1e6:.3f}, \\\n",
    "         {q.f01/1e9:.3f}, {q.anharmonicity/1e6:.3f}, {q.g01(res, C_g=Cg)/2/pi/1e6:.3f}, {q.Chi01(res, C_g=Cg)/2/pi/1e6:.3f}')"
   ]
  },
  {
   "cell_type": "code",
   "execution_count": 179,
   "metadata": {},
   "outputs": [
    {
     "data": {
      "text/plain": [
       "(<matplotlib.figure.Figure at 0x7f7db8bbcd68>,\n",
       " array([<matplotlib.axes._subplots.AxesSubplot object at 0x7f7db895a828>,\n",
       "        <matplotlib.axes._subplots.AxesSubplot object at 0x7f7db8c7c940>],\n",
       "       dtype=object))"
      ]
     },
     "execution_count": 179,
     "metadata": {},
     "output_type": "execute_result"
    },
    {
     "data": {
      "image/png": "[encoded data removed]",
      "text/plain": [
       "<matplotlib.figure.Figure at 0x7f7db8bbcd68>"
      ]
     },
     "metadata": {
      "needs_background": "light"
     },
     "output_type": "display_data"
    }
   ],
   "source": [
    "%matplotlib inline\n",
    "q.plot_energies()"
   ]
  },
  {
   "cell_type": "markdown",
   "metadata": {},
   "source": [
    "# Anharmonicity vs Ej/Ec for different N"
   ]
  },
  {
   "cell_type": "code",
   "execution_count": 211,
   "metadata": {
    "scrolled": false
   },
   "outputs": [],
   "source": [
    "Ej = 10\n",
    "Ec = np.linspace(0.2,5, 100) \n",
    "Ec = np.logspace(-1, 1.5, 50)\n",
    "\n",
    "Ns = [4, 6, 8, 10, 12]\n",
    "qs = [Transmon.in_GHz(Ej=Ej,Ec=0, N=n) for n in Ns]\n",
    "anharms = []\n",
    "\n",
    "for q in qs:\n",
    "    anh = np.array([])\n",
    "    for E in Ec:\n",
    "        q.Ec = E *1e9*h\n",
    "        anh = np.append(anh, q.anharmonicity)\n",
    "    anharms.append(anh)\n",
    "    "
   ]
  },
  {
   "cell_type": "code",
   "execution_count": 212,
   "metadata": {},
   "outputs": [
    {
     "name": "stdout",
     "output_type": "stream",
     "text": [
      "Using matplotlib backend: TkAgg\n"
     ]
    },
    {
     "data": {
      "text/plain": [
       "<matplotlib.legend.Legend at 0x7f7512457438>"
      ]
     },
     "execution_count": 212,
     "metadata": {},
     "output_type": "execute_result"
    },
    {
     "data": {
      "image/png": "[encoded data removed]",
      "text/plain": [
       "<matplotlib.figure.Figure at 0x7f7512426be0>"
      ]
     },
     "metadata": {
      "needs_background": "light"
     },
     "output_type": "display_data"
    }
   ],
   "source": [
    "%matplotlib\n",
    "# import plotly\n",
    "# import plotly.graph_objs as go\n",
    "# from plotly.offline import iplot\n",
    "# plotly.offline.init_notebook_mode(connected=True)\n",
    "\n",
    "for anh in anharms:        \n",
    "    plt.plot(Ej/Ec, anh/(Ec*1e9), '-')\n",
    "\n",
    "plt.tick_params\n",
    "plt.xlabel('Ej/Ec')\n",
    "plt.ylabel(r'$\\alpha/Ec$', fontsize=20)\n",
    "plt.grid()\n",
    "plt.legend([f'N={n}' for n in Ns])\n",
    "\n",
    "# # iplot\n",
    "# data = []\n",
    "# for anh in anharms:\n",
    "#     data.append(go.Scatter(x=Ej/Ec, y=anh/(Ec*1e9)))\n",
    "    \n",
    "# iplot({\n",
    "#     \"data\": data,\n",
    "#     \"layout\": go.Layout(title=\"Anharmoniciity vs Ej/Ec\")\n",
    "    \n",
    "# })"
   ]
  },
  {
   "cell_type": "code",
   "execution_count": 151,
   "metadata": {},
   "outputs": [
    {
     "data": {
      "text/plain": [
       "0.00497635290192806"
      ]
     },
     "execution_count": 151,
     "metadata": {},
     "output_type": "execute_result"
    }
   ],
   "source": [
    "res.get_resonator_length()"
   ]
  },
  {
   "cell_type": "code",
   "execution_count": null,
   "metadata": {},
   "outputs": [],
   "source": []
  },
  {
   "cell_type": "code",
   "execution_count": null,
   "metadata": {},
   "outputs": [],
   "source": []
  }
 ],
 "metadata": {
  "kernelspec": {
   "display_name": "Python 3",
   "language": "python",
   "name": "python3"
  },
  "language_info": {
   "codemirror_mode": {
    "name": "ipython",
    "version": 3
   },
   "file_extension": ".py",
   "mimetype": "text/x-python",
   "name": "python",
   "nbconvert_exporter": "python",
   "pygments_lexer": "ipython3",
   "version": "3.8.5"
  },
  "toc": {
   "base_numbering": 1,
   "nav_menu": {},
   "number_sections": true,
   "sideBar": false,
   "skip_h1_title": false,
   "title_cell": "Table of Contents",
   "title_sidebar": "Contents",
   "toc_cell": false,
   "toc_position": {
    "height": "420px",
    "left": "324px",
    "top": "110px",
    "width": "178.792px"
   },
   "toc_section_display": true,
   "toc_window_display": false
  }
 },
 "nbformat": 4,
 "nbformat_minor": 2
}
