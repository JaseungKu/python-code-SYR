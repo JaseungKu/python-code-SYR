{
 "cells": [
  {
   "cell_type": "code",
   "execution_count": 1,
   "metadata": {},
   "outputs": [
    {
     "name": "stdout",
     "output_type": "stream",
     "text": [
      "Using matplotlib backend: TkAgg\n"
     ]
    }
   ],
   "source": [
    "%matplotlib\n",
    "import matplotlib.pyplot as plt\n",
    "import numpy as np\n",
    "from qutip import *\n",
    "from scipy.constants import pi,h\n",
    "import functools\n",
    "import operator"
   ]
  },
  {
   "cell_type": "code",
   "execution_count": 198,
   "metadata": {},
   "outputs": [],
   "source": [
    "# old\n",
    "def hamiltonian_t_pulseTrain(t, args):\n",
    "    \"\"\" evaluate the hamiltonian at time t. \"\"\"\n",
    "    H0 = args[0]\n",
    "    H1 = args[1]\n",
    "    time_part = functools.reduce(operator.add, [np.exp(-(t-args[3]-i*2*pi/args[4])**2/2/args[2]**2) * (np.heaviside(t-i*2*pi/w_01,1)+np.heaviside(t+2*tc-i*2*pi/w_01,-1)) for i in range(n)])\n",
    "    \n",
    "    return H0 +  H1 * time_part"
   ]
  },
  {
   "cell_type": "code",
   "execution_count": 258,
   "metadata": {},
   "outputs": [],
   "source": [
    "# check a Gaussian pulse train\n",
    "t1 = np.linspace(0, n * 2*pi/w_01, 100001)\n",
    "y1 = functools.reduce(operator.add, [ np.exp(-(t1-tc -i*2*pi/w_01)**2/2/tau**2) * (np.heaviside(t1-i*2*pi/w_01,0)- np.heaviside(t1-2*tc-i*2*pi/w_01,0)) for i in range(n)])"
   ]
  },
  {
   "cell_type": "code",
   "execution_count": 259,
   "metadata": {},
   "outputs": [
    {
     "data": {
      "text/plain": [
       "[<matplotlib.lines.Line2D at 0x7f103bda9c50>]"
      ]
     },
     "execution_count": 259,
     "metadata": {},
     "output_type": "execute_result"
    }
   ],
   "source": [
    "# plt.plot(t0,y0) np.exp(-(t1-tc -i*2*pi/w_01)**2/2/tau**2) *\n",
    "plt.plot(t1, y1)"
   ]
  },
  {
   "cell_type": "markdown",
   "metadata": {},
   "source": [
    "# Using a SFQ pulse train in H1(t)"
   ]
  },
  {
   "cell_type": "code",
   "execution_count": 2,
   "metadata": {},
   "outputs": [],
   "source": [
    "# parameters\n",
    "w_01 = 5 * 2 *pi # in GHz*2*pi \n",
    "tau = 2e-3 # in ns \n",
    "tc = 5*tau # in ns \n",
    "del_theta = 2*pi/360*2 # in rad\n",
    "hbar = 1\n",
    "n = 90"
   ]
  },
  {
   "cell_type": "code",
   "execution_count": 3,
   "metadata": {},
   "outputs": [
    {
     "name": "stdout",
     "output_type": "stream",
     "text": [
      "10.2%. Run time:   1.60s. Est. time left: 00:00:00:14\n",
      "20.2%. Run time:   3.03s. Est. time left: 00:00:00:12\n",
      "30.1%. Run time:   4.42s. Est. time left: 00:00:00:10\n",
      "40.1%. Run time:   5.97s. Est. time left: 00:00:00:08\n",
      "50.1%. Run time:   7.75s. Est. time left: 00:00:00:07\n",
      "60.1%. Run time:   9.41s. Est. time left: 00:00:00:06\n",
      "70.1%. Run time:  10.82s. Est. time left: 00:00:00:04\n",
      "80.0%. Run time:  12.19s. Est. time left: 00:00:00:03\n",
      "90.0%. Run time:  13.61s. Est. time left: 00:00:00:01\n",
      "Total run time:  15.02s\n"
     ]
    }
   ],
   "source": [
    "def H1_coeff(t, args):\n",
    "    out = functools.reduce(operator.add, [np.exp(-(t-args['tc']-i*2*pi/args['w_01'])**2/2/args['tau']**2) * (np.heaviside(t-i*2*pi/args['w_01'],0)+np.heaviside(t+2*args['tc']-i*2*pi/args['w_01'],0)) for i in range(args['n'])])\n",
    "    return out\n",
    "\n",
    "psi0 = basis(2,0)\n",
    "H0 = hbar*w_01/2*(qeye(2) - sigmaz()) \n",
    "H1 = hbar*del_theta/2/np.sqrt(2*pi)/tau*sigmay()\n",
    "tlist_pulseTrain = np.linspace(0, n * 2*pi/w_01, 501)\n",
    "H = [H0, [H1, H1_coeff]]\n",
    "args = {'tau':tau, 'tc': tc, 'w_01': w_01,'n':n}\n",
    "output = mesolve(H, psi0, tlist_pulseTrain, [], [sigmaz()], args, progress_bar=True)  "
   ]
  },
  {
   "cell_type": "code",
   "execution_count": 4,
   "metadata": {},
   "outputs": [],
   "source": [
    "fig,ax = plt.subplots(1,1, figsize=(10,6))\n",
    "ax.plot(tlist_pulseTrain, output.expect[0])\n",
    "ax.set_xlabel('Time (ns)', fontsize=18)\n",
    "ax.set_ylabel(r'$<\\sigma_z>$', fontsize=18)\n",
    "ax.tick_params(axis='x', labelsize=18)\n",
    "ax.tick_params(axis='y', labelsize=18)\n",
    "ax.grid('on')"
   ]
  },
  {
   "cell_type": "markdown",
   "metadata": {},
   "source": [
    "# Using evolution operator"
   ]
  },
  {
   "cell_type": "code",
   "execution_count": 29,
   "metadata": {},
   "outputs": [],
   "source": [
    "def H1_coeff_1(t, args):\n",
    "#     return np.exp(-(t-args['tc'])**2/2/args['tau']**2)\n",
    "    return np.exp(-t**2/2/args['tau']**2)\n",
    "\n",
    "U_f = lambda t: (1j*w_01*t/2*sigmaz()).expm()"
   ]
  },
  {
   "cell_type": "code",
   "execution_count": 30,
   "metadata": {},
   "outputs": [],
   "source": [
    "# parameters\n",
    "w_01 = 5 * 2 *pi # in GHz*2*pi \n",
    "tau = 2e-3 # in ns \n",
    "tc = 5*tau # in ns \n",
    "del_theta = 2*pi/360*2 # in rad\n",
    "hbar = 1\n",
    "n = 360"
   ]
  },
  {
   "cell_type": "code",
   "execution_count": 31,
   "metadata": {},
   "outputs": [],
   "source": [
    "# Compute evolution operator per one unit of SFQ pulse train,i.e., one SFQ + free evolotuion\n",
    "H0 = hbar*w_01/2*(qeye(2) - sigmaz()) \n",
    "H1 = hbar*del_theta/2/np.sqrt(2*pi)/tau*sigmay() \n",
    "H = [H0, [H1, H1_coeff_1]]\n",
    "\n",
    "tlist = np.linspace(-tc, tc, 101)\n",
    "args = {'tau':tau, 'tc':tc, 'w_01':w_01}\n",
    "\n",
    "U_single_Gauss = propagator(H, tlist, [], args=args)\n",
    "U_single = U_f(2*pi/w_01-tc) * U_single_Gauss[-1] * U_f(-tc)\n",
    "\n",
    "U1 = [U_single]\n",
    "for i in range(n-1):\n",
    "    U1.append(U_single*U1[-1])\n",
    "    \n",
    "sigmaz_expect = expect(sigmaz(), U1*basis(2,0)) # expectation value of sigma_z\n",
    "\n",
    "# plot\n",
    "fig,ax = plt.subplots(1,1, figsize=(10,6))\n",
    "tlist = [2*pi/w_01*i for i in range(n)]\n",
    "ax.plot(tlist, sigmaz_expect,'-o')\n",
    "ax.set_xlabel('Time (ns)', fontsize=18)\n",
    "ax.set_ylabel(r'$<\\sigma_z>$', fontsize=18)\n",
    "ax.tick_params(axis='x', labelsize=18)\n",
    "ax.tick_params(axis='y', labelsize=18)\n",
    "ax.grid('on')"
   ]
  },
  {
   "cell_type": "code",
   "execution_count": 19,
   "metadata": {},
   "outputs": [],
   "source": []
  },
  {
   "cell_type": "markdown",
   "metadata": {},
   "source": [
    "# Fid vs n"
   ]
  },
  {
   "cell_type": "code",
   "execution_count": 25,
   "metadata": {},
   "outputs": [],
   "source": [
    "theta = pi/2\n",
    "\n",
    "for n in range(n_max):\n",
    "    U_id = (1j*theta*sigmay()/2).expm()\n",
    "    Fid = (np.absolute((U_id.dag() * U_G(U_single,n))[-1].tr())**2+2 )/6\n",
    "\n"
   ]
  }
 ],
 "metadata": {
  "kernelspec": {
   "display_name": "Python 3",
   "language": "python",
   "name": "python3"
  },
  "language_info": {
   "codemirror_mode": {
    "name": "ipython",
    "version": 3
   },
   "file_extension": ".py",
   "mimetype": "text/x-python",
   "name": "python",
   "nbconvert_exporter": "python",
   "pygments_lexer": "ipython3",
   "version": "3.6.9"
  }
 },
 "nbformat": 4,
 "nbformat_minor": 4
}
