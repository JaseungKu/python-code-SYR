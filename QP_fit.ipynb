{
 "cells": [
  {
   "cell_type": "code",
   "execution_count": 1,
   "metadata": {},
   "outputs": [
    {
     "name": "stdout",
     "output_type": "stream",
     "text": [
      "Using matplotlib backend: Qt5Agg\n"
     ]
    }
   ],
   "source": [
    "%matplotlib\n",
    "import numpy as np\n",
    "import matplotlib.pyplot as plt\n",
    "\n"
   ]
  },
  {
   "cell_type": "code",
   "execution_count": 33,
   "metadata": {},
   "outputs": [
    {
     "data": {
      "text/plain": [
       "[<matplotlib.lines.Line2D at 0x7fda19a037c0>]"
      ]
     },
     "execution_count": 33,
     "metadata": {},
     "output_type": "execute_result"
    }
   ],
   "source": [
    "P1 = lambda t, n_qp, T1_qp, T1_R: np.exp(n_qp*(np.exp(-t/T1_qp)-1) - t/T1_R)\n",
    "\n",
    "n_qp = 0\n",
    "T1_qp = 5\n",
    "T1_R = 5\n",
    "\n",
    "t_list = np.linspace(0,40,200)\n",
    "P1_list = P1(t_list, n_qp, T1_qp, T1_R)\n",
    "\n",
    "plt.plot(t_list, P1_list)"
   ]
  },
  {
   "cell_type": "code",
   "execution_count": 30,
   "metadata": {},
   "outputs": [
    {
     "data": {
      "text/plain": [
       "[<matplotlib.lines.Line2D at 0x7fda19b672e0>]"
      ]
     },
     "execution_count": 30,
     "metadata": {},
     "output_type": "execute_result"
    }
   ],
   "source": [
    "log_P1 = lambda t, n_qp, T1_qp, T1_R: n_qp*(np.exp(-t/T1_qp)-1) - t/T1_R\n",
    "\n",
    "n_qp = 1\n",
    "T1_qp = 3\n",
    "T1_R = 20\n",
    "\n",
    "t_list = np.linspace(0,40,200)\n",
    "logP1_list = log_P1(t_list, n_qp, T1_qp, T1_R)\n",
    "\n",
    "plt.plot(t_list, logP1_list)"
   ]
  },
  {
   "cell_type": "code",
   "execution_count": null,
   "metadata": {},
   "outputs": [],
   "source": []
  }
 ],
 "metadata": {
  "kernelspec": {
   "display_name": "Python 3",
   "language": "python",
   "name": "python3"
  },
  "language_info": {
   "codemirror_mode": {
    "name": "ipython",
    "version": 3
   },
   "file_extension": ".py",
   "mimetype": "text/x-python",
   "name": "python",
   "nbconvert_exporter": "python",
   "pygments_lexer": "ipython3",
   "version": "3.8.5"
  },
  "toc": {
   "base_numbering": 1,
   "nav_menu": {},
   "number_sections": true,
   "sideBar": true,
   "skip_h1_title": false,
   "title_cell": "Table of Contents",
   "title_sidebar": "Contents",
   "toc_cell": false,
   "toc_position": {},
   "toc_section_display": true,
   "toc_window_display": false
  }
 },
 "nbformat": 4,
 "nbformat_minor": 4
}
