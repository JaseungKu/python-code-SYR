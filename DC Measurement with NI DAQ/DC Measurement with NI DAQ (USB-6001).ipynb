{
 "cells": [
  {
   "cell_type": "markdown",
   "metadata": {},
   "source": [
    "# Import modules (run once)"
   ]
  },
  {
   "cell_type": "code",
   "execution_count": 4,
   "metadata": {},
   "outputs": [
    {
     "name": "stdout",
     "output_type": "stream",
     "text": [
      "Using matplotlib backend: Qt5Agg\n"
     ]
    }
   ],
   "source": [
    "%matplotlib\n",
    "import sys\n",
    "import numpy as np\n",
    "import visa\n",
    "import matplotlib.pyplot as plt\n",
    "\n",
    "# Add path\n",
    "sys.path.append('..\\Instrument Driver')\n",
    "sys.path.append('..\\Helper')\n",
    "\n",
    "# import custom modules\n",
    "import myplots_py3\n",
    "\n",
    "# import instrument driver\n",
    "import nidaqmx.stream_readers\n",
    "# import AFG3252\n",
    "import Lakeshore332"
   ]
  },
  {
   "cell_type": "markdown",
   "metadata": {
    "collapsed": true
   },
   "source": [
    "# Class/function definition"
   ]
  },
  {
   "cell_type": "code",
   "execution_count": 50,
   "metadata": {
    "code_folding": [
     29
    ]
   },
   "outputs": [],
   "source": [
    "# class DAQ(object):\n",
    "#     \"\"\"\n",
    "#     DAQ factory with 2 analog inputs\n",
    "#     Inputs: sample_num, sample_rate\n",
    "#     \"\"\"\n",
    "#     def __init__(self, sample_num=sample_num, sample_rate=sample_rate):\n",
    "#         self.sample_num = sample_num\n",
    "#         self.sample_rate = sample_rate\n",
    "#         self.DAQ_analog_inputs = np.array([,])\n",
    "        \n",
    "#         # create a task\n",
    "#         self.task = nidaqmx.task.Task() \n",
    "#         self.ai = nidaqmx.stream_readers.AnalogMultiChannelReader(self.task.in_stream) # create ai\n",
    "        \n",
    "#         # set analog inputs\n",
    "#         self.task.ai_channels.add_ai_voltage_chan(\"Dev1/ai0\") # for I \n",
    "#         self.task.ai_channels.add_ai_voltage_chan(\"Dev1/ai1\") # for V\n",
    "        \n",
    "#         # set external trigger\n",
    "#         self.task.triggers.start_trigger.cfg_dig_edge_start_trig('/Dev1/PFI0')\n",
    "\n",
    "#         # set sampling rate and number of samples\n",
    "#         self.task.timing.cfg_samp_clk_timing(self.sample_rate, samps_per_chan=self.sample_num) # set sampling rate per channel\n",
    "                      \n",
    "#     def getData(self):        \n",
    "#         self.ai.read_many_sample(self.DAQ_analog_inputs, self.sample_num)\n",
    "#         return self.DAQ_analog_inputs\n",
    "\n",
    "\n",
    "class VI_Meas(object):\n",
    "    \"\"\"\n",
    "    Do VI measurement\n",
    "    \"\"\"\n",
    "        \n",
    "    def __init__(self, standard_resistance, preamp_gain_for_I, preamp_gain_for_V, sample_num, sample_rate ):\n",
    "        self.standard_resistance = standard_resistance\n",
    "        self.preamp_gain_for_I = preamp_gain_for_I\n",
    "        self.preamp_gain_for_V = preamp_gain_for_V\n",
    "        self.sample_num = sample_num\n",
    "        self.sample_rate = sample_rate\n",
    "        \n",
    "        self._configure_DAQ()\n",
    "        \n",
    "        self.DAQ_analog_inputs = np.zeros(sample_num)\n",
    "    \n",
    "    def _configure_DAQ(self):\n",
    "        \"\"\"\n",
    "            Configure NI DAQ; two analog inputs, trigger, sampling rate and number\n",
    "            of samples.\n",
    "        \"\"\"\n",
    "        # create a task\n",
    "        self.task = nidaqmx.task.Task() \n",
    "        self.ai = nidaqmx.stream_readers.AnalogMultiChannelReader(self.task.in_stream) # create ai\n",
    "        \n",
    "        # set analog inputs\n",
    "        self.task.ai_channels.add_ai_voltage_chan(\"Dev1/ai0\") # for I \n",
    "        self.task.ai_channels.add_ai_voltage_chan(\"Dev1/ai1\") # for V\n",
    "        \n",
    "        # set external trigger\n",
    "        self.task.triggers.start_trigger.cfg_dig_edge_start_trig('/Dev1/PFI0')\n",
    "\n",
    "        # set sampling rate and number of samples\n",
    "        self.task.timing.cfg_samp_clk_timing(self.sample_rate, samps_per_chan=self.sample_num) # set sampling rate per channel\n",
    "    \n",
    "    def getVI(self):\n",
    "        \"\"\"\n",
    "            Take data from two analog inputs in DAQ.\n",
    "            Return:\n",
    "                    Actual sample voltage and current through it.\n",
    "        \"\"\"\n",
    "        self.ai.read_many_sample(self.DAQ_analog_inputs, self.sample_num) # take data\n",
    "        I = self.DAQ_analog_inputs[0,:] / self.preamp_gain_for_I / self.standard_resistance,  # convert preamp voltage to actual V and I\n",
    "        V = self.DAQ_analog_inputs[1,:] / self.preamp_gain_for_V\n",
    "       \n",
    "        return I, V, self.DAQ_analog_inputs[0,:],self.DAQ_analog_inputs[1,:]\n",
    "\n",
    "def coroutine(func):\n",
    "    def start(*arg, **kwarg):\n",
    "        g = func(*arg, **kwarg)\n",
    "        next(g)\n",
    "        return g\n",
    "    return start\n",
    "    \n",
    "def moving_average_generator(num_avg):\n",
    "    \"\"\" Generator for moving average of VI curve.\n",
    "        data_queue acts as a container.\n",
    "        Args:\n",
    "            num_avg: number of average\n",
    "    \"\"\"\n",
    "    if num_avg==1:\n",
    "        next_data = None\n",
    "        while True:\n",
    "            next_data = yield next_data\n",
    "    \n",
    "    for x in range(num_avg):\n",
    "        \n",
    "        if x == 0:\n",
    "            next_data = yield\n",
    "            data_queue = next_data\n",
    "            next_data = yield next_data\n",
    "        else:\n",
    "            data_queue = np.row_stack((data_queue, next_data))\n",
    "            next_data = yield np.mean(data_queue, axis=0)\n",
    "        \n",
    "    while True:        \n",
    "        np.delete(data_queue, 0, axis=0)\n",
    "        data_queue = np.row_stack((data_queue, next_data))\n",
    "        next_data = yield np.mean(data_queue, axis=0)"
   ]
  },
  {
   "cell_type": "code",
   "execution_count": 51,
   "metadata": {},
   "outputs": [],
   "source": [
    "@coroutine\n",
    "def test(num_avg):\n",
    "    for x in range(num_avg):\n",
    "        \n",
    "        if x == 0:\n",
    "            next_data = yield\n",
    "            data_queue = next_data\n",
    "            next_data = yield next_data\n",
    "        else:\n",
    "            data_queue = np.row_stack((data_queue, next_data))\n",
    "            next_data = yield np.mean(data_queue, axis=0)\n",
    "            \n",
    "g = test(5)\n",
    "x = np.linspace(0,1,11)\n"
   ]
  },
  {
   "cell_type": "code",
   "execution_count": 53,
   "metadata": {},
   "outputs": [
    {
     "data": {
      "text/plain": [
       "array([0.  , 0.15, 0.3 , 0.45, 0.6 , 0.75, 0.9 , 1.05, 1.2 , 1.35, 1.5 ])"
      ]
     },
     "execution_count": 53,
     "metadata": {},
     "output_type": "execute_result"
    }
   ],
   "source": [
    "g.send(x*2)"
   ]
  },
  {
   "cell_type": "markdown",
   "metadata": {},
   "source": [
    "# Test"
   ]
  },
  {
   "cell_type": "code",
   "execution_count": null,
   "metadata": {},
   "outputs": [
    {
     "name": "stdout",
     "output_type": "stream",
     "text": [
      "Using matplotlib backend: Qt5Agg\n"
     ]
    },
    {
     "name": "stderr",
     "output_type": "stream",
     "text": [
      "C:\\Users\\Gunnar\\Anaconda3\\lib\\site-packages\\nidaqmx\\task.py:105: ResourceWarning: Task of name \"_unnamedTask<2>\" was not explicitly closed before it was destructed. Resources on the task device may still be reserved.\n",
      "  'reserved.'.format(self.name), DaqResourceWarning)\n"
     ]
    }
   ],
   "source": [
    "%matplotlib\n",
    "import time\n",
    "\n",
    "sample_num = 2000\n",
    "sample_rate = 10000  # 10k is max when two channels are used\n",
    "\n",
    "data = np.zeros((2,sample_num), dtype=np.float64)\n",
    "\n",
    "task = nidaqmx.task.Task() # create a task obj in NI-max\n",
    "task.ai_channels.add_ai_voltage_chan(\"Dev1/ai0\") # for I \n",
    "task.ai_channels.add_ai_voltage_chan(\"Dev1/ai1\") # for V\n",
    "\n",
    "task.triggers.start_trigger.cfg_dig_edge_start_trig('/Dev1/PFI0')\n",
    "task.timing.cfg_samp_clk_timing(sample_rate, samps_per_chan=sample_num) # set sampling rate per channel\n",
    "# timingCfg = nidaqmx.task.Timing(task._handle) \n",
    "# timingCfg.cfg_samp_clk_timing(sample_rate, samps_per_chan=sample_num) # set sampling rate per channel\n",
    "\n",
    "ai = nidaqmx.stream_readers.AnalogMultiChannelReader(task.in_stream)\n",
    "\n",
    "DAQplotter = myplots_py3.plotDAQ(xlabel1='time (s)', ylabel1='Raw V for I (V)',\n",
    "                              xlabel2='time (s)', ylabel2='Raw V for V (V)',\n",
    "                              xlabel3='I (A)', ylabel3='V (V)',\n",
    "                              title='VI Meas', figsize=(10,10))\n",
    "\n",
    "# Take data continuously and plot it\n",
    "indexArr = np.arange(sample_num)\n",
    "#timeArr = np.arange(sample_num) * (1/sample_rate)\n",
    "\n",
    "for i in range(1000):\n",
    "    ai.read_many_sample(data, sample_num)\n",
    "    time.sleep(1)\n",
    "    Iarr, Varr = data[0,:], data[1,:]\n",
    "    \n",
    "    Varr = Varr  #+ np.random.rand(sample_num) * 0.1\n",
    "    \n",
    "    # data post-processing\n",
    "    z = np.polyfit(Iarr, Varr, 1) # do linear fit\n",
    "    Varr_fit = z[1] + z[0] * Iarr\n",
    "\n",
    "    # plot VI data and linear fit\n",
    "    DAQplotter.update(indexArr, Iarr, Varr, Varr_fit, z[0])  \n",
    "\n",
    "task.close()"
   ]
  },
  {
   "cell_type": "markdown",
   "metadata": {},
   "source": [
    "# Measurement setup\n",
    "![](./setup.png)"
   ]
  },
  {
   "cell_type": "markdown",
   "metadata": {},
   "source": [
    "# VI Meas with VI_meas class"
   ]
  },
  {
   "cell_type": "code",
   "execution_count": null,
   "metadata": {
    "code_folding": [
     38
    ]
   },
   "outputs": [],
   "source": [
    "# Set parameters\n",
    "standard_resistance = 10e3    # Ohm, standard resistor\n",
    "preamp_gain_for_I = 1     # Preamp gain for I\n",
    "preamp_gain_for_V = 1e3   # Preamp gain for V\n",
    "sample_num = 2000   # number of data points to take per trigger\n",
    "sampling_rate = 20e3  # sampling rate\n",
    "avg = 1    # number of moving average\n",
    "\n",
    "# Create VI_meas object\n",
    "VI = VI_meas(standard_resistance\n",
    "             , preamp_gain_for_I\n",
    "             , preamp_gain_for_V\n",
    "             , sample_num\n",
    "             , sampling_rate)\n",
    "\n",
    "# Create a plot object\n",
    "DAQplotter = myplots_py3.plotDAQ(xlabel1='time (s)', ylabel1='Preamp output V for I (V)'\n",
    "                                , xlabel2='time (s)', ylabel2='Preamp output V for V (V)'\n",
    "                                , xlabel3='I (A)', ylabel3='V (V)'\n",
    "                                , title='VI Meas', figuresize=(12,8))\n",
    "\n",
    "# Take data continuously and plot it\n",
    "timedata = np.arange(0, sample_num/sampling_rate, sample_num)  # CHECK THIS\n",
    "V_avg_gen = moving_average_generator(num_avg)\n",
    "I_avg_gen = moving_average_generator(num_avg)\n",
    "\n",
    "while True:\n",
    "    # acquire data in DAQ\n",
    "    I, V, preamp_output_for_I, preamp_output_for_for_V = VI.getVI()\n",
    "    \n",
    "    # moving average\n",
    "    V_avg = V_avg_gen.send(V)\n",
    "    I_avg = I_avg_gen.send(I)\n",
    "    \n",
    "    # data post-processing\n",
    "    z = np.polyfit(I_avg, V_avg, 1) # do linear fit\n",
    "    V_fit = z[1] + z[0] * I_avg\n",
    "  \n",
    "    # plot VI data and linear fit\n",
    "    DAQplotter.update(timedata, preamp_output_for_I, preamp_output_for_for_V\n",
    "                      , I_avg, V_avg, V_fit)  \n",
    "\n"
   ]
  },
  {
   "cell_type": "markdown",
   "metadata": {},
   "source": [
    "# Save data"
   ]
  },
  {
   "cell_type": "code",
   "execution_count": null,
   "metadata": {},
   "outputs": [],
   "source": [
    "# save V_avg and I_avg as cvs format\n",
    "# file struction: header followed by column name and data\n",
    "\n",
    "base_path = ''\n",
    "file_name = ''\n",
    "file_path = os.path.join(base_path, file_name)\n",
    "\n"
   ]
  },
  {
   "cell_type": "markdown",
   "metadata": {},
   "source": [
    "# RT Meas"
   ]
  },
  {
   "cell_type": "code",
   "execution_count": null,
   "metadata": {
    "code_folding": []
   },
   "outputs": [],
   "source": [
    "# Set parameters\n",
    "standard_resistance = 10e3    # Ohm, standard resistor\n",
    "preamp_gain_for_I = 1     # Preamp gain for I\n",
    "preamp_gain_for_V = 1e3   # Preamp gain for V\n",
    "sample_num = 2000\n",
    "sample_rate = 20e3\n",
    "\n",
    "LS = Lakeshore332.Lakeshore332()\n",
    "\n",
    "# create VI_meas object\n",
    "VI = VI_meas(standard_resistance, preamp_gain_for_I, preamp_gain_for_V, sample_num, sample_rate)\n",
    "\n",
    "# Create a plot object\n",
    "DAQplotter = RT_Plotter(xlabel1='time (s)', ylabel1='Raw V for I (V)',\n",
    "                              xlabel2='time (s)', ylabel2='Raw V for V (V)',\n",
    "                              title='VI Meas', figuresize=(12,8))\n",
    "\n",
    "# Take data continuously and plot it\n",
    "timedata = np.arange(0, sample_num / sample_rate, 1/sample_rate)  # CHECK THIS\n",
    "\n",
    "while True:\n",
    "    # read temperature\n",
    "    MXC_temperature = LS.getTemperature('B')\n",
    "    \n",
    "    # acquire data in DAQ\n",
    "    V, I = VI.getVI()\n",
    "    \n",
    "    # data post-processing\n",
    "    z = np.polyfit(I, V, 1) # do linear fit\n",
    "    V_fit = z[1] + z[0] * I\n",
    "  \n",
    "    # plot VI data and linear fit\n",
    "    DAQplotter.update(timedata, I, timedata, V, I, V, V, V_fit, MXC_temperature, Z[0])  \n",
    "        "
   ]
  },
  {
   "cell_type": "markdown",
   "metadata": {},
   "source": [
    "# Playground"
   ]
  },
  {
   "cell_type": "code",
   "execution_count": 23,
   "metadata": {},
   "outputs": [
    {
     "data": {
      "text/plain": [
       "array([  0.00000000e+00,   1.00000000e-06,   2.00000000e-06,\n",
       "         3.00000000e-06,   4.00000000e-06,   5.00000000e-06,\n",
       "         6.00000000e-06,   7.00000000e-06,   8.00000000e-06,\n",
       "         9.00000000e-06])"
      ]
     },
     "execution_count": 23,
     "metadata": {},
     "output_type": "execute_result"
    }
   ],
   "source": [
    "np.arange(10)*1e-6"
   ]
  },
  {
   "cell_type": "code",
   "execution_count": 35,
   "metadata": {},
   "outputs": [
    {
     "data": {
      "text/plain": [
       "array([ 0.56152969,  0.44506761,  0.40571925,  0.77337491,  0.69283947,\n",
       "        0.82859652,  0.92888809,  0.11322308,  0.23233362,  0.59160799])"
      ]
     },
     "execution_count": 35,
     "metadata": {},
     "output_type": "execute_result"
    }
   ],
   "source": [
    "np.random.rand(10)"
   ]
  },
  {
   "cell_type": "code",
   "execution_count": null,
   "metadata": {
    "collapsed": true
   },
   "outputs": [],
   "source": []
  }
 ],
 "metadata": {
  "@webio": {
   "lastCommId": null,
   "lastKernelId": null
  },
  "kernelspec": {
   "display_name": "Python 3",
   "language": "python",
   "name": "python3"
  },
  "language_info": {
   "codemirror_mode": {
    "name": "ipython",
    "version": 3
   },
   "file_extension": ".py",
   "mimetype": "text/x-python",
   "name": "python",
   "nbconvert_exporter": "python",
   "pygments_lexer": "ipython3",
   "version": "3.8.5"
  },
  "toc": {
   "base_numbering": 1,
   "nav_menu": {},
   "number_sections": true,
   "sideBar": true,
   "skip_h1_title": false,
   "title_cell": "Table of Contents",
   "title_sidebar": "Contents",
   "toc_cell": false,
   "toc_position": {
    "height": "calc(100% - 180px)",
    "left": "10px",
    "top": "150px",
    "width": "251px"
   },
   "toc_section_display": "block",
   "toc_window_display": true
  }
 },
 "nbformat": 4,
 "nbformat_minor": 2
}
