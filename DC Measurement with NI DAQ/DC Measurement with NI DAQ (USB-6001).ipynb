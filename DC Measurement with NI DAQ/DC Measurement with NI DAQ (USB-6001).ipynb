{
 "cells": [
  {
   "cell_type": "markdown",
   "metadata": {},
   "source": [
    "# Measurement setup\n",
    "![](./setup.png)"
   ]
  },
  {
   "cell_type": "markdown",
   "metadata": {},
   "source": [
    "# Preliminary"
   ]
  },
  {
   "cell_type": "code",
   "execution_count": 2,
   "metadata": {
    "ExecuteTime": {
     "end_time": "2020-11-11T16:52:41.589691Z",
     "start_time": "2020-11-11T16:52:41.504738Z"
    },
    "code_folding": [
     18,
     23,
     60,
     69,
     83,
     92,
     112,
     120,
     145
    ]
   },
   "outputs": [
    {
     "name": "stdout",
     "output_type": "stream",
     "text": [
      "Using matplotlib backend: Qt5Agg\n"
     ]
    }
   ],
   "source": [
    "%matplotlib\n",
    "import sys, os, re\n",
    "import numpy as np\n",
    "import matplotlib.pyplot as plt\n",
    "import datetime\n",
    "import visa\n",
    "\n",
    "# Add path\n",
    "sys.path.append('../Instrument Driver')\n",
    "sys.path.append('../Helper')\n",
    "\n",
    "# import custom modules\n",
    "import myplots_py3\n",
    "\n",
    "# # import instrument driver\n",
    "import nidaqmx.stream_readers\n",
    "import Lakeshore332\n",
    "\n",
    "class Params(object):\n",
    "    \"\"\" Parameter holder. Parameters are defined here.\"\"\"\n",
    "    def __init__(self, date_today=None):\n",
    "        self.date_today = datetime.datetime.today().strftime('%m/%d/%Y')\n",
    "    \n",
    "class DAQ(object):\n",
    "    \"\"\"\n",
    "    DAQ factory with 2 analog inputs\n",
    "    Args: sample_num, sample_rate\n",
    "    \"\"\"\n",
    "    def __init__(self, sample_num=2000, sample_rate=20e3):\n",
    "        self.sample_num = sample_num\n",
    "        self.sample_rate = sample_rate\n",
    "        self.DAQ_analog_inputs = np.zeros((2, sample_num), dtype=np.float64)\n",
    "        \n",
    "        # create a task\n",
    "        self.task = nidaqmx.task.Task() \n",
    "        self.ai = nidaqmx.stream_readers.AnalogMultiChannelReader(self.task.in_stream) # create ai\n",
    "        \n",
    "        # set analog inputs\n",
    "        self.task.ai_channels.add_ai_voltage_chan(\"Dev1/ai0\") # for I \n",
    "        self.task.ai_channels.add_ai_voltage_chan(\"Dev1/ai1\") # for V\n",
    "        \n",
    "        # set external trigger\n",
    "        self.task.triggers.start_trigger.cfg_dig_edge_start_trig('/Dev1/PFI0')\n",
    "\n",
    "        # set sampling rate and number of samples\n",
    "        self.task.timing.cfg_samp_clk_timing(self.sample_rate, samps_per_chan=self.sample_num) # set sampling rate per channel\n",
    "                      \n",
    "    def get_DAQ_analog_inputs(self):        \n",
    "        \"\"\" Read AI0 and AI1 \"\"\"\n",
    "        self.ai.read_many_sample(self.DAQ_analog_inputs, self.sample_num)\n",
    "        return self.DAQ_analog_inputs\n",
    "    \n",
    "    @staticmethod\n",
    "    def calculate_IV_from_preamp_voltages(AI0, AI1, params):\n",
    "        \"\"\" Calculate I and V from preamp volages, i.e., analog input 0 and 1.\"\"\"\n",
    "        I = AI0 / params.preamp_gain_for_I/params.standard_resistance\n",
    "        V = AI1/ params.preamp_gain_for_V\n",
    "\n",
    "        return I, V\n",
    "\n",
    "def create_header(params):\n",
    "    \"\"\"  Create a header using parameters\"\"\"\n",
    "    header = ''\n",
    "    for k,v in vars(params).items():\n",
    "        header += str(k) + ': ' + str(v) + '\\n'\n",
    "    header += 'Current(A), Voltage(V)'\n",
    "    \n",
    "    return header\n",
    "\n",
    "def save_data(data, params):\n",
    "    \"\"\" Save data in ascii file.\n",
    "        Data file consists of a header and numeric data.\n",
    "        Each line in the header starts with '#'.\n",
    "        Args: \n",
    "            data: numpy array\n",
    "            params: instance of Params class\n",
    "        No return\n",
    "        \"\"\"\n",
    "    \n",
    "    with open(params.full_file_path,'wb') as f:\n",
    "        header = create_header(params)\n",
    "        np.savetxt(f, data, fmt='%.3e', header=header)\n",
    "\n",
    "def get_full_file_name(params):\n",
    "    \"\"\" Create a full file name with file extension 'dat'.\n",
    "        File name structure:\n",
    "        ID number_Sample ID_Exp name.dat. ex) 1_NbTi_VI.dat\n",
    "    \"\"\"\n",
    "    full_file_name = get_file_ID_number(params) + '_' + params.sample_ID + '_' + params.exp_name + '.dat'\n",
    "    \n",
    "    return full_file_name\n",
    "\n",
    "def get_file_ID_number(params):\n",
    "    \"\"\" Find ID number used to create a full file name. \n",
    "        Under base path, search for all ID numbers of files and decide\n",
    "        what ID to be used next\n",
    "        Args: \n",
    "            params: instance of Params class\n",
    "        Return: next ID number in str to be used\n",
    "        \"\"\"\n",
    "    ID_numbers = []\n",
    "    for (root,dirs,files) in os.walk(params.base_path, topdown=True):\n",
    "        \n",
    "        for file in files:\n",
    "            matchobj = re.match(r'^\\d+', file)\n",
    "            if matchobj:\n",
    "                ID_numbers.append(int(matchobj.group()))    \n",
    "    if ID_numbers:\n",
    "        return str(np.max(ID_numbers) + 1)\n",
    "    else:\n",
    "        return str(1)\n",
    "\n",
    "def coroutine(func):\n",
    "    def start(*arg, **kwarg):\n",
    "        g = func(*arg, **kwarg)\n",
    "        next(g)\n",
    "        return g\n",
    "    return start\n",
    " \n",
    "@coroutine\n",
    "def moving_average_generator(num_avg):\n",
    "    \"\"\" Generator for moving average of VI curve.\n",
    "        data_queue acts as a container.\n",
    "        Args:\n",
    "            num_avg: number of average\n",
    "    \"\"\"\n",
    "    if num_avg==1:\n",
    "        next_data = None\n",
    "        while True:\n",
    "            next_data = yield next_data\n",
    "    \n",
    "    for x in range(num_avg):\n",
    "        \n",
    "        if x == 0:\n",
    "            next_data = yield\n",
    "            data_queue = next_data\n",
    "            next_data = yield next_data\n",
    "        else:\n",
    "            data_queue = np.row_stack((data_queue, next_data))\n",
    "            next_data = yield np.mean(data_queue, axis=0)\n",
    "        \n",
    "    while True:        \n",
    "        np.delete(data_queue, 0, axis=0)\n",
    "        data_queue = np.row_stack((data_queue, next_data))\n",
    "        next_data = yield np.mean(data_queue, axis=0)\n",
    "        \n",
    "# class VI_Meas(object):\n",
    "#     \"\"\"\n",
    "#     Do VI measurement\n",
    "#     \"\"\"\n",
    "\n",
    "#     def __init__(self, standard_resistance, preamp_gain_for_I, preamp_gain_for_V, sample_num, sample_rate ):\n",
    "#         self.standard_resistance = standard_resistance\n",
    "#         self.preamp_gain_for_I = preamp_gain_for_I\n",
    "#         self.preamp_gain_for_V = preamp_gain_for_V\n",
    "#         self.sample_num = sample_num\n",
    "#         self.sample_rate = sample_rate\n",
    "\n",
    "#         self._configure_DAQ()\n",
    "\n",
    "#         self.DAQ_AI0, self.DAQ_AI1 = np.array([]), np.array([])\n",
    "\n",
    "#     def _configure_DAQ(self):\n",
    "#         \"\"\"\n",
    "#             Configure NI DAQ; two analog inputs, trigger, sampling rate and number\n",
    "#             of samples.\n",
    "#         \"\"\"\n",
    "#         # create a task\n",
    "#         self.task = nidaqmx.task.Task() \n",
    "#         self.ai = nidaqmx.stream_readers.AnalogMultiChannelReader(self.task.in_stream) # create ai\n",
    "\n",
    "#         # set analog inputs\n",
    "#         self.task.ai_channels.add_ai_voltage_chan(\"Dev1/ai0\") # for I \n",
    "#         self.task.ai_channels.add_ai_voltage_chan(\"Dev1/ai1\") # for V\n",
    "\n",
    "#         # set external trigger\n",
    "#         self.task.triggers.start_trigger.cfg_dig_edge_start_trig('/Dev1/PFI0')\n",
    "\n",
    "#         # set sampling rate and number of samples\n",
    "#         self.task.timing.cfg_samp_clk_timing(self.sample_rate, samps_per_chan=self.sample_num) # set sampling rate per channel\n",
    "\n",
    "#     def getVI(self):\n",
    "#         \"\"\"\n",
    "#             Take data from two analog inputs in DAQ.\n",
    "#             Return:\n",
    "#                     Actual sample voltage and current through it.\n",
    "#         \"\"\"\n",
    "#         DAQ_analog_inputs = np.zeros((2,sample_num), dtype=np.float64)\n",
    "#         self.ai.read_many_sample(DAQ_analog_inputs, self.sample_num) # take data\n",
    "#         self.DAQ_AI0 = DAQ_analog_inputs[0,:]\n",
    "#         self.DAQ_AI1 = DAQ_analog_inputs[1,:]\n",
    "        \n",
    "#         I = AI0 / self.preamp_gain_for_I / self.standard_resistance,  # convert preamp voltage to actual V and I\n",
    "#         V = AI1 / self.preamp_gain_for_V\n",
    "\n",
    "#         return I, V, self.DAQ_AI0, self.DAQ_AI1"
   ]
  },
  {
   "cell_type": "code",
   "execution_count": 130,
   "metadata": {},
   "outputs": [],
   "source": [
    "import os\n",
    "p=Params()\n",
    "p.base_path = './'\n",
    "p.sample_ID ='NbTi'\n",
    "p.exp_name='test'"
   ]
  },
  {
   "cell_type": "code",
   "execution_count": 3,
   "metadata": {},
   "outputs": [],
   "source": [
    "@coroutine\n",
    "def test(num_avg):\n",
    "    for x in range(num_avg):\n",
    "        \n",
    "        if x == 0:\n",
    "            next_data = yield\n",
    "            data_queue = next_data\n",
    "            next_data = yield next_data\n",
    "        else:\n",
    "            data_queue = np.row_stack((data_queue, next_data))\n",
    "            next_data = yield np.mean(data_queue, axis=0)\n",
    "            \n",
    "g = test(5)\n",
    "x = np.linspace(0,1,11)\n"
   ]
  },
  {
   "cell_type": "code",
   "execution_count": 4,
   "metadata": {},
   "outputs": [
    {
     "data": {
      "text/plain": [
       "array([0. , 0.2, 0.4, 0.6, 0.8, 1. , 1.2, 1.4, 1.6, 1.8, 2. ])"
      ]
     },
     "execution_count": 4,
     "metadata": {},
     "output_type": "execute_result"
    }
   ],
   "source": [
    "g.send(x*2)"
   ]
  },
  {
   "cell_type": "code",
   "execution_count": 135,
   "metadata": {
    "scrolled": false
   },
   "outputs": [],
   "source": [
    "DAQplotter = myplots_py3.plotDAQ(xlabel1='Time (s)', ylabel1='Preamp Volt.\\n for I (V)'\n",
    "                                , xlabel2='Time (s)', ylabel2='Preamp Volt.\\n for V (V)'\n",
    "                                , xlabel3='Current, I (A)', ylabel3='Voltage, V (V)'\n",
    "                                , title='VI Meas', figsize=(10,10))\n",
    "sample_num = 2000   # number of data points to take per trigger\n",
    "sampling_rate = 20e3  # sampling rate\n",
    "\n",
    "timedata = np.linspace(0, sample_num/sampling_rate, sample_num\n",
    "                      )  # CHECK THIS\n",
    "I = np.sin(2*np.pi*11*timedata*4) \n",
    "V = np.sin(2*np.pi*11*timedata*4) + np.random.random(sample_num)*0.1\n",
    "DAQplotter.update(timedata,I,V, I,V, I, 100)"
   ]
  },
  {
   "cell_type": "markdown",
   "metadata": {},
   "source": [
    "# Take VI continuously, no save"
   ]
  },
  {
   "cell_type": "code",
   "execution_count": 3,
   "metadata": {
    "ExecuteTime": {
     "end_time": "2020-11-11T17:07:38.435956Z",
     "start_time": "2020-11-11T16:52:44.080631Z"
    },
    "code_folding": [
     38
    ]
   },
   "outputs": [
    {
     "name": "stdout",
     "output_type": "stream",
     "text": [
      "KeybaordInterrupt! Program stopped\n"
     ]
    }
   ],
   "source": [
    "############################################################################\n",
    "# Set parameters\n",
    "params = Params()\n",
    "\n",
    "params.standard_resistance = 10e3    # Ohm, standard resistor\n",
    "params.preamp_gain_for_I = 1     # Preamp gain for I\n",
    "params.preamp_gain_for_V = 10   # Preamp gain for V\n",
    "params.sample_num = 2000   # number of data points to take per trigger\n",
    "params.sampling_rate = 10e3  # sampling rate\n",
    "params.num_moving_avg = 1    # number of moving average\n",
    "#############################################################################\n",
    "\n",
    "# Create VI_meas object\n",
    "# VI = VI_meas(standard_resistance\n",
    "#              , preamp_gain_for_I\n",
    "#              , preamp_gain_for_V\n",
    "#              , sample_num\n",
    "#              , sampling_rate)\n",
    "daq = DAQ(params.sample_num, params.sampling_rate)\n",
    "\n",
    "# Create a plot object\n",
    "DAQplotter = myplots_py3.plotDAQ(xlabel1='Time (s)', ylabel1='Preamp Volt.\\n for I (V)'\n",
    "                                , xlabel2='Time (s)', ylabel2='Preamp Volt.\\n for V (V)'\n",
    "                                , xlabel3='Current, I (A)', ylabel3='Voltage, V (V)'\n",
    "                                , title='VI Measurement', figsize=(10,10))\n",
    "\n",
    "# Take data continuously and plot it\n",
    "timedata = np.linspace(0, params.sample_num/params.sampling_rate, params.sample_num)  # CHECK THIS\n",
    "V_num_moving_avg_gen = moving_average_generator(params.num_moving_avg)\n",
    "I_num_moving_avg_gen = moving_average_generator(params.num_moving_avg)\n",
    "\n",
    "try:\n",
    "    while True:\n",
    "        # acquire data in DAQ\n",
    "    #     I, V, preamp_output_for_I, preamp_output_for_for_V = VI.getVI()\n",
    "        preamp_output_for_I, preamp_output_for_V = daq.get_DAQ_analog_inputs()\n",
    "        I, V = daq.calculate_IV_from_preamp_voltages(preamp_output_for_I\n",
    "                                                    , preamp_output_for_V\n",
    "                                                    , params)                            \n",
    "        # moving average\n",
    "        V_num_moving_avg = V_num_moving_avg_gen.send(V)\n",
    "        I_num_moving_avg = I_num_moving_avg_gen.send(I)\n",
    "\n",
    "        # data post-processing\n",
    "        z = np.polyfit(I_num_moving_avg, V_num_moving_avg, 1) # do linear fit\n",
    "        V_fit = z[1] + z[0] * I_num_moving_avg\n",
    "        fit_resistance = z[0]\n",
    "\n",
    "        # plot VI data and linear fit\n",
    "        DAQplotter.update(timedata, preamp_output_for_I, preamp_output_for_V\n",
    "                          , I_num_moving_avg, V_num_moving_avg, V_fit, fit_resistance)  \n",
    "except KeyboardInterrupt:\n",
    "    print('KeybaordInterrupt! Program stopped')"
   ]
  },
  {
   "cell_type": "markdown",
   "metadata": {},
   "source": [
    "\n",
    "# Take VI"
   ]
  },
  {
   "cell_type": "code",
   "execution_count": null,
   "metadata": {
    "code_folding": [
     38
    ]
   },
   "outputs": [],
   "source": [
    "############################################################################\n",
    "# Set parameters\n",
    "params = Params()\n",
    "\n",
    "params.standard_resistance = 10e3    # Ohm, standard resistor\n",
    "params.preamp_gain_for_I = 1     # Preamp gain for I\n",
    "params.preamp_gain_for_V = 1e3   # Preamp gain for V\n",
    "params.sample_num = 2000   # number of data points to take per trigger\n",
    "params.sampling_rate = 20e3  # sampling rate\n",
    "params.num_avg = 1    # number of average\n",
    "\n",
    "params.base_path = ''\n",
    "params.sample_ID = ''\n",
    "params.exp_name = 'VI'\n",
    "############################################################################\n",
    "\n",
    "params.full_file_name = get_full_file_name(params)\n",
    "params.full_file_path = os.path.join(params.base_path, params.full_file_name)\n",
    "\n",
    "# Create DAQ object\n",
    "daq = DAQ(params.sample_num, params.sampling_rate)\n",
    "\n",
    "# Create a plot object\n",
    "title = params.full_file_name.replace('.dat', '')\n",
    "VIplotter = myplots_py3.plotVI(xlabel='Current, I (A)', ylabel='Voltage, V (V)'\n",
    "                                , title=title, figsize=(10,10))\n",
    "\n",
    "# Take data\n",
    "I_avg, V_avg = np.zeros(params.sample_num), np.zeros(params.sample_num)\n",
    "\n",
    "for i in range(params.num_avg):\n",
    "    # acquire data\n",
    "    preamp_output_for_I, preamp_output_for_V = daq.get_DAQ_analog_inputs()\n",
    "    I, V = daq.calculate_IV_from_preamp_voltages(preamp_output_for_I\n",
    "                                                , preamp_output_for_V\n",
    "                                                , params)                            \n",
    "    # average\n",
    "    I_avg = (I_avg * i + I) / (i+1)\n",
    "    V_avg = (V_avg * i + V) / (i+1)\n",
    "        \n",
    "    # plot VI data and linear fit\n",
    "    VIplotter.update(I_avg, V_avg)\n",
    "\n",
    "# save data with header and save plot as image.\n",
    "data = np.column_stack((I_avg, V_avg))\n",
    "save_data(data, params)\n",
    "\n",
    "fig_full_file_path = params.full_file_path.replace('.dat','.png')\n",
    "VIplotter.fig.savefig(fig_full_file_path)"
   ]
  },
  {
   "cell_type": "markdown",
   "metadata": {},
   "source": [
    "# RT"
   ]
  },
  {
   "cell_type": "code",
   "execution_count": null,
   "metadata": {
    "code_folding": []
   },
   "outputs": [],
   "source": [
    "############################################################################\n",
    "# Set parameters\n",
    "params = Params()\n",
    "\n",
    "params.standard_resistance = 10e3    # Ohm, standard resistor\n",
    "params.preamp_gain_for_I = 1     # Preamp gain for I\n",
    "params.preamp_gain_for_V = 1e3   # Preamp gain for V\n",
    "params.sample_num = 2000   # number of data points to take per trigger\n",
    "params.sampling_rate = 20e3  # sampling rate\n",
    "params.num_avg = 1    # number of average\n",
    "\n",
    "params.base_path = ''\n",
    "params.sample_ID = ''\n",
    "params.exp_name = 'VI'\n",
    "############################################################################\n",
    "\n",
    "LS = Lakeshore332.Lakeshore332()\n",
    "\n",
    "params.full_file_name = get_full_file_name(params)\n",
    "params.full_file_path = os.path.join(params.base_path, params.full_file_name)\n",
    "\n",
    "# Create DAQ object\n",
    "daq = DAQ(params.sample_num, params.sampling_rate)\n",
    "\n",
    "# Create a plot object\n",
    "title = params.full_file_name.replace('.dat', '')\n",
    "VIplotter = myplots_py3.plotVI(xlabel='Temperature (K)'\n",
    "                               , ylabel='Resistence (Ohm)'\n",
    "                               , title=title, figsize=(10,10))\n",
    "\n",
    "# Take data\n",
    "I_avg, V_avg = np.zeros(params.sample_num), np.zeros(params.sample_num)\n",
    "temperatures, resistances = [], []\n",
    "\n",
    "with open(params.full_file_path, 'a') as f:\n",
    "    header = create_header(params)\n",
    "    np.savetxt(f, [], header=header )\n",
    "\n",
    "try:\n",
    "    while True:\n",
    "        # measure R\n",
    "        I_avg, V_avg = np.zeros(params.sample_num), np.zeros(params.sample_num)\n",
    "        for i in range(params.num_avg):\n",
    "            # acquire data\n",
    "            preamp_output_for_I, preamp_output_for_V = daq.get_DAQ_analog_input()\n",
    "            I, V = daq.calculate_IV_from_preamp_voltages(preamp_output_for_I\n",
    "                                                        , preamp_output_for_V\n",
    "                                                        , params)           \n",
    "            I_avg = np.row_stack((I_avg, I))\n",
    "            V_avg = np.row_stack((V_avg, V))\n",
    "        I_avg, V_avg = np.mean(I_avg, axis=0), np.mean(V_avg, axis=0)                                \n",
    "        z = np.polyfit(I_avg, V_avg, 1) # do linear fit\n",
    "        resistance = z[0]\n",
    "        resistances.append(resistance)\n",
    "\n",
    "        # measure temperature\n",
    "        temperature = LS.getTemperature('B')\n",
    "        temperatures.append(temperature)\n",
    "\n",
    "        # plot VI data and linear fit\n",
    "        VIplotter.update(temperatures, resistances)\n",
    "\n",
    "        # save data \n",
    "        with open(params.full_file_path,'a') as f:\n",
    "            data = np.array([temperature, resistance])\n",
    "            np.savetxt(f, [data], fmt='%.3e',delimiter=',')\n",
    "\n",
    "except KeyboardInterrupt: # to stop taking data \n",
    "    fig_full_file_path = params.full_file_path.replace('.dat','.png')\n",
    "    VIplotter.fig.savefig(fig_full_file_path)"
   ]
  },
  {
   "cell_type": "markdown",
   "metadata": {},
   "source": [
    "# Test"
   ]
  },
  {
   "cell_type": "code",
   "execution_count": 5,
   "metadata": {
    "ExecuteTime": {
     "end_time": "2020-11-11T16:07:44.246548Z",
     "start_time": "2020-11-11T16:07:27.674731Z"
    },
    "scrolled": false
   },
   "outputs": [
    {
     "name": "stdout",
     "output_type": "stream",
     "text": [
      "Using matplotlib backend: Qt5Agg\n"
     ]
    },
    {
     "ename": "KeyboardInterrupt",
     "evalue": "",
     "output_type": "error",
     "traceback": [
      "\u001b[1;31m---------------------------------------------------------------------------\u001b[0m",
      "\u001b[1;31mKeyboardInterrupt\u001b[0m                         Traceback (most recent call last)",
      "\u001b[1;32m<ipython-input-5-27097f99dde8>\u001b[0m in \u001b[0;36m<module>\u001b[1;34m\u001b[0m\n\u001b[0;32m     39\u001b[0m \u001b[1;33m\u001b[0m\u001b[0m\n\u001b[0;32m     40\u001b[0m     \u001b[1;31m# plot VI data and linear fit\u001b[0m\u001b[1;33m\u001b[0m\u001b[1;33m\u001b[0m\u001b[1;33m\u001b[0m\u001b[0m\n\u001b[1;32m---> 41\u001b[1;33m     \u001b[0mDAQplotter\u001b[0m\u001b[1;33m.\u001b[0m\u001b[0mupdate\u001b[0m\u001b[1;33m(\u001b[0m\u001b[0mindexArr\u001b[0m\u001b[1;33m,\u001b[0m \u001b[0mIarr\u001b[0m\u001b[1;33m,\u001b[0m \u001b[0mVarr\u001b[0m\u001b[1;33m,\u001b[0m\u001b[0mIarr\u001b[0m\u001b[1;33m,\u001b[0m\u001b[0mVarr\u001b[0m\u001b[1;33m,\u001b[0m\u001b[0mVarr_fit\u001b[0m\u001b[1;33m,\u001b[0m \u001b[0mz\u001b[0m\u001b[1;33m[\u001b[0m\u001b[1;36m0\u001b[0m\u001b[1;33m]\u001b[0m\u001b[1;33m)\u001b[0m\u001b[1;33m\u001b[0m\u001b[1;33m\u001b[0m\u001b[0m\n\u001b[0m\u001b[0;32m     42\u001b[0m \u001b[1;33m\u001b[0m\u001b[0m\n\u001b[0;32m     43\u001b[0m \u001b[0mtask\u001b[0m\u001b[1;33m.\u001b[0m\u001b[0mclose\u001b[0m\u001b[1;33m(\u001b[0m\u001b[1;33m)\u001b[0m\u001b[1;33m\u001b[0m\u001b[1;33m\u001b[0m\u001b[0m\n",
      "\u001b[1;32mZ:\\User\\Jaseung\\programs\\pythonCode\\Helper\\myplots_py3.py\u001b[0m in \u001b[0;36mupdate\u001b[1;34m(self, timedata, ydata1, ydata2, I_avg, V_avg, V_fit, fit_res)\u001b[0m\n\u001b[0;32m    228\u001b[0m         \u001b[0mself\u001b[0m\u001b[1;33m.\u001b[0m\u001b[0maxes1\u001b[0m\u001b[1;33m.\u001b[0m\u001b[0mrelim\u001b[0m\u001b[1;33m(\u001b[0m\u001b[1;33m)\u001b[0m\u001b[1;33m\u001b[0m\u001b[1;33m\u001b[0m\u001b[0m\n\u001b[0;32m    229\u001b[0m         \u001b[0mself\u001b[0m\u001b[1;33m.\u001b[0m\u001b[0maxes1\u001b[0m\u001b[1;33m.\u001b[0m\u001b[0mautoscale\u001b[0m\u001b[1;33m(\u001b[0m\u001b[1;33m)\u001b[0m\u001b[1;33m\u001b[0m\u001b[1;33m\u001b[0m\u001b[0m\n\u001b[1;32m--> 230\u001b[1;33m         \u001b[0mself\u001b[0m\u001b[1;33m.\u001b[0m\u001b[0maxes2\u001b[0m\u001b[1;33m.\u001b[0m\u001b[0mrelim\u001b[0m\u001b[1;33m(\u001b[0m\u001b[1;33m)\u001b[0m\u001b[1;33m\u001b[0m\u001b[1;33m\u001b[0m\u001b[0m\n\u001b[0m\u001b[0;32m    231\u001b[0m         \u001b[0mself\u001b[0m\u001b[1;33m.\u001b[0m\u001b[0maxes2\u001b[0m\u001b[1;33m.\u001b[0m\u001b[0mautoscale\u001b[0m\u001b[1;33m(\u001b[0m\u001b[1;33m)\u001b[0m\u001b[1;33m\u001b[0m\u001b[1;33m\u001b[0m\u001b[0m\n\u001b[0;32m    232\u001b[0m         \u001b[0mself\u001b[0m\u001b[1;33m.\u001b[0m\u001b[0maxes3\u001b[0m\u001b[1;33m.\u001b[0m\u001b[0mrelim\u001b[0m\u001b[1;33m(\u001b[0m\u001b[1;33m)\u001b[0m\u001b[1;33m\u001b[0m\u001b[1;33m\u001b[0m\u001b[0m\n",
      "\u001b[1;32mC:\\ProgramData\\Anaconda3\\lib\\site-packages\\matplotlib\\axes\\_base.py\u001b[0m in \u001b[0;36mrelim\u001b[1;34m(self, visible_only)\u001b[0m\n\u001b[0;32m   2059\u001b[0m         \u001b[1;32mfor\u001b[0m \u001b[0mline\u001b[0m \u001b[1;32min\u001b[0m \u001b[0mself\u001b[0m\u001b[1;33m.\u001b[0m\u001b[0mlines\u001b[0m\u001b[1;33m:\u001b[0m\u001b[1;33m\u001b[0m\u001b[1;33m\u001b[0m\u001b[0m\n\u001b[0;32m   2060\u001b[0m             \u001b[1;32mif\u001b[0m \u001b[1;32mnot\u001b[0m \u001b[0mvisible_only\u001b[0m \u001b[1;32mor\u001b[0m \u001b[0mline\u001b[0m\u001b[1;33m.\u001b[0m\u001b[0mget_visible\u001b[0m\u001b[1;33m(\u001b[0m\u001b[1;33m)\u001b[0m\u001b[1;33m:\u001b[0m\u001b[1;33m\u001b[0m\u001b[1;33m\u001b[0m\u001b[0m\n\u001b[1;32m-> 2061\u001b[1;33m                 \u001b[0mself\u001b[0m\u001b[1;33m.\u001b[0m\u001b[0m_update_line_limits\u001b[0m\u001b[1;33m(\u001b[0m\u001b[0mline\u001b[0m\u001b[1;33m)\u001b[0m\u001b[1;33m\u001b[0m\u001b[1;33m\u001b[0m\u001b[0m\n\u001b[0m\u001b[0;32m   2062\u001b[0m \u001b[1;33m\u001b[0m\u001b[0m\n\u001b[0;32m   2063\u001b[0m         \u001b[1;32mfor\u001b[0m \u001b[0mp\u001b[0m \u001b[1;32min\u001b[0m \u001b[0mself\u001b[0m\u001b[1;33m.\u001b[0m\u001b[0mpatches\u001b[0m\u001b[1;33m:\u001b[0m\u001b[1;33m\u001b[0m\u001b[1;33m\u001b[0m\u001b[0m\n",
      "\u001b[1;32mC:\\ProgramData\\Anaconda3\\lib\\site-packages\\matplotlib\\axes\\_base.py\u001b[0m in \u001b[0;36m_update_line_limits\u001b[1;34m(self, line)\u001b[0m\n\u001b[0;32m   1921\u001b[0m         \u001b[0mline_trans\u001b[0m \u001b[1;33m=\u001b[0m \u001b[0mline\u001b[0m\u001b[1;33m.\u001b[0m\u001b[0mget_transform\u001b[0m\u001b[1;33m(\u001b[0m\u001b[1;33m)\u001b[0m\u001b[1;33m\u001b[0m\u001b[1;33m\u001b[0m\u001b[0m\n\u001b[0;32m   1922\u001b[0m \u001b[1;33m\u001b[0m\u001b[0m\n\u001b[1;32m-> 1923\u001b[1;33m         \u001b[1;32mif\u001b[0m \u001b[0mline_trans\u001b[0m \u001b[1;33m==\u001b[0m \u001b[0mself\u001b[0m\u001b[1;33m.\u001b[0m\u001b[0mtransData\u001b[0m\u001b[1;33m:\u001b[0m\u001b[1;33m\u001b[0m\u001b[1;33m\u001b[0m\u001b[0m\n\u001b[0m\u001b[0;32m   1924\u001b[0m             \u001b[0mdata_path\u001b[0m \u001b[1;33m=\u001b[0m \u001b[0mpath\u001b[0m\u001b[1;33m\u001b[0m\u001b[1;33m\u001b[0m\u001b[0m\n\u001b[0;32m   1925\u001b[0m \u001b[1;33m\u001b[0m\u001b[0m\n",
      "\u001b[1;32mC:\\ProgramData\\Anaconda3\\lib\\site-packages\\matplotlib\\transforms.py\u001b[0m in \u001b[0;36m__eq__\u001b[1;34m(self, other)\u001b[0m\n\u001b[0;32m   2165\u001b[0m         \u001b[1;32mif\u001b[0m \u001b[0misinstance\u001b[0m\u001b[1;33m(\u001b[0m\u001b[0mother\u001b[0m\u001b[1;33m,\u001b[0m \u001b[1;33m(\u001b[0m\u001b[0mBlendedAffine2D\u001b[0m\u001b[1;33m,\u001b[0m \u001b[0mBlendedGenericTransform\u001b[0m\u001b[1;33m)\u001b[0m\u001b[1;33m)\u001b[0m\u001b[1;33m:\u001b[0m\u001b[1;33m\u001b[0m\u001b[1;33m\u001b[0m\u001b[0m\n\u001b[0;32m   2166\u001b[0m             \u001b[1;32mreturn\u001b[0m \u001b[1;33m(\u001b[0m\u001b[0mself\u001b[0m\u001b[1;33m.\u001b[0m\u001b[0m_x\u001b[0m \u001b[1;33m==\u001b[0m \u001b[0mother\u001b[0m\u001b[1;33m.\u001b[0m\u001b[0m_x\u001b[0m\u001b[1;33m)\u001b[0m \u001b[1;32mand\u001b[0m \u001b[1;33m(\u001b[0m\u001b[0mself\u001b[0m\u001b[1;33m.\u001b[0m\u001b[0m_y\u001b[0m \u001b[1;33m==\u001b[0m \u001b[0mother\u001b[0m\u001b[1;33m.\u001b[0m\u001b[0m_y\u001b[0m\u001b[1;33m)\u001b[0m\u001b[1;33m\u001b[0m\u001b[1;33m\u001b[0m\u001b[0m\n\u001b[1;32m-> 2167\u001b[1;33m         \u001b[1;32melif\u001b[0m \u001b[0mself\u001b[0m\u001b[1;33m.\u001b[0m\u001b[0m_x\u001b[0m \u001b[1;33m==\u001b[0m \u001b[0mself\u001b[0m\u001b[1;33m.\u001b[0m\u001b[0m_y\u001b[0m\u001b[1;33m:\u001b[0m\u001b[1;33m\u001b[0m\u001b[1;33m\u001b[0m\u001b[0m\n\u001b[0m\u001b[0;32m   2168\u001b[0m             \u001b[1;32mreturn\u001b[0m \u001b[0mself\u001b[0m\u001b[1;33m.\u001b[0m\u001b[0m_x\u001b[0m \u001b[1;33m==\u001b[0m \u001b[0mother\u001b[0m\u001b[1;33m\u001b[0m\u001b[1;33m\u001b[0m\u001b[0m\n\u001b[0;32m   2169\u001b[0m         \u001b[1;32melse\u001b[0m\u001b[1;33m:\u001b[0m\u001b[1;33m\u001b[0m\u001b[1;33m\u001b[0m\u001b[0m\n",
      "\u001b[1;32mC:\\ProgramData\\Anaconda3\\lib\\site-packages\\matplotlib\\transforms.py\u001b[0m in \u001b[0;36m__eq__\u001b[1;34m(self, other)\u001b[0m\n\u001b[0;32m   1741\u001b[0m     \u001b[1;32mdef\u001b[0m \u001b[0m__eq__\u001b[0m\u001b[1;33m(\u001b[0m\u001b[0mself\u001b[0m\u001b[1;33m,\u001b[0m \u001b[0mother\u001b[0m\u001b[1;33m)\u001b[0m\u001b[1;33m:\u001b[0m\u001b[1;33m\u001b[0m\u001b[1;33m\u001b[0m\u001b[0m\n\u001b[0;32m   1742\u001b[0m         \u001b[1;32mif\u001b[0m \u001b[0mgetattr\u001b[0m\u001b[1;33m(\u001b[0m\u001b[0mother\u001b[0m\u001b[1;33m,\u001b[0m \u001b[1;34m\"is_affine\"\u001b[0m\u001b[1;33m,\u001b[0m \u001b[1;32mFalse\u001b[0m\u001b[1;33m)\u001b[0m\u001b[1;33m:\u001b[0m\u001b[1;33m\u001b[0m\u001b[1;33m\u001b[0m\u001b[0m\n\u001b[1;32m-> 1743\u001b[1;33m             \u001b[1;32mreturn\u001b[0m \u001b[0mnp\u001b[0m\u001b[1;33m.\u001b[0m\u001b[0mall\u001b[0m\u001b[1;33m(\u001b[0m\u001b[0mself\u001b[0m\u001b[1;33m.\u001b[0m\u001b[0mget_matrix\u001b[0m\u001b[1;33m(\u001b[0m\u001b[1;33m)\u001b[0m \u001b[1;33m==\u001b[0m \u001b[0mother\u001b[0m\u001b[1;33m.\u001b[0m\u001b[0mget_matrix\u001b[0m\u001b[1;33m(\u001b[0m\u001b[1;33m)\u001b[0m\u001b[1;33m)\u001b[0m\u001b[1;33m\u001b[0m\u001b[1;33m\u001b[0m\u001b[0m\n\u001b[0m\u001b[0;32m   1744\u001b[0m         \u001b[1;32mreturn\u001b[0m \u001b[0mNotImplemented\u001b[0m\u001b[1;33m\u001b[0m\u001b[1;33m\u001b[0m\u001b[0m\n\u001b[0;32m   1745\u001b[0m \u001b[1;33m\u001b[0m\u001b[0m\n",
      "\u001b[1;32mC:\\ProgramData\\Anaconda3\\lib\\site-packages\\matplotlib\\transforms.py\u001b[0m in \u001b[0;36mget_matrix\u001b[1;34m(self)\u001b[0m\n\u001b[0;32m   1496\u001b[0m \u001b[1;33m\u001b[0m\u001b[0m\n\u001b[0;32m   1497\u001b[0m         \"\"\"\n\u001b[1;32m-> 1498\u001b[1;33m         \u001b[1;32mreturn\u001b[0m \u001b[0mself\u001b[0m\u001b[1;33m.\u001b[0m\u001b[0mget_affine\u001b[0m\u001b[1;33m(\u001b[0m\u001b[1;33m)\u001b[0m\u001b[1;33m.\u001b[0m\u001b[0mget_matrix\u001b[0m\u001b[1;33m(\u001b[0m\u001b[1;33m)\u001b[0m\u001b[1;33m\u001b[0m\u001b[1;33m\u001b[0m\u001b[0m\n\u001b[0m\u001b[0;32m   1499\u001b[0m \u001b[1;33m\u001b[0m\u001b[0m\n\u001b[0;32m   1500\u001b[0m     \u001b[1;32mdef\u001b[0m \u001b[0mtransform_point\u001b[0m\u001b[1;33m(\u001b[0m\u001b[0mself\u001b[0m\u001b[1;33m,\u001b[0m \u001b[0mpoint\u001b[0m\u001b[1;33m)\u001b[0m\u001b[1;33m:\u001b[0m\u001b[1;33m\u001b[0m\u001b[1;33m\u001b[0m\u001b[0m\n",
      "\u001b[1;32mC:\\ProgramData\\Anaconda3\\lib\\site-packages\\matplotlib\\transforms.py\u001b[0m in \u001b[0;36mget_affine\u001b[1;34m(self)\u001b[0m\n\u001b[0;32m   2459\u001b[0m             \u001b[1;32mreturn\u001b[0m \u001b[0mself\u001b[0m\u001b[1;33m.\u001b[0m\u001b[0m_b\u001b[0m\u001b[1;33m.\u001b[0m\u001b[0mget_affine\u001b[0m\u001b[1;33m(\u001b[0m\u001b[1;33m)\u001b[0m\u001b[1;33m\u001b[0m\u001b[1;33m\u001b[0m\u001b[0m\n\u001b[0;32m   2460\u001b[0m         \u001b[1;32melse\u001b[0m\u001b[1;33m:\u001b[0m\u001b[1;33m\u001b[0m\u001b[1;33m\u001b[0m\u001b[0m\n\u001b[1;32m-> 2461\u001b[1;33m             return Affine2D(np.dot(self._b.get_affine().get_matrix(),\n\u001b[0m\u001b[0;32m   2462\u001b[0m                                 self._a.get_affine().get_matrix()))\n\u001b[0;32m   2463\u001b[0m     \u001b[0mget_affine\u001b[0m\u001b[1;33m.\u001b[0m\u001b[0m__doc__\u001b[0m \u001b[1;33m=\u001b[0m \u001b[0mTransform\u001b[0m\u001b[1;33m.\u001b[0m\u001b[0mget_affine\u001b[0m\u001b[1;33m.\u001b[0m\u001b[0m__doc__\u001b[0m\u001b[1;33m\u001b[0m\u001b[1;33m\u001b[0m\u001b[0m\n",
      "\u001b[1;32mC:\\ProgramData\\Anaconda3\\lib\\site-packages\\matplotlib\\transforms.py\u001b[0m in \u001b[0;36mget_affine\u001b[1;34m(self)\u001b[0m\n\u001b[0;32m   2460\u001b[0m         \u001b[1;32melse\u001b[0m\u001b[1;33m:\u001b[0m\u001b[1;33m\u001b[0m\u001b[1;33m\u001b[0m\u001b[0m\n\u001b[0;32m   2461\u001b[0m             return Affine2D(np.dot(self._b.get_affine().get_matrix(),\n\u001b[1;32m-> 2462\u001b[1;33m                                 self._a.get_affine().get_matrix()))\n\u001b[0m\u001b[0;32m   2463\u001b[0m     \u001b[0mget_affine\u001b[0m\u001b[1;33m.\u001b[0m\u001b[0m__doc__\u001b[0m \u001b[1;33m=\u001b[0m \u001b[0mTransform\u001b[0m\u001b[1;33m.\u001b[0m\u001b[0mget_affine\u001b[0m\u001b[1;33m.\u001b[0m\u001b[0m__doc__\u001b[0m\u001b[1;33m\u001b[0m\u001b[1;33m\u001b[0m\u001b[0m\n\u001b[0;32m   2464\u001b[0m \u001b[1;33m\u001b[0m\u001b[0m\n",
      "\u001b[1;31mKeyboardInterrupt\u001b[0m: "
     ]
    }
   ],
   "source": [
    "%matplotlib\n",
    "import time\n",
    "\n",
    "sample_num = 2000\n",
    "sample_rate = 10000  # 10k is max when two channels are used\n",
    "\n",
    "\n",
    "data = np.zeros((2,sample_num), dtype=np.float64)\n",
    "task = nidaqmx.task.Task() # create a task obj in NI-max\n",
    "task.ai_channels.add_ai_voltage_chan(\"Dev1/ai0\") # for I \n",
    "task.ai_channels.add_ai_voltage_chan(\"Dev1/ai1\") # for V\n",
    "\n",
    "task.triggers.start_trigger.cfg_dig_edge_start_trig('/Dev1/PFI0')\n",
    "task.timing.cfg_samp_clk_timing(sample_rate, samps_per_chan=sample_num) # set sampling rate per channel\n",
    "# timingCfg = nidaqmx.task.Timing(task._handle) \n",
    "# timingCfg.cfg_samp_clk_timing(sample_rate, samps_per_chan=sample_num) # set sampling rate per channel\n",
    "\n",
    "ai = nidaqmx.stream_readers.AnalogMultiChannelReader(task.in_stream)\n",
    "\n",
    "DAQplotter = myplots_py3.plotDAQ(xlabel1='time (s)', ylabel1='Raw V for I (V)',\n",
    "                              xlabel2='time (s)', ylabel2='Raw V for V (V)',\n",
    "                              xlabel3='I (A)', ylabel3='V (V)',\n",
    "                              title='VI Meas', figsize=(10,10))\n",
    "\n",
    "# Take data continuously and plot it\n",
    "indexArr = np.arange(sample_num)\n",
    "#timeArr = np.arange(sample_num) * (1/sample_rate)\n",
    "\n",
    "for i in range(1000):\n",
    "    ai.read_many_sample(data, sample_num)\n",
    "    time.sleep(1)\n",
    "    Iarr, Varr = data[0,:], data[1,:]\n",
    "    \n",
    "    Varr = Varr  #+ np.random.rand(sample_num) * 0.1\n",
    "    \n",
    "    # data post-processing\n",
    "    z = np.polyfit(Iarr, Varr, 1) # do linear fit\n",
    "    Varr_fit = z[1] + z[0] * Iarr\n",
    "\n",
    "    # plot VI data and linear fit\n",
    "    DAQplotter.update(indexArr, Iarr, Varr,Iarr,Varr,Varr_fit, z[0])  \n",
    "\n",
    "task.close()"
   ]
  },
  {
   "cell_type": "code",
   "execution_count": 38,
   "metadata": {},
   "outputs": [],
   "source": [
    "import json\n",
    "ds = {'sample_rate': 20e3, 'sample_num':1200, 'sub':{'a':10, 'b':20e3}}\n",
    "header1 = json.dumps(ds)\n",
    "    \n",
    "header = 'Test header\\n'\n",
    "header += 'I(A), V(V)'\n",
    "x = np.linspace(0,1,10)\n",
    "x = np.column_stack((x,x*0.1))\n",
    "with open('test.dat', 'wb') as f:\n",
    "    np.savetxt(f, x, header=header, fmt='%.3e')\n",
    "    "
   ]
  },
  {
   "cell_type": "code",
   "execution_count": 4,
   "metadata": {},
   "outputs": [],
   "source": [
    "params = Params()\n",
    "\n",
    "params.standard_resistance = 10e3    # Ohm, standard resistor\n",
    "params.preamp_gain_for_I = 1     # Preamp gain for I\n",
    "params.preamp_gain_for_V = 1e3   # Preamp gain for V\n",
    "params.sample_num = 2000   # number of data points to take per trigger\n",
    "params.sampling_rate = 20e3  # sampling rate\n",
    "params.num_avg = 1    # number of average\n",
    "\n",
    "params.base_path = ''\n",
    "params.sample_ID = ''\n",
    "params.exp_name = 'VI'"
   ]
  },
  {
   "cell_type": "code",
   "execution_count": 202,
   "metadata": {},
   "outputs": [
    {
     "data": {
      "text/plain": [
       "'date_today: 11/09/2020\\nstandard_resistance: 10000.0\\npreamp_gain_for_I: 1\\npreamp_gain_for_V: 1000.0\\nsample_num: 2000\\nsampling_rate: 20000.0\\nnum_avg: 1\\nbase_path: \\nsample_ID: \\nexp_name: VI\\nCurrent(A), Voltage(V)'"
      ]
     },
     "execution_count": 202,
     "metadata": {},
     "output_type": "execute_result"
    }
   ],
   "source": [
    "create_header(params)\n",
    "# for k,v  in vars(params).items():\n",
    "#     print(k,v)"
   ]
  },
  {
   "cell_type": "code",
   "execution_count": 203,
   "metadata": {},
   "outputs": [],
   "source": [
    "header = create_header(params)\n",
    "data = []\n",
    "with open('./test.dat','wb') as f:\n",
    "    header = create_header(params)\n",
    "    np.savetxt(f, data, header=header)\n"
   ]
  },
  {
   "cell_type": "code",
   "execution_count": 2,
   "metadata": {},
   "outputs": [],
   "source": [
    "VIplotter = myplots_py3.plotVI(xlabel1='Current, I (A)', ylabel1='Voltage, V (V)'\n",
    "                                , title='', figsize=(10,10))\n"
   ]
  },
  {
   "cell_type": "code",
   "execution_count": 16,
   "metadata": {},
   "outputs": [],
   "source": [
    "with open('testttq.dat', 'wb') as f:\n",
    "    header = create_header(params)\n",
    "    np.savetxt(f, [], header=header)\n",
    "\n",
    "for i in range(10):\n",
    "    \n",
    "    with open('testttq.dat', 'a') as f:\n",
    "        data = np.array([i, i*2])        \n",
    "        np.savetxt(f, [data], fmt='%.3e',delimiter=',')\n"
   ]
  },
  {
   "cell_type": "code",
   "execution_count": null,
   "metadata": {},
   "outputs": [],
   "source": []
  },
  {
   "cell_type": "code",
   "execution_count": 10,
   "metadata": {},
   "outputs": [
    {
     "data": {
      "text/plain": [
       "array([4, 8])"
      ]
     },
     "execution_count": 10,
     "metadata": {},
     "output_type": "execute_result"
    }
   ],
   "source": [
    "data.transpose()"
   ]
  },
  {
   "cell_type": "code",
   "execution_count": null,
   "metadata": {},
   "outputs": [],
   "source": []
  }
 ],
 "metadata": {
  "@webio": {
   "lastCommId": null,
   "lastKernelId": null
  },
  "kernelspec": {
   "display_name": "Python 3",
   "language": "python",
   "name": "python3"
  },
  "language_info": {
   "codemirror_mode": {
    "name": "ipython",
    "version": 3
   },
   "file_extension": ".py",
   "mimetype": "text/x-python",
   "name": "python",
   "nbconvert_exporter": "python",
   "pygments_lexer": "ipython3",
   "version": "3.7.3"
  },
  "toc": {
   "base_numbering": 1,
   "nav_menu": {},
   "number_sections": true,
   "sideBar": true,
   "skip_h1_title": false,
   "title_cell": "Table of Contents",
   "title_sidebar": "Contents",
   "toc_cell": false,
   "toc_position": {
    "height": "calc(100% - 180px)",
    "left": "10px",
    "top": "150px",
    "width": "251px"
   },
   "toc_section_display": "block",
   "toc_window_display": true
  }
 },
 "nbformat": 4,
 "nbformat_minor": 2
}
