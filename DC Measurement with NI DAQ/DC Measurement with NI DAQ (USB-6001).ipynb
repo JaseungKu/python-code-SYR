{
 "cells": [
  {
   "cell_type": "markdown",
   "metadata": {},
   "source": [
    "# Import modules (run once)"
   ]
  },
  {
   "cell_type": "code",
   "execution_count": 4,
   "metadata": {},
   "outputs": [
    {
     "name": "stdout",
     "output_type": "stream",
     "text": [
      "Using matplotlib backend: Qt5Agg\n"
     ]
    }
   ],
   "source": [
    "%matplotlib\n",
    "# import system modules\n",
    "import sys\n",
    "import numpy as np\n",
    "import visa\n",
    "import matplotlib.pyplot as plt\n",
    "\n",
    "# Add path\n",
    "sys.path.append('..\\Instrument Driver')\n",
    "sys.path.append('..\\Helper')\n",
    "\n",
    "# import custom modules\n",
    "import myplots_py3\n",
    "import myutils\n",
    "\n",
    "# import instrument driver\n",
    "import nidaqmx.stream_readers\n",
    "import AFG3252\n",
    "import Lakeshore332"
   ]
  },
  {
   "cell_type": "code",
   "execution_count": 13,
   "metadata": {},
   "outputs": [
    {
     "name": "stdout",
     "output_type": "stream",
     "text": [
      "Using matplotlib backend: Qt5Agg\n"
     ]
    },
    {
     "ename": "DaqError",
     "evalue": "Specified property is not supported by the device or is not applicable to the task.\nProperty: DAQmx_AnlgWin_StartTrig_Src\n\nTask Name: _unnamedTask<9>\n\nStatus Code: -200452",
     "output_type": "error",
     "traceback": [
      "\u001b[1;31m---------------------------------------------------------------------------\u001b[0m",
      "\u001b[1;31mDaqError\u001b[0m                                  Traceback (most recent call last)",
      "\u001b[1;32m<ipython-input-13-4a62cbd11e9f>\u001b[0m in \u001b[0;36m<module>\u001b[1;34m\u001b[0m\n\u001b[0;32m      9\u001b[0m \u001b[0mtask\u001b[0m\u001b[1;33m.\u001b[0m\u001b[0mai_channels\u001b[0m\u001b[1;33m.\u001b[0m\u001b[0madd_ai_voltage_chan\u001b[0m\u001b[1;33m(\u001b[0m\u001b[1;34m\"Dev1/ai1\"\u001b[0m\u001b[1;33m)\u001b[0m \u001b[1;31m# for V\u001b[0m\u001b[1;33m\u001b[0m\u001b[1;33m\u001b[0m\u001b[0m\n\u001b[0;32m     10\u001b[0m \u001b[1;33m\u001b[0m\u001b[0m\n\u001b[1;32m---> 11\u001b[1;33m \u001b[0mtask\u001b[0m\u001b[1;33m.\u001b[0m\u001b[0mtriggers\u001b[0m\u001b[1;33m.\u001b[0m\u001b[0mstart_trigger\u001b[0m\u001b[1;33m.\u001b[0m\u001b[0manlg_win_src\u001b[0m\u001b[1;33m(\u001b[0m\u001b[1;33m)\u001b[0m\u001b[1;33m\u001b[0m\u001b[1;33m\u001b[0m\u001b[0m\n\u001b[0m\u001b[0;32m     12\u001b[0m \u001b[1;33m\u001b[0m\u001b[0m\n\u001b[0;32m     13\u001b[0m \u001b[0mtimingCfg\u001b[0m \u001b[1;33m=\u001b[0m \u001b[0mnidaqmx\u001b[0m\u001b[1;33m.\u001b[0m\u001b[0mtask\u001b[0m\u001b[1;33m.\u001b[0m\u001b[0mTiming\u001b[0m\u001b[1;33m(\u001b[0m\u001b[0mtask\u001b[0m\u001b[1;33m.\u001b[0m\u001b[0m_handle\u001b[0m\u001b[1;33m)\u001b[0m\u001b[1;33m\u001b[0m\u001b[1;33m\u001b[0m\u001b[0m\n",
      "\u001b[1;32m~\\Anaconda3\\lib\\site-packages\\nidaqmx\\_task_modules\\triggering\\start_trigger.py\u001b[0m in \u001b[0;36manlg_win_src\u001b[1;34m(self)\u001b[0m\n\u001b[0;32m    946\u001b[0m                 \u001b[1;32mbreak\u001b[0m\u001b[1;33m\u001b[0m\u001b[1;33m\u001b[0m\u001b[0m\n\u001b[0;32m    947\u001b[0m \u001b[1;33m\u001b[0m\u001b[0m\n\u001b[1;32m--> 948\u001b[1;33m         \u001b[0mcheck_for_error\u001b[0m\u001b[1;33m(\u001b[0m\u001b[0msize_or_code\u001b[0m\u001b[1;33m)\u001b[0m\u001b[1;33m\u001b[0m\u001b[1;33m\u001b[0m\u001b[0m\n\u001b[0m\u001b[0;32m    949\u001b[0m \u001b[1;33m\u001b[0m\u001b[0m\n\u001b[0;32m    950\u001b[0m         \u001b[1;32mreturn\u001b[0m \u001b[0mval\u001b[0m\u001b[1;33m.\u001b[0m\u001b[0mvalue\u001b[0m\u001b[1;33m.\u001b[0m\u001b[0mdecode\u001b[0m\u001b[1;33m(\u001b[0m\u001b[1;34m'ascii'\u001b[0m\u001b[1;33m)\u001b[0m\u001b[1;33m\u001b[0m\u001b[1;33m\u001b[0m\u001b[0m\n",
      "\u001b[1;32m~\\Anaconda3\\lib\\site-packages\\nidaqmx\\errors.py\u001b[0m in \u001b[0;36mcheck_for_error\u001b[1;34m(error_code)\u001b[0m\n\u001b[0;32m    125\u001b[0m         \u001b[0mcfunc\u001b[0m\u001b[1;33m(\u001b[0m\u001b[0merror_buffer\u001b[0m\u001b[1;33m,\u001b[0m \u001b[1;36m2048\u001b[0m\u001b[1;33m)\u001b[0m\u001b[1;33m\u001b[0m\u001b[1;33m\u001b[0m\u001b[0m\n\u001b[0;32m    126\u001b[0m \u001b[1;33m\u001b[0m\u001b[0m\n\u001b[1;32m--> 127\u001b[1;33m         \u001b[1;32mraise\u001b[0m \u001b[0mDaqError\u001b[0m\u001b[1;33m(\u001b[0m\u001b[0merror_buffer\u001b[0m\u001b[1;33m.\u001b[0m\u001b[0mvalue\u001b[0m\u001b[1;33m.\u001b[0m\u001b[0mdecode\u001b[0m\u001b[1;33m(\u001b[0m\u001b[1;34m\"utf-8\"\u001b[0m\u001b[1;33m)\u001b[0m\u001b[1;33m,\u001b[0m \u001b[0merror_code\u001b[0m\u001b[1;33m)\u001b[0m\u001b[1;33m\u001b[0m\u001b[1;33m\u001b[0m\u001b[0m\n\u001b[0m\u001b[0;32m    128\u001b[0m \u001b[1;33m\u001b[0m\u001b[0m\n\u001b[0;32m    129\u001b[0m     \u001b[1;32melif\u001b[0m \u001b[0merror_code\u001b[0m \u001b[1;33m>\u001b[0m \u001b[1;36m0\u001b[0m\u001b[1;33m:\u001b[0m\u001b[1;33m\u001b[0m\u001b[1;33m\u001b[0m\u001b[0m\n",
      "\u001b[1;31mDaqError\u001b[0m: Specified property is not supported by the device or is not applicable to the task.\nProperty: DAQmx_AnlgWin_StartTrig_Src\n\nTask Name: _unnamedTask<9>\n\nStatus Code: -200452"
     ]
    }
   ],
   "source": [
    "%matplotlib\n",
    "sampleNum = 90\n",
    "sampleRate = 10000  # 10k is max when two channels are used\n",
    "\n",
    "data = np.zeros((2,sampleNum), dtype=np.float64)\n",
    "\n",
    "task = nidaqmx.task.Task() # create a task obj in NI-max\n",
    "task.ai_channels.add_ai_voltage_chan(\"Dev1/ai0\") # for I \n",
    "task.ai_channels.add_ai_voltage_chan(\"Dev1/ai1\") # for V\n",
    "\n",
    "task.triggers.start_trigger.anlg_win_src()\n",
    "\n",
    "# timingCfg = nidaqmx.task.Timing(task._handle) \n",
    "# timingCfg.cfg_samp_clk_timing(sampleRate, samps_per_chan=sampleNum) # set sampling rate per channel\n",
    "task.timing.cfg_samp_clk_timing(sampleRate, samps_per_chan=sampleNum) # set sampling rate per channel\n",
    "\n",
    "#task_in_stream = nidaqmx.task.InStream(task)\n",
    "ai = nidaqmx.stream_readers.AnalogMultiChannelReader(task.in_stream)\n",
    "ai.read_many_sample(data, sampleNum)\n",
    "\n",
    "task.close()\n",
    "\n",
    "x, y = data[0,:], data[1,:]\n",
    "z = np.polyfit(x, y, 1) # do linear fit\n",
    "Varr_fit = z[1] + z[0] * x\n",
    "\n",
    "plt.plot( x, y, 'k.')\n",
    "plt.plot(x, Varr_fit, 'b-')"
   ]
  },
  {
   "cell_type": "code",
   "execution_count": null,
   "metadata": {},
   "outputs": [
    {
     "name": "stdout",
     "output_type": "stream",
     "text": [
      "Using matplotlib backend: Qt5Agg\n"
     ]
    },
    {
     "name": "stderr",
     "output_type": "stream",
     "text": [
      "C:\\Users\\Gunnar\\Anaconda3\\lib\\site-packages\\nidaqmx\\task.py:105: ResourceWarning: Task of name \"_unnamedTask<2>\" was not explicitly closed before it was destructed. Resources on the task device may still be reserved.\n",
      "  'reserved.'.format(self.name), DaqResourceWarning)\n"
     ]
    }
   ],
   "source": [
    "%matplotlib\n",
    "import time\n",
    "\n",
    "sampleNum = 2000\n",
    "sampleRate = 10000  # 10k is max when two channels are used\n",
    "\n",
    "data = np.zeros((2,sampleNum), dtype=np.float64)\n",
    "\n",
    "task = nidaqmx.task.Task() # create a task obj in NI-max\n",
    "task.ai_channels.add_ai_voltage_chan(\"Dev1/ai0\") # for I \n",
    "task.ai_channels.add_ai_voltage_chan(\"Dev1/ai1\") # for V\n",
    "\n",
    "task.triggers.start_trigger.cfg_dig_edge_start_trig('/Dev1/PFI0')\n",
    "\n",
    "timingCfg = nidaqmx.task.Timing(task._handle) \n",
    "timingCfg.cfg_samp_clk_timing(sampleRate, samps_per_chan=sampleNum) # set sampling rate per channel\n",
    "\n",
    "ai = nidaqmx.stream_readers.AnalogMultiChannelReader(task.in_stream)\n",
    "\n",
    "DAQplotter = myplots_py3.plotDAQ(xlabel1='time (s)', ylabel1='Raw V for I (V)',\n",
    "                              xlabel2='time (s)', ylabel2='Raw V for V (V)',\n",
    "                              xlabel3='I (A)', ylabel3='V (V)',\n",
    "                              title='VI Meas', figsize=(10,10))\n",
    "\n",
    "# Take data continuously and plot it\n",
    "indexArr = np.arange(sampleNum)\n",
    "#timeArr = np.arange(sampleNum) * (1/sampleRate)\n",
    "\n",
    "for i in range(1000):\n",
    "    ai.read_many_sample(data, sampleNum)\n",
    "    time.sleep(1)\n",
    "    Iarr, Varr = data[0,:], data[1,:]\n",
    "    \n",
    "    Varr = Varr  #+ np.random.rand(sampleNum) * 0.1\n",
    "    \n",
    "    # data post-processing\n",
    "    z = np.polyfit(Iarr, Varr, 1) # do linear fit\n",
    "    Varr_fit = z[1] + z[0] * Iarr\n",
    "\n",
    "    # plot VI data and linear fit\n",
    "    DAQplotter.update(indexArr, Iarr, Varr, Varr_fit)  \n",
    "\n",
    "task.close()\n",
    "\n",
    "# x, y = data[0,:], data[1,:]\n",
    "# z = np.polyfit(x, y, 1) # do linear fit\n",
    "# Varr_fit = z[1] + z[0] * x\n",
    "\n",
    "# plt.plot( x, y, 'k.')\n",
    "# plt.plot(x, Varr_fit, 'b-')"
   ]
  },
  {
   "cell_type": "markdown",
   "metadata": {
    "collapsed": true
   },
   "source": [
    "# Class definition"
   ]
  },
  {
   "cell_type": "code",
   "execution_count": 2,
   "metadata": {},
   "outputs": [],
   "source": [
    "class DAQfactory(object):\n",
    "    \"\"\"\n",
    "    DAQ factory with 2 analog inputs\n",
    "    Inputs: sampleNum, sampleRate\n",
    "    \"\"\"\n",
    "    def __init__(self, sampleNum=sampleNum, sampleRate=sampleRate):\n",
    "        self.sampleNum = sampleNum\n",
    "        self.sampleRate = sampleRate\n",
    "        self.data = np.array([,])\n",
    "        \n",
    "        # create a task\n",
    "        self.task = nidaqmx.task.Task() \n",
    "        self.ai = nidaqmx.stream_readers.AnalogMultiChannelReader(self.task.in_stream) # create ai\n",
    "        \n",
    "        # set analog inputs\n",
    "        self.task.ai_channels.add_ai_voltage_chan(\"Dev1/ai0\") # for I \n",
    "        self.task.ai_channels.add_ai_voltage_chan(\"Dev1/ai1\") # for V\n",
    "        \n",
    "        # set external trigger\n",
    "        self.task.triggers.start_trigger.cfg_dig_edge_start_trig('/Dev1/PFI0')\n",
    "\n",
    "        # set sampling rate and number of samples\n",
    "        self.task.timing.cfg_samp_clk_timing(self.sampleRate, samps_per_chan=self.sampleNum) # set sampling rate per channel\n",
    "                      \n",
    "    def getData(self):        \n",
    "        self.ai.read_many_sample(self.data, self.sampleNum)\n",
    "        return self.data\n",
    "\n",
    "class VI_Meas(object):\n",
    "    \"\"\"\n",
    "    Do VI measurement\n",
    "    \"\"\"\n",
    "        \n",
    "    def __init__(self, Rstd, gainI, gainV, sampleNum, sampleRate ):\n",
    "        self.Rstd =Rstd\n",
    "        self.gainI = gainI\n",
    "        self.gainV = gainV\n",
    "        self.sampleNum = sampleNum\n",
    "        self.sampleRate = sampleRate\n",
    "        \n",
    "        self.task = nidaqmx.task.Task() \n",
    "        self.ai = nidaqmx.stream_readers.AnalogMultiChannelReader(self.task.in_stream) # create ai\n",
    "        self.configure_DAQ()\n",
    "        \n",
    "        self.data= np.array([,])\n",
    "        \n",
    "    def _configure_DAQ(self):\n",
    "                \n",
    "        # set analog inputs\n",
    "        self.task.ai_channels.add_ai_voltage_chan(\"Dev1/ai0\") # for I \n",
    "        self.task.ai_channels.add_ai_voltage_chan(\"Dev1/ai1\") # for V\n",
    "        \n",
    "        # set external trigger\n",
    "        self.task.triggers.start_trigger.cfg_dig_edge_start_trig('/Dev1/PFI0')\n",
    "\n",
    "        # set sampling rate and number of samples\n",
    "        self.task.timing.cfg_samp_clk_timing(self.sampleRate, samps_per_chan=self.sampleNum) # set sampling rate per channel\n",
    "    \n",
    "    def getVI(self):\n",
    "        self.ai.read_many_sample(self.data, self.sampleNum) # take data\n",
    "        I = self.data[0,:] / self.gainI / self.Rstd,  # convert preamp voltage to actual V and I\n",
    "        V = self.data[1,:] / self.gainV\n",
    "       \n",
    "        return V, I"
   ]
  },
  {
   "cell_type": "markdown",
   "metadata": {},
   "source": [
    "# VI Meas with VI_meas class"
   ]
  },
  {
   "cell_type": "code",
   "execution_count": null,
   "metadata": {},
   "outputs": [],
   "source": [
    "# Set parameters\n",
    "Rstd = 10e3    # Ohm, standard resistor\n",
    "gainI = 1     # Preamp gain for I\n",
    "gainV = 1e3   # Preamp gain for V\n",
    "sampleNum = 2000\n",
    "sampleRate = 20e3\n",
    "\n",
    "# create VI_meas object\n",
    "VI = VI_meas(Rstd, gainI, gainV, sampleNum, sampleRate)\n",
    "\n",
    "# Create a plot object\n",
    "DAQplotter = VI_Plotter(xlabel1='time (s)', ylabel1='Raw V for I (V)',\n",
    "                              xlabel2='time (s)', ylabel2='Raw V for V (V)',\n",
    "                              title='VI Meas', figuresize=(12,8))\n",
    "\n",
    "# Take data continuously and plot it\n",
    "timedata = np.arange(0, sampleNum / sampleRate, 1/sampleRate)  # CHECK THIS\n",
    "\n",
    "for _ in range(10):\n",
    "    # acquire data in DAQ\n",
    "    V, I = VI.getVI()\n",
    "    \n",
    "    # data post-processing\n",
    "    z = np.polyfit(I, V, 1) # do linear fit\n",
    "    V_fit = z[1] + z[0] * I\n",
    "  \n",
    "    # plot VI data and linear fit\n",
    "    DAQplotter.update(timedata, I, timedata, V, I, V, V, V_fit)  \n",
    "        "
   ]
  },
  {
   "cell_type": "markdown",
   "metadata": {},
   "source": [
    "# VI Meas (with DAQ clas)"
   ]
  },
  {
   "cell_type": "code",
   "execution_count": null,
   "metadata": {},
   "outputs": [],
   "source": [
    "# Set parameters\n",
    "R_std = 10e3    # Ohm, standard resistor\n",
    "gain_I = 1     # Preamp gain for I\n",
    "gain_V = 1e3   # Preamp gain for V\n",
    "sampleNum = 2000\n",
    "sampleRate = 20e3\n",
    "\n",
    "# create DAQ object\n",
    "DAQ = DAQfactory(sampleNum=sampleNum, sampleRate=sampleRate)\n",
    "\n",
    "# Create a plot object\n",
    "DAQplotter = VI_Plotter(xlabel1='time (s)', ylabel1='Raw V for I (V)',\n",
    "                              xlabel2='time (s)', ylabel2='Raw V for V (V)',\n",
    "                              title='VI Meas', figuresize=(12,8))\n",
    "\n",
    "# Take data continuously and plot it\n",
    "data = np.array([,])\n",
    "time = np.arange(0, sampleNum / sampleRate, 1/sampleRate)  # CHECK THIS\n",
    "\n",
    "for _ in range(10):\n",
    "    # acquire data in DAQ\n",
    "    data = DAQ.getData()   # take voltages from preamps\n",
    "    I = data[0,:] / gain_I / R_std,  # convert preamp voltage to actual V and I\n",
    "    V = data[1,:] / gain_V\n",
    "    \n",
    "    # data post-processing\n",
    "    z = np.polyfit(I, V, 1) # do linear fit\n",
    "    V_fit = z[1] + z[0] * I\n",
    "  \n",
    "    # plot VI data and linear fit\n",
    "    DAQplotter.update(time, I, times, V, I, V, V, V_fit)  \n",
    "        "
   ]
  },
  {
   "cell_type": "markdown",
   "metadata": {},
   "source": [
    "# RT Meas"
   ]
  },
  {
   "cell_type": "code",
   "execution_count": null,
   "metadata": {},
   "outputs": [],
   "source": [
    "# Set parameters\n",
    "Rstd = 10e3    # Ohm, standard resistor\n",
    "gainI = 1     # Preamp gain for I\n",
    "gainV = 1e3   # Preamp gain for V\n",
    "sampleNum = 2000\n",
    "sampleRate = 20e3\n",
    "\n",
    "LS = Lakeshore332.Lakeshore332()\n",
    "\n",
    "# create VI_meas object\n",
    "VI = VI_meas(Rstd, gainI, gainV, sampleNum, sampleRate)\n",
    "\n",
    "# Create a plot object\n",
    "DAQplotter = RT_Plotter(xlabel1='time (s)', ylabel1='Raw V for I (V)',\n",
    "                              xlabel2='time (s)', ylabel2='Raw V for V (V)',\n",
    "                              title='VI Meas', figuresize=(12,8))\n",
    "\n",
    "# Take data continuously and plot it\n",
    "timedata = np.arange(0, sampleNum / sampleRate, 1/sampleRate)  # CHECK THIS\n",
    "\n",
    "while True:\n",
    "    # read temperature\n",
    "    MXC_temperature = LS.getTemperature('B')\n",
    "    \n",
    "    # acquire data in DAQ\n",
    "    V, I = VI.getVI()\n",
    "    \n",
    "    # data post-processing\n",
    "    z = np.polyfit(I, V, 1) # do linear fit\n",
    "    V_fit = z[1] + z[0] * I\n",
    "  \n",
    "    # plot VI data and linear fit\n",
    "    DAQplotter.update(timedata, I, timedata, V, I, V, V, V_fit, MXC_temperature, Z[0])  \n",
    "        "
   ]
  },
  {
   "cell_type": "markdown",
   "metadata": {},
   "source": [
    "\n",
    "#  VI Meas. with AC (old)"
   ]
  },
  {
   "cell_type": "code",
   "execution_count": 9,
   "metadata": {},
   "outputs": [
    {
     "ename": "SyntaxError",
     "evalue": "invalid syntax (<ipython-input-9-0a90d46f5651>, line 15)",
     "output_type": "error",
     "traceback": [
      "\u001b[1;36m  File \u001b[1;32m\"<ipython-input-9-0a90d46f5651>\"\u001b[1;36m, line \u001b[1;32m15\u001b[0m\n\u001b[1;33m    data = np.array([,])\u001b[0m\n\u001b[1;37m                     ^\u001b[0m\n\u001b[1;31mSyntaxError\u001b[0m\u001b[1;31m:\u001b[0m invalid syntax\n"
     ]
    }
   ],
   "source": [
    "# Set parameters\n",
    "R_std = 10e3    # Ohm, standard resistor\n",
    "gainForI = 1     # Preamp gain for I\n",
    "gainForV = 1e3   # Preamp gain for V\n",
    "\n",
    "sampling_rate =  20e3 # Sampling rate of DAQ\n",
    "num_sample = 2000     # number of samples to take\n",
    "\n",
    "# Create a plot object\n",
    "DAQplotter = myplot_py3.plotDAQ(xlabel1='time (s)', ylabel1='Raw V for I (V)',\n",
    "                              xlabel2='time (s)', ylabel2='Raw V for V (V)',\n",
    "                              title='VI Meas', figuresize=(12,8))\n",
    "\n",
    "# Take data continuously and plot it\n",
    "data = np.array([,])\n",
    "indexArr = np.arange(num_sample)\n",
    "while True:\n",
    "       with nidaqmx.stream_readers.AnalogMultiChannerlReader as ai:\n",
    "            # acquire data in DAQ\n",
    "            ai.read_many_sample(data, num_sample)   # take voltages from preamps\n",
    "            Iarr, Varr = data[0,:] / gainForI / R_std, data[1,:] / gainForV # convert preamp voltage to actual V and I\n",
    "            \n",
    "            # data post-processing\n",
    "            z = np.polyfit(Iarra, Varr, 1) # do linear fit\n",
    "            Varr_fit = z[1] + z[0] * Iarr\n",
    "            #Iarr_fft, Varr_fft = np.fft.fft(Iarr), np.fft.fft(Varr)\n",
    "           # freqArr = np.fft.fftfreq(num_sample, d=1/sampling_rate)\n",
    "        \n",
    "            # plot VI data and linear fit\n",
    "            DAQplotter.update(indexArr, Iarr, Varr, Varr_fit)  \n",
    "        \n"
   ]
  },
  {
   "cell_type": "markdown",
   "metadata": {},
   "source": [
    "# VI Meas. with DCoffset + AC (old)"
   ]
  },
  {
   "cell_type": "code",
   "execution_count": null,
   "metadata": {
    "collapsed": true
   },
   "outputs": [],
   "source": [
    "# Set parameters\n",
    "R_std = 10e3    # Ohm, standard resistor\n",
    "gainForI = 1     # Preamp gain for I\n",
    "gainForV = 1e3   # Preamp gain for V\n",
    "\n",
    "sampling_rate =  20e3 # Sampling rate of DAQ\n",
    "num_sample = 2000     # number of samples to take\n",
    "\n",
    "Vdc_start,Vdc_end = 0, 1 # V\n",
    "sweepSeq = np.linspace(0, 1, 100)\n",
    "\n",
    "# Create a plot object\n",
    "DAQplotter = myplot_py3.plotDAQ(xlabel1='time (s)', ylabel1='Raw V for I (V)',\n",
    "                              xlabel2='time (s)', ylabel2='Raw V for V (V)',\n",
    "                              title='VI Meas', figuresize=(12,8))\n",
    "mainPlotter = myplot_py3.plot1D(xlabel1='Current (A)', ylabel1='Voltage (V)', title='VI Meas', plotstyle='b-')\n",
    "\n",
    "# initialize array\n",
    "Iarr_avg, Varr_avg = np.array([]), np.array([])\n",
    "\n",
    "for volt in sweepSeq:\n",
    "    VSrc.setVoltage(volt)    # set DC offset\n",
    "    \n",
    "    with nidaqmx.stream_readers.AnalogMultiChannerlReader as ai:\n",
    "            # acquire data in DAQ\n",
    "            ai.read_many_sample(data, num_sample)   # take voltages from preamps\n",
    "            Iarr, Varr = data[0,:] / gainForI / R_std, data[1,:] / gainForV # convert preamp voltage to actual V and I\n",
    "            I, V = np.mean(Iarr), np.mean(Varr)\n",
    "            \n",
    "            # data post-processing\n",
    "            z = np.polyfit(Iarra, Varr, 1) # do linear fit\n",
    "            Varr_fit = z[1] + z[0] * Iarr\n",
    "            \n",
    "    Iarr_avg = np.append(Iarr_avg, I)\n",
    "    Varr_avg = np.append(Varr_avg, V)\n",
    "    \n",
    "    DAQplotter.update(Iarr, Varr, Varr_fit)\n",
    "    mainPlotter.update(Iarr_avg, Varr_avg)\n",
    "    \n"
   ]
  },
  {
   "cell_type": "markdown",
   "metadata": {},
   "source": [
    "# Playground"
   ]
  },
  {
   "cell_type": "code",
   "execution_count": 23,
   "metadata": {},
   "outputs": [
    {
     "data": {
      "text/plain": [
       "array([  0.00000000e+00,   1.00000000e-06,   2.00000000e-06,\n",
       "         3.00000000e-06,   4.00000000e-06,   5.00000000e-06,\n",
       "         6.00000000e-06,   7.00000000e-06,   8.00000000e-06,\n",
       "         9.00000000e-06])"
      ]
     },
     "execution_count": 23,
     "metadata": {},
     "output_type": "execute_result"
    }
   ],
   "source": [
    "np.arange(10)*1e-6"
   ]
  },
  {
   "cell_type": "code",
   "execution_count": 35,
   "metadata": {},
   "outputs": [
    {
     "data": {
      "text/plain": [
       "array([ 0.56152969,  0.44506761,  0.40571925,  0.77337491,  0.69283947,\n",
       "        0.82859652,  0.92888809,  0.11322308,  0.23233362,  0.59160799])"
      ]
     },
     "execution_count": 35,
     "metadata": {},
     "output_type": "execute_result"
    }
   ],
   "source": [
    "np.random.rand(10)"
   ]
  },
  {
   "cell_type": "code",
   "execution_count": null,
   "metadata": {
    "collapsed": true
   },
   "outputs": [],
   "source": []
  }
 ],
 "metadata": {
  "@webio": {
   "lastCommId": null,
   "lastKernelId": null
  },
  "kernelspec": {
   "display_name": "Python 3",
   "language": "python",
   "name": "python3"
  },
  "language_info": {
   "codemirror_mode": {
    "name": "ipython",
    "version": 3
   },
   "file_extension": ".py",
   "mimetype": "text/x-python",
   "name": "python",
   "nbconvert_exporter": "python",
   "pygments_lexer": "ipython3",
   "version": "3.8.2"
  },
  "toc": {
   "base_numbering": 1,
   "nav_menu": {},
   "number_sections": true,
   "sideBar": true,
   "skip_h1_title": false,
   "title_cell": "Table of Contents",
   "title_sidebar": "Contents",
   "toc_cell": false,
   "toc_position": {},
   "toc_section_display": "block",
   "toc_window_display": true
  }
 },
 "nbformat": 4,
 "nbformat_minor": 2
}
