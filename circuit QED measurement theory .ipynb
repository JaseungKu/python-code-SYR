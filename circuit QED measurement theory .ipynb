{
 "cells": [
  {
   "cell_type": "code",
   "execution_count": 35,
   "metadata": {},
   "outputs": [
    {
     "name": "stdout",
     "output_type": "stream",
     "text": [
      "Using matplotlib backend: TkAgg\n"
     ]
    }
   ],
   "source": [
    "%matplotlib\n",
    "import matplotlib.pyplot as plt\n",
    "import numpy as np\n",
    "\n",
    "# Ref: Gambetta et al., 2006\n",
    "\n",
    "def n_p(chi=1, k=1, del_r=1, epsilon_rt=1):\n",
    "    return epsilon_rf**2/(k**2/4+(del_r+chi)**2)\n",
    "\n",
    "def n_m(chi=1, k=1, del_r=1, epsilon_rt=1):\n",
    "    return epsilon_rf**2/(k**2/4+(del_r-chi)**2)\n",
    "\n",
    "def Gamma_m(chi=1, k=1, del_r=1, epsilon_rt=1):\n",
    "    np = n_p(chi, k, del_r, epsilon_rt)\n",
    "    nm = n_m(chi, k, del_r, epsilon_rt)\n",
    "    gamma = (np + nm)*k*chi**2/(k**2/4+chi**2 +del_r**2)\n",
    "    \n",
    "    return gamma\n",
    "\n",
    "def SNR(chi=1, k=1, del_r=1, epsilon_rt=1, eta=1, gamma=1):\n",
    "    snr = Gamma_m(chi, k, del_r, epsilon_rt) * eta / gamma\n",
    "    \n",
    "    return snr"
   ]
  },
  {
   "cell_type": "code",
   "execution_count": 36,
   "metadata": {},
   "outputs": [
    {
     "data": {
      "text/plain": [
       "0.2870813397129187"
      ]
     },
     "execution_count": 36,
     "metadata": {},
     "output_type": "execute_result"
    }
   ],
   "source": [
    "chi, k, del_r = 1, 0.6, 1\n",
    "Gamma_m(chi, k, del_r)/(n_p(chi, k, del_r) + n_m(chi, k , del_r,))"
   ]
  },
  {
   "cell_type": "code",
   "execution_count": 37,
   "metadata": {},
   "outputs": [
    {
     "data": {
      "text/plain": [
       "0.5504587155963302"
      ]
     },
     "execution_count": 37,
     "metadata": {},
     "output_type": "execute_result"
    }
   ],
   "source": [
    "chi, k, del_r = 1, 0.6, 0\n",
    "Gamma_m(chi, k, del_r)/(n_p(chi, k, del_r) + n_m(chi, k , del_r,))"
   ]
  },
  {
   "cell_type": "code",
   "execution_count": 51,
   "metadata": {},
   "outputs": [
    {
     "data": {
      "text/plain": [
       "[<matplotlib.lines.Line2D at 0x7ffa1d277640>]"
      ]
     },
     "execution_count": 51,
     "metadata": {},
     "output_type": "execute_result"
    }
   ],
   "source": [
    "k, del_r = 0.6, 0\n",
    "chi_list = np.linspace(0.1, 5, 100)\n",
    "snr_list = SNR(chi_list, k, del_r)/(n_p(chi_list, k, del_r) + n_m(chi_list, k, del_r))\n",
    "plt.plot(chi_list, snr_list)"
   ]
  },
  {
   "cell_type": "code",
   "execution_count": 42,
   "metadata": {
    "scrolled": true
   },
   "outputs": [
    {
     "data": {
      "text/plain": [
       "[<matplotlib.lines.Line2D at 0x7ffa1d87cfd0>]"
      ]
     },
     "execution_count": 42,
     "metadata": {},
     "output_type": "execute_result"
    }
   ],
   "source": [
    "chi, del_r = 1, 0\n",
    "k_list = np.linspace(0.1, 5, 100)\n",
    "snr_list = SNR(chi, k_list, del_r)/(n_p(chi, k_list, del_r) + n_m(chi, k_list, del_r))\n",
    "plt.plot(k_list, snr_list)"
   ]
  },
  {
   "cell_type": "code",
   "execution_count": 49,
   "metadata": {},
   "outputs": [
    {
     "data": {
      "text/plain": [
       "[<matplotlib.lines.Line2D at 0x7ffa1d41e040>]"
      ]
     },
     "execution_count": 49,
     "metadata": {},
     "output_type": "execute_result"
    }
   ],
   "source": [
    "chi, k = 1, 0.1\n",
    "del_r_list = np.linspace(-2, 2, 100)\n",
    "snr_list = SNR(chi, k, del_r_list)/(n_p(chi, k, del_r_list) + n_m(chi, k, del_r_list))\n",
    "plt.plot(del_r_list, snr_list)"
   ]
  },
  {
   "cell_type": "code",
   "execution_count": null,
   "metadata": {},
   "outputs": [],
   "source": []
  }
 ],
 "metadata": {
  "kernelspec": {
   "display_name": "Python 3",
   "language": "python",
   "name": "python3"
  },
  "language_info": {
   "codemirror_mode": {
    "name": "ipython",
    "version": 3
   },
   "file_extension": ".py",
   "mimetype": "text/x-python",
   "name": "python",
   "nbconvert_exporter": "python",
   "pygments_lexer": "ipython3",
   "version": "3.8.5"
  },
  "toc": {
   "base_numbering": 1,
   "nav_menu": {},
   "number_sections": true,
   "sideBar": true,
   "skip_h1_title": false,
   "title_cell": "Table of Contents",
   "title_sidebar": "Contents",
   "toc_cell": false,
   "toc_position": {},
   "toc_section_display": true,
   "toc_window_display": false
  }
 },
 "nbformat": 4,
 "nbformat_minor": 4
}
