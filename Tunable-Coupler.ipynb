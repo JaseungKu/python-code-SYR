{
 "cells": [
  {
   "cell_type": "markdown",
   "metadata": {},
   "source": [
    "# Two transmon + bus cavity"
   ]
  },
  {
   "cell_type": "markdown",
   "metadata": {},
   "source": [
    "## Undriven"
   ]
  },
  {
   "cell_type": "code",
   "execution_count": 57,
   "metadata": {},
   "outputs": [
    {
     "name": "stdout",
     "output_type": "stream",
     "text": [
      "Using matplotlib backend: TkAgg\n"
     ]
    }
   ],
   "source": [
    "%matplotlib \n",
    "import matplotlib.pyplot as plt\n",
    "import numpy as np\n",
    "from scipy.linalg import sqrtm, block_diag\n",
    "from math import pi\n",
    "from qutip import *\n",
    "import sympy\n",
    "import functools, operator"
   ]
  },
  {
   "cell_type": "code",
   "execution_count": 2,
   "metadata": {},
   "outputs": [],
   "source": [
    "def hamiltonian_eff_H0(w1,w2,J,alpha1,alpha2,N):\n",
    "    \"\"\" \n",
    "    Two-transmon effective Hamiltonian with zero excitation in bus. \n",
    "    Eq. 2.12, Magesan\n",
    "    w1, w2:  angular freq\n",
    "    \"\"\"\n",
    "    b1 = destroy(N)\n",
    "    b2 = destroy(N)\n",
    "    \n",
    "    I = qeye(N)\n",
    "\n",
    "    # Eq. 2.21, Magesan\n",
    "    H1 = w1*tensor(b1.dag()*b1, I) + alpha1/2.0*tensor(b1.dag()*b1.dag()*b1*b1, I)\n",
    "    H2 = w2*tensor(I, b2.dag()*b2) + alpha2/2.0*tensor(I, b2.dag()*b2.dag()*b2*b2)\n",
    "    H12 = J*(tensor(b1.dag(), b2) + tensor(b1, b2.dag())) \n",
    "    \n",
    "    H_eff = H1 + H2 + H12\n",
    "    \n",
    "    return H_eff\n",
    "\n",
    "def hamiltonian_eff_Hd(wd, Omega_X, Omega_Y, t, N):\n",
    "    \"\"\" \n",
    "    CR drive Hamiltonian. Eq.2.14.\n",
    "    All arguments are single number, not an array\n",
    "    wd: angular freq\n",
    "    \"\"\"\n",
    "    b1 = destroy(N)  # qubit 2 is target qubit\n",
    "#     Hd = (Omega_X * np.cos(wd*t) + Omega_Y * np.sin(wd*t)) * tensor(qeye(N),b2 + b2.dag())\n",
    "    Hd = (Omega_X * np.cos(wd*t) + Omega_Y * np.sin(wd*t)) * tensor(b1 + b1.dag(),qeye(N))\n",
    "    \n",
    "    return Hd\n",
    "\n",
    "def ZZ_computed(J, alpha1, alpha2, Delta):\n",
    "    \"\"\" Eq.4.5 in Magesan\"\"\"\n",
    "    return -J**2*(1/(Delta + alpha1) + 1/(-Delta + alpha2)) * 2"
   ]
  },
  {
   "cell_type": "code",
   "execution_count": 3,
   "metadata": {},
   "outputs": [
    {
     "name": "stdout",
     "output_type": "stream",
     "text": [
      "ZZ = 0.423 (MHz)\n",
      "ZZ_by_formula = 0.424 (MHz)\n"
     ]
    }
   ],
   "source": [
    "# parameters for IBM qubit\n",
    "w1, w2 = 2*pi*5, 2*pi*5.2 # in GHz\n",
    "J = 0.005*2*pi\n",
    "alpha1, alpha2 = -0.35*2*pi, -0.35*2*pi # in GHz\n",
    "N=5\n",
    "\n",
    "H_eff = hamiltonian_eff_H0(w1,w2,J,alpha1,alpha2,N)\n",
    "eigen = H_eff.eigenstates()\n",
    "ZZ = eigen[0][5] - eigen[0][1] - eigen[0][2]  # in GHz\n",
    "\n",
    "sympy.SparseMatrix(np.round((H_eff)[:, 0:13],2))\n",
    "print(f'ZZ = {ZZ*1e3/(2*pi):.3f} (MHz)')\n",
    "print(f'ZZ_by_formula = {ZZ_computed(J,alpha1,alpha2,w1-w2)*1e3/(2*pi):.3f} (MHz)')"
   ]
  },
  {
   "cell_type": "code",
   "execution_count": 4,
   "metadata": {},
   "outputs": [
    {
     "data": {
      "text/plain": [
       "array([  0.        ,  31.41514163,  32.67334851,  60.63216698,\n",
       "        63.14392431,  64.09114939,  87.64991143,  91.4194034 ,\n",
       "        93.30269448,  94.56601264, 112.46851434, 117.49482602,\n",
       "       120.3217872 , 122.83078145, 123.78669517, 145.14018436,\n",
       "       148.90897676, 150.79083124, 152.06261183, 175.61160088,\n",
       "       178.11596075, 179.08655243, 203.87692006, 205.15844344,\n",
       "       229.96458224])"
      ]
     },
     "execution_count": 4,
     "metadata": {},
     "output_type": "execute_result"
    }
   ],
   "source": [
    "eigen[0]"
   ]
  },
  {
   "cell_type": "markdown",
   "metadata": {},
   "source": [
    "## CR Driven: two-level qubit case"
   ]
  },
  {
   "cell_type": "code",
   "execution_count": 203,
   "metadata": {},
   "outputs": [],
   "source": [
    "w1, w2 = 2*pi*5, 2*pi*5.2 # in GHz\n",
    "J = 0.01*2*pi\n",
    "alpha1, alpha2 = -0.35*2*pi, -0.35*2*pi\n",
    "N =2\n",
    "Omega_X, Omega_Y = 0.02*2*pi,0*2*pi\n",
    "\n",
    "b1 = destroy(N)\n",
    "b2 = destroy(N)\n",
    "\n",
    "HA = w2*(tensor(b1.dag()*b1, qeye(N)) + tensor(qeye(N), b2.dag()*b2))\n",
    "R = lambda t: (-1j*HA*t).expm()\n",
    "\n",
    "H0 = hamiltonian_eff_H0(w1,w2,J,alpha1,alpha2,N)\n",
    "Hd = lambda t:hamiltonian_eff_Hd(w2, Omega_X, Omega_Y, t, N)\n",
    "\n",
    "HR = lambda t: R(t).dag() * (H0 + Hd(t)) * R(t) - HA"
   ]
  },
  {
   "cell_type": "code",
   "execution_count": 204,
   "metadata": {},
   "outputs": [],
   "source": [
    "t_list = np.linspace(0, 2, 401)  # in ns\n",
    "HR_list = [HR(t) for t in t_list]\n",
    "H_R = functools.reduce(operator.add, HR_list) / len(HR_list)"
   ]
  },
  {
   "cell_type": "code",
   "execution_count": 205,
   "metadata": {},
   "outputs": [
    {
     "data": {
      "text/latex": [
       "Quantum object: dims = [[2, 2], [2, 2]], shape = (4, 4), type = oper, isherm = True\\begin{equation*}\\left(\\begin{array}{*{11}c}0.0 & 0.0 & (0.062-2.539\\times10^{-04}j) & 0.0\\\\0.0 & 0.0 & 0.063 & (0.062-2.539\\times10^{-04}j)\\\\(0.062+2.539\\times10^{-04}j) & 0.063 & -1.257 & 0.0\\\\0.0 & (0.062+2.539\\times10^{-04}j) & 0.0 & -1.257\\\\\\end{array}\\right)\\end{equation*}"
      ],
      "text/plain": [
       "Quantum object: dims = [[2, 2], [2, 2]], shape = (4, 4), type = oper, isherm = True\n",
       "Qobj data =\n",
       "[[ 0.        +0.j          0.        +0.j          0.06248237-0.00025391j\n",
       "   0.        +0.j        ]\n",
       " [ 0.        +0.j          0.        +0.j          0.06283185+0.j\n",
       "   0.06248237-0.00025391j]\n",
       " [ 0.06248237+0.00025391j  0.06283185+0.j         -1.25663706+0.j\n",
       "   0.        +0.j        ]\n",
       " [ 0.        +0.j          0.06248237+0.00025391j  0.        +0.j\n",
       "  -1.25663706+0.j        ]]"
      ]
     },
     "execution_count": 205,
     "metadata": {},
     "output_type": "execute_result"
    }
   ],
   "source": [
    "H_R.conj().trans()\n",
    "H_R"
   ]
  },
  {
   "cell_type": "code",
   "execution_count": 17,
   "metadata": {
    "scrolled": false
   },
   "outputs": [
    {
     "data": {
      "text/plain": [
       "[<matplotlib.lines.Line2D at 0x7ffb0513a460>]"
      ]
     },
     "execution_count": 17,
     "metadata": {},
     "output_type": "execute_result"
    }
   ],
   "source": [
    "avg_list = []\n",
    "for N in range(2,401):\n",
    "    temp = (functools.reduce(operator.add,[HR_list[i] for i in range(N)]) / N)\n",
    "    temp = np.real(temp[2,0])\n",
    "    avg_list.append(temp)\n",
    "    \n",
    "plt.plot(avg_list)\n",
    "# avg_list"
   ]
  },
  {
   "cell_type": "code",
   "execution_count": 37,
   "metadata": {
    "scrolled": false
   },
   "outputs": [
    {
     "data": {
      "text/latex": [
       "Quantum object: dims = [[10], [10]], shape = (10, 10), type = oper, isherm = True\\begin{equation*}\\left(\\begin{array}{*{11}c}0.0 & 0.0 & 0.0 & 0.0 & 0.0 & 0.0 & 0.0 & 0.0 & 0.0 & 0.0\\\\0.0 & 0.0 & 0.0 & 0.0 & 0.0 & 0.0 & 0.0 & 0.0 & 0.0 & 0.0\\\\0.0 & 0.0 & 1.0 & 0.0 & 0.0 & 0.0 & 0.0 & 0.0 & 0.0 & 0.0\\\\0.0 & 0.0 & 0.0 & 1.0 & 0.0 & 0.0 & 0.0 & 0.0 & 0.0 & 0.0\\\\0.0 & 0.0 & 0.0 & 0.0 & 0.0 & 0.0 & 0.0 & 0.0 & 0.0 & 0.0\\\\0.0 & 0.0 & 0.0 & 0.0 & 0.0 & 2.0 & 0.0 & 0.0 & 0.0 & 0.0\\\\0.0 & 0.0 & 0.0 & 0.0 & 0.0 & 0.0 & 0.0 & 0.0 & 0.0 & 0.0\\\\0.0 & 0.0 & 0.0 & 0.0 & 0.0 & 0.0 & 0.0 & 1.0 & 0.0 & 0.0\\\\0.0 & 0.0 & 0.0 & 0.0 & 0.0 & 0.0 & 0.0 & 0.0 & 2.0 & 0.0\\\\0.0 & 0.0 & 0.0 & 0.0 & 0.0 & 0.0 & 0.0 & 0.0 & 0.0 & 3.000\\\\\\end{array}\\right)\\end{equation*}"
      ],
      "text/plain": [
       "Quantum object: dims = [[10], [10]], shape = (10, 10), type = oper, isherm = True\n",
       "Qobj data =\n",
       "[[0. 0. 0. 0. 0. 0. 0. 0. 0. 0.]\n",
       " [0. 0. 0. 0. 0. 0. 0. 0. 0. 0.]\n",
       " [0. 0. 1. 0. 0. 0. 0. 0. 0. 0.]\n",
       " [0. 0. 0. 1. 0. 0. 0. 0. 0. 0.]\n",
       " [0. 0. 0. 0. 0. 0. 0. 0. 0. 0.]\n",
       " [0. 0. 0. 0. 0. 2. 0. 0. 0. 0.]\n",
       " [0. 0. 0. 0. 0. 0. 0. 0. 0. 0.]\n",
       " [0. 0. 0. 0. 0. 0. 0. 1. 0. 0.]\n",
       " [0. 0. 0. 0. 0. 0. 0. 0. 2. 0.]\n",
       " [0. 0. 0. 0. 0. 0. 0. 0. 0. 3.]]"
      ]
     },
     "execution_count": 37,
     "metadata": {},
     "output_type": "execute_result"
    }
   ],
   "source": []
  },
  {
   "cell_type": "markdown",
   "metadata": {},
   "source": [
    "## Least action"
   ]
  },
  {
   "cell_type": "code",
   "execution_count": 206,
   "metadata": {},
   "outputs": [],
   "source": [
    "eigen = H_R.eigenstates()\n",
    "# np.linalg.norm(eigen[1][3])"
   ]
  },
  {
   "cell_type": "code",
   "execution_count": 207,
   "metadata": {},
   "outputs": [
    {
     "data": {
      "text/latex": [
       "Quantum object: dims = [[2, 2], [1, 1]], shape = (4, 1), type = ket\\begin{equation*}\\left(\\begin{array}{*{11}c}0.042\\\\(0.068+2.763\\times10^{-04}j)\\\\(-0.849-0.003j)\\\\(-0.523-0.004j)\\\\\\end{array}\\right)\\end{equation*}"
      ],
      "text/plain": [
       "Quantum object: dims = [[2, 2], [1, 1]], shape = (4, 1), type = ket\n",
       "Qobj data =\n",
       "[[ 0.04191927+0.j        ]\n",
       " [ 0.06799578+0.00027632j]\n",
       " [-0.84850975-0.00344813j]\n",
       " [-0.52308748-0.00425146j]]"
      ]
     },
     "execution_count": 207,
     "metadata": {},
     "output_type": "execute_result"
    }
   ],
   "source": [
    "eigen[1][0]"
   ]
  },
  {
   "cell_type": "code",
   "execution_count": 209,
   "metadata": {
    "scrolled": false
   },
   "outputs": [
    {
     "data": {
      "text/latex": [
       "Quantum object: dims = [[2, 2], [2, 2]], shape = (4, 4), type = oper, isherm = True\\begin{equation*}\\left(\\begin{array}{*{11}c}-1.260 & (-0.003+1.260\\times10^{-05}j) & 0.0 & 0.0\\\\(-0.003-1.260\\times10^{-05}j) & -1.263 & 0.0 & 0.0\\\\0.0 & 0.0 & 0.006 & (0.003-1.260\\times10^{-05}j)\\\\0.0 & 0.0 & (0.003+1.260\\times10^{-05}j) & 0.003\\\\\\end{array}\\right)\\end{equation*}"
      ],
      "text/plain": [
       "Quantum object: dims = [[2, 2], [2, 2]], shape = (4, 4), type = oper, isherm = True\n",
       "Qobj data =\n",
       "[[-1.2597286 +0.00000000e+00j -0.00310116+1.26023328e-05j\n",
       "   0.        +0.00000000e+00j  0.        +0.00000000e+00j]\n",
       " [-0.00310116-1.26023328e-05j -1.26284711+0.00000000e+00j\n",
       "   0.        +0.00000000e+00j  0.        +0.00000000e+00j]\n",
       " [ 0.        +0.00000000e+00j  0.        +0.00000000e+00j\n",
       "   0.00621004+0.00000000e+00j  0.00310116-1.26023328e-05j]\n",
       " [ 0.        +0.00000000e+00j  0.        +0.00000000e+00j\n",
       "   0.00310116+1.26023328e-05j  0.00309153+0.00000000e+00j]]"
      ]
     },
     "execution_count": 209,
     "metadata": {},
     "output_type": "execute_result"
    }
   ],
   "source": [
    "# find X\n",
    "X_array = np.column_stack( (eigen[1][0],eigen[1][1],eigen[1][2],eigen[1][3]))\n",
    "X = Qobj(X_array)\n",
    "\n",
    "# find X_BD and XP\n",
    "A, B = X[0:2,0:2], X[2:4, 2:4]\n",
    "X_BD_array = block_diag(A,B)\n",
    "X_BD = Qobj(X_BD_array)\n",
    "XP = X_BD * X_BD.conj().trans()\n",
    "\n",
    "# find T\n",
    "T = X * X_BD.conj().trans() * XP.sqrtm().inv()\n",
    "\n",
    "# find H_R_BD\n",
    "T.dims = H_R.dims\n",
    "H_R_BD =  T.conj().trans() * H_R * T\n",
    "H_R_BD"
   ]
  },
  {
   "cell_type": "code",
   "execution_count": 210,
   "metadata": {},
   "outputs": [
    {
     "name": "stdout",
     "output_type": "stream",
     "text": [
      "0.0031260015268123323\n",
      "-1.2597708391340494\n"
     ]
    }
   ],
   "source": [
    "w1, w2 = 2*pi*5, 2*pi*5.2 # in GHz\n",
    "J = 0.01*2*pi\n",
    "alpha1, alpha2 = -0.35*2*pi, -0.35*2*pi\n",
    "N =2\n",
    "Omega_X, Omega_Y = 0.02*2*pi,0*2*pi\n",
    "\n",
    "Delta=w1-w2\n",
    "print(J * Omega_X /np.sqrt(Delta**2+ Omega_X**2)/2)\n",
    "print( (Delta-np.sqrt(Delta**2+ Omega_X**2))/2)"
   ]
  },
  {
   "cell_type": "markdown",
   "metadata": {},
   "source": [
    "## CR Driven: three-level case"
   ]
  },
  {
   "cell_type": "code",
   "execution_count": 86,
   "metadata": {},
   "outputs": [],
   "source": [
    "# get block-diagonal full H_RWA Hamiltonina, then take computational subspace\n",
    "# to fine Pauli coefficients: ZX,ZZ,ZI,IX,and IZ\n",
    "\n",
    "# Main question: how to compute H_RWA. How can we ignore other than e^{-iwt} or e^{iwt}."
   ]
  },
  {
   "cell_type": "code",
   "execution_count": 192,
   "metadata": {},
   "outputs": [],
   "source": [
    "w1, w2 = 2*pi*5.2, 2*pi*5 # in GHz\n",
    "J = 0.01*2*pi\n",
    "alpha1, alpha2 = -0.35*2*pi, -0.35*2*pi\n",
    "Omega_X, Omega_Y = 20*2*pi,20*2*pi\n",
    "N =3\n",
    "\n",
    "b1 = destroy(N)\n",
    "b2 = destroy(N)\n",
    "\n",
    "H0 = hamiltonian_eff_H0(w1,w2,J,alpha1,alpha2,N)"
   ]
  },
  {
   "cell_type": "code",
   "execution_count": 193,
   "metadata": {},
   "outputs": [],
   "source": [
    "# digonalize H0: remove J\n",
    "eigen = H0.eigenstates()\n",
    "eigen[1].size\n",
    "\n",
    "# find U\n",
    "U_array = np.column_stack( [eigen[1][i] for i in range(eigen[1].size)])\n",
    "U = Qobj(U_array)\n",
    "U.dims = H0.dims\n",
    "\n",
    "# digonalize H0\n",
    "H0_D = U.conj().trans() * H0 * U\n",
    "sympy.Matrix(H0_D)\n",
    "\n",
    "# get new Hd and HR\n",
    "wd = (eigen[0][5]-eigen[0][2]+eigen[0][1])/2\n",
    "Hd = lambda t:hamiltonian_eff_Hd(wd, Omega_X, Omega_Y, t, N)\n",
    "Hd_D = lambda t: U.conj().trans() * Hd(t) * U\n",
    "\n",
    "# To rotating frame\n",
    "HA = wd*(tensor(b1.dag()*b1, qeye(N)) + tensor(qeye(N), b2.dag()*b2))\n",
    "R = lambda t: (-1j*HA*t).expm()\n",
    "HR = lambda t: R(t).dag() * (H0_D + Hd_D(t)) * R(t) - HA"
   ]
  },
  {
   "cell_type": "code",
   "execution_count": 194,
   "metadata": {},
   "outputs": [
    {
     "data": {
      "text/plain": [
       "31.418074040177185"
      ]
     },
     "execution_count": 194,
     "metadata": {},
     "output_type": "execute_result"
    }
   ],
   "source": [
    "(eigen[0][5]-eigen[0][2]+eigen[0][1])/2\n",
    "# eigen[0]"
   ]
  },
  {
   "cell_type": "code",
   "execution_count": 195,
   "metadata": {},
   "outputs": [],
   "source": [
    "# average over 10 period\n",
    "t_list = np.linspace(0, 2, 401)  # in ns\n",
    "HR_list = [HR(t) for t in t_list]\n",
    "H_R = functools.reduce(operator.add,HR_list) / len(HR_list)"
   ]
  },
  {
   "cell_type": "code",
   "execution_count": 196,
   "metadata": {},
   "outputs": [
    {
     "data": {
      "text/latex": [
       "Quantum object: dims = [[3, 3], [3, 3]], shape = (9, 9), type = oper, isherm = True\\begin{equation*}\\left(\\begin{array}{*{11}c}0.0 & (-3.138+3.122j) & (-0.322+0.001j) & 0.0 & 0.0 & 0.0 & 0.0 & 0.0 & 0.0\\\\(-3.138-3.122j) & -0.005 & 0.0 & 0.008 & (10.254-10.202j) & (0.319-0.001j) & 0.0 & 0.0 & 0.0\\\\(-0.322-0.001j) & 0.0 & -30.160 & (1.277\\times10^{-04}+1.271\\times10^{-04}j) & 0.452 & (-11.381+11.322j) & 0.0 & 0.0 & 0.0\\\\0.0 & 0.008 & (1.277\\times10^{-04}-1.271\\times10^{-04}j) & 29.212 & 0.0 & 0.0 & (62.892-62.571j) & (-0.020+9.092\\times10^{-05}j) & 0.0\\\\0.0 & (10.254+10.202j) & 0.452 & 0.0 & 0.302 & 0.0 & 0.003 & (8.243-8.201j) & 0.0\\\\0.0 & (0.319+0.001j) & (-11.381-11.322j) & 0.0 & 0.0 & -30.155 & (7.138+7.102j) & 0.453 & 0.0\\\\0.0 & 0.0 & 0.0 & (62.892+62.571j) & 0.003 & (7.138-7.102j) & 30.457 & 0.0 & (-0.454+0.002j)\\\\0.0 & 0.0 & 0.0 & (-0.020-9.092\\times10^{-05}j) & (8.243+8.201j) & 0.453 & 0.0 & 0.320 & (8.778-8.733j)\\\\0.0 & 0.0 & 0.0 & 0.0 & 0.0 & 0.0 & (-0.454-0.002j) & (8.778+8.733j) & -1.894\\\\\\end{array}\\right)\\end{equation*}"
      ],
      "text/plain": [
       "Quantum object: dims = [[3, 3], [3, 3]], shape = (9, 9), type = oper, isherm = True\n",
       "Qobj data =\n",
       "[[ 0.00000000e+00+0.00000000e+00j -3.13793833e+00+3.12190493e+00j\n",
       "  -3.22138515e-01+1.45703351e-03j  0.00000000e+00+0.00000000e+00j\n",
       "   0.00000000e+00+0.00000000e+00j  0.00000000e+00+0.00000000e+00j\n",
       "   0.00000000e+00+0.00000000e+00j  0.00000000e+00+0.00000000e+00j\n",
       "   0.00000000e+00+0.00000000e+00j]\n",
       " [-3.13793833e+00-3.12190493e+00j -5.28128198e-03+0.00000000e+00j\n",
       "   0.00000000e+00+0.00000000e+00j  8.30506439e-03+0.00000000e+00j\n",
       "   1.02539063e+01-1.02015137e+01j  3.18534313e-01-1.44073170e-03j\n",
       "   0.00000000e+00+0.00000000e+00j  0.00000000e+00+0.00000000e+00j\n",
       "   0.00000000e+00+0.00000000e+00j]\n",
       " [-3.22138515e-01-1.45703351e-03j  0.00000000e+00+0.00000000e+00j\n",
       "  -3.01604507e+01+0.00000000e+00j  1.27716875e-04+1.27064301e-04j\n",
       "   4.52224368e-01+0.00000000e+00j -1.13805883e+01+1.13224388e+01j\n",
       "   0.00000000e+00+0.00000000e+00j  0.00000000e+00+0.00000000e+00j\n",
       "   0.00000000e+00+0.00000000e+00j]\n",
       " [ 0.00000000e+00+0.00000000e+00j  8.30506439e-03+0.00000000e+00j\n",
       "   1.27716875e-04-1.27064301e-04j  2.92123788e+01+0.00000000e+00j\n",
       "   0.00000000e+00+0.00000000e+00j  0.00000000e+00+0.00000000e+00j\n",
       "   6.28918589e+01-6.25705108e+01j -2.01010713e-02+9.09172086e-05j\n",
       "   0.00000000e+00+0.00000000e+00j]\n",
       " [ 0.00000000e+00+0.00000000e+00j  1.02539063e+01+1.02015137e+01j\n",
       "   4.52224368e-01+0.00000000e+00j  0.00000000e+00+0.00000000e+00j\n",
       "   3.01587052e-01+0.00000000e+00j  0.00000000e+00+0.00000000e+00j\n",
       "   3.11353638e-03+0.00000000e+00j  8.24289105e+00-8.20077371e+00j\n",
       "   0.00000000e+00+0.00000000e+00j]\n",
       " [ 0.00000000e+00+0.00000000e+00j  3.18534313e-01+1.44073170e-03j\n",
       "  -1.13805883e+01-1.13224388e+01j  0.00000000e+00+0.00000000e+00j\n",
       "   0.00000000e+00+0.00000000e+00j -3.01551694e+01+0.00000000e+00j\n",
       "   7.13809655e+00+7.10162420e+00j  4.52730924e-01+0.00000000e+00j\n",
       "   0.00000000e+00+0.00000000e+00j]\n",
       " [ 0.00000000e+00+0.00000000e+00j  0.00000000e+00+0.00000000e+00j\n",
       "   0.00000000e+00+0.00000000e+00j  6.28918589e+01+6.25705108e+01j\n",
       "   3.11353638e-03+0.00000000e+00j  7.13809655e+00-7.10162420e+00j\n",
       "   3.04567106e+01+0.00000000e+00j  0.00000000e+00+0.00000000e+00j\n",
       "  -4.53919061e-01+2.05307734e-03j]\n",
       " [ 0.00000000e+00+0.00000000e+00j  0.00000000e+00+0.00000000e+00j\n",
       "   0.00000000e+00+0.00000000e+00j -2.01010713e-02-9.09172086e-05j\n",
       "   8.24289105e+00+8.20077371e+00j  4.52730924e-01+0.00000000e+00j\n",
       "   0.00000000e+00+0.00000000e+00j  3.20159912e-01+0.00000000e+00j\n",
       "   8.77834498e+00-8.73349173e+00j]\n",
       " [ 0.00000000e+00+0.00000000e+00j  0.00000000e+00+0.00000000e+00j\n",
       "   0.00000000e+00+0.00000000e+00j  0.00000000e+00+0.00000000e+00j\n",
       "   0.00000000e+00+0.00000000e+00j  0.00000000e+00+0.00000000e+00j\n",
       "  -4.53919061e-01-2.05307734e-03j  8.77834498e+00+8.73349173e+00j\n",
       "  -1.89354561e+00+0.00000000e+00j]]"
      ]
     },
     "execution_count": 196,
     "metadata": {},
     "output_type": "execute_result"
    }
   ],
   "source": [
    "HR_list[0]+HR_list[1]\n",
    "H_R"
   ]
  },
  {
   "cell_type": "code",
   "execution_count": 197,
   "metadata": {},
   "outputs": [],
   "source": [
    "avg_list = []\n",
    "for N in range(2,401):\n",
    "    temp = (functools.reduce(operator.add,[HR_list[i] for i in range(N)]) / N)\n",
    "    temp = np.real(temp[0,1])\n",
    "    avg_list.append(temp)\n",
    "    "
   ]
  },
  {
   "cell_type": "code",
   "execution_count": 93,
   "metadata": {},
   "outputs": [],
   "source": [
    "# plt.plot(avg_list)\n",
    "f=np.fft.fft(avg_list)\n",
    "plt.plot(np.absolute(f))\n",
    "plt.yscale('log')"
   ]
  },
  {
   "cell_type": "code",
   "execution_count": 198,
   "metadata": {
    "scrolled": false
   },
   "outputs": [
    {
     "data": {
      "text/latex": [
       "Quantum object: dims = [[3, 3], [3, 3]], shape = (9, 9), type = oper, isherm = True\\begin{equation*}\\left(\\begin{array}{*{11}c}-50.309 & (-0.844+7.758j) & 0.0 & 0.0 & 0.0 & 0.0 & 0.0 & 0.0 & 0.0\\\\(-0.844-7.758j) & -55.510 & 0.0 & 0.0 & 0.0 & 0.0 & 0.0 & 0.0 & 0.0\\\\0.0 & 0.0 & -13.835 & (0.766+0.361j) & 0.0 & 0.0 & 0.0 & 0.0 & 0.0\\\\0.0 & 0.0 & (0.766-0.361j) & -20.653 & 0.0 & 0.0 & 0.0 & 0.0 & 0.0\\\\0.0 & 0.0 & 0.0 & 0.0 & 15.678 & (-2.113-3.644j) & (-0.029+0.219j) & (2.218-2.124j) & (0.024-5.656j)\\\\0.0 & 0.0 & 0.0 & 0.0 & (-2.113+3.644j) & 1.776 & (5.493+5.466j) & (-0.468-1.929j) & (1.308+0.677j)\\\\0.0 & 0.0 & 0.0 & 0.0 & (-0.029-0.219j) & (5.493-5.466j) & 118.386 & (-0.250-0.113j) & (0.159-0.038j)\\\\0.0 & 0.0 & 0.0 & 0.0 & (2.218+2.124j) & (-0.468+1.929j) & (-0.250+0.113j) & 3.180 & (7.422-7.413j)\\\\0.0 & 0.0 & 0.0 & 0.0 & (0.024+5.656j) & (1.308-0.677j) & (0.159+0.038j) & (7.422+7.413j) & -0.637\\\\\\end{array}\\right)\\end{equation*}"
      ],
      "text/plain": [
       "Quantum object: dims = [[3, 3], [3, 3]], shape = (9, 9), type = oper, isherm = True\n",
       "Qobj data =\n",
       "[[-5.03086658e+01+0.j         -8.44459791e-01+7.75840776j\n",
       "   0.00000000e+00+0.j          0.00000000e+00+0.j\n",
       "   0.00000000e+00+0.j          0.00000000e+00+0.j\n",
       "   0.00000000e+00+0.j          0.00000000e+00+0.j\n",
       "   0.00000000e+00+0.j        ]\n",
       " [-8.44459791e-01-7.75840776j -5.55097174e+01+0.j\n",
       "   0.00000000e+00+0.j          0.00000000e+00+0.j\n",
       "   0.00000000e+00+0.j          0.00000000e+00+0.j\n",
       "   0.00000000e+00+0.j          0.00000000e+00+0.j\n",
       "   0.00000000e+00+0.j        ]\n",
       " [ 0.00000000e+00+0.j          0.00000000e+00+0.j\n",
       "  -1.38350872e+01+0.j          7.66132116e-01+0.36148883j\n",
       "   0.00000000e+00+0.j          0.00000000e+00+0.j\n",
       "   0.00000000e+00+0.j          0.00000000e+00+0.j\n",
       "   0.00000000e+00+0.j        ]\n",
       " [ 0.00000000e+00+0.j          0.00000000e+00+0.j\n",
       "   7.66132116e-01-0.36148883j -2.06532810e+01+0.j\n",
       "   0.00000000e+00+0.j          0.00000000e+00+0.j\n",
       "   0.00000000e+00+0.j          0.00000000e+00+0.j\n",
       "   0.00000000e+00+0.j        ]\n",
       " [ 0.00000000e+00+0.j          0.00000000e+00+0.j\n",
       "   0.00000000e+00+0.j          0.00000000e+00+0.j\n",
       "   1.56780916e+01+0.j         -2.11293935e+00-3.643797j\n",
       "  -2.85932472e-02+0.21876933j  2.21795087e+00-2.12387153j\n",
       "   2.40746778e-02-5.65581693j]\n",
       " [ 0.00000000e+00+0.j          0.00000000e+00+0.j\n",
       "   0.00000000e+00+0.j          0.00000000e+00+0.j\n",
       "  -2.11293935e+00+3.643797j    1.77605736e+00+0.j\n",
       "   5.49325898e+00+5.46619366j -4.67689070e-01-1.92904183j\n",
       "   1.30817259e+00+0.67679242j]\n",
       " [ 0.00000000e+00+0.j          0.00000000e+00+0.j\n",
       "   0.00000000e+00+0.j          0.00000000e+00+0.j\n",
       "  -2.85932472e-02-0.21876933j  5.49325898e+00-5.46619366j\n",
       "   1.18385727e+02+0.j         -2.50258929e-01-0.11257261j\n",
       "   1.59370953e-01-0.03764472j]\n",
       " [ 0.00000000e+00+0.j          0.00000000e+00+0.j\n",
       "   0.00000000e+00+0.j          0.00000000e+00+0.j\n",
       "   2.21795087e+00+2.12387153j -4.67689070e-01+1.92904183j\n",
       "  -2.50258929e-01+0.11257261j  3.18023152e+00+0.j\n",
       "   7.42169842e+00-7.41254229j]\n",
       " [ 0.00000000e+00+0.j          0.00000000e+00+0.j\n",
       "   0.00000000e+00+0.j          0.00000000e+00+0.j\n",
       "   2.40746778e-02+5.65581693j  1.30817259e+00-0.67679242j\n",
       "   1.59370953e-01+0.03764472j  7.42169842e+00+7.41254229j\n",
       "  -6.36967088e-01+0.j        ]]"
      ]
     },
     "execution_count": 198,
     "metadata": {},
     "output_type": "execute_result"
    }
   ],
   "source": [
    "# least action\n",
    "eigen = H_R.eigenstates()\n",
    "\n",
    "# find X\n",
    "X_array = np.column_stack( [eigen[1][i] for i in range(eigen[1].size)])\n",
    "X = Qobj(X_array)\n",
    "\n",
    "# find X_BD and XP\n",
    "A, B, C = X[0:2,0:2], X[2:4, 2:4], X[4:10, 4:10]\n",
    "X_BD_array = block_diag(A,B,C)\n",
    "X_BD = Qobj(X_BD_array)\n",
    "# X_BD = X_BD.tidyup(atol=1e-3)\n",
    "XP = X_BD * X_BD.conj().trans()\n",
    "\n",
    "# find T\n",
    "T = X * X_BD.conj().trans() * XP.sqrtm().inv()\n",
    "\n",
    "# find H_R_BD\n",
    "T.dims = H_R.dims\n",
    "H_R_BD =  T.conj().trans() * H_R * T\n",
    "H_R_BD"
   ]
  },
  {
   "cell_type": "code",
   "execution_count": 199,
   "metadata": {},
   "outputs": [
    {
     "data": {
      "text/latex": [
       "Quantum object: dims = [[3, 3], [3, 3]], shape = (9, 9), type = oper, isherm = True\\begin{equation*}\\left(\\begin{array}{*{11}c}-50.309 & (-0.844+7.758j) & 0.0 & 0.0 & 0.0 & 0.0 & 0.0 & 0.0 & 0.0\\\\(-0.844-7.758j) & -55.510 & 0.0 & 0.0 & 0.0 & 0.0 & 0.0 & 0.0 & 0.0\\\\0.0 & 0.0 & -13.835 & (0.766+0.361j) & 0.0 & 0.0 & 0.0 & 0.0 & 0.0\\\\0.0 & 0.0 & (0.766-0.361j) & -20.653 & 0.0 & 0.0 & 0.0 & 0.0 & 0.0\\\\0.0 & 0.0 & 0.0 & 0.0 & 15.678 & (-2.113-3.644j) & (-0.029+0.219j) & (2.218-2.124j) & (0.024-5.656j)\\\\0.0 & 0.0 & 0.0 & 0.0 & (-2.113+3.644j) & 1.776 & (5.493+5.466j) & (-0.468-1.929j) & (1.308+0.677j)\\\\0.0 & 0.0 & 0.0 & 0.0 & (-0.029-0.219j) & (5.493-5.466j) & 118.386 & (-0.250-0.113j) & (0.159-0.038j)\\\\0.0 & 0.0 & 0.0 & 0.0 & (2.218+2.124j) & (-0.468+1.929j) & (-0.250+0.113j) & 3.180 & (7.422-7.413j)\\\\0.0 & 0.0 & 0.0 & 0.0 & (0.024+5.656j) & (1.308-0.677j) & (0.159+0.038j) & (7.422+7.413j) & -0.637\\\\\\end{array}\\right)\\end{equation*}"
      ],
      "text/plain": [
       "Quantum object: dims = [[3, 3], [3, 3]], shape = (9, 9), type = oper, isherm = True\n",
       "Qobj data =\n",
       "[[-5.03086658e+01+0.j         -8.44459791e-01+7.75840776j\n",
       "   0.00000000e+00+0.j          0.00000000e+00+0.j\n",
       "   0.00000000e+00+0.j          0.00000000e+00+0.j\n",
       "   0.00000000e+00+0.j          0.00000000e+00+0.j\n",
       "   0.00000000e+00+0.j        ]\n",
       " [-8.44459791e-01-7.75840776j -5.55097174e+01+0.j\n",
       "   0.00000000e+00+0.j          0.00000000e+00+0.j\n",
       "   0.00000000e+00+0.j          0.00000000e+00+0.j\n",
       "   0.00000000e+00+0.j          0.00000000e+00+0.j\n",
       "   0.00000000e+00+0.j        ]\n",
       " [ 0.00000000e+00+0.j          0.00000000e+00+0.j\n",
       "  -1.38350872e+01+0.j          7.66132116e-01+0.36148883j\n",
       "   0.00000000e+00+0.j          0.00000000e+00+0.j\n",
       "   0.00000000e+00+0.j          0.00000000e+00+0.j\n",
       "   0.00000000e+00+0.j        ]\n",
       " [ 0.00000000e+00+0.j          0.00000000e+00+0.j\n",
       "   7.66132116e-01-0.36148883j -2.06532810e+01+0.j\n",
       "   0.00000000e+00+0.j          0.00000000e+00+0.j\n",
       "   0.00000000e+00+0.j          0.00000000e+00+0.j\n",
       "   0.00000000e+00+0.j        ]\n",
       " [ 0.00000000e+00+0.j          0.00000000e+00+0.j\n",
       "   0.00000000e+00+0.j          0.00000000e+00+0.j\n",
       "   1.56780916e+01+0.j         -2.11293935e+00-3.643797j\n",
       "  -2.85932472e-02+0.21876933j  2.21795087e+00-2.12387153j\n",
       "   2.40746778e-02-5.65581693j]\n",
       " [ 0.00000000e+00+0.j          0.00000000e+00+0.j\n",
       "   0.00000000e+00+0.j          0.00000000e+00+0.j\n",
       "  -2.11293935e+00+3.643797j    1.77605736e+00+0.j\n",
       "   5.49325898e+00+5.46619366j -4.67689070e-01-1.92904183j\n",
       "   1.30817259e+00+0.67679242j]\n",
       " [ 0.00000000e+00+0.j          0.00000000e+00+0.j\n",
       "   0.00000000e+00+0.j          0.00000000e+00+0.j\n",
       "  -2.85932472e-02-0.21876933j  5.49325898e+00-5.46619366j\n",
       "   1.18385727e+02+0.j         -2.50258929e-01-0.11257261j\n",
       "   1.59370953e-01-0.03764472j]\n",
       " [ 0.00000000e+00+0.j          0.00000000e+00+0.j\n",
       "   0.00000000e+00+0.j          0.00000000e+00+0.j\n",
       "   2.21795087e+00+2.12387153j -4.67689070e-01+1.92904183j\n",
       "  -2.50258929e-01+0.11257261j  3.18023152e+00+0.j\n",
       "   7.42169842e+00-7.41254229j]\n",
       " [ 0.00000000e+00+0.j          0.00000000e+00+0.j\n",
       "   0.00000000e+00+0.j          0.00000000e+00+0.j\n",
       "   2.40746778e-02+5.65581693j  1.30817259e+00-0.67679242j\n",
       "   1.59370953e-01+0.03764472j  7.42169842e+00+7.41254229j\n",
       "  -6.36967088e-01+0.j        ]]"
      ]
     },
     "execution_count": 199,
     "metadata": {},
     "output_type": "execute_result"
    }
   ],
   "source": [
    "H_R_BD.tidyup(atol=1.5e-4)\n"
   ]
  },
  {
   "cell_type": "code",
   "execution_count": 200,
   "metadata": {},
   "outputs": [],
   "source": [
    "def from16to8(M):\n",
    "    return np.array([M[0,0],M[1,0],M[0,1],M[1,1],M[2,2],M[3,2],M[2,3],M[3,3]]).reshape(8,1)\n",
    "\n",
    "# Get Pauli coeff.\n",
    "II = tensor(qeye(2), qeye(2))\n",
    "IX = tensor(qeye(2), sigmax())\n",
    "IY = tensor(qeye(2), sigmay())\n",
    "IZ = tensor(qeye(2), sigmaz())\n",
    "ZI = tensor(sigmaz(), qeye(2))\n",
    "ZY = tensor(sigmaz(), sigmay())\n",
    "ZX = tensor(sigmaz(), sigmax())\n",
    "ZZ = tensor(sigmaz(), sigmaz())\n",
    "\n",
    "a = np.column_stack([from16to8(II),from16to8(IX),from16to8(IY),from16to8(IZ)\n",
    "                    ,from16to8(ZI),from16to8(ZX),from16to8(ZY),from16to8(ZZ)])\n",
    "\n",
    "b = from16to8(H_R_BD[0:4, 0:4])\n",
    "\n",
    "c = np.linalg.solve(a, b)"
   ]
  },
  {
   "cell_type": "code",
   "execution_count": 201,
   "metadata": {
    "scrolled": true
   },
   "outputs": [
    {
     "data": {
      "text/latex": [
       "$\\displaystyle \\left[\\begin{matrix}-35.0766878283766\\\\-0.0391638374208262\\\\-4.0599482951568 - 8.32667268468867 \\cdot 10^{-16} i\\\\3.00481132566825\\\\-17.8325037409416\\\\-0.805295953814262 + 8.88178419700125 \\cdot 10^{-16} i\\\\-3.69845946305381 - 1.16573417585641 \\cdot 10^{-15} i\\\\-0.404285539610635\\end{matrix}\\right]$"
      ],
      "text/plain": [
       "Matrix([\n",
       "[                          -35.0766878283766],\n",
       "[                        -0.0391638374208262],\n",
       "[  -4.0599482951568 - 8.32667268468867e-16*I],\n",
       "[                           3.00481132566825],\n",
       "[                          -17.8325037409416],\n",
       "[-0.805295953814262 + 8.88178419700125e-16*I],\n",
       "[ -3.69845946305381 - 1.16573417585641e-15*I],\n",
       "[                         -0.404285539610635]])"
      ]
     },
     "execution_count": 201,
     "metadata": {},
     "output_type": "execute_result"
    }
   ],
   "source": [
    "sympy.Matrix(a)\n",
    "sympy.Matrix(c)"
   ]
  },
  {
   "cell_type": "code",
   "execution_count": 202,
   "metadata": {},
   "outputs": [
    {
     "data": {
      "text/plain": [
       "matrix([[0.+0.j],\n",
       "        [1.+0.j],\n",
       "        [0.+0.j],\n",
       "        [0.+0.j],\n",
       "        [1.+0.j],\n",
       "        [0.+0.j],\n",
       "        [0.+0.j],\n",
       "        [0.+0.j],\n",
       "        [0.+0.j],\n",
       "        [0.+0.j],\n",
       "        [0.+0.j],\n",
       "        [1.+0.j],\n",
       "        [0.+0.j],\n",
       "        [0.+0.j],\n",
       "        [1.+0.j],\n",
       "        [0.+0.j]])"
      ]
     },
     "execution_count": 202,
     "metadata": {},
     "output_type": "execute_result"
    }
   ],
   "source": [
    "test=Qobj(IX.data.reshape(16,1))\n",
    "IX.data.reshape(16,1).todense()"
   ]
  },
  {
   "cell_type": "code",
   "execution_count": 184,
   "metadata": {},
   "outputs": [
    {
     "data": {
      "text/latex": [
       "Quantum object: dims = [[3, 3], [3, 3]], shape = (9, 9), type = oper, isherm = True\\begin{equation*}\\left(\\begin{array}{*{11}c}0.0 & 0.0 & 0.0 & 0.0 & 0.0 & 0.0 & 0.0 & 0.0 & 0.0\\\\0.0 & 1.0 & 0.0 & 0.0 & 0.0 & 0.0 & 0.0 & 0.0 & 0.0\\\\0.0 & 0.0 & 2.0 & 0.0 & 0.0 & 0.0 & 0.0 & 0.0 & 0.0\\\\0.0 & 0.0 & 0.0 & 1.0 & 0.0 & 0.0 & 0.0 & 0.0 & 0.0\\\\0.0 & 0.0 & 0.0 & 0.0 & 2.0 & 0.0 & 0.0 & 0.0 & 0.0\\\\0.0 & 0.0 & 0.0 & 0.0 & 0.0 & 3.0 & 0.0 & 0.0 & 0.0\\\\0.0 & 0.0 & 0.0 & 0.0 & 0.0 & 0.0 & 2.0 & 0.0 & 0.0\\\\0.0 & 0.0 & 0.0 & 0.0 & 0.0 & 0.0 & 0.0 & 3.0 & 0.0\\\\0.0 & 0.0 & 0.0 & 0.0 & 0.0 & 0.0 & 0.0 & 0.0 & 4.0\\\\\\end{array}\\right)\\end{equation*}"
      ],
      "text/plain": [
       "Quantum object: dims = [[3, 3], [3, 3]], shape = (9, 9), type = oper, isherm = True\n",
       "Qobj data =\n",
       "[[0. 0. 0. 0. 0. 0. 0. 0. 0.]\n",
       " [0. 1. 0. 0. 0. 0. 0. 0. 0.]\n",
       " [0. 0. 2. 0. 0. 0. 0. 0. 0.]\n",
       " [0. 0. 0. 1. 0. 0. 0. 0. 0.]\n",
       " [0. 0. 0. 0. 2. 0. 0. 0. 0.]\n",
       " [0. 0. 0. 0. 0. 3. 0. 0. 0.]\n",
       " [0. 0. 0. 0. 0. 0. 2. 0. 0.]\n",
       " [0. 0. 0. 0. 0. 0. 0. 3. 0.]\n",
       " [0. 0. 0. 0. 0. 0. 0. 0. 4.]]"
      ]
     },
     "execution_count": 184,
     "metadata": {},
     "output_type": "execute_result"
    }
   ],
   "source": [
    "N =3\n",
    "\n",
    "b1 = destroy(N)\n",
    "b2 = destroy(N)\n",
    "(tensor(b1.dag()*b1, qeye(N)) + tensor(qeye(N), b2.dag()*b2))"
   ]
  },
  {
   "cell_type": "markdown",
   "metadata": {},
   "source": [
    "# Effective g calculation"
   ]
  },
  {
   "cell_type": "code",
   "execution_count": 48,
   "metadata": {},
   "outputs": [
    {
     "name": "stdout",
     "output_type": "stream",
     "text": [
      "Using matplotlib backend: TkAgg\n"
     ]
    }
   ],
   "source": [
    "%matplotlib \n",
    "import matplotlib.pyplot as plt\n",
    "import numpy as np"
   ]
  },
  {
   "cell_type": "code",
   "execution_count": 49,
   "metadata": {
    "code_folding": []
   },
   "outputs": [],
   "source": [
    "# import numpy as np\n",
    "\n",
    "def compute_g_eff(wc, w1, w2, C1, C2, C12, C1c, C2c, Cc):\n",
    "    \"\"\"\n",
    "    w in GHz and C in fF\n",
    "    \"\"\"\n",
    "    eta = C1c*C2c/C12/Cc\n",
    "    Sigma = 2 / (1/(w1+wc) + 1/(w2+wc))\n",
    "    Delta = 2/(1/(w1-wc) + 1/(w2-wc))\n",
    "\n",
    "    g = 1/2*(wc*eta/2/Delta - wc*eta/2/Sigma + eta + 1)* C12/np.sqrt(C1*C2)*np.sqrt(w1*w2)\n",
    "    \n",
    "    return g\n",
    "\n",
    "def compute_g1(wc,w1,C1,C1c,Cc):\n",
    "    \"\"\"\n",
    "    Qubit-coupler coupling strengh in GHz.\n",
    "    C in fF\n",
    "    \"\"\"\n",
    "    g1 = 1/2*C1c/np.sqrt(C1*Cc)*np.sqrt(w1*wc)\n",
    "    \n",
    "    return g1\n",
    "\n",
    "def compute_g2(wc,w2,C2,C2c,Cc):\n",
    "    \"\"\"\n",
    "    Qubit-coupler coupling strengh in GHz.\n",
    "    C in fF\n",
    "    \"\"\"\n",
    "    g2 = 1/2*C2c/np.sqrt(C2*Cc)*np.sqrt(w2*wc)\n",
    "    \n",
    "    return g2\n",
    "\n",
    "def compute_g12(w1,w2,C1,C2,C12,C1c,C2c,Cc):\n",
    "    \"\"\"\n",
    "    Qubit-qubit coupling strengh in GHz.\n",
    "    C in fF\n",
    "    \"\"\"\n",
    "    eta = C1c*C2c/C12/Cc\n",
    "    g12 = 1/2*(1 + eta)*C12/np.sqrt(C1*C2)*np.sqrt(w1*w2)\n",
    "    \n",
    "    return g12\n"
   ]
  },
  {
   "cell_type": "markdown",
   "metadata": {},
   "source": [
    "## (g_eff, g1, g12) vs coupler freq."
   ]
  },
  {
   "cell_type": "code",
   "execution_count": 46,
   "metadata": {},
   "outputs": [
    {
     "name": "stdout",
     "output_type": "stream",
     "text": [
      "g12 = 7.706 MHz\n"
     ]
    }
   ],
   "source": [
    "# parameters from Yan's paper\n",
    "# w1, w2 = 4, 4 # in GHz\n",
    "# (C1, C2, C12, C1c, C2c, Cc) = (70,72,0.1,4,4.2,200)\n",
    "\n",
    "# parameters for IBM qubit\n",
    "w1, w2 = 5, 5 # in GHz\n",
    "(C1, C2, C12, C1c, C2c, Cc) = (60,62,0.1,2,2.2,50)\n",
    "# (C1, C2, C12, C1c, C2c, Cc) = (60,60,0.10,10,14,100)\n",
    "\n",
    "wc_list = np.linspace(5.5, 8, 101)\n",
    "geff = compute_g_eff(wc_list,w1,w2,C1, C2,C12,C1c,C2c,Cc)\n",
    "g1 = compute_g1(wc_list,w1,C1,C1c,Cc)\n",
    "g12 = compute_g12(w1,w2,C1,C2,C12,C1c,C2c,Cc)\n",
    "\n",
    "fig,(ax,ax1) = plt.subplots(2,1, figsize=(10,8))\n",
    "ax.plot(wc_list, geff*1e3)\n",
    "ax.set_ylabel(r'$g_{eff}$ (MHz)', fontsize=18)\n",
    "ax.tick_params(axis='x', labelsize=18)\n",
    "ax.tick_params(axis='y', labelsize=18)\n",
    "ax.grid('on')\n",
    "\n",
    "ax1.plot(wc_list, g1*1e3)\n",
    "ax1.set_xlabel('Coupler Frequency (GHz)', fontsize=18)\n",
    "ax1.set_ylabel(r'$g_{12}$ (MHz)', fontsize=18)\n",
    "ax1.tick_params(axis='x', labelsize=18)\n",
    "ax1.tick_params(axis='y', labelsize=18)\n",
    "ax1.grid('on')\n",
    "\n",
    "print(f'g12 = {compute_g12(w1,w2,C1,C2,C12,C1c,C2c,Cc)*1e3:.3f} MHz')"
   ]
  },
  {
   "cell_type": "markdown",
   "metadata": {},
   "source": [
    "# Transmon with a Duffing model"
   ]
  },
  {
   "cell_type": "code",
   "execution_count": 53,
   "metadata": {},
   "outputs": [],
   "source": [
    "%matplotlib inline\n",
    "import matplotlib.pyplot as plt\n",
    "import numpy as np\n",
    "from qutip import *\n",
    "import sympy"
   ]
  },
  {
   "cell_type": "code",
   "execution_count": 54,
   "metadata": {
    "scrolled": true
   },
   "outputs": [],
   "source": [
    "# parameters for IBM qubit\n",
    "w1 = 5 # in GHz\n",
    "alpha1 = -0.35 # in GHz\n",
    "\n",
    "N = 3\n",
    "b1 = destroy(N)\n",
    "\n",
    "H = w1*b1.dag()*b1 + alpha1/2.0*b1.dag()*b1.dag()*(b1*b1-qeye(N))"
   ]
  },
  {
   "cell_type": "code",
   "execution_count": 55,
   "metadata": {},
   "outputs": [
    {
     "data": {
      "text/latex": [
       "$\\displaystyle \\left[\\begin{matrix}0 & 0 & 0\\\\0 & 5.0 & 0\\\\0.25 & 0 & 9.65\\end{matrix}\\right]$"
      ],
      "text/plain": [
       "Matrix([\n",
       "[   0,   0,    0],\n",
       "[   0, 5.0,    0],\n",
       "[0.25,   0, 9.65]])"
      ]
     },
     "execution_count": 55,
     "metadata": {},
     "output_type": "execute_result"
    }
   ],
   "source": [
    "# show H in matrix form\n",
    "sympy.SparseMatrix(np.round((H)[:, 0:13],2))"
   ]
  },
  {
   "cell_type": "code",
   "execution_count": 56,
   "metadata": {
    "scrolled": false
   },
   "outputs": [
    {
     "name": "stderr",
     "output_type": "stream",
     "text": [
      "/usr/lib/python3/dist-packages/numpy/core/_asarray.py:85: ComplexWarning: Casting complex values to real discards the imaginary part\n",
      "  return array(a, dtype, copy=False, order=order)\n"
     ]
    },
    {
     "data": {
      "image/png": "[encoded data removed]",
      "text/plain": [
       "<Figure size 432x288 with 1 Axes>"
      ]
     },
     "metadata": {
      "needs_background": "light"
     },
     "output_type": "display_data"
    }
   ],
   "source": [
    "eigen = H.eigenstates()\n",
    "\n",
    "# for i in range(eigen[1].size):\n",
    "#     plt.plot(eigen[1][i],'o-') \n",
    "plt.plot(eigen[1][1],'o-') \n",
    "plt.grid()\n"
   ]
  },
  {
   "cell_type": "code",
   "execution_count": 57,
   "metadata": {},
   "outputs": [
    {
     "name": "stderr",
     "output_type": "stream",
     "text": [
      "/usr/lib/python3/dist-packages/numpy/core/_asarray.py:85: ComplexWarning: Casting complex values to real discards the imaginary part\n",
      "  return array(a, dtype, copy=False, order=order)\n"
     ]
    },
    {
     "data": {
      "text/plain": [
       "(<Figure size 576x864 with 1 Axes>,\n",
       " <matplotlib.axes._subplots.AxesSubplot at 0x7ffb04cc3970>)"
      ]
     },
     "execution_count": 57,
     "metadata": {},
     "output_type": "execute_result"
    },
    {
     "name": "stderr",
     "output_type": "stream",
     "text": [
      "/usr/lib/python3/dist-packages/matplotlib/ticker.py:785: ComplexWarning: Casting complex values to real discards the imaginary part\n",
      "  loc_range_oom = int(math.floor(math.log10(loc_range)))\n",
      "/usr/lib/python3/dist-packages/matplotlib/ticker.py:590: ComplexWarning: Casting complex values to real discards the imaginary part\n",
      "  s = self.format % xp\n",
      "/usr/lib/python3/dist-packages/matplotlib/text.py:814: ComplexWarning: Casting complex values to real discards the imaginary part\n",
      "  y = float(self.convert_yunits(self._y))\n",
      "/usr/lib/python3/dist-packages/matplotlib/text.py:676: ComplexWarning: Casting complex values to real discards the imaginary part\n",
      "  posy = float(textobj.convert_yunits(textobj._y))\n"
     ]
    },
    {
     "data": {
      "image/png": "[encoded data removed]",
      "text/plain": [
       "<Figure size 576x864 with 1 Axes>"
      ]
     },
     "metadata": {
      "needs_background": "light"
     },
     "output_type": "display_data"
    }
   ],
   "source": [
    "plot_energy_levels([H], show_ylabels=True)"
   ]
  },
  {
   "cell_type": "code",
   "execution_count": null,
   "metadata": {},
   "outputs": [],
   "source": []
  },
  {
   "cell_type": "markdown",
   "metadata": {},
   "source": [
    "# ZZ by effective two-qubit Hamiltonian\n",
    "Ref: Yan et al., PRApplied 2018"
   ]
  },
  {
   "cell_type": "code",
   "execution_count": 58,
   "metadata": {},
   "outputs": [
    {
     "name": "stdout",
     "output_type": "stream",
     "text": [
      "Using matplotlib backend: TkAgg\n"
     ]
    }
   ],
   "source": [
    "%matplotlib \n",
    "import matplotlib.pyplot as plt\n",
    "import numpy as np\n",
    "from math import pi\n",
    "from qutip import *\n",
    "import sympy"
   ]
  },
  {
   "cell_type": "code",
   "execution_count": 59,
   "metadata": {
    "code_folding": []
   },
   "outputs": [],
   "source": [
    "def hamiltonian_eff_two_qubit(w1,w2,wc,C1,C2,C12,C1c,C2c,Cc,alpha1,alpha2,N):\n",
    "    \"\"\"\n",
    "    Effective Two-qubit Hamiltonian, coupler decoupled.\n",
    "    \"\"\"\n",
    "    b1 = destroy(N)\n",
    "    b2 = destroy(N)\n",
    "\n",
    "    w1_dr = w1 + compute_g1(wc,w1,C1,C1c,Cc)**2 * (1/(w1-wc)-1/(w1+wc))\n",
    "    w2_dr = w2 + compute_g2(wc,w2,C1,C1c,Cc)**2 * (1/(w2-wc)-1/(w2+wc))\n",
    "    geff = compute_g_eff(wc, w1, w2, C1, C2, C12, C1c, C2c, Cc)\n",
    "\n",
    "    # Eq. B2\n",
    "    H_eff = ( w1_dr*tensor(b1.dag()*b1,qeye(N)) + alpha1/2.0*tensor(b1.dag()*b1.dag()*b1*b1, qeye(N))\n",
    "        + w2_dr*tensor(qeye(N),b2.dag()*b2) + alpha2/2.0*tensor(qeye(N), b2.dag()*b2.dag()*b2*b2)\n",
    "        + geff * (tensor(b1.dag(),b2) + tensor(b1, b2.dag())))\n",
    "\n",
    "    return H_eff"
   ]
  },
  {
   "cell_type": "code",
   "execution_count": 64,
   "metadata": {
    "scrolled": true
   },
   "outputs": [
    {
     "name": "stdout",
     "output_type": "stream",
     "text": [
      "g1=92.6 MHz\n",
      "g12=6.608 MHz\n",
      "geff=-4.389 MHz\n",
      "ZZ = 0.32 (MHz)\n"
     ]
    }
   ],
   "source": [
    "# parameters for IBM qubit\n",
    "w1, w2 = 5, 5.2 # in GHz\n",
    "wc = 6\n",
    "(C1, C2, C12, C1c, C2c, Cc) = (70,72,0.1,4,4.2,200)\n",
    "\n",
    "alpha1 = -0.35 # in GHz\n",
    "alpha2 = -0.35\n",
    "\n",
    "N = 3\n",
    "\n",
    "# compute Hamiltonian\n",
    "H_eff1 = hamiltonian_eff_two_qubit(w1,w2,wc,C1,C2,C12,C1c,C2c,Cc,alpha1,alpha2,N)\n",
    "eigen1 = H_eff1.eigenstates()\n",
    "\n",
    "sympy.SparseMatrix(np.round((H_eff1)[:, 0:13],2))\n",
    "print(f'g1={compute_g1(wc,w1,C1,C1c,Cc)*1e3:.1f} MHz')\n",
    "print(f'g12={compute_g12(w1,w2,C1,C2,C12,C1c,C2c,Cc)*1e3:.3f} MHz')\n",
    "print(f'geff={compute_g_eff(wc,w1,w2,C1,C2,C12,C1c,C2c,Cc)*1e3:.3f} MHz')\n",
    "\n",
    "# Compute eigenvalues and find $\\zeta = \\omega_{11}-\\omega_{01}-\\omega_{10}$\n",
    "ZZ = eigen1[0][5] - eigen1[0][1] - eigen1[0][2]  # in GHz\n",
    "print(f'ZZ = {ZZ*1e3:.2f} (MHz)')"
   ]
  },
  {
   "cell_type": "code",
   "execution_count": 65,
   "metadata": {
    "code_folding": [],
    "scrolled": true
   },
   "outputs": [
    {
     "data": {
      "text/plain": [
       "array([[ 0.        +0.j],\n",
       "       [ 0.        +0.j],\n",
       "       [-0.04055287+0.j],\n",
       "       [ 0.        +0.j],\n",
       "       [ 0.99911326+0.j],\n",
       "       [ 0.        +0.j],\n",
       "       [-0.0113211 +0.j],\n",
       "       [ 0.        +0.j],\n",
       "       [ 0.        +0.j]])"
      ]
     },
     "execution_count": 65,
     "metadata": {},
     "output_type": "execute_result"
    }
   ],
   "source": [
    "# compute eigenvalues and eigenstates.\n",
    "eigen1 = H_eff1.eigenstates()  # eigen is a tuble with two elements. eigen[0] = eigenvalues, eigen[1]=eigenstates.\n",
    "eigen1[1][5].full()"
   ]
  },
  {
   "cell_type": "markdown",
   "metadata": {},
   "source": [
    "## (ZZ, g_eff) vs Coupler Frequency"
   ]
  },
  {
   "cell_type": "code",
   "execution_count": 66,
   "metadata": {},
   "outputs": [],
   "source": [
    "# Note: This diagonal effective Hamiltonian doesn't seem to give right ZZ. This is\n",
    "# probabaly because a perturbative approach,i.e.,SW transformation, is not enough.\n",
    "# So, the only full Hamiltonian with g coupling terms would work to give right ZZ.\n",
    "# However, for driven ZZ calculation, it may be ok to use the digonal effective \n",
    "# two-quibt Hamiltonian. I want to know the sign and magnitude of \n",
    "# driven ZZ vs CR ampliutude. \n",
    "# If I can do this with two-transmon + bus cavity case, then I could do the same thing \n",
    "# tunable coupler case since the effective two-qubit Hamiltonian for coupler case has\n",
    "# the same form as bus cavity case. The only difference is J vs g_eff. If I assume, \n",
    "# ZZ goes roughly by J**2, then driven ZZ would just increase...?\n",
    "\n",
    "# parameters for IBM qubit\n",
    "w1, w2 = 5, 5.2 # in GHz\n",
    "wc = 5.5\n",
    "(C1, C2, C12, C1c, C2c, Cc) = (60,60,0.1,2,2, 50)\n",
    "alpha1 = -0.35 # in GHz\n",
    "alpha2 = -0.35\n",
    "\n",
    "# w1, w2 = 4.961, 4.926 # in GHz\n",
    "# wc = 5.5\n",
    "# (C1, C2, C12, C1c, C2c, Cc) = (70,72,0.13,2.4,2.4,100)\n",
    "# alpha1 = -0.206 # in GHz\n",
    "# alpha2 = -0.202\n",
    "\n",
    "N = 3\n",
    "\n",
    "# sweep\n",
    "wc_list = np.linspace(5.5,7.5,31)\n",
    "ZZ_list, g_eff_list, g1_list, g2_list, g12_list = [], [], [], [], []\n",
    "ev_list = []\n",
    "\n",
    "for wc in wc_list:\n",
    "    H_eff = hamiltonian_eff_two_qubit(w1,w2,wc,C1,C2,C12,C1c,C2c,Cc,alpha1,alpha2,N)\n",
    "    eigen = H_eff.eigenstates()\n",
    "    ev_list.append(eigen[1][5])\n",
    "    ZZ = (eigen[0][5] - eigen[0][1] - eigen[0][2])*1e3  # in MHz\n",
    "    \n",
    "    ZZ_list.append(ZZ)\n",
    "    g_eff_list.append(compute_g_eff(wc,w1,w2,C1,C2,C12,C1c,C2c,Cc)*1e3)\n",
    "    g1_list.append(compute_g1(wc,w1,C1,C1c,Cc)*1e3)\n",
    "    g2_list.append(compute_g2(wc,w2,C1,C1c,Cc)*1e3)\n",
    "    g12_list.append(compute_g12(w1,w2,C1,C2,C12,C1c,C2c,Cc)*1e3)\n",
    "    \n",
    "   \n",
    "# plot\n",
    "fig,(ax,ax1, ax2) = plt.subplots(3,1, figsize=(10,10))\n",
    "ax.plot(wc_list, ZZ_list,'-o')\n",
    "# ax.set_xlabel('Coupler Frequency (GHz)', fontsize=18)\n",
    "ax.set_ylabel(r'$\\zeta$ (MHz)', fontsize=18)\n",
    "ax.tick_params(axis='x', labelsize=18)\n",
    "ax.tick_params(axis='y', labelsize=18)\n",
    "ax.grid('on')\n",
    "\n",
    "ax1.plot(wc_list, g_eff_list,'-o')\n",
    "ax1.plot(wc_list, g12_list,'-o')\n",
    "ax1.set_ylabel(r'$g_{eff}, g_{12}$ (MHz)', fontsize=18)\n",
    "ax1.tick_params(axis='x', labelsize=18)\n",
    "ax1.tick_params(axis='y', labelsize=18)\n",
    "ax1.grid('on')\n",
    "\n",
    "ax2.plot(wc_list, g1_list,'-o')\n",
    "ax2.plot(wc_list, g2_list,'-o')\n",
    "ax2.set_xlabel('Coupler Frequency (GHz)', fontsize=18)\n",
    "ax2.set_ylabel(r'$g_1, g_2$ (MHz)', fontsize=18)\n",
    "ax2.tick_params(axis='x', labelsize=18)\n",
    "ax2.tick_params(axis='y', labelsize=18)\n",
    "ax2.grid('on')"
   ]
  },
  {
   "cell_type": "code",
   "execution_count": 144,
   "metadata": {
    "scrolled": false
   },
   "outputs": [],
   "source": [
    "max_arg = []\n",
    "for ev in ev_list:\n",
    "    max_arg.append(np.argmax(np.absolute(ev.full())))"
   ]
  },
  {
   "cell_type": "code",
   "execution_count": 186,
   "metadata": {},
   "outputs": [
    {
     "data": {
      "text/plain": [
       "[6,\n",
       " 6,\n",
       " 6,\n",
       " 6,\n",
       " 6,\n",
       " 6,\n",
       " 6,\n",
       " 6,\n",
       " 6,\n",
       " 6,\n",
       " 6,\n",
       " 6,\n",
       " 6,\n",
       " 6,\n",
       " 6,\n",
       " 6,\n",
       " 6,\n",
       " 6,\n",
       " 6,\n",
       " 6,\n",
       " 6,\n",
       " 6,\n",
       " 6,\n",
       " 6,\n",
       " 6,\n",
       " 6,\n",
       " 6,\n",
       " 6,\n",
       " 6,\n",
       " 6,\n",
       " 6]"
      ]
     },
     "execution_count": 186,
     "metadata": {},
     "output_type": "execute_result"
    }
   ],
   "source": [
    "max_arg"
   ]
  },
  {
   "cell_type": "code",
   "execution_count": 156,
   "metadata": {},
   "outputs": [
    {
     "data": {
      "text/plain": [
       "array([[0.        +0.j],\n",
       "       [0.        +0.j],\n",
       "       [0.09995332+0.j],\n",
       "       [0.        +0.j],\n",
       "       [0.        +0.j],\n",
       "       [0.        +0.j],\n",
       "       [0.99487785+0.j],\n",
       "       [0.        +0.j],\n",
       "       [0.        +0.j],\n",
       "       [0.        +0.j],\n",
       "       [0.01507939+0.j],\n",
       "       [0.        +0.j],\n",
       "       [0.        +0.j],\n",
       "       [0.        +0.j],\n",
       "       [0.        +0.j],\n",
       "       [0.        +0.j],\n",
       "       [0.        +0.j],\n",
       "       [0.        +0.j],\n",
       "       [0.        +0.j],\n",
       "       [0.        +0.j],\n",
       "       [0.        +0.j],\n",
       "       [0.        +0.j],\n",
       "       [0.        +0.j],\n",
       "       [0.        +0.j],\n",
       "       [0.        +0.j]])"
      ]
     },
     "execution_count": 156,
     "metadata": {},
     "output_type": "execute_result"
    }
   ],
   "source": [
    "eigen[1][5].full()"
   ]
  },
  {
   "cell_type": "markdown",
   "metadata": {},
   "source": [
    "# two transmons + Coupler"
   ]
  },
  {
   "cell_type": "code",
   "execution_count": 67,
   "metadata": {},
   "outputs": [
    {
     "name": "stdout",
     "output_type": "stream",
     "text": [
      "Using matplotlib backend: TkAgg\n"
     ]
    }
   ],
   "source": [
    "%matplotlib \n",
    "import matplotlib.pyplot as plt\n",
    "import numpy as np\n",
    "from math import pi\n",
    "from qutip import *\n",
    "import sympy"
   ]
  },
  {
   "cell_type": "code",
   "execution_count": 80,
   "metadata": {},
   "outputs": [],
   "source": [
    "def hamiltonian_eff_2Q_coupler(w1,w2,wc,C1,C2,C12,C1c,C2c,Cc,alpha1,alpha2,alphac,N):\n",
    "    \"\"\"\n",
    "    Full Hamiltonian of two transmons and a coupler.\n",
    "    Note: counter-rotating terms are ignored. This produces negative ZZ as experimentally shown in Li paper.\n",
    "    \"\"\"\n",
    "    g1 = compute_g1(wc,w1,C1,C1c,Cc)\n",
    "    g2 = compute_g2(wc,w2,C1,C1c,Cc)\n",
    "    g12 = compute_g12(w1,w2,C1,C2,C12,C1c,C2c,Cc)\n",
    "\n",
    "    b1 = destroy(N)\n",
    "    b2 = destroy(N)\n",
    "    bc = destroy(N)\n",
    "    I1 = qeye(N)\n",
    "    I2 = qeye(N)\n",
    "    Ic = qeye(N)\n",
    "\n",
    "    # Eq. A17\n",
    "    H1 = w1*tensor(b1.dag()*b1, I2, Ic) + alpha1/2.0*tensor(b1.dag()*b1.dag()*b1*b1, I2, Ic)\n",
    "    H2 = w2*tensor(I1, b2.dag()*b2, Ic) + alpha2/2.0*tensor(I1, b2.dag()*b2.dag()*b2*b2, Ic)\n",
    "    Hc = wc*tensor(I1, I2, bc.dag()*bc) + alphac/2.0*tensor(I1, I2, bc.dag()*bc.dag()*bc*bc)\n",
    "    H1c = g1*(tensor(b1.dag(), I2, bc) + tensor(b1, I2, bc.dag())) #- tensor(b1.dag(), I2, bc.dag()) -tensor(b1, I2, bc))\n",
    "    H2c = g2*(tensor(I1, b2.dag(), bc) + tensor(I1, b2, bc.dag())) #- tensor(I1, b2.dag(), bc.dag()) -tensor(I1, b2, bc))\n",
    "    H12 = g12*(tensor(b1.dag(), b2, Ic) + tensor(b1, b2.dag(), Ic)) # - tensor(b1.dag(), b2.dag(), Ic) -tensor(b1, b2, Ic))\n",
    "    \n",
    "    H_eff = H1 + H2 + Hc + H1c + H2c + H12\n",
    "    \n",
    "    return H_eff\n",
    "\n"
   ]
  },
  {
   "cell_type": "code",
   "execution_count": 81,
   "metadata": {
    "scrolled": true
   },
   "outputs": [
    {
     "name": "stdout",
     "output_type": "stream",
     "text": [
      "g1=106.9 MHz\n",
      "g12=7.466 MHz\n",
      "geff=-5.442 MHz\n",
      "ZZ = -0.09965 (MHz)\n"
     ]
    }
   ],
   "source": [
    "# parameters for IBM qubit\n",
    "w1, w2, wc = 5, 5, 6 # in GHz\n",
    "(C1, C2, C12, C1c, C2c, Cc) = (70,72,0.1,4,4.2,150)\n",
    "alpha1, alpha2, alphac = -0.35, -0.35, -0.35# in GHz\n",
    "N=3\n",
    "\n",
    "H_eff2 = hamiltonian_eff_2Q_coupler(w1,w2,wc,C1,C2,C12,C1c,C2c,Cc,alpha1,alpha2,alphac,N)\n",
    "eigen2 = H_eff2.eigenstates()\n",
    "ZZ = eigen2[0][6] - eigen2[0][1] - eigen2[0][2]  # in GHz\n",
    "\n",
    "sympy.SparseMatrix(np.round((H_eff2)[:, 0:13],2))\n",
    "print(f'g1={compute_g1(wc,w1,C1,C1c,Cc)*1e3:.1f} MHz')\n",
    "print(f'g12={compute_g12(w1,w2,C1,C2,C12,C1c,C2c,Cc)*1e3:.3f} MHz')\n",
    "print(f'geff={compute_g_eff(wc,w1,w2,C1,C2,C12,C1c,C2c,Cc)*1e3:.3f} MHz')\n",
    "print(f'ZZ = {ZZ*1e3:.5f} (MHz)')"
   ]
  },
  {
   "cell_type": "code",
   "execution_count": 82,
   "metadata": {},
   "outputs": [
    {
     "data": {
      "text/latex": [
       "$\\displaystyle \\left[\\begin{array}{ccccccccccccc}0 & 0 & 0 & 0 & 0 & 0 & 0 & 0 & 0 & 0 & 0 & 0 & 0\\\\0 & 6.0 & 0 & 0.11 & 0 & 0 & 0 & 0 & 0 & 0.11 & 0 & 0 & 0\\\\0 & 0 & 11.65 & 0 & 0.15 & 0 & 0 & 0 & 0 & 0 & 0.15 & 0 & 0\\\\0 & 0.11 & 0 & 5.0 & 0 & 0 & 0 & 0 & 0 & 0.01 & 0 & 0 & 0\\\\0 & 0 & 0.15 & 0 & 11.0 & 0 & 0.15 & 0 & 0 & 0 & 0.01 & 0 & 0.11\\\\0 & 0 & 0 & 0 & 0 & 16.65 & 0 & 0.21 & 0 & 0 & 0 & 0.01 & 0\\\\0 & 0 & 0 & 0 & 0.15 & 0 & 9.65 & 0 & 0 & 0 & 0 & 0 & 0.01\\\\0 & 0 & 0 & 0 & 0 & 0.21 & 0 & 15.65 & 0 & 0 & 0 & 0 & 0\\\\0 & 0 & 0 & 0 & 0 & 0 & 0 & 0 & 21.3 & 0 & 0 & 0 & 0\\\\0 & 0.11 & 0 & 0.01 & 0 & 0 & 0 & 0 & 0 & 5.0 & 0 & 0 & 0\\\\0 & 0 & 0.15 & 0 & 0.01 & 0 & 0 & 0 & 0 & 0 & 11.0 & 0 & 0.11\\\\0 & 0 & 0 & 0 & 0 & 0.01 & 0 & 0 & 0 & 0 & 0 & 16.65 & 0\\\\0 & 0 & 0 & 0 & 0.11 & 0 & 0.01 & 0 & 0 & 0 & 0.11 & 0 & 10.0\\\\0 & 0 & 0 & 0 & 0 & 0.15 & 0 & 0.01 & 0 & 0 & 0 & 0.15 & 0\\\\0 & 0 & 0 & 0 & 0 & 0 & 0 & 0 & 0.01 & 0 & 0 & 0 & 0\\\\0 & 0 & 0 & 0 & 0 & 0 & 0 & 0.11 & 0 & 0 & 0 & 0 & 0\\\\0 & 0 & 0 & 0 & 0 & 0 & 0 & 0 & 0.15 & 0 & 0 & 0 & 0\\\\0 & 0 & 0 & 0 & 0 & 0 & 0 & 0 & 0 & 0 & 0 & 0 & 0\\\\0 & 0 & 0 & 0 & 0 & 0 & 0 & 0 & 0 & 0 & 0.15 & 0 & 0.01\\\\0 & 0 & 0 & 0 & 0 & 0 & 0 & 0 & 0 & 0 & 0 & 0.21 & 0\\\\0 & 0 & 0 & 0 & 0 & 0 & 0 & 0 & 0 & 0 & 0 & 0 & 0\\\\0 & 0 & 0 & 0 & 0 & 0 & 0 & 0 & 0 & 0 & 0 & 0 & 0\\\\0 & 0 & 0 & 0 & 0 & 0 & 0 & 0 & 0 & 0 & 0 & 0 & 0\\\\0 & 0 & 0 & 0 & 0 & 0 & 0 & 0 & 0 & 0 & 0 & 0 & 0\\\\0 & 0 & 0 & 0 & 0 & 0 & 0 & 0 & 0 & 0 & 0 & 0 & 0\\\\0 & 0 & 0 & 0 & 0 & 0 & 0 & 0 & 0 & 0 & 0 & 0 & 0\\\\0 & 0 & 0 & 0 & 0 & 0 & 0 & 0 & 0 & 0 & 0 & 0 & 0\\end{array}\\right]$"
      ],
      "text/plain": [
       "Matrix([\n",
       "[0,    0,     0,    0,    0,     0,    0,     0,    0,    0,    0,     0,    0],\n",
       "[0,  6.0,     0, 0.11,    0,     0,    0,     0,    0, 0.11,    0,     0,    0],\n",
       "[0,    0, 11.65,    0, 0.15,     0,    0,     0,    0,    0, 0.15,     0,    0],\n",
       "[0, 0.11,     0,  5.0,    0,     0,    0,     0,    0, 0.01,    0,     0,    0],\n",
       "[0,    0,  0.15,    0, 11.0,     0, 0.15,     0,    0,    0, 0.01,     0, 0.11],\n",
       "[0,    0,     0,    0,    0, 16.65,    0,  0.21,    0,    0,    0,  0.01,    0],\n",
       "[0,    0,     0,    0, 0.15,     0, 9.65,     0,    0,    0,    0,     0, 0.01],\n",
       "[0,    0,     0,    0,    0,  0.21,    0, 15.65,    0,    0,    0,     0,    0],\n",
       "[0,    0,     0,    0,    0,     0,    0,     0, 21.3,    0,    0,     0,    0],\n",
       "[0, 0.11,     0, 0.01,    0,     0,    0,     0,    0,  5.0,    0,     0,    0],\n",
       "[0,    0,  0.15,    0, 0.01,     0,    0,     0,    0,    0, 11.0,     0, 0.11],\n",
       "[0,    0,     0,    0,    0,  0.01,    0,     0,    0,    0,    0, 16.65,    0],\n",
       "[0,    0,     0,    0, 0.11,     0, 0.01,     0,    0,    0, 0.11,     0, 10.0],\n",
       "[0,    0,     0,    0,    0,  0.15,    0,  0.01,    0,    0,    0,  0.15,    0],\n",
       "[0,    0,     0,    0,    0,     0,    0,     0, 0.01,    0,    0,     0,    0],\n",
       "[0,    0,     0,    0,    0,     0,    0,  0.11,    0,    0,    0,     0,    0],\n",
       "[0,    0,     0,    0,    0,     0,    0,     0, 0.15,    0,    0,     0,    0],\n",
       "[0,    0,     0,    0,    0,     0,    0,     0,    0,    0,    0,     0,    0],\n",
       "[0,    0,     0,    0,    0,     0,    0,     0,    0,    0, 0.15,     0, 0.01],\n",
       "[0,    0,     0,    0,    0,     0,    0,     0,    0,    0,    0,  0.21,    0],\n",
       "[0,    0,     0,    0,    0,     0,    0,     0,    0,    0,    0,     0,    0],\n",
       "[0,    0,     0,    0,    0,     0,    0,     0,    0,    0,    0,     0,    0],\n",
       "[0,    0,     0,    0,    0,     0,    0,     0,    0,    0,    0,     0,    0],\n",
       "[0,    0,     0,    0,    0,     0,    0,     0,    0,    0,    0,     0,    0],\n",
       "[0,    0,     0,    0,    0,     0,    0,     0,    0,    0,    0,     0,    0],\n",
       "[0,    0,     0,    0,    0,     0,    0,     0,    0,    0,    0,     0,    0],\n",
       "[0,    0,     0,    0,    0,     0,    0,     0,    0,    0,    0,     0,    0]])"
      ]
     },
     "execution_count": 82,
     "metadata": {},
     "output_type": "execute_result"
    }
   ],
   "source": [
    "# show H_eff2 matrix\n",
    "sympy.SparseMatrix(np.round((H_eff2)[:, 0:13],2))"
   ]
  },
  {
   "cell_type": "code",
   "execution_count": 83,
   "metadata": {
    "scrolled": true
   },
   "outputs": [],
   "source": [
    "# plot_energy_levels([H_eff2], N=7, show_ylabels=True)"
   ]
  },
  {
   "cell_type": "markdown",
   "metadata": {},
   "source": [
    "## (ZZ, g) vs Coupler frequency"
   ]
  },
  {
   "cell_type": "code",
   "execution_count": 84,
   "metadata": {},
   "outputs": [],
   "source": [
    "# parameters for IBM qubit\n",
    "w1, w2 = 5, 5.05 # in GHz\n",
    "wc = 5.5\n",
    "(C1, C2, C12, C1c, C2c, Cc) = (60,60,0.1, 2,2, 50)\n",
    "alpha1 = -0.35 # in GHz\n",
    "alpha2 = -0.35\n",
    "alphac = -0.40\n",
    "\n",
    "N = 3\n",
    "\n",
    "# sweep\n",
    "wc_list = np.linspace(5.5,7.5,31)\n",
    "# wc_list = np.linspace(3.5,4.5,31)\n",
    "ZZ_list, g_eff_list, g1_list, g2_list, g12_list = [], [], [], [], []\n",
    "ev_list = []\n",
    "\n",
    "for wc in wc_list:\n",
    "    H_eff = hamiltonian_eff_2Q_coupler(w1,w2,wc,C1,C2,C12,C1c,C2c,Cc,alpha1,alpha2,alphac,N)\n",
    "    eigen = H_eff.eigenstates()\n",
    "    ev_list.append(eigen[1][6])\n",
    "    ZZ = (eigen[0][6] - eigen[0][1] - eigen[0][2])*1e3  # in MHz\n",
    "    \n",
    "    ZZ_list.append(ZZ)\n",
    "    g_eff_list.append(compute_g_eff(wc,w1,w2,C1,C2,C12,C1c,C2c,Cc)*1e3)\n",
    "    g1_list.append(compute_g1(wc,w1,C1,C1c,Cc)*1e3)\n",
    "    g2_list.append(compute_g2(wc,w2,C1,C1c,Cc)*1e3)\n",
    "    g12_list.append(compute_g12(w1,w2,C1,C2,C12,C1c,C2c,Cc)*1e3)\n",
    "    \n",
    "   \n",
    "# plot\n",
    "fig,(ax,ax1, ax2) = plt.subplots(3,1, figsize=(10,10))\n",
    "ax.plot(wc_list, ZZ_list,'-o')\n",
    "# ax.set_xlabel('Coupler Frequency (GHz)', fontsize=18)\n",
    "ax.set_ylabel(r'$\\zeta$ (MHz)', fontsize=18)\n",
    "ax.tick_params(axis='x', labelsize=18)\n",
    "ax.tick_params(axis='y', labelsize=18)\n",
    "ax.grid('on')\n",
    "\n",
    "ax1.plot(wc_list, g_eff_list,'-o')\n",
    "ax1.plot(wc_list, g12_list,'-o')\n",
    "ax1.set_ylabel(r'$g_{eff}, g_{12}$ (MHz)', fontsize=18)\n",
    "ax1.tick_params(axis='x', labelsize=18)\n",
    "ax1.tick_params(axis='y', labelsize=18)\n",
    "ax1.grid('on')\n",
    "\n",
    "ax2.plot(wc_list, g1_list,'-o')\n",
    "ax2.plot(wc_list, g2_list,'-o')\n",
    "ax2.set_xlabel('Coupler Frequency (GHz)', fontsize=18)\n",
    "ax2.set_ylabel(r'$g_1, g_2$ (MHz)', fontsize=18)\n",
    "ax2.tick_params(axis='x', labelsize=18)\n",
    "ax2.tick_params(axis='y', labelsize=18)\n",
    "ax2.grid('on')"
   ]
  },
  {
   "cell_type": "code",
   "execution_count": 85,
   "metadata": {},
   "outputs": [],
   "source": [
    "# np.argmax(np.absolute(eigen[1][9].full()))"
   ]
  },
  {
   "cell_type": "code",
   "execution_count": 241,
   "metadata": {},
   "outputs": [
    {
     "data": {
      "text/plain": [
       "[30,\n",
       " 30,\n",
       " 30,\n",
       " 30,\n",
       " 30,\n",
       " 30,\n",
       " 30,\n",
       " 30,\n",
       " 30,\n",
       " 30,\n",
       " 30,\n",
       " 30,\n",
       " 30,\n",
       " 30,\n",
       " 30,\n",
       " 30,\n",
       " 30,\n",
       " 30,\n",
       " 30,\n",
       " 30,\n",
       " 30,\n",
       " 30,\n",
       " 30,\n",
       " 30,\n",
       " 30,\n",
       " 30,\n",
       " 30,\n",
       " 30,\n",
       " 30,\n",
       " 30,\n",
       " 30]"
      ]
     },
     "execution_count": 241,
     "metadata": {},
     "output_type": "execute_result"
    }
   ],
   "source": [
    "max_arg = []\n",
    "for ev in ev_list:\n",
    "    max_arg.append(np.argmax(np.absolute(ev.full())))\n",
    "max_arg"
   ]
  },
  {
   "cell_type": "markdown",
   "metadata": {},
   "source": [
    "# Compare eff. Hamil. vs diag. eff. Hamil."
   ]
  },
  {
   "cell_type": "code",
   "execution_count": 17,
   "metadata": {},
   "outputs": [],
   "source": [
    "# parameters for IBM qubit\n",
    "w1, w2 = 5, 5 # in GHz\n",
    "wc = 5.5\n",
    "(C1, C2, C12, C1c, C2c, Cc) = (70,72,0.1,4,4.2,150)\n",
    "alpha1 = -0.35 # in GHz\n",
    "alpha2 = -0.35\n",
    "alphac = -0.4\n",
    "\n",
    "N = 5\n",
    "eigen1 = hamiltonian_eff_two_qubit(w1,w2,wc,C1,C2,C12,C1c,C2c,Cc,alpha1,alpha2,N).eigenstates()\n",
    "eigen2 = hamiltonian_eff_2Q_coupler(w1,w2,wc,C1,C2,C12,C1c,C2c,Cc,alpha1,alpha2,alphac,N).eigenstates()\n",
    "\n",
    "plt.figure()\n",
    "plt.plot(eigen1[0],'-o', label='Effective two-transmons Hamil.')\n",
    "plt.plot(eigen2[0],'-o', label='Two-qubit+ coupler Hamil.')\n",
    "plt.legend()\n",
    "plt.grid()"
   ]
  },
  {
   "cell_type": "code",
   "execution_count": 258,
   "metadata": {},
   "outputs": [],
   "source": [
    "from scipy.constants import e,h"
   ]
  },
  {
   "cell_type": "code",
   "execution_count": 265,
   "metadata": {},
   "outputs": [
    {
     "data": {
      "text/plain": [
       "322.83715541098536"
      ]
     },
     "execution_count": 265,
     "metadata": {},
     "output_type": "execute_result"
    }
   ],
   "source": [
    "e**2/2/60*1e15/h/1e6"
   ]
  },
  {
   "cell_type": "markdown",
   "metadata": {},
   "source": [
    "# Xuexin's Hamiltonian"
   ]
  },
  {
   "cell_type": "code",
   "execution_count": 46,
   "metadata": {},
   "outputs": [
    {
     "data": {
      "text/latex": [
       "Quantum object: dims = [[10], [10]], shape = (10, 10), type = oper, isherm = True\\begin{equation*}\\left(\\begin{array}{*{11}c}0.0 & 0.0 & 0.0 & 0.0 & 0.0 & 0.0 & 0.0 & 0.0 & 0.0 & 0.0\\\\0.0 & 0.0 & 0.0 & 0.0 & 0.0 & 0.0 & 0.0 & 0.0 & 0.0 & 0.0\\\\0.0 & 0.0 & 1.0 & 0.0 & 0.0 & 0.0 & 0.0 & 0.0 & 0.0 & 0.0\\\\0.0 & 0.0 & 0.0 & 1.0 & 0.0 & 0.0 & 0.0 & 0.0 & 0.0 & 0.0\\\\0.0 & 0.0 & 0.0 & 0.0 & 0.0 & 0.0 & 0.0 & 0.0 & 0.0 & 0.0\\\\0.0 & 0.0 & 0.0 & 0.0 & 0.0 & 2.0 & 0.0 & 0.0 & 0.0 & 0.0\\\\0.0 & 0.0 & 0.0 & 0.0 & 0.0 & 0.0 & 0.0 & 0.0 & 0.0 & 0.0\\\\0.0 & 0.0 & 0.0 & 0.0 & 0.0 & 0.0 & 0.0 & 1.0 & 0.0 & 0.0\\\\0.0 & 0.0 & 0.0 & 0.0 & 0.0 & 0.0 & 0.0 & 0.0 & 2.0 & 0.0\\\\0.0 & 0.0 & 0.0 & 0.0 & 0.0 & 0.0 & 0.0 & 0.0 & 0.0 & 3.000\\\\\\end{array}\\right)\\end{equation*}"
      ],
      "text/plain": [
       "Quantum object: dims = [[10], [10]], shape = (10, 10), type = oper, isherm = True\n",
       "Qobj data =\n",
       "[[0. 0. 0. 0. 0. 0. 0. 0. 0. 0.]\n",
       " [0. 0. 0. 0. 0. 0. 0. 0. 0. 0.]\n",
       " [0. 0. 1. 0. 0. 0. 0. 0. 0. 0.]\n",
       " [0. 0. 0. 1. 0. 0. 0. 0. 0. 0.]\n",
       " [0. 0. 0. 0. 0. 0. 0. 0. 0. 0.]\n",
       " [0. 0. 0. 0. 0. 2. 0. 0. 0. 0.]\n",
       " [0. 0. 0. 0. 0. 0. 0. 0. 0. 0.]\n",
       " [0. 0. 0. 0. 0. 0. 0. 1. 0. 0.]\n",
       " [0. 0. 0. 0. 0. 0. 0. 0. 2. 0.]\n",
       " [0. 0. 0. 0. 0. 0. 0. 0. 0. 3.]]"
      ]
     },
     "execution_count": 46,
     "metadata": {},
     "output_type": "execute_result"
    }
   ],
   "source": [
    "aaa = np.zeros((10,10))\n",
    "aaa[2,0]=1\n",
    "aaa[3,1]=1\n",
    "aaa[5,2]=np.sqrt(2)\n",
    "aaa[8,3]=np.sqrt(2)\n",
    "aaa[7,4]=1\n",
    "aaa[9,5]=np.sqrt(3)\n",
    "aaa_Q = Qobj(aaa)\n",
    "aaa_Q*aaa_Q.dag()"
   ]
  },
  {
   "cell_type": "markdown",
   "metadata": {},
   "source": [
    "# Procedure to find Pauli-coefficients with CR\n",
    "1. Build effective two-qubit Hamiltonian.\n",
    "2. Diagonalize the two-qbuti Hamiltonian to get rid of coupling by either SW or numerical diagonalization. Dressed state.\n",
    "3. Build driving Hamiltonian in the dressed state.\n",
    "4. Move into rotating frame.\n",
    "5. Block-diagonalize the total Hamiltonian by SW or least action.\n",
    "6. Find Pauli-coefficients."
   ]
  },
  {
   "cell_type": "markdown",
   "metadata": {},
   "source": [
    "## Define qubit frequencies and J"
   ]
  },
  {
   "cell_type": "code",
   "execution_count": 22,
   "metadata": {},
   "outputs": [],
   "source": [
    "wm = 5164       # CSFQ w01\n",
    "del_m0 = 600   # first anharmonicity\n",
    "del_m1 = 430  # second anharmon.\n",
    "gdm = 80\n",
    "\n",
    "wr = 6292\n",
    "\n",
    "wt = 5292   # transmon\n",
    "del_t0 = -329.1\n",
    "del_t1 = -369.7\n",
    "gdt = -80\n",
    "\n",
    "gmt = 0  # csfq-transmon direct g\n",
    "\n",
    "# CSFQ, j=0,1,2\n",
    "w1_d = lambda j: wm*j + del_m0/2*j*(j-1) if j<3 else wm*j + del_m0/2*j*(j-1) + del_m1-del_m0 # dressed freq\n",
    "gamma1 = lambda j: j/(wr + w1_d(j-1) - w1_d(j))\n",
    "w1_b = lambda j: w1_d(j) - gamma1(j) * gdm**2  # bare freq. j=1,2,3\n",
    "\n",
    "# transmon, j=0,1,2\n",
    "w2_d = lambda j: wt*j + del_t0/2*j*(j-1) if j<3 else wt*j + del_t0/2*j*(j-1) + del_t1-del_t0 # dressed freq\n",
    "gamma2 = lambda j: j/(wr + w2_d(j-1) - w2_d(j))\n",
    "w2_b = lambda j: w2_d(j) - gamma2(j) * gdt**2  # bare freq.\n",
    "\n",
    "# J, {j1,j2}=0,1,2\n",
    "J = lambda j1,j2 : gmt - gdm*gdt/2*(1/(wr+w1_d(j1)-w1_d(j1+1)) + 1/(wr+w2_d(j2)-w2_d(j2+1)) \n",
    "                                    + 1/(wr-w1_d(j1)+w1_d(j1+1)) + 1/(wr-w2_d(j2)+w2_d(j2+1))) "
   ]
  },
  {
   "cell_type": "code",
   "execution_count": 20,
   "metadata": {},
   "outputs": [
    {
     "data": {
      "text/plain": [
       "6.592452135485313"
      ]
     },
     "execution_count": 20,
     "metadata": {},
     "output_type": "execute_result"
    }
   ],
   "source": [
    "J(0,0)"
   ]
  },
  {
   "cell_type": "markdown",
   "metadata": {},
   "source": [
    "## Build effective two-qubit Hamiltonian"
   ]
  },
  {
   "cell_type": "code",
   "execution_count": 191,
   "metadata": {},
   "outputs": [],
   "source": [
    "# states to consider\n",
    "# 00, 01,10,11,02,20,03,12,21,30\n",
    "diag = np.array([0, w2_b(1), w1_b(1), w1_b(1)+w2_b(1), w2_b(2), w1_b(2), w2_b(3)\n",
    "                 ,w1_b(1)+w2_b(2), w1_b(2)+w2_b(1), w1_b(3)])\n",
    "H0 = Qobj(np.diag(diag))\n",
    "\n",
    "b1dag = np.zeros((10,10))\n",
    "b1dag[2,0] = 1\n",
    "b1dag[3,1] = 1\n",
    "b1dag[5,2] = np.sqrt(2)\n",
    "b1dag[8,3] = np.sqrt(2)\n",
    "b1dag[7,4] = 1\n",
    "b1dag[9,5] = np.sqrt(3)\n",
    "b1dag = Qobj(b1dag)\n",
    "\n",
    "b2dag = np.zeros((10,10))\n",
    "b2dag[1,0] = 1\n",
    "b2dag[3,2] = 1\n",
    "b2dag[4,1] = np.sqrt(2)\n",
    "b2dag[7,3] = np.sqrt(2)\n",
    "b2dag[6,4] = np.sqrt(3)\n",
    "b2dag[8,5] = 1\n",
    "b2dag = Qobj(b2dag)\n",
    "\n",
    "V0  = np.zeros((10,10))\n",
    "V0[2,1] = J(0,0)\n",
    "V0[1,2] = J(0,0)\n",
    "V0[4,3] = np.sqrt(2)*J(0,1)\n",
    "V0[5,3] = np.sqrt(2)*J(1,0)\n",
    "V0[3,4] = np.sqrt(2)*J(0,1)\n",
    "V0[3,5] = np.sqrt(2)*J(1,0)\n",
    "V0[7,6] = np.sqrt(3)*J(0,2)\n",
    "V0[6,7] = np.sqrt(3)*J(0,2)\n",
    "V0[8,7] = np.sqrt(4)*J(1,1)\n",
    "V0[7,8] = np.sqrt(4)*J(1,1)\n",
    "V0[9,8] = np.sqrt(3)*J(2,0)\n",
    "V0[8,9] = np.sqrt(3)*J(2,0)\n",
    "V0 = Qobj(V0)\n",
    "\n",
    "b1 = b1dag.dag()\n",
    "b2 = b2dag.dag()\n",
    "\n",
    "b1t = b1 + b1dag\n",
    "b2t = b2 + b2dag\n",
    "ntot = b1dag*b1 + b2dag*b2"
   ]
  },
  {
   "cell_type": "code",
   "execution_count": 192,
   "metadata": {},
   "outputs": [
    {
     "data": {
      "text/latex": [
       "Quantum object: dims = [[10], [10]], shape = (10, 10), type = oper, isherm = True\\begin{equation*}\\left(\\begin{array}{*{11}c}0.0 & 0.0 & 0.0 & 0.0 & 0.0 & 0.0 & 0.0 & 0.0 & 0.0 & 0.0\\\\0.0 & 0.0 & 0.0 & 0.0 & 0.0 & 0.0 & 0.0 & 0.0 & 0.0 & 0.0\\\\0.0 & 0.0 & 1.0 & 0.0 & 0.0 & 0.0 & 0.0 & 0.0 & 0.0 & 0.0\\\\0.0 & 0.0 & 0.0 & 1.0 & 0.0 & 0.0 & 0.0 & 0.0 & 0.0 & 0.0\\\\0.0 & 0.0 & 0.0 & 0.0 & 0.0 & 0.0 & 0.0 & 0.0 & 0.0 & 0.0\\\\0.0 & 0.0 & 0.0 & 0.0 & 0.0 & 2.0 & 0.0 & 0.0 & 0.0 & 0.0\\\\0.0 & 0.0 & 0.0 & 0.0 & 0.0 & 0.0 & 0.0 & 0.0 & 0.0 & 0.0\\\\0.0 & 0.0 & 0.0 & 0.0 & 0.0 & 0.0 & 0.0 & 1.0 & 0.0 & 0.0\\\\0.0 & 0.0 & 0.0 & 0.0 & 0.0 & 0.0 & 0.0 & 0.0 & 2.0 & 0.0\\\\0.0 & 0.0 & 0.0 & 0.0 & 0.0 & 0.0 & 0.0 & 0.0 & 0.0 & 3.000\\\\\\end{array}\\right)\\end{equation*}"
      ],
      "text/plain": [
       "Quantum object: dims = [[10], [10]], shape = (10, 10), type = oper, isherm = True\n",
       "Qobj data =\n",
       "[[0. 0. 0. 0. 0. 0. 0. 0. 0. 0.]\n",
       " [0. 0. 0. 0. 0. 0. 0. 0. 0. 0.]\n",
       " [0. 0. 1. 0. 0. 0. 0. 0. 0. 0.]\n",
       " [0. 0. 0. 1. 0. 0. 0. 0. 0. 0.]\n",
       " [0. 0. 0. 0. 0. 0. 0. 0. 0. 0.]\n",
       " [0. 0. 0. 0. 0. 2. 0. 0. 0. 0.]\n",
       " [0. 0. 0. 0. 0. 0. 0. 0. 0. 0.]\n",
       " [0. 0. 0. 0. 0. 0. 0. 1. 0. 0.]\n",
       " [0. 0. 0. 0. 0. 0. 0. 0. 2. 0.]\n",
       " [0. 0. 0. 0. 0. 0. 0. 0. 0. 3.]]"
      ]
     },
     "execution_count": 192,
     "metadata": {},
     "output_type": "execute_result"
    }
   ],
   "source": [
    "b1dag*b1"
   ]
  },
  {
   "cell_type": "code",
   "execution_count": 193,
   "metadata": {},
   "outputs": [
    {
     "data": {
      "text/latex": [
       "Quantum object: dims = [[10], [10]], shape = (10, 10), type = oper, isherm = True\\begin{equation*}\\left(\\begin{array}{*{11}c}0.0 & 0.0 & 0.0 & 0.0 & 0.0 & 0.0 & 0.0 & 0.0 & 0.0 & 0.0\\\\0.0 & 5.286\\times10^{+03} & 0.0 & 0.0 & 0.0 & 0.0 & 0.0 & 0.0 & 0.0 & 0.0\\\\0.0 & 0.0 & 5.158\\times10^{+03} & 0.0 & 0.0 & 0.0 & 0.0 & 0.0 & 0.0 & 0.0\\\\0.0 & 0.0 & 0.0 & 1.044\\times10^{+04} & 0.0 & 0.0 & 0.0 & 0.0 & 0.0 & 0.0\\\\0.0 & 0.0 & 0.0 & 0.0 & 1.025\\times10^{+04} & 0.0 & 0.0 & 0.0 & 0.0 & 0.0\\\\0.0 & 0.0 & 0.0 & 0.0 & 0.0 & 1.090\\times10^{+04} & 0.0 & 0.0 & 0.0 & 0.0\\\\0.0 & 0.0 & 0.0 & 0.0 & 0.0 & 0.0 & 1.484\\times10^{+04} & 0.0 & 0.0 & 0.0\\\\0.0 & 0.0 & 0.0 & 0.0 & 0.0 & 0.0 & 0.0 & 1.540\\times10^{+04} & 0.0 & 0.0\\\\0.0 & 0.0 & 0.0 & 0.0 & 0.0 & 0.0 & 0.0 & 0.0 & 1.619\\times10^{+04} & 0.0\\\\0.0 & 0.0 & 0.0 & 0.0 & 0.0 & 0.0 & 0.0 & 0.0 & 0.0 & 1.693\\times10^{+04}\\\\\\end{array}\\right)\\end{equation*}"
      ],
      "text/plain": [
       "Quantum object: dims = [[10], [10]], shape = (10, 10), type = oper, isherm = True\n",
       "Qobj data =\n",
       "[[    0.             0.             0.             0.\n",
       "      0.             0.             0.             0.\n",
       "      0.             0.        ]\n",
       " [    0.          5285.6            0.             0.\n",
       "      0.             0.             0.             0.\n",
       "      0.             0.        ]\n",
       " [    0.             0.          5158.32624113     0.\n",
       "      0.             0.             0.             0.\n",
       "      0.             0.        ]\n",
       " [    0.             0.             0.         10443.92624113\n",
       "      0.             0.             0.             0.\n",
       "      0.             0.        ]\n",
       " [    0.             0.             0.             0.\n",
       "  10245.26942292     0.             0.             0.\n",
       "      0.             0.        ]\n",
       " [    0.             0.             0.             0.\n",
       "      0.         10903.75757576     0.             0.\n",
       "      0.             0.        ]\n",
       " [    0.             0.             0.             0.\n",
       "      0.             0.         14836.7979044      0.\n",
       "      0.             0.        ]\n",
       " [    0.             0.             0.             0.\n",
       "      0.             0.             0.         15403.59566405\n",
       "      0.             0.        ]\n",
       " [    0.             0.             0.             0.\n",
       "      0.             0.             0.             0.\n",
       "  16189.35757576     0.        ]\n",
       " [    0.             0.             0.             0.\n",
       "      0.             0.             0.             0.\n",
       "      0.         16926.08163265]]"
      ]
     },
     "execution_count": 193,
     "metadata": {},
     "output_type": "execute_result"
    }
   ],
   "source": [
    "H0"
   ]
  },
  {
   "cell_type": "code",
   "execution_count": 194,
   "metadata": {},
   "outputs": [
    {
     "data": {
      "text/latex": [
       "Quantum object: dims = [[10], [10]], shape = (10, 10), type = oper, isherm = True\\begin{equation*}\\left(\\begin{array}{*{11}c}0.0 & 0.0 & 0.0 & 0.0 & 0.0 & 0.0 & 0.0 & 0.0 & 0.0 & 0.0\\\\0.0 & 0.0 & 6.592 & 0.0 & 0.0 & 0.0 & 0.0 & 0.0 & 0.0 & 0.0\\\\0.0 & 6.592 & 0.0 & 0.0 & 0.0 & 0.0 & 0.0 & 0.0 & 0.0 & 0.0\\\\0.0 & 0.0 & 0.0 & 0.0 & 8.214 & 13.863 & 0.0 & 0.0 & 0.0 & 0.0\\\\0.0 & 0.0 & 0.0 & 8.214 & 0.0 & 0.0 & 0.0 & 0.0 & 0.0 & 0.0\\\\0.0 & 0.0 & 0.0 & 13.863 & 0.0 & 0.0 & 0.0 & 0.0 & 0.0 & 0.0\\\\0.0 & 0.0 & 0.0 & 0.0 & 0.0 & 0.0 & 0.0 & 9.169 & 0.0 & 0.0\\\\0.0 & 0.0 & 0.0 & 0.0 & 0.0 & 0.0 & 9.169 & 0.0 & 18.036 & 0.0\\\\0.0 & 0.0 & 0.0 & 0.0 & 0.0 & 0.0 & 0.0 & 18.036 & 0.0 & 63.022\\\\0.0 & 0.0 & 0.0 & 0.0 & 0.0 & 0.0 & 0.0 & 0.0 & 63.022 & 0.0\\\\\\end{array}\\right)\\end{equation*}"
      ],
      "text/plain": [
       "Quantum object: dims = [[10], [10]], shape = (10, 10), type = oper, isherm = True\n",
       "Qobj data =\n",
       "[[ 0.          0.          0.          0.          0.          0.\n",
       "   0.          0.          0.          0.        ]\n",
       " [ 0.          0.          6.59245214  0.          0.          0.\n",
       "   0.          0.          0.          0.        ]\n",
       " [ 0.          6.59245214  0.          0.          0.          0.\n",
       "   0.          0.          0.          0.        ]\n",
       " [ 0.          0.          0.          0.          8.21399833 13.8625133\n",
       "   0.          0.          0.          0.        ]\n",
       " [ 0.          0.          0.          8.21399833  0.          0.\n",
       "   0.          0.          0.          0.        ]\n",
       " [ 0.          0.          0.         13.8625133   0.          0.\n",
       "   0.          0.          0.          0.        ]\n",
       " [ 0.          0.          0.          0.          0.          0.\n",
       "   0.          9.1692497   0.          0.        ]\n",
       " [ 0.          0.          0.          0.          0.          0.\n",
       "   9.1692497   0.         18.03599788  0.        ]\n",
       " [ 0.          0.          0.          0.          0.          0.\n",
       "   0.         18.03599788  0.         63.0216929 ]\n",
       " [ 0.          0.          0.          0.          0.          0.\n",
       "   0.          0.         63.0216929   0.        ]]"
      ]
     },
     "execution_count": 194,
     "metadata": {},
     "output_type": "execute_result"
    }
   ],
   "source": [
    "V0"
   ]
  },
  {
   "cell_type": "markdown",
   "metadata": {},
   "source": [
    "## Diagonalize two-qubit Hamiltonian"
   ]
  },
  {
   "cell_type": "code",
   "execution_count": 249,
   "metadata": {},
   "outputs": [],
   "source": [
    "# By solving eigenvalue\n",
    "H1 = H0 + V0\n",
    "eigen = Ht.eigenstates()\n",
    "\n",
    "# find U\n",
    "U = sorted_diag_op(eigen)\n",
    "U.dims = H1.dims\n",
    "\n",
    "# digonalize H0\n",
    "H2 = U.dag() * H1 * U"
   ]
  },
  {
   "cell_type": "code",
   "execution_count": 247,
   "metadata": {
    "scrolled": false
   },
   "outputs": [
    {
     "data": {
      "text/latex": [
       "Quantum object: dims = [[10], [10]], shape = (10, 10), type = oper, isherm = False\\begin{equation*}\\left(\\begin{array}{*{11}c}1.0 & 0.0 & 0.0 & 0.0 & 0.0 & 0.0 & 0.0 & 0.0 & 0.0 & 0.0\\\\0.0 & 0.999 & -0.052 & 0.0 & 0.0 & 0.0 & 0.0 & 0.0 & 0.0 & 0.0\\\\0.0 & 0.052 & 0.999 & 0.0 & 0.0 & 0.0 & 0.0 & 0.0 & 0.0 & 0.0\\\\0.0 & 0.0 & 0.0 & 0.999 & 0.041 & -0.030 & 0.0 & 0.0 & 0.0 & 0.0\\\\0.0 & 0.0 & 0.0 & 0.041 & -0.999 & -3.754\\times10^{-04} & 0.0 & 0.0 & 0.0 & 0.0\\\\0.0 & 0.0 & 0.0 & -0.030 & -8.691\\times10^{-04} & -1.000 & 0.0 & 0.0 & 0.0 & 0.0\\\\0.0 & 0.0 & 0.0 & 0.0 & 0.0 & 0.0 & 1.000 & 0.016 & 1.566\\times10^{-04} & 4.374\\times10^{-06}\\\\0.0 & 0.0 & 0.0 & 0.0 & 0.0 & 0.0 & -0.016 & 1.000 & 0.023 & 9.993\\times10^{-04}\\\\0.0 & 0.0 & 0.0 & 0.0 & 0.0 & 0.0 & 2.160\\times10^{-04} & -0.023 & 0.996 & 0.085\\\\0.0 & 0.0 & 0.0 & 0.0 & 0.0 & 0.0 & -6.515\\times10^{-06} & 9.524\\times10^{-04} & -0.085 & 0.996\\\\\\end{array}\\right)\\end{equation*}"
      ],
      "text/plain": [
       "Quantum object: dims = [[10], [10]], shape = (10, 10), type = oper, isherm = False\n",
       "Qobj data =\n",
       "[[ 1.00000000e+00  0.00000000e+00  0.00000000e+00  0.00000000e+00\n",
       "   0.00000000e+00  0.00000000e+00  0.00000000e+00  0.00000000e+00\n",
       "   0.00000000e+00  0.00000000e+00]\n",
       " [ 0.00000000e+00  9.98668329e-01 -5.15903950e-02  0.00000000e+00\n",
       "   0.00000000e+00  0.00000000e+00  0.00000000e+00  0.00000000e+00\n",
       "   0.00000000e+00  0.00000000e+00]\n",
       " [ 0.00000000e+00  5.15903950e-02  9.98668329e-01  0.00000000e+00\n",
       "   0.00000000e+00  0.00000000e+00  0.00000000e+00  0.00000000e+00\n",
       "   0.00000000e+00  0.00000000e+00]\n",
       " [ 0.00000000e+00  0.00000000e+00  0.00000000e+00  9.98692815e-01\n",
       "   4.13024295e-02 -3.01126357e-02  0.00000000e+00  0.00000000e+00\n",
       "   0.00000000e+00  0.00000000e+00]\n",
       " [ 0.00000000e+00  0.00000000e+00  0.00000000e+00  4.13098659e-02\n",
       "  -9.99146313e-01 -3.75387721e-04  0.00000000e+00  0.00000000e+00\n",
       "   0.00000000e+00  0.00000000e+00]\n",
       " [ 0.00000000e+00  0.00000000e+00  0.00000000e+00 -3.01024333e-02\n",
       "  -8.69051920e-04 -9.99546441e-01  0.00000000e+00  0.00000000e+00\n",
       "   0.00000000e+00  0.00000000e+00]\n",
       " [ 0.00000000e+00  0.00000000e+00  0.00000000e+00  0.00000000e+00\n",
       "   0.00000000e+00  0.00000000e+00  9.99869107e-01  1.61784931e-02\n",
       "   1.56570795e-04  4.37423748e-06]\n",
       " [ 0.00000000e+00  0.00000000e+00  0.00000000e+00  0.00000000e+00\n",
       "   0.00000000e+00  0.00000000e+00 -1.61778079e-02  9.99603797e-01\n",
       "   2.30114916e-02  9.99257509e-04]\n",
       " [ 0.00000000e+00  0.00000000e+00  0.00000000e+00  0.00000000e+00\n",
       "   0.00000000e+00  0.00000000e+00  2.16006339e-04 -2.30129956e-02\n",
       "   9.96145322e-01  8.46454506e-02]\n",
       " [ 0.00000000e+00  0.00000000e+00  0.00000000e+00  0.00000000e+00\n",
       "   0.00000000e+00  0.00000000e+00 -6.51520825e-06  9.52431642e-04\n",
       "  -8.46459903e-02  9.96410633e-01]]"
      ]
     },
     "execution_count": 247,
     "metadata": {},
     "output_type": "execute_result"
    }
   ],
   "source": [
    "U"
   ]
  },
  {
   "cell_type": "code",
   "execution_count": 248,
   "metadata": {},
   "outputs": [
    {
     "data": {
      "text/latex": [
       "$\\displaystyle \\left[\\begin{matrix}0 & 0 & 0 & 0 & 0 & 0 & 0 & 0 & 0 & 0\\\\0 & 5285.94 & 0 & 0 & 0 & 0 & 0 & 0 & 0 & 0\\\\0 & 0 & 5157.99 & 0 & 0 & 0 & 0 & 0 & 0 & 0\\\\0 & 0 & 0 & 10443.85 & 0 & 0 & 0 & 0 & 0 & 0\\\\0 & 0 & 0 & 0 & 10244.93 & 0 & 0 & 0 & 0 & 0\\\\0 & 0 & 0 & 0 & 0 & 10904.18 & 0 & 0 & 0 & 0\\\\0 & 0 & 0 & 0 & 0 & 0 & 14836.65 & 0 & 0 & 0\\\\0 & 0 & 0 & 0 & 0 & 0 & 0 & 15403.33 & 0 & 0\\\\0 & 0 & 0 & 0 & 0 & 0 & 0 & 0 & 16184.42 & 0\\\\0 & 0 & 0 & 0 & 0 & 0 & 0 & 0 & 0 & 16931.44\\end{matrix}\\right]$"
      ],
      "text/plain": [
       "Matrix([\n",
       "[0,       0,       0,        0,        0,        0,        0,        0,        0,        0],\n",
       "[0, 5285.94,       0,        0,        0,        0,        0,        0,        0,        0],\n",
       "[0,       0, 5157.99,        0,        0,        0,        0,        0,        0,        0],\n",
       "[0,       0,       0, 10443.85,        0,        0,        0,        0,        0,        0],\n",
       "[0,       0,       0,        0, 10244.93,        0,        0,        0,        0,        0],\n",
       "[0,       0,       0,        0,        0, 10904.18,        0,        0,        0,        0],\n",
       "[0,       0,       0,        0,        0,        0, 14836.65,        0,        0,        0],\n",
       "[0,       0,       0,        0,        0,        0,        0, 15403.33,        0,        0],\n",
       "[0,       0,       0,        0,        0,        0,        0,        0, 16184.42,        0],\n",
       "[0,       0,       0,        0,        0,        0,        0,        0,        0, 16931.44]])"
      ]
     },
     "execution_count": 248,
     "metadata": {},
     "output_type": "execute_result"
    }
   ],
   "source": [
    "sympy.Matrix(np.round(H2,2))"
   ]
  },
  {
   "cell_type": "markdown",
   "metadata": {},
   "source": [
    "## Driving Hamiltonian in dressed state"
   ]
  },
  {
   "cell_type": "code",
   "execution_count": 207,
   "metadata": {},
   "outputs": [
    {
     "data": {
      "text/latex": [
       "Quantum object: dims = [[10], [10]], shape = (10, 10), type = oper, isherm = False\\begin{equation*}\\left(\\begin{array}{*{11}c}0.0 & (0.026-9.820\\times10^{-05}j) & (0.503-0.002j) & 0.0 & 0.0 & 0.0 & 0.0 & 0.0 & 0.0 & 0.0\\\\(0.026+9.820\\times10^{-05}j) & 0.039 & 0.0 & (0.501-0.002j) & (0.021-7.839\\times10^{-05}j) & (-0.052+1.961\\times10^{-04}j) & 0.0 & 0.0 & 0.0 & 0.0\\\\(0.503+0.002j) & 0.0 & -127.916 & (-0.047+1.790\\times10^{-04}j) & (-0.002+6.392\\times10^{-06}j) & (-0.711+0.003j) & 0.0 & 0.0 & 0.0 & 0.0\\\\0.0 & (0.501+0.002j) & (-0.047-1.790\\times10^{-04}j) & -127.955 & 0.0 & 0.0 & (-1.829\\times10^{-04}+6.907\\times10^{-07}j) & (0.004-1.664\\times10^{-05}j) & (0.712-0.003j) & (0.034-1.288\\times10^{-04}j)\\\\0.0 & (0.021+7.839\\times10^{-05}j) & (-0.002-6.392\\times10^{-06}j) & 0.0 & -326.873 & 0.0 & (0.008-3.079\\times10^{-05}j) & (-0.504+0.002j) & (0.018-6.723\\times10^{-05}j) & (0.001-4.656\\times10^{-06}j)\\\\0.0 & (-0.052-1.961\\times10^{-04}j) & (-0.711-0.003j) & 0.0 & 0.0 & 332.372 & (4.109\\times10^{-06}-1.552\\times10^{-08}j) & (-5.262\\times10^{-04}+1.987\\times10^{-06}j) & (0.052-1.982\\times10^{-04}j) & (-0.871+0.003j)\\\\0.0 & 0.0 & 0.0 & (-1.829\\times10^{-04}-6.907\\times10^{-07}j) & (0.008+3.079\\times10^{-05}j) & (4.109\\times10^{-06}+1.552\\times10^{-08}j) & -1.021\\times10^{+03} & 0.0 & 0.0 & 0.0\\\\0.0 & 0.0 & 0.0 & (0.004+1.664\\times10^{-05}j) & (-0.504-0.002j) & (-5.262\\times10^{-04}-1.987\\times10^{-06}j) & 0.0 & -454.376 & 0.0 & 0.0\\\\0.0 & 0.0 & 0.0 & (0.712+0.003j) & (0.018+6.723\\times10^{-05}j) & (0.052+1.982\\times10^{-04}j) & 0.0 & 0.0 & 326.714 & 0.0\\\\0.0 & 0.0 & 0.0 & (0.034+1.288\\times10^{-04}j) & (0.001+4.656\\times10^{-06}j) & (-0.871-0.003j) & 0.0 & 0.0 & 0.0 & 1.074\\times10^{+03}\\\\\\end{array}\\right)\\end{equation*}"
      ],
      "text/plain": [
       "Quantum object: dims = [[10], [10]], shape = (10, 10), type = oper, isherm = False\n",
       "Qobj data =\n",
       "[[ 0.00000000e+00+0.00000000e+00j  2.59978919e-02-9.82006788e-05j\n",
       "   5.03257850e-01-1.90093345e-03j  0.00000000e+00+0.00000000e+00j\n",
       "   0.00000000e+00+0.00000000e+00j  0.00000000e+00+0.00000000e+00j\n",
       "   0.00000000e+00+0.00000000e+00j  0.00000000e+00+0.00000000e+00j\n",
       "   0.00000000e+00+0.00000000e+00j  0.00000000e+00+0.00000000e+00j]\n",
       " [ 2.59978919e-02+9.82006788e-05j  3.90391377e-02+0.00000000e+00j\n",
       "   0.00000000e+00+0.00000000e+00j  5.01493236e-01-1.89426805e-03j\n",
       "   2.07538198e-02-7.83924789e-05j -5.19043159e-02+1.96055860e-04j\n",
       "   0.00000000e+00+0.00000000e+00j  0.00000000e+00+0.00000000e+00j\n",
       "   0.00000000e+00+0.00000000e+00j  0.00000000e+00+0.00000000e+00j]\n",
       " [ 5.03257850e-01+1.90093345e-03j  0.00000000e+00+0.00000000e+00j\n",
       "  -1.27915841e+02+0.00000000e+00j -4.73882334e-02+1.78997463e-04j\n",
       "  -1.69229258e-03+6.39222138e-06j -7.10608408e-01+2.68414948e-03j\n",
       "   0.00000000e+00+0.00000000e+00j  0.00000000e+00+0.00000000e+00j\n",
       "   0.00000000e+00+0.00000000e+00j  0.00000000e+00+0.00000000e+00j]\n",
       " [ 0.00000000e+00+0.00000000e+00j  5.01493236e-01+1.89426805e-03j\n",
       "  -4.73882334e-02-1.78997463e-04j -1.27954880e+02+0.00000000e+00j\n",
       "   0.00000000e+00+0.00000000e+00j  0.00000000e+00+0.00000000e+00j\n",
       "  -1.82867542e-04+6.90737418e-07j  4.40488915e-03-1.66383915e-05j\n",
       "   7.11691084e-01-2.68823902e-03j  3.40856243e-02-1.28750110e-04j]\n",
       " [ 0.00000000e+00+0.00000000e+00j  2.07538198e-02+7.83924789e-05j\n",
       "  -1.69229258e-03-6.39222138e-06j  0.00000000e+00+0.00000000e+00j\n",
       "  -3.26873168e+02+0.00000000e+00j  0.00000000e+00+0.00000000e+00j\n",
       "   8.15186863e-03-3.07916901e-05j -5.03977336e-01+1.90365114e-03j\n",
       "   1.77992069e-02-6.72321512e-05j  1.23257773e-03-4.65576094e-06j]\n",
       " [ 0.00000000e+00+0.00000000e+00j -5.19043159e-02-1.96055860e-04j\n",
       "  -7.10608408e-01-2.68414948e-03j  0.00000000e+00+0.00000000e+00j\n",
       "   0.00000000e+00+0.00000000e+00j  3.32372159e+02+0.00000000e+00j\n",
       "   4.10889693e-06-1.55203533e-08j -5.26165433e-04+1.98746125e-06j\n",
       "   5.24662959e-02-1.98178602e-04j -8.71119816e-01+3.29044206e-03j]\n",
       " [ 0.00000000e+00+0.00000000e+00j  0.00000000e+00+0.00000000e+00j\n",
       "   0.00000000e+00+0.00000000e+00j -1.82867542e-04-6.90737418e-07j\n",
       "   8.15186863e-03+3.07916901e-05j  4.10889693e-06+1.55203533e-08j\n",
       "  -1.02105502e+03+0.00000000e+00j  0.00000000e+00+0.00000000e+00j\n",
       "   0.00000000e+00+0.00000000e+00j  0.00000000e+00+0.00000000e+00j]\n",
       " [ 0.00000000e+00+0.00000000e+00j  0.00000000e+00+0.00000000e+00j\n",
       "   0.00000000e+00+0.00000000e+00j  4.40488915e-03+1.66383915e-05j\n",
       "  -5.03977336e-01-1.90365114e-03j -5.26165433e-04-1.98746125e-06j\n",
       "   0.00000000e+00+0.00000000e+00j -4.54375724e+02+0.00000000e+00j\n",
       "   0.00000000e+00+0.00000000e+00j  0.00000000e+00+0.00000000e+00j]\n",
       " [ 0.00000000e+00+0.00000000e+00j  0.00000000e+00+0.00000000e+00j\n",
       "   0.00000000e+00+0.00000000e+00j  7.11691084e-01+2.68823902e-03j\n",
       "   1.77992069e-02+6.72321512e-05j  5.24662959e-02+1.98178602e-04j\n",
       "   0.00000000e+00+0.00000000e+00j  0.00000000e+00+0.00000000e+00j\n",
       "   3.26714476e+02+0.00000000e+00j  0.00000000e+00+0.00000000e+00j]\n",
       " [ 0.00000000e+00+0.00000000e+00j  0.00000000e+00+0.00000000e+00j\n",
       "   0.00000000e+00+0.00000000e+00j  3.40856243e-02+1.28750110e-04j\n",
       "   1.23257773e-03+4.65576094e-06j -8.71119816e-01-3.29044206e-03j\n",
       "   0.00000000e+00+0.00000000e+00j  0.00000000e+00+0.00000000e+00j\n",
       "   0.00000000e+00+0.00000000e+00j  1.07373078e+03+0.00000000e+00j]]"
      ]
     },
     "execution_count": 207,
     "metadata": {},
     "output_type": "execute_result"
    }
   ],
   "source": [
    "# get new Hd and HR\n",
    "Omega = 1 # MHz\n",
    "wd = (H2[3,3]-H2[2,2]+H2[1,1])/2  # 10443 - 5157 + 5285 in MHz\n",
    "Hd = lambda t: Omega * np.cos(2*pi*wd*t)* b1t\n",
    "Hd_D = lambda t: U.dag() * Hd(t) * U\n",
    "\n",
    "# To rotating frame\n",
    "R = lambda t: (-1j*2*pi*wd*ntot*t).expm()\n",
    "HR = lambda t: R(t).dag() * (H2 + Hd_D(t)) * R(t) - ntot *wd\n",
    "\n",
    "# average over 10 period\n",
    "t_list = np.linspace(0, 2, 401)*1e-3  # in us\n",
    "HR_list = [HR(t) for t in t_list]\n",
    "H_R = functools.reduce(operator.add, HR_list) / len(HR_list)\n",
    "H_R"
   ]
  },
  {
   "cell_type": "code",
   "execution_count": 208,
   "metadata": {},
   "outputs": [
    {
     "data": {
      "text/latex": [
       "Quantum object: dims = [[10], [10]], shape = (10, 10), type = oper, isherm = True\\begin{equation*}\\left(\\begin{array}{*{11}c}0.0 & 0.0 & 0.0 & 0.0 & 0.0 & 0.0 & 0.0 & 0.0 & 0.0 & 0.0\\\\0.0 & 1.0 & 0.0 & 0.0 & 0.0 & 0.0 & 0.0 & 0.0 & 0.0 & 0.0\\\\0.0 & 0.0 & 1.0 & 0.0 & 0.0 & 0.0 & 0.0 & 0.0 & 0.0 & 0.0\\\\0.0 & 0.0 & 0.0 & 2.0 & 0.0 & 0.0 & 0.0 & 0.0 & 0.0 & 0.0\\\\0.0 & 0.0 & 0.0 & 0.0 & 2.0 & 0.0 & 0.0 & 0.0 & 0.0 & 0.0\\\\0.0 & 0.0 & 0.0 & 0.0 & 0.0 & 2.0 & 0.0 & 0.0 & 0.0 & 0.0\\\\0.0 & 0.0 & 0.0 & 0.0 & 0.0 & 0.0 & 3.000 & 0.0 & 0.0 & 0.0\\\\0.0 & 0.0 & 0.0 & 0.0 & 0.0 & 0.0 & 0.0 & 3.0 & 0.0 & 0.0\\\\0.0 & 0.0 & 0.0 & 0.0 & 0.0 & 0.0 & 0.0 & 0.0 & 3.0 & 0.0\\\\0.0 & 0.0 & 0.0 & 0.0 & 0.0 & 0.0 & 0.0 & 0.0 & 0.0 & 3.000\\\\\\end{array}\\right)\\end{equation*}"
      ],
      "text/plain": [
       "Quantum object: dims = [[10], [10]], shape = (10, 10), type = oper, isherm = True\n",
       "Qobj data =\n",
       "[[0. 0. 0. 0. 0. 0. 0. 0. 0. 0.]\n",
       " [0. 1. 0. 0. 0. 0. 0. 0. 0. 0.]\n",
       " [0. 0. 1. 0. 0. 0. 0. 0. 0. 0.]\n",
       " [0. 0. 0. 2. 0. 0. 0. 0. 0. 0.]\n",
       " [0. 0. 0. 0. 2. 0. 0. 0. 0. 0.]\n",
       " [0. 0. 0. 0. 0. 2. 0. 0. 0. 0.]\n",
       " [0. 0. 0. 0. 0. 0. 3. 0. 0. 0.]\n",
       " [0. 0. 0. 0. 0. 0. 0. 3. 0. 0.]\n",
       " [0. 0. 0. 0. 0. 0. 0. 0. 3. 0.]\n",
       " [0. 0. 0. 0. 0. 0. 0. 0. 0. 3.]]"
      ]
     },
     "execution_count": 208,
     "metadata": {},
     "output_type": "execute_result"
    }
   ],
   "source": [
    "# aaa= [HR(t)[3,1] for t in t_list] \n",
    "# plt.plot(t_list, aaa)\n",
    "H2+Hd(0)\n",
    "ntot"
   ]
  },
  {
   "cell_type": "code",
   "execution_count": 209,
   "metadata": {},
   "outputs": [],
   "source": [
    "avg_list = []\n",
    "for N in range(2,401):\n",
    "    temp = (functools.reduce(operator.add,[HR_list[i] for i in range(N)]) / N)\n",
    "    temp = np.real(temp[0,1])\n",
    "    avg_list.append(temp)\n",
    "    "
   ]
  },
  {
   "cell_type": "code",
   "execution_count": 210,
   "metadata": {},
   "outputs": [
    {
     "data": {
      "text/plain": [
       "[<matplotlib.lines.Line2D at 0x7f1d0dd3ee20>]"
      ]
     },
     "execution_count": 210,
     "metadata": {},
     "output_type": "execute_result"
    }
   ],
   "source": [
    " plt.plot(avg_list)\n",
    "    \n",
    "# f=np.fft.fft(avg_list)\n",
    "# plt.plot(np.absolute(f))\n",
    "# plt.yscale('log')"
   ]
  },
  {
   "cell_type": "code",
   "execution_count": 132,
   "metadata": {},
   "outputs": [],
   "source": [
    "from sympy import I\n",
    "Omega = 10\n",
    "wd = sympy.Symbol('wd')\n",
    "t = sympy.Symbol('t')\n",
    "\n",
    "Hd = Omega * (sympy.exp(-I*wd*t) + sympy.exp(I*wd*t))/2 * sympy.Matrix(b1t.data.toarray())\n",
    "Hdt = (U.dag()).data.toarray() * Hd * U.data.toarray()\n",
    "\n",
    "Htot = H2.data.toarray() + Hdt\n",
    "\n",
    "Ur = sympy.exp(-I*wd *sympy.Matrix(ntot.data.toarray())*t)\n",
    "Urdag = sympy.exp(I*wd *sympy.Matrix(ntot.data.toarray())*t)\n",
    "H3t = Urdag * Htot * Ur -  sympy.Matrix(ntot.data.toarray())\n",
    "\n",
    "H3t_RWA = sympy.simplify(H3t).subs(sympy.exp(-2*I*wd*t),0)"
   ]
  },
  {
   "cell_type": "code",
   "execution_count": 133,
   "metadata": {},
   "outputs": [
    {
     "data": {
      "text/latex": [
       "$\\displaystyle \\left[\\begin{matrix}0 & \\tilde{\\infty} & \\tilde{\\infty} & 0 & 0 & 0 & 0 & 0 & 0 & 0\\\\4.99334164448514 & 5156.98568041008 & 0 & \\tilde{\\infty} & \\tilde{\\infty} & \\tilde{\\infty} & 0 & 0 & 0 & 0\\\\0.257951975085346 & 0 & 5284.94056072468 & \\tilde{\\infty} & \\tilde{\\infty} & \\tilde{\\infty} & 0 & 0 & 0 & 0\\\\0 & -0.0167909850402803 & 0.205920111856128 & 10242.929874963 & 0 & 0 & \\tilde{\\infty} & \\tilde{\\infty} & \\tilde{\\infty} & \\tilde{\\infty}\\\\0 & -0.470187676635091 & 4.97583307954979 & 0 & 10441.8481628593 & 0 & \\tilde{\\infty} & \\tilde{\\infty} & \\tilde{\\infty} & \\tilde{\\infty}\\\\0 & -7.05068098768562 & -0.514996401387033 & 0 & 0 & 10902.1752019878 & \\tilde{\\infty} & \\tilde{\\infty} & \\tilde{\\infty} & \\tilde{\\infty}\\\\0 & 0 & 0 & 0.0808831199757595 & -0.00181441801882665 & 4.07686162342018 \\cdot 10^{-5} & 14833.6495466234 & 0 & 0 & 0\\\\0 & 0 & 0 & -5.00048040613988 & 0.0437054612032167 & -0.00522063146542874 & 0 & 15400.3288406391 & 0 & 0\\\\0 & 0 & 0 & 0.176604341179374 & 7.06142332993868 & 0.520572386690441 & 0 & 0 & 16181.4190409018 & 0\\\\0 & 0 & 0 & 0.0122296784986736 & 0.338198732622567 & -8.643280674438 & 0 & 0 & 0 & 16928.4353487019\\end{matrix}\\right]$"
      ],
      "text/plain": [
       "Matrix([\n",
       "[                0,                 zoo,                zoo,                  0,                    0,                    0,                0,                0,                0,                0],\n",
       "[ 4.99334164448514,    5156.98568041008,                  0,                zoo,                  zoo,                  zoo,                0,                0,                0,                0],\n",
       "[0.257951975085346,                   0,   5284.94056072468,                zoo,                  zoo,                  zoo,                0,                0,                0,                0],\n",
       "[                0, -0.0167909850402803,  0.205920111856128,    10242.929874963,                    0,                    0,              zoo,              zoo,              zoo,              zoo],\n",
       "[                0,  -0.470187676635091,   4.97583307954979,                  0,     10441.8481628593,                    0,              zoo,              zoo,              zoo,              zoo],\n",
       "[                0,   -7.05068098768562, -0.514996401387033,                  0,                    0,     10902.1752019878,              zoo,              zoo,              zoo,              zoo],\n",
       "[                0,                   0,                  0, 0.0808831199757595, -0.00181441801882665,  4.07686162342018e-5, 14833.6495466234,                0,                0,                0],\n",
       "[                0,                   0,                  0,  -5.00048040613988,   0.0437054612032167, -0.00522063146542874,                0, 15400.3288406391,                0,                0],\n",
       "[                0,                   0,                  0,  0.176604341179374,     7.06142332993868,    0.520572386690441,                0,                0, 16181.4190409018,                0],\n",
       "[                0,                   0,                  0, 0.0122296784986736,    0.338198732622567,      -8.643280674438,                0,                0,                0, 16928.4353487019]])"
      ]
     },
     "execution_count": 133,
     "metadata": {},
     "output_type": "execute_result"
    }
   ],
   "source": [
    "sympy.simplify(H3t).subs([(sympy.exp(2*I*wd*t),0), (sympy.oo,0)])\n"
   ]
  },
  {
   "cell_type": "markdown",
   "metadata": {},
   "source": [
    "## Least action"
   ]
  },
  {
   "cell_type": "code",
   "execution_count": 243,
   "metadata": {},
   "outputs": [
    {
     "data": {
      "text/latex": [
       "Quantum object: dims = [[10], [10]], shape = (10, 10), type = oper, isherm = True\\begin{equation*}\\left(\\begin{array}{*{11}c}0.002 & (0.026-9.819\\times10^{-05}j) & 0.0 & 0.0 & 0.0 & 0.0 & 0.0 & 0.0 & 0.0 & 0.0\\\\(0.026+9.819\\times10^{-05}j) & 0.041 & 0.0 & 0.0 & 0.0 & 0.0 & 0.0 & 0.0 & 0.0 & 0.0\\\\0.0 & 0.0 & -127.919 & (-0.047+1.790\\times10^{-04}j) & 0.0 & 0.0 & 0.0 & 0.0 & 0.0 & 0.0\\\\0.0 & 0.0 & (-0.047-1.790\\times10^{-04}j) & -127.958 & 0.0 & 0.0 & 0.0 & 0.0 & 0.0 & 0.0\\\\0.0 & 0.0 & 0.0 & 0.0 & -326.873 & -1.689\\times10^{-06} & (0.008-3.079\\times10^{-05}j) & (-0.504+0.002j) & (0.018-6.723\\times10^{-05}j) & (0.001-4.656\\times10^{-06}j)\\\\0.0 & 0.0 & 0.0 & 0.0 & -1.689\\times10^{-06} & 332.373 & 4.109\\times10^{-06} & (-5.262\\times10^{-04}+1.987\\times10^{-06}j) & (0.052-1.982\\times10^{-04}j) & (-0.871+0.003j)\\\\0.0 & 0.0 & 0.0 & 0.0 & (0.008+3.079\\times10^{-05}j) & 4.109\\times10^{-06} & -1.021\\times10^{+03} & 0.0 & 0.0 & 0.0\\\\0.0 & 0.0 & 0.0 & 0.0 & (-0.504-0.002j) & (-5.262\\times10^{-04}-1.987\\times10^{-06}j) & 0.0 & -454.376 & -1.355\\times10^{-06} & -1.675\\times10^{-07}\\\\0.0 & 0.0 & 0.0 & 0.0 & (0.018+6.723\\times10^{-05}j) & (0.052+1.982\\times10^{-04}j) & 0.0 & -1.355\\times10^{-06} & 326.716 & 3.677\\times10^{-05}\\\\0.0 & 0.0 & 0.0 & 0.0 & (0.001+4.656\\times10^{-06}j) & (-0.871-0.003j) & 0.0 & -1.675\\times10^{-07} & 3.677\\times10^{-05} & 1.074\\times10^{+03}\\\\\\end{array}\\right)\\end{equation*}"
      ],
      "text/plain": [
       "Quantum object: dims = [[10], [10]], shape = (10, 10), type = oper, isherm = True\n",
       "Qobj data =\n",
       "[[ 1.97993647e-03+0.00000000e+00j  2.59963234e-02-9.81947541e-05j\n",
       "   0.00000000e+00+0.00000000e+00j  0.00000000e+00+0.00000000e+00j\n",
       "   0.00000000e+00+0.00000000e+00j  0.00000000e+00+0.00000000e+00j\n",
       "   0.00000000e+00+0.00000000e+00j  0.00000000e+00+0.00000000e+00j\n",
       "   0.00000000e+00+0.00000000e+00j  0.00000000e+00+0.00000000e+00j]\n",
       " [ 2.59963234e-02+9.81947541e-05j  4.09972254e-02+0.00000000e+00j\n",
       "   0.00000000e+00+0.00000000e+00j  0.00000000e+00+0.00000000e+00j\n",
       "   0.00000000e+00+0.00000000e+00j  0.00000000e+00+0.00000000e+00j\n",
       "   0.00000000e+00+0.00000000e+00j  0.00000000e+00+0.00000000e+00j\n",
       "   0.00000000e+00+0.00000000e+00j  0.00000000e+00+0.00000000e+00j]\n",
       " [ 0.00000000e+00+0.00000000e+00j  0.00000000e+00+0.00000000e+00j\n",
       "  -1.27918918e+02+0.00000000e+00j -4.73867614e-02+1.78991902e-04j\n",
       "   0.00000000e+00+0.00000000e+00j  0.00000000e+00+0.00000000e+00j\n",
       "   0.00000000e+00+0.00000000e+00j  0.00000000e+00+0.00000000e+00j\n",
       "   0.00000000e+00+0.00000000e+00j  0.00000000e+00+0.00000000e+00j]\n",
       " [ 0.00000000e+00+0.00000000e+00j  0.00000000e+00+0.00000000e+00j\n",
       "  -4.73867614e-02-1.78991902e-04j -1.27957960e+02+0.00000000e+00j\n",
       "   0.00000000e+00+0.00000000e+00j  0.00000000e+00+0.00000000e+00j\n",
       "   0.00000000e+00+0.00000000e+00j  0.00000000e+00+0.00000000e+00j\n",
       "   0.00000000e+00+0.00000000e+00j  0.00000000e+00+0.00000000e+00j]\n",
       " [ 0.00000000e+00+0.00000000e+00j  0.00000000e+00+0.00000000e+00j\n",
       "   0.00000000e+00+0.00000000e+00j  0.00000000e+00+0.00000000e+00j\n",
       "  -3.26873170e+02+0.00000000e+00j -1.68903372e-06+0.00000000e+00j\n",
       "   8.15186852e-03-3.07916897e-05j -5.03977334e-01+1.90365111e-03j\n",
       "   1.77993519e-02-6.72326989e-05j  1.23258324e-03-4.65579192e-06j]\n",
       " [ 0.00000000e+00+0.00000000e+00j  0.00000000e+00+0.00000000e+00j\n",
       "   0.00000000e+00+0.00000000e+00j  0.00000000e+00+0.00000000e+00j\n",
       "  -1.68903372e-06+0.00000000e+00j  3.32373264e+02+0.00000000e+00j\n",
       "   4.10891638e-06+0.00000000e+00j -5.26163473e-04+1.98745567e-06j\n",
       "   5.24661792e-02-1.98178161e-04j -8.71119417e-01+3.29044056e-03j]\n",
       " [ 0.00000000e+00+0.00000000e+00j  0.00000000e+00+0.00000000e+00j\n",
       "   0.00000000e+00+0.00000000e+00j  0.00000000e+00+0.00000000e+00j\n",
       "   8.15186852e-03+3.07916897e-05j  4.10891638e-06+0.00000000e+00j\n",
       "  -1.02105502e+03+0.00000000e+00j  0.00000000e+00+0.00000000e+00j\n",
       "   0.00000000e+00+0.00000000e+00j  0.00000000e+00+0.00000000e+00j]\n",
       " [ 0.00000000e+00+0.00000000e+00j  0.00000000e+00+0.00000000e+00j\n",
       "   0.00000000e+00+0.00000000e+00j  0.00000000e+00+0.00000000e+00j\n",
       "  -5.03977334e-01-1.90365111e-03j -5.26163473e-04-1.98745567e-06j\n",
       "   0.00000000e+00+0.00000000e+00j -4.54375724e+02+0.00000000e+00j\n",
       "  -1.35476390e-06+0.00000000e+00j -1.67527017e-07+0.00000000e+00j]\n",
       " [ 0.00000000e+00+0.00000000e+00j  0.00000000e+00+0.00000000e+00j\n",
       "   0.00000000e+00+0.00000000e+00j  0.00000000e+00+0.00000000e+00j\n",
       "   1.77993519e-02+6.72326989e-05j  5.24661792e-02+1.98178161e-04j\n",
       "   0.00000000e+00+0.00000000e+00j -1.35476390e-06+0.00000000e+00j\n",
       "   3.26715590e+02+0.00000000e+00j  3.67709584e-05+0.00000000e+00j]\n",
       " [ 0.00000000e+00+0.00000000e+00j  0.00000000e+00+0.00000000e+00j\n",
       "   0.00000000e+00+0.00000000e+00j  0.00000000e+00+0.00000000e+00j\n",
       "   1.23258324e-03+4.65579192e-06j -8.71119417e-01-3.29044056e-03j\n",
       "   0.00000000e+00+0.00000000e+00j -1.67527017e-07+0.00000000e+00j\n",
       "   3.67709584e-05+0.00000000e+00j  1.07373078e+03+0.00000000e+00j]]"
      ]
     },
     "execution_count": 243,
     "metadata": {},
     "output_type": "execute_result"
    }
   ],
   "source": [
    "# least action\n",
    "eigen = H_R.eigenstates()\n",
    "\n",
    "# find X\n",
    "X = sorted_diag_op(eigen)\n",
    "\n",
    "# find X_BD and XP\n",
    "A, B, C = X[0:2,0:2], X[2:4, 2:4], X[4:10, 4:10]\n",
    "X_BD_array = block_diag(A,B,C)\n",
    "X_BD = Qobj(X_BD_array)\n",
    "# X_BD = X_BD.tidyup(atol=1e-3)\n",
    "XP = X_BD * X_BD.conj().trans()\n",
    "\n",
    "# find T\n",
    "T = X * X_BD.dag() * XP.sqrtm().inv()\n",
    "\n",
    "# find H_R_BD\n",
    "T.dims = H_R.dims\n",
    "H_R_BD =  T.dag() * H_R * T\n",
    "H_R_BD.tidyup(1e-7)"
   ]
  },
  {
   "cell_type": "markdown",
   "metadata": {},
   "source": [
    "## Pauli coefficient"
   ]
  },
  {
   "cell_type": "code",
   "execution_count": 245,
   "metadata": {},
   "outputs": [
    {
     "data": {
      "text/latex": [
       "$\\displaystyle \\left[\\begin{matrix}-63.958475\\\\-0.02139\\\\-8.1 \\cdot 10^{-5}\\\\1.2 \\cdot 10^{-5}\\\\127.959928\\\\0.073383\\\\0.000277\\\\-0.03903\\end{matrix}\\right]$"
      ],
      "text/plain": [
       "Matrix([\n",
       "[-63.958475],\n",
       "[  -0.02139],\n",
       "[   -8.1e-5],\n",
       "[    1.2e-5],\n",
       "[127.959928],\n",
       "[  0.073383],\n",
       "[  0.000277],\n",
       "[  -0.03903]])"
      ]
     },
     "execution_count": 245,
     "metadata": {},
     "output_type": "execute_result"
    }
   ],
   "source": [
    "def from16to8(M):\n",
    "    return np.array([M[0,0],M[1,0],M[0,1],M[1,1],M[2,2],M[3,2],M[2,3],M[3,3]]).reshape(8,1)\n",
    "\n",
    "# Get Pauli coeff.\n",
    "II = tensor(qeye(2), qeye(2))\n",
    "IX = tensor(qeye(2), sigmax())\n",
    "IY = tensor(qeye(2), sigmay())\n",
    "IZ = tensor(qeye(2), sigmaz())\n",
    "ZI = tensor(sigmaz(), qeye(2))\n",
    "ZY = tensor(sigmaz(), sigmay())\n",
    "ZX = tensor(sigmaz(), sigmax())\n",
    "ZZ = tensor(sigmaz(), sigmaz())\n",
    "\n",
    "a = np.column_stack([from16to8(II),from16to8(IX)/2,from16to8(IY)/2,from16to8(IZ)/2\n",
    "                    ,from16to8(ZI)/2,from16to8(ZX)/2,from16to8(ZY)/2,from16to8(ZZ)/2])\n",
    "\n",
    "b = from16to8(H_R_BD[0:4, 0:4])\n",
    "\n",
    "c = np.linalg.solve(a, b)\n",
    "sympy.Matrix(np.round(c,6))"
   ]
  },
  {
   "cell_type": "markdown",
   "metadata": {},
   "source": [
    "# Helper"
   ]
  },
  {
   "cell_type": "code",
   "execution_count": 262,
   "metadata": {},
   "outputs": [
    {
     "data": {
      "text/plain": [
       "OrderedDict([((0, 0), 0),\n",
       "             ((1, 0), 5.05),\n",
       "             ((0, 1), 5.25),\n",
       "             ((0, 2), 10.17),\n",
       "             ((1, 1), 10.3),\n",
       "             ((2, 0), 10.7),\n",
       "             ((0, 3), 15.05),\n",
       "             ((1, 2), 15.219999999999999),\n",
       "             ((2, 1), 15.95),\n",
       "             ((3, 0), 16.25),\n",
       "             ((1, 3), 20.1),\n",
       "             ((2, 2), 20.869999999999997),\n",
       "             ((3, 1), 21.5),\n",
       "             ((2, 3), 25.75),\n",
       "             ((3, 2), 26.42),\n",
       "             ((3, 3), 31.3)])"
      ]
     },
     "execution_count": 262,
     "metadata": {},
     "output_type": "execute_result"
    }
   ],
   "source": [
    "from collections import OrderedDict\n",
    "import itertools\n",
    "\n",
    "def list_energies(f1,alpha1, beta1, f2, alpha2, beta2, sort=False):\n",
    "    \"\"\"\n",
    "    Calculate energy levels. E00 = 0\n",
    "    \"\"\"\n",
    "    numStates = 4 # 0,1,2,3 states\n",
    "    state1 = [0, f1, f1+f1+alpha1,f1+f1+f1+alpha1+beta1]\n",
    "    state2 = [0, f2, f2+f2+alpha2,f2+f2+f2+alpha2+beta2]\n",
    "    \n",
    "    result_dict = {}\n",
    "    for prod in itertools.product(range(numStates), range(numStates)):\n",
    "        temp = {prod:state1[prod[0]] + state2[prod[1]]}\n",
    "        result_dict.update(temp)\n",
    "    \n",
    "    if sort:\n",
    "        sorted_dict = OrderedDict(sorted(result_dict.items(), key=lambda x: x[1]))\n",
    "        return sorted_dict\n",
    "    else:\n",
    "        return result_dict\n",
    "    \n",
    "list_energies(5.05, 0.6, 0.5, 5.25,-0.33, -0.37,sort=True)    \n",
    "# list_energies(5.25,-0.33, -0.37, 5.05, -0.3, -0.33, sort=True)    "
   ]
  },
  {
   "cell_type": "code",
   "execution_count": 242,
   "metadata": {},
   "outputs": [],
   "source": [
    "def sorted_diag_op(eigen):\n",
    "    \"\"\"\n",
    "    Diagonalizing matrix by the order of eigenvector\n",
    "    \n",
    "    Args:\n",
    "        eigen : output of eigenstates() method in qutip\n",
    "       \n",
    "    Return: a new diagonalizing operator Qobj\n",
    "    \"\"\"\n",
    "       \n",
    "    index_list = [np.argmax(np.absolute(vec)) for vec in eigen[1]]\n",
    "    \n",
    "    X_array = np.column_stack([eigen[1][index_list.index(i)] for i in range(eigen[1].size)])\n",
    "    X = Qobj(X_array)\n",
    "    \n",
    "    return X"
   ]
  },
  {
   "cell_type": "code",
   "execution_count": null,
   "metadata": {},
   "outputs": [],
   "source": []
  }
 ],
 "metadata": {
  "kernelspec": {
   "display_name": "Python 3",
   "language": "python",
   "name": "python3"
  },
  "language_info": {
   "codemirror_mode": {
    "name": "ipython",
    "version": 3
   },
   "file_extension": ".py",
   "mimetype": "text/x-python",
   "name": "python",
   "nbconvert_exporter": "python",
   "pygments_lexer": "ipython3",
   "version": "3.8.2"
  },
  "toc": {
   "base_numbering": 1,
   "nav_menu": {},
   "number_sections": true,
   "sideBar": true,
   "skip_h1_title": false,
   "title_cell": "Table of Contents",
   "title_sidebar": "Contents",
   "toc_cell": false,
   "toc_position": {
    "height": "calc(100% - 180px)",
    "left": "10px",
    "top": "150px",
    "width": "169.208px"
   },
   "toc_section_display": true,
   "toc_window_display": true
  }
 },
 "nbformat": 4,
 "nbformat_minor": 4
}
