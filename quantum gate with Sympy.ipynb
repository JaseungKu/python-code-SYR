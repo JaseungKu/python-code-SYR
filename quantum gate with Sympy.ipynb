{
 "cells": [
  {
   "cell_type": "code",
   "execution_count": 12,
   "metadata": {},
   "outputs": [],
   "source": [
    "from sympy import *\n",
    "from sympy.abc import alpha, beta, theta\n",
    "import qutip as q\n",
    "init_printing()"
   ]
  },
  {
   "cell_type": "code",
   "execution_count": 13,
   "metadata": {},
   "outputs": [],
   "source": [
    "# Symbol\n",
    "th = Symbol('th')"
   ]
  },
  {
   "cell_type": "code",
   "execution_count": 14,
   "metadata": {},
   "outputs": [],
   "source": [
    "I0 = Matrix([[1,0],[0,1]])\n",
    "X = Matrix([[0,1],[1,0]])\n",
    "Y = Matrix([[0,-I],[I,0]])\n",
    "Z = Matrix([[1,0],[0,-1]])\n",
    "IX = kronecker_product(I0, X)\n",
    "IZ = kronecker_product(I0, Z)\n",
    "ZX = kronecker_product(Z, X)\n",
    "ZI = kronecker_product(Z, I0)\n",
    "ZZ = kronecker_product(Z, Z)\n",
    "XX = kronecker_product(X, X)\n",
    "YY = kronecker_product(Y, Y)\n",
    "\n",
    "R_X = lambda theta: exp(-I*theta*X/2)\n",
    "R_Y = lambda theta: exp(-I*theta*Y/2)\n",
    "R_Z = lambda theta: exp(-I*theta*Z/2)\n",
    "\n",
    "R_ZI = lambda theta: exp(-I*theta*ZI/2)\n",
    "R_IX = lambda theta: exp(-I*theta*IX/2)\n",
    "R_ZX = lambda theta: exp(-I*theta*ZX/2)\n",
    "R_ZZ = lambda theta: exp(-I*theta*ZZ/2)\n",
    "\n",
    "comm = lambda x, y: x*y - y*x  # commutator"
   ]
  },
  {
   "cell_type": "code",
   "execution_count": 15,
   "metadata": {},
   "outputs": [
    {
     "data": {
      "text/latex": [
       "$$\\left[\\begin{matrix}1 & 0 & 0 & 0\\\\0 & 1 & 0 & 0\\\\0 & 0 & e^{i \\theta} & 0\\\\0 & 0 & 0 & e^{i \\theta}\\end{matrix}\\right]$$"
      ],
      "text/plain": [
       "⎡1  0   0     0  ⎤\n",
       "⎢                ⎥\n",
       "⎢0  1   0     0  ⎥\n",
       "⎢                ⎥\n",
       "⎢       ⅈ⋅θ      ⎥\n",
       "⎢0  0  ℯ      0  ⎥\n",
       "⎢                ⎥\n",
       "⎢             ⅈ⋅θ⎥\n",
       "⎣0  0   0    ℯ   ⎦"
      ]
     },
     "execution_count": 15,
     "metadata": {},
     "output_type": "execute_result"
    }
   ],
   "source": [
    "simplify(R_ZI(theta)) / exp(-I*theta/2)"
   ]
  },
  {
   "cell_type": "code",
   "execution_count": 10,
   "metadata": {},
   "outputs": [
    {
     "data": {
      "text/latex": [
       "$$\\left[\\begin{matrix}\\cos{\\left (\\frac{\\theta}{2} \\right )} & - i \\sin{\\left (\\frac{\\theta}{2} \\right )} & 0 & 0\\\\- i \\sin{\\left (\\frac{\\theta}{2} \\right )} & \\cos{\\left (\\frac{\\theta}{2} \\right )} & 0 & 0\\\\0 & 0 & \\cos{\\left (\\frac{\\theta}{2} \\right )} & - i \\sin{\\left (\\frac{\\theta}{2} \\right )}\\\\0 & 0 & - i \\sin{\\left (\\frac{\\theta}{2} \\right )} & \\cos{\\left (\\frac{\\theta}{2} \\right )}\\end{matrix}\\right]$$"
      ],
      "text/plain": [
       "⎡    ⎛θ⎞          ⎛θ⎞                      ⎤\n",
       "⎢ cos⎜─⎟    -ⅈ⋅sin⎜─⎟      0          0    ⎥\n",
       "⎢    ⎝2⎠          ⎝2⎠                      ⎥\n",
       "⎢                                          ⎥\n",
       "⎢      ⎛θ⎞      ⎛θ⎞                        ⎥\n",
       "⎢-ⅈ⋅sin⎜─⎟   cos⎜─⎟        0          0    ⎥\n",
       "⎢      ⎝2⎠      ⎝2⎠                        ⎥\n",
       "⎢                                          ⎥\n",
       "⎢                          ⎛θ⎞          ⎛θ⎞⎥\n",
       "⎢    0          0       cos⎜─⎟    -ⅈ⋅sin⎜─⎟⎥\n",
       "⎢                          ⎝2⎠          ⎝2⎠⎥\n",
       "⎢                                          ⎥\n",
       "⎢                            ⎛θ⎞      ⎛θ⎞  ⎥\n",
       "⎢    0          0      -ⅈ⋅sin⎜─⎟   cos⎜─⎟  ⎥\n",
       "⎣                            ⎝2⎠      ⎝2⎠  ⎦"
      ]
     },
     "execution_count": 10,
     "metadata": {},
     "output_type": "execute_result"
    }
   ],
   "source": [
    "simplify(R_IX(theta)) "
   ]
  },
  {
   "cell_type": "code",
   "execution_count": 9,
   "metadata": {},
   "outputs": [
    {
     "data": {
      "text/latex": [
       "$$\\left[\\begin{matrix}e^{- \\frac{i \\theta}{2}} & 0 & 0 & 0\\\\0 & e^{\\frac{i \\theta}{2}} & 0 & 0\\\\0 & 0 & e^{\\frac{i \\theta}{2}} & 0\\\\0 & 0 & 0 & e^{- \\frac{i \\theta}{2}}\\end{matrix}\\right]$$"
      ],
      "text/plain": [
       "⎡ -ⅈ⋅θ                     ⎤\n",
       "⎢ ─────                    ⎥\n",
       "⎢   2                      ⎥\n",
       "⎢ℯ        0     0      0   ⎥\n",
       "⎢                          ⎥\n",
       "⎢         ⅈ⋅θ              ⎥\n",
       "⎢         ───              ⎥\n",
       "⎢          2               ⎥\n",
       "⎢  0     ℯ      0      0   ⎥\n",
       "⎢                          ⎥\n",
       "⎢               ⅈ⋅θ        ⎥\n",
       "⎢               ───        ⎥\n",
       "⎢                2         ⎥\n",
       "⎢  0      0    ℯ       0   ⎥\n",
       "⎢                          ⎥\n",
       "⎢                     -ⅈ⋅θ ⎥\n",
       "⎢                     ─────⎥\n",
       "⎢                       2  ⎥\n",
       "⎣  0      0     0    ℯ     ⎦"
      ]
     },
     "execution_count": 9,
     "metadata": {},
     "output_type": "execute_result"
    }
   ],
   "source": [
    "simplify(R_ZZ(theta)) # / exp(-I*theta/2)"
   ]
  },
  {
   "cell_type": "markdown",
   "metadata": {},
   "source": [
    "# CR gate"
   ]
  },
  {
   "cell_type": "code",
   "execution_count": 6,
   "metadata": {},
   "outputs": [
    {
     "data": {
      "text/latex": [
       "$$\\left[\\begin{matrix}e^{- \\frac{i \\theta}{2}} & 0 & 0 & 0\\\\0 & e^{\\frac{i \\theta}{2}} & 0 & 0\\\\0 & 0 & e^{\\frac{i \\theta}{2}} & 0\\\\0 & 0 & 0 & e^{- \\frac{i \\theta}{2}}\\end{matrix}\\right]$$"
      ],
      "text/plain": [
       "⎡ -ⅈ⋅θ                     ⎤\n",
       "⎢ ─────                    ⎥\n",
       "⎢   2                      ⎥\n",
       "⎢ℯ        0     0      0   ⎥\n",
       "⎢                          ⎥\n",
       "⎢         ⅈ⋅θ              ⎥\n",
       "⎢         ───              ⎥\n",
       "⎢          2               ⎥\n",
       "⎢  0     ℯ      0      0   ⎥\n",
       "⎢                          ⎥\n",
       "⎢               ⅈ⋅θ        ⎥\n",
       "⎢               ───        ⎥\n",
       "⎢                2         ⎥\n",
       "⎢  0      0    ℯ       0   ⎥\n",
       "⎢                          ⎥\n",
       "⎢                     -ⅈ⋅θ ⎥\n",
       "⎢                     ─────⎥\n",
       "⎢                       2  ⎥\n",
       "⎣  0      0     0    ℯ     ⎦"
      ]
     },
     "execution_count": 6,
     "metadata": {},
     "output_type": "execute_result"
    }
   ],
   "source": [
    "simplify(R_ZZ(theta))"
   ]
  },
  {
   "cell_type": "code",
   "execution_count": 58,
   "metadata": {},
   "outputs": [
    {
     "data": {
      "text/latex": [
       "$$\\left[\\begin{matrix}\\cos{\\left (\\frac{\\theta}{2} \\right )} & - i \\sin{\\left (\\frac{\\theta}{2} \\right )} & 0 & 0\\\\- i \\sin{\\left (\\frac{\\theta}{2} \\right )} & \\cos{\\left (\\frac{\\theta}{2} \\right )} & 0 & 0\\\\0 & 0 & \\cos{\\left (\\frac{\\theta}{2} \\right )} & i \\sin{\\left (\\frac{\\theta}{2} \\right )}\\\\0 & 0 & i \\sin{\\left (\\frac{\\theta}{2} \\right )} & \\cos{\\left (\\frac{\\theta}{2} \\right )}\\end{matrix}\\right]$$"
      ],
      "text/plain": [
       "⎡    ⎛θ⎞          ⎛θ⎞                    ⎤\n",
       "⎢ cos⎜─⎟    -ⅈ⋅sin⎜─⎟     0         0    ⎥\n",
       "⎢    ⎝2⎠          ⎝2⎠                    ⎥\n",
       "⎢                                        ⎥\n",
       "⎢      ⎛θ⎞      ⎛θ⎞                      ⎥\n",
       "⎢-ⅈ⋅sin⎜─⎟   cos⎜─⎟       0         0    ⎥\n",
       "⎢      ⎝2⎠      ⎝2⎠                      ⎥\n",
       "⎢                                        ⎥\n",
       "⎢                          ⎛θ⎞        ⎛θ⎞⎥\n",
       "⎢    0          0       cos⎜─⎟   ⅈ⋅sin⎜─⎟⎥\n",
       "⎢                          ⎝2⎠        ⎝2⎠⎥\n",
       "⎢                                        ⎥\n",
       "⎢                           ⎛θ⎞      ⎛θ⎞ ⎥\n",
       "⎢    0          0      ⅈ⋅sin⎜─⎟   cos⎜─⎟ ⎥\n",
       "⎣                           ⎝2⎠      ⎝2⎠ ⎦"
      ]
     },
     "execution_count": 58,
     "metadata": {},
     "output_type": "execute_result"
    }
   ],
   "source": [
    "simplify(R_ZX(theta))"
   ]
  },
  {
   "cell_type": "code",
   "execution_count": 6,
   "metadata": {},
   "outputs": [
    {
     "data": {
      "text/latex": [
       "$$\\left[\\begin{matrix}1 & - i & 0 & 0\\\\- i & 1 & 0 & 0\\\\0 & 0 & 1 & i\\\\0 & 0 & i & 1\\end{matrix}\\right]$$"
      ],
      "text/plain": [
       "⎡1   -ⅈ  0  0⎤\n",
       "⎢            ⎥\n",
       "⎢-ⅈ  1   0  0⎥\n",
       "⎢            ⎥\n",
       "⎢0   0   1  ⅈ⎥\n",
       "⎢            ⎥\n",
       "⎣0   0   ⅈ  1⎦"
      ]
     },
     "execution_count": 6,
     "metadata": {},
     "output_type": "execute_result"
    }
   ],
   "source": [
    "(R_ZX(pi/2)*sqrt(2)).rewrite(cos)"
   ]
  },
  {
   "cell_type": "code",
   "execution_count": 7,
   "metadata": {},
   "outputs": [],
   "source": [
    "CNOT = R_ZX(-pi/2) * R_ZI(pi/2) * R_IX(pi/2)  # CNOT =CX gate"
   ]
  },
  {
   "cell_type": "code",
   "execution_count": 8,
   "metadata": {},
   "outputs": [
    {
     "data": {
      "text/latex": [
       "$$\\left[\\begin{matrix}0 & 0 & 0 & 0\\\\0 & 0 & 0 & 0\\\\0 & 0 & 0 & 0\\\\0 & 0 & 0 & 0\\end{matrix}\\right]$$"
      ],
      "text/plain": [
       "⎡0  0  0  0⎤\n",
       "⎢          ⎥\n",
       "⎢0  0  0  0⎥\n",
       "⎢          ⎥\n",
       "⎢0  0  0  0⎥\n",
       "⎢          ⎥\n",
       "⎣0  0  0  0⎦"
      ]
     },
     "execution_count": 8,
     "metadata": {},
     "output_type": "execute_result"
    }
   ],
   "source": [
    "# ZI, IX, and ZX commute, so do R_ZI, R_IX and R_ZX\n",
    "comm(R_ZI(th), R_IX(th))\n",
    "comm(R_ZX(th), R_IX(th))\n",
    "comm(R_ZX(th), R_ZI(th))"
   ]
  },
  {
   "cell_type": "code",
   "execution_count": 9,
   "metadata": {},
   "outputs": [
    {
     "data": {
      "text/latex": [
       "$$\\left[\\begin{matrix}1 & 0 & 0 & 0\\\\0 & 1 & 0 & 0\\\\0 & 0 & 0 & 1\\\\0 & 0 & 1 & 0\\end{matrix}\\right]$$"
      ],
      "text/plain": [
       "⎡1  0  0  0⎤\n",
       "⎢          ⎥\n",
       "⎢0  1  0  0⎥\n",
       "⎢          ⎥\n",
       "⎢0  0  0  1⎥\n",
       "⎢          ⎥\n",
       "⎣0  0  1  0⎦"
      ]
     },
     "execution_count": 9,
     "metadata": {},
     "output_type": "execute_result"
    }
   ],
   "source": [
    "(CNOT/exp(-I*pi/4)).expand()  # CX gate"
   ]
  },
  {
   "cell_type": "code",
   "execution_count": 10,
   "metadata": {},
   "outputs": [
    {
     "data": {
      "text/latex": [
       "$$\\left[\\begin{matrix}\\frac{\\sqrt{2}}{2}\\\\\\frac{\\sqrt{2}}{2}\\end{matrix}\\right]$$"
      ],
      "text/plain": [
       "⎡√2⎤\n",
       "⎢──⎥\n",
       "⎢2 ⎥\n",
       "⎢  ⎥\n",
       "⎢√2⎥\n",
       "⎢──⎥\n",
       "⎣2 ⎦"
      ]
     },
     "execution_count": 10,
     "metadata": {},
     "output_type": "execute_result"
    }
   ],
   "source": [
    "(R_Y(pi/2)* Matrix([1,0])).rewrite(cos)"
   ]
  },
  {
   "cell_type": "markdown",
   "metadata": {},
   "source": [
    "# Cphase "
   ]
  },
  {
   "cell_type": "code",
   "execution_count": 11,
   "metadata": {},
   "outputs": [],
   "source": [
    "Cphase = lambda theta: exp(-I*theta *(ZZ-IZ-ZI)/4)"
   ]
  },
  {
   "cell_type": "code",
   "execution_count": 12,
   "metadata": {},
   "outputs": [
    {
     "data": {
      "text/latex": [
       "$$\\left[\\begin{matrix}1 & 0 & 0 & 0\\\\0 & 1 & 0 & 0\\\\0 & 0 & 1 & 0\\\\0 & 0 & 0 & e^{- i \\theta}\\end{matrix}\\right]$$"
      ],
      "text/plain": [
       "⎡1  0  0    0  ⎤\n",
       "⎢              ⎥\n",
       "⎢0  1  0    0  ⎥\n",
       "⎢              ⎥\n",
       "⎢0  0  1    0  ⎥\n",
       "⎢              ⎥\n",
       "⎢          -ⅈ⋅θ⎥\n",
       "⎣0  0  0  ℯ    ⎦"
      ]
     },
     "execution_count": 12,
     "metadata": {},
     "output_type": "execute_result"
    }
   ],
   "source": [
    "Cphase(theta)/exp(I*theta/4)"
   ]
  },
  {
   "cell_type": "code",
   "execution_count": 13,
   "metadata": {},
   "outputs": [
    {
     "data": {
      "text/latex": [
       "$$\\left[\\begin{matrix}1 & 0 & 0 & 0\\\\0 & 1 & 0 & 0\\\\0 & 0 & 1 & 0\\\\0 & 0 & 0 & -1\\end{matrix}\\right]$$"
      ],
      "text/plain": [
       "⎡1  0  0  0 ⎤\n",
       "⎢           ⎥\n",
       "⎢0  1  0  0 ⎥\n",
       "⎢           ⎥\n",
       "⎢0  0  1  0 ⎥\n",
       "⎢           ⎥\n",
       "⎣0  0  0  -1⎦"
      ]
     },
     "execution_count": 13,
     "metadata": {},
     "output_type": "execute_result"
    }
   ],
   "source": [
    "Cphase(pi)/exp(I*pi/4)  # CZ gate"
   ]
  },
  {
   "cell_type": "markdown",
   "metadata": {},
   "source": [
    "# iSWAP"
   ]
  },
  {
   "cell_type": "code",
   "execution_count": 14,
   "metadata": {},
   "outputs": [],
   "source": [
    "U_iSWAP = lambda theta: exp(-I*theta *(XX+YY)/2)"
   ]
  },
  {
   "cell_type": "code",
   "execution_count": 15,
   "metadata": {},
   "outputs": [
    {
     "data": {
      "text/latex": [
       "$$\\left[\\begin{matrix}1 & 0 & 0 & 0\\\\0 & \\cos{\\left (\\theta \\right )} & - i \\sin{\\left (\\theta \\right )} & 0\\\\0 & - i \\sin{\\left (\\theta \\right )} & \\cos{\\left (\\theta \\right )} & 0\\\\0 & 0 & 0 & 1\\end{matrix}\\right]$$"
      ],
      "text/plain": [
       "⎡1      0          0      0⎤\n",
       "⎢                          ⎥\n",
       "⎢0   cos(θ)    -ⅈ⋅sin(θ)  0⎥\n",
       "⎢                          ⎥\n",
       "⎢0  -ⅈ⋅sin(θ)   cos(θ)    0⎥\n",
       "⎢                          ⎥\n",
       "⎣0      0          0      1⎦"
      ]
     },
     "execution_count": 15,
     "metadata": {},
     "output_type": "execute_result"
    }
   ],
   "source": [
    "simplify(U_iSWAP(theta))"
   ]
  },
  {
   "cell_type": "code",
   "execution_count": 16,
   "metadata": {},
   "outputs": [
    {
     "data": {
      "text/latex": [
       "$$\\left[\\begin{matrix}1 & 0 & 0 & 0\\\\0 & 0 & - i & 0\\\\0 & - i & 0 & 0\\\\0 & 0 & 0 & 1\\end{matrix}\\right]$$"
      ],
      "text/plain": [
       "⎡1  0   0   0⎤\n",
       "⎢            ⎥\n",
       "⎢0  0   -ⅈ  0⎥\n",
       "⎢            ⎥\n",
       "⎢0  -ⅈ  0   0⎥\n",
       "⎢            ⎥\n",
       "⎣0  0   0   1⎦"
      ]
     },
     "execution_count": 16,
     "metadata": {},
     "output_type": "execute_result"
    }
   ],
   "source": [
    "U_iSWAP(pi/2)  # iSWAP"
   ]
  },
  {
   "cell_type": "code",
   "execution_count": 17,
   "metadata": {},
   "outputs": [
    {
     "data": {
      "text/latex": [
       "$$\\left[\\begin{matrix}1 & 0 & 0 & 0\\\\0 & \\frac{\\sqrt{2}}{2} & - \\frac{\\sqrt{2} i}{2} & 0\\\\0 & - \\frac{\\sqrt{2} i}{2} & \\frac{\\sqrt{2}}{2} & 0\\\\0 & 0 & 0 & 1\\end{matrix}\\right]$$"
      ],
      "text/plain": [
       "⎡1    0       0     0⎤\n",
       "⎢                    ⎥\n",
       "⎢     √2    -√2⋅ⅈ    ⎥\n",
       "⎢0    ──    ──────  0⎥\n",
       "⎢     2       2      ⎥\n",
       "⎢                    ⎥\n",
       "⎢   -√2⋅ⅈ     √2     ⎥\n",
       "⎢0  ──────    ──    0⎥\n",
       "⎢     2       2      ⎥\n",
       "⎢                    ⎥\n",
       "⎣0    0       0     1⎦"
      ]
     },
     "execution_count": 17,
     "metadata": {},
     "output_type": "execute_result"
    }
   ],
   "source": [
    "U_iSWAP(pi/4).rewrite(cos)  # sqrt(iSWAP)"
   ]
  },
  {
   "cell_type": "code",
   "execution_count": 26,
   "metadata": {},
   "outputs": [],
   "source": [
    "from qutip import *\n",
    "import numpy as np\n",
    "from math import pi\n",
    "import matplotlib.pyplot as plt"
   ]
  },
  {
   "cell_type": "code",
   "execution_count": 27,
   "metadata": {},
   "outputs": [],
   "source": [
    "wc = 5.0  * 2 * pi  # cavity frequency\n",
    "wa = 1.0  * 2 * pi  # atom frequency\n",
    "g  = 0.05 * 2 * pi  # coupling strength\n",
    "kappa = 0.005       # cavity dissipation rate\n",
    "gamma = 0.05        # atom dissipation rate\n",
    "N = 15              # number of cavity fock states\n",
    "n_th_a = 0.0        # avg number of thermal bath excitation\n",
    "use_rwa = True\n",
    "\n",
    "tlist = np.linspace(0,25,101)"
   ]
  },
  {
   "cell_type": "code",
   "execution_count": 39,
   "metadata": {},
   "outputs": [],
   "source": [
    "# intial state\n",
    "psi0 = tensor(basis(N,0), basis(2,1))    # start with an excited atom\n",
    "\n",
    "# operators\n",
    "a  = tensor(destroy(N), qeye(2))\n",
    "sm = tensor(qeye(N), destroy(2))\n",
    "\n",
    "# Hamiltonian\n",
    "if use_rwa:\n",
    "    H = wc * a.dag() * a + wa * sm.dag() * sm + g * (a.dag() * sm + a * sm.dag())\n",
    "else:\n",
    "    H = wc * a.dag() * a + wa * sm.dag() * sm + g * (a.dag() + a) * (sm + sm.dag())"
   ]
  },
  {
   "cell_type": "code",
   "execution_count": 40,
   "metadata": {},
   "outputs": [
    {
     "name": "stdout",
     "output_type": "stream",
     "text": [
      "Using matplotlib backend: TkAgg\n"
     ]
    },
    {
     "data": {
      "text/plain": [
       "[<matplotlib.lines.Line2D at 0x7f4650a36748>,\n",
       " <matplotlib.lines.Line2D at 0x7f46509df780>,\n",
       " <matplotlib.lines.Line2D at 0x7f46509dfcf8>]"
      ]
     },
     "execution_count": 40,
     "metadata": {},
     "output_type": "execute_result"
    }
   ],
   "source": [
    "%matplotlib\n",
    "was = np.linspace(1, 10, 101) * 2 *pi\n",
    "E0, E1, E2 =[],[],[]\n",
    "for wa in was:\n",
    "    H = wc * a.dag() * a + wa * sm.dag() * sm + g * (a.dag() * sm + a * sm.dag())\n",
    "    t = H.eigenenergies()\n",
    "    E0.append(t[0])\n",
    "    E1.append(t[1])\n",
    "    E2.append(t[21])\n",
    "plt.plot(was, E0, was, E1, was, E2)"
   ]
  },
  {
   "cell_type": "code",
   "execution_count": null,
   "metadata": {},
   "outputs": [],
   "source": [
    "H.eigenenergies"
   ]
  }
 ],
 "metadata": {
  "kernelspec": {
   "display_name": "Python 3",
   "language": "python",
   "name": "python3"
  },
  "language_info": {
   "codemirror_mode": {
    "name": "ipython",
    "version": 3
   },
   "file_extension": ".py",
   "mimetype": "text/x-python",
   "name": "python",
   "nbconvert_exporter": "python",
   "pygments_lexer": "ipython3",
   "version": "3.8.2"
  },
  "toc": {
   "base_numbering": 1,
   "nav_menu": {},
   "number_sections": true,
   "sideBar": true,
   "skip_h1_title": false,
   "title_cell": "Table of Contents",
   "title_sidebar": "Contents",
   "toc_cell": false,
   "toc_position": {},
   "toc_section_display": true,
   "toc_window_display": false
  }
 },
 "nbformat": 4,
 "nbformat_minor": 2
}
