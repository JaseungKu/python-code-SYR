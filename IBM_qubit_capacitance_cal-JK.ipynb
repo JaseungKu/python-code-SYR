{
 "cells": [
  {
   "cell_type": "code",
   "execution_count": 1,
   "metadata": {
    "code_folding": [
     4,
     68,
     90
    ]
   },
   "outputs": [],
   "source": [
    "import numpy as np\n",
    "from scipy import linalg\n",
    "import matplotlib.pyplot as plt\n",
    "\n",
    "def calculate_qubit_1bus_1read_equiv_cap(C_M, index):\n",
    "    \"\"\"\n",
    "    Calculate effective shunt and coupling capacitance.\n",
    "    Arg:\n",
    "        C_M : Maxewll capacitance matrix\n",
    "        index : index of each conductor in C_M, starting from 0\n",
    "    Return:\n",
    "        Tuple of effective bus, readout and shunt capacitance\n",
    "    \"\"\"\n",
    "    index_bus1 = index['bus1']\n",
    "    index_gnd = index['gnd']\n",
    "    index_island1 = index['island1']\n",
    "    index_island2 = index['island2']\n",
    "    index_read = index['read']\n",
    "    \n",
    "    NUM_CONDUCTOR = C_M.shape[0]\n",
    "    \n",
    "    C_M_1 = np.zeros((NUM_CONDUCTOR, NUM_CONDUCTOR))\n",
    "    C_M_1[:, index_island1] = C_M[:, index_island1]\n",
    "    C_M_1[:, index_island2] = C_M[:, index_island2]\n",
    "    C_M_1[index_bus1, index_bus1] = -1\n",
    "    C_M_1[index_gnd, index_gnd] = -1\n",
    "    C_M_1[index_read, index_read] = -1\n",
    "\n",
    "    b1 = np.linalg.solve(C_M_1, -C_M[:, index_bus1])\n",
    "    beta_bus1 = b1[index_island1] - b1[index_island2]\n",
    "\n",
    "    r = np.linalg.solve(C_M_1, -C_M[:, index_read])\n",
    "    beta_read = r[index_island1] - r[index_island2]\n",
    "    \n",
    "    # Find C_sigma\n",
    "    # V_island1 - V_island2 = 1, Eq.1\n",
    "    # Q_island1 + Q_island2 = 0, Eq.2\n",
    "    # From Eq1 and Eq2, find V_island1 and V_island2 \n",
    "\n",
    "    A = np.array([[1, -1],\n",
    "                 [C_M[index_island1, index_island1]+C_M[index_island2, index_island1]\n",
    "                  , C_M[index_island1, index_island2]+C_M[index_island2, index_island2]]])\n",
    "\n",
    "    b = np.array([[1]\n",
    "                  ,[0]])\n",
    "    V = np.linalg.solve(A, b)  # A*V = b, solve for V[0]=V_island1, V[1]=V_island2\n",
    "\n",
    "    V0 = np.zeros(NUM_CONDUCTOR)\n",
    "    V0[index_island1] = V[0]\n",
    "    V0[index_island2] = V[1]\n",
    "    V0[index_bus1] = 0\n",
    "    V0[index_read] = 0\n",
    "    V0[index_gnd] = 0\n",
    "\n",
    "    Q = C_M.dot(V0)\n",
    "    C_sigma = np.dot(Q, V0)\n",
    "    \n",
    "    # find C_bus1, C_read and C_shunt\n",
    "    A = np.array([[beta_bus1-1, beta_bus1, beta_bus1]\n",
    "                ,[beta_read,  beta_read-1, beta_read]  \n",
    "                ,[1, 1, 1]])\n",
    "    b = np.array([[0]\n",
    "                  ,[0]\n",
    "                 ,[C_sigma]])\n",
    "    c = np.linalg.solve(A, b)\n",
    "      \n",
    "    return c\n",
    "\n",
    "def update_mutual_capacitance(Maxwell_cap_matrix,conductor1_index, conductor2_index, new_cap):\n",
    "    \"\"\"\n",
    "    Args:\n",
    "        Maxwell_cap_matrix: Maxwell capacitance matrix from Q3D\n",
    "        conductor1_index : index of conductor 1\n",
    "        conductor2_index : index of conductor 2\n",
    "        new_cap : new capacitance for replacement\n",
    "    \"\"\"\n",
    "    \n",
    "    if conductor1_index == conductor2_index:\n",
    "        raise('Error. First and second conductor index must be different!')\n",
    "    \n",
    "    M = np.copy(Maxwell_cap_matrix)\n",
    "    \n",
    "    M[conductor1_index, conductor2_index] = -new_cap\n",
    "    M[conductor2_index, conductor1_index] = -new_cap\n",
    "    \n",
    "    for i in range(M.shape[0]):\n",
    "        M[i,i] = -(np.sum(M[i,:]) - M[i,i])\n",
    "        \n",
    "    return M\n",
    "\n",
    "def print_result(c):\n",
    "    c = np.ndarray.flatten(c)\n",
    "    print(f'C_bus1 = {c[0]:.3f} fF\\n' \n",
    "        + f'C_read = {c[1]:.3f} fF\\n'\n",
    "        + f'C_shunt = {c[2]:.3f} fF')"
   ]
  },
  {
   "cell_type": "markdown",
   "metadata": {},
   "source": [
    "# 1-bus, 1-readout"
   ]
  },
  {
   "cell_type": "code",
   "execution_count": 2,
   "metadata": {},
   "outputs": [],
   "source": [
    "# C_M : Maxell capacitance matrix from Q3D\n",
    "C_M = np.array([[107.94, -96.56, -0.72528, -9.7239,-0.041219]\n",
    "               ,[-96.56, 586.48,  -59.967, -55.133, -95.917]\n",
    "               ,[-0.72528, -59.967, 92.027,  -23.543,   -7.0491]\n",
    "               ,[-9.7239, -55.133, -23.543, 98.962,-0.61872]\n",
    "               ,[-0.041219, -95.917,   -7.0491, -0.61872, 103.03]\n",
    "              ])\n",
    "\n",
    "# index dictionary of conductors in input Maxwell capacitance matrix\n",
    "conductor_index = { 'gnd' : 1\n",
    "                   , 'island1' : 2\n",
    "                   , 'island2' : 3\n",
    "                   , 'bus1' : 0\n",
    "                   , 'read' : 4\n",
    "                  }"
   ]
  },
  {
   "cell_type": "code",
   "execution_count": 4,
   "metadata": {},
   "outputs": [
    {
     "name": "stdout",
     "output_type": "stream",
     "text": [
      "C_bus1 = -4.248 fF\n",
      "C_read = 3.400 fF\n",
      "C_shunt = 60.283 fF\n"
     ]
    }
   ],
   "source": [
    "cap_result = calculate_qubit_1bus_1read_equiv_cap(C_M, conductor_index)\n",
    "print_result(cap_result)"
   ]
  },
  {
   "cell_type": "markdown",
   "metadata": {},
   "source": [
    "# update mutual capacitance. No need to change C_M manually"
   ]
  },
  {
   "cell_type": "code",
   "execution_count": 5,
   "metadata": {},
   "outputs": [],
   "source": [
    "C_M_1 = update_mutual_capacitance(C_M, 0, 3, 22)"
   ]
  },
  {
   "cell_type": "code",
   "execution_count": 6,
   "metadata": {},
   "outputs": [
    {
     "name": "stdout",
     "output_type": "stream",
     "text": [
      "C_bus1 = -9.856 fF\n",
      "C_read = 3.479 fF\n",
      "C_shunt = 66.121 fF\n"
     ]
    }
   ],
   "source": [
    "cap_result1 = calculate_qubit_1bus_1read_equiv_cap(C_M_1, conductor_index)\n",
    "print_result(cap_result1)"
   ]
  }
 ],
 "metadata": {
  "kernelspec": {
   "display_name": "Python 3",
   "language": "python",
   "name": "python3"
  },
  "language_info": {
   "codemirror_mode": {
    "name": "ipython",
    "version": 3
   },
   "file_extension": ".py",
   "mimetype": "text/x-python",
   "name": "python",
   "nbconvert_exporter": "python",
   "pygments_lexer": "ipython3",
   "version": "3.8.2"
  },
  "toc": {
   "base_numbering": 1,
   "nav_menu": {},
   "number_sections": true,
   "sideBar": true,
   "skip_h1_title": false,
   "title_cell": "Table of Contents",
   "title_sidebar": "Contents",
   "toc_cell": false,
   "toc_position": {
    "height": "calc(100% - 180px)",
    "left": "10px",
    "top": "150px",
    "width": "204px"
   },
   "toc_section_display": true,
   "toc_window_display": true
  }
 },
 "nbformat": 4,
 "nbformat_minor": 4
}
