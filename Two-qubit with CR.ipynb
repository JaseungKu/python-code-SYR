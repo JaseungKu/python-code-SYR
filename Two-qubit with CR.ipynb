{
 "cells": [
  {
   "cell_type": "markdown",
   "metadata": {},
   "source": [
    "# Import modules"
   ]
  },
  {
   "cell_type": "code",
   "execution_count": 2,
   "metadata": {},
   "outputs": [
    {
     "name": "stdout",
     "output_type": "stream",
     "text": [
      "Using matplotlib backend: TkAgg\n"
     ]
    }
   ],
   "source": [
    "%matplotlib \n",
    "import matplotlib.pyplot as plt\n",
    "import numpy as np\n",
    "from scipy.linalg import sqrtm, block_diag\n",
    "from math import pi\n",
    "from qutip import *\n",
    "import sympy\n",
    "import functools, operator\n",
    "from collections import OrderedDict\n",
    "import itertools"
   ]
  },
  {
   "cell_type": "markdown",
   "metadata": {},
   "source": [
    "# Two transmon + bus \n",
    "Following Magesan's paper"
   ]
  },
  {
   "cell_type": "markdown",
   "metadata": {},
   "source": [
    "## Function define"
   ]
  },
  {
   "cell_type": "code",
   "execution_count": 156,
   "metadata": {
    "code_folding": [
     19
    ]
   },
   "outputs": [],
   "source": [
    "def hamiltonian_eff_H0(w1,w2,J,alpha1,alpha2,N):\n",
    "    \"\"\" \n",
    "    Two-transmon effective Hamiltonian with zero excitation in bus. \n",
    "    Eq. 2.12, Magesan\n",
    "    w1, w2:  angular freq\n",
    "    \"\"\"\n",
    "    b = destroy(N)\n",
    "        \n",
    "    I = qeye(N)\n",
    "\n",
    "    # Eq. 2.21, Magesan\n",
    "    H1 = w1*tensor(b.dag()*b, I) + alpha1/2.0*tensor(b.dag()*b.dag()*b*b, I)\n",
    "    H2 = w2*tensor(I, b.dag()*b) + alpha2/2.0*tensor(I, b.dag()*b.dag()*b*b)\n",
    "    H12 = J*(tensor(b.dag(), b) + tensor(b, b.dag())) \n",
    "    \n",
    "    H_eff = H1 + H2 + H12\n",
    "    \n",
    "    return H_eff\n",
    "\n",
    "def hamiltonian_eff_Hd(wd, Omega_X, Omega_Y, t, N):\n",
    "    \"\"\" \n",
    "    CR drive Hamiltonian. Eq.2.14.\n",
    "    All arguments are single number, not an array\n",
    "    wd: angular freq\n",
    "    \"\"\"\n",
    "    b = destroy(N)  # qubit 2 is target qubit\n",
    "#     Hd = (Omega_X * np.cos(wd*t) + Omega_Y * np.sin(wd*t)) * tensor(qeye(N),b + b.dag())\n",
    "    Hd = (Omega_X * np.cos(wd*t) + Omega_Y * np.sin(wd*t)) * tensor(b + b.dag(),qeye(N))\n",
    "    \n",
    "    return Hd\n",
    "\n",
    "def ZZ_computed(J, alpha1, alpha2, Delta):\n",
    "    \"\"\" Eq.4.5 in Magesan\"\"\"\n",
    "    return -J**2*(1/(Delta + alpha1) + 1/(-Delta + alpha2)) * 2\n",
    "\n",
    "def sorted_diag_op(eigen):\n",
    "    \"\"\"\n",
    "    Diagonalizing matrix by the order of eigenvector\n",
    "    \n",
    "    Args:\n",
    "        eigen : output of eigenstates() method in qutip\n",
    "       \n",
    "    Return: a new diagonalizing operator Qobj\n",
    "    \"\"\"\n",
    "       \n",
    "    index_list = [np.argmax(np.absolute(vec)) for vec in eigen[1]]\n",
    "    print(index_list)\n",
    "    X_array = np.column_stack([eigen[1][index_list.index(i)] for i in range(eigen[1].size)])\n",
    "    X = Qobj(X_array)\n",
    "    \n",
    "    return X"
   ]
  },
  {
   "cell_type": "code",
   "execution_count": 3,
   "metadata": {},
   "outputs": [
    {
     "name": "stdout",
     "output_type": "stream",
     "text": [
      "ZZ = 0.423 (MHz)\n",
      "ZZ_by_formula = 0.424 (MHz)\n"
     ]
    }
   ],
   "source": [
    "# parameters for IBM qubit\n",
    "w1, w2 = 2*pi*5, 2*pi*5.2 # in GHz\n",
    "J = 0.005*2*pi\n",
    "alpha1, alpha2 = -0.35*2*pi, -0.35*2*pi # in GHz\n",
    "N=5\n",
    "\n",
    "H_eff = hamiltonian_eff_H0(w1,w2,J,alpha1,alpha2,N)\n",
    "eigen = H_eff.eigenstates()\n",
    "ZZ = eigen[0][5] - eigen[0][1] - eigen[0][2]  # in GHz\n",
    "\n",
    "sympy.SparseMatrix(np.round((H_eff)[:, 0:13],2))\n",
    "print(f'ZZ = {ZZ*1e3/(2*pi):.3f} (MHz)')\n",
    "print(f'ZZ_by_formula = {ZZ_computed(J,alpha1,alpha2,w1-w2)*1e3/(2*pi):.3f} (MHz)')"
   ]
  },
  {
   "cell_type": "code",
   "execution_count": 4,
   "metadata": {},
   "outputs": [
    {
     "data": {
      "text/plain": [
       "array([  0.        ,  31.41514163,  32.67334851,  60.63216698,\n",
       "        63.14392431,  64.09114939,  87.64991143,  91.4194034 ,\n",
       "        93.30269448,  94.56601264, 112.46851434, 117.49482602,\n",
       "       120.3217872 , 122.83078145, 123.78669517, 145.14018436,\n",
       "       148.90897676, 150.79083124, 152.06261183, 175.61160088,\n",
       "       178.11596075, 179.08655243, 203.87692006, 205.15844344,\n",
       "       229.96458224])"
      ]
     },
     "execution_count": 4,
     "metadata": {},
     "output_type": "execute_result"
    }
   ],
   "source": [
    "eigen[0]"
   ]
  },
  {
   "cell_type": "markdown",
   "metadata": {},
   "source": [
    "## CR Driven: two-level qubit case"
   ]
  },
  {
   "cell_type": "code",
   "execution_count": 203,
   "metadata": {},
   "outputs": [],
   "source": [
    "w1, w2 = 2*pi*5, 2*pi*5.2 # in GHz\n",
    "J = 0.01*2*pi\n",
    "alpha1, alpha2 = -0.35*2*pi, -0.35*2*pi\n",
    "N =2\n",
    "Omega_X, Omega_Y = 0.02*2*pi,0*2*pi\n",
    "\n",
    "b1 = destroy(N)\n",
    "b2 = destroy(N)\n",
    "\n",
    "HA = w2*(tensor(b1.dag()*b1, qeye(N)) + tensor(qeye(N), b2.dag()*b2))\n",
    "R = lambda t: (-1j*HA*t).expm()\n",
    "\n",
    "H0 = hamiltonian_eff_H0(w1,w2,J,alpha1,alpha2,N)\n",
    "Hd = lambda t:hamiltonian_eff_Hd(w2, Omega_X, Omega_Y, t, N)\n",
    "\n",
    "HR = lambda t: R(t).dag() * (H0 + Hd(t)) * R(t) - HA"
   ]
  },
  {
   "cell_type": "code",
   "execution_count": 204,
   "metadata": {},
   "outputs": [],
   "source": [
    "t_list = np.linspace(0, 2, 401)  # in ns\n",
    "HR_list = [HR(t) for t in t_list]\n",
    "H_R = functools.reduce(operator.add, HR_list) / len(HR_list)"
   ]
  },
  {
   "cell_type": "code",
   "execution_count": 205,
   "metadata": {},
   "outputs": [
    {
     "data": {
      "text/latex": [
       "Quantum object: dims = [[2, 2], [2, 2]], shape = (4, 4), type = oper, isherm = True\\begin{equation*}\\left(\\begin{array}{*{11}c}0.0 & 0.0 & (0.062-2.539\\times10^{-04}j) & 0.0\\\\0.0 & 0.0 & 0.063 & (0.062-2.539\\times10^{-04}j)\\\\(0.062+2.539\\times10^{-04}j) & 0.063 & -1.257 & 0.0\\\\0.0 & (0.062+2.539\\times10^{-04}j) & 0.0 & -1.257\\\\\\end{array}\\right)\\end{equation*}"
      ],
      "text/plain": [
       "Quantum object: dims = [[2, 2], [2, 2]], shape = (4, 4), type = oper, isherm = True\n",
       "Qobj data =\n",
       "[[ 0.        +0.j          0.        +0.j          0.06248237-0.00025391j\n",
       "   0.        +0.j        ]\n",
       " [ 0.        +0.j          0.        +0.j          0.06283185+0.j\n",
       "   0.06248237-0.00025391j]\n",
       " [ 0.06248237+0.00025391j  0.06283185+0.j         -1.25663706+0.j\n",
       "   0.        +0.j        ]\n",
       " [ 0.        +0.j          0.06248237+0.00025391j  0.        +0.j\n",
       "  -1.25663706+0.j        ]]"
      ]
     },
     "execution_count": 205,
     "metadata": {},
     "output_type": "execute_result"
    }
   ],
   "source": [
    "H_R.conj().trans()\n",
    "H_R"
   ]
  },
  {
   "cell_type": "code",
   "execution_count": 17,
   "metadata": {},
   "outputs": [
    {
     "data": {
      "text/plain": [
       "[<matplotlib.lines.Line2D at 0x7ffb0513a460>]"
      ]
     },
     "execution_count": 17,
     "metadata": {},
     "output_type": "execute_result"
    }
   ],
   "source": [
    "avg_list = []\n",
    "for N in range(2,401):\n",
    "    temp = (functools.reduce(operator.add,[HR_list[i] for i in range(N)]) / N)\n",
    "    temp = np.real(temp[2,0])\n",
    "    avg_list.append(temp)\n",
    "    \n",
    "plt.plot(avg_list)\n",
    "# avg_list"
   ]
  },
  {
   "cell_type": "code",
   "execution_count": 209,
   "metadata": {},
   "outputs": [
    {
     "data": {
      "text/latex": [
       "Quantum object: dims = [[2, 2], [2, 2]], shape = (4, 4), type = oper, isherm = True\\begin{equation*}\\left(\\begin{array}{*{11}c}-1.260 & (-0.003+1.260\\times10^{-05}j) & 0.0 & 0.0\\\\(-0.003-1.260\\times10^{-05}j) & -1.263 & 0.0 & 0.0\\\\0.0 & 0.0 & 0.006 & (0.003-1.260\\times10^{-05}j)\\\\0.0 & 0.0 & (0.003+1.260\\times10^{-05}j) & 0.003\\\\\\end{array}\\right)\\end{equation*}"
      ],
      "text/plain": [
       "Quantum object: dims = [[2, 2], [2, 2]], shape = (4, 4), type = oper, isherm = True\n",
       "Qobj data =\n",
       "[[-1.2597286 +0.00000000e+00j -0.00310116+1.26023328e-05j\n",
       "   0.        +0.00000000e+00j  0.        +0.00000000e+00j]\n",
       " [-0.00310116-1.26023328e-05j -1.26284711+0.00000000e+00j\n",
       "   0.        +0.00000000e+00j  0.        +0.00000000e+00j]\n",
       " [ 0.        +0.00000000e+00j  0.        +0.00000000e+00j\n",
       "   0.00621004+0.00000000e+00j  0.00310116-1.26023328e-05j]\n",
       " [ 0.        +0.00000000e+00j  0.        +0.00000000e+00j\n",
       "   0.00310116+1.26023328e-05j  0.00309153+0.00000000e+00j]]"
      ]
     },
     "execution_count": 209,
     "metadata": {},
     "output_type": "execute_result"
    }
   ],
   "source": [
    "# Least action\n",
    "# find X\n",
    "X_array = np.column_stack( (eigen[1][0],eigen[1][1],eigen[1][2],eigen[1][3]))\n",
    "X = Qobj(X_array)\n",
    "\n",
    "# find X_BD and XP\n",
    "A, B = X[0:2,0:2], X[2:4, 2:4]\n",
    "X_BD_array = block_diag(A,B)\n",
    "X_BD = Qobj(X_BD_array)\n",
    "XP = X_BD * X_BD.conj().trans()\n",
    "\n",
    "# find T\n",
    "T = X * X_BD.conj().trans() * XP.sqrtm().inv()\n",
    "\n",
    "# find H_R_BD\n",
    "T.dims = H_R.dims\n",
    "H_R_BD =  T.conj().trans() * H_R * T\n",
    "H_R_BD"
   ]
  },
  {
   "cell_type": "markdown",
   "metadata": {},
   "source": [
    "## CR Driven: three-level case\n",
    "1. get block-diagonal full H_RWA Hamiltonina, then take computational subspace\n",
    "2. To fine Pauli coefficients: ZX,ZZ,ZI,IX,and IZ\n",
    "3. Main question: how to compute H_RWA. How can we ignore other than e^{-iwt} or e^{iwt}."
   ]
  },
  {
   "cell_type": "code",
   "execution_count": 234,
   "metadata": {
    "code_folding": [
     13
    ]
   },
   "outputs": [
    {
     "name": "stdout",
     "output_type": "stream",
     "text": [
      "[0, 2, 1, 4, 3, 5, 6, 7, 8]\n",
      "[4, 6, 2, 0, 1, 3, 8, 5, 7]\n",
      "[0, 2, 1, 4, 3, 5, 6, 7, 8]\n",
      "[4, 6, 2, 0, 1, 3, 8, 5, 7]\n",
      "[0, 2, 1, 4, 3, 5, 6, 7, 8]\n",
      "[4, 6, 2, 0, 1, 3, 8, 5, 7]\n",
      "[0, 2, 1, 4, 3, 5, 6, 7, 8]\n",
      "[4, 2, 6, 0, 1, 3, 8, 5, 7]\n",
      "[0, 2, 1, 4, 3, 5, 6, 7, 8]\n",
      "[4, 2, 6, 0, 1, 3, 8, 5, 7]\n",
      "[0, 2, 1, 4, 3, 5, 6, 7, 8]\n",
      "[4, 2, 6, 0, 1, 3, 8, 5, 7]\n",
      "[0, 2, 1, 4, 3, 5, 6, 7, 8]\n",
      "[4, 2, 6, 0, 1, 3, 8, 5, 7]\n",
      "[0, 2, 1, 4, 3, 5, 6, 7, 8]\n",
      "[4, 2, 6, 0, 1, 3, 8, 5, 7]\n",
      "[0, 2, 1, 4, 3, 5, 6, 7, 8]\n",
      "[4, 2, 6, 0, 1, 3, 8, 5, 7]\n",
      "[0, 2, 1, 4, 3, 5, 6, 7, 8]\n",
      "[4, 2, 6, 0, 1, 3, 8, 5, 7]\n",
      "[0, 2, 1, 4, 3, 5, 6, 7, 8]\n",
      "[4, 2, 6, 0, 1, 3, 8, 5, 7]\n"
     ]
    },
    {
     "name": "stderr",
     "output_type": "stream",
     "text": [
      "/usr/lib/python3/dist-packages/numpy/core/_asarray.py:85: ComplexWarning: Casting complex values to real discards the imaginary part\n",
      "  return array(a, dtype, copy=False, order=order)\n"
     ]
    },
    {
     "data": {
      "text/plain": [
       "<matplotlib.legend.Legend at 0x7fd7c2fbd850>"
      ]
     },
     "execution_count": 234,
     "metadata": {},
     "output_type": "execute_result"
    }
   ],
   "source": [
    "def get_Pauli(Omega):\n",
    "    w1, w2 = 2*pi*5.164, 2*pi*5.292 # in GHz\n",
    "    J = 0.075*2*pi\n",
    "    alpha1, alpha2 = 0.6*2*pi, -0.33*2*pi\n",
    "    # Omega = 0.001*2*pi\n",
    "    N =3\n",
    "\n",
    "    w1_b = [0, w1, 2*w1+alpha1]\n",
    "    w2_b = [0, w2, 2*w2+alpha2]\n",
    "\n",
    "    b = destroy(N)\n",
    "\n",
    "    # H_eff = hamiltonian_eff_H0(w1,w2,J,alpha1,alpha2,N)\n",
    "\n",
    "    def get_possible_states(n):\n",
    "        \"\"\"\n",
    "        Get a list of tuples of possible states, given n\n",
    "        Ex) for n=2, output is [(0,0),(0,1),(1,0),(0,2),(1,1),(2,0)]\n",
    "        Args: \n",
    "            n: integer such that n1+n2<=n for |n1,n2> state\n",
    "        Return:\n",
    "            List of tuples that satisfy n1+n2<=n where n1 and n2 are 0,1,2,3,....\n",
    "        \"\"\"\n",
    "        def get_possible_sum(n):\n",
    "            \"\"\"\n",
    "             [(0,1)]\n",
    "            \"\"\"\n",
    "            result = []\n",
    "            for i in range(n+1):\n",
    "                result.append((i,n-i))\n",
    "            return result\n",
    "\n",
    "        possible_list = []\n",
    "        for i in range(n + 1):\n",
    "            possible_list += get_possible_sum(i)\n",
    "\n",
    "        return possible_list\n",
    "    def kronecker_delta(i,j):\n",
    "        return (1 if i==j else 0)\n",
    "\n",
    "    # Note\n",
    "    # b1[i,j] = <i|b1|j>, where |i> = {|00>, |01>, |10>, |11>, ... |30>}\n",
    "    # b1|n1_i,n2_i> = sqrt(n1_i)|n1_i-1,n2_i> where |i> = |n1_i, n2_i> and |j> = |n1_j, n2_j>\n",
    "    # b2|n1_i,n2_i> = sqrt(n2_i)|n1_i,n2_i-1> where |i> = |n1_i, n2_i> and |j> = |n1_j, n2_j>\n",
    "    # V = sqrt((n1+1)*(n2+1))*J_n1_n2*(|n1+1,n2><n1,n2+1|+|n1,n2+1><n1+1,n2|)\n",
    "\n",
    "    states = [ prod for prod in itertools.product(range(3), range(3))]\n",
    "    unsorted_state_energy_dict = { s: w1_b[s[0]] + w2_b[s[1]] for s in states}\n",
    "    sorted_state_energy_dict = OrderedDict(sorted(unsorted_state_energy_dict.items(), key=lambda x: x[1]))\n",
    "\n",
    "    sorted_energy = list(sorted_state_energy_dict.values())\n",
    "    sorted_states = list(sorted_state_energy_dict.keys())\n",
    "    # [(0,0),(0,1),(1,0),(1,1),(0,2),(2,0),(0,3),(1,2),(2,1),(3,0)]\n",
    "    sorted_states= [(0, 0), (0, 1), (1, 0),  (1, 1), (0, 2), (2, 0),(1, 2), (2, 1), (2, 2)]\n",
    "    # sorted_states= [(0, 0), (1, 0), (0, 1), (0, 2), (1, 1),  (2, 0),(1, 2), (2, 1), (2, 2)]\n",
    "    sorted_energy = [ w1_b[state[0]]+w2_b[state[1]] for state in sorted_states]\n",
    "\n",
    "    n = len(sorted_state_energy_dict)\n",
    "    b1_array, b2_array, V0_array = np.zeros((n,n)), np.zeros((n,n)), np.zeros((n,n))\n",
    "\n",
    "    # redefind b1, b2 with basis of sorted states\n",
    "    for i, j in itertools.product(range(n), range(n)): # i, j = basis index\n",
    "        n1_i, n2_i  = sorted_states[i][0], sorted_states[i][1]\n",
    "        n1_j, n2_j = sorted_states[j][0], sorted_states[j][1]    \n",
    "\n",
    "        # b1_array[i,j] = <n1_i, n2_i|b1|n1_j, n2_j>\n",
    "        b1_array[i, j] = np.sqrt(n1_j)* kronecker_delta(n1_i, n1_j-1) * kronecker_delta(n2_i, n2_j)\n",
    "        b2_array[i, j] = np.sqrt(n2_j)* kronecker_delta(n2_i, n2_j-1) * kronecker_delta(n1_i, n1_j) \n",
    "\n",
    "    b1 = Qobj(b1_array)\n",
    "    b2 = Qobj(b2_array)\n",
    "\n",
    "    # H0 = Qobj(np.diag(sorted_energy))    \n",
    "    H0 = w1*b1.dag()*b1 + alpha1/2.0*b1.dag()*b1.dag()*b1*b1 + w2*b2.dag()*b2 \\\n",
    "        + alpha2/2.0*b2.dag()*b2.dag()*b2*b2    \n",
    "    V0 = J*(b1.dag()*b2 + b1*b2.dag()) \n",
    "    H_eff = H0 + V0\n",
    "\n",
    "    b1t = b1 + b1.dag()\n",
    "    b2t = b2 + b2.dag()\n",
    "    ntot = b1.dag()*b1 + b2.dag()*b2\n",
    "\n",
    "    # digonalize H0: remove J\n",
    "    eigen = H_eff.eigenstates()\n",
    "\n",
    "    # find U\n",
    "    # U_array = np.column_stack( [eigen[1][i] for i in range(eigen[1].size)])\n",
    "    U_array = sorted_diag_op(eigen)\n",
    "    U = Qobj(U_array)\n",
    "    U.dims = H0.dims\n",
    "\n",
    "    # digonalize H0\n",
    "    H_eff_D = U.dag() * H_eff * U\n",
    "\n",
    "    # get new Hd and HR\n",
    "    wd = (H_eff_D[3,3] - H_eff_D[1,1] + H_eff_D[2,2])/2\n",
    "    Hd = lambda t:Omega * np.cos(wd*t)*b1t\n",
    "    Hd_D = lambda t: U.dag() * Hd(t) * U\n",
    "\n",
    "    # To rotating frame\n",
    "    HA = wd*(b1.dag()*b1 + b2.dag()*b2)\n",
    "    R = lambda t: (-1j*HA*t).expm()\n",
    "    HR = lambda t: R(t).dag() * (H_eff_D + Hd_D(t)) * R(t) - HA\n",
    "\n",
    "    # average over 10 period\n",
    "    t_list = np.linspace(0, 2, 401)  # in ns\n",
    "    HR_list = [HR(t) for t in t_list]\n",
    "    H_R = functools.reduce(operator.add,HR_list) / len(HR_list)\n",
    "    H_R.tidyup(1e-3)\n",
    "\n",
    "    # least action\n",
    "    eigen = H_R.eigenstates()\n",
    "\n",
    "    # find X\n",
    "    # X_array = np.column_stack( [eigen[1][i] for i in range(eigen[1].size)])\n",
    "    X_array = sorted_diag_op(eigen)\n",
    "    X = Qobj(X_array)\n",
    "\n",
    "    # find X_BD and XP\n",
    "    A, B, C = X[0:2,0:2], X[2:4, 2:4], X[4:10, 4:10]\n",
    "    X_BD_array = block_diag(A,B,C)\n",
    "    X_BD = Qobj(X_BD_array)\n",
    "    # X_BD = X_BD.tidyup(atol=1e-3)\n",
    "    XP = X_BD * X_BD.dag()\n",
    "\n",
    "    # find T\n",
    "    T = X * X_BD.dag() * XP.sqrtm().inv()\n",
    "\n",
    "    # find H_R_BD\n",
    "    T.dims = H_R.dims\n",
    "    H_R_BD =  T.dag() * H_R * T\n",
    "    H_R_BD\n",
    "\n",
    "    def from16to8(M):\n",
    "        return np.array([M[0,0],M[1,0],M[0,1],M[1,1],M[2,2],M[3,2],M[2,3],M[3,3]]).reshape(8,1)\n",
    "\n",
    "    # Get Pauli coeff.\n",
    "    II = tensor(qeye(2), qeye(2))\n",
    "    IX = tensor(qeye(2), sigmax())\n",
    "    IY = tensor(qeye(2), sigmay())\n",
    "    IZ = tensor(qeye(2), sigmaz())\n",
    "    ZI = tensor(sigmaz(), qeye(2))\n",
    "    ZY = tensor(sigmaz(), sigmay())\n",
    "    ZX = tensor(sigmaz(), sigmax())\n",
    "    ZZ = tensor(sigmaz(), sigmaz())\n",
    "\n",
    "    a = np.column_stack([from16to8(II),from16to8(IX),from16to8(IY),from16to8(IZ)\n",
    "                        ,from16to8(ZI),from16to8(ZX),from16to8(ZY),from16to8(ZZ)])\n",
    "\n",
    "    b = from16to8(H_R_BD[0:4, 0:4])\n",
    "\n",
    "    c = np.linalg.solve(a, b)\n",
    "#     sympy.Matrix(np.round(c,6))/2/pi*1000\n",
    "    # -63.9, -0.02, -0.00017,1.2e-5,127.9,0.073, 0.00017, -0.039\n",
    "    return c/2/pi*1e3\n",
    "\n",
    "# plot Pauli coeff. vs CR amplitude\n",
    "Omega_list = np.linspace(1, 140, 11)*1e-3*2*pi\n",
    "Pauli = get_Pauli(Omega_list[0])\n",
    "for omega in Omega_list[1:]:\n",
    "    Pauli = np.column_stack((Pauli, get_Pauli(omega)))\n",
    "\n",
    "# plot\n",
    "Pauli_label = ['II','IX','IY','IZ','ZI','ZX','ZY','ZZ']\n",
    "fig, ax = plt.subplots(1,1, figsize=(10,8))\n",
    "for i in range(Pauli.shape[0]):\n",
    "    ax.plot(Omega_list, Pauli[i], label=Pauli_label[i], linewidth=3)\n",
    "ax.set_xlabel('CR amplitude, Omega (MHz)', fontsize=18)\n",
    "ax.set_ylabel('$Pauli Coefficient$ (MHz)', fontsize=18)\n",
    "ax.tick_params(axis='x', labelsize=18)\n",
    "ax.tick_params(axis='y', labelsize=18)\n",
    "ax.grid('on')\n",
    "ax.legend(fontsize=18)"
   ]
  },
  {
   "cell_type": "code",
   "execution_count": 233,
   "metadata": {},
   "outputs": [
    {
     "data": {
      "text/latex": [
       "Quantum object: dims = [[9], [9]], shape = (9, 9), type = oper, isherm = True\\begin{equation*}\\left(\\begin{array}{*{11}c}1.048\\times10^{-04} & 0.001 & 0.0 & 0.0 & 0.0 & 0.0 & 0.0 & 0.0 & 0.0\\\\0.001 & 1.162 & 0.0 & 0.0 & 0.0 & 0.0 & 0.0 & 0.0 & 0.0\\\\0.0 & 0.0 & -0.077 & -0.002 & 0.0 & 0.0 & 0.0 & 0.0 & 0.0\\\\0.0 & 0.0 & -0.002 & 1.239 & 0.0 & 0.0 & 0.0 & 0.0 & -1.166\\times10^{-12}\\\\0.0 & 0.0 & 0.0 & 0.0 & -0.486 & 3.560\\times10^{-07} & -0.003 & 0.001 & -3.797\\times10^{-12}\\\\0.0 & 0.0 & 0.0 & 0.0 & 3.560\\times10^{-07} & 4.198 & -1.771\\times10^{-09} & -1.901\\times10^{-10} & -4.727\\times10^{-12}\\\\0.0 & 0.0 & 0.0 & 0.0 & -0.003 & -1.771\\times10^{-09} & -0.214 & -1.128\\times10^{-11} & 0.004\\\\0.0 & 0.0 & 0.0 & 0.0 & 0.001 & -1.901\\times10^{-10} & -1.128\\times10^{-11} & 5.166 & 0.0\\\\0.0 & 0.0 & 0.0 & -1.166\\times10^{-12} & -3.797\\times10^{-12} & -4.727\\times10^{-12} & 0.004 & 0.0 & 3.866\\\\\\end{array}\\right)\\end{equation*}"
      ],
      "text/plain": [
       "Quantum object: dims = [[9], [9]], shape = (9, 9), type = oper, isherm = True\n",
       "Qobj data =\n",
       "[[ 1.04849882e-04  1.31191863e-03  0.00000000e+00  0.00000000e+00\n",
       "   0.00000000e+00  0.00000000e+00  0.00000000e+00  0.00000000e+00\n",
       "   0.00000000e+00]\n",
       " [ 1.31191863e-03  1.16188195e+00  0.00000000e+00  0.00000000e+00\n",
       "   0.00000000e+00  0.00000000e+00  0.00000000e+00  0.00000000e+00\n",
       "   0.00000000e+00]\n",
       " [ 0.00000000e+00  0.00000000e+00 -7.71489187e-02 -2.00595151e-03\n",
       "   0.00000000e+00  0.00000000e+00  0.00000000e+00  0.00000000e+00\n",
       "   0.00000000e+00]\n",
       " [ 0.00000000e+00  0.00000000e+00 -2.00595151e-03  1.23903749e+00\n",
       "   0.00000000e+00  0.00000000e+00  0.00000000e+00  0.00000000e+00\n",
       "  -1.16593468e-12]\n",
       " [ 0.00000000e+00  0.00000000e+00  0.00000000e+00  0.00000000e+00\n",
       "  -4.85849920e-01  3.56026057e-07 -3.12738641e-03  1.28651348e-03\n",
       "  -3.79719397e-12]\n",
       " [ 0.00000000e+00  0.00000000e+00  0.00000000e+00  0.00000000e+00\n",
       "   3.56026057e-07  4.19803445e+00 -1.77055897e-09 -1.90120157e-10\n",
       "  -4.72665556e-12]\n",
       " [ 0.00000000e+00  0.00000000e+00  0.00000000e+00  0.00000000e+00\n",
       "  -3.12738641e-03 -1.77055897e-09 -2.14480408e-01 -1.12793133e-11\n",
       "   4.35877985e-03]\n",
       " [ 0.00000000e+00  0.00000000e+00  0.00000000e+00  0.00000000e+00\n",
       "   1.28651348e-03 -1.90120157e-10 -1.12793133e-11  5.16564780e+00\n",
       "   0.00000000e+00]\n",
       " [ 0.00000000e+00  0.00000000e+00  0.00000000e+00 -1.16590980e-12\n",
       "  -3.79719397e-12 -4.72656870e-12  4.35877985e-03  0.00000000e+00\n",
       "   3.86626210e+00]]"
      ]
     },
     "execution_count": 233,
     "metadata": {},
     "output_type": "execute_result"
    }
   ],
   "source": [
    "H_eff/2/pi\n",
    "# H0\n",
    "# V0\n",
    "# states\n",
    "# X\n",
    "sorted_states\n",
    "sorted_energy\n",
    "H_R_BD"
   ]
  },
  {
   "cell_type": "code",
   "execution_count": 229,
   "metadata": {},
   "outputs": [
    {
     "data": {
      "text/latex": [
       "Quantum object: dims = [[9], [9]], shape = (9, 9), type = oper, isherm = False\\begin{equation*}\\left(\\begin{array}{*{11}c}1.000 & 0.006 & -0.002 & -5.507\\times10^{-07} & 3.154\\times10^{-05} & 1.113\\times10^{-06} & -1.429\\times10^{-08} & -9.101\\times10^{-11} & 0.0\\\\0.006 & -1.000 & 1.030\\times10^{-05} & 1.331\\times10^{-10} & 0.002 & 9.319\\times10^{-04} & 2.106\\times10^{-12} & -5.123\\times10^{-07} & 0.0\\\\-0.002 & -4.775\\times10^{-06} & -1.000 & 5.213\\times10^{-04} & 0.007 & 9.095\\times10^{-04} & 1.468\\times10^{-05} & 8.301\\times10^{-07} & -6.822\\times10^{-10}\\\\-1.420\\times10^{-06} & -3.254\\times10^{-09} & -5.214\\times10^{-04} & -1.000 & 5.195\\times10^{-06} & 2.050\\times10^{-07} & -0.030 & 2.433\\times10^{-04} & -1.018\\times10^{-06}\\\\3.305\\times10^{-05} & -0.002 & -0.007 & -1.217\\times10^{-06} & -1.000 & 2.260\\times10^{-08} & -3.279\\times10^{-08} & 0.001 & 0.0\\\\-5.426\\times10^{-06} & 9.319\\times10^{-04} & 9.095\\times10^{-04} & -2.692\\times10^{-07} & -8.411\\times10^{-06} & 1.000 & -7.414\\times10^{-09} & 2.478\\times10^{-10} & 1.521\\times10^{-12}\\\\3.295\\times10^{-09} & 1.140\\times10^{-11} & 7.639\\times10^{-07} & 0.030 & -8.856\\times10^{-09} & -1.335\\times10^{-10} & -1.000 & -1.411\\times10^{-07} & 0.001\\\\-3.296\\times10^{-08} & 1.936\\times10^{-06} & 9.107\\times10^{-06} & 2.432\\times10^{-04} & 0.001 & -6.011\\times10^{-10} & 7.065\\times10^{-06} & 1.000 & 7.792\\times10^{-10}\\\\-6.072\\times10^{-12} & 0.0 & -2.110\\times10^{-09} & -3.578\\times10^{-05} & 2.055\\times10^{-11} & 0.0 & 0.001 & -3.660\\times10^{-10} & 1.000\\\\\\end{array}\\right)\\end{equation*}"
      ],
      "text/plain": [
       "Quantum object: dims = [[9], [9]], shape = (9, 9), type = oper, isherm = False\n",
       "Qobj data =\n",
       "[[ 9.99979052e-01  6.25446501e-03 -1.66628863e-03 -5.50652916e-07\n",
       "   3.15388405e-05  1.11306541e-06 -1.42923849e-08 -9.10052454e-11\n",
       "   0.00000000e+00]\n",
       " [ 6.25440574e-03 -9.99977738e-01  1.03017660e-05  1.33055301e-10\n",
       "   2.13001200e-03  9.31908273e-04  2.10642974e-12 -5.12339747e-07\n",
       "   0.00000000e+00]\n",
       " [-1.66647290e-03 -4.77484704e-06 -9.99972927e-01  5.21258895e-04\n",
       "   7.09008988e-03  9.09497075e-04  1.46803489e-05  8.30076115e-07\n",
       "  -6.82189320e-10]\n",
       " [-1.41987664e-06 -3.25442893e-09 -5.21439464e-04 -9.99561170e-01\n",
       "   5.19460378e-06  2.04977014e-07 -2.96164989e-02  2.43302237e-04\n",
       "  -1.01759242e-06]\n",
       " [ 3.30456242e-05 -2.12986656e-03 -7.09012741e-03 -1.21731204e-06\n",
       "  -9.99971935e-01  2.26008228e-08 -3.27896680e-08  1.14950355e-03\n",
       "   0.00000000e+00]\n",
       " [-5.42592737e-06  9.31885746e-04  9.09465745e-04 -2.69191988e-07\n",
       "  -8.41083423e-06  9.99999152e-01 -7.41449304e-09  2.47790152e-10\n",
       "   1.52097326e-12]\n",
       " [ 3.29546353e-09  1.14010685e-11  7.63906913e-07  2.96164818e-02\n",
       "  -8.85577772e-09 -1.33532109e-10 -9.99560646e-01 -1.41086544e-07\n",
       "   1.17387646e-03]\n",
       " [-3.29619407e-08  1.93596725e-06  9.10705892e-06  2.43200782e-04\n",
       "   1.14946602e-03 -6.01139517e-10  7.06476670e-06  9.99999310e-01\n",
       "   7.79248632e-10]\n",
       " [-6.07187614e-12  0.00000000e+00 -2.10952006e-09 -3.57832612e-05\n",
       "   2.05463359e-11  0.00000000e+00  1.17333139e-03 -3.66048156e-10\n",
       "   9.99999311e-01]]"
      ]
     },
     "execution_count": 229,
     "metadata": {},
     "output_type": "execute_result"
    }
   ],
   "source": [
    "H0_D\n",
    "U\n",
    "H_eff_D\n",
    "X_BD\n",
    "X"
   ]
  },
  {
   "cell_type": "code",
   "execution_count": 197,
   "metadata": {},
   "outputs": [],
   "source": [
    "avg_list = []\n",
    "for N in range(2,401):\n",
    "    temp = (functools.reduce(operator.add,[HR_list[i] for i in range(N)]) / N)\n",
    "    temp = np.real(temp[0,1])\n",
    "    avg_list.append(temp)\n",
    "    "
   ]
  },
  {
   "cell_type": "code",
   "execution_count": 93,
   "metadata": {},
   "outputs": [],
   "source": [
    "# plt.plot(avg_list)\n",
    "f=np.fft.fft(avg_list)\n",
    "plt.plot(np.absolute(f))\n",
    "plt.yscale('log')"
   ]
  },
  {
   "cell_type": "code",
   "execution_count": 199,
   "metadata": {},
   "outputs": [
    {
     "data": {
      "text/latex": [
       "Quantum object: dims = [[9], [9]], shape = (9, 9), type = oper, isherm = False\\begin{equation*}\\left(\\begin{array}{*{11}c}0.732 & -0.682 & 8.166\\times10^{-04} & 9.301\\times10^{-04} & 0.0 & 2.804\\times10^{-04} & 0.0 & 0.0 & 0.0\\\\0.682 & 0.731 & 0.003 & -0.003 & 0.0 & -0.020 & 0.0 & 0.0 & 0.0\\\\-8.592\\times10^{-04} & 8.838\\times10^{-04} & 0.741 & 0.671 & 0.0 & 0.005 & 0.0 & 2.861\\times10^{-04} & 0.0\\\\0.003 & 0.003 & -0.671 & 0.741 & -6.364\\times10^{-04} & 0.0 & 7.944\\times10^{-04} & -0.020 & 0.0\\\\0.0 & 0.0 & 0.0 & 0.0 & 0.798 & 0.0 & 0.603 & -0.002 & -2.832\\times10^{-04}\\\\0.013 & 0.015 & -0.004 & -0.004 & 0.0 & 1.000 & 0.0 & 0.003 & 0.0\\\\0.0 & 0.0 & 6.880\\times10^{-04} & -7.460\\times10^{-04} & -0.603 & 0.0 & 0.798 & 1.357\\times10^{-04} & -0.020\\\\0.0 & 0.0 & -0.014 & 0.015 & 0.001 & -0.003 & 8.196\\times10^{-04} & 1.000 & -0.001\\\\0.0 & 0.0 & 0.0 & 0.0 & -0.012 & 0.0 & 0.016 & 0.001 & 1.000\\\\\\end{array}\\right)\\end{equation*}"
      ],
      "text/plain": [
       "Quantum object: dims = [[9], [9]], shape = (9, 9), type = oper, isherm = False\n",
       "Qobj data =\n",
       "[[ 7.31519078e-01 -6.81819791e-01  8.16590421e-04  9.30105165e-04\n",
       "   0.00000000e+00  2.80424644e-04  0.00000000e+00  0.00000000e+00\n",
       "   0.00000000e+00]\n",
       " [ 6.81685217e-01  7.31365731e-01  3.04653235e-03 -3.29706675e-03\n",
       "   0.00000000e+00 -1.97301915e-02  0.00000000e+00  0.00000000e+00\n",
       "   0.00000000e+00]\n",
       " [-8.59241377e-04  8.83754969e-04  7.41092998e-01  6.71380189e-01\n",
       "   0.00000000e+00  5.31124334e-03  0.00000000e+00  2.86141310e-04\n",
       "   0.00000000e+00]\n",
       " [ 2.95857400e-03  3.38110776e-03 -6.71246987e-01  7.40953031e-01\n",
       "  -6.36373434e-04  0.00000000e+00  7.94402487e-04 -1.98710205e-02\n",
       "   0.00000000e+00]\n",
       " [ 0.00000000e+00  0.00000000e+00  0.00000000e+00  0.00000000e+00\n",
       "   7.97772657e-01  0.00000000e+00  6.02956315e-01 -1.54592346e-03\n",
       "  -2.83164397e-04]\n",
       " [ 1.32518358e-02  1.46193858e-02 -3.85772426e-03 -3.65463032e-03\n",
       "   0.00000000e+00  9.99785796e-01  0.00000000e+00  3.28421781e-03\n",
       "   0.00000000e+00]\n",
       " [ 0.00000000e+00  0.00000000e+00  6.87992643e-04 -7.46049349e-04\n",
       "  -6.02840208e-01  0.00000000e+00  7.97609976e-01  1.35655972e-04\n",
       "  -2.00240075e-02]\n",
       " [ 0.00000000e+00  0.00000000e+00 -1.35405816e-02  1.45464280e-02\n",
       "   1.31754724e-03 -3.28399048e-03  8.19624571e-04  9.99795126e-01\n",
       "  -1.25195256e-03]\n",
       " [ 0.00000000e+00  0.00000000e+00  0.00000000e+00  0.00000000e+00\n",
       "  -1.18461133e-02  0.00000000e+00  1.61463630e-02  1.25417479e-03\n",
       "   9.99798676e-01]]"
      ]
     },
     "execution_count": 199,
     "metadata": {},
     "output_type": "execute_result"
    }
   ],
   "source": [
    "X.tidyup(1e-4)"
   ]
  },
  {
   "cell_type": "code",
   "execution_count": 202,
   "metadata": {},
   "outputs": [
    {
     "data": {
      "text/plain": [
       "matrix([[0.+0.j],\n",
       "        [1.+0.j],\n",
       "        [0.+0.j],\n",
       "        [0.+0.j],\n",
       "        [1.+0.j],\n",
       "        [0.+0.j],\n",
       "        [0.+0.j],\n",
       "        [0.+0.j],\n",
       "        [0.+0.j],\n",
       "        [0.+0.j],\n",
       "        [0.+0.j],\n",
       "        [1.+0.j],\n",
       "        [0.+0.j],\n",
       "        [0.+0.j],\n",
       "        [1.+0.j],\n",
       "        [0.+0.j]])"
      ]
     },
     "execution_count": 202,
     "metadata": {},
     "output_type": "execute_result"
    }
   ],
   "source": [
    "test=Qobj(IX.data.reshape(16,1))\n",
    "IX.data.reshape(16,1).todense()"
   ]
  },
  {
   "cell_type": "markdown",
   "metadata": {},
   "source": [
    "# Transmon with a Duffing model"
   ]
  },
  {
   "cell_type": "code",
   "execution_count": 53,
   "metadata": {},
   "outputs": [],
   "source": [
    "%matplotlib inline\n",
    "import matplotlib.pyplot as plt\n",
    "import numpy as np\n",
    "from qutip import *\n",
    "import sympy"
   ]
  },
  {
   "cell_type": "code",
   "execution_count": 6,
   "metadata": {
    "scrolled": true
   },
   "outputs": [],
   "source": [
    "# parameters for IBM qubit\n",
    "w = 5 # in GHz\n",
    "alpha = -0.35 # in GHz\n",
    "\n",
    "N = 3\n",
    "b = destroy(N)\n",
    "\n",
    "H = w1*b.dag()*b + alpha/2.0*b.dag()*b*(b.dag()*b-qeye(N))\n",
    "H1 = w1*b.dag()*b + alpha/2.0*b.dag()*b.dag()*b*b\n",
    "Hd = b.dag() + b"
   ]
  },
  {
   "cell_type": "code",
   "execution_count": 9,
   "metadata": {},
   "outputs": [
    {
     "data": {
      "text/latex": [
       "Quantum object: dims = [[3], [3]], shape = (3, 3), type = oper, isherm = True\\begin{equation*}\\left(\\begin{array}{*{11}c}0.0 & 0.0 & 0.0\\\\0.0 & 5.300 & 0.0\\\\0.0 & 0.0 & 10.250\\\\\\end{array}\\right)\\end{equation*}"
      ],
      "text/plain": [
       "Quantum object: dims = [[3], [3]], shape = (3, 3), type = oper, isherm = True\n",
       "Qobj data =\n",
       "[[ 0.    0.    0.  ]\n",
       " [ 0.    5.3   0.  ]\n",
       " [ 0.    0.   10.25]]"
      ]
     },
     "execution_count": 9,
     "metadata": {},
     "output_type": "execute_result"
    }
   ],
   "source": [
    "H\n",
    "# Hd"
   ]
  },
  {
   "cell_type": "markdown",
   "metadata": {},
   "source": [
    "# Find Pauli-coefficients of CSQF/transmon with CR\n",
    "Ref: Xuexin's mathematica notebook\n",
    "1. Build effective two-qubit Hamiltonian.\n",
    "2. Diagonalize the two-qbuti Hamiltonian to get rid of coupling by either SW or numerical diagonalization. Dressed state.\n",
    "3. Build driving Hamiltonian in the dressed state.\n",
    "4. Move into rotating frame.\n",
    "5. Block-diagonalize the total Hamiltonian by SW or least action.\n",
    "6. Find Pauli-coefficients."
   ]
  },
  {
   "cell_type": "markdown",
   "metadata": {},
   "source": [
    "## Helper"
   ]
  },
  {
   "cell_type": "code",
   "execution_count": 235,
   "metadata": {
    "code_folding": [
     0
    ]
   },
   "outputs": [],
   "source": [
    "def list_energies(f1,alpha1, beta1, f2, alpha2, beta2, sort=False):\n",
    "    \"\"\"\n",
    "    Calculate energy levels. E00 = 0\n",
    "    \"\"\"\n",
    "    numStates = 4 # 0,1,2,3 states\n",
    "    state1 = [0, f1, f1+f1+alpha1,f1+f1+f1+alpha1+beta1]\n",
    "    state2 = [0, f2, f2+f2+alpha2,f2+f2+f2+alpha2+beta2]\n",
    "    \n",
    "    result_dict = {}\n",
    "    for prod in itertools.product(range(numStates), range(numStates)):\n",
    "        temp = {prod:state1[prod[0]] + state2[prod[1]]}\n",
    "        result_dict.update(temp)\n",
    "    \n",
    "    if sort:\n",
    "        sorted_dict = OrderedDict(sorted(result_dict.items(), key=lambda x: x[1]))\n",
    "        return sorted_dict\n",
    "    else:\n",
    "        return result_dict\n",
    "    \n",
    "list_energies(5.05, 0.6, 0.5, 5.25,-0.33, -0.37,sort=True)    \n",
    "# list_energies(5.25,-0.33, -0.37, 5.05, -0.3, -0.33, sort=True)    \n",
    "\n",
    "def sorted_diag_op(eigen):\n",
    "    \"\"\"\n",
    "    Diagonalizing matrix by the order of eigenvector\n",
    "    \n",
    "    Args:\n",
    "        eigen : output of eigenstates() method in qutip\n",
    "       \n",
    "    Return: a new diagonalizing operator Qobj\n",
    "    \"\"\"\n",
    "       \n",
    "    index_list = [np.argmax(np.absolute(vec)) for vec in eigen[1]]\n",
    "    print(index_list)\n",
    "    X_array = np.column_stack([eigen[1][index_list.index(i)] for i in range(eigen[1].size)])\n",
    "    X = Qobj(X_array)\n",
    "    \n",
    "    return X"
   ]
  },
  {
   "cell_type": "markdown",
   "metadata": {},
   "source": [
    "## Define qubit frequencies and J"
   ]
  },
  {
   "cell_type": "code",
   "execution_count": 265,
   "metadata": {},
   "outputs": [],
   "source": [
    "wm = 5164       # CSFQ w01\n",
    "del_m0 = 600   # first anharmonicity\n",
    "del_m1 = 430  # second anharmon.\n",
    "gdm = 80     # CSFQ-bus coupling\n",
    "\n",
    "wr = 6292 # bus cavity\n",
    "\n",
    "wt = 5292   # transmon\n",
    "del_t0 = -329.1\n",
    "del_t1 = -369.7\n",
    "gdt = -80    # transmon-bus coupling\n",
    "\n",
    "gmt = 0  # csfq-transmon direct g\n",
    "\n",
    "# CSFQ, j=0,1,2\n",
    "w1_d = lambda j: wm*j + del_m0/2*j*(j-1) if j<3 else wm*j + del_m0/2*j*(j-1) + del_m1-del_m0 # dressed freq\n",
    "gamma1 = lambda j: j/(wr + w1_d(j-1) - w1_d(j))\n",
    "w1_b = lambda j: w1_d(j) - gamma1(j) * gdm**2  # bare freq. j=1,2,3\n",
    "\n",
    "# transmon, j=0,1,2\n",
    "w2_d = lambda j: wt*j + del_t0/2*j*(j-1) if j<3 else wt*j + del_t0/2*j*(j-1) + del_t1-del_t0 # dressed freq\n",
    "gamma2 = lambda j: j/(wr + w2_d(j-1) - w2_d(j))\n",
    "w2_b = lambda j: w2_d(j) - gamma2(j) * gdt**2  # bare freq.\n",
    "\n",
    "# J, {j1,j2}=0,1,2\n",
    "J = lambda j1,j2 : gmt - gdm*gdt/2*(1/(wr+w1_d(j1)-w1_d(j1+1)) + 1/(wr+w2_d(j2)-w2_d(j2+1)) \n",
    "                                    + 1/(wr-w1_d(j1)+w1_d(j1+1)) + 1/(wr-w2_d(j2)+w2_d(j2+1))) "
   ]
  },
  {
   "cell_type": "code",
   "execution_count": 266,
   "metadata": {},
   "outputs": [
    {
     "data": {
      "text/plain": [
       "6.592452135485313"
      ]
     },
     "execution_count": 266,
     "metadata": {},
     "output_type": "execute_result"
    }
   ],
   "source": [
    "J(0,1)\n",
    "w1_d(1)-w1_d(0)\n",
    "# w2_d(1)-w2_d(0)\n",
    "j1=0\n",
    "j2=1\n",
    "- gdm*gdt/2*(1/(wr+w1_d(j1)-w1_d(j1+1)) + 1/(wr+w2_d(j2)-w2_d(j2+1)) \n",
    "                                    + 1/(wr-w1_d(j1)+w1_d(j1+1)) + 1/(wr-w2_d(j2)+w2_d(j2+1))) \n",
    "J(0,0)"
   ]
  },
  {
   "cell_type": "markdown",
   "metadata": {},
   "source": [
    "## Build effective two-qubit Hamiltonian"
   ]
  },
  {
   "cell_type": "code",
   "execution_count": 325,
   "metadata": {
    "code_folding": [
     0,
     23
    ]
   },
   "outputs": [],
   "source": [
    "def get_possible_states(n):\n",
    "    \"\"\"\n",
    "    Get a list of tuples of possible states, given n\n",
    "    Ex) for n=2, output is [(0,0),(0,1),(1,0),(0,2),(1,1),(2,0)]\n",
    "    Args: \n",
    "        n: integer such that n1+n2<=n for |n1,n2> state\n",
    "    Return:\n",
    "        List of tuples that satisfy n1+n2<=n where n1 and n2 are 0,1,2,3,....\n",
    "    \"\"\"\n",
    "    def get_possible_sum(n):\n",
    "        \"\"\"\n",
    "         [(0,1)]\n",
    "        \"\"\"\n",
    "        result = []\n",
    "        for i in range(n+1):\n",
    "            result.append((i,n-i))\n",
    "        return result\n",
    "    \n",
    "    possible_list = []\n",
    "    for i in range(n + 1):\n",
    "        possible_list += get_possible_sum(i)\n",
    "    \n",
    "    return possible_list\n",
    "def kronecker_delta(i,j):\n",
    "    return (1 if i==j else 0)\n",
    "\n",
    "# Note\n",
    "# b1[i,j] = <i|b1|j>, where |i> = {|00>, |01>, |10>, |11>, ... |30>}\n",
    "# b1|n1_i,n2_i> = sqrt(n1_i)|n1_i-1,n2_i> where |i> = |n1_i, n2_i> and |j> = |n1_j, n2_j>\n",
    "# b2|n1_i,n2_i> = sqrt(n2_i)|n1_i,n2_i-1> where |i> = |n1_i, n2_i> and |j> = |n1_j, n2_j>\n",
    "# V = sqrt((n1+1)*(n2+1))*J_n1_n2*(|n1+1,n2><n1,n2+1|+|n1,n2+1><n1+1,n2|)\n",
    "\n",
    "# states = get_possible_states(3) # up to |3> state\n",
    "# unsorted_state_energy_dict = { s: w1_b(s[0]) + w2_b(s[1]) for s in states}\n",
    "# sorted_state_energy_dict = OrderedDict(sorted(unsorted_state_energy_dict.items(), key=lambda x: x[1]))\n",
    "\n",
    "# sorted_energy = np.array(list(sorted_state_energy_dict.values()))\n",
    "# sorted_states = list(sorted_state_energy_dict.keys())\n",
    "\n",
    "sorted_states= [(0,0),(0,1),(1,0),(1,1),(0,2),(2,0),(0,3),(1,2),(2,1),(3,0)] # correct\n",
    "# sorted_states= [(0,0),(1,0),(0,1),(0,2),(1,1),(2,0),(0,3),(1,2),(2,1),(3,0)]\n",
    "sorted_energy = [ w1_b(state[0])+w2_b(state[1]) for state in sorted_states]\n",
    "\n",
    "\n",
    "n = len(sorted_states)\n",
    "b1_array, b2_array, V0_array = np.zeros((n,n)), np.zeros((n,n)), np.zeros((n,n))\n",
    "\n",
    "for i, j in itertools.product(range(n), range(n)):\n",
    "    n1_i, n1_j = sorted_states[i][0], sorted_states[j][0]\n",
    "    n2_i, n2_j = sorted_states[i][1], sorted_states[j][1]\n",
    "    \n",
    "    # b1_array[i,j] = <n1_i, n2_i|b1|n1_j, n2_j>\n",
    "    b1_array[i, j] = np.sqrt(n1_j)* kronecker_delta(n1_i, n1_j-1) * kronecker_delta(n2_i, n2_j)\n",
    "    b2_array[i, j] = np.sqrt(n2_j)* kronecker_delta(n2_i, n2_j-1) * kronecker_delta(n1_i, n1_j)\n",
    "   \n",
    "    # 1) n1=n1_i-1, n2 = n2_i,  2) n1=n1_i, n2=n2_i-1\n",
    "    V0_array[i,j] = (np.sqrt(n1_i*(n2_i+1))*J(n1_i-1, n2_i)*kronecker_delta(n1_i-1, n1_j)*kronecker_delta(n2_i+1, n2_j)\n",
    "                   + np.sqrt((n1_i+1)*n2_i)*J(n1_i, n2_i-1)*kronecker_delta(n1_i+1, n1_j)*kronecker_delta(n2_i-1, n2_j))\n",
    "\n",
    "H0 = Qobj(np.diag(sorted_energy))    \n",
    "V0 = Qobj(V0_array)\n",
    "\n",
    "b1 = Qobj(b1_array)\n",
    "b2 = Qobj(b2_array)\n",
    "\n",
    "b1t = b1 + b1.dag()\n",
    "b2t = b2 + b2.dag()\n",
    "ntot = b1.dag()*b1 + b2.dag()*b2"
   ]
  },
  {
   "cell_type": "code",
   "execution_count": 326,
   "metadata": {},
   "outputs": [
    {
     "data": {
      "text/plain": [
       "OrderedDict([((0, 0), 0.0),\n",
       "             ((1, 0), 5158.326241134751),\n",
       "             ((0, 1), 5285.6),\n",
       "             ((0, 2), 10245.269422917763),\n",
       "             ((1, 1), 10443.926241134752),\n",
       "             ((2, 0), 10903.757575757576),\n",
       "             ((0, 3), 14836.797904403109),\n",
       "             ((1, 2), 15403.595664052515),\n",
       "             ((2, 1), 16189.357575757576),\n",
       "             ((3, 0), 16926.081632653062)])"
      ]
     },
     "execution_count": 326,
     "metadata": {},
     "output_type": "execute_result"
    }
   ],
   "source": [
    "sorted_state_energy_dict"
   ]
  },
  {
   "cell_type": "code",
   "execution_count": 110,
   "metadata": {},
   "outputs": [
    {
     "data": {
      "text/plain": [
       "array([    0.        ,  5285.6       ,  5158.32624113, 10443.92624113,\n",
       "       10245.26942292, 10903.75757576, 14836.7979044 , 15403.59566405,\n",
       "       16189.35757576, 16926.08163265])"
      ]
     },
     "execution_count": 110,
     "metadata": {},
     "output_type": "execute_result"
    }
   ],
   "source": [
    "sorted_energy"
   ]
  },
  {
   "cell_type": "code",
   "execution_count": 89,
   "metadata": {},
   "outputs": [
    {
     "data": {
      "text/latex": [
       "Quantum object: dims = [[10], [10]], shape = (10, 10), type = oper, isherm = False\\begin{equation*}\\left(\\begin{array}{*{11}c}0.0 & 1.0 & 0.0 & 0.0 & 0.0 & 0.0 & 0.0 & 0.0 & 0.0 & 0.0\\\\0.0 & 0.0 & 0.0 & 0.0 & 1.414 & 0.0 & 0.0 & 0.0 & 0.0 & 0.0\\\\0.0 & 0.0 & 0.0 & 1.0 & 0.0 & 0.0 & 0.0 & 0.0 & 0.0 & 0.0\\\\0.0 & 0.0 & 0.0 & 0.0 & 0.0 & 0.0 & 0.0 & 1.414 & 0.0 & 0.0\\\\0.0 & 0.0 & 0.0 & 0.0 & 0.0 & 0.0 & 1.732 & 0.0 & 0.0 & 0.0\\\\0.0 & 0.0 & 0.0 & 0.0 & 0.0 & 0.0 & 0.0 & 0.0 & 1.0 & 0.0\\\\0.0 & 0.0 & 0.0 & 0.0 & 0.0 & 0.0 & 0.0 & 0.0 & 0.0 & 0.0\\\\0.0 & 0.0 & 0.0 & 0.0 & 0.0 & 0.0 & 0.0 & 0.0 & 0.0 & 0.0\\\\0.0 & 0.0 & 0.0 & 0.0 & 0.0 & 0.0 & 0.0 & 0.0 & 0.0 & 0.0\\\\0.0 & 0.0 & 0.0 & 0.0 & 0.0 & 0.0 & 0.0 & 0.0 & 0.0 & 0.0\\\\\\end{array}\\right)\\end{equation*}"
      ],
      "text/plain": [
       "Quantum object: dims = [[10], [10]], shape = (10, 10), type = oper, isherm = False\n",
       "Qobj data =\n",
       "[[0.         1.         0.         0.         0.         0.\n",
       "  0.         0.         0.         0.        ]\n",
       " [0.         0.         0.         0.         1.41421356 0.\n",
       "  0.         0.         0.         0.        ]\n",
       " [0.         0.         0.         1.         0.         0.\n",
       "  0.         0.         0.         0.        ]\n",
       " [0.         0.         0.         0.         0.         0.\n",
       "  0.         1.41421356 0.         0.        ]\n",
       " [0.         0.         0.         0.         0.         0.\n",
       "  1.73205081 0.         0.         0.        ]\n",
       " [0.         0.         0.         0.         0.         0.\n",
       "  0.         0.         1.         0.        ]\n",
       " [0.         0.         0.         0.         0.         0.\n",
       "  0.         0.         0.         0.        ]\n",
       " [0.         0.         0.         0.         0.         0.\n",
       "  0.         0.         0.         0.        ]\n",
       " [0.         0.         0.         0.         0.         0.\n",
       "  0.         0.         0.         0.        ]\n",
       " [0.         0.         0.         0.         0.         0.\n",
       "  0.         0.         0.         0.        ]]"
      ]
     },
     "execution_count": 89,
     "metadata": {},
     "output_type": "execute_result"
    }
   ],
   "source": [
    "sorted_states"
   ]
  },
  {
   "cell_type": "code",
   "execution_count": 312,
   "metadata": {},
   "outputs": [
    {
     "data": {
      "text/latex": [
       "Quantum object: dims = [[10], [10]], shape = (10, 10), type = oper, isherm = True\\begin{equation*}\\left(\\begin{array}{*{11}c}0.0 & 0.0 & 0.0 & 0.0 & 0.0 & 0.0 & 0.0 & 0.0 & 0.0 & 0.0\\\\0.0 & 5.286\\times10^{+03} & 0.0 & 0.0 & 0.0 & 0.0 & 0.0 & 0.0 & 0.0 & 0.0\\\\0.0 & 0.0 & 5.158\\times10^{+03} & 0.0 & 0.0 & 0.0 & 0.0 & 0.0 & 0.0 & 0.0\\\\0.0 & 0.0 & 0.0 & 1.044\\times10^{+04} & 0.0 & 0.0 & 0.0 & 0.0 & 0.0 & 0.0\\\\0.0 & 0.0 & 0.0 & 0.0 & 1.025\\times10^{+04} & 0.0 & 0.0 & 0.0 & 0.0 & 0.0\\\\0.0 & 0.0 & 0.0 & 0.0 & 0.0 & 1.090\\times10^{+04} & 0.0 & 0.0 & 0.0 & 0.0\\\\0.0 & 0.0 & 0.0 & 0.0 & 0.0 & 0.0 & 1.484\\times10^{+04} & 0.0 & 0.0 & 0.0\\\\0.0 & 0.0 & 0.0 & 0.0 & 0.0 & 0.0 & 0.0 & 1.540\\times10^{+04} & 0.0 & 0.0\\\\0.0 & 0.0 & 0.0 & 0.0 & 0.0 & 0.0 & 0.0 & 0.0 & 1.619\\times10^{+04} & 0.0\\\\0.0 & 0.0 & 0.0 & 0.0 & 0.0 & 0.0 & 0.0 & 0.0 & 0.0 & 1.693\\times10^{+04}\\\\\\end{array}\\right)\\end{equation*}"
      ],
      "text/plain": [
       "Quantum object: dims = [[10], [10]], shape = (10, 10), type = oper, isherm = True\n",
       "Qobj data =\n",
       "[[    0.             0.             0.             0.\n",
       "      0.             0.             0.             0.\n",
       "      0.             0.        ]\n",
       " [    0.          5285.6            0.             0.\n",
       "      0.             0.             0.             0.\n",
       "      0.             0.        ]\n",
       " [    0.             0.          5158.32624113     0.\n",
       "      0.             0.             0.             0.\n",
       "      0.             0.        ]\n",
       " [    0.             0.             0.         10443.92624113\n",
       "      0.             0.             0.             0.\n",
       "      0.             0.        ]\n",
       " [    0.             0.             0.             0.\n",
       "  10245.26942292     0.             0.             0.\n",
       "      0.             0.        ]\n",
       " [    0.             0.             0.             0.\n",
       "      0.         10903.75757576     0.             0.\n",
       "      0.             0.        ]\n",
       " [    0.             0.             0.             0.\n",
       "      0.             0.         14836.7979044      0.\n",
       "      0.             0.        ]\n",
       " [    0.             0.             0.             0.\n",
       "      0.             0.             0.         15403.59566405\n",
       "      0.             0.        ]\n",
       " [    0.             0.             0.             0.\n",
       "      0.             0.             0.             0.\n",
       "  16189.35757576     0.        ]\n",
       " [    0.             0.             0.             0.\n",
       "      0.             0.             0.             0.\n",
       "      0.         16926.08163265]]"
      ]
     },
     "execution_count": 312,
     "metadata": {},
     "output_type": "execute_result"
    }
   ],
   "source": [
    "H0\n",
    "# V0\n",
    "# b2.dag()"
   ]
  },
  {
   "cell_type": "code",
   "execution_count": 133,
   "metadata": {},
   "outputs": [],
   "source": [
    "# states to consider\n",
    "# 00, 01,10,11,02,20,03,12,21,30\n",
    "diag = np.array([0, w2_b(1), w1_b(1), w1_b(1)+w2_b(1), w2_b(2), w1_b(2), w2_b(3)\n",
    "                 ,w1_b(1)+w2_b(2), w1_b(2)+w2_b(1), w1_b(3)])\n",
    "H0 = Qobj(np.diag(diag))\n",
    "\n",
    "b1dag = np.zeros((10,10))\n",
    "b1dag[2,0] = 1\n",
    "b1dag[3,1] = 1\n",
    "b1dag[5,2] = np.sqrt(2)\n",
    "b1dag[8,3] = np.sqrt(2)\n",
    "b1dag[7,4] = 1\n",
    "b1dag[9,5] = np.sqrt(3)\n",
    "b1dag = Qobj(b1dag)\n",
    "\n",
    "b2dag = np.zeros((10,10))\n",
    "b2dag[1,0] = 1\n",
    "b2dag[3,2] = 1\n",
    "b2dag[4,1] = np.sqrt(2)\n",
    "b2dag[7,3] = np.sqrt(2)\n",
    "b2dag[6,4] = np.sqrt(3)\n",
    "b2dag[8,5] = 1\n",
    "b2dag = Qobj(b2dag)\n",
    "\n",
    "V0  = np.zeros((10,10))\n",
    "V0[2,1] = J(0,0)\n",
    "V0[1,2] = J(0,0)\n",
    "V0[4,3] = np.sqrt(2)*J(0,1)\n",
    "V0[5,3] = np.sqrt(2)*J(1,0)\n",
    "V0[3,4] = np.sqrt(2)*J(0,1)\n",
    "V0[3,5] = np.sqrt(2)*J(1,0)\n",
    "V0[7,6] = np.sqrt(3)*J(0,2)\n",
    "V0[6,7] = np.sqrt(3)*J(0,2)\n",
    "V0[8,7] = np.sqrt(4)*J(1,1)\n",
    "V0[7,8] = np.sqrt(4)*J(1,1)\n",
    "V0[9,8] = np.sqrt(3)*J(2,0)\n",
    "V0[8,9] = np.sqrt(3)*J(2,0)\n",
    "V0 = Qobj(V0)\n",
    "\n",
    "b1 = b1dag.dag()\n",
    "b2 = b2dag.dag()\n",
    "\n",
    "b1t = b1 + b1dag\n",
    "b2t = b2 + b2dag\n",
    "ntot = b1dag*b1 + b2dag*b2"
   ]
  },
  {
   "cell_type": "code",
   "execution_count": 134,
   "metadata": {},
   "outputs": [
    {
     "data": {
      "text/latex": [
       "Quantum object: dims = [[10], [10]], shape = (10, 10), type = oper, isherm = True\\begin{equation*}\\left(\\begin{array}{*{11}c}0.0 & 0.0 & 0.0 & 0.0 & 0.0 & 0.0 & 0.0 & 0.0 & 0.0 & 0.0\\\\0.0 & 0.0 & 6.592 & 0.0 & 0.0 & 0.0 & 0.0 & 0.0 & 0.0 & 0.0\\\\0.0 & 6.592 & 0.0 & 0.0 & 0.0 & 0.0 & 0.0 & 0.0 & 0.0 & 0.0\\\\0.0 & 0.0 & 0.0 & 0.0 & 8.214 & 13.863 & 0.0 & 0.0 & 0.0 & 0.0\\\\0.0 & 0.0 & 0.0 & 8.214 & 0.0 & 0.0 & 0.0 & 0.0 & 0.0 & 0.0\\\\0.0 & 0.0 & 0.0 & 13.863 & 0.0 & 0.0 & 0.0 & 0.0 & 0.0 & 0.0\\\\0.0 & 0.0 & 0.0 & 0.0 & 0.0 & 0.0 & 0.0 & 9.169 & 0.0 & 0.0\\\\0.0 & 0.0 & 0.0 & 0.0 & 0.0 & 0.0 & 9.169 & 0.0 & 18.036 & 0.0\\\\0.0 & 0.0 & 0.0 & 0.0 & 0.0 & 0.0 & 0.0 & 18.036 & 0.0 & 63.022\\\\0.0 & 0.0 & 0.0 & 0.0 & 0.0 & 0.0 & 0.0 & 0.0 & 63.022 & 0.0\\\\\\end{array}\\right)\\end{equation*}"
      ],
      "text/plain": [
       "Quantum object: dims = [[10], [10]], shape = (10, 10), type = oper, isherm = True\n",
       "Qobj data =\n",
       "[[ 0.          0.          0.          0.          0.          0.\n",
       "   0.          0.          0.          0.        ]\n",
       " [ 0.          0.          6.59245214  0.          0.          0.\n",
       "   0.          0.          0.          0.        ]\n",
       " [ 0.          6.59245214  0.          0.          0.          0.\n",
       "   0.          0.          0.          0.        ]\n",
       " [ 0.          0.          0.          0.          8.21399833 13.8625133\n",
       "   0.          0.          0.          0.        ]\n",
       " [ 0.          0.          0.          8.21399833  0.          0.\n",
       "   0.          0.          0.          0.        ]\n",
       " [ 0.          0.          0.         13.8625133   0.          0.\n",
       "   0.          0.          0.          0.        ]\n",
       " [ 0.          0.          0.          0.          0.          0.\n",
       "   0.          9.1692497   0.          0.        ]\n",
       " [ 0.          0.          0.          0.          0.          0.\n",
       "   9.1692497   0.         18.03599788  0.        ]\n",
       " [ 0.          0.          0.          0.          0.          0.\n",
       "   0.         18.03599788  0.         63.0216929 ]\n",
       " [ 0.          0.          0.          0.          0.          0.\n",
       "   0.          0.         63.0216929   0.        ]]"
      ]
     },
     "execution_count": 134,
     "metadata": {},
     "output_type": "execute_result"
    }
   ],
   "source": [
    "V0"
   ]
  },
  {
   "cell_type": "code",
   "execution_count": 135,
   "metadata": {},
   "outputs": [
    {
     "data": {
      "text/latex": [
       "Quantum object: dims = [[10], [10]], shape = (10, 10), type = oper, isherm = True\\begin{equation*}\\left(\\begin{array}{*{11}c}0.0 & 0.0 & 0.0 & 0.0 & 0.0 & 0.0 & 0.0 & 0.0 & 0.0 & 0.0\\\\0.0 & 5.286\\times10^{+03} & 0.0 & 0.0 & 0.0 & 0.0 & 0.0 & 0.0 & 0.0 & 0.0\\\\0.0 & 0.0 & 5.158\\times10^{+03} & 0.0 & 0.0 & 0.0 & 0.0 & 0.0 & 0.0 & 0.0\\\\0.0 & 0.0 & 0.0 & 1.044\\times10^{+04} & 0.0 & 0.0 & 0.0 & 0.0 & 0.0 & 0.0\\\\0.0 & 0.0 & 0.0 & 0.0 & 1.025\\times10^{+04} & 0.0 & 0.0 & 0.0 & 0.0 & 0.0\\\\0.0 & 0.0 & 0.0 & 0.0 & 0.0 & 1.090\\times10^{+04} & 0.0 & 0.0 & 0.0 & 0.0\\\\0.0 & 0.0 & 0.0 & 0.0 & 0.0 & 0.0 & 1.484\\times10^{+04} & 0.0 & 0.0 & 0.0\\\\0.0 & 0.0 & 0.0 & 0.0 & 0.0 & 0.0 & 0.0 & 1.540\\times10^{+04} & 0.0 & 0.0\\\\0.0 & 0.0 & 0.0 & 0.0 & 0.0 & 0.0 & 0.0 & 0.0 & 1.619\\times10^{+04} & 0.0\\\\0.0 & 0.0 & 0.0 & 0.0 & 0.0 & 0.0 & 0.0 & 0.0 & 0.0 & 1.693\\times10^{+04}\\\\\\end{array}\\right)\\end{equation*}"
      ],
      "text/plain": [
       "Quantum object: dims = [[10], [10]], shape = (10, 10), type = oper, isherm = True\n",
       "Qobj data =\n",
       "[[    0.             0.             0.             0.\n",
       "      0.             0.             0.             0.\n",
       "      0.             0.        ]\n",
       " [    0.          5285.6            0.             0.\n",
       "      0.             0.             0.             0.\n",
       "      0.             0.        ]\n",
       " [    0.             0.          5158.32624113     0.\n",
       "      0.             0.             0.             0.\n",
       "      0.             0.        ]\n",
       " [    0.             0.             0.         10443.92624113\n",
       "      0.             0.             0.             0.\n",
       "      0.             0.        ]\n",
       " [    0.             0.             0.             0.\n",
       "  10245.26942292     0.             0.             0.\n",
       "      0.             0.        ]\n",
       " [    0.             0.             0.             0.\n",
       "      0.         10903.75757576     0.             0.\n",
       "      0.             0.        ]\n",
       " [    0.             0.             0.             0.\n",
       "      0.             0.         14836.7979044      0.\n",
       "      0.             0.        ]\n",
       " [    0.             0.             0.             0.\n",
       "      0.             0.             0.         15403.59566405\n",
       "      0.             0.        ]\n",
       " [    0.             0.             0.             0.\n",
       "      0.             0.             0.             0.\n",
       "  16189.35757576     0.        ]\n",
       " [    0.             0.             0.             0.\n",
       "      0.             0.             0.             0.\n",
       "      0.         16926.08163265]]"
      ]
     },
     "execution_count": 135,
     "metadata": {},
     "output_type": "execute_result"
    }
   ],
   "source": [
    "H0"
   ]
  },
  {
   "cell_type": "code",
   "execution_count": 118,
   "metadata": {},
   "outputs": [
    {
     "data": {
      "text/latex": [
       "Quantum object: dims = [[10], [10]], shape = (10, 10), type = oper, isherm = False\\begin{equation*}\\left(\\begin{array}{*{11}c}0.0 & 0.0 & 0.0 & 0.0 & 0.0 & 0.0 & 0.0 & 0.0 & 0.0 & 0.0\\\\1.0 & 0.0 & 0.0 & 0.0 & 0.0 & 0.0 & 0.0 & 0.0 & 0.0 & 0.0\\\\0.0 & 0.0 & 0.0 & 0.0 & 0.0 & 0.0 & 0.0 & 0.0 & 0.0 & 0.0\\\\0.0 & 0.0 & 1.0 & 0.0 & 0.0 & 0.0 & 0.0 & 0.0 & 0.0 & 0.0\\\\0.0 & 1.414 & 0.0 & 0.0 & 0.0 & 0.0 & 0.0 & 0.0 & 0.0 & 0.0\\\\0.0 & 0.0 & 0.0 & 0.0 & 0.0 & 0.0 & 0.0 & 0.0 & 0.0 & 0.0\\\\0.0 & 0.0 & 0.0 & 0.0 & 1.732 & 0.0 & 0.0 & 0.0 & 0.0 & 0.0\\\\0.0 & 0.0 & 0.0 & 1.414 & 0.0 & 0.0 & 0.0 & 0.0 & 0.0 & 0.0\\\\0.0 & 0.0 & 0.0 & 0.0 & 0.0 & 1.0 & 0.0 & 0.0 & 0.0 & 0.0\\\\0.0 & 0.0 & 0.0 & 0.0 & 0.0 & 0.0 & 0.0 & 0.0 & 0.0 & 0.0\\\\\\end{array}\\right)\\end{equation*}"
      ],
      "text/plain": [
       "Quantum object: dims = [[10], [10]], shape = (10, 10), type = oper, isherm = False\n",
       "Qobj data =\n",
       "[[0.         0.         0.         0.         0.         0.\n",
       "  0.         0.         0.         0.        ]\n",
       " [1.         0.         0.         0.         0.         0.\n",
       "  0.         0.         0.         0.        ]\n",
       " [0.         0.         0.         0.         0.         0.\n",
       "  0.         0.         0.         0.        ]\n",
       " [0.         0.         1.         0.         0.         0.\n",
       "  0.         0.         0.         0.        ]\n",
       " [0.         1.41421356 0.         0.         0.         0.\n",
       "  0.         0.         0.         0.        ]\n",
       " [0.         0.         0.         0.         0.         0.\n",
       "  0.         0.         0.         0.        ]\n",
       " [0.         0.         0.         0.         1.73205081 0.\n",
       "  0.         0.         0.         0.        ]\n",
       " [0.         0.         0.         1.41421356 0.         0.\n",
       "  0.         0.         0.         0.        ]\n",
       " [0.         0.         0.         0.         0.         1.\n",
       "  0.         0.         0.         0.        ]\n",
       " [0.         0.         0.         0.         0.         0.\n",
       "  0.         0.         0.         0.        ]]"
      ]
     },
     "execution_count": 118,
     "metadata": {},
     "output_type": "execute_result"
    }
   ],
   "source": [
    "b2dag"
   ]
  },
  {
   "cell_type": "markdown",
   "metadata": {},
   "source": [
    "## Diagonalize two-qubit Hamiltonian"
   ]
  },
  {
   "cell_type": "code",
   "execution_count": 313,
   "metadata": {},
   "outputs": [
    {
     "name": "stdout",
     "output_type": "stream",
     "text": [
      "[0, 2, 1, 4, 3, 5, 6, 7, 8, 9]\n"
     ]
    }
   ],
   "source": [
    "# By solving eigenvalue\n",
    "H1 = H0 + V0\n",
    "eigen = H1.eigenstates()\n",
    "\n",
    "# find U\n",
    "U = sorted_diag_op(eigen)\n",
    "U_unsort_array = np.column_stack([eigen[1][i] for i in range(eigen[1].size)])\n",
    "U_unsort = Qobj(U_unsort_array) \n",
    "\n",
    "U.dims = H1.dims\n",
    "\n",
    "# U = U_unsort\n",
    "\n",
    "# digonalize H0\n",
    "H2 = U.dag() * H1 * U"
   ]
  },
  {
   "cell_type": "code",
   "execution_count": 304,
   "metadata": {},
   "outputs": [
    {
     "data": {
      "text/latex": [
       "Quantum object: dims = [[10], [10]], shape = (10, 10), type = oper, isherm = True\\begin{equation*}\\left(\\begin{array}{*{11}c}0.0 & 0.0 & 0.0 & 0.0 & 0.0 & 0.0 & 0.0 & 0.0 & 0.0 & 0.0\\\\0.0 & 5.158\\times10^{+03} & 0.0 & 0.0 & 0.0 & 0.0 & 0.0 & 0.0 & 0.0 & 0.0\\\\0.0 & 0.0 & 5.286\\times10^{+03} & 0.0 & 0.0 & 0.0 & 0.0 & 0.0 & 0.0 & 0.0\\\\0.0 & 0.0 & 0.0 & 1.024\\times10^{+04} & 0.0 & 0.0 & 0.0 & 0.0 & 0.0 & 0.0\\\\0.0 & 0.0 & 0.0 & 0.0 & 1.044\\times10^{+04} & 0.0 & 0.0 & 0.0 & 0.0 & 0.0\\\\0.0 & 0.0 & 0.0 & 0.0 & 0.0 & 1.090\\times10^{+04} & 0.0 & 0.0 & 0.0 & 0.0\\\\0.0 & 0.0 & 0.0 & 0.0 & 0.0 & 0.0 & 1.484\\times10^{+04} & 0.0 & 0.0 & 0.0\\\\0.0 & 0.0 & 0.0 & 0.0 & 0.0 & 0.0 & 0.0 & 1.540\\times10^{+04} & 0.0 & 0.0\\\\0.0 & 0.0 & 0.0 & 0.0 & 0.0 & 0.0 & 0.0 & 0.0 & 1.618\\times10^{+04} & 0.0\\\\0.0 & 0.0 & 0.0 & 0.0 & 0.0 & 0.0 & 0.0 & 0.0 & 0.0 & 1.693\\times10^{+04}\\\\\\end{array}\\right)\\end{equation*}"
      ],
      "text/plain": [
       "Quantum object: dims = [[10], [10]], shape = (10, 10), type = oper, isherm = True\n",
       "Qobj data =\n",
       "[[    0.             0.             0.             0.\n",
       "      0.             0.             0.             0.\n",
       "      0.             0.        ]\n",
       " [    0.          5157.98568041     0.             0.\n",
       "      0.             0.             0.             0.\n",
       "      0.             0.        ]\n",
       " [    0.             0.          5285.94056072     0.\n",
       "      0.             0.             0.             0.\n",
       "      0.             0.        ]\n",
       " [    0.             0.             0.         10244.92987496\n",
       "      0.             0.             0.             0.\n",
       "      0.             0.        ]\n",
       " [    0.             0.             0.             0.\n",
       "  10443.84816286     0.             0.             0.\n",
       "      0.             0.        ]\n",
       " [    0.             0.             0.             0.\n",
       "      0.         10904.17520199     0.             0.\n",
       "      0.             0.        ]\n",
       " [    0.             0.             0.             0.\n",
       "      0.             0.         14836.64954662     0.\n",
       "      0.             0.        ]\n",
       " [    0.             0.             0.             0.\n",
       "      0.             0.             0.         15403.32884064\n",
       "      0.             0.        ]\n",
       " [    0.             0.             0.             0.\n",
       "      0.             0.             0.             0.\n",
       "  16184.4190409      0.        ]\n",
       " [    0.             0.             0.             0.\n",
       "      0.             0.             0.             0.\n",
       "      0.         16931.4353487 ]]"
      ]
     },
     "execution_count": 304,
     "metadata": {},
     "output_type": "execute_result"
    }
   ],
   "source": [
    "H2\n",
    "# U\n",
    "# U_unsort"
   ]
  },
  {
   "cell_type": "markdown",
   "metadata": {},
   "source": [
    "## Driving Hamiltonian in dressed state"
   ]
  },
  {
   "cell_type": "code",
   "execution_count": 321,
   "metadata": {
    "scrolled": false
   },
   "outputs": [
    {
     "data": {
      "text/latex": [
       "Quantum object: dims = [[10], [10]], shape = (10, 10), type = oper, isherm = False\\begin{equation*}\\left(\\begin{array}{*{11}c}0.0 & (1.300-0.005j) & (25.163-0.095j) & 0.0 & 0.0 & 0.0 & 0.0 & 0.0 & 0.0 & 0.0\\\\(1.300+0.005j) & 0.039 & 0.0 & (25.075-0.095j) & (1.038-0.004j) & (-2.595+0.010j) & 0.0 & 0.0 & 0.0 & 0.0\\\\(25.163+0.095j) & 0.0 & -127.916 & (-2.369+0.009j) & (-0.085+3.196\\times10^{-04}j) & (-35.530+0.134j) & 0.0 & 0.0 & 0.0 & 0.0\\\\0.0 & (25.075+0.095j) & (-2.369-0.009j) & -127.955 & 0.0 & 0.0 & -0.009 & (0.220-8.319\\times10^{-04}j) & (35.585-0.134j) & (1.704-0.006j)\\\\0.0 & (1.038+0.004j) & (-0.085-3.196\\times10^{-04}j) & 0.0 & -326.873 & 0.0 & (0.408-0.002j) & (-25.199+0.095j) & (0.890-0.003j) & (0.062-2.328\\times10^{-04}j)\\\\0.0 & (-2.595-0.010j) & (-35.530-0.134j) & 0.0 & 0.0 & 332.372 & 2.054\\times10^{-04} & -0.026 & (2.623-0.010j) & (-43.556+0.165j)\\\\0.0 & 0.0 & 0.0 & -0.009 & (0.408+0.002j) & 2.054\\times10^{-04} & -1.021\\times10^{+03} & 0.0 & 0.0 & 0.0\\\\0.0 & 0.0 & 0.0 & (0.220+8.319\\times10^{-04}j) & (-25.199-0.095j) & -0.026 & 0.0 & -454.376 & 0.0 & 0.0\\\\0.0 & 0.0 & 0.0 & (35.585+0.134j) & (0.890+0.003j) & (2.623+0.010j) & 0.0 & 0.0 & 326.714 & 0.0\\\\0.0 & 0.0 & 0.0 & (1.704+0.006j) & (0.062+2.328\\times10^{-04}j) & (-43.556-0.165j) & 0.0 & 0.0 & 0.0 & 1.074\\times10^{+03}\\\\\\end{array}\\right)\\end{equation*}"
      ],
      "text/plain": [
       "Quantum object: dims = [[10], [10]], shape = (10, 10), type = oper, isherm = False\n",
       "Qobj data =\n",
       "[[ 0.00000000e+00+0.j          1.29989460e+00-0.00491003j\n",
       "   2.51628925e+01-0.09504667j  0.00000000e+00+0.j\n",
       "   0.00000000e+00+0.j          0.00000000e+00+0.j\n",
       "   0.00000000e+00+0.j          0.00000000e+00+0.j\n",
       "   0.00000000e+00+0.j          0.00000000e+00+0.j        ]\n",
       " [ 1.29989460e+00+0.00491003j  3.90391377e-02+0.j\n",
       "   0.00000000e+00+0.j          2.50746618e+01-0.0947134j\n",
       "   1.03769099e+00-0.00391962j -2.59521579e+00+0.00980279j\n",
       "   0.00000000e+00+0.j          0.00000000e+00+0.j\n",
       "   0.00000000e+00+0.j          0.00000000e+00+0.j        ]\n",
       " [ 2.51628925e+01+0.09504667j  0.00000000e+00+0.j\n",
       "  -1.27915841e+02+0.j         -2.36941167e+00+0.00894987j\n",
       "  -8.46146292e-02+0.00031961j -3.55304204e+01+0.13420747j\n",
       "   0.00000000e+00+0.j          0.00000000e+00+0.j\n",
       "   0.00000000e+00+0.j          0.00000000e+00+0.j        ]\n",
       " [ 0.00000000e+00+0.j          2.50746618e+01+0.0947134j\n",
       "  -2.36941167e+00-0.00894987j -1.27954880e+02+0.j\n",
       "   0.00000000e+00+0.j          0.00000000e+00+0.j\n",
       "  -9.14337709e-03+0.j          2.20244458e-01-0.00083192j\n",
       "   3.55845542e+01-0.13441195j  1.70428121e+00-0.00643751j]\n",
       " [ 0.00000000e+00+0.j          1.03769099e+00+0.00391962j\n",
       "  -8.46146292e-02-0.00031961j  0.00000000e+00+0.j\n",
       "  -3.26873168e+02+0.j          0.00000000e+00+0.j\n",
       "   4.07593431e-01-0.00153958j -2.51988668e+01+0.09518256j\n",
       "   8.89960346e-01-0.00336161j  6.16288865e-02-0.00023279j]\n",
       " [ 0.00000000e+00+0.j         -2.59521579e+00-0.00980279j\n",
       "  -3.55304204e+01-0.13420747j  0.00000000e+00+0.j\n",
       "   0.00000000e+00+0.j          3.32372159e+02+0.j\n",
       "   2.05444847e-04+0.j         -2.63082717e-02+0.j\n",
       "   2.62331480e+00-0.00990893j -4.35559908e+01+0.1645221j ]\n",
       " [ 0.00000000e+00+0.j          0.00000000e+00+0.j\n",
       "   0.00000000e+00+0.j         -9.14337709e-03+0.j\n",
       "   4.07593431e-01+0.00153958j  2.05444847e-04+0.j\n",
       "  -1.02105502e+03+0.j          0.00000000e+00+0.j\n",
       "   0.00000000e+00+0.j          0.00000000e+00+0.j        ]\n",
       " [ 0.00000000e+00+0.j          0.00000000e+00+0.j\n",
       "   0.00000000e+00+0.j          2.20244458e-01+0.00083192j\n",
       "  -2.51988668e+01-0.09518256j -2.63082717e-02+0.j\n",
       "   0.00000000e+00+0.j         -4.54375724e+02+0.j\n",
       "   0.00000000e+00+0.j          0.00000000e+00+0.j        ]\n",
       " [ 0.00000000e+00+0.j          0.00000000e+00+0.j\n",
       "   0.00000000e+00+0.j          3.55845542e+01+0.13441195j\n",
       "   8.89960346e-01+0.00336161j  2.62331480e+00+0.00990893j\n",
       "   0.00000000e+00+0.j          0.00000000e+00+0.j\n",
       "   3.26714476e+02+0.j          0.00000000e+00+0.j        ]\n",
       " [ 0.00000000e+00+0.j          0.00000000e+00+0.j\n",
       "   0.00000000e+00+0.j          1.70428121e+00+0.00643751j\n",
       "   6.16288865e-02+0.00023279j -4.35559908e+01-0.1645221j\n",
       "   0.00000000e+00+0.j          0.00000000e+00+0.j\n",
       "   0.00000000e+00+0.j          1.07373078e+03+0.j        ]]"
      ]
     },
     "execution_count": 321,
     "metadata": {},
     "output_type": "execute_result"
    }
   ],
   "source": [
    "# get new Hd and HR\n",
    "Omega = 50 # MHz\n",
    "\n",
    "wd = (H2[3,3]-H2[2,2]+H2[1,1])/2  # 10443 - 5157 + 5285 in MHz(|11>, |10>, |01>)\n",
    "# wd = (H2[4,4]-H2[1,1]+H2[2,2])/2  # 10443 - 5157 + 5285 in MHz(|11>, |10>, |01>)\n",
    "Hd = lambda t: Omega * np.cos(2*pi*wd*t)* b1t\n",
    "Hd_D = lambda t: U.dag() * Hd(t) * U\n",
    "\n",
    "# To rotating frame\n",
    "R = lambda t: (-1j*2*pi*wd*ntot*t).expm()\n",
    "HR = lambda t: R(t).dag() * (H2 + Hd_D(t)) * R(t) - ntot *wd\n",
    "\n",
    "# average over 10 period\n",
    "t_list = np.linspace(0, 2, 401)*1e-3  # in us\n",
    "HR_list = [HR(t) for t in t_list]\n",
    "H_R = functools.reduce(operator.add, HR_list) / len(HR_list)\n",
    "H_R.tidyup(1e-4)"
   ]
  },
  {
   "cell_type": "code",
   "execution_count": 315,
   "metadata": {},
   "outputs": [
    {
     "data": {
      "text/plain": [
       "(5285.901521586962+0j)"
      ]
     },
     "execution_count": 315,
     "metadata": {},
     "output_type": "execute_result"
    }
   ],
   "source": [
    "wd"
   ]
  },
  {
   "cell_type": "code",
   "execution_count": 23,
   "metadata": {},
   "outputs": [],
   "source": [
    "avg_list = []\n",
    "for N in range(2,401):\n",
    "    temp = (functools.reduce(operator.add,[HR_list[i] for i in range(N)]) / N)\n",
    "    temp = np.real(temp[0,1])\n",
    "    avg_list.append(temp)\n",
    "    "
   ]
  },
  {
   "cell_type": "code",
   "execution_count": 24,
   "metadata": {},
   "outputs": [
    {
     "data": {
      "text/plain": [
       "[<matplotlib.lines.Line2D at 0x7fd7c55a50d0>]"
      ]
     },
     "execution_count": 24,
     "metadata": {},
     "output_type": "execute_result"
    }
   ],
   "source": [
    " plt.plot(avg_list)\n",
    "    \n",
    "# f=np.fft.fft(avg_list)\n",
    "# plt.plot(np.absolute(f))\n",
    "# plt.yscale('log')"
   ]
  },
  {
   "cell_type": "markdown",
   "metadata": {},
   "source": [
    "## Least action"
   ]
  },
  {
   "cell_type": "code",
   "execution_count": 322,
   "metadata": {},
   "outputs": [
    {
     "name": "stdout",
     "output_type": "stream",
     "text": [
      "[6, 7, 4, 3, 2, 1, 0, 8, 5, 9]\n"
     ]
    },
    {
     "data": {
      "text/latex": [
       "Quantum object: dims = [[10], [10]], shape = (10, 10), type = oper, isherm = True\\begin{equation*}\\left(\\begin{array}{*{11}c}4.644 & (1.128-0.004j) & 0.0 & 0.0 & 0.0 & 0.0 & 0.0 & 0.0 & 0.0 & 0.0\\\\(1.128+0.004j) & 4.632 & 0.0 & 0.0 & 0.0 & 0.0 & 0.0 & 0.0 & 0.0 & 0.0\\\\0.0 & 0.0 & -135.309 & (-2.209+0.008j) & 0.0 & 0.0 & 0.0 & 0.0 & 0.0 & 0.0\\\\0.0 & 0.0 & (-2.209-0.008j) & -135.345 & 0.0 & 0.0 & 0.0 & 0.0 & 0.0 & 0.0\\\\0.0 & 0.0 & 0.0 & 0.0 & -326.877 & -0.005 & (0.408-0.002j) & (-25.199+0.095j) & (0.909-0.003j) & (0.062-2.355\\times10^{-04}j)\\\\0.0 & 0.0 & 0.0 & 0.0 & -0.005 & 335.140 & 2.052\\times10^{-04} & -0.026 & (2.609-0.010j) & (-43.506+0.164j)\\\\0.0 & 0.0 & 0.0 & 0.0 & (0.408+0.002j) & 2.052\\times10^{-04} & -1.021\\times10^{+03} & 0.0 & -1.657\\times10^{-04} & 0.0\\\\0.0 & 0.0 & 0.0 & 0.0 & (-25.199-0.095j) & -0.026 & 0.0 & -454.376 & -0.005 & -4.982\\times10^{-04}\\\\0.0 & 0.0 & 0.0 & 0.0 & (0.909+0.003j) & (2.609+0.010j) & -1.657\\times10^{-04} & -0.005 & 329.494 & 0.091\\\\0.0 & 0.0 & 0.0 & 0.0 & (0.062+2.355\\times10^{-04}j) & (-43.506-0.164j) & 0.0 & -4.982\\times10^{-04} & 0.091 & 1.074\\times10^{+03}\\\\\\end{array}\\right)\\end{equation*}"
      ],
      "text/plain": [
       "Quantum object: dims = [[10], [10]], shape = (10, 10), type = oper, isherm = True\n",
       "Qobj data =\n",
       "[[ 4.64430544e+00+0.j          1.12777848e+00-0.00425991j\n",
       "   0.00000000e+00+0.j          0.00000000e+00+0.j\n",
       "   0.00000000e+00+0.j          0.00000000e+00+0.j\n",
       "   0.00000000e+00+0.j          0.00000000e+00+0.j\n",
       "   0.00000000e+00+0.j          0.00000000e+00+0.j        ]\n",
       " [ 1.12777848e+00+0.00425991j  4.63211583e+00+0.j\n",
       "   0.00000000e+00+0.j          0.00000000e+00+0.j\n",
       "   0.00000000e+00+0.j          0.00000000e+00+0.j\n",
       "   0.00000000e+00+0.j          0.00000000e+00+0.j\n",
       "   0.00000000e+00+0.j          0.00000000e+00+0.j        ]\n",
       " [ 0.00000000e+00+0.j          0.00000000e+00+0.j\n",
       "  -1.35308699e+02+0.j         -2.20939031e+00+0.00834543j\n",
       "   0.00000000e+00+0.j          0.00000000e+00+0.j\n",
       "   0.00000000e+00+0.j          0.00000000e+00+0.j\n",
       "   0.00000000e+00+0.j          0.00000000e+00+0.j        ]\n",
       " [ 0.00000000e+00+0.j          0.00000000e+00+0.j\n",
       "  -2.20939031e+00-0.00834543j -1.35345488e+02+0.j\n",
       "   0.00000000e+00+0.j          0.00000000e+00+0.j\n",
       "   0.00000000e+00+0.j          0.00000000e+00+0.j\n",
       "   0.00000000e+00+0.j          0.00000000e+00+0.j        ]\n",
       " [ 0.00000000e+00+0.j          0.00000000e+00+0.j\n",
       "   0.00000000e+00+0.j          0.00000000e+00+0.j\n",
       "  -3.26876569e+02+0.j         -4.51779390e-03+0.j\n",
       "   4.07588633e-01-0.00153958j -2.51986545e+01+0.09518175j\n",
       "   9.08633485e-01-0.00343214j  6.23424294e-02-0.00023548j]\n",
       " [ 0.00000000e+00+0.j          0.00000000e+00+0.j\n",
       "   0.00000000e+00+0.j          0.00000000e+00+0.j\n",
       "  -4.51779390e-03+0.j          3.35139563e+02+0.j\n",
       "   2.05195344e-04+0.j         -2.60285552e-02+0.j\n",
       "   2.60875816e+00-0.00985395j -4.35059989e+01+0.16433327j]\n",
       " [ 0.00000000e+00+0.j          0.00000000e+00+0.j\n",
       "   0.00000000e+00+0.j          0.00000000e+00+0.j\n",
       "   4.07588633e-01+0.00153958j  2.05195344e-04+0.j\n",
       "  -1.02105502e+03+0.j          0.00000000e+00+0.j\n",
       "  -1.65671942e-04+0.j          0.00000000e+00+0.j        ]\n",
       " [ 0.00000000e+00+0.j          0.00000000e+00+0.j\n",
       "   0.00000000e+00+0.j          0.00000000e+00+0.j\n",
       "  -2.51986545e+01-0.09518175j -2.60285552e-02+0.j\n",
       "   0.00000000e+00+0.j         -4.54375892e+02+0.j\n",
       "  -5.05917496e-03+0.j         -4.98229514e-04+0.j        ]\n",
       " [ 0.00000000e+00+0.j          0.00000000e+00+0.j\n",
       "   0.00000000e+00+0.j          0.00000000e+00+0.j\n",
       "   9.08633485e-01+0.00343214j  2.60875816e+00+0.00985395j\n",
       "  -1.65671942e-04+0.j         -5.05917496e-03+0.j\n",
       "   3.29494331e+02+0.j          9.14533243e-02+0.j        ]\n",
       " [ 0.00000000e+00+0.j          0.00000000e+00+0.j\n",
       "   0.00000000e+00+0.j          0.00000000e+00+0.j\n",
       "   6.23424294e-02+0.00023548j -4.35059989e+01-0.16433327j\n",
       "   0.00000000e+00+0.j         -4.98229514e-04+0.j\n",
       "   9.14533243e-02+0.j          1.07373318e+03+0.j        ]]"
      ]
     },
     "execution_count": 322,
     "metadata": {},
     "output_type": "execute_result"
    }
   ],
   "source": [
    "# least action\n",
    "eigen = H_R.eigenstates()\n",
    "\n",
    "# find X\n",
    "X = sorted_diag_op(eigen)\n",
    "X_unsort_array = np.column_stack([eigen[1][i] for i in range(eigen[1].size)])\n",
    "X_unsort = Qobj(X_unsort_array) \n",
    "# X = X_unsort\n",
    "\n",
    "# find X_BD and XP\n",
    "A, B, C = X[0:2,0:2], X[2:4, 2:4], X[4:10, 4:10]\n",
    "X_BD_array = block_diag(A,B,C)\n",
    "X_BD = Qobj(X_BD_array)  # X_BD is a block-diagonalization of X. How?\n",
    "# X_BD = X_BD.tidyup(atol=1e-3)\n",
    "XP = X_BD * X_BD.dag()\n",
    "\n",
    "# find T=XF, F=X_BD/sqrt(X_BD*X_BD.dag())\n",
    "T = X * X_BD.dag() * XP.sqrtm().inv()\n",
    "\n",
    "# find H_R_BD\n",
    "T.dims = H_R.dims\n",
    "H_R_BD =  T.dag() * H_R * T\n",
    "H_R_BD.tidyup(1e-4)"
   ]
  },
  {
   "cell_type": "code",
   "execution_count": 324,
   "metadata": {},
   "outputs": [
    {
     "data": {
      "text/latex": [
       "Quantum object: dims = [[10], [10]], shape = (10, 10), type = oper, isherm = False\\begin{equation*}\\left(\\begin{array}{*{11}c}0.698 & (-0.693+0.003j) & -0.133 & -0.125 & 0.0 & -0.005 & 0.0 & 0.0 & 0.003 & 0.0\\\\(0.694+0.003j) & 0.696 & 0.132 & -0.125 & -0.003 & -0.004 & 0.0 & 0.0 & 0.009 & 0.0\\\\0.124 & -0.133 & 0.695 & (0.691-0.003j) & 0.0 & -0.067 & 0.0 & 0.0 & 0.038 & 0.002\\\\0.124 & 0.131 & (-0.690-0.003j) & 0.697 & 0.0 & 0.038 & 0.0 & 0.0 & 0.068 & 0.001\\\\0.002 & 0.002 & 0.0 & -0.001 & 0.982 & 0.0 & 0.0 & 0.187 & 0.001 & 0.0\\\\0.019 & -0.009 & 0.054 & 0.052 & 0.0 & 0.865 & 0.0 & 0.0 & (-0.493+0.002j) & -0.059\\\\0.0 & 0.0 & 0.0 & 0.0 & 0.0 & 0.0 & 1.000 & 0.0 & 0.0 & 0.0\\\\0.0 & 0.0 & 0.0 & 0.0 & -0.187 & 0.0 & 0.0 & 0.982 & 0.0 & 0.0\\\\-0.014 & -0.014 & 0.053 & -0.054 & -0.001 & (0.494+0.002j) & 0.0 & 0.0 & 0.866 & 0.0\\\\0.0 & 0.0 & 0.003 & 0.0 & 0.0 & 0.051 & 0.0 & 0.0 & -0.029 & 0.998\\\\\\end{array}\\right)\\end{equation*}"
      ],
      "text/plain": [
       "Quantum object: dims = [[10], [10]], shape = (10, 10), type = oper, isherm = False\n",
       "Qobj data =\n",
       "[[ 0.69776416+0.j         -0.69265965+0.00261635j -0.13273671+0.j\n",
       "  -0.12524518+0.j          0.        +0.j         -0.00505923+0.j\n",
       "   0.        +0.j          0.        +0.j          0.002968  +0.j\n",
       "   0.        +0.j        ]\n",
       " [ 0.69406632+0.00262167j  0.69648618+0.j          0.13220916+0.j\n",
       "  -0.12483709+0.j         -0.00323384+0.j         -0.00385647+0.j\n",
       "   0.        +0.j          0.        +0.j          0.00909786+0.j\n",
       "   0.        +0.j        ]\n",
       " [ 0.12403372+0.j         -0.132611  +0.j          0.69537857+0.j\n",
       "   0.69102999-0.00261019j  0.        +0.j         -0.06697025+0.j\n",
       "   0.        +0.j          0.        +0.j          0.03822017+0.j\n",
       "   0.00172507+0.j        ]\n",
       " [ 0.12424636+0.j          0.13132881+0.j         -0.68965584-0.002605j\n",
       "   0.69685992+0.j          0.        +0.j          0.03835076+0.j\n",
       "   0.        +0.j          0.        +0.j          0.06778465+0.j\n",
       "   0.00140896+0.j        ]\n",
       " [ 0.00210072+0.j          0.00218698+0.j          0.        +0.j\n",
       "  -0.0013231 +0.j          0.98233281+0.j          0.        +0.j\n",
       "   0.        +0.j          0.18710447+0.j          0.00118382+0.j\n",
       "   0.        +0.j        ]\n",
       " [ 0.01919792+0.j         -0.00879133+0.j          0.05378843+0.j\n",
       "   0.05194308+0.j          0.        +0.j          0.86464779+0.j\n",
       "   0.        +0.j          0.        +0.j         -0.49286653+0.00186168j\n",
       "  -0.05853265+0.j        ]\n",
       " [ 0.        +0.j          0.        +0.j          0.        +0.j\n",
       "   0.        +0.j          0.        +0.j          0.        +0.j\n",
       "   0.99999983+0.j          0.        +0.j          0.        +0.j\n",
       "   0.        +0.j        ]\n",
       " [ 0.        +0.j          0.        +0.j          0.        +0.j\n",
       "   0.        +0.j         -0.18710429+0.j          0.        +0.j\n",
       "   0.        +0.j          0.98233948+0.j          0.        +0.j\n",
       "   0.        +0.j        ]\n",
       " [-0.01393792+0.j         -0.01439368+0.j          0.05306068+0.j\n",
       "  -0.05370485+0.j         -0.00139642+0.j          0.49376151+0.00186506j\n",
       "   0.        +0.j          0.        +0.j          0.86607896+0.j\n",
       "   0.        +0.j        ]\n",
       " [ 0.        +0.j          0.        +0.j          0.0029151 +0.j\n",
       "   0.        +0.j          0.        +0.j          0.05082784+0.j\n",
       "   0.        +0.j          0.        +0.j         -0.02894265+0.j\n",
       "   0.99828296+0.j        ]]"
      ]
     },
     "execution_count": 324,
     "metadata": {},
     "output_type": "execute_result"
    }
   ],
   "source": [
    "X.tidyup(1e-3)\n",
    "# X_unsort.tidyup(1e-4)"
   ]
  },
  {
   "cell_type": "markdown",
   "metadata": {},
   "source": [
    "## Pauli coefficient"
   ]
  },
  {
   "cell_type": "code",
   "execution_count": 295,
   "metadata": {},
   "outputs": [
    {
     "data": {
      "text/latex": [
       "$\\displaystyle \\left[\\begin{matrix}-64.061899\\\\0.524024\\\\0.001918\\\\0.001011\\\\127.9531\\\\0.482508\\\\0.001918\\\\0.169686\\end{matrix}\\right]$"
      ],
      "text/plain": [
       "Matrix([\n",
       "[-64.061899],\n",
       "[  0.524024],\n",
       "[  0.001918],\n",
       "[  0.001011],\n",
       "[  127.9531],\n",
       "[  0.482508],\n",
       "[  0.001918],\n",
       "[  0.169686]])"
      ]
     },
     "execution_count": 295,
     "metadata": {},
     "output_type": "execute_result"
    }
   ],
   "source": [
    "def from16to8(M):\n",
    "    \"\"\"\n",
    "    Convert 4x4 block-diagonal matrix to 8x1 column vector\n",
    "    Args:\n",
    "        M: 4x4 block-diagonal matrix\n",
    "    Return:\n",
    "        8x1 matrix\n",
    "    \"\"\"\n",
    "    return np.array([M[0,0],M[1,0],M[0,1],M[1,1],M[2,2],M[3,2],M[2,3],M[3,3]]).reshape(8,1)\n",
    "\n",
    "# Get Pauli coeff.\n",
    "# All these are block-diagonal.\n",
    "II = tensor(qeye(2), qeye(2))\n",
    "IX = tensor(qeye(2), sigmax())\n",
    "IY = tensor(qeye(2), sigmay())\n",
    "IZ = tensor(qeye(2), sigmaz())\n",
    "ZI = tensor(sigmaz(), qeye(2))\n",
    "ZY = tensor(sigmaz(), sigmay())\n",
    "ZX = tensor(sigmaz(), sigmax())\n",
    "ZZ = tensor(sigmaz(), sigmaz())\n",
    "\n",
    "a = np.column_stack([from16to8(II),from16to8(IX)/2,from16to8(IY)/2,from16to8(IZ)/2\n",
    "                    ,from16to8(ZI)/2,from16to8(ZX)/2,from16to8(ZY)/2,from16to8(ZZ)/2])\n",
    "\n",
    "b = from16to8(H_R_BD[0:4, 0:4])\n",
    "\n",
    "c = np.linalg.solve(a, b)\n",
    "sympy.Matrix(np.round(c,6))\n",
    "# -63.9, -0.02, -0.00017,1.2e-5,127.9,0.073, 0.00017, -0.039"
   ]
  },
  {
   "cell_type": "markdown",
   "metadata": {},
   "source": [
    "## Pauli vs CR amplitude"
   ]
  },
  {
   "cell_type": "code",
   "execution_count": 296,
   "metadata": {
    "code_folding": []
   },
   "outputs": [],
   "source": [
    "def get_Pauli_coeff(Omega):\n",
    "    # get new Hd and HR\n",
    "#     Omega = 1 # MHz\n",
    "    wd = (H2[3,3]-H2[2,2]+H2[1,1])/2  # 10443 - 5157 + 5285 in MHz\n",
    "    Hd = lambda t: Omega * np.cos(2*pi*wd*t)* b1t\n",
    "    Hd_D = lambda t: U.dag() * Hd(t) * U\n",
    "\n",
    "    # To rotating frame\n",
    "    R = lambda t: (-1j*2*pi*wd*ntot*t).expm()\n",
    "    HR = lambda t: R(t).dag() * (H2 + Hd_D(t)) * R(t) - ntot *wd\n",
    "\n",
    "    # average over 10 period\n",
    "    t_list = np.linspace(0, 2, 401)*1e-3  # in us\n",
    "    HR_list = [HR(t) for t in t_list]\n",
    "    H_R = functools.reduce(operator.add, HR_list) / len(HR_list)\n",
    "    \n",
    "    # least action\n",
    "    eigen = H_R.eigenstates()\n",
    "\n",
    "    # find X\n",
    "    X = sorted_diag_op(eigen)\n",
    "\n",
    "    # find X_BD and XP\n",
    "    A, B, C = X[0:2,0:2], X[2:4, 2:4], X[4:10, 4:10]\n",
    "    X_BD_array = block_diag(A,B,C)\n",
    "    X_BD = Qobj(X_BD_array)\n",
    "    # X_BD = X_BD.tidyup(atol=1e-3)\n",
    "    XP = X_BD * X_BD.conj().trans()\n",
    "\n",
    "    # find T\n",
    "    T = X * X_BD.dag() * XP.sqrtm().inv()\n",
    "\n",
    "    # find H_R_BD\n",
    "    T.dims = H_R.dims\n",
    "    H_R_BD =  T.dag() * H_R * T\n",
    "   \n",
    "    def from16to8(M):\n",
    "        return np.array([M[0,0],M[1,0],M[0,1],M[1,1],M[2,2],M[3,2],M[2,3],M[3,3]]).reshape(8,1)\n",
    "\n",
    "    # Get Pauli coeff.\n",
    "    II = tensor(qeye(2), qeye(2))\n",
    "    IX = tensor(qeye(2), sigmax())\n",
    "    IY = tensor(qeye(2), sigmay())\n",
    "    IZ = tensor(qeye(2), sigmaz())\n",
    "    ZI = tensor(sigmaz(), qeye(2))\n",
    "    ZY = tensor(sigmaz(), sigmay())\n",
    "    ZX = tensor(sigmaz(), sigmax())\n",
    "    ZZ = tensor(sigmaz(), sigmaz())\n",
    "\n",
    "    a = np.column_stack([from16to8(II),from16to8(IX)/2,from16to8(IY)/2,from16to8(IZ)/2\n",
    "                        ,from16to8(ZI)/2,from16to8(ZX)/2,from16to8(ZY)/2,from16to8(ZZ)/2])\n",
    "\n",
    "    b = from16to8(H_R_BD[0:4, 0:4])\n",
    "\n",
    "    c = np.linalg.solve(a, b)\n",
    "    print(Omega)\n",
    "    print(X_BD[0,0], X_BD[1,1], X_BD[2,2], X_BD[3,3])\n",
    "    return c"
   ]
  },
  {
   "cell_type": "code",
   "execution_count": 297,
   "metadata": {
    "scrolled": false
   },
   "outputs": [
    {
     "name": "stdout",
     "output_type": "stream",
     "text": [
      "[6, 7, 4, 2, 3, 1, 0, 8, 5, 9]\n",
      "1.0\n",
      "(0.7639392475715586+0j) (0.7639375098408965+0j) (0.9927255837553963+0j) (0.9927275926005514+0j)\n",
      "[6, 7, 4, 2, 3, 1, 0, 8, 5, 9]\n",
      "14.9\n",
      "(0.7190025297849294+0j) (0.7186543962861673+0j) (0.739986913025513+0j) (0.7403222225377037+0j)\n",
      "[6, 7, 4, 3, 2, 1, 0, 8, 5, 9]\n",
      "28.8\n",
      "(0.7243992876228106+0j) (0.7231453418963387+0j) (0.7705905166336141+0j) (0.7718133899716885+0j)\n",
      "[6, 7, 4, 3, 2, 1, 0, 8, 5, 9]\n",
      "42.7\n",
      "(0.730896807614905+0j) (0.7282399521260473+0j) (0.8241917517341232+0j) (0.8269592011935631+0j)\n",
      "[6, 7, 4, 3, 2, 1, 0, 8, 5, 9]\n",
      "56.6\n",
      "(0.7375455004572835+0j) (0.7330515144728841+0j) (0.8585151995702691+0j) (0.8633462767662169+0j)\n",
      "[6, 7, 4, 3, 2, 1, 0, 8, 5, 9]\n",
      "70.5\n",
      "(0.7441175815831084+0j) (0.7374118766766734+0j) (0.8808460255673809+0j) (0.8881220121814287+0j)\n",
      "[6, 7, 4, 3, 2, 1, 0, 8, 5, 9]\n",
      "84.4\n",
      "(0.7505127681943283+0j) (0.7412697739624732+0j) (0.8949775822439403+0j) (0.9049422527828237+0j)\n",
      "[6, 7, 4, 3, 2, 1, 0, 8, 5, 9]\n",
      "98.3\n",
      "(0.7566686879498252+0j) (0.744583236788864+0j) (0.9032942942764592+0j) (0.9161021195807849+0j)\n",
      "[6, 7, 4, 3, 2, 1, 0, 8, 5, 9]\n",
      "112.2\n",
      "(0.7625385484394023+0j) (0.7472421900052041+0j) (0.9072398868665021+0j) (0.9230926952957688+0j)\n",
      "[6, 7, 4, 3, 2, 1, 0, 8, 5, 9]\n",
      "126.10000000000001\n",
      "(0.7680842115198467+0j) (0.7488428293743543+0j) (0.9072271025591753+0j) (0.9268104290074989+0j)\n",
      "[6, 7, 4, 3, 2, 1, 0, 8, 8, 9]\n"
     ]
    },
    {
     "ename": "ValueError",
     "evalue": "5 is not in list",
     "output_type": "error",
     "traceback": [
      "\u001b[0;31m---------------------------------------------------------------------------\u001b[0m",
      "\u001b[0;31mValueError\u001b[0m                                Traceback (most recent call last)",
      "\u001b[0;32m<ipython-input-297-740e4ee70434>\u001b[0m in \u001b[0;36m<module>\u001b[0;34m\u001b[0m\n\u001b[1;32m      3\u001b[0m \u001b[0mPauli\u001b[0m \u001b[0;34m=\u001b[0m \u001b[0mget_Pauli_coeff\u001b[0m\u001b[0;34m(\u001b[0m\u001b[0mOmega_list\u001b[0m\u001b[0;34m[\u001b[0m\u001b[0;36m0\u001b[0m\u001b[0;34m]\u001b[0m\u001b[0;34m)\u001b[0m\u001b[0;34m\u001b[0m\u001b[0;34m\u001b[0m\u001b[0m\n\u001b[1;32m      4\u001b[0m \u001b[0;32mfor\u001b[0m \u001b[0momega\u001b[0m \u001b[0;32min\u001b[0m \u001b[0mOmega_list\u001b[0m\u001b[0;34m[\u001b[0m\u001b[0;36m1\u001b[0m\u001b[0;34m:\u001b[0m\u001b[0;34m]\u001b[0m\u001b[0;34m:\u001b[0m\u001b[0;34m\u001b[0m\u001b[0;34m\u001b[0m\u001b[0m\n\u001b[0;32m----> 5\u001b[0;31m     \u001b[0mPauli\u001b[0m \u001b[0;34m=\u001b[0m \u001b[0mnp\u001b[0m\u001b[0;34m.\u001b[0m\u001b[0mcolumn_stack\u001b[0m\u001b[0;34m(\u001b[0m\u001b[0;34m(\u001b[0m\u001b[0mPauli\u001b[0m\u001b[0;34m,\u001b[0m \u001b[0mget_Pauli_coeff\u001b[0m\u001b[0;34m(\u001b[0m\u001b[0momega\u001b[0m\u001b[0;34m)\u001b[0m\u001b[0;34m)\u001b[0m\u001b[0;34m)\u001b[0m\u001b[0;34m\u001b[0m\u001b[0;34m\u001b[0m\u001b[0m\n\u001b[0m\u001b[1;32m      6\u001b[0m \u001b[0;34m\u001b[0m\u001b[0m\n\u001b[1;32m      7\u001b[0m \u001b[0;31m# plot\u001b[0m\u001b[0;34m\u001b[0m\u001b[0;34m\u001b[0m\u001b[0;34m\u001b[0m\u001b[0m\n",
      "\u001b[0;32m<ipython-input-296-904d34a81813>\u001b[0m in \u001b[0;36mget_Pauli_coeff\u001b[0;34m(Omega)\u001b[0m\n\u001b[1;32m     19\u001b[0m \u001b[0;34m\u001b[0m\u001b[0m\n\u001b[1;32m     20\u001b[0m     \u001b[0;31m# find X\u001b[0m\u001b[0;34m\u001b[0m\u001b[0;34m\u001b[0m\u001b[0;34m\u001b[0m\u001b[0m\n\u001b[0;32m---> 21\u001b[0;31m     \u001b[0mX\u001b[0m \u001b[0;34m=\u001b[0m \u001b[0msorted_diag_op\u001b[0m\u001b[0;34m(\u001b[0m\u001b[0meigen\u001b[0m\u001b[0;34m)\u001b[0m\u001b[0;34m\u001b[0m\u001b[0;34m\u001b[0m\u001b[0m\n\u001b[0m\u001b[1;32m     22\u001b[0m \u001b[0;34m\u001b[0m\u001b[0m\n\u001b[1;32m     23\u001b[0m     \u001b[0;31m# find X_BD and XP\u001b[0m\u001b[0;34m\u001b[0m\u001b[0;34m\u001b[0m\u001b[0;34m\u001b[0m\u001b[0m\n",
      "\u001b[0;32m<ipython-input-235-e4eef6d4cf8a>\u001b[0m in \u001b[0;36msorted_diag_op\u001b[0;34m(eigen)\u001b[0m\n\u001b[1;32m     33\u001b[0m     \u001b[0mindex_list\u001b[0m \u001b[0;34m=\u001b[0m \u001b[0;34m[\u001b[0m\u001b[0mnp\u001b[0m\u001b[0;34m.\u001b[0m\u001b[0margmax\u001b[0m\u001b[0;34m(\u001b[0m\u001b[0mnp\u001b[0m\u001b[0;34m.\u001b[0m\u001b[0mabsolute\u001b[0m\u001b[0;34m(\u001b[0m\u001b[0mvec\u001b[0m\u001b[0;34m)\u001b[0m\u001b[0;34m)\u001b[0m \u001b[0;32mfor\u001b[0m \u001b[0mvec\u001b[0m \u001b[0;32min\u001b[0m \u001b[0meigen\u001b[0m\u001b[0;34m[\u001b[0m\u001b[0;36m1\u001b[0m\u001b[0;34m]\u001b[0m\u001b[0;34m]\u001b[0m\u001b[0;34m\u001b[0m\u001b[0;34m\u001b[0m\u001b[0m\n\u001b[1;32m     34\u001b[0m     \u001b[0mprint\u001b[0m\u001b[0;34m(\u001b[0m\u001b[0mindex_list\u001b[0m\u001b[0;34m)\u001b[0m\u001b[0;34m\u001b[0m\u001b[0;34m\u001b[0m\u001b[0m\n\u001b[0;32m---> 35\u001b[0;31m     \u001b[0mX_array\u001b[0m \u001b[0;34m=\u001b[0m \u001b[0mnp\u001b[0m\u001b[0;34m.\u001b[0m\u001b[0mcolumn_stack\u001b[0m\u001b[0;34m(\u001b[0m\u001b[0;34m[\u001b[0m\u001b[0meigen\u001b[0m\u001b[0;34m[\u001b[0m\u001b[0;36m1\u001b[0m\u001b[0;34m]\u001b[0m\u001b[0;34m[\u001b[0m\u001b[0mindex_list\u001b[0m\u001b[0;34m.\u001b[0m\u001b[0mindex\u001b[0m\u001b[0;34m(\u001b[0m\u001b[0mi\u001b[0m\u001b[0;34m)\u001b[0m\u001b[0;34m]\u001b[0m \u001b[0;32mfor\u001b[0m \u001b[0mi\u001b[0m \u001b[0;32min\u001b[0m \u001b[0mrange\u001b[0m\u001b[0;34m(\u001b[0m\u001b[0meigen\u001b[0m\u001b[0;34m[\u001b[0m\u001b[0;36m1\u001b[0m\u001b[0;34m]\u001b[0m\u001b[0;34m.\u001b[0m\u001b[0msize\u001b[0m\u001b[0;34m)\u001b[0m\u001b[0;34m]\u001b[0m\u001b[0;34m)\u001b[0m\u001b[0;34m\u001b[0m\u001b[0;34m\u001b[0m\u001b[0m\n\u001b[0m\u001b[1;32m     36\u001b[0m     \u001b[0mX\u001b[0m \u001b[0;34m=\u001b[0m \u001b[0mQobj\u001b[0m\u001b[0;34m(\u001b[0m\u001b[0mX_array\u001b[0m\u001b[0;34m)\u001b[0m\u001b[0;34m\u001b[0m\u001b[0;34m\u001b[0m\u001b[0m\n\u001b[1;32m     37\u001b[0m \u001b[0;34m\u001b[0m\u001b[0m\n",
      "\u001b[0;32m<ipython-input-235-e4eef6d4cf8a>\u001b[0m in \u001b[0;36m<listcomp>\u001b[0;34m(.0)\u001b[0m\n\u001b[1;32m     33\u001b[0m     \u001b[0mindex_list\u001b[0m \u001b[0;34m=\u001b[0m \u001b[0;34m[\u001b[0m\u001b[0mnp\u001b[0m\u001b[0;34m.\u001b[0m\u001b[0margmax\u001b[0m\u001b[0;34m(\u001b[0m\u001b[0mnp\u001b[0m\u001b[0;34m.\u001b[0m\u001b[0mabsolute\u001b[0m\u001b[0;34m(\u001b[0m\u001b[0mvec\u001b[0m\u001b[0;34m)\u001b[0m\u001b[0;34m)\u001b[0m \u001b[0;32mfor\u001b[0m \u001b[0mvec\u001b[0m \u001b[0;32min\u001b[0m \u001b[0meigen\u001b[0m\u001b[0;34m[\u001b[0m\u001b[0;36m1\u001b[0m\u001b[0;34m]\u001b[0m\u001b[0;34m]\u001b[0m\u001b[0;34m\u001b[0m\u001b[0;34m\u001b[0m\u001b[0m\n\u001b[1;32m     34\u001b[0m     \u001b[0mprint\u001b[0m\u001b[0;34m(\u001b[0m\u001b[0mindex_list\u001b[0m\u001b[0;34m)\u001b[0m\u001b[0;34m\u001b[0m\u001b[0;34m\u001b[0m\u001b[0m\n\u001b[0;32m---> 35\u001b[0;31m     \u001b[0mX_array\u001b[0m \u001b[0;34m=\u001b[0m \u001b[0mnp\u001b[0m\u001b[0;34m.\u001b[0m\u001b[0mcolumn_stack\u001b[0m\u001b[0;34m(\u001b[0m\u001b[0;34m[\u001b[0m\u001b[0meigen\u001b[0m\u001b[0;34m[\u001b[0m\u001b[0;36m1\u001b[0m\u001b[0;34m]\u001b[0m\u001b[0;34m[\u001b[0m\u001b[0mindex_list\u001b[0m\u001b[0;34m.\u001b[0m\u001b[0mindex\u001b[0m\u001b[0;34m(\u001b[0m\u001b[0mi\u001b[0m\u001b[0;34m)\u001b[0m\u001b[0;34m]\u001b[0m \u001b[0;32mfor\u001b[0m \u001b[0mi\u001b[0m \u001b[0;32min\u001b[0m \u001b[0mrange\u001b[0m\u001b[0;34m(\u001b[0m\u001b[0meigen\u001b[0m\u001b[0;34m[\u001b[0m\u001b[0;36m1\u001b[0m\u001b[0;34m]\u001b[0m\u001b[0;34m.\u001b[0m\u001b[0msize\u001b[0m\u001b[0;34m)\u001b[0m\u001b[0;34m]\u001b[0m\u001b[0;34m)\u001b[0m\u001b[0;34m\u001b[0m\u001b[0;34m\u001b[0m\u001b[0m\n\u001b[0m\u001b[1;32m     36\u001b[0m     \u001b[0mX\u001b[0m \u001b[0;34m=\u001b[0m \u001b[0mQobj\u001b[0m\u001b[0;34m(\u001b[0m\u001b[0mX_array\u001b[0m\u001b[0;34m)\u001b[0m\u001b[0;34m\u001b[0m\u001b[0;34m\u001b[0m\u001b[0m\n\u001b[1;32m     37\u001b[0m \u001b[0;34m\u001b[0m\u001b[0m\n",
      "\u001b[0;31mValueError\u001b[0m: 5 is not in list"
     ]
    }
   ],
   "source": [
    "# plot Pauli coeff. vs CR amplitude\n",
    "Omega_list = np.linspace(1, 140, 11)\n",
    "Pauli = get_Pauli_coeff(Omega_list[0])\n",
    "for omega in Omega_list[1:]:\n",
    "    Pauli = np.column_stack((Pauli, get_Pauli_coeff(omega)))\n",
    "\n",
    "# plot\n",
    "Pauli_label = ['II','IX','IY','IZ','ZI','ZX','ZY','ZZ']\n",
    "fig, ax = plt.subplots(1,1, figsize=(10,8))\n",
    "for i in range(Pauli.shape[0]):\n",
    "    ax.plot(Omega_list, Pauli[i], label=Pauli_label[i], linewidth=3)\n",
    "ax.set_xlabel('CR amplitude, Omega (MHz)', fontsize=18)\n",
    "ax.set_ylabel('$Pauli Coefficient$ (MHz)', fontsize=18)\n",
    "ax.tick_params(axis='x', labelsize=18)\n",
    "ax.tick_params(axis='y', labelsize=18)\n",
    "ax.grid('on')\n",
    "ax.legend(fontsize=18)"
   ]
  },
  {
   "cell_type": "code",
   "execution_count": 55,
   "metadata": {},
   "outputs": [
    {
     "data": {
      "text/plain": [
       "<matplotlib.legend.Legend at 0x7fd7c566ba00>"
      ]
     },
     "execution_count": 55,
     "metadata": {},
     "output_type": "execute_result"
    }
   ],
   "source": [
    "# plot ZZ only\n",
    "\n",
    "fig, ax = plt.subplots(1,1, figsize=(10,8))\n",
    "i = 7\n",
    "ax.plot(Omega_list, Pauli[i], label=Pauli_label[i], linewidth=3)\n",
    "ax.set_xlabel('CR amplitude, Omega (MHz)', fontsize=18)\n",
    "ax.set_ylabel(r'$\\zeta$ (MHz)', fontsize=18)\n",
    "ax.tick_params(axis='x', labelsize=18)\n",
    "ax.tick_params(axis='y', labelsize=18)\n",
    "ax.grid('on')\n",
    "ax.legend(fontsize=18)"
   ]
  },
  {
   "cell_type": "markdown",
   "metadata": {},
   "source": [
    "## Using Duffing model"
   ]
  },
  {
   "cell_type": "code",
   "execution_count": null,
   "metadata": {
    "code_folding": [
     29,
     52
    ]
   },
   "outputs": [],
   "source": [
    "wm = 5164       # CSFQ w01\n",
    "del_m0 = 600   # first anharmonicity\n",
    "del_m1 = 430  # second anharmon.\n",
    "gdm = 80     # CSFQ-bus coupling\n",
    "\n",
    "wr = 6292 # bus cavity\n",
    "\n",
    "wt = 5292   # transmon\n",
    "del_t0 = -329.1\n",
    "del_t1 = -369.7\n",
    "gdt = -80    # transmon-bus coupling\n",
    "\n",
    "gmt = 0  # csfq-transmon direct g\n",
    "\n",
    "# CSFQ, j=0,1,2\n",
    "w1_d = lambda j: wm*j + del_m0/2*j*(j-1) if j<3 else wm*j + del_m0/2*j*(j-1) + del_m1-del_m0 # dressed freq\n",
    "gamma1 = lambda j: j/(wr + w1_d(j-1) - w1_d(j))\n",
    "w1_b = lambda j: w1_d(j) - gamma1(j) * gdm**2  # bare freq. j=1,2,3\n",
    "\n",
    "# transmon, j=0,1,2\n",
    "w2_d = lambda j: wt*j + del_t0/2*j*(j-1) if j<3 else wt*j + del_t0/2*j*(j-1) + del_t1-del_t0 # dressed freq\n",
    "gamma2 = lambda j: j/(wr + w2_d(j-1) - w2_d(j))\n",
    "w2_b = lambda j: w2_d(j) - gamma2(j) * gdt**2  # bare freq.\n",
    "\n",
    "# J, {j1,j2}=0,1,2\n",
    "J = lambda j1,j2 : gmt - gdm*gdt/2*(1/(wr+w1_d(j1)-w1_d(j1+1)) + 1/(wr+w2_d(j2)-w2_d(j2+1)) \n",
    "                                    + 1/(wr-w1_d(j1)+w1_d(j1+1)) + 1/(wr-w2_d(j2)+w2_d(j2+1))) \n",
    "\n",
    "##############\n",
    "def get_possible_states(n):\n",
    "    \"\"\"\n",
    "    Get a list of tuples of possible states, given n\n",
    "    Ex) for n=2, output is [(0,0),(0,1),(1,0),(0,2),(1,1),(2,0)]\n",
    "    Args: \n",
    "        n: integer such that n1+n2<=n for |n1,n2> state\n",
    "    Return:\n",
    "        List of tuples that satisfy n1+n2<=n where n1 and n2 are 0,1,2,3,....\n",
    "    \"\"\"\n",
    "    def get_possible_sum(n):\n",
    "        \"\"\"\n",
    "         [(0,1)]\n",
    "        \"\"\"\n",
    "        result = []\n",
    "        for i in range(n+1):\n",
    "            result.append((i,n-i))\n",
    "        return result\n",
    "    \n",
    "    possible_list = []\n",
    "    for i in range(n + 1):\n",
    "        possible_list += get_possible_sum(i)\n",
    "    \n",
    "    return possible_list\n",
    "def kronecker_delta(i,j):\n",
    "    return (1 if i==j else 0)\n",
    "\n",
    "# Note\n",
    "# b1[i,j] = <i|b1|j>, where |i> = {|00>, |01>, |10>, |11>, ... |30>}\n",
    "# b1|n1_i,n2_i> = sqrt(n1_i)|n1_i-1,n2_i> where |i> = |n1_i, n2_i> and |j> = |n1_j, n2_j>\n",
    "# b2|n1_i,n2_i> = sqrt(n2_i)|n1_i,n2_i-1> where |i> = |n1_i, n2_i> and |j> = |n1_j, n2_j>\n",
    "# V = sqrt((n1+1)*(n2+1))*J_n1_n2*(|n1+1,n2><n1,n2+1|+|n1,n2+1><n1+1,n2|)\n",
    "\n",
    "states = get_possible_states(3) # up to |3> state\n",
    "unsorted_state_energy_dict = { s: w1_b(s[0]) + w2_b(s[1]) for s in states}\n",
    "sorted_state_energy_dict = OrderedDict(sorted(unsorted_state_energy_dict.items(), key=lambda x: x[1]))\n",
    "\n",
    "sorted_energy = np.array(list(sorted_state_energy_dict.values()))\n",
    "sorted_states = list(sorted_state_energy_dict.keys())\n",
    "\n",
    "# sorted_states= [(0,0),(0,1),(1,0),(1,1),(0,2),(2,0),(0,3),(1,2),(2,1),(3,0)]\n",
    "# sorted_energy = np.array([0, w2_b(1), w1_b(1), w1_b(1)+w2_b(1), w2_b(2), w1_b(2), w2_b(3)\n",
    "#                  ,w1_b(1)+w2_b(2), w1_b(2)+w2_b(1), w1_b(3)])\n",
    "\n",
    "n = len(sorted_state_energy_dict)\n",
    "b1_array, b2_array, V0_array = np.zeros((n,n)), np.zeros((n,n)), np.zeros((n,n))\n",
    "\n",
    "for i, j in itertools.product(range(n), range(n)):\n",
    "    n1_i, n1_j = sorted_states[i][0], sorted_states[j][0]\n",
    "    n2_i, n2_j = sorted_states[i][1], sorted_states[j][1]\n",
    "    \n",
    "    # b1_array[i,j] = <n1_i, n2_i|b1|n1_j, n2_j>\n",
    "    b1_array[i, j] = np.sqrt(n1_j)* kronecker_delta(n1_i, n1_j-1) * kronecker_delta(n2_i, n2_j)\n",
    "    b2_array[i, j] = np.sqrt(n2_j)* kronecker_delta(n2_i, n2_j-1) * kronecker_delta(n1_i, n1_j)\n",
    "   \n",
    "    # 1) n1=n1_i-1, n2 = n2_i,  2) n1=n1_i, n2=n2_i-1\n",
    "    V0_array[i,j] = (np.sqrt(n1_i*(n2_i+1))*J(n1_i-1, n2_i)*kronecker_delta(n1_i-1, n1_j)*kronecker_delta(n2_i+1, n2_j)\n",
    "                   + np.sqrt((n1_i+1)*n2_i)*J(n1_i, n2_i-1)*kronecker_delta(n1_i+1, n1_j)*kronecker_delta(n2_i-1, n2_j))\n",
    "\n",
    "def hamiltonian_eff_H0(w1,w2,J,alpha1,alpha2,N):\n",
    "    \"\"\" \n",
    "    Two-transmon effective Hamiltonian with zero excitation in bus. \n",
    "    Eq. 2.12, Magesan\n",
    "    w1, w2:  angular freq\n",
    "    \"\"\"\n",
    "    b1 = destroy(N)\n",
    "    b2 = destroy(N)\n",
    "    \n",
    "    I = qeye(N)\n",
    "\n",
    "    # Eq. 2.21, Magesan\n",
    "    H1 = w1*tensor(b1.dag()*b1, I) + alpha1/2.0*tensor(b1.dag()*b1.dag()*b1*b1, I)\n",
    "    H2 = w2*tensor(I, b2.dag()*b2) + alpha2/2.0*tensor(I, b2.dag()*b2.dag()*b2*b2)\n",
    "    H12 = J*(tensor(b1.dag(), b2) + tensor(b1, b2.dag())) \n",
    "    \n",
    "    H_eff = H1 + H2 + H12\n",
    "    \n",
    "    return H_eff\n",
    "\n",
    "H0 = Qobj(np.diag(sorted_energy))    \n",
    "V0 = Qobj(V0_array)\n",
    "\n",
    "b1 = Qobj(b1_array)\n",
    "b2 = Qobj(b2_array)\n",
    "\n",
    "b1t = b1 + b1.dag()\n",
    "b2t = b2 + b2.dag()\n",
    "ntot = b1.dag()*b1 + b2.dag()*b2\n",
    "###############\n",
    "\n",
    "# By solving eigenvalue\n",
    "H1 = H0 + V0\n",
    "eigen = H1.eigenstates()\n",
    "\n",
    "# find U\n",
    "U = sorted_diag_op(eigen)\n",
    "U_unsort_array = np.column_stack([eigen[1][i] for i in range(eigen[1].size)])\n",
    "U_unsort = Qobj(U_unsort_array) \n",
    "U.dims = H1.dims\n",
    "\n",
    "# digonalize H0\n",
    "H2 = U.dag() * H1 * U\n",
    "#########\n",
    "\n",
    "# get new Hd and HR\n",
    "Omega = 1 # MHz\n",
    "wd = (H2[3,3]-H2[2,2]+H2[1,1])/2  # 10443 - 5157 + 5285 in MHz\n",
    "Hd = lambda t: Omega * np.cos(2*pi*wd*t)* b1t\n",
    "Hd_D = lambda t: U.dag() * Hd(t) * U\n",
    "\n",
    "# To rotating frame\n",
    "R = lambda t: (-1j*2*pi*wd*ntot*t).expm()\n",
    "HR = lambda t: R(t).dag() * (H2 + Hd_D(t)) * R(t) - ntot *wd\n",
    "\n",
    "# average over 10 period\n",
    "t_list = np.linspace(0, 2, 401)*1e-3  # in us\n",
    "HR_list = [HR(t) for t in t_list]\n",
    "H_R = functools.reduce(operator.add, HR_list) / len(HR_list)\n",
    "H_R\n",
    "##############\n",
    "\n",
    "# least action\n",
    "eigen = H_R.eigenstates()\n",
    "\n",
    "# find X\n",
    "X = sorted_diag_op(eigen)\n",
    "\n",
    "# find X_BD and XP\n",
    "A, B, C = X[0:2,0:2], X[2:4, 2:4], X[4:10, 4:10]\n",
    "X_BD_array = block_diag(A,B,C)\n",
    "X_BD = Qobj(X_BD_array)\n",
    "# X_BD = X_BD.tidyup(atol=1e-3)\n",
    "XP = X_BD * X_BD.conj().trans()\n",
    "\n",
    "# find T\n",
    "T = X * X_BD.dag() * XP.sqrtm().inv()\n",
    "\n",
    "# find H_R_BD\n",
    "T.dims = H_R.dims\n",
    "H_R_BD =  T.dag() * H_R * T\n",
    "H_R_BD.tidyup(1e-4)\n",
    "##################\n",
    "\n",
    "def from16to8(M):\n",
    "    \"\"\"\n",
    "    Convert 4x4 block-diagonal matrix to 8x1 column vector\n",
    "    Args:\n",
    "        M: 4x4 block-diagonal matrix\n",
    "    Return:\n",
    "        8x1 matrix\n",
    "    \"\"\"\n",
    "    return np.array([M[0,0],M[1,0],M[0,1],M[1,1],M[2,2],M[3,2],M[2,3],M[3,3]]).reshape(8,1)\n",
    "\n",
    "# Get Pauli coeff.\n",
    "# All these are block-diagonal.\n",
    "II = tensor(qeye(2), qeye(2))\n",
    "IX = tensor(qeye(2), sigmax())\n",
    "IY = tensor(qeye(2), sigmay())\n",
    "IZ = tensor(qeye(2), sigmaz())\n",
    "ZI = tensor(sigmaz(), qeye(2))\n",
    "ZY = tensor(sigmaz(), sigmay())\n",
    "ZX = tensor(sigmaz(), sigmax())\n",
    "ZZ = tensor(sigmaz(), sigmaz())\n",
    "\n",
    "a = np.column_stack([from16to8(II),from16to8(IX)/2,from16to8(IY)/2,from16to8(IZ)/2\n",
    "                    ,from16to8(ZI)/2,from16to8(ZX)/2,from16to8(ZY)/2,from16to8(ZZ)/2])\n",
    "\n",
    "b = from16to8(H_R_BD[0:4, 0:4])\n",
    "\n",
    "c = np.linalg.solve(a, b)\n",
    "sympy.Matrix(np.round(c,6))\n",
    "# -63.9, -0.02, -0.00017,1.2e-5,127.9,0.073, 0.00017, -0.039\n"
   ]
  },
  {
   "cell_type": "markdown",
   "metadata": {},
   "source": [
    "# Function : get_Pauli_coefficient"
   ]
  },
  {
   "cell_type": "code",
   "execution_count": 116,
   "metadata": {
    "code_folding": [
     0,
     17,
     35,
     44,
     58
    ]
   },
   "outputs": [],
   "source": [
    "def sorted_diag_op(eigen):\n",
    "    \"\"\"\n",
    "    Diagonalizing matrix by the order of eigenvector\n",
    "    \n",
    "    Args:\n",
    "        eigen : output of eigenstates() method in qutip\n",
    "       \n",
    "    Return: a new diagonalizing operator Qobj\n",
    "    \"\"\"\n",
    "       \n",
    "    index_list = [np.argmax(np.absolute(vec)) for vec in eigen[1]]\n",
    "    \n",
    "    X_array = np.column_stack([eigen[1][index_list.index(i)] for i in range(eigen[1].size)])\n",
    "    X = Qobj(X_array)\n",
    "    \n",
    "    return X\n",
    "\n",
    "def get_Pauli_coefficient(wm,del_m0,del_m1,gdm\n",
    "                         ,wt,del_t0,del_t1,gdt\n",
    "                         ,wr,gmt,Omega):\n",
    "\n",
    "    # CSFQ, j=0,1,2\n",
    "    w1_d = lambda j: wm*j + del_m0/2*j*(j-1) if j<3 else wm*j + del_m0/2*j*(j-1) + del_m1-del_m0 # dressed freq\n",
    "    gamma1 = lambda j: j/(wr + w1_d(j-1) - w1_d(j))\n",
    "    w1_b = lambda j: w1_d(j) - gamma1(j) * gdm**2  # bare freq. j=1,2,3\n",
    "\n",
    "    # transmon, j=0,1,2\n",
    "    w2_d = lambda j: wt*j + del_t0/2*j*(j-1) if j<3 else wt*j + del_t0/2*j*(j-1) + del_t1-del_t0 # dressed freq\n",
    "    gamma2 = lambda j: j/(wr + w2_d(j-1) - w2_d(j))\n",
    "    w2_b = lambda j: w2_d(j) - gamma2(j) * gdt**2  # bare freq.\n",
    "\n",
    "    # J, {j1,j2}=0,1,2\n",
    "    J = lambda j1,j2 : gmt - gdm*gdt/2*(1/(wr+w1_d(j1)-w1_d(j1+1)) + 1/(wr+w2_d(j2)-w2_d(j2+1)) \n",
    "                                        + 1/(wr-w1_d(j1)+w1_d(j1+1)) + 1/(wr-w2_d(j2)+w2_d(j2+1))) \n",
    "    \n",
    "    def get_possible_states(n):\n",
    "        \"\"\"\n",
    "        Get a list of tuples of possible states, given n\n",
    "        Ex) for n=2, output is [(0,0),(0,1),(1,0),(0,2),(1,1),(2,0)]\n",
    "        Args: \n",
    "            n: integer such that n1+n2<=n for |n1,n2> state\n",
    "        Return:\n",
    "            List of tuples that satisfy n1+n2<=n where n1 and n2 are 0,1,2,3,....\n",
    "        \"\"\"\n",
    "        def get_possible_sum(n):\n",
    "                \"\"\"\n",
    "                 [(0,1)]\n",
    "                \"\"\"\n",
    "                result = []\n",
    "                for i in range(n+1):\n",
    "                    result.append((i,n-i))\n",
    "                return result\n",
    "\n",
    "        possible_list = []\n",
    "        for i in range(n + 1):\n",
    "            possible_list += get_possible_sum(i)\n",
    "\n",
    "        return possible_list\n",
    "    def kronecker_delta(i,j):\n",
    "        return (1 if i==j else 0)\n",
    "\n",
    "    # Get H0, V0, b1 and b2\n",
    "    states = get_possible_states(3) # up to |3> state\n",
    "    unsorted_state_energy_dict = { s: w1_b(s[0]) + w2_b(s[1]) for s in states}\n",
    "   \n",
    "    sorted_state_energy_dict = OrderedDict(sorted(unsorted_state_energy_dict.items(), key=lambda x: x[1]))\n",
    "    sorted_energy = np.array(list(sorted_state_energy_dict.values()))\n",
    "    sorted_states = list(sorted_state_energy_dict.keys())\n",
    "\n",
    "#     Xuexin\n",
    "    sorted_states= [(0,0),(0,1),(1,0),(1,1),(0,2),(2,0),(0,3),(1,2),(2,1),(3,0)]\n",
    "    sorted_energy = np.array([0, w2_b(1), w1_b(1), w1_b(1)+w2_b(1), w2_b(2), w1_b(2), w2_b(3)\n",
    "                 ,w1_b(1)+w2_b(2), w1_b(2)+w2_b(1), w1_b(3)])\n",
    "\n",
    "    n = len(sorted_state_energy_dict)\n",
    "    b1_array, b2_array, V0_array = np.zeros((n,n)), np.zeros((n,n)), np.zeros((n,n))\n",
    "\n",
    "    for i, j in itertools.product(range(n), range(n)):\n",
    "        n1_i, n1_j = sorted_states[i][0], sorted_states[j][0]\n",
    "        n2_i, n2_j = sorted_states[i][1], sorted_states[j][1]\n",
    "\n",
    "        # b1_array[i,j] = <n1_i, n2_i|b1|n1_j, n2_j>\n",
    "        b1_array[i, j] = np.sqrt(n1_j)* kronecker_delta(n1_i, n1_j-1) * kronecker_delta(n2_i, n2_j)\n",
    "        b2_array[i, j] = np.sqrt(n2_j)* kronecker_delta(n2_i, n2_j-1) * kronecker_delta(n1_i, n1_j)\n",
    "\n",
    "        # 1) n1=n1_i-1, n2 = n2_i,  2) n1=n1_i, n2=n2_i-1\n",
    "        V0_array[i,j] = (np.sqrt(n1_i*(n2_i+1))*J(n1_i-1, n2_i)*kronecker_delta(n1_i-1, n1_j)*kronecker_delta(n2_i+1, n2_j)\n",
    "                       + np.sqrt((n1_i+1)*n2_i)*J(n1_i, n2_i-1)*kronecker_delta(n1_i+1, n1_j)*kronecker_delta(n2_i-1, n2_j))\n",
    "\n",
    "    H0 = Qobj(np.diag(sorted_energy))    \n",
    "    V0 = Qobj(V0_array)\n",
    "\n",
    "    b1 = Qobj(b1_array)\n",
    "    b2 = Qobj(b2_array)\n",
    "    \n",
    "    b1t = b1 + b1.dag()\n",
    "    b2t = b2 + b2.dag()\n",
    "    ntot = b1.dag()*b1 + b2.dag()*b2\n",
    "\n",
    "    # By solving eigenvalue\n",
    "    H1 = H0 + V0\n",
    "    eigen = H1.eigenstates()\n",
    "\n",
    "    # find U\n",
    "    U = sorted_diag_op(eigen)\n",
    "    U.dims = H1.dims\n",
    "\n",
    "    # digonalize H0\n",
    "    H2 = U.dag() * H1 * U\n",
    "    \n",
    "    # get new Hd and HR\n",
    "#     Omega = 1 # MHz\n",
    "    wd = (H2[3,3]-H2[2,2]+H2[1,1])/2  # 10443 - 5157 + 5285 in MHz\n",
    "    Hd = lambda t: Omega * np.cos(2*pi*wd*t)* b1t\n",
    "    Hd_D = lambda t: U.dag() * Hd(t) * U\n",
    "\n",
    "    # To rotating frame\n",
    "    R = lambda t: (-1j*2*pi*wd*ntot*t).expm()\n",
    "    HR = lambda t: R(t).dag() * (H2 + Hd_D(t)) * R(t) - ntot *wd\n",
    "\n",
    "    # average over 10 period\n",
    "    t_list = np.linspace(0, 2, 401)*1e-3  # in us\n",
    "    HR_list = [HR(t) for t in t_list]\n",
    "    H_R = functools.reduce(operator.add, HR_list) / len(HR_list)\n",
    "        \n",
    "    # least action\n",
    "    eigen = H_R.eigenstates()\n",
    "\n",
    "    # find X\n",
    "    X = sorted_diag_op(eigen)\n",
    "\n",
    "    # find X_BD and XP\n",
    "    A, B, C = X[0:2,0:2], X[2:4, 2:4], X[4:10, 4:10]\n",
    "    X_BD_array = block_diag(A,B,C)\n",
    "    X_BD = Qobj(X_BD_array)\n",
    "    # X_BD = X_BD.tidyup(atol=1e-3)\n",
    "    XP = X_BD * X_BD.dag()\n",
    "\n",
    "    # find T\n",
    "    T = X * X_BD.dag() * XP.sqrtm().inv()\n",
    "\n",
    "    # find H_R_BD\n",
    "    T.dims = H_R.dims\n",
    "    H_R_BD =  T.dag() * H_R * T\n",
    "       \n",
    "    def from16to8(M):\n",
    "        return np.array([M[0,0],M[1,0],M[0,1],M[1,1],M[2,2],M[3,2],M[2,3],M[3,3]]).reshape(8,1)\n",
    "\n",
    "    # Get Pauli coeff.\n",
    "    II = tensor(qeye(2), qeye(2))\n",
    "    IX = tensor(qeye(2), sigmax())\n",
    "    IY = tensor(qeye(2), sigmay())\n",
    "    IZ = tensor(qeye(2), sigmaz())\n",
    "    ZI = tensor(sigmaz(), qeye(2))\n",
    "    ZY = tensor(sigmaz(), sigmay())\n",
    "    ZX = tensor(sigmaz(), sigmax())\n",
    "    ZZ = tensor(sigmaz(), sigmaz())\n",
    "\n",
    "    a = np.column_stack([from16to8(II),from16to8(IX)/2,from16to8(IY)/2,from16to8(IZ)/2\n",
    "                        ,from16to8(ZI)/2,from16to8(ZX)/2,from16to8(ZY)/2,from16to8(ZZ)/2])\n",
    "\n",
    "    b = from16to8(H_R_BD[0:4, 0:4])\n",
    "\n",
    "    c = np.linalg.solve(a, b)\n",
    "    \n",
    "    return c"
   ]
  },
  {
   "cell_type": "code",
   "execution_count": 119,
   "metadata": {},
   "outputs": [],
   "source": [
    "# parameters CSFQ-transmon\n",
    "wm = 5164       # CSFQ w01\n",
    "del_m0 = 600   # first anharmonicity\n",
    "del_m1 = 430  # second anharmon.\n",
    "gdm = 80     # CSFQ-bus coupling\n",
    "\n",
    "wr = 6292 # bus cavity\n",
    "\n",
    "wt = 5292   # transmon\n",
    "del_t0 = -329.1\n",
    "del_t1 = -369.7\n",
    "gdt = 80    # transmon-bus coupling\n",
    "\n",
    "gmt = 0  # csfq-transmon direct g"
   ]
  },
  {
   "cell_type": "code",
   "execution_count": 124,
   "metadata": {},
   "outputs": [],
   "source": [
    "# parameters, transmon-transmon\n",
    "wm = 5292 #5164       # CSFQ w01\n",
    "del_m0 = -330 #600   # first anharmonicity\n",
    "del_m1 = -370 #430  # second anharmon.\n",
    "gdm = 80     # CSFQ-bus coupling\n",
    "\n",
    "wr = 6292 # bus cavity\n",
    "\n",
    "wt = 5164 #5292   # transmon\n",
    "del_t0 = -329.1\n",
    "del_t1 = -369.7\n",
    "gdt = 80    # transmon-bus coupling\n",
    "\n",
    "gmt = 0  # csfq-transmon direct g"
   ]
  },
  {
   "cell_type": "code",
   "execution_count": 54,
   "metadata": {},
   "outputs": [],
   "source": [
    "# parameters, transmon-transmon (usual target-control swapped)\n",
    "wm = 5164       # CSFQ w01\n",
    "del_m0 = -330 #600   # first anharmonicity\n",
    "del_m1 = -370 #430  # second anharmon.\n",
    "gdm = 80    # CSFQ-bus coupling\n",
    "\n",
    "wr = 6292 # bus cavity\n",
    "\n",
    "wt = 5292   # transmon\n",
    "del_t0 = -329.1\n",
    "del_t1 = -369.7\n",
    "gdt = -80   # transmon-bus coupling\n",
    "\n",
    "gmt = 2.7  # csfq-transmon direct g"
   ]
  },
  {
   "cell_type": "code",
   "execution_count": 125,
   "metadata": {},
   "outputs": [
    {
     "name": "stderr",
     "output_type": "stream",
     "text": [
      "/usr/lib/python3/dist-packages/numpy/core/_asarray.py:85: ComplexWarning: Casting complex values to real discards the imaginary part\n",
      "  return array(a, dtype, copy=False, order=order)\n"
     ]
    },
    {
     "data": {
      "text/plain": [
       "<matplotlib.legend.Legend at 0x7f758ab3a460>"
      ]
     },
     "execution_count": 125,
     "metadata": {},
     "output_type": "execute_result"
    }
   ],
   "source": [
    "# plot Pauli coeff. vs CR amplitude\n",
    "Omega_list = np.linspace(0, 200, 20)\n",
    "\n",
    "Pauli = get_Pauli_coefficient(wm,del_m0,del_m1,gdm\n",
    "                         ,wt,del_t0,del_t1,gdt\n",
    "                         ,wr,gmt,Omega_list[0])\n",
    "for omega in Omega_list[1:]:\n",
    "    Pauli = np.column_stack((Pauli, get_Pauli_coefficient(wm,del_m0,del_m1,gdm\n",
    "                         ,wt,del_t0,del_t1,gdt,wr,gmt,omega)))\n",
    "    \n",
    "# plot\n",
    "Pauli_label = ['II','IX','IY','IZ','ZI','ZX','ZY','ZZ']\n",
    "fig, ax = plt.subplots(1,1, figsize=(10,8))\n",
    "for i in range(Pauli.shape[0]):\n",
    "    ax.plot(Omega_list, Pauli[i], label=Pauli_label[i], linewidth=3)\n",
    "ax.set_xlabel('CR amplitude, Omega (MHz)', fontsize=18)\n",
    "ax.set_ylabel('$Pauli Coefficient$ (MHz)', fontsize=18)\n",
    "ax.tick_params(axis='x', labelsize=18)\n",
    "ax.tick_params(axis='y', labelsize=18)\n",
    "ax.grid('on')\n",
    "ax.legend(fontsize=18)"
   ]
  },
  {
   "cell_type": "markdown",
   "metadata": {},
   "source": [
    "# Function : get ZZ"
   ]
  },
  {
   "cell_type": "code",
   "execution_count": 6,
   "metadata": {
    "code_folding": [
     21,
     44,
     46,
     50
    ]
   },
   "outputs": [],
   "source": [
    "def get_static_ZZ(wm,del_m0,del_m1,gdm\n",
    "                  ,wt,del_t0,del_t1,gdt\n",
    "                         ,wr,gmt):\n",
    "    \"\"\"\n",
    "    By diagonalizing two-qubit Hamiltonian, calculate ZZ(=E11-E01-E10+E00).\n",
    "    \"\"\"\n",
    "    \n",
    "    # CSFQ, j=0,1,2\n",
    "    w1_d = lambda j: wm*j + del_m0/2*j*(j-1) if j<3 else wm*j + del_m0/2*j*(j-1) + del_m1-del_m0 # dressed freq\n",
    "    gamma1 = lambda j: j/(wr + w1_d(j-1) - w1_d(j))\n",
    "    w1_b = lambda j: w1_d(j) - gamma1(j) * gdm**2  # bare freq. j=1,2,3\n",
    "\n",
    "    # transmon, j=0,1,2\n",
    "    w2_d = lambda j: wt*j + del_t0/2*j*(j-1) if j<3 else wt*j + del_t0/2*j*(j-1) + del_t1-del_t0 # dressed freq\n",
    "    gamma2 = lambda j: j/(wr + w2_d(j-1) - w2_d(j))\n",
    "    w2_b = lambda j: w2_d(j) - gamma2(j) * gdt**2  # bare freq.\n",
    "\n",
    "    # J, {j1,j2}=0,1,2\n",
    "    J = lambda j1,j2 : gmt - gdm*gdt/2*(1/(wr+w1_d(j1)-w1_d(j1+1)) + 1/(wr+w2_d(j2)-w2_d(j2+1)) \n",
    "                                        + 1/(wr-w1_d(j1)+w1_d(j1+1)) + 1/(wr-w2_d(j2)+w2_d(j2+1))) \n",
    "    \n",
    "    def get_possible_states(n):\n",
    "        \"\"\"\n",
    "        Get a list of tuples of possible states, given n\n",
    "        Ex) for n=2, output is [(0,0),(0,1),(1,0),(0,2),(1,1),(2,0)]\n",
    "        Args: \n",
    "            n: integer such that n1+n2<=n for |n1,n2> state\n",
    "        Return:\n",
    "            List of tuples that satisfy n1+n2<=n where n1 and n2 are 0,1,2,3,....\n",
    "        \"\"\"\n",
    "        def get_possible_sum(n):\n",
    "                \"\"\"\n",
    "                 [(0,1)]\n",
    "                \"\"\"\n",
    "                result = []\n",
    "                for i in range(n+1):\n",
    "                    result.append((i,n-i))\n",
    "                return result\n",
    "\n",
    "        possible_list = []\n",
    "        for i in range(n + 1):\n",
    "            possible_list += get_possible_sum(i)\n",
    "\n",
    "        return possible_list\n",
    "    def kronecker_delta(i,j):\n",
    "        return (1 if i==j else 0)   \n",
    "    def sorted_diag_op(eigen):\n",
    "        \"\"\"\n",
    "        Diagonalizing matrix by the order of eigenvector\n",
    "\n",
    "        Args:\n",
    "            eigen : output of eigenstates() method in qutip\n",
    "\n",
    "        Return: a new diagonalizing operator Qobj\n",
    "        \"\"\"\n",
    "\n",
    "        index_list = [np.argmax(np.absolute(vec)) for vec in eigen[1]]\n",
    "\n",
    "        X_array = np.column_stack([eigen[1][index_list.index(i)] for i in range(eigen[1].size)])\n",
    "        X = Qobj(X_array)\n",
    "\n",
    "        return X\n",
    "    \n",
    "    # Get H0, V0, b1 and b2\n",
    "    states = get_possible_states(3) # up to |3> state\n",
    "    unsorted_state_energy_dict = { s: w1_b(s[0]) + w2_b(s[1]) for s in states}\n",
    "   \n",
    "    sorted_state_energy_dict = OrderedDict(sorted(unsorted_state_energy_dict.items(), key=lambda x: x[1]))\n",
    "    sorted_energy = np.array(list(sorted_state_energy_dict.values()))\n",
    "    sorted_states = list(sorted_state_energy_dict.keys())\n",
    "\n",
    "#     Xuexin\n",
    "    sorted_states= [(0,0),(0,1),(1,0),(1,1),(0,2),(2,0),(0,3),(1,2),(2,1),(3,0)]\n",
    "    sorted_energy = np.array([0, w2_b(1), w1_b(1), w1_b(1)+w2_b(1), w2_b(2), w1_b(2), w2_b(3)\n",
    "                 ,w1_b(1)+w2_b(2), w1_b(2)+w2_b(1), w1_b(3)])\n",
    "\n",
    "    n = len(sorted_state_energy_dict)\n",
    "    b1_array, b2_array, V0_array = np.zeros((n,n)), np.zeros((n,n)), np.zeros((n,n))\n",
    "\n",
    "    for i, j in itertools.product(range(n), range(n)):\n",
    "        n1_i, n1_j = sorted_states[i][0], sorted_states[j][0]\n",
    "        n2_i, n2_j = sorted_states[i][1], sorted_states[j][1]\n",
    "\n",
    "        # b1_array[i,j] = <n1_i, n2_i|b1|n1_j, n2_j>\n",
    "        b1_array[i, j] = np.sqrt(n1_j)* kronecker_delta(n1_i, n1_j-1) * kronecker_delta(n2_i, n2_j)\n",
    "        b2_array[i, j] = np.sqrt(n2_j)* kronecker_delta(n2_i, n2_j-1) * kronecker_delta(n1_i, n1_j)\n",
    "\n",
    "        # 1) n1=n1_i-1, n2 = n2_i,  2) n1=n1_i, n2=n2_i-1\n",
    "        V0_array[i,j] = (np.sqrt(n1_i*(n2_i+1))*J(n1_i-1, n2_i)*kronecker_delta(n1_i-1, n1_j)*kronecker_delta(n2_i+1, n2_j)\n",
    "                       + np.sqrt((n1_i+1)*n2_i)*J(n1_i, n2_i-1)*kronecker_delta(n1_i+1, n1_j)*kronecker_delta(n2_i-1, n2_j))\n",
    "\n",
    "    H0 = Qobj(np.diag(sorted_energy))    \n",
    "    V0 = Qobj(V0_array)\n",
    "\n",
    "    b1 = Qobj(b1_array)\n",
    "    b2 = Qobj(b2_array)\n",
    "    \n",
    "    b1t = b1 + b1.dag()\n",
    "    b2t = b2 + b2.dag()\n",
    "    ntot = b1.dag()*b1 + b2.dag()*b2\n",
    "\n",
    "    # By solving eigenvalue\n",
    "    H1 = H0 + V0\n",
    "    eigen = H1.eigenstates()\n",
    "\n",
    "    # find U\n",
    "    U = sorted_diag_op(eigen)\n",
    "    U.dims = H1.dims\n",
    "\n",
    "    # digonalize H0\n",
    "    H2 = U.dag() * H1 * U\n",
    "    \n",
    "    return (H2[3,3]-H2[2,2]-H2[1,1], J(0,0))"
   ]
  },
  {
   "cell_type": "code",
   "execution_count": 17,
   "metadata": {},
   "outputs": [],
   "source": [
    "# parameters, transmon-transmon\n",
    "wm = 5292 #5164       # transmon\n",
    "del_m0 = -330 #600   # first anharmonicity\n",
    "del_m1 = -370 #430  # second anharmon.\n",
    "gdm = 120     # transmon-bus coupling\n",
    "\n",
    "wr = 6292 # bus cavity\n",
    "\n",
    "wt = 5164 #5292   # transmon\n",
    "del_t0 = -329.1\n",
    "del_t1 = -369.7\n",
    "gdt = 120    # transmon-bus coupling\n",
    "\n",
    "gmt = 3  # csfq-transmon direct g"
   ]
  },
  {
   "cell_type": "code",
   "execution_count": 18,
   "metadata": {
    "scrolled": true
   },
   "outputs": [
    {
     "data": {
      "text/plain": [
       "-11.833017304841954"
      ]
     },
     "execution_count": 18,
     "metadata": {},
     "output_type": "execute_result"
    }
   ],
   "source": [
    "get_static_ZZ(wm,del_m0,del_m1,gdm\n",
    "              ,wt,del_t0,del_t1,gdt\n",
    "              ,wr,gmt)[1]"
   ]
  },
  {
   "cell_type": "code",
   "execution_count": 19,
   "metadata": {},
   "outputs": [
    {
     "name": "stderr",
     "output_type": "stream",
     "text": [
      "/usr/lib/python3/dist-packages/numpy/core/_asarray.py:85: ComplexWarning: Casting complex values to real discards the imaginary part\n",
      "  return array(a, dtype, copy=False, order=order)\n"
     ]
    },
    {
     "data": {
      "text/plain": [
       "<matplotlib.legend.Legend at 0x7f44f6c207c0>"
      ]
     },
     "execution_count": 19,
     "metadata": {},
     "output_type": "execute_result"
    }
   ],
   "source": [
    "# plot Pauli coeff. vs CR amplitude\n",
    "wr_list = np.linspace(5500, 8000, 101)\n",
    "\n",
    "ZZ = [get_static_ZZ(wm,del_m0,del_m1,gdm\n",
    "                   ,wt,del_t0,del_t1,gdt\n",
    "                   ,wr,gmt)[0] for wr in wr_list]\n",
    "J = [get_static_ZZ(wm,del_m0,del_m1,gdm\n",
    "                   ,wt,del_t0,del_t1,gdt\n",
    "                   ,wr,gmt)[1] for wr in wr_list]  \n",
    "# plot\n",
    "fig, ax = plt.subplots(1,1, figsize=(10,8))\n",
    "ax.plot(wr_list, ZZ, linewidth=3, label='ZZ')\n",
    "ax.plot(wr_list, J, linewidth=3, label='J')\n",
    "ax.set_xlabel('wr (MHz)', fontsize=18)\n",
    "ax.set_ylabel('$ZZ$ (MHz)', fontsize=18)\n",
    "ax.tick_params(axis='x', labelsize=18)\n",
    "ax.tick_params(axis='y', labelsize=18)\n",
    "ax.grid('on')\n",
    "ax.legend(fontsize=18)"
   ]
  },
  {
   "cell_type": "code",
   "execution_count": 100,
   "metadata": {},
   "outputs": [
    {
     "data": {
      "text/plain": [
       "[<matplotlib.lines.Line2D at 0x7f758a1b2e80>]"
      ]
     },
     "execution_count": 100,
     "metadata": {},
     "output_type": "execute_result"
    }
   ],
   "source": [
    "plt.plot(wr_list, J)"
   ]
  },
  {
   "cell_type": "markdown",
   "metadata": {},
   "source": [
    "# Test"
   ]
  },
  {
   "cell_type": "code",
   "execution_count": 132,
   "metadata": {},
   "outputs": [],
   "source": [
    "from sympy import I\n",
    "Omega = 10\n",
    "wd = sympy.Symbol('wd')\n",
    "t = sympy.Symbol('t')\n",
    "\n",
    "Hd = Omega * (sympy.exp(-I*wd*t) + sympy.exp(I*wd*t))/2 * sympy.Matrix(b1t.data.toarray())\n",
    "Hdt = (U.dag()).data.toarray() * Hd * U.data.toarray()\n",
    "\n",
    "Htot = H2.data.toarray() + Hdt\n",
    "\n",
    "Ur = sympy.exp(-I*wd *sympy.Matrix(ntot.data.toarray())*t)\n",
    "Urdag = sympy.exp(I*wd *sympy.Matrix(ntot.data.toarray())*t)\n",
    "H3t = Urdag * Htot * Ur -  sympy.Matrix(ntot.data.toarray())\n",
    "\n",
    "H3t_RWA = sympy.simplify(H3t).subs(sympy.exp(-2*I*wd*t),0)"
   ]
  },
  {
   "cell_type": "code",
   "execution_count": 133,
   "metadata": {
    "scrolled": true
   },
   "outputs": [
    {
     "data": {
      "text/latex": [
       "$\\displaystyle \\left[\\begin{matrix}0 & \\tilde{\\infty} & \\tilde{\\infty} & 0 & 0 & 0 & 0 & 0 & 0 & 0\\\\4.99334164448514 & 5156.98568041008 & 0 & \\tilde{\\infty} & \\tilde{\\infty} & \\tilde{\\infty} & 0 & 0 & 0 & 0\\\\0.257951975085346 & 0 & 5284.94056072468 & \\tilde{\\infty} & \\tilde{\\infty} & \\tilde{\\infty} & 0 & 0 & 0 & 0\\\\0 & -0.0167909850402803 & 0.205920111856128 & 10242.929874963 & 0 & 0 & \\tilde{\\infty} & \\tilde{\\infty} & \\tilde{\\infty} & \\tilde{\\infty}\\\\0 & -0.470187676635091 & 4.97583307954979 & 0 & 10441.8481628593 & 0 & \\tilde{\\infty} & \\tilde{\\infty} & \\tilde{\\infty} & \\tilde{\\infty}\\\\0 & -7.05068098768562 & -0.514996401387033 & 0 & 0 & 10902.1752019878 & \\tilde{\\infty} & \\tilde{\\infty} & \\tilde{\\infty} & \\tilde{\\infty}\\\\0 & 0 & 0 & 0.0808831199757595 & -0.00181441801882665 & 4.07686162342018 \\cdot 10^{-5} & 14833.6495466234 & 0 & 0 & 0\\\\0 & 0 & 0 & -5.00048040613988 & 0.0437054612032167 & -0.00522063146542874 & 0 & 15400.3288406391 & 0 & 0\\\\0 & 0 & 0 & 0.176604341179374 & 7.06142332993868 & 0.520572386690441 & 0 & 0 & 16181.4190409018 & 0\\\\0 & 0 & 0 & 0.0122296784986736 & 0.338198732622567 & -8.643280674438 & 0 & 0 & 0 & 16928.4353487019\\end{matrix}\\right]$"
      ],
      "text/plain": [
       "Matrix([\n",
       "[                0,                 zoo,                zoo,                  0,                    0,                    0,                0,                0,                0,                0],\n",
       "[ 4.99334164448514,    5156.98568041008,                  0,                zoo,                  zoo,                  zoo,                0,                0,                0,                0],\n",
       "[0.257951975085346,                   0,   5284.94056072468,                zoo,                  zoo,                  zoo,                0,                0,                0,                0],\n",
       "[                0, -0.0167909850402803,  0.205920111856128,    10242.929874963,                    0,                    0,              zoo,              zoo,              zoo,              zoo],\n",
       "[                0,  -0.470187676635091,   4.97583307954979,                  0,     10441.8481628593,                    0,              zoo,              zoo,              zoo,              zoo],\n",
       "[                0,   -7.05068098768562, -0.514996401387033,                  0,                    0,     10902.1752019878,              zoo,              zoo,              zoo,              zoo],\n",
       "[                0,                   0,                  0, 0.0808831199757595, -0.00181441801882665,  4.07686162342018e-5, 14833.6495466234,                0,                0,                0],\n",
       "[                0,                   0,                  0,  -5.00048040613988,   0.0437054612032167, -0.00522063146542874,                0, 15400.3288406391,                0,                0],\n",
       "[                0,                   0,                  0,  0.176604341179374,     7.06142332993868,    0.520572386690441,                0,                0, 16181.4190409018,                0],\n",
       "[                0,                   0,                  0, 0.0122296784986736,    0.338198732622567,      -8.643280674438,                0,                0,                0, 16928.4353487019]])"
      ]
     },
     "execution_count": 133,
     "metadata": {},
     "output_type": "execute_result"
    }
   ],
   "source": [
    "sympy.simplify(H3t).subs([(sympy.exp(2*I*wd*t),0), (sympy.oo,0)])\n"
   ]
  }
 ],
 "metadata": {
  "kernelspec": {
   "display_name": "Python 3",
   "language": "python",
   "name": "python3"
  },
  "language_info": {
   "codemirror_mode": {
    "name": "ipython",
    "version": 3
   },
   "file_extension": ".py",
   "mimetype": "text/x-python",
   "name": "python",
   "nbconvert_exporter": "python",
   "pygments_lexer": "ipython3",
   "version": "3.8.2"
  },
  "toc": {
   "base_numbering": 1,
   "nav_menu": {},
   "number_sections": true,
   "sideBar": true,
   "skip_h1_title": false,
   "title_cell": "Table of Contents",
   "title_sidebar": "Contents",
   "toc_cell": false,
   "toc_position": {
    "height": "455.333px",
    "left": "70px",
    "top": "110px",
    "width": "181.854px"
   },
   "toc_section_display": true,
   "toc_window_display": true
  }
 },
 "nbformat": 4,
 "nbformat_minor": 4
}
