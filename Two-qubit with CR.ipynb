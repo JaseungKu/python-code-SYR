{
 "cells": [
  {
   "cell_type": "markdown",
   "metadata": {},
   "source": [
    "# Import modules"
   ]
  },
  {
   "cell_type": "code",
   "execution_count": 1,
   "metadata": {},
   "outputs": [
    {
     "name": "stdout",
     "output_type": "stream",
     "text": [
      "Using matplotlib backend: TkAgg\n"
     ]
    }
   ],
   "source": [
    "%matplotlib \n",
    "import matplotlib.pyplot as plt\n",
    "import numpy as np\n",
    "from scipy.linalg import sqrtm, block_diag\n",
    "from math import pi\n",
    "from qutip import *\n",
    "import sympy\n",
    "import functools, operator\n",
    "from collections import OrderedDict\n",
    "import itertools"
   ]
  },
  {
   "cell_type": "markdown",
   "metadata": {},
   "source": [
    "# Two transmon + bus \n",
    "Following Magesan's paper"
   ]
  },
  {
   "cell_type": "markdown",
   "metadata": {},
   "source": [
    "## Undriven"
   ]
  },
  {
   "cell_type": "code",
   "execution_count": 2,
   "metadata": {},
   "outputs": [],
   "source": [
    "def hamiltonian_eff_H0(w1,w2,J,alpha1,alpha2,N):\n",
    "    \"\"\" \n",
    "    Two-transmon effective Hamiltonian with zero excitation in bus. \n",
    "    Eq. 2.12, Magesan\n",
    "    w1, w2:  angular freq\n",
    "    \"\"\"\n",
    "    b1 = destroy(N)\n",
    "    b2 = destroy(N)\n",
    "    \n",
    "    I = qeye(N)\n",
    "\n",
    "    # Eq. 2.21, Magesan\n",
    "    H1 = w1*tensor(b1.dag()*b1, I) + alpha1/2.0*tensor(b1.dag()*b1.dag()*b1*b1, I)\n",
    "    H2 = w2*tensor(I, b2.dag()*b2) + alpha2/2.0*tensor(I, b2.dag()*b2.dag()*b2*b2)\n",
    "    H12 = J*(tensor(b1.dag(), b2) + tensor(b1, b2.dag())) \n",
    "    \n",
    "    H_eff = H1 + H2 + H12\n",
    "    \n",
    "    return H_eff\n",
    "\n",
    "def hamiltonian_eff_Hd(wd, Omega_X, Omega_Y, t, N):\n",
    "    \"\"\" \n",
    "    CR drive Hamiltonian. Eq.2.14.\n",
    "    All arguments are single number, not an array\n",
    "    wd: angular freq\n",
    "    \"\"\"\n",
    "    b1 = destroy(N)  # qubit 2 is target qubit\n",
    "#     Hd = (Omega_X * np.cos(wd*t) + Omega_Y * np.sin(wd*t)) * tensor(qeye(N),b2 + b2.dag())\n",
    "    Hd = (Omega_X * np.cos(wd*t) + Omega_Y * np.sin(wd*t)) * tensor(b1 + b1.dag(),qeye(N))\n",
    "    \n",
    "    return Hd\n",
    "\n",
    "def ZZ_computed(J, alpha1, alpha2, Delta):\n",
    "    \"\"\" Eq.4.5 in Magesan\"\"\"\n",
    "    return -J**2*(1/(Delta + alpha1) + 1/(-Delta + alpha2)) * 2"
   ]
  },
  {
   "cell_type": "code",
   "execution_count": 3,
   "metadata": {},
   "outputs": [
    {
     "name": "stdout",
     "output_type": "stream",
     "text": [
      "ZZ = 0.423 (MHz)\n",
      "ZZ_by_formula = 0.424 (MHz)\n"
     ]
    }
   ],
   "source": [
    "# parameters for IBM qubit\n",
    "w1, w2 = 2*pi*5, 2*pi*5.2 # in GHz\n",
    "J = 0.005*2*pi\n",
    "alpha1, alpha2 = -0.35*2*pi, -0.35*2*pi # in GHz\n",
    "N=5\n",
    "\n",
    "H_eff = hamiltonian_eff_H0(w1,w2,J,alpha1,alpha2,N)\n",
    "eigen = H_eff.eigenstates()\n",
    "ZZ = eigen[0][5] - eigen[0][1] - eigen[0][2]  # in GHz\n",
    "\n",
    "sympy.SparseMatrix(np.round((H_eff)[:, 0:13],2))\n",
    "print(f'ZZ = {ZZ*1e3/(2*pi):.3f} (MHz)')\n",
    "print(f'ZZ_by_formula = {ZZ_computed(J,alpha1,alpha2,w1-w2)*1e3/(2*pi):.3f} (MHz)')"
   ]
  },
  {
   "cell_type": "code",
   "execution_count": 4,
   "metadata": {},
   "outputs": [
    {
     "data": {
      "text/plain": [
       "array([  0.        ,  31.41514163,  32.67334851,  60.63216698,\n",
       "        63.14392431,  64.09114939,  87.64991143,  91.4194034 ,\n",
       "        93.30269448,  94.56601264, 112.46851434, 117.49482602,\n",
       "       120.3217872 , 122.83078145, 123.78669517, 145.14018436,\n",
       "       148.90897676, 150.79083124, 152.06261183, 175.61160088,\n",
       "       178.11596075, 179.08655243, 203.87692006, 205.15844344,\n",
       "       229.96458224])"
      ]
     },
     "execution_count": 4,
     "metadata": {},
     "output_type": "execute_result"
    }
   ],
   "source": [
    "eigen[0]"
   ]
  },
  {
   "cell_type": "markdown",
   "metadata": {},
   "source": [
    "## CR Driven: two-level qubit case"
   ]
  },
  {
   "cell_type": "code",
   "execution_count": 203,
   "metadata": {},
   "outputs": [],
   "source": [
    "w1, w2 = 2*pi*5, 2*pi*5.2 # in GHz\n",
    "J = 0.01*2*pi\n",
    "alpha1, alpha2 = -0.35*2*pi, -0.35*2*pi\n",
    "N =2\n",
    "Omega_X, Omega_Y = 0.02*2*pi,0*2*pi\n",
    "\n",
    "b1 = destroy(N)\n",
    "b2 = destroy(N)\n",
    "\n",
    "HA = w2*(tensor(b1.dag()*b1, qeye(N)) + tensor(qeye(N), b2.dag()*b2))\n",
    "R = lambda t: (-1j*HA*t).expm()\n",
    "\n",
    "H0 = hamiltonian_eff_H0(w1,w2,J,alpha1,alpha2,N)\n",
    "Hd = lambda t:hamiltonian_eff_Hd(w2, Omega_X, Omega_Y, t, N)\n",
    "\n",
    "HR = lambda t: R(t).dag() * (H0 + Hd(t)) * R(t) - HA"
   ]
  },
  {
   "cell_type": "code",
   "execution_count": 204,
   "metadata": {},
   "outputs": [],
   "source": [
    "t_list = np.linspace(0, 2, 401)  # in ns\n",
    "HR_list = [HR(t) for t in t_list]\n",
    "H_R = functools.reduce(operator.add, HR_list) / len(HR_list)"
   ]
  },
  {
   "cell_type": "code",
   "execution_count": 205,
   "metadata": {},
   "outputs": [
    {
     "data": {
      "text/latex": [
       "Quantum object: dims = [[2, 2], [2, 2]], shape = (4, 4), type = oper, isherm = True\\begin{equation*}\\left(\\begin{array}{*{11}c}0.0 & 0.0 & (0.062-2.539\\times10^{-04}j) & 0.0\\\\0.0 & 0.0 & 0.063 & (0.062-2.539\\times10^{-04}j)\\\\(0.062+2.539\\times10^{-04}j) & 0.063 & -1.257 & 0.0\\\\0.0 & (0.062+2.539\\times10^{-04}j) & 0.0 & -1.257\\\\\\end{array}\\right)\\end{equation*}"
      ],
      "text/plain": [
       "Quantum object: dims = [[2, 2], [2, 2]], shape = (4, 4), type = oper, isherm = True\n",
       "Qobj data =\n",
       "[[ 0.        +0.j          0.        +0.j          0.06248237-0.00025391j\n",
       "   0.        +0.j        ]\n",
       " [ 0.        +0.j          0.        +0.j          0.06283185+0.j\n",
       "   0.06248237-0.00025391j]\n",
       " [ 0.06248237+0.00025391j  0.06283185+0.j         -1.25663706+0.j\n",
       "   0.        +0.j        ]\n",
       " [ 0.        +0.j          0.06248237+0.00025391j  0.        +0.j\n",
       "  -1.25663706+0.j        ]]"
      ]
     },
     "execution_count": 205,
     "metadata": {},
     "output_type": "execute_result"
    }
   ],
   "source": [
    "H_R.conj().trans()\n",
    "H_R"
   ]
  },
  {
   "cell_type": "code",
   "execution_count": 17,
   "metadata": {},
   "outputs": [
    {
     "data": {
      "text/plain": [
       "[<matplotlib.lines.Line2D at 0x7ffb0513a460>]"
      ]
     },
     "execution_count": 17,
     "metadata": {},
     "output_type": "execute_result"
    }
   ],
   "source": [
    "avg_list = []\n",
    "for N in range(2,401):\n",
    "    temp = (functools.reduce(operator.add,[HR_list[i] for i in range(N)]) / N)\n",
    "    temp = np.real(temp[2,0])\n",
    "    avg_list.append(temp)\n",
    "    \n",
    "plt.plot(avg_list)\n",
    "# avg_list"
   ]
  },
  {
   "cell_type": "code",
   "execution_count": 37,
   "metadata": {},
   "outputs": [
    {
     "data": {
      "text/latex": [
       "Quantum object: dims = [[10], [10]], shape = (10, 10), type = oper, isherm = True\\begin{equation*}\\left(\\begin{array}{*{11}c}0.0 & 0.0 & 0.0 & 0.0 & 0.0 & 0.0 & 0.0 & 0.0 & 0.0 & 0.0\\\\0.0 & 0.0 & 0.0 & 0.0 & 0.0 & 0.0 & 0.0 & 0.0 & 0.0 & 0.0\\\\0.0 & 0.0 & 1.0 & 0.0 & 0.0 & 0.0 & 0.0 & 0.0 & 0.0 & 0.0\\\\0.0 & 0.0 & 0.0 & 1.0 & 0.0 & 0.0 & 0.0 & 0.0 & 0.0 & 0.0\\\\0.0 & 0.0 & 0.0 & 0.0 & 0.0 & 0.0 & 0.0 & 0.0 & 0.0 & 0.0\\\\0.0 & 0.0 & 0.0 & 0.0 & 0.0 & 2.0 & 0.0 & 0.0 & 0.0 & 0.0\\\\0.0 & 0.0 & 0.0 & 0.0 & 0.0 & 0.0 & 0.0 & 0.0 & 0.0 & 0.0\\\\0.0 & 0.0 & 0.0 & 0.0 & 0.0 & 0.0 & 0.0 & 1.0 & 0.0 & 0.0\\\\0.0 & 0.0 & 0.0 & 0.0 & 0.0 & 0.0 & 0.0 & 0.0 & 2.0 & 0.0\\\\0.0 & 0.0 & 0.0 & 0.0 & 0.0 & 0.0 & 0.0 & 0.0 & 0.0 & 3.000\\\\\\end{array}\\right)\\end{equation*}"
      ],
      "text/plain": [
       "Quantum object: dims = [[10], [10]], shape = (10, 10), type = oper, isherm = True\n",
       "Qobj data =\n",
       "[[0. 0. 0. 0. 0. 0. 0. 0. 0. 0.]\n",
       " [0. 0. 0. 0. 0. 0. 0. 0. 0. 0.]\n",
       " [0. 0. 1. 0. 0. 0. 0. 0. 0. 0.]\n",
       " [0. 0. 0. 1. 0. 0. 0. 0. 0. 0.]\n",
       " [0. 0. 0. 0. 0. 0. 0. 0. 0. 0.]\n",
       " [0. 0. 0. 0. 0. 2. 0. 0. 0. 0.]\n",
       " [0. 0. 0. 0. 0. 0. 0. 0. 0. 0.]\n",
       " [0. 0. 0. 0. 0. 0. 0. 1. 0. 0.]\n",
       " [0. 0. 0. 0. 0. 0. 0. 0. 2. 0.]\n",
       " [0. 0. 0. 0. 0. 0. 0. 0. 0. 3.]]"
      ]
     },
     "execution_count": 37,
     "metadata": {},
     "output_type": "execute_result"
    }
   ],
   "source": []
  },
  {
   "cell_type": "markdown",
   "metadata": {},
   "source": [
    "## Least action"
   ]
  },
  {
   "cell_type": "code",
   "execution_count": 206,
   "metadata": {},
   "outputs": [],
   "source": [
    "eigen = H_R.eigenstates()\n",
    "# np.linalg.norm(eigen[1][3])"
   ]
  },
  {
   "cell_type": "code",
   "execution_count": 207,
   "metadata": {},
   "outputs": [
    {
     "data": {
      "text/latex": [
       "Quantum object: dims = [[2, 2], [1, 1]], shape = (4, 1), type = ket\\begin{equation*}\\left(\\begin{array}{*{11}c}0.042\\\\(0.068+2.763\\times10^{-04}j)\\\\(-0.849-0.003j)\\\\(-0.523-0.004j)\\\\\\end{array}\\right)\\end{equation*}"
      ],
      "text/plain": [
       "Quantum object: dims = [[2, 2], [1, 1]], shape = (4, 1), type = ket\n",
       "Qobj data =\n",
       "[[ 0.04191927+0.j        ]\n",
       " [ 0.06799578+0.00027632j]\n",
       " [-0.84850975-0.00344813j]\n",
       " [-0.52308748-0.00425146j]]"
      ]
     },
     "execution_count": 207,
     "metadata": {},
     "output_type": "execute_result"
    }
   ],
   "source": [
    "eigen[1][0]"
   ]
  },
  {
   "cell_type": "code",
   "execution_count": 209,
   "metadata": {},
   "outputs": [
    {
     "data": {
      "text/latex": [
       "Quantum object: dims = [[2, 2], [2, 2]], shape = (4, 4), type = oper, isherm = True\\begin{equation*}\\left(\\begin{array}{*{11}c}-1.260 & (-0.003+1.260\\times10^{-05}j) & 0.0 & 0.0\\\\(-0.003-1.260\\times10^{-05}j) & -1.263 & 0.0 & 0.0\\\\0.0 & 0.0 & 0.006 & (0.003-1.260\\times10^{-05}j)\\\\0.0 & 0.0 & (0.003+1.260\\times10^{-05}j) & 0.003\\\\\\end{array}\\right)\\end{equation*}"
      ],
      "text/plain": [
       "Quantum object: dims = [[2, 2], [2, 2]], shape = (4, 4), type = oper, isherm = True\n",
       "Qobj data =\n",
       "[[-1.2597286 +0.00000000e+00j -0.00310116+1.26023328e-05j\n",
       "   0.        +0.00000000e+00j  0.        +0.00000000e+00j]\n",
       " [-0.00310116-1.26023328e-05j -1.26284711+0.00000000e+00j\n",
       "   0.        +0.00000000e+00j  0.        +0.00000000e+00j]\n",
       " [ 0.        +0.00000000e+00j  0.        +0.00000000e+00j\n",
       "   0.00621004+0.00000000e+00j  0.00310116-1.26023328e-05j]\n",
       " [ 0.        +0.00000000e+00j  0.        +0.00000000e+00j\n",
       "   0.00310116+1.26023328e-05j  0.00309153+0.00000000e+00j]]"
      ]
     },
     "execution_count": 209,
     "metadata": {},
     "output_type": "execute_result"
    }
   ],
   "source": [
    "# find X\n",
    "X_array = np.column_stack( (eigen[1][0],eigen[1][1],eigen[1][2],eigen[1][3]))\n",
    "X = Qobj(X_array)\n",
    "\n",
    "# find X_BD and XP\n",
    "A, B = X[0:2,0:2], X[2:4, 2:4]\n",
    "X_BD_array = block_diag(A,B)\n",
    "X_BD = Qobj(X_BD_array)\n",
    "XP = X_BD * X_BD.conj().trans()\n",
    "\n",
    "# find T\n",
    "T = X * X_BD.conj().trans() * XP.sqrtm().inv()\n",
    "\n",
    "# find H_R_BD\n",
    "T.dims = H_R.dims\n",
    "H_R_BD =  T.conj().trans() * H_R * T\n",
    "H_R_BD"
   ]
  },
  {
   "cell_type": "code",
   "execution_count": 210,
   "metadata": {},
   "outputs": [
    {
     "name": "stdout",
     "output_type": "stream",
     "text": [
      "0.0031260015268123323\n",
      "-1.2597708391340494\n"
     ]
    }
   ],
   "source": [
    "w1, w2 = 2*pi*5, 2*pi*5.2 # in GHz\n",
    "J = 0.01*2*pi\n",
    "alpha1, alpha2 = -0.35*2*pi, -0.35*2*pi\n",
    "N =2\n",
    "Omega_X, Omega_Y = 0.02*2*pi,0*2*pi\n",
    "\n",
    "Delta=w1-w2\n",
    "print(J * Omega_X /np.sqrt(Delta**2+ Omega_X**2)/2)\n",
    "print( (Delta-np.sqrt(Delta**2+ Omega_X**2))/2)"
   ]
  },
  {
   "cell_type": "markdown",
   "metadata": {},
   "source": [
    "## CR Driven: three-level case"
   ]
  },
  {
   "cell_type": "code",
   "execution_count": 86,
   "metadata": {},
   "outputs": [],
   "source": [
    "# get block-diagonal full H_RWA Hamiltonina, then take computational subspace\n",
    "# to fine Pauli coefficients: ZX,ZZ,ZI,IX,and IZ\n",
    "\n",
    "# Main question: how to compute H_RWA. How can we ignore other than e^{-iwt} or e^{iwt}."
   ]
  },
  {
   "cell_type": "code",
   "execution_count": 192,
   "metadata": {},
   "outputs": [],
   "source": [
    "w1, w2 = 2*pi*5.2, 2*pi*5 # in GHz\n",
    "J = 0.01*2*pi\n",
    "alpha1, alpha2 = -0.35*2*pi, -0.35*2*pi\n",
    "Omega_X, Omega_Y = 20*2*pi,20*2*pi\n",
    "N =3\n",
    "\n",
    "b1 = destroy(N)\n",
    "b2 = destroy(N)\n",
    "\n",
    "H0 = hamiltonian_eff_H0(w1,w2,J,alpha1,alpha2,N)"
   ]
  },
  {
   "cell_type": "code",
   "execution_count": 193,
   "metadata": {},
   "outputs": [],
   "source": [
    "# digonalize H0: remove J\n",
    "eigen = H0.eigenstates()\n",
    "eigen[1].size\n",
    "\n",
    "# find U\n",
    "U_array = np.column_stack( [eigen[1][i] for i in range(eigen[1].size)])\n",
    "U = Qobj(U_array)\n",
    "U.dims = H0.dims\n",
    "\n",
    "# digonalize H0\n",
    "H0_D = U.conj().trans() * H0 * U\n",
    "sympy.Matrix(H0_D)\n",
    "\n",
    "# get new Hd and HR\n",
    "wd = (eigen[0][5]-eigen[0][2]+eigen[0][1])/2\n",
    "Hd = lambda t:hamiltonian_eff_Hd(wd, Omega_X, Omega_Y, t, N)\n",
    "Hd_D = lambda t: U.conj().trans() * Hd(t) * U\n",
    "\n",
    "# To rotating frame\n",
    "HA = wd*(tensor(b1.dag()*b1, qeye(N)) + tensor(qeye(N), b2.dag()*b2))\n",
    "R = lambda t: (-1j*HA*t).expm()\n",
    "HR = lambda t: R(t).dag() * (H0_D + Hd_D(t)) * R(t) - HA"
   ]
  },
  {
   "cell_type": "code",
   "execution_count": 194,
   "metadata": {},
   "outputs": [
    {
     "data": {
      "text/plain": [
       "31.418074040177185"
      ]
     },
     "execution_count": 194,
     "metadata": {},
     "output_type": "execute_result"
    }
   ],
   "source": [
    "(eigen[0][5]-eigen[0][2]+eigen[0][1])/2\n",
    "# eigen[0]"
   ]
  },
  {
   "cell_type": "code",
   "execution_count": 195,
   "metadata": {},
   "outputs": [],
   "source": [
    "# average over 10 period\n",
    "t_list = np.linspace(0, 2, 401)  # in ns\n",
    "HR_list = [HR(t) for t in t_list]\n",
    "H_R = functools.reduce(operator.add,HR_list) / len(HR_list)"
   ]
  },
  {
   "cell_type": "code",
   "execution_count": 196,
   "metadata": {},
   "outputs": [
    {
     "data": {
      "text/latex": [
       "Quantum object: dims = [[3, 3], [3, 3]], shape = (9, 9), type = oper, isherm = True\\begin{equation*}\\left(\\begin{array}{*{11}c}0.0 & (-3.138+3.122j) & (-0.322+0.001j) & 0.0 & 0.0 & 0.0 & 0.0 & 0.0 & 0.0\\\\(-3.138-3.122j) & -0.005 & 0.0 & 0.008 & (10.254-10.202j) & (0.319-0.001j) & 0.0 & 0.0 & 0.0\\\\(-0.322-0.001j) & 0.0 & -30.160 & (1.277\\times10^{-04}+1.271\\times10^{-04}j) & 0.452 & (-11.381+11.322j) & 0.0 & 0.0 & 0.0\\\\0.0 & 0.008 & (1.277\\times10^{-04}-1.271\\times10^{-04}j) & 29.212 & 0.0 & 0.0 & (62.892-62.571j) & (-0.020+9.092\\times10^{-05}j) & 0.0\\\\0.0 & (10.254+10.202j) & 0.452 & 0.0 & 0.302 & 0.0 & 0.003 & (8.243-8.201j) & 0.0\\\\0.0 & (0.319+0.001j) & (-11.381-11.322j) & 0.0 & 0.0 & -30.155 & (7.138+7.102j) & 0.453 & 0.0\\\\0.0 & 0.0 & 0.0 & (62.892+62.571j) & 0.003 & (7.138-7.102j) & 30.457 & 0.0 & (-0.454+0.002j)\\\\0.0 & 0.0 & 0.0 & (-0.020-9.092\\times10^{-05}j) & (8.243+8.201j) & 0.453 & 0.0 & 0.320 & (8.778-8.733j)\\\\0.0 & 0.0 & 0.0 & 0.0 & 0.0 & 0.0 & (-0.454-0.002j) & (8.778+8.733j) & -1.894\\\\\\end{array}\\right)\\end{equation*}"
      ],
      "text/plain": [
       "Quantum object: dims = [[3, 3], [3, 3]], shape = (9, 9), type = oper, isherm = True\n",
       "Qobj data =\n",
       "[[ 0.00000000e+00+0.00000000e+00j -3.13793833e+00+3.12190493e+00j\n",
       "  -3.22138515e-01+1.45703351e-03j  0.00000000e+00+0.00000000e+00j\n",
       "   0.00000000e+00+0.00000000e+00j  0.00000000e+00+0.00000000e+00j\n",
       "   0.00000000e+00+0.00000000e+00j  0.00000000e+00+0.00000000e+00j\n",
       "   0.00000000e+00+0.00000000e+00j]\n",
       " [-3.13793833e+00-3.12190493e+00j -5.28128198e-03+0.00000000e+00j\n",
       "   0.00000000e+00+0.00000000e+00j  8.30506439e-03+0.00000000e+00j\n",
       "   1.02539063e+01-1.02015137e+01j  3.18534313e-01-1.44073170e-03j\n",
       "   0.00000000e+00+0.00000000e+00j  0.00000000e+00+0.00000000e+00j\n",
       "   0.00000000e+00+0.00000000e+00j]\n",
       " [-3.22138515e-01-1.45703351e-03j  0.00000000e+00+0.00000000e+00j\n",
       "  -3.01604507e+01+0.00000000e+00j  1.27716875e-04+1.27064301e-04j\n",
       "   4.52224368e-01+0.00000000e+00j -1.13805883e+01+1.13224388e+01j\n",
       "   0.00000000e+00+0.00000000e+00j  0.00000000e+00+0.00000000e+00j\n",
       "   0.00000000e+00+0.00000000e+00j]\n",
       " [ 0.00000000e+00+0.00000000e+00j  8.30506439e-03+0.00000000e+00j\n",
       "   1.27716875e-04-1.27064301e-04j  2.92123788e+01+0.00000000e+00j\n",
       "   0.00000000e+00+0.00000000e+00j  0.00000000e+00+0.00000000e+00j\n",
       "   6.28918589e+01-6.25705108e+01j -2.01010713e-02+9.09172086e-05j\n",
       "   0.00000000e+00+0.00000000e+00j]\n",
       " [ 0.00000000e+00+0.00000000e+00j  1.02539063e+01+1.02015137e+01j\n",
       "   4.52224368e-01+0.00000000e+00j  0.00000000e+00+0.00000000e+00j\n",
       "   3.01587052e-01+0.00000000e+00j  0.00000000e+00+0.00000000e+00j\n",
       "   3.11353638e-03+0.00000000e+00j  8.24289105e+00-8.20077371e+00j\n",
       "   0.00000000e+00+0.00000000e+00j]\n",
       " [ 0.00000000e+00+0.00000000e+00j  3.18534313e-01+1.44073170e-03j\n",
       "  -1.13805883e+01-1.13224388e+01j  0.00000000e+00+0.00000000e+00j\n",
       "   0.00000000e+00+0.00000000e+00j -3.01551694e+01+0.00000000e+00j\n",
       "   7.13809655e+00+7.10162420e+00j  4.52730924e-01+0.00000000e+00j\n",
       "   0.00000000e+00+0.00000000e+00j]\n",
       " [ 0.00000000e+00+0.00000000e+00j  0.00000000e+00+0.00000000e+00j\n",
       "   0.00000000e+00+0.00000000e+00j  6.28918589e+01+6.25705108e+01j\n",
       "   3.11353638e-03+0.00000000e+00j  7.13809655e+00-7.10162420e+00j\n",
       "   3.04567106e+01+0.00000000e+00j  0.00000000e+00+0.00000000e+00j\n",
       "  -4.53919061e-01+2.05307734e-03j]\n",
       " [ 0.00000000e+00+0.00000000e+00j  0.00000000e+00+0.00000000e+00j\n",
       "   0.00000000e+00+0.00000000e+00j -2.01010713e-02-9.09172086e-05j\n",
       "   8.24289105e+00+8.20077371e+00j  4.52730924e-01+0.00000000e+00j\n",
       "   0.00000000e+00+0.00000000e+00j  3.20159912e-01+0.00000000e+00j\n",
       "   8.77834498e+00-8.73349173e+00j]\n",
       " [ 0.00000000e+00+0.00000000e+00j  0.00000000e+00+0.00000000e+00j\n",
       "   0.00000000e+00+0.00000000e+00j  0.00000000e+00+0.00000000e+00j\n",
       "   0.00000000e+00+0.00000000e+00j  0.00000000e+00+0.00000000e+00j\n",
       "  -4.53919061e-01-2.05307734e-03j  8.77834498e+00+8.73349173e+00j\n",
       "  -1.89354561e+00+0.00000000e+00j]]"
      ]
     },
     "execution_count": 196,
     "metadata": {},
     "output_type": "execute_result"
    }
   ],
   "source": [
    "HR_list[0]+HR_list[1]\n",
    "H_R"
   ]
  },
  {
   "cell_type": "code",
   "execution_count": 197,
   "metadata": {},
   "outputs": [],
   "source": [
    "avg_list = []\n",
    "for N in range(2,401):\n",
    "    temp = (functools.reduce(operator.add,[HR_list[i] for i in range(N)]) / N)\n",
    "    temp = np.real(temp[0,1])\n",
    "    avg_list.append(temp)\n",
    "    "
   ]
  },
  {
   "cell_type": "code",
   "execution_count": 93,
   "metadata": {},
   "outputs": [],
   "source": [
    "# plt.plot(avg_list)\n",
    "f=np.fft.fft(avg_list)\n",
    "plt.plot(np.absolute(f))\n",
    "plt.yscale('log')"
   ]
  },
  {
   "cell_type": "code",
   "execution_count": 198,
   "metadata": {},
   "outputs": [
    {
     "data": {
      "text/latex": [
       "Quantum object: dims = [[3, 3], [3, 3]], shape = (9, 9), type = oper, isherm = True\\begin{equation*}\\left(\\begin{array}{*{11}c}-50.309 & (-0.844+7.758j) & 0.0 & 0.0 & 0.0 & 0.0 & 0.0 & 0.0 & 0.0\\\\(-0.844-7.758j) & -55.510 & 0.0 & 0.0 & 0.0 & 0.0 & 0.0 & 0.0 & 0.0\\\\0.0 & 0.0 & -13.835 & (0.766+0.361j) & 0.0 & 0.0 & 0.0 & 0.0 & 0.0\\\\0.0 & 0.0 & (0.766-0.361j) & -20.653 & 0.0 & 0.0 & 0.0 & 0.0 & 0.0\\\\0.0 & 0.0 & 0.0 & 0.0 & 15.678 & (-2.113-3.644j) & (-0.029+0.219j) & (2.218-2.124j) & (0.024-5.656j)\\\\0.0 & 0.0 & 0.0 & 0.0 & (-2.113+3.644j) & 1.776 & (5.493+5.466j) & (-0.468-1.929j) & (1.308+0.677j)\\\\0.0 & 0.0 & 0.0 & 0.0 & (-0.029-0.219j) & (5.493-5.466j) & 118.386 & (-0.250-0.113j) & (0.159-0.038j)\\\\0.0 & 0.0 & 0.0 & 0.0 & (2.218+2.124j) & (-0.468+1.929j) & (-0.250+0.113j) & 3.180 & (7.422-7.413j)\\\\0.0 & 0.0 & 0.0 & 0.0 & (0.024+5.656j) & (1.308-0.677j) & (0.159+0.038j) & (7.422+7.413j) & -0.637\\\\\\end{array}\\right)\\end{equation*}"
      ],
      "text/plain": [
       "Quantum object: dims = [[3, 3], [3, 3]], shape = (9, 9), type = oper, isherm = True\n",
       "Qobj data =\n",
       "[[-5.03086658e+01+0.j         -8.44459791e-01+7.75840776j\n",
       "   0.00000000e+00+0.j          0.00000000e+00+0.j\n",
       "   0.00000000e+00+0.j          0.00000000e+00+0.j\n",
       "   0.00000000e+00+0.j          0.00000000e+00+0.j\n",
       "   0.00000000e+00+0.j        ]\n",
       " [-8.44459791e-01-7.75840776j -5.55097174e+01+0.j\n",
       "   0.00000000e+00+0.j          0.00000000e+00+0.j\n",
       "   0.00000000e+00+0.j          0.00000000e+00+0.j\n",
       "   0.00000000e+00+0.j          0.00000000e+00+0.j\n",
       "   0.00000000e+00+0.j        ]\n",
       " [ 0.00000000e+00+0.j          0.00000000e+00+0.j\n",
       "  -1.38350872e+01+0.j          7.66132116e-01+0.36148883j\n",
       "   0.00000000e+00+0.j          0.00000000e+00+0.j\n",
       "   0.00000000e+00+0.j          0.00000000e+00+0.j\n",
       "   0.00000000e+00+0.j        ]\n",
       " [ 0.00000000e+00+0.j          0.00000000e+00+0.j\n",
       "   7.66132116e-01-0.36148883j -2.06532810e+01+0.j\n",
       "   0.00000000e+00+0.j          0.00000000e+00+0.j\n",
       "   0.00000000e+00+0.j          0.00000000e+00+0.j\n",
       "   0.00000000e+00+0.j        ]\n",
       " [ 0.00000000e+00+0.j          0.00000000e+00+0.j\n",
       "   0.00000000e+00+0.j          0.00000000e+00+0.j\n",
       "   1.56780916e+01+0.j         -2.11293935e+00-3.643797j\n",
       "  -2.85932472e-02+0.21876933j  2.21795087e+00-2.12387153j\n",
       "   2.40746778e-02-5.65581693j]\n",
       " [ 0.00000000e+00+0.j          0.00000000e+00+0.j\n",
       "   0.00000000e+00+0.j          0.00000000e+00+0.j\n",
       "  -2.11293935e+00+3.643797j    1.77605736e+00+0.j\n",
       "   5.49325898e+00+5.46619366j -4.67689070e-01-1.92904183j\n",
       "   1.30817259e+00+0.67679242j]\n",
       " [ 0.00000000e+00+0.j          0.00000000e+00+0.j\n",
       "   0.00000000e+00+0.j          0.00000000e+00+0.j\n",
       "  -2.85932472e-02-0.21876933j  5.49325898e+00-5.46619366j\n",
       "   1.18385727e+02+0.j         -2.50258929e-01-0.11257261j\n",
       "   1.59370953e-01-0.03764472j]\n",
       " [ 0.00000000e+00+0.j          0.00000000e+00+0.j\n",
       "   0.00000000e+00+0.j          0.00000000e+00+0.j\n",
       "   2.21795087e+00+2.12387153j -4.67689070e-01+1.92904183j\n",
       "  -2.50258929e-01+0.11257261j  3.18023152e+00+0.j\n",
       "   7.42169842e+00-7.41254229j]\n",
       " [ 0.00000000e+00+0.j          0.00000000e+00+0.j\n",
       "   0.00000000e+00+0.j          0.00000000e+00+0.j\n",
       "   2.40746778e-02+5.65581693j  1.30817259e+00-0.67679242j\n",
       "   1.59370953e-01+0.03764472j  7.42169842e+00+7.41254229j\n",
       "  -6.36967088e-01+0.j        ]]"
      ]
     },
     "execution_count": 198,
     "metadata": {},
     "output_type": "execute_result"
    }
   ],
   "source": [
    "# least action\n",
    "eigen = H_R.eigenstates()\n",
    "\n",
    "# find X\n",
    "X_array = np.column_stack( [eigen[1][i] for i in range(eigen[1].size)])\n",
    "X = Qobj(X_array)\n",
    "\n",
    "# find X_BD and XP\n",
    "A, B, C = X[0:2,0:2], X[2:4, 2:4], X[4:10, 4:10]\n",
    "X_BD_array = block_diag(A,B,C)\n",
    "X_BD = Qobj(X_BD_array)\n",
    "# X_BD = X_BD.tidyup(atol=1e-3)\n",
    "XP = X_BD * X_BD.conj().trans()\n",
    "\n",
    "# find T\n",
    "T = X * X_BD.conj().trans() * XP.sqrtm().inv()\n",
    "\n",
    "# find H_R_BD\n",
    "T.dims = H_R.dims\n",
    "H_R_BD =  T.conj().trans() * H_R * T\n",
    "H_R_BD"
   ]
  },
  {
   "cell_type": "code",
   "execution_count": 199,
   "metadata": {},
   "outputs": [
    {
     "data": {
      "text/latex": [
       "Quantum object: dims = [[3, 3], [3, 3]], shape = (9, 9), type = oper, isherm = True\\begin{equation*}\\left(\\begin{array}{*{11}c}-50.309 & (-0.844+7.758j) & 0.0 & 0.0 & 0.0 & 0.0 & 0.0 & 0.0 & 0.0\\\\(-0.844-7.758j) & -55.510 & 0.0 & 0.0 & 0.0 & 0.0 & 0.0 & 0.0 & 0.0\\\\0.0 & 0.0 & -13.835 & (0.766+0.361j) & 0.0 & 0.0 & 0.0 & 0.0 & 0.0\\\\0.0 & 0.0 & (0.766-0.361j) & -20.653 & 0.0 & 0.0 & 0.0 & 0.0 & 0.0\\\\0.0 & 0.0 & 0.0 & 0.0 & 15.678 & (-2.113-3.644j) & (-0.029+0.219j) & (2.218-2.124j) & (0.024-5.656j)\\\\0.0 & 0.0 & 0.0 & 0.0 & (-2.113+3.644j) & 1.776 & (5.493+5.466j) & (-0.468-1.929j) & (1.308+0.677j)\\\\0.0 & 0.0 & 0.0 & 0.0 & (-0.029-0.219j) & (5.493-5.466j) & 118.386 & (-0.250-0.113j) & (0.159-0.038j)\\\\0.0 & 0.0 & 0.0 & 0.0 & (2.218+2.124j) & (-0.468+1.929j) & (-0.250+0.113j) & 3.180 & (7.422-7.413j)\\\\0.0 & 0.0 & 0.0 & 0.0 & (0.024+5.656j) & (1.308-0.677j) & (0.159+0.038j) & (7.422+7.413j) & -0.637\\\\\\end{array}\\right)\\end{equation*}"
      ],
      "text/plain": [
       "Quantum object: dims = [[3, 3], [3, 3]], shape = (9, 9), type = oper, isherm = True\n",
       "Qobj data =\n",
       "[[-5.03086658e+01+0.j         -8.44459791e-01+7.75840776j\n",
       "   0.00000000e+00+0.j          0.00000000e+00+0.j\n",
       "   0.00000000e+00+0.j          0.00000000e+00+0.j\n",
       "   0.00000000e+00+0.j          0.00000000e+00+0.j\n",
       "   0.00000000e+00+0.j        ]\n",
       " [-8.44459791e-01-7.75840776j -5.55097174e+01+0.j\n",
       "   0.00000000e+00+0.j          0.00000000e+00+0.j\n",
       "   0.00000000e+00+0.j          0.00000000e+00+0.j\n",
       "   0.00000000e+00+0.j          0.00000000e+00+0.j\n",
       "   0.00000000e+00+0.j        ]\n",
       " [ 0.00000000e+00+0.j          0.00000000e+00+0.j\n",
       "  -1.38350872e+01+0.j          7.66132116e-01+0.36148883j\n",
       "   0.00000000e+00+0.j          0.00000000e+00+0.j\n",
       "   0.00000000e+00+0.j          0.00000000e+00+0.j\n",
       "   0.00000000e+00+0.j        ]\n",
       " [ 0.00000000e+00+0.j          0.00000000e+00+0.j\n",
       "   7.66132116e-01-0.36148883j -2.06532810e+01+0.j\n",
       "   0.00000000e+00+0.j          0.00000000e+00+0.j\n",
       "   0.00000000e+00+0.j          0.00000000e+00+0.j\n",
       "   0.00000000e+00+0.j        ]\n",
       " [ 0.00000000e+00+0.j          0.00000000e+00+0.j\n",
       "   0.00000000e+00+0.j          0.00000000e+00+0.j\n",
       "   1.56780916e+01+0.j         -2.11293935e+00-3.643797j\n",
       "  -2.85932472e-02+0.21876933j  2.21795087e+00-2.12387153j\n",
       "   2.40746778e-02-5.65581693j]\n",
       " [ 0.00000000e+00+0.j          0.00000000e+00+0.j\n",
       "   0.00000000e+00+0.j          0.00000000e+00+0.j\n",
       "  -2.11293935e+00+3.643797j    1.77605736e+00+0.j\n",
       "   5.49325898e+00+5.46619366j -4.67689070e-01-1.92904183j\n",
       "   1.30817259e+00+0.67679242j]\n",
       " [ 0.00000000e+00+0.j          0.00000000e+00+0.j\n",
       "   0.00000000e+00+0.j          0.00000000e+00+0.j\n",
       "  -2.85932472e-02-0.21876933j  5.49325898e+00-5.46619366j\n",
       "   1.18385727e+02+0.j         -2.50258929e-01-0.11257261j\n",
       "   1.59370953e-01-0.03764472j]\n",
       " [ 0.00000000e+00+0.j          0.00000000e+00+0.j\n",
       "   0.00000000e+00+0.j          0.00000000e+00+0.j\n",
       "   2.21795087e+00+2.12387153j -4.67689070e-01+1.92904183j\n",
       "  -2.50258929e-01+0.11257261j  3.18023152e+00+0.j\n",
       "   7.42169842e+00-7.41254229j]\n",
       " [ 0.00000000e+00+0.j          0.00000000e+00+0.j\n",
       "   0.00000000e+00+0.j          0.00000000e+00+0.j\n",
       "   2.40746778e-02+5.65581693j  1.30817259e+00-0.67679242j\n",
       "   1.59370953e-01+0.03764472j  7.42169842e+00+7.41254229j\n",
       "  -6.36967088e-01+0.j        ]]"
      ]
     },
     "execution_count": 199,
     "metadata": {},
     "output_type": "execute_result"
    }
   ],
   "source": [
    "H_R_BD.tidyup(atol=1.5e-4)\n"
   ]
  },
  {
   "cell_type": "code",
   "execution_count": 200,
   "metadata": {},
   "outputs": [],
   "source": [
    "def from16to8(M):\n",
    "    return np.array([M[0,0],M[1,0],M[0,1],M[1,1],M[2,2],M[3,2],M[2,3],M[3,3]]).reshape(8,1)\n",
    "\n",
    "# Get Pauli coeff.\n",
    "II = tensor(qeye(2), qeye(2))\n",
    "IX = tensor(qeye(2), sigmax())\n",
    "IY = tensor(qeye(2), sigmay())\n",
    "IZ = tensor(qeye(2), sigmaz())\n",
    "ZI = tensor(sigmaz(), qeye(2))\n",
    "ZY = tensor(sigmaz(), sigmay())\n",
    "ZX = tensor(sigmaz(), sigmax())\n",
    "ZZ = tensor(sigmaz(), sigmaz())\n",
    "\n",
    "a = np.column_stack([from16to8(II),from16to8(IX),from16to8(IY),from16to8(IZ)\n",
    "                    ,from16to8(ZI),from16to8(ZX),from16to8(ZY),from16to8(ZZ)])\n",
    "\n",
    "b = from16to8(H_R_BD[0:4, 0:4])\n",
    "\n",
    "c = np.linalg.solve(a, b)"
   ]
  },
  {
   "cell_type": "code",
   "execution_count": 201,
   "metadata": {
    "scrolled": true
   },
   "outputs": [
    {
     "data": {
      "text/latex": [
       "$\\displaystyle \\left[\\begin{matrix}-35.0766878283766\\\\-0.0391638374208262\\\\-4.0599482951568 - 8.32667268468867 \\cdot 10^{-16} i\\\\3.00481132566825\\\\-17.8325037409416\\\\-0.805295953814262 + 8.88178419700125 \\cdot 10^{-16} i\\\\-3.69845946305381 - 1.16573417585641 \\cdot 10^{-15} i\\\\-0.404285539610635\\end{matrix}\\right]$"
      ],
      "text/plain": [
       "Matrix([\n",
       "[                          -35.0766878283766],\n",
       "[                        -0.0391638374208262],\n",
       "[  -4.0599482951568 - 8.32667268468867e-16*I],\n",
       "[                           3.00481132566825],\n",
       "[                          -17.8325037409416],\n",
       "[-0.805295953814262 + 8.88178419700125e-16*I],\n",
       "[ -3.69845946305381 - 1.16573417585641e-15*I],\n",
       "[                         -0.404285539610635]])"
      ]
     },
     "execution_count": 201,
     "metadata": {},
     "output_type": "execute_result"
    }
   ],
   "source": [
    "sympy.Matrix(a)\n",
    "sympy.Matrix(c)"
   ]
  },
  {
   "cell_type": "code",
   "execution_count": 202,
   "metadata": {},
   "outputs": [
    {
     "data": {
      "text/plain": [
       "matrix([[0.+0.j],\n",
       "        [1.+0.j],\n",
       "        [0.+0.j],\n",
       "        [0.+0.j],\n",
       "        [1.+0.j],\n",
       "        [0.+0.j],\n",
       "        [0.+0.j],\n",
       "        [0.+0.j],\n",
       "        [0.+0.j],\n",
       "        [0.+0.j],\n",
       "        [0.+0.j],\n",
       "        [1.+0.j],\n",
       "        [0.+0.j],\n",
       "        [0.+0.j],\n",
       "        [1.+0.j],\n",
       "        [0.+0.j]])"
      ]
     },
     "execution_count": 202,
     "metadata": {},
     "output_type": "execute_result"
    }
   ],
   "source": [
    "test=Qobj(IX.data.reshape(16,1))\n",
    "IX.data.reshape(16,1).todense()"
   ]
  },
  {
   "cell_type": "code",
   "execution_count": 184,
   "metadata": {},
   "outputs": [
    {
     "data": {
      "text/latex": [
       "Quantum object: dims = [[3, 3], [3, 3]], shape = (9, 9), type = oper, isherm = True\\begin{equation*}\\left(\\begin{array}{*{11}c}0.0 & 0.0 & 0.0 & 0.0 & 0.0 & 0.0 & 0.0 & 0.0 & 0.0\\\\0.0 & 1.0 & 0.0 & 0.0 & 0.0 & 0.0 & 0.0 & 0.0 & 0.0\\\\0.0 & 0.0 & 2.0 & 0.0 & 0.0 & 0.0 & 0.0 & 0.0 & 0.0\\\\0.0 & 0.0 & 0.0 & 1.0 & 0.0 & 0.0 & 0.0 & 0.0 & 0.0\\\\0.0 & 0.0 & 0.0 & 0.0 & 2.0 & 0.0 & 0.0 & 0.0 & 0.0\\\\0.0 & 0.0 & 0.0 & 0.0 & 0.0 & 3.0 & 0.0 & 0.0 & 0.0\\\\0.0 & 0.0 & 0.0 & 0.0 & 0.0 & 0.0 & 2.0 & 0.0 & 0.0\\\\0.0 & 0.0 & 0.0 & 0.0 & 0.0 & 0.0 & 0.0 & 3.0 & 0.0\\\\0.0 & 0.0 & 0.0 & 0.0 & 0.0 & 0.0 & 0.0 & 0.0 & 4.0\\\\\\end{array}\\right)\\end{equation*}"
      ],
      "text/plain": [
       "Quantum object: dims = [[3, 3], [3, 3]], shape = (9, 9), type = oper, isherm = True\n",
       "Qobj data =\n",
       "[[0. 0. 0. 0. 0. 0. 0. 0. 0.]\n",
       " [0. 1. 0. 0. 0. 0. 0. 0. 0.]\n",
       " [0. 0. 2. 0. 0. 0. 0. 0. 0.]\n",
       " [0. 0. 0. 1. 0. 0. 0. 0. 0.]\n",
       " [0. 0. 0. 0. 2. 0. 0. 0. 0.]\n",
       " [0. 0. 0. 0. 0. 3. 0. 0. 0.]\n",
       " [0. 0. 0. 0. 0. 0. 2. 0. 0.]\n",
       " [0. 0. 0. 0. 0. 0. 0. 3. 0.]\n",
       " [0. 0. 0. 0. 0. 0. 0. 0. 4.]]"
      ]
     },
     "execution_count": 184,
     "metadata": {},
     "output_type": "execute_result"
    }
   ],
   "source": [
    "N =3\n",
    "\n",
    "b1 = destroy(N)\n",
    "b2 = destroy(N)\n",
    "(tensor(b1.dag()*b1, qeye(N)) + tensor(qeye(N), b2.dag()*b2))"
   ]
  },
  {
   "cell_type": "markdown",
   "metadata": {},
   "source": [
    "# Transmon with a Duffing model"
   ]
  },
  {
   "cell_type": "code",
   "execution_count": 53,
   "metadata": {},
   "outputs": [],
   "source": [
    "%matplotlib inline\n",
    "import matplotlib.pyplot as plt\n",
    "import numpy as np\n",
    "from qutip import *\n",
    "import sympy"
   ]
  },
  {
   "cell_type": "code",
   "execution_count": 6,
   "metadata": {
    "scrolled": true
   },
   "outputs": [],
   "source": [
    "# parameters for IBM qubit\n",
    "w = 5 # in GHz\n",
    "alpha = -0.35 # in GHz\n",
    "\n",
    "N = 3\n",
    "b = destroy(N)\n",
    "\n",
    "H = w1*b.dag()*b + alpha/2.0*b.dag()*b*(b.dag()*b-qeye(N))\n",
    "H1 = w1*b.dag()*b + alpha/2.0*b.dag()*b.dag()*b*b\n",
    "Hd = b.dag() + b"
   ]
  },
  {
   "cell_type": "code",
   "execution_count": 9,
   "metadata": {},
   "outputs": [
    {
     "data": {
      "text/latex": [
       "Quantum object: dims = [[3], [3]], shape = (3, 3), type = oper, isherm = True\\begin{equation*}\\left(\\begin{array}{*{11}c}0.0 & 0.0 & 0.0\\\\0.0 & 5.300 & 0.0\\\\0.0 & 0.0 & 10.250\\\\\\end{array}\\right)\\end{equation*}"
      ],
      "text/plain": [
       "Quantum object: dims = [[3], [3]], shape = (3, 3), type = oper, isherm = True\n",
       "Qobj data =\n",
       "[[ 0.    0.    0.  ]\n",
       " [ 0.    5.3   0.  ]\n",
       " [ 0.    0.   10.25]]"
      ]
     },
     "execution_count": 9,
     "metadata": {},
     "output_type": "execute_result"
    }
   ],
   "source": [
    "H\n",
    "# Hd"
   ]
  },
  {
   "cell_type": "markdown",
   "metadata": {},
   "source": [
    "# Find Pauli-coefficients of CSQF/transmon with CR\n",
    "Ref: Xuexin's mathematica notebook\n",
    "1. Build effective two-qubit Hamiltonian.\n",
    "2. Diagonalize the two-qbuti Hamiltonian to get rid of coupling by either SW or numerical diagonalization. Dressed state.\n",
    "3. Build driving Hamiltonian in the dressed state.\n",
    "4. Move into rotating frame.\n",
    "5. Block-diagonalize the total Hamiltonian by SW or least action.\n",
    "6. Find Pauli-coefficients."
   ]
  },
  {
   "cell_type": "markdown",
   "metadata": {},
   "source": [
    "## Helper"
   ]
  },
  {
   "cell_type": "code",
   "execution_count": 14,
   "metadata": {
    "code_folding": [
     0,
     22
    ]
   },
   "outputs": [],
   "source": [
    "def list_energies(f1,alpha1, beta1, f2, alpha2, beta2, sort=False):\n",
    "    \"\"\"\n",
    "    Calculate energy levels. E00 = 0\n",
    "    \"\"\"\n",
    "    numStates = 4 # 0,1,2,3 states\n",
    "    state1 = [0, f1, f1+f1+alpha1,f1+f1+f1+alpha1+beta1]\n",
    "    state2 = [0, f2, f2+f2+alpha2,f2+f2+f2+alpha2+beta2]\n",
    "    \n",
    "    result_dict = {}\n",
    "    for prod in itertools.product(range(numStates), range(numStates)):\n",
    "        temp = {prod:state1[prod[0]] + state2[prod[1]]}\n",
    "        result_dict.update(temp)\n",
    "    \n",
    "    if sort:\n",
    "        sorted_dict = OrderedDict(sorted(result_dict.items(), key=lambda x: x[1]))\n",
    "        return sorted_dict\n",
    "    else:\n",
    "        return result_dict\n",
    "    \n",
    "list_energies(5.05, 0.6, 0.5, 5.25,-0.33, -0.37,sort=True)    \n",
    "# list_energies(5.25,-0.33, -0.37, 5.05, -0.3, -0.33, sort=True)    \n",
    "\n",
    "def sorted_diag_op(eigen):\n",
    "    \"\"\"\n",
    "    Diagonalizing matrix by the order of eigenvector\n",
    "    \n",
    "    Args:\n",
    "        eigen : output of eigenstates() method in qutip\n",
    "       \n",
    "    Return: a new diagonalizing operator Qobj\n",
    "    \"\"\"\n",
    "       \n",
    "    index_list = [np.argmax(np.absolute(vec)) for vec in eigen[1]]\n",
    "    \n",
    "    X_array = np.column_stack([eigen[1][index_list.index(i)] for i in range(eigen[1].size)])\n",
    "    X = Qobj(X_array)\n",
    "    \n",
    "    return X"
   ]
  },
  {
   "cell_type": "markdown",
   "metadata": {},
   "source": [
    "## Define qubit frequencies and J"
   ]
  },
  {
   "cell_type": "code",
   "execution_count": 16,
   "metadata": {},
   "outputs": [],
   "source": [
    "wm = 5164       # CSFQ w01\n",
    "del_m0 = 600   # first anharmonicity\n",
    "del_m1 = 430  # second anharmon.\n",
    "gdm = 80     # CSFQ-bus coupling\n",
    "\n",
    "wr = 6292 # bus cavity\n",
    "\n",
    "wt = 5292   # transmon\n",
    "del_t0 = -329.1\n",
    "del_t1 = -369.7\n",
    "gdt = -80    # transmon-bus coupling\n",
    "\n",
    "gmt = 0  # csfq-transmon direct g\n",
    "\n",
    "# CSFQ, j=0,1,2\n",
    "w1_d = lambda j: wm*j + del_m0/2*j*(j-1) if j<3 else wm*j + del_m0/2*j*(j-1) + del_m1-del_m0 # dressed freq\n",
    "gamma1 = lambda j: j/(wr + w1_d(j-1) - w1_d(j))\n",
    "w1_b = lambda j: w1_d(j) - gamma1(j) * gdm**2  # bare freq. j=1,2,3\n",
    "\n",
    "# transmon, j=0,1,2\n",
    "w2_d = lambda j: wt*j + del_t0/2*j*(j-1) if j<3 else wt*j + del_t0/2*j*(j-1) + del_t1-del_t0 # dressed freq\n",
    "gamma2 = lambda j: j/(wr + w2_d(j-1) - w2_d(j))\n",
    "w2_b = lambda j: w2_d(j) - gamma2(j) * gdt**2  # bare freq.\n",
    "\n",
    "# J, {j1,j2}=0,1,2\n",
    "J = lambda j1,j2 : gmt - gdm*gdt/2*(1/(wr+w1_d(j1)-w1_d(j1+1)) + 1/(wr+w2_d(j2)-w2_d(j2+1)) \n",
    "                                    + 1/(wr-w1_d(j1)+w1_d(j1+1)) + 1/(wr-w2_d(j2)+w2_d(j2+1))) "
   ]
  },
  {
   "cell_type": "code",
   "execution_count": 17,
   "metadata": {},
   "outputs": [
    {
     "data": {
      "text/plain": [
       "5.808173919146181"
      ]
     },
     "execution_count": 17,
     "metadata": {},
     "output_type": "execute_result"
    }
   ],
   "source": [
    "J(0,1)\n",
    "w1_d(1)-w1_d(0)\n",
    "# w2_d(1)-w2_d(0)\n",
    "j1=0\n",
    "j2=1\n",
    "- gdm*gdt/2*(1/(wr+w1_d(j1)-w1_d(j1+1)) + 1/(wr+w2_d(j2)-w2_d(j2+1)) \n",
    "                                    + 1/(wr-w1_d(j1)+w1_d(j1+1)) + 1/(wr-w2_d(j2)+w2_d(j2+1))) \n",
    "# J(0,0)"
   ]
  },
  {
   "cell_type": "markdown",
   "metadata": {},
   "source": [
    "## Build effective two-qubit Hamiltonian"
   ]
  },
  {
   "cell_type": "code",
   "execution_count": 18,
   "metadata": {
    "code_folding": [
     0,
     23
    ]
   },
   "outputs": [],
   "source": [
    "def get_possible_states(n):\n",
    "    \"\"\"\n",
    "    Get a list of tuples of possible states, given n\n",
    "    Ex) for n=2, output is [(0,0),(0,1),(1,0),(0,2),(1,1),(2,0)]\n",
    "    Args: \n",
    "        n: integer such that n1+n2<=n for |n1,n2> state\n",
    "    Return:\n",
    "        List of tuples that satisfy n1+n2<=n where n1 and n2 are 0,1,2,3,....\n",
    "    \"\"\"\n",
    "    def get_possible_sum(n):\n",
    "        \"\"\"\n",
    "         [(0,1)]\n",
    "        \"\"\"\n",
    "        result = []\n",
    "        for i in range(n+1):\n",
    "            result.append((i,n-i))\n",
    "        return result\n",
    "    \n",
    "    possible_list = []\n",
    "    for i in range(n + 1):\n",
    "        possible_list += get_possible_sum(i)\n",
    "    \n",
    "    return possible_list\n",
    "def kronecker_delta(i,j):\n",
    "    return (1 if i==j else 0)\n",
    "\n",
    "# b1[i,j] = <i|b1|j>, where |i> = {|00>, |01>, |10>, |11>, ... |30>}\n",
    "# b1|n1_i,n2_i> = sqrt(n1_i)|n1_i-1,n2_i> where |i> = |n1_i, n2_i> and |j> = |n1_j, n2_j>\n",
    "# b2|n1_i,n2_i> = sqrt(n2_i)|n1_i,n2_i-1> where |i> = |n1_i, n2_i> and |j> = |n1_j, n2_j>\n",
    "# V = sqrt((n1+1)*(n2+1))*J_n1_n2*(|n1+1,n2><n1,n2+1|+|n1,n2+1><n1+1,n2|)\n",
    "\n",
    "states = get_possible_states(3) # up to |3> state\n",
    "unsorted_state_energy_dict = { s: w1_b(s[0]) + w2_b(s[1]) for s in states}\n",
    "sorted_state_energy_dict = OrderedDict(sorted(unsorted_state_energy_dict.items(), key=lambda x: x[1]))\n",
    "\n",
    "sorted_energy = np.array(list(sorted_state_energy_dict.values()))\n",
    "sorted_states = list(sorted_state_energy_dict.keys())\n",
    "\n",
    "sorted_states= [(0,0),(0,1),(1,0),(1,1),(0,2),(2,0),(0,3),(1,2),(2,1),(3,0)]\n",
    "sorted_energy = np.array([0, w2_b(1), w1_b(1), w1_b(1)+w2_b(1), w2_b(2), w1_b(2), w2_b(3)\n",
    "                 ,w1_b(1)+w2_b(2), w1_b(2)+w2_b(1), w1_b(3)])\n",
    "\n",
    "n = len(sorted_state_energy_dict)\n",
    "b1_array, b2_array, V0_array = np.zeros((n,n)), np.zeros((n,n)), np.zeros((n,n))\n",
    "\n",
    "for i, j in itertools.product(range(n), range(n)):\n",
    "    n1_i, n1_j = sorted_states[i][0], sorted_states[j][0]\n",
    "    n2_i, n2_j = sorted_states[i][1], sorted_states[j][1]\n",
    "    \n",
    "    # b1_array[i,j] = <n1_i, n2_i|b1|n1_j, n2_j>\n",
    "    b1_array[i, j] = np.sqrt(n1_j)* kronecker_delta(n1_i, n1_j-1) * kronecker_delta(n2_i, n2_j)\n",
    "    b2_array[i, j] = np.sqrt(n2_j)* kronecker_delta(n2_i, n2_j-1) * kronecker_delta(n1_i, n1_j)\n",
    "   \n",
    "    # 1) n1=n1_i-1, n2 = n2_i,  2) n1=n1_i, n2=n2_i-1\n",
    "    V0_array[i,j] = (np.sqrt(n1_i*(n2_i+1))*J(n1_i-1, n2_i)*kronecker_delta(n1_i-1, n1_j)*kronecker_delta(n2_i+1, n2_j)\n",
    "                   + np.sqrt((n1_i+1)*n2_i)*J(n1_i, n2_i-1)*kronecker_delta(n1_i+1, n1_j)*kronecker_delta(n2_i-1, n2_j))\n",
    "\n",
    "H0 = Qobj(np.diag(sorted_energy))    \n",
    "V0 = Qobj(V0_array)\n",
    "\n",
    "b1 = Qobj(b1_array)\n",
    "b2 = Qobj(b2_array)\n",
    "\n",
    "b1t = b1 + b1.dag()\n",
    "b2t = b2 + b2.dag()\n",
    "ntot = b1.dag()*b1 + b2.dag()*b2"
   ]
  },
  {
   "cell_type": "code",
   "execution_count": 19,
   "metadata": {},
   "outputs": [
    {
     "data": {
      "text/latex": [
       "Quantum object: dims = [[10], [10]], shape = (10, 10), type = oper, isherm = True\\begin{equation*}\\left(\\begin{array}{*{11}c}0.0 & 0.0 & 0.0 & 0.0 & 0.0 & 0.0 & 0.0 & 0.0 & 0.0 & 0.0\\\\0.0 & 0.0 & 6.592 & 0.0 & 0.0 & 0.0 & 0.0 & 0.0 & 0.0 & 0.0\\\\0.0 & 6.592 & 0.0 & 0.0 & 0.0 & 0.0 & 0.0 & 0.0 & 0.0 & 0.0\\\\0.0 & 0.0 & 0.0 & 0.0 & 8.214 & 13.863 & 0.0 & 0.0 & 0.0 & 0.0\\\\0.0 & 0.0 & 0.0 & 8.214 & 0.0 & 0.0 & 0.0 & 0.0 & 0.0 & 0.0\\\\0.0 & 0.0 & 0.0 & 13.863 & 0.0 & 0.0 & 0.0 & 0.0 & 0.0 & 0.0\\\\0.0 & 0.0 & 0.0 & 0.0 & 0.0 & 0.0 & 0.0 & 9.169 & 0.0 & 0.0\\\\0.0 & 0.0 & 0.0 & 0.0 & 0.0 & 0.0 & 9.169 & 0.0 & 18.036 & 0.0\\\\0.0 & 0.0 & 0.0 & 0.0 & 0.0 & 0.0 & 0.0 & 18.036 & 0.0 & 63.022\\\\0.0 & 0.0 & 0.0 & 0.0 & 0.0 & 0.0 & 0.0 & 0.0 & 63.022 & 0.0\\\\\\end{array}\\right)\\end{equation*}"
      ],
      "text/plain": [
       "Quantum object: dims = [[10], [10]], shape = (10, 10), type = oper, isherm = True\n",
       "Qobj data =\n",
       "[[ 0.          0.          0.          0.          0.          0.\n",
       "   0.          0.          0.          0.        ]\n",
       " [ 0.          0.          6.59245214  0.          0.          0.\n",
       "   0.          0.          0.          0.        ]\n",
       " [ 0.          6.59245214  0.          0.          0.          0.\n",
       "   0.          0.          0.          0.        ]\n",
       " [ 0.          0.          0.          0.          8.21399833 13.8625133\n",
       "   0.          0.          0.          0.        ]\n",
       " [ 0.          0.          0.          8.21399833  0.          0.\n",
       "   0.          0.          0.          0.        ]\n",
       " [ 0.          0.          0.         13.8625133   0.          0.\n",
       "   0.          0.          0.          0.        ]\n",
       " [ 0.          0.          0.          0.          0.          0.\n",
       "   0.          9.1692497   0.          0.        ]\n",
       " [ 0.          0.          0.          0.          0.          0.\n",
       "   9.1692497   0.         18.03599788  0.        ]\n",
       " [ 0.          0.          0.          0.          0.          0.\n",
       "   0.         18.03599788  0.         63.0216929 ]\n",
       " [ 0.          0.          0.          0.          0.          0.\n",
       "   0.          0.         63.0216929   0.        ]]"
      ]
     },
     "execution_count": 19,
     "metadata": {},
     "output_type": "execute_result"
    }
   ],
   "source": [
    "V0"
   ]
  },
  {
   "cell_type": "code",
   "execution_count": 20,
   "metadata": {},
   "outputs": [],
   "source": [
    "# states to consider\n",
    "# 00, 01,10,11,02,20,03,12,21,30\n",
    "diag = np.array([0, w2_b(1), w1_b(1), w1_b(1)+w2_b(1), w2_b(2), w1_b(2), w2_b(3)\n",
    "                 ,w1_b(1)+w2_b(2), w1_b(2)+w2_b(1), w1_b(3)])\n",
    "H0 = Qobj(np.diag(diag))\n",
    "\n",
    "b1dag = np.zeros((10,10))\n",
    "b1dag[2,0] = 1\n",
    "b1dag[3,1] = 1\n",
    "b1dag[5,2] = np.sqrt(2)\n",
    "b1dag[8,3] = np.sqrt(2)\n",
    "b1dag[7,4] = 1\n",
    "b1dag[9,5] = np.sqrt(3)\n",
    "b1dag = Qobj(b1dag)\n",
    "\n",
    "b2dag = np.zeros((10,10))\n",
    "b2dag[1,0] = 1\n",
    "b2dag[3,2] = 1\n",
    "b2dag[4,1] = np.sqrt(2)\n",
    "b2dag[7,3] = np.sqrt(2)\n",
    "b2dag[6,4] = np.sqrt(3)\n",
    "b2dag[8,5] = 1\n",
    "b2dag = Qobj(b2dag)\n",
    "\n",
    "V0  = np.zeros((10,10))\n",
    "V0[2,1] = J(0,0)\n",
    "V0[1,2] = J(0,0)\n",
    "V0[4,3] = np.sqrt(2)*J(0,1)\n",
    "V0[5,3] = np.sqrt(2)*J(1,0)\n",
    "V0[3,4] = np.sqrt(2)*J(0,1)\n",
    "V0[3,5] = np.sqrt(2)*J(1,0)\n",
    "V0[7,6] = np.sqrt(3)*J(0,2)\n",
    "V0[6,7] = np.sqrt(3)*J(0,2)\n",
    "V0[8,7] = np.sqrt(4)*J(1,1)\n",
    "V0[7,8] = np.sqrt(4)*J(1,1)\n",
    "V0[9,8] = np.sqrt(3)*J(2,0)\n",
    "V0[8,9] = np.sqrt(3)*J(2,0)\n",
    "V0 = Qobj(V0)\n",
    "\n",
    "b1 = b1dag.dag()\n",
    "b2 = b2dag.dag()\n",
    "\n",
    "b1t = b1 + b1dag\n",
    "b2t = b2 + b2dag\n",
    "ntot = b1dag*b1 + b2dag*b2"
   ]
  },
  {
   "cell_type": "code",
   "execution_count": 21,
   "metadata": {},
   "outputs": [
    {
     "data": {
      "text/latex": [
       "Quantum object: dims = [[10], [10]], shape = (10, 10), type = oper, isherm = True\\begin{equation*}\\left(\\begin{array}{*{11}c}0.0 & 0.0 & 0.0 & 0.0 & 0.0 & 0.0 & 0.0 & 0.0 & 0.0 & 0.0\\\\0.0 & 0.0 & 6.592 & 0.0 & 0.0 & 0.0 & 0.0 & 0.0 & 0.0 & 0.0\\\\0.0 & 6.592 & 0.0 & 0.0 & 0.0 & 0.0 & 0.0 & 0.0 & 0.0 & 0.0\\\\0.0 & 0.0 & 0.0 & 0.0 & 8.214 & 13.863 & 0.0 & 0.0 & 0.0 & 0.0\\\\0.0 & 0.0 & 0.0 & 8.214 & 0.0 & 0.0 & 0.0 & 0.0 & 0.0 & 0.0\\\\0.0 & 0.0 & 0.0 & 13.863 & 0.0 & 0.0 & 0.0 & 0.0 & 0.0 & 0.0\\\\0.0 & 0.0 & 0.0 & 0.0 & 0.0 & 0.0 & 0.0 & 9.169 & 0.0 & 0.0\\\\0.0 & 0.0 & 0.0 & 0.0 & 0.0 & 0.0 & 9.169 & 0.0 & 18.036 & 0.0\\\\0.0 & 0.0 & 0.0 & 0.0 & 0.0 & 0.0 & 0.0 & 18.036 & 0.0 & 63.022\\\\0.0 & 0.0 & 0.0 & 0.0 & 0.0 & 0.0 & 0.0 & 0.0 & 63.022 & 0.0\\\\\\end{array}\\right)\\end{equation*}"
      ],
      "text/plain": [
       "Quantum object: dims = [[10], [10]], shape = (10, 10), type = oper, isherm = True\n",
       "Qobj data =\n",
       "[[ 0.          0.          0.          0.          0.          0.\n",
       "   0.          0.          0.          0.        ]\n",
       " [ 0.          0.          6.59245214  0.          0.          0.\n",
       "   0.          0.          0.          0.        ]\n",
       " [ 0.          6.59245214  0.          0.          0.          0.\n",
       "   0.          0.          0.          0.        ]\n",
       " [ 0.          0.          0.          0.          8.21399833 13.8625133\n",
       "   0.          0.          0.          0.        ]\n",
       " [ 0.          0.          0.          8.21399833  0.          0.\n",
       "   0.          0.          0.          0.        ]\n",
       " [ 0.          0.          0.         13.8625133   0.          0.\n",
       "   0.          0.          0.          0.        ]\n",
       " [ 0.          0.          0.          0.          0.          0.\n",
       "   0.          9.1692497   0.          0.        ]\n",
       " [ 0.          0.          0.          0.          0.          0.\n",
       "   9.1692497   0.         18.03599788  0.        ]\n",
       " [ 0.          0.          0.          0.          0.          0.\n",
       "   0.         18.03599788  0.         63.0216929 ]\n",
       " [ 0.          0.          0.          0.          0.          0.\n",
       "   0.          0.         63.0216929   0.        ]]"
      ]
     },
     "execution_count": 21,
     "metadata": {},
     "output_type": "execute_result"
    }
   ],
   "source": [
    "V0"
   ]
  },
  {
   "cell_type": "code",
   "execution_count": 23,
   "metadata": {},
   "outputs": [
    {
     "data": {
      "text/latex": [
       "Quantum object: dims = [[10], [10]], shape = (10, 10), type = oper, isherm = True\\begin{equation*}\\left(\\begin{array}{*{11}c}0.0 & 0.0 & 0.0 & 0.0 & 0.0 & 0.0 & 0.0 & 0.0 & 0.0 & 0.0\\\\0.0 & 5.286\\times10^{+03} & 6.592 & 0.0 & 0.0 & 0.0 & 0.0 & 0.0 & 0.0 & 0.0\\\\0.0 & 6.592 & 5.158\\times10^{+03} & 0.0 & 0.0 & 0.0 & 0.0 & 0.0 & 0.0 & 0.0\\\\0.0 & 0.0 & 0.0 & 1.044\\times10^{+04} & 8.214 & 13.863 & 0.0 & 0.0 & 0.0 & 0.0\\\\0.0 & 0.0 & 0.0 & 8.214 & 1.025\\times10^{+04} & 0.0 & 0.0 & 0.0 & 0.0 & 0.0\\\\0.0 & 0.0 & 0.0 & 13.863 & 0.0 & 1.090\\times10^{+04} & 0.0 & 0.0 & 0.0 & 0.0\\\\0.0 & 0.0 & 0.0 & 0.0 & 0.0 & 0.0 & 1.484\\times10^{+04} & 9.169 & 0.0 & 0.0\\\\0.0 & 0.0 & 0.0 & 0.0 & 0.0 & 0.0 & 9.169 & 1.540\\times10^{+04} & 18.036 & 0.0\\\\0.0 & 0.0 & 0.0 & 0.0 & 0.0 & 0.0 & 0.0 & 18.036 & 1.619\\times10^{+04} & 63.022\\\\0.0 & 0.0 & 0.0 & 0.0 & 0.0 & 0.0 & 0.0 & 0.0 & 63.022 & 1.693\\times10^{+04}\\\\\\end{array}\\right)\\end{equation*}"
      ],
      "text/plain": [
       "Quantum object: dims = [[10], [10]], shape = (10, 10), type = oper, isherm = True\n",
       "Qobj data =\n",
       "[[0.00000000e+00 0.00000000e+00 0.00000000e+00 0.00000000e+00\n",
       "  0.00000000e+00 0.00000000e+00 0.00000000e+00 0.00000000e+00\n",
       "  0.00000000e+00 0.00000000e+00]\n",
       " [0.00000000e+00 5.28560000e+03 6.59245214e+00 0.00000000e+00\n",
       "  0.00000000e+00 0.00000000e+00 0.00000000e+00 0.00000000e+00\n",
       "  0.00000000e+00 0.00000000e+00]\n",
       " [0.00000000e+00 6.59245214e+00 5.15832624e+03 0.00000000e+00\n",
       "  0.00000000e+00 0.00000000e+00 0.00000000e+00 0.00000000e+00\n",
       "  0.00000000e+00 0.00000000e+00]\n",
       " [0.00000000e+00 0.00000000e+00 0.00000000e+00 1.04439262e+04\n",
       "  8.21399833e+00 1.38625133e+01 0.00000000e+00 0.00000000e+00\n",
       "  0.00000000e+00 0.00000000e+00]\n",
       " [0.00000000e+00 0.00000000e+00 0.00000000e+00 8.21399833e+00\n",
       "  1.02452694e+04 0.00000000e+00 0.00000000e+00 0.00000000e+00\n",
       "  0.00000000e+00 0.00000000e+00]\n",
       " [0.00000000e+00 0.00000000e+00 0.00000000e+00 1.38625133e+01\n",
       "  0.00000000e+00 1.09037576e+04 0.00000000e+00 0.00000000e+00\n",
       "  0.00000000e+00 0.00000000e+00]\n",
       " [0.00000000e+00 0.00000000e+00 0.00000000e+00 0.00000000e+00\n",
       "  0.00000000e+00 0.00000000e+00 1.48367979e+04 9.16924970e+00\n",
       "  0.00000000e+00 0.00000000e+00]\n",
       " [0.00000000e+00 0.00000000e+00 0.00000000e+00 0.00000000e+00\n",
       "  0.00000000e+00 0.00000000e+00 9.16924970e+00 1.54035957e+04\n",
       "  1.80359979e+01 0.00000000e+00]\n",
       " [0.00000000e+00 0.00000000e+00 0.00000000e+00 0.00000000e+00\n",
       "  0.00000000e+00 0.00000000e+00 0.00000000e+00 1.80359979e+01\n",
       "  1.61893576e+04 6.30216929e+01]\n",
       " [0.00000000e+00 0.00000000e+00 0.00000000e+00 0.00000000e+00\n",
       "  0.00000000e+00 0.00000000e+00 0.00000000e+00 0.00000000e+00\n",
       "  6.30216929e+01 1.69260816e+04]]"
      ]
     },
     "execution_count": 23,
     "metadata": {},
     "output_type": "execute_result"
    }
   ],
   "source": [
    "H0+V0"
   ]
  },
  {
   "cell_type": "code",
   "execution_count": 58,
   "metadata": {},
   "outputs": [
    {
     "data": {
      "text/latex": [
       "Quantum object: dims = [[10], [10]], shape = (10, 10), type = oper, isherm = False\\begin{equation*}\\left(\\begin{array}{*{11}c}0.0 & 0.0 & 0.0 & 0.0 & 0.0 & 0.0 & 0.0 & 0.0 & 0.0 & 0.0\\\\0.0 & 0.0 & 0.0 & 0.0 & 0.0 & 0.0 & 0.0 & 0.0 & 0.0 & 0.0\\\\1.0 & 0.0 & 0.0 & 0.0 & 0.0 & 0.0 & 0.0 & 0.0 & 0.0 & 0.0\\\\0.0 & 1.0 & 0.0 & 0.0 & 0.0 & 0.0 & 0.0 & 0.0 & 0.0 & 0.0\\\\0.0 & 0.0 & 0.0 & 0.0 & 0.0 & 0.0 & 0.0 & 0.0 & 0.0 & 0.0\\\\0.0 & 0.0 & 1.414 & 0.0 & 0.0 & 0.0 & 0.0 & 0.0 & 0.0 & 0.0\\\\0.0 & 0.0 & 0.0 & 0.0 & 0.0 & 0.0 & 0.0 & 0.0 & 0.0 & 0.0\\\\0.0 & 0.0 & 0.0 & 0.0 & 1.0 & 0.0 & 0.0 & 0.0 & 0.0 & 0.0\\\\0.0 & 0.0 & 0.0 & 1.414 & 0.0 & 0.0 & 0.0 & 0.0 & 0.0 & 0.0\\\\0.0 & 0.0 & 0.0 & 0.0 & 0.0 & 1.732 & 0.0 & 0.0 & 0.0 & 0.0\\\\\\end{array}\\right)\\end{equation*}"
      ],
      "text/plain": [
       "Quantum object: dims = [[10], [10]], shape = (10, 10), type = oper, isherm = False\n",
       "Qobj data =\n",
       "[[0.         0.         0.         0.         0.         0.\n",
       "  0.         0.         0.         0.        ]\n",
       " [0.         0.         0.         0.         0.         0.\n",
       "  0.         0.         0.         0.        ]\n",
       " [1.         0.         0.         0.         0.         0.\n",
       "  0.         0.         0.         0.        ]\n",
       " [0.         1.         0.         0.         0.         0.\n",
       "  0.         0.         0.         0.        ]\n",
       " [0.         0.         0.         0.         0.         0.\n",
       "  0.         0.         0.         0.        ]\n",
       " [0.         0.         1.41421356 0.         0.         0.\n",
       "  0.         0.         0.         0.        ]\n",
       " [0.         0.         0.         0.         0.         0.\n",
       "  0.         0.         0.         0.        ]\n",
       " [0.         0.         0.         0.         1.         0.\n",
       "  0.         0.         0.         0.        ]\n",
       " [0.         0.         0.         1.41421356 0.         0.\n",
       "  0.         0.         0.         0.        ]\n",
       " [0.         0.         0.         0.         0.         1.73205081\n",
       "  0.         0.         0.         0.        ]]"
      ]
     },
     "execution_count": 58,
     "metadata": {},
     "output_type": "execute_result"
    }
   ],
   "source": [
    "b1dag"
   ]
  },
  {
   "cell_type": "markdown",
   "metadata": {},
   "source": [
    "## Diagonalize two-qubit Hamiltonian"
   ]
  },
  {
   "cell_type": "code",
   "execution_count": 63,
   "metadata": {},
   "outputs": [],
   "source": [
    "# By solving eigenvalue\n",
    "H1 = H0 + V0\n",
    "eigen = H1.eigenstates()\n",
    "\n",
    "# find U\n",
    "U = sorted_diag_op(eigen)\n",
    "U.dims = H1.dims\n",
    "\n",
    "# digonalize H0\n",
    "H2 = U.dag() * H1 * U"
   ]
  },
  {
   "cell_type": "code",
   "execution_count": 9,
   "metadata": {},
   "outputs": [
    {
     "data": {
      "text/latex": [
       "Quantum object: dims = [[10], [10]], shape = (10, 10), type = oper, isherm = False\\begin{equation*}\\left(\\begin{array}{*{11}c}1.0 & 0.0 & 0.0 & 0.0 & 0.0 & 0.0 & 0.0 & 0.0 & 0.0 & 0.0\\\\0.0 & 0.999 & -0.052 & 0.0 & 0.0 & 0.0 & 0.0 & 0.0 & 0.0 & 0.0\\\\0.0 & 0.052 & 0.999 & 0.0 & 0.0 & 0.0 & 0.0 & 0.0 & 0.0 & 0.0\\\\0.0 & 0.0 & 0.0 & 0.999 & 0.041 & -0.030 & 0.0 & 0.0 & 0.0 & 0.0\\\\0.0 & 0.0 & 0.0 & 0.041 & -0.999 & -3.754\\times10^{-04} & 0.0 & 0.0 & 0.0 & 0.0\\\\0.0 & 0.0 & 0.0 & -0.030 & -8.691\\times10^{-04} & -1.000 & 0.0 & 0.0 & 0.0 & 0.0\\\\0.0 & 0.0 & 0.0 & 0.0 & 0.0 & 0.0 & 1.000 & 0.016 & 1.566\\times10^{-04} & 4.374\\times10^{-06}\\\\0.0 & 0.0 & 0.0 & 0.0 & 0.0 & 0.0 & -0.016 & 1.000 & 0.023 & 9.993\\times10^{-04}\\\\0.0 & 0.0 & 0.0 & 0.0 & 0.0 & 0.0 & 2.160\\times10^{-04} & -0.023 & 0.996 & 0.085\\\\0.0 & 0.0 & 0.0 & 0.0 & 0.0 & 0.0 & -6.515\\times10^{-06} & 9.524\\times10^{-04} & -0.085 & 0.996\\\\\\end{array}\\right)\\end{equation*}"
      ],
      "text/plain": [
       "Quantum object: dims = [[10], [10]], shape = (10, 10), type = oper, isherm = False\n",
       "Qobj data =\n",
       "[[ 1.00000000e+00  0.00000000e+00  0.00000000e+00  0.00000000e+00\n",
       "   0.00000000e+00  0.00000000e+00  0.00000000e+00  0.00000000e+00\n",
       "   0.00000000e+00  0.00000000e+00]\n",
       " [ 0.00000000e+00  9.98668329e-01 -5.15903950e-02  0.00000000e+00\n",
       "   0.00000000e+00  0.00000000e+00  0.00000000e+00  0.00000000e+00\n",
       "   0.00000000e+00  0.00000000e+00]\n",
       " [ 0.00000000e+00  5.15903950e-02  9.98668329e-01  0.00000000e+00\n",
       "   0.00000000e+00  0.00000000e+00  0.00000000e+00  0.00000000e+00\n",
       "   0.00000000e+00  0.00000000e+00]\n",
       " [ 0.00000000e+00  0.00000000e+00  0.00000000e+00  9.98692815e-01\n",
       "   4.13024295e-02 -3.01126357e-02  0.00000000e+00  0.00000000e+00\n",
       "   0.00000000e+00  0.00000000e+00]\n",
       " [ 0.00000000e+00  0.00000000e+00  0.00000000e+00  4.13098659e-02\n",
       "  -9.99146313e-01 -3.75387721e-04  0.00000000e+00  0.00000000e+00\n",
       "   0.00000000e+00  0.00000000e+00]\n",
       " [ 0.00000000e+00  0.00000000e+00  0.00000000e+00 -3.01024333e-02\n",
       "  -8.69051920e-04 -9.99546441e-01  0.00000000e+00  0.00000000e+00\n",
       "   0.00000000e+00  0.00000000e+00]\n",
       " [ 0.00000000e+00  0.00000000e+00  0.00000000e+00  0.00000000e+00\n",
       "   0.00000000e+00  0.00000000e+00  9.99869107e-01  1.61784931e-02\n",
       "   1.56570795e-04  4.37423748e-06]\n",
       " [ 0.00000000e+00  0.00000000e+00  0.00000000e+00  0.00000000e+00\n",
       "   0.00000000e+00  0.00000000e+00 -1.61778079e-02  9.99603797e-01\n",
       "   2.30114916e-02  9.99257509e-04]\n",
       " [ 0.00000000e+00  0.00000000e+00  0.00000000e+00  0.00000000e+00\n",
       "   0.00000000e+00  0.00000000e+00  2.16006339e-04 -2.30129956e-02\n",
       "   9.96145322e-01  8.46454506e-02]\n",
       " [ 0.00000000e+00  0.00000000e+00  0.00000000e+00  0.00000000e+00\n",
       "   0.00000000e+00  0.00000000e+00 -6.51520825e-06  9.52431642e-04\n",
       "  -8.46459903e-02  9.96410633e-01]]"
      ]
     },
     "execution_count": 9,
     "metadata": {},
     "output_type": "execute_result"
    }
   ],
   "source": [
    "U"
   ]
  },
  {
   "cell_type": "code",
   "execution_count": 248,
   "metadata": {},
   "outputs": [
    {
     "data": {
      "text/latex": [
       "$\\displaystyle \\left[\\begin{matrix}0 & 0 & 0 & 0 & 0 & 0 & 0 & 0 & 0 & 0\\\\0 & 5285.94 & 0 & 0 & 0 & 0 & 0 & 0 & 0 & 0\\\\0 & 0 & 5157.99 & 0 & 0 & 0 & 0 & 0 & 0 & 0\\\\0 & 0 & 0 & 10443.85 & 0 & 0 & 0 & 0 & 0 & 0\\\\0 & 0 & 0 & 0 & 10244.93 & 0 & 0 & 0 & 0 & 0\\\\0 & 0 & 0 & 0 & 0 & 10904.18 & 0 & 0 & 0 & 0\\\\0 & 0 & 0 & 0 & 0 & 0 & 14836.65 & 0 & 0 & 0\\\\0 & 0 & 0 & 0 & 0 & 0 & 0 & 15403.33 & 0 & 0\\\\0 & 0 & 0 & 0 & 0 & 0 & 0 & 0 & 16184.42 & 0\\\\0 & 0 & 0 & 0 & 0 & 0 & 0 & 0 & 0 & 16931.44\\end{matrix}\\right]$"
      ],
      "text/plain": [
       "Matrix([\n",
       "[0,       0,       0,        0,        0,        0,        0,        0,        0,        0],\n",
       "[0, 5285.94,       0,        0,        0,        0,        0,        0,        0,        0],\n",
       "[0,       0, 5157.99,        0,        0,        0,        0,        0,        0,        0],\n",
       "[0,       0,       0, 10443.85,        0,        0,        0,        0,        0,        0],\n",
       "[0,       0,       0,        0, 10244.93,        0,        0,        0,        0,        0],\n",
       "[0,       0,       0,        0,        0, 10904.18,        0,        0,        0,        0],\n",
       "[0,       0,       0,        0,        0,        0, 14836.65,        0,        0,        0],\n",
       "[0,       0,       0,        0,        0,        0,        0, 15403.33,        0,        0],\n",
       "[0,       0,       0,        0,        0,        0,        0,        0, 16184.42,        0],\n",
       "[0,       0,       0,        0,        0,        0,        0,        0,        0, 16931.44]])"
      ]
     },
     "execution_count": 248,
     "metadata": {},
     "output_type": "execute_result"
    }
   ],
   "source": [
    "sympy.Matrix(np.round(H2,2))"
   ]
  },
  {
   "cell_type": "markdown",
   "metadata": {},
   "source": [
    "## Driving Hamiltonian in dressed state"
   ]
  },
  {
   "cell_type": "code",
   "execution_count": 64,
   "metadata": {},
   "outputs": [
    {
     "data": {
      "text/latex": [
       "Quantum object: dims = [[10], [10]], shape = (10, 10), type = oper, isherm = False\\begin{equation*}\\left(\\begin{array}{*{11}c}0.0 & (0.026-9.820\\times10^{-05}j) & (0.503-0.002j) & 0.0 & 0.0 & 0.0 & 0.0 & 0.0 & 0.0 & 0.0\\\\(0.026+9.820\\times10^{-05}j) & 0.039 & 0.0 & (0.501-0.002j) & (0.021-7.839\\times10^{-05}j) & (-0.052+1.961\\times10^{-04}j) & 0.0 & 0.0 & 0.0 & 0.0\\\\(0.503+0.002j) & 0.0 & -127.916 & (-0.047+1.790\\times10^{-04}j) & (-0.002+6.392\\times10^{-06}j) & (-0.711+0.003j) & 0.0 & 0.0 & 0.0 & 0.0\\\\0.0 & (0.501+0.002j) & (-0.047-1.790\\times10^{-04}j) & -127.955 & 0.0 & 0.0 & (-1.829\\times10^{-04}+6.907\\times10^{-07}j) & (0.004-1.664\\times10^{-05}j) & (0.712-0.003j) & (0.034-1.288\\times10^{-04}j)\\\\0.0 & (0.021+7.839\\times10^{-05}j) & (-0.002-6.392\\times10^{-06}j) & 0.0 & -326.873 & 0.0 & (0.008-3.079\\times10^{-05}j) & (-0.504+0.002j) & (0.018-6.723\\times10^{-05}j) & (0.001-4.656\\times10^{-06}j)\\\\0.0 & (-0.052-1.961\\times10^{-04}j) & (-0.711-0.003j) & 0.0 & 0.0 & 332.372 & (4.109\\times10^{-06}-1.552\\times10^{-08}j) & (-5.262\\times10^{-04}+1.987\\times10^{-06}j) & (0.052-1.982\\times10^{-04}j) & (-0.871+0.003j)\\\\0.0 & 0.0 & 0.0 & (-1.829\\times10^{-04}-6.907\\times10^{-07}j) & (0.008+3.079\\times10^{-05}j) & (4.109\\times10^{-06}+1.552\\times10^{-08}j) & -1.021\\times10^{+03} & 0.0 & 0.0 & 0.0\\\\0.0 & 0.0 & 0.0 & (0.004+1.664\\times10^{-05}j) & (-0.504-0.002j) & (-5.262\\times10^{-04}-1.987\\times10^{-06}j) & 0.0 & -454.376 & 0.0 & 0.0\\\\0.0 & 0.0 & 0.0 & (0.712+0.003j) & (0.018+6.723\\times10^{-05}j) & (0.052+1.982\\times10^{-04}j) & 0.0 & 0.0 & 326.714 & 0.0\\\\0.0 & 0.0 & 0.0 & (0.034+1.288\\times10^{-04}j) & (0.001+4.656\\times10^{-06}j) & (-0.871-0.003j) & 0.0 & 0.0 & 0.0 & 1.074\\times10^{+03}\\\\\\end{array}\\right)\\end{equation*}"
      ],
      "text/plain": [
       "Quantum object: dims = [[10], [10]], shape = (10, 10), type = oper, isherm = False\n",
       "Qobj data =\n",
       "[[ 0.00000000e+00+0.00000000e+00j  2.59978919e-02-9.82006788e-05j\n",
       "   5.03257850e-01-1.90093345e-03j  0.00000000e+00+0.00000000e+00j\n",
       "   0.00000000e+00+0.00000000e+00j  0.00000000e+00+0.00000000e+00j\n",
       "   0.00000000e+00+0.00000000e+00j  0.00000000e+00+0.00000000e+00j\n",
       "   0.00000000e+00+0.00000000e+00j  0.00000000e+00+0.00000000e+00j]\n",
       " [ 2.59978919e-02+9.82006788e-05j  3.90391377e-02+0.00000000e+00j\n",
       "   0.00000000e+00+0.00000000e+00j  5.01493236e-01-1.89426805e-03j\n",
       "   2.07538198e-02-7.83924789e-05j -5.19043159e-02+1.96055860e-04j\n",
       "   0.00000000e+00+0.00000000e+00j  0.00000000e+00+0.00000000e+00j\n",
       "   0.00000000e+00+0.00000000e+00j  0.00000000e+00+0.00000000e+00j]\n",
       " [ 5.03257850e-01+1.90093345e-03j  0.00000000e+00+0.00000000e+00j\n",
       "  -1.27915841e+02+0.00000000e+00j -4.73882334e-02+1.78997463e-04j\n",
       "  -1.69229258e-03+6.39222138e-06j -7.10608408e-01+2.68414948e-03j\n",
       "   0.00000000e+00+0.00000000e+00j  0.00000000e+00+0.00000000e+00j\n",
       "   0.00000000e+00+0.00000000e+00j  0.00000000e+00+0.00000000e+00j]\n",
       " [ 0.00000000e+00+0.00000000e+00j  5.01493236e-01+1.89426805e-03j\n",
       "  -4.73882334e-02-1.78997463e-04j -1.27954880e+02+0.00000000e+00j\n",
       "   0.00000000e+00+0.00000000e+00j  0.00000000e+00+0.00000000e+00j\n",
       "  -1.82867542e-04+6.90737418e-07j  4.40488915e-03-1.66383915e-05j\n",
       "   7.11691084e-01-2.68823902e-03j  3.40856243e-02-1.28750110e-04j]\n",
       " [ 0.00000000e+00+0.00000000e+00j  2.07538198e-02+7.83924789e-05j\n",
       "  -1.69229258e-03-6.39222138e-06j  0.00000000e+00+0.00000000e+00j\n",
       "  -3.26873168e+02+0.00000000e+00j  0.00000000e+00+0.00000000e+00j\n",
       "   8.15186863e-03-3.07916901e-05j -5.03977336e-01+1.90365114e-03j\n",
       "   1.77992069e-02-6.72321512e-05j  1.23257773e-03-4.65576094e-06j]\n",
       " [ 0.00000000e+00+0.00000000e+00j -5.19043159e-02-1.96055860e-04j\n",
       "  -7.10608408e-01-2.68414948e-03j  0.00000000e+00+0.00000000e+00j\n",
       "   0.00000000e+00+0.00000000e+00j  3.32372159e+02+0.00000000e+00j\n",
       "   4.10889693e-06-1.55203533e-08j -5.26165433e-04+1.98746125e-06j\n",
       "   5.24662959e-02-1.98178602e-04j -8.71119816e-01+3.29044206e-03j]\n",
       " [ 0.00000000e+00+0.00000000e+00j  0.00000000e+00+0.00000000e+00j\n",
       "   0.00000000e+00+0.00000000e+00j -1.82867542e-04-6.90737418e-07j\n",
       "   8.15186863e-03+3.07916901e-05j  4.10889693e-06+1.55203533e-08j\n",
       "  -1.02105502e+03+0.00000000e+00j  0.00000000e+00+0.00000000e+00j\n",
       "   0.00000000e+00+0.00000000e+00j  0.00000000e+00+0.00000000e+00j]\n",
       " [ 0.00000000e+00+0.00000000e+00j  0.00000000e+00+0.00000000e+00j\n",
       "   0.00000000e+00+0.00000000e+00j  4.40488915e-03+1.66383915e-05j\n",
       "  -5.03977336e-01-1.90365114e-03j -5.26165433e-04-1.98746125e-06j\n",
       "   0.00000000e+00+0.00000000e+00j -4.54375724e+02+0.00000000e+00j\n",
       "   0.00000000e+00+0.00000000e+00j  0.00000000e+00+0.00000000e+00j]\n",
       " [ 0.00000000e+00+0.00000000e+00j  0.00000000e+00+0.00000000e+00j\n",
       "   0.00000000e+00+0.00000000e+00j  7.11691084e-01+2.68823902e-03j\n",
       "   1.77992069e-02+6.72321512e-05j  5.24662959e-02+1.98178602e-04j\n",
       "   0.00000000e+00+0.00000000e+00j  0.00000000e+00+0.00000000e+00j\n",
       "   3.26714476e+02+0.00000000e+00j  0.00000000e+00+0.00000000e+00j]\n",
       " [ 0.00000000e+00+0.00000000e+00j  0.00000000e+00+0.00000000e+00j\n",
       "   0.00000000e+00+0.00000000e+00j  3.40856243e-02+1.28750110e-04j\n",
       "   1.23257773e-03+4.65576094e-06j -8.71119816e-01-3.29044206e-03j\n",
       "   0.00000000e+00+0.00000000e+00j  0.00000000e+00+0.00000000e+00j\n",
       "   0.00000000e+00+0.00000000e+00j  1.07373078e+03+0.00000000e+00j]]"
      ]
     },
     "execution_count": 64,
     "metadata": {},
     "output_type": "execute_result"
    }
   ],
   "source": [
    "# get new Hd and HR\n",
    "Omega = 1 # MHz\n",
    "wd = (H2[3,3]-H2[2,2]+H2[1,1])/2  # 10443 - 5157 + 5285 in MHz\n",
    "Hd = lambda t: Omega * np.cos(2*pi*wd*t)* b1t\n",
    "Hd_D = lambda t: U.dag() * Hd(t) * U\n",
    "\n",
    "# To rotating frame\n",
    "R = lambda t: (-1j*2*pi*wd*ntot*t).expm()\n",
    "HR = lambda t: R(t).dag() * (H2 + Hd_D(t)) * R(t) - ntot *wd\n",
    "\n",
    "# average over 10 period\n",
    "t_list = np.linspace(0, 2, 401)*1e-3  # in us\n",
    "HR_list = [HR(t) for t in t_list]\n",
    "H_R = functools.reduce(operator.add, HR_list) / len(HR_list)\n",
    "H_R"
   ]
  },
  {
   "cell_type": "code",
   "execution_count": 209,
   "metadata": {},
   "outputs": [],
   "source": [
    "avg_list = []\n",
    "for N in range(2,401):\n",
    "    temp = (functools.reduce(operator.add,[HR_list[i] for i in range(N)]) / N)\n",
    "    temp = np.real(temp[0,1])\n",
    "    avg_list.append(temp)\n",
    "    "
   ]
  },
  {
   "cell_type": "code",
   "execution_count": 210,
   "metadata": {},
   "outputs": [
    {
     "data": {
      "text/plain": [
       "[<matplotlib.lines.Line2D at 0x7f1d0dd3ee20>]"
      ]
     },
     "execution_count": 210,
     "metadata": {},
     "output_type": "execute_result"
    }
   ],
   "source": [
    " plt.plot(avg_list)\n",
    "    \n",
    "# f=np.fft.fft(avg_list)\n",
    "# plt.plot(np.absolute(f))\n",
    "# plt.yscale('log')"
   ]
  },
  {
   "cell_type": "markdown",
   "metadata": {},
   "source": [
    "## Least action"
   ]
  },
  {
   "cell_type": "code",
   "execution_count": 113,
   "metadata": {},
   "outputs": [
    {
     "data": {
      "text/latex": [
       "Quantum object: dims = [[10], [10]], shape = (10, 10), type = oper, isherm = True\\begin{equation*}\\left(\\begin{array}{*{11}c}0.002 & 0.026 & 0.0 & 0.0 & 0.0 & 0.0 & 0.0 & 0.0 & 0.0 & 0.0\\\\0.026 & 0.041 & 0.0 & 0.0 & 0.0 & 0.0 & 0.0 & 0.0 & 0.0 & 0.0\\\\0.0 & 0.0 & -127.919 & (-0.047+1.790\\times10^{-04}j) & 0.0 & 0.0 & 0.0 & 0.0 & 0.0 & 0.0\\\\0.0 & 0.0 & (-0.047-1.790\\times10^{-04}j) & -127.958 & 0.0 & 0.0 & 0.0 & 0.0 & 0.0 & 0.0\\\\0.0 & 0.0 & 0.0 & 0.0 & -326.873 & 0.0 & 0.008 & (-0.504+0.002j) & 0.018 & 0.001\\\\0.0 & 0.0 & 0.0 & 0.0 & 0.0 & 332.373 & 0.0 & -5.262\\times10^{-04} & (0.052-1.982\\times10^{-04}j) & (-0.871+0.003j)\\\\0.0 & 0.0 & 0.0 & 0.0 & 0.008 & 0.0 & -1.021\\times10^{+03} & 0.0 & 0.0 & 0.0\\\\0.0 & 0.0 & 0.0 & 0.0 & (-0.504-0.002j) & -5.262\\times10^{-04} & 0.0 & -454.376 & 0.0 & 0.0\\\\0.0 & 0.0 & 0.0 & 0.0 & 0.018 & (0.052+1.982\\times10^{-04}j) & 0.0 & 0.0 & 326.716 & 0.0\\\\0.0 & 0.0 & 0.0 & 0.0 & 0.001 & (-0.871-0.003j) & 0.0 & 0.0 & 0.0 & 1.074\\times10^{+03}\\\\\\end{array}\\right)\\end{equation*}"
      ],
      "text/plain": [
       "Quantum object: dims = [[10], [10]], shape = (10, 10), type = oper, isherm = True\n",
       "Qobj data =\n",
       "[[ 1.97993647e-03+0.j          2.59963234e-02+0.j\n",
       "   0.00000000e+00+0.j          0.00000000e+00+0.j\n",
       "   0.00000000e+00+0.j          0.00000000e+00+0.j\n",
       "   0.00000000e+00+0.j          0.00000000e+00+0.j\n",
       "   0.00000000e+00+0.j          0.00000000e+00+0.j        ]\n",
       " [ 2.59963234e-02+0.j          4.09972254e-02+0.j\n",
       "   0.00000000e+00+0.j          0.00000000e+00+0.j\n",
       "   0.00000000e+00+0.j          0.00000000e+00+0.j\n",
       "   0.00000000e+00+0.j          0.00000000e+00+0.j\n",
       "   0.00000000e+00+0.j          0.00000000e+00+0.j        ]\n",
       " [ 0.00000000e+00+0.j          0.00000000e+00+0.j\n",
       "  -1.27918918e+02+0.j         -4.73867614e-02+0.00017899j\n",
       "   0.00000000e+00+0.j          0.00000000e+00+0.j\n",
       "   0.00000000e+00+0.j          0.00000000e+00+0.j\n",
       "   0.00000000e+00+0.j          0.00000000e+00+0.j        ]\n",
       " [ 0.00000000e+00+0.j          0.00000000e+00+0.j\n",
       "  -4.73867614e-02-0.00017899j -1.27957960e+02+0.j\n",
       "   0.00000000e+00+0.j          0.00000000e+00+0.j\n",
       "   0.00000000e+00+0.j          0.00000000e+00+0.j\n",
       "   0.00000000e+00+0.j          0.00000000e+00+0.j        ]\n",
       " [ 0.00000000e+00+0.j          0.00000000e+00+0.j\n",
       "   0.00000000e+00+0.j          0.00000000e+00+0.j\n",
       "  -3.26873170e+02+0.j          0.00000000e+00+0.j\n",
       "   8.15186852e-03+0.j         -5.03977334e-01+0.00190365j\n",
       "   1.77993519e-02+0.j          1.23258324e-03+0.j        ]\n",
       " [ 0.00000000e+00+0.j          0.00000000e+00+0.j\n",
       "   0.00000000e+00+0.j          0.00000000e+00+0.j\n",
       "   0.00000000e+00+0.j          3.32373264e+02+0.j\n",
       "   0.00000000e+00+0.j         -5.26163473e-04+0.j\n",
       "   5.24661792e-02-0.00019818j -8.71119417e-01+0.00329044j]\n",
       " [ 0.00000000e+00+0.j          0.00000000e+00+0.j\n",
       "   0.00000000e+00+0.j          0.00000000e+00+0.j\n",
       "   8.15186852e-03+0.j          0.00000000e+00+0.j\n",
       "  -1.02105502e+03+0.j          0.00000000e+00+0.j\n",
       "   0.00000000e+00+0.j          0.00000000e+00+0.j        ]\n",
       " [ 0.00000000e+00+0.j          0.00000000e+00+0.j\n",
       "   0.00000000e+00+0.j          0.00000000e+00+0.j\n",
       "  -5.03977334e-01-0.00190365j -5.26163473e-04+0.j\n",
       "   0.00000000e+00+0.j         -4.54375724e+02+0.j\n",
       "   0.00000000e+00+0.j          0.00000000e+00+0.j        ]\n",
       " [ 0.00000000e+00+0.j          0.00000000e+00+0.j\n",
       "   0.00000000e+00+0.j          0.00000000e+00+0.j\n",
       "   1.77993519e-02+0.j          5.24661792e-02+0.00019818j\n",
       "   0.00000000e+00+0.j          0.00000000e+00+0.j\n",
       "   3.26715590e+02+0.j          0.00000000e+00+0.j        ]\n",
       " [ 0.00000000e+00+0.j          0.00000000e+00+0.j\n",
       "   0.00000000e+00+0.j          0.00000000e+00+0.j\n",
       "   1.23258324e-03+0.j         -8.71119417e-01-0.00329044j\n",
       "   0.00000000e+00+0.j          0.00000000e+00+0.j\n",
       "   0.00000000e+00+0.j          1.07373078e+03+0.j        ]]"
      ]
     },
     "execution_count": 113,
     "metadata": {},
     "output_type": "execute_result"
    }
   ],
   "source": [
    "# least action\n",
    "eigen = H_R.eigenstates()\n",
    "\n",
    "# find X\n",
    "X = sorted_diag_op(eigen)\n",
    "\n",
    "# find X_BD and XP\n",
    "A, B, C = X[0:2,0:2], X[2:4, 2:4], X[4:10, 4:10]\n",
    "X_BD_array = block_diag(A,B,C)\n",
    "X_BD = Qobj(X_BD_array)\n",
    "# X_BD = X_BD.tidyup(atol=1e-3)\n",
    "XP = X_BD * X_BD.conj().trans()\n",
    "\n",
    "# find T\n",
    "T = X * X_BD.dag() * XP.sqrtm().inv()\n",
    "\n",
    "# find H_R_BD\n",
    "T.dims = H_R.dims\n",
    "H_R_BD =  T.dag() * H_R * T\n",
    "H_R_BD.tidyup(1e-4)"
   ]
  },
  {
   "cell_type": "markdown",
   "metadata": {},
   "source": [
    "## Pauli coefficient"
   ]
  },
  {
   "cell_type": "code",
   "execution_count": 66,
   "metadata": {},
   "outputs": [
    {
     "data": {
      "text/latex": [
       "$\\displaystyle \\left[\\begin{matrix}-63.958475\\\\-0.02139\\\\-8.1 \\cdot 10^{-5}\\\\1.2 \\cdot 10^{-5}\\\\127.959928\\\\0.073383\\\\0.000277\\\\-0.03903\\end{matrix}\\right]$"
      ],
      "text/plain": [
       "Matrix([\n",
       "[-63.958475],\n",
       "[  -0.02139],\n",
       "[   -8.1e-5],\n",
       "[    1.2e-5],\n",
       "[127.959928],\n",
       "[  0.073383],\n",
       "[  0.000277],\n",
       "[  -0.03903]])"
      ]
     },
     "execution_count": 66,
     "metadata": {},
     "output_type": "execute_result"
    }
   ],
   "source": [
    "def from16to8(M):\n",
    "    return np.array([M[0,0],M[1,0],M[0,1],M[1,1],M[2,2],M[3,2],M[2,3],M[3,3]]).reshape(8,1)\n",
    "\n",
    "# Get Pauli coeff.\n",
    "II = tensor(qeye(2), qeye(2))\n",
    "IX = tensor(qeye(2), sigmax())\n",
    "IY = tensor(qeye(2), sigmay())\n",
    "IZ = tensor(qeye(2), sigmaz())\n",
    "ZI = tensor(sigmaz(), qeye(2))\n",
    "ZY = tensor(sigmaz(), sigmay())\n",
    "ZX = tensor(sigmaz(), sigmax())\n",
    "ZZ = tensor(sigmaz(), sigmaz())\n",
    "\n",
    "a = np.column_stack([from16to8(II),from16to8(IX)/2,from16to8(IY)/2,from16to8(IZ)/2\n",
    "                    ,from16to8(ZI)/2,from16to8(ZX)/2,from16to8(ZY)/2,from16to8(ZZ)/2])\n",
    "\n",
    "b = from16to8(H_R_BD[0:4, 0:4])\n",
    "\n",
    "c = np.linalg.solve(a, b)\n",
    "sympy.Matrix(np.round(c,6))"
   ]
  },
  {
   "cell_type": "markdown",
   "metadata": {},
   "source": [
    "## Pauli vs CR amplitude"
   ]
  },
  {
   "cell_type": "code",
   "execution_count": 67,
   "metadata": {
    "code_folding": [
     0
    ]
   },
   "outputs": [],
   "source": [
    "def get_Pauli_coeff(Omega):\n",
    "    # get new Hd and HR\n",
    "#     Omega = 1 # MHz\n",
    "    wd = (H2[3,3]-H2[2,2]+H2[1,1])/2  # 10443 - 5157 + 5285 in MHz\n",
    "    Hd = lambda t: Omega * np.cos(2*pi*wd*t)* b1t\n",
    "    Hd_D = lambda t: U.dag() * Hd(t) * U\n",
    "\n",
    "    # To rotating frame\n",
    "    R = lambda t: (-1j*2*pi*wd*ntot*t).expm()\n",
    "    HR = lambda t: R(t).dag() * (H2 + Hd_D(t)) * R(t) - ntot *wd\n",
    "\n",
    "    # average over 10 period\n",
    "    t_list = np.linspace(0, 2, 401)*1e-3  # in us\n",
    "    HR_list = [HR(t) for t in t_list]\n",
    "    H_R = functools.reduce(operator.add, HR_list) / len(HR_list)\n",
    "    \n",
    "    # least action\n",
    "    eigen = H_R.eigenstates()\n",
    "\n",
    "    # find X\n",
    "    X = sorted_diag_op(eigen)\n",
    "\n",
    "    # find X_BD and XP\n",
    "    A, B, C = X[0:2,0:2], X[2:4, 2:4], X[4:10, 4:10]\n",
    "    X_BD_array = block_diag(A,B,C)\n",
    "    X_BD = Qobj(X_BD_array)\n",
    "    # X_BD = X_BD.tidyup(atol=1e-3)\n",
    "    XP = X_BD * X_BD.conj().trans()\n",
    "\n",
    "    # find T\n",
    "    T = X * X_BD.dag() * XP.sqrtm().inv()\n",
    "\n",
    "    # find H_R_BD\n",
    "    T.dims = H_R.dims\n",
    "    H_R_BD =  T.dag() * H_R * T\n",
    "   \n",
    "    def from16to8(M):\n",
    "        return np.array([M[0,0],M[1,0],M[0,1],M[1,1],M[2,2],M[3,2],M[2,3],M[3,3]]).reshape(8,1)\n",
    "\n",
    "    # Get Pauli coeff.\n",
    "    II = tensor(qeye(2), qeye(2))\n",
    "    IX = tensor(qeye(2), sigmax())\n",
    "    IY = tensor(qeye(2), sigmay())\n",
    "    IZ = tensor(qeye(2), sigmaz())\n",
    "    ZI = tensor(sigmaz(), qeye(2))\n",
    "    ZY = tensor(sigmaz(), sigmay())\n",
    "    ZX = tensor(sigmaz(), sigmax())\n",
    "    ZZ = tensor(sigmaz(), sigmaz())\n",
    "\n",
    "    a = np.column_stack([from16to8(II),from16to8(IX)/2,from16to8(IY)/2,from16to8(IZ)/2\n",
    "                        ,from16to8(ZI)/2,from16to8(ZX)/2,from16to8(ZY)/2,from16to8(ZZ)/2])\n",
    "\n",
    "    b = from16to8(H_R_BD[0:4, 0:4])\n",
    "\n",
    "    c = np.linalg.solve(a, b)\n",
    "    \n",
    "    return c"
   ]
  },
  {
   "cell_type": "code",
   "execution_count": 68,
   "metadata": {},
   "outputs": [],
   "source": [
    "# plot Pauli coeff. vs CR amplitude\n",
    "Omega_list = np.linspace(1, 200, 10)\n",
    "Pauli = get_Pauli_coeff(Omega_list[0])\n",
    "for omega in Omega_list[1:]:\n",
    "    Pauli = np.column_stack((Pauli, get_Pauli_coeff(omega)))"
   ]
  },
  {
   "cell_type": "code",
   "execution_count": 69,
   "metadata": {},
   "outputs": [
    {
     "name": "stderr",
     "output_type": "stream",
     "text": [
      "/usr/lib/python3/dist-packages/numpy/core/_asarray.py:85: ComplexWarning: Casting complex values to real discards the imaginary part\n",
      "  return array(a, dtype, copy=False, order=order)\n"
     ]
    },
    {
     "data": {
      "text/plain": [
       "<matplotlib.legend.Legend at 0x7f9d754ec430>"
      ]
     },
     "execution_count": 69,
     "metadata": {},
     "output_type": "execute_result"
    }
   ],
   "source": [
    "# plot\n",
    "Pauli_label = ['II','IX','IY','IZ','ZI','ZX','ZY','ZZ']\n",
    "fig, ax = plt.subplots(1,1, figsize=(10,8))\n",
    "for i in range(Pauli.shape[0]):\n",
    "    ax.plot(Omega_list, Pauli[i], label=Pauli_label[i], linewidth=3)\n",
    "ax.set_xlabel('CR amplitude, Omega (MHz)', fontsize=18)\n",
    "ax.set_ylabel('$Pauli Coefficient$ (MHz)', fontsize=18)\n",
    "ax.tick_params(axis='x', labelsize=18)\n",
    "ax.tick_params(axis='y', labelsize=18)\n",
    "ax.grid('on')\n",
    "ax.legend(fontsize=18)"
   ]
  },
  {
   "cell_type": "code",
   "execution_count": 273,
   "metadata": {},
   "outputs": [
    {
     "data": {
      "text/plain": [
       "<matplotlib.legend.Legend at 0x7f1d0e0861c0>"
      ]
     },
     "execution_count": 273,
     "metadata": {},
     "output_type": "execute_result"
    }
   ],
   "source": [
    "# ZZ\n",
    "\n",
    "fig, ax = plt.subplots(1,1, figsize=(10,8))\n",
    "i = 7\n",
    "ax.plot(Omega_list, Pauli[i], label=Pauli_label[i], linewidth=3)\n",
    "ax.set_xlabel('CR amplitude, Omega (MHz)', fontsize=18)\n",
    "ax.set_ylabel(r'$\\zeta$ (MHz)', fontsize=18)\n",
    "ax.tick_params(axis='x', labelsize=18)\n",
    "ax.tick_params(axis='y', labelsize=18)\n",
    "ax.grid('on')\n",
    "ax.legend(fontsize=18)"
   ]
  },
  {
   "cell_type": "markdown",
   "metadata": {},
   "source": [
    "# Function : get_Pauli_coefficient"
   ]
  },
  {
   "cell_type": "code",
   "execution_count": 116,
   "metadata": {
    "code_folding": [
     0,
     17,
     35,
     44,
     58
    ]
   },
   "outputs": [],
   "source": [
    "def sorted_diag_op(eigen):\n",
    "    \"\"\"\n",
    "    Diagonalizing matrix by the order of eigenvector\n",
    "    \n",
    "    Args:\n",
    "        eigen : output of eigenstates() method in qutip\n",
    "       \n",
    "    Return: a new diagonalizing operator Qobj\n",
    "    \"\"\"\n",
    "       \n",
    "    index_list = [np.argmax(np.absolute(vec)) for vec in eigen[1]]\n",
    "    \n",
    "    X_array = np.column_stack([eigen[1][index_list.index(i)] for i in range(eigen[1].size)])\n",
    "    X = Qobj(X_array)\n",
    "    \n",
    "    return X\n",
    "\n",
    "def get_Pauli_coefficient(wm,del_m0,del_m1,gdm\n",
    "                         ,wt,del_t0,del_t1,gdt\n",
    "                         ,wr,gmt,Omega):\n",
    "\n",
    "    # CSFQ, j=0,1,2\n",
    "    w1_d = lambda j: wm*j + del_m0/2*j*(j-1) if j<3 else wm*j + del_m0/2*j*(j-1) + del_m1-del_m0 # dressed freq\n",
    "    gamma1 = lambda j: j/(wr + w1_d(j-1) - w1_d(j))\n",
    "    w1_b = lambda j: w1_d(j) - gamma1(j) * gdm**2  # bare freq. j=1,2,3\n",
    "\n",
    "    # transmon, j=0,1,2\n",
    "    w2_d = lambda j: wt*j + del_t0/2*j*(j-1) if j<3 else wt*j + del_t0/2*j*(j-1) + del_t1-del_t0 # dressed freq\n",
    "    gamma2 = lambda j: j/(wr + w2_d(j-1) - w2_d(j))\n",
    "    w2_b = lambda j: w2_d(j) - gamma2(j) * gdt**2  # bare freq.\n",
    "\n",
    "    # J, {j1,j2}=0,1,2\n",
    "    J = lambda j1,j2 : gmt - gdm*gdt/2*(1/(wr+w1_d(j1)-w1_d(j1+1)) + 1/(wr+w2_d(j2)-w2_d(j2+1)) \n",
    "                                        + 1/(wr-w1_d(j1)+w1_d(j1+1)) + 1/(wr-w2_d(j2)+w2_d(j2+1))) \n",
    "    \n",
    "    def get_possible_states(n):\n",
    "        \"\"\"\n",
    "        Get a list of tuples of possible states, given n\n",
    "        Ex) for n=2, output is [(0,0),(0,1),(1,0),(0,2),(1,1),(2,0)]\n",
    "        Args: \n",
    "            n: integer such that n1+n2<=n for |n1,n2> state\n",
    "        Return:\n",
    "            List of tuples that satisfy n1+n2<=n where n1 and n2 are 0,1,2,3,....\n",
    "        \"\"\"\n",
    "        def get_possible_sum(n):\n",
    "                \"\"\"\n",
    "                 [(0,1)]\n",
    "                \"\"\"\n",
    "                result = []\n",
    "                for i in range(n+1):\n",
    "                    result.append((i,n-i))\n",
    "                return result\n",
    "\n",
    "        possible_list = []\n",
    "        for i in range(n + 1):\n",
    "            possible_list += get_possible_sum(i)\n",
    "\n",
    "        return possible_list\n",
    "    def kronecker_delta(i,j):\n",
    "        return (1 if i==j else 0)\n",
    "\n",
    "    # Get H0, V0, b1 and b2\n",
    "    states = get_possible_states(3) # up to |3> state\n",
    "    unsorted_state_energy_dict = { s: w1_b(s[0]) + w2_b(s[1]) for s in states}\n",
    "   \n",
    "    sorted_state_energy_dict = OrderedDict(sorted(unsorted_state_energy_dict.items(), key=lambda x: x[1]))\n",
    "    sorted_energy = np.array(list(sorted_state_energy_dict.values()))\n",
    "    sorted_states = list(sorted_state_energy_dict.keys())\n",
    "\n",
    "#     Xuexin\n",
    "    sorted_states= [(0,0),(0,1),(1,0),(1,1),(0,2),(2,0),(0,3),(1,2),(2,1),(3,0)]\n",
    "    sorted_energy = np.array([0, w2_b(1), w1_b(1), w1_b(1)+w2_b(1), w2_b(2), w1_b(2), w2_b(3)\n",
    "                 ,w1_b(1)+w2_b(2), w1_b(2)+w2_b(1), w1_b(3)])\n",
    "\n",
    "    n = len(sorted_state_energy_dict)\n",
    "    b1_array, b2_array, V0_array = np.zeros((n,n)), np.zeros((n,n)), np.zeros((n,n))\n",
    "\n",
    "    for i, j in itertools.product(range(n), range(n)):\n",
    "        n1_i, n1_j = sorted_states[i][0], sorted_states[j][0]\n",
    "        n2_i, n2_j = sorted_states[i][1], sorted_states[j][1]\n",
    "\n",
    "        # b1_array[i,j] = <n1_i, n2_i|b1|n1_j, n2_j>\n",
    "        b1_array[i, j] = np.sqrt(n1_j)* kronecker_delta(n1_i, n1_j-1) * kronecker_delta(n2_i, n2_j)\n",
    "        b2_array[i, j] = np.sqrt(n2_j)* kronecker_delta(n2_i, n2_j-1) * kronecker_delta(n1_i, n1_j)\n",
    "\n",
    "        # 1) n1=n1_i-1, n2 = n2_i,  2) n1=n1_i, n2=n2_i-1\n",
    "        V0_array[i,j] = (np.sqrt(n1_i*(n2_i+1))*J(n1_i-1, n2_i)*kronecker_delta(n1_i-1, n1_j)*kronecker_delta(n2_i+1, n2_j)\n",
    "                       + np.sqrt((n1_i+1)*n2_i)*J(n1_i, n2_i-1)*kronecker_delta(n1_i+1, n1_j)*kronecker_delta(n2_i-1, n2_j))\n",
    "\n",
    "    H0 = Qobj(np.diag(sorted_energy))    \n",
    "    V0 = Qobj(V0_array)\n",
    "\n",
    "    b1 = Qobj(b1_array)\n",
    "    b2 = Qobj(b2_array)\n",
    "    \n",
    "    b1t = b1 + b1.dag()\n",
    "    b2t = b2 + b2.dag()\n",
    "    ntot = b1.dag()*b1 + b2.dag()*b2\n",
    "\n",
    "    # By solving eigenvalue\n",
    "    H1 = H0 + V0\n",
    "    eigen = H1.eigenstates()\n",
    "\n",
    "    # find U\n",
    "    U = sorted_diag_op(eigen)\n",
    "    U.dims = H1.dims\n",
    "\n",
    "    # digonalize H0\n",
    "    H2 = U.dag() * H1 * U\n",
    "    \n",
    "    # get new Hd and HR\n",
    "#     Omega = 1 # MHz\n",
    "    wd = (H2[3,3]-H2[2,2]+H2[1,1])/2  # 10443 - 5157 + 5285 in MHz\n",
    "    Hd = lambda t: Omega * np.cos(2*pi*wd*t)* b1t\n",
    "    Hd_D = lambda t: U.dag() * Hd(t) * U\n",
    "\n",
    "    # To rotating frame\n",
    "    R = lambda t: (-1j*2*pi*wd*ntot*t).expm()\n",
    "    HR = lambda t: R(t).dag() * (H2 + Hd_D(t)) * R(t) - ntot *wd\n",
    "\n",
    "    # average over 10 period\n",
    "    t_list = np.linspace(0, 2, 401)*1e-3  # in us\n",
    "    HR_list = [HR(t) for t in t_list]\n",
    "    H_R = functools.reduce(operator.add, HR_list) / len(HR_list)\n",
    "        \n",
    "    # least action\n",
    "    eigen = H_R.eigenstates()\n",
    "\n",
    "    # find X\n",
    "    X = sorted_diag_op(eigen)\n",
    "\n",
    "    # find X_BD and XP\n",
    "    A, B, C = X[0:2,0:2], X[2:4, 2:4], X[4:10, 4:10]\n",
    "    X_BD_array = block_diag(A,B,C)\n",
    "    X_BD = Qobj(X_BD_array)\n",
    "    # X_BD = X_BD.tidyup(atol=1e-3)\n",
    "    XP = X_BD * X_BD.dag()\n",
    "\n",
    "    # find T\n",
    "    T = X * X_BD.dag() * XP.sqrtm().inv()\n",
    "\n",
    "    # find H_R_BD\n",
    "    T.dims = H_R.dims\n",
    "    H_R_BD =  T.dag() * H_R * T\n",
    "       \n",
    "    def from16to8(M):\n",
    "        return np.array([M[0,0],M[1,0],M[0,1],M[1,1],M[2,2],M[3,2],M[2,3],M[3,3]]).reshape(8,1)\n",
    "\n",
    "    # Get Pauli coeff.\n",
    "    II = tensor(qeye(2), qeye(2))\n",
    "    IX = tensor(qeye(2), sigmax())\n",
    "    IY = tensor(qeye(2), sigmay())\n",
    "    IZ = tensor(qeye(2), sigmaz())\n",
    "    ZI = tensor(sigmaz(), qeye(2))\n",
    "    ZY = tensor(sigmaz(), sigmay())\n",
    "    ZX = tensor(sigmaz(), sigmax())\n",
    "    ZZ = tensor(sigmaz(), sigmaz())\n",
    "\n",
    "    a = np.column_stack([from16to8(II),from16to8(IX)/2,from16to8(IY)/2,from16to8(IZ)/2\n",
    "                        ,from16to8(ZI)/2,from16to8(ZX)/2,from16to8(ZY)/2,from16to8(ZZ)/2])\n",
    "\n",
    "    b = from16to8(H_R_BD[0:4, 0:4])\n",
    "\n",
    "    c = np.linalg.solve(a, b)\n",
    "    \n",
    "    return c"
   ]
  },
  {
   "cell_type": "code",
   "execution_count": 119,
   "metadata": {},
   "outputs": [],
   "source": [
    "# parameters CSFQ-transmon\n",
    "wm = 5164       # CSFQ w01\n",
    "del_m0 = 600   # first anharmonicity\n",
    "del_m1 = 430  # second anharmon.\n",
    "gdm = 80     # CSFQ-bus coupling\n",
    "\n",
    "wr = 6292 # bus cavity\n",
    "\n",
    "wt = 5292   # transmon\n",
    "del_t0 = -329.1\n",
    "del_t1 = -369.7\n",
    "gdt = 80    # transmon-bus coupling\n",
    "\n",
    "gmt = 0  # csfq-transmon direct g"
   ]
  },
  {
   "cell_type": "code",
   "execution_count": 124,
   "metadata": {},
   "outputs": [],
   "source": [
    "# parameters, transmon-transmon\n",
    "wm = 5292 #5164       # CSFQ w01\n",
    "del_m0 = -330 #600   # first anharmonicity\n",
    "del_m1 = -370 #430  # second anharmon.\n",
    "gdm = 80     # CSFQ-bus coupling\n",
    "\n",
    "wr = 6292 # bus cavity\n",
    "\n",
    "wt = 5164 #5292   # transmon\n",
    "del_t0 = -329.1\n",
    "del_t1 = -369.7\n",
    "gdt = 80    # transmon-bus coupling\n",
    "\n",
    "gmt = 0  # csfq-transmon direct g"
   ]
  },
  {
   "cell_type": "code",
   "execution_count": 54,
   "metadata": {},
   "outputs": [],
   "source": [
    "# parameters, transmon-transmon (usual target-control swapped)\n",
    "wm = 5164       # CSFQ w01\n",
    "del_m0 = -330 #600   # first anharmonicity\n",
    "del_m1 = -370 #430  # second anharmon.\n",
    "gdm = 80    # CSFQ-bus coupling\n",
    "\n",
    "wr = 6292 # bus cavity\n",
    "\n",
    "wt = 5292   # transmon\n",
    "del_t0 = -329.1\n",
    "del_t1 = -369.7\n",
    "gdt = -80   # transmon-bus coupling\n",
    "\n",
    "gmt = 2.7  # csfq-transmon direct g"
   ]
  },
  {
   "cell_type": "code",
   "execution_count": 125,
   "metadata": {},
   "outputs": [
    {
     "name": "stderr",
     "output_type": "stream",
     "text": [
      "/usr/lib/python3/dist-packages/numpy/core/_asarray.py:85: ComplexWarning: Casting complex values to real discards the imaginary part\n",
      "  return array(a, dtype, copy=False, order=order)\n"
     ]
    },
    {
     "data": {
      "text/plain": [
       "<matplotlib.legend.Legend at 0x7f758ab3a460>"
      ]
     },
     "execution_count": 125,
     "metadata": {},
     "output_type": "execute_result"
    }
   ],
   "source": [
    "# plot Pauli coeff. vs CR amplitude\n",
    "Omega_list = np.linspace(0, 200, 20)\n",
    "\n",
    "Pauli = get_Pauli_coefficient(wm,del_m0,del_m1,gdm\n",
    "                         ,wt,del_t0,del_t1,gdt\n",
    "                         ,wr,gmt,Omega_list[0])\n",
    "for omega in Omega_list[1:]:\n",
    "    Pauli = np.column_stack((Pauli, get_Pauli_coefficient(wm,del_m0,del_m1,gdm\n",
    "                         ,wt,del_t0,del_t1,gdt,wr,gmt,omega)))\n",
    "    \n",
    "# plot\n",
    "Pauli_label = ['II','IX','IY','IZ','ZI','ZX','ZY','ZZ']\n",
    "fig, ax = plt.subplots(1,1, figsize=(10,8))\n",
    "for i in range(Pauli.shape[0]):\n",
    "    ax.plot(Omega_list, Pauli[i], label=Pauli_label[i], linewidth=3)\n",
    "ax.set_xlabel('CR amplitude, Omega (MHz)', fontsize=18)\n",
    "ax.set_ylabel('$Pauli Coefficient$ (MHz)', fontsize=18)\n",
    "ax.tick_params(axis='x', labelsize=18)\n",
    "ax.tick_params(axis='y', labelsize=18)\n",
    "ax.grid('on')\n",
    "ax.legend(fontsize=18)"
   ]
  },
  {
   "cell_type": "markdown",
   "metadata": {},
   "source": [
    "# Function : get ZZ"
   ]
  },
  {
   "cell_type": "code",
   "execution_count": 6,
   "metadata": {
    "code_folding": [
     21,
     44,
     46,
     50
    ]
   },
   "outputs": [],
   "source": [
    "def get_static_ZZ(wm,del_m0,del_m1,gdm\n",
    "                  ,wt,del_t0,del_t1,gdt\n",
    "                         ,wr,gmt):\n",
    "    \"\"\"\n",
    "    By diagonalizing two-qubit Hamiltonian, calculate ZZ(=E11-E01-E10+E00).\n",
    "    \"\"\"\n",
    "    \n",
    "    # CSFQ, j=0,1,2\n",
    "    w1_d = lambda j: wm*j + del_m0/2*j*(j-1) if j<3 else wm*j + del_m0/2*j*(j-1) + del_m1-del_m0 # dressed freq\n",
    "    gamma1 = lambda j: j/(wr + w1_d(j-1) - w1_d(j))\n",
    "    w1_b = lambda j: w1_d(j) - gamma1(j) * gdm**2  # bare freq. j=1,2,3\n",
    "\n",
    "    # transmon, j=0,1,2\n",
    "    w2_d = lambda j: wt*j + del_t0/2*j*(j-1) if j<3 else wt*j + del_t0/2*j*(j-1) + del_t1-del_t0 # dressed freq\n",
    "    gamma2 = lambda j: j/(wr + w2_d(j-1) - w2_d(j))\n",
    "    w2_b = lambda j: w2_d(j) - gamma2(j) * gdt**2  # bare freq.\n",
    "\n",
    "    # J, {j1,j2}=0,1,2\n",
    "    J = lambda j1,j2 : gmt - gdm*gdt/2*(1/(wr+w1_d(j1)-w1_d(j1+1)) + 1/(wr+w2_d(j2)-w2_d(j2+1)) \n",
    "                                        + 1/(wr-w1_d(j1)+w1_d(j1+1)) + 1/(wr-w2_d(j2)+w2_d(j2+1))) \n",
    "    \n",
    "    def get_possible_states(n):\n",
    "        \"\"\"\n",
    "        Get a list of tuples of possible states, given n\n",
    "        Ex) for n=2, output is [(0,0),(0,1),(1,0),(0,2),(1,1),(2,0)]\n",
    "        Args: \n",
    "            n: integer such that n1+n2<=n for |n1,n2> state\n",
    "        Return:\n",
    "            List of tuples that satisfy n1+n2<=n where n1 and n2 are 0,1,2,3,....\n",
    "        \"\"\"\n",
    "        def get_possible_sum(n):\n",
    "                \"\"\"\n",
    "                 [(0,1)]\n",
    "                \"\"\"\n",
    "                result = []\n",
    "                for i in range(n+1):\n",
    "                    result.append((i,n-i))\n",
    "                return result\n",
    "\n",
    "        possible_list = []\n",
    "        for i in range(n + 1):\n",
    "            possible_list += get_possible_sum(i)\n",
    "\n",
    "        return possible_list\n",
    "    def kronecker_delta(i,j):\n",
    "        return (1 if i==j else 0)   \n",
    "    def sorted_diag_op(eigen):\n",
    "        \"\"\"\n",
    "        Diagonalizing matrix by the order of eigenvector\n",
    "\n",
    "        Args:\n",
    "            eigen : output of eigenstates() method in qutip\n",
    "\n",
    "        Return: a new diagonalizing operator Qobj\n",
    "        \"\"\"\n",
    "\n",
    "        index_list = [np.argmax(np.absolute(vec)) for vec in eigen[1]]\n",
    "\n",
    "        X_array = np.column_stack([eigen[1][index_list.index(i)] for i in range(eigen[1].size)])\n",
    "        X = Qobj(X_array)\n",
    "\n",
    "        return X\n",
    "    \n",
    "    # Get H0, V0, b1 and b2\n",
    "    states = get_possible_states(3) # up to |3> state\n",
    "    unsorted_state_energy_dict = { s: w1_b(s[0]) + w2_b(s[1]) for s in states}\n",
    "   \n",
    "    sorted_state_energy_dict = OrderedDict(sorted(unsorted_state_energy_dict.items(), key=lambda x: x[1]))\n",
    "    sorted_energy = np.array(list(sorted_state_energy_dict.values()))\n",
    "    sorted_states = list(sorted_state_energy_dict.keys())\n",
    "\n",
    "#     Xuexin\n",
    "    sorted_states= [(0,0),(0,1),(1,0),(1,1),(0,2),(2,0),(0,3),(1,2),(2,1),(3,0)]\n",
    "    sorted_energy = np.array([0, w2_b(1), w1_b(1), w1_b(1)+w2_b(1), w2_b(2), w1_b(2), w2_b(3)\n",
    "                 ,w1_b(1)+w2_b(2), w1_b(2)+w2_b(1), w1_b(3)])\n",
    "\n",
    "    n = len(sorted_state_energy_dict)\n",
    "    b1_array, b2_array, V0_array = np.zeros((n,n)), np.zeros((n,n)), np.zeros((n,n))\n",
    "\n",
    "    for i, j in itertools.product(range(n), range(n)):\n",
    "        n1_i, n1_j = sorted_states[i][0], sorted_states[j][0]\n",
    "        n2_i, n2_j = sorted_states[i][1], sorted_states[j][1]\n",
    "\n",
    "        # b1_array[i,j] = <n1_i, n2_i|b1|n1_j, n2_j>\n",
    "        b1_array[i, j] = np.sqrt(n1_j)* kronecker_delta(n1_i, n1_j-1) * kronecker_delta(n2_i, n2_j)\n",
    "        b2_array[i, j] = np.sqrt(n2_j)* kronecker_delta(n2_i, n2_j-1) * kronecker_delta(n1_i, n1_j)\n",
    "\n",
    "        # 1) n1=n1_i-1, n2 = n2_i,  2) n1=n1_i, n2=n2_i-1\n",
    "        V0_array[i,j] = (np.sqrt(n1_i*(n2_i+1))*J(n1_i-1, n2_i)*kronecker_delta(n1_i-1, n1_j)*kronecker_delta(n2_i+1, n2_j)\n",
    "                       + np.sqrt((n1_i+1)*n2_i)*J(n1_i, n2_i-1)*kronecker_delta(n1_i+1, n1_j)*kronecker_delta(n2_i-1, n2_j))\n",
    "\n",
    "    H0 = Qobj(np.diag(sorted_energy))    \n",
    "    V0 = Qobj(V0_array)\n",
    "\n",
    "    b1 = Qobj(b1_array)\n",
    "    b2 = Qobj(b2_array)\n",
    "    \n",
    "    b1t = b1 + b1.dag()\n",
    "    b2t = b2 + b2.dag()\n",
    "    ntot = b1.dag()*b1 + b2.dag()*b2\n",
    "\n",
    "    # By solving eigenvalue\n",
    "    H1 = H0 + V0\n",
    "    eigen = H1.eigenstates()\n",
    "\n",
    "    # find U\n",
    "    U = sorted_diag_op(eigen)\n",
    "    U.dims = H1.dims\n",
    "\n",
    "    # digonalize H0\n",
    "    H2 = U.dag() * H1 * U\n",
    "    \n",
    "    return (H2[3,3]-H2[2,2]-H2[1,1], J(0,0))"
   ]
  },
  {
   "cell_type": "code",
   "execution_count": 17,
   "metadata": {},
   "outputs": [],
   "source": [
    "# parameters, transmon-transmon\n",
    "wm = 5292 #5164       # transmon\n",
    "del_m0 = -330 #600   # first anharmonicity\n",
    "del_m1 = -370 #430  # second anharmon.\n",
    "gdm = 120     # transmon-bus coupling\n",
    "\n",
    "wr = 6292 # bus cavity\n",
    "\n",
    "wt = 5164 #5292   # transmon\n",
    "del_t0 = -329.1\n",
    "del_t1 = -369.7\n",
    "gdt = 120    # transmon-bus coupling\n",
    "\n",
    "gmt = 3  # csfq-transmon direct g"
   ]
  },
  {
   "cell_type": "code",
   "execution_count": 18,
   "metadata": {
    "scrolled": true
   },
   "outputs": [
    {
     "data": {
      "text/plain": [
       "-11.833017304841954"
      ]
     },
     "execution_count": 18,
     "metadata": {},
     "output_type": "execute_result"
    }
   ],
   "source": [
    "get_static_ZZ(wm,del_m0,del_m1,gdm\n",
    "              ,wt,del_t0,del_t1,gdt\n",
    "              ,wr,gmt)[1]"
   ]
  },
  {
   "cell_type": "code",
   "execution_count": 19,
   "metadata": {},
   "outputs": [
    {
     "name": "stderr",
     "output_type": "stream",
     "text": [
      "/usr/lib/python3/dist-packages/numpy/core/_asarray.py:85: ComplexWarning: Casting complex values to real discards the imaginary part\n",
      "  return array(a, dtype, copy=False, order=order)\n"
     ]
    },
    {
     "data": {
      "text/plain": [
       "<matplotlib.legend.Legend at 0x7f44f6c207c0>"
      ]
     },
     "execution_count": 19,
     "metadata": {},
     "output_type": "execute_result"
    }
   ],
   "source": [
    "# plot Pauli coeff. vs CR amplitude\n",
    "wr_list = np.linspace(5500, 8000, 101)\n",
    "\n",
    "ZZ = [get_static_ZZ(wm,del_m0,del_m1,gdm\n",
    "                   ,wt,del_t0,del_t1,gdt\n",
    "                   ,wr,gmt)[0] for wr in wr_list]\n",
    "J = [get_static_ZZ(wm,del_m0,del_m1,gdm\n",
    "                   ,wt,del_t0,del_t1,gdt\n",
    "                   ,wr,gmt)[1] for wr in wr_list]  \n",
    "# plot\n",
    "fig, ax = plt.subplots(1,1, figsize=(10,8))\n",
    "ax.plot(wr_list, ZZ, linewidth=3, label='ZZ')\n",
    "ax.plot(wr_list, J, linewidth=3, label='J')\n",
    "ax.set_xlabel('wr (MHz)', fontsize=18)\n",
    "ax.set_ylabel('$ZZ$ (MHz)', fontsize=18)\n",
    "ax.tick_params(axis='x', labelsize=18)\n",
    "ax.tick_params(axis='y', labelsize=18)\n",
    "ax.grid('on')\n",
    "ax.legend(fontsize=18)"
   ]
  },
  {
   "cell_type": "code",
   "execution_count": 100,
   "metadata": {},
   "outputs": [
    {
     "data": {
      "text/plain": [
       "[<matplotlib.lines.Line2D at 0x7f758a1b2e80>]"
      ]
     },
     "execution_count": 100,
     "metadata": {},
     "output_type": "execute_result"
    }
   ],
   "source": [
    "plt.plot(wr_list, J)"
   ]
  },
  {
   "cell_type": "markdown",
   "metadata": {},
   "source": [
    "# Test"
   ]
  },
  {
   "cell_type": "code",
   "execution_count": 132,
   "metadata": {},
   "outputs": [],
   "source": [
    "from sympy import I\n",
    "Omega = 10\n",
    "wd = sympy.Symbol('wd')\n",
    "t = sympy.Symbol('t')\n",
    "\n",
    "Hd = Omega * (sympy.exp(-I*wd*t) + sympy.exp(I*wd*t))/2 * sympy.Matrix(b1t.data.toarray())\n",
    "Hdt = (U.dag()).data.toarray() * Hd * U.data.toarray()\n",
    "\n",
    "Htot = H2.data.toarray() + Hdt\n",
    "\n",
    "Ur = sympy.exp(-I*wd *sympy.Matrix(ntot.data.toarray())*t)\n",
    "Urdag = sympy.exp(I*wd *sympy.Matrix(ntot.data.toarray())*t)\n",
    "H3t = Urdag * Htot * Ur -  sympy.Matrix(ntot.data.toarray())\n",
    "\n",
    "H3t_RWA = sympy.simplify(H3t).subs(sympy.exp(-2*I*wd*t),0)"
   ]
  },
  {
   "cell_type": "code",
   "execution_count": 133,
   "metadata": {
    "scrolled": true
   },
   "outputs": [
    {
     "data": {
      "text/latex": [
       "$\\displaystyle \\left[\\begin{matrix}0 & \\tilde{\\infty} & \\tilde{\\infty} & 0 & 0 & 0 & 0 & 0 & 0 & 0\\\\4.99334164448514 & 5156.98568041008 & 0 & \\tilde{\\infty} & \\tilde{\\infty} & \\tilde{\\infty} & 0 & 0 & 0 & 0\\\\0.257951975085346 & 0 & 5284.94056072468 & \\tilde{\\infty} & \\tilde{\\infty} & \\tilde{\\infty} & 0 & 0 & 0 & 0\\\\0 & -0.0167909850402803 & 0.205920111856128 & 10242.929874963 & 0 & 0 & \\tilde{\\infty} & \\tilde{\\infty} & \\tilde{\\infty} & \\tilde{\\infty}\\\\0 & -0.470187676635091 & 4.97583307954979 & 0 & 10441.8481628593 & 0 & \\tilde{\\infty} & \\tilde{\\infty} & \\tilde{\\infty} & \\tilde{\\infty}\\\\0 & -7.05068098768562 & -0.514996401387033 & 0 & 0 & 10902.1752019878 & \\tilde{\\infty} & \\tilde{\\infty} & \\tilde{\\infty} & \\tilde{\\infty}\\\\0 & 0 & 0 & 0.0808831199757595 & -0.00181441801882665 & 4.07686162342018 \\cdot 10^{-5} & 14833.6495466234 & 0 & 0 & 0\\\\0 & 0 & 0 & -5.00048040613988 & 0.0437054612032167 & -0.00522063146542874 & 0 & 15400.3288406391 & 0 & 0\\\\0 & 0 & 0 & 0.176604341179374 & 7.06142332993868 & 0.520572386690441 & 0 & 0 & 16181.4190409018 & 0\\\\0 & 0 & 0 & 0.0122296784986736 & 0.338198732622567 & -8.643280674438 & 0 & 0 & 0 & 16928.4353487019\\end{matrix}\\right]$"
      ],
      "text/plain": [
       "Matrix([\n",
       "[                0,                 zoo,                zoo,                  0,                    0,                    0,                0,                0,                0,                0],\n",
       "[ 4.99334164448514,    5156.98568041008,                  0,                zoo,                  zoo,                  zoo,                0,                0,                0,                0],\n",
       "[0.257951975085346,                   0,   5284.94056072468,                zoo,                  zoo,                  zoo,                0,                0,                0,                0],\n",
       "[                0, -0.0167909850402803,  0.205920111856128,    10242.929874963,                    0,                    0,              zoo,              zoo,              zoo,              zoo],\n",
       "[                0,  -0.470187676635091,   4.97583307954979,                  0,     10441.8481628593,                    0,              zoo,              zoo,              zoo,              zoo],\n",
       "[                0,   -7.05068098768562, -0.514996401387033,                  0,                    0,     10902.1752019878,              zoo,              zoo,              zoo,              zoo],\n",
       "[                0,                   0,                  0, 0.0808831199757595, -0.00181441801882665,  4.07686162342018e-5, 14833.6495466234,                0,                0,                0],\n",
       "[                0,                   0,                  0,  -5.00048040613988,   0.0437054612032167, -0.00522063146542874,                0, 15400.3288406391,                0,                0],\n",
       "[                0,                   0,                  0,  0.176604341179374,     7.06142332993868,    0.520572386690441,                0,                0, 16181.4190409018,                0],\n",
       "[                0,                   0,                  0, 0.0122296784986736,    0.338198732622567,      -8.643280674438,                0,                0,                0, 16928.4353487019]])"
      ]
     },
     "execution_count": 133,
     "metadata": {},
     "output_type": "execute_result"
    }
   ],
   "source": [
    "sympy.simplify(H3t).subs([(sympy.exp(2*I*wd*t),0), (sympy.oo,0)])\n"
   ]
  }
 ],
 "metadata": {
  "kernelspec": {
   "display_name": "Python 3",
   "language": "python",
   "name": "python3"
  },
  "language_info": {
   "codemirror_mode": {
    "name": "ipython",
    "version": 3
   },
   "file_extension": ".py",
   "mimetype": "text/x-python",
   "name": "python",
   "nbconvert_exporter": "python",
   "pygments_lexer": "ipython3",
   "version": "3.8.2"
  },
  "toc": {
   "base_numbering": 1,
   "nav_menu": {},
   "number_sections": true,
   "sideBar": true,
   "skip_h1_title": false,
   "title_cell": "Table of Contents",
   "title_sidebar": "Contents",
   "toc_cell": false,
   "toc_position": {
    "height": "455.333px",
    "left": "70px",
    "top": "110px",
    "width": "247.188px"
   },
   "toc_section_display": true,
   "toc_window_display": true
  }
 },
 "nbformat": 4,
 "nbformat_minor": 4
}
