{
 "cells": [
  {
   "cell_type": "markdown",
   "metadata": {},
   "source": [
    "# Import modules"
   ]
  },
  {
   "cell_type": "code",
   "execution_count": 1,
   "metadata": {},
   "outputs": [
    {
     "name": "stdout",
     "output_type": "stream",
     "text": [
      "Using matplotlib backend: TkAgg\n"
     ]
    }
   ],
   "source": [
    "%matplotlib \n",
    "import matplotlib.pyplot as plt\n",
    "import numpy as np\n",
    "from scipy.linalg import sqrtm, block_diag\n",
    "from scipy.constants import h,k, hbar\n",
    "from math import pi\n",
    "from qutip import *\n",
    "import sympy\n",
    "import functools, operator\n",
    "from collections import OrderedDict\n",
    "import itertools\n",
    "\n",
    "from transmonCPW import Transmon"
   ]
  },
  {
   "cell_type": "markdown",
   "metadata": {},
   "source": [
    "# Class/function"
   ]
  },
  {
   "cell_type": "code",
   "execution_count": 2,
   "metadata": {
    "code_folding": [
     2,
     14,
     23,
     32
    ]
   },
   "outputs": [],
   "source": [
    "# import numpy as np\n",
    "\n",
    "def compute_g_eff(wc, w1, w2, C1, C2, C12, C1c, C2c, Cc):\n",
    "    \"\"\"\n",
    "    w in GHz and C in fF\n",
    "    \"\"\"\n",
    "    eta = C1c*C2c/C12/Cc\n",
    "    Sigma = 2 / (1/(w1+wc) + 1/(w2+wc))\n",
    "    Delta = 2/(1/(w1-wc) + 1/(w2-wc))\n",
    "\n",
    "    g = 1/2*(wc*eta/2/Delta - wc*eta/2/Sigma + eta + 1)* C12/np.sqrt(C1*C2)*np.sqrt(w1*w2)\n",
    "    \n",
    "    return g\n",
    "\n",
    "def compute_g1(wc,w1,C1,C1c,Cc):\n",
    "    \"\"\"\n",
    "    Qubit-coupler coupling strengh in GHz.\n",
    "    C in fF\n",
    "    \"\"\"\n",
    "    g1 = 1/2*C1c/np.sqrt(C1*Cc)*np.sqrt(w1*wc)\n",
    "    \n",
    "    return g1\n",
    "\n",
    "def compute_g2(wc,w2,C2,C2c,Cc):\n",
    "    \"\"\"\n",
    "    Qubit-coupler coupling strengh in GHz.\n",
    "    C in fF\n",
    "    \"\"\"\n",
    "    g2 = 1/2*C2c/np.sqrt(C2*Cc)*np.sqrt(w2*wc)\n",
    "    \n",
    "    return g2\n",
    "\n",
    "def compute_g12(w1,w2,C1,C2,C12,C1c,C2c,Cc):\n",
    "    \"\"\"\n",
    "    Qubit-qubit coupling strengh in GHz.\n",
    "    C in fF\n",
    "    \"\"\"\n",
    "    eta = C1c*C2c/C12/Cc\n",
    "    g12 = 1/2*(1 + eta)*C12/np.sqrt(C1*C2)*np.sqrt(w1*w2)\n",
    "    \n",
    "    return g12\n",
    "\n",
    "def hamiltonian_2Q_coupler(g1, g2, g12, w1,w2,wc,alpha1,alpha2,alphac,N):\n",
    "    \"\"\"\n",
    "    Full Hamiltonian of two transmons and a coupler.\n",
    "    Note: This produces negative ZZ as experimentally shown in Li paper.\n",
    "    \"\"\"\n",
    "#     g1 = compute_g1(wc,w1,C1,C1c,Cc)\n",
    "#     g2 = compute_g2(wc,w2,C2,C2c,Cc)\n",
    "#     g12 = compute_g12(w1,w2,C1,C2,C12,C1c,C2c,Cc)\n",
    "\n",
    "    b = destroy(N)\n",
    "    I = qeye(N)\n",
    "    \n",
    "    # Eq. A17\n",
    "    H1 = w1*tensor(b.dag()*b, I,I) + alpha1/2.0*tensor(b.dag()*b.dag()*b*b, I, I)\n",
    "    H2 = w2*tensor(I, b.dag()*b, I) + alpha2/2.0*tensor(I, b.dag()*b.dag()*b*b, I)\n",
    "    Hc = wc*tensor(I, I, b.dag()*b) + alphac/2.0*tensor(I, I, b.dag()*b.dag()*b*b)\n",
    "    H1c = g1*(tensor(b.dag(), I, b) + tensor(b, I, b.dag())- tensor(b.dag(), I, b.dag()) -tensor(b, I, b))\n",
    "    H2c = g2*(tensor(I, b.dag(), b) + tensor(I, b, b.dag())- tensor(I, b.dag(), b.dag()) -tensor(I, b, b))\n",
    "    H12 = g12*(tensor(b.dag(), b, I) + tensor(b, b.dag(), I) - tensor(b.dag(), b.dag(), I) -tensor(b, b, I))\n",
    "    \n",
    "    H_eff = H1 + H2 + Hc + H1c + H2c + H12\n",
    "    \n",
    "    return H_eff"
   ]
  },
  {
   "cell_type": "markdown",
   "metadata": {},
   "source": [
    "# Transmon params"
   ]
  },
  {
   "cell_type": "code",
   "execution_count": 3,
   "metadata": {
    "code_folding": [
     0
    ]
   },
   "outputs": [
    {
     "name": "stdout",
     "output_type": "stream",
     "text": [
      "Ej = 13 GHz\n",
      "Ec = 0.28 GHz\n",
      "Total Cap = 69.2 fF\n",
      "Anharm. = -324 MHz\n",
      "Ej/Ec = 46.4\n",
      "f01 = 5.1 GHz\n",
      "\n",
      "Ej = 22 GHz\n",
      "Ec = 0.3 GHz\n",
      "Total Cap = 64.6 fF\n",
      "Anharm. = -335 MHz\n",
      "Ej/Ec = 73.3\n",
      "f01 = 6.95 GHz\n",
      "\n"
     ]
    }
   ],
   "source": [
    "def print_result(q1):\n",
    "    l = [q1.total_cap/1e-15, q1.anharmonicity/1e6, q1.Ej_to_Ec_ratio, q1.f01/1e9]\n",
    "    print(f'Ej = {q1.Ej/h/1e9:.3g} GHz')\n",
    "    print(f'Ec = {q1.Ec/h/1e9:.3g} GHz')\n",
    "    print(f'Total Cap = {q1.total_cap/1e-15:.3g} fF')\n",
    "    print(f'Anharm. = {q1.anharmonicity/1e6:.3g} MHz')\n",
    "    print(f'Ej/Ec = {q1.Ej_to_Ec_ratio:.3g}')\n",
    "    print(f'f01 = {q1.f01/1e9:.3g} GHz')\n",
    "    print()\n",
    "    \n",
    "q1 = Transmon.in_GHz(13, 0.28)\n",
    "q2 = Transmon.in_GHz(22, 0.3)\n",
    "\n",
    "print_result(q1)\n",
    "print_result(q2)"
   ]
  },
  {
   "cell_type": "code",
   "execution_count": 4,
   "metadata": {},
   "outputs": [
    {
     "name": "stdout",
     "output_type": "stream",
     "text": [
      "f_01 = 5.000 GHz\n",
      "T_eff = 0.100 K\n",
      "|1> state population =0.083\n"
     ]
    }
   ],
   "source": [
    "T_eff = 0.1\n",
    "f_01 = 5e9 \n",
    "p_1 = np.exp(-h*f_01/(k*T_eff))/(np.exp(-h*f_01/(k*T_eff))+1)\n",
    "print(f'f_01 = {f_01/1e9:.3f} GHz')\n",
    "print(f'T_eff = {T_eff:.3f} K')\n",
    "print(f'|1> state population ={p_1:.3f}')"
   ]
  },
  {
   "cell_type": "markdown",
   "metadata": {},
   "source": [
    "# (g_eff, g1, g12) vs coupler freq."
   ]
  },
  {
   "cell_type": "code",
   "execution_count": 5,
   "metadata": {},
   "outputs": [
    {
     "name": "stdout",
     "output_type": "stream",
     "text": [
      "g12 = 7.706 MHz\n"
     ]
    }
   ],
   "source": [
    "# parameters from Yan's paper\n",
    "# w1, w2 = 4, 4 # in GHz\n",
    "# (C1, C2, C12, C1c, C2c, Cc) = (70,72,0.1,4,4.2,200)\n",
    "\n",
    "# parameters for IBM qubit\n",
    "w1, w2 = 5, 5 # in GHz\n",
    "(C1, C2, C12, C1c, C2c, Cc) = (60,62,0.1,2,2.2,50)\n",
    "# (C1, C2, C12, C1c, C2c, Cc) = (60,60,0.10,10,14,100)\n",
    "\n",
    "wc_list = np.linspace(5.5, 8, 101)\n",
    "geff = compute_g_eff(wc_list,w1,w2,C1, C2,C12,C1c,C2c,Cc)\n",
    "g1 = compute_g1(wc_list,w1,C1,C1c,Cc)\n",
    "g12 = compute_g12(w1,w2,C1,C2,C12,C1c,C2c,Cc)\n",
    "\n",
    "fig,(ax,ax1) = plt.subplots(2,1, figsize=(10,8))\n",
    "ax.plot(wc_list, geff*1e3)\n",
    "ax.set_ylabel(r'$g_{eff}$ (MHz)', fontsize=18)\n",
    "ax.tick_params(axis='x', labelsize=18)\n",
    "ax.tick_params(axis='y', labelsize=18)\n",
    "ax.grid('on')\n",
    "\n",
    "ax1.plot(wc_list, g1*1e3)\n",
    "ax1.set_xlabel('Coupler Frequency (GHz)', fontsize=18)\n",
    "ax1.set_ylabel(r'$g_{12}$ (MHz)', fontsize=18)\n",
    "ax1.tick_params(axis='x', labelsize=18)\n",
    "ax1.tick_params(axis='y', labelsize=18)\n",
    "ax1.grid('on')\n",
    "\n",
    "print(f'g12 = {compute_g12(w1,w2,C1,C2,C12,C1c,C2c,Cc)*1e3:.3f} MHz')"
   ]
  },
  {
   "cell_type": "markdown",
   "metadata": {},
   "source": [
    "# Two transmons + Coupler"
   ]
  },
  {
   "cell_type": "code",
   "execution_count": 6,
   "metadata": {
    "scrolled": true
   },
   "outputs": [
    {
     "name": "stdout",
     "output_type": "stream",
     "text": [
      "g1=84.5 MHz\n",
      "g12=5.952 MHz\n",
      "geff=-1.840 MHz\n",
      "ZZ = -0.05389 (MHz)\n"
     ]
    }
   ],
   "source": [
    "# parameters for IBM qubit\n",
    "w1, w2, wc = 5, 5, 6 # in GHz\n",
    "alpha1, alpha2, alphac = -0.35, -0.35, -0.35# in GHz\n",
    "(C1, C2, C12, C1c, C2c, Cc) = (70,70,0.1,2,2,60)\n",
    "N=3\n",
    "\n",
    "g1 = compute_g1(wc,w1,C1,C1c,Cc)\n",
    "g2 = compute_g2(wc,w2,C2,C2c,Cc)\n",
    "g12 = compute_g12(w1,w2,C1,C2,C12,C1c,C2c,Cc)  \n",
    "H_eff2 = hamiltonian_2Q_coupler(g1, g2, g12,w1,w2,wc,alpha1,alpha2,alphac,N)\n",
    "\n",
    "eigen2 = H_eff2.eigenstates()\n",
    "ZZ = eigen2[0][6] - eigen2[0][1] - eigen2[0][2] + eigen2[0][0]   # in GHz\n",
    "\n",
    "sympy.SparseMatrix(np.round((H_eff2)[:, 0:13],2))\n",
    "print(f'g1={compute_g1(wc,w1,C1,C1c,Cc)*1e3:.1f} MHz')\n",
    "print(f'g12={compute_g12(w1,w2,C1,C2,C12,C1c,C2c,Cc)*1e3:.3f} MHz')\n",
    "print(f'geff={compute_g_eff(wc,w1,w2,C1,C2,C12,C1c,C2c,Cc)*1e3:.3f} MHz')\n",
    "print(f'ZZ = {ZZ*1e3:.5f} (MHz)')"
   ]
  },
  {
   "cell_type": "code",
   "execution_count": 7,
   "metadata": {
    "scrolled": true
   },
   "outputs": [
    {
     "data": {
      "text/latex": [
       "Quantum object: dims = [[3, 3, 3], [3, 3, 3]], shape = (27, 27), type = oper, isherm = True\\begin{equation*}\\left(\\begin{array}{*{11}c}0.0 & 0.0 & 0.0 & 0.0 & -0.085 & \\cdots & 0.0 & 0.0 & 0.0 & 0.0 & 0.0\\\\0.0 & 6.0 & 0.0 & 0.085 & 0.0 & \\cdots & 0.0 & 0.0 & 0.0 & 0.0 & 0.0\\\\0.0 & 0.0 & 11.650 & 0.0 & 0.120 & \\cdots & 0.0 & 0.0 & 0.0 & 0.0 & 0.0\\\\0.0 & 0.085 & 0.0 & 5.0 & 0.0 & \\cdots & 0.0 & 0.0 & 0.0 & 0.0 & 0.0\\\\-0.085 & 0.0 & 0.120 & 0.0 & 11.0 & \\cdots & 0.0 & 0.0 & 0.0 & 0.0 & 0.0\\\\\\vdots & \\vdots & \\vdots & \\vdots & \\vdots & \\ddots & \\vdots & \\vdots & \\vdots & \\vdots & \\vdots\\\\0.0 & 0.0 & 0.0 & 0.0 & 0.0 & \\cdots & 20.650 & 0.0 & 0.120 & 0.0 & -0.169\\\\0.0 & 0.0 & 0.0 & 0.0 & 0.0 & \\cdots & 0.0 & 26.300 & 0.0 & 0.169 & 0.0\\\\0.0 & 0.0 & 0.0 & 0.0 & 0.0 & \\cdots & 0.120 & 0.0 & 19.300 & 0.0 & 0.0\\\\0.0 & 0.0 & 0.0 & 0.0 & 0.0 & \\cdots & 0.0 & 0.169 & 0.0 & 25.300 & 0.0\\\\0.0 & 0.0 & 0.0 & 0.0 & 0.0 & \\cdots & -0.169 & 0.0 & 0.0 & 0.0 & 30.950\\\\\\end{array}\\right)\\end{equation*}"
      ],
      "text/plain": [
       "Quantum object: dims = [[3, 3, 3], [3, 3, 3]], shape = (27, 27), type = oper, isherm = True\n",
       "Qobj data =\n",
       "[[ 0.00000000e+00  0.00000000e+00  0.00000000e+00  0.00000000e+00\n",
       "  -8.45154255e-02  0.00000000e+00  0.00000000e+00  0.00000000e+00\n",
       "   0.00000000e+00  0.00000000e+00 -8.45154255e-02  0.00000000e+00\n",
       "  -5.95238095e-03  0.00000000e+00  0.00000000e+00  0.00000000e+00\n",
       "   0.00000000e+00  0.00000000e+00  0.00000000e+00  0.00000000e+00\n",
       "   0.00000000e+00  0.00000000e+00  0.00000000e+00  0.00000000e+00\n",
       "   0.00000000e+00  0.00000000e+00  0.00000000e+00]\n",
       " [ 0.00000000e+00  6.00000000e+00  0.00000000e+00  8.45154255e-02\n",
       "   0.00000000e+00 -1.19522861e-01  0.00000000e+00  0.00000000e+00\n",
       "   0.00000000e+00  8.45154255e-02  0.00000000e+00 -1.19522861e-01\n",
       "   0.00000000e+00 -5.95238095e-03  0.00000000e+00  0.00000000e+00\n",
       "   0.00000000e+00  0.00000000e+00  0.00000000e+00  0.00000000e+00\n",
       "   0.00000000e+00  0.00000000e+00  0.00000000e+00  0.00000000e+00\n",
       "   0.00000000e+00  0.00000000e+00  0.00000000e+00]\n",
       " [ 0.00000000e+00  0.00000000e+00  1.16500000e+01  0.00000000e+00\n",
       "   1.19522861e-01  0.00000000e+00  0.00000000e+00  0.00000000e+00\n",
       "   0.00000000e+00  0.00000000e+00  1.19522861e-01  0.00000000e+00\n",
       "   0.00000000e+00  0.00000000e+00 -5.95238095e-03  0.00000000e+00\n",
       "   0.00000000e+00  0.00000000e+00  0.00000000e+00  0.00000000e+00\n",
       "   0.00000000e+00  0.00000000e+00  0.00000000e+00  0.00000000e+00\n",
       "   0.00000000e+00  0.00000000e+00  0.00000000e+00]\n",
       " [ 0.00000000e+00  8.45154255e-02  0.00000000e+00  5.00000000e+00\n",
       "   0.00000000e+00  0.00000000e+00  0.00000000e+00 -1.19522861e-01\n",
       "   0.00000000e+00  5.95238095e-03  0.00000000e+00  0.00000000e+00\n",
       "   0.00000000e+00 -8.45154255e-02  0.00000000e+00 -8.41793787e-03\n",
       "   0.00000000e+00  0.00000000e+00  0.00000000e+00  0.00000000e+00\n",
       "   0.00000000e+00  0.00000000e+00  0.00000000e+00  0.00000000e+00\n",
       "   0.00000000e+00  0.00000000e+00  0.00000000e+00]\n",
       " [-8.45154255e-02  0.00000000e+00  1.19522861e-01  0.00000000e+00\n",
       "   1.10000000e+01  0.00000000e+00  1.19522861e-01  0.00000000e+00\n",
       "  -1.69030851e-01  0.00000000e+00  5.95238095e-03  0.00000000e+00\n",
       "   8.45154255e-02  0.00000000e+00 -1.19522861e-01  0.00000000e+00\n",
       "  -8.41793787e-03  0.00000000e+00  0.00000000e+00  0.00000000e+00\n",
       "   0.00000000e+00  0.00000000e+00  0.00000000e+00  0.00000000e+00\n",
       "   0.00000000e+00  0.00000000e+00  0.00000000e+00]\n",
       " [ 0.00000000e+00 -1.19522861e-01  0.00000000e+00  0.00000000e+00\n",
       "   0.00000000e+00  1.66500000e+01  0.00000000e+00  1.69030851e-01\n",
       "   0.00000000e+00  0.00000000e+00  0.00000000e+00  5.95238095e-03\n",
       "   0.00000000e+00  1.19522861e-01  0.00000000e+00  0.00000000e+00\n",
       "   0.00000000e+00 -8.41793787e-03  0.00000000e+00  0.00000000e+00\n",
       "   0.00000000e+00  0.00000000e+00  0.00000000e+00  0.00000000e+00\n",
       "   0.00000000e+00  0.00000000e+00  0.00000000e+00]\n",
       " [ 0.00000000e+00  0.00000000e+00  0.00000000e+00  0.00000000e+00\n",
       "   1.19522861e-01  0.00000000e+00  9.65000000e+00  0.00000000e+00\n",
       "   0.00000000e+00  0.00000000e+00  0.00000000e+00  0.00000000e+00\n",
       "   8.41793787e-03  0.00000000e+00  0.00000000e+00  0.00000000e+00\n",
       "  -8.45154255e-02  0.00000000e+00  0.00000000e+00  0.00000000e+00\n",
       "   0.00000000e+00  0.00000000e+00  0.00000000e+00  0.00000000e+00\n",
       "   0.00000000e+00  0.00000000e+00  0.00000000e+00]\n",
       " [ 0.00000000e+00  0.00000000e+00  0.00000000e+00 -1.19522861e-01\n",
       "   0.00000000e+00  1.69030851e-01  0.00000000e+00  1.56500000e+01\n",
       "   0.00000000e+00  0.00000000e+00  0.00000000e+00  0.00000000e+00\n",
       "   0.00000000e+00  8.41793787e-03  0.00000000e+00  8.45154255e-02\n",
       "   0.00000000e+00 -1.19522861e-01  0.00000000e+00  0.00000000e+00\n",
       "   0.00000000e+00  0.00000000e+00  0.00000000e+00  0.00000000e+00\n",
       "   0.00000000e+00  0.00000000e+00  0.00000000e+00]\n",
       " [ 0.00000000e+00  0.00000000e+00  0.00000000e+00  0.00000000e+00\n",
       "  -1.69030851e-01  0.00000000e+00  0.00000000e+00  0.00000000e+00\n",
       "   2.13000000e+01  0.00000000e+00  0.00000000e+00  0.00000000e+00\n",
       "   0.00000000e+00  0.00000000e+00  8.41793787e-03  0.00000000e+00\n",
       "   1.19522861e-01  0.00000000e+00  0.00000000e+00  0.00000000e+00\n",
       "   0.00000000e+00  0.00000000e+00  0.00000000e+00  0.00000000e+00\n",
       "   0.00000000e+00  0.00000000e+00  0.00000000e+00]\n",
       " [ 0.00000000e+00  8.45154255e-02  0.00000000e+00  5.95238095e-03\n",
       "   0.00000000e+00  0.00000000e+00  0.00000000e+00  0.00000000e+00\n",
       "   0.00000000e+00  5.00000000e+00  0.00000000e+00  0.00000000e+00\n",
       "   0.00000000e+00 -8.45154255e-02  0.00000000e+00  0.00000000e+00\n",
       "   0.00000000e+00  0.00000000e+00  0.00000000e+00 -1.19522861e-01\n",
       "   0.00000000e+00 -8.41793787e-03  0.00000000e+00  0.00000000e+00\n",
       "   0.00000000e+00  0.00000000e+00  0.00000000e+00]\n",
       " [-8.45154255e-02  0.00000000e+00  1.19522861e-01  0.00000000e+00\n",
       "   5.95238095e-03  0.00000000e+00  0.00000000e+00  0.00000000e+00\n",
       "   0.00000000e+00  0.00000000e+00  1.10000000e+01  0.00000000e+00\n",
       "   8.45154255e-02  0.00000000e+00 -1.19522861e-01  0.00000000e+00\n",
       "   0.00000000e+00  0.00000000e+00  1.19522861e-01  0.00000000e+00\n",
       "  -1.69030851e-01  0.00000000e+00 -8.41793787e-03  0.00000000e+00\n",
       "   0.00000000e+00  0.00000000e+00  0.00000000e+00]\n",
       " [ 0.00000000e+00 -1.19522861e-01  0.00000000e+00  0.00000000e+00\n",
       "   0.00000000e+00  5.95238095e-03  0.00000000e+00  0.00000000e+00\n",
       "   0.00000000e+00  0.00000000e+00  0.00000000e+00  1.66500000e+01\n",
       "   0.00000000e+00  1.19522861e-01  0.00000000e+00  0.00000000e+00\n",
       "   0.00000000e+00  0.00000000e+00  0.00000000e+00  1.69030851e-01\n",
       "   0.00000000e+00  0.00000000e+00  0.00000000e+00 -8.41793787e-03\n",
       "   0.00000000e+00  0.00000000e+00  0.00000000e+00]\n",
       " [-5.95238095e-03  0.00000000e+00  0.00000000e+00  0.00000000e+00\n",
       "   8.45154255e-02  0.00000000e+00  8.41793787e-03  0.00000000e+00\n",
       "   0.00000000e+00  0.00000000e+00  8.45154255e-02  0.00000000e+00\n",
       "   1.00000000e+01  0.00000000e+00  0.00000000e+00  0.00000000e+00\n",
       "  -1.19522861e-01  0.00000000e+00  8.41793787e-03  0.00000000e+00\n",
       "   0.00000000e+00  0.00000000e+00 -1.19522861e-01  0.00000000e+00\n",
       "  -1.19047619e-02  0.00000000e+00  0.00000000e+00]\n",
       " [ 0.00000000e+00 -5.95238095e-03  0.00000000e+00 -8.45154255e-02\n",
       "   0.00000000e+00  1.19522861e-01  0.00000000e+00  8.41793787e-03\n",
       "   0.00000000e+00 -8.45154255e-02  0.00000000e+00  1.19522861e-01\n",
       "   0.00000000e+00  1.60000000e+01  0.00000000e+00  1.19522861e-01\n",
       "   0.00000000e+00 -1.69030851e-01  0.00000000e+00  8.41793787e-03\n",
       "   0.00000000e+00  1.19522861e-01  0.00000000e+00 -1.69030851e-01\n",
       "   0.00000000e+00 -1.19047619e-02  0.00000000e+00]\n",
       " [ 0.00000000e+00  0.00000000e+00 -5.95238095e-03  0.00000000e+00\n",
       "  -1.19522861e-01  0.00000000e+00  0.00000000e+00  0.00000000e+00\n",
       "   8.41793787e-03  0.00000000e+00 -1.19522861e-01  0.00000000e+00\n",
       "   0.00000000e+00  0.00000000e+00  2.16500000e+01  0.00000000e+00\n",
       "   1.69030851e-01  0.00000000e+00  0.00000000e+00  0.00000000e+00\n",
       "   8.41793787e-03  0.00000000e+00  1.69030851e-01  0.00000000e+00\n",
       "   0.00000000e+00  0.00000000e+00 -1.19047619e-02]\n",
       " [ 0.00000000e+00  0.00000000e+00  0.00000000e+00 -8.41793787e-03\n",
       "   0.00000000e+00  0.00000000e+00  0.00000000e+00  8.45154255e-02\n",
       "   0.00000000e+00  0.00000000e+00  0.00000000e+00  0.00000000e+00\n",
       "   0.00000000e+00  1.19522861e-01  0.00000000e+00  1.46500000e+01\n",
       "   0.00000000e+00  0.00000000e+00  0.00000000e+00  0.00000000e+00\n",
       "   0.00000000e+00  1.19047619e-02  0.00000000e+00  0.00000000e+00\n",
       "   0.00000000e+00 -1.19522861e-01  0.00000000e+00]\n",
       " [ 0.00000000e+00  0.00000000e+00  0.00000000e+00  0.00000000e+00\n",
       "  -8.41793787e-03  0.00000000e+00 -8.45154255e-02  0.00000000e+00\n",
       "   1.19522861e-01  0.00000000e+00  0.00000000e+00  0.00000000e+00\n",
       "  -1.19522861e-01  0.00000000e+00  1.69030851e-01  0.00000000e+00\n",
       "   2.06500000e+01  0.00000000e+00  0.00000000e+00  0.00000000e+00\n",
       "   0.00000000e+00  0.00000000e+00  1.19047619e-02  0.00000000e+00\n",
       "   1.19522861e-01  0.00000000e+00 -1.69030851e-01]\n",
       " [ 0.00000000e+00  0.00000000e+00  0.00000000e+00  0.00000000e+00\n",
       "   0.00000000e+00 -8.41793787e-03  0.00000000e+00 -1.19522861e-01\n",
       "   0.00000000e+00  0.00000000e+00  0.00000000e+00  0.00000000e+00\n",
       "   0.00000000e+00 -1.69030851e-01  0.00000000e+00  0.00000000e+00\n",
       "   0.00000000e+00  2.63000000e+01  0.00000000e+00  0.00000000e+00\n",
       "   0.00000000e+00  0.00000000e+00  0.00000000e+00  1.19047619e-02\n",
       "   0.00000000e+00  1.69030851e-01  0.00000000e+00]\n",
       " [ 0.00000000e+00  0.00000000e+00  0.00000000e+00  0.00000000e+00\n",
       "   0.00000000e+00  0.00000000e+00  0.00000000e+00  0.00000000e+00\n",
       "   0.00000000e+00  0.00000000e+00  1.19522861e-01  0.00000000e+00\n",
       "   8.41793787e-03  0.00000000e+00  0.00000000e+00  0.00000000e+00\n",
       "   0.00000000e+00  0.00000000e+00  9.65000000e+00  0.00000000e+00\n",
       "   0.00000000e+00  0.00000000e+00 -8.45154255e-02  0.00000000e+00\n",
       "   0.00000000e+00  0.00000000e+00  0.00000000e+00]\n",
       " [ 0.00000000e+00  0.00000000e+00  0.00000000e+00  0.00000000e+00\n",
       "   0.00000000e+00  0.00000000e+00  0.00000000e+00  0.00000000e+00\n",
       "   0.00000000e+00 -1.19522861e-01  0.00000000e+00  1.69030851e-01\n",
       "   0.00000000e+00  8.41793787e-03  0.00000000e+00  0.00000000e+00\n",
       "   0.00000000e+00  0.00000000e+00  0.00000000e+00  1.56500000e+01\n",
       "   0.00000000e+00  8.45154255e-02  0.00000000e+00 -1.19522861e-01\n",
       "   0.00000000e+00  0.00000000e+00  0.00000000e+00]\n",
       " [ 0.00000000e+00  0.00000000e+00  0.00000000e+00  0.00000000e+00\n",
       "   0.00000000e+00  0.00000000e+00  0.00000000e+00  0.00000000e+00\n",
       "   0.00000000e+00  0.00000000e+00 -1.69030851e-01  0.00000000e+00\n",
       "   0.00000000e+00  0.00000000e+00  8.41793787e-03  0.00000000e+00\n",
       "   0.00000000e+00  0.00000000e+00  0.00000000e+00  0.00000000e+00\n",
       "   2.13000000e+01  0.00000000e+00  1.19522861e-01  0.00000000e+00\n",
       "   0.00000000e+00  0.00000000e+00  0.00000000e+00]\n",
       " [ 0.00000000e+00  0.00000000e+00  0.00000000e+00  0.00000000e+00\n",
       "   0.00000000e+00  0.00000000e+00  0.00000000e+00  0.00000000e+00\n",
       "   0.00000000e+00 -8.41793787e-03  0.00000000e+00  0.00000000e+00\n",
       "   0.00000000e+00  1.19522861e-01  0.00000000e+00  1.19047619e-02\n",
       "   0.00000000e+00  0.00000000e+00  0.00000000e+00  8.45154255e-02\n",
       "   0.00000000e+00  1.46500000e+01  0.00000000e+00  0.00000000e+00\n",
       "   0.00000000e+00 -1.19522861e-01  0.00000000e+00]\n",
       " [ 0.00000000e+00  0.00000000e+00  0.00000000e+00  0.00000000e+00\n",
       "   0.00000000e+00  0.00000000e+00  0.00000000e+00  0.00000000e+00\n",
       "   0.00000000e+00  0.00000000e+00 -8.41793787e-03  0.00000000e+00\n",
       "  -1.19522861e-01  0.00000000e+00  1.69030851e-01  0.00000000e+00\n",
       "   1.19047619e-02  0.00000000e+00 -8.45154255e-02  0.00000000e+00\n",
       "   1.19522861e-01  0.00000000e+00  2.06500000e+01  0.00000000e+00\n",
       "   1.19522861e-01  0.00000000e+00 -1.69030851e-01]\n",
       " [ 0.00000000e+00  0.00000000e+00  0.00000000e+00  0.00000000e+00\n",
       "   0.00000000e+00  0.00000000e+00  0.00000000e+00  0.00000000e+00\n",
       "   0.00000000e+00  0.00000000e+00  0.00000000e+00 -8.41793787e-03\n",
       "   0.00000000e+00 -1.69030851e-01  0.00000000e+00  0.00000000e+00\n",
       "   0.00000000e+00  1.19047619e-02  0.00000000e+00 -1.19522861e-01\n",
       "   0.00000000e+00  0.00000000e+00  0.00000000e+00  2.63000000e+01\n",
       "   0.00000000e+00  1.69030851e-01  0.00000000e+00]\n",
       " [ 0.00000000e+00  0.00000000e+00  0.00000000e+00  0.00000000e+00\n",
       "   0.00000000e+00  0.00000000e+00  0.00000000e+00  0.00000000e+00\n",
       "   0.00000000e+00  0.00000000e+00  0.00000000e+00  0.00000000e+00\n",
       "  -1.19047619e-02  0.00000000e+00  0.00000000e+00  0.00000000e+00\n",
       "   1.19522861e-01  0.00000000e+00  0.00000000e+00  0.00000000e+00\n",
       "   0.00000000e+00  0.00000000e+00  1.19522861e-01  0.00000000e+00\n",
       "   1.93000000e+01  0.00000000e+00  0.00000000e+00]\n",
       " [ 0.00000000e+00  0.00000000e+00  0.00000000e+00  0.00000000e+00\n",
       "   0.00000000e+00  0.00000000e+00  0.00000000e+00  0.00000000e+00\n",
       "   0.00000000e+00  0.00000000e+00  0.00000000e+00  0.00000000e+00\n",
       "   0.00000000e+00 -1.19047619e-02  0.00000000e+00 -1.19522861e-01\n",
       "   0.00000000e+00  1.69030851e-01  0.00000000e+00  0.00000000e+00\n",
       "   0.00000000e+00 -1.19522861e-01  0.00000000e+00  1.69030851e-01\n",
       "   0.00000000e+00  2.53000000e+01  0.00000000e+00]\n",
       " [ 0.00000000e+00  0.00000000e+00  0.00000000e+00  0.00000000e+00\n",
       "   0.00000000e+00  0.00000000e+00  0.00000000e+00  0.00000000e+00\n",
       "   0.00000000e+00  0.00000000e+00  0.00000000e+00  0.00000000e+00\n",
       "   0.00000000e+00  0.00000000e+00 -1.19047619e-02  0.00000000e+00\n",
       "  -1.69030851e-01  0.00000000e+00  0.00000000e+00  0.00000000e+00\n",
       "   0.00000000e+00  0.00000000e+00 -1.69030851e-01  0.00000000e+00\n",
       "   0.00000000e+00  0.00000000e+00  3.09500000e+01]]"
      ]
     },
     "execution_count": 7,
     "metadata": {},
     "output_type": "execute_result"
    }
   ],
   "source": [
    "H_eff2"
   ]
  },
  {
   "cell_type": "code",
   "execution_count": 8,
   "metadata": {},
   "outputs": [],
   "source": [
    "# show H_eff2 matrix\n",
    "# sympy.SparseMatrix(np.round((H_eff2)[:, 0:13],2))"
   ]
  },
  {
   "cell_type": "code",
   "execution_count": 9,
   "metadata": {
    "scrolled": true
   },
   "outputs": [],
   "source": [
    "# plot_energy_levels([H_eff2], N=7, show_ylabels=True)"
   ]
  },
  {
   "cell_type": "markdown",
   "metadata": {},
   "source": [
    "## (ZZ, g) vs Coupler frequency"
   ]
  },
  {
   "cell_type": "code",
   "execution_count": 10,
   "metadata": {},
   "outputs": [],
   "source": [
    "newplot = True\n",
    "\n",
    "# parameters for IBM qubit\n",
    "w1, w2 = 5.3, 5.15 # in GHz\n",
    "wc = 5.5\n",
    "# (C1, C2, C12, C1c, C2c, Cc) = (70,70,0.1, 2, 2, 65) # seems good\n",
    "(C1, C2, C12, C1c, C2c, Cc) = (70,70,0.1, 2, 2, 65)\n",
    "alpha1 = -0.35 # in GHz\n",
    "alpha2 = -0.35\n",
    "alphac = -0.3\n",
    "\n",
    "# # parameters for Li's paper\n",
    "# w1, w2 = 4.961, 4.926 # in GHz\n",
    "# wc = 5.977\n",
    "# (C1, C2, C12, C1c, C2c, Cc) = (60,60,0.13, 2.4,2.4, 90)\n",
    "# alpha1 = -0.206 # in GHz\n",
    "# alpha2 = -0.202\n",
    "# alphac = -0.254\n",
    "\n",
    "N = 3\n",
    "\n",
    "# sweep\n",
    "wc_list = np.linspace(5.5,7,101)\n",
    "# wc_list = np.linspace(5.35,6.2,101)\n",
    "ZZ_list, g_eff_list, g1_list, g2_list, g12_list = [], [], [], [], []\n",
    "ev_list = []\n",
    "\n",
    "for wc in wc_list:\n",
    "    g1 = compute_g1(wc,w1,C1,C1c,Cc)\n",
    "    g2 = compute_g2(wc,w2,C2,C2c,Cc)\n",
    "    g12 = compute_g12(w1,w2,C1,C2,C12,C1c,C2c,Cc)  \n",
    "    g_eff = compute_g_eff(wc,w1,w2,C1,C2,C12,C1c,C2c,Cc)\n",
    "    H_eff = hamiltonian_2Q_coupler(g1,g2,g12,w1,w2,wc,alpha1,alpha2,alphac,N)\n",
    "    \n",
    "    eigen = H_eff.eigenstates()\n",
    "    ev_list.append(eigen[1][6])\n",
    "    ZZ = (eigen[0][6] - eigen[0][1] - eigen[0][2] + eigen[0][0])*1e3  # in MHz\n",
    "    \n",
    "    ZZ_list.append(ZZ)\n",
    "    g_eff_list.append(g_eff*1e3)\n",
    "    g1_list.append(g1*1e3)\n",
    "    g2_list.append(g2*1e3)\n",
    "    g12_list.append(g12*1e3)\n",
    "   \n",
    "# plot\n",
    "if newplot:\n",
    "    fig,(ax,ax1, ax2) = plt.subplots(3,1, figsize=(8,8))\n",
    "ax.plot(wc_list, ZZ_list,'-')\n",
    "ax.set_ylabel(r'$\\zeta$ (MHz)', fontsize=18)\n",
    "ax.tick_params(axis='x', labelsize=18)\n",
    "ax.tick_params(axis='y', labelsize=18)\n",
    "ax.grid('on')\n",
    "\n",
    "ax1.plot(wc_list, g_eff_list,'-')\n",
    "ax1.plot(wc_list, g12_list,'-')\n",
    "ax1.set_ylabel(r'$g_{eff}, g_{12}$ (MHz)', fontsize=18)\n",
    "ax1.tick_params(axis='x', labelsize=18)\n",
    "ax1.tick_params(axis='y', labelsize=18)\n",
    "ax1.grid('on')\n",
    "\n",
    "ax2.plot(wc_list, g1_list,'-')\n",
    "ax2.plot(wc_list, g2_list,'-')\n",
    "ax2.set_xlabel('Coupler Frequency (GHz)', fontsize=18)\n",
    "ax2.set_ylabel(r'$g_1, g_2$ (MHz)', fontsize=18)\n",
    "ax2.tick_params(axis='x', labelsize=18)\n",
    "ax2.tick_params(axis='y', labelsize=18)\n",
    "ax2.grid('on')"
   ]
  },
  {
   "cell_type": "code",
   "execution_count": 11,
   "metadata": {},
   "outputs": [],
   "source": [
    "max_arg = []\n",
    "for ev in ev_list:\n",
    "    max_arg.append(np.argmax(np.absolute(ev.full())))\n",
    "# max_arg"
   ]
  },
  {
   "cell_type": "markdown",
   "metadata": {},
   "source": [
    "## Find Pauli Coeffi"
   ]
  },
  {
   "cell_type": "code",
   "execution_count": 12,
   "metadata": {},
   "outputs": [
    {
     "ename": "NameError",
     "evalue": "name 'hamiltonian_eff_2Q_coupler' is not defined",
     "output_type": "error",
     "traceback": [
      "\u001b[0;31m---------------------------------------------------------------------------\u001b[0m",
      "\u001b[0;31mNameError\u001b[0m                                 Traceback (most recent call last)",
      "\u001b[0;32m<ipython-input-12-3dabb40b9bd2>\u001b[0m in \u001b[0;36m<module>\u001b[0;34m\u001b[0m\n\u001b[1;32m     10\u001b[0m \u001b[0;34m\u001b[0m\u001b[0m\n\u001b[1;32m     11\u001b[0m \u001b[0;31m# Hamiltonian\u001b[0m\u001b[0;34m\u001b[0m\u001b[0;34m\u001b[0m\u001b[0;34m\u001b[0m\u001b[0m\n\u001b[0;32m---> 12\u001b[0;31m \u001b[0mH_eff\u001b[0m \u001b[0;34m=\u001b[0m \u001b[0mhamiltonian_eff_2Q_coupler\u001b[0m\u001b[0;34m(\u001b[0m\u001b[0mw1\u001b[0m\u001b[0;34m,\u001b[0m\u001b[0mw2\u001b[0m\u001b[0;34m,\u001b[0m\u001b[0mwc\u001b[0m\u001b[0;34m,\u001b[0m\u001b[0mC1\u001b[0m\u001b[0;34m,\u001b[0m\u001b[0mC2\u001b[0m\u001b[0;34m,\u001b[0m\u001b[0mC12\u001b[0m\u001b[0;34m,\u001b[0m\u001b[0mC1c\u001b[0m\u001b[0;34m,\u001b[0m\u001b[0mC2c\u001b[0m\u001b[0;34m,\u001b[0m\u001b[0mCc\u001b[0m\u001b[0;34m,\u001b[0m\u001b[0malpha1\u001b[0m\u001b[0;34m,\u001b[0m\u001b[0malpha2\u001b[0m\u001b[0;34m,\u001b[0m\u001b[0malphac\u001b[0m\u001b[0;34m,\u001b[0m\u001b[0mN\u001b[0m\u001b[0;34m)\u001b[0m\u001b[0;34m\u001b[0m\u001b[0;34m\u001b[0m\u001b[0m\n\u001b[0m\u001b[1;32m     13\u001b[0m \u001b[0;34m\u001b[0m\u001b[0m\n\u001b[1;32m     14\u001b[0m \u001b[0;31m# By solving eigenvalue\u001b[0m\u001b[0;34m\u001b[0m\u001b[0;34m\u001b[0m\u001b[0;34m\u001b[0m\u001b[0m\n",
      "\u001b[0;31mNameError\u001b[0m: name 'hamiltonian_eff_2Q_coupler' is not defined"
     ]
    }
   ],
   "source": [
    "# parameters for IBM qubit\n",
    "w1, w2 = 5.3, 5.15 # in GHz\n",
    "wc = 5.5\n",
    "(C1, C2, C12, C1c, C2c, Cc) = (60,60,0.1, 2,2, 100)\n",
    "alpha1 = -0.35 # in GHz\n",
    "alpha2 = -0.35\n",
    "alphac = -0.2\n",
    "\n",
    "N = 3\n",
    "\n",
    "# Hamiltonian\n",
    "H_eff = hamiltonian_eff_2Q_coupler(w1,w2,wc,C1,C2,C12,C1c,C2c,Cc,alpha1,alpha2,alphac,N)\n",
    "\n",
    "# By solving eigenvalue\n",
    "H1 = H0 + V0\n",
    "eigen = H1.eigenstates()\n",
    "\n",
    "# find U\n",
    "U = sorted_diag_op(eigen)\n",
    "U.dims = H1.dims\n",
    "\n",
    "# digonalize H0\n",
    "H2 = U.dag() * H1 * U"
   ]
  },
  {
   "cell_type": "code",
   "execution_count": null,
   "metadata": {},
   "outputs": [],
   "source": []
  },
  {
   "cell_type": "markdown",
   "metadata": {},
   "source": [
    "# ZZ by effective two-qubit Hamiltonian\n",
    "Ref: Yan et al., PRApplied 2018"
   ]
  },
  {
   "cell_type": "code",
   "execution_count": null,
   "metadata": {},
   "outputs": [],
   "source": [
    "%matplotlib \n",
    "import matplotlib.pyplot as plt\n",
    "import numpy as np\n",
    "from math import pi\n",
    "from qutip import *\n",
    "import sympy"
   ]
  },
  {
   "cell_type": "code",
   "execution_count": 13,
   "metadata": {
    "code_folding": []
   },
   "outputs": [],
   "source": [
    "def hamiltonian_eff_two_qubit(w1,w2,wc,C1,C2,C12,C1c,C2c,Cc,alpha1,alpha2,N):\n",
    "    \"\"\"\n",
    "    Effective Two-qubit Hamiltonian, coupler decoupled.\n",
    "    \"\"\"\n",
    "    b1 = destroy(N)\n",
    "    b2 = destroy(N)\n",
    "\n",
    "    w1_dr = w1 + compute_g1(wc,w1,C1,C1c,Cc)**2 * (1/(w1-wc)-1/(w1+wc))\n",
    "    w2_dr = w2 + compute_g2(wc,w2,C1,C1c,Cc)**2 * (1/(w2-wc)-1/(w2+wc))\n",
    "    geff = compute_g_eff(wc, w1, w2, C1, C2, C12, C1c, C2c, Cc)\n",
    "\n",
    "    # Eq. B2\n",
    "    H_eff = ( w1_dr*tensor(b1.dag()*b1,qeye(N)) + alpha1/2.0*tensor(b1.dag()*b1.dag()*b1*b1, qeye(N))\n",
    "        + w2_dr*tensor(qeye(N),b2.dag()*b2) + alpha2/2.0*tensor(qeye(N), b2.dag()*b2.dag()*b2*b2)\n",
    "        + geff * (tensor(b1.dag(),b2) + tensor(b1, b2.dag())))\n",
    "\n",
    "    return H_eff"
   ]
  },
  {
   "cell_type": "code",
   "execution_count": 14,
   "metadata": {
    "scrolled": true
   },
   "outputs": [
    {
     "name": "stdout",
     "output_type": "stream",
     "text": [
      "g1=95.2 MHz\n",
      "g12=6.771 MHz\n",
      "geff=-6.105 MHz\n",
      "ZZ = 0.49 (MHz)\n"
     ]
    }
   ],
   "source": [
    "# parameters for IBM qubit\n",
    "w1, w2 = 5.29, 5.16 # in GHz\n",
    "wc = 6\n",
    "(C1, C2, C12, C1c, C2c, Cc) = (70,72,0.1,4,4.2,200)\n",
    "\n",
    "alpha1 = -0.35 # in GHz\n",
    "alpha2 = -0.35\n",
    "\n",
    "N = 3\n",
    "\n",
    "# compute Hamiltonian\n",
    "H_eff1 = hamiltonian_eff_two_qubit(w1,w2,wc,C1,C2,C12,C1c,C2c,Cc,alpha1,alpha2,N)\n",
    "eigen1 = H_eff1.eigenstates()\n",
    "\n",
    "sympy.SparseMatrix(np.round((H_eff1)[:, 0:13],2))\n",
    "print(f'g1={compute_g1(wc,w1,C1,C1c,Cc)*1e3:.1f} MHz')\n",
    "print(f'g12={compute_g12(w1,w2,C1,C2,C12,C1c,C2c,Cc)*1e3:.3f} MHz')\n",
    "print(f'geff={compute_g_eff(wc,w1,w2,C1,C2,C12,C1c,C2c,Cc)*1e3:.3f} MHz')\n",
    "\n",
    "# Compute eigenvalues and find $\\zeta = \\omega_{11}-\\omega_{01}-\\omega_{10}$\n",
    "ZZ = eigen1[0][5] - eigen1[0][1] - eigen1[0][2] + eigen1[0][0]  # in GHz\n",
    "print(f'ZZ = {ZZ*1e3:.2f} (MHz)')"
   ]
  },
  {
   "cell_type": "code",
   "execution_count": 15,
   "metadata": {
    "code_folding": [],
    "scrolled": true
   },
   "outputs": [
    {
     "data": {
      "text/plain": [
       "array([ 0.        ,  5.14838566,  5.27671523,  9.94719744, 10.20251379,\n",
       "       10.42559143, 15.22262105, 15.35268161, 20.15020177])"
      ]
     },
     "execution_count": 15,
     "metadata": {},
     "output_type": "execute_result"
    }
   ],
   "source": [
    "# compute eigenvalues and eigenstates.\n",
    "eigen1 = H_eff1.eigenstates()  # eigen is a tuble with two elements. eigen[0] = eigenvalues, eigen[1]=eigenstates.\n",
    "eigen1[0]"
   ]
  },
  {
   "cell_type": "markdown",
   "metadata": {},
   "source": [
    "## (ZZ, g_eff) vs Coupler Frequency"
   ]
  },
  {
   "cell_type": "code",
   "execution_count": 16,
   "metadata": {},
   "outputs": [],
   "source": [
    "# Note: This diagonal effective Hamiltonian doesn't seem to give right ZZ. This is\n",
    "# probabaly because SW transformation was used up to only 2nd order. It looks like\n",
    "# 4th order approximation is necessary. So, the only full Hamiltonian with \n",
    "# g coupling terms would work to give right ZZ.\n",
    "# However, for driven ZZ calculation, it may be ok to use the digonal effective \n",
    "# two-quibt Hamiltonian? I want to know the sign and magnitude of \n",
    "# driven ZZ vs CR ampliutude. \n",
    "# If I can do this with two-transmon + bus cavity case, then I could do the same thing \n",
    "# tunable coupler case since the effective two-qubit Hamiltonian for coupler case has\n",
    "# the same form as bus cavity case. The only difference is J vs g_eff. If I assume, \n",
    "# ZZ goes roughly by J**2, then driven ZZ would just increase...?\n",
    "\n",
    "# parameters for IBM qubit\n",
    "w1, w2 = 5.29, 5.16 # in GHz\n",
    "wc = 5.5\n",
    "(C1, C2, C12, C1c, C2c, Cc) = (60,60,0.02,1,1, 50)\n",
    "alpha1 = -0.35 # in GHz\n",
    "alpha2 = -0.35\n",
    "\n",
    "N = 3\n",
    "\n",
    "# sweep\n",
    "wc_list = np.linspace(5.4,7.5,31)\n",
    "ZZ_list, g_eff_list, g1_list, g2_list, g12_list = [], [], [], [], []\n",
    "ev_list = []\n",
    "\n",
    "for wc in wc_list:\n",
    "    H_eff = hamiltonian_eff_two_qubit(w1,w2,wc,C1,C2,C12,C1c,C2c,Cc,alpha1,alpha2,N)\n",
    "    eigen = H_eff.eigenstates()\n",
    "    ev_list.append(eigen[1][5])\n",
    "    ZZ = (eigen[0][5] - eigen[0][1] - eigen[0][2] + eigen[0][0])*1e3  # in MHz\n",
    "    \n",
    "    ZZ_list.append(ZZ)\n",
    "    g_eff_list.append(compute_g_eff(wc,w1,w2,C1,C2,C12,C1c,C2c,Cc)*1e3)\n",
    "    g1_list.append(compute_g1(wc,w1,C1,C1c,Cc)*1e3)\n",
    "    g2_list.append(compute_g2(wc,w2,C2,C2c,Cc)*1e3)\n",
    "    g12_list.append(compute_g12(w1,w2,C1,C2,C12,C1c,C2c,Cc)*1e3)\n",
    "    \n",
    "   \n",
    "# plot\n",
    "fig,(ax,ax1, ax2) = plt.subplots(3,1, figsize=(10,10))\n",
    "ax.plot(wc_list, ZZ_list,'-')\n",
    "# ax.set_xlabel('Coupler Frequency (GHz)', fontsize=18)\n",
    "ax.set_ylabel(r'$\\zeta$ (MHz)', fontsize=18)\n",
    "ax.tick_params(axis='x', labelsize=18)\n",
    "ax.tick_params(axis='y', labelsize=18)\n",
    "ax.grid('on')\n",
    "\n",
    "ax1.plot(wc_list, g_eff_list,'-')\n",
    "ax1.plot(wc_list, g12_list,'-')\n",
    "ax1.set_ylabel(r'$g_{eff}, g_{12}$ (MHz)', fontsize=18)\n",
    "ax1.tick_params(axis='x', labelsize=18)\n",
    "ax1.tick_params(axis='y', labelsize=18)\n",
    "ax1.grid('on')\n",
    "\n",
    "ax2.plot(wc_list, g1_list,'-')\n",
    "ax2.plot(wc_list, g2_list,'-')\n",
    "ax2.set_xlabel('Coupler Frequency (GHz)', fontsize=18)\n",
    "ax2.set_ylabel(r'$g_1, g_2$ (MHz)', fontsize=18)\n",
    "ax2.tick_params(axis='x', labelsize=18)\n",
    "ax2.tick_params(axis='y', labelsize=18)\n",
    "ax2.grid('on')"
   ]
  },
  {
   "cell_type": "code",
   "execution_count": 17,
   "metadata": {},
   "outputs": [],
   "source": [
    "max_arg = []\n",
    "for ev in ev_list:\n",
    "    max_arg.append(np.argmax(np.absolute(ev.full())))"
   ]
  },
  {
   "cell_type": "code",
   "execution_count": 18,
   "metadata": {
    "scrolled": false
   },
   "outputs": [
    {
     "data": {
      "text/plain": [
       "array([[0.00000000e+00+0.j],\n",
       "       [0.00000000e+00+0.j],\n",
       "       [1.42675092e-04+0.j],\n",
       "       [0.00000000e+00+0.j],\n",
       "       [9.99999941e-01+0.j],\n",
       "       [0.00000000e+00+0.j],\n",
       "       [3.11040307e-04+0.j],\n",
       "       [0.00000000e+00+0.j],\n",
       "       [0.00000000e+00+0.j]])"
      ]
     },
     "execution_count": 18,
     "metadata": {},
     "output_type": "execute_result"
    }
   ],
   "source": [
    "eigen[1][5].full()"
   ]
  },
  {
   "cell_type": "markdown",
   "metadata": {},
   "source": [
    "# Compare energy levels of eff. Hamil. vs diag. eff. Hamil."
   ]
  },
  {
   "cell_type": "code",
   "execution_count": 19,
   "metadata": {},
   "outputs": [
    {
     "ename": "NameError",
     "evalue": "name 'hamiltonian_eff_2Q_coupler' is not defined",
     "output_type": "error",
     "traceback": [
      "\u001b[0;31m---------------------------------------------------------------------------\u001b[0m",
      "\u001b[0;31mNameError\u001b[0m                                 Traceback (most recent call last)",
      "\u001b[0;32m<ipython-input-19-c0a2b729dbfb>\u001b[0m in \u001b[0;36m<module>\u001b[0;34m\u001b[0m\n\u001b[1;32m      9\u001b[0m \u001b[0mN\u001b[0m \u001b[0;34m=\u001b[0m \u001b[0;36m5\u001b[0m\u001b[0;34m\u001b[0m\u001b[0;34m\u001b[0m\u001b[0m\n\u001b[1;32m     10\u001b[0m \u001b[0meigen1\u001b[0m \u001b[0;34m=\u001b[0m \u001b[0mhamiltonian_eff_two_qubit\u001b[0m\u001b[0;34m(\u001b[0m\u001b[0mw1\u001b[0m\u001b[0;34m,\u001b[0m\u001b[0mw2\u001b[0m\u001b[0;34m,\u001b[0m\u001b[0mwc\u001b[0m\u001b[0;34m,\u001b[0m\u001b[0mC1\u001b[0m\u001b[0;34m,\u001b[0m\u001b[0mC2\u001b[0m\u001b[0;34m,\u001b[0m\u001b[0mC12\u001b[0m\u001b[0;34m,\u001b[0m\u001b[0mC1c\u001b[0m\u001b[0;34m,\u001b[0m\u001b[0mC2c\u001b[0m\u001b[0;34m,\u001b[0m\u001b[0mCc\u001b[0m\u001b[0;34m,\u001b[0m\u001b[0malpha1\u001b[0m\u001b[0;34m,\u001b[0m\u001b[0malpha2\u001b[0m\u001b[0;34m,\u001b[0m\u001b[0mN\u001b[0m\u001b[0;34m)\u001b[0m\u001b[0;34m.\u001b[0m\u001b[0meigenstates\u001b[0m\u001b[0;34m(\u001b[0m\u001b[0;34m)\u001b[0m\u001b[0;34m\u001b[0m\u001b[0;34m\u001b[0m\u001b[0m\n\u001b[0;32m---> 11\u001b[0;31m \u001b[0meigen2\u001b[0m \u001b[0;34m=\u001b[0m \u001b[0mhamiltonian_eff_2Q_coupler\u001b[0m\u001b[0;34m(\u001b[0m\u001b[0mw1\u001b[0m\u001b[0;34m,\u001b[0m\u001b[0mw2\u001b[0m\u001b[0;34m,\u001b[0m\u001b[0mwc\u001b[0m\u001b[0;34m,\u001b[0m\u001b[0mC1\u001b[0m\u001b[0;34m,\u001b[0m\u001b[0mC2\u001b[0m\u001b[0;34m,\u001b[0m\u001b[0mC12\u001b[0m\u001b[0;34m,\u001b[0m\u001b[0mC1c\u001b[0m\u001b[0;34m,\u001b[0m\u001b[0mC2c\u001b[0m\u001b[0;34m,\u001b[0m\u001b[0mCc\u001b[0m\u001b[0;34m,\u001b[0m\u001b[0malpha1\u001b[0m\u001b[0;34m,\u001b[0m\u001b[0malpha2\u001b[0m\u001b[0;34m,\u001b[0m\u001b[0malphac\u001b[0m\u001b[0;34m,\u001b[0m\u001b[0mN\u001b[0m\u001b[0;34m)\u001b[0m\u001b[0;34m.\u001b[0m\u001b[0meigenstates\u001b[0m\u001b[0;34m(\u001b[0m\u001b[0;34m)\u001b[0m\u001b[0;34m\u001b[0m\u001b[0;34m\u001b[0m\u001b[0m\n\u001b[0m\u001b[1;32m     12\u001b[0m \u001b[0;34m\u001b[0m\u001b[0m\n\u001b[1;32m     13\u001b[0m \u001b[0mplt\u001b[0m\u001b[0;34m.\u001b[0m\u001b[0mfigure\u001b[0m\u001b[0;34m(\u001b[0m\u001b[0;34m)\u001b[0m\u001b[0;34m\u001b[0m\u001b[0;34m\u001b[0m\u001b[0m\n",
      "\u001b[0;31mNameError\u001b[0m: name 'hamiltonian_eff_2Q_coupler' is not defined"
     ]
    }
   ],
   "source": [
    "# parameters for IBM qubit\n",
    "w1, w2 = 5, 5 # in GHz\n",
    "wc = 5.5\n",
    "(C1, C2, C12, C1c, C2c, Cc) = (70,72,0.1,4,4.2,150)\n",
    "alpha1 = -0.35 # in GHz\n",
    "alpha2 = -0.35\n",
    "alphac = -0.4\n",
    "\n",
    "N = 5\n",
    "eigen1 = hamiltonian_eff_two_qubit(w1,w2,wc,C1,C2,C12,C1c,C2c,Cc,alpha1,alpha2,N).eigenstates()\n",
    "eigen2 = hamiltonian_eff_2Q_coupler(w1,w2,wc,C1,C2,C12,C1c,C2c,Cc,alpha1,alpha2,alphac,N).eigenstates()\n",
    "\n",
    "plt.figure()\n",
    "plt.plot(eigen1[0],'-o', label='Effective two-transmons Hamil.')\n",
    "plt.plot(eigen2[0],'-o', label='Two-qubit+ coupler Hamil.')\n",
    "plt.legend()\n",
    "plt.grid()"
   ]
  },
  {
   "cell_type": "code",
   "execution_count": null,
   "metadata": {},
   "outputs": [],
   "source": []
  },
  {
   "cell_type": "code",
   "execution_count": null,
   "metadata": {},
   "outputs": [],
   "source": []
  }
 ],
 "metadata": {
  "kernelspec": {
   "display_name": "Python 3",
   "language": "python",
   "name": "python3"
  },
  "language_info": {
   "codemirror_mode": {
    "name": "ipython",
    "version": 3
   },
   "file_extension": ".py",
   "mimetype": "text/x-python",
   "name": "python",
   "nbconvert_exporter": "python",
   "pygments_lexer": "ipython3",
   "version": "3.8.5"
  },
  "toc": {
   "base_numbering": 1,
   "nav_menu": {},
   "number_sections": true,
   "sideBar": true,
   "skip_h1_title": false,
   "title_cell": "Table of Contents",
   "title_sidebar": "Contents",
   "toc_cell": false,
   "toc_position": {
    "height": "455.333px",
    "left": "70px",
    "top": "110px",
    "width": "247.188px"
   },
   "toc_section_display": true,
   "toc_window_display": true
  }
 },
 "nbformat": 4,
 "nbformat_minor": 4
}
