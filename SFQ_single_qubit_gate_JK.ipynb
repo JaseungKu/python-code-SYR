{
 "cells": [
  {
   "cell_type": "code",
   "execution_count": 1,
   "metadata": {},
   "outputs": [
    {
     "name": "stdout",
     "output_type": "stream",
     "text": [
      "Using matplotlib backend: TkAgg\n"
     ]
    }
   ],
   "source": [
    "%matplotlib\n",
    "import matplotlib.pyplot as plt\n",
    "import numpy as np\n",
    "from scipy.constants import pi,h\n",
    "from qutip import *\n",
    "import functools\n",
    "import operator"
   ]
  },
  {
   "cell_type": "markdown",
   "metadata": {},
   "source": [
    "# Two-level qubit with SFQ pulse train"
   ]
  },
  {
   "cell_type": "markdown",
   "metadata": {},
   "source": [
    "## Using a SFQ pulse train in H1(t)"
   ]
  },
  {
   "cell_type": "code",
   "execution_count": 2,
   "metadata": {},
   "outputs": [
    {
     "data": {
      "text/plain": [
       "[<matplotlib.lines.Line2D at 0x7fb088def048>]"
      ]
     },
     "execution_count": 2,
     "metadata": {},
     "output_type": "execute_result"
    }
   ],
   "source": [
    "# check a Gaussian pulse train\n",
    "\n",
    "# parameters\n",
    "w_01 = 5 * 2 *pi # in GHz*2*pi \n",
    "tau = 2e-3 # in ns \n",
    "tc = 5*tau # in ns \n",
    "del_theta = 2*pi/360*2 # in rad\n",
    "n = 90\n",
    "\n",
    "t1 = np.linspace(0, n * 2*pi/w_01, 100001)\n",
    "y1 = functools.reduce(operator.add, [ np.exp(-(t1-tc -i*2*pi/w_01)**2/2/tau**2) * (np.heaviside(t1-i*2*pi/w_01,0)- np.heaviside(t1-2*tc-i*2*pi/w_01,0)) for i in range(n)])\n",
    "\n",
    "plt.plot(t1, y1)"
   ]
  },
  {
   "cell_type": "code",
   "execution_count": 3,
   "metadata": {
    "code_folding": []
   },
   "outputs": [],
   "source": [
    "def H1_coeff(t, args):\n",
    "    out = functools.reduce(operator.add, \n",
    "        [np.exp(-(t-args['tc']-i*2*pi/args['w_01'])**2/2/args['tau']**2) \n",
    "         * (np.heaviside(t-i*2*pi/args['w_01'],0) + np.heaviside(t+2*args['tc']-i*2*pi/args['w_01'],0)) \n",
    "         for i in range(args['n'])])\n",
    "    \n",
    "    return out"
   ]
  },
  {
   "cell_type": "code",
   "execution_count": 4,
   "metadata": {},
   "outputs": [
    {
     "name": "stdout",
     "output_type": "stream",
     "text": [
      "10.2%. Run time:   1.77s. Est. time left: 00:00:00:15\n",
      "20.2%. Run time:   3.65s. Est. time left: 00:00:00:14\n",
      "30.1%. Run time:   5.20s. Est. time left: 00:00:00:12\n",
      "40.1%. Run time:   6.64s. Est. time left: 00:00:00:09\n",
      "50.1%. Run time:   8.21s. Est. time left: 00:00:00:08\n",
      "60.1%. Run time:   9.74s. Est. time left: 00:00:00:06\n",
      "70.1%. Run time:  11.21s. Est. time left: 00:00:00:04\n",
      "80.0%. Run time:  12.68s. Est. time left: 00:00:00:03\n",
      "90.0%. Run time:  14.38s. Est. time left: 00:00:00:01\n",
      "Total run time:  15.88s\n"
     ]
    }
   ],
   "source": [
    "# parameters\n",
    "w_01 = 5 * 2 *pi # in GHz*2*pi \n",
    "tau = 2e-3 # in ns \n",
    "tc = 5*tau # in ns \n",
    "del_theta = 2*pi/360*2 # in rad\n",
    "n = 90\n",
    "\n",
    "# solve Lindblad master equation\n",
    "H0 = w_01/2*(qeye(2) - sigmaz()) \n",
    "H1 = del_theta/2/np.sqrt(2*pi)/tau*sigmay()\n",
    "H = [H0, [H1, H1_coeff]]\n",
    "\n",
    "psi0 = basis(2,0)\n",
    "tlist_pulseTrain = np.linspace(0, n * 2*pi/w_01, 501)\n",
    "args = {'tau':tau, 'tc': tc, 'w_01': w_01,'n':n}\n",
    "\n",
    "output = mesolve(H, psi0, tlist_pulseTrain, [], [sigmaz()], args, progress_bar=True)  \n",
    "\n",
    "# plot\n",
    "fig,ax = plt.subplots(1,1, figsize=(10,6))\n",
    "ax.plot(tlist_pulseTrain, output.expect[0])\n",
    "ax.set_xlabel('Time (ns)', fontsize=18)\n",
    "ax.set_ylabel(r'$<\\sigma_z>$', fontsize=18)\n",
    "ax.tick_params(axis='x', labelsize=18)\n",
    "ax.tick_params(axis='y', labelsize=18)\n",
    "ax.grid('on')"
   ]
  },
  {
   "cell_type": "markdown",
   "metadata": {},
   "source": [
    "## Using evolution operator : faster"
   ]
  },
  {
   "cell_type": "code",
   "execution_count": 133,
   "metadata": {},
   "outputs": [],
   "source": [
    "def H1_coeff_1(t, args):\n",
    "    \"\"\" Time-dependant coefficient of H1 Hamiltonian \"\"\"\n",
    "    return np.exp(-t**2/2/args['tau']**2)\n",
    "\n",
    "def U_f(t):\n",
    "    \"\"\" free time evolution operator \"\"\"\n",
    "    return (1j*w_01*t/2*sigmaz()).expm() \n",
    "\n",
    "def U_single_multiplier(U_single, n):\n",
    "    U = U_single\n",
    "    counter = 1\n",
    "    while True:\n",
    "        if counter > n: return\n",
    "        yield U \n",
    "        U *= U_single\n",
    "        counter += 1"
   ]
  },
  {
   "cell_type": "code",
   "execution_count": 143,
   "metadata": {},
   "outputs": [
    {
     "data": {
      "text/plain": [
       "<matplotlib.legend.Legend at 0x7feeddc8cfa0>"
      ]
     },
     "execution_count": 143,
     "metadata": {},
     "output_type": "execute_result"
    }
   ],
   "source": [
    "# parameters\n",
    "w_01 = 5 * 2 *pi # in GHz*2*pi \n",
    "tau = 4e-3 # in ns \n",
    "tc = 5*tau # in ns \n",
    "del_theta = 2*pi/360*2 # in rad\n",
    "n = 180\n",
    "\n",
    "# Compute evolution operator over one unit of SFQ pulse train,\n",
    "# i.e., one SFQ + free evolotuion\n",
    "H0 = w_01/2*(qeye(2) - sigmaz()) \n",
    "H1 = del_theta/2/np.sqrt(2*pi)/tau*sigmay() \n",
    "H = [H0, [H1, H1_coeff_1]]\n",
    "\n",
    "tlist = np.linspace(-tc, tc, 101)\n",
    "args = {'tau':tau, 'tc':tc, 'w_01':w_01}\n",
    "\n",
    "U_single_Gauss = propagator(H, tlist, [], args=args) # time evolution during a Gaussian pulse\n",
    "\n",
    "U_single = U_f(2*pi/w_01-tc) * U_single_Gauss[-1] * U_f(-tc) # Eq.26 in PRApplied paper.\n",
    "\n",
    "U_G_list = [i for i in U_single_multiplier(U_single, n)]\n",
    "\n",
    "# U_G_list = [U_single]\n",
    "# for i in range(n-1):\n",
    "#     U_G_list.append(U_single*U_G_list[-1])\n",
    "\n",
    "sigmaz_expect = expect(sigmaz(), U_G_list*basis(2,0)) # expectation value of sigma_z\n",
    "sigmay_expect = expect(sigmay(), U_G_list*basis(2,0))\n",
    "sigmax_expect = expect(sigmax(), U_G_list*basis(2,0))\n",
    "\n",
    "# plot\n",
    "tlist = [2*pi/w_01*i for i in range(n)]\n",
    "fig,ax = plt.subplots(1,1, figsize=(10,6))\n",
    "ax.plot(tlist, sigmaz_expect, label='<z>')\n",
    "ax.plot(tlist, sigmay_expect, label='<y>')\n",
    "ax.plot(tlist, sigmax_expect, label='<x>')\n",
    "ax.set_xlabel('Time (ns)', fontsize=18)\n",
    "ax.set_ylabel(r'$<\\sigma_z>$', fontsize=18)\n",
    "ax.tick_params(axis='x', labelsize=18)\n",
    "ax.tick_params(axis='y', labelsize=18)\n",
    "ax.grid('on')\n",
    "ax.legend(fontsize=18)"
   ]
  },
  {
   "cell_type": "code",
   "execution_count": 140,
   "metadata": {
    "scrolled": true
   },
   "outputs": [
    {
     "data": {
      "text/plain": [
       "array([[-0.56850789-0.4130849j , -0.575601  -0.41814179j]])"
      ]
     },
     "execution_count": 140,
     "metadata": {},
     "output_type": "execute_result"
    }
   ],
   "source": [
    "U_G[-1]"
   ]
  },
  {
   "cell_type": "markdown",
   "metadata": {},
   "source": [
    "## Fidelity vs Number of SFQ pulses \n",
    "As in Fig.4"
   ]
  },
  {
   "cell_type": "code",
   "execution_count": 137,
   "metadata": {},
   "outputs": [],
   "source": [
    "# parameters\n",
    "w_01 = 5 * 2 *pi # in GHz*2*pi \n",
    "tau = 4e-3 # in ns \n",
    "tc = 5*tau # in ns \n",
    "theta = pi/2\n",
    "\n",
    "H0 = w_01/2*(qeye(2) - sigmaz()) \n",
    "U_id = (-1j*theta*sigmay()/2).expm()\n",
    "\n",
    "N_list = np.arange(1, 300, 1)\n",
    "fid_list = []\n",
    "UG_list = []\n",
    "for n in N_list:\n",
    "    del_theta = theta / float(n)\n",
    "    H1 = del_theta/2/np.sqrt(2*pi)/tau*sigmay() \n",
    "    H = [H0, [H1, H1_coeff_1]]\n",
    "    \n",
    "    tlist = np.linspace(-tc, tc, 101)\n",
    "    args = {'tau':tau, 'tc':tc, 'w_01':w_01}\n",
    "\n",
    "    U_single_Gauss = propagator(H, tlist, [], args=args) # time evolution during a Gaussian pulse\n",
    "\n",
    "    U_single = U_f(2*pi/w_01-tc) * U_single_Gauss[-1] * U_f(-tc) # Eq.26 in PRApplied paper.\n",
    "\n",
    "    U_G = U_single**n\n",
    "    UG_list.append(U_G) # optional. for debugging\n",
    "    \n",
    "    Fid_n = (np.absolute((U_id.dag()*U_G).tr())**2 + 2) / 6\n",
    "    fid_list = np.append(fid_list,Fid_n)\n",
    "\n",
    "\n",
    "# plot\n",
    "fig,ax = plt.subplots(1,1, figsize=(10,6))\n",
    "ax.plot(N_list, 1 - fid_list)\n",
    "ax.set_xlabel('Number of SFQ pulses', fontsize=18)\n",
    "ax.set_ylabel('Gate error, 1-F', fontsize=18)\n",
    "ax.set_xscale('log')\n",
    "ax.set_yscale('log')\n",
    "ax.tick_params(axis='x', labelsize=18)\n",
    "ax.tick_params(axis='y', labelsize=18)\n",
    "ax.grid('on')"
   ]
  },
  {
   "cell_type": "code",
   "execution_count": null,
   "metadata": {},
   "outputs": [],
   "source": []
  }
 ],
 "metadata": {
  "kernelspec": {
   "display_name": "Python 3",
   "language": "python",
   "name": "python3"
  },
  "language_info": {
   "codemirror_mode": {
    "name": "ipython",
    "version": 3
   },
   "file_extension": ".py",
   "mimetype": "text/x-python",
   "name": "python",
   "nbconvert_exporter": "python",
   "pygments_lexer": "ipython3",
   "version": "3.8.2"
  },
  "toc": {
   "base_numbering": 1,
   "nav_menu": {},
   "number_sections": true,
   "sideBar": true,
   "skip_h1_title": false,
   "title_cell": "Table of Contents",
   "title_sidebar": "Contents",
   "toc_cell": false,
   "toc_position": {
    "height": "calc(100% - 180px)",
    "left": "10px",
    "top": "150px",
    "width": "165.188px"
   },
   "toc_section_display": true,
   "toc_window_display": true
  }
 },
 "nbformat": 4,
 "nbformat_minor": 4
}
