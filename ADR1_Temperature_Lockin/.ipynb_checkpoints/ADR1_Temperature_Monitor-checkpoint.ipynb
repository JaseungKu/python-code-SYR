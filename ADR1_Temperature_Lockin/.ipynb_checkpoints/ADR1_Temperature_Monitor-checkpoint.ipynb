{
 "cells": [
  {
   "cell_type": "markdown",
   "metadata": {},
   "source": [
    "# Run once"
   ]
  },
  {
   "cell_type": "code",
   "execution_count": 3,
   "metadata": {},
   "outputs": [],
   "source": [
    "%matplotlib qt5\n",
    "import matplotlib.pyplot as plt  \n",
    "import matplotlib.dates as mdates\n",
    "import numpy as np\n",
    "import visa\n",
    "import time\n",
    "import datetime\n",
    "import csv\n",
    "import os\n",
    "import sys\n",
    "# Add path\n",
    "sys.path.append('..\\Instrument Driver')\n",
    "sys.path.append('..\\Helper')\n",
    "\n",
    "# instrument driver\n",
    "import SR830\n",
    "\n",
    "class Plotter:\n",
    "    \"\"\"\n",
    "    Description:\n",
    "    \"\"\"\n",
    "    def __init__(self, xlabel='xlabel()', ylabel='ylabel()', title='title', plotStyle='b-'):\n",
    "        self.fig, self.ax = plt.subplots(1,1)\n",
    "        self.line, = self.ax.plot([], [], plotStyle) \n",
    "        self.fig.suptitle(title)\n",
    "        self.fig.autofmt_xdate()\n",
    "        \n",
    "        self.ax.set_xlabel(xlabel)\n",
    "        self.ax.set_ylabel(ylabel)\n",
    "        self.ax.xaxis.set_major_formatter(mdates.DateFormatter(\"%H:%M\"))\n",
    "        self.ax.axes.axes.grid(1) #This is for the axes.ax\n",
    "        \n",
    "    def update(self, x, y):\n",
    "        self.line.set_xdata(x)\n",
    "        self.line.set_ydata(y)\n",
    "\n",
    "        self.ax.relim()\n",
    "        self.ax.autoscale()\n",
    "        \n",
    "        self.fig.canvas.draw() \n",
    "        self.fig.canvas.flush_events()\n",
    "        \n",
    "def getTemperature(R_volt):\n",
    "    R = R_volt / (0.01 / 10e6)  # R: resistance of thermometer\n",
    "    if R > 3590:\n",
    "        Temp = 377*((1/(R-1500))+8.22e-6)**0.86296\n",
    "    else:\n",
    "        Temp = 4031*((1/(R-997.7))+4.54e-5)**1.15512\n",
    "\n",
    "    return Temp\n",
    "\n",
    "def configure_lockin(lockin):\n",
    "    \"\"\"configure lockin parameters\n",
    "       Arg: \n",
    "           lockin: instance of lockin instrument driver\n",
    "    \"\"\"\n",
    "    lockin.setTrig('sine')\n",
    "    lockin.setSource( 'int')\n",
    "    lockin.setHarm(1)\n",
    "    lockin.setAmpl(0.01)  # Volts\n",
    "    lockin.setFreq(13) # Hz\n",
    "\n",
    "    lockin.setShield('ground')\n",
    "    lockin.setCoupling('DC')\n",
    "    lockin.setInputConfig('A-B')\n",
    "\n",
    "    lockin.setTimeConst('1 s')\n",
    "    lockin.setSlope(12)\n",
    "\n",
    "    lockin.setSens('50 uV/pA')\n",
    "\n",
    "    lockin.setReserve('normal')\n",
    "    lockin.setFilter('both')\n"
   ]
  },
  {
   "cell_type": "code",
   "execution_count": null,
   "metadata": {},
   "outputs": [],
   "source": [
    "# initialize SR830 - (Lock-in Amplifier)\n",
    "GPIB_add = 13\n",
    "lockin = SR830.SR830(GPIB_add)\n",
    "configure_lockin(lockin)"
   ]
  },
  {
   "cell_type": "markdown",
   "metadata": {},
   "source": [
    "# Measure FAA temperature continuously"
   ]
  },
  {
   "cell_type": "code",
   "execution_count": 4,
   "metadata": {
    "scrolled": false
   },
   "outputs": [
    {
     "name": "stdout",
     "output_type": "stream",
     "text": [
      "Reference trigger set to sine 0 crossing! \n",
      "Source set to internal!\n",
      "Detection harmonic set to 1! \n",
      "Amplitude set to 0.01! \n",
      "Frequency set to 13! \n",
      "Input shield grounding set to ground!\n",
      "Input coupling set to DC!\n",
      "Input configuration (current gain) set to A-B! \n",
      "Slope set to 12 dB/oct!\n",
      "Mode set to normal reserve!\n",
      "Both filters in!\n"
     ]
    },
    {
     "ename": "KeyboardInterrupt",
     "evalue": "",
     "output_type": "error",
     "traceback": [
      "\u001b[1;31m---------------------------------------------------------------------------\u001b[0m",
      "\u001b[1;31mKeyboardInterrupt\u001b[0m                         Traceback (most recent call last)",
      "\u001b[1;32m<ipython-input-4-bbd450d3ec9a>\u001b[0m in \u001b[0;36m<module>\u001b[1;34m\u001b[0m\n\u001b[0;32m     57\u001b[0m \u001b[1;33m\u001b[0m\u001b[0m\n\u001b[0;32m     58\u001b[0m         \u001b[1;31m# sleep\u001b[0m\u001b[1;33m\u001b[0m\u001b[1;33m\u001b[0m\u001b[1;33m\u001b[0m\u001b[0m\n\u001b[1;32m---> 59\u001b[1;33m         \u001b[0mtime\u001b[0m\u001b[1;33m.\u001b[0m\u001b[0msleep\u001b[0m\u001b[1;33m(\u001b[0m\u001b[0msleep_interval\u001b[0m\u001b[1;33m)\u001b[0m\u001b[1;33m\u001b[0m\u001b[1;33m\u001b[0m\u001b[0m\n\u001b[0m",
      "\u001b[1;31mKeyboardInterrupt\u001b[0m: "
     ]
    }
   ],
   "source": [
    "###### parameters  ################\n",
    "save_path = r'Z:\\User\\Vito'\n",
    "fileName = 'ADR1_FFA_temper_' + datetime.datetime.strftime(datetime.datetime.now(), '%y%m%d_%H%M%S')\n",
    "sleep_interval = 3  # in sec\n",
    "####################################\n",
    "\n",
    "# initialize SR830 - (Lock-in Amplifier)\n",
    "GPIB_add = 13\n",
    "lockin = SR830.SR830(GPIB_add)\n",
    "configure_lockin(lockin)\n",
    "\n",
    "# Initialize plot\n",
    "plotobj = Plotter(ylabel = 'Temperature (K)', xlabel='Time', title = 'ADR1 Cold Finger Temperature', plotStyle='b-')\n",
    "\n",
    "# Do loop\n",
    "time_arr, temper_arr = [], []\n",
    "\n",
    "fullFileName = os.path.join(save_path, fileName + '.csv') \n",
    "\n",
    "with open(fullFileName, 'w') as f:\n",
    "    writer = csv.writer(f)\n",
    "    \n",
    "    while True:        \n",
    "        # measure time and resistance\n",
    "        curr_time = datetime.datetime.now()\n",
    "        curr_temperature = np.abs(getTemperature(float(lockin.readValue('r'))))\n",
    "\n",
    "        # update time and temperature array\n",
    "        time_arr.append(curr_time)\n",
    "        temper_arr.append(curr_temperature)\n",
    "\n",
    "        # update plot\n",
    "        plotobj.update(time_arr, temper_arr)\n",
    "        \n",
    "        # save data in csv\n",
    "        row = [curr_time.strftime('%m/%d/%Y %H:%M:%S'), curr_temperature]\n",
    "        writer.writerow(row)\n",
    "        \n",
    "        # sleep\n",
    "        time.sleep(sleep_interval)\n"
   ]
  },
  {
   "cell_type": "code",
   "execution_count": 6,
   "metadata": {},
   "outputs": [
    {
     "data": {
      "text/plain": [
       "<module 'SR830' from '..\\\\Instrument Driver\\\\SR830.py'>"
      ]
     },
     "execution_count": 6,
     "metadata": {},
     "output_type": "execute_result"
    }
   ],
   "source": [
    "import importlib\n",
    "importlib.reload(SR830)"
   ]
  }
 ],
 "metadata": {
  "anaconda-cloud": {},
  "kernelspec": {
   "display_name": "Python 3",
   "language": "python",
   "name": "python3"
  },
  "language_info": {
   "codemirror_mode": {
    "name": "ipython",
    "version": 3
   },
   "file_extension": ".py",
   "mimetype": "text/x-python",
   "name": "python",
   "nbconvert_exporter": "python",
   "pygments_lexer": "ipython3",
   "version": "3.7.3"
  },
  "toc": {
   "base_numbering": 1,
   "nav_menu": {},
   "number_sections": true,
   "sideBar": true,
   "skip_h1_title": false,
   "title_cell": "Table of Contents",
   "title_sidebar": "Contents",
   "toc_cell": false,
   "toc_position": {},
   "toc_section_display": true,
   "toc_window_display": false
  }
 },
 "nbformat": 4,
 "nbformat_minor": 2
}
