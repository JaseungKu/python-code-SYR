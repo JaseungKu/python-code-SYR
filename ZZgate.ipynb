{
 "cells": [
  {
   "cell_type": "markdown",
   "metadata": {},
   "source": [
    "# Import modules"
   ]
  },
  {
   "cell_type": "code",
   "execution_count": 2,
   "metadata": {},
   "outputs": [
    {
     "name": "stdout",
     "output_type": "stream",
     "text": [
      "Using matplotlib backend: TkAgg\n"
     ]
    }
   ],
   "source": [
    "%matplotlib \n",
    "import matplotlib.pyplot as plt\n",
    "import numpy as np\n",
    "from scipy.linalg import sqrtm, block_diag\n",
    "from scipy.constants import h,k, hbar\n",
    "from math import pi\n",
    "from qutip import *\n",
    "import sympy\n",
    "import functools, operator\n",
    "from collections import OrderedDict\n",
    "import itertools\n",
    "\n",
    "from transmonCPW import Transmon"
   ]
  },
  {
   "cell_type": "code",
   "execution_count": 3,
   "metadata": {},
   "outputs": [
    {
     "data": {
      "text/latex": [
       "Quantum object: dims = [[4], [4]], shape = (4, 4), type = oper, isherm = True\\begin{equation*}\\left(\\begin{array}{*{11}c}0.0 & 0.0 & 0.0 & 0.0\\\\0.0 & 1.0 & 0.0 & 0.0\\\\0.0 & 0.0 & 2.0 & 0.0\\\\0.0 & 0.0 & 0.0 & 3.000\\\\\\end{array}\\right)\\end{equation*}"
      ],
      "text/plain": [
       "Quantum object: dims = [[4], [4]], shape = (4, 4), type = oper, isherm = True\n",
       "Qobj data =\n",
       "[[0. 0. 0. 0.]\n",
       " [0. 1. 0. 0.]\n",
       " [0. 0. 2. 0.]\n",
       " [0. 0. 0. 3.]]"
      ]
     },
     "execution_count": 3,
     "metadata": {},
     "output_type": "execute_result"
    }
   ],
   "source": [
    "N=4\n",
    "b =destroy(N)\n",
    "b.dag()*b\n",
    "# num(N)"
   ]
  },
  {
   "cell_type": "markdown",
   "metadata": {},
   "source": [
    "# Class/function"
   ]
  },
  {
   "cell_type": "code",
   "execution_count": 4,
   "metadata": {
    "code_folding": [
     2,
     14,
     23,
     32
    ]
   },
   "outputs": [],
   "source": [
    "def hamiltonian_transmon_CSFQ_bus(g1, g2, g12, w1, w2, wc, alpha1, alpha2, N):\n",
    "    \"\"\"\n",
    "    Full Hamiltonian of two transmons and a coupler.\n",
    "    Note: This produces negative ZZ as experimentally shown in Li paper.\n",
    "    \"\"\"\n",
    "    b = destroy(N)\n",
    "    I = qeye(N)\n",
    "    \n",
    "    # Eq. A17\n",
    "    H1 = w1*tensor(b.dag()*b, I,I) + alpha1/2.0*tensor(b.dag()*b.dag()*b*b, I, I)\n",
    "    Hc = wc*tensor(I, num(N), I)\n",
    "    H2 = w2*tensor(I, I, b.dag()*b) + alpha2/2.0*tensor(I, I, b.dag()*b.dag()*b*b)\n",
    "    H1c = g1*(tensor(b.dag(), b, I) + tensor(b, b.dag(), I))\n",
    "    H2c = g2*(tensor(I, b.dag(), b) + tensor(I, b, b.dag()))\n",
    "    H12 = g12*(tensor(b.dag(), I, b) + tensor(b, I, b.dag()))\n",
    "    \n",
    "    H_eff = H1 + H2 + Hc + H1c + H2c + H12\n",
    "    \n",
    "    return H_eff\n",
    "\n",
    "def pad_zero(s):\n",
    "    if len(s) == 3:\n",
    "        return s\n",
    "    else:\n",
    "        return '0'*(3-len(s)) + f'{s}'\n",
    "\n",
    "def get_bare_ket_rep_from_eigenstate(eigst):\n",
    "    N = int(len(np.array(eigst)) ** (1/3))\n",
    "    max_index = np.argmax(np.abs(eigst))\n",
    "    base_3_rep = np.base_repr(max_index, base=N)\n",
    "    base_3_rep_zero_pad = pad_zero(base_3_rep)\n",
    "    \n",
    "    return f'|{base_3_rep_zero_pad}>'\n",
    "\n",
    "def show_eigenstate_in_order(eigenstate):\n",
    "    \"\"\"\n",
    "    eigenstate: e2 from \"e1, e2 = H.eigenstates()\"\" in qubitp\n",
    "    \"\"\"\n",
    "    \n",
    "    for eigst in eigenstate:\n",
    "        base_3_rep = get_bare_ket_rep_from_eigenstate(eigst)\n",
    "        print(base_3_rep)\n",
    "                "
   ]
  },
  {
   "cell_type": "markdown",
   "metadata": {},
   "source": [
    "# Transmon params"
   ]
  },
  {
   "cell_type": "code",
   "execution_count": 5,
   "metadata": {
    "code_folding": []
   },
   "outputs": [
    {
     "name": "stdout",
     "output_type": "stream",
     "text": [
      "Ej = 13 GHz\n",
      "Ec = 0.28 GHz\n",
      "Total Cap = 69.2 fF\n",
      "Anharm. = -324 MHz\n",
      "Ej/Ec = 46.4\n",
      "f01 = 5.1 GHz\n",
      "\n"
     ]
    },
    {
     "data": {
      "text/plain": [
       "0.013929796595573425"
      ]
     },
     "execution_count": 5,
     "metadata": {},
     "output_type": "execute_result"
    }
   ],
   "source": [
    "def print_result(q1):\n",
    "    l = [q1.total_cap/1e-15, q1.anharmonicity/1e6, q1.Ej_to_Ec_ratio, q1.f01/1e9]\n",
    "    print(f'Ej = {q1.Ej/h/1e9:.3g} GHz')\n",
    "    print(f'Ec = {q1.Ec/h/1e9:.3g} GHz')\n",
    "    print(f'Total Cap = {q1.total_cap/1e-15:.3g} fF')\n",
    "    print(f'Anharm. = {q1.anharmonicity/1e6:.3g} MHz')\n",
    "    print(f'Ej/Ec = {q1.Ej_to_Ec_ratio:.3g}')\n",
    "    print(f'f01 = {q1.f01/1e9:.3g} GHz')\n",
    "    print()\n",
    "    \n",
    "q1 = Transmon.in_GHz(13, 0.28)\n",
    "# q2 = Transmon.in_GHz(22, 0.3)\n",
    "\n",
    "\n",
    "print_result(q1)\n",
    "# print_result(q2)\n",
    "\n",
    "q2 = Transmon.in_GHz(17.5, 0.35)\n",
    "q2.charge_dispersion/1e6\n",
    "# q2.anharmonicity"
   ]
  },
  {
   "cell_type": "markdown",
   "metadata": {},
   "source": [
    "# CSFQ /  Bus / Asymmetric Transmon"
   ]
  },
  {
   "cell_type": "code",
   "execution_count": 13,
   "metadata": {
    "scrolled": false
   },
   "outputs": [
    {
     "name": "stderr",
     "output_type": "stream",
     "text": [
      "/usr/lib/python3/dist-packages/numpy/core/_asarray.py:85: ComplexWarning: Casting complex values to real discards the imaginary part\n",
      "  return array(a, dtype, copy=False, order=order)\n",
      "/usr/lib/python3/dist-packages/matplotlib/text.py:1761: ComplexWarning: Casting complex values to real discards the imaginary part\n",
      "  y = float(self.convert_yunits(y))\n",
      "/usr/lib/python3/dist-packages/matplotlib/text.py:814: ComplexWarning: Casting complex values to real discards the imaginary part\n",
      "  y = float(self.convert_yunits(self._y))\n",
      "/usr/lib/python3/dist-packages/matplotlib/text.py:676: ComplexWarning: Casting complex values to real discards the imaginary part\n",
      "  posy = float(textobj.convert_yunits(textobj._y))\n"
     ]
    }
   ],
   "source": [
    "# parameters for IBM qubit\n",
    "w1, w2, wc =  5.9, 4.9, 5.3 # in GHz\n",
    "alpha1, alpha2 =  -0.35, 0.5# in GHz\n",
    "\n",
    "(g1, g2) = 0.133,0.128\n",
    "g12 = 2/wc*g1*g2\n",
    "N = 3\n",
    "w1_list = np.linspace(5.7, 6.7, 51)\n",
    "energy_levels = np.zeros((N**3, w1_list.size), dtype=complex)\n",
    "ZZ_list = np.zeros(w1_list.size)\n",
    "\n",
    "for idx, w1 in enumerate(w1_list):\n",
    "    H_eff = hamiltonian_transmon_CSFQ_bus(g1, g2, g12, w1, w2, wc, alpha1, alpha2, N)\n",
    "    eigval, eigstate = H_eff.eigenstates()\n",
    "    energy_levels[:,idx] =  eigval\n",
    "    ZZ_list[idx] = eigval[7] - eigval[1] - eigval[3] + eigval[0]   # in GHz\n",
    "\n",
    "how_many_levels = 10\n",
    "fig,(ax1, ax2) = plt.subplots(1,2, figsize=(14,8))\n",
    "for i in range(1, how_many_levels + 1):\n",
    "    ax1.plot(w1_list, energy_levels[i,:],linewidth=2)\n",
    "    ax1.annotate(get_bare_ket_rep_from_eigenstate(eigstate[i]), fontsize=14,\n",
    "            xy=(w1_list[-1]+0.02, energy_levels[i,-1]), xycoords='data',\n",
    "            xytext=(w1_list[-1]+0.1, energy_levels[i,-1]), textcoords='data',\n",
    "            arrowprops=dict(arrowstyle=\"-\",\n",
    "                            connectionstyle=\"arc3\"),\n",
    "            )\n",
    "ax1.set_xlim(right=(w1_list[-1]+0.3))\n",
    "ax1.set_xlabel('Transmon Freq (GHz)', fontsize=18)\n",
    "ax1.set_ylabel('Eneryg Level (GHz)', fontsize=18)\n",
    "ax1.tick_params(axis='x', labelsize=18)\n",
    "ax1.tick_params(axis='y', labelsize=18)\n",
    "# ax1.grid(axis='x')\n",
    "\n",
    "ax2.plot(w1_list, ZZ_list*1e3)\n",
    "ax2.set_xlabel('Transmon Freq (GHz)', fontsize=18)\n",
    "ax2.set_ylabel(r'$\\zeta$ (MHz)', fontsize=18)\n",
    "ax2.tick_params(axis='x', labelsize=18)\n",
    "ax2.tick_params(axis='y', labelsize=18)\n",
    "ax2.grid('on')\n"
   ]
  },
  {
   "cell_type": "code",
   "execution_count": 7,
   "metadata": {
    "scrolled": true
   },
   "outputs": [
    {
     "ename": "NameError",
     "evalue": "name 'eigstate' is not defined",
     "output_type": "error",
     "traceback": [
      "\u001b[0;31m---------------------------------------------------------------------------\u001b[0m",
      "\u001b[0;31mNameError\u001b[0m                                 Traceback (most recent call last)",
      "\u001b[0;32m<ipython-input-7-06a073e8cc7a>\u001b[0m in \u001b[0;36m<module>\u001b[0;34m\u001b[0m\n\u001b[1;32m      2\u001b[0m \u001b[0;31m# for i in range(len(eigstate)):\u001b[0m\u001b[0;34m\u001b[0m\u001b[0;34m\u001b[0m\u001b[0;34m\u001b[0m\u001b[0m\n\u001b[1;32m      3\u001b[0m \u001b[0;32mfor\u001b[0m \u001b[0mi\u001b[0m \u001b[0;32min\u001b[0m \u001b[0mrange\u001b[0m\u001b[0;34m(\u001b[0m\u001b[0;36m10\u001b[0m\u001b[0;34m)\u001b[0m\u001b[0;34m:\u001b[0m\u001b[0;34m\u001b[0m\u001b[0;34m\u001b[0m\u001b[0m\n\u001b[0;32m----> 4\u001b[0;31m     \u001b[0max\u001b[0m\u001b[0;34m.\u001b[0m\u001b[0mplot\u001b[0m\u001b[0;34m(\u001b[0m \u001b[0mnp\u001b[0m\u001b[0;34m.\u001b[0m\u001b[0marray\u001b[0m\u001b[0;34m(\u001b[0m\u001b[0meigstate\u001b[0m\u001b[0;34m[\u001b[0m\u001b[0mi\u001b[0m\u001b[0;34m]\u001b[0m\u001b[0;34m)\u001b[0m \u001b[0;34m+\u001b[0m \u001b[0mi\u001b[0m\u001b[0;34m*\u001b[0m\u001b[0;36m1.2\u001b[0m\u001b[0;34m,\u001b[0m\u001b[0;34m'-o'\u001b[0m\u001b[0;34m)\u001b[0m\u001b[0;34m\u001b[0m\u001b[0;34m\u001b[0m\u001b[0m\n\u001b[0m\u001b[1;32m      5\u001b[0m \u001b[0max\u001b[0m\u001b[0;34m.\u001b[0m\u001b[0mset_xlabel\u001b[0m\u001b[0;34m(\u001b[0m\u001b[0;34m'Index'\u001b[0m\u001b[0;34m,\u001b[0m \u001b[0mfontsize\u001b[0m\u001b[0;34m=\u001b[0m\u001b[0;36m18\u001b[0m\u001b[0;34m)\u001b[0m\u001b[0;34m\u001b[0m\u001b[0;34m\u001b[0m\u001b[0m\n\u001b[1;32m      6\u001b[0m \u001b[0;31m# ax.set_ylabel(r'$\\zeta$ (MHz)', fontsize=18)\u001b[0m\u001b[0;34m\u001b[0m\u001b[0;34m\u001b[0m\u001b[0;34m\u001b[0m\u001b[0m\n",
      "\u001b[0;31mNameError\u001b[0m: name 'eigstate' is not defined"
     ]
    }
   ],
   "source": [
    "fig, ax = plt.subplots(1,1, figsize=(8,8))\n",
    "# for i in range(len(eigstate)):\n",
    "for i in range(10):\n",
    "    ax.plot( np.array(eigstate[i]) + i*1.2,'-o')\n",
    "ax.set_xlabel('Index', fontsize=18)\n",
    "# ax.set_ylabel(r'$\\zeta$ (MHz)', fontsize=18)\n",
    "ax.tick_params(axis='x', labelsize=18)\n",
    "ax.tick_params(axis='y', labelsize=18)\n",
    "ax.grid('on')"
   ]
  },
  {
   "cell_type": "code",
   "execution_count": 285,
   "metadata": {
    "scrolled": false
   },
   "outputs": [
    {
     "name": "stdout",
     "output_type": "stream",
     "text": [
      "|000>\n",
      "|001>\n",
      "|010>\n",
      "|100>\n",
      "|011>\n",
      "|002>\n",
      "|020>\n",
      "|101>\n",
      "|110>\n",
      "|200>\n",
      "|021>\n",
      "|012>\n",
      "|111>\n",
      "|102>\n",
      "|120>\n",
      "|201>\n",
      "|210>\n",
      "|022>\n",
      "|121>\n",
      "|112>\n",
      "|211>\n",
      "|202>\n",
      "|220>\n",
      "|122>\n",
      "|221>\n",
      "|212>\n",
      "|222>\n"
     ]
    }
   ],
   "source": [
    "show_eigenstate_in_order(eigstate)"
   ]
  }
 ],
 "metadata": {
  "kernelspec": {
   "display_name": "Python 3",
   "language": "python",
   "name": "python3"
  },
  "language_info": {
   "codemirror_mode": {
    "name": "ipython",
    "version": 3
   },
   "file_extension": ".py",
   "mimetype": "text/x-python",
   "name": "python",
   "nbconvert_exporter": "python",
   "pygments_lexer": "ipython3",
   "version": "3.8.5"
  },
  "toc": {
   "base_numbering": 1,
   "nav_menu": {},
   "number_sections": true,
   "sideBar": true,
   "skip_h1_title": false,
   "title_cell": "Table of Contents",
   "title_sidebar": "Contents",
   "toc_cell": false,
   "toc_position": {
    "height": "455.333px",
    "left": "70px",
    "top": "110px",
    "width": "165px"
   },
   "toc_section_display": true,
   "toc_window_display": true
  }
 },
 "nbformat": 4,
 "nbformat_minor": 4
}
