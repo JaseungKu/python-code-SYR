{
 "cells": [
  {
   "cell_type": "code",
   "execution_count": null,
   "metadata": {},
   "outputs": [],
   "source": [
    "from scipy.optimize import curve_fit\n",
    "\n",
    "class getFreq:\n",
    "    # measure resonance dip and do fit. Get the frequency at 3dB points\n",
    "    def getBiasFreq(startFreq, endFreq):\n",
    "    \n",
    "        pna.setSweepType(mode='linear')\n",
    "        time.sleep(.1)\n",
    "        pna.setFreqStartEnd(startFreq, endFreq)\n",
    "        time.sleep(.1)\n",
    "        pna.setPwr(-45)\n",
    "        time.sleep(.1)\n",
    "        pna.avgCount(10)\n",
    "        time.sleep(.1)\n",
    "        pna.numPoints(801)\n",
    "        time.sleep(.1)\n",
    "        pna.setIF(500)\n",
    "        time.sleep(.1)\n",
    "        pna.avgClear()\n",
    "        time.sleep(.1)\n",
    "        \n",
    "        freq, S21= pna.getData(cplx=True)\n",
    "        time.sleep(.1)\n",
    "        S21_mag = np.sqrt(np.real(S21)**2 + np.imag(S21)**2)\n",
    "        S21_mag_log = np.log10(S21_mag)\n",
    "    \n",
    "        f0 = freq[np.argmin(S21_mag_log)]  # find frequency at minimum S21, i.e. dip\n",
    "    \n",
    "#     pna.setSweepType(mode='CW')\n",
    "    return f0 \n",
    "\n",
    "# def doLorenzianFit(freq, S21_mag_log):\n",
    "#     # set initial value\n",
    "#     p0 =[]\n",
    "#     p0.append(freq(np.argmin(S21_mag_log))) # f0\n",
    "    \n",
    "#     popt, pcov = curve_fit(lorenzin, freq, S21_mag, p0)\n",
    "#     return popt, pcov"
   ]
  }
 ],
 "metadata": {
  "kernelspec": {
   "display_name": "Python 3",
   "language": "python",
   "name": "python3"
  },
  "language_info": {
   "codemirror_mode": {
    "name": "ipython",
    "version": 3
   },
   "file_extension": ".py",
   "mimetype": "text/x-python",
   "name": "python",
   "nbconvert_exporter": "python",
   "pygments_lexer": "ipython3",
   "version": "3.8.5"
  },
  "toc": {
   "base_numbering": 1,
   "nav_menu": {},
   "number_sections": true,
   "sideBar": true,
   "skip_h1_title": false,
   "title_cell": "Table of Contents",
   "title_sidebar": "Contents",
   "toc_cell": false,
   "toc_position": {},
   "toc_section_display": true,
   "toc_window_display": false
  }
 },
 "nbformat": 4,
 "nbformat_minor": 4
}
