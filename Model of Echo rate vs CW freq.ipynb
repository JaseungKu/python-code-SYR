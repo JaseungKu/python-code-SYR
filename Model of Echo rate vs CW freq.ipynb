{
 "cells": [
  {
   "cell_type": "code",
   "execution_count": 11,
   "metadata": {},
   "outputs": [
    {
     "data": {
      "text/plain": [
       "Text(0,0.5,'Gamma (Hz)')"
      ]
     },
     "execution_count": 11,
     "metadata": {},
     "output_type": "execute_result"
    },
    {
     "data": {
      "image/png": "[encoded data removed]",
      "text/plain": [
       "<matplotlib.figure.Figure at 0x18a4ed71f60>"
      ]
     },
     "metadata": {},
     "output_type": "display_data"
    }
   ],
   "source": [
    "%matplotlib inline\n",
    "import matplotlib.pyplot as plt\n",
    "import numpy as np\n",
    "from math import pi\n",
    "\n",
    "kappa = 0.1e6 * 2 * pi\n",
    "kai = 2e6/2 * 2* pi\n",
    "epsil  = 1e3\n",
    "\n",
    "def gamma(kappa, kai, epsil, detune):\n",
    "    \"\"\" \n",
    "    inputs are all in angular freq.\n",
    "    \"\"\"\n",
    "    n_p = epsil**2  /(kappa**2 / 4 +(detune + kai)**2)\n",
    "    n_m = epsil**2  /(kappa**2 / 4 +(detune - kai)**2)\n",
    "    Ds = 2 * (n_p + n_m) * kai**2 /(kappa**2 / 4 +  kai**2 + detune**2)\n",
    "    return Ds * kappa / 2\n",
    "\n",
    "detunes = np.linspace(-2,2, 101) * 1e6 * 2 * pi\n",
    "\n",
    "gammas = [gamma(kappa, kai, epsil, x) for x in detunes]\n",
    "\n",
    "plt.plot(detunes/2/pi/1e6, gammas)\n",
    "plt.xlabel('detune (MHz)')\n",
    "plt.ylabel('Gamma (Hz)')"
   ]
  },
  {
   "cell_type": "code",
   "execution_count": 2,
   "metadata": {},
   "outputs": [
    {
     "data": {
      "text/plain": [
       "0.12481516956547556"
      ]
     },
     "execution_count": 2,
     "metadata": {},
     "output_type": "execute_result"
    }
   ],
   "source": [
    "gamma(kappa, kai, epsil, 3)\n"
   ]
  },
  {
   "cell_type": "code",
   "execution_count": null,
   "metadata": {
    "collapsed": true
   },
   "outputs": [],
   "source": []
  }
 ],
 "metadata": {
  "kernelspec": {
   "display_name": "Python 3",
   "language": "python",
   "name": "python3"
  },
  "language_info": {
   "codemirror_mode": {
    "name": "ipython",
    "version": 3
   },
   "file_extension": ".py",
   "mimetype": "text/x-python",
   "name": "python",
   "nbconvert_exporter": "python",
   "pygments_lexer": "ipython3",
   "version": "3.6.3"
  },
  "toc": {
   "nav_menu": {},
   "number_sections": true,
   "sideBar": true,
   "skip_h1_title": false,
   "toc_cell": false,
   "toc_position": {},
   "toc_section_display": "block",
   "toc_window_display": false
  }
 },
 "nbformat": 4,
 "nbformat_minor": 2
}
