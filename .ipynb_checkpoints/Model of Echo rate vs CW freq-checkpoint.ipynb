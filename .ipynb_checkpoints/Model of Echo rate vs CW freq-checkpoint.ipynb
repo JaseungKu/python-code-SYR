{
 "cells": [
  {
   "cell_type": "code",
   "execution_count": 37,
   "metadata": {},
   "outputs": [
    {
     "data": {
      "text/plain": [
       "Text(0,0.5,'Gamma (Hz)')"
      ]
     },
     "execution_count": 37,
     "metadata": {},
     "output_type": "execute_result"
    },
    {
     "data": {
      "image/png": "[encoded data removed]",
      "text/plain": [
       "<matplotlib.figure.Figure at 0x182f2ac6550>"
      ]
     },
     "metadata": {},
     "output_type": "display_data"
    }
   ],
   "source": [
    "%matplotlib inline\n",
    "import matplotlib.pyplot as plt\n",
    "import numpy as np\n",
    "from math import pi\n",
    "\n",
    "kappa = 0.1e6 * 2 * pi\n",
    "kai = 1.0e6/2 * 2* pi\n",
    "epsil  = 1e3\n",
    "\n",
    "def gamma(kappa, kai, epsil, detune):\n",
    "    \"\"\" \n",
    "    inputs are all in angular freq.\n",
    "    \"\"\"\n",
    "    n_p = epsil**2  /(kappa**2 / 4 +(detune + kai)**2)\n",
    "    n_m = epsil**2  /(kappa**2 / 4 +(detune - kai)**2)\n",
    "    Ds = 2 * (n_p + n_m) * kai**2 /(kappa**2 / 4 +  kai**2 + detune**2)\n",
    "    return Ds * kappa / 2\n",
    "\n",
    "detunes = np.linspace(-2,2, 101) * 1e6 * 2 * pi\n",
    "\n",
    "gammas = [gamma(kappa, kai, epsil, x) for x in detunes]\n",
    "\n",
    "plt.plot(detunes/2/pi/1e6, gammas)\n",
    "plt.xlabel('detune (MHz)')\n",
    "plt.ylabel('Gamma (Hz)')"
   ]
  },
  {
   "cell_type": "code",
   "execution_count": 11,
   "metadata": {},
   "outputs": [
    {
     "ename": "TypeError",
     "evalue": "'int' object is not callable",
     "output_type": "error",
     "traceback": [
      "\u001b[1;31m---------------------------------------------------------------------------\u001b[0m",
      "\u001b[1;31mTypeError\u001b[0m                                 Traceback (most recent call last)",
      "\u001b[1;32m<ipython-input-11-31b4e3e39acd>\u001b[0m in \u001b[0;36m<module>\u001b[1;34m()\u001b[0m\n\u001b[1;32m----> 1\u001b[1;33m \u001b[0mgamma\u001b[0m\u001b[1;33m(\u001b[0m\u001b[0mkappa\u001b[0m\u001b[1;33m,\u001b[0m \u001b[0mkai\u001b[0m\u001b[1;33m,\u001b[0m \u001b[0mepsil\u001b[0m\u001b[1;33m,\u001b[0m \u001b[1;36m3\u001b[0m\u001b[1;33m)\u001b[0m\u001b[1;33m\u001b[0m\u001b[0m\n\u001b[0m",
      "\u001b[1;32m<ipython-input-8-ef3f550ba10a>\u001b[0m in \u001b[0;36mgamma\u001b[1;34m(kappa, kai, epsil, detune)\u001b[0m\n\u001b[0;32m     10\u001b[0m     \u001b[0mn_p\u001b[0m \u001b[1;33m=\u001b[0m \u001b[0mepsil\u001b[0m\u001b[1;33m**\u001b[0m\u001b[1;36m2\u001b[0m  \u001b[1;33m/\u001b[0m\u001b[1;33m(\u001b[0m\u001b[0mkappa\u001b[0m\u001b[1;33m**\u001b[0m\u001b[1;36m2\u001b[0m \u001b[1;33m/\u001b[0m \u001b[1;36m4\u001b[0m \u001b[1;33m+\u001b[0m\u001b[1;33m(\u001b[0m\u001b[0mdetune\u001b[0m \u001b[1;33m+\u001b[0m \u001b[0mkai\u001b[0m\u001b[1;33m)\u001b[0m\u001b[1;33m**\u001b[0m\u001b[1;36m2\u001b[0m\u001b[1;33m)\u001b[0m\u001b[1;33m\u001b[0m\u001b[0m\n\u001b[0;32m     11\u001b[0m     \u001b[0mn_m\u001b[0m \u001b[1;33m=\u001b[0m \u001b[0mepsil\u001b[0m\u001b[1;33m**\u001b[0m\u001b[1;36m2\u001b[0m  \u001b[1;33m/\u001b[0m\u001b[1;33m(\u001b[0m\u001b[0mkappa\u001b[0m\u001b[1;33m**\u001b[0m\u001b[1;36m2\u001b[0m \u001b[1;33m/\u001b[0m \u001b[1;36m4\u001b[0m \u001b[1;33m+\u001b[0m\u001b[1;33m(\u001b[0m\u001b[0mdetune\u001b[0m \u001b[1;33m-\u001b[0m \u001b[0mkai\u001b[0m\u001b[1;33m)\u001b[0m\u001b[1;33m**\u001b[0m\u001b[1;36m2\u001b[0m\u001b[1;33m)\u001b[0m\u001b[1;33m\u001b[0m\u001b[0m\n\u001b[1;32m---> 12\u001b[1;33m     \u001b[0mDs\u001b[0m \u001b[1;33m=\u001b[0m \u001b[1;36m2\u001b[0m \u001b[1;33m(\u001b[0m\u001b[0mn_p\u001b[0m \u001b[1;33m+\u001b[0m \u001b[0mn_m\u001b[0m\u001b[1;33m)\u001b[0m \u001b[1;33m*\u001b[0m \u001b[0mkai\u001b[0m\u001b[1;33m**\u001b[0m\u001b[1;36m2\u001b[0m \u001b[1;33m/\u001b[0m\u001b[1;33m(\u001b[0m\u001b[0mkappa\u001b[0m\u001b[1;33m**\u001b[0m\u001b[1;36m2\u001b[0m \u001b[1;33m/\u001b[0m \u001b[1;36m4\u001b[0m \u001b[1;33m+\u001b[0m  \u001b[0mkai\u001b[0m\u001b[1;33m**\u001b[0m\u001b[1;36m2\u001b[0m \u001b[1;33m+\u001b[0m \u001b[0mdetune\u001b[0m\u001b[1;33m**\u001b[0m\u001b[1;36m2\u001b[0m\u001b[1;33m)\u001b[0m\u001b[1;33m\u001b[0m\u001b[0m\n\u001b[0m\u001b[0;32m     13\u001b[0m     \u001b[1;32mreturn\u001b[0m \u001b[0mDs\u001b[0m \u001b[1;33m*\u001b[0m \u001b[0mkappa\u001b[0m \u001b[1;33m/\u001b[0m \u001b[1;36m2\u001b[0m\u001b[1;33m\u001b[0m\u001b[0m\n\u001b[0;32m     14\u001b[0m \u001b[1;33m\u001b[0m\u001b[0m\n",
      "\u001b[1;31mTypeError\u001b[0m: 'int' object is not callable"
     ]
    }
   ],
   "source": [
    "gamma(kappa, kai, epsil, 3)\n"
   ]
  },
  {
   "cell_type": "code",
   "execution_count": null,
   "metadata": {
    "collapsed": true
   },
   "outputs": [],
   "source": []
  }
 ],
 "metadata": {
  "kernelspec": {
   "display_name": "Python 3",
   "language": "python",
   "name": "python3"
  },
  "language_info": {
   "codemirror_mode": {
    "name": "ipython",
    "version": 3
   },
   "file_extension": ".py",
   "mimetype": "text/x-python",
   "name": "python",
   "nbconvert_exporter": "python",
   "pygments_lexer": "ipython3",
   "version": "3.6.3"
  },
  "toc": {
   "nav_menu": {},
   "number_sections": true,
   "sideBar": true,
   "skip_h1_title": false,
   "toc_cell": false,
   "toc_position": {},
   "toc_section_display": "block",
   "toc_window_display": false
  }
 },
 "nbformat": 4,
 "nbformat_minor": 2
}
