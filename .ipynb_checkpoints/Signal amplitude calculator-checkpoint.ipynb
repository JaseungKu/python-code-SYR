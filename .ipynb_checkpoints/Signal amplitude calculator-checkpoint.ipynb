{
 "cells": [
  {
   "cell_type": "markdown",
   "metadata": {},
   "source": [
    "# Signal amplitude calculator for heterodyne setup and fridge"
   ]
  },
  {
   "cell_type": "markdown",
   "metadata": {},
   "source": [
    "## DR1 and BlueFors"
   ]
  },
  {
   "cell_type": "code",
   "execution_count": 6,
   "metadata": {
    "collapsed": false
   },
   "outputs": [
    {
     "name": "stdout",
     "output_type": "stream",
     "text": [
      "Device, DR1     IL(dB)   dBm     W       V    \n",
      "IQamp               0  0.9691 1.3e-03 2.5e-01\n",
      "IQ37               -6  -5.031 3.1e-04 1.3e-01\n",
      "digiAtt             0  -5.031 3.1e-04 1.3e-01\n",
      "switch             -5  -10.03 9.9e-05 7.0e-02\n",
      "combiner           -3  -13.03 5.0e-05 5.0e-02\n",
      "fixedAtt          -20  -33.03 5.0e-07 5.0e-03\n",
      "cable6ft           -2  -35.03 3.1e-07 4.0e-03\n",
      "inputMWAtt        -49  -84.03 4.0e-12 1.4e-05\n",
      "inputMWcoax       -10  -94.03 4.0e-13 4.4e-06\n",
      "sample            -10    -104 4.0e-14 1.4e-06\n",
      "HEMP               35  -69.03 1.2e-10 7.9e-05\n",
      "outputMWcoax      -10  -79.03 1.2e-11 2.5e-05\n",
      "cable6ft           -2  -81.03 7.9e-12 2.0e-05\n",
      "RTamp1             35  -46.03 2.5e-08 1.1e-03\n",
      "RTamp2             35  -11.03 7.9e-05 6.3e-02\n",
      "minicirMixer       -8  -19.03 1.2e-05 2.5e-02\n",
      "SRSpreamp1         14  -5.031 3.1e-04 1.3e-01\n",
      "SRSpreamp2         14   8.969 7.9e-03 6.3e-01\n",
      "\n",
      "DR1 Heterodyne setup only\n",
      "IQamp               0  0.9691 1.3e-03 2.5e-01\n",
      "IQ37               -6  -5.031 3.1e-04 1.3e-01\n",
      "digiAtt             0  -5.031 3.1e-04 1.3e-01\n",
      "switch             -5  -10.03 9.9e-05 7.0e-02\n",
      "combiner           -6  -16.03 2.5e-05 3.5e-02\n",
      "fixedAtt            0  -16.03 2.5e-05 3.5e-02\n",
      "cable6ft           -2  -18.03 1.6e-05 2.8e-02\n",
      "minicirMixer     -6.5  -24.53 3.5e-06 1.3e-02\n",
      "SRSpreamp1         14  -10.53 8.8e-05 6.7e-02\n",
      "SRSpreamp2         14   3.469 2.2e-03 3.3e-01\n",
      "otherAtt           -6  -2.531 5.6e-04 1.7e-01\n",
      "\n",
      "Device, BF      IL(dB)   dBm     W       V    \n",
      "IQamp               0    6.99 5.0e-03 5.0e-01\n",
      "IQ37               -6  0.9897 1.3e-03 2.5e-01\n",
      "digiAtt           -20  -19.01 1.3e-05 2.5e-02\n",
      "switch             -5  -24.01 4.0e-06 1.4e-02\n",
      "combiner           -3  -27.01 2.0e-06 1.0e-02\n",
      "fixedAtt          -20  -47.01 2.0e-08 1.0e-03\n",
      "cable6ft           -2  -49.01 1.3e-08 7.9e-04\n",
      "inputMWAtt        -49  -98.01 1.6e-13 2.8e-06\n",
      "inputMWcoax       -10    -108 1.6e-14 8.9e-07\n",
      "sample            -15    -123 5.0e-16 1.6e-07\n",
      "HEMP               40  -83.01 5.0e-12 1.6e-05\n",
      "outputMWcoax       -3  -86.01 2.5e-12 1.1e-05\n",
      "cable6ft           -2  -88.01 1.6e-12 8.9e-06\n",
      "RTamp1             35  -53.01 5.0e-09 5.0e-04\n",
      "RTamp2              0  -53.01 5.0e-09 5.0e-04\n",
      "minicirMixer     -6.5  -59.51 1.1e-09 2.4e-04\n",
      "SRSpreamp1         14  -45.51 2.8e-08 1.2e-03\n",
      "SRSpreamp2         14  -31.51 7.1e-07 5.9e-03\n",
      "\n",
      "BF Heterodyne setup only\n",
      "IQamp               0  0.9691 1.3e-03 2.5e-01\n",
      "IQ37               -6  -5.031 3.1e-04 1.3e-01\n",
      "digiAtt           -20  -25.03 3.1e-06 1.3e-02\n",
      "switch             -5  -30.03 9.9e-07 7.0e-03\n",
      "combiner           -6  -36.03 2.5e-07 3.5e-03\n",
      "fixedAtt          -20  -56.03 2.5e-09 3.5e-04\n",
      "cable6ft           -2  -58.03 1.6e-09 2.8e-04\n",
      "minicirMixer       -8  -66.03 2.5e-10 1.1e-04\n",
      "SRSpreamp1         14  -52.03 6.3e-09 5.6e-04\n",
      "SRSpreamp2         14  -38.03 1.6e-07 2.8e-03\n"
     ]
    }
   ],
   "source": [
    "from math import sqrt, log10\n",
    "\n",
    "# Function definition \n",
    "def dBm2Watt(P): # P : power in dBm \n",
    "    return 10**(P/10) * 1e-3\n",
    "\n",
    "def volt2dBm(V): # V : voltage amplitude \n",
    "    return 10*log10(V**2/50/1e-3)\n",
    "\n",
    "def dBm2volt(P): # P: power in dBm\n",
    "    return  sqrt(dBm2Watt(P) * 50)\n",
    "\n",
    "# Parameters \n",
    "freq = 6 # GHz\n",
    "IQamp = 0.25 # Voltage amplitude of APS I/Q output\n",
    "\n",
    "# microwave components on the heterodyne setup and fridge. All in dB below\n",
    "device_list_DR1 = [ ('IQamp', 0), ('IQ37', -6), ('digiAtt', 0), ('switch', -5),('combiner',-3), ('fixedAtt', -20), ('cable6ft',-2)\n",
    "                   , ('inputMWAtt',-49), ('inputMWcoax',-10),('sample',-10), ('HEMP',35), ('outputMWcoax',-10)\n",
    "                   , ('cable6ft', -2), ('RTamp1', 35), ('RTamp2', 35),('minicirMixer',-8), ('SRSpreamp1',14)\n",
    "                   , ('SRSpreamp2',14)]\n",
    "\n",
    "device_list_DR1_onlyHetero = [ ('IQamp', 0), ('IQ37', -6), ('digiAtt', 0), ('switch', -5), ('combiner',-6),('fixedAtt', -0), ('cable6ft',-2)\n",
    "                   , ('minicirMixer',-6.5), ('SRSpreamp1',14), ('SRSpreamp2',14), ('otherAtt',-6)]\n",
    "\n",
    "device_list_BF = [ ('IQamp', 0), ('IQ37', -6), ('digiAtt', -20), ('switch', -5), ('combiner',-3), ('fixedAtt', -20), ('cable6ft',-2)\n",
    "                  , ('inputMWAtt',-49), ('inputMWcoax',-10) ,('sample',-15), ('HEMP',40), ('outputMWcoax',-3)\n",
    "                  , ('cable6ft', -2), ('RTamp1', 35), ('RTamp2', 0),('minicirMixer',-6.5), ('SRSpreamp1',14)\n",
    "                  , ('SRSpreamp2',14)]\n",
    "\n",
    "device_list_BF_onlyHetero = [ ('IQamp', 0), ('IQ37', -6), ('digiAtt', -20), ('switch', -5), ('combiner',-6), ('fixedAtt', -20), ('cable6ft',-2)\n",
    "                  ,('minicirMixer',-8), ('SRSpreamp1',14), ('SRSpreamp2',14)]\n",
    "\n",
    "P_output = volt2dBm(IQamp) # check IQamp vs IQamp * 2\n",
    "\n",
    "print('{:13} {:7} {:7} {:7} {:7}'.format('Device, DR1','  IL(dB)','  dBm', '  W', '  V'))\n",
    "for device in device_list_DR1:\n",
    "    P_output += device[1]\n",
    "    print('{:13} {:7.3g} {:7.4g} {:7.1e} {:7.1e}'.format(\n",
    "        device[0], device[1],P_output,dBm2Watt(P_output), dBm2volt(P_output)))    \n",
    "\n",
    "print('')\n",
    "print('DR1 Heterodyne setup only')\n",
    "P_output = volt2dBm(IQamp )\n",
    "for device in device_list_DR1_onlyHetero:\n",
    "    P_output += device[1]\n",
    "    print('{:13} {:7.3g} {:7.4g} {:7.1e} {:7.1e}'.format(\n",
    "        device[0], device[1],P_output,dBm2Watt(P_output), dBm2volt(P_output)))    \n",
    "print('')\n",
    "\n",
    "print('{:13} {:7} {:7} {:7} {:7}'.format('Device, BF','  IL(dB)','  dBm', '  W', '  V'))\n",
    "P_output = volt2dBm(IQamp * 2)\n",
    "for device in device_list_BF:\n",
    "    P_output += device[1]\n",
    "    print('{:13} {:7.3g} {:7.4g} {:7.1e} {:7.1e}'.format(\n",
    "        device[0], device[1],P_output,dBm2Watt(P_output), dBm2volt(P_output)))    \n",
    "\n",
    "print('')\n",
    "print('BF Heterodyne setup only')\n",
    "P_output = volt2dBm(IQamp)\n",
    "for device in device_list_BF_onlyHetero:\n",
    "    P_output += device[1]\n",
    "    print('{:13} {:7.3g} {:7.4g} {:7.1e} {:7.1e}'.format(\n",
    "        device[0], device[1],P_output,dBm2Watt(P_output), dBm2volt(P_output)))    \n",
    "                                                                                 "
   ]
  },
  {
   "cell_type": "code",
   "execution_count": 3,
   "metadata": {
    "collapsed": false
   },
   "outputs": [
    {
     "data": {
      "text/plain": [
       "-6.9897000433601875"
      ]
     },
     "execution_count": 3,
     "metadata": {},
     "output_type": "execute_result"
    }
   ],
   "source": [
    "volt2dBm(0.1)"
   ]
  },
  {
   "cell_type": "code",
   "execution_count": null,
   "metadata": {
    "collapsed": true
   },
   "outputs": [],
   "source": []
  }
 ],
 "metadata": {
  "anaconda-cloud": {},
  "kernelspec": {
   "display_name": "Python [default]",
   "language": "python",
   "name": "python3"
  },
  "language_info": {
   "codemirror_mode": {
    "name": "ipython",
    "version": 3
   },
   "file_extension": ".py",
   "mimetype": "text/x-python",
   "name": "python",
   "nbconvert_exporter": "python",
   "pygments_lexer": "ipython3",
   "version": "3.5.2"
  }
 },
 "nbformat": 4,
 "nbformat_minor": 1
}
