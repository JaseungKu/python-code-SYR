{
 "cells": [
  {
   "cell_type": "markdown",
   "metadata": {},
   "source": [
    "# Initial setup"
   ]
  },
  {
   "cell_type": "code",
   "execution_count": 1,
   "metadata": {
    "collapsed": true
   },
   "outputs": [],
   "source": [
    "import visa\n",
    "from imp import reload\n",
    "import sys\n",
    "sys.path.append('Instrument Driver') # path added\n",
    "sys.path.append('..\\Helper') # path added\n",
    "import AFG3252"
   ]
  },
  {
   "cell_type": "code",
   "execution_count": 2,
   "metadata": {},
   "outputs": [
    {
     "data": {
      "text/plain": [
       "<module 'AFG3252' from 'Instrument Driver\\\\AFG3252.py'>"
      ]
     },
     "execution_count": 2,
     "metadata": {},
     "output_type": "execute_result"
    }
   ],
   "source": [
    "# reload(AFG3252)  # run this if AFG3252 module is modified."
   ]
  },
  {
   "cell_type": "code",
   "execution_count": 2,
   "metadata": {},
   "outputs": [
    {
     "data": {
      "text/plain": [
       "('USB0::0x0957::0x1F01::MY47420076::INSTR',\n",
       " 'USB0::0x0699::0x0347::C033963::INSTR',\n",
       " 'ASRL1::INSTR',\n",
       " 'ASRL5::INSTR',\n",
       " 'ASRL6::INSTR',\n",
       " 'ASRL7::INSTR',\n",
       " 'ASRL10::INSTR',\n",
       " 'ASRL13::INSTR')"
      ]
     },
     "execution_count": 2,
     "metadata": {},
     "output_type": "execute_result"
    }
   ],
   "source": [
    "# Run this to find resource name\n",
    "visa.ResourceManager().list_resources()"
   ]
  },
  {
   "cell_type": "markdown",
   "metadata": {},
   "source": [
    "# Set AFG3252"
   ]
  },
  {
   "cell_type": "code",
   "execution_count": 3,
   "metadata": {
    "collapsed": true
   },
   "outputs": [],
   "source": [
    "awg= AFG3252.AFG3252('USB0::0x0699::0x0347::C033963::INSTR')"
   ]
  },
  {
   "cell_type": "code",
   "execution_count": 5,
   "metadata": {
    "collapsed": true
   },
   "outputs": [],
   "source": [
    "period = 50 # in us unit\n",
    "width = 0.2 # in us unit\n",
    "delay1, delay2 = 0.5, 0 # in us unit. \n",
    "high1, low1 = 1, 0   # in V unit\n",
    "high2, low2 = 2, 0\n",
    "\n",
    "awg.setPulsePeriod(1, period)\n",
    "awg.setPulsePeriod(2, period)\n",
    "\n",
    "#awg.setFreqConCurrent('OFF')  # To make sure Ch1 and Ch2 synchronized. \n",
    "#awg.setFreqConCurrent('ON')   # To make sure Ch1 and Ch2 synchronized. \n",
    "\n",
    "awg.setPulseWidth(1, width)\n",
    "awg.setPulseWidth(2, width)\n",
    "\n",
    "awg.setPulseDealy(1, delay1)\n",
    "\n",
    "awg.setAmpHighLow(1, high1, low1) # in V unit\n",
    "awg.setAmpHighLow(2, high2, low2)\n",
    "\n",
    "awg.setClkRef('EXT')  # To make sure Ch1 and Ch2 synchronized. \n",
    "awg.setClkRef('INT')\n",
    "\n",
    "# add a code to turn on channel Not done yet.\n",
    "# awg.setOutputImp(1, 50)\n",
    "# awg.setOutputImp(2, 50)\n",
    "# awg.setOutputState(1, 'ON')\n",
    "# awg.setOutputState(2, 'ON')"
   ]
  },
  {
   "cell_type": "code",
   "execution_count": 11,
   "metadata": {
    "collapsed": true
   },
   "outputs": [],
   "source": []
  }
 ],
 "metadata": {
  "anaconda-cloud": {},
  "kernelspec": {
   "display_name": "Python 3",
   "language": "python",
   "name": "python3"
  },
  "language_info": {
   "codemirror_mode": {
    "name": "ipython",
    "version": 3
   },
   "file_extension": ".py",
   "mimetype": "text/x-python",
   "name": "python",
   "nbconvert_exporter": "python",
   "pygments_lexer": "ipython3",
   "version": "3.6.3"
  },
  "toc": {
   "nav_menu": {},
   "number_sections": true,
   "sideBar": true,
   "skip_h1_title": false,
   "toc_cell": false,
   "toc_position": {},
   "toc_section_display": "block",
   "toc_window_display": false
  }
 },
 "nbformat": 4,
 "nbformat_minor": 1
}
