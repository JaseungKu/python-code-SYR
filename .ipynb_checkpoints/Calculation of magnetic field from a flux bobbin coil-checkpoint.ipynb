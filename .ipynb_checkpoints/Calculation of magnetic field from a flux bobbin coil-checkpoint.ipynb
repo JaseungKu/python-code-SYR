{
 "cells": [
  {
   "cell_type": "markdown",
   "metadata": {},
   "source": [
    "# Calculation of magnetic field from a flux bobbin coil"
   ]
  },
  {
   "cell_type": "markdown",
   "metadata": {},
   "source": [
    "<img src=\"singleloop.ps\" alt=\"Drawing\" style=\"width: 500px;\"/>"
   ]
  },
  {
   "cell_type": "markdown",
   "metadata": {
    "collapsed": true
   },
   "source": [
    "## Magnetic field from a single loop\n",
    "Biot-Savart law :\n",
    "$$ B(r)=\\frac{\\mu_0}{4\\pi}\\int_C \\frac{I\\vec{dl}\\times \\vec{r^{\\prime}}}{|\\vec{r^{\\prime}}|^3}$$\n",
    "\n",
    "A single loop is on xy plane, and the point of interest is at $\\vec{r_1}=(r_1,0,h)$ in cylindrical coordinate.\n",
    "\n",
    "$$\\vec{r_1} = r_1\\hat{r_1}+h\\hat{z} \\\\\n",
    "\\vec{dl}=rd\\theta\\hat{d\\theta} \\\\\n",
    "\\vec{r^{\\prime}} =\\vec{r_1}-\\vec{l}=\\vec{r_1}-r\\hat{r} \\\\\n",
    "$$\n",
    "\n",
    "\\begin{align}\n",
    "\\vec{dl}\\times\\vec{r^{\\prime}} &= (rd\\theta)\\hat{\\theta}\\times (\\vec{r_1}-r\\hat{r}) \\\\\n",
    "&= (rd\\theta)\\hat{\\theta}\\times (r_1\\hat{r_1}+h\\hat{z}-r\\hat{r}) \\\\\n",
    "&= (rd\\theta) (r_1\\hat{\\theta}\\times\\hat{r_1}+h\\hat{\\theta}\\times\\hat{z}-r\\hat{\\theta}\\times\\hat{r}) \\\\\n",
    "&= (rd\\theta) (-r_1\\cos\\theta\\hat{z}+h\\hat{r}+r\\hat{z} ) \\\\\n",
    "&= (rd\\theta) ((r-r_1\\cos\\theta)\\hat{z}+h\\hat{r}) \\\\\n",
    "\\end{align}  \n",
    "\n",
    "\\begin{align}\n",
    "\\vec{r^{\\prime}} &= \\vec{r_1}-r\\hat{r} \\\\\n",
    "&= r_1\\hat{r_1}+h\\hat{z}-r\\hat{r} \\\\\n",
    "&=r_1\\hat{x}+h\\hat{z}-r\\cos\\theta\\hat{x}-r\\sin\\theta\\hat{y}  \\\\\n",
    "&= (r_1-r\\cos\\theta)\\hat{x} -r\\sin\\theta\\hat{y}+h\\hat{z} \\\\\n",
    "|\\vec{r^{\\prime}}|&= [(r_1-r\\cos\\theta)^2 +(r\\sin\\theta)^2+h^2]^{1/2} \\\\\n",
    "\\end{align}\n",
    "\n",
    "\\begin{align}\n",
    "B(\\vec{r_1})&= \\frac{\\mu_0}{4\\pi}\\int_C \\frac{I\\vec{dl}\\times \\vec{r^{\\prime}}}{|\\vec{r^{\\prime}}|^3} \\\\\n",
    "&= \\frac{\\mu_0I}{4\\pi}\\int_C \\frac{(rd\\theta) ((r-r_1\\cos\\theta)\\hat{z}+h\\hat{r})}{|\\vec{r^{\\prime}}|^3} \\\\\n",
    "&= \\left[ \\frac{\\mu_0I}{4\\pi}\\int_C \\frac{ (r-r_1\\cos\\theta)rd\\theta }{ |r^{\\prime}|^3}\\right]\\hat{z}+\\left[\\frac{\\mu_0I}{4\\pi}\\int_C \\frac{ rhd\\theta}{ |r^{\\prime}|^3}\\right ]\\hat{r}  \\\\\n",
    "\\end{align}\n",
    "\n",
    "\\begin{align}\n",
    "B(\\vec{r_1})\\cdot\\hat{z} &= \\left[ \\frac{\\mu_0I}{4\\pi}\\int_C \\frac{ (r-r_1\\cos\\theta)rd\\theta }{ |r^{\\prime}|^3}\\right]  \\\\\n",
    "&= \\frac{\\mu_0I}{4\\pi}\\int_C \\frac{ (r-r_1\\cos\\theta)rd\\theta }{[(r_1-r\\cos\\theta)^2 +(r\\sin\\theta)^2+h^2]^{3/2} } \\\\\n",
    "\\end{align}"
   ]
  },
  {
   "cell_type": "code",
   "execution_count": 3,
   "metadata": {
    "collapsed": true
   },
   "outputs": [],
   "source": [
    "import numpy as np\n",
    "import scipy.integrate as integrate\n",
    "from math import pi, floor\n",
    "\n",
    "class fluxBobbin:\n",
    "    \"\"\"\n",
    "    Class definition of fluxBobbin\n",
    "    Intented to calculate the magnetic field created by a flux bobbin.\n",
    "    The bobbin is assumed to sit on x-y plane (i.e. z=0) with its axix parallel to z-axis.\n",
    "    \"\"\"\n",
    "    \n",
    "    def __init__(self,coil_radius, coil_height, numOfLayer):\n",
    "        self.radius = coil_radius   # in meter\n",
    "        self.height = coil_height   # in meter\n",
    "        self.numOfLayer= numOfLayer # number of layers\n",
    "        self.numOfTurn = 0          # number of turn in a single layer\n",
    "        self.wireDia = 0.127e-3  # Superconducting wire diameter\n",
    "               \n",
    "    def get_mutual_single_loop(self, r1, h, A):\n",
    "        \"\"\"\n",
    "        Calculate the mutual inductance from the single loop at the point at (r, 0, h) in cylindrical coordinate. \n",
    "        The mutual M is A*Bz/I, where A is the area of SQUID loop, Bz is the  z component of magnetic field threading the SQUID\n",
    "        , and I is the current. \n",
    "        Note that h should be negative.\n",
    "        \"\"\"\n",
    "        m0 =  4 * pi * 1e-7 # vaccum permeability\n",
    "        fx = lambda x: (self.radius - r1 * np.cos(x) ) * self.radius / ((r1-self.radius*np.cos(x))**2+(self.radius*np.sin(x))**2+h**2)**(1.5)\n",
    "        mutual_single_loop = m0 /(4.0 * pi) * integrate.quad(fx, 0.0, 2.0*pi)[0] * A\n",
    "        \n",
    "        return mutual_single_loop\n",
    "    \n",
    "    def get_mutual_flux_bobbin(self, r1, h, A):\n",
    "        \"\"\"\n",
    "        Calculate the mutual inductance from the whole flux bobbin at the point at (r, 0, h) in cylindrical coordinate. \n",
    "        \"\"\"\n",
    "    \n",
    "        self.numOfTurn = floor(self.height / self.wireDia)  # number of turns per layer\n",
    "        \n",
    "        full_mutual = 0\n",
    "        \n",
    "        for layer in np.arange(self.numOfLayer):\n",
    "            for turn in np.arange(self.numOfTurn):\n",
    "                full_mutual += self.get_mutual_single_loop(r1+layer*self.wireDia, h+self.wireDia*turn, A)\n",
    "        \n",
    "        return full_mutual\n",
    "    \n"
   ]
  },
  {
   "cell_type": "markdown",
   "metadata": {},
   "source": [
    "# For a new flux bobbin lid\n",
    "\n",
    "Bobbin socket = 0.6\" (=15.2 mm) in dia. and 0.275\" (=7 mm) deep.\n",
    "The distance from the bottom of the flux bobbin to the bottom of the chip is 0.075\" (=2 mm). \n",
    "The distance from the bottom of the bobbin to the surface of chip (0.02\" thick) is 0.055\" (=1.4 mm)"
   ]
  },
  {
   "cell_type": "code",
   "execution_count": 6,
   "metadata": {},
   "outputs": [
    {
     "name": "stdout",
     "output_type": "stream",
     "text": [
      "Using matplotlib backend: TkAgg\n"
     ]
    }
   ],
   "source": [
    "%matplotlib\n",
    "\n",
    "import matplotlib.pyplot as plt\n",
    "\n",
    "# create an instance of fluxBobbin class\n",
    "# bobbin radius = 0.5\"(=0.63mm), height=0.236\"(=6mm), number of layer=1\n",
    "coil = fluxBobbin(coil_radius=6.35e-3, coil_height=6e-3, numOfLayer=1)\n",
    "area = 400e-12\n",
    "\n",
    "# along z axis\n",
    "x1 = np.linspace(-20e-3, 20e-3, 50)    # along z axis\n",
    "y1 = np.array([])  \n",
    "\n",
    "for i in x1:\n",
    "    y1 = np.append(y1, coil.get_mutual_flux_bobbin(r1=0, h=i, A=area))\n",
    "\n",
    "# along x axis at z=h\n",
    "# sample surface is 2.4mm away from the bobbin\n",
    "x2 = np.linspace(-30e-3, 30e-3, 50)   \n",
    "y2 = np.array([])  \n",
    "h2 = -2.4e-3\n",
    "\n",
    "for i in x2:\n",
    "    y2 = np.append(y2, coil.get_mutual_flux_bobbin(r1=i, h=h2, A=area))\n",
    "\n",
    "plt.plot(x1 * 1e3,y1*1e12,x2* 1e3,y2*1e12)\n",
    "plt.xlabel('x (mm)')\n",
    "plt.ylabel('Mutual (pH)')\n",
    "plt.title(' Mutual vs x')\n",
    "plt.grid()"
   ]
  },
  {
   "cell_type": "code",
   "execution_count": 30,
   "metadata": {},
   "outputs": [
    {
     "data": {
      "text/plain": [
       "47"
      ]
     },
     "execution_count": 30,
     "metadata": {},
     "output_type": "execute_result"
    }
   ],
   "source": [
    "coil.numOfTurn"
   ]
  },
  {
   "cell_type": "code",
   "execution_count": null,
   "metadata": {
    "collapsed": true
   },
   "outputs": [],
   "source": []
  }
 ],
 "metadata": {
  "kernelspec": {
   "display_name": "Python 3",
   "language": "python",
   "name": "python3"
  },
  "language_info": {
   "codemirror_mode": {
    "name": "ipython",
    "version": 3
   },
   "file_extension": ".py",
   "mimetype": "text/x-python",
   "name": "python",
   "nbconvert_exporter": "python",
   "pygments_lexer": "ipython3",
   "version": "3.5.2"
  }
 },
 "nbformat": 4,
 "nbformat_minor": 2
}
