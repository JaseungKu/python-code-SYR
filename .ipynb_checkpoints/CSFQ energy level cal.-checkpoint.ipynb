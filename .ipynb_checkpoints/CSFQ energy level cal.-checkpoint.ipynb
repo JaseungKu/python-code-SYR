{
 "cells": [
  {
   "cell_type": "markdown",
   "metadata": {},
   "source": [
    "\n",
    "\n",
    "\n",
    "\n",
    "\n",
    "\n",
    "\n",
    "\n",
    "\n",
    "\n",
    "\n",
    "\n",
    "\n",
    "\n",
    "\n",
    "\n",
    "\n",
    "\n",
    "\n",
    "\n",
    "\n",
    "\n",
    "\n",
    "\n",
    "\n",
    "\n",
    "\n",
    "\n",
    "\n",
    "\n",
    "\n",
    "\n",
    "\n",
    "\n",
    "\n",
    "\n",
    "\n",
    "\n",
    "\n",
    "\n",
    "\n",
    "\n",
    "\n",
    "\n",
    "\n",
    "\n",
    "\n",
    "\n",
    "\n",
    "\n",
    "\n",
    "\n",
    "\n",
    "\n",
    "\n",
    "\n",
    "\n",
    "\n",
    "\n",
    "\n",
    "\n",
    "\n",
    "\n",
    "\n",
    "\n",
    "\n",
    "\n",
    "\n",
    "\n",
    "\n",
    "\n",
    "\n",
    "\n",
    "\n",
    "\n",
    "\n",
    "\n",
    "\n",
    "\n",
    "\n",
    "\n",
    "\n",
    "\n",
    "\n",
    "\n",
    "\n",
    "\n",
    "\n",
    "\n",
    "\n",
    "\n",
    "\n",
    "\n",
    "\n",
    "\n",
    "\n",
    "\n",
    "\n",
    "\n",
    "\n",
    "# CSFQ energy level calculation\n"
   ]
  },
  {
   "cell_type": "raw",
   "metadata": {},
   "source": [
    "% FILE: csfq_1d.m\n",
    "% DATE: 15-Sep-2010\n",
    "% Author: Matthias Steffen <msteffe@us.ibm.com>\n",
    "%\n",
    "% Looking at CSFQ simulation using 1D potential approximation\n",
    "\n",
    "% matlab file converted to python code by Jaseung Ku, 6/13/2016.\n"
   ]
  },
  {
   "cell_type": "code",
   "execution_count": 1,
   "metadata": {},
   "outputs": [
    {
     "name": "stdout",
     "output_type": "stream",
     "text": [
      "Using matplotlib backend: TkAgg\n"
     ]
    }
   ],
   "source": [
    "# This is a translation of the Steffen's original matlab code to python code.\n",
    "%matplotlib\n",
    "import numpy as np\n",
    "import numpy.linalg as LA\n",
    "import matplotlib.pyplot as plt\n",
    "from math import pi\n",
    "\n",
    "# constants\n",
    "h = 6.626e-34;\n",
    "hbar = h/2/pi;\n",
    "elec = 1.6022e-19;\n",
    "f0 = h/2/elec; #flux quantum\n",
    "\n",
    "# parameters\n",
    "N = 100 # number of flux points\n",
    "\n",
    "#flux\n",
    "fmin = 0\n",
    "fmax = 1\n",
    "flux = np.linspace(fmin,fmax,N)\n",
    "\n",
    "# junction parameters of larger junction\n",
    "I0 = 0.206e-6 # was originally 0.4e-6  \n",
    "alpha = 0.48  # was 0.35  \n",
    "Cj = 5e-15\n",
    "Cs = 51e-15 # was 90e-15\n",
    "beta = alpha + Cs/Cj\n",
    "\n",
    "n = 256; # dimension of Hamitonian matrix\n",
    "\n",
    "# calculation\n",
    "\n",
    "#plotobj = plot1D(xlabel='flux', ylabel='energy', title='CSFQ')\n",
    "#x, y = np.array([]), np.array([])\n",
    "for f1 in flux:\n",
    "    \n",
    "    f = f1 * f0\n",
    "\n",
    "    # Do 1D Potential\n",
    "    delta = np.linspace(-1.8*pi, 1.8*pi, n)\n",
    "    dd = delta[1] - delta[0]\n",
    "    \n",
    "    U = -2*I0*f0/2/pi*np.cos(delta/2) - alpha*I0*f0/2/pi*np.cos(2*pi*f/f0-2*delta/2)\n",
    "    \n",
    "    # Numerically sovle 1D potential\n",
    "    \n",
    "    Cnew = (2*Cj/4)*(1+2*beta)\n",
    "    h22m = 4*elec**2/2/Cnew\n",
    "    diffOp = -h22m/dd**2\n",
    "    onOp = +2*h22m/dd**2\n",
    "    H = np.diag(U)+ np.eye(len(U), k=1) * diffOp + np.eye(len(U), k=-1) * diffOp + np.eye(len(U)) * onOp\n",
    "    \n",
    "    eigval, eigvec = LA.eigh(H)\n",
    "    #print (eigval)\n",
    "    eigval.sort() # sort eigenvalues\n",
    "    #print ('after sort', eigval)\n",
    "    energy_diff = np.diff(eigval) / h / 1e9 # in GHz\n",
    "    numval = 5  # number of energy levels to show\n",
    "    #print ('f,w01,w12,w13(GHz)=', flux[iindex], energy_diff[0:3])\n",
    "    #print ('(w12-w01)(GHz)=', energy_diff[1]-energy_diff[0])"
   ]
  },
  {
   "cell_type": "markdown",
   "metadata": {},
   "source": [
    "## CSFQ class"
   ]
  },
  {
   "cell_type": "code",
   "execution_count": 1,
   "metadata": {},
   "outputs": [
    {
     "name": "stdout",
     "output_type": "stream",
     "text": [
      "Using matplotlib backend: Qt5Agg\n"
     ]
    }
   ],
   "source": [
    "%matplotlib\n",
    "import numpy as np\n",
    "import numpy.linalg as LA\n",
    "import matplotlib.pyplot as plt\n",
    "from math import pi\n",
    "from matplotlib import rc\n",
    "rc('text', usetex=True)\n",
    "\n",
    "class CSFQ:\n",
    "    '''\n",
    "    compute eigenvalues and eigenstates of CSFQ\n",
    "    attribute: I0, alpha, Cj, Cs and H\n",
    "    return: tuple of eigenvalues and eigenvectors\n",
    "    '''\n",
    "    \n",
    "    def __init__(self, I0=0.1e-9, alpha=0.45, Cj=10e-15, Cs=50e-15):\n",
    "        # junction parameters for large jj\n",
    "        self.I0 = I0\n",
    "        self.alpha = alpha \n",
    "        self.Cj = Cj\n",
    "        self.Cs = Cs\n",
    "            \n",
    "    def solveHamiltonian(self,flux):\n",
    "        h = 6.626e-34;\n",
    "        hbar = h/2/pi;\n",
    "        elec = 1.6022e-19;\n",
    "        f0 = h/2/elec; #flux quantum\n",
    "        n = 256 # dimension of Hamitonian matrix\n",
    "    \n",
    "        f = flux * f0\n",
    "        beta = self.alpha + self.Cs / self.Cj\n",
    "        \n",
    "        # Do 1D Potential\n",
    "        delta = np.linspace(-1.8*pi, 1.8*pi, n)\n",
    "        dd = delta[1] - delta[0]\n",
    "\n",
    "        U = -2*self.I0*f0/2/pi*np.cos(delta/2) - self.alpha*self.I0*f0/2/pi*np.cos(2*pi*f/f0-2*delta/2)\n",
    "\n",
    "        # Numerically sovle 1D potential\n",
    "\n",
    "        Cnew = (2*self.Cj/4) * (1+2*beta)\n",
    "        h22m = 4*elec**2/2/Cnew\n",
    "        diffOp = -h22m/dd**2\n",
    "        onOp = +2*h22m/dd**2\n",
    "        H = np.diag(U)+ np.eye(len(U), k=1) * diffOp + np.eye(len(U), k=-1) * diffOp + np.eye(len(U)) * onOp\n",
    "        self.H = H\n",
    "        \n",
    "        eigval, eigvec = LA.eigh(H)\n",
    "        #print (eigval)\n",
    "        eigval_sorted = np.sort(eigval)  # eigval.sort()\n",
    "        eigvec_sorted = eigvec[:, eigval.argsort()]\n",
    "        \n",
    "        #eigval.sort() # sort eigenvalues\n",
    "        #print ('after sort', eigval)\n",
    "        energy_diff = np.diff(eigval_sorted) / h / 1e9 # in GHz\n",
    "\n",
    "        return (energy_diff, eigvec_sorted)\n",
    "    \n",
    "    def potentialE(self, flux=0.5):\n",
    "        h = 6.626e-34;\n",
    "        hbar = h/2/pi;\n",
    "        elec = 1.6022e-19;\n",
    "        f0 = h/2/elec; #flux quantum\n",
    "        n = 256 # dimension of Hamitonian matrix\n",
    "    \n",
    "        f = flux * f0\n",
    "        beta = self.alpha + self.Cs / self.Cj\n",
    "        \n",
    "        delta = np.linspace(-1.8*pi, 1.8*pi, n)\n",
    "        U = -2*self.I0*f0/2/pi*np.cos(delta/2) - self.alpha*self.I0*f0/2/pi*np.cos(2*pi*f/f0-2*delta/2)\n",
    "          \n",
    "        return (delta, U)"
   ]
  },
  {
   "cell_type": "code",
   "execution_count": 2,
   "metadata": {},
   "outputs": [
    {
     "data": {
      "text/plain": [
       "'C:\\\\Anaconda\\\\Lib\\\\site-packages\\\\matplotlib\\\\mpl-data\\\\matplotlibrc'"
      ]
     },
     "execution_count": 2,
     "metadata": {},
     "output_type": "execute_result"
    }
   ],
   "source": [
    "import matplotlib\n",
    "import matplotlib.pyplot as plt\n",
    "plt.get_backend()\n",
    "matplotlib.matplotlib_fname()"
   ]
  },
  {
   "cell_type": "code",
   "execution_count": 8,
   "metadata": {},
   "outputs": [
    {
     "name": "stderr",
     "output_type": "stream",
     "text": [
      "Exception in Tkinter callback\n",
      "Traceback (most recent call last):\n",
      "  File \"/usr/lib/python3.5/tkinter/__init__.py\", line 1553, in __call__\n",
      "    return self.func(*args)\n",
      "  File \"/usr/lib/python3.5/tkinter/__init__.py\", line 599, in callit\n",
      "    func(*args)\n",
      "  File \"/usr/lib/python3/dist-packages/matplotlib/backends/backend_tkagg.py\", line 373, in idle_draw\n",
      "    self.draw()\n",
      "  File \"/usr/lib/python3/dist-packages/matplotlib/backends/backend_tkagg.py\", line 354, in draw\n",
      "    FigureCanvasAgg.draw(self)\n",
      "  File \"/usr/lib/python3/dist-packages/matplotlib/backends/backend_agg.py\", line 474, in draw\n",
      "    self.figure.draw(self.renderer)\n",
      "  File \"/usr/lib/python3/dist-packages/matplotlib/artist.py\", line 61, in draw_wrapper\n",
      "    draw(artist, renderer, *args, **kwargs)\n",
      "  File \"/usr/lib/python3/dist-packages/matplotlib/figure.py\", line 1159, in draw\n",
      "    func(*args)\n",
      "  File \"/usr/lib/python3/dist-packages/matplotlib/artist.py\", line 61, in draw_wrapper\n",
      "    draw(artist, renderer, *args, **kwargs)\n",
      "  File \"/usr/lib/python3/dist-packages/matplotlib/axes/_base.py\", line 2324, in draw\n",
      "    a.draw(renderer)\n",
      "  File \"/usr/lib/python3/dist-packages/matplotlib/artist.py\", line 61, in draw_wrapper\n",
      "    draw(artist, renderer, *args, **kwargs)\n",
      "  File \"/usr/lib/python3/dist-packages/matplotlib/axis.py\", line 1108, in draw\n",
      "    renderer)\n",
      "  File \"/usr/lib/python3/dist-packages/matplotlib/axis.py\", line 1058, in _get_tick_bboxes\n",
      "    extent = tick.label1.get_window_extent(renderer)\n",
      "  File \"/usr/lib/python3/dist-packages/matplotlib/text.py\", line 961, in get_window_extent\n",
      "    bbox, info, descent = self._get_layout(self._renderer)\n",
      "  File \"/usr/lib/python3/dist-packages/matplotlib/text.py\", line 352, in _get_layout\n",
      "    ismath=False)\n",
      "  File \"/usr/lib/python3/dist-packages/matplotlib/backends/backend_agg.py\", line 229, in get_text_width_height_descent\n",
      "    renderer=self)\n",
      "  File \"/usr/lib/python3/dist-packages/matplotlib/texmanager.py\", line 675, in get_text_width_height_descent\n",
      "    dvifile = self.make_dvi(tex, fontsize)\n",
      "  File \"/usr/lib/python3/dist-packages/matplotlib/texmanager.py\", line 422, in make_dvi\n",
      "    report))\n",
      "RuntimeError: LaTeX was not able to process the following string:\n",
      "b'lp'\n",
      "Here is the full report generated by LaTeX: \n",
      "\n",
      "\n"
     ]
    }
   ],
   "source": [
    "csfq = CSFQ()\n",
    "value, vec  = csfq.solveHamiltonian(0.5)\n",
    "\n",
    "def plotEigenVec():\n",
    "    for i in range(3):\n",
    "        vec1 = np.fabs(vec[:,i])\n",
    "       # plt.plot(vec1)\n",
    "    \n",
    "def plotUvsFlux():\n",
    "    for i in [ 0.4, 0.5]:\n",
    "        csfq = CSFQ(alpha=0.55)\n",
    "        delta, U = csfq.potentialE(i) \n",
    "        plt.plot(delta, U)\n",
    "\n",
    "def plotUvsAlpha():\n",
    "    flux = 0.5\n",
    "    for i in [ 0.4, 0.6]:\n",
    "        csfq = CSFQ(alpha=i)\n",
    "        delta, U = csfq.potentialE(flux) \n",
    "        plt.plot(delta, U)\n",
    "\n",
    "#plotEigenVec()\n",
    "#plotUvsFlux()\n",
    "plotUvsAlpha()"
   ]
  },
  {
   "cell_type": "code",
   "execution_count": null,
   "metadata": {
    "collapsed": true
   },
   "outputs": [],
   "source": [
    "\n",
    "[ 0.32731775  0.50632804  0.69389649  0.8902236   1.08746358]"
   ]
  },
  {
   "cell_type": "code",
   "execution_count": 9,
   "metadata": {},
   "outputs": [
    {
     "name": "stderr",
     "output_type": "stream",
     "text": [
      "Exception in Tkinter callback\n",
      "Traceback (most recent call last):\n",
      "  File \"/usr/lib/python3.5/tkinter/__init__.py\", line 1553, in __call__\n",
      "    return self.func(*args)\n",
      "  File \"/usr/lib/python3.5/tkinter/__init__.py\", line 599, in callit\n",
      "    func(*args)\n",
      "  File \"/usr/lib/python3/dist-packages/matplotlib/backends/backend_tkagg.py\", line 373, in idle_draw\n",
      "    self.draw()\n",
      "  File \"/usr/lib/python3/dist-packages/matplotlib/backends/backend_tkagg.py\", line 354, in draw\n",
      "    FigureCanvasAgg.draw(self)\n",
      "  File \"/usr/lib/python3/dist-packages/matplotlib/backends/backend_agg.py\", line 474, in draw\n",
      "    self.figure.draw(self.renderer)\n",
      "  File \"/usr/lib/python3/dist-packages/matplotlib/artist.py\", line 61, in draw_wrapper\n",
      "    draw(artist, renderer, *args, **kwargs)\n",
      "  File \"/usr/lib/python3/dist-packages/matplotlib/figure.py\", line 1159, in draw\n",
      "    func(*args)\n",
      "  File \"/usr/lib/python3/dist-packages/matplotlib/artist.py\", line 61, in draw_wrapper\n",
      "    draw(artist, renderer, *args, **kwargs)\n",
      "  File \"/usr/lib/python3/dist-packages/matplotlib/axes/_base.py\", line 2324, in draw\n",
      "    a.draw(renderer)\n",
      "  File \"/usr/lib/python3/dist-packages/matplotlib/artist.py\", line 61, in draw_wrapper\n",
      "    draw(artist, renderer, *args, **kwargs)\n",
      "  File \"/usr/lib/python3/dist-packages/matplotlib/axis.py\", line 1108, in draw\n",
      "    renderer)\n",
      "  File \"/usr/lib/python3/dist-packages/matplotlib/axis.py\", line 1058, in _get_tick_bboxes\n",
      "    extent = tick.label1.get_window_extent(renderer)\n",
      "  File \"/usr/lib/python3/dist-packages/matplotlib/text.py\", line 961, in get_window_extent\n",
      "    bbox, info, descent = self._get_layout(self._renderer)\n",
      "  File \"/usr/lib/python3/dist-packages/matplotlib/text.py\", line 352, in _get_layout\n",
      "    ismath=False)\n",
      "  File \"/usr/lib/python3/dist-packages/matplotlib/backends/backend_agg.py\", line 229, in get_text_width_height_descent\n",
      "    renderer=self)\n",
      "  File \"/usr/lib/python3/dist-packages/matplotlib/texmanager.py\", line 675, in get_text_width_height_descent\n",
      "    dvifile = self.make_dvi(tex, fontsize)\n",
      "  File \"/usr/lib/python3/dist-packages/matplotlib/texmanager.py\", line 422, in make_dvi\n",
      "    report))\n",
      "RuntimeError: LaTeX was not able to process the following string:\n",
      "b'lp'\n",
      "Here is the full report generated by LaTeX: \n",
      "\n",
      "\n"
     ]
    }
   ],
   "source": [
    "for alpha in [0.1, 0.2, 0.3, 0.4]:\n",
    "    csfq = CSFQ(I0=255e-9, Cj=8.1e-15, Cs=50e-15, alpha=alpha)\n",
    "    (delta, U) = csfq.potentialE(flux=0.5)\n",
    "    plt.plot(delta, U)\n",
    "\n",
    "    "
   ]
  },
  {
   "cell_type": "markdown",
   "metadata": {},
   "source": [
    "## Spectrum vs parameter"
   ]
  },
  {
   "cell_type": "code",
   "execution_count": 5,
   "metadata": {},
   "outputs": [
    {
     "ename": "FileNotFoundError",
     "evalue": "[Errno 2] No such file or directory: '/home/jaseung/Labshare/User/Jaseung/March Meeting/CSFQ_Cal.txt'",
     "output_type": "error",
     "traceback": [
      "\u001b[1;31m---------------------------------------------------------------------------\u001b[0m",
      "\u001b[1;31mFileNotFoundError\u001b[0m                         Traceback (most recent call last)",
      "\u001b[1;32m<ipython-input-5-b44b688d7828>\u001b[0m in \u001b[0;36m<module>\u001b[1;34m()\u001b[0m\n\u001b[0;32m     57\u001b[0m \u001b[1;33m\u001b[0m\u001b[0m\n\u001b[0;32m     58\u001b[0m \u001b[1;31m#save file\u001b[0m\u001b[1;33m\u001b[0m\u001b[1;33m\u001b[0m\u001b[0m\n\u001b[1;32m---> 59\u001b[1;33m \u001b[0mf_obj\u001b[0m \u001b[1;33m=\u001b[0m \u001b[0mopen\u001b[0m\u001b[1;33m(\u001b[0m\u001b[0mdataFileName\u001b[0m\u001b[1;33m,\u001b[0m \u001b[1;34m'wb'\u001b[0m\u001b[1;33m)\u001b[0m\u001b[1;33m\u001b[0m\u001b[0m\n\u001b[0m\u001b[0;32m     60\u001b[0m \u001b[0mnp\u001b[0m\u001b[1;33m.\u001b[0m\u001b[0msavetxt\u001b[0m\u001b[1;33m(\u001b[0m\u001b[0mf_obj\u001b[0m\u001b[1;33m,\u001b[0m \u001b[0mspec\u001b[0m\u001b[1;33m,\u001b[0m \u001b[0mfmt\u001b[0m\u001b[1;33m=\u001b[0m\u001b[1;34m'%.9g'\u001b[0m\u001b[1;33m,\u001b[0m \u001b[0mdelimiter\u001b[0m\u001b[1;33m=\u001b[0m\u001b[1;34m'\\t'\u001b[0m\u001b[1;33m)\u001b[0m\u001b[1;33m\u001b[0m\u001b[0m\n\u001b[0;32m     61\u001b[0m \u001b[0mf_obj\u001b[0m\u001b[1;33m.\u001b[0m\u001b[0mclose\u001b[0m\u001b[1;33m(\u001b[0m\u001b[1;33m)\u001b[0m\u001b[1;33m\u001b[0m\u001b[0m\n",
      "\u001b[1;31mFileNotFoundError\u001b[0m: [Errno 2] No such file or directory: '/home/jaseung/Labshare/User/Jaseung/March Meeting/CSFQ_Cal.txt'"
     ]
    },
    {
     "name": "stderr",
     "output_type": "stream",
     "text": [
      "Traceback (most recent call last):\n",
      "  File \"C:\\Anaconda\\Lib\\site-packages\\matplotlib\\backends\\backend_qt5agg.py\", line 149, in __draw_idle_agg\n",
      "    self.draw()\n",
      "  File \"C:\\Anaconda\\Lib\\site-packages\\matplotlib\\backends\\backend_qt5agg.py\", line 127, in draw\n",
      "    super(FigureCanvasQTAggBase, self).draw()\n",
      "  File \"C:\\Anaconda\\Lib\\site-packages\\matplotlib\\backends\\backend_agg.py\", line 430, in draw\n",
      "    self.figure.draw(self.renderer)\n",
      "  File \"C:\\Anaconda\\Lib\\site-packages\\matplotlib\\artist.py\", line 55, in draw_wrapper\n",
      "    return draw(artist, renderer, *args, **kwargs)\n",
      "  File \"C:\\Anaconda\\Lib\\site-packages\\matplotlib\\figure.py\", line 1295, in draw\n",
      "    renderer, self, artists, self.suppressComposite)\n",
      "  File \"C:\\Anaconda\\Lib\\site-packages\\matplotlib\\image.py\", line 138, in _draw_list_compositing_images\n",
      "    a.draw(renderer)\n",
      "  File \"C:\\Anaconda\\Lib\\site-packages\\matplotlib\\artist.py\", line 55, in draw_wrapper\n",
      "    return draw(artist, renderer, *args, **kwargs)\n",
      "  File \"C:\\Anaconda\\Lib\\site-packages\\matplotlib\\axes\\_base.py\", line 2399, in draw\n",
      "    mimage._draw_list_compositing_images(renderer, self, artists)\n",
      "  File \"C:\\Anaconda\\Lib\\site-packages\\matplotlib\\image.py\", line 138, in _draw_list_compositing_images\n",
      "    a.draw(renderer)\n",
      "  File \"C:\\Anaconda\\Lib\\site-packages\\matplotlib\\artist.py\", line 55, in draw_wrapper\n",
      "    return draw(artist, renderer, *args, **kwargs)\n",
      "  File \"C:\\Anaconda\\Lib\\site-packages\\matplotlib\\axis.py\", line 1135, in draw\n",
      "    renderer)\n",
      "  File \"C:\\Anaconda\\Lib\\site-packages\\matplotlib\\axis.py\", line 1075, in _get_tick_bboxes\n",
      "    extent = tick.label1.get_window_extent(renderer)\n",
      "  File \"C:\\Anaconda\\Lib\\site-packages\\matplotlib\\text.py\", line 970, in get_window_extent\n",
      "    bbox, info, descent = self._get_layout(self._renderer)\n",
      "  File \"C:\\Anaconda\\Lib\\site-packages\\matplotlib\\text.py\", line 354, in _get_layout\n",
      "    ismath=False)\n",
      "  File \"C:\\Anaconda\\Lib\\site-packages\\matplotlib\\backends\\backend_agg.py\", line 226, in get_text_width_height_descent\n",
      "    s, fontsize, renderer=self)\n",
      "  File \"C:\\Anaconda\\Lib\\site-packages\\matplotlib\\texmanager.py\", line 602, in get_text_width_height_descent\n",
      "    dvifile = self.make_dvi(tex, fontsize)\n",
      "  File \"C:\\Anaconda\\Lib\\site-packages\\matplotlib\\texmanager.py\", line 393, in make_dvi\n",
      "    stderr=subprocess.STDOUT)\n",
      "  File \"C:\\Anaconda\\lib\\subprocess.py\", line 336, in check_output\n",
      "    **kwargs).stdout\n",
      "  File \"C:\\Anaconda\\lib\\subprocess.py\", line 403, in run\n",
      "    with Popen(*popenargs, **kwargs) as process:\n",
      "  File \"C:\\Anaconda\\lib\\subprocess.py\", line 709, in __init__\n",
      "    restore_signals, start_new_session)\n",
      "  File \"C:\\Anaconda\\lib\\subprocess.py\", line 997, in _execute_child\n",
      "    startupinfo)\n",
      "FileNotFoundError: [WinError 2] The system cannot find the file specified\n",
      "Traceback (most recent call last):\n",
      "  File \"C:\\Anaconda\\Lib\\site-packages\\matplotlib\\backends\\backend_qt5agg.py\", line 149, in __draw_idle_agg\n",
      "    self.draw()\n",
      "  File \"C:\\Anaconda\\Lib\\site-packages\\matplotlib\\backends\\backend_qt5agg.py\", line 127, in draw\n",
      "    super(FigureCanvasQTAggBase, self).draw()\n",
      "  File \"C:\\Anaconda\\Lib\\site-packages\\matplotlib\\backends\\backend_agg.py\", line 430, in draw\n",
      "    self.figure.draw(self.renderer)\n",
      "  File \"C:\\Anaconda\\Lib\\site-packages\\matplotlib\\artist.py\", line 55, in draw_wrapper\n",
      "    return draw(artist, renderer, *args, **kwargs)\n",
      "  File \"C:\\Anaconda\\Lib\\site-packages\\matplotlib\\figure.py\", line 1295, in draw\n",
      "    renderer, self, artists, self.suppressComposite)\n",
      "  File \"C:\\Anaconda\\Lib\\site-packages\\matplotlib\\image.py\", line 138, in _draw_list_compositing_images\n",
      "    a.draw(renderer)\n",
      "  File \"C:\\Anaconda\\Lib\\site-packages\\matplotlib\\artist.py\", line 55, in draw_wrapper\n",
      "    return draw(artist, renderer, *args, **kwargs)\n",
      "  File \"C:\\Anaconda\\Lib\\site-packages\\matplotlib\\axes\\_base.py\", line 2399, in draw\n",
      "    mimage._draw_list_compositing_images(renderer, self, artists)\n",
      "  File \"C:\\Anaconda\\Lib\\site-packages\\matplotlib\\image.py\", line 138, in _draw_list_compositing_images\n",
      "    a.draw(renderer)\n",
      "  File \"C:\\Anaconda\\Lib\\site-packages\\matplotlib\\artist.py\", line 55, in draw_wrapper\n",
      "    return draw(artist, renderer, *args, **kwargs)\n",
      "  File \"C:\\Anaconda\\Lib\\site-packages\\matplotlib\\axis.py\", line 1135, in draw\n",
      "    renderer)\n",
      "  File \"C:\\Anaconda\\Lib\\site-packages\\matplotlib\\axis.py\", line 1075, in _get_tick_bboxes\n",
      "    extent = tick.label1.get_window_extent(renderer)\n",
      "  File \"C:\\Anaconda\\Lib\\site-packages\\matplotlib\\text.py\", line 970, in get_window_extent\n",
      "    bbox, info, descent = self._get_layout(self._renderer)\n",
      "  File \"C:\\Anaconda\\Lib\\site-packages\\matplotlib\\text.py\", line 354, in _get_layout\n",
      "    ismath=False)\n",
      "  File \"C:\\Anaconda\\Lib\\site-packages\\matplotlib\\backends\\backend_agg.py\", line 226, in get_text_width_height_descent\n",
      "    s, fontsize, renderer=self)\n",
      "  File \"C:\\Anaconda\\Lib\\site-packages\\matplotlib\\texmanager.py\", line 602, in get_text_width_height_descent\n",
      "    dvifile = self.make_dvi(tex, fontsize)\n",
      "  File \"C:\\Anaconda\\Lib\\site-packages\\matplotlib\\texmanager.py\", line 393, in make_dvi\n",
      "    stderr=subprocess.STDOUT)\n",
      "  File \"C:\\Anaconda\\lib\\subprocess.py\", line 336, in check_output\n",
      "    **kwargs).stdout\n",
      "  File \"C:\\Anaconda\\lib\\subprocess.py\", line 403, in run\n",
      "    with Popen(*popenargs, **kwargs) as process:\n",
      "  File \"C:\\Anaconda\\lib\\subprocess.py\", line 709, in __init__\n",
      "    restore_signals, start_new_session)\n",
      "  File \"C:\\Anaconda\\lib\\subprocess.py\", line 997, in _execute_child\n",
      "    startupinfo)\n",
      "FileNotFoundError: [WinError 2] The system cannot find the file specified\n"
     ]
    }
   ],
   "source": [
    "import os\n",
    "\n",
    "# Save?\n",
    "SAVE = False\n",
    "if SAVE;\n",
    "    save_path= '/home/jaseung/Labshare/User/Jaseung/March Meeting/'\n",
    "    dataFileName = 'CSFQ_Cal'\n",
    "    dataFileName = os.path.join(save_path, dataFileName + '.txt') \n",
    "\n",
    "# get spectrum up to w34\n",
    "I0 =200e-9\n",
    "Cj = 8.1e-15\n",
    "Cs = 50e-15\n",
    "alpha = 0.446\n",
    "\n",
    "csfq = CSFQ(I0=I0, Cj=Cj, Cs=Cs, alpha=alpha)\n",
    "\n",
    "N = 201 # number of flux points\n",
    "flux = np.linspace(0,1,N)\n",
    "\n",
    "# plot set up\n",
    "f, spec = np.array([]), np.array([])\n",
    "fig, axes1 = plt.subplots(1,1)\n",
    "lines1, = axes1.plot([], [],'k-')\n",
    "lines2, = axes1.plot([], [], 'r-')\n",
    "lines3, = axes1.plot([], [], 'b-')\n",
    "lines4, = axes1.plot([], [], 'g-')\n",
    "axes1.set_xlabel(r'Flux ($\\Phi_0$)', size=18)\n",
    "axes1.set_ylabel('Energy (GHz)', size=18)\n",
    "axes1.tick_params(labelsize='large')\n",
    "axes1.grid(which='both',color='gray', linestyle='--', linewidth=0.5)\n",
    "#title = 'I0={:.3g} nA, Cj={} fF, Cs={} fF, alpha={}'.format(I0 *1e9, Cj*1e15, Cs*1e15, alpha)\n",
    "#axes1.set_title(title)\n",
    "\n",
    "for f1 in flux:\n",
    "    energy_diff = csfq.solveHamiltonian(f1)[0][0:3]\n",
    "    if spec.size ==0:\n",
    "        spec = energy_diff\n",
    "        spec.shape = (1,spec.size)\n",
    "    else:\n",
    "        spec = np.vstack((spec,energy_diff))\n",
    "        \n",
    "    f = np.append(f,f1)\n",
    "        \n",
    "    lines1.set_xdata(f)\n",
    "    lines1.set_ydata(spec[:,0])\n",
    "    lines2.set_xdata(f)\n",
    "    lines2.set_ydata(spec[:,1])\n",
    "    lines3.set_xdata(f)\n",
    "    \n",
    "    lines3.set_ydata(spec[:,2])\n",
    "  #  lines4.set_xdata(f)\n",
    "  #  lines4.set_ydata(spec[:,3])\n",
    "    \n",
    "    axes1.relim()\n",
    "    axes1.autoscale()\n",
    "    plt.draw()\n",
    "\n",
    "#save file\n",
    "if SAVE:\n",
    "    f_obj = open(dataFileName, 'wb') \n",
    "    np.savetxt(f_obj, spec, fmt='%.9g', delimiter='\\t') \n",
    "    f_obj.close()\n",
    "\n",
    "f01 = csfq.solveHamiltonian(0.5)[0][0]                                \n",
    "f12 = csfq.solveHamiltonian(0.5)[0][1]  \n",
    "\n",
    "print('f01={:.4g},anharmonicity={:.3g}'.format(f01, f12-f01))\n",
    "\n",
    "f01_arr = spec[:,0]\n",
    "x = flux[np.argmin( np.fabs(f01_arr - 6.8815))]\n",
    "if 0.5 > x :\n",
    "    x = 1 - x\n",
    "print('x={:.3g}, (1-x)/(x-0.5)={:.3g}'.format(x,(1-x)/(x-0.5)))"
   ]
  },
  {
   "cell_type": "code",
   "execution_count": 14,
   "metadata": {},
   "outputs": [
    {
     "data": {
      "text/plain": [
       "array([[ 10.83807958,  10.62450006,  10.40800634,  10.18833043,   9.9651727 ],\n",
       "       [ 10.83762188,  10.6240306 ,  10.40752415,  10.18783441,\n",
       "          9.96466162],\n",
       "       [ 10.83624862,  10.62262208,  10.40607741,  10.18634618,\n",
       "          9.96312818],\n",
       "       ..., \n",
       "       [ 10.83624862,  10.62262208,  10.40607741,  10.18634618,\n",
       "          9.96312818],\n",
       "       [ 10.83762188,  10.6240306 ,  10.40752415,  10.18783441,\n",
       "          9.96466162],\n",
       "       [ 10.83807958,  10.62450006,  10.40800634,  10.18833043,   9.9651727 ]])"
      ]
     },
     "execution_count": 14,
     "metadata": {},
     "output_type": "execute_result"
    }
   ],
   "source": [
    "spec"
   ]
  },
  {
   "cell_type": "markdown",
   "metadata": {},
   "source": [
    "## Get anharmonicity and f01 vs alpha at LSS and USS"
   ]
  },
  {
   "cell_type": "code",
   "execution_count": 4,
   "metadata": {
    "scrolled": false
   },
   "outputs": [
    {
     "data": {
      "text/plain": [
       "<matplotlib.text.Text at 0x23cf7b794a8>"
      ]
     },
     "execution_count": 4,
     "metadata": {},
     "output_type": "execute_result"
    }
   ],
   "source": [
    "I0 = 150e-9\n",
    "Cj = 8.1e-15\n",
    "Cs = 50e-15\n",
    "flux = 0.5  # LSS\n",
    "flux1 = 0   # USS\n",
    "\n",
    "var = Cs  # change this when varying a parameter\n",
    "labelStr = str(var)\n",
    "\n",
    "csfq = CSFQ(I0=I0, Cj=Cj, Cs=Cs)\n",
    "\n",
    "alpha_arr = np.linspace(0.01, 0.5, 50)\n",
    "anharm_arr, energy_diff_arr = np.array([]), np.array([])\n",
    "anharm_arr1, energy_diff_arr1 = np.array([]), np.array([])\n",
    "\n",
    "for i in alpha_arr:\n",
    "    csfq.alpha = i\n",
    "    energy_diff = csfq.solveHamiltonian(flux)[0]\n",
    "    energy_diff1 = csfq.solveHamiltonian(flux1)[0]\n",
    "    anharm = energy_diff[1] - energy_diff[0]\n",
    "    anharm1 = energy_diff1[1] - energy_diff1[0]\n",
    "    anharm_arr = np.append(anharm_arr, anharm)\n",
    "    anharm_arr1 = np.append(anharm_arr1, anharm1)\n",
    "    energy_diff_arr = np.append(energy_diff_arr, energy_diff[0])\n",
    "    energy_diff_arr1 = np.append(energy_diff_arr1, energy_diff1[0])\n",
    "\n",
    "\n",
    "fig, (axes1, axes2) = plt.subplots(2,1)\n",
    "lines1, = axes1.plot(alpha_arr, energy_diff_arr, 'k-') \n",
    "lines11,= axes1.plot(alpha_arr, energy_diff_arr1, 'r-') \n",
    "lines2, = axes2.plot(alpha_arr, anharm_arr, 'k-') \n",
    "lines12, =axes2.plot(alpha_arr, anharm_arr1,'r-')\n",
    "\n",
    "axes1.set_ylabel('f01 (GHz)')\n",
    "axes2.set_xlabel('alpha')\n",
    "axes2.set_ylabel('anharm (GHz)')\n",
    "axes1.grid(which='both',color='gray', linestyle='--', linewidth=0.5)\n",
    "axes2.grid(which='both',color='gray', linestyle='--', linewidth=0.5)\n",
    "axes1.legend((lines1, lines11),('LSS', 'USS'))\n",
    "axes2.legend((lines2, lines12),('LSS', 'USS'))\n",
    "\n",
    "title = 'I0={} nA, Cj={} fF, Cs={} fF'.format(I0 *1e9, Cj*1e15, Cs*1e15)\n",
    "axes1.set_title(title)\n"
   ]
  },
  {
   "cell_type": "markdown",
   "metadata": {},
   "source": [
    "## Get anharmonicity and f01 vs I0 at LSS and USS"
   ]
  },
  {
   "cell_type": "code",
   "execution_count": 7,
   "metadata": {},
   "outputs": [
    {
     "data": {
      "text/plain": [
       "<matplotlib.text.Text at 0x7f3c86e7a160>"
      ]
     },
     "execution_count": 7,
     "metadata": {},
     "output_type": "execute_result"
    }
   ],
   "source": [
    "Cj =8.1e-15\n",
    "Cs = 50e-15\n",
    "alpha = 0.475 #0.446\n",
    "flux = 0.5\n",
    "flux1 = 0\n",
    "\n",
    "csfq = CSFQ(Cj=Cj, Cs=Cs, alpha=alpha)\n",
    "\n",
    "I0_arr = np.linspace(50e-9, 300e-9, 50)\n",
    "anharm_arr, energy_diff_arr = np.array([]), np.array([])\n",
    "anharm_arr1, energy_diff_arr1 = np.array([]), np.array([])\n",
    "\n",
    "for i in I0_arr:\n",
    "    csfq.I0 = i\n",
    "    energy_diff = csfq.solveHamiltonian(flux)[0]\n",
    "    energy_diff1 = csfq.solveHamiltonian(flux1)[0]\n",
    "    anharm = energy_diff[1] - energy_diff[0]\n",
    "    anharm1 = energy_diff1[1] - energy_diff1[0]\n",
    "    anharm_arr = np.append(anharm_arr, anharm)\n",
    "    anharm_arr1 = np.append(anharm_arr1, anharm1)\n",
    "    energy_diff_arr = np.append(energy_diff_arr, energy_diff[0])\n",
    "    energy_diff_arr1 = np.append(energy_diff_arr1, energy_diff1[0])\n",
    "\n",
    "\n",
    "fig, (axes1, axes2) = plt.subplots(2,1)\n",
    "lines1, = axes1.plot(I0_arr *1e9, energy_diff_arr, 'k-') \n",
    "lines11, = axes1.plot(I0_arr *1e9, energy_diff_arr1, 'r-') \n",
    "lines2, = axes2.plot(I0_arr *1e9, anharm_arr, 'k-') \n",
    "lines12, =axes2.plot(I0_arr *1e9, anharm_arr1,'r-')\n",
    "\n",
    "axes1.set_ylabel('f01 (GHz)')\n",
    "axes2.set_xlabel('Ic (nA)')\n",
    "axes2.set_ylabel('anharm (GHz)')\n",
    "axes1.grid(which='both',color='gray', linestyle='--', linewidth=0.5)\n",
    "axes2.grid(which='both',color='gray', linestyle='--', linewidth=0.5)\n",
    "axes1.legend((lines1, lines11),('LSS', 'USS'))\n",
    "axes2.legend((lines2, lines12),('LSS', 'USS'))\n",
    "\n",
    "title = 'Cj={} fF, Cs={} fF, alpha={}'.format(Cj*1e15, Cs*1e15, alpha)\n",
    "axes1.set_title(title)\n"
   ]
  },
  {
   "cell_type": "markdown",
   "metadata": {},
   "source": [
    "## Get anharmonicity and f01 vs Cs at LSS and USS"
   ]
  },
  {
   "cell_type": "code",
   "execution_count": 7,
   "metadata": {},
   "outputs": [
    {
     "data": {
      "text/plain": [
       "<matplotlib.text.Text at 0x7fd87d691860>"
      ]
     },
     "execution_count": 7,
     "metadata": {},
     "output_type": "execute_result"
    }
   ],
   "source": [
    "I0 = 160e-9\n",
    "Cj = 8.1e-15\n",
    "Cs = 50e-15\n",
    "alpha = 0.42\n",
    "flux = 0.5\n",
    "flux1 = 0\n",
    "\n",
    "csfq = CSFQ(I0=I0, Cj=Cj, Cs=Cs, alpha=alpha)\n",
    "\n",
    "Cs_arr = np.linspace(10e-15, 100e-15, 50)\n",
    "anharm_arr, energy_diff_arr = np.array([]), np.array([])\n",
    "anharm_arr1, energy_diff_arr1 = np.array([]), np.array([])\n",
    "\n",
    "for i in Cs_arr:\n",
    "    csfq.Cs = i\n",
    "    energy_diff = csfq.solveHamiltonian(flux)[0]\n",
    "    energy_diff1 = csfq.solveHamiltonian(flux1)[0]\n",
    "    anharm = energy_diff[1] - energy_diff[0]\n",
    "    anharm1 = energy_diff1[1] - energy_diff1[0]\n",
    "    anharm_arr = np.append(anharm_arr, anharm)\n",
    "    anharm_arr1 = np.append(anharm_arr1, anharm1)\n",
    "    energy_diff_arr = np.append(energy_diff_arr, energy_diff[0])\n",
    "    energy_diff_arr1 = np.append(energy_diff_arr1, energy_diff1[0])\n",
    "\n",
    "fig, (axes1, axes2) = plt.subplots(2,1)\n",
    "lines1, = axes1.plot(Cs_arr *1e15, energy_diff_arr, 'k-') \n",
    "lines11, = axes1.plot(Cs_arr *1e15, energy_diff_arr1, 'r-') \n",
    "lines2, = axes2.plot(Cs_arr *1e15, anharm_arr, 'k-') \n",
    "lines12, =axes2.plot(Cs_arr*1e15, anharm_arr1,'r-')\n",
    "\n",
    "axes1.set_ylabel('f01 (GHz)')\n",
    "axes2.set_xlabel('Cs (fF)')\n",
    "axes2.set_ylabel('anharm (GHz)')\n",
    "axes1.grid(which='both',color='gray', linestyle='--', linewidth=0.5)\n",
    "axes2.grid(which='both',color='gray', linestyle='--', linewidth=0.5)\n",
    "axes1.legend((lines1, lines11),('LSS', 'USS'))\n",
    "axes2.legend((lines2, lines12),('LSS', 'USS'))\n",
    "\n",
    "title = 'I0={}, Cj={} fF, alpha={}'.format(I0*1e9, Cj*1e15, alpha)\n",
    "axes1.set_title(title)\n"
   ]
  },
  {
   "cell_type": "code",
   "execution_count": 207,
   "metadata": {
    "scrolled": true
   },
   "outputs": [
    {
     "data": {
      "image/png": "[encoded data removed]",
      "text/plain": [
       "<matplotlib.figure.Figure at 0x7f86f9f5be48>"
      ]
     },
     "metadata": {},
     "output_type": "display_data"
    }
   ],
   "source": [
    "%matplotlib inline\n",
    "# 2D, anharmonicity vs alpha vs Cs\n",
    "csfq = CSFQ(I0=150e-9, Cj=5e-15, Cs=50e-15, alpha=0.45)\n",
    "flux = 0.5\n",
    "\n",
    "alpha = np.linspace(0.4, 0.5, 5)\n",
    "Cs = np.linspace(30e-15, 70e-15,10)\n",
    "anharm_arr_1D, anharm_arr_2D = np.array([]), np.array([])\n",
    "\n",
    "fig, axes = plt.subplots(nrows=1, figsize=(6,6))\n",
    "plt.xlabel('Cs (fF)')\n",
    "plt.ylabel('alpha*10')\n",
    "plt.title('alpha, Cs')\n",
    " \n",
    "for i in alpha:\n",
    "    csfq.alpha = i\n",
    "    anharm_arr_1D = np.array([])\n",
    "    for j in Cs:\n",
    "        csfq.Cs = j\n",
    "        energy_diff = csfq.solveHamiltonian(flux)[0]\n",
    "        anharm = energy_diff[1] - energy_diff[0]\n",
    "        anharm_arr_1D = np.append(anharm_arr_1D, anharm)\n",
    "    \n",
    "    if anharm_arr_2D.size == 0:\n",
    "        anharm_arr_2D = anharm_arr_1D\n",
    "        anharm_arr_2D.shape = (1,anharm_arr_1D.size)\n",
    "    else:\n",
    "        anharm_arr_2D = np.vstack((anharm_arr_2D, anharm_arr_1D)) \n",
    "    \n",
    "    axesimage = axes.matshow(anharm_arr_2D, cmap='gray', extent=[Cs[0]*1e15, Cs[-1]*1e15,alpha[0]*10,alpha[-1]*10], origin='lower',  aspect='auto')\n",
    "    axesimage.set_data(anharm_arr_2D)\n",
    "    axes.xaxis.set_ticks_position('bottom')  \n",
    "    axes.autoscale()\n",
    "    plt.draw()"
   ]
  },
  {
   "cell_type": "markdown",
   "metadata": {
    "collapsed": true
   },
   "source": [
    "# Gradiometer CSFQ, Flux dependence of S21"
   ]
  },
  {
   "cell_type": "code",
   "execution_count": null,
   "metadata": {
    "collapsed": true
   },
   "outputs": [],
   "source": [
    "import numpy as np\n",
    "import matplotlib.pyplot as plt\n",
    "from math import pi\n",
    "\n",
    "alpha0 = 0.43\n",
    "csfq = CSFQ(I0=255e-9, Cj=8.1e-15, Cs=50e-15, alpha=alpha0)\n",
    "cavityFreq = 10 # in GHz\n",
    "\n",
    "data2D = np.array([])\n",
    "\n",
    "for flux_glb in np.linspace(0, 1, 50):\n",
    "    csfq.alpha =alpha0 * np.fabs(np.cos(pi*flux_glb))\n",
    "    energy_diff_arr = np.array([])\n",
    "    print('flux_glb={}'.format(flux_glb))\n",
    "    \n",
    "    # get specturm, given global flux.\n",
    "    for flux_chip in np.linspace(0, 1, 100):\n",
    "        energy_diff = csfq.solveHamiltonian(flux_chip)[0]\n",
    "        energy_diff_arr = np.append(energy_diff_arr, energy_diff[0])\n",
    "    \n",
    "    mask = (energy_diff_arr - cavityFreq) >= 0\n",
    "    data1D = np.zeros(energy_diff_arr.size)\n",
    "    data1D[mask] = 1\n",
    "    if data2D.size ==0:\n",
    "        data2D = data1D\n",
    "        data2D.shape = (data1D.size, 1)\n",
    "    else:\n",
    "        data2D = np.column_stack((data2D, data1D))\n",
    "\n",
    "extend = [0, 1, 0, 1]\n",
    "plt.imshow(data2D, extent=extend)\n"
   ]
  },
  {
   "cell_type": "code",
   "execution_count": 43,
   "metadata": {},
   "outputs": [
    {
     "data": {
      "text/plain": [
       "<matplotlib.image.AxesImage at 0x7f71b666c630>"
      ]
     },
     "execution_count": 43,
     "metadata": {},
     "output_type": "execute_result"
    },
    {
     "data": {
      "image/png": "[encoded data removed]",
      "text/plain": [
       "<matplotlib.figure.Figure at 0x7f71b6cdab38>"
      ]
     },
     "metadata": {},
     "output_type": "display_data"
    }
   ],
   "source": [
    "%matplotlib inline\n",
    "plt.matshow(data2D, extent=extend)"
   ]
  },
  {
   "cell_type": "code",
   "execution_count": 39,
   "metadata": {},
   "outputs": [
    {
     "data": {
      "text/plain": [
       "array([ 17.58166914,  17.5696105 ,  17.53337846,  17.47280268,\n",
       "        17.38759262,  17.27732714,  17.14143888,  16.97919223,\n",
       "        16.78965316,  16.57164825,  16.32370907,  16.04399608,\n",
       "        15.7301933 ,  15.37935998,  14.98771734,  14.55033455,\n",
       "        14.06065248,  13.50973758,  12.88506905,  12.16849204,\n",
       "        11.33266622,  10.33508   ,   9.11143123,   7.60600056,\n",
       "         6.13448238,   6.13448238,   7.60600056,   9.11143123,\n",
       "        10.33508   ,  11.33266622,  12.16849204,  12.88506905,\n",
       "        13.50973758,  14.06065248,  14.55033455,  14.98771734,\n",
       "        15.37935998,  15.7301933 ,  16.04399608,  16.32370907,\n",
       "        16.57164825,  16.78965316,  16.97919223,  17.14143888,\n",
       "        17.27732714,  17.38759262,  17.47280268,  17.53337846,\n",
       "        17.5696105 ,  17.58166914])"
      ]
     },
     "execution_count": 39,
     "metadata": {},
     "output_type": "execute_result"
    }
   ],
   "source": [
    "energy_diff_arr"
   ]
  },
  {
   "cell_type": "code",
   "execution_count": 23,
   "metadata": {},
   "outputs": [
    {
     "data": {
      "text/plain": [
       "9.0429505242983588"
      ]
     },
     "execution_count": 23,
     "metadata": {},
     "output_type": "execute_result"
    }
   ],
   "source": [
    "csfq.solveHamiltonian(0.55)[0][0]"
   ]
  },
  {
   "cell_type": "code",
   "execution_count": 22,
   "metadata": {},
   "outputs": [
    {
     "data": {
      "text/plain": [
       "array([ 0.        ,  0.11111111,  0.22222222,  0.33333333,  0.44444444,\n",
       "        0.55555556,  0.66666667,  0.77777778,  0.88888889,  1.        ])"
      ]
     },
     "execution_count": 22,
     "metadata": {},
     "output_type": "execute_result"
    }
   ],
   "source": [
    "np.linspace(0,1,10)"
   ]
  },
  {
   "cell_type": "code",
   "execution_count": null,
   "metadata": {
    "collapsed": true
   },
   "outputs": [],
   "source": []
  }
 ],
 "metadata": {
  "anaconda-cloud": {},
  "kernelspec": {
   "display_name": "Python 3",
   "language": "python",
   "name": "python3"
  },
  "language_info": {
   "codemirror_mode": {
    "name": "ipython",
    "version": 3
   },
   "file_extension": ".py",
   "mimetype": "text/x-python",
   "name": "python",
   "nbconvert_exporter": "python",
   "pygments_lexer": "ipython3",
   "version": "3.6.3"
  },
  "toc": {
   "nav_menu": {
    "height": "155px",
    "width": "252px"
   },
   "number_sections": true,
   "sideBar": true,
   "skip_h1_title": false,
   "toc_cell": false,
   "toc_position": {},
   "toc_section_display": "block",
   "toc_window_display": false
  }
 },
 "nbformat": 4,
 "nbformat_minor": 1
}
