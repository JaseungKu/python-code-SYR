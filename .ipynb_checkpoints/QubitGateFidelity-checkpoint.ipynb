{
 "cells": [
  {
   "cell_type": "markdown",
   "metadata": {},
   "source": [
    "# Single qubit gate fidelity"
   ]
  },
  {
   "cell_type": "code",
   "execution_count": 4,
   "metadata": {
    "collapsed": true
   },
   "outputs": [],
   "source": [
    "import numpy as np\n",
    "\n",
    "def singleQubitGateFidelity(T1,T2,gate_length):\n",
    "    return 1 - 0.5*(1.-2./3.*np.exp(-gate_length/T2)-1./3.*np.exp(-gate_length/T1))\n",
    "#0.5*(1.-2./3.*np.exp(-gate_length/T2)-1./3.*np.exp(-gate_length/T1)) from Dave"
   ]
  },
  {
   "cell_type": "code",
   "execution_count": 8,
   "metadata": {},
   "outputs": [
    {
     "data": {
      "text/plain": [
       "0.99965012746808934"
      ]
     },
     "execution_count": 8,
     "metadata": {},
     "output_type": "execute_result"
    }
   ],
   "source": [
    "singleQubitGateFidelity(40, 25, 0.02)"
   ]
  },
  {
   "cell_type": "code",
   "execution_count": 41,
   "metadata": {},
   "outputs": [
    {
     "name": "stdout",
     "output_type": "stream",
     "text": [
      "Using matplotlib backend: Qt5Agg\n"
     ]
    },
    {
     "data": {
      "text/plain": [
       "<matplotlib.legend.Legend at 0x2a6f6303c50>"
      ]
     },
     "execution_count": 41,
     "metadata": {},
     "output_type": "execute_result"
    }
   ],
   "source": [
    "# Gate fid vs gate length\n",
    "%matplotlib\n",
    "import matplotlib.pyplot as plt\n",
    "\n",
    "T1, T2 = 18.6, 7.6\n",
    "T1_1, T2_1 = 18.6,  3\n",
    "\n",
    "gate_lengths = np.linspace(0, 0.1, 101)\n",
    "\n",
    "fid = singleQubitGateFidelity(T1, T2, gate_lengths)\n",
    "fid1 = singleQubitGateFidelity(T1_1, T2_1, gate_lengths)\n",
    "\n",
    "label_FFT = 'FFT:T1={:.1f},T2={:.1f}'.format(T1, T2)\n",
    "label_CSFQ = 'CSFQ:T1={:.1f},T2={:.1f}'.format(T1_1, T2_1)\n",
    "plt.plot(gate_lengths, fid, '.-', label=label_FFT)\n",
    "plt.plot(gate_lengths, fid1, '.-', label=label_CSFQ)\n",
    "plt.xlabel('Gate length (us)')\n",
    "plt.ylabel('Gate Fidelity')\n",
    "plt.grid()\n",
    "plt.legend()"
   ]
  },
  {
   "cell_type": "code",
   "execution_count": 91,
   "metadata": {},
   "outputs": [
    {
     "name": "stdout",
     "output_type": "stream",
     "text": [
      "Using matplotlib backend: Qt5Agg\n"
     ]
    }
   ],
   "source": [
    "# Gate fid vs T2\n",
    "%matplotlib\n",
    "import matplotlib.pyplot as plt\n",
    "\n",
    "T1 = 18.6\n",
    "T2 = np.linspace(2, 17, 1001) # in us\n",
    "gate_length = 0.02\n",
    "fid = singleQubitGateFidelity(T1, T2, gate_length)\n",
    "\n",
    "plt.plot(T2, fid)\n",
    "plt.xlabel('T2 (us)')\n",
    "plt.ylabel('Gate Fidelity')\n",
    "# plt.xscale('log')\n",
    "# plt.yscale('log')\n",
    "plt.grid()"
   ]
  },
  {
   "cell_type": "markdown",
   "metadata": {},
   "source": [
    "# Two qubit gate fidelity calculation: function defined"
   ]
  },
  {
   "cell_type": "code",
   "execution_count": 20,
   "metadata": {
    "collapsed": true
   },
   "outputs": [],
   "source": [
    "import numpy as np\n",
    "\n",
    "\n",
    "def twoQubitGateFidelity(T1_t, T2_t, T1_c, T2_c, gate_length):\n",
    "    \"\"\" Return the two qubit gate fidelity in percent \"\"\"\n",
    "    T1 = [T1_t, T1_c]\n",
    "    T2 = [T2_t, T2_c]\n",
    "    T1factor, T2factor = 0, 0\n",
    "\n",
    "    for i in range(2):\n",
    "        T1factor += 1. / 15. * np.exp(-gate_length / T1[i])\n",
    "        T2factor += 2. / 15. * \\\n",
    "            (np.exp(-gate_length /\n",
    "                    T2[i]) + np.exp(-gate_length * (1. / T2[i] + 1. / T1[1 - i])))\n",
    "\n",
    "    T1factor += 1. / 15. * np.exp(-gate_length * (1. / T1[0] + 1. / T1[1]))\n",
    "    T2factor += 4. / 15. * np.exp(-gate_length * (1. / T2[0] + 1. / T2[1]))\n",
    "\n",
    "    return (1 - 0.75 * (1. - T1factor - T2factor)) * 100"
   ]
  },
  {
   "cell_type": "code",
   "execution_count": 21,
   "metadata": {},
   "outputs": [
    {
     "name": "stdout",
     "output_type": "stream",
     "text": [
      "fidelity = 98.66 %\n"
     ]
    }
   ],
   "source": [
    "# Function test\n",
    "T1_t, T2_t, T1_c, T2_c, gate_length = 40, 31, 20, 10, 0.2\n",
    "# T1_t, T2_t, T1_c, T2_c, gate_length = 20,16, 40, 31, 0.2\n",
    "\n",
    "fidelity = twoQubitGateFidelity(T1_t, T2_t, T1_c, T2_c, gate_length)\n",
    "print('fidelity = {:.2f} %'.format(fidelity))"
   ]
  },
  {
   "cell_type": "markdown",
   "metadata": {},
   "source": [
    "# FFT and CSFQ (IBM384QB56)"
   ]
  },
  {
   "cell_type": "code",
   "execution_count": 27,
   "metadata": {},
   "outputs": [
    {
     "name": "stdout",
     "output_type": "stream",
     "text": [
      "Using matplotlib backend: Qt5Agg\n",
      "T1(FFT), T2(FFT) = 39, 24 us\n",
      "T1(CSFQ), T2(CSFQ) = 25, 20\n",
      "\n",
      "gate length =  174 ns, fidelity = 99.14 %\n",
      "gate length =222.25 ns, fidelity = 98.90 %\n",
      "gate length =270.5 ns, fidelity = 98.67 %\n",
      "gate length =318.75 ns, fidelity = 98.43 %\n",
      "gate length =  367 ns, fidelity = 98.20 %\n",
      "gate length =415.25 ns, fidelity = 97.96 %\n",
      "gate length =463.5 ns, fidelity = 97.73 %\n",
      "gate length =511.75 ns, fidelity = 97.50 %\n",
      "gate length =  560 ns, fidelity = 97.27 %\n"
     ]
    }
   ],
   "source": [
    "# Gate fid vs gate length\n",
    "%matplotlib\n",
    "import matplotlib.pyplot as plt\n",
    "\n",
    "T1_t, T2_t, T1_c, T2_c =  39, 24, 18.6, 8\n",
    "\n",
    "gate_lengths = np.linspace(174,560,9) / 1e3\n",
    "\n",
    "print('T1(FFT), T2(FFT) = {:.3g}, {:.3g} us'.format(T1_t, T2_t))\n",
    "print('T1(CSFQ), T2(CSFQ) = {:.3g}, {:.3g}\\n'.format(T1_c, T2_c))\n",
    "\n",
    "for gate_length in gate_lengths:\n",
    "    fidelity = twoQubitGateFidelity(T1_t, T2_t, T1_c, T2_c, gate_length)\n",
    "    print('gate length ={:5g} ns, fidelity = {:.2f} %'.format(gate_length*1e3,fidelity))\n",
    "\n",
    "# gate_lengths = np.linspace(10, 500, 100)/1e3\n",
    "fid = twoQubitGateFidelity(T1_t, T2_t, T1_c, T2_c, gate_lengths)\n",
    "plt.plot(gate_lengths, fid)\n",
    "# plt.plot(gate_lengths, fid2, 'b-')\n",
    "plt.xlabel('Gate length (us)')\n",
    "plt.ylabel('Gate Fidelity (%)')\n",
    "plt.grid()"
   ]
  },
  {
   "cell_type": "code",
   "execution_count": 9,
   "metadata": {},
   "outputs": [
    {
     "name": "stdout",
     "output_type": "stream",
     "text": [
      "Using matplotlib backend: Qt5Agg\n"
     ]
    }
   ],
   "source": [
    "# Gate fid vs T2\n",
    "%matplotlib\n",
    "import matplotlib.pyplot as plt\n",
    "\n",
    "T1_t, T2_t, T1_c  =  39, 24, 18.6\n",
    "T2_c = np.linspace(1, 20, 1001)\n",
    "gate_lengths = 0.2 \n",
    "\n",
    "fid = [twoQubitGateFidelity(T1_t, T2_t, T1_c, T2, gate_length) for T2 in T2_c]\n",
    "    \n",
    "plt.plot(T2_c, fid)\n",
    "plt.xlabel('T2_c (us)')\n",
    "plt.ylabel('Gate Fidelity (%)')\n",
    "plt.grid()"
   ]
  },
  {
   "cell_type": "code",
   "execution_count": 19,
   "metadata": {},
   "outputs": [
    {
     "data": {
      "text/plain": [
       "99.037735385743304"
      ]
     },
     "execution_count": 19,
     "metadata": {},
     "output_type": "execute_result"
    }
   ],
   "source": [
    "T1_t2, T2_t, T1_c, T2_c = 39, 24, 30, 20\n",
    "gate_length   = 0.20\n",
    "twoQubitGateFidelity(T1_t, T2_t, T1_c, T2_c, gate_length)"
   ]
  },
  {
   "cell_type": "code",
   "execution_count": null,
   "metadata": {
    "collapsed": true
   },
   "outputs": [],
   "source": []
  }
 ],
 "metadata": {
  "kernelspec": {
   "display_name": "Python 3",
   "language": "python",
   "name": "python3"
  },
  "language_info": {
   "codemirror_mode": {
    "name": "ipython",
    "version": 3
   },
   "file_extension": ".py",
   "mimetype": "text/x-python",
   "name": "python",
   "nbconvert_exporter": "python",
   "pygments_lexer": "ipython3",
   "version": "3.6.3"
  },
  "toc": {
   "nav_menu": {},
   "number_sections": true,
   "sideBar": false,
   "skip_h1_title": false,
   "toc_cell": false,
   "toc_position": {
    "height": "430px",
    "left": "28px",
    "right": "1680px",
    "top": "131px",
    "width": "212px"
   },
   "toc_section_display": "block",
   "toc_window_display": true
  }
 },
 "nbformat": 4,
 "nbformat_minor": 2
}
