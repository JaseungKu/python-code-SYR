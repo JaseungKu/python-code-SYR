{
 "cells": [
  {
   "cell_type": "code",
   "execution_count": 40,
   "metadata": {},
   "outputs": [],
   "source": [
    "import matplotlib\n",
    "import matplotlib.pyplot as plt\n",
    "import numpy as np\n",
    "from scipy import constants as phy\n",
    "import scipy.special as ssp\n",
    "import math as mth"
   ]
  },
  {
   "cell_type": "code",
   "execution_count": 41,
   "metadata": {},
   "outputs": [
    {
     "name": "stdout",
     "output_type": "stream",
     "text": [
      "g_w = 8.50632e+08 Hz\n",
      "g_f = 1.35382e+08 Hz\n"
     ]
    }
   ],
   "source": [
    "w_r = 6e9*(2*np.pi) # Res. freq.\n",
    "\n",
    "C_r = 2.5e-13 #6.3e-13 #6.3e-13 #1.3e-13 #9e-14 #7.9e-15  #1.4275398e-12 # Cap res\n",
    "\n",
    "C_j = 6e-15 # junction cap, between ~ 5 and 10 fF based off 50 - 100 fF per micron^2\n",
    "\n",
    "C_g = 7.6e-15 #4.65e-14 # Cap gate\n",
    "\n",
    "C_s = 53e-15\n",
    "\n",
    "C_sigma = C_j + C_s + C_g #Total Qubit Cap (C_g + C_s + C_j) assume C_j is 7 fF\n",
    "\n",
    "g_w = (2*phy.e/phy.hbar)*(mth.sqrt((phy.hbar*w_r)/(2*C_r)))*(C_g/C_sigma) *.87  \n",
    "\n",
    "# .86 is factor from <1|n|0> = mth.sqrt(1/2)*(E_j/(8*E_c))**(1/4)\n",
    "\n",
    "g_f = g_w/(2*np.pi) \n",
    "\n",
    "print('g_w = %g' %g_w +' Hz')\n",
    "print('g_f = %g' %g_f + ' Hz')\n"
   ]
  },
  {
   "cell_type": "code",
   "execution_count": 42,
   "metadata": {},
   "outputs": [
    {
     "data": {
      "text/plain": [
       "3.306878306878307"
      ]
     },
     "execution_count": 42,
     "metadata": {},
     "output_type": "execute_result"
    }
   ],
   "source": [
    "5*np.pi/(2*2*w_r*50)/6.3e-13"
   ]
  },
  {
   "cell_type": "code",
   "execution_count": 43,
   "metadata": {},
   "outputs": [
    {
     "ename": "SyntaxError",
     "evalue": "unexpected EOF while parsing (<ipython-input-43-8fb25f1dfeaf>, line 1)",
     "output_type": "error",
     "traceback": [
      "\u001b[0;36m  File \u001b[0;32m\"<ipython-input-43-8fb25f1dfeaf>\"\u001b[0;36m, line \u001b[0;32m1\u001b[0m\n\u001b[0;31m    sqrt(1/2)*(E_j/(8*E_c)**(1/4)\u001b[0m\n\u001b[0m                                 ^\u001b[0m\n\u001b[0;31mSyntaxError\u001b[0m\u001b[0;31m:\u001b[0m unexpected EOF while parsing\n"
     ]
    }
   ],
   "source": [
    "sqrt(1/2)*(E_j/(8*E_c)**(1/4)\n"
   ]
  },
  {
   "cell_type": "code",
   "execution_count": 44,
   "metadata": {},
   "outputs": [
    {
     "data": {
      "text/plain": [
       "6.26e-14"
      ]
     },
     "execution_count": 44,
     "metadata": {},
     "output_type": "execute_result"
    }
   ],
   "source": [
    "2e-10*.0003130"
   ]
  },
  {
   "cell_type": "code",
   "execution_count": 45,
   "metadata": {
    "scrolled": true
   },
   "outputs": [
    {
     "name": "stdout",
     "output_type": "stream",
     "text": [
      "g_w = 1.05885e+08 Hz\n"
     ]
    }
   ],
   "source": [
    "#oscillator - oscillator coupling\n",
    "\n",
    "w_1 = 6e9*2*np.pi\n",
    "w_2 = 5e9*2*np.pi \n",
    "c_g = 7.6e-15\n",
    "c_1 = 6.3e-13\n",
    "c_2 = 53e-15\n",
    "\n",
    "g = (mth.sqrt(w_1*w_2)*(c_g/(2*mth.sqrt((c_1+c_g)*(c_2+c_g)))))/(2*np.pi)\n",
    "\n",
    "print('g_w = %g' %g +' Hz')"
   ]
  },
  {
   "cell_type": "markdown",
   "metadata": {},
   "source": [
    "-------------------------------------------------------------------------------------------------"
   ]
  },
  {
   "cell_type": "code",
   "execution_count": 131,
   "metadata": {},
   "outputs": [
    {
     "name": "stdout",
     "output_type": "stream",
     "text": [
      "g_ver1 = 86.866 MHz\n",
      "g_ver2 = 162.527 MHz\n"
     ]
    }
   ],
   "source": [
    "from scipy.constants import h, hbar, e, epsilon_0, c\n",
    "from math import pi, sqrt\n",
    "\n",
    "E_j = 7e9 * h\n",
    "E_c = 0.29e9 * h\n",
    "w_r = 6e9*(2*pi)\n",
    "C_j = 6e-15 # junction cap, between ~ 5 and 10 fF based off 50 - 100 fF per micron^2\n",
    "C_g = 7.6e-15 #4.65e-14 # Cap gate\n",
    "C_s = 53e-15\n",
    "\n",
    "matrix_element_01 = sqrt(1/2)*(E_j/8/E_c)**(1/4)\n",
    "alpha = e**2 / (4*pi*epsilon_0*hbar*c)\n",
    "beta = C_g / (C_j + C_s + C_g)\n",
    "epsilon_r = 6.3 # check this out\n",
    "\n",
    "two_beta_e_V0rms = hbar*w_r * 4 * beta * sqrt(alpha/epsilon_r) \n",
    "g_01_ver1 = (two_beta_e_V0rms) * matrix_element_01 / hbar\n",
    "\n",
    "print(f'g_ver1 = {g_01_ver1/2/pi/1e6:.3f} MHz') # in MHz\n",
    "\n",
    "################# Using V0rms#####\n",
    "# Use this formalar for both half-wave and quarter-wave\n",
    "l = 0.0047 #0.0032# m\n",
    "C_l = 1.694e-10\n",
    "\n",
    "# V0rms = sqrt(hbar * w_r/(C_l*l))\n",
    "V0rms = sqrt(2*hbar * w_r/(C_l*l))\n",
    "g_01_ver2 = 2 * beta * e * V0rms * matrix_element_01 / hbar\n",
    "print(f'g_ver2 = {g_01_ver2/2/pi/1e6:.3f} MHz') # in MHz"
   ]
  },
  {
   "cell_type": "code",
   "execution_count": 116,
   "metadata": {
    "scrolled": true
   },
   "outputs": [
    {
     "data": {
      "text/plain": [
       "1.7419622911937345e-10"
      ]
     },
     "execution_count": 116,
     "metadata": {},
     "output_type": "execute_result"
    }
   ],
   "source": [
    "Z0 = 1/epsilon_0/c\n",
    "C_r = epsilon_r * pi/(2*w_r*Z0) # Koch\n",
    "C_r/0.008*2"
   ]
  },
  {
   "cell_type": "code",
   "execution_count": 117,
   "metadata": {},
   "outputs": [
    {
     "name": "stdout",
     "output_type": "stream",
     "text": [
      "Ec = 0.291 GHz\n"
     ]
    }
   ],
   "source": [
    "print(f'Ec = {e**2/2/(C_j+C_g+C_s)/h/1e9:.3f} GHz')"
   ]
  },
  {
   "cell_type": "code",
   "execution_count": 118,
   "metadata": {},
   "outputs": [
    {
     "data": {
      "text/plain": [
       "3.739888335921977"
      ]
     },
     "execution_count": 118,
     "metadata": {},
     "output_type": "execute_result"
    }
   ],
   "source": [
    "sqrt(8*E_j*E_c)/h/1e9 - E_c/h/1e9\n"
   ]
  },
  {
   "cell_type": "code",
   "execution_count": 194,
   "metadata": {},
   "outputs": [
    {
     "name": "stdout",
     "output_type": "stream",
     "text": [
      "epsilon_eff = 6.300\n",
      "L_k = 5.619e-08 H/m\n",
      "a, s, h, epsilon_r, t, lambda_L = (1e-05, 5e-06, 0.0005, 11.6, 1e-07, 1e-07)\n"
     ]
    }
   ],
   "source": [
    "# Ref: Schuster Ph.D thesis\n",
    "from math import sqrt, inf, pi, tanh, log\n",
    "from scipy.special import ellipk\n",
    "from scipy.constants import h, hbar, e, epsilon_0, c, mu_0\n",
    "\n",
    "a, s, h, epsilon_r = 10e-6, 5e-6, 500e-6, 11.6\n",
    "\n",
    "b = a + 2*s\n",
    "k = a / b\n",
    "k3 = tanh(pi*a/4/h) / tanh(pi*b/4/h)\n",
    "k_p = sqrt(1 - k**2)\n",
    "k3_p = sqrt(1 - k3**2)\n",
    "\n",
    "K_tilda = ellipk(k_p) * ellipk(k3) / ellipk(k) / ellipk(k3_p)\n",
    "epsilon_eff = (1 + epsilon_r * K_tilda) / (1 + K_tilda)\n",
    "\n",
    "print(f'epsilon_eff = {epsilon_eff:.3f}')\n",
    "\n",
    "#############################################\n",
    "lambda_L = 100e-9 # London penentration depth\n",
    "t = 100e-9 # thickness\n",
    "\n",
    "g_factor = 1/2/(k*ellipk(k))**2*(-log(t/4/a) + 2*(a+s)/b*log(s/(a+s)) - a/b*log(t/4/b))\n",
    "L_k = mu_0 * (lambda_L**2 / (a * t)) * g_factor\n",
    "print(f'L_k = {L_k:.3e} H/m')\n",
    "print(f'a, s, h, epsilon_r, t, lambda_L = {a, s, h, epsilon_r, t, lambda_L}')"
   ]
  },
  {
   "cell_type": "code",
   "execution_count": 15,
   "metadata": {},
   "outputs": [
    {
     "data": {
      "text/plain": [
       "2.302585092994046"
      ]
     },
     "execution_count": 15,
     "metadata": {},
     "output_type": "execute_result"
    }
   ],
   "source": [
    "from math import log\n",
    "log(10)"
   ]
  },
  {
   "cell_type": "code",
   "execution_count": 98,
   "metadata": {},
   "outputs": [
    {
     "name": "stdout",
     "output_type": "stream",
     "text": [
      "epsilon_eff = 6.300\n",
      "L_l = 4.137e-07 H/m\n",
      "C_l = 1.694e-10 F/m\n"
     ]
    }
   ],
   "source": [
    "from math import sqrt, inf, pi, sinh\n",
    "from scipy.special import ellipk\n",
    "from scipy.constants import h, hbar, e, epsilon_0, c, mu_0\n",
    "\n",
    "# Gopple\n",
    "w, s, h1, h2, epsilon_r1, epsilon_r2 = 10e-6, 5e-6, inf, 500e-6, 1, 11.6\n",
    "\n",
    "b = w + 2*s\n",
    "k0 = w / b\n",
    "k0_p = sqrt(1 - k0**2)\n",
    "\n",
    "# k1 = sinh(pi*2/4/h1) / sinh(pi*b/4/h1)\n",
    "k1=0\n",
    "k1_p = sqrt(1 - k1**2)\n",
    "k2 = sinh(pi*w/4/h2) / sinh(pi*b/4/h2)\n",
    "k2_p = sqrt(1 - k2**2)\n",
    "\n",
    "epsilon_eff = (1 \n",
    "            + (epsilon_r1 - 1)/2*ellipk(k1)*ellipk(k0_p)/ellipk(k1_p)/ellipk(k0) # This term is zero\n",
    "            + (epsilon_r2 - epsilon_r1)/2*ellipk(k2)*ellipk(k0_p)/ellipk(k2_p)/ellipk(k0)\n",
    "              )\n",
    "\n",
    "L_l = mu_0 / 4 * ellipk(k0_p)/ellipk(k0)\n",
    "C_l = 4 * epsilon_0 * epsilon_eff * ellipk(k0)/ellipk(k0_p)\n",
    "\n",
    "print(f'epsilon_eff = {epsilon_eff:.3f}')\n",
    "print(f'L_l = {L_l:.3e} H/m')\n",
    "print(f'C_l = {C_l:.3e} F/m')"
   ]
  },
  {
   "cell_type": "code",
   "execution_count": 13,
   "metadata": {},
   "outputs": [
    {
     "data": {
      "text/plain": [
       "0.0"
      ]
     },
     "execution_count": 13,
     "metadata": {},
     "output_type": "execute_result"
    }
   ],
   "source": [
    "ellipk(k1)*ellipk(k0_p)/ellipk(k1_p)/ellipk(k0)"
   ]
  },
  {
   "cell_type": "code",
   "execution_count": 14,
   "metadata": {},
   "outputs": [
    {
     "name": "stdout",
     "output_type": "stream",
     "text": [
      "1.5707963267948966, 2.4413416218996913, inf, 1.8540746773013719\n"
     ]
    }
   ],
   "source": [
    "print(f'{ellipk(k1)}, {ellipk(k0_p)}, {ellipk(k1_p)}, {ellipk(k0)}')"
   ]
  },
  {
   "cell_type": "markdown",
   "metadata": {},
   "source": [
    "How to derive $V^0_{rms}(x)$, rms voltage of zero-point energy along the 1D resonator..."
   ]
  },
  {
   "cell_type": "markdown",
   "metadata": {},
   "source": [
    "The voltage along the 1D resonator in resonance is,\n",
    "\\begin{eqnarray}\n",
    "V(x,t)=V_0\\sin\\left(\\frac{2\\pi}{\\lambda}x\\right)\\sin(\\omega_r t)\n",
    "\\end{eqnarray}\n",
    "The energe stored in capacitor segment of $dx$, $dE(t)$ is,\n",
    "\\begin{eqnarray}\n",
    "dE(t) = \\frac{V^2(x,t)}{2}C_ldx = \\frac{C_l V_0^2}{2}\\sin^2\\left(\\frac{2\\pi}{\\lambda}x\\right)\\sin^2(\\omega_r t) dx\n",
    "\\end{eqnarray}\n",
    "Integrated over length L, $E(t)$ (energy stored in the capacitor between the center conductor and GND) is,\n",
    "\\begin{eqnarray}\n",
    "E(t) = \\frac{C_l V_0^2 L}{4}\\sin^2(\\omega_r t)\n",
    "\\end{eqnarray}\n",
    "The time average of $E(t)$ over period, which is the zero-point energy of the resonator, is,\n",
    "\\begin{eqnarray}\n",
    "\\left<E(t)\\right> &\\equiv&\\frac{1}{T}\\int E(t)dt= \\frac{\\hbar\\omega_r}{2} \\\\\n",
    "&=&\\frac{C_l V_0^2 L}{8} \\\\\n",
    "\\end{eqnarray}\n",
    "Finally, \n",
    "\\begin{eqnarray}\n",
    "V_0&=&2\\sqrt{\\frac{\\hbar\\omega_r}{C_l\\cdot L}} \\\\\n",
    "V(x,t)&=&2\\sqrt{\\frac{\\hbar\\omega_r}{C_l\\cdot L}}\\sin\\left(\\frac{2\\pi}{\\lambda}x\\right)\\sin(\\omega_r t)\n",
    "\\end{eqnarray}\n",
    "\n",
    "Now the $rms$ voltage along the center conduction of 1D resonator, $V_{0,rms}(x)$ is obtained by time-average, \n",
    "\\begin{eqnarray}\n",
    "V^0_{rms}(x) &\\equiv& \\sqrt{\\frac{1}{T}\\int^T_0 V^2(x,t) dt} \\\\\n",
    "&=&\\sqrt{\\frac{2\\hbar\\omega_r}{C_l\\cdot L}}\\left|\\sin\\left(\\frac{2\\pi}{\\lambda}x\\right)\\right|\n",
    "\\end{eqnarray}\n",
    "\n",
    "So the maxium $rms$ voltage is,\n",
    "\\begin{eqnarray}\n",
    "V^0_{rms, max} = \\sqrt{\\frac{2\\hbar\\omega_r}{C_l\\cdot L}}\n",
    "\\end{eqnarray}\n",
    "\n",
    "This maximum $rms$ voltage expression is true for both half-wave and quarter-wave resonators with any harmonics.\n",
    "\n",
    "The g coupling in Koch's paper will be,\n",
    "\n",
    "\\begin{eqnarray}\n",
    "g_{i,j} &=& \\frac{2 \\beta e V^0_{rms}}{\\hbar}\\left<i|\\hat{n}|j\\right>  \\\\\n",
    "g_{j, j+1}&\\approx& \\frac{2 \\beta e V^0_{rms}}{\\hbar}\\sqrt{\\frac{j+1}{2}}\\left(\\frac{E_J}{8E_C}\\right) ^{1/4} \\\\\n",
    "\\end{eqnarray}\n",
    ",where\n",
    "\\begin{eqnarray}\n",
    "V^0_{rms,max} &=& \\sqrt{\\frac{2\\hbar\\omega_r}{C_l\\cdot L}} \\\\\n",
    "\\beta &=& \\frac{C_g}{C_g + C_j + C_s}\n",
    "\\end{eqnarray}\n",
    "\n",
    "Why there is 2 in front of $\\hbar\\omega_r$???"
   ]
  }
 ],
 "metadata": {
  "anaconda-cloud": {},
  "kernelspec": {
   "display_name": "Python 3",
   "language": "python",
   "name": "python3"
  },
  "language_info": {
   "codemirror_mode": {
    "name": "ipython",
    "version": 3
   },
   "file_extension": ".py",
   "mimetype": "text/x-python",
   "name": "python",
   "nbconvert_exporter": "python",
   "pygments_lexer": "ipython3",
   "version": "3.6.9"
  },
  "toc": {
   "base_numbering": 1,
   "nav_menu": {},
   "number_sections": true,
   "sideBar": true,
   "skip_h1_title": false,
   "title_cell": "Table of Contents",
   "title_sidebar": "Contents",
   "toc_cell": false,
   "toc_position": {},
   "toc_section_display": true,
   "toc_window_display": false
  }
 },
 "nbformat": 4,
 "nbformat_minor": 2
}
