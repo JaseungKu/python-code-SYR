{
 "cells": [
  {
   "cell_type": "markdown",
   "metadata": {},
   "source": [
    "# Estimation of cav freq vs flux"
   ]
  },
  {
   "cell_type": "code",
   "execution_count": 81,
   "metadata": {},
   "outputs": [],
   "source": [
    "import numpy as np\n",
    "import matplotlib.pyplot as plt"
   ]
  },
  {
   "cell_type": "code",
   "execution_count": 82,
   "metadata": {},
   "outputs": [
    {
     "name": "stdout",
     "output_type": "stream",
     "text": [
      "Using matplotlib backend: TkAgg\n"
     ]
    }
   ],
   "source": [
    "%matplotlib\n",
    "flux = np.linspace(-1.3,0.78,1001) # unit of Phi_0\n",
    "bareCavFreq = 5.72 # in GHz\n",
    "g = 0.090  # in GHz\n",
    "Ec = 0.3 # in GHz by shunt capacitance\n",
    "Ej_ratio = 1. # ratio of Ej1/Ej2 > 1\n",
    "d = (Ej_ratio - 1)/(Ej_ratio + 1)\n",
    "Ej = 17  # in GHz, total Ej\n",
    "\n",
    "def qFreqAsymTranmon(Ec, Ej,d, flux): \n",
    "    Ej_f = Ej * np.abs(np.cos(np.pi * flux)) * np.sqrt(1 + d**2 * np.tan(np.pi * flux)**2)\n",
    "    return np.sqrt(8 * Ej_f * Ec) - Ec # in GHz\n",
    "\n",
    "qFreq = qFreqAsymTranmon(Ec, Ej, d, flux)\n",
    "delta = g**2 / (bareCavFreq - qFreq)\n",
    "cav_dressed = bareCavFreq + delta\n",
    "\n",
    "fig, (ax1, ax2) = plt.subplots(ncols=1, nrows=2, figsize=(10,10))\n",
    "\n",
    "ax1.plot(flux, cav_dressed)\n",
    "ax1.plot(flux, bareCavFreq*np.ones(len(flux)))\n",
    "ax1.set_ylabel('Cav freq (GHz)')\n",
    "ax1.grid('on')\n",
    "ax1.set_ylim(5.715, 5.78)\n",
    "\n",
    "ax2.plot(flux, qFreq)\n",
    "ax2.plot(flux, bareCavFreq*np.ones(len(flux)))\n",
    "ax2.set_ylabel('qubit freq (GHz)')\n",
    "ax2.set_xlabel('flux, f')\n",
    "ax2.grid('on')"
   ]
  },
  {
   "cell_type": "code",
   "execution_count": null,
   "metadata": {},
   "outputs": [],
   "source": []
  }
 ],
 "metadata": {
  "kernelspec": {
   "display_name": "Python 3",
   "language": "python",
   "name": "python3"
  },
  "language_info": {
   "codemirror_mode": {
    "name": "ipython",
    "version": 3
   },
   "file_extension": ".py",
   "mimetype": "text/x-python",
   "name": "python",
   "nbconvert_exporter": "python",
   "pygments_lexer": "ipython3",
   "version": "3.6.8"
  },
  "toc": {
   "base_numbering": 1,
   "nav_menu": {},
   "number_sections": true,
   "sideBar": true,
   "skip_h1_title": false,
   "title_cell": "Table of Contents",
   "title_sidebar": "Contents",
   "toc_cell": false,
   "toc_position": {},
   "toc_section_display": true,
   "toc_window_display": false
  }
 },
 "nbformat": 4,
 "nbformat_minor": 2
}
