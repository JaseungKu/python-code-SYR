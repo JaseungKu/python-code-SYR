{
 "cells": [
  {
   "cell_type": "markdown",
   "metadata": {},
   "source": [
    "Requirement for charge bias line\n",
    "1. proper voltage range, a few period of 2e is fine. \n",
    "2. minimum voltage noise at chip level \n",
    "    - reduce bandwidth : use LPF filters like mini-circuit and Eccosorb\n",
    "    - voltage divider : to reduce both signal and noise and to get desired voltage resolution\n",
    "3. power dissipation on attenuator needs to be lower than cooling power of each temperature stage."
   ]
  },
  {
   "cell_type": "markdown",
   "metadata": {},
   "source": [
    "# Functions and notations"
   ]
  },
  {
   "cell_type": "code",
   "execution_count": 85,
   "metadata": {},
   "outputs": [],
   "source": [
    "import numpy as np\n",
    "from scipy.constants import h,e,hbar,k\n",
    "\n",
    "# Vp=voltage amplitude, Vpp=2*Vp\n",
    "dBm_to_W = lambda x: pow(10, x/10) * 1e-3\n",
    "dBm_to_Vp = lambda x: np.sqrt(dBm_to_W(x)*50)*np.sqrt(2)\n",
    "Vp_to_dBm = lambda x: 10*np.log10(x**2/50/2/1e-3) \n",
    "\n",
    "# class Attenuator(object):\n",
    "#     def __init__(self, att_in_dB):\n",
    "#         self.att = att_in_dB\n",
    "    \n",
    "def att_power_dissipated(Pin_dBm=0, Att_dB=0):\n",
    "    \"\"\" power dissipated on attenuator in Watt\n",
    "        Args:\n",
    "            Pin_dBm : input power in dBm\n",
    "            Att_dB: attenuation value >= 0\n",
    "        Return:\n",
    "            Power dissipation in Watt\n",
    "        \"\"\"\n",
    "\n",
    "    P_dissipated = dBm_to_W(Pin_dBm) - dBm_to_W(Pin_dBm-Att_dB) # in Watt\n",
    "\n",
    "    return P_dissipated"
   ]
  },
  {
   "cell_type": "markdown",
   "metadata": {},
   "source": [
    "# Attenuation for microwave line to bias-T for RF-driving JJ"
   ]
  },
  {
   "cell_type": "code",
   "execution_count": 83,
   "metadata": {
    "collapsed": true
   },
   "outputs": [
    {
     "name": "stdout",
     "output_type": "stream",
     "text": [
      "|V_Th| = 4.750e-03 V\n",
      "|V_source=V_Th/2| = 2.375e-03 V\n"
     ]
    }
   ],
   "source": [
    "# calculate total attenuation need to reach Ic\n",
    "# Model: Thevnin voltage source (V_Th) and RLC circuit in series.\n",
    "# Thevnin-equivalent circuit provides V_Th with 50 Ohm output impedance. The load connected bewteen\n",
    "# 50 ohm and gnd is a charge bias capacitor and Josephson inductor in series. \n",
    "\n",
    "import matplotlib.pyplot as plt\n",
    "import numpy as np\n",
    "\n",
    "C_bias = 0.1e-15\n",
    "Lj = 22e-9 \n",
    "omega =  5e9 * 2 * np.pi\n",
    "ZL = 1j*omega*Lj\n",
    "ZC = 1/(1j*omega*C_bias)\n",
    "Ic = 15e-9 # critical current\n",
    "\n",
    "# What Thevonin voltage V_Th is required to get Ic on L\n",
    "V_Th = Ic * (50+ ZL + ZC)\n",
    "print(f'|V_Th| = {np.absolute(V_Th):.3e} V')\n",
    "print(f'|V_source=V_Th/2| = {np.absolute(V_Th/2):.3e} V')\n"
   ]
  },
  {
   "cell_type": "code",
   "execution_count": 3,
   "metadata": {},
   "outputs": [
    {
     "name": "stdout",
     "output_type": "stream",
     "text": [
      "|Vout| = 2.512e-03 V\n"
     ]
    }
   ],
   "source": [
    "Att = 42 # dB\n",
    "Pin = 0 # in dBm\n",
    "Pout = Pin - Att\n",
    "# Vin = 1   # 1Vp = 10dBm\n",
    "# Vout = Vin * pow(10, -(Att/20))\n",
    "Vout = dBm_to_Vp(Pout)\n",
    "print(f'|Vout| = {Vout:.3e} V')\n",
    "\n",
    "# 20 dB at 4K, 3dB still, 10 dB at MC"
   ]
  },
  {
   "cell_type": "code",
   "execution_count": 4,
   "metadata": {},
   "outputs": [
    {
     "name": "stdout",
     "output_type": "stream",
     "text": [
      "ZL = 691.150j Ohm, ZC = -318309.886j Ohm\n"
     ]
    }
   ],
   "source": [
    "print(f'ZL = {ZL.imag:.3f}j Ohm, ZC = {ZC.imag:.3f}j Ohm')"
   ]
  },
  {
   "cell_type": "markdown",
   "metadata": {},
   "source": [
    "# Attenuation for DC line to bias-T"
   ]
  },
  {
   "cell_type": "code",
   "execution_count": 80,
   "metadata": {},
   "outputs": [
    {
     "name": "stdout",
     "output_type": "stream",
     "text": [
      "T-attenuator\n",
      "Vin = 5.100e-02 V\n",
      "Vout = 5.099e-03 V\n",
      "Vout_resol = 9.999e-05 V\n",
      "Vout/Vin ratio = 0.100\n",
      "Power dissipated = 5.176e-05 W\n"
     ]
    }
   ],
   "source": [
    "# attenuation for DC\n",
    "# With open load to a attunator, power dissipation and voltage division are the same for T and Pi type\n",
    "# https://www.microwaves101.com/calculators/858-attenuator-calculator\n",
    "\n",
    "# For T-type attenuator\n",
    "Vin = 0.051 # Vp in volt\n",
    "V_resol = 1e-3\n",
    "dB = 26 # attenation in dB\n",
    "\n",
    "Z0 = 50\n",
    "R1 = Z0 * ((10**(dB / 20) - 1) / (10**(dB / 20) + 1))\n",
    "R2 = 2 * Z0 * (10**(dB / 20) / (10**(dB / 10) - 1))\n",
    "\n",
    "V_ratio = R2 / (R1 + R2)\n",
    "Vout = Vin * V_ratio\n",
    "Vout_resol = V_resol * V_ratio\n",
    "P_diss = Vin**2/ (R1+R2)\n",
    "\n",
    "print('T-attenuator')\n",
    "print(f'Vin = {Vin:.3e} V')\n",
    "print(f'Vout = {Vout:.3e} V')\n",
    "print(f'Vout_resol = {Vout_resol:.3e} V')\n",
    "print(f'Vout/Vin ratio = {Vout/Vin:.3f}')\n",
    "print(f'Power dissipated = {P_diss:.3e} W')"
   ]
  },
  {
   "cell_type": "code",
   "execution_count": 81,
   "metadata": {},
   "outputs": [
    {
     "data": {
      "text/plain": [
       "-42.46846085886976"
      ]
     },
     "execution_count": 81,
     "metadata": {},
     "output_type": "execute_result"
    }
   ],
   "source": [
    "Vp_to_dBm(2.38e-3)"
   ]
  },
  {
   "cell_type": "code",
   "execution_count": 92,
   "metadata": {},
   "outputs": [
    {
     "name": "stdout",
     "output_type": "stream",
     "text": [
      "V_rms = 1.151e-06 V\n"
     ]
    }
   ],
   "source": [
    "# noise voltage\n",
    "T = 4\n",
    "B= 100e6\n",
    "R=60\n",
    "\n",
    "V_rms = np.sqrt(4*k*B*T*R)\n",
    "print(f'V_rms = {V_rms:.3e} V')\n"
   ]
  },
  {
   "cell_type": "code",
   "execution_count": null,
   "metadata": {},
   "outputs": [],
   "source": []
  }
 ],
 "metadata": {
  "kernelspec": {
   "display_name": "Python 3",
   "language": "python",
   "name": "python3"
  },
  "language_info": {
   "codemirror_mode": {
    "name": "ipython",
    "version": 3
   },
   "file_extension": ".py",
   "mimetype": "text/x-python",
   "name": "python",
   "nbconvert_exporter": "python",
   "pygments_lexer": "ipython3",
   "version": "3.8.2"
  },
  "toc": {
   "base_numbering": 1,
   "nav_menu": {},
   "number_sections": true,
   "sideBar": true,
   "skip_h1_title": false,
   "title_cell": "Table of Contents",
   "title_sidebar": "Contents",
   "toc_cell": false,
   "toc_position": {},
   "toc_section_display": true,
   "toc_window_display": true
  }
 },
 "nbformat": 4,
 "nbformat_minor": 4
}
