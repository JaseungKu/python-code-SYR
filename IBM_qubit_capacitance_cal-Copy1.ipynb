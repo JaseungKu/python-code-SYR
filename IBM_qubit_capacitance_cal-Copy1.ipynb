{
 "cells": [
  {
   "cell_type": "code",
   "execution_count": 1,
   "metadata": {},
   "outputs": [],
   "source": [
    "import numpy as np\n",
    "from scipy import linalg\n",
    "import matplotlib.pyplot as plt"
   ]
  },
  {
   "cell_type": "markdown",
   "metadata": {},
   "source": [
    "# function def."
   ]
  },
  {
   "cell_type": "code",
   "execution_count": 455,
   "metadata": {
    "code_folding": [
     22,
     94
    ]
   },
   "outputs": [],
   "source": [
    "def update_mutual_capacitance(Maxwell_cap_matrix,conductor1_index, conductor2_index, new_cap):\n",
    "    \"\"\"\n",
    "    Args:\n",
    "        Maxwell_cap_matrix: Maxwell capacitance matrix from Q3D\n",
    "        conductor1_index : index of conductor 1\n",
    "        conductor2_index : index of conductor 2\n",
    "        new_cap : new capacitance for replacement\n",
    "    \"\"\"\n",
    "    \n",
    "    if conductor1_index == conductor2_index:\n",
    "        raise('Error. First and second conductor index must be different!')\n",
    "    \n",
    "    M = np.copy(Maxwell_cap_matrix)\n",
    "    \n",
    "    M[conductor1_index, conductor2_index] = -new_cap\n",
    "    M[conductor2_index, conductor1_index] = -new_cap\n",
    "    \n",
    "    for i in range(M.shape[0]):\n",
    "        M[i,i] = -(np.sum(M[i,:]) - M[i,i])\n",
    "        \n",
    "    return M\n",
    "\n",
    "def calculate_qubit_2bus_1read_equiv_cap(C_M, index):\n",
    "    \"\"\"\n",
    "    Calculate effective shunt and coupling capacitance.\n",
    "    Arg:\n",
    "        C_M : Maxewll capacitance matrix\n",
    "        index : index of each conductor in C_M, starting from 0\n",
    "    Return:\n",
    "        Tuple of effective bus, readout and shunt capacitance\n",
    "    \"\"\"\n",
    "    index_bus1 = index['bus1']\n",
    "    index_bus2 = index['bus2']\n",
    "    index_gnd = index['gnd']\n",
    "    index_island1 = index['island1']\n",
    "    index_island2 = index['island2']\n",
    "    index_read = index['read']\n",
    "    \n",
    "    NUM_CONDUCTOR = C_M.shape[0]\n",
    "    \n",
    "    # find beta_bus1, beta_bus2 and beta_readout\n",
    "    #, where beta_bus1 = C_bus1/C_sigma \n",
    "    # and C_sigma = C_bus1 + C_bus2 + C_read + C_shunt\n",
    "\n",
    "    C_M_1 = np.zeros((NUM_CONDUCTOR, NUM_CONDUCTOR))\n",
    "    C_M_1[:, index_island1] = C_M[:, index_island1]\n",
    "    C_M_1[:, index_island2] = C_M[:, index_island2]\n",
    "    C_M_1[index_bus1, index_bus1] = -1\n",
    "    C_M_1[index_bus2, index_bus2] = -1\n",
    "    C_M_1[index_gnd, index_gnd] = -1\n",
    "    C_M_1[index_read, index_read] = -1\n",
    "\n",
    "    b1 = np.linalg.solve(C_M_1, -C_M[:, index_bus1])\n",
    "    beta_bus1 = b1[index_island1] - b1[index_island2]\n",
    "\n",
    "    b2 = np.linalg.solve(C_M_1, -C_M[:, index_bus2])\n",
    "    beta_bus2 = b2[index_island1] - b2[index_island2]\n",
    "    \n",
    "    r = np.linalg.solve(C_M_1, -C_M[:, index_read])\n",
    "    beta_read = r[index_island1] - r[index_island2]\n",
    "    \n",
    "    # Find C_sigma\n",
    "    # V_island1 - V_island2 = 1, Eq.1\n",
    "    # Q_island1 + Q_island2 = 0, Eq.2\n",
    "    # From Eq1 and Eq2, find V_island1 and V_island2 \n",
    "\n",
    "    A = np.array([[1, -1],\n",
    "                 [C_M[index_island1, index_island1]+C_M[index_island2, index_island1]\n",
    "                  , C_M[index_island1, index_island2]+C_M[index_island2, index_island2]]])\n",
    "\n",
    "    b = np.array([[1]\n",
    "                  ,[0]])\n",
    "    V = np.linalg.solve(A, b)  # A*V = b, solve for V[0]=V_island1, V[1]=V_island2\n",
    "\n",
    "    V0 = np.zeros(NUM_CONDUCTOR)\n",
    "    V0[index_island1] = V[0]\n",
    "    V0[index_island2] = V[1]\n",
    "\n",
    "    Q = C_M.dot(V0)\n",
    "    C_sigma = np.dot(Q, V0)\n",
    "      \n",
    "    # find C_bus1, C_bus2, C_read and C_shunt\n",
    "    A = np.array([[beta_bus1-1, beta_bus1, beta_bus1, beta_bus1]\n",
    "                  ,[beta_bus2, beta_bus2-1, beta_bus2, beta_bus2]\n",
    "                ,[beta_read, beta_read, beta_read-1, beta_read]  \n",
    "                ,[1, 1, 1, 1]])\n",
    "    b = np.array([[0]\n",
    "                  ,[0]\n",
    "                  ,[0]\n",
    "                 ,[C_sigma]])\n",
    "    c = np.linalg.solve(A, b)\n",
    "    \n",
    "    return c\n",
    "\n",
    "def print_result_2bus_1read(c):\n",
    "    c = np.ndarray.flatten(c)\n",
    "    print(f'C_bus1 = {c[0]:.3f} fF\\n' \n",
    "         + f'C_bus2 = {c[1]:.3f} fF\\n' \n",
    "         + f'C_read = {c[2]:.3f} fF\\n'\n",
    "         + f'C_shunt = {c[3]:.3f} fF')\n",
    "\n",
    "def calculate_qubit_1bus_1read_equiv_cap(C_M, index):\n",
    "    \"\"\"\n",
    "    Calculate effective shunt and coupling capacitance.\n",
    "    Arg:\n",
    "        C_M : Maxewll capacitance matrix\n",
    "        index : index of each conductor in C_M, starting from 0\n",
    "    Return:\n",
    "        Tuple of effective bus, readout and shunt capacitance\n",
    "    \"\"\"\n",
    "    index_bus1 = index['bus1']\n",
    "    index_gnd = index['gnd']\n",
    "    index_island1 = index['island1']\n",
    "    index_island2 = index['island2']\n",
    "    index_read = index['read']\n",
    "    \n",
    "    NUM_CONDUCTOR = C_M.shape[0]\n",
    "    \n",
    "    C_M_1 = np.zeros((NUM_CONDUCTOR, NUM_CONDUCTOR))\n",
    "    C_M_1[:, index_island1] = C_M[:, index_island1]\n",
    "    C_M_1[:, index_island2] = C_M[:, index_island2]\n",
    "    C_M_1[index_bus1, index_bus1] = -1\n",
    "    C_M_1[index_gnd, index_gnd] = -1\n",
    "    C_M_1[index_read, index_read] = -1\n",
    "\n",
    "    b1 = np.linalg.solve(C_M_1, -C_M[:, index_bus1])\n",
    "    beta_bus1 = b1[index_island1] - b1[index_island2]\n",
    "\n",
    "    r = np.linalg.solve(C_M_1, -C_M[:, index_read])\n",
    "    beta_read = r[index_island1] - r[index_island2]\n",
    "    \n",
    "    # Find C_sigma\n",
    "    # V_island1 - V_island2 = 1, Eq.1\n",
    "    # Q_island1 + Q_island2 = 0, Eq.2\n",
    "    # From Eq1 and Eq2, find V_island1 and V_island2 \n",
    "\n",
    "    A = np.array([[1, -1],\n",
    "                 [C_M[index_island1, index_island1]+C_M[index_island2, index_island1]\n",
    "                  , C_M[index_island1, index_island2]+C_M[index_island2, index_island2]]])\n",
    "\n",
    "    b = np.array([[1]\n",
    "                  ,[0]])\n",
    "    V = np.linalg.solve(A, b)  # A*V = b, solve for V[0]=V_island1, V[1]=V_island2\n",
    "\n",
    "    V0 = np.zeros(NUM_CONDUCTOR)\n",
    "    V0[index_island1] = V[0]\n",
    "    V0[index_island2] = V[1]\n",
    "\n",
    "    Q = C_M.dot(V0)\n",
    "    C_sigma = np.dot(Q, V0)\n",
    "    print(f'C_sigma from charging energy = {C_sigma:.3f}')\n",
    "    \n",
    "    # find C_bus1, C_read and C_shunt\n",
    "    A = np.array([[beta_bus1-1, beta_bus1, beta_bus1]\n",
    "                ,[beta_read,  beta_read-1, beta_read]  \n",
    "                ,[1, 1, 1]])\n",
    "    b = np.array([[0]\n",
    "                  ,[0]\n",
    "                 ,[C_sigma]])\n",
    "    c = np.linalg.solve(A, b)\n",
    "    c = np.append(c, np.array([C_sigma, beta_bus1, beta_read]))\n",
    "    \n",
    "    return c\n",
    "\n",
    "def print_result_1bus_1read(c):\n",
    "    c = np.ndarray.flatten(c)\n",
    "    print(f'C_bus1 = {c[0]:.3f} fF\\n' \n",
    "         + f'C_read = {c[1]:.3f} fF\\n'\n",
    "         + f'C_shunt = {c[2]:.3f} fF\\n'\n",
    "         + f'C_sigma = {c[3]:.3f} fF\\n'\n",
    "         + f'beta_bus1 = {c[4]:.3f}\\n'\n",
    "         + f'beta_read = {c[5]:.3f}')"
   ]
  },
  {
   "cell_type": "markdown",
   "metadata": {},
   "source": [
    "# 2-bus, 1-readout"
   ]
  },
  {
   "cell_type": "code",
   "execution_count": 64,
   "metadata": {},
   "outputs": [],
   "source": [
    "C_M = np.array([[107.94,   -0.072728, -96.56, -0.72528, -9.7239,-0.041219]\n",
    "               ,[-0.072728, 107.72, -95.966, -0.72699, -9.5856, -0.041242]\n",
    "               ,[-96.56,   -95.966, 586.48,  -59.967, -55.133, -95.917]\n",
    "               ,[-0.72528, -0.72699, -59.967, 92.027,  -23.543,   -7.0491]\n",
    "               ,[-9.7239, -9.5856,-55.133, -23.543, 98.962,-0.61872]\n",
    "               ,[-0.041219,-0.041242, -95.917,   -7.0491, -0.61872, 103.03]\n",
    "              ]) \n",
    "\n",
    "# index dictionary of conductors in input Maxwell capacitance matrix\n",
    "conductor_index = { 'gnd' : 2\n",
    "                   , 'island1' : 3\n",
    "                   , 'island2' : 4\n",
    "                   , 'bus1' : 0\n",
    "                   , 'bus2' :1\n",
    "                   , 'read' : 5\n",
    "                  }"
   ]
  },
  {
   "cell_type": "code",
   "execution_count": 69,
   "metadata": {},
   "outputs": [
    {
     "name": "stdout",
     "output_type": "stream",
     "text": [
      "C_bus1 = 4.248 fF\n",
      "C_bus2 = 4.181 fF\n",
      "C_read = -3.400 fF\n",
      "C_shunt = 54.407 fF\n"
     ]
    }
   ],
   "source": [
    "result_2bus_1read = calculate_qubit_2bus_1read_equiv_cap(C_M, conductor_index)\n",
    "print_result_2bus_1read(result_2bus_1read)"
   ]
  },
  {
   "cell_type": "code",
   "execution_count": 74,
   "metadata": {},
   "outputs": [],
   "source": [
    "C_M = update_mutual_capacitance(C_M,2,3,80)"
   ]
  },
  {
   "cell_type": "code",
   "execution_count": 78,
   "metadata": {},
   "outputs": [
    {
     "name": "stdout",
     "output_type": "stream",
     "text": [
      "C_bus1 = -4.929 fF\n",
      "C_bus2 = -4.853 fF\n",
      "C_read = 2.900 fF\n",
      "C_shunt = 71.039 fF\n",
      "64.15754886396333\n"
     ]
    }
   ],
   "source": [
    "conductor_index = { 'gnd' : 2\n",
    "                   , 'island1' : 3\n",
    "                   , 'island2' : 4\n",
    "                   , 'bus1' : 0\n",
    "                   , 'bus2' :1\n",
    "                   , 'read' : 5\n",
    "                  }\n",
    "result_2bus_1read = calculate_qubit_2bus_1read_equiv_cap(C_M, conductor_index)\n",
    "print_result_2bus_1read(result_2bus_1read)\n",
    "print(np.sum(result_2bus_1read))"
   ]
  },
  {
   "cell_type": "code",
   "execution_count": 79,
   "metadata": {},
   "outputs": [
    {
     "name": "stdout",
     "output_type": "stream",
     "text": [
      "C_bus1 = 4.929 fF\n",
      "C_bus2 = 4.853 fF\n",
      "C_read = -2.900 fF\n",
      "C_shunt = 57.276 fF\n",
      "64.1575488639633\n"
     ]
    }
   ],
   "source": [
    "conductor_index = { 'gnd' : 2\n",
    "                   , 'island1' : 4\n",
    "                   , 'island2' : 3\n",
    "                   , 'bus1' : 0\n",
    "                   , 'bus2' :1\n",
    "                   , 'read' : 5\n",
    "                  }\n",
    "result_2bus_1read = calculate_qubit_2bus_1read_equiv_cap(C_M, conductor_index)\n",
    "print_result_2bus_1read(result_2bus_1read)\n",
    "print(np.sum(result_2bus_1read))"
   ]
  },
  {
   "cell_type": "markdown",
   "metadata": {},
   "source": [
    "# 1-bus, 1-readout"
   ]
  },
  {
   "cell_type": "code",
   "execution_count": 5,
   "metadata": {},
   "outputs": [],
   "source": [
    "C_M = np.array([[107.94, -96.56, -0.72528, -9.7239,-0.041219]\n",
    "               ,[-96.56, 586.48,  -59.967, -55.133, -95.917]\n",
    "               ,[-0.72528, -59.967, 92.027,  -23.543,   -7.0491]\n",
    "               ,[-9.7239, -55.133, -23.543, 98.962,-0.61872]\n",
    "               ,[-0.041219, -95.917,   -7.0491, -0.61872, 103.03]\n",
    "              ])\n",
    "\n",
    "# index dictionary of conductors in input Maxwell capacitance matrix\n",
    "conductor_index = { 'gnd' : 1\n",
    "                   , 'island1' : 2\n",
    "                   , 'island2' : 3\n",
    "                   , 'bus1' : 0\n",
    "                   , 'read' : 4\n",
    "                  }"
   ]
  },
  {
   "cell_type": "code",
   "execution_count": 6,
   "metadata": {},
   "outputs": [
    {
     "name": "stdout",
     "output_type": "stream",
     "text": [
      "C_bus1 = -4.248 fF\n",
      "C_read = 3.400 fF\n",
      "C_shunt = 60.283 fF\n"
     ]
    }
   ],
   "source": [
    "cap_result = calculate_qubit_1bus_1read_equiv_cap(C_M, conductor_index)\n",
    "print_result(cap_result)"
   ]
  },
  {
   "cell_type": "code",
   "execution_count": 7,
   "metadata": {
    "scrolled": true
   },
   "outputs": [
    {
     "name": "stdout",
     "output_type": "stream",
     "text": [
      "C_bus1 = -19.081 fF\n",
      "C_read = 4.055 fF\n",
      "C_shunt = 79.860 fF\n"
     ]
    }
   ],
   "source": [
    "C_M_1 = update_mutual_capacitance(C_M, 0, 3, 50)\n",
    "cap_result1 = calculate_qubit_1bus_1read_equiv_cap(C_M_1, conductor_index)\n",
    "print_result(cap_result1)"
   ]
  },
  {
   "cell_type": "code",
   "execution_count": 8,
   "metadata": {},
   "outputs": [
    {
     "data": {
      "text/plain": [
       "122.6582117411505"
      ]
     },
     "execution_count": 8,
     "metadata": {},
     "output_type": "execute_result"
    }
   ],
   "source": [
    "7e-15/2*np.sqrt(6.26e9*5.05e9/55e-15/468e-15)/1e6"
   ]
  },
  {
   "cell_type": "markdown",
   "metadata": {},
   "source": [
    "# ZZ gate, qubit "
   ]
  },
  {
   "cell_type": "code",
   "execution_count": 9,
   "metadata": {
    "code_folding": [
     0
    ]
   },
   "outputs": [],
   "source": [
    "C_M = np.array([[143.07500,-87.36528,-2.23553,-52.84648,-0.23655]\n",
    "               ,[-87.36528,294.22820,-40.74111,-46.17334,-77.96845]\n",
    "               ,[-2.23553,-40.74111,67.58779,-15.71175,-7.76007]\n",
    "               ,[-52.84648,-46.17334,-15.71175,118.06270,-0.89528]\n",
    "               ,[-0.23655,-77.96845,-7.76007,-0.89528,86.86034]\n",
    "              ])\n",
    "C_M_N4 = np.array([[105.30560,-79.80541,-1.58229,-23.78888,-0.09290]\n",
    "                   ,[-79.80541,326.48530,-62.62674,-57.28538,-70.37290]\n",
    "                   ,[-1.58229,-62.62674,100.41100,-26.05792,-8.15522]\n",
    "                   ,[-23.78888,-57.28538,-26.05792,110.20110,-0.72336]\n",
    "                   ,[-0.09290,-70.37290,-8.15522,-0.72336,79.40180]\n",
    "                  ])\n",
    "\n",
    "C_M_N5 = np.array([[119.07130,-84.60930,-2.05832,-32.15181,-0.11997]\n",
    "                  ,[-84.60930,326.59040,-62.31408,-54.56391,-70.06300]\n",
    "                  ,[-2.05832,-62.31408,100.36980,-25.74456,-8.16695]\n",
    "                  ,[-32.15181,-54.56391,-25.74456,115.51110,-0.70659]\n",
    "                  ,[-0.11997,-70.06300,-8.16695,-0.70659,79.16525]\n",
    "                  ])\n",
    "\n",
    "# index dictionary of conductors in input Maxwell capacitance matrix\n",
    "conductor_index = { 'gnd' : 1\n",
    "                   , 'island1' : 2\n",
    "                   , 'island2' : 3\n",
    "                   , 'bus1' : 0\n",
    "                   , 'read' : 4\n",
    "                  }"
   ]
  },
  {
   "cell_type": "code",
   "execution_count": 10,
   "metadata": {},
   "outputs": [
    {
     "name": "stdout",
     "output_type": "stream",
     "text": [
      "C_bus1 = -16.292 fF\n",
      "C_read = 4.849 fF\n",
      "C_shunt = 61.582 fF\n"
     ]
    }
   ],
   "source": [
    "cap_result = calculate_qubit_1bus_1read_equiv_cap(C_M, conductor_index)\n",
    "print_result(cap_result)"
   ]
  },
  {
   "cell_type": "code",
   "execution_count": 11,
   "metadata": {},
   "outputs": [
    {
     "name": "stdout",
     "output_type": "stream",
     "text": [
      "C_bus1 = -10.320 fF\n",
      "C_read = 3.990 fF\n",
      "C_shunt = 71.860 fF\n"
     ]
    }
   ],
   "source": [
    "cap_result_N4 = calculate_qubit_1bus_1read_equiv_cap(C_M_N4, conductor_index)\n",
    "print_result(cap_result_N4)"
   ]
  },
  {
   "cell_type": "code",
   "execution_count": 12,
   "metadata": {},
   "outputs": [
    {
     "name": "stdout",
     "output_type": "stream",
     "text": [
      "C_bus1 = -13.471 fF\n",
      "C_read = 4.139 fF\n",
      "C_shunt = 75.826 fF\n"
     ]
    }
   ],
   "source": [
    "cap_result_N5 = calculate_qubit_1bus_1read_equiv_cap(C_M_N5, conductor_index)\n",
    "print_result(cap_result_N5)"
   ]
  },
  {
   "cell_type": "code",
   "execution_count": 13,
   "metadata": {},
   "outputs": [],
   "source": [
    "import transmonCPW\n",
    "from scipy.constants import h,e,k"
   ]
  },
  {
   "cell_type": "code",
   "execution_count": 14,
   "metadata": {},
   "outputs": [],
   "source": [
    "Ec = e**2/2/75.82e-15/h/1e9\n",
    "q = transmonCPW.Transmon.in_GHz(20, Ec)"
   ]
  },
  {
   "cell_type": "code",
   "execution_count": 15,
   "metadata": {},
   "outputs": [
    {
     "data": {
      "text/plain": [
       "0.2554765144691573"
      ]
     },
     "execution_count": 15,
     "metadata": {},
     "output_type": "execute_result"
    }
   ],
   "source": [
    "Ec"
   ]
  },
  {
   "cell_type": "code",
   "execution_count": 16,
   "metadata": {},
   "outputs": [
    {
     "data": {
      "text/plain": [
       "-283.83999835346816"
      ]
     },
     "execution_count": 16,
     "metadata": {},
     "output_type": "execute_result"
    }
   ],
   "source": [
    "q.anharmonicity/1e6"
   ]
  },
  {
   "cell_type": "code",
   "execution_count": 17,
   "metadata": {},
   "outputs": [
    {
     "data": {
      "text/plain": [
       "6126.509351275784"
      ]
     },
     "execution_count": 17,
     "metadata": {},
     "output_type": "execute_result"
    }
   ],
   "source": [
    "q.f01/1e6"
   ]
  },
  {
   "cell_type": "code",
   "execution_count": 18,
   "metadata": {},
   "outputs": [
    {
     "data": {
      "text/plain": [
       "78.28508245290986"
      ]
     },
     "execution_count": 18,
     "metadata": {},
     "output_type": "execute_result"
    }
   ],
   "source": [
    "q.Ej_to_Ec_ratio"
   ]
  },
  {
   "cell_type": "code",
   "execution_count": 19,
   "metadata": {},
   "outputs": [
    {
     "data": {
      "text/plain": [
       "2361.203378677368"
      ]
     },
     "execution_count": 19,
     "metadata": {},
     "output_type": "execute_result"
    }
   ],
   "source": [
    "q.charge_dispersion"
   ]
  },
  {
   "cell_type": "code",
   "execution_count": 255,
   "metadata": {
    "code_folding": [
     0
    ]
   },
   "outputs": [],
   "source": [
    "def calculate_qubit_2bus_1read_equiv_cap(C_M, index):\n",
    "    \"\"\"\n",
    "    Calculate effective shunt and coupling capacitance.\n",
    "    Arg:\n",
    "        C_M : Maxewll capacitance matrix\n",
    "        index : index of each conductor in C_M, starting from 0\n",
    "    Return:\n",
    "        Tuple of effective bus, readout and shunt capacitance\n",
    "    \"\"\"\n",
    "    index_bus1 = index['bus1']\n",
    "    index_bus2 = index['bus2']\n",
    "    index_gnd = index['gnd']\n",
    "    index_island1 = index['island1']\n",
    "    index_island2 = index['island2']\n",
    "    index_read = index['read']\n",
    "    \n",
    "    NUM_CONDUCTOR = C_M.shape[0]\n",
    "    \n",
    "    # find beta_bus1, beta_bus2 and beta_readout\n",
    "    #, where beta_bus1 = C_bus1/C_sigma \n",
    "    # and C_sigma = C_bus1 + C_bus2 + C_read + C_shunt\n",
    "\n",
    "    C_M_1 = np.zeros((NUM_CONDUCTOR, NUM_CONDUCTOR))\n",
    "    C_M_1[:, index_island1] = C_M[:, index_island1]\n",
    "    C_M_1[:, index_island2] = C_M[:, index_island2]\n",
    "    C_M_1[index_bus1, index_bus1] = -1\n",
    "    C_M_1[index_bus2, index_bus2] = -1\n",
    "    C_M_1[index_gnd, index_gnd] = -1\n",
    "    C_M_1[index_read, index_read] = -1\n",
    "\n",
    "    b1 = np.linalg.solve(C_M_1, -C_M[:, index_bus1])\n",
    "    beta_bus1 = b1[index_island1] - b1[index_island2]\n",
    "    \n",
    "    b2 = np.linalg.solve(C_M_1, -C_M[:, index_bus2])\n",
    "    beta_bus2 = b2[index_island1] - b2[index_island2]\n",
    "    \n",
    "    r = np.linalg.solve(C_M_1, -C_M[:, index_read])\n",
    "    beta_read = r[index_island1] - r[index_island2]\n",
    "    print(beta_bus1, beta_bus2, beta_read)\n",
    "    \n",
    "    # Find C_sigma\n",
    "    # V_island1 - V_island2 = 1, Eq.1\n",
    "    # Q_island1 + Q_island2 = 0, Eq.2\n",
    "    # From Eq1 and Eq2, find V_island1 and V_island2 \n",
    "\n",
    "    A = np.array([[1, -1],\n",
    "                 [C_M[index_island1, index_island1]+C_M[index_island2, index_island1]\n",
    "                  , C_M[index_island1, index_island2]+C_M[index_island2, index_island2]]])\n",
    "    print(A)\n",
    "    b = np.array([[1]\n",
    "                  ,[0]])\n",
    "    V = np.linalg.solve(A, b)  # A*V = b, solve for V[0]=V_island1, V[1]=V_island2\n",
    "\n",
    "    V0 = np.zeros(NUM_CONDUCTOR)\n",
    "    V0[index_island1] = V[0]\n",
    "    V0[index_island2] = V[1]\n",
    "    print(V0)\n",
    "    \n",
    "#     Q = C_M.dot(V0)\n",
    "#     print(Q)\n",
    "#     C_sigma = np.dot(Q, V0)\n",
    "    summ = 0\n",
    "    for i in range(6):\n",
    "        for j in range(6):\n",
    "            if i<j:\n",
    "                summ = summ +  1/2*(-C_M[i,j])*(V0[i]-V0[j])**2\n",
    "                    \n",
    "    C_sigma = summ *2\n",
    "    print(C_sigma)\n",
    "    # find C_bus1, C_bus2, C_read and C_shunt\n",
    "#     beta_bus1 = np.abs(beta_bus1)\n",
    "#     beta_bus2 = np.abs(beta_bus2)\n",
    "#     beta_read= np.abs(beta_read)\n",
    "\n",
    "    A = np.array([[beta_bus1-1, beta_bus1, beta_bus1, beta_bus1]\n",
    "                  ,[beta_bus2, beta_bus2-1, beta_bus2, beta_bus2]\n",
    "                ,[beta_read, beta_read, beta_read-1, beta_read]  \n",
    "                ,[1, 1, 1, 1]])\n",
    "#     A = np.array([[beta_bus1-1, beta_bus1, 0, beta_bus1]\n",
    "#               ,[beta_bus2, beta_bus2-1, 0, beta_bus2]\n",
    "#             ,[0, 0, beta_read-1, beta_read]  \n",
    "#             ,[1, 1, 1, 1]])\n",
    "    b = np.array([[0]\n",
    "                  ,[0]\n",
    "                  ,[0]\n",
    "                 ,[C_sigma]])\n",
    "    c = np.linalg.solve(A, b)\n",
    "    \n",
    "    return c"
   ]
  },
  {
   "cell_type": "code",
   "execution_count": 256,
   "metadata": {},
   "outputs": [],
   "source": [
    "C_M = np.array([[107.94,   -0.072728, -96.56, -0.72528, -9.7239,-0.041219]\n",
    "               ,[-0.072728, 107.72, -95.966, -0.72699, -9.5856, -0.041242]\n",
    "               ,[-96.56,   -95.966, 586.48,  -59.967, -55.133, -95.917]\n",
    "               ,[-0.72528, -0.72699, -59.967, 92.027,  -23.543,   -7.0491]\n",
    "               ,[-9.7239, -9.5856,-55.133, -23.543, 98.962,-0.61872]\n",
    "               ,[-0.041219,-0.041242, -95.917,   -7.0491, -0.61872, 103.03]\n",
    "              ]) \n",
    "\n",
    "# index dictionary of conductors in input Maxwell capacitance matrix\n",
    "conductor_index = { 'gnd' : 2\n",
    "                   , 'island1' : 3\n",
    "                   , 'island2' : 4\n",
    "                   , 'bus1' : 0\n",
    "                   , 'bus2' :1\n",
    "                   , 'read' : 5\n",
    "                  }"
   ]
  },
  {
   "cell_type": "code",
   "execution_count": 257,
   "metadata": {},
   "outputs": [
    {
     "name": "stdout",
     "output_type": "stream",
     "text": [
      "-0.0714648191785757 -0.07034235776989464 0.0572043954280144\n",
      "[[ 1.    -1.   ]\n",
      " [68.484 75.419]]\n",
      "[ 0.          0.          0.          0.52409609 -0.47590391  0.        ]\n",
      "59.34987196734467\n",
      "C_bus1 = -4.241 fF\n",
      "C_bus2 = -4.175 fF\n",
      "C_read = 3.395 fF\n",
      "C_shunt = 64.371 fF\n"
     ]
    }
   ],
   "source": [
    "result_2bus_1read = calculate_qubit_2bus_1read_equiv_cap(C_M, conductor_index)\n",
    "print_result_2bus_1read(result_2bus_1read)"
   ]
  },
  {
   "cell_type": "code",
   "execution_count": 246,
   "metadata": {},
   "outputs": [],
   "source": [
    "C_M_1 = update_mutual_capacitance(C_M, 4,0, 30)\n"
   ]
  },
  {
   "cell_type": "code",
   "execution_count": 247,
   "metadata": {},
   "outputs": [
    {
     "name": "stdout",
     "output_type": "stream",
     "text": [
      "-0.19114905630491585 -0.056529012954670554 0.06063900359136734\n",
      "[[ 1.      -1.     ]\n",
      " [68.46837 95.33732]]\n",
      "[ 0.         0.         0.         0.5820147 -0.4179853  0.       ]\n",
      "[ 12.11743529   3.58352099 -11.8568923   63.39259802 -63.39259802\n",
      "  -3.84406398]\n",
      "63.39259802414923\n",
      "C_bus1 = -12.117 fF\n",
      "C_bus2 = -3.584 fF\n",
      "C_read = 3.844 fF\n",
      "C_shunt = 75.249 fF\n"
     ]
    },
    {
     "data": {
      "text/plain": [
       "94.79451059208995"
      ]
     },
     "execution_count": 247,
     "metadata": {},
     "output_type": "execute_result"
    }
   ],
   "source": [
    "result_2bus_1read = calculate_qubit_2bus_1read_equiv_cap(C_M_1, conductor_index)\n",
    "print_result_2bus_1read(result_2bus_1read)\n",
    "np.sum(np.abs(result_2bus_1read))"
   ]
  },
  {
   "cell_type": "code",
   "execution_count": 248,
   "metadata": {},
   "outputs": [
    {
     "name": "stdout",
     "output_type": "stream",
     "text": [
      "0.19114905630491585 0.056529012954670554 -0.06063900359136734\n",
      "[[ 1.      -1.     ]\n",
      " [95.33732 68.46837]]\n",
      "[ 0.         0.         0.        -0.5820147  0.4179853  0.       ]\n",
      "[-12.11743529  -3.58352099  11.8568923  -63.39259802  63.39259802\n",
      "   3.84406398]\n",
      "63.39259802414921\n",
      "C_bus1 = 12.117 fF\n",
      "C_bus2 = 3.584 fF\n",
      "C_read = -3.844 fF\n",
      "C_shunt = 51.536 fF\n"
     ]
    },
    {
     "data": {
      "text/plain": [
       "71.08072598265419"
      ]
     },
     "execution_count": 248,
     "metadata": {},
     "output_type": "execute_result"
    }
   ],
   "source": [
    "conductor_index = { 'gnd' : 2\n",
    "                   , 'island1' : 4\n",
    "                   , 'island2' : 3\n",
    "                   , 'bus1' : 0\n",
    "                   , 'bus2' :1\n",
    "                   , 'read' : 5\n",
    "                  }\n",
    "result_2bus_1read = calculate_qubit_2bus_1read_equiv_cap(C_M_1, conductor_index)\n",
    "print_result_2bus_1read(result_2bus_1read)\n",
    "np.sum(np.abs(result_2bus_1read))"
   ]
  },
  {
   "cell_type": "code",
   "execution_count": 271,
   "metadata": {},
   "outputs": [
    {
     "data": {
      "text/plain": [
       "0.29663444604979344"
      ]
     },
     "execution_count": 271,
     "metadata": {},
     "output_type": "execute_result"
    }
   ],
   "source": [
    "from scipy.constants import h,e\n",
    "e**2/2/65.3e-15/h/1e9"
   ]
  },
  {
   "cell_type": "code",
   "execution_count": 272,
   "metadata": {},
   "outputs": [],
   "source": [
    "import transmonCPW"
   ]
  },
  {
   "cell_type": "code",
   "execution_count": 273,
   "metadata": {},
   "outputs": [],
   "source": [
    "q = transmonCPW.Transmon.in_GHz(12,0.296)"
   ]
  },
  {
   "cell_type": "code",
   "execution_count": 274,
   "metadata": {},
   "outputs": [
    {
     "data": {
      "text/plain": [
       "5.015187780303034"
      ]
     },
     "execution_count": 274,
     "metadata": {},
     "output_type": "execute_result"
    }
   ],
   "source": [
    "q.f01/1e9"
   ]
  },
  {
   "cell_type": "code",
   "execution_count": 275,
   "metadata": {},
   "outputs": [
    {
     "data": {
      "text/plain": [
       "-346879165.19573385"
      ]
     },
     "execution_count": 275,
     "metadata": {},
     "output_type": "execute_result"
    }
   ],
   "source": [
    "q.anharmonicity"
   ]
  },
  {
   "cell_type": "code",
   "execution_count": 440,
   "metadata": {},
   "outputs": [
    {
     "name": "stdout",
     "output_type": "stream",
     "text": [
      "C_sigma from charging energy = 57.381\n",
      "C_bus1 = -5.700 fF\n",
      "C_read = 5.700 fF\n",
      "C_shunt = 57.380 fF\n"
     ]
    },
    {
     "data": {
      "text/plain": [
       "57.38055363654504"
      ]
     },
     "execution_count": 440,
     "metadata": {},
     "output_type": "execute_result"
    }
   ],
   "source": [
    "C_M_mod7 = np.array([[587.1,-39.97, -117.08,-40.814,-118.09]\n",
    "               ,[-39.97,84.619,-12.5,-29.821,-1.1642]\n",
    "               ,[-117.08,-12.5, 125.53,-1.1792,-0.13214]\n",
    "               ,[-40.814,-29.821,-1.1792,85.265,-12.645]\n",
    "               ,[-118.09,-1.1642,-0.13214,-12.645,125.61]\n",
    "               ])\n",
    "\n",
    "conductor_index = { 'gnd' : 0\n",
    "                   , 'island1' : 1\n",
    "                   , 'island2' : 3\n",
    "                   , 'bus1' : 4\n",
    "                   , 'read' : 2\n",
    "                  }\n",
    "result_1bus_1read = calculate_qubit_1bus_1read_equiv_cap(C_M_mod7, conductor_index)\n",
    "print_result_1bus_1read(result_1bus_1read)\n",
    "np.sum(result_1bus_1read)\n"
   ]
  },
  {
   "cell_type": "code",
   "execution_count": 453,
   "metadata": {},
   "outputs": [
    {
     "data": {
      "text/plain": [
       "0.3012477344798057"
      ]
     },
     "execution_count": 453,
     "metadata": {},
     "output_type": "execute_result"
    }
   ],
   "source": [
    "e**2/2/(64.3)/1e-15/h/1e9"
   ]
  },
  {
   "cell_type": "code",
   "execution_count": 293,
   "metadata": {},
   "outputs": [],
   "source": [
    "import transmonCPW"
   ]
  },
  {
   "cell_type": "code",
   "execution_count": 449,
   "metadata": {},
   "outputs": [],
   "source": [
    "\n",
    "q = transmonCPW.Transmon.in_GHz(13.4105, 0.323)"
   ]
  },
  {
   "cell_type": "code",
   "execution_count": 450,
   "metadata": {},
   "outputs": [
    {
     "data": {
      "text/plain": [
       "5.5427039708357215"
      ]
     },
     "execution_count": 450,
     "metadata": {},
     "output_type": "execute_result"
    }
   ],
   "source": [
    "q.f01/1e9"
   ]
  },
  {
   "cell_type": "code",
   "execution_count": 451,
   "metadata": {},
   "outputs": [
    {
     "data": {
      "text/plain": [
       "-377.5862913052408"
      ]
     },
     "execution_count": 451,
     "metadata": {},
     "output_type": "execute_result"
    }
   ],
   "source": [
    "q.anharmonicity/1e6"
   ]
  },
  {
   "cell_type": "code",
   "execution_count": 433,
   "metadata": {},
   "outputs": [
    {
     "data": {
      "text/plain": [
       "60.74074074074073"
      ]
     },
     "execution_count": 433,
     "metadata": {},
     "output_type": "execute_result"
    }
   ],
   "source": [
    "q.Ej_to_Ec_ratio\n"
   ]
  },
  {
   "cell_type": "code",
   "execution_count": 379,
   "metadata": {},
   "outputs": [
    {
     "data": {
      "text/plain": [
       "0.24325291130291987"
      ]
     },
     "execution_count": 379,
     "metadata": {},
     "output_type": "execute_result"
    }
   ],
   "source": [
    "e**2/2/(69.99+4.82*2)/1e-15/h/1e9"
   ]
  },
  {
   "cell_type": "code",
   "execution_count": 395,
   "metadata": {},
   "outputs": [],
   "source": [
    "q = transmonCPW.Transmon.in_GHz(11.4, 0.2432)"
   ]
  },
  {
   "cell_type": "code",
   "execution_count": 396,
   "metadata": {},
   "outputs": [
    {
     "data": {
      "text/plain": [
       "4.45167011802067"
      ]
     },
     "execution_count": 396,
     "metadata": {},
     "output_type": "execute_result"
    }
   ],
   "source": [
    "q.f01/1e9"
   ]
  },
  {
   "cell_type": "code",
   "execution_count": 397,
   "metadata": {},
   "outputs": [
    {
     "data": {
      "text/plain": [
       "-0.2809613403454797"
      ]
     },
     "execution_count": 397,
     "metadata": {},
     "output_type": "execute_result"
    }
   ],
   "source": [
    "q.anharmonicity/1e9"
   ]
  },
  {
   "cell_type": "code",
   "execution_count": 398,
   "metadata": {},
   "outputs": [
    {
     "data": {
      "text/plain": [
       "4.5600764"
      ]
     },
     "execution_count": 398,
     "metadata": {},
     "output_type": "execute_result"
    }
   ],
   "source": [
    "62.4668*0.073"
   ]
  },
  {
   "cell_type": "code",
   "execution_count": 399,
   "metadata": {},
   "outputs": [
    {
     "data": {
      "text/plain": [
       "0.2705838133154647"
      ]
     },
     "execution_count": 399,
     "metadata": {},
     "output_type": "execute_result"
    }
   ],
   "source": [
    "e**2/2/(62.4668+4.56*2)/1e-15/h/1e9\n",
    "# e**2/2/(62.4668)/1e-15/h/1e9"
   ]
  },
  {
   "cell_type": "code",
   "execution_count": 400,
   "metadata": {},
   "outputs": [
    {
     "data": {
      "text/plain": [
       "71.5868"
      ]
     },
     "execution_count": 400,
     "metadata": {},
     "output_type": "execute_result"
    }
   ],
   "source": [
    "62.4668+4.56*2"
   ]
  },
  {
   "cell_type": "code",
   "execution_count": 458,
   "metadata": {},
   "outputs": [
    {
     "name": "stdout",
     "output_type": "stream",
     "text": [
      "C_sigma from charging energy = 63.250\n",
      "C_bus1 = -4.099 fF\n",
      "C_read = 4.499 fF\n",
      "C_shunt = 62.850 fF\n",
      "C_sigma = 63.250 fF\n",
      "beta_bus1 = -0.065\n",
      "beta_read = 0.071\n"
     ]
    },
    {
     "data": {
      "text/plain": [
       "126.50675067218438"
      ]
     },
     "execution_count": 458,
     "metadata": {},
     "output_type": "execute_result"
    }
   ],
   "source": [
    "C_M_mod4 = np.array([[291.34,-51.173,-17.152,-58.758,-17.068]\n",
    "               ,[-51.173,92.843,-8.6623,-30.712,-0.0641]\n",
    "               ,[-17.152,-8.6623,25.913,-0.0779,-0.00136]\n",
    "               ,[-58.758,-30.712,-0.07791,99.027,-8.6762]\n",
    "               ,[-17.068,-0.0641,-0.001367,-8.6762, 25.913]\n",
    "               ])\n",
    "\n",
    "conductor_index = { 'gnd' : 0\n",
    "                   , 'island1' : 1\n",
    "                   , 'island2' :3 \n",
    "                   , 'bus1' : 4\n",
    "                   , 'read' : 2\n",
    "                  }\n",
    "result_1bus_1read = calculate_qubit_1bus_1read_equiv_cap(C_M_mod4, conductor_index)\n",
    "print_result_1bus_1read(result_1bus_1read)\n",
    "np.sum(result_1bus_1read)\n"
   ]
  },
  {
   "cell_type": "code",
   "execution_count": 474,
   "metadata": {},
   "outputs": [
    {
     "data": {
      "text/plain": [
       "0.20639562415611626"
      ]
     },
     "execution_count": 474,
     "metadata": {},
     "output_type": "execute_result"
    }
   ],
   "source": [
    "e**2/2/(78.25+7.8*2)/1e-15/h/1e9"
   ]
  },
  {
   "cell_type": "code",
   "execution_count": 476,
   "metadata": {},
   "outputs": [
    {
     "data": {
      "text/plain": [
       "4.999467350948322"
      ]
     },
     "execution_count": 476,
     "metadata": {},
     "output_type": "execute_result"
    }
   ],
   "source": [
    "q = transmonCPW.Transmon.in_GHz(16.5, 0.206)\n",
    "q.f01/1e9"
   ]
  },
  {
   "cell_type": "code",
   "execution_count": 477,
   "metadata": {},
   "outputs": [
    {
     "data": {
      "text/plain": [
       "-228.54547331634254"
      ]
     },
     "execution_count": 477,
     "metadata": {},
     "output_type": "execute_result"
    }
   ],
   "source": [
    "q.anharmonicity/1e6"
   ]
  },
  {
   "cell_type": "code",
   "execution_count": null,
   "metadata": {},
   "outputs": [],
   "source": []
  },
  {
   "cell_type": "code",
   "execution_count": 439,
   "metadata": {},
   "outputs": [
    {
     "name": "stdout",
     "output_type": "stream",
     "text": [
      "C_sigma from charging energy = 57.832\n",
      "C_bus1 = -7.920 fF\n",
      "C_read = 7.925 fF\n",
      "C_shunt = 57.827 fF\n"
     ]
    },
    {
     "data": {
      "text/plain": [
       "57.8324681664697"
      ]
     },
     "execution_count": 439,
     "metadata": {},
     "output_type": "execute_result"
    }
   ],
   "source": [
    "C_M_mod7_1 = np.array([[568.7, -43.028,-118.33,-39.898,-117.51]\n",
    "               ,[-43.028,87.197,-16.9,-28.218,-1.1171]\n",
    "               ,[-118.33,-16.9, 133.82, -1.126,-0.110033]\n",
    "               ,[-39.898, -28.218,-1.126, 87.699, -17.034]\n",
    "               ,[-117.51,-1.1171, -0.11033, -17.034, 133.73]\n",
    "               ])\n",
    "\n",
    "conductor_index = { 'gnd' : 0\n",
    "                   , 'island1' : 1\n",
    "                   , 'island2' :3 \n",
    "                   , 'bus1' : 4\n",
    "                   , 'read' : 2\n",
    "                  }\n",
    "result_1bus_1read = calculate_qubit_1bus_1read_equiv_cap(C_M_mod7_1, conductor_index)\n",
    "print_result_1bus_1read(result_1bus_1read)\n",
    "np.sum(result_1bus_1read)\n"
   ]
  },
  {
   "cell_type": "code",
   "execution_count": 438,
   "metadata": {},
   "outputs": [
    {
     "data": {
      "text/plain": [
       "73.672"
      ]
     },
     "execution_count": 438,
     "metadata": {},
     "output_type": "execute_result"
    }
   ],
   "source": [
    "57.827+7.92+7.925"
   ]
  },
  {
   "cell_type": "code",
   "execution_count": null,
   "metadata": {},
   "outputs": [],
   "source": []
  }
 ],
 "metadata": {
  "kernelspec": {
   "display_name": "Python 3",
   "language": "python",
   "name": "python3"
  },
  "language_info": {
   "codemirror_mode": {
    "name": "ipython",
    "version": 3
   },
   "file_extension": ".py",
   "mimetype": "text/x-python",
   "name": "python",
   "nbconvert_exporter": "python",
   "pygments_lexer": "ipython3",
   "version": "3.8.2"
  },
  "toc": {
   "base_numbering": 1,
   "nav_menu": {},
   "number_sections": true,
   "sideBar": true,
   "skip_h1_title": false,
   "title_cell": "Table of Contents",
   "title_sidebar": "Contents",
   "toc_cell": false,
   "toc_position": {
    "height": "calc(100% - 180px)",
    "left": "10px",
    "top": "150px",
    "width": "246px"
   },
   "toc_section_display": true,
   "toc_window_display": true
  }
 },
 "nbformat": 4,
 "nbformat_minor": 4
}
