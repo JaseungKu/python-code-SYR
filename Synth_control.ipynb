{
 "cells": [
  {
   "cell_type": "code",
   "execution_count": 4,
   "metadata": {},
   "outputs": [],
   "source": [
    "import sys\n",
    "import matplotlib.pyplot as plt\n",
    "from IPython.display import clear_output\n",
    "import os.path\n",
    "import numpy as np\n",
    "import visa\n",
    "import json\n",
    "sys.path.append('.\\Instrument Driver')\n",
    "sys.path.append('.\\Helper')"
   ]
  },
  {
   "cell_type": "code",
   "execution_count": 8,
   "metadata": {},
   "outputs": [],
   "source": [
    "import SynthHD\n",
    "spec = SynthHD.SynthHD(6)\n",
    "spec.setChannel(0) # for SynthHD,0= channel A,1=channel B\n",
    "specPwr =  -20 # nominal power from mw source\n",
    "fixedAtt = -30\n",
    "specPwr_total = specPwr + fixedAtt\n",
    "spec.pwrOn()\n",
    "spec.setPwr(specPwr)\n",
    "spec.setFreq(10e9)"
   ]
  },
  {
   "cell_type": "code",
   "execution_count": null,
   "metadata": {},
   "outputs": [],
   "source": []
  }
 ],
 "metadata": {
  "kernelspec": {
   "display_name": "Python 3",
   "language": "python",
   "name": "python3"
  },
  "language_info": {
   "codemirror_mode": {
    "name": "ipython",
    "version": 3
   },
   "file_extension": ".py",
   "mimetype": "text/x-python",
   "name": "python",
   "nbconvert_exporter": "python",
   "pygments_lexer": "ipython3",
   "version": "3.8.5"
  },
  "toc": {
   "base_numbering": 1,
   "nav_menu": {},
   "number_sections": true,
   "sideBar": true,
   "skip_h1_title": false,
   "title_cell": "Table of Contents",
   "title_sidebar": "Contents",
   "toc_cell": false,
   "toc_position": {},
   "toc_section_display": true,
   "toc_window_display": false
  }
 },
 "nbformat": 4,
 "nbformat_minor": 4
}
