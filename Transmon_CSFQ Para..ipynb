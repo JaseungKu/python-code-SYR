{
 "cells": [
  {
   "cell_type": "code",
   "execution_count": 15,
   "metadata": {
    "collapsed": true
   },
   "outputs": [],
   "source": [
    "import math\n",
    "from scipy.constants import h, hbar, e, k, pi\n",
    "\n",
    "Phi0=h/2/e; #flux quantum\n",
    " "
   ]
  },
  {
   "cell_type": "code",
   "execution_count": 16,
   "metadata": {},
   "outputs": [
    {
     "data": {
      "text/plain": [
       "3.141592653589793"
      ]
     },
     "execution_count": 16,
     "metadata": {},
     "output_type": "execute_result"
    }
   ],
   "source": [
    "import scipy.constants\n",
    "scipy.constants.pi"
   ]
  },
  {
   "cell_type": "markdown",
   "metadata": {},
   "source": [
    "# Transmon transition frequency,  $f_{01}$"
   ]
  },
  {
   "cell_type": "code",
   "execution_count": 26,
   "metadata": {},
   "outputs": [
    {
     "name": "stdout",
     "output_type": "stream",
     "text": [
      "Ej=99.337 GHz, Ec=0.352 GHz,Ej/Ec=282.058, f01=16.377 GHz\n"
     ]
    }
   ],
   "source": [
    "# transmon\n",
    "J = 2e5 # A/m^2\n",
    "A = 0.2e-6 * 0.5e-6 \n",
    "#I0 = J * A\n",
    "\n",
    "I0 =30e-9\n",
    "#Cj = 100 * 1e-15/(1e-6)**2 * A       # 100 fF/um^2\n",
    "Cj=5e-15\n",
    "Cs = 50e-15\n",
    "C = Cj + Cs\n",
    "\n",
    "Ej = hbar * I0 /(2 * e) /h / 1e9  # in GHz\n",
    "Ec = e **2 / (2*C) /h / 1e9\n",
    "f = math.sqrt(8 * Ej * Ec)-Ec # in GHz\n",
    "print('Ej={:.3f} GHz, Ec={:.3f} GHz,Ej/Ec={:.3f}, f01={:.3f} GHz'.format(Ej, Ec, Ej/Ec, f))"
   ]
  },
  {
   "cell_type": "markdown",
   "metadata": {},
   "source": [
    "## Ambegaokar-Baratoff formula for tunnel junctions, $R_n$ vs $I_c$\n",
    "\n",
    "$$ I_c R_n = (\\pi\\Delta /2e)\\tanh(\\Delta/2kT)$$\n",
    "At $T=0$, $$I_cR_n = \\pi\\Delta (0)/2e$$\n",
    "Also, $$\\Delta (0) = 1.764 k_B T_c$$"
   ]
  },
  {
   "cell_type": "code",
   "execution_count": 21,
   "metadata": {},
   "outputs": [
    {
     "name": "stdout",
     "output_type": "stream",
     "text": [
      "delta(0) = 1.938E-04 eV\n",
      "IcRn = 3.044E-04 eV\n",
      "Ic to Rn, Ic = 6.000e-08 (A), Rn = 5.074e+03 (Ohm)\n",
      "Rn to Ic, Rn = 9.900e+03 (Ohm), Ic = 3.075e-08 (A)\n",
      "0.0001938123766143523\n"
     ]
    }
   ],
   "source": [
    "# For aluminum \n",
    "Tc = 1.275 # for 35nm film\n",
    "Delta0 = 1.764 * k * Tc # aluminium\n",
    "print ('delta(0) = {:.3E} eV'.format(Delta0/e))\n",
    "print ('IcRn = {:.3E} eV'.format(Delta0 * pi / e/2))\n",
    "\n",
    "# Ic to Rn\n",
    "Ic  =60e-9\n",
    "Rn = pi * Delta0 /(2 * e) /Ic\n",
    "print ('Ic to Rn, Ic = {:.3e} (A), Rn = {:.3e} (Ohm)'.format(Ic, Rn))\n",
    "\n",
    "# Rn to Ic\n",
    "Rn = 9.9e3\n",
    "Ic = pi * Delta0 /(2 * e) / Rn\n",
    "print ('Rn to Ic, Rn = {:.3e} (Ohm), Ic = {:.3e} (A)'.format(Rn, Ic))\n",
    "\n",
    "print(Delta0/e)"
   ]
  },
  {
   "cell_type": "code",
   "execution_count": 22,
   "metadata": {
    "scrolled": true
   },
   "outputs": [
    {
     "name": "stdout",
     "output_type": "stream",
     "text": [
      "Ej(GHz)= 102.38095238095237\n",
      "Ej_alpha(GHz)= 42.99999999999999 \n",
      "\n",
      "Ec(GHz)= 0.147\n",
      "Ec_alpha(GHz)= 0.35 \n",
      "\n",
      "I0(nA)= 206.12915330601882\n",
      "I0_alpha(nA)= 86.5742443885279 \n",
      "\n",
      "A(um^2)= 0.0710790183813858\n",
      "A_alpha(um^2)= 0.02985318772018204 \n",
      "\n",
      "Cj(fF)= 263.54053506192525\n",
      "Cj_alpha(fF)= 110.6870247260086 \n",
      "\n",
      "A_est(um^2)= 2.6354053506192527\n",
      "A_alpha_est(um^2)= 1.1068702472600862 \n",
      "\n"
     ]
    },
    {
     "data": {
      "text/plain": [
       "(None, None)"
      ]
     },
     "execution_count": 22,
     "metadata": {},
     "output_type": "execute_result"
    }
   ],
   "source": [
    "## CSFQ in \"Flux qubit revisited\" paper (https://arxiv.org/abs/1508.06299).\n",
    "# Qubit B, T1=55 us, delta=4.68 GHz\n",
    "Cs = 51e-15 # F.\n",
    "alpha = 0.42\n",
    "Jc = 2.9        # uA/um^2.\n",
    "Ej_alpha = 43   # in GHz. alpha mean alpha-junction.\n",
    "Ec_alpha = 0.35\n",
    "\n",
    "# Unit conversion to SI unit\n",
    "Ej_alpha = Ej_alpha * 1e9 * h\n",
    "Ec_alpha = Ec_alpha * 1e9 * h\n",
    "Jc = Jc * 1e-6 /(1e-6)**2 # A/m^2\n",
    "\n",
    "# all in SI unit. All parameters for larger junction.\n",
    "Ej = Ej_alpha / alpha\n",
    "Ec = Ec_alpha * alpha\n",
    "I0 = Ej * (2 * e) / hbar # critical current\n",
    "A = I0 / Jc  # area of large junction\n",
    "Cj = e**2 / Ec  # looks their Ec definition is 4 * e^2/C, not e^2/C?\n",
    "A_est = Cj / (100e-15/(1e-6)**2)  # Estimated area based on Cj. 100 fF/um^2 assumed.\n",
    "\n",
    "print ('Ej(GHz)=', Ej/1e9/h), print ('Ej_alpha(GHz)=', Ej/1e9/h*alpha,'\\n')\n",
    "print ('Ec(GHz)=',Ec/1e9/h), print ('Ec_alpha(GHz)=',Ec/1e9/h/alpha,'\\n')\n",
    "print ('I0(nA)=',I0/1e-9), print ('I0_alpha(nA)=',I0/1e-9 *alpha,'\\n')\n",
    "print ('A(um^2)=',A/(1e-6)**2), print ('A_alpha(um^2)=',A/(1e-6)**2*alpha,'\\n')\n",
    "print ('Cj(fF)=',Cj/1e-15), print ('Cj_alpha(fF)=',Cj/1e-15*alpha,'\\n')\n",
    "print('A_est(um^2)=', A_est/(1e-6)**2),print('A_alpha_est(um^2)=', A_est/(1e-6)**2*alpha,'\\n')"
   ]
  },
  {
   "cell_type": "markdown",
   "metadata": {},
   "source": [
    "# Asymmetric transmon frequency"
   ]
  },
  {
   "cell_type": "code",
   "execution_count": 8,
   "metadata": {},
   "outputs": [
    {
     "name": "stdout",
     "output_type": "stream",
     "text": [
      "Using matplotlib backend: Qt5Agg\n"
     ]
    }
   ],
   "source": [
    "%matplotlib"
   ]
  },
  {
   "cell_type": "code",
   "execution_count": 7,
   "metadata": {},
   "outputs": [
    {
     "data": {
      "text/plain": [
       "<matplotlib.text.Text at 0x2025f74a9e8>"
      ]
     },
     "execution_count": 7,
     "metadata": {},
     "output_type": "execute_result"
    }
   ],
   "source": [
    "import numpy as np\n",
    "import matplotlib.pyplot as plt\n",
    "from matplotlib import rc\n",
    "rc('text', usetex=True)\n",
    "\n",
    "f_uss =7 # USS frequency in GHz\n",
    "alpha =  1.8 # alpha= Ej1 / Ej2, Ej1 > Ej2, junction size ratio\n",
    "d = (alpha - 1) / (1 + alpha)\n",
    "flux = np.linspace(-1, 1, 100)  # unit of Phi0\n",
    "ratio  = np.sqrt(np.fabs(np.cos(np.pi * flux)) * np.sqrt(1 + (d * np.tan(np.pi * flux))**2))\n",
    "\n",
    "fig, (axes1, axes2) = plt.subplots(2,1)\n",
    "lines1, = axes1.plot(flux, ratio) \n",
    "lines2, = axes2.plot(flux, ratio * f_uss) \n",
    "\n",
    "axes1.set_ylabel('f01 / f_{USS}')\n",
    "#axes2.set_xlabel('flux ($\\Phi / \\Phi_0$)')\n",
    "axes2.set_xlabel('flux ($Phi / Phi0$)')\n",
    "axes2.set_ylabel('f01 (GHz)')\n",
    "axes1.grid(which='both',color='gray', linestyle='--', linewidth=0.5)\n",
    "axes2.grid(which='both',color='gray', linestyle='--', linewidth=0.5)\n",
    "#axes1.legend((lines1, lines11),('LSS', 'USS'))\n",
    "#axes2.legend((lines2, lines12),('LSS', 'USS'))\n",
    "\n",
    "title = r'EJ1/EJ2={:.2g}, f(USS)={} GHz'.format(alpha, f_uss)\n",
    "axes1.set_title(title)"
   ]
  },
  {
   "cell_type": "markdown",
   "metadata": {},
   "source": [
    "# Square kinetic inductance\n",
    "$$L_{sq} = \\frac{\\hbar R_{sq}}{\\pi\\Delta},$$\n",
    "where $R_{sq}$ is normal-state sheet resistance."
   ]
  },
  {
   "cell_type": "code",
   "execution_count": 25,
   "metadata": {},
   "outputs": [
    {
     "name": "stdout",
     "output_type": "stream",
     "text": [
      "Lsq = 1.88e-15\n"
     ]
    }
   ],
   "source": [
    "import math\n",
    "from scipy.constants import h, hbar, e, k, pi\n",
    "\n",
    "Phi0=h/2/e; #flux quantum\n",
    " \n",
    "# Parameters\n",
    "rho_LT = 1.64e-10 # ohm*m\n",
    "t = 100e-9 # thickness\n",
    "Tc = 1.2\n",
    "R_sq = rho_LT / t\n",
    "delta =  1.764 * k * Tc \n",
    "L_sq = hbar * R_sq / (pi *  delta)\n",
    "print('Lsq = {:.3g}'.format(L_sq))"
   ]
  },
  {
   "cell_type": "markdown",
   "metadata": {},
   "source": [
    "# Useful Formula"
   ]
  },
  {
   "cell_type": "markdown",
   "metadata": {
    "collapsed": true
   },
   "source": [
    "\\begin{eqnarray}\n",
    "\\chi &=& \\frac{g_{01}^2}{\\Delta}\\frac{\\alpha}{\\Delta+\\alpha} \\\\\n",
    "\\Delta&=&\\omega_{01} - \\omega_r\n",
    "\\end{eqnarray}"
   ]
  },
  {
   "cell_type": "code",
   "execution_count": null,
   "metadata": {},
   "outputs": [],
   "source": []
  }
 ],
 "metadata": {
  "kernelspec": {
   "display_name": "Python 3",
   "language": "python",
   "name": "python3"
  },
  "language_info": {
   "codemirror_mode": {
    "name": "ipython",
    "version": 3
   },
   "file_extension": ".py",
   "mimetype": "text/x-python",
   "name": "python",
   "nbconvert_exporter": "python",
   "pygments_lexer": "ipython3",
   "version": "3.6.8"
  },
  "toc": {
   "base_numbering": 1,
   "nav_menu": {
    "height": "101px",
    "width": "252px"
   },
   "number_sections": true,
   "sideBar": true,
   "skip_h1_title": false,
   "title_cell": "Table of Contents",
   "title_sidebar": "Contents",
   "toc_cell": false,
   "toc_position": {
    "height": "calc(100% - 180px)",
    "left": "10px",
    "top": "150px",
    "width": "319.2px"
   },
   "toc_section_display": "block",
   "toc_window_display": true
  }
 },
 "nbformat": 4,
 "nbformat_minor": 1
}
