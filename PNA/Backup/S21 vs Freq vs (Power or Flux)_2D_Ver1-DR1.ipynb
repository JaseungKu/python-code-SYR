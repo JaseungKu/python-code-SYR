{
 "cells": [
  {
   "cell_type": "markdown",
   "metadata": {},
   "source": [
    "# Common blocks"
   ]
  },
  {
   "cell_type": "code",
   "execution_count": 6,
   "metadata": {
    "collapsed": false
   },
   "outputs": [
    {
     "name": "stdout",
     "output_type": "stream",
     "text": [
      "Using matplotlib backend: TkAgg\n"
     ]
    }
   ],
   "source": [
    "# run once\n",
    "%matplotlib"
   ]
  },
  {
   "cell_type": "code",
   "execution_count": 7,
   "metadata": {
    "collapsed": false
   },
   "outputs": [],
   "source": [
    "# import modules\n",
    "import matplotlib.pyplot as plt\n",
    "from IPython.display import clear_output\n",
    "import numpy as np\n",
    "import json\n",
    "import visa\n",
    "import myplots_py3, myutils # custom modules\n",
    "import os.path\n",
    "import time\n",
    "from imp import reload # for python3\n",
    "\n",
    "# instrument drivers\n",
    "import SIM\n",
    "import AgilentN5230A\n",
    "#import HittiteHMC\n",
    "#import AgilentMXG\n",
    "\n",
    "# instrument initialization\n",
    "pna = AgilentN5230A.AgilentN5230A(16)\n",
    "sim_glb = SIM.SIM(15, channel=3)\n",
    "sim_chip = SIM.SIM(15, channel=1)\n",
    "#spec = HittiteHMC.HittiteHMC(18)\n",
    "#spec = AgilentMXG.AgilentMXG(30)"
   ]
  },
  {
   "cell_type": "code",
   "execution_count": 8,
   "metadata": {
    "collapsed": false
   },
   "outputs": [
    {
     "data": {
      "text/plain": [
       "('ASRL1::INSTR',\n",
       " 'ASRL4::INSTR',\n",
       " 'ASRL6::INSTR',\n",
       " 'ASRL9::INSTR',\n",
       " 'ASRL10::INSTR',\n",
       " 'ASRL11::INSTR',\n",
       " 'GPIB0::2::INSTR',\n",
       " 'GPIB0::6::INSTR',\n",
       " 'GPIB0::7::INSTR',\n",
       " 'GPIB0::11::INSTR',\n",
       " 'GPIB0::15::INSTR',\n",
       " 'GPIB0::16::INSTR',\n",
       " 'GPIB0::20::INSTR',\n",
       " 'GPIB0::30::INSTR')"
      ]
     },
     "execution_count": 8,
     "metadata": {},
     "output_type": "execute_result"
    }
   ],
   "source": [
    "rm=visa.ResourceManager()\n",
    "rm.list_resources()"
   ]
  },
  {
   "cell_type": "code",
   "execution_count": 21,
   "metadata": {
    "collapsed": true
   },
   "outputs": [],
   "source": [
    "sim_glb.setVoltage(0)  #-0.45\n",
    "sim_chip.setVoltage(0)"
   ]
  },
  {
   "cell_type": "markdown",
   "metadata": {},
   "source": [
    "# S21 vs Freq sweep, continuous"
   ]
  },
  {
   "cell_type": "code",
   "execution_count": 25,
   "metadata": {
    "collapsed": false
   },
   "outputs": [
    {
     "name": "stdout",
     "output_type": "stream",
     "text": [
      "Initialized S21 Measurement 'S21Meas'\n",
      "Measurement Done!!\n"
     ]
    }
   ],
   "source": [
    "####################################################################################\n",
    "# set up parameter\n",
    "startFreq, endFreq = 6.5e9,7.5e9\n",
    "power = -20\n",
    "numPoints, IFbandwidth, avg = 2001, 500, 3\n",
    "#volt = 0 # -0.65 # -2.05  #2.4\n",
    "####################################################################################\n",
    "\n",
    "# plot setup\n",
    "plotobj= myplots_py3.plot1D(ylabel = 'S21 (dB)', xlabel='Frequency (Hz)', title = 'S21 vs Freq'\n",
    "                        , plotStyle='b-')\n",
    "\n",
    "# preconfigure instrument\n",
    "pna.setupMeas()\n",
    "pna.setSweepType('linear')\n",
    "\n",
    "pna.setFreqStartEnd(startFreq, endFreq)\n",
    "pna.setPwr(power)\n",
    "pna.avgCount(avg)\n",
    "pna.numPoints(numPoints)\n",
    "pna.setIF(IFbandwidth)\n",
    "pna.pwrOn()\n",
    "\n",
    "#spec.pwrOff()\n",
    "#sim_glb.setVoltage(volt)\n",
    "\n",
    "# data initialization\n",
    "S21_mag_log_2D, S21_phase_2D = np.array([]), np.array([])\n",
    "\n",
    "################ sweep start ################\n",
    "\n",
    "for i in range(1):\n",
    "    # configure\n",
    "    pna.avgClear()\n",
    "        \n",
    "    # fetch data from PNA\n",
    "    freq, S21 = pna.getData(cplx=True) # S21 in linear scale\n",
    "    \n",
    "    # S21 conversion\n",
    "    S21_real, S21_imag = np.real(S21), np.imag(S21)\n",
    "    S21_mag, S21_phase = np.sqrt(S21_real**2 + S21_imag**2), np.angle(S21, deg=True) # phase in degree\n",
    "    S21_mag_log = 20.0 * np.log10(S21_mag)    # dB\n",
    "    \n",
    "    # plot update\n",
    "    plotobj.update(freq/1e9, S21_mag_log)\n",
    "    \n",
    "     \n",
    "############## sweep end #########################    \n",
    "\n",
    "# Post measurement    \n",
    "pna.pwrOff()\n",
    "print('Measurement Done!!')\n"
   ]
  },
  {
   "cell_type": "code",
   "execution_count": 11,
   "metadata": {
    "collapsed": false
   },
   "outputs": [
    {
     "data": {
      "text/plain": [
       "<module 'myplots_py3' from 'Z:\\\\User\\\\Jaseung\\\\programs\\\\pythonCode\\\\PNA\\\\myplots_py3.py'>"
      ]
     },
     "execution_count": 11,
     "metadata": {},
     "output_type": "execute_result"
    }
   ],
   "source": [
    "reload(myplots_py3)"
   ]
  },
  {
   "cell_type": "markdown",
   "metadata": {},
   "source": [
    "# S21 vs Freq vs Power, 2D"
   ]
  },
  {
   "cell_type": "code",
   "execution_count": 28,
   "metadata": {
    "collapsed": false
   },
   "outputs": [
    {
     "name": "stdout",
     "output_type": "stream",
     "text": [
      "startPwr=-70 dBm, endPwr=-20 dBm, current power=-20 dBm\n",
      "Measurement complete!!!\n",
      "Wall time: 1min 6s\n"
     ]
    }
   ],
   "source": [
    "%%time\n",
    "#########################################################################################\n",
    "# set up parameters\n",
    "startFreq, endFreq = 7.096e9, 7.100e9 #6.775e9 , 6.945e9 #6.881e9, 6.885e9 # 6.904e9, 6.912e9\n",
    "numPoints, avg = 801, 1\n",
    "IFStart, IFEnd =200, 500 # Hz\n",
    "startPwr, endPwr, stepPwr = -70,-20, 2\n",
    "volt_glb_initial = 3\n",
    "volt_chip_initial = 0\n",
    "\n",
    "#save_path = 'Z:\\User\\JJ\\SFQ2\\C6' # no backslash at the end.\n",
    "save_path = r'Z:\\User\\Jaseung\\projects\\CSFQ\\measurement\\W5\\B3\\DR1\\S21vsFreqvsP'\n",
    "#save_path = 'C:\\Users\\Lab User\\Desktop\\Albany1222'\n",
    "\n",
    "#surfix='Q3_Vglb=0.328V' # surfix to the file name\n",
    "surfix='Q6_Vglb=3_Vchip=0V'  # surfix to file name\n",
    "commentStr=''  # comment to be placed in the log file.\n",
    "############################################################################################\n",
    "\n",
    "# IFbandwidth scales up linearly as power increases.\n",
    "IF_arr = np.linspace(IFStart, IFEnd, np.arange(startPwr, endPwr + stepPwr, stepPwr).size) \n",
    "\n",
    "# dictionary for parameters to be saved in json file. Solely for log.\n",
    "xID, xStart, xEnd, xStep = 'Power (dBm)', startPwr, endPwr, stepPwr\n",
    "yID, yStart, yEnd, yStep = 'Frequency (Hz)',startFreq, endFreq, (endFreq-startFreq)/(numPoints-1)\n",
    "para = dict([('xID', xID), ('xStart', xStart), ('xEnd', xEnd)\n",
    "             , ('yID', yID), ('yStart', yStart), ('yEnd', yEnd)\n",
    "             , ('numPoints',numPoints), ('IFbandwidth start (Hz)', IF_arr[0]),('IFbandwidth end (Hz)', IF_arr[-1])\n",
    "             , ('avg',avg), ('volt_glb_initial (V)',volt_glb_initial),('volt_chip_initial (V)',volt_chip_initial), ('comment', commentStr)])\n",
    "\n",
    "# file setup\n",
    "timeStr = time.strftime(\"%Y%m%d_%H%M%S\")\n",
    "baseStr = 'S21vsFvsP_fr{:.9g}_{:.9g}_Pr{}_{}_{}_{}_{}'\n",
    "baseFileName = baseStr.format(startFreq/1e9, endFreq/1e9, startPwr, endPwr, stepPwr,surfix, timeStr)\n",
    "dataFileName_mag, dataFileName_phase  = (os.path.join(save_path, baseFileName + '_mag.dat'), \n",
    "                                         os.path.join(save_path, baseFileName + '_phase.dat'))\n",
    "logFileName =  os.path.join(save_path, baseFileName + '.json')\n",
    "with open(logFileName, 'w') as f:\n",
    "    json.dump(para,f,indent=4, sort_keys=True)\n",
    "\n",
    "#with open(logFileName, 'wb') as f_log:\n",
    "#    for k, v in para.items():  # write log file.\n",
    "#        f_log.write('# {} : {} \\n'.format(k,v))\n",
    "   \n",
    "# plot setup\n",
    "plotobj= myplots_py3.plot2D(ylabel = 'Frequency(Hz)', xlabel='Power (dBm)', title = 'S21 vs Freq vs Power')\n",
    "\n",
    "# preconfigure instrument\n",
    "pna.setupMeas()\n",
    "pna.setSweepType('linear')\n",
    "pna.setFreqStartEnd(startFreq, endFreq)\n",
    "#pna.setPwr(power)\n",
    "pna.avgCount(avg)\n",
    "pna.numPoints(numPoints)\n",
    "#pna.setIF(IFbandwidth)\n",
    "pna.pwrOn()\n",
    "\n",
    "sim_glb.setVoltage(volt_glb_initial)\n",
    "sim_chip.setVoltage(volt_chip_initial)\n",
    "\n",
    "# data initialization\n",
    "S21_mag_log_2D, S21_phase_2D = np.array([]), np.array([])\n",
    "i=0\n",
    "################ sweep start ################\n",
    "for pwr in np.arange(startPwr, endPwr + stepPwr, stepPwr): # traverse in [pmin, pmax].\n",
    "    \n",
    "    clear_output()\n",
    "    print('startPwr={:.3g} dBm, endPwr={:.3g} dBm, current power={:.3g} dBm'.format(startPwr, endPwr, pwr))\n",
    "    \n",
    "    # configure\n",
    "    pna.setIF(IF_arr[i]) \n",
    "    pna.setPwr(pwr)\n",
    "    pna.avgClear()\n",
    "    i += 1\n",
    "    \n",
    "    # fetch data from PNA\n",
    "    freq, S21 = pna.getData(cplx=True) # S21 in linear scale\n",
    "    \n",
    "    # S21 conversion\n",
    "    S21_real, S21_imag = np.real(S21), np.imag(S21)\n",
    "    S21_mag, S21_phase = np.sqrt(S21_real**2 + S21_imag**2), np.angle(S21, deg=True) # phase in degree\n",
    "    S21_mag_log = 20.0 * np.log10(S21_mag)    # dB\n",
    "    \n",
    "    if S21_mag_log_2D.size == 0: # when S21_mag_2D is empty\n",
    "        S21_mag_log_2D = S21_mag_log\n",
    "        S21_mag_log_2D.shape = (S21_mag_log.size, 1)\n",
    "        S21_phase_2D = S21_phase\n",
    "        S21_phase_2D.shape = (S21_phase.size, 1)\n",
    "    else:\n",
    "        S21_mag_log_2D = np.column_stack((S21_mag_log_2D, S21_mag_log))\n",
    "        S21_phase_2D = np.column_stack((S21_phase_2D, S21_phase))\n",
    "     \n",
    "    # plot update\n",
    "    extent = [startPwr, pwr, startFreq, endFreq]\n",
    "    plotobj.update(S21_mag_log_2D, extent)\n",
    "    \n",
    "    \n",
    "    # save data in each iteration\n",
    "    f_mag = open(dataFileName_mag, 'wb') \n",
    "    f_phase = open(dataFileName_phase, 'wb') \n",
    "    np.savetxt(f_mag, S21_mag_log_2D, fmt='%.9g', delimiter='\\t') \n",
    "    np.savetxt(f_phase, S21_phase_2D, fmt='%.9g', delimiter='\\t')\n",
    "    f_mag.close()\n",
    "    f_phase.close()\n",
    "    \n",
    "############## sweep end #########################    \n",
    "\n",
    "# Post measurement  \n",
    "del S21_mag_log_2D, S21_phase_2D\n",
    "pna.pwrOff()\n",
    "print('Measurement complete!!!')\n"
   ]
  },
  {
   "cell_type": "markdown",
   "metadata": {},
   "source": [
    "# S21 vs Freq vs Flux, 2D"
   ]
  },
  {
   "cell_type": "code",
   "execution_count": 37,
   "metadata": {
    "collapsed": false,
    "scrolled": true
   },
   "outputs": [
    {
     "name": "stdout",
     "output_type": "stream",
     "text": [
      "startV=-20 V, endV=20 V, current volt=20 V\n",
      "Measurement done!!!\n",
      "Wall time: 2min 5s\n"
     ]
    }
   ],
   "source": [
    "%%time\n",
    "###########################################################################\n",
    "# set up parameters\n",
    "startFreq, endFreq = 7.097e9, 7.105e9 # 6.935e9, 6.9450e9 #6.7949e9 , 6.9676e9 #6.83e9, 6.894e9#6.856e9, 7.015e9 #6.85e9, 7.05e9\n",
    "power = -60\n",
    "numPoints, IFbandwidth, avg = 801, 500, 1\n",
    "startVolt, endVolt, stepVolt = -20, 20,1  #-20, 20, 0.2 #-5, 5, 0.05 #  #-15, 15, 0.4#-20, 20, 0.5 #-1, 1.5, 0.04\n",
    "sweepSrc = 2   # 1: Vglb, 2: Vchip\n",
    "Vglb_init = 0.5\n",
    "Vglb_endV = 0  # end voltage for both global and onchip flux\n",
    "Vchip_init = 0 #0.625\n",
    "Vchip_endV = 0 #0.625\n",
    "#save_path = 'Z:\\User\\JJ\\SFQ2\\C6'\n",
    "#save_path = 'Z:\\User\\Jaseung\\projects\\CSFQ\\measurement\\W3\\B7\\BlueFors\\Jan2017\\S21vsFreqvsV'\n",
    "save_path =r'Z:\\User\\Jaseung\\projects\\CSFQ\\measurement\\W5\\B3\\DR1\\S21vsFreqvsV'\n",
    "#surfix = 'Q6_Vchip=0V'\n",
    "surfix = 'Q6_Vglb=0.5V'\n",
    "commentStr =''\n",
    "############################################################################\n",
    "\n",
    "# dictionary for parameters to be saved in json file. Solely for log.\n",
    "xID, xStart, xEnd, xStep = 'Volt (V)', startVolt, endVolt, stepVolt\n",
    "yID, yStart, yEnd, yStep = 'Frequency (Hz)',startFreq, endFreq, (endFreq-startFreq)/(numPoints-1)\n",
    "para = dict([('xID', xID), ('xStart', xStart), ('xEnd', xEnd)\n",
    "             , ('yID', yID), ('yStart', yStart), ('yEnd', yEnd), ('Power (dBm)', power)\n",
    "             , ('numPoints',numPoints), ('IFbandwidth (Hz)', IFbandwidth) \n",
    "             , ('avg',avg), ('comment', commentStr)])\n",
    "\n",
    "# file setup\n",
    "\n",
    "baseStr = 'S21vsFvsV_fr{:.9g}_{:.9g}_Pr{:.4g}_V{}_{}_{}_{}'\n",
    "baseFileName = baseStr.format(startFreq/1e9, endFreq/1e9, power, startVolt, endVolt, stepVolt, surfix)\n",
    "dataFileName_mag, dataFileName_phase  = (os.path.join(save_path, baseFileName + '_mag.dat'), \n",
    "                                         os.path.join(save_path, baseFileName + '_phase.dat'))\n",
    "logFileName =  os.path.join(save_path, baseFileName + '.json')\n",
    "with open(logFileName, 'w') as f:\n",
    "    json.dump(para,f,indent=4, sort_keys=True)\n",
    "\n",
    "# plot setup\n",
    "plotobj= myplots_py3.plot2D(ylabel = 'Frequency (Hz)', xlabel='Volt (V)', title = 'S21 vs Freq vs Volt')\n",
    "\n",
    "# preconfigure instrument\n",
    "pna.setupMeas()\n",
    "pna.setSweepType('linear')\n",
    "pna.setFreqStartEnd(startFreq, endFreq)\n",
    "pna.setPwr(power)\n",
    "pna.avgCount(avg)\n",
    "pna.numPoints(numPoints)\n",
    "pna.setIF(IFbandwidth)\n",
    "pna.pwrOn()\n",
    "\n",
    "sim_glb.setVoltage(Vglb_init)\n",
    "sim_chip.setVoltage(Vchip_init)\n",
    "time.sleep(2)\n",
    "\n",
    "# data initialization\n",
    "S21_mag_log_2D, S21_phase_2D = np.array([]), np.array([])\n",
    "\n",
    "################ sweep start ################\n",
    "for volt in np.arange(startVolt, endVolt + stepVolt, stepVolt): # traverse in [pmin, pmax].\n",
    "    clear_output()\n",
    "    print('startV={:.3g} V, endV={:.3g} V, current volt={:.3g} V'.format(startVolt, endVolt, volt))\n",
    "\n",
    "    # configure\n",
    "    if sweepSrc==1:\n",
    "        sim_glb.setVoltage(volt)\n",
    "    else: #sweepSrc=2\n",
    "        sim_chip.setVoltage(volt)\n",
    "        \n",
    "    time.sleep(1)\n",
    "    pna.avgClear()\n",
    "    \n",
    "    # fetch data from PNA\n",
    "    freq, S21 = pna.getData(cplx=True) # S21 in linear scale\n",
    "    \n",
    "    # S21 conversion\n",
    "    S21_real, S21_imag = np.real(S21), np.imag(S21)\n",
    "    S21_mag, S21_phase = np.sqrt(S21_real**2 + S21_imag**2), np.angle(S21, deg=True) # phase in degree\n",
    "    S21_mag_log = 20.0 * np.log10(S21_mag)    # dB\n",
    "    \n",
    "    if S21_mag_log_2D.size == 0: # when S21_mag_2D is empty\n",
    "        S21_mag_log_2D = S21_mag_log\n",
    "        S21_mag_log_2D.shape = (S21_mag_log.size, 1)\n",
    "        S21_phase_2D = S21_phase\n",
    "        S21_phase_2D.shape = (S21_phase.size, 1)\n",
    "    else:\n",
    "        S21_mag_log_2D = np.column_stack((S21_mag_log_2D, S21_mag_log))\n",
    "        S21_phase_2D = np.column_stack((S21_phase_2D, S21_phase))\n",
    "     \n",
    "    # plot update\n",
    "    extent = [startVolt, volt, startFreq, endFreq]\n",
    "    plotobj.update(S21_mag_log_2D, extent)\n",
    "        \n",
    "    # save data in each iteration\n",
    "#     f_mag = open(dataFileName_mag, 'w') \n",
    "#     f_phase = open(dataFileName_phase, 'w') \n",
    "#     np.savetxt(f_mag, S21_mag_log_2D, fmt='%.9g', delimiter='\\t') \n",
    "#     np.savetxt(f_phase, S21_phase_2D, fmt='%.9g', delimiter='\\t')\n",
    "#     f_mag.close()\n",
    "#     f_phase.close()\n",
    "    \n",
    "############## sweep end #########################    \n",
    "# save at the end\n",
    "f_mag = open(dataFileName_mag, 'wb') \n",
    "f_phase = open(dataFileName_phase, 'wb') \n",
    "np.savetxt(f_mag, S21_mag_log_2D, fmt='%.9g', delimiter='\\t') \n",
    "np.savetxt(f_phase, S21_phase_2D, fmt='%.9g', delimiter='\\t')\n",
    "f_mag.close()\n",
    "f_phase.close()\n",
    "\n",
    "# Post measurement   \n",
    "del S21_mag_log_2D, S21_phase_2D\n",
    "pna.pwrOff()\n",
    "sim_glb.setVoltage(Vglb_endV)\n",
    "sim_chip.setVoltage(Vchip_endV)\n",
    "print('Measurement done!!!')"
   ]
  },
  {
   "cell_type": "code",
   "execution_count": 12,
   "metadata": {
    "collapsed": false
   },
   "outputs": [
    {
     "data": {
      "text/plain": [
       "6760000000.0"
      ]
     },
     "execution_count": 12,
     "metadata": {},
     "output_type": "execute_result"
    }
   ],
   "source": [
    "extent[2]"
   ]
  },
  {
   "cell_type": "markdown",
   "metadata": {},
   "source": [
    "## S21 vs Freq vs Flux, 3D"
   ]
  },
  {
   "cell_type": "code",
   "execution_count": 6,
   "metadata": {
    "collapsed": false
   },
   "outputs": [
    {
     "name": "stdout",
     "output_type": "stream",
     "text": [
      "Vglb_offset=0.7\n",
      "startV=-20 V, endV=20 V, current volt=20 V\n",
      "Measurement done!!!\n",
      "Wall time: 8h 42min 17s\n"
     ]
    }
   ],
   "source": [
    "%%time\n",
    "###########################################################################\n",
    "# set up parameters\n",
    "startFreq, endFreq = 6.77e9, 6.81e9 # 6.935e9, 6.9450e9 #6.7949e9 , 6.9676e9 #6.83e9, 6.894e9#6.856e9, 7.015e9 #6.85e9, 7.05e9\n",
    "power = -60\n",
    "numPoints, IFbandwidth, avg = 801, 1000, 1\n",
    "startVolt, endVolt, stepVolt = -20, 20, 0.2 #-5, 5, 0.05 #  #-15, 15, 0.4#-20, 20, 0.5 #-1, 1.5, 0.04\n",
    "endV = 0  # end voltage for both global and onchip flux\n",
    "startVolt1, endVolt1, stepVolt1 =-5.3, 0.7, 0.05\n",
    "\n",
    "slop, Vglb_offset = -0.0659, -0.5  # Vglb = slope * Vchip + Vglb_offset. Vglb_offset is the y-intercept in Vchip(x-axxis) vs Vglb (y) axis.\n",
    "\n",
    "#save_path = 'Z:\\User\\JJ\\SFQ2\\C6'\n",
    "save_path = 'Z:\\User\\Jaseung\\projects\\CSFQ\\measurement\\W3\\B7\\BlueFors\\Jan2017\\S21vsFreqvsV\\AlongNormVchipAxis'\n",
    "surfix = 'Q1_VchipAxis'\n",
    "commentStr= 'slope={:.3g}, Vglb_offset={:.3g}'.format(slope, Vglb_offset)\n",
    "\n",
    "############################################################################\n",
    "\n",
    "# dictionary for parameters to be saved in json file. Solely for log.\n",
    "xID, xStart, xEnd, xStep = 'Volt (V)', startVolt, endVolt, stepVolt\n",
    "yID, yStart, yEnd, yStep = 'Frequency (Hz)',startFreq, endFreq, (endFreq-startFreq)/(numPoints-1)\n",
    "zID, zStart, zEnd, zStep = 'Volt (V)', startVolt1, endVolt1, stepVolt1\n",
    "para = dict([('xID', xID), ('xStart', xStart), ('xEnd', xEnd)\n",
    "             , ('yID', yID), ('yStart', yStart), ('yEnd', yEnd)\n",
    "             ,('zID', zID), ('zStart', zStart), ('zEnd', zEnd), ('Power (dBm)', power)\n",
    "             , ('numPoints',numPoints), ('IFbandwidth (Hz)', IFbandwidth) \n",
    "             , ('avg',avg), ('comment', commentStr)])\n",
    "\n",
    "# log file setup\n",
    "FAA = float(lsci.tempGet('B')) # get temperature\n",
    "baseStr = 'S21vsFvsV_fr{:.9g}_{:.9g}_Pr{:.4g}_V{}_{}_{}_T{:.4g}_{}'\n",
    "baseFileName = baseStr.format(startFreq/1e9, endFreq/1e9, power, startVolt, endVolt, stepVolt, FAA, surfix)\n",
    "logFileName =  os.path.join(save_path, baseFileName + '.json')\n",
    "with open(logFileName, 'w') as f:\n",
    "    json.dump(para,f,indent=4, sort_keys=True)\n",
    "\n",
    "# plot setup\n",
    "#plotobj= myplots_py3.plot2D(ylabel = 'Frequency(Hz)', xlabel='Volt (V)', title = 'S21 vs Freq vs Volt')\n",
    "\n",
    "# preconfigure instrument\n",
    "pna.setupMeas()\n",
    "pna.setSweepType('linear')\n",
    "pna.setFreqStartEnd(startFreq, endFreq)\n",
    "pna.setPwr(power)\n",
    "pna.avgCount(avg)\n",
    "pna.numPoints(numPoints)\n",
    "pna.setIF(IFbandwidth)\n",
    "pna.pwrOn()\n",
    "\n",
    "sim_glb.setVoltage(slope * startVolt + Vglb_offset)\n",
    "sim_chip.setVoltage(startVolt)\n",
    "\n",
    "time.sleep(2)\n",
    "\n",
    "################ sweep start ################\n",
    "for Vglb_offset in np.arange(startVolt1, endVolt1+stepVolt1, stepVolt1):\n",
    "    # data initialization\n",
    "    S21_mag_log_2D, S21_phase_2D = np.array([]), np.array([])\n",
    "\n",
    "    #sim_glb.setVoltage(volt_outer)\n",
    "    \n",
    "    for volt_inner in np.arange(startVolt, endVolt + stepVolt, stepVolt): # traverse in [pmin, pmax].\n",
    "        clear_output()\n",
    "        print('Vglb_offset={:.3g}'.format(Vglb_offset))\n",
    "        print('startV={:.3g} V, endV={:.3g} V, current volt={:.3g} V'.format(startVolt, endVolt, volt_inner))\n",
    "\n",
    "        # configure\n",
    "        sim_chip.setVoltage(volt_inner)\n",
    "        sim_glb.setVoltage(slope * volt_inner + Vglb_offset)\n",
    "        time.sleep(0.1)\n",
    "        pna.avgClear()\n",
    "\n",
    "        # fetch data from PNA\n",
    "        freq, S21 = pna.getData(cplx=True) # S21 in linear scale\n",
    "\n",
    "        # S21 conversion\n",
    "        S21_real, S21_imag = np.real(S21), np.imag(S21)\n",
    "        S21_mag, S21_phase = np.sqrt(S21_real**2 + S21_imag**2), np.angle(S21, deg=True) # phase in degree\n",
    "        S21_mag_log = 20.0 * np.log10(S21_mag)    # dB\n",
    "\n",
    "        if S21_mag_log_2D.size == 0: # when S21_mag_2D is empty\n",
    "            S21_mag_log_2D = S21_mag_log\n",
    "            S21_mag_log_2D.shape = (S21_mag_log.size, 1)\n",
    "            S21_phase_2D = S21_phase\n",
    "            S21_phase_2D.shape = (S21_phase.size, 1)\n",
    "        else:\n",
    "            S21_mag_log_2D = np.column_stack((S21_mag_log_2D, S21_mag_log))\n",
    "            S21_phase_2D = np.column_stack((S21_phase_2D, S21_phase))\n",
    "\n",
    "        # plot update\n",
    "        #extent = [startVolt, volt, startFreq, endFreq]\n",
    "        #plotobj.update(S21_mag_log_2D, extent)\n",
    "     \n",
    "    sim_chip.setVoltage(endV)\n",
    "    time.sleep(3)\n",
    "     \n",
    "    # save at the end of inner loop\n",
    "    fileIdStr = '_Vglb_offset={:.3g}'.format(Vglb_offset)\n",
    "    dataFileName_mag, dataFileName_phase  = (os.path.join(save_path, baseFileName + fileIdStr + '_mag.dat'), \n",
    "                                             os.path.join(save_path, baseFileName + fileIdStr + '_phase.dat'))\n",
    "    f_mag = open(dataFileName_mag, 'w') \n",
    "    f_phase = open(dataFileName_phase, 'w') \n",
    "    np.savetxt(f_mag, S21_mag_log_2D, fmt='%.9g', delimiter='\\t') \n",
    "    np.savetxt(f_phase, S21_phase_2D, fmt='%.9g', delimiter='\\t')\n",
    "    f_mag.close()\n",
    "    f_phase.close()\n",
    "############## sweep end #########################    \n",
    "\n",
    "# Post measurement   \n",
    "del S21_mag_log_2D, S21_phase_2D\n",
    "pna.pwrOff()\n",
    "sim_glb.setVoltage(endV)\n",
    "sim_chip.setVoltage(endV)\n",
    "print('Measurement done!!!')"
   ]
  },
  {
   "cell_type": "markdown",
   "metadata": {},
   "source": [
    "# S21 vs flux1 vs flux2, 2D"
   ]
  },
  {
   "cell_type": "code",
   "execution_count": 27,
   "metadata": {
    "collapsed": false
   },
   "outputs": [
    {
     "name": "stdout",
     "output_type": "stream",
     "text": [
      "Once deleted, variables cannot be recovered. Proceed (y/[n])? y\n"
     ]
    }
   ],
   "source": [
    "%reset"
   ]
  },
  {
   "cell_type": "code",
   "execution_count": 13,
   "metadata": {
    "collapsed": false
   },
   "outputs": [],
   "source": [
    "import sys\n",
    "for i in dir():\n",
    "    try:\n",
    "        print (i, eval(i).nbytes )\n",
    "    except:\n",
    "        print (i, sys.getsizeof(eval(i)) )\n",
    "\n",
    "clear_output()"
   ]
  },
  {
   "cell_type": "code",
   "execution_count": 52,
   "metadata": {
    "collapsed": false
   },
   "outputs": [
    {
     "data": {
      "text/plain": [
       "<module 'SIM' from 'Z:\\\\User\\\\Jaseung\\\\programs\\\\pythonCode\\\\PNA\\\\SIM.py'>"
      ]
     },
     "execution_count": 52,
     "metadata": {},
     "output_type": "execute_result"
    }
   ],
   "source": [
    "reload(SIM)"
   ]
  },
  {
   "cell_type": "code",
   "execution_count": 43,
   "metadata": {
    "collapsed": false
   },
   "outputs": [
    {
     "name": "stdout",
     "output_type": "stream",
     "text": [
      "Wall time: 0 ns\n"
     ]
    }
   ],
   "source": [
    "%%time\n",
    "def s21vsV1vsV2(readoutFreq):\n",
    "    ##############################################################################\n",
    "    # set up parameters\n",
    "    readoutPwr = -60\n",
    "    #readoutFreq = 6.7736e9 #6.7696e9 #6.7645e9\n",
    "    numPoints, IFbandwidth, avg = 50, 500, 1\n",
    "    startVolt1, endVolt1, stepVolt1 =-7, 7, 0.4#-10, 10, 0.2 #-10, 10, 0.05 #-1.2, 1, 0.025 # outer for-loop\n",
    "    startVolt2, endVolt2, stepVolt2 =-20, 20, 1 #-20, 20, 0.5 #-20, 20, 0.5 # y axis. Inner for-loop.\n",
    "    endVolt = 0\n",
    "\n",
    "    surfix = 'Q1_V2=onchip'\n",
    "    save_path = r'Z:\\User\\Jaseung\\projects\\CSFQ\\measurement\\W5\\B3\\DR1\\S21vsV1vsV2'\n",
    "    commentStr='with no spec setup'\n",
    "    ##############################################################################\n",
    "\n",
    "    xID, xStart, xEnd, xStep = 'Volt1 (V)', startVolt1, endVolt1, stepVolt1\n",
    "    yID, yStart, yEnd, yStep = 'Volt2 (V)', startVolt2, endVolt2, stepVolt2\n",
    "    para = dict([('xID', xID), ('xStart', xStart), ('xEnd', xEnd)\n",
    "                 , ('yID', yID), ('yStart', yStart), ('yEnd', yEnd)\n",
    "                 , ('readoutFreq (Hz)',readoutFreq),('power (dBm)',readoutPwr)\n",
    "                 , ('numPoints',numPoints), ('IFbandwidth (Hz)', IFbandwidth) \n",
    "                 , ('avg',avg), ('comment', commentStr)])\n",
    "\n",
    "    # file setup\n",
    "    baseStr = 'S21vsV1vsV2_fr{:.9g}_Pr{:.4g}_V1_{}_{}_{}_V2_{}_{}_{}_{}'\n",
    "    baseFileName = baseStr.format(readoutFreq/1e9, readoutPwr, startVolt1, endVolt1, stepVolt1, startVolt2, endVolt2, stepVolt2,surfix)\n",
    "    dataFileName1  = os.path.join(save_path, baseFileName + '_mag.dat')\n",
    "    dataFileName2  = os.path.join(save_path, baseFileName + '_phase.dat')\n",
    "    logFileName =  os.path.join(save_path, baseFileName + '.json')\n",
    "    with open(logFileName, 'w') as f_log:\n",
    "        json.dump(para, f_log, indent=4, sort_keys=True)\n",
    "\n",
    "    # plot setup\n",
    "    plotobj= myplots_py3.plot2D_4sub(xlabel1 = 'Voltage2 (V)', ylabel1='S21 (dB)', \n",
    "                                 xlabel2 = 'Voltage2 (V)', ylabel2='Phase(degree)',\n",
    "                                 xlabel3 = 'Voltage, Vglb (V)', ylabel3='Voltage, Vchip (V)',\n",
    "                                 xlabel4 = 'Voltage, Vglb (V)', ylabel4='Voltage, Vchip (V)',\n",
    "                                 title = 'S21 vs Global Flux vs Gradiometric Flux', figsize=(12,8))\n",
    "\n",
    "    # preconfigure instrument\n",
    "    pna.setupMeas()\n",
    "    pna.setSweepType(mode='CW')\n",
    "    pna.setCWFreq(readoutFreq)\n",
    "    pna.setPwr(readoutPwr)\n",
    "    pna.avgCount(avg)\n",
    "    pna.numPoints(numPoints)\n",
    "    pna.setIF(IFbandwidth)\n",
    "    pna.pwrOn()\n",
    "\n",
    "    sim_glb.setVoltage(startVolt1)\n",
    "    time.sleep(2)\n",
    "    sim_chip.setVoltage(startVolt2)\n",
    "    time.sleep(2)\n",
    "\n",
    "    # data initialization\n",
    "    data1_2D, data2_2D = np.array([]), np.array([])\n",
    "\n",
    "    ################ sweep start ################\n",
    "    #for specFreq in arange(startFreq, endFreq + stepFreq, stepFreq): # traverse in [pmin, pmax].\n",
    "    for volt1 in np.around(np.arange(startVolt1, endVolt1 + stepVolt1, stepVolt1), decimals=3) :\n",
    "        #configure para\n",
    "        sim_glb.setVoltage(volt1)\n",
    "        clear_output()\n",
    "        print('startVolt1={:.3g}, endtvolt1={:.3g}'.format(startVolt1, endVolt1))\n",
    "        print('curren volt1={:.3g}'.format(volt1))\n",
    "\n",
    "        # data initialization\n",
    "        xdata1, ydata1, ydata2 = np.array([]), np.array([]), np.array([])\n",
    "\n",
    "        for volt2 in np.around(np.arange(startVolt2, endVolt2 + stepVolt2, stepVolt2), decimals=3):\n",
    "    #         clear_output()\n",
    "    #         print('startVolt1={:.3g}, endtvolt1={:.3g}'.format(startVolt1, endVolt1))\n",
    "    #         print('startVolt2={:.3g}, endtvolt2={:.3g}'.format(startVolt2, endVolt2))\n",
    "    #         print('volt1={:.3g}, volt2={:.3g}'.format(volt1, volt2)) \n",
    "\n",
    "            # configure\n",
    "            pna.avgClear()\n",
    "            sim_chip.setVoltage(volt2)\n",
    "\n",
    "            # fetch data from PNA\n",
    "            freq, S21= pna.getData(cplx=True) # S21 in linear scale\n",
    "\n",
    "            # S21 conversion\n",
    "            S21_real, S21_imag = np.real(S21), np.imag(S21)\n",
    "            S21_mag, S21_phase = np.sqrt(S21_real**2 + S21_imag**2), np.angle(S21, deg=True) # phase in degree\n",
    "            S21_mag_log = 20.0 * np.log10(S21_mag)    # dB\n",
    "\n",
    "            S21_mag_log_avg = np.average(S21_mag_log) \n",
    "            S21_phase_avg = np.average(S21_phase)\n",
    "\n",
    "            xdata1 = np.append(xdata1, volt2)\n",
    "            ydata1 = np.append(ydata1, S21_mag_log_avg)\n",
    "            ydata2 = np.append(ydata2, S21_phase_avg)\n",
    "\n",
    "            # plot and update\n",
    "            plotobj.update1D(xdata1, ydata1, xdata1, ydata2)\n",
    "\n",
    "\n",
    "        if data1_2D.size == 0: # when S21_mag_2D is empty\n",
    "            data1_2D = ydata1 # make 2D array\n",
    "            data1_2D.shape = (data1_2D.size, 1)\n",
    "            data2_2D = ydata2\n",
    "            data2_2D.shape = (data2_2D.size, 1)\n",
    "\n",
    "        else:\n",
    "            data1_2D = np.column_stack((data1_2D, ydata1))\n",
    "            data2_2D = np.column_stack((data2_2D, ydata2))\n",
    "\n",
    "        # plot and update\n",
    "        extent = [startVolt1, volt1, startVolt2, endVolt2]\n",
    "        plotobj.update2D(data1_2D, data2_2D, extent, cmap='Blues_r')\n",
    "\n",
    "        # save data in each iteration\n",
    "        f_mag = open(dataFileName1, 'wb') \n",
    "        f_phase = open(dataFileName2, 'wb') \n",
    "        np.savetxt(f_mag, data1_2D, fmt='%.9g', delimiter='\\t') \n",
    "        np.savetxt(f_phase, data2_2D, fmt='%.9g', delimiter='\\t')\n",
    "        f_mag.close()\n",
    "        f_phase.close()\n",
    "\n",
    "    ############## sweep end #########################    \n",
    "\n",
    "    # Post measurement    \n",
    "    pna.pwrOff()\n",
    "    pna.setSweepType(mode='linear')\n",
    "    del data1_2D, data2_2D\n",
    "    sim_glb.setVoltage(endVolt)\n",
    "    sim_chip.setVoltage(endVolt)\n",
    "    f_log.close()\n",
    "    print('Measurement done!!!')"
   ]
  },
  {
   "cell_type": "code",
   "execution_count": 44,
   "metadata": {
    "collapsed": false
   },
   "outputs": [
    {
     "name": "stdout",
     "output_type": "stream",
     "text": [
      "startVolt1=-7, endtvolt1=7\n",
      "curren volt1=7\n",
      "Measurement done!!!\n",
      "Wall time: 8min 7s\n"
     ]
    }
   ],
   "source": [
    "%%time\n",
    "# for cavFreq in np.linspace(6.9975e9, 7.0098e9,6):\n",
    "#     print('readout freq={:.6g}'.format(cavFreq))\n",
    "#     s21vsV1vsV2(cavFreq)\n",
    "s21vsV1vsV2(6.8427e9)\n",
    "# s21vsV1vsV2(7.0013e9)\n",
    "# s21vsV1vsV2(7.00242e9)\n",
    "\n"
   ]
  },
  {
   "cell_type": "code",
   "execution_count": 15,
   "metadata": {
    "collapsed": false
   },
   "outputs": [
    {
     "data": {
      "text/plain": [
       "array([  6.76690000e+09,   6.77206000e+09,   6.77722000e+09,\n",
       "         6.78238000e+09,   6.78754000e+09,   6.79270000e+09])"
      ]
     },
     "execution_count": 15,
     "metadata": {},
     "output_type": "execute_result"
    }
   ],
   "source": [
    "np.linspace(6.7669e9, 6.7927e9,6)"
   ]
  },
  {
   "cell_type": "code",
   "execution_count": 65,
   "metadata": {
    "collapsed": false
   },
   "outputs": [
    {
     "ename": "KeyboardInterrupt",
     "evalue": "",
     "output_type": "error",
     "traceback": [
      "\u001b[0;31m---------------------------------------------------------------------------\u001b[0m",
      "\u001b[0;31mKeyboardInterrupt\u001b[0m                         Traceback (most recent call last)",
      "\u001b[0;32m<ipython-input-65-7cfcce5e9e45>\u001b[0m in \u001b[0;36m<module>\u001b[0;34m()\u001b[0m\n\u001b[1;32m     11\u001b[0m     \u001b[1;31m#instr.write('SNDT {}, \"VOLT {}\"'.format(self.channel, value))\u001b[0m\u001b[1;33m\u001b[0m\u001b[1;33m\u001b[0m\u001b[0m\n\u001b[1;32m     12\u001b[0m     \u001b[1;31m#print('volt1={:.3g}'.format(volt1))\u001b[0m\u001b[1;33m\u001b[0m\u001b[1;33m\u001b[0m\u001b[0m\n\u001b[0;32m---> 13\u001b[0;31m     \u001b[0mtime\u001b[0m\u001b[1;33m.\u001b[0m\u001b[0msleep\u001b[0m\u001b[1;33m(\u001b[0m\u001b[1;36m1\u001b[0m\u001b[1;33m)\u001b[0m\u001b[1;33m\u001b[0m\u001b[0m\n\u001b[0m",
      "\u001b[0;31mKeyboardInterrupt\u001b[0m: "
     ]
    }
   ],
   "source": [
    "startVolt1, endVolt1, stepVolt1 =-5, 5, 0.2#-10, 10, 0.2 #-10, 10, 0.05 #-1.2, 1, 0.025 # outer for-loop\n",
    "startVolt2, endVolt2, stepVolt2 =-6, 6, 1 #-20, 20, 0.5 #-20, 20, 0.5 # y axis. Inner for-loop.\n",
    "rm = visa.ResourceManager()\n",
    "#instr = rm.get_instrument('GPIB0::15DDR) + '::INSTR')\n",
    "#vrange=np.arange(startVolt1, endVolt1 + stepVolt1, stepVolt1)\n",
    "#print(vrange)   \n",
    "\n",
    "for volt1 in np.around(np.arange(startVolt1, endVolt1 + stepVolt1, stepVolt1), decimals=3) :\n",
    "    #configure para\n",
    "    sim_chip.setVoltage(volt1)\n",
    "    #instr.write('SNDT {}, \"VOLT {}\"'.format(self.channel, value))\n",
    "    #print('volt1={:.3g}'.format(volt1)) \n",
    "    time.sleep(1)"
   ]
  },
  {
   "cell_type": "code",
   "execution_count": 63,
   "metadata": {
    "collapsed": false
   },
   "outputs": [
    {
     "data": {
      "text/plain": [
       "array([ 3.1236])"
      ]
     },
     "execution_count": 63,
     "metadata": {},
     "output_type": "execute_result"
    }
   ],
   "source": [
    "np.around([3.12356], decimals=4)\n",
    "#print(aa[1], round(aa[1],3))"
   ]
  },
  {
   "cell_type": "markdown",
   "metadata": {},
   "source": [
    "# S21 vs Freq vs Flux (linear comb. of flux1 and flux2), 2D"
   ]
  },
  {
   "cell_type": "code",
   "execution_count": 10,
   "metadata": {
    "collapsed": false
   },
   "outputs": [
    {
     "name": "stdout",
     "output_type": "stream",
     "text": [
      "Wall time: 0 ns\n"
     ]
    }
   ],
   "source": [
    "%%time\n",
    "def s21vsfreqvsfluxcombined(slope, Vglb_offset):\n",
    "    ###########################################################################\n",
    "    # set up parameters\n",
    "    startFreq, endFreq =  6.75e9, 6.78e9 #6.83e9, 6.894e9#6.856e9, 7.015e9 #6.85e9, 7.05e9\n",
    "    power = -50\n",
    "    numPoints, IFbandwidth, avg = 801, 1000, 1\n",
    "    startVolt, endVolt, stepVolt =-15, 15, 0.25#-20, 20, 0.5 #-1, 1.5, 0.04\n",
    "    endV = 0\n",
    "\n",
    "    #slope, Vglb_offset =-1.85/22.5, 2.4 # 0.2107, 0# 2.484#-0.3378, -0.9641# -0.0659, 0.7   # offset means Vglb when Vchip=0\n",
    "\n",
    "    #save_path = 'Z:\\User\\JJ\\sput\\M5_1_spec'\n",
    "    save_path = r'Z:\\User\\Jaseung\\projects\\CSFQ\\measurement\\W4\\B5\\BlueFors\\S21vsFreqvsV'\n",
    "    surfix = 'Q1_xID=Vchip_slope{:.3g}_Vglb_offset{:.3g}'.format(slope, Vglb_offset)\n",
    "    comment= 'slope={:.3g}, Vglb_offset={:.3g}'.format(slope, Vglb_offset)\n",
    "\n",
    "    plottitle = 'S21 vs Freq vs Vchip, slope={:.3g}, Vglb_offset={:.3g}'.format(slope,Vglb_offset)\n",
    "\n",
    "    ############################################################################\n",
    "\n",
    "    # dictionary for parameters to be saved in json file. Solely for log.\n",
    "    xID, xStart, xEnd, xStep = 'Volt (slope, Vglb_offset)', startVolt, endVolt, stepVolt\n",
    "    yID, yStart, yEnd, yStep = 'Frequency (Hz)',startFreq, endFreq, (endFreq-startFreq)/(numPoints-1)\n",
    "    para = dict([('xID', xID), ('xStart', xStart), ('xEnd', xEnd)\n",
    "                 , ('yID', yID), ('yStart', yStart), ('yEnd', yEnd), ('Power (dBm)', power)\n",
    "                 , ('numPoints',numPoints), ('IFbandwidth (Hz)', IFbandwidth) \n",
    "                 , ('avg',avg), ('comment', comment)])\n",
    "\n",
    "    # file setup\n",
    "    baseStr = 'S21vsFvsV_fr{:.9g}_{:.9g}_Pr{:.4g}_V{}_{}_{}_{}'\n",
    "    baseFileName = baseStr.format(startFreq/1e9, endFreq/1e9, power, startVolt, endVolt, stepVolt, surfix)\n",
    "    dataFileName_mag, dataFileName_phase  = (os.path.join(save_path, baseFileName + '_mag.dat'), \n",
    "                                             os.path.join(save_path, baseFileName + '_phase.dat'))\n",
    "    logFileName =  os.path.join(save_path, baseFileName + '.json')\n",
    "    with open(logFileName, 'w') as f:\n",
    "        json.dump(para,f,indent=4, sort_keys=True)\n",
    "\n",
    "    # plot setup\n",
    "    plotobj= myplots_py3.plot2D(ylabel = 'Frequency(Hz)', xlabel='Volt (V)', title = plottitle)\n",
    "\n",
    "    # preconfigure instrument\n",
    "    pna.setupMeas()\n",
    "    pna.setSweepType('linear')\n",
    "    pna.setFreqStartEnd(startFreq, endFreq)\n",
    "    pna.setPwr(power)\n",
    "    pna.avgCount(avg)\n",
    "    pna.numPoints(numPoints)\n",
    "    pna.setIF(IFbandwidth)\n",
    "    pna.pwrOn()\n",
    "\n",
    "    sim_glb.setVoltage(slope*startVolt+Vglb_offset)\n",
    "    sim_chip.setVoltage(startVolt)\n",
    "    time.sleep(2)\n",
    "\n",
    "    # data initialization\n",
    "    S21_mag_log_2D, S21_phase_2D = np.array([]), np.array([])\n",
    "\n",
    "    ################ sweep start ################\n",
    "    for volt_chip in np.around(np.arange(startVolt, endVolt + stepVolt, stepVolt), decimals=3): # traverse in [pmin, pmax].\n",
    "        # configure\n",
    "        volt_glb =  slope * volt_chip + Vglb_offset\n",
    "        #volt_glb = -1/slope* (volt_chip-20) - 0.55\n",
    "        clear_output()\n",
    "        print('volt_glb={:.3g}, volt_chip={:.3g}'.format(volt_glb, volt_chip))\n",
    "        sim_chip.setVoltage(volt_chip)\n",
    "        sim_glb.setVoltage(volt_glb)\n",
    "\n",
    "        time.sleep(0.1)\n",
    "        pna.avgClear()\n",
    "\n",
    "        # fetch data from PNA\n",
    "        freq, S21 = pna.getData(cplx=True) # S21 in linear scale\n",
    "\n",
    "        # S21 conversion\n",
    "        S21_real, S21_imag = np.real(S21), np.imag(S21)\n",
    "        S21_mag, S21_phase = np.sqrt(S21_real**2 + S21_imag**2), np.angle(S21, deg=True) # phase in degree\n",
    "        S21_mag_log = 20.0 * np.log10(S21_mag)    # dB\n",
    "\n",
    "        if S21_mag_log_2D.size == 0: # when S21_mag_2D is empty\n",
    "            S21_mag_log_2D = S21_mag_log\n",
    "            S21_mag_log_2D.shape = (S21_mag_log.size, 1)\n",
    "            S21_phase_2D = S21_phase\n",
    "            S21_phase_2D.shape = (S21_phase.size, 1)\n",
    "        else:\n",
    "            S21_mag_log_2D = np.column_stack((S21_mag_log_2D, S21_mag_log))\n",
    "            S21_phase_2D = np.column_stack((S21_phase_2D, S21_phase))\n",
    "\n",
    "        # plot update\n",
    "        extent = [startVolt, volt_chip, startFreq, endFreq]\n",
    "        plotobj.update(S21_mag_log_2D, extent)\n",
    "\n",
    "        # save data in each iteration\n",
    "        f_mag = open(dataFileName_mag, 'wb') \n",
    "        f_phase = open(dataFileName_phase, 'wb') \n",
    "        np.savetxt(f_mag, S21_mag_log_2D, fmt='%.9g', delimiter='\\t') \n",
    "        np.savetxt(f_phase, S21_phase_2D, fmt='%.9g', delimiter='\\t')\n",
    "        f_mag.close()\n",
    "        f_phase.close()\n",
    "\n",
    "    ############## sweep end #########################    \n",
    "\n",
    "    # Post measurement   \n",
    "    del S21_mag_log_2D, S21_phase_2D\n",
    "    pna.pwrOff()\n",
    "    sim_glb.setVoltage(endV)\n",
    "    sim_chip.setVoltage(endV)\n",
    "    print('Measurement done!!!')"
   ]
  },
  {
   "cell_type": "code",
   "execution_count": 9,
   "metadata": {
    "collapsed": false
   },
   "outputs": [
    {
     "name": "stdout",
     "output_type": "stream",
     "text": [
      "volt_glb=0.336, volt_chip=15\n",
      "Measurement done!!!\n"
     ]
    }
   ],
   "source": [
    "#s21vsfreqvsfluxcombined(-1.85/22.5,  -0.372222)  #A line\n",
    "\n",
    "#s21vsfreqvsfluxcombined(1.55/21,  -0.535714)  # B line\n",
    "#s21vsfreqvsfluxcombined(-0.1/22, 0.404545)  # D line"
   ]
  },
  {
   "cell_type": "code",
   "execution_count": 1,
   "metadata": {
    "collapsed": true
   },
   "outputs": [],
   "source": [
    "import SIM"
   ]
  },
  {
   "cell_type": "code",
   "execution_count": 2,
   "metadata": {
    "collapsed": true
   },
   "outputs": [],
   "source": [
    "sim_glb = SIM.SIM(18, channel=3)\n",
    "sim_chip = SIM.SIM(19, channel=1)"
   ]
  },
  {
   "cell_type": "code",
   "execution_count": 3,
   "metadata": {
    "collapsed": true
   },
   "outputs": [],
   "source": [
    "sim_glb.setVoltage(0.7)\n",
    "sim_chip.setVoltage(0.625)"
   ]
  },
  {
   "cell_type": "code",
   "execution_count": null,
   "metadata": {
    "collapsed": true
   },
   "outputs": [],
   "source": []
  }
 ],
 "metadata": {
  "anaconda-cloud": {},
  "kernelspec": {
   "display_name": "Python [default]",
   "language": "python",
   "name": "python3"
  },
  "language_info": {
   "codemirror_mode": {
    "name": "ipython",
    "version": 3
   },
   "file_extension": ".py",
   "mimetype": "text/x-python",
   "name": "python",
   "nbconvert_exporter": "python",
   "pygments_lexer": "ipython3",
   "version": "3.5.2"
  }
 },
 "nbformat": 4,
 "nbformat_minor": 0
}
