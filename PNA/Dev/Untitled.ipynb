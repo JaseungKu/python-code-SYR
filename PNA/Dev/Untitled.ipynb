{
 "cells": [
  {
   "cell_type": "code",
   "execution_count": 1,
   "metadata": {},
   "outputs": [],
   "source": [
    "#%matplotlib\n",
    "# import modules\n",
    "import matplotlib.pyplot as plt\n",
    "import numpy as np\n",
    "import json\n",
    "import visa\n",
    "import myplots, myutils # custom modules\n",
    "import os.path\n",
    "import time\n",
    "\n",
    "# instrument drivers\n",
    "import SIM\n",
    "import AgilentN5230A\n",
    "import LSCI332S\n",
    "#import HittiteHMC\n",
    "#import AgilentMXG\n",
    "\n",
    "# instrumentinitialization\n",
    "pna = AgilentN5230A.AgilentN5230A(14)\n",
    "#sim_glb = SIM.SIM(19, channel=3)\n",
    "#sim_chip = SIM.SIM(19, channel=1)\n",
    "#lsci = LSCI332S.LSCI332S(2)\n",
    "#spec = HittiteHMC.HittiteHMC(18)\n",
    "#spec = AgilentMXG.AgilentMXG(30)"
   ]
  },
  {
   "cell_type": "code",
   "execution_count": 2,
   "metadata": {},
   "outputs": [
    {
     "name": "stdout",
     "output_type": "stream",
     "text": [
      "Initialized S21 Measurement 'S21Meas'\n"
     ]
    },
    {
     "data": {
      "text/plain": [
       "'S21Meas'"
      ]
     },
     "execution_count": 2,
     "metadata": {},
     "output_type": "execute_result"
    }
   ],
   "source": [
    "pna.setupMeas()"
   ]
  },
  {
   "cell_type": "code",
   "execution_count": 16,
   "metadata": {},
   "outputs": [],
   "source": [
    "pna.setFreqStartEnd(4.5e9,5.5e9)"
   ]
  },
  {
   "cell_type": "code",
   "execution_count": 2,
   "metadata": {},
   "outputs": [
    {
     "name": "stdout",
     "output_type": "stream",
     "text": [
      "Using matplotlib backend: Qt5Agg\n"
     ]
    }
   ],
   "source": [
    "%matplotlib"
   ]
  },
  {
   "cell_type": "code",
   "execution_count": 6,
   "metadata": {},
   "outputs": [],
   "source": [
    "import myplots_py3\n",
    "import numpy as np\n",
    "import time\n",
    "\n",
    "plotobj = myplots_py3.plot1D()\n",
    "\n",
    "freq, s21 = [],[]\n",
    "\n",
    "for i in range(200):\n",
    "    freq.append(i)\n",
    "    s21 = np.sin(freq)\n",
    "    plotobj.update(freq, s21)\n",
    "    time.sleep(0)"
   ]
  },
  {
   "cell_type": "code",
   "execution_count": null,
   "metadata": {
    "collapsed": true
   },
   "outputs": [],
   "source": []
  }
 ],
 "metadata": {
  "kernelspec": {
   "display_name": "Python 3",
   "language": "python",
   "name": "python3"
  },
  "language_info": {
   "codemirror_mode": {
    "name": "ipython",
    "version": 3
   },
   "file_extension": ".py",
   "mimetype": "text/x-python",
   "name": "python",
   "nbconvert_exporter": "python",
   "pygments_lexer": "ipython3",
   "version": "3.6.1"
  }
 },
 "nbformat": 4,
 "nbformat_minor": 1
}
