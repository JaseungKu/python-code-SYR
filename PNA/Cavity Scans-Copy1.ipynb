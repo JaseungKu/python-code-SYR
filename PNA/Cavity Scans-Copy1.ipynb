{
 "cells": [
  {
   "cell_type": "markdown",
   "metadata": {},
   "source": [
    "# Import modules. Run once"
   ]
  },
  {
   "cell_type": "code",
   "execution_count": 1,
   "metadata": {
    "ExecuteTime": {
     "end_time": "2019-04-26T23:59:52.012766Z",
     "start_time": "2019-04-26T23:59:46.844363Z"
    }
   },
   "outputs": [
    {
     "name": "stdout",
     "output_type": "stream",
     "text": [
      "Using matplotlib backend: Qt5Agg\n"
     ]
    }
   ],
   "source": [
    "%matplotlib\n",
    "\n",
    "# import system modules\n",
    "import sys\n",
    "import os.path\n",
    "import matplotlib.pyplot as plt   \n",
    "from IPython.display import clear_output\n",
    "import numpy as np\n",
    "import json\n",
    "import visa\n",
    "import time\n",
    "from scipy import optimize\n",
    "from math import pi\n",
    "\n",
    "# Add path\n",
    "#sys.path.remove(r'\\\\shared.ad.syr.edu\\AS-Filer\\PHY-PRL-labshare\\Programs\\python\\Drivers')\n",
    "#sys.path.append(r'Z:\\User\\Jaseung\\programs\\pythonCode\\Instrument Driver') # path added\n",
    "sys.path.append('..\\Instrument Driver') # path added\n",
    "\n",
    "sys.path.append('..\\Helper') # path added\n",
    "\n",
    "# custom modules\n",
    "import myplots_py3, myutils # Jaseung's custom modules\n"
   ]
  },
  {
   "cell_type": "markdown",
   "metadata": {},
   "source": [
    "# Set up devices to use. Modify and run once."
   ]
  },
  {
   "cell_type": "code",
   "execution_count": 2,
   "metadata": {
    "ExecuteTime": {
     "end_time": "2019-04-27T00:00:00.272444Z",
     "start_time": "2019-04-26T23:59:59.459547Z"
    }
   },
   "outputs": [
    {
     "ename": "VisaIOError",
     "evalue": "VI_ERROR_RSRC_NFOUND (-1073807343): Insufficient location information or the requested device or resource is not present in the system.",
     "output_type": "error",
     "traceback": [
      "\u001b[1;31m---------------------------------------------------------------------------\u001b[0m",
      "\u001b[1;31mVisaIOError\u001b[0m                               Traceback (most recent call last)",
      "\u001b[1;32m<ipython-input-2-d8e8cfd8f0a9>\u001b[0m in \u001b[0;36m<module>\u001b[1;34m()\u001b[0m\n\u001b[0;32m     23\u001b[0m \u001b[1;31m#spec = AgilentMXG.AgilentMXG(30)\u001b[0m\u001b[1;33m\u001b[0m\u001b[1;33m\u001b[0m\u001b[0m\n\u001b[0;32m     24\u001b[0m \u001b[1;31m#pump = SynthHD.SynthHD(18)\u001b[0m\u001b[1;33m\u001b[0m\u001b[1;33m\u001b[0m\u001b[0m\n\u001b[1;32m---> 25\u001b[1;33m \u001b[0mpna\u001b[0m \u001b[1;33m=\u001b[0m \u001b[0mKeysightP9372A\u001b[0m\u001b[1;33m.\u001b[0m\u001b[0mKeysightP9372A\u001b[0m\u001b[1;33m(\u001b[0m\u001b[1;36m10\u001b[0m\u001b[1;33m)\u001b[0m\u001b[1;33m\u001b[0m\u001b[0m\n\u001b[0m\u001b[0;32m     26\u001b[0m \u001b[1;33m\u001b[0m\u001b[0m\n\u001b[0;32m     27\u001b[0m \u001b[1;31m# fridge type.\u001b[0m\u001b[1;33m\u001b[0m\u001b[1;33m\u001b[0m\u001b[0m\n",
      "\u001b[1;32mZ:\\User\\Jaseung\\programs\\pythonCode\\Instrument Driver\\KeysightP9372A.py\u001b[0m in \u001b[0;36m__init__\u001b[1;34m(self, USB_ADDR)\u001b[0m\n\u001b[0;32m     15\u001b[0m         \u001b[0mself\u001b[0m\u001b[1;33m.\u001b[0m\u001b[0mrm\u001b[0m \u001b[1;33m=\u001b[0m \u001b[0mvisa\u001b[0m\u001b[1;33m.\u001b[0m\u001b[0mResourceManager\u001b[0m\u001b[1;33m(\u001b[0m\u001b[1;33m)\u001b[0m\u001b[1;33m\u001b[0m\u001b[0m\n\u001b[0;32m     16\u001b[0m         \u001b[1;31m# self.instr = self.rm.get_instrument('ASRL' + str(USB_ADDR) + '::INSTR')\u001b[0m\u001b[1;33m\u001b[0m\u001b[1;33m\u001b[0m\u001b[0m\n\u001b[1;32m---> 17\u001b[1;33m         \u001b[0mself\u001b[0m\u001b[1;33m.\u001b[0m\u001b[0minstr\u001b[0m \u001b[1;33m=\u001b[0m \u001b[0mself\u001b[0m\u001b[1;33m.\u001b[0m\u001b[0mrm\u001b[0m\u001b[1;33m.\u001b[0m\u001b[0mget_instrument\u001b[0m\u001b[1;33m(\u001b[0m\u001b[1;34m'PXI10::0-0.0::INSTR'\u001b[0m\u001b[1;33m)\u001b[0m\u001b[1;33m\u001b[0m\u001b[0m\n\u001b[0m\u001b[0;32m     18\u001b[0m         \u001b[1;31m# self.instr.write('FORM REAL,64')\u001b[0m\u001b[1;33m\u001b[0m\u001b[1;33m\u001b[0m\u001b[0m\n\u001b[0;32m     19\u001b[0m \u001b[1;33m\u001b[0m\u001b[0m\n",
      "\u001b[1;32mC:\\Anaconda3\\lib\\site-packages\\pyvisa\\highlevel.py\u001b[0m in \u001b[0;36mopen_resource\u001b[1;34m(self, resource_name, access_mode, open_timeout, resource_pyclass, **kwargs)\u001b[0m\n\u001b[0;32m   1642\u001b[0m                 \u001b[1;32mraise\u001b[0m \u001b[0mValueError\u001b[0m\u001b[1;33m(\u001b[0m\u001b[1;34m'%r is not a valid attribute for type %s'\u001b[0m \u001b[1;33m%\u001b[0m \u001b[1;33m(\u001b[0m\u001b[0mkey\u001b[0m\u001b[1;33m,\u001b[0m \u001b[0mres\u001b[0m\u001b[1;33m.\u001b[0m\u001b[0m__class__\u001b[0m\u001b[1;33m.\u001b[0m\u001b[0m__name__\u001b[0m\u001b[1;33m)\u001b[0m\u001b[1;33m)\u001b[0m\u001b[1;33m\u001b[0m\u001b[0m\n\u001b[0;32m   1643\u001b[0m \u001b[1;33m\u001b[0m\u001b[0m\n\u001b[1;32m-> 1644\u001b[1;33m         \u001b[0mres\u001b[0m\u001b[1;33m.\u001b[0m\u001b[0mopen\u001b[0m\u001b[1;33m(\u001b[0m\u001b[0maccess_mode\u001b[0m\u001b[1;33m,\u001b[0m \u001b[0mopen_timeout\u001b[0m\u001b[1;33m)\u001b[0m\u001b[1;33m\u001b[0m\u001b[0m\n\u001b[0m\u001b[0;32m   1645\u001b[0m \u001b[1;33m\u001b[0m\u001b[0m\n\u001b[0;32m   1646\u001b[0m         \u001b[1;32mfor\u001b[0m \u001b[0mkey\u001b[0m\u001b[1;33m,\u001b[0m \u001b[0mvalue\u001b[0m \u001b[1;32min\u001b[0m \u001b[0mkwargs\u001b[0m\u001b[1;33m.\u001b[0m\u001b[0mitems\u001b[0m\u001b[1;33m(\u001b[0m\u001b[1;33m)\u001b[0m\u001b[1;33m:\u001b[0m\u001b[1;33m\u001b[0m\u001b[0m\n",
      "\u001b[1;32mC:\\Anaconda3\\lib\\site-packages\\pyvisa\\resources\\resource.py\u001b[0m in \u001b[0;36mopen\u001b[1;34m(self, access_mode, open_timeout)\u001b[0m\n\u001b[0;32m    201\u001b[0m         \u001b[0mlogger\u001b[0m\u001b[1;33m.\u001b[0m\u001b[0mdebug\u001b[0m\u001b[1;33m(\u001b[0m\u001b[1;34m'%s - opening ...'\u001b[0m\u001b[1;33m,\u001b[0m \u001b[0mself\u001b[0m\u001b[1;33m.\u001b[0m\u001b[0m_resource_name\u001b[0m\u001b[1;33m,\u001b[0m \u001b[0mextra\u001b[0m\u001b[1;33m=\u001b[0m\u001b[0mself\u001b[0m\u001b[1;33m.\u001b[0m\u001b[0m_logging_extra\u001b[0m\u001b[1;33m)\u001b[0m\u001b[1;33m\u001b[0m\u001b[0m\n\u001b[0;32m    202\u001b[0m         \u001b[1;32mwith\u001b[0m \u001b[0mself\u001b[0m\u001b[1;33m.\u001b[0m\u001b[0m_resource_manager\u001b[0m\u001b[1;33m.\u001b[0m\u001b[0mignore_warning\u001b[0m\u001b[1;33m(\u001b[0m\u001b[0mconstants\u001b[0m\u001b[1;33m.\u001b[0m\u001b[0mVI_SUCCESS_DEV_NPRESENT\u001b[0m\u001b[1;33m)\u001b[0m\u001b[1;33m:\u001b[0m\u001b[1;33m\u001b[0m\u001b[0m\n\u001b[1;32m--> 203\u001b[1;33m             \u001b[0mself\u001b[0m\u001b[1;33m.\u001b[0m\u001b[0msession\u001b[0m\u001b[1;33m,\u001b[0m \u001b[0mstatus\u001b[0m \u001b[1;33m=\u001b[0m \u001b[0mself\u001b[0m\u001b[1;33m.\u001b[0m\u001b[0m_resource_manager\u001b[0m\u001b[1;33m.\u001b[0m\u001b[0mopen_bare_resource\u001b[0m\u001b[1;33m(\u001b[0m\u001b[0mself\u001b[0m\u001b[1;33m.\u001b[0m\u001b[0m_resource_name\u001b[0m\u001b[1;33m,\u001b[0m \u001b[0maccess_mode\u001b[0m\u001b[1;33m,\u001b[0m \u001b[0mopen_timeout\u001b[0m\u001b[1;33m)\u001b[0m\u001b[1;33m\u001b[0m\u001b[0m\n\u001b[0m\u001b[0;32m    204\u001b[0m \u001b[1;33m\u001b[0m\u001b[0m\n\u001b[0;32m    205\u001b[0m             \u001b[1;32mif\u001b[0m \u001b[0mstatus\u001b[0m \u001b[1;33m==\u001b[0m \u001b[0mconstants\u001b[0m\u001b[1;33m.\u001b[0m\u001b[0mVI_SUCCESS_DEV_NPRESENT\u001b[0m\u001b[1;33m:\u001b[0m\u001b[1;33m\u001b[0m\u001b[0m\n",
      "\u001b[1;32mC:\\Anaconda3\\lib\\site-packages\\pyvisa\\highlevel.py\u001b[0m in \u001b[0;36mopen_bare_resource\u001b[1;34m(self, resource_name, access_mode, open_timeout)\u001b[0m\n\u001b[0;32m   1599\u001b[0m         \u001b[1;33m:\u001b[0m\u001b[1;32mreturn\u001b[0m\u001b[1;33m:\u001b[0m \u001b[0mUnique\u001b[0m \u001b[0mlogical\u001b[0m \u001b[0midentifier\u001b[0m \u001b[0mreference\u001b[0m \u001b[0mto\u001b[0m \u001b[0ma\u001b[0m \u001b[0msession\u001b[0m\u001b[1;33m.\u001b[0m\u001b[1;33m\u001b[0m\u001b[0m\n\u001b[0;32m   1600\u001b[0m         \"\"\"\n\u001b[1;32m-> 1601\u001b[1;33m         \u001b[1;32mreturn\u001b[0m \u001b[0mself\u001b[0m\u001b[1;33m.\u001b[0m\u001b[0mvisalib\u001b[0m\u001b[1;33m.\u001b[0m\u001b[0mopen\u001b[0m\u001b[1;33m(\u001b[0m\u001b[0mself\u001b[0m\u001b[1;33m.\u001b[0m\u001b[0msession\u001b[0m\u001b[1;33m,\u001b[0m \u001b[0mresource_name\u001b[0m\u001b[1;33m,\u001b[0m \u001b[0maccess_mode\u001b[0m\u001b[1;33m,\u001b[0m \u001b[0mopen_timeout\u001b[0m\u001b[1;33m)\u001b[0m\u001b[1;33m\u001b[0m\u001b[0m\n\u001b[0m\u001b[0;32m   1602\u001b[0m \u001b[1;33m\u001b[0m\u001b[0m\n\u001b[0;32m   1603\u001b[0m     def open_resource(self, resource_name,\n",
      "\u001b[1;32mC:\\Anaconda3\\lib\\site-packages\\pyvisa\\ctwrapper\\functions.py\u001b[0m in \u001b[0;36mopen\u001b[1;34m(library, session, resource_name, access_mode, open_timeout)\u001b[0m\n\u001b[0;32m   1209\u001b[0m     \u001b[1;31m# [ViSession, ViRsrc, ViAccessMode, ViUInt32, ViPSession]\u001b[0m\u001b[1;33m\u001b[0m\u001b[1;33m\u001b[0m\u001b[0m\n\u001b[0;32m   1210\u001b[0m     \u001b[1;31m# ViRsrc converts from (str, unicode, bytes) to bytes\u001b[0m\u001b[1;33m\u001b[0m\u001b[1;33m\u001b[0m\u001b[0m\n\u001b[1;32m-> 1211\u001b[1;33m     \u001b[0mret\u001b[0m \u001b[1;33m=\u001b[0m \u001b[0mlibrary\u001b[0m\u001b[1;33m.\u001b[0m\u001b[0mviOpen\u001b[0m\u001b[1;33m(\u001b[0m\u001b[0msession\u001b[0m\u001b[1;33m,\u001b[0m \u001b[0mresource_name\u001b[0m\u001b[1;33m,\u001b[0m \u001b[0maccess_mode\u001b[0m\u001b[1;33m,\u001b[0m \u001b[0mopen_timeout\u001b[0m\u001b[1;33m,\u001b[0m \u001b[0mbyref\u001b[0m\u001b[1;33m(\u001b[0m\u001b[0mout_session\u001b[0m\u001b[1;33m)\u001b[0m\u001b[1;33m)\u001b[0m\u001b[1;33m\u001b[0m\u001b[0m\n\u001b[0m\u001b[0;32m   1212\u001b[0m     \u001b[1;32mreturn\u001b[0m \u001b[0mout_session\u001b[0m\u001b[1;33m.\u001b[0m\u001b[0mvalue\u001b[0m\u001b[1;33m,\u001b[0m \u001b[0mret\u001b[0m\u001b[1;33m\u001b[0m\u001b[0m\n\u001b[0;32m   1213\u001b[0m \u001b[1;33m\u001b[0m\u001b[0m\n",
      "\u001b[1;32mC:\\Anaconda3\\lib\\site-packages\\pyvisa\\ctwrapper\\highlevel.py\u001b[0m in \u001b[0;36m_return_handler\u001b[1;34m(self, ret_value, func, arguments)\u001b[0m\n\u001b[0;32m    186\u001b[0m \u001b[1;33m\u001b[0m\u001b[0m\n\u001b[0;32m    187\u001b[0m         \u001b[1;32mif\u001b[0m \u001b[0mret_value\u001b[0m \u001b[1;33m<\u001b[0m \u001b[1;36m0\u001b[0m\u001b[1;33m:\u001b[0m\u001b[1;33m\u001b[0m\u001b[0m\n\u001b[1;32m--> 188\u001b[1;33m             \u001b[1;32mraise\u001b[0m \u001b[0merrors\u001b[0m\u001b[1;33m.\u001b[0m\u001b[0mVisaIOError\u001b[0m\u001b[1;33m(\u001b[0m\u001b[0mret_value\u001b[0m\u001b[1;33m)\u001b[0m\u001b[1;33m\u001b[0m\u001b[0m\n\u001b[0m\u001b[0;32m    189\u001b[0m \u001b[1;33m\u001b[0m\u001b[0m\n\u001b[0;32m    190\u001b[0m         \u001b[1;32mif\u001b[0m \u001b[0mret_value\u001b[0m \u001b[1;32min\u001b[0m \u001b[0mself\u001b[0m\u001b[1;33m.\u001b[0m\u001b[0missue_warning_on\u001b[0m\u001b[1;33m:\u001b[0m\u001b[1;33m\u001b[0m\u001b[0m\n",
      "\u001b[1;31mVisaIOError\u001b[0m: VI_ERROR_RSRC_NFOUND (-1073807343): Insufficient location information or the requested device or resource is not present in the system."
     ]
    }
   ],
   "source": [
    "# instrument drivers\n",
    "import SIM\n",
    "import AgilentN5230A\n",
    "import LSCI332S\n",
    "import HittiteHMC\n",
    "import AgilentMXG\n",
    "import SynthHD\n",
    "import KeysightP9372A\n",
    "\n",
    "# instrument instances. Make device objects.\n",
    "#pna = AgilentN5230A.AgilentN5230A(16)\n",
    "# sim_p = SIM.SIM(15, channel = 3)\n",
    "# sim_s = SIM.SIM(15, channel = 1)\n",
    "#sim_glb = SIM.SIM(15, channel = 3) # ADR2\n",
    "# sim_50 = SIM.SIM(15, channel = 3) # ADR2\n",
    "# sim_200 = SIM.SIM(15, channel = 1) # ADR2\n",
    "# sim_v = SIM.SIM(15, channel = 4)\n",
    "# sim_glb = SIM.SIM(19, channel=1) # BF\n",
    "#sim_glb = SIM.SIM(18, channel=3) # DR1\n",
    "# sim_chip = SIM.SIM(15, channel=3) #ADR2 \n",
    "# lsci = LSCI332S.LSCI332S(2)\n",
    "#spec = HittiteHMC.HittiteHMC('USB',4)\n",
    "#spec = AgilentMXG.AgilentMXG(30)\n",
    "#pump = SynthHD.SynthHD(18)\n",
    "pna = KeysightP9372A.KeysightP9372A(10)\n",
    "\n",
    "# fridge type.\n",
    "fridgeType = 'ADR1'   # options: 'ADR2', 'BF', 'DR1'"
   ]
  },
  {
   "cell_type": "code",
   "execution_count": 3,
   "metadata": {},
   "outputs": [
    {
     "ename": "AttributeError",
     "evalue": "'PXIInstrument' object has no attribute 'write'",
     "output_type": "error",
     "traceback": [
      "\u001b[1;31m---------------------------------------------------------------------------\u001b[0m",
      "\u001b[1;31mAttributeError\u001b[0m                            Traceback (most recent call last)",
      "\u001b[1;32m<ipython-input-3-5a4b818a7ee1>\u001b[0m in \u001b[0;36m<module>\u001b[1;34m()\u001b[0m\n\u001b[1;32m----> 1\u001b[1;33m \u001b[0mpna\u001b[0m\u001b[1;33m.\u001b[0m\u001b[0mpwrOff\u001b[0m\u001b[1;33m(\u001b[0m\u001b[1;33m)\u001b[0m\u001b[1;33m\u001b[0m\u001b[0m\n\u001b[0m",
      "\u001b[1;32mZ:\\User\\Jaseung\\programs\\pythonCode\\Instrument Driver\\KeysightP9372A.py\u001b[0m in \u001b[0;36mpwrOff\u001b[1;34m(self)\u001b[0m\n\u001b[0;32m     92\u001b[0m     \u001b[1;32mdef\u001b[0m \u001b[0mpwrOff\u001b[0m\u001b[1;33m(\u001b[0m\u001b[0mself\u001b[0m\u001b[1;33m)\u001b[0m\u001b[1;33m:\u001b[0m\u001b[1;33m\u001b[0m\u001b[0m\n\u001b[0;32m     93\u001b[0m         \u001b[1;34m'''Power Off'''\u001b[0m\u001b[1;33m\u001b[0m\u001b[0m\n\u001b[1;32m---> 94\u001b[1;33m         \u001b[0mself\u001b[0m\u001b[1;33m.\u001b[0m\u001b[0minstr\u001b[0m\u001b[1;33m.\u001b[0m\u001b[0mwrite\u001b[0m\u001b[1;33m(\u001b[0m\u001b[1;34m\"OUTP 0\"\u001b[0m\u001b[1;33m)\u001b[0m\u001b[1;33m\u001b[0m\u001b[0m\n\u001b[0m\u001b[0;32m     95\u001b[0m \u001b[1;33m\u001b[0m\u001b[0m\n\u001b[0;32m     96\u001b[0m     \u001b[1;32mdef\u001b[0m \u001b[0msetPwr\u001b[0m\u001b[1;33m(\u001b[0m\u001b[0mself\u001b[0m\u001b[1;33m,\u001b[0m \u001b[0mpower\u001b[0m\u001b[1;33m)\u001b[0m\u001b[1;33m:\u001b[0m\u001b[1;33m\u001b[0m\u001b[0m\n",
      "\u001b[1;31mAttributeError\u001b[0m: 'PXIInstrument' object has no attribute 'write'"
     ]
    }
   ],
   "source": [
    "pna.pwrOff()"
   ]
  },
  {
   "cell_type": "markdown",
   "metadata": {},
   "source": [
    "# (Optional) List resources"
   ]
  },
  {
   "cell_type": "code",
   "execution_count": null,
   "metadata": {
    "ExecuteTime": {
     "end_time": "2018-04-19T21:27:45.875237Z",
     "start_time": "2018-04-19T21:27:45.602044Z"
    },
    "collapsed": true,
    "scrolled": true
   },
   "outputs": [],
   "source": [
    "# This is useful to check if GPIB or USB is valid.\n",
    "import visa\n",
    "rm = visa.ResourceManager()\n",
    "rm.list_resources()"
   ]
  },
  {
   "cell_type": "markdown",
   "metadata": {},
   "source": [
    "# S21 vs Freq, 1D, single scan"
   ]
  },
  {
   "cell_type": "code",
   "execution_count": 102,
   "metadata": {
    "ExecuteTime": {
     "end_time": "2018-06-10T04:50:11.765653Z",
     "start_time": "2018-06-10T04:50:05.798295Z"
    },
    "scrolled": true
   },
   "outputs": [
    {
     "name": "stdout",
     "output_type": "stream",
     "text": [
      "Initialized S21 Measurement 'S21Meas'\n"
     ]
    }
   ],
   "source": [
    "#################################################################################\n",
    "# set up parameters\n",
    "startFreq, endFreq = 9.112e9, 9.121e9\n",
    "power = -60\n",
    "numPoints, IFbandwidth, avg = 1601, 100000, 100\n",
    "volt = 0\n",
    "\n",
    "sampleID = 'W19B4'\n",
    "suffix = '6Rs'  # suffix to the file name\n",
    "save_path = r'Z:\\User\\Yebin\\Project\\Resonator Qi test\\Samples\\05232018-W19-HF after photolithography_ADR1'\n",
    "#save_path = r'Z:\\User\\Yebin\\Project\\Resonator Qi test\\Samples\\011918_W14_HF blow dry'\n",
    "#save_path = r'Z:\\User\\Jaseung\\projects\\CSFQ\\measurement\\W16\\testing'\n",
    "#save_path = r'Z:\\User\\JJ\\SFQ3\\HYP1'\n",
    "#save_path = r'Z:\\User\\Jaseung\\projects\\CSFQ\\measurement\\W19\\B3\\ADR1'\n",
    "# save_path = r'Z:\\User\\Andrew\\Flip-Chip_measurements\\HYP2'\n",
    "#################################################################################\n",
    "\n",
    "# dictionary for parameters to be saved in log file.\n",
    "header = 'freq (Hz) mag(dB) phase(degree) real imag'\n",
    "para = dict([('startFreq (Hz)',startFreq),('endFreq (Hz)', endFreq),('power (dBm)',power)\n",
    "             ,('numPoints',numPoints), ('IFbandwidth (Hz)', IFbandwidth),('avg',avg)\n",
    "             ,('volt',volt), ('header', header)])\n",
    "\n",
    " #file setup\n",
    "if fridgeType=='ADR2':\n",
    "    FAA = float(lsci.tempGet('B')) # get temperature\n",
    "else :\n",
    "    FAA = 0 \n",
    "timeStr = time.strftime(\"%H%M%S\")\n",
    "baseStr = sampleID + '_S21vsF_fr{:.9g}_{:.9g}_Pr{}_V{}_T{:.4g}_{}'\n",
    "baseFileName = baseStr.format(startFreq/1e9, endFreq/1e9, power, volt, FAA, timeStr)\n",
    "dataFileName = os.path.join(save_path, baseFileName + '.dat')                                 \n",
    "logFileName =  os.path.join(save_path, baseFileName + '.json')\n",
    "\n",
    "with open(logFileName, 'w') as f:\n",
    "    json.dump(para,f,indent=4, sort_keys=True)\n",
    "\n",
    "# plot setup\n",
    "plotobj= myplots_py3.plot1D(ylabel = 'S21 (dB)', xlabel='Frequency (Hz)', title = baseFileName, plotStyle='b-')\n",
    "\n",
    "# configure instrument\n",
    "pna.setupMeas()\n",
    "pna.setSweepType('linear')\n",
    "pna.setFreqStartEnd(startFreq, endFreq)\n",
    "pna.setPwr(power)\n",
    "pna.avgCount(avg)\n",
    "pna.numPoints(numPoints)\n",
    "pna.setIF(IFbandwidth)\n",
    "pna.pwrOn()\n",
    "\n",
    "# sim_glb.setVoltage(volt)\n",
    "sim_p.setVoltage(2)\n",
    "# data initialization\n",
    "#S21_mag_log_2D, S21_phase_2D = np.array([]), np.array([])\n",
    "data = np.array([])\n",
    "\n",
    "# configure\n",
    "pna.avgClear()\n",
    "        \n",
    "# fetch data from PNA\n",
    "freq, S21 = pna.getData(cplx=True) # S21 in linear scale\n",
    " \n",
    "# S21 conversion\n",
    "S21_real, S21_imag = np.real(S21), np.imag(S21)\n",
    "S21_mag, S21_phase = np.sqrt(S21_real**2 + S21_imag**2), np.angle(S21, deg=True) # phase in degree\n",
    "S21_mag_log = 20.0 * np.log10(S21_mag)    # dB\n",
    "\n",
    "# make 2D array with freq, dB, phase\n",
    "data = freq\n",
    "data.shape = (freq.size, 1)\n",
    "data = np.column_stack((data, S21_mag_log))\n",
    "data = np.column_stack((data, S21_phase))\n",
    "data = np.column_stack((data, S21_real))\n",
    "data = np.column_stack((data, S21_imag))\n",
    "     \n",
    "# plot update\n",
    "plotobj.update(freq/1e9, S21_mag_log)\n",
    "\n",
    "# # save files\n",
    "# f = open(dataFileName, 'wb') \n",
    "# np.savetxt(f, data, fmt='%.9g', delimiter='\\t') \n",
    "\n",
    "\n",
    "# # Post measurement    \n",
    "# sim_glb.setVoltage(0)\n",
    "# pna.pwrOff()\n",
    "# f.close()\n",
    "# plotobj.fig.savefig(os.path.join(save_path, baseFileName + '.png'))\n",
    "# print('Measurement finished!!!')"
   ]
  },
  {
   "cell_type": "code",
   "execution_count": 48,
   "metadata": {
    "ExecuteTime": {
     "end_time": "2018-01-22T03:44:19.023574Z",
     "start_time": "2018-01-22T03:44:12.921675Z"
    },
    "collapsed": true
   },
   "outputs": [],
   "source": [
    "sim_glb.setVoltage(0)"
   ]
  },
  {
   "cell_type": "markdown",
   "metadata": {
    "collapsed": true
   },
   "source": [
    "# S21 vs Freq vs Power, 2D power scan"
   ]
  },
  {
   "cell_type": "code",
   "execution_count": 6,
   "metadata": {
    "ExecuteTime": {
     "end_time": "2018-05-22T16:30:01.572475Z",
     "start_time": "2018-05-22T16:29:16.893958Z"
    },
    "scrolled": false
   },
   "outputs": [
    {
     "name": "stdout",
     "output_type": "stream",
     "text": [
      "startPwr=-30 dBm, endPwr=0 dBm, current power=0 dBm\n",
      "Measurement complete!!!\n",
      "Wall time: 44.5 s\n"
     ]
    }
   ],
   "source": [
    "%%time\n",
    "#########################################################################################\n",
    "# set up parameters\n",
    "# startFreq, endFreq =5.69537e9-100e3, 5.69537e9+100e3 \n",
    "# startFreq, endFreq =5.99084e9-100e3, 5.99084e9+100e3 \n",
    "# startFreq, endFreq = 6.10342e9-100e3, 6.10342e9+100e3 \n",
    "# startFreq, endFreq = 6.21755e9-100e3, 6.21755e9+100e3 \n",
    "# startFreq, endFreq = 6.42699e9-100e3, 6.42699e9+100e3 \n",
    "startFreq, endFreq =6.95e9, 6.954e9\n",
    "numPoints, avg = 1601, 10\n",
    "IFStart, IFEnd = 50000, 50000 # Hz\n",
    "startPwr, endPwr, stepPwr = -30,0, 1\n",
    "Vglb_init = 0\n",
    "Vchip_init = 0\n",
    "\n",
    "sampleID = 'Res70'\n",
    "suffix = ''\n",
    "#save_path = r'Z:\\User\\Jaseung\\projects\\CSFQ\\measurement\\postdescumRes'\n",
    "#save_path = r'Z:\\User\\Jaseung\\projects\\CSFQ\\measurement\\W11\\C6\\DR1'\n",
    "#save_path = r'Z:\\User\\JJ\\SFQ2\\070717C\\ADR2\\E3'\n",
    "#save_path = r'Z:\\User\\JJ\\SFQ3\\HYP1'\n",
    "save_path = r'C:\\Users\\Lab User\\Desktop\\Plaquette\\RF_SQUID\\0522\\ChipA'\n",
    "commentStr=''  # comment to be placed in the log file.\n",
    "############################################################################################\n",
    "\n",
    "# IFbandwidth scales up linearly as power increases.\n",
    "IF_arr = np.linspace(IFStart, IFEnd, np.arange(startPwr, endPwr + stepPwr, stepPwr).size) \n",
    "\n",
    "# dictionary for parameters to be saved in json file. Solely for log.\n",
    "xID, xStart, xEnd, xStep = 'Power (dBm)', startPwr, endPwr, stepPwr\n",
    "yID, yStart, yEnd, yStep = 'Frequency (Hz)',startFreq, endFreq, (endFreq-startFreq)/(numPoints-1)\n",
    "para = dict([('xID', xID), ('xStart', xStart), ('xEnd', xEnd)\n",
    "             , ('yID', yID), ('yStart', yStart), ('yEnd', yEnd)\n",
    "             , ('numPoints',numPoints), ('IFbandwidth start (Hz)', IF_arr[0]),('IFbandwidth end (Hz)', IF_arr[-1])\n",
    "             , ('avg',avg), ('Vglb_init (V)',Vglb_init),('Vchip_init (V)',Vchip_init), ('comment', commentStr)])\n",
    "\n",
    "# file setup\n",
    "if fridgeType=='ADR2':\n",
    "    FAA = float(lsci.tempGet('B')) # get temperature\n",
    "else:\n",
    "    FAA = 0\n",
    "timeStr = time.strftime(\"%H%M%S\")\n",
    "baseStr = sampleID + '_'+'S21vsFvsP_fr{:.9g}_{:.9g}_Pr{:.4g}_{:.4g}_{:.4g}_V{:.3g}_T{:.4g}_{}_{}'\n",
    "baseFileName = baseStr.format(startFreq/1e9, endFreq/1e9, startPwr, endPwr, stepPwr, Vglb_init, FAA, suffix, timeStr)\n",
    "dataFileName_mag, dataFileName_phase  = (os.path.join(save_path, baseFileName + '_mag.dat'), \n",
    "                                         os.path.join(save_path, baseFileName + '_phase.dat'))\n",
    "print('filename={}'.format(os.path.join(save_path, baseFileName + '_mag.dat')))\n",
    "logFileName =  os.path.join(save_path, baseFileName + '.json')\n",
    "with open(logFileName, 'w') as f:\n",
    "    json.dump(para,f,indent=4, sort_keys=True)\n",
    "\n",
    "# plot setup\n",
    "plotobj= myplots_py3.plot2D(ylabel = 'Frequency(Hz)', xlabel='Power (dBm)', title = baseFileName)\n",
    "\n",
    "# preconfigure instrument\n",
    "pna.setupMeas()\n",
    "pna.setSweepType('linear')\n",
    "pna.setFreqStartEnd(startFreq, endFreq)\n",
    "pna.avgCount(avg)\n",
    "pna.numPoints(numPoints)\n",
    "pna.pwrOn()\n",
    "sim_glb.setVoltage(Vglb_init)\n",
    "#sim_chip.setVoltage(Vchip_init)\n",
    "\n",
    "# data initialization\n",
    "S21_mag_log_2D, S21_phase_2D = np.array([]), np.array([])\n",
    "\n",
    "i=0\n",
    "# sweep start\n",
    "for pwr in np.arange(startPwr, endPwr + stepPwr, stepPwr): # traverse in [pmin, pmax].\n",
    "    \n",
    "    clear_output()\n",
    "    print('startPwr={:.3g} dBm, endPwr={:.3g} dBm, current power={:.3g} dBm'.format(startPwr, endPwr, pwr))\n",
    "    \n",
    "    # configure\n",
    "    pna.setIF(IF_arr[i]) \n",
    "    pna.setPwr(pwr)\n",
    "    pna.avgClear()\n",
    "    i += 1\n",
    "    \n",
    "    # fetch data from PNA\n",
    "    freq, S21 = pna.getData(cplx=True) # S21 in linear scale\n",
    "    \n",
    "    # S21 conversion\n",
    "    S21_real, S21_imag = np.real(S21), np.imag(S21)\n",
    "    S21_mag, S21_phase = np.sqrt(S21_real**2 + S21_imag**2), np.angle(S21, deg=True) # phase in degree\n",
    "    S21_mag_log = 20.0 * np.log10(S21_mag)    # dB\n",
    "    \n",
    "    if S21_mag_log_2D.size == 0: # when S21_mag_2D is empty\n",
    "        S21_mag_log_2D = S21_mag_log\n",
    "        #S21_mag_log_2D = S21_real\n",
    "        S21_mag_log_2D.shape = (S21_mag_log.size, 1)\n",
    "        S21_phase_2D = S21_phase\n",
    "        #S21_phase_2D = S21_imag\n",
    "        S21_phase_2D.shape = (S21_phase.size, 1)\n",
    "    else:\n",
    "        S21_mag_log_2D = np.column_stack((S21_mag_log_2D, S21_mag_log))\n",
    "        S21_phase_2D = np.column_stack((S21_phase_2D, S21_phase))\n",
    "        #S21_mag_log_2D = np.column_stack((S21_mag_log_2D, S21_real))\n",
    "        #S21_phase_2D = np.column_stack((S21_phase_2D, S21_imag))\n",
    "     \n",
    "    # plot update\n",
    "    extent = [startPwr, pwr, startFreq, endFreq]\n",
    "    plotobj.update(S21_mag_log_2D, extent)\n",
    "        \n",
    "    # save data in each iteration\n",
    "    f_mag = open(dataFileName_mag, 'wb') \n",
    "    f_phase = open(dataFileName_phase, 'wb') \n",
    "    np.savetxt(f_mag, S21_mag_log_2D, fmt='%.9g', delimiter='\\t') \n",
    "    np.savetxt(f_phase, S21_phase_2D, fmt='%.9g', delimiter='\\t')\n",
    "    f_mag.close()\n",
    "    f_phase.close()\n",
    "    \n",
    "# Post measurement  \n",
    "pna.setPwr(-50)\n",
    "pna.pwrOff()\n",
    "sim_glb.setVoltage(0)\n",
    "plotobj.fig.savefig(os.path.join(save_path, baseFileName + '.png'))\n",
    "print('Measurement complete!!!')\n"
   ]
  },
  {
   "cell_type": "code",
   "execution_count": null,
   "metadata": {
    "ExecuteTime": {
     "end_time": "2018-04-12T20:52:01.055322Z",
     "start_time": "2018-04-12T20:52:00.757110Z"
    },
    "collapsed": true,
    "scrolled": true
   },
   "outputs": [],
   "source": [
    "%matplotlib\n",
    "filename =r'Z:\\User\\Jaseung\\projects\\CSFQ\\measurement\\postdescumRes\\Res1_S21vsFvsP_fr5.69532_5.69542_Pr-90_10_1_V0_T0.064__101617_mag.dat'\n",
    "data = np.loadtxt(filename)\n",
    "powerlist = np.arange(-90, 10,1)\n",
    "# freq = \n",
    "for index, value in enumerate(powerlist):\n",
    "    s21_mag = data[:,index]\n",
    "    if index % 10 ==3:\n",
    "        plt.plot(s21_mag )"
   ]
  },
  {
   "cell_type": "code",
   "execution_count": null,
   "metadata": {
    "ExecuteTime": {
     "end_time": "2018-04-12T19:32:24.935007Z",
     "start_time": "2018-04-12T19:32:24.847947Z"
    },
    "collapsed": true
   },
   "outputs": [],
   "source": []
  },
  {
   "cell_type": "markdown",
   "metadata": {},
   "source": [
    "# 2D S21 vs Pump Power (for TWPA)"
   ]
  },
  {
   "cell_type": "code",
   "execution_count": null,
   "metadata": {
    "collapsed": true
   },
   "outputs": [],
   "source": [
    "#########################################################################################\n",
    "# set up parameters\n",
    "\n",
    "##PNA Settings\n",
    "startFreq, endFreq =3.0e9, 10e9 # [Hz] 6.775e9 , 6.945e9 #6.881e9, 6.885e9 # 6.904e9, 6.912e9 #Probe Frequency (PNA)\n",
    "numPoints, avg = 801, 1\n",
    "IFStart, IFEnd =500, 500 # [Hz] IF Bandwidth\n",
    "\n",
    "##Pump Settings\n",
    "startPwr, endPwr, stepPwr = -20, -15, 1 # [Hz] Pump Frequency sweep (startPwr,endPwr) and step (stepPwr) (Looks like variable is for power?)\n",
    "pumpFreq = 7.606e9 #7.568e9\n",
    "\n",
    "sampleID = 'TWPA'\n",
    "suffix=''\n",
    "\n",
    "# Save to directory here\n",
    "\n",
    "#save_path = r'Z:\\User\\Jaseung\\projects\\CSFQ\\measurement\\W11\\A8\\ADR2'\n",
    "#save_path = r'Z:\\User\\Jaseung\\projects\\CSFQ\\measurement\\IBM\\384QB56\\BF'\n",
    "save_path = r'Z:\\User\\Andrew\\TWPA' \n",
    "#save_path = r'Z:\\Experiments\\ADR2\\Flux noise\\FN04262017B\\AB04_2'\n",
    "commentStr=''  # comment to be placed in the log file.\n",
    "\n",
    "############################################################################################\n",
    "\n",
    "# IFbandwidth scales up linearly as power increases.\n",
    "IF_arr = np.linspace(IFStart, IFEnd, np.arange(startPwr, endPwr + stepPwr, stepPwr).size) \n",
    "\n",
    "# dictionary for parameters to be saved in json file. Solely for log.\n",
    "xID, xStart, xEnd, xStep = 'Power (dBm)', startPwr, endPwr, stepPwr\n",
    "yID, yStart, yEnd, yStep = 'Frequency (Hz)',startFreq, endFreq, (endFreq-startFreq)/(numPoints-1)\n",
    "para = dict([('xID', xID), ('xStart', xStart), ('xEnd', xEnd)\n",
    "             , ('yID', yID), ('yStart', yStart), ('yEnd', yEnd)\n",
    "             , ('numPoints',numPoints), ('IFbandwidth start (Hz)', IF_arr[0]),('IFbandwidth end (Hz)', IF_arr[-1])\n",
    "             , ('avg',avg), ('pump Freq', ),('comment', commentStr)])\n",
    "\n",
    "\n",
    "# file setup\n",
    "if fridgeType=='ADR2': # Which fridge we are at.\n",
    "    FAA = float(lsci.tempGet('B')) # get temperature\n",
    "else:\n",
    "    FAA = 0\n",
    "timeStr = time.strftime(\"%H%M%S\")\n",
    "baseStr = sampleID + '_'+'S21vsFvsP_fr{:.9g}_{:.9g}_Pp{:.4g}_{:.4g}_{:.4g}_fp{:.9g}_T{:.4g}_{}_{}'\n",
    "baseFileName = baseStr.format(startFreq/1e9, endFreq/1e9, startPwr, endPwr, stepPwr, pumpFreq, FAA, suffix, timeStr)\n",
    "dataFileName_mag, dataFileName_phase  = (os.path.join(save_path, baseFileName + '_mag.dat'), \n",
    "                                         os.path.join(save_path, baseFileName + '_phase.dat'))\n",
    "logFileName =  os.path.join(save_path, baseFileName + '.json') # Name on saved file.\n",
    "with open(logFileName, 'w') as f:\n",
    "    json.dump(para,f,indent=4, sort_keys=True)\n",
    "\n",
    "# plot setup\n",
    "plotobj= myplots_py3.plot2D(xlabel = 'Pump Power(dBm)', ylabel='Probe Frequency (Hz)', title = baseFileName)\n",
    "\n",
    "# preconfigure instrument (for PNA)\n",
    "pna.setupMeas()\n",
    "pna.setSweepType('linear')\n",
    "pna.setFreqStartEnd(startFreq, endFreq)\n",
    "pna.avgCount(avg)\n",
    "pna.numPoints(numPoints)\n",
    "pna.pwrOn() #Turn on PNA Power\n",
    "\n",
    "pump.setFreq(pumpFreq) #Set Pump Frequency\n",
    "pump.pwrOn()\n",
    "\n",
    "# data initialization\n",
    "S21_mag_log_2D, S21_phase_2D = np.array([]), np.array([])\n",
    "\n",
    "### \n",
    "i=0\n",
    "# sweep start\n",
    "for pwr in np.arange(startPwr, endPwr + stepPwr, stepPwr): # traverse in [pmin, pmax].\n",
    "    \n",
    "    clear_output()\n",
    "    print('startPwr={:.3g} dBm, endPwr={:.3g} dBm, current power={:.3g} dBm'.format(startPwr, endPwr, pwr))\n",
    "    \n",
    "    # configure\n",
    "    pna.setIF(IF_arr[i]) \n",
    "    pna.avgClear()\n",
    "    pump.setPwr(pwr)\n",
    "    i += 1\n",
    "\n",
    "    # fetch data from PNA\n",
    "    freq, S21 = pna.getData(cplx=True) # S21 in linear scale\n",
    "    \n",
    "    # S21 conversion\n",
    "    S21_real, S21_imag = np.real(S21), np.imag(S21)\n",
    "    S21_mag, S21_phase = np.sqrt(S21_real**2 + S21_imag**2), np.angle(S21, deg=True) # phase in degree\n",
    "    S21_mag_log = 20.0 * np.log10(S21_mag)    # [dB]\n",
    "    \n",
    "    if S21_mag_log_2D.size == 0: # when S21_mag_2D is empty\n",
    "        S21_mag_log_2D = S21_mag_log\n",
    "        S21_mag_log_2D.shape = (S21_mag_log.size, 1)\n",
    "        S21_phase_2D = S21_phase\n",
    "        S21_phase_2D.shape = (S21_phase.size, 1)\n",
    "    else:\n",
    "        S21_mag_log_2D = np.column_stack((S21_mag_log_2D, S21_mag_log))\n",
    "        S21_phase_2D = np.column_stack((S21_phase_2D, S21_phase))\n",
    "     \n",
    "    # 2D plot update\n",
    "    extent = [startPwr, pwr, startFreq, endFreq]\n",
    "    \n",
    "    plotobj.update(S21_mag_log_2D, extent)\n",
    "        \n",
    "    # save data in each iteration\n",
    "    f_mag = open(dataFileName_mag, 'wb') \n",
    "    f_phase = open(dataFileName_phase, 'wb') \n",
    "    np.savetxt(f_mag, S21_mag_log_2D, fmt='%.9g', delimiter='\\t') \n",
    "    np.savetxt(f_phase, S21_phase_2D, fmt='%.9g', delimiter='\\t')\n",
    "    f_mag.close()\n",
    "    f_phase.close()\n",
    "    \n",
    "# Post measurement    \n",
    "pna.pwrOff()\n",
    "plotobj.fig.savefig(os.path.join(save_path, baseFileName + '.png'))\n",
    "print('Measurement complete!!!')"
   ]
  },
  {
   "cell_type": "markdown",
   "metadata": {},
   "source": [
    "# 2D S21 vs Pump Freq (for TWPA) "
   ]
  },
  {
   "cell_type": "code",
   "execution_count": null,
   "metadata": {
    "collapsed": true
   },
   "outputs": [],
   "source": [
    "#########################################################################################\n",
    "# set up parameters\n",
    "\n",
    "##PNA Settings\n",
    "startFreq, endFreq =3.0e9, 10e9 # [Hz] 6.775e9 , 6.945e9 #6.881e9, 6.885e9 # 6.904e9, 6.912e9 #Probe Frequency (PNA)\n",
    "numPoints, avg = 801, 1\n",
    "IFStart, IFEnd =500, 500 # [Hz] IF Bandwidth\n",
    "\n",
    "##Pump Settings\n",
    "startFreq, endFreq, stepFreq = 7.490e9,7.700e9,1e6 # [Hz] Pump Frequency sweep (startFreq,endFreq) and step (stepFreq) (Looks like variable is for power?)\n",
    "pumpPwr = -13\n",
    "\n",
    "sampleID = 'TWPA'\n",
    "suffix=''\n",
    "\n",
    "# Save to directory here\n",
    "\n",
    "#save_path = r'Z:\\User\\Jaseung\\projects\\CSFQ\\measurement\\W11\\A8\\ADR2'\n",
    "#save_path = r'Z:\\User\\Jaseung\\projects\\CSFQ\\measurement\\IBM\\384QB56\\BF'\n",
    "#save_path = r'Z:\\User\\Andrew\\TWPA' \n",
    "save_path = r'Z:\\User\\Vito\\TWPA' \n",
    "#save_path = r'Z:\\Experiments\\ADR2\\Flux noise\\FN04262017B\\AB04_2'\n",
    "commentStr=''  # comment to be placed in the log file.\n",
    "\n",
    "############################################################################################\n",
    "\n",
    "# IFbandwidth scales up linearly as power increases.\n",
    "IF_arr = np.linspace(IFStart, IFEnd, np.arange(startFreq, endFreq + stepFreq, stepFreq).size) \n",
    "\n",
    "# dictionary for parameters to be saved in json file. Solely for log.\n",
    "xID, xStart, xEnd, xStep = 'Power (dBm)', startFreq, endFreq, stepFreq\n",
    "yID, yStart, yEnd, yStep = 'Frequency (Hz)',startFreq, endFreq, (endFreq-startFreq)/(numPoints-1)\n",
    "para = dict([('xID', xID), ('xStart', xStart), ('xEnd', xEnd)\n",
    "             , ('yID', yID), ('yStart', yStart), ('yEnd', yEnd)\n",
    "             , ('numPoints',numPoints), ('IFbandwidth start (Hz)', IF_arr[0]),('IFbandwidth end (Hz)', IF_arr[-1])\n",
    "             , ('avg',avg), ('pump pwr',pumpPwr), ('comment', commentStr)])\n",
    "\n",
    "\n",
    "# file setup\n",
    "if fridgeType=='ADR2': # Which fridge we are at.\n",
    "    FAA = float(lsci.tempGet('B')) # get temperature\n",
    "else:\n",
    "    FAA = 0\n",
    "timeStr = time.strftime(\"%H%M%S\")\n",
    "baseStr = sampleID + '_'+'S21vsFvsP_fr{:.9g}_{:.9g}_fp{:.9g}_{:.9g}_{:.9g}_Pp{:.3g}_T{:.4g}_{}_{}'\n",
    "baseFileName = baseStr.format(startFreq/1e9, endFreq/1e9, startFreq, endFreq, stepFreq, pumpPwr, FAA, suffix, timeStr)\n",
    "dataFileName_mag, dataFileName_phase  = (os.path.join(save_path, baseFileName + '_mag.dat'), \n",
    "                                         os.path.join(save_path, baseFileName + '_phase.dat'))\n",
    "logFileName =  os.path.join(save_path, baseFileName + '.json') # Name on saved file.\n",
    "with open(logFileName, 'w') as f:\n",
    "    json.dump(para,f,indent=4, sort_keys=True)\n",
    "\n",
    "# plot setup\n",
    "plotobj= myplots_py3.plot2D( xlabel = 'Pump Frequency(Hz)', ylabel='Probe Frequency (Hz)', title = baseFileName)\n",
    "\n",
    "# preconfigure instrument (for PNA)\n",
    "pna.setupMeas()\n",
    "pna.setSweepType('linear')\n",
    "pna.setFreqStartEnd(startFreq, endFreq)\n",
    "pna.avgCount(avg)\n",
    "pna.numPoints(numPoints)\n",
    "pna.pwrOn() #Turn on PNA Power\n",
    "\n",
    "pump.setPwr(pumpPwr) #Set Pump power\n",
    "pump.pwrOn()\n",
    "\n",
    "# data initialization\n",
    "S21_mag_log_2D, S21_phase_2D = np.array([]), np.array([])\n",
    "\n",
    "### \n",
    "i=0\n",
    "# sweep start\n",
    "for freq in np.arange(startFreq, endFreq + stepFreq, stepFreq): # traverse in [pmin, pmax].\n",
    "    \n",
    "    clear_output()\n",
    "    print('startFreq={:.3g} dBm, endFreq={:.3g} dBm, current power={:.3g} dBm'.format(startFreq, endFreq, pumpPwr))\n",
    "    \n",
    "    # configure\n",
    "    pna.setIF(IF_arr[i]) \n",
    "    pna.avgClear()\n",
    "    pump.setFreq(freq)\n",
    "    i += 1\n",
    "\n",
    "    # fetch data from PNA\n",
    "    freq, S21 = pna.getData(cplx=True) # S21 in linear scale\n",
    "    \n",
    "    # S21 conversion\n",
    "    S21_real, S21_imag = np.real(S21), np.imag(S21)\n",
    "    S21_mag, S21_phase = np.sqrt(S21_real**2 + S21_imag**2), np.angle(S21, deg=True) # phase in degree\n",
    "    S21_mag_log = 20.0 * np.log10(S21_mag)    # [dB]\n",
    "    \n",
    "    if S21_mag_log_2D.size == 0: # when S21_mag_2D is empty\n",
    "        S21_mag_log_2D = S21_mag_log\n",
    "        S21_mag_log_2D.shape = (S21_mag_log.size, 1)\n",
    "        S21_phase_2D = S21_phase\n",
    "        S21_phase_2D.shape = (S21_phase.size, 1)\n",
    "    else:\n",
    "        S21_mag_log_2D = np.column_stack((S21_mag_log_2D, S21_mag_log))\n",
    "        S21_phase_2D = np.column_stack((S21_phase_2D, S21_phase))\n",
    "     \n",
    "    # 2D plot update\n",
    "    extent = [startFreq, endFreq, startFreq, endFreq]\n",
    "    \n",
    "    plotobj.update(S21_mag_log_2D, extent)\n",
    "        \n",
    "    # save data in each iteration\n",
    "    f_mag = open(dataFileName_mag, 'wb') \n",
    "    f_phase = open(dataFileName_phase, 'wb') \n",
    "    np.savetxt(f_mag, S21_mag_log_2D, fmt='%.9g', delimiter='\\t') \n",
    "    np.savetxt(f_phase, S21_phase_2D, fmt='%.9g', delimiter='\\t')\n",
    "    f_mag.close()\n",
    "    f_phase.close()\n",
    "    \n",
    "# Post measurement    \n",
    "pna.pwrOff()\n",
    "plotobj.fig.savefig(os.path.join(save_path, baseFileName + '.png'))\n",
    "print('Measurement complete!!!')"
   ]
  },
  {
   "cell_type": "markdown",
   "metadata": {},
   "source": [
    "# S21 vs Freq vs Flux, 2D flux scan"
   ]
  },
  {
   "cell_type": "code",
   "execution_count": 72,
   "metadata": {
    "ExecuteTime": {
     "end_time": "2018-06-03T06:39:29.841318Z",
     "start_time": "2018-06-03T06:38:05.440842Z"
    },
    "scrolled": false
   },
   "outputs": [
    {
     "name": "stdout",
     "output_type": "stream",
     "text": [
      "startV=-5 V, endV=5 V, current volt=5 V\n",
      "Measurement done!!!\n",
      "Wall time: 1min 24s\n"
     ]
    }
   ],
   "source": [
    "%%time\n",
    "###########################################################################\n",
    "# set up parameters\n",
    "startFreq, endFreq = 9.105e9, 9.129e9\n",
    "power = -70\n",
    "numPoints, IFbandwidth, avg = 1601, 100000, 100\n",
    "startVolt, endVolt, stepVolt = -5, 5, 0.5\n",
    "\n",
    "sweepVoltSrc = 2 # 1: Vchip, 2: Vglb\n",
    "Vglb_init = 0\n",
    "Vglb_end = 0  \n",
    "Vchip_init =0\n",
    "Vchip_end = 0\n",
    "\n",
    "sampleID = 'PLAQUETTE'\n",
    "suffix = 'SQUID'\n",
    "#save_path = r'Z:\\User\\Jaseung\\projects\\CSFQ\\measurement\\W19\\B3\\ADR1'\n",
    "#save_path = r'Z:\\User\\Andrew\\Flip-Chip_measurements\\HYP2'\n",
    "save_path = r'C:\\Users\\Lab User\\Desktop\\Plaquette\\RF_SQUID\\0602'\n",
    "#save_path = r'Z:\\User\\JJ\\SFQ3\\HYP1'\n",
    "#save_path = r'Z:\\User\\Jaseung\\projects\\CSFQ\\measurement\\W14\\B8\\ADR2'\n",
    "#save_path=r'Z:\\User\\Jaseung\\projects\\CSFQ\\measurement\\IBM\\384QB56\\BF'\n",
    "#save_path=r'Z:\\User\\Jaseung\\projects\\CSFQ\\measurement\\W11\\DD5\\BF'\n",
    "#save_path = r'Z:\\User\\Jaseung\\projects\\CSFQ\\measurement\\W11\\A8\\ADR2'\n",
    "#save_path = r'Z:\\User\\Caleb\\ch061'\n",
    "#save_path = r'C:\\Users\\Lab User\\Desktop\\Flux'\n",
    "commentStr =''\n",
    "############################################################################\n",
    "\n",
    "# dictionary for parameters to be saved in json file. Solely for log.\n",
    "xID, xStart, xEnd, xStep = 'Volt (V)', startVolt, endVolt, stepVolt\n",
    "yID, yStart, yEnd, yStep = 'Frequency (Hz)',startFreq, endFreq, (endFreq-startFreq)/(numPoints-1)\n",
    "para = dict([('xID', xID), ('xStart', xStart), ('xEnd', xEnd)\n",
    "             , ('yID', yID), ('yStart', yStart), ('yEnd', yEnd), ('Power (dBm)', power)\n",
    "             , ('numPoints',numPoints), ('IFbandwidth (Hz)', IFbandwidth) \n",
    "             , ('avg',avg), ('comment', commentStr)])\n",
    "\n",
    "# file setup\n",
    "if fridgeType=='ADR2':\n",
    "    FAA = float(lsci.tempGet('B')) # get temperature\n",
    "else :\n",
    "    FAA = 0    \n",
    "timeStr = time.strftime(\"%H%M%S\")\n",
    "baseStr = sampleID + '_S21vsFvsV_fr{:.9g}_{:.9g}_Pr{:.4g}_V{}_{}_{}_T{:.4g}_{}_{}'\n",
    "baseFileName = baseStr.format(startFreq/1e9, endFreq/1e9, power, startVolt, endVolt, stepVolt, FAA, suffix, timeStr)\n",
    "dataFileName_mag, dataFileName_phase  = (os.path.join(save_path, baseFileName + '_mag.dat'), \n",
    "                                         os.path.join(save_path, baseFileName + '_phase.dat'))\n",
    "logFileName =  os.path.join(save_path, baseFileName + '.json')\n",
    "with open(logFileName, 'w') as f:\n",
    "    json.dump(para,f,indent=4, sort_keys=True)\n",
    "\n",
    "# plot setup\n",
    "plotobj= myplots_py3.plot2D(ylabel = 'Frequency (Hz)', xlabel='Volt (V)', title = baseFileName)\n",
    "\n",
    "# preconfigure instrument\n",
    "pna.setupMeas()\n",
    "pna.setSweepType('linear')\n",
    "pna.setFreqStartEnd(startFreq, endFreq)\n",
    "pna.setPwr(power)\n",
    "pna.avgCount(avg)\n",
    "pna.numPoints(numPoints)\n",
    "pna.setIF(IFbandwidth)\n",
    "pna.pwrOn()\n",
    "\n",
    "#sim_glb.setVoltage(Vglb_init)\n",
    "#sim_chip.setVoltage(Vchip_init)\n",
    "# sim_glb.setVoltage(startVolt)\n",
    "#sim_chip.setVoltage(startVolt)\n",
    "sim_p.setVoltage(startVolt)\n",
    "\n",
    "time.sleep(2)\n",
    "\n",
    "# data initialization\n",
    "S21_mag_log_2D, S21_phase_2D = np.array([]), np.array([])\n",
    "\n",
    "################ sweep start ################\n",
    "for volt in np.arange(startVolt, endVolt + stepVolt, stepVolt): # traverse in [pmin, pmax].\n",
    "    clear_output()\n",
    "    print('startV={:.3g} V, endV={:.3g} V, current volt={:.3g} V'.format(startVolt, endVolt, volt))\n",
    "\n",
    "    # configure\n",
    "    if sweepVoltSrc==1:\n",
    "        sim_chip.setVoltage(volt)\n",
    "#         pass\n",
    "    elif sweepVoltSrc==2:\n",
    "        sim_p.setVoltage(volt)\n",
    "        \n",
    "    #time.sleep(0.5)\n",
    "    pna.avgClear()\n",
    "    \n",
    "    # fetch data from PNA\n",
    "    freq, S21 = pna.getData(cplx=True) # S21 in linear scale\n",
    "    \n",
    "    # S21 conversion\n",
    "    S21_real, S21_imag = np.real(S21), np.imag(S21)\n",
    "    S21_mag, S21_phase = np.sqrt(S21_real**2 + S21_imag**2), np.angle(S21, deg=True) # phase in degree\n",
    "    S21_mag_log = 20.0 * np.log10(S21_mag)    # dB\n",
    "    \n",
    "    if S21_mag_log_2D.size == 0: # when S21_mag_2D is empty\n",
    "        S21_mag_log_2D = S21_mag_log\n",
    "        #S21_mag_log_2D = S21_real\n",
    "        S21_mag_log_2D.shape = (S21_mag_log.size, 1)\n",
    "        S21_phase_2D = S21_phase\n",
    "        #S21_phase_2D = S21_imag\n",
    "        S21_phase_2D.shape = (S21_phase.size, 1)\n",
    "    else:\n",
    "        S21_mag_log_2D = np.column_stack((S21_mag_log_2D, S21_mag_log))\n",
    "        S21_phase_2D = np.column_stack((S21_phase_2D, S21_phase))\n",
    "        #S21_mag_log_2D = np.column_stack((S21_mag_log_2D, S21_real))\n",
    "        #S21_phase_2D = np.column_stack((S21_phase_2D, S21_imag))\n",
    "    \n",
    "    # plot update\n",
    "    extent = [startVolt, volt, startFreq, endFreq]\n",
    "    plotobj.update(S21_mag_log_2D, extent)\n",
    "        \n",
    "    # save data in each iteration\n",
    "#     f_mag = open(dataFileName_mag, 'w') \n",
    "#     f_phase = open(dataFileName_phase, 'w') \n",
    "#     np.savetxt(f_mag, S21_mag_log_2D, fmt='%.9g', delimiter='\\t') \n",
    "#     np.savetxt(f_phase, S21_phase_2D, fmt='%.9g', delimiter='\\t')\n",
    "#     f_mag.close()\n",
    "#     f_phase.close()\n",
    "    \n",
    "############## sweep end #########################    \n",
    "# save at the end\n",
    "f_mag = open(dataFileName_mag, 'wb') \n",
    "f_phase = open(dataFileName_phase, 'wb') \n",
    "np.savetxt(f_mag, S21_mag_log_2D, fmt='%.9g', delimiter='\\t') \n",
    "np.savetxt(f_phase, S21_phase_2D, fmt='%.9g', delimiter='\\t')\n",
    "f_mag.close()\n",
    "f_phase.close()\n",
    "\n",
    " \n",
    "# Post measurement   \n",
    "del S21_mag_log_2D, S21_phase_2D\n",
    "pna.pwrOff()\n",
    "sim_p.setVoltage(Vglb_end)\n",
    "#sim_chip.setVoltage(Vchip_end)\n",
    "plotobj.fig.savefig(os.path.join(save_path, baseFileName + '.png'))\n",
    "print('Measurement done!!!')"
   ]
  },
  {
   "cell_type": "code",
   "execution_count": 1,
   "metadata": {},
   "outputs": [
    {
     "ename": "SyntaxError",
     "evalue": "invalid syntax (<unknown>, line 3)",
     "output_type": "error",
     "traceback": [
      "Traceback \u001b[1;36m(most recent call last)\u001b[0m:\n",
      "  File \u001b[0;32m\"C:\\Anaconda\\Lib\\site-packages\\IPython\\core\\interactiveshell.py\"\u001b[0m, line \u001b[0;32m2862\u001b[0m, in \u001b[0;35mrun_code\u001b[0m\n    exec(code_obj, self.user_global_ns, self.user_ns)\n",
      "  File \u001b[0;32m\"<ipython-input-1-180012f898c7>\"\u001b[0m, line \u001b[0;32m1\u001b[0m, in \u001b[0;35m<module>\u001b[0m\n    get_ipython().run_cell_magic('time', '', '###########################################################################\\n# set up parameters\\ndef starkvsflux\\nstartFreq, endFreq = 9.105e9, 9.129e9\\npower = -70\\nnumPoints, IFbandwidth, avg = 1601, 100000, 100\\nstartVolt, endVolt, stepVolt = -5, 5, 0.5\\n\\nsweepVoltSrc = 2 # 1: Vchip, 2: Vglb\\nVglb_init = 0\\nVglb_end = 0  \\nVchip_init =0\\nVchip_end = 0\\n\\nsampleID = \\'PLAQUETTE\\'\\nsuffix = \\'SQUID\\'\\n#save_path = r\\'Z:\\\\User\\\\Jaseung\\\\projects\\\\CSFQ\\\\measurement\\\\W19\\\\B3\\\\ADR1\\'\\n#save_path = r\\'Z:\\\\User\\\\Andrew\\\\Flip-Chip_measurements\\\\HYP2\\'\\nsave_path = r\\'C:\\\\Users\\\\Lab User\\\\Desktop\\\\Plaquette\\\\RF_SQUID\\\\0602\\'\\n#save_path = r\\'Z:\\\\User\\\\JJ\\\\SFQ3\\\\HYP1\\'\\n#save_path = r\\'Z:\\\\User\\\\Jaseung\\\\projects\\\\CSFQ\\\\measurement\\\\W14\\\\B8\\\\ADR2\\'\\n#save_path=r\\'Z:\\\\User\\\\Jaseung\\\\projects\\\\CSFQ\\\\measurement\\\\IBM\\\\384QB56\\\\BF\\'\\n#save_path=r\\'Z:\\\\User\\\\Jaseung\\\\projects\\\\CSFQ\\\\measurement\\\\W11\\\\DD5\\\\BF\\'\\n#save_path = r\\'Z:\\\\User\\\\Jaseung\\\\projects\\\\CSFQ\\\\measurement\\\\W11\\\\A8\\\\ADR2\\'\\n#save_path = r\\'Z:\\\\User\\\\Caleb\\\\ch061\\'\\n#save_path = r\\'C:\\\\Users\\\\Lab User\\\\Desktop\\\\Flux\\'\\ncommentStr =\\'\\'\\n############################################################################\\n\\n# dictionary for parameters to be saved in json file. Solely for log.\\nxID, xStart, xEnd, xStep = \\'Volt (V)\\', startVolt, endVolt, stepVolt\\nyID, yStart, yEnd, yStep = \\'Frequency (Hz)\\',startFreq, endFreq, (endFreq-startFreq)/(numPoints-1)\\npara = dict([(\\'xID\\', xID), (\\'xStart\\', xStart), (\\'xEnd\\', xEnd)\\n             , (\\'yID\\', yID), (\\'yStart\\', yStart), (\\'yEnd\\', yEnd), (\\'Power (dBm)\\', power)\\n             , (\\'numPoints\\',numPoints), (\\'IFbandwidth (Hz)\\', IFbandwidth) \\n             , (\\'avg\\',avg), (\\'comment\\', commentStr)])\\n\\n# file setup\\nif fridgeType==\\'ADR2\\':\\n    FAA = float(lsci.tempGet(\\'B\\')) # get temperature\\nelse :\\n    FAA = 0    \\ntimeStr = time.strftime(\"%H%M%S\")\\nbaseStr = sampleID + \\'_S21vsFvsV_fr{:.9g}_{:.9g}_Pr{:.4g}_V{}_{}_{}_T{:.4g}_{}_{}\\'\\nbaseFileName = baseStr.format(startFreq/1e9, endFreq/1e9, power, startVolt, endVolt, stepVolt, FAA, suffix, timeStr)\\ndataFileName_mag, dataFileName_phase  = (os.path.join(save_path, baseFileName + \\'_mag.dat\\'), \\n                                         os.path.join(save_path, baseFileName + \\'_phase.dat\\'))\\nlogFileName =  os.path.join(save_path, baseFileName + \\'.json\\')\\nwith open(logFileName, \\'w\\') as f:\\n    json.dump(para,f,indent=4, sort_keys=True)\\n\\n# plot setup\\nplotobj= myplots_py3.plot2D(ylabel = \\'Frequency (Hz)\\', xlabel=\\'Volt (V)\\', title = baseFileName)\\n\\n# preconfigure instrument\\npna.setupMeas()\\npna.setSweepType(\\'linear\\')\\npna.setFreqStartEnd(startFreq, endFreq)\\npna.setPwr(power)\\npna.avgCount(avg)\\npna.numPoints(numPoints)\\npna.setIF(IFbandwidth)\\npna.pwrOn()\\n\\n#sim_glb.setVoltage(Vglb_init)\\n#sim_chip.setVoltage(Vchip_init)\\n# sim_glb.setVoltage(startVolt)\\n#sim_chip.setVoltage(startVolt)\\nsim_p.setVoltage(startVolt)\\n\\ntime.sleep(2)\\n\\n# data initialization\\nS21_mag_log_2D, S21_phase_2D = np.array([]), np.array([])\\n\\n################ sweep start ################\\nfor volt in np.arange(startVolt, endVolt + stepVolt, stepVolt): # traverse in [pmin, pmax].\\n    clear_output()\\n    print(\\'startV={:.3g} V, endV={:.3g} V, current volt={:.3g} V\\'.format(startVolt, endVolt, volt))\\n\\n    # configure\\n    if sweepVoltSrc==1:\\n        sim_chip.setVoltage(volt)\\n#         pass\\n    elif sweepVoltSrc==2:\\n        sim_p.setVoltage(volt)\\n        \\n    #time.sleep(0.5)\\n    pna.avgClear()\\n    \\n    # fetch data from PNA\\n    freq, S21 = pna.getData(cplx=True) # S21 in linear scale\\n    \\n    # S21 conversion\\n    S21_real, S21_imag = np.real(S21), np.imag(S21)\\n    S21_mag, S21_phase = np.sqrt(S21_real**2 + S21_imag**2), np.angle(S21, deg=True) # phase in degree\\n    S21_mag_log = 20.0 * np.log10(S21_mag)    # dB\\n    \\n    if S21_mag_log_2D.size == 0: # when S21_mag_2D is empty\\n        S21_mag_log_2D = S21_mag_log\\n        #S21_mag_log_2D = S21_real\\n        S21_mag_log_2D.shape = (S21_mag_log.size, 1)\\n        S21_phase_2D = S21_phase\\n        #S21_phase_2D = S21_imag\\n        S21_phase_2D.shape = (S21_phase.size, 1)\\n    else:\\n        S21_mag_log_2D = np.column_stack((S21_mag_log_2D, S21_mag_log))\\n        S21_phase_2D = np.column_stack((S21_phase_2D, S21_phase))\\n        #S21_mag_log_2D = np.column_stack((S21_mag_log_2D, S21_real))\\n        #S21_phase_2D = np.column_stack((S21_phase_2D, S21_imag))\\n    \\n    # plot update\\n    extent = [startVolt, volt, startFreq, endFreq]\\n    plotobj.update(S21_mag_log_2D, extent)\\n        \\n    # save data in each iteration\\n#     f_mag = open(dataFileName_mag, \\'w\\') \\n#     f_phase = open(dataFileName_phase, \\'w\\') \\n#     np.savetxt(f_mag, S21_mag_log_2D, fmt=\\'%.9g\\', delimiter=\\'\\\\t\\') \\n#     np.savetxt(f_phase, S21_phase_2D, fmt=\\'%.9g\\', delimiter=\\'\\\\t\\')\\n#     f_mag.close()\\n#     f_phase.close()\\n    \\n############## sweep end #########################    \\n# save at the end\\nf_mag = open(dataFileName_mag, \\'wb\\') \\nf_phase = open(dataFileName_phase, \\'wb\\') \\nnp.savetxt(f_mag, S21_mag_log_2D, fmt=\\'%.9g\\', delimiter=\\'\\\\t\\') \\nnp.savetxt(f_phase, S21_phase_2D, fmt=\\'%.9g\\', delimiter=\\'\\\\t\\')\\nf_mag.close()\\nf_phase.close()\\n\\n \\n# Post measurement   \\ndel S21_mag_log_2D, S21_phase_2D\\npna.pwrOff()\\nsim_p.setVoltage(Vglb_end)\\n#sim_chip.setVoltage(Vchip_end)\\nplotobj.fig.savefig(os.path.join(save_path, baseFileName + \\'.png\\'))\\nprint(\\'Measurement done!!!\\')')\n",
      "  File \u001b[0;32m\"C:\\Anaconda\\Lib\\site-packages\\IPython\\core\\interactiveshell.py\"\u001b[0m, line \u001b[0;32m2103\u001b[0m, in \u001b[0;35mrun_cell_magic\u001b[0m\n    result = fn(magic_arg_s, cell)\n",
      "  File \u001b[0;32m\"<decorator-gen-63>\"\u001b[0m, line \u001b[0;32m2\u001b[0m, in \u001b[0;35mtime\u001b[0m\n",
      "  File \u001b[0;32m\"C:\\Anaconda\\Lib\\site-packages\\IPython\\core\\magic.py\"\u001b[0m, line \u001b[0;32m187\u001b[0m, in \u001b[0;35m<lambda>\u001b[0m\n    call = lambda f, *a, **k: f(*a, **k)\n",
      "  File \u001b[0;32m\"C:\\Anaconda\\Lib\\site-packages\\IPython\\core\\magics\\execution.py\"\u001b[0m, line \u001b[0;32m1179\u001b[0m, in \u001b[0;35mtime\u001b[0m\n    expr_ast = self.shell.compile.ast_parse(expr)\n",
      "\u001b[1;36m  File \u001b[1;32m\"C:\\Anaconda\\Lib\\site-packages\\IPython\\core\\compilerop.py\"\u001b[1;36m, line \u001b[1;32m99\u001b[1;36m, in \u001b[1;35mast_parse\u001b[1;36m\u001b[0m\n\u001b[1;33m    return compile(source, filename, symbol, self.flags | PyCF_ONLY_AST, 1)\u001b[0m\n",
      "\u001b[1;36m  File \u001b[1;32m\"<unknown>\"\u001b[1;36m, line \u001b[1;32m3\u001b[0m\n\u001b[1;33m    def starkvsflux\u001b[0m\n\u001b[1;37m                   ^\u001b[0m\n\u001b[1;31mSyntaxError\u001b[0m\u001b[1;31m:\u001b[0m invalid syntax\n"
     ]
    }
   ],
   "source": [
    "%%time\n",
    "###########################################################################\n",
    "# set up parameters\n",
    "def starkvsflux( flux, freqstart, freqend):\n",
    "    startFreq, endFreq = 9.105e9, 9.129e9\n",
    "    power = -70\n",
    "    numPoints, IFbandwidth, avg = 1601, 100000, 100\n",
    "    startVolt, endVolt, stepVolt = -5, 5, 0.5\n",
    "\n",
    "    sweepVoltSrc = 2 # 1: Vchip, 2: Vglb\n",
    "    Vglb_init = 0\n",
    "    Vglb_end = 0  \n",
    "    Vchip_init =0\n",
    "    Vchip_end = 0\n",
    "\n",
    "    sampleID = 'PLAQUETTE'\n",
    "    suffix = 'SQUID'\n",
    "    #save_path = r'Z:\\User\\Jaseung\\projects\\CSFQ\\measurement\\W19\\B3\\ADR1'\n",
    "    #save_path = r'Z:\\User\\Andrew\\Flip-Chip_measurements\\HYP2'\n",
    "    save_path = r'C:\\Users\\Lab User\\Desktop\\Plaquette\\RF_SQUID\\0602'\n",
    "    #save_path = r'Z:\\User\\JJ\\SFQ3\\HYP1'\n",
    "    #save_path = r'Z:\\User\\Jaseung\\projects\\CSFQ\\measurement\\W14\\B8\\ADR2'\n",
    "    #save_path=r'Z:\\User\\Jaseung\\projects\\CSFQ\\measurement\\IBM\\384QB56\\BF'\n",
    "    #save_path=r'Z:\\User\\Jaseung\\projects\\CSFQ\\measurement\\W11\\DD5\\BF'\n",
    "    #save_path = r'Z:\\User\\Jaseung\\projects\\CSFQ\\measurement\\W11\\A8\\ADR2'\n",
    "    #save_path = r'Z:\\User\\Caleb\\ch061'\n",
    "    #save_path = r'C:\\Users\\Lab User\\Desktop\\Flux'\n",
    "    commentStr =''\n",
    "    ############################################################################\n",
    "\n",
    "    # dictionary for parameters to be saved in json file. Solely for log.\n",
    "    xID, xStart, xEnd, xStep = 'Volt (V)', startVolt, endVolt, stepVolt\n",
    "    yID, yStart, yEnd, yStep = 'Frequency (Hz)',startFreq, endFreq, (endFreq-startFreq)/(numPoints-1)\n",
    "    para = dict([('xID', xID), ('xStart', xStart), ('xEnd', xEnd)\n",
    "                 , ('yID', yID), ('yStart', yStart), ('yEnd', yEnd), ('Power (dBm)', power)\n",
    "                 , ('numPoints',numPoints), ('IFbandwidth (Hz)', IFbandwidth) \n",
    "                 , ('avg',avg), ('comment', commentStr)])\n",
    "\n",
    "    # file setup\n",
    "    if fridgeType=='ADR2':\n",
    "        FAA = float(lsci.tempGet('B')) # get temperature\n",
    "    else :\n",
    "        FAA = 0    \n",
    "    timeStr = time.strftime(\"%H%M%S\")\n",
    "    baseStr = sampleID + '_S21vsFvsV_fr{:.9g}_{:.9g}_Pr{:.4g}_V{}_{}_{}_T{:.4g}_{}_{}'\n",
    "    baseFileName = baseStr.format(startFreq/1e9, endFreq/1e9, power, startVolt, endVolt, stepVolt, FAA, suffix, timeStr)\n",
    "    dataFileName_mag, dataFileName_phase  = (os.path.join(save_path, baseFileName + '_mag.dat'), \n",
    "                                             os.path.join(save_path, baseFileName + '_phase.dat'))\n",
    "    logFileName =  os.path.join(save_path, baseFileName + '.json')\n",
    "    with open(logFileName, 'w') as f:\n",
    "        json.dump(para,f,indent=4, sort_keys=True)\n",
    "\n",
    "    # plot setup\n",
    "    plotobj= myplots_py3.plot2D(ylabel = 'Frequency (Hz)', xlabel='Volt (V)', title = baseFileName)\n",
    "\n",
    "    # preconfigure instrument\n",
    "    pna.setupMeas()\n",
    "    pna.setSweepType('linear')\n",
    "    pna.setFreqStartEnd(startFreq, endFreq)\n",
    "    pna.setPwr(power)\n",
    "    pna.avgCount(avg)\n",
    "    pna.numPoints(numPoints)\n",
    "    pna.setIF(IFbandwidth)\n",
    "    pna.pwrOn()\n",
    "\n",
    "    #sim_glb.setVoltage(Vglb_init)\n",
    "    #sim_chip.setVoltage(Vchip_init)\n",
    "    # sim_glb.setVoltage(startVolt)\n",
    "    #sim_chip.setVoltage(startVolt)\n",
    "    sim_p.setVoltage(startVolt)\n",
    "\n",
    "    time.sleep(2)\n",
    "\n",
    "    # data initialization\n",
    "    S21_mag_log_2D, S21_phase_2D = np.array([]), np.array([])\n",
    "\n",
    "    ################ sweep start ################\n",
    "    for volt in np.arange(startVolt, endVolt + stepVolt, stepVolt): # traverse in [pmin, pmax].\n",
    "        clear_output()\n",
    "        print('startV={:.3g} V, endV={:.3g} V, current volt={:.3g} V'.format(startVolt, endVolt, volt))\n",
    "\n",
    "        # configure\n",
    "        if sweepVoltSrc==1:\n",
    "            sim_chip.setVoltage(volt)\n",
    "    #         pass\n",
    "        elif sweepVoltSrc==2:\n",
    "            sim_p.setVoltage(volt)\n",
    "\n",
    "        #time.sleep(0.5)\n",
    "        pna.avgClear()\n",
    "\n",
    "        # fetch data from PNA\n",
    "        freq, S21 = pna.getData(cplx=True) # S21 in linear scale\n",
    "\n",
    "        # S21 conversion\n",
    "        S21_real, S21_imag = np.real(S21), np.imag(S21)\n",
    "        S21_mag, S21_phase = np.sqrt(S21_real**2 + S21_imag**2), np.angle(S21, deg=True) # phase in degree\n",
    "        S21_mag_log = 20.0 * np.log10(S21_mag)    # dB\n",
    "\n",
    "        if S21_mag_log_2D.size == 0: # when S21_mag_2D is empty\n",
    "            S21_mag_log_2D = S21_mag_log\n",
    "            #S21_mag_log_2D = S21_real\n",
    "            S21_mag_log_2D.shape = (S21_mag_log.size, 1)\n",
    "            S21_phase_2D = S21_phase\n",
    "            #S21_phase_2D = S21_imag\n",
    "            S21_phase_2D.shape = (S21_phase.size, 1)\n",
    "        else:\n",
    "            S21_mag_log_2D = np.column_stack((S21_mag_log_2D, S21_mag_log))\n",
    "            S21_phase_2D = np.column_stack((S21_phase_2D, S21_phase))\n",
    "            #S21_mag_log_2D = np.column_stack((S21_mag_log_2D, S21_real))\n",
    "            #S21_phase_2D = np.column_stack((S21_phase_2D, S21_imag))\n",
    "\n",
    "        # plot update\n",
    "        extent = [startVolt, volt, startFreq, endFreq]\n",
    "        plotobj.update(S21_mag_log_2D, extent)\n",
    "\n",
    "        # save data in each iteration\n",
    "    #     f_mag = open(dataFileName_mag, 'w') \n",
    "    #     f_phase = open(dataFileName_phase, 'w') \n",
    "    #     np.savetxt(f_mag, S21_mag_log_2D, fmt='%.9g', delimiter='\\t') \n",
    "    #     np.savetxt(f_phase, S21_phase_2D, fmt='%.9g', delimiter='\\t')\n",
    "    #     f_mag.close()\n",
    "    #     f_phase.close()\n",
    "\n",
    "    ############## sweep end #########################    \n",
    "    # save at the end\n",
    "    f_mag = open(dataFileName_mag, 'wb') \n",
    "    f_phase = open(dataFileName_phase, 'wb') \n",
    "    np.savetxt(f_mag, S21_mag_log_2D, fmt='%.9g', delimiter='\\t') \n",
    "    np.savetxt(f_phase, S21_phase_2D, fmt='%.9g', delimiter='\\t')\n",
    "    f_mag.close()\n",
    "    f_phase.close()\n",
    "\n",
    "\n",
    "    # Post measurement   \n",
    "    del S21_mag_log_2D, S21_phase_2D\n",
    "    pna.pwrOff()\n",
    "    sim_p.setVoltage(Vglb_end)\n",
    "    #sim_chip.setVoltage(Vchip_end)\n",
    "    plotobj.fig.savefig(os.path.join(save_path, baseFileName + '.png'))\n",
    "    print('Measurement done!!!')"
   ]
  },
  {
   "cell_type": "code",
   "execution_count": null,
   "metadata": {
    "collapsed": true
   },
   "outputs": [],
   "source": []
  },
  {
   "cell_type": "markdown",
   "metadata": {},
   "source": [
    "# S21 vs Freq vs Flux, 3D flux scan"
   ]
  },
  {
   "cell_type": "code",
   "execution_count": null,
   "metadata": {
    "collapsed": true
   },
   "outputs": [],
   "source": [
    "%%time\n",
    "###########################################################################\n",
    "# set up parameters\n",
    "startFreq, endFreq = 7.951e9, 7.953e9 # 6.935e9, 6.9450e9 #6.7949e9 , 6.9676e9 #6.83e9, 6.894e9#6.856e9, 7.015e9 #6.85e9, 7.05e9\n",
    "power = -60\n",
    "numPoints, IFbandwidth, avg = 801, 200, 1\n",
    "startVolt, endVolt, stepVolt = -20, 20, 0.1 #-5, 5, 0.05 #  #-15, 15, 0.4#-20, 20, 0.5 #-1, 1.5, 0.04\n",
    "endV = 0  # end voltage for both global and onchip flux\n",
    "startVolt1, endVolt1, stepVolt1 =-5.3, 0.7, 0.05\n",
    "\n",
    "slop, Vglb_offset = -0.0659, -0.5  # Vglb = slope * Vchip + Vglb_offset. Vglb_offset is the y-intercept in Vchip(x-axxis) vs Vglb (y) axis.\n",
    "\n",
    "#save_path = 'Z:\\User\\JJ\\SFQ2\\C6'\n",
    "save_path = 'Z:\\User\\Jaseung\\projects\\CSFQ\\measurement\\W3\\B7\\BlueFors\\Jan2017\\S21vsFreqvsV\\AlongNormVchipAxis'\n",
    "suffix = 'Q1_VchipAxis'\n",
    "commentStr= 'slope={:.3g}, Vglb_offset={:.3g}'.format(slope, Vglb_offset)\n",
    "############################################################################\n",
    "\n",
    "# dictionary for parameters to be saved in json file. Solely for log.\n",
    "xID, xStart, xEnd, xStep = 'Volt (V)', startVolt, endVolt, stepVolt\n",
    "yID, yStart, yEnd, yStep = 'Frequency (Hz)',startFreq, endFreq, (endFreq-startFreq)/(numPoints-1)\n",
    "zID, zStart, zEnd, zStep = 'Volt (V)', startVolt1, endVolt1, stepVolt1\n",
    "para = dict([('xID', xID), ('xStart', xStart), ('xEnd', xEnd)\n",
    "             , ('yID', yID), ('yStart', yStart), ('yEnd', yEnd)\n",
    "             ,('zID', zID), ('zStart', zStart), ('zEnd', zEnd), ('Power (dBm)', power)\n",
    "             , ('numPoints',numPoints), ('IFbandwidth (Hz)', IFbandwidth) \n",
    "             , ('avg',avg), ('comment', commentStr)])\n",
    "\n",
    "# log file setup\n",
    "if fridgeType=='ADR2':\n",
    "    FAA = float(lsci.tempGet('B')) # get temperature\n",
    "else FAA = 0\n",
    "timeStr = time.strftime(\"%H%M%S\")\n",
    "baseStr = 'S21vsFvsV_fr{:.9g}_{:.9g}_Pr{:.4g}_V{}_{}_{}_T{:.4g}_{}_{}'\n",
    "baseFileName = baseStr.format(startFreq/1e9, endFreq/1e9, power, startVolt, endVolt, stepVolt, FAA, suffix,timeStr)\n",
    "logFileName =  os.path.join(save_path, baseFileName + '.json')\n",
    "with open(logFileName, 'w') as f:\n",
    "    json.dump(para,f,indent=4, sort_keys=True)\n",
    "\n",
    "# plot setup\n",
    "#plotobj= myplots.plot2D(ylabel = 'Frequency(Hz)', xlabel='Volt (V)', title = 'S21 vs Freq vs Volt')\n",
    "\n",
    "# preconfigure instrument\n",
    "pna.setupMeas()\n",
    "pna.setSweepType('linear')\n",
    "pna.setFreqStartEnd(startFreq, endFreq)\n",
    "pna.setPwr(power)\n",
    "pna.avgCount(avg)\n",
    "pna.numPoints(numPoints)\n",
    "pna.setIF(IFbandwidth)\n",
    "pna.pwrOn()\n",
    "\n",
    "sim_glb.setVoltage(slope * startVolt + Vglb_offset)\n",
    "sim_chip.setVoltage(startVolt)\n",
    "\n",
    "time.sleep(2)\n",
    "\n",
    "################ sweep start ################\n",
    "for Vglb_offset in np.arange(startVolt1, endVolt1+stepVolt1, stepVolt1):\n",
    "    # data initialization\n",
    "    S21_mag_log_2D, S21_phase_2D = np.array([]), np.array([])\n",
    "\n",
    "    #sim_glb.setVoltage(volt_outer)\n",
    "    \n",
    "    for volt_inner in np.arange(startVolt, endVolt + stepVolt, stepVolt): # traverse in [pmin, pmax].\n",
    "        clear_output()\n",
    "        print('Vglb_offset={:.3g}'.format(Vglb_offset))\n",
    "        print('startV={:.3g} V, endV={:.3g} V, current volt={:.3g} V'.format(startVolt, endVolt, volt_inner))\n",
    "\n",
    "        # configure\n",
    "        sim_chip.setVoltage(volt_inner)\n",
    "        sim_glb.setVoltage(slope * volt_inner + Vglb_offset)\n",
    "        time.sleep(0.1)\n",
    "        pna.avgClear()\n",
    "\n",
    "        # fetch data from PNA\n",
    "        freq, S21 = pna.getData(cplx=True) # S21 in linear scale\n",
    "\n",
    "        # S21 conversion\n",
    "        S21_real, S21_imag = np.real(S21), np.imag(S21)\n",
    "        S21_mag, S21_phase = np.sqrt(S21_real**2 + S21_imag**2), np.angle(S21, deg=True) # phase in degree\n",
    "        S21_mag_log = 20.0 * np.log10(S21_mag)    # dB\n",
    "\n",
    "        if S21_mag_log_2D.size == 0: # when S21_mag_2D is empty\n",
    "            S21_mag_log_2D = S21_mag_log\n",
    "            S21_mag_log_2D.shape = (S21_mag_log.size, 1)\n",
    "            S21_phase_2D = S21_phase\n",
    "            S21_phase_2D.shape = (S21_phase.size, 1)\n",
    "        else:\n",
    "            S21_mag_log_2D = np.column_stack((S21_mag_log_2D, S21_mag_log))\n",
    "            S21_phase_2D = np.column_stack((S21_phase_2D, S21_phase))\n",
    "\n",
    "        # plot update\n",
    "        #extent = [startVolt, volt, startFreq, endFreq]\n",
    "        #plotobj.update(S21_mag_log_2D, extent)\n",
    "     \n",
    "    sim_chip.setVoltage(endV)\n",
    "    time.sleep(3)\n",
    "     \n",
    "    # save at the end of inner loop\n",
    "    fileIdStr = '_Vglb_offset={:.3g}'.format(Vglb_offset)\n",
    "    dataFileName_mag, dataFileName_phase  = (os.path.join(save_path, baseFileName + fileIdStr + '_mag.dat'), \n",
    "                                             os.path.join(save_path, baseFileName + fileIdStr + '_phase.dat'))\n",
    "    f_mag = open(dataFileName_mag, 'w') \n",
    "    f_phase = open(dataFileName_phase, 'w') \n",
    "    np.savetxt(f_mag, S21_mag_log_2D, fmt='%.9g', delimiter='\\t') \n",
    "    np.savetxt(f_phase, S21_phase_2D, fmt='%.9g', delimiter='\\t')\n",
    "    f_mag.close()\n",
    "    f_phase.close()\n",
    "############## sweep end #########################    \n",
    "\n",
    "# Post measurement   \n",
    "del S21_mag_log_2D, S21_phase_2D\n",
    "pna.pwrOff()\n",
    "sim_glb.setVoltage(endV)\n",
    "sim_chip.setVoltage(endV)\n",
    "print('Measurement done!!!')"
   ]
  },
  {
   "cell_type": "markdown",
   "metadata": {},
   "source": [
    "# S21 vs Flux1 vs Flux2, 2D flux scan"
   ]
  },
  {
   "cell_type": "code",
   "execution_count": null,
   "metadata": {
    "collapsed": true
   },
   "outputs": [],
   "source": [
    "%reset"
   ]
  },
  {
   "cell_type": "code",
   "execution_count": null,
   "metadata": {
    "collapsed": true
   },
   "outputs": [],
   "source": [
    "import sys\n",
    "for i in dir():\n",
    "    try:\n",
    "        print (i, eval(i).nbytes )\n",
    "    except:\n",
    "        print (i, sys.getsizeof(eval(i)) )"
   ]
  },
  {
   "cell_type": "code",
   "execution_count": null,
   "metadata": {
    "collapsed": true
   },
   "outputs": [],
   "source": [
    "%%time\n",
    "##############################################################################\n",
    "# set up parameters\n",
    "readoutPwr = -75\n",
    "readoutFreq = 7.14567e9 #6.7917e9 #6.792e9 #6.82e9 \n",
    "numPoints, IFbandwidth, avg = 30, 500, 1\n",
    "startVolt1, endVolt1, stepVolt1 =-3, 3, 0.02#-10, 10, 0.2 #-10, 10, 0.05 #-1.2, 1, 0.025 # outer for-loop\n",
    "startVolt2, endVolt2, stepVolt2 =-20,20, 0.25 #-20, 20, 0.5 #-20, 20, 0.5 # y axis. Inner for-loop.\n",
    "endVolt = 0\n",
    "\n",
    "suffix = 'Q6_V2=onchip'\n",
    "save_path =  r'Z:\\User\\Jaseung\\projects\\CSFQ\\measurement\\W10\\B2\\ADR2'\n",
    "commentStr='with spec setup'\n",
    "##############################################################################\n",
    "\n",
    "xID, xStart, xEnd, xStep = 'Volt1 (V)', startVolt1, endVolt1, stepVolt1\n",
    "yID, yStart, yEnd, yStep = 'Volt2 (V)', startVolt2, endVolt2, stepVolt2\n",
    "para = dict([('xID', xID), ('xStart', xStart), ('xEnd', xEnd)\n",
    "             , ('yID', yID), ('yStart', yStart), ('yEnd', yEnd)\n",
    "             , ('readoutFreq (Hz)',readoutFreq),('power (dBm)',readoutPwr)\n",
    "             , ('numPoints',numPoints), ('IFbandwidth (Hz)', IFbandwidth) \n",
    "             , ('avg',avg), ('comment', commentStr)])\n",
    "\n",
    "# file setup\n",
    "if fridgeType=='ADR2':\n",
    "    FAA = float(lsci.tempGet('B')) # get temperature\n",
    "else:\n",
    "    FAA = 0\n",
    "\n",
    "baseStr = 'S21vsV1vsV2_fr{:.9g}_Pr{:.4g}_V1_{}_{}_{}_V2_{}_{}_{}_T{:.4g}_{}'\n",
    "baseFileName = baseStr.format(readoutFreq/1e9, readoutPwr, startVolt1, endVolt1, stepVolt1, startVolt2, endVolt2, stepVolt2, FAA, suffix)\n",
    "dataFileName1  = os.path.join(save_path, baseFileName + '_mag.dat')\n",
    "dataFileName2  = os.path.join(save_path, baseFileName + '_phase.dat')\n",
    "logFileName =  os.path.join(save_path, baseFileName + '.json')\n",
    "with open(logFileName, 'w') as f_log:\n",
    "    json.dump(para, f_log, indent=4, sort_keys=True)\n",
    "\n",
    "# plot setup\n",
    "plotobj= myplots_py3.plot2D_4sub(xlabel1 = 'Voltage2 (V)', ylabel1='S21 (dB)', \n",
    "                             xlabel2 = 'Voltage2 (V)', ylabel2='Phase(degree)',\n",
    "                             xlabel3 = 'Voltage, Vglb (V)', ylabel3='Voltage, Vchip (V)',\n",
    "                             xlabel4 = 'Voltage, Vglb (V)', ylabel4='Voltage, Vchip (V)',\n",
    "                             title = 'S21 vs Global Flux vs Gradiometric Flux', figsize=(12,8))\n",
    "\n",
    "# preconfigure instrument\n",
    "pna.setupMeas()\n",
    "pna.setSweepType(mode='CW')\n",
    "pna.setCWFreq(readoutFreq)\n",
    "pna.setPwr(readoutPwr)\n",
    "pna.avgCount(avg)\n",
    "pna.numPoints(numPoints)\n",
    "pna.setIF(IFbandwidth)\n",
    "pna.pwrOn()\n",
    "\n",
    "sim_glb.setVoltage(startVolt1)\n",
    "time.sleep(2)\n",
    "sim_chip.setVoltage(startVolt2)\n",
    "time.sleep(2)\n",
    "\n",
    "# data initialization\n",
    "data1_2D, data2_2D = np.array([]), np.array([])\n",
    "\n",
    "################ sweep start ################\n",
    "#for specFreq in arange(startFreq, endFreq + stepFreq, stepFreq): # traverse in [pmin, pmax].\n",
    "for volt1 in np.arange(startVolt1, endVolt1 + stepVolt1, stepVolt1):\n",
    "    #configure para\n",
    "    sim_glb.setVoltage(volt1)\n",
    "    \n",
    "    # data initialization\n",
    "    xdata1, ydata1, ydata2 = np.array([]), np.array([]), np.array([])\n",
    "    \n",
    "    for volt2 in np.arange(startVolt2, endVolt2 + stepVolt2, stepVolt2):\n",
    "        clear_output()\n",
    "        print('startVolt1={:.3g}, endtvolt1={:.3g}'.format(startVolt1, endVolt1))\n",
    "        print('startVolt2={:.3g}, endtvolt2={:.3g}'.format(startVolt2, endVolt2))\n",
    "        print('volt1={:.3g}, volt2={:.3g}'.format(volt1, volt2)) \n",
    "        \n",
    "        # configure\n",
    "        pna.avgClear()\n",
    "        sim_chip.setVoltage(volt2)\n",
    "    \n",
    "        # fetch data from PNA\n",
    "        freq, S21= pna.getData(cplx=True) # S21 in linear scale\n",
    "    \n",
    "        # S21 conversion\n",
    "        S21_real, S21_imag = np.real(S21), np.imag(S21)\n",
    "        S21_mag, S21_phase = np.sqrt(S21_real**2 + S21_imag**2), np.angle(S21, deg=True) # phase in degree\n",
    "        S21_mag_log = 20.0 * np.log10(S21_mag)    # dB\n",
    "\n",
    "        S21_mag_log_avg = np.average(S21_mag_log) \n",
    "        S21_phase_avg = np.average(S21_phase)\n",
    "\n",
    "        xdata1 = np.append(xdata1, volt2)\n",
    "        ydata1 = np.append(ydata1, S21_mag_log_avg)\n",
    "        ydata2 = np.append(ydata2, S21_phase_avg)\n",
    "\n",
    "        # plot and update\n",
    "        plotobj.update1D(xdata1, ydata1, xdata1, ydata2)\n",
    "\n",
    "    \n",
    "    if data1_2D.size == 0: # when S21_mag_2D is empty\n",
    "        data1_2D = ydata1 # make 2D array\n",
    "        data1_2D.shape = (data1_2D.size, 1)\n",
    "        data2_2D = ydata2\n",
    "        data2_2D.shape = (data2_2D.size, 1)\n",
    "        \n",
    "    else:\n",
    "        data1_2D = np.column_stack((data1_2D, ydata1))\n",
    "        data2_2D = np.column_stack((data2_2D, ydata2))\n",
    "             \n",
    "    # plot and update\n",
    "    extent = [startVolt1, volt1, startVolt2, endVolt2]\n",
    "    plotobj.update2D(data1_2D, data2_2D, extent, cmap='Blues_r')\n",
    "    \n",
    "    # save data in each iteration\n",
    "    f_mag = open(dataFileName1, 'wb') \n",
    "    f_phase = open(dataFileName2, 'wb') \n",
    "    np.savetxt(f_mag, data1_2D, fmt='%.9g', delimiter='\\t') \n",
    "    np.savetxt(f_phase, data2_2D, fmt='%.9g', delimiter='\\t')\n",
    "    f_mag.close()\n",
    "    f_phase.close()\n",
    "     \n",
    "############## sweep end #########################    \n",
    "\n",
    "# Post measurement    \n",
    "pna.pwrOff()\n",
    "pna.setSweepType(mode='linear')\n",
    "sim_glb.setVoltage(endVolt)\n",
    "sim_chip.setVoltage(endVolt)\n",
    "f_log.close()\n",
    "plotobj.fig.savefig(os.path.join(save_path, baseFileName + '.png'))\n",
    "print('Measurement done!!!')"
   ]
  },
  {
   "cell_type": "markdown",
   "metadata": {},
   "source": [
    "# S21 vs Freq vs Flux (linear comb. of flux1 and flux2), 2D"
   ]
  },
  {
   "cell_type": "code",
   "execution_count": null,
   "metadata": {
    "collapsed": true
   },
   "outputs": [],
   "source": [
    "reload(myplots)"
   ]
  },
  {
   "cell_type": "code",
   "execution_count": null,
   "metadata": {
    "collapsed": true
   },
   "outputs": [],
   "source": [
    "%%time\n",
    "###########################################################################\n",
    "# set up parameters\n",
    "startFreq, endFreq =  6.77e9, 6.81e9 #6.83e9, 6.894e9#6.856e9, 7.015e9 #6.85e9, 7.05e9\n",
    "power = -60\n",
    "numPoints, IFbandwidth, avg = 801, 1000, 1\n",
    "startVolt, endVolt, stepVolt =-20, 20, 0.2#-20, 20, 0.5 #-1, 1.5, 0.04\n",
    "endV = 0\n",
    "\n",
    "slope, Vglb_offset =-0.3378,2.4 # 0.2107, 0# 2.484#-0.3378, -0.9641# -0.0659, 0.7   # offset means Vglb when Vchip=0\n",
    "\n",
    "#save_path = 'Z:\\User\\JJ\\sput\\M5_1_spec'\n",
    "save_path = 'Z:\\User\\Jaseung\\projects\\CSFQ\\measurement\\W3\\B7\\BlueFors\\Jan2017\\S21vsFreqvsV'\n",
    "suffix = 'Q1_xID=Vchip_slope{}_Vglb_offset{}'.format(slope, Vglb_offset)\n",
    "comment= 'slope={:.3g}, Vglb_offset={:.3g}'.format(slope, Vglb_offset)\n",
    "\n",
    "plottitle = 'S21 vs Freq vs Vchip, Vglb_offset={:.3g}'.format(Vglb_offset)\n",
    "\n",
    "############################################################################\n",
    "\n",
    "# dictionary for parameters to be saved in json file. Solely for log.\n",
    "xID, xStart, xEnd, xStep = 'Volt (V)', startVolt, endVolt, stepVolt\n",
    "yID, yStart, yEnd, yStep = 'Frequency (Hz)',startFreq, endFreq, (endFreq-startFreq)/(numPoints-1)\n",
    "para = dict([('xID', xID), ('xStart', xStart), ('xEnd', xEnd)\n",
    "             , ('yID', yID), ('yStart', yStart), ('yEnd', yEnd), ('Power (dBm)', power)\n",
    "             , ('numPoints',numPoints), ('IFbandwidth (Hz)', IFbandwidth) \n",
    "             , ('avg',avg), ('comment', comment)])\n",
    "\n",
    "# file setup\n",
    "if fridgeType=='ADR2':\n",
    "    FAA = float(lsci.tempGet('B')) # get temperature\n",
    "else FAA = 0\n",
    "\n",
    "baseStr = 'S21vsFvsV_fr{:.9g}_{:.9g}_Pr{:.4g}_V{}_{}_{}_T{:.4g}_{}'\n",
    "baseFileName = baseStr.format(startFreq/1e9, endFreq/1e9, power, startVolt, endVolt, stepVolt, FAA, suffix)\n",
    "dataFileName_mag, dataFileName_phase  = (os.path.join(save_path, baseFileName + '_mag.dat'), \n",
    "                                         os.path.join(save_path, baseFileName + '_phase.dat'))\n",
    "logFileName =  os.path.join(save_path, baseFileName + '.json')\n",
    "with open(logFileName, 'w') as f:\n",
    "    json.dump(para,f,indent=4, sort_keys=True)\n",
    "\n",
    "# plot setup\n",
    "plotobj= myplots.plot2D(ylabel = 'Frequency(Hz)', xlabel='Volt (V)', title = plottitle)\n",
    "\n",
    "# preconfigure instrument\n",
    "pna.setupMeas()\n",
    "pna.setSweepType('linear')\n",
    "pna.setFreqStartEnd(startFreq, endFreq)\n",
    "pna.setPwr(power)\n",
    "pna.avgCount(avg)\n",
    "pna.numPoints(numPoints)\n",
    "pna.setIF(IFbandwidth)\n",
    "pna.pwrOn()\n",
    "\n",
    "sim_glb.setVoltage(slope*startVolt+Vglb_offset)\n",
    "sim_chip.setVoltage(startVolt)\n",
    "time.sleep(2)\n",
    "\n",
    "# data initialization\n",
    "S21_mag_log_2D, S21_phase_2D = np.array([]), np.array([])\n",
    "\n",
    "################ sweep start ################\n",
    "for volt_chip in np.arange(startVolt, endVolt + stepVolt, stepVolt): # traverse in [pmin, pmax].\n",
    "    # configure\n",
    "    volt_glb =  slope * volt_chip + Vglb_offset\n",
    "    #volt_glb = -1/slope* (volt_chip-20) - 0.55\n",
    "    clear_output()\n",
    "    print('volt_glb={:.3g}, volt_chip={:.3g}'.format(volt_glb, volt_chip))\n",
    "    sim_chip.setVoltage(volt_chip)\n",
    "    sim_glb.setVoltage(volt_glb)\n",
    "    \n",
    "    time.sleep(0.1)\n",
    "    pna.avgClear()\n",
    "    \n",
    "    # fetch data from PNA\n",
    "    freq, S21 = pna.getData(cplx=True) # S21 in linear scale\n",
    "    \n",
    "    # S21 conversion\n",
    "    S21_real, S21_imag = np.real(S21), np.imag(S21)\n",
    "    S21_mag, S21_phase = np.sqrt(S21_real**2 + S21_imag**2), np.angle(S21, deg=True) # phase in degree\n",
    "    S21_mag_log = 20.0 * np.log10(S21_mag)    # dB\n",
    "    \n",
    "    if S21_mag_log_2D.size == 0: # when S21_mag_2D is empty\n",
    "        S21_mag_log_2D = S21_mag_log\n",
    "        S21_mag_log_2D.shape = (S21_mag_log.size, 1)\n",
    "        S21_phase_2D = S21_phase\n",
    "        S21_phase_2D.shape = (S21_phase.size, 1)\n",
    "    else:\n",
    "        S21_mag_log_2D = np.column_stack((S21_mag_log_2D, S21_mag_log))\n",
    "        S21_phase_2D = np.column_stack((S21_phase_2D, S21_phase))\n",
    "     \n",
    "    # plot update\n",
    "    extent = [startVolt, volt_chip, startFreq, endFreq]\n",
    "    plotobj.update(S21_mag_log_2D, extent)\n",
    "        \n",
    "    # save data in each iteration\n",
    "    f_mag = open(dataFileName_mag, 'w') \n",
    "    f_phase = open(dataFileName_phase, 'w') \n",
    "    np.savetxt(f_mag, S21_mag_log_2D, fmt='%.9g', delimiter='\\t') \n",
    "    np.savetxt(f_phase, S21_phase_2D, fmt='%.9g', delimiter='\\t')\n",
    "    f_mag.close()\n",
    "    f_phase.close()\n",
    "    \n",
    "############## sweep end #########################    \n",
    "\n",
    "# Post measurement    \n",
    "pna.pwrOff()\n",
    "sim_glb.setVoltage(endV)\n",
    "sim_chip.setVoltage(endV)\n",
    "plotobj.fig.savefig(os.path.join(save_path, baseFileName + '.png'))\n",
    "print('Measurement done!!!')"
   ]
  },
  {
   "cell_type": "markdown",
   "metadata": {},
   "source": [
    "# S21 vs Freq, 1D continuous sweep, no save"
   ]
  },
  {
   "cell_type": "code",
   "execution_count": null,
   "metadata": {
    "collapsed": true
   },
   "outputs": [],
   "source": [
    "# set up parameters\n",
    "startFreq, endFreq = 6e9, 6.867e9\n",
    "power = -60\n",
    "numPoints, IFbandwidth, avg = 401, 500, 1\n",
    "#volt = 0.0 # -0.65 # -2.05  #2.4\n",
    "\n",
    "# plot setup\n",
    "plotobj= myplots_py3.plot1D(ylabel = 'S21 (dB)', xlabel='Frequency (Hz)', title = 'S21 vs Freq'\n",
    "                        , plotStyle='b-o')\n",
    "\n",
    "# preconfigure instrument\n",
    "pna.setupMeas()\n",
    "pna.setSweepType('linear')\n",
    "pna.setFreqStartEnd(startFreq, endFreq)\n",
    "pna.setPwr(power)\n",
    "pna.avgCount(avg)\n",
    "pna.numPoints(numPoints)\n",
    "pna.setIF(IFbandwidth)\n",
    "pna.pwrOn()\n",
    "\n",
    "#spec.pwrOff()\n",
    "#sim_glb.setVoltage(volt)\n",
    "\n",
    "# data initialization\n",
    "S21_mag_log_2D, S21_phase_2D = np.array([]), np.array([])\n",
    "\n",
    "################ sweep start ################\n",
    "for i in range(400):\n",
    "    # configure\n",
    "    pna.avgClear()\n",
    "        \n",
    "    # fetch data from PNA\n",
    "    freq, S21 = pna.getData(cplx=True) # S21 in linear scale\n",
    "    \n",
    "    # S21 conversion\n",
    "    S21_real, S21_imag = np.real(S21), np.imag(S21)\n",
    "    S21_mag, S21_phase = np.sqrt(S21_real**2 + S21_imag**2), np.angle(S21, deg=True) # phase in degree\n",
    "    S21_mag_log = 20.0 * np.log10(S21_mag)    # dB\n",
    "    \n",
    "    # plot update\n",
    "    plotobj.update(freq/1e9, S21_mag_log)\n",
    "       \n",
    "############## sweep end #########################    \n",
    "\n",
    "# Post measurement    \n",
    "pna.pwrOff()\n"
   ]
  },
  {
   "cell_type": "markdown",
   "metadata": {},
   "source": [
    "# S21 vs Flux, 1D, CW mode"
   ]
  },
  {
   "cell_type": "code",
   "execution_count": null,
   "metadata": {
    "collapsed": true
   },
   "outputs": [],
   "source": [
    "####################################################################################################\n",
    "# set up parameters\n",
    "readoutFreq = 6.9078e9 #6.9180e9 #6.873328e9\n",
    "readoutPwr = -70\n",
    "numPoints, IFbandwidth, avg = 50, 100, 1\n",
    "startVolt, endVolt, stepVolt =0.2, 0.5, 0.003\n",
    "endV = 0\n",
    "sweepNumber = 1\n",
    "timesleep = 0.1 # sec\n",
    "\n",
    "sampleID = 'IBM384QB56'\n",
    "suffix = 'Q2CSFQ'\n",
    "# save_path = 'C:\\Users\\Lab User\\Desktop\\W4'\n",
    "#save_path = r'Z:\\User\\Jaseung\\projects\\CSFQ\\measurement\\W11\\DD5\\ADR2'\n",
    "save_path = r'Z:\\User\\Jaseung\\projects\\CSFQ\\measurement\\IBM\\384QB56\\BF\\With_circulators'\n",
    "#save_path = r'Y:\\User\\Caleb'\n",
    "######################################################################################################\n",
    "\n",
    "# dictionary for parameters to be saved in json file. Solely for log.\n",
    "header = '{:s} {:s} {:s}'.format('Frequency(Hz)', 'mag(dB)', 'phase(degree)')\n",
    "para = dict([('readout Freq (Hz)',readoutFreq),('readout Power (dBm)', readoutPwr),('numPoints',numPoints),\n",
    "             ('IFbandwidth (Hz)', IFbandwidth),('avg',avg),('start volt (V)',startVolt),('end volt (V)', endVolt),\n",
    "             ('step volt (V)',stepVolt), ('header', header)])\n",
    "\n",
    "\n",
    "# file setup\n",
    "if fridgeType=='ADR2':\n",
    "    FAA = float(lsci.tempGet('B')) # get temperature\n",
    "else :\n",
    "    FAA = 0    \n",
    "timeStr = time.strftime(\"%H%M%S\")\n",
    "baseStr = sampleID + '_S21vsV_fr{:.9g}_Pr{:.9g}_V{:.9g}_{:.9g}_{:.9g}_T{:.3g}_{}_{}'\n",
    "baseFileName = baseStr.format(readoutFreq/1e9, readoutPwr, startVolt, endVolt, stepVolt, FAA, suffix, timeStr)\n",
    "dataFileName  = os.path.join(save_path, baseFileName + '.dat')\n",
    "logFileName = os.path.join(save_path, baseFileName + '.json')\n",
    "with open(logFileName, 'w') as f:\n",
    "    json.dump(para,f,indent=4, sort_keys=True)\n",
    "\n",
    "f_data = open(dataFileName, 'a')\n",
    "   \n",
    "# plot setup\n",
    "plotobj= myplots_py3.plot1D_2sub(xlabel1 = '', ylabel1='S21 (dB)', \n",
    "                             xlabel2 = 'Volt (V)', ylabel2='Phase(degree)',\n",
    "                             title = baseFileName, plotStyle='b-')\n",
    "\n",
    "# preconfigure instrument\n",
    "pna.setupMeas()\n",
    "pna.setSweepType('CW')\n",
    "pna.setCWFreq(readoutFreq)\n",
    "pna.setPwr(readoutPwr)\n",
    "pna.avgCount(avg)\n",
    "pna.numPoints(numPoints)\n",
    "pna.setIF(IFbandwidth)\n",
    "pna.pwrOn()\n",
    "\n",
    "#spec.pwrOff()\n",
    "sim_glb.setVoltage(startVolt)\n",
    "#sim_chip.setVoltage(0)\n",
    "\n",
    "#sim_glb.setVoltage(0.148)\n",
    "#sim_chip.setVoltage(startVolt)\n",
    "\n",
    "# data initialization\n",
    "xdata, ydata1, ydata2 = np.array([]), np.array([]),np.array([])\n",
    "\n",
    "# sweeper obj\n",
    "sweeper = myutils.Sweeper1D(start=startVolt, end=endVolt, \n",
    "                            step=stepVolt, sweepNum=sweepNumber)\n",
    "\n",
    "################ sweep start ################\n",
    "#for specFreq in arange(startFreq, endFreq + stepFreq, stepFreq): # traverse in [pmin, pmax].\n",
    "print(sweeper.stop())\n",
    "\n",
    "while not sweeper.stop(): \n",
    "    # configure\n",
    "    sim_glb.setVoltage(sweeper.curr_val)\n",
    "    #sim_chip.setVoltage(sweeper.curr_val)\n",
    "    \n",
    "    time.sleep(timesleep) # sec\n",
    "    pna.avgClear()\n",
    "    \n",
    "    # fetch data from PNA\n",
    "    freq, S21= pna.getData(cplx=True) # S21 in linear scale\n",
    "    \n",
    "    # S21 conversion\n",
    "    S21_real, S21_imag = np.real(S21), np.imag(S21)\n",
    "    S21_mag, S21_phase = np.sqrt(S21_real**2 + S21_imag**2), np.angle(S21, deg=True) # phase in degree\n",
    "    S21_mag_log = 20.0 * np.log10(S21_mag)    # dB\n",
    "    S21_mag_log_avg = np.average(S21_mag_log) \n",
    "    S21_phase_avg = np.average(S21_phase)\n",
    "    \n",
    "    # create spec freq, S21 1D array\n",
    "    xdata = np.append(xdata, sweeper.curr_val)\n",
    "    ydata1 = np.append(ydata1, S21_mag_log_avg)\n",
    "    ydata2 = np.append(ydata2, S21_phase_avg)\n",
    "    \n",
    "    # plot and update\n",
    "    plotobj.update(xdata, ydata1, xdata, ydata2)\n",
    "    \n",
    "    # save data in each iteration\n",
    "    string = '{:.9g}\\t{:.3g}\\t{:.3g} \\n'.format(sweeper.curr_val, S21_mag_log_avg,S21_phase_avg)\n",
    "    f_data.write(string)\n",
    "    \n",
    "    # update sweep\n",
    "    sweeper.update()\n",
    "############## sweep end #########################    \n",
    "\n",
    "# Post measurement    \n",
    "pna.pwrOff()\n",
    "pna.setSweepType(mode='linear')\n",
    "sim_glb.setVoltage(endV)\n",
    "#sim_chip.setVoltage(endV)\n",
    "f_data.close()\n",
    "f.close()\n",
    "plotobj.fig.savefig(os.path.join(save_path, baseFileName + '.png'))\n",
    "print('Measurement done!!')\n"
   ]
  },
  {
   "cell_type": "markdown",
   "metadata": {},
   "source": [
    "# S21 vs P, 1D, CW mode"
   ]
  },
  {
   "cell_type": "code",
   "execution_count": null,
   "metadata": {
    "collapsed": true
   },
   "outputs": [],
   "source": [
    "##################################################################\n",
    "# set up parameters\n",
    "readoutFreq = 6.103142e9 #6.873328e9\n",
    "numPoints, IFbandwidth, avg = 50, 200, 1\n",
    "startPwr, endPwr, stepPwr = -70, -40, 0.5\n",
    "volt = 0\n",
    "sweepNumber = 1\n",
    "\n",
    "sampleID = ''\n",
    "suffix = ''  # suffix to the file name\n",
    "save_path = 'C:\\Users\\Lab User\\Desktop\\JJ\\A4'\n",
    "#save_path = 'Z:\\User\\Jaseung\\projects\\CSFQ\\W1\\C5\\S21vsFreq'\n",
    "##################################################################\n",
    "\n",
    "# dictionary for parameters to be saved in json file. Solely for log.\n",
    "para = dict([('readout Freq (Hz)',readoutFreq),('numPoints',numPoints)\n",
    "             ,('IFbandwidth', IFbandwidth),('avg',avg)\n",
    "             ,('Power start (dBm)',startPwr),('Power end (dBm)',endPwr), ('Power step (dBm)',stepPwr)\n",
    "             ,('voltage (V)',volt)])\n",
    "\n",
    "# file setup\n",
    "FAA = float(lsci.tempGet('B')) # unicode to num    \n",
    "baseStr = sampleID + '_S21vsP_fr{:.9g}_Pr{:.9g}_{:.9g}_{:.9g}_V{:.3g}_T{:.4g}_{}'\n",
    "baseFileName = baseStr.format(readoutFreq/1e9, startPwr, endPwr, stepPwr, volt, FAA, suffix)\n",
    "dataFileName  = os.path.join(save_path, baseFileName + '.dat')\n",
    "logFileName = os.path.join(save_path, baseFileName + '.json')\n",
    "with open(logFileName, 'w') as f:\n",
    "    json.dump(para,f,indent=4, sort_keys=True)\n",
    "f_data = open(dataFileName, 'a')\n",
    "    \n",
    "# plot setup\n",
    "plotobj= myplots.plot1D_2sub(xlabel1 = '', ylabel1='S21 (dB)', \n",
    "                             xlabel2 = 'Volt (V)', ylabel2='Phase(degree)',\n",
    "                             title = 'S21 vs Volt', plotStyle='b-o')\n",
    "\n",
    "# preconfigure instrument\n",
    "pna.setupMeas()\n",
    "pna.setSweepType('CW')\n",
    "pna.setCWFreq(readoutFreq)\n",
    "pna.avgCount(avg)\n",
    "pna.numPoints(numPoints)\n",
    "pna.setIF(IFbandwidth)\n",
    "pna.pwrOn()\n",
    "#spec.pwrOff()\n",
    "sim_glb.setVoltage(volt)\n",
    "\n",
    "# data initialization\n",
    "xdata, ydata1, ydata2 = np.array([]), np.array([]),np.array([])\n",
    "\n",
    "# sweeper obj\n",
    "sweeper = myutils.Sweeper1D(start=startPwr, end=endPwr, step=stepPwr, sweepNum=sweepNumber)\n",
    "\n",
    "################ sweep start ################\n",
    "while not sweeper.stop(): \n",
    "    # configure\n",
    "    pna.setPwr(sweeper.curr_val)\n",
    "    pna.avgClear()\n",
    "    \n",
    "    # fetch data from PNA\n",
    "    freq, S21= pna.getData(cplx=True) # S21 in linear scale\n",
    "    \n",
    "    # S21 conversion\n",
    "    S21_real, S21_imag = np.real(S21), np.imag(S21)\n",
    "    S21_mag, S21_phase = np.sqrt(S21_real**2 + S21_imag**2), np.angle(S21, deg=True) # phase in degree\n",
    "    S21_mag_log = 20.0 * np.log10(S21_mag)    # dB\n",
    "    S21_mag_log_avg = np.average(S21_mag_log) \n",
    "    S21_phase_avg = np.average(S21_phase)\n",
    "    \n",
    "    # create spec freq, S21 1D array\n",
    "    xdata = np.append(xdata, sweeper.curr_val)\n",
    "    ydata1 = np.append(ydata1, S21_mag_log_avg)\n",
    "    ydata2 = np.append(ydata2, S21_phase_avg)\n",
    "    \n",
    "    # plot and update\n",
    "    plotobj.update(xdata, ydata1, xdata, ydata2)\n",
    "    \n",
    "    # save data in each iteration\n",
    "    string = '{:.9g}\\t{:.3g}\\t{:.3g} \\n'.format(sweeper.curr_val, S21_mag_log_avg,S21_phase_avg)\n",
    "    f_data.write(string)\n",
    "    \n",
    "    # update sweep\n",
    "    sweeper.update()\n",
    "############## sweep end #########################    \n",
    "\n",
    "# Post measurement    \n",
    "pna.pwrOff()\n",
    "pna.setSweepType(mode='linear')\n",
    "#sim_glb.setVoltage(endV)\n",
    "f_data.close()\n",
    "plotobj.fig.savefig(os.path.join(save_path, baseFileName + '.png'))\n",
    "print('Measurement finished!!!')"
   ]
  },
  {
   "cell_type": "markdown",
   "metadata": {},
   "source": [
    "# Resonator Power scan"
   ]
  },
  {
   "cell_type": "code",
   "execution_count": 86,
   "metadata": {
    "ExecuteTime": {
     "end_time": "2018-05-14T20:40:37.554351Z",
     "start_time": "2018-05-14T20:40:18.387810Z"
    }
   },
   "outputs": [
    {
     "name": "stdout",
     "output_type": "stream",
     "text": [
      "Initialized S21 Measurement 'S21Meas'\n",
      "Measurement finished!!!\n"
     ]
    }
   ],
   "source": [
    "#################################################################################\n",
    "# set up parameters\n",
    "startFreq, endFreq =6.40775e9, 6.40815e9\n",
    "power = -80\n",
    "numPoints, IFbandwidth, avg = 51, 1, 3\n",
    "volt = 0 # -0.65 # -2.05  #2.4\n",
    "\n",
    "sampleID = 'W19B4'\n",
    "suffix = '6Rs'  # suffix to the file name\n",
    "#save_path = r'Z:\\User\\Yebin\\Project\\Resonator Qi test\\Samples\\12062017_W10'\n",
    "save_path = r'Z:\\User\\Yebin\\Project\\Resonator Qi test\\Samples\\05232018-W19-HF after photolithography_ADR1'\n",
    "#################################################################################\n",
    "\n",
    "# dictionary for parameters to be saved in log file.\n",
    "header = 'freq (Hz) mag(dB) phase(degree) real imag'\n",
    "para = dict([('startFreq (Hz)',startFreq),('endFreq (Hz)', endFreq),('power (dBm)',power)\n",
    "             ,('numPoints',numPoints), ('IFbandwidth (Hz)', IFbandwidth),('avg',avg)\n",
    "             ,('volt',volt), ('header', header)])\n",
    "\n",
    "# file setup\n",
    "if fridgeType=='ADR2':\n",
    "    FAA = float(lsci.tempGet('B')) # get temperature\n",
    "else :\n",
    "    FAA = 0 \n",
    "timeStr = time.strftime(\"%H%M%S\")\n",
    "baseStr = sampleID + '_S21vsF_fr{:.9g}_{:.9g}_Pr{}_V{}_T{:.4g}_{}'\n",
    "baseFileName = baseStr.format(startFreq/1e9, endFreq/1e9, power, volt, FAA, timeStr)\n",
    "dataFileName = os.path.join(save_path, baseFileName + '.dat')                                 \n",
    "logFileName =  os.path.join(save_path, baseFileName + '.json')\n",
    "\n",
    "with open(logFileName, 'w') as f:\n",
    "    json.dump(para,f,indent=4, sort_keys=True)\n",
    "\n",
    "# plot setup\n",
    "plotobj= myplots_py3.plot1D(ylabel = 'S21 (dB)', xlabel='Frequency (Hz)', title = baseFileName, plotStyle='b-')\n",
    "\n",
    "# configure instrument\n",
    "pna.setupMeas()\n",
    "pna.setSweepType('linear')\n",
    "pna.setFreqStartEnd(startFreq, endFreq)\n",
    "pna.setPwr(power)\n",
    "pna.avgCount(avg)\n",
    "pna.numPoints(numPoints)\n",
    "pna.setIF(IFbandwidth)\n",
    "pna.pwrOn()\n",
    "\n",
    "#sim_glb.setVoltage(volt)\n",
    "\n",
    "# data initialization\n",
    "#S21_mag_log_2D, S21_phase_2D = np.array([]), np.array([])\n",
    "data = np.array([])\n",
    "\n",
    "# configure\n",
    "pna.avgClear()\n",
    "        \n",
    "# fetch data from PNA\n",
    "freq, S21 = pna.getData(cplx=True) # S21 in linear scale\n",
    " \n",
    "# S21 conversion\n",
    "S21_real, S21_imag = np.real(S21), np.imag(S21)\n",
    "S21_mag, S21_phase = np.sqrt(S21_real**2 + S21_imag**2), np.angle(S21, deg=True) # phase in degree\n",
    "S21_mag_log = 20.0 * np.log10(S21_mag)    # dB\n",
    "\n",
    "# make 2D array with freq, dB, phase\n",
    "data = freq\n",
    "data.shape = (freq.size, 1)\n",
    "data = np.column_stack((data, S21_mag_log))\n",
    "data = np.column_stack((data, S21_phase))\n",
    "data = np.column_stack((data, S21_real))\n",
    "data = np.column_stack((data, S21_imag))\n",
    "     \n",
    "# plot update\n",
    "plotobj.update(freq/1e9, S21_mag_log)\n",
    "\n",
    "# save files\n",
    "f = open(dataFileName, 'wb') \n",
    "np.savetxt(f, data, fmt='%.9g', delimiter='\\t') \n",
    "\n",
    "# Post measurement   \n",
    "\n",
    "pna.pwrOff()\n",
    "f.close()\n",
    "plotobj.fig.savefig(os.path.join(save_path, baseFileName + '.png'))\n",
    "print('Measurement finished!!!')"
   ]
  },
  {
   "cell_type": "code",
   "execution_count": 87,
   "metadata": {
    "ExecuteTime": {
     "end_time": "2018-05-15T19:23:54.848683Z",
     "start_time": "2018-05-15T19:23:54.680564Z"
    },
    "collapsed": true
   },
   "outputs": [],
   "source": [
    "def cav1d(startFreq, endFreq,power,numPoints, IFbandwidth, avg,width,suffix = 'R5',sampleID ='W5', \\\n",
    "          save_path=r'Z:\\User\\Yebin\\Project\\Resonator Qi test\\Samples\\02192018_W5Res_HFinCNF_Post descum\\data\\R5'):\n",
    "    #################################################################################\n",
    "    # set up parameters   \n",
    "    volt = 0 # -0.65 # -2.05  #2.4\n",
    "    #suffix = 'Q4'  # suffix to the file name\n",
    "    #################################################################################\n",
    "\n",
    "    # dictionary for parameters to be saved in log file.\n",
    "    header = 'freq (Hz) mag(dB) phase(degree) real imag'\n",
    "    para = dict([('power (dBm)',power),('startFreq (Hz)',startFreq),('endFreq (Hz)', endFreq)\n",
    "                 ,('numPoints',numPoints), ('IFbandwidth (Hz)', IFbandwidth),('avg',avg)\n",
    "                 ,('volt',volt), ('header', header)])\n",
    "\n",
    "    # file setup\n",
    "    if fridgeType=='ADR2':\n",
    "        FAA = float(lsci.tempGet('B')) # get temperature\n",
    "    else :\n",
    "        FAA = 0.0 \n",
    "    timeStr = time.strftime(\"%H%M%S\")\n",
    "    baseStr = sampleID + '_S21vsF_Pr{}_fr{:.9g}_{:.9g}_V{}_T{:.4g}_{}_{}_{}'\n",
    "    baseFileName = baseStr.format(power,startFreq/1e9, endFreq/1e9, volt, FAA,width,suffix, timeStr)\n",
    "    dataFileName = os.path.join(save_path, baseFileName + '.dat')                                 \n",
    "    logFileName =  os.path.join(save_path, baseFileName + '.json')\n",
    "\n",
    "    with open(logFileName, 'w') as f:\n",
    "        json.dump(para,f,indent=4, sort_keys=True)\n",
    "\n",
    "    # plot setup\n",
    "    plotobj= myplots_py3.plot1D(ylabel = 'S21 (dB)', xlabel='Frequency (Hz)', title = baseFileName, plotStyle='b-')\n",
    "\n",
    "    # configure instrument\n",
    "    pna.setupMeas()\n",
    "    pna.setSweepType('linear')\n",
    "    pna.setFreqStartEnd(startFreq, endFreq)\n",
    "    pna.setPwr(power)\n",
    "    pna.avgCount(avg)\n",
    "    pna.numPoints(numPoints)\n",
    "    pna.setIF(IFbandwidth)\n",
    "    pna.pwrOn()\n",
    "\n",
    "    #sim_glb.setVoltage(volt)\n",
    "\n",
    "    # data initialization\n",
    "    #S21_mag_log_2D, S21_phase_2D = np.array([]), np.array([])\n",
    "    data = np.array([])\n",
    "\n",
    "    # configure\n",
    "    pna.avgClear()\n",
    "\n",
    "    # fetch data from PNA\n",
    "    freq, S21 = pna.getData(cplx=True) # S21 in linear scale\n",
    "\n",
    "    # S21 conversion\n",
    "    S21_real, S21_imag = np.real(S21), np.imag(S21)\n",
    "    S21_mag, S21_phase = np.sqrt(S21_real**2 + S21_imag**2), np.angle(S21, deg=True) # phase in degree\n",
    "    S21_mag_log = 20.0 * np.log10(S21_mag)    # dB\n",
    "\n",
    "    # make 2D array with freq, dB, phase\n",
    "    data = freq\n",
    "    data.shape = (freq.size, 1)\n",
    "    data = np.column_stack((data, S21_mag_log))\n",
    "    data = np.column_stack((data, S21_phase))\n",
    "    data = np.column_stack((data, S21_real))\n",
    "    data = np.column_stack((data, S21_imag))\n",
    "\n",
    "    # plot update\n",
    "    plotobj.update(freq/1e9, S21_mag_log)\n",
    "\n",
    "    # save files\n",
    "    f = open(dataFileName, 'wb') \n",
    "    np.savetxt(f, data, fmt='%.9g', delimiter='\\t') \n",
    "\n",
    "    # Post measurement    \n",
    "    pna.pwrOff()\n",
    "    f.close()\n",
    "    plotobj.fig.savefig(os.path.join(save_path, baseFileName + '.png'))\n",
    "    print('Measurement finished!!!')\n",
    "    return data"
   ]
  },
  {
   "cell_type": "code",
   "execution_count": 88,
   "metadata": {
    "ExecuteTime": {
     "end_time": "2018-05-15T19:23:55.791973Z",
     "start_time": "2018-05-15T19:23:55.726929Z"
    },
    "collapsed": true
   },
   "outputs": [],
   "source": [
    "def Get_S21(freqStart, freqEnd,power,numPoints, IFbandwidth, avg,wideSpan,suffix = 'Q4',sampleID ='W14', \\\n",
    "          save_path=r'Z:\\User\\Yebin\\Project\\Resonator Qi test\\Samples'):\n",
    "    #get data 1 WS scan\n",
    "    freqCenter = (freqStart + freqEnd)/2\n",
    "    freqStartW = freqCenter - wideSpan/2\n",
    "    freqEndW = freqCenter + wideSpan/2 \n",
    "    dataS = cav1d(freqStart, freqEnd,power,numPoints,IFbandwidth, avg,'SS',suffix,sampleID,save_path) \n",
    "    dataW = cav1d(freqStartW, freqEndW,power,numPoints,IFbandwidth, avg,'WS',suffix,sampleID,save_path) \n",
    "    \n",
    "    volt = 0\n",
    "    \n",
    "    # fit baseline\n",
    "    p = len(dataW[:,0])\n",
    "    w = int(p/5)\n",
    "    freqW,freqW1,freqW2 = [],dataW[0:w,0] , dataW[(p-w):p,0]\n",
    "    freqW.extend(freqW1)\n",
    "    freqW.extend(freqW2)\n",
    "    magdataW,magdataW1,magdataW2 =  [],dataW[0:w,1], dataW[(p-w):p,1]\n",
    "    magdataW.extend(magdataW1)\n",
    "    magdataW.extend(magdataW2)\n",
    "    phasedataW,phasedataW1,phasedataW2 =  [],dataW[0:w,2] , dataW[(p-w):p,2]\n",
    "    phasedataW.extend(phasedataW1)\n",
    "    phasedataW.extend(phasedataW2)\n",
    "    magBasePara = np.polyfit(freqW,magdataW,2)\n",
    "    phaseBasePara = np.polyfit(freqW,phasedataW,1)\n",
    "    magBaseFit = np.polyval(magBasePara,dataS[:,0])\n",
    "    phaseBaseFit = np.polyval(phaseBasePara,dataS[:,0])\n",
    "    # base line subtraction\n",
    "    magSub = dataS[:,1] - magBaseFit\n",
    "    phaseSub = dataS[:,2] - phaseBaseFit\n",
    "    dataS[:,1] = magSub\n",
    "    dataS[:,2] = phaseSub\n",
    "    # dictionary for parameters to be saved in log file.\n",
    "    header = 'freq (Hz) mag(dB) phase(degree) real imag'\n",
    "    para = dict([('power (dBm)',power),('startFreq (Hz)',startFreq),('endFreq (Hz)', endFreq)\n",
    "                 ,('numPoints',numPoints), ('IFbandwidth (Hz)', IFbandwidth),('avg',avg)\n",
    "                 ,('volt',volt), ('header', header)])\n",
    "    # file setup\n",
    "    if fridgeType=='ADR2':\n",
    "        FAA = float(lsci.tempGet('B')) # get temperature\n",
    "    else :\n",
    "        FAA = 0 \n",
    "    timeStr = time.strftime(\"%H%M%S\")\n",
    "    baseStr = sampleID + '_S21vsF_Sub_Pr{}_fr{:.9g}_{:.9g}_V{}_T{:.4g}_{}_{}'\n",
    "    baseFileName = baseStr.format(power,startFreq/1e9, endFreq/1e9, volt, FAA,suffix, timeStr)\n",
    "    dataFileName = os.path.join(save_path, baseFileName + '.dat')                                 \n",
    "    logFileName =  os.path.join(save_path, baseFileName + '.json')\n",
    "    with open(logFileName, 'w') as f:\n",
    "        json.dump(para,f,indent=4, sort_keys=True)\n",
    "    # save files\n",
    "    f = open(dataFileName, 'wb') \n",
    "    np.savetxt(f, data, fmt='%.9g', delimiter='\\t') \n",
    "    f.close()"
   ]
  },
  {
   "cell_type": "code",
   "execution_count": 89,
   "metadata": {
    "ExecuteTime": {
     "end_time": "2018-05-15T04:59:34.599071Z",
     "start_time": "2018-05-14T20:43:38.809316Z"
    }
   },
   "outputs": [
    {
     "name": "stdout",
     "output_type": "stream",
     "text": [
      "Initialized S21 Measurement 'S21Meas'\n",
      "Measurement finished!!!\n",
      "Initialized S21 Measurement 'S21Meas'\n",
      "Measurement finished!!!\n",
      "Initialized S21 Measurement 'S21Meas'\n",
      "Measurement finished!!!\n",
      "Initialized S21 Measurement 'S21Meas'\n",
      "Measurement finished!!!\n",
      "Initialized S21 Measurement 'S21Meas'\n",
      "Measurement finished!!!\n",
      "Initialized S21 Measurement 'S21Meas'\n",
      "Measurement finished!!!\n",
      "Initialized S21 Measurement 'S21Meas'\n",
      "Measurement finished!!!\n",
      "Initialized S21 Measurement 'S21Meas'\n",
      "Measurement finished!!!\n",
      "Initialized S21 Measurement 'S21Meas'\n",
      "Measurement finished!!!\n",
      "Initialized S21 Measurement 'S21Meas'\n",
      "Measurement finished!!!\n",
      "Initialized S21 Measurement 'S21Meas'\n",
      "Measurement finished!!!\n",
      "Initialized S21 Measurement 'S21Meas'\n"
     ]
    },
    {
     "name": "stderr",
     "output_type": "stream",
     "text": [
      "C:\\Program Files\\Anaconda3\\lib\\site-packages\\matplotlib\\pyplot.py:516: RuntimeWarning: More than 20 figures have been opened. Figures created through the pyplot interface (`matplotlib.pyplot.figure`) are retained until explicitly closed and may consume too much memory. (To control this warning, see the rcParam `figure.max_open_warning`).\n",
      "  max_open_warning, RuntimeWarning)\n"
     ]
    },
    {
     "name": "stdout",
     "output_type": "stream",
     "text": [
      "Measurement finished!!!\n",
      "Initialized S21 Measurement 'S21Meas'\n",
      "Measurement finished!!!\n",
      "Initialized S21 Measurement 'S21Meas'\n",
      "Measurement finished!!!\n",
      "Initialized S21 Measurement 'S21Meas'\n",
      "Measurement finished!!!\n",
      "Initialized S21 Measurement 'S21Meas'\n",
      "Measurement finished!!!\n",
      "Initialized S21 Measurement 'S21Meas'\n",
      "Measurement finished!!!\n",
      "Initialized S21 Measurement 'S21Meas'\n",
      "Measurement finished!!!\n",
      "Initialized S21 Measurement 'S21Meas'\n",
      "Measurement finished!!!\n",
      "Initialized S21 Measurement 'S21Meas'\n",
      "Measurement finished!!!\n",
      "Initialized S21 Measurement 'S21Meas'\n",
      "Measurement finished!!!\n",
      "Initialized S21 Measurement 'S21Meas'\n",
      "Measurement finished!!!\n",
      "Initialized S21 Measurement 'S21Meas'\n",
      "Measurement finished!!!\n",
      "Initialized S21 Measurement 'S21Meas'\n",
      "Measurement finished!!!\n",
      "Initialized S21 Measurement 'S21Meas'\n",
      "Measurement finished!!!\n",
      "Initialized S21 Measurement 'S21Meas'\n",
      "Measurement finished!!!\n",
      "Initialized S21 Measurement 'S21Meas'\n",
      "Measurement finished!!!\n",
      "Initialized S21 Measurement 'S21Meas'\n",
      "Measurement finished!!!\n",
      "Initialized S21 Measurement 'S21Meas'\n",
      "Measurement finished!!!\n",
      "Initialized S21 Measurement 'S21Meas'\n",
      "Measurement finished!!!\n",
      "Initialized S21 Measurement 'S21Meas'\n",
      "Measurement finished!!!\n",
      "Initialized S21 Measurement 'S21Meas'\n",
      "Measurement finished!!!\n",
      "Initialized S21 Measurement 'S21Meas'\n",
      "Measurement finished!!!\n",
      "Initialized S21 Measurement 'S21Meas'\n",
      "Measurement finished!!!\n",
      "Initialized S21 Measurement 'S21Meas'\n",
      "Measurement finished!!!\n",
      "Initialized S21 Measurement 'S21Meas'\n",
      "Measurement finished!!!\n",
      "Initialized S21 Measurement 'S21Meas'\n",
      "Measurement finished!!!\n",
      "Initialized S21 Measurement 'S21Meas'\n",
      "Measurement finished!!!\n",
      "Initialized S21 Measurement 'S21Meas'\n",
      "Measurement finished!!!\n",
      "Initialized S21 Measurement 'S21Meas'\n",
      "Measurement finished!!!\n",
      "Initialized S21 Measurement 'S21Meas'\n",
      "Measurement finished!!!\n",
      "Initialized S21 Measurement 'S21Meas'\n",
      "Measurement finished!!!\n"
     ]
    }
   ],
   "source": [
    "startFreq, endFreq =6.40775e9, 6.40815e9\n",
    "wideSpan = 10e6\n",
    "suffix = 'R5_RTAtt10'\n",
    "sampleID = 'W19B4'\n",
    "save_path =  r'Z:\\User\\Yebin\\Project\\Resonator Qi test\\Samples\\05232018-W19-HF after photolithography_ADR1\\R5'\n",
    "'''\n",
    "power = [10,\n",
    "         5,0,-5,-10,-15,-20,-25,-30,-35,\n",
    "         -40,-45,-50,-55,-60,-65,-70,-75,-80,-85,-90]\n",
    "IFbandwidth = [10,\n",
    "               10,10,10,10,10,10,10,10,10,\n",
    "               1,1,1,1,1,1,1,1,1,1,1]\n",
    "avg = [4,\n",
    "       4,4,4,8,8,8,10,10,10,\n",
    "       10,15,20,30,40,80,80,160,160,250,320]\n",
    "numPoints = [501,\n",
    "             501,501,501,301,301,301,201,201,201,101,\n",
    "            101,101,101,101,101,101,101,101,101,101]\n",
    "'''\n",
    "#####\n",
    "power = [10,\n",
    "         5,0,-5,-10,-15,-20,-25,-30,-35,\n",
    "         -40,-45,-50,-55,-60,-65,-70,-75,-80,-85,-90]\n",
    "IFbandwidth = [1000,\n",
    "               1000,1000,1000,1000,1000,1000,1000,1000,1000,\n",
    "               100,100,10,10,10,10,10,10,10,10,10]\n",
    "avg = [4,\n",
    "       4,4,4,8,8,8,10,10,10,\n",
    "       10,15,20,20,50,60,80,100,100,200,200]\n",
    "numPoints = [501,\n",
    "             501,501,501,301,301,301,201,201,201,201,\n",
    "            201,201,201,201,201,201,201,201,201,201]\n",
    "##########################\n",
    "# power = [0,-2,-4,-6,-8,-10,-12,-14,-16,-18]\n",
    "# IFbandwidth = [5000,5000,5000,5000,5000,5000,5000,5000,5000,5000]\n",
    "# avg = [20,20,20,20,20,20,20,20,20,20]\n",
    "# numPoints = [201,201,201,201,201,201,201,201,201,201]\n",
    "for i in range(len(power)):\n",
    "    #Get_S21(startFreq, endFreq,power[i],numPoints[i], IFbandwidth[i], avg[i],wideSpan,suffix ,sampleID, save_path)\n",
    "    Get_S21(startFreq, endFreq,power[i],numPoints[i], IFbandwidth[i], avg[i],wideSpan,suffix ,sampleID, save_path)"
   ]
  },
  {
   "cell_type": "code",
   "execution_count": 45,
   "metadata": {
    "ExecuteTime": {
     "end_time": "2018-05-15T22:15:42.030695Z",
     "start_time": "2018-05-15T20:15:06.288003Z"
    }
   },
   "outputs": [
    {
     "name": "stdout",
     "output_type": "stream",
     "text": [
      "Initialized S21 Measurement 'S21Meas'\n",
      "Measurement finished!!!\n",
      "Initialized S21 Measurement 'S21Meas'\n",
      "Measurement finished!!!\n",
      "Initialized S21 Measurement 'S21Meas'\n",
      "Measurement finished!!!\n",
      "Initialized S21 Measurement 'S21Meas'\n",
      "Measurement finished!!!\n"
     ]
    }
   ],
   "source": [
    "startFreq =6.21875e9\n",
    "endFreq= 6.21905e9\n",
    "wideSpan = 10e6\n",
    "suffix = 'R4_RTAtt30'\n",
    "sampleID = 'W17B5'\n",
    "save_path =  r'Z:\\User\\Yebin\\Project\\Resonator Qi test\\Samples\\05142018-W17B5_Furnace_post descum\\R4'\n",
    "'''\n",
    "power = [10,\n",
    "         5,0,-5,-10,-15,-20,-25,-30,-35,\n",
    "         -40,-45,-50,-55,-60,-65,-70,-75,-80,-85,-90]\n",
    "IFbandwidth = [10,\n",
    "               10,10,10,10,10,10,10,10,10,\n",
    "               1,1,1,1,1,1,1,1,1,1,1]\n",
    "avg = [4,\n",
    "       4,4,4,8,8,8,10,10,10,\n",
    "       10,15,20,30,40,80,80,160,160,250,320]\n",
    "numPoints = [501,\n",
    "             501,501,501,301,301,301,201,201,201,101,\n",
    "            101,101,101,101,101,101,101,101,101,101]\n",
    "'''\n",
    "#####\n",
    "power = [-85,-90]\n",
    "IFbandwidth = [1,1]\n",
    "avg = [40,40]\n",
    "numPoints = [51,51]\n",
    "##########################\n",
    "# power = [0,-2,-4,-6,-8,-10,-12,-14,-16,-18]\n",
    "# IFbandwidth = [5000,5000,5000,5000,5000,5000,5000,5000,5000,5000]\n",
    "# avg = [20,20,20,20,20,20,20,20,20,20]\n",
    "# numPoints = [201,201,201,201,201,201,201,201,201,201]\n",
    "for i in range(len(power)):\n",
    "    #Get_S21(startFreq, endFreq,power[i],numPoints[i], IFbandwidth[i], avg[i],wideSpan,suffix ,sampleID, save_path)\n",
    "    Get_S21(startFreq, endFreq,power[i],numPoints[i], IFbandwidth[i], avg[i],wideSpan,suffix ,sampleID, save_path)"
   ]
  },
  {
   "cell_type": "markdown",
   "metadata": {
    "collapsed": true
   },
   "source": [
    "# Playground. Try things out below."
   ]
  },
  {
   "cell_type": "code",
   "execution_count": null,
   "metadata": {
    "ExecuteTime": {
     "end_time": "2018-04-26T15:55:31.345841Z",
     "start_time": "2018-04-26T15:55:25.362630Z"
    },
    "collapsed": true
   },
   "outputs": [],
   "source": [
    "#################################################################################\n",
    "# set up parameters\n",
    "startFreq, endFreq =6.0382e9, 6.039e9\n",
    "power = -40 \n",
    "numPoints, IFbandwidth, avg = 501, 1000, 10\n",
    "volt = 0 # -0.65 # -2.05  #2.4\n",
    "\n",
    "sampleID = 'FlipchipAB14'\n",
    "suffix = 'cav2'  # suffix to the file name\n",
    "savepath = r'Z:\\User\\Andrew\\Flip-Chip_measurements\\AB14\\cavity_fit_Qc'\n",
    "#################################################################################\n",
    "\n",
    "# dictionary for parameters to be saved in log file.\n",
    "header = 'freq (Hz) mag(dB) phase(degree) real imag'\n",
    "para = dict([('startFreq (Hz)',startFreq),('endFreq (Hz)', endFreq),('power (dBm)',power)\n",
    "             ,('numPoints',numPoints), ('IFbandwidth (Hz)', IFbandwidth),('avg',avg)\n",
    "             ,('volt',volt), ('header', header)])\n",
    "\n",
    " #file setup\n",
    "if fridgeType=='ADR2':\n",
    "    FAA = float(lsci.tempGet('B')) # get temperature\n",
    "else :\n",
    "    FAA = 0 \n",
    "timeStr = time.strftime(\"%H%M%S\")\n",
    "baseStr = sampleID + '_S21vsF_fr{:.9g}_{:.9g}_Pr{}_V{}_T{:.4g}_{}'\n",
    "baseFileName = baseStr.format(startFreq/1e9, endFreq/1e9, power, volt, FAA, timeStr)\n",
    "dataFileName = os.path.join(save_path, baseFileName + '.dat')                                 \n",
    "logFileName =  os.path.join(save_path, baseFileName + '.json')\n",
    "\n",
    "with open(logFileName, 'w') as f:\n",
    "    json.dump(para,f,indent=4, sort_keys=True)\n",
    "\n",
    "# plot setup\n",
    "plotobj= myplots_py3.plot1D(ylabel = 'S21 (dB)', xlabel='Frequency (Hz)', title = baseFileName, plotStyle='b-')\n",
    "\n",
    "# configure instrument\n",
    "pna.setupMeas()\n",
    "pna.setSweepType('linear')\n",
    "pna.setFreqStartEnd(startFreq, endFreq)\n",
    "pna.setPwr(power)\n",
    "pna.avgCount(avg)\n",
    "pna.numPoints(numPoints)\n",
    "pna.setIF(IFbandwidth)\n",
    "pna.pwrOn()\n",
    "\n",
    "sim_glb.setVoltage(volt)\n",
    "\n",
    "# data initialization\n",
    "#S21_mag_log_2D, S21_phase_2D = np.array([]), np.array([])\n",
    "data = np.array([])\n",
    "\n",
    "# configure\n",
    "pna.avgClear()\n",
    "        \n",
    "# fetch data from PNA\n",
    "freq, S21 = pna.getData(cplx=True) # S21 in linear scale\n",
    " \n",
    "# S21 conversion\n",
    "S21_real, S21_imag = np.real(S21), np.imag(S21)\n",
    "S21_mag, S21_phase = np.sqrt(S21_real**2 + S21_imag**2), np.angle(S21, deg=True) # phase in degree\n",
    "S21_mag_log = 20.0 * np.log10(S21_mag)    # dB\n",
    "\n",
    "# make 2D array with freq, dB, phase\n",
    "data = freq\n",
    "data.shape = (freq.size, 1)\n",
    "data = np.column_stack((data, S21_mag_log))\n",
    "data = np.column_stack((data, S21_phase))\n",
    "data = np.column_stack((data, S21_real))\n",
    "data = np.column_stack((data, S21_imag))\n",
    "     \n",
    "# plot update\n",
    "plotobj.update(freq/1e9, S21_mag_log)\n",
    "\n",
    "# save files\n",
    "f = open(dataFileName, 'wb') \n",
    "#np.savetxt(f, data, fmt='%.9g', delimiter='\\t') \n",
    "np.savetxt(savepath+'Induc_cav_300um'+'.txt',list(zip(freq,S21_mag_log,S21_phase)),delimiter = '\\t',newline = '\\r\\n',fmt='%.10e')\n",
    "\n",
    "# Post measurement    \n",
    "pna.pwrOff()\n",
    "f.close()\n",
    "plotobj.fig.savefig(os.path.join(save_path, baseFileName + '.png'))\n",
    "print('Measurement finished!!!')\n",
    "\n",
    "\n"
   ]
  },
  {
   "cell_type": "code",
   "execution_count": 9,
   "metadata": {
    "ExecuteTime": {
     "end_time": "2018-07-13T23:14:17.328253Z",
     "start_time": "2018-07-13T23:14:16.469756Z"
    }
   },
   "outputs": [
    {
     "name": "stdout",
     "output_type": "stream",
     "text": [
      "Initialized S21 Measurement 'S21Meas'\n"
     ]
    }
   ],
   "source": [
    "pna.setupMeas()\n",
    "freq, S21 = pna.getData(cplx=True)\n",
    "S21_real, S21_imag = np.real(S21), np.imag(S21)\n",
    "S21_mag, S21_phase = np.sqrt(S21_real**2 + S21_imag**2), np.angle(S21, deg=True) # phase in degree\n",
    "S21_mag_log = 20.0 * np.log10(S21_mag)\n",
    "np.savetxt(r'C:\\Users\\Lab User\\Desktop\\Crap, please organize\\Plaquette\\RF_SQUID\\0713\\ResALP50.txt',list(zip(freq,S21_mag_log,S21_phase)),delimiter='\\t',newline='\\r\\n',fmt='%.10e')"
   ]
  },
  {
   "cell_type": "code",
   "execution_count": 6,
   "metadata": {
    "ExecuteTime": {
     "end_time": "2018-06-16T12:10:47.209373Z",
     "start_time": "2018-06-16T04:31:45.090564Z"
    }
   },
   "outputs": [
    {
     "name": "stdout",
     "output_type": "stream",
     "text": [
      "Initialized S21 Measurement 'S21Meas'\n"
     ]
    },
    {
     "name": "stderr",
     "output_type": "stream",
     "text": [
      "C:\\Anaconda3\\lib\\site-packages\\ipykernel_launcher.py:23: DeprecationWarning: object of type <class 'float'> cannot be safely interpreted as an integer.\n",
      "C:\\Anaconda3\\lib\\site-packages\\ipykernel_launcher.py:28: DeprecationWarning: object of type <class 'float'> cannot be safely interpreted as an integer.\n",
      "C:\\Anaconda3\\lib\\site-packages\\matplotlib\\axes\\_base.py:2917: UserWarning: Attempting to set identical left==right results\n",
      "in singular transformations; automatically expanding.\n",
      "left=-0.03508771929824561, right=-0.0350877192982\n",
      "  'left=%s, right=%s') % (left, right))\n"
     ]
    }
   ],
   "source": [
    "startFreq, endFreq = 9.112e9, 9.121e9\n",
    "numPoints, avg = 1600, 20\n",
    "power = -60\n",
    "startVoltP, endVoltP, stepVoltP = -20, 20, .2  #570k\n",
    "startVoltS, endVoltS, stepVoltS = -12, 12, .3\n",
    "\n",
    "savepath = 'Z:\\\\Experiments\\\\Dirty Aluminum\\\\RF_SQUID\\\\scan27\\\\'\n",
    "\n",
    "# configure instrument\n",
    "pna.setupMeas()\n",
    "pna.setSweepType('linear')\n",
    "pna.setFreqStartEnd(startFreq, endFreq)\n",
    "pna.setPwr(power)\n",
    "pna.avgCount(avg)\n",
    "pna.numPoints(numPoints)\n",
    "pna.pwrOn()\n",
    "\n",
    "f02D = np.array([])\n",
    "S2D = np.array([])\n",
    "\n",
    "plotobj= myplots_py3.plot2D(xlabel = 'Bobbin Current (mA)', ylabel='Plaquette Current (mA)')\n",
    "\n",
    "for vp in np.linspace(startVoltP,endVoltP,(endVoltP-startVoltP)/stepVoltP+1):\n",
    "    f01D = np.array([])\n",
    "    S1D = np.array([])\n",
    "    sim_p.setVoltage(vp)\n",
    "    \n",
    "    for vs in np.linspace(startVoltS,endVoltS,(endVoltS-startVoltS)/stepVoltS+1):\n",
    "        sim_s.setVoltage(vs)\n",
    "        time.sleep(0.2)\n",
    "        pna.avgClear()\n",
    "        \n",
    "        freq, S21 = pna.getData(cplx=True)\n",
    "        S21_real, S21_imag = np.real(S21), np.imag(S21)\n",
    "        S21_mag, S21_phase = np.sqrt(S21_real**2 + S21_imag**2), np.angle(S21, deg=True) # phase in degree\n",
    "        S21_mag_log = 20.0 * np.log10(S21_mag)\n",
    "        np.savetxt(savepath+'P'+str(vp)+'VS'+str(vs)+'V.txt',list(zip(freq,S21_mag_log,S21_phase)),delimiter='\\t',newline='\\r\\n',fmt='%.10e')\n",
    "        f0 = freq[list(S21_mag_log).index(min(S21_mag_log))]/1e9\n",
    "        Smin = min(S21_mag_log)\n",
    "        if min(S21_mag_log) > -4:\n",
    "            f0 = 9.11\n",
    "        #f01D.append(f0)\n",
    "        f01D = np.append(f01D,f0)\n",
    "        S1D = np.append(S1D,Smin)\n",
    "    \n",
    "    if f02D.size == 0: # when S21_mag_2D is empty\n",
    "        f02D = f01D\n",
    "        f02D.shape = (f02D.size, 1)\n",
    "        S2D = S1D\n",
    "        S2D.shape = (S2D.size, 1)\n",
    "    else:\n",
    "        f02D = np.column_stack((f02D, f01D))\n",
    "        S2D = np.column_stack((S2D, S1D))\n",
    "    extent = [startVoltP/570, vp/570, startVoltS/2, endVoltS/2]\n",
    "    plotobj.update(f02D, extent)\n",
    "pna.pwrOff()\n",
    "sim_p.setVoltage(0)\n",
    "sim_s.setVoltage(0)\n",
    "\n",
    "np.savetxt(savepath + 'Res91Pn8p8Sn5p5.csv',list(f02D),delimiter=',',newline='\\r\\n',fmt='%.10e')\n",
    "\n",
    "np.savetxt(savepath + 'Res91S21Pn8p8Sn5p5.csv',list(S2D),delimiter=',',newline='\\r\\n',fmt='%.10e')\n"
   ]
  },
  {
   "cell_type": "code",
   "execution_count": 5,
   "metadata": {
    "ExecuteTime": {
     "end_time": "2018-06-15T22:34:50.874015Z",
     "start_time": "2018-06-15T22:34:50.863020Z"
    },
    "collapsed": true
   },
   "outputs": [],
   "source": [
    "sim_p.setVoltage(0)\n",
    "sim_s.setVoltage(0)"
   ]
  },
  {
   "cell_type": "code",
   "execution_count": 131,
   "metadata": {
    "ExecuteTime": {
     "end_time": "2018-06-15T19:03:51.795380Z",
     "start_time": "2018-06-15T19:03:51.787389Z"
    }
   },
   "outputs": [
    {
     "data": {
      "text/plain": [
       "-3.45e-06"
      ]
     },
     "execution_count": 131,
     "metadata": {},
     "output_type": "execute_result"
    }
   ],
   "source": [
    "(0.6e-6-7.5e-6)/2"
   ]
  },
  {
   "cell_type": "code",
   "execution_count": 133,
   "metadata": {
    "ExecuteTime": {
     "end_time": "2018-06-15T19:35:31.497658Z",
     "start_time": "2018-06-15T19:21:01.983415Z"
    },
    "code_folding": []
   },
   "outputs": [
    {
     "name": "stdout",
     "output_type": "stream",
     "text": [
      "Initialized S21 Measurement 'S21Meas'\n"
     ]
    },
    {
     "name": "stderr",
     "output_type": "stream",
     "text": [
      "C:\\Anaconda3\\lib\\site-packages\\matplotlib\\pyplot.py:524: RuntimeWarning: More than 20 figures have been opened. Figures created through the pyplot interface (`matplotlib.pyplot.figure`) are retained until explicitly closed and may consume too much memory. (To control this warning, see the rcParam `figure.max_open_warning`).\n",
      "  max_open_warning, RuntimeWarning)\n",
      "C:\\Anaconda3\\lib\\site-packages\\matplotlib\\axes\\_base.py:2917: UserWarning: Attempting to set identical left==right results\n",
      "in singular transformations; automatically expanding.\n",
      "left=1, right=1\n",
      "  'left=%s, right=%s') % (left, right))\n"
     ]
    }
   ],
   "source": [
    "startFreq, endFreq = 9.114e9, 9.118e9   #9.112e9, 9.121e9\n",
    "numPoints, avg = 1600, 50\n",
    "power = -60\n",
    "startIP, endIP, RP = -7.5e-6, -3e-6,1e6\n",
    "startIS, endIS, RS = 6e-3, 0,2e3\n",
    "N = 200\n",
    "\n",
    "savepath = 'Z:\\\\Experiments\\\\Dirty Aluminum\\\\RF_SQUID\\\\scan26\\\\'\n",
    "\n",
    "startVP = startIP*RP\n",
    "endVP = endIP*RP\n",
    "startVS = startIS*RS\n",
    "endVS = endIS*RS\n",
    "\n",
    "VPlist = list(np.linspace(startVP,endVP,N))\n",
    "VSlist = list(np.linspace(startVS,endVS,N))\n",
    "\n",
    "\n",
    "# configure instrument\n",
    "pna.setupMeas()\n",
    "pna.setSweepType('linear')\n",
    "pna.setFreqStartEnd(startFreq, endFreq)\n",
    "pna.setPwr(power)\n",
    "pna.avgCount(avg)\n",
    "pna.numPoints(numPoints)\n",
    "pna.pwrOn()\n",
    "\n",
    "f02D = np.array([])\n",
    "f01D = np.array([])\n",
    "#S1D = np.array([])\n",
    "\n",
    "\n",
    "plotobj= myplots_py3.plot2D(xlabel = 'Index', ylabel='Frequency (GHz)')\n",
    "i=1\n",
    "for (vp,vs) in zip(VPlist,VSlist):\n",
    "    sim_p.setVoltage(vp)\n",
    "    sim_s.setVoltage(vs)\n",
    "    time.sleep(0.2)\n",
    "    pna.avgClear()\n",
    "        \n",
    "    freq, S21 = pna.getData(cplx=True)\n",
    "    S21_real, S21_imag = np.real(S21), np.imag(S21)\n",
    "    S21_mag, S21_phase = np.sqrt(S21_real**2 + S21_imag**2), np.angle(S21, deg=True) # phase in degree\n",
    "    S21_mag_log = 20.0 * np.log10(S21_mag)\n",
    "    np.savetxt(savepath+'P'+str(vp)+'VS'+str(vs)+'V.txt',list(zip(freq,S21_mag_log,S21_phase)),delimiter='\\t',newline='\\r\\n',fmt='%.10e')\n",
    "    f0 = freq[list(S21_mag_log).index(min(S21_mag_log))]/1e9\n",
    "    Smin = min(S21_mag_log)\n",
    "    if min(S21_mag_log) > -4:\n",
    "        f0 = 9.11\n",
    "    f01D = np.append(f01D,f0)\n",
    "    #S1D = np.append(S1D,Smin)\n",
    "    \n",
    "    if f02D.size == 0: # when S21_mag_2D is empty\n",
    "        f02D = S21_mag_log\n",
    "        f02D.shape = (f02D.size, 1)\n",
    "    else:\n",
    "        f02D = np.column_stack((f02D, S21_mag_log))\n",
    "    extent = [1, i, startFreq, endFreq]\n",
    "    i=i+1\n",
    "    plotobj.update(f02D, extent)\n",
    "pna.pwrOff()\n",
    "sim_p.setVoltage(0)\n",
    "sim_s.setVoltage(0)\n",
    "\n",
    "#np.savetxt(savepath + 'Res91Pn8p8Sn5p5.csv',list(f02D),delimiter=',',newline='\\r\\n',fmt='%.10e')\n",
    "\n",
    "#np.savetxt(savepath + 'Res91S21Pn8p8Sn5p5.csv',list(S2D),delimiter=',',newline='\\r\\n',fmt='%.10e')\n",
    "\n",
    "plotobj2= myplots_py3.plot1D(ylabel = 'f0 (GHz)', xlabel='Index', title = baseFileName, plotStyle='b-')\n",
    "plotobj2.update(list(np.linspace(1,N,N)), f01D)\n"
   ]
  },
  {
   "cell_type": "code",
   "execution_count": 58,
   "metadata": {
    "ExecuteTime": {
     "end_time": "2018-06-02T23:33:53.941008Z",
     "start_time": "2018-06-02T23:33:53.936012Z"
    },
    "collapsed": true
   },
   "outputs": [],
   "source": [
    "fileID = open('C:\\\\Users\\\\Lab User\\\\Desktop\\\\Plaquette\\\\RF_SQUID\\\\0602\\\\scan3\\\\Res91Pn10p10Sn8p8.csv','w')"
   ]
  },
  {
   "cell_type": "code",
   "execution_count": 1,
   "metadata": {
    "ExecuteTime": {
     "end_time": "2018-06-15T22:18:24.966429Z",
     "start_time": "2018-06-15T22:18:24.874481Z"
    }
   },
   "outputs": [
    {
     "ename": "NameError",
     "evalue": "name 'f01D' is not defined",
     "output_type": "error",
     "traceback": [
      "\u001b[1;31m---------------------------------------------------------------------------\u001b[0m",
      "\u001b[1;31mNameError\u001b[0m                                 Traceback (most recent call last)",
      "\u001b[1;32m<ipython-input-1-51dda1017997>\u001b[0m in \u001b[0;36m<module>\u001b[1;34m()\u001b[0m\n\u001b[1;32m----> 1\u001b[1;33m \u001b[0mlen\u001b[0m\u001b[1;33m(\u001b[0m\u001b[0mf01D\u001b[0m\u001b[1;33m)\u001b[0m\u001b[1;33m\u001b[0m\u001b[0m\n\u001b[0m",
      "\u001b[1;31mNameError\u001b[0m: name 'f01D' is not defined"
     ]
    }
   ],
   "source": [
    "len(f01D)"
   ]
  },
  {
   "cell_type": "code",
   "execution_count": 80,
   "metadata": {
    "ExecuteTime": {
     "end_time": "2018-06-23T01:43:43.725082Z",
     "start_time": "2018-06-23T01:43:43.719086Z"
    }
   },
   "outputs": [
    {
     "data": {
      "text/plain": [
       "array([ 0.  ,  0.25,  0.5 ,  0.75,  1.  ,  1.25,  1.5 ,  1.75,  2.  ])"
      ]
     },
     "execution_count": 80,
     "metadata": {},
     "output_type": "execute_result"
    }
   ],
   "source": [
    "np.array(np.linspace(0,2,9))"
   ]
  },
  {
   "cell_type": "code",
   "execution_count": 45,
   "metadata": {
    "ExecuteTime": {
     "end_time": "2018-06-23T01:06:59.232746Z",
     "start_time": "2018-06-23T01:06:59.228749Z"
    },
    "collapsed": true
   },
   "outputs": [],
   "source": [
    "a=np.array([])"
   ]
  },
  {
   "cell_type": "code",
   "execution_count": 50,
   "metadata": {
    "ExecuteTime": {
     "end_time": "2018-06-23T01:07:10.920178Z",
     "start_time": "2018-06-23T01:07:10.916178Z"
    },
    "collapsed": true
   },
   "outputs": [],
   "source": [
    "a=np.append(a,1)"
   ]
  },
  {
   "cell_type": "code",
   "execution_count": 10,
   "metadata": {
    "ExecuteTime": {
     "end_time": "2018-07-27T21:41:33.917985Z",
     "start_time": "2018-07-27T21:41:33.883005Z"
    }
   },
   "outputs": [
    {
     "ename": "NameError",
     "evalue": "name 'a' is not defined",
     "output_type": "error",
     "traceback": [
      "\u001b[1;31m---------------------------------------------------------------------------\u001b[0m",
      "\u001b[1;31mNameError\u001b[0m                                 Traceback (most recent call last)",
      "\u001b[1;32m<ipython-input-10-60b725f10c9c>\u001b[0m in \u001b[0;36m<module>\u001b[1;34m()\u001b[0m\n\u001b[1;32m----> 1\u001b[1;33m \u001b[0ma\u001b[0m\u001b[1;33m\u001b[0m\u001b[0m\n\u001b[0m",
      "\u001b[1;31mNameError\u001b[0m: name 'a' is not defined"
     ]
    }
   ],
   "source": [
    "a"
   ]
  },
  {
   "cell_type": "code",
   "execution_count": 94,
   "metadata": {
    "ExecuteTime": {
     "end_time": "2018-06-08T12:47:26.307632Z",
     "start_time": "2018-06-08T12:47:26.196696Z"
    },
    "collapsed": true
   },
   "outputs": [],
   "source": [
    "pna.pwrOff()\n",
    "sim_p.setVoltage(0)\n",
    "sim_s.setVoltage(0)"
   ]
  },
  {
   "cell_type": "code",
   "execution_count": 127,
   "metadata": {
    "ExecuteTime": {
     "end_time": "2018-06-14T13:54:39.046176Z",
     "start_time": "2018-06-14T13:54:38.997219Z"
    },
    "collapsed": true
   },
   "outputs": [],
   "source": [
    "np.savetxt('Z:\\\\Presentations\\\\Skypes with Madison\\\\Res91f0s.csv',list(f01D),delimiter=',',newline='\\r\\n',fmt='%.10e')"
   ]
  },
  {
   "cell_type": "code",
   "execution_count": 4,
   "metadata": {
    "ExecuteTime": {
     "end_time": "2018-08-04T01:12:57.575816Z",
     "start_time": "2018-08-04T01:12:57.547846Z"
    },
    "collapsed": true
   },
   "outputs": [],
   "source": [
    "lake = LSCI332S.LSCI332S(1)"
   ]
  },
  {
   "cell_type": "code",
   "execution_count": 4,
   "metadata": {
    "ExecuteTime": {
     "end_time": "2018-06-23T00:28:22.909639Z",
     "start_time": "2018-06-23T00:28:22.890653Z"
    }
   },
   "outputs": [
    {
     "data": {
      "text/plain": [
       "293.048"
      ]
     },
     "execution_count": 4,
     "metadata": {},
     "output_type": "execute_result"
    }
   ],
   "source": [
    "float(lake.tempGet('A'))"
   ]
  },
  {
   "cell_type": "code",
   "execution_count": 20,
   "metadata": {
    "ExecuteTime": {
     "end_time": "2018-06-23T00:48:13.089817Z",
     "start_time": "2018-06-23T00:48:13.056835Z"
    }
   },
   "outputs": [
    {
     "ename": "IndexError",
     "evalue": "tuple index out of range",
     "output_type": "error",
     "traceback": [
      "\u001b[1;31m---------------------------------------------------------------------------\u001b[0m",
      "\u001b[1;31mIndexError\u001b[0m                                Traceback (most recent call last)",
      "\u001b[1;32m<ipython-input-20-e959056ec0c2>\u001b[0m in \u001b[0;36m<module>\u001b[1;34m()\u001b[0m\n\u001b[0;32m      1\u001b[0m \u001b[0mf\u001b[0m \u001b[1;33m=\u001b[0m \u001b[0mopen\u001b[0m\u001b[1;33m(\u001b[0m\u001b[1;34m'Z:\\\\Experiments\\\\Vortex_measurements\\\\Ibrahim\\\\test.csv'\u001b[0m\u001b[1;33m,\u001b[0m\u001b[1;34m'a'\u001b[0m\u001b[1;33m)\u001b[0m\u001b[1;33m\u001b[0m\u001b[0m\n\u001b[1;32m----> 2\u001b[1;33m \u001b[0mnp\u001b[0m\u001b[1;33m.\u001b[0m\u001b[0msavetxt\u001b[0m\u001b[1;33m(\u001b[0m\u001b[0mf\u001b[0m\u001b[1;33m,\u001b[0m\u001b[0mstr\u001b[0m\u001b[1;33m(\u001b[0m\u001b[1;33m[\u001b[0m\u001b[1;36m1.1\u001b[0m\u001b[1;33m,\u001b[0m\u001b[1;36m2.2\u001b[0m\u001b[1;33m,\u001b[0m\u001b[1;36m3.1\u001b[0m\u001b[1;33m]\u001b[0m\u001b[1;33m)\u001b[0m\u001b[1;33m,\u001b[0m\u001b[0mdelimiter\u001b[0m\u001b[1;33m=\u001b[0m\u001b[1;34m','\u001b[0m\u001b[1;33m,\u001b[0m\u001b[0mnewline\u001b[0m\u001b[1;33m=\u001b[0m\u001b[1;34m'\\r\\n'\u001b[0m\u001b[1;33m,\u001b[0m\u001b[0mfmt\u001b[0m\u001b[1;33m=\u001b[0m\u001b[1;34m'%s'\u001b[0m\u001b[1;33m)\u001b[0m\u001b[1;33m\u001b[0m\u001b[0m\n\u001b[0m\u001b[0;32m      3\u001b[0m \u001b[0mf\u001b[0m\u001b[1;33m.\u001b[0m\u001b[0mclose\u001b[0m\u001b[1;33m(\u001b[0m\u001b[1;33m)\u001b[0m\u001b[1;33m\u001b[0m\u001b[0m\n",
      "\u001b[1;32mC:\\Anaconda3\\lib\\site-packages\\numpy\\lib\\npyio.py\u001b[0m in \u001b[0;36msavetxt\u001b[1;34m(fname, X, fmt, delimiter, newline, header, footer, comments)\u001b[0m\n\u001b[0;32m   1173\u001b[0m                 \u001b[0mncol\u001b[0m \u001b[1;33m=\u001b[0m \u001b[0mlen\u001b[0m\u001b[1;33m(\u001b[0m\u001b[0mX\u001b[0m\u001b[1;33m.\u001b[0m\u001b[0mdtype\u001b[0m\u001b[1;33m.\u001b[0m\u001b[0mdescr\u001b[0m\u001b[1;33m)\u001b[0m\u001b[1;33m\u001b[0m\u001b[0m\n\u001b[0;32m   1174\u001b[0m         \u001b[1;32melse\u001b[0m\u001b[1;33m:\u001b[0m\u001b[1;33m\u001b[0m\u001b[0m\n\u001b[1;32m-> 1175\u001b[1;33m             \u001b[0mncol\u001b[0m \u001b[1;33m=\u001b[0m \u001b[0mX\u001b[0m\u001b[1;33m.\u001b[0m\u001b[0mshape\u001b[0m\u001b[1;33m[\u001b[0m\u001b[1;36m1\u001b[0m\u001b[1;33m]\u001b[0m\u001b[1;33m\u001b[0m\u001b[0m\n\u001b[0m\u001b[0;32m   1176\u001b[0m \u001b[1;33m\u001b[0m\u001b[0m\n\u001b[0;32m   1177\u001b[0m         \u001b[0miscomplex_X\u001b[0m \u001b[1;33m=\u001b[0m \u001b[0mnp\u001b[0m\u001b[1;33m.\u001b[0m\u001b[0miscomplexobj\u001b[0m\u001b[1;33m(\u001b[0m\u001b[0mX\u001b[0m\u001b[1;33m)\u001b[0m\u001b[1;33m\u001b[0m\u001b[0m\n",
      "\u001b[1;31mIndexError\u001b[0m: tuple index out of range"
     ]
    }
   ],
   "source": [
    "f = open('Z:\\\\Experiments\\\\Vortex_measurements\\\\Ibrahim\\\\test.csv','a')\n",
    "np.savetxt(f,str([1.1,2.2,3.1]),delimiter=',',newline='\\r\\n',fmt='%s')\n",
    "f.close()"
   ]
  },
  {
   "cell_type": "code",
   "execution_count": 74,
   "metadata": {
    "ExecuteTime": {
     "end_time": "2018-06-23T01:35:21.455060Z",
     "start_time": "2018-06-23T01:35:21.385103Z"
    }
   },
   "outputs": [
    {
     "data": {
      "text/plain": [
       "0.0308752"
      ]
     },
     "execution_count": 74,
     "metadata": {},
     "output_type": "execute_result"
    }
   ],
   "source": [
    "sim_v.getVoltage(3)"
   ]
  },
  {
   "cell_type": "code",
   "execution_count": 61,
   "metadata": {
    "ExecuteTime": {
     "end_time": "2018-06-23T01:18:30.526679Z",
     "start_time": "2018-06-23T01:18:30.522670Z"
    },
    "collapsed": true
   },
   "outputs": [],
   "source": [
    "b = np.polyfit(np.array([0,1]),np.array([0,4]),1)"
   ]
  },
  {
   "cell_type": "code",
   "execution_count": 64,
   "metadata": {
    "ExecuteTime": {
     "end_time": "2018-06-23T01:18:56.443444Z",
     "start_time": "2018-06-23T01:18:56.435449Z"
    }
   },
   "outputs": [
    {
     "data": {
      "text/plain": [
       "3.9999999999999991"
      ]
     },
     "execution_count": 64,
     "metadata": {},
     "output_type": "execute_result"
    }
   ],
   "source": [
    "b[0]"
   ]
  },
  {
   "cell_type": "code",
   "execution_count": 3,
   "metadata": {
    "ExecuteTime": {
     "end_time": "2018-07-09T17:30:16.731366Z",
     "start_time": "2018-07-09T17:30:16.707369Z"
    },
    "collapsed": true
   },
   "outputs": [],
   "source": [
    "lake = LSCI332S.LSCI332S(1)"
   ]
  },
  {
   "cell_type": "code",
   "execution_count": 4,
   "metadata": {
    "ExecuteTime": {
     "end_time": "2019-04-27T00:36:52.640354Z",
     "start_time": "2019-04-27T00:36:52.611369Z"
    },
    "collapsed": true
   },
   "outputs": [],
   "source": [
    "# FAA\n",
    "lake = LSCI332S.LSCI332S(2)"
   ]
  },
  {
   "cell_type": "code",
   "execution_count": null,
   "metadata": {
    "ExecuteTime": {
     "start_time": "2019-04-27T00:37:04.779Z"
    },
    "collapsed": true
   },
   "outputs": [],
   "source": [
    "while True:\n",
    "    f50 = open('C:\\\\Users\\\\Lab User\\\\Desktop\\\\Crap, please organize\\\\SFQFlipIV\\\\MCMunknown\\\\MCMXX\\\\A2.csv','a')\n",
    "    f200 = open('C:\\\\Users\\\\Lab User\\\\Desktop\\\\Crap, please organize\\\\SFQFlipIV\\\\MCMunknown\\\\MCMXX\\\\A1.csv','a')\n",
    "    vlist = np.array([])\n",
    "    for i in np.linspace(-1,1,9):\n",
    "        sim_50.setVoltage(i)\n",
    "        time.sleep(0.5)\n",
    "        vlist = np.append(vlist,sim_v.getVoltage(4))\n",
    "    sim_50.setVoltage(0)\n",
    "    R = np.polyfit(np.array(np.linspace(-1,1,9))/1e6,vlist,1)\n",
    "    f50.write(str(float(lake.tempGet('A')))+','+str(R[0])+'\\n')\n",
    "#     print(R)\n",
    "     \n",
    "    vlist = np.array([])\n",
    "    for i in np.linspace(-1,1,9):\n",
    "        sim_200.setVoltage(i)\n",
    "        time.sleep(0.5)\n",
    "        vlist = np.append(vlist,sim_v.getVoltage(3))\n",
    "    sim_200.setVoltage(0)\n",
    "    R = np.polyfit(np.array(np.linspace(-1,1,9))/1e6,vlist,1)\n",
    "#     print(R)\n",
    "    f200.write(str(float(lake.tempGet('A')))+','+str(R[0])+'\\n')\n",
    "    f50.close()\n",
    "    f200.close()\n",
    "    time.sleep(120)"
   ]
  },
  {
   "cell_type": "code",
   "execution_count": 35,
   "metadata": {
    "ExecuteTime": {
     "end_time": "2018-07-10T04:24:41.630509Z",
     "start_time": "2018-07-10T04:23:44.211068Z"
    },
    "collapsed": true
   },
   "outputs": [],
   "source": [
    "f50 = open('Z:\\\\User\\\\Yebin\\\\Project\\\\Plaquette\\\\Measurement\\\\test chip nano wire resistance\\\\07092018\\\\C2_SuperCon_IVneg3.csv','a')\n",
    "# f200 = open('Z:\\\\User\\\\Yebin\\\\Project\\\\Plaquette\\\\Measurement\\\\test chip nano wire resistance\\\\07092018\\\\C2_SuperCon_IV2.csv','a')\n",
    "vlist = np.array([])\n",
    "for i in np.linspace(-0,-20,101):\n",
    "    sim_200.setVoltage(i)\n",
    "    time.sleep(0.5)\n",
    "    V =sim_v.getVoltage(3)\n",
    "    I = i/1e6\n",
    "    f50.write(str(float(I))+','+str(V)+'\\n')\n",
    "sim_200.setVoltage(0)"
   ]
  },
  {
   "cell_type": "code",
   "execution_count": 21,
   "metadata": {
    "ExecuteTime": {
     "end_time": "2018-07-10T03:44:28.234688Z",
     "start_time": "2018-07-10T03:44:28.228679Z"
    },
    "collapsed": true
   },
   "outputs": [],
   "source": [
    "sim_50.setVoltage(0)"
   ]
  },
  {
   "cell_type": "code",
   "execution_count": 5,
   "metadata": {
    "ExecuteTime": {
     "end_time": "2018-07-01T03:14:20.839236Z",
     "start_time": "2018-07-01T03:14:20.833252Z"
    },
    "collapsed": true
   },
   "outputs": [],
   "source": [
    "f50.close()\n",
    "f200.close()"
   ]
  },
  {
   "cell_type": "code",
   "execution_count": 71,
   "metadata": {
    "ExecuteTime": {
     "end_time": "2018-06-23T01:32:42.662892Z",
     "start_time": "2018-06-23T01:32:42.655882Z"
    }
   },
   "outputs": [
    {
     "data": {
      "text/plain": [
       "array([  1.23564400e-01,   9.28137000e-02,   6.18690000e-02,\n",
       "         3.08872000e-02,   1.57000000e-05,   3.04485000e-02,\n",
       "         6.01456000e-02,   8.86277000e-02,   1.15457700e-01])"
      ]
     },
     "execution_count": 71,
     "metadata": {},
     "output_type": "execute_result"
    }
   ],
   "source": [
    "vlist"
   ]
  },
  {
   "cell_type": "code",
   "execution_count": 72,
   "metadata": {
    "ExecuteTime": {
     "end_time": "2018-06-23T01:33:31.254926Z",
     "start_time": "2018-06-23T01:33:31.248930Z"
    }
   },
   "outputs": [
    {
     "data": {
      "text/plain": [
       "array([ -1.62901000e+03,   6.70921667e-02])"
      ]
     },
     "execution_count": 72,
     "metadata": {},
     "output_type": "execute_result"
    }
   ],
   "source": [
    "R"
   ]
  },
  {
   "cell_type": "code",
   "execution_count": null,
   "metadata": {
    "collapsed": true
   },
   "outputs": [],
   "source": []
  }
 ],
 "metadata": {
  "anaconda-cloud": {},
  "kernelspec": {
   "display_name": "Python 3",
   "language": "python",
   "name": "python3"
  },
  "language_info": {
   "codemirror_mode": {
    "name": "ipython",
    "version": 3
   },
   "file_extension": ".py",
   "mimetype": "text/x-python",
   "name": "python",
   "nbconvert_exporter": "python",
   "pygments_lexer": "ipython3",
   "version": "3.8.5"
  },
  "toc": {
   "base_numbering": 1,
   "nav_menu": {
    "height": "209px",
    "width": "252px"
   },
   "number_sections": false,
   "sideBar": true,
   "skip_h1_title": false,
   "title_cell": "Table of Contents",
   "title_sidebar": "Contents",
   "toc_cell": false,
   "toc_position": {
    "height": "777px",
    "left": "0px",
    "right": "1434px",
    "top": "107px",
    "width": "326px"
   },
   "toc_section_display": "block",
   "toc_window_display": true
  }
 },
 "nbformat": 4,
 "nbformat_minor": 1
}
