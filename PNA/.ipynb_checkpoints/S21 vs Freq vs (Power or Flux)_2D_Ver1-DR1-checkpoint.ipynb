{
 "cells": [
  {
   "cell_type": "markdown",
   "metadata": {},
   "source": [
    "# Common blocks"
   ]
  },
  {
   "cell_type": "code",
   "execution_count": 1,
   "metadata": {
    "collapsed": false
   },
   "outputs": [
    {
     "name": "stdout",
     "output_type": "stream",
     "text": [
      "Using matplotlib backend: Qt4Agg\n"
     ]
    }
   ],
   "source": [
    "# run once\n",
    "%matplotlib"
   ]
  },
  {
   "cell_type": "code",
   "execution_count": 7,
   "metadata": {
    "collapsed": false
   },
   "outputs": [],
   "source": [
    "# import modules\n",
    "import matplotlib.pyplot as plt\n",
    "from IPython.display import clear_output\n",
    "import numpy as np\n",
    "import json\n",
    "import visa\n",
    "import myplots_py3, myutils # custom modules\n",
    "import os.path\n",
    "import time\n",
    "from imp import reload # for python3\n",
    "\n",
    "# instrument drivers\n",
    "import SIM\n",
    "import AgilentN5230A\n",
    "#import HittiteHMC\n",
    "#import AgilentMXG\n",
    "\n",
    "# instrument initialization\n",
    "pna = AgilentN5230A.AgilentN5230A(16)\n",
    "sim_glb = SIM.SIM(18, channel=3)\n",
    "sim_chip = SIM.SIM(19, channel=3)\n",
    "#spec = HittiteHMC.HittiteHMC(18)\n",
    "#spec = AgilentMXG.AgilentMXG(30)"
   ]
  },
  {
   "cell_type": "code",
   "execution_count": 3,
   "metadata": {
    "collapsed": false
   },
   "outputs": [
    {
     "data": {
      "text/plain": [
       "('USB0::0x0957::0x1F01::MY47420076::INSTR',\n",
       " 'ASRL1::INSTR',\n",
       " 'ASRL3::INSTR',\n",
       " 'ASRL5::INSTR',\n",
       " 'ASRL6::INSTR',\n",
       " 'ASRL7::INSTR',\n",
       " 'ASRL10::INSTR',\n",
       " 'GPIB0::16::INSTR',\n",
       " 'GPIB0::18::INSTR',\n",
       " 'GPIB0::19::INSTR')"
      ]
     },
     "execution_count": 3,
     "metadata": {},
     "output_type": "execute_result"
    }
   ],
   "source": [
    "rm=visa.ResourceManager()\n",
    "rm.list_resources()"
   ]
  },
  {
   "cell_type": "code",
   "execution_count": 9,
   "metadata": {
    "collapsed": true
   },
   "outputs": [],
   "source": [
    "sim_glb.setVoltage(0.4)  #-0.45\n",
    "sim_chip.setVoltage(0.625)"
   ]
  },
  {
   "cell_type": "markdown",
   "metadata": {},
   "source": [
    "# S21 vs Freq sweep, continuous"
   ]
  },
  {
   "cell_type": "code",
   "execution_count": null,
   "metadata": {
    "collapsed": false
   },
   "outputs": [],
   "source": [
    "####################################################################################\n",
    "# set up parameter\n",
    "startFreq, endFreq = 6.72e9,7.05e9\n",
    "power = -50\n",
    "numPoints, IFbandwidth, avg = 801, 500, 1\n",
    "#volt = 0 # -0.65 # -2.05  #2.4\n",
    "####################################################################################\n",
    "\n",
    "# plot setup\n",
    "plotobj= myplots_py3.plot1D(ylabel = 'S21 (dB)', xlabel='Frequency (Hz)', title = 'S21 vs Freq'\n",
    "                        , plotStyle='b-')\n",
    "\n",
    "# preconfigure instrument\n",
    "pna.setupMeas()\n",
    "pna.setSweepType('linear')\n",
    "\n",
    "pna.setFreqStartEnd(startFreq, endFreq)\n",
    "pna.setPwr(power)\n",
    "pna.avgCount(avg)\n",
    "pna.numPoints(numPoints)\n",
    "pna.setIF(IFbandwidth)\n",
    "pna.pwrOn()\n",
    "\n",
    "#spec.pwrOff()\n",
    "#sim_glb.setVoltage(volt)\n",
    "\n",
    "# data initialization\n",
    "S21_mag_log_2D, S21_phase_2D = np.array([]), np.array([])\n",
    "\n",
    "################ sweep start ################\n",
    "\n",
    "for i in range(1):\n",
    "    # configure\n",
    "    pna.avgClear()\n",
    "        \n",
    "    # fetch data from PNA\n",
    "    freq, S21 = pna.getData(cplx=True) # S21 in linear scale\n",
    "    \n",
    "    # S21 conversion\n",
    "    S21_real, S21_imag = np.real(S21), np.imag(S21)\n",
    "    S21_mag, S21_phase = np.sqrt(S21_real**2 + S21_imag**2), np.angle(S21, deg=True) # phase in degree\n",
    "    S21_mag_log = 20.0 * np.log10(S21_mag)    # dB\n",
    "    \n",
    "    # plot update\n",
    "    plotobj.update(freq/1e9, S21_mag_log)\n",
    "    \n",
    "     \n",
    "############## sweep end #########################    \n",
    "\n",
    "# Post measurement    \n",
    "pna.pwrOff()\n",
    "print('Measurement Done!!')\n"
   ]
  },
  {
   "cell_type": "code",
   "execution_count": 11,
   "metadata": {
    "collapsed": false
   },
   "outputs": [
    {
     "data": {
      "text/plain": [
       "<module 'myplots_py3' from 'Z:\\\\User\\\\Jaseung\\\\programs\\\\pythonCode\\\\PNA\\\\myplots_py3.py'>"
      ]
     },
     "execution_count": 11,
     "metadata": {},
     "output_type": "execute_result"
    }
   ],
   "source": [
    "reload(myplots_py3)"
   ]
  },
  {
   "cell_type": "markdown",
   "metadata": {},
   "source": [
    "# S21 vs Freq vs Power, 2D"
   ]
  },
  {
   "cell_type": "code",
   "execution_count": 7,
   "metadata": {
    "collapsed": false
   },
   "outputs": [
    {
     "name": "stdout",
     "output_type": "stream",
     "text": [
      "startPwr=-60 dBm, endPwr=-10 dBm, current power=-10 dBm\n",
      "Measurement complete!!!\n",
      "Wall time: 3min 42s\n"
     ]
    }
   ],
   "source": [
    "%%time\n",
    "#########################################################################################\n",
    "# set up parameters\n",
    "startFreq, endFreq = 6.99612e9, 7.00971e9 #6.775e9 , 6.945e9 #6.881e9, 6.885e9 # 6.904e9, 6.912e9\n",
    "numPoints, avg = 801, 1\n",
    "IFStart, IFEnd =200, 500 # Hz\n",
    "startPwr, endPwr, stepPwr = -60,-10.0, 1\n",
    "volt_glb_initial = 0.625\n",
    "volt_chip_initial = 0.4\n",
    "\n",
    "#save_path = 'Z:\\User\\JJ\\SFQ2\\C6' # no backslash at the end.\n",
    "save_path = r'Z:\\User\\Jaseung\\projects\\CSFQ\\measurement\\W4\\B5\\BlueFors\\S21vsFreqvsP'\n",
    "#save_path = 'C:\\Users\\Lab User\\Desktop\\Albany1222'\n",
    "\n",
    "#surfix='Q3_Vglb=0.328V' # surfix to the file name\n",
    "surfix='Q6_Vglb=0.625_Vchip=0.4V'  # surfix to file name\n",
    "commentStr=''  # comment to be placed in the log file.\n",
    "############################################################################################\n",
    "\n",
    "# IFbandwidth scales up linearly as power increases.\n",
    "IF_arr = np.linspace(IFStart, IFEnd, np.arange(startPwr, endPwr + stepPwr, stepPwr).size) \n",
    "\n",
    "# dictionary for parameters to be saved in json file. Solely for log.\n",
    "xID, xStart, xEnd, xStep = 'Power (dBm)', startPwr, endPwr, stepPwr\n",
    "yID, yStart, yEnd, yStep = 'Frequency (Hz)',startFreq, endFreq, (endFreq-startFreq)/(numPoints-1)\n",
    "para = dict([('xID', xID), ('xStart', xStart), ('xEnd', xEnd)\n",
    "             , ('yID', yID), ('yStart', yStart), ('yEnd', yEnd)\n",
    "             , ('numPoints',numPoints), ('IFbandwidth start (Hz)', IF_arr[0]),('IFbandwidth end (Hz)', IF_arr[-1])\n",
    "             , ('avg',avg), ('volt_glb_initial (V)',volt_glb_initial),('volt_chip_initial (V)',volt_chip_initial), ('comment', commentStr)])\n",
    "\n",
    "# file setup\n",
    "timeStr = time.strftime(\"%Y%m%d_%H%M%S\")\n",
    "baseStr = 'S21vsFvsP_fr{:.9g}_{:.9g}_Pr{}_{}_{}_{}_{}'\n",
    "baseFileName = baseStr.format(startFreq/1e9, endFreq/1e9, startPwr, endPwr, stepPwr,surfix, timeStr)\n",
    "dataFileName_mag, dataFileName_phase  = (os.path.join(save_path, baseFileName + '_mag.dat'), \n",
    "                                         os.path.join(save_path, baseFileName + '_phase.dat'))\n",
    "logFileName =  os.path.join(save_path, baseFileName + '.json')\n",
    "with open(logFileName, 'w') as f:\n",
    "    json.dump(para,f,indent=4, sort_keys=True)\n",
    "\n",
    "#with open(logFileName, 'wb') as f_log:\n",
    "#    for k, v in para.items():  # write log file.\n",
    "#        f_log.write('# {} : {} \\n'.format(k,v))\n",
    "   \n",
    "# plot setup\n",
    "plotobj= myplots_py3.plot2D(ylabel = 'Frequency(Hz)', xlabel='Power (dBm)', title = 'S21 vs Freq vs Power')\n",
    "\n",
    "# preconfigure instrument\n",
    "pna.setupMeas()\n",
    "pna.setSweepType('linear')\n",
    "pna.setFreqStartEnd(startFreq, endFreq)\n",
    "#pna.setPwr(power)\n",
    "pna.avgCount(avg)\n",
    "pna.numPoints(numPoints)\n",
    "#pna.setIF(IFbandwidth)\n",
    "pna.pwrOn()\n",
    "\n",
    "sim_glb.setVoltage(volt_glb_initial)\n",
    "sim_chip.setVoltage(volt_chip_initial)\n",
    "\n",
    "# data initialization\n",
    "S21_mag_log_2D, S21_phase_2D = np.array([]), np.array([])\n",
    "i=0\n",
    "################ sweep start ################\n",
    "for pwr in np.arange(startPwr, endPwr + stepPwr, stepPwr): # traverse in [pmin, pmax].\n",
    "    \n",
    "    clear_output()\n",
    "    print('startPwr={:.3g} dBm, endPwr={:.3g} dBm, current power={:.3g} dBm'.format(startPwr, endPwr, pwr))\n",
    "    \n",
    "    # configure\n",
    "    pna.setIF(IF_arr[i]) \n",
    "    pna.setPwr(pwr)\n",
    "    pna.avgClear()\n",
    "    i += 1\n",
    "    \n",
    "    # fetch data from PNA\n",
    "    freq, S21 = pna.getData(cplx=True) # S21 in linear scale\n",
    "    \n",
    "    # S21 conversion\n",
    "    S21_real, S21_imag = np.real(S21), np.imag(S21)\n",
    "    S21_mag, S21_phase = np.sqrt(S21_real**2 + S21_imag**2), np.angle(S21, deg=True) # phase in degree\n",
    "    S21_mag_log = 20.0 * np.log10(S21_mag)    # dB\n",
    "    \n",
    "    if S21_mag_log_2D.size == 0: # when S21_mag_2D is empty\n",
    "        S21_mag_log_2D = S21_mag_log\n",
    "        S21_mag_log_2D.shape = (S21_mag_log.size, 1)\n",
    "        S21_phase_2D = S21_phase\n",
    "        S21_phase_2D.shape = (S21_phase.size, 1)\n",
    "    else:\n",
    "        S21_mag_log_2D = np.column_stack((S21_mag_log_2D, S21_mag_log))\n",
    "        S21_phase_2D = np.column_stack((S21_phase_2D, S21_phase))\n",
    "     \n",
    "    # plot update\n",
    "    extent = [startPwr, pwr, startFreq, endFreq]\n",
    "    plotobj.update(S21_mag_log_2D, extent)\n",
    "    \n",
    "    \n",
    "    # save data in each iteration\n",
    "    f_mag = open(dataFileName_mag, 'wb') \n",
    "    f_phase = open(dataFileName_phase, 'wb') \n",
    "    np.savetxt(f_mag, S21_mag_log_2D, fmt='%.9g', delimiter='\\t') \n",
    "    np.savetxt(f_phase, S21_phase_2D, fmt='%.9g', delimiter='\\t')\n",
    "    f_mag.close()\n",
    "    f_phase.close()\n",
    "    \n",
    "############## sweep end #########################    \n",
    "\n",
    "# Post measurement  \n",
    "del S21_mag_log_2D, S21_phase_2D\n",
    "pna.pwrOff()\n",
    "print('Measurement complete!!!')\n"
   ]
  },
  {
   "cell_type": "markdown",
   "metadata": {},
   "source": [
    "# S21 vs Freq vs Flux, 2D"
   ]
  },
  {
   "cell_type": "code",
   "execution_count": 8,
   "metadata": {
    "collapsed": false,
    "scrolled": true
   },
   "outputs": [
    {
     "name": "stdout",
     "output_type": "stream",
     "text": [
      "startV=-1.5 V, endV=1.5 V, current volt=1.5 V\n"
     ]
    },
    {
     "ename": "TypeError",
     "evalue": "Mismatch between array dtype ('float64') and format specifier ('%.9g\t%.9g\t%.9g\t%.9g\t%.9g\t%.9g\t%.9g\t%.9g\t%.9g\t%.9g\t%.9g\t%.9g\t%.9g\t%.9g\t%.9g\t%.9g\t%.9g\t%.9g\t%.9g\t%.9g\t%.9g\t%.9g\t%.9g\t%.9g\t%.9g\t%.9g\t%.9g\t%.9g\t%.9g\t%.9g\t%.9g\t%.9g\t%.9g\t%.9g\t%.9g\t%.9g\t%.9g\t%.9g\t%.9g\t%.9g\t%.9g\t%.9g\t%.9g\t%.9g\t%.9g\t%.9g\t%.9g\t%.9g\t%.9g\t%.9g\t%.9g\t%.9g\t%.9g\t%.9g\t%.9g\t%.9g\t%.9g\t%.9g\t%.9g\t%.9g\t%.9g\t%.9g\t%.9g\t%.9g\t%.9g\t%.9g\t%.9g\t%.9g\t%.9g\t%.9g\t%.9g\t%.9g\t%.9g\t%.9g\t%.9g\t%.9g')",
     "output_type": "error",
     "traceback": [
      "\u001b[0;31m---------------------------------------------------------------------------\u001b[0m",
      "\u001b[0;31mTypeError\u001b[0m                                 Traceback (most recent call last)",
      "\u001b[0;32mC:\\Program Files\\Anaconda3\\lib\\site-packages\\numpy\\lib\\npyio.py\u001b[0m in \u001b[0;36msavetxt\u001b[0;34m(fname, X, fmt, delimiter, newline, header, footer, comments)\u001b[0m\n\u001b[1;32m   1157\u001b[0m                 \u001b[1;32mtry\u001b[0m\u001b[1;33m:\u001b[0m\u001b[1;33m\u001b[0m\u001b[0m\n\u001b[0;32m-> 1158\u001b[0;31m                     \u001b[0mfh\u001b[0m\u001b[1;33m.\u001b[0m\u001b[0mwrite\u001b[0m\u001b[1;33m(\u001b[0m\u001b[0masbytes\u001b[0m\u001b[1;33m(\u001b[0m\u001b[0mformat\u001b[0m \u001b[1;33m%\u001b[0m \u001b[0mtuple\u001b[0m\u001b[1;33m(\u001b[0m\u001b[0mrow\u001b[0m\u001b[1;33m)\u001b[0m \u001b[1;33m+\u001b[0m \u001b[0mnewline\u001b[0m\u001b[1;33m)\u001b[0m\u001b[1;33m)\u001b[0m\u001b[1;33m\u001b[0m\u001b[0m\n\u001b[0m\u001b[1;32m   1159\u001b[0m                 \u001b[1;32mexcept\u001b[0m \u001b[0mTypeError\u001b[0m\u001b[1;33m:\u001b[0m\u001b[1;33m\u001b[0m\u001b[0m\n",
      "\u001b[0;31mTypeError\u001b[0m: write() argument must be str, not bytes",
      "\nDuring handling of the above exception, another exception occurred:\n",
      "\u001b[0;31mTypeError\u001b[0m                                 Traceback (most recent call last)",
      "\u001b[0;32m<ipython-input-8-e7769567325e>\u001b[0m in \u001b[0;36m<module>\u001b[0;34m()\u001b[0m\n\u001b[0;32m----> 1\u001b[0;31m \u001b[0mget_ipython\u001b[0m\u001b[1;33m(\u001b[0m\u001b[1;33m)\u001b[0m\u001b[1;33m.\u001b[0m\u001b[0mrun_cell_magic\u001b[0m\u001b[1;33m(\u001b[0m\u001b[1;34m'time'\u001b[0m\u001b[1;33m,\u001b[0m \u001b[1;34m''\u001b[0m\u001b[1;33m,\u001b[0m \u001b[1;34m\"###########################################################################\\n# set up parameters\\nstartFreq, endFreq = 6.985e9, 7.015e9 # 6.935e9, 6.9450e9 #6.7949e9 , 6.9676e9 #6.83e9, 6.894e9#6.856e9, 7.015e9 #6.85e9, 7.05e9\\npower = -50\\nnumPoints, IFbandwidth, avg = 801, 500, 1\\nstartVolt, endVolt, stepVolt = -1.5, 1.5, 0.04 #-20, 20, 0.2 #-5, 5, 0.05 #  #-15, 15, 0.4#-20, 20, 0.5 #-1, 1.5, 0.04\\nsweepSrc = 1   # 1: Vglb, 2: Vchip\\nVglb_init = 0\\nVglb_endV = 0  # end voltage for both global and onchip flux\\nVchip_init = 0.625\\nVchip_endV = 0.625\\n#save_path = 'Z:\\\\User\\\\JJ\\\\SFQ2\\\\C6'\\n#save_path = 'Z:\\\\User\\\\Jaseung\\\\projects\\\\CSFQ\\\\measurement\\\\W3\\\\B7\\\\BlueFors\\\\Jan2017\\\\S21vsFreqvsV'\\nsave_path =r'Z:\\\\User\\\\Jaseung\\\\projects\\\\CSFQ\\\\measurement\\\\W4\\\\B5\\\\BlueFors\\\\S21vsFreqvsV'\\nsurfix = 'Q6_Vchip=0.625'\\n#surfix = 'Q1_Vglb=0.42V'\\ncommentStr =''\\n############################################################################\\n\\n# dictionary for parameters to be saved in json file. Solely for log.\\nxID, xStart, xEnd, xStep = 'Volt (V)', startVolt, endVolt, stepVolt\\nyID, yStart, yEnd, yStep = 'Frequency (Hz)',startFreq, endFreq, (endFreq-startFreq)/(numPoints-1)\\npara = dict([('xID', xID), ('xStart', xStart), ('xEnd', xEnd)\\n             , ('yID', yID), ('yStart', yStart), ('yEnd', yEnd), ('Power (dBm)', power)\\n             , ('numPoints',numPoints), ('IFbandwidth (Hz)', IFbandwidth) \\n             , ('avg',avg), ('comment', commentStr)])\\n\\n# file setup\\n\\nbaseStr = 'S21vsFvsV_fr{:.9g}_{:.9g}_Pr{:.4g}_V{}_{}_{}_{}'\\nbaseFileName = baseStr.format(startFreq/1e9, endFreq/1e9, power, startVolt, endVolt, stepVolt, surfix)\\ndataFileName_mag, dataFileName_phase  = (os.path.join(save_path, baseFileName + '_mag.dat'), \\n                                         os.path.join(save_path, baseFileName + '_phase.dat'))\\nlogFileName =  os.path.join(save_path, baseFileName + '.json')\\nwith open(logFileName, 'w') as f:\\n    json.dump(para,f,indent=4, sort_keys=True)\\n\\n# plot setup\\nplotobj= myplots_py3.plot2D(ylabel = 'Frequency (Hz)', xlabel='Volt (V)', title = 'S21 vs Freq vs Volt')\\n\\n# preconfigure instrument\\npna.setupMeas()\\npna.setSweepType('linear')\\npna.setFreqStartEnd(startFreq, endFreq)\\npna.setPwr(power)\\npna.avgCount(avg)\\npna.numPoints(numPoints)\\npna.setIF(IFbandwidth)\\npna.pwrOn()\\n\\nsim_glb.setVoltage(Vglb_init)\\nsim_chip.setVoltage(Vchip_init)\\ntime.sleep(2)\\n\\n# data initialization\\nS21_mag_log_2D, S21_phase_2D = np.array([]), np.array([])\\n\\n################ sweep start ################\\nfor volt in np.arange(startVolt, endVolt + stepVolt, stepVolt): # traverse in [pmin, pmax].\\n    clear_output()\\n    print('startV={:.3g} V, endV={:.3g} V, current volt={:.3g} V'.format(startVolt, endVolt, volt))\\n\\n    # configure\\n    if sweepSrc==1:\\n        sim_glb.setVoltage(volt)\\n    else: #sweepSrc=2\\n        sim_chip.setVoltage(volt)\\n        \\n    time.sleep(1)\\n    pna.avgClear()\\n    \\n    # fetch data from PNA\\n    freq, S21 = pna.getData(cplx=True) # S21 in linear scale\\n    \\n    # S21 conversion\\n    S21_real, S21_imag = np.real(S21), np.imag(S21)\\n    S21_mag, S21_phase = np.sqrt(S21_real**2 + S21_imag**2), np.angle(S21, deg=True) # phase in degree\\n    S21_mag_log = 20.0 * np.log10(S21_mag)    # dB\\n    \\n    if S21_mag_log_2D.size == 0: # when S21_mag_2D is empty\\n        S21_mag_log_2D = S21_mag_log\\n        S21_mag_log_2D.shape = (S21_mag_log.size, 1)\\n        S21_phase_2D = S21_phase\\n        S21_phase_2D.shape = (S21_phase.size, 1)\\n    else:\\n        S21_mag_log_2D = np.column_stack((S21_mag_log_2D, S21_mag_log))\\n        S21_phase_2D = np.column_stack((S21_phase_2D, S21_phase))\\n     \\n    # plot update\\n    extent = [startVolt, volt, startFreq, endFreq]\\n    plotobj.update(S21_mag_log_2D, extent)\\n        \\n    # save data in each iteration\\n#     f_mag = open(dataFileName_mag, 'w') \\n#     f_phase = open(dataFileName_phase, 'w') \\n#     np.savetxt(f_mag, S21_mag_log_2D, fmt='%.9g', delimiter='\\\\t') \\n#     np.savetxt(f_phase, S21_phase_2D, fmt='%.9g', delimiter='\\\\t')\\n#     f_mag.close()\\n#     f_phase.close()\\n    \\n############## sweep end #########################    \\n# save at the end\\nf_mag = open(dataFileName_mag, 'w') \\nf_phase = open(dataFileName_phase, 'w') \\nnp.savetxt(f_mag, S21_mag_log_2D, fmt='%.9g', delimiter='\\\\t') \\nnp.savetxt(f_phase, S21_phase_2D, fmt='%.9g', delimiter='\\\\t')\\nf_mag.close()\\nf_phase.close()\\n\\n# Post measurement   \\ndel S21_mag_log_2D, S21_phase_2D\\npna.pwrOff()\\nsim_glb.setVoltage(Vglb_endV)\\nsim_chip.setVoltage(Vchip_endV)\\nprint('Measurement done!!!')\"\u001b[0m\u001b[1;33m)\u001b[0m\u001b[1;33m\u001b[0m\u001b[0m\n\u001b[0m",
      "\u001b[0;32mC:\\Program Files\\Anaconda3\\lib\\site-packages\\IPython\\core\\interactiveshell.py\u001b[0m in \u001b[0;36mrun_cell_magic\u001b[0;34m(self, magic_name, line, cell)\u001b[0m\n\u001b[1;32m   2113\u001b[0m             \u001b[0mmagic_arg_s\u001b[0m \u001b[1;33m=\u001b[0m \u001b[0mself\u001b[0m\u001b[1;33m.\u001b[0m\u001b[0mvar_expand\u001b[0m\u001b[1;33m(\u001b[0m\u001b[0mline\u001b[0m\u001b[1;33m,\u001b[0m \u001b[0mstack_depth\u001b[0m\u001b[1;33m)\u001b[0m\u001b[1;33m\u001b[0m\u001b[0m\n\u001b[1;32m   2114\u001b[0m             \u001b[1;32mwith\u001b[0m \u001b[0mself\u001b[0m\u001b[1;33m.\u001b[0m\u001b[0mbuiltin_trap\u001b[0m\u001b[1;33m:\u001b[0m\u001b[1;33m\u001b[0m\u001b[0m\n\u001b[0;32m-> 2115\u001b[0;31m                 \u001b[0mresult\u001b[0m \u001b[1;33m=\u001b[0m \u001b[0mfn\u001b[0m\u001b[1;33m(\u001b[0m\u001b[0mmagic_arg_s\u001b[0m\u001b[1;33m,\u001b[0m \u001b[0mcell\u001b[0m\u001b[1;33m)\u001b[0m\u001b[1;33m\u001b[0m\u001b[0m\n\u001b[0m\u001b[1;32m   2116\u001b[0m             \u001b[1;32mreturn\u001b[0m \u001b[0mresult\u001b[0m\u001b[1;33m\u001b[0m\u001b[0m\n\u001b[1;32m   2117\u001b[0m \u001b[1;33m\u001b[0m\u001b[0m\n",
      "\u001b[0;32m<decorator-gen-60>\u001b[0m in \u001b[0;36mtime\u001b[0;34m(self, line, cell, local_ns)\u001b[0m\n",
      "\u001b[0;32mC:\\Program Files\\Anaconda3\\lib\\site-packages\\IPython\\core\\magic.py\u001b[0m in \u001b[0;36m<lambda>\u001b[0;34m(f, *a, **k)\u001b[0m\n\u001b[1;32m    186\u001b[0m     \u001b[1;31m# but it's overkill for just that one bit of state.\u001b[0m\u001b[1;33m\u001b[0m\u001b[1;33m\u001b[0m\u001b[0m\n\u001b[1;32m    187\u001b[0m     \u001b[1;32mdef\u001b[0m \u001b[0mmagic_deco\u001b[0m\u001b[1;33m(\u001b[0m\u001b[0marg\u001b[0m\u001b[1;33m)\u001b[0m\u001b[1;33m:\u001b[0m\u001b[1;33m\u001b[0m\u001b[0m\n\u001b[0;32m--> 188\u001b[0;31m         \u001b[0mcall\u001b[0m \u001b[1;33m=\u001b[0m \u001b[1;32mlambda\u001b[0m \u001b[0mf\u001b[0m\u001b[1;33m,\u001b[0m \u001b[1;33m*\u001b[0m\u001b[0ma\u001b[0m\u001b[1;33m,\u001b[0m \u001b[1;33m**\u001b[0m\u001b[0mk\u001b[0m\u001b[1;33m:\u001b[0m \u001b[0mf\u001b[0m\u001b[1;33m(\u001b[0m\u001b[1;33m*\u001b[0m\u001b[0ma\u001b[0m\u001b[1;33m,\u001b[0m \u001b[1;33m**\u001b[0m\u001b[0mk\u001b[0m\u001b[1;33m)\u001b[0m\u001b[1;33m\u001b[0m\u001b[0m\n\u001b[0m\u001b[1;32m    189\u001b[0m \u001b[1;33m\u001b[0m\u001b[0m\n\u001b[1;32m    190\u001b[0m         \u001b[1;32mif\u001b[0m \u001b[0mcallable\u001b[0m\u001b[1;33m(\u001b[0m\u001b[0marg\u001b[0m\u001b[1;33m)\u001b[0m\u001b[1;33m:\u001b[0m\u001b[1;33m\u001b[0m\u001b[0m\n",
      "\u001b[0;32mC:\\Program Files\\Anaconda3\\lib\\site-packages\\IPython\\core\\magics\\execution.py\u001b[0m in \u001b[0;36mtime\u001b[0;34m(self, line, cell, local_ns)\u001b[0m\n\u001b[1;32m   1178\u001b[0m         \u001b[1;32melse\u001b[0m\u001b[1;33m:\u001b[0m\u001b[1;33m\u001b[0m\u001b[0m\n\u001b[1;32m   1179\u001b[0m             \u001b[0mst\u001b[0m \u001b[1;33m=\u001b[0m \u001b[0mclock2\u001b[0m\u001b[1;33m(\u001b[0m\u001b[1;33m)\u001b[0m\u001b[1;33m\u001b[0m\u001b[0m\n\u001b[0;32m-> 1180\u001b[0;31m             \u001b[0mexec\u001b[0m\u001b[1;33m(\u001b[0m\u001b[0mcode\u001b[0m\u001b[1;33m,\u001b[0m \u001b[0mglob\u001b[0m\u001b[1;33m,\u001b[0m \u001b[0mlocal_ns\u001b[0m\u001b[1;33m)\u001b[0m\u001b[1;33m\u001b[0m\u001b[0m\n\u001b[0m\u001b[1;32m   1181\u001b[0m             \u001b[0mend\u001b[0m \u001b[1;33m=\u001b[0m \u001b[0mclock2\u001b[0m\u001b[1;33m(\u001b[0m\u001b[1;33m)\u001b[0m\u001b[1;33m\u001b[0m\u001b[0m\n\u001b[1;32m   1182\u001b[0m             \u001b[0mout\u001b[0m \u001b[1;33m=\u001b[0m \u001b[1;32mNone\u001b[0m\u001b[1;33m\u001b[0m\u001b[0m\n",
      "\u001b[0;32m<timed exec>\u001b[0m in \u001b[0;36m<module>\u001b[0;34m()\u001b[0m\n",
      "\u001b[0;32mC:\\Program Files\\Anaconda3\\lib\\site-packages\\numpy\\lib\\npyio.py\u001b[0m in \u001b[0;36msavetxt\u001b[0;34m(fname, X, fmt, delimiter, newline, header, footer, comments)\u001b[0m\n\u001b[1;32m   1160\u001b[0m                     raise TypeError(\"Mismatch between array dtype ('%s') and \"\n\u001b[1;32m   1161\u001b[0m                                     \u001b[1;34m\"format specifier ('%s')\"\u001b[0m\u001b[1;33m\u001b[0m\u001b[0m\n\u001b[0;32m-> 1162\u001b[0;31m                                     % (str(X.dtype), format))\n\u001b[0m\u001b[1;32m   1163\u001b[0m         \u001b[1;32mif\u001b[0m \u001b[0mlen\u001b[0m\u001b[1;33m(\u001b[0m\u001b[0mfooter\u001b[0m\u001b[1;33m)\u001b[0m \u001b[1;33m>\u001b[0m \u001b[1;36m0\u001b[0m\u001b[1;33m:\u001b[0m\u001b[1;33m\u001b[0m\u001b[0m\n\u001b[1;32m   1164\u001b[0m             \u001b[0mfooter\u001b[0m \u001b[1;33m=\u001b[0m \u001b[0mfooter\u001b[0m\u001b[1;33m.\u001b[0m\u001b[0mreplace\u001b[0m\u001b[1;33m(\u001b[0m\u001b[1;34m'\\n'\u001b[0m\u001b[1;33m,\u001b[0m \u001b[1;34m'\\n'\u001b[0m \u001b[1;33m+\u001b[0m \u001b[0mcomments\u001b[0m\u001b[1;33m)\u001b[0m\u001b[1;33m\u001b[0m\u001b[0m\n",
      "\u001b[0;31mTypeError\u001b[0m: Mismatch between array dtype ('float64') and format specifier ('%.9g\t%.9g\t%.9g\t%.9g\t%.9g\t%.9g\t%.9g\t%.9g\t%.9g\t%.9g\t%.9g\t%.9g\t%.9g\t%.9g\t%.9g\t%.9g\t%.9g\t%.9g\t%.9g\t%.9g\t%.9g\t%.9g\t%.9g\t%.9g\t%.9g\t%.9g\t%.9g\t%.9g\t%.9g\t%.9g\t%.9g\t%.9g\t%.9g\t%.9g\t%.9g\t%.9g\t%.9g\t%.9g\t%.9g\t%.9g\t%.9g\t%.9g\t%.9g\t%.9g\t%.9g\t%.9g\t%.9g\t%.9g\t%.9g\t%.9g\t%.9g\t%.9g\t%.9g\t%.9g\t%.9g\t%.9g\t%.9g\t%.9g\t%.9g\t%.9g\t%.9g\t%.9g\t%.9g\t%.9g\t%.9g\t%.9g\t%.9g\t%.9g\t%.9g\t%.9g\t%.9g\t%.9g\t%.9g\t%.9g\t%.9g\t%.9g')"
     ]
    }
   ],
   "source": [
    "%%time\n",
    "###########################################################################\n",
    "# set up parameters\n",
    "startFreq, endFreq = 6.985e9, 7.015e9 # 6.935e9, 6.9450e9 #6.7949e9 , 6.9676e9 #6.83e9, 6.894e9#6.856e9, 7.015e9 #6.85e9, 7.05e9\n",
    "power = -50\n",
    "numPoints, IFbandwidth, avg = 801, 500, 1\n",
    "startVolt, endVolt, stepVolt = -1.5, 1.5, 0.04 #-20, 20, 0.2 #-5, 5, 0.05 #  #-15, 15, 0.4#-20, 20, 0.5 #-1, 1.5, 0.04\n",
    "sweepSrc = 1   # 1: Vglb, 2: Vchip\n",
    "Vglb_init = 0\n",
    "Vglb_endV = 0  # end voltage for both global and onchip flux\n",
    "Vchip_init = 0.625\n",
    "Vchip_endV = 0.625\n",
    "#save_path = 'Z:\\User\\JJ\\SFQ2\\C6'\n",
    "#save_path = 'Z:\\User\\Jaseung\\projects\\CSFQ\\measurement\\W3\\B7\\BlueFors\\Jan2017\\S21vsFreqvsV'\n",
    "save_path =r'Z:\\User\\Jaseung\\projects\\CSFQ\\measurement\\W4\\B5\\BlueFors\\S21vsFreqvsV'\n",
    "surfix = 'Q6_Vchip=0.625'\n",
    "#surfix = 'Q1_Vglb=0.42V'\n",
    "commentStr =''\n",
    "############################################################################\n",
    "\n",
    "# dictionary for parameters to be saved in json file. Solely for log.\n",
    "xID, xStart, xEnd, xStep = 'Volt (V)', startVolt, endVolt, stepVolt\n",
    "yID, yStart, yEnd, yStep = 'Frequency (Hz)',startFreq, endFreq, (endFreq-startFreq)/(numPoints-1)\n",
    "para = dict([('xID', xID), ('xStart', xStart), ('xEnd', xEnd)\n",
    "             , ('yID', yID), ('yStart', yStart), ('yEnd', yEnd), ('Power (dBm)', power)\n",
    "             , ('numPoints',numPoints), ('IFbandwidth (Hz)', IFbandwidth) \n",
    "             , ('avg',avg), ('comment', commentStr)])\n",
    "\n",
    "# file setup\n",
    "\n",
    "baseStr = 'S21vsFvsV_fr{:.9g}_{:.9g}_Pr{:.4g}_V{}_{}_{}_{}'\n",
    "baseFileName = baseStr.format(startFreq/1e9, endFreq/1e9, power, startVolt, endVolt, stepVolt, surfix)\n",
    "dataFileName_mag, dataFileName_phase  = (os.path.join(save_path, baseFileName + '_mag.dat'), \n",
    "                                         os.path.join(save_path, baseFileName + '_phase.dat'))\n",
    "logFileName =  os.path.join(save_path, baseFileName + '.json')\n",
    "with open(logFileName, 'w') as f:\n",
    "    json.dump(para,f,indent=4, sort_keys=True)\n",
    "\n",
    "# plot setup\n",
    "plotobj= myplots_py3.plot2D(ylabel = 'Frequency (Hz)', xlabel='Volt (V)', title = 'S21 vs Freq vs Volt')\n",
    "\n",
    "# preconfigure instrument\n",
    "pna.setupMeas()\n",
    "pna.setSweepType('linear')\n",
    "pna.setFreqStartEnd(startFreq, endFreq)\n",
    "pna.setPwr(power)\n",
    "pna.avgCount(avg)\n",
    "pna.numPoints(numPoints)\n",
    "pna.setIF(IFbandwidth)\n",
    "pna.pwrOn()\n",
    "\n",
    "sim_glb.setVoltage(Vglb_init)\n",
    "sim_chip.setVoltage(Vchip_init)\n",
    "time.sleep(2)\n",
    "\n",
    "# data initialization\n",
    "S21_mag_log_2D, S21_phase_2D = np.array([]), np.array([])\n",
    "\n",
    "################ sweep start ################\n",
    "for volt in np.arange(startVolt, endVolt + stepVolt, stepVolt): # traverse in [pmin, pmax].\n",
    "    clear_output()\n",
    "    print('startV={:.3g} V, endV={:.3g} V, current volt={:.3g} V'.format(startVolt, endVolt, volt))\n",
    "\n",
    "    # configure\n",
    "    if sweepSrc==1:\n",
    "        sim_glb.setVoltage(volt)\n",
    "    else: #sweepSrc=2\n",
    "        sim_chip.setVoltage(volt)\n",
    "        \n",
    "    time.sleep(1)\n",
    "    pna.avgClear()\n",
    "    \n",
    "    # fetch data from PNA\n",
    "    freq, S21 = pna.getData(cplx=True) # S21 in linear scale\n",
    "    \n",
    "    # S21 conversion\n",
    "    S21_real, S21_imag = np.real(S21), np.imag(S21)\n",
    "    S21_mag, S21_phase = np.sqrt(S21_real**2 + S21_imag**2), np.angle(S21, deg=True) # phase in degree\n",
    "    S21_mag_log = 20.0 * np.log10(S21_mag)    # dB\n",
    "    \n",
    "    if S21_mag_log_2D.size == 0: # when S21_mag_2D is empty\n",
    "        S21_mag_log_2D = S21_mag_log\n",
    "        S21_mag_log_2D.shape = (S21_mag_log.size, 1)\n",
    "        S21_phase_2D = S21_phase\n",
    "        S21_phase_2D.shape = (S21_phase.size, 1)\n",
    "    else:\n",
    "        S21_mag_log_2D = np.column_stack((S21_mag_log_2D, S21_mag_log))\n",
    "        S21_phase_2D = np.column_stack((S21_phase_2D, S21_phase))\n",
    "     \n",
    "    # plot update\n",
    "    extent = [startVolt, volt, startFreq, endFreq]\n",
    "    plotobj.update(S21_mag_log_2D, extent)\n",
    "        \n",
    "    # save data in each iteration\n",
    "#     f_mag = open(dataFileName_mag, 'w') \n",
    "#     f_phase = open(dataFileName_phase, 'w') \n",
    "#     np.savetxt(f_mag, S21_mag_log_2D, fmt='%.9g', delimiter='\\t') \n",
    "#     np.savetxt(f_phase, S21_phase_2D, fmt='%.9g', delimiter='\\t')\n",
    "#     f_mag.close()\n",
    "#     f_phase.close()\n",
    "    \n",
    "############## sweep end #########################    \n",
    "# save at the end\n",
    "f_mag = open(dataFileName_mag, 'wb') \n",
    "f_phase = open(dataFileName_phase, 'wb') \n",
    "np.savetxt(f_mag, S21_mag_log_2D, fmt='%.9g', delimiter='\\t') \n",
    "np.savetxt(f_phase, S21_phase_2D, fmt='%.9g', delimiter='\\t')\n",
    "f_mag.close()\n",
    "f_phase.close()\n",
    "\n",
    "# Post measurement   \n",
    "del S21_mag_log_2D, S21_phase_2D\n",
    "pna.pwrOff()\n",
    "sim_glb.setVoltage(Vglb_endV)\n",
    "sim_chip.setVoltage(Vchip_endV)\n",
    "print('Measurement done!!!')"
   ]
  },
  {
   "cell_type": "code",
   "execution_count": 12,
   "metadata": {
    "collapsed": false
   },
   "outputs": [
    {
     "data": {
      "text/plain": [
       "6760000000.0"
      ]
     },
     "execution_count": 12,
     "metadata": {},
     "output_type": "execute_result"
    }
   ],
   "source": [
    "extent[2]"
   ]
  },
  {
   "cell_type": "markdown",
   "metadata": {},
   "source": [
    "## S21 vs Freq vs Flux, 3D"
   ]
  },
  {
   "cell_type": "code",
   "execution_count": 6,
   "metadata": {
    "collapsed": false
   },
   "outputs": [
    {
     "name": "stdout",
     "output_type": "stream",
     "text": [
      "Vglb_offset=0.7\n",
      "startV=-20 V, endV=20 V, current volt=20 V\n",
      "Measurement done!!!\n",
      "Wall time: 8h 42min 17s\n"
     ]
    }
   ],
   "source": [
    "%%time\n",
    "###########################################################################\n",
    "# set up parameters\n",
    "startFreq, endFreq = 6.77e9, 6.81e9 # 6.935e9, 6.9450e9 #6.7949e9 , 6.9676e9 #6.83e9, 6.894e9#6.856e9, 7.015e9 #6.85e9, 7.05e9\n",
    "power = -60\n",
    "numPoints, IFbandwidth, avg = 801, 1000, 1\n",
    "startVolt, endVolt, stepVolt = -20, 20, 0.2 #-5, 5, 0.05 #  #-15, 15, 0.4#-20, 20, 0.5 #-1, 1.5, 0.04\n",
    "endV = 0  # end voltage for both global and onchip flux\n",
    "startVolt1, endVolt1, stepVolt1 =-5.3, 0.7, 0.05\n",
    "\n",
    "slop, Vglb_offset = -0.0659, -0.5  # Vglb = slope * Vchip + Vglb_offset. Vglb_offset is the y-intercept in Vchip(x-axxis) vs Vglb (y) axis.\n",
    "\n",
    "#save_path = 'Z:\\User\\JJ\\SFQ2\\C6'\n",
    "save_path = 'Z:\\User\\Jaseung\\projects\\CSFQ\\measurement\\W3\\B7\\BlueFors\\Jan2017\\S21vsFreqvsV\\AlongNormVchipAxis'\n",
    "surfix = 'Q1_VchipAxis'\n",
    "commentStr= 'slope={:.3g}, Vglb_offset={:.3g}'.format(slope, Vglb_offset)\n",
    "\n",
    "############################################################################\n",
    "\n",
    "# dictionary for parameters to be saved in json file. Solely for log.\n",
    "xID, xStart, xEnd, xStep = 'Volt (V)', startVolt, endVolt, stepVolt\n",
    "yID, yStart, yEnd, yStep = 'Frequency (Hz)',startFreq, endFreq, (endFreq-startFreq)/(numPoints-1)\n",
    "zID, zStart, zEnd, zStep = 'Volt (V)', startVolt1, endVolt1, stepVolt1\n",
    "para = dict([('xID', xID), ('xStart', xStart), ('xEnd', xEnd)\n",
    "             , ('yID', yID), ('yStart', yStart), ('yEnd', yEnd)\n",
    "             ,('zID', zID), ('zStart', zStart), ('zEnd', zEnd), ('Power (dBm)', power)\n",
    "             , ('numPoints',numPoints), ('IFbandwidth (Hz)', IFbandwidth) \n",
    "             , ('avg',avg), ('comment', commentStr)])\n",
    "\n",
    "# log file setup\n",
    "FAA = float(lsci.tempGet('B')) # get temperature\n",
    "baseStr = 'S21vsFvsV_fr{:.9g}_{:.9g}_Pr{:.4g}_V{}_{}_{}_T{:.4g}_{}'\n",
    "baseFileName = baseStr.format(startFreq/1e9, endFreq/1e9, power, startVolt, endVolt, stepVolt, FAA, surfix)\n",
    "logFileName =  os.path.join(save_path, baseFileName + '.json')\n",
    "with open(logFileName, 'w') as f:\n",
    "    json.dump(para,f,indent=4, sort_keys=True)\n",
    "\n",
    "# plot setup\n",
    "#plotobj= myplots_py3.plot2D(ylabel = 'Frequency(Hz)', xlabel='Volt (V)', title = 'S21 vs Freq vs Volt')\n",
    "\n",
    "# preconfigure instrument\n",
    "pna.setupMeas()\n",
    "pna.setSweepType('linear')\n",
    "pna.setFreqStartEnd(startFreq, endFreq)\n",
    "pna.setPwr(power)\n",
    "pna.avgCount(avg)\n",
    "pna.numPoints(numPoints)\n",
    "pna.setIF(IFbandwidth)\n",
    "pna.pwrOn()\n",
    "\n",
    "sim_glb.setVoltage(slope * startVolt + Vglb_offset)\n",
    "sim_chip.setVoltage(startVolt)\n",
    "\n",
    "time.sleep(2)\n",
    "\n",
    "################ sweep start ################\n",
    "for Vglb_offset in np.arange(startVolt1, endVolt1+stepVolt1, stepVolt1):\n",
    "    # data initialization\n",
    "    S21_mag_log_2D, S21_phase_2D = np.array([]), np.array([])\n",
    "\n",
    "    #sim_glb.setVoltage(volt_outer)\n",
    "    \n",
    "    for volt_inner in np.arange(startVolt, endVolt + stepVolt, stepVolt): # traverse in [pmin, pmax].\n",
    "        clear_output()\n",
    "        print('Vglb_offset={:.3g}'.format(Vglb_offset))\n",
    "        print('startV={:.3g} V, endV={:.3g} V, current volt={:.3g} V'.format(startVolt, endVolt, volt_inner))\n",
    "\n",
    "        # configure\n",
    "        sim_chip.setVoltage(volt_inner)\n",
    "        sim_glb.setVoltage(slope * volt_inner + Vglb_offset)\n",
    "        time.sleep(0.1)\n",
    "        pna.avgClear()\n",
    "\n",
    "        # fetch data from PNA\n",
    "        freq, S21 = pna.getData(cplx=True) # S21 in linear scale\n",
    "\n",
    "        # S21 conversion\n",
    "        S21_real, S21_imag = np.real(S21), np.imag(S21)\n",
    "        S21_mag, S21_phase = np.sqrt(S21_real**2 + S21_imag**2), np.angle(S21, deg=True) # phase in degree\n",
    "        S21_mag_log = 20.0 * np.log10(S21_mag)    # dB\n",
    "\n",
    "        if S21_mag_log_2D.size == 0: # when S21_mag_2D is empty\n",
    "            S21_mag_log_2D = S21_mag_log\n",
    "            S21_mag_log_2D.shape = (S21_mag_log.size, 1)\n",
    "            S21_phase_2D = S21_phase\n",
    "            S21_phase_2D.shape = (S21_phase.size, 1)\n",
    "        else:\n",
    "            S21_mag_log_2D = np.column_stack((S21_mag_log_2D, S21_mag_log))\n",
    "            S21_phase_2D = np.column_stack((S21_phase_2D, S21_phase))\n",
    "\n",
    "        # plot update\n",
    "        #extent = [startVolt, volt, startFreq, endFreq]\n",
    "        #plotobj.update(S21_mag_log_2D, extent)\n",
    "     \n",
    "    sim_chip.setVoltage(endV)\n",
    "    time.sleep(3)\n",
    "     \n",
    "    # save at the end of inner loop\n",
    "    fileIdStr = '_Vglb_offset={:.3g}'.format(Vglb_offset)\n",
    "    dataFileName_mag, dataFileName_phase  = (os.path.join(save_path, baseFileName + fileIdStr + '_mag.dat'), \n",
    "                                             os.path.join(save_path, baseFileName + fileIdStr + '_phase.dat'))\n",
    "    f_mag = open(dataFileName_mag, 'w') \n",
    "    f_phase = open(dataFileName_phase, 'w') \n",
    "    np.savetxt(f_mag, S21_mag_log_2D, fmt='%.9g', delimiter='\\t') \n",
    "    np.savetxt(f_phase, S21_phase_2D, fmt='%.9g', delimiter='\\t')\n",
    "    f_mag.close()\n",
    "    f_phase.close()\n",
    "############## sweep end #########################    \n",
    "\n",
    "# Post measurement   \n",
    "del S21_mag_log_2D, S21_phase_2D\n",
    "pna.pwrOff()\n",
    "sim_glb.setVoltage(endV)\n",
    "sim_chip.setVoltage(endV)\n",
    "print('Measurement done!!!')"
   ]
  },
  {
   "cell_type": "markdown",
   "metadata": {},
   "source": [
    "# S21 vs flux1 vs flux2, 2D"
   ]
  },
  {
   "cell_type": "code",
   "execution_count": 27,
   "metadata": {
    "collapsed": false
   },
   "outputs": [
    {
     "name": "stdout",
     "output_type": "stream",
     "text": [
      "Once deleted, variables cannot be recovered. Proceed (y/[n])? y\n"
     ]
    }
   ],
   "source": [
    "%reset"
   ]
  },
  {
   "cell_type": "code",
   "execution_count": 13,
   "metadata": {
    "collapsed": false
   },
   "outputs": [],
   "source": [
    "import sys\n",
    "for i in dir():\n",
    "    try:\n",
    "        print (i, eval(i).nbytes )\n",
    "    except:\n",
    "        print (i, sys.getsizeof(eval(i)) )\n",
    "\n",
    "clear_output()"
   ]
  },
  {
   "cell_type": "code",
   "execution_count": 52,
   "metadata": {
    "collapsed": false
   },
   "outputs": [
    {
     "data": {
      "text/plain": [
       "<module 'SIM' from 'Z:\\\\User\\\\Jaseung\\\\programs\\\\pythonCode\\\\PNA\\\\SIM.py'>"
      ]
     },
     "execution_count": 52,
     "metadata": {},
     "output_type": "execute_result"
    }
   ],
   "source": [
    "reload(SIM)"
   ]
  },
  {
   "cell_type": "code",
   "execution_count": 22,
   "metadata": {
    "collapsed": false
   },
   "outputs": [
    {
     "name": "stdout",
     "output_type": "stream",
     "text": [
      "Wall time: 0 ns\n"
     ]
    }
   ],
   "source": [
    "%%time\n",
    "def s21vsV1vsV2(readoutFreq):\n",
    "    ##############################################################################\n",
    "    # set up parameters\n",
    "    readoutPwr = -50\n",
    "    #readoutFreq = 6.7736e9 #6.7696e9 #6.7645e9\n",
    "    numPoints, IFbandwidth, avg = 50, 500, 1\n",
    "    startVolt1, endVolt1, stepVolt1 =-2, 2, 0.025#-10, 10, 0.2 #-10, 10, 0.05 #-1.2, 1, 0.025 # outer for-loop\n",
    "    startVolt2, endVolt2, stepVolt2 =-20, 20, 0.25 #-20, 20, 0.5 #-20, 20, 0.5 # y axis. Inner for-loop.\n",
    "    endVolt = 0\n",
    "\n",
    "    surfix = 'Q6_V2=onchip'\n",
    "    save_path = r'Z:\\User\\Jaseung\\projects\\CSFQ\\measurement\\W4\\B5\\BlueFors\\S21vsV1vsV2'\n",
    "    commentStr='with no spec setup'\n",
    "    ##############################################################################\n",
    "\n",
    "    xID, xStart, xEnd, xStep = 'Volt1 (V)', startVolt1, endVolt1, stepVolt1\n",
    "    yID, yStart, yEnd, yStep = 'Volt2 (V)', startVolt2, endVolt2, stepVolt2\n",
    "    para = dict([('xID', xID), ('xStart', xStart), ('xEnd', xEnd)\n",
    "                 , ('yID', yID), ('yStart', yStart), ('yEnd', yEnd)\n",
    "                 , ('readoutFreq (Hz)',readoutFreq),('power (dBm)',readoutPwr)\n",
    "                 , ('numPoints',numPoints), ('IFbandwidth (Hz)', IFbandwidth) \n",
    "                 , ('avg',avg), ('comment', commentStr)])\n",
    "\n",
    "    # file setup\n",
    "    baseStr = 'S21vsV1vsV2_fr{:.9g}_Pr{:.4g}_V1_{}_{}_{}_V2_{}_{}_{}_{}'\n",
    "    baseFileName = baseStr.format(readoutFreq/1e9, readoutPwr, startVolt1, endVolt1, stepVolt1, startVolt2, endVolt2, stepVolt2,surfix)\n",
    "    dataFileName1  = os.path.join(save_path, baseFileName + '_mag.dat')\n",
    "    dataFileName2  = os.path.join(save_path, baseFileName + '_phase.dat')\n",
    "    logFileName =  os.path.join(save_path, baseFileName + '.json')\n",
    "    with open(logFileName, 'w') as f_log:\n",
    "        json.dump(para, f_log, indent=4, sort_keys=True)\n",
    "\n",
    "    # plot setup\n",
    "    plotobj= myplots_py3.plot2D_4sub(xlabel1 = 'Voltage2 (V)', ylabel1='S21 (dB)', \n",
    "                                 xlabel2 = 'Voltage2 (V)', ylabel2='Phase(degree)',\n",
    "                                 xlabel3 = 'Voltage, Vglb (V)', ylabel3='Voltage, Vchip (V)',\n",
    "                                 xlabel4 = 'Voltage, Vglb (V)', ylabel4='Voltage, Vchip (V)',\n",
    "                                 title = 'S21 vs Global Flux vs Gradiometric Flux', figsize=(12,8))\n",
    "\n",
    "    # preconfigure instrument\n",
    "    pna.setupMeas()\n",
    "    pna.setSweepType(mode='CW')\n",
    "    pna.setCWFreq(readoutFreq)\n",
    "    pna.setPwr(readoutPwr)\n",
    "    pna.avgCount(avg)\n",
    "    pna.numPoints(numPoints)\n",
    "    pna.setIF(IFbandwidth)\n",
    "    pna.pwrOn()\n",
    "\n",
    "    sim_glb.setVoltage(startVolt1)\n",
    "    time.sleep(2)\n",
    "    sim_chip.setVoltage(startVolt2)\n",
    "    time.sleep(2)\n",
    "\n",
    "    # data initialization\n",
    "    data1_2D, data2_2D = np.array([]), np.array([])\n",
    "\n",
    "    ################ sweep start ################\n",
    "    #for specFreq in arange(startFreq, endFreq + stepFreq, stepFreq): # traverse in [pmin, pmax].\n",
    "    for volt1 in np.around(np.arange(startVolt1, endVolt1 + stepVolt1, stepVolt1), decimals=3) :\n",
    "        #configure para\n",
    "        sim_glb.setVoltage(volt1)\n",
    "        clear_output()\n",
    "        print('startVolt1={:.3g}, endtvolt1={:.3g}'.format(startVolt1, endVolt1))\n",
    "        print('curren volt1={:.3g}'.format(volt1))\n",
    "\n",
    "        # data initialization\n",
    "        xdata1, ydata1, ydata2 = np.array([]), np.array([]), np.array([])\n",
    "\n",
    "        for volt2 in np.around(np.arange(startVolt2, endVolt2 + stepVolt2, stepVolt2), decimals=3):\n",
    "    #         clear_output()\n",
    "    #         print('startVolt1={:.3g}, endtvolt1={:.3g}'.format(startVolt1, endVolt1))\n",
    "    #         print('startVolt2={:.3g}, endtvolt2={:.3g}'.format(startVolt2, endVolt2))\n",
    "    #         print('volt1={:.3g}, volt2={:.3g}'.format(volt1, volt2)) \n",
    "\n",
    "            # configure\n",
    "            pna.avgClear()\n",
    "            sim_chip.setVoltage(volt2)\n",
    "\n",
    "            # fetch data from PNA\n",
    "            freq, S21= pna.getData(cplx=True) # S21 in linear scale\n",
    "\n",
    "            # S21 conversion\n",
    "            S21_real, S21_imag = np.real(S21), np.imag(S21)\n",
    "            S21_mag, S21_phase = np.sqrt(S21_real**2 + S21_imag**2), np.angle(S21, deg=True) # phase in degree\n",
    "            S21_mag_log = 20.0 * np.log10(S21_mag)    # dB\n",
    "\n",
    "            S21_mag_log_avg = np.average(S21_mag_log) \n",
    "            S21_phase_avg = np.average(S21_phase)\n",
    "\n",
    "            xdata1 = np.append(xdata1, volt2)\n",
    "            ydata1 = np.append(ydata1, S21_mag_log_avg)\n",
    "            ydata2 = np.append(ydata2, S21_phase_avg)\n",
    "\n",
    "            # plot and update\n",
    "            plotobj.update1D(xdata1, ydata1, xdata1, ydata2)\n",
    "\n",
    "\n",
    "        if data1_2D.size == 0: # when S21_mag_2D is empty\n",
    "            data1_2D = ydata1 # make 2D array\n",
    "            data1_2D.shape = (data1_2D.size, 1)\n",
    "            data2_2D = ydata2\n",
    "            data2_2D.shape = (data2_2D.size, 1)\n",
    "\n",
    "        else:\n",
    "            data1_2D = np.column_stack((data1_2D, ydata1))\n",
    "            data2_2D = np.column_stack((data2_2D, ydata2))\n",
    "\n",
    "        # plot and update\n",
    "        extent = [startVolt1, volt1, startVolt2, endVolt2]\n",
    "        plotobj.update2D(data1_2D, data2_2D, extent, cmap='Blues_r')\n",
    "\n",
    "        # save data in each iteration\n",
    "        f_mag = open(dataFileName1, 'wb') \n",
    "        f_phase = open(dataFileName2, 'wb') \n",
    "        np.savetxt(f_mag, data1_2D, fmt='%.9g', delimiter='\\t') \n",
    "        np.savetxt(f_phase, data2_2D, fmt='%.9g', delimiter='\\t')\n",
    "        f_mag.close()\n",
    "        f_phase.close()\n",
    "\n",
    "    ############## sweep end #########################    \n",
    "\n",
    "    # Post measurement    \n",
    "    pna.pwrOff()\n",
    "    pna.setSweepType(mode='linear')\n",
    "    del data1_2D, data2_2D\n",
    "    sim_glb.setVoltage(endVolt)\n",
    "    sim_chip.setVoltage(endVolt)\n",
    "    f_log.close()\n",
    "    print('Measurement done!!!')"
   ]
  },
  {
   "cell_type": "code",
   "execution_count": 23,
   "metadata": {
    "collapsed": false
   },
   "outputs": [
    {
     "name": "stdout",
     "output_type": "stream",
     "text": [
      "startVolt1=-2, endtvolt1=2\n",
      "curren volt1=0.15\n"
     ]
    },
    {
     "ename": "KeyboardInterrupt",
     "evalue": "",
     "output_type": "error",
     "traceback": [
      "\u001b[0;31m---------------------------------------------------------------------------\u001b[0m",
      "\u001b[0;31mKeyboardInterrupt\u001b[0m                         Traceback (most recent call last)",
      "\u001b[0;32m<ipython-input-23-3e53bfb951ce>\u001b[0m in \u001b[0;36m<module>\u001b[0;34m()\u001b[0m\n\u001b[0;32m----> 1\u001b[0;31m \u001b[0mget_ipython\u001b[0m\u001b[1;33m(\u001b[0m\u001b[1;33m)\u001b[0m\u001b[1;33m.\u001b[0m\u001b[0mrun_cell_magic\u001b[0m\u001b[1;33m(\u001b[0m\u001b[1;34m'time'\u001b[0m\u001b[1;33m,\u001b[0m \u001b[1;34m''\u001b[0m\u001b[1;33m,\u001b[0m \u001b[1;34m'for cavFreq in np.linspace(6.9975e9, 7.0098e9,6):\\n    s21vsV1vsV2(cavFreq)\\n#s21vsV1vsV2(6.9975e9)\\n#s21vsV1vsV2(7.0033e9)\\n#s21vsV1vsV2(7.0098e9)'\u001b[0m\u001b[1;33m)\u001b[0m\u001b[1;33m\u001b[0m\u001b[0m\n\u001b[0m",
      "\u001b[0;32mC:\\Program Files\\Anaconda3\\lib\\site-packages\\IPython\\core\\interactiveshell.py\u001b[0m in \u001b[0;36mrun_cell_magic\u001b[0;34m(self, magic_name, line, cell)\u001b[0m\n\u001b[1;32m   2113\u001b[0m             \u001b[0mmagic_arg_s\u001b[0m \u001b[1;33m=\u001b[0m \u001b[0mself\u001b[0m\u001b[1;33m.\u001b[0m\u001b[0mvar_expand\u001b[0m\u001b[1;33m(\u001b[0m\u001b[0mline\u001b[0m\u001b[1;33m,\u001b[0m \u001b[0mstack_depth\u001b[0m\u001b[1;33m)\u001b[0m\u001b[1;33m\u001b[0m\u001b[0m\n\u001b[1;32m   2114\u001b[0m             \u001b[1;32mwith\u001b[0m \u001b[0mself\u001b[0m\u001b[1;33m.\u001b[0m\u001b[0mbuiltin_trap\u001b[0m\u001b[1;33m:\u001b[0m\u001b[1;33m\u001b[0m\u001b[0m\n\u001b[0;32m-> 2115\u001b[0;31m                 \u001b[0mresult\u001b[0m \u001b[1;33m=\u001b[0m \u001b[0mfn\u001b[0m\u001b[1;33m(\u001b[0m\u001b[0mmagic_arg_s\u001b[0m\u001b[1;33m,\u001b[0m \u001b[0mcell\u001b[0m\u001b[1;33m)\u001b[0m\u001b[1;33m\u001b[0m\u001b[0m\n\u001b[0m\u001b[1;32m   2116\u001b[0m             \u001b[1;32mreturn\u001b[0m \u001b[0mresult\u001b[0m\u001b[1;33m\u001b[0m\u001b[0m\n\u001b[1;32m   2117\u001b[0m \u001b[1;33m\u001b[0m\u001b[0m\n",
      "\u001b[0;32m<decorator-gen-60>\u001b[0m in \u001b[0;36mtime\u001b[0;34m(self, line, cell, local_ns)\u001b[0m\n",
      "\u001b[0;32mC:\\Program Files\\Anaconda3\\lib\\site-packages\\IPython\\core\\magic.py\u001b[0m in \u001b[0;36m<lambda>\u001b[0;34m(f, *a, **k)\u001b[0m\n\u001b[1;32m    186\u001b[0m     \u001b[1;31m# but it's overkill for just that one bit of state.\u001b[0m\u001b[1;33m\u001b[0m\u001b[1;33m\u001b[0m\u001b[0m\n\u001b[1;32m    187\u001b[0m     \u001b[1;32mdef\u001b[0m \u001b[0mmagic_deco\u001b[0m\u001b[1;33m(\u001b[0m\u001b[0marg\u001b[0m\u001b[1;33m)\u001b[0m\u001b[1;33m:\u001b[0m\u001b[1;33m\u001b[0m\u001b[0m\n\u001b[0;32m--> 188\u001b[0;31m         \u001b[0mcall\u001b[0m \u001b[1;33m=\u001b[0m \u001b[1;32mlambda\u001b[0m \u001b[0mf\u001b[0m\u001b[1;33m,\u001b[0m \u001b[1;33m*\u001b[0m\u001b[0ma\u001b[0m\u001b[1;33m,\u001b[0m \u001b[1;33m**\u001b[0m\u001b[0mk\u001b[0m\u001b[1;33m:\u001b[0m \u001b[0mf\u001b[0m\u001b[1;33m(\u001b[0m\u001b[1;33m*\u001b[0m\u001b[0ma\u001b[0m\u001b[1;33m,\u001b[0m \u001b[1;33m**\u001b[0m\u001b[0mk\u001b[0m\u001b[1;33m)\u001b[0m\u001b[1;33m\u001b[0m\u001b[0m\n\u001b[0m\u001b[1;32m    189\u001b[0m \u001b[1;33m\u001b[0m\u001b[0m\n\u001b[1;32m    190\u001b[0m         \u001b[1;32mif\u001b[0m \u001b[0mcallable\u001b[0m\u001b[1;33m(\u001b[0m\u001b[0marg\u001b[0m\u001b[1;33m)\u001b[0m\u001b[1;33m:\u001b[0m\u001b[1;33m\u001b[0m\u001b[0m\n",
      "\u001b[0;32mC:\\Program Files\\Anaconda3\\lib\\site-packages\\IPython\\core\\magics\\execution.py\u001b[0m in \u001b[0;36mtime\u001b[0;34m(self, line, cell, local_ns)\u001b[0m\n\u001b[1;32m   1178\u001b[0m         \u001b[1;32melse\u001b[0m\u001b[1;33m:\u001b[0m\u001b[1;33m\u001b[0m\u001b[0m\n\u001b[1;32m   1179\u001b[0m             \u001b[0mst\u001b[0m \u001b[1;33m=\u001b[0m \u001b[0mclock2\u001b[0m\u001b[1;33m(\u001b[0m\u001b[1;33m)\u001b[0m\u001b[1;33m\u001b[0m\u001b[0m\n\u001b[0;32m-> 1180\u001b[0;31m             \u001b[0mexec\u001b[0m\u001b[1;33m(\u001b[0m\u001b[0mcode\u001b[0m\u001b[1;33m,\u001b[0m \u001b[0mglob\u001b[0m\u001b[1;33m,\u001b[0m \u001b[0mlocal_ns\u001b[0m\u001b[1;33m)\u001b[0m\u001b[1;33m\u001b[0m\u001b[0m\n\u001b[0m\u001b[1;32m   1181\u001b[0m             \u001b[0mend\u001b[0m \u001b[1;33m=\u001b[0m \u001b[0mclock2\u001b[0m\u001b[1;33m(\u001b[0m\u001b[1;33m)\u001b[0m\u001b[1;33m\u001b[0m\u001b[0m\n\u001b[1;32m   1182\u001b[0m             \u001b[0mout\u001b[0m \u001b[1;33m=\u001b[0m \u001b[1;32mNone\u001b[0m\u001b[1;33m\u001b[0m\u001b[0m\n",
      "\u001b[0;32m<timed exec>\u001b[0m in \u001b[0;36m<module>\u001b[0;34m()\u001b[0m\n",
      "\u001b[0;32m<timed exec>\u001b[0m in \u001b[0;36ms21vsV1vsV2\u001b[0;34m(readoutFreq)\u001b[0m\n",
      "\u001b[0;32mZ:\\User\\Jaseung\\programs\\pythonCode\\PNA\\AgilentN5230A.py\u001b[0m in \u001b[0;36mgetData\u001b[0;34m(self, cplx)\u001b[0m\n\u001b[1;32m    139\u001b[0m \u001b[1;33m\u001b[0m\u001b[0m\n\u001b[1;32m    140\u001b[0m         \u001b[1;32mif\u001b[0m \u001b[0mcplx\u001b[0m\u001b[1;33m:\u001b[0m\u001b[1;33m\u001b[0m\u001b[0m\n\u001b[0;32m--> 141\u001b[0;31m             \u001b[0mans\u001b[0m \u001b[1;33m=\u001b[0m \u001b[0mself\u001b[0m\u001b[1;33m.\u001b[0m\u001b[0minstr\u001b[0m\u001b[1;33m.\u001b[0m\u001b[0mask\u001b[0m\u001b[1;33m(\u001b[0m\u001b[1;34m\"Calculate:Data? SDATA\"\u001b[0m\u001b[1;33m)\u001b[0m\u001b[1;33m\u001b[0m\u001b[0m\n\u001b[0m\u001b[1;32m    142\u001b[0m             \u001b[0mreal\u001b[0m \u001b[1;33m=\u001b[0m \u001b[1;33m[\u001b[0m\u001b[1;33m]\u001b[0m\u001b[1;33m\u001b[0m\u001b[0m\n\u001b[1;32m    143\u001b[0m             \u001b[0mimag\u001b[0m \u001b[1;33m=\u001b[0m \u001b[1;33m[\u001b[0m\u001b[1;33m]\u001b[0m\u001b[1;33m\u001b[0m\u001b[0m\n",
      "\u001b[0;32mC:\\Program Files\\Anaconda3\\lib\\site-packages\\pyvisa\\resources\\messagebased.py\u001b[0m in \u001b[0;36mquery\u001b[0;34m(self, message, delay)\u001b[0m\n\u001b[1;32m    405\u001b[0m         \u001b[1;32mif\u001b[0m \u001b[0mdelay\u001b[0m \u001b[1;33m>\u001b[0m \u001b[1;36m0.0\u001b[0m\u001b[1;33m:\u001b[0m\u001b[1;33m\u001b[0m\u001b[0m\n\u001b[1;32m    406\u001b[0m             \u001b[0mtime\u001b[0m\u001b[1;33m.\u001b[0m\u001b[0msleep\u001b[0m\u001b[1;33m(\u001b[0m\u001b[0mdelay\u001b[0m\u001b[1;33m)\u001b[0m\u001b[1;33m\u001b[0m\u001b[0m\n\u001b[0;32m--> 407\u001b[0;31m         \u001b[1;32mreturn\u001b[0m \u001b[0mself\u001b[0m\u001b[1;33m.\u001b[0m\u001b[0mread\u001b[0m\u001b[1;33m(\u001b[0m\u001b[1;33m)\u001b[0m\u001b[1;33m\u001b[0m\u001b[0m\n\u001b[0m\u001b[1;32m    408\u001b[0m \u001b[1;33m\u001b[0m\u001b[0m\n\u001b[1;32m    409\u001b[0m     \u001b[1;31m# Kept for backwards compatibility.\u001b[0m\u001b[1;33m\u001b[0m\u001b[1;33m\u001b[0m\u001b[0m\n",
      "\u001b[0;32mC:\\Program Files\\Anaconda3\\lib\\site-packages\\pyvisa\\resources\\messagebased.py\u001b[0m in \u001b[0;36mread\u001b[0;34m(self, termination, encoding)\u001b[0m\n\u001b[1;32m    330\u001b[0m         \u001b[1;32mif\u001b[0m \u001b[0mtermination\u001b[0m \u001b[1;32mis\u001b[0m \u001b[1;32mNone\u001b[0m\u001b[1;33m:\u001b[0m\u001b[1;33m\u001b[0m\u001b[0m\n\u001b[1;32m    331\u001b[0m             \u001b[0mtermination\u001b[0m \u001b[1;33m=\u001b[0m \u001b[0mself\u001b[0m\u001b[1;33m.\u001b[0m\u001b[0m_read_termination\u001b[0m\u001b[1;33m\u001b[0m\u001b[0m\n\u001b[0;32m--> 332\u001b[0;31m             \u001b[0mmessage\u001b[0m \u001b[1;33m=\u001b[0m \u001b[0mself\u001b[0m\u001b[1;33m.\u001b[0m\u001b[0mread_raw\u001b[0m\u001b[1;33m(\u001b[0m\u001b[1;33m)\u001b[0m\u001b[1;33m.\u001b[0m\u001b[0mdecode\u001b[0m\u001b[1;33m(\u001b[0m\u001b[0menco\u001b[0m\u001b[1;33m)\u001b[0m\u001b[1;33m\u001b[0m\u001b[0m\n\u001b[0m\u001b[1;32m    333\u001b[0m         \u001b[1;32melse\u001b[0m\u001b[1;33m:\u001b[0m\u001b[1;33m\u001b[0m\u001b[0m\n\u001b[1;32m    334\u001b[0m             \u001b[1;32mwith\u001b[0m \u001b[0mself\u001b[0m\u001b[1;33m.\u001b[0m\u001b[0mread_termination_context\u001b[0m\u001b[1;33m(\u001b[0m\u001b[0mtermination\u001b[0m\u001b[1;33m)\u001b[0m\u001b[1;33m:\u001b[0m\u001b[1;33m\u001b[0m\u001b[0m\n",
      "\u001b[0;32mC:\\Program Files\\Anaconda3\\lib\\site-packages\\pyvisa\\resources\\messagebased.py\u001b[0m in \u001b[0;36mread_raw\u001b[0;34m(self, size)\u001b[0m\n\u001b[1;32m    304\u001b[0m                     logger.debug('%s - reading %d bytes (last status %r)',\n\u001b[1;32m    305\u001b[0m                                  self._resource_name, size, status)\n\u001b[0;32m--> 306\u001b[0;31m                     \u001b[0mchunk\u001b[0m\u001b[1;33m,\u001b[0m \u001b[0mstatus\u001b[0m \u001b[1;33m=\u001b[0m \u001b[0mself\u001b[0m\u001b[1;33m.\u001b[0m\u001b[0mvisalib\u001b[0m\u001b[1;33m.\u001b[0m\u001b[0mread\u001b[0m\u001b[1;33m(\u001b[0m\u001b[0mself\u001b[0m\u001b[1;33m.\u001b[0m\u001b[0msession\u001b[0m\u001b[1;33m,\u001b[0m \u001b[0msize\u001b[0m\u001b[1;33m)\u001b[0m\u001b[1;33m\u001b[0m\u001b[0m\n\u001b[0m\u001b[1;32m    307\u001b[0m                     \u001b[0mret\u001b[0m \u001b[1;33m+=\u001b[0m \u001b[0mchunk\u001b[0m\u001b[1;33m\u001b[0m\u001b[0m\n\u001b[1;32m    308\u001b[0m             \u001b[1;32mexcept\u001b[0m \u001b[0merrors\u001b[0m\u001b[1;33m.\u001b[0m\u001b[0mVisaIOError\u001b[0m \u001b[1;32mas\u001b[0m \u001b[0me\u001b[0m\u001b[1;33m:\u001b[0m\u001b[1;33m\u001b[0m\u001b[0m\n",
      "\u001b[0;32mC:\\Program Files\\Anaconda3\\lib\\site-packages\\pyvisa\\ctwrapper\\functions.py\u001b[0m in \u001b[0;36mread\u001b[0;34m(library, session, count)\u001b[0m\n\u001b[1;32m   1580\u001b[0m     \u001b[0mbuffer\u001b[0m \u001b[1;33m=\u001b[0m \u001b[0mcreate_string_buffer\u001b[0m\u001b[1;33m(\u001b[0m\u001b[0mcount\u001b[0m\u001b[1;33m)\u001b[0m\u001b[1;33m\u001b[0m\u001b[0m\n\u001b[1;32m   1581\u001b[0m     \u001b[0mreturn_count\u001b[0m \u001b[1;33m=\u001b[0m \u001b[0mViUInt32\u001b[0m\u001b[1;33m(\u001b[0m\u001b[1;33m)\u001b[0m\u001b[1;33m\u001b[0m\u001b[0m\n\u001b[0;32m-> 1582\u001b[0;31m     \u001b[0mret\u001b[0m \u001b[1;33m=\u001b[0m \u001b[0mlibrary\u001b[0m\u001b[1;33m.\u001b[0m\u001b[0mviRead\u001b[0m\u001b[1;33m(\u001b[0m\u001b[0msession\u001b[0m\u001b[1;33m,\u001b[0m \u001b[0mbuffer\u001b[0m\u001b[1;33m,\u001b[0m \u001b[0mcount\u001b[0m\u001b[1;33m,\u001b[0m \u001b[0mbyref\u001b[0m\u001b[1;33m(\u001b[0m\u001b[0mreturn_count\u001b[0m\u001b[1;33m)\u001b[0m\u001b[1;33m)\u001b[0m\u001b[1;33m\u001b[0m\u001b[0m\n\u001b[0m\u001b[1;32m   1583\u001b[0m     \u001b[1;32mreturn\u001b[0m \u001b[0mbuffer\u001b[0m\u001b[1;33m.\u001b[0m\u001b[0mraw\u001b[0m\u001b[1;33m[\u001b[0m\u001b[1;33m:\u001b[0m\u001b[0mreturn_count\u001b[0m\u001b[1;33m.\u001b[0m\u001b[0mvalue\u001b[0m\u001b[1;33m]\u001b[0m\u001b[1;33m,\u001b[0m \u001b[0mret\u001b[0m\u001b[1;33m\u001b[0m\u001b[0m\n\u001b[1;32m   1584\u001b[0m \u001b[1;33m\u001b[0m\u001b[0m\n",
      "\u001b[0;32mC:\\Program Files\\Anaconda3\\lib\\site-packages\\pyvisa\\ctwrapper\\highlevel.py\u001b[0m in \u001b[0;36m_return_handler\u001b[0;34m(self, ret_value, func, arguments)\u001b[0m\n\u001b[1;32m    147\u001b[0m             \u001b[0msetattr\u001b[0m\u001b[1;33m(\u001b[0m\u001b[0mself\u001b[0m\u001b[1;33m,\u001b[0m \u001b[0mmethod_name\u001b[0m\u001b[1;33m,\u001b[0m \u001b[0mgetattr\u001b[0m\u001b[1;33m(\u001b[0m\u001b[0mself\u001b[0m\u001b[1;33m.\u001b[0m\u001b[0mlib\u001b[0m\u001b[1;33m,\u001b[0m \u001b[0mmethod_name\u001b[0m\u001b[1;33m)\u001b[0m\u001b[1;33m)\u001b[0m\u001b[1;33m\u001b[0m\u001b[0m\n\u001b[1;32m    148\u001b[0m \u001b[1;33m\u001b[0m\u001b[0m\n\u001b[0;32m--> 149\u001b[0;31m     \u001b[1;32mdef\u001b[0m \u001b[0m_return_handler\u001b[0m\u001b[1;33m(\u001b[0m\u001b[0mself\u001b[0m\u001b[1;33m,\u001b[0m \u001b[0mret_value\u001b[0m\u001b[1;33m,\u001b[0m \u001b[0mfunc\u001b[0m\u001b[1;33m,\u001b[0m \u001b[0marguments\u001b[0m\u001b[1;33m)\u001b[0m\u001b[1;33m:\u001b[0m\u001b[1;33m\u001b[0m\u001b[0m\n\u001b[0m\u001b[1;32m    150\u001b[0m         \"\"\"Check return values for errors and warnings.\n\u001b[1;32m    151\u001b[0m         \"\"\"\n",
      "\u001b[0;31mKeyboardInterrupt\u001b[0m: "
     ]
    }
   ],
   "source": [
    "%%time\n",
    "for cavFreq in np.linspace(6.9975e9, 7.0098e9,6):\n",
    "    print('readout freq={:.6g}'.format(cavFreq))\n",
    "    s21vsV1vsV2(cavFreq)\n",
    "#s21vsV1vsV2(6.9975e9)\n",
    "#s21vsV1vsV2(7.0033e9)\n",
    "#s21vsV1vsV2(7.0098e9)\n"
   ]
  },
  {
   "cell_type": "code",
   "execution_count": 15,
   "metadata": {
    "collapsed": false
   },
   "outputs": [
    {
     "data": {
      "text/plain": [
       "array([  6.76690000e+09,   6.77206000e+09,   6.77722000e+09,\n",
       "         6.78238000e+09,   6.78754000e+09,   6.79270000e+09])"
      ]
     },
     "execution_count": 15,
     "metadata": {},
     "output_type": "execute_result"
    }
   ],
   "source": [
    "np.linspace(6.7669e9, 6.7927e9,6)"
   ]
  },
  {
   "cell_type": "code",
   "execution_count": 65,
   "metadata": {
    "collapsed": false
   },
   "outputs": [
    {
     "ename": "KeyboardInterrupt",
     "evalue": "",
     "output_type": "error",
     "traceback": [
      "\u001b[0;31m---------------------------------------------------------------------------\u001b[0m",
      "\u001b[0;31mKeyboardInterrupt\u001b[0m                         Traceback (most recent call last)",
      "\u001b[0;32m<ipython-input-65-7cfcce5e9e45>\u001b[0m in \u001b[0;36m<module>\u001b[0;34m()\u001b[0m\n\u001b[1;32m     11\u001b[0m     \u001b[1;31m#instr.write('SNDT {}, \"VOLT {}\"'.format(self.channel, value))\u001b[0m\u001b[1;33m\u001b[0m\u001b[1;33m\u001b[0m\u001b[0m\n\u001b[1;32m     12\u001b[0m     \u001b[1;31m#print('volt1={:.3g}'.format(volt1))\u001b[0m\u001b[1;33m\u001b[0m\u001b[1;33m\u001b[0m\u001b[0m\n\u001b[0;32m---> 13\u001b[0;31m     \u001b[0mtime\u001b[0m\u001b[1;33m.\u001b[0m\u001b[0msleep\u001b[0m\u001b[1;33m(\u001b[0m\u001b[1;36m1\u001b[0m\u001b[1;33m)\u001b[0m\u001b[1;33m\u001b[0m\u001b[0m\n\u001b[0m",
      "\u001b[0;31mKeyboardInterrupt\u001b[0m: "
     ]
    }
   ],
   "source": [
    "startVolt1, endVolt1, stepVolt1 =-5, 5, 0.2#-10, 10, 0.2 #-10, 10, 0.05 #-1.2, 1, 0.025 # outer for-loop\n",
    "startVolt2, endVolt2, stepVolt2 =-2, 2, 1 #-20, 20, 0.5 #-20, 20, 0.5 # y axis. Inner for-loop.\n",
    "rm = visa.ResourceManager()\n",
    "#instr = rm.get_instrument('GPIB0::15DDR) + '::INSTR')\n",
    "#vrange=np.arange(startVolt1, endVolt1 + stepVolt1, stepVolt1)\n",
    "#print(vrange)   \n",
    "\n",
    "for volt1 in np.around(np.arange(startVolt1, endVolt1 + stepVolt1, stepVolt1), decimals=3) :\n",
    "    #configure para\n",
    "    sim_chip.setVoltage(volt1)\n",
    "    #instr.write('SNDT {}, \"VOLT {}\"'.format(self.channel, value))\n",
    "    #print('volt1={:.3g}'.format(volt1)) \n",
    "    time.sleep(1)"
   ]
  },
  {
   "cell_type": "code",
   "execution_count": 63,
   "metadata": {
    "collapsed": false
   },
   "outputs": [
    {
     "data": {
      "text/plain": [
       "array([ 3.1236])"
      ]
     },
     "execution_count": 63,
     "metadata": {},
     "output_type": "execute_result"
    }
   ],
   "source": [
    "np.around([3.12356], decimals=4)\n",
    "#print(aa[1], round(aa[1],3))"
   ]
  },
  {
   "cell_type": "markdown",
   "metadata": {},
   "source": [
    "# S21 vs Freq vs Flux (linear comb. of flux1 and flux2), 2D"
   ]
  },
  {
   "cell_type": "code",
   "execution_count": 10,
   "metadata": {
    "collapsed": false
   },
   "outputs": [
    {
     "name": "stdout",
     "output_type": "stream",
     "text": [
      "Wall time: 0 ns\n"
     ]
    }
   ],
   "source": [
    "%%time\n",
    "def s21vsfreqvsfluxcombined(slope, Vglb_offset):\n",
    "    ###########################################################################\n",
    "    # set up parameters\n",
    "    startFreq, endFreq =  6.75e9, 6.78e9 #6.83e9, 6.894e9#6.856e9, 7.015e9 #6.85e9, 7.05e9\n",
    "    power = -50\n",
    "    numPoints, IFbandwidth, avg = 801, 1000, 1\n",
    "    startVolt, endVolt, stepVolt =-15, 15, 0.25#-20, 20, 0.5 #-1, 1.5, 0.04\n",
    "    endV = 0\n",
    "\n",
    "    #slope, Vglb_offset =-1.85/22.5, 2.4 # 0.2107, 0# 2.484#-0.3378, -0.9641# -0.0659, 0.7   # offset means Vglb when Vchip=0\n",
    "\n",
    "    #save_path = 'Z:\\User\\JJ\\sput\\M5_1_spec'\n",
    "    save_path = r'Z:\\User\\Jaseung\\projects\\CSFQ\\measurement\\W4\\B5\\BlueFors\\S21vsFreqvsV'\n",
    "    surfix = 'Q1_xID=Vchip_slope{:.3g}_Vglb_offset{:.3g}'.format(slope, Vglb_offset)\n",
    "    comment= 'slope={:.3g}, Vglb_offset={:.3g}'.format(slope, Vglb_offset)\n",
    "\n",
    "    plottitle = 'S21 vs Freq vs Vchip, slope={:.3g}, Vglb_offset={:.3g}'.format(slope,Vglb_offset)\n",
    "\n",
    "    ############################################################################\n",
    "\n",
    "    # dictionary for parameters to be saved in json file. Solely for log.\n",
    "    xID, xStart, xEnd, xStep = 'Volt (slope, Vglb_offset)', startVolt, endVolt, stepVolt\n",
    "    yID, yStart, yEnd, yStep = 'Frequency (Hz)',startFreq, endFreq, (endFreq-startFreq)/(numPoints-1)\n",
    "    para = dict([('xID', xID), ('xStart', xStart), ('xEnd', xEnd)\n",
    "                 , ('yID', yID), ('yStart', yStart), ('yEnd', yEnd), ('Power (dBm)', power)\n",
    "                 , ('numPoints',numPoints), ('IFbandwidth (Hz)', IFbandwidth) \n",
    "                 , ('avg',avg), ('comment', comment)])\n",
    "\n",
    "    # file setup\n",
    "    baseStr = 'S21vsFvsV_fr{:.9g}_{:.9g}_Pr{:.4g}_V{}_{}_{}_{}'\n",
    "    baseFileName = baseStr.format(startFreq/1e9, endFreq/1e9, power, startVolt, endVolt, stepVolt, surfix)\n",
    "    dataFileName_mag, dataFileName_phase  = (os.path.join(save_path, baseFileName + '_mag.dat'), \n",
    "                                             os.path.join(save_path, baseFileName + '_phase.dat'))\n",
    "    logFileName =  os.path.join(save_path, baseFileName + '.json')\n",
    "    with open(logFileName, 'w') as f:\n",
    "        json.dump(para,f,indent=4, sort_keys=True)\n",
    "\n",
    "    # plot setup\n",
    "    plotobj= myplots_py3.plot2D(ylabel = 'Frequency(Hz)', xlabel='Volt (V)', title = plottitle)\n",
    "\n",
    "    # preconfigure instrument\n",
    "    pna.setupMeas()\n",
    "    pna.setSweepType('linear')\n",
    "    pna.setFreqStartEnd(startFreq, endFreq)\n",
    "    pna.setPwr(power)\n",
    "    pna.avgCount(avg)\n",
    "    pna.numPoints(numPoints)\n",
    "    pna.setIF(IFbandwidth)\n",
    "    pna.pwrOn()\n",
    "\n",
    "    sim_glb.setVoltage(slope*startVolt+Vglb_offset)\n",
    "    sim_chip.setVoltage(startVolt)\n",
    "    time.sleep(2)\n",
    "\n",
    "    # data initialization\n",
    "    S21_mag_log_2D, S21_phase_2D = np.array([]), np.array([])\n",
    "\n",
    "    ################ sweep start ################\n",
    "    for volt_chip in np.around(np.arange(startVolt, endVolt + stepVolt, stepVolt), decimals=3): # traverse in [pmin, pmax].\n",
    "        # configure\n",
    "        volt_glb =  slope * volt_chip + Vglb_offset\n",
    "        #volt_glb = -1/slope* (volt_chip-20) - 0.55\n",
    "        clear_output()\n",
    "        print('volt_glb={:.3g}, volt_chip={:.3g}'.format(volt_glb, volt_chip))\n",
    "        sim_chip.setVoltage(volt_chip)\n",
    "        sim_glb.setVoltage(volt_glb)\n",
    "\n",
    "        time.sleep(0.1)\n",
    "        pna.avgClear()\n",
    "\n",
    "        # fetch data from PNA\n",
    "        freq, S21 = pna.getData(cplx=True) # S21 in linear scale\n",
    "\n",
    "        # S21 conversion\n",
    "        S21_real, S21_imag = np.real(S21), np.imag(S21)\n",
    "        S21_mag, S21_phase = np.sqrt(S21_real**2 + S21_imag**2), np.angle(S21, deg=True) # phase in degree\n",
    "        S21_mag_log = 20.0 * np.log10(S21_mag)    # dB\n",
    "\n",
    "        if S21_mag_log_2D.size == 0: # when S21_mag_2D is empty\n",
    "            S21_mag_log_2D = S21_mag_log\n",
    "            S21_mag_log_2D.shape = (S21_mag_log.size, 1)\n",
    "            S21_phase_2D = S21_phase\n",
    "            S21_phase_2D.shape = (S21_phase.size, 1)\n",
    "        else:\n",
    "            S21_mag_log_2D = np.column_stack((S21_mag_log_2D, S21_mag_log))\n",
    "            S21_phase_2D = np.column_stack((S21_phase_2D, S21_phase))\n",
    "\n",
    "        # plot update\n",
    "        extent = [startVolt, volt_chip, startFreq, endFreq]\n",
    "        plotobj.update(S21_mag_log_2D, extent)\n",
    "\n",
    "        # save data in each iteration\n",
    "        f_mag = open(dataFileName_mag, 'wb') \n",
    "        f_phase = open(dataFileName_phase, 'wb') \n",
    "        np.savetxt(f_mag, S21_mag_log_2D, fmt='%.9g', delimiter='\\t') \n",
    "        np.savetxt(f_phase, S21_phase_2D, fmt='%.9g', delimiter='\\t')\n",
    "        f_mag.close()\n",
    "        f_phase.close()\n",
    "\n",
    "    ############## sweep end #########################    \n",
    "\n",
    "    # Post measurement   \n",
    "    del S21_mag_log_2D, S21_phase_2D\n",
    "    pna.pwrOff()\n",
    "    sim_glb.setVoltage(endV)\n",
    "    sim_chip.setVoltage(endV)\n",
    "    print('Measurement done!!!')"
   ]
  },
  {
   "cell_type": "code",
   "execution_count": 9,
   "metadata": {
    "collapsed": false
   },
   "outputs": [
    {
     "name": "stdout",
     "output_type": "stream",
     "text": [
      "volt_glb=0.336, volt_chip=15\n",
      "Measurement done!!!\n"
     ]
    }
   ],
   "source": [
    "#s21vsfreqvsfluxcombined(-1.85/22.5,  -0.372222)  #A line\n",
    "\n",
    "#s21vsfreqvsfluxcombined(1.55/21,  -0.535714)  # B line\n",
    "#s21vsfreqvsfluxcombined(-0.1/22, 0.404545)  # D line"
   ]
  },
  {
   "cell_type": "code",
   "execution_count": 1,
   "metadata": {
    "collapsed": true
   },
   "outputs": [],
   "source": [
    "import SIM"
   ]
  },
  {
   "cell_type": "code",
   "execution_count": 2,
   "metadata": {
    "collapsed": true
   },
   "outputs": [],
   "source": [
    "sim_glb = SIM.SIM(18, channel=3)\n",
    "sim_chip = SIM.SIM(19, channel=1)"
   ]
  },
  {
   "cell_type": "code",
   "execution_count": 3,
   "metadata": {
    "collapsed": true
   },
   "outputs": [],
   "source": [
    "sim_glb.setVoltage(0.7)\n",
    "sim_chip.setVoltage(0.625)"
   ]
  },
  {
   "cell_type": "code",
   "execution_count": null,
   "metadata": {
    "collapsed": true
   },
   "outputs": [],
   "source": []
  }
 ],
 "metadata": {
  "anaconda-cloud": {},
  "kernelspec": {
   "display_name": "Python [conda root]",
   "language": "python",
   "name": "conda-root-py"
  },
  "language_info": {
   "codemirror_mode": {
    "name": "ipython",
    "version": 3
   },
   "file_extension": ".py",
   "mimetype": "text/x-python",
   "name": "python",
   "nbconvert_exporter": "python",
   "pygments_lexer": "ipython3",
   "version": "3.5.2"
  }
 },
 "nbformat": 4,
 "nbformat_minor": 0
}
