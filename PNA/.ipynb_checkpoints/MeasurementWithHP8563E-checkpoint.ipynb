{
 "cells": [
  {
   "cell_type": "markdown",
   "metadata": {},
   "source": [
    "# Read trace from HP8563E"
   ]
  },
  {
   "cell_type": "code",
   "execution_count": 49,
   "metadata": {
    "collapsed": false
   },
   "outputs": [
    {
     "name": "stdout",
     "output_type": "stream",
     "text": [
      "Using matplotlib backend: TkAgg\n"
     ]
    }
   ],
   "source": [
    "%matplotlib\n",
    "import matplotlib.pyplot as plt\n",
    "import numpy as np\n",
    "import visa\n",
    "import myplots, myutils # custom modules\n",
    "import os.path\n",
    "import time\n",
    "\n",
    "import HP8563E\n",
    "#import PhaseMatrix"
   ]
  },
  {
   "cell_type": "code",
   "execution_count": 50,
   "metadata": {
    "collapsed": true
   },
   "outputs": [],
   "source": [
    "# open instrument connection and initialize... \n",
    "HP = HP8563E.HP8563E(21)\n",
    "#PM = PhaseMatrix.PhaseMatrix()"
   ]
  },
  {
   "cell_type": "code",
   "execution_count": 51,
   "metadata": {
    "collapsed": false
   },
   "outputs": [
    {
     "data": {
      "text/plain": [
       "<module 'HP8563E' from 'HP8563E.pyc'>"
      ]
     },
     "execution_count": 51,
     "metadata": {},
     "output_type": "execute_result"
    }
   ],
   "source": [
    "reload(HP8563E)"
   ]
  },
  {
   "cell_type": "markdown",
   "metadata": {},
   "source": [
    "# Plot data\n",
    "Note: As of sep 16 2016, run script two time to get write trace. Need to figure out how to get right data right away. Also, need to implement storing trace conditions later. In page 303 of the manual, it says \" The five conditions that\n",
    "you must store in addition to the trace data are the start and stop\n",
    "frequencies, the reference level, the amplitude scaling, and the\n",
    "absolute amplitude units.\""
   ]
  },
  {
   "cell_type": "code",
   "execution_count": 74,
   "metadata": {
    "collapsed": false
   },
   "outputs": [
    {
     "name": "stdout",
     "output_type": "stream",
     "text": [
      "Using matplotlib backend: TkAgg\n",
      "Measurement complete!!!\n"
     ]
    }
   ],
   "source": [
    "%matplotlib\n",
    "# set up parameters\n",
    "HPstartFreq, HPendFreq = 100e6, 2.5e9\n",
    "PMstartFreq, PMendFreq, PMstepFreq = 1000, 4000, 10\n",
    "\n",
    "# file setup\n",
    "save_path = 'Z:\\\\User\\\\Jaseung\\\\'\n",
    "fileName= ''\n",
    "SAVE = False\n",
    "\n",
    "# preconfigure instrument\n",
    "HP.setFreqStart(HPstartFreq)\n",
    "HP.setFreqEnd(HPendFreq)\n",
    "#PM.setFreq(freq)\n",
    "\n",
    "# data initialization\n",
    "data = np.array([])\n",
    "freq = np.linspace(HPstartFreq, HPendFreq, 601)\n",
    "\n",
    "# fetch data from HP835E and plot\n",
    "trace = HP.getData('A') # trace A from Spectrum analyzer\n",
    "data = np.fromstring(trace, dtype=float, sep=',')\n",
    "\n",
    "#plot\n",
    "plt.plot(freq, data,'-o', markersize=2)\n",
    "plt.xlabel('Frequency (Hz)')\n",
    "plt.ylabel('Amplitude (dB)')\n",
    "plt.ticklabel_format(useOffset=False)\n",
    "plt.grid()\n",
    "# save data if you want.\n",
    "if SAVE:\n",
    "    f = open(fileName, 'w') \n",
    "    np.savetxt(f, trace, fmt='%.9g', delimiter='\\t') \n",
    "    f.close()\n",
    "    \n",
    "# Post measurement    \n",
    "print('Measurement complete!!!')"
   ]
  },
  {
   "cell_type": "markdown",
   "metadata": {},
   "source": [
    "# 2D scan. As of sep 2016, not complete. Do not use."
   ]
  },
  {
   "cell_type": "code",
   "execution_count": 55,
   "metadata": {
    "collapsed": false
   },
   "outputs": [],
   "source": [
    "HP.clear()"
   ]
  },
  {
   "cell_type": "code",
   "execution_count": null,
   "metadata": {
    "collapsed": true
   },
   "outputs": [],
   "source": [
    "# set up parameters\n",
    "HPstartFreq, HPendFreq = 6.109951e9, 6.111951e9\n",
    "PMstartFreq, PMendFreq, PMstepFreq = 1000, 4000, 10\n",
    "\n",
    "# file setup\n",
    "save_path = 'Z:\\\\User\\\\JJ\\\\D5'\n",
    "\n",
    "fileName= ''\n",
    "\n",
    "# plot setup\n",
    "plotobj= myplots.plot2D(ylabel = 'Spectrum Frequency(Hz)'\n",
    "                        , xlabel='Phase Matrix Freqr (dBm)', title = '')\n",
    "\n",
    "# preconfigure instrument\n",
    "HP.setFreqStart(HPstartFreq)\n",
    "HP.setFreqEnd(HPendFreq)\n",
    "\n",
    "# data initialization\n",
    "spectrum_2D = np.array([])\n",
    "HPfreq = np.linspace(HPstartFreq, HPendFreq, 601)\n",
    "\n",
    "################ sweep start ################\n",
    "for freq in np.arange(PMstartFreq, PMendFreq + PMstepFreq, PMstepFreq): # traverse in [pmin, pmax].\n",
    "    \n",
    "    # configure\n",
    "    PM.setFreq(freq)\n",
    "    \n",
    "    # fetch data from PNA\n",
    "    trace = HP.getData() # trance from Spectrum analyzer\n",
    "    \n",
    "    # S21 conversion\n",
    "   \n",
    "    if spectrum_2D.size == 0: # when S21_mag_2D is empty\n",
    "        spectrum_2D = trace\n",
    "        spectrum_2D.shape = (trace, 1)        \n",
    "    else:\n",
    "        spectrum_2D = np.column_stack((spectrum_2D, trace))\n",
    "             \n",
    "    # plot update\n",
    "    extent = [PMstartFreq, freq, HPstartFreq, HPendFreq]\n",
    "    plotobj.update(spectrum_2D, extent)\n",
    "    \n",
    "    \n",
    "    # save data in each iteration\n",
    "    f = open(fileName, 'w') \n",
    "    np.savetxt(f, spectrum_2D, fmt='%.9g', delimiter='\\t') \n",
    "    f.close()\n",
    "    \n",
    "    \n",
    "############## sweep end #########################    \n",
    "\n",
    "# Post measurement    \n",
    "print('Measurement complete!!!')"
   ]
  }
 ],
 "metadata": {
  "kernelspec": {
   "display_name": "Python 2",
   "language": "python",
   "name": "python2"
  },
  "language_info": {
   "codemirror_mode": {
    "name": "ipython",
    "version": 2
   },
   "file_extension": ".py",
   "mimetype": "text/x-python",
   "name": "python",
   "nbconvert_exporter": "python",
   "pygments_lexer": "ipython2",
   "version": "2.7.12"
  }
 },
 "nbformat": 4,
 "nbformat_minor": 0
}
