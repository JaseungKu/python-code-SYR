{
 "cells": [
  {
   "cell_type": "markdown",
   "metadata": {},
   "source": [
    "# Import modules. Run once"
   ]
  },
  {
   "cell_type": "code",
   "execution_count": 1,
   "metadata": {
    "ExecuteTime": {
     "end_time": "2020-01-07T21:19:15.416485Z",
     "start_time": "2020-01-07T21:19:11.286707Z"
    }
   },
   "outputs": [
    {
     "name": "stdout",
     "output_type": "stream",
     "text": [
      "Using matplotlib backend: Qt5Agg\n"
     ]
    }
   ],
   "source": [
    "%matplotlib\n",
    "\n",
    "# import system modules\n",
    "import sys\n",
    "import os.path\n",
    "import matplotlib.pyplot as plt   \n",
    "from IPython.display import clear_output\n",
    "import numpy as np\n",
    "import json\n",
    "import visa\n",
    "import time\n",
    "from scipy import optimize\n",
    "from math import pi\n",
    "\n",
    "# Add path\n",
    "#sys.path.remove(r'\\\\shared.ad.syr.edu\\AS-Filer\\PHY-PRL-labshare\\Programs\\python\\Drivers')\n",
    "#sys.path.append(r'Z:\\User\\Jaseung\\programs\\pythonCode\\Instrument Driver') # path added\n",
    "sys.path.append('..\\Instrument Driver') # path added\n",
    "\n",
    "sys.path.append('..\\Helper') # path added\n",
    "\n",
    "# custom modules\n",
    "import myplots_py3, myutils # Jaseung's custom modules\n"
   ]
  },
  {
   "cell_type": "code",
   "execution_count": 2,
   "metadata": {},
   "outputs": [
    {
     "data": {
      "text/plain": [
       "['Z:\\\\User\\\\Jaseung\\\\programs\\\\pythonCode\\\\PNA',\n",
       " 'C:\\\\Users\\\\labuser\\\\Anaconda3\\\\python37.zip',\n",
       " 'C:\\\\Users\\\\labuser\\\\Anaconda3\\\\DLLs',\n",
       " 'C:\\\\Users\\\\labuser\\\\Anaconda3\\\\lib',\n",
       " 'C:\\\\Users\\\\labuser\\\\Anaconda3',\n",
       " '',\n",
       " 'C:\\\\Users\\\\labuser\\\\Anaconda3\\\\lib\\\\site-packages',\n",
       " 'C:\\\\Users\\\\labuser\\\\Anaconda3\\\\lib\\\\site-packages\\\\win32',\n",
       " 'C:\\\\Users\\\\labuser\\\\Anaconda3\\\\lib\\\\site-packages\\\\win32\\\\lib',\n",
       " 'C:\\\\Users\\\\labuser\\\\Anaconda3\\\\lib\\\\site-packages\\\\Pythonwin',\n",
       " 'C:\\\\Users\\\\labuser\\\\Anaconda3\\\\lib\\\\site-packages\\\\IPython\\\\extensions',\n",
       " 'C:\\\\Users\\\\labuser\\\\.ipython',\n",
       " '..\\\\Instrument Driver',\n",
       " '..\\\\Helper']"
      ]
     },
     "execution_count": 2,
     "metadata": {},
     "output_type": "execute_result"
    }
   ],
   "source": [
    "sys.path"
   ]
  },
  {
   "cell_type": "markdown",
   "metadata": {},
   "source": [
    "# Set up devices to use. Modify and run once."
   ]
  },
  {
   "cell_type": "code",
   "execution_count": 3,
   "metadata": {
    "ExecuteTime": {
     "end_time": "2020-01-07T22:28:27.211260Z",
     "start_time": "2020-01-07T22:28:26.661293Z"
    }
   },
   "outputs": [],
   "source": [
    "# instrument drivers\n",
    "import SIM\n",
    "import AgilentN5230A\n",
    "import LSCI332S\n",
    "import HittiteHMC\n",
    "import AgilentMXG\n",
    "import SynthHD\n",
    "import Agilent33250A\n",
    "import KeysightP9372A\n",
    "# import Lakeshore218\n",
    "import SR830 #For Lock-in driver!\n",
    "\n",
    "# instrument instances. Make device objects.\n",
    "# pna = AgilentN5230A.AgilentN5230A(16)\n",
    "# pna = KeysightP9372A.KeysightP9372A('USB0::0x0957::0x179B::MY51361453::0::INSTR')\n",
    "pna = KeysightP9372A.KeysightP9372A('PXI10::0-0.0::INSTR')\n",
    "pna.connect()\n",
    "# sim_p = SIM.SIM(15, channel = 3)\n",
    "sim_p1 = SIM.SIM(16, channel = 1)\n",
    "sim_p2 = SIM.SIM(16, channel = 2)\n",
    "# sim_s = SIM.SIM(18, channel = 3)\n",
    "# sim_c = SIM.SIM(18, channel = 3)\n",
    "# sim_f = SIM.SIM(18, channel = 1)\n",
    "# sim_c = SIM.SIM(18, channel = 2)\n",
    "# sim_f2 = SIM.SIM(18, channel = 3)\n",
    "# sim_p2 = SIM.SIM(15, channel = 1)\n",
    "# sim_p1 = SIM.SIM(15, channel = 3)\n",
    "# sim_s = Agilent33250A.Agilent33250A(13)\n",
    "#sim_glb = SIM.SIM(15, channel = 3) # ADR2\n",
    "# sim_50 = SIM.SIM(15, channel = 1) # ADR2\n",
    "#sim_200 = SIM.SIM(15, channel = 1) # ADR2\n",
    "# sim_v = SIM.SIM(15, channel = 5)\n",
    "# spec = HittiteHMC.HittiteHMC('GPIB',10)\n",
    "# sim_glb = SIM.SIM(19, channel=1) # BF\n",
    "#sim_glb = SIM.SIM(18, channel=3) # DR1\n",
    "# sim_chip = SIM.SIM(15, channel=3) #ADR2 \n",
    "# lsci = LSCI332S.LSCI332S(2)\n",
    "# lake = Lakeshore218.Lakeshore218(18)\n",
    "#spec = HittiteHMC.HittiteHMC('USB',4)\n",
    "#spec = AgilentMXG.AgilentMXG(30)\n",
    "# spec = SynthHD.SynthHD(6)\n",
    "\n",
    "# fridge type.\n",
    "fridgeType = 'ADR22'   # options: 'ADR2', 'BF', 'DR1'"
   ]
  },
  {
   "cell_type": "code",
   "execution_count": 4,
   "metadata": {},
   "outputs": [],
   "source": [
    "# Initialize SR830 - (Lock-in Amplifier)\n",
    "GPIB_add = 13\n",
    "lockin = SR830.SR830(GPIB_add)\n",
    "\n",
    "#set parameters\n",
    "lockin.setTrig('sine')\n",
    "lockin.setSource( 'int')\n",
    "lockin.setHarm(1)\n",
    "lockin.setAmpl(0.01)  # Volts\n",
    "lockin.setFreq(13) # Hz\n",
    "\n",
    "lockin.setShield('ground')\n",
    "lockin.setCoupling('DC')\n",
    "lockin.setInputConfig('A-B')\n",
    "\n",
    "lockin.setTimeConst('1 s')\n",
    "lockin.setSlope(12)\n",
    "\n",
    "lockin.setSens('50 uV/pA')\n",
    "\n",
    "lockin.setReserve('normal')\n",
    "lockin.setFilter('both')"
   ]
  },
  {
   "cell_type": "code",
   "execution_count": 5,
   "metadata": {
    "ExecuteTime": {
     "end_time": "2019-12-19T16:41:39.978003Z",
     "start_time": "2019-12-19T16:41:39.418543Z"
    }
   },
   "outputs": [],
   "source": [
    "pna.connect()\n",
    "# pna.setupMeas()"
   ]
  },
  {
   "cell_type": "code",
   "execution_count": 6,
   "metadata": {
    "ExecuteTime": {
     "end_time": "2019-05-29T19:50:38.843178Z",
     "start_time": "2019-05-29T19:50:33.792922Z"
    }
   },
   "outputs": [],
   "source": [
    "import Agilent33250A\n",
    "wave = Agilent33250A.Agilent33250A(10)"
   ]
  },
  {
   "cell_type": "markdown",
   "metadata": {},
   "source": [
    "# (Optional) List resources"
   ]
  },
  {
   "cell_type": "code",
   "execution_count": 17,
   "metadata": {
    "ExecuteTime": {
     "end_time": "2019-06-02T21:46:03.613241Z",
     "start_time": "2019-06-02T21:46:03.332559Z"
    },
    "scrolled": true
   },
   "outputs": [
    {
     "data": {
      "text/plain": [
       "('ASRL1::INSTR',\n",
       " 'ASRL3::INSTR',\n",
       " 'ASRL10::INSTR',\n",
       " 'GPIB0::1::INSTR',\n",
       " 'GPIB0::2::INSTR',\n",
       " 'GPIB0::3::INSTR',\n",
       " 'GPIB0::15::INSTR',\n",
       " 'GPIB0::16::INSTR',\n",
       " 'GPIB0::13::INSTR',\n",
       " 'USB0::0x0957::0x179B::MY51361453::0::INSTR')"
      ]
     },
     "execution_count": 17,
     "metadata": {},
     "output_type": "execute_result"
    }
   ],
   "source": [
    "# This is useful to check if GPIB or USB is valid.\n",
    "import visa\n",
    "rm = visa.ResourceManager()\n",
    "rm.list_resources()"
   ]
  },
  {
   "cell_type": "markdown",
   "metadata": {},
   "source": [
    "# S21 vs Freq, 1D, single scan"
   ]
  },
  {
   "cell_type": "code",
   "execution_count": 12,
   "metadata": {
    "ExecuteTime": {
     "end_time": "2019-06-02T21:48:19.667457Z",
     "start_time": "2019-06-02T21:47:56.116565Z"
    },
    "code_folding": [],
    "scrolled": true
   },
   "outputs": [
    {
     "name": "stdout",
     "output_type": "stream",
     "text": [
      "Measurement finished!!!\n"
     ]
    },
    {
     "data": {
      "image/png": "[encoded data removed]",
      "text/plain": [
       "<Figure size 432x288 with 1 Axes>"
      ]
     },
     "metadata": {
      "needs_background": "light"
     },
     "output_type": "display_data"
    }
   ],
   "source": [
    "#################################################################################\n",
    "# set up parameters\n",
    "startFreq, endFreq = 5.6e9, 9e9\n",
    "power = -15\n",
    "numPoints, IFbandwidth, avg = 64001, 100000, 10\n",
    "volt = 0\n",
    "\n",
    "sampleID = 'B4'\n",
    "suffix = 'SPlq'  # suffix to the file name\n",
    "save_path = r'Z:\\Experiments\\Dirty Aluminum\\Qubit\\111919NbA\\B4'\n",
    "#save_path = r'Z:\\User\\Yebin\\Project\\Resonator Qi test\\Samples\\011918_W14_HF blow dry'\n",
    "#save_path = r'Z:\\User\\Jaseung\\projects\\CSFQ\\measurement\\W16\\testing'\n",
    "#save_path = r'Z:\\User\\JJ\\SFQ3\\HYP1'\n",
    "#save_path = r'Z:\\User\\Jaseung\\projects\\CSFQ\\measurement\\W19\\B3\\ADR1'\n",
    "# save_path = r'Z:\\User\\Andrew\\Flip-Chip_measurements\\HYP2'\n",
    "#################################################################################\n",
    "\n",
    "# dictionary for parameters to be saved in log file.\n",
    "header = 'freq (Hz) mag(dB) phase(degree) real imag'\n",
    "para = dict([('startFreq (Hz)',startFreq),('endFreq (Hz)', endFreq),('power (dBm)',power)\n",
    "             ,('numPoints',numPoints), ('IFbandwidth (Hz)', IFbandwidth),('avg',avg)\n",
    "             ,('volt',volt), ('header', header)])\n",
    "\n",
    " #file setup\n",
    "if fridgeType=='ADR2':\n",
    "    FAA = float(lsci.tempGet('B')) # get temperature\n",
    "else :\n",
    "    FAA = 0 \n",
    "timeStr = time.strftime(\"%H%M%S\")\n",
    "baseStr = sampleID + '_S21vsF_fr{:.9g}_{:.9g}_Pr{}_V{}_T{:.4g}_{}'\n",
    "baseFileName = baseStr.format(startFreq/1e9, endFreq/1e9, power, volt, FAA, timeStr)\n",
    "dataFileName = os.path.join(save_path, baseFileName + '.dat')                                 \n",
    "logFileName =  os.path.join(save_path, baseFileName + '.json')\n",
    "\n",
    "with open(logFileName, 'w') as f:\n",
    "    json.dump(para,f,indent=4, sort_keys=True)\n",
    "\n",
    "# plot setup\n",
    "plotobj= myplots_py3.plot1D(ylabel = 'S21 (dB)', xlabel='Frequency (Hz)', title = baseFileName, plotStyle='b-')\n",
    "\n",
    "# configure instrument\n",
    "# pna.setupMeas()\n",
    "# pna.setSweepType('linear')\n",
    "pna.connect()\n",
    "pna.setFreqStartEnd(startFreq, endFreq)\n",
    "pna.setPwr(power)\n",
    "pna.avgCount(avg)\n",
    "pna.numPoints(numPoints)\n",
    "pna.setIF(IFbandwidth)\n",
    "pna.pwrOn()\n",
    "\n",
    "# sim_glb.setVoltage(volt)\n",
    "# sim_p1 = SIM.SIM(18, channel = 1)\n",
    "# data initialization\n",
    "#S21_mag_log_2D, S21_phase_2D = np.array([]), np.array([])\n",
    "data = np.array([])\n",
    "\n",
    "# configure\n",
    "pna.avgClear()\n",
    "        \n",
    "# fetch data from PNA\n",
    "freq, S21 = pna.getData(cplx=True) # S21 in linear scale\n",
    " \n",
    "# S21 conversion\n",
    "S21_real, S21_imag = np.real(S21), np.imag(S21)\n",
    "S21_mag, S21_phase = np.sqrt(S21_real**2 + S21_imag**2), np.angle(S21, deg=True) # phase in degree\n",
    "S21_mag_log = 20.0 * np.log10(S21_mag)    # dB\n",
    "\n",
    "# make 2D array with freq, dB, phase\n",
    "data = freq\n",
    "data.shape = (freq.size, 1)\n",
    "data = np.column_stack((data, S21_mag_log))\n",
    "data = np.column_stack((data, S21_phase))\n",
    "data = np.column_stack((data, S21_real))\n",
    "data = np.column_stack((data, S21_imag))\n",
    "     \n",
    "# plot update\n",
    "plotobj.update(freq/1e9, S21_mag_log)\n",
    "\n",
    "## save files\n",
    "f = open(dataFileName, 'wb') \n",
    "np.savetxt(f, data, fmt='%.9g', delimiter='\\t') \n",
    "\n",
    "\n",
    "# Post measurement    \n",
    "#sim_glb.setVoltage(0)\n",
    "pna.pwrOff()\n",
    "f.close()\n",
    "plotobj.fig.savefig(os.path.join(save_path, baseFileName + '.png'))\n",
    "print('Measurement finished!!!')"
   ]
  },
  {
   "cell_type": "code",
   "execution_count": 6,
   "metadata": {
    "ExecuteTime": {
     "end_time": "2018-01-22T03:44:19.023574Z",
     "start_time": "2018-01-22T03:44:12.921675Z"
    },
    "collapsed": true
   },
   "outputs": [],
   "source": [
    "sim_p1.setVoltage(0)"
   ]
  },
  {
   "cell_type": "markdown",
   "metadata": {
    "collapsed": true
   },
   "source": [
    "# S21 vs Freq vs Power, 2D power scan"
   ]
  },
  {
   "cell_type": "code",
   "execution_count": 6,
   "metadata": {
    "ExecuteTime": {
     "end_time": "2020-01-07T21:49:19.808081Z",
     "start_time": "2020-01-07T21:46:12.441550Z"
    },
    "code_folding": [],
    "scrolled": true
   },
   "outputs": [
    {
     "name": "stdout",
     "output_type": "stream",
     "text": [
      "startPwr=-40 dBm, endPwr=20 dBm, current power=20 dBm\n",
      "Measurement complete!!!\n",
      "Wall time: 3min 25s\n"
     ]
    },
    {
     "data": {
      "image/png": "[encoded data removed]",
      "text/plain": [
       "<Figure size 720x360 with 1 Axes>"
      ]
     },
     "metadata": {
      "needs_background": "light"
     },
     "output_type": "display_data"
    }
   ],
   "source": [
    "%%time\n",
    "#########################################################################################\n",
    "# set up parameters\n",
    "# startFreq, endFreq =5.69537e9-100e3, 5.69537e9+100e3 \n",
    "# startFreq, endFreq =5.99084e9-100e3, 5.99084e9+100e3 \n",
    "# startFreq, endFreq = 6.10342e9-100e3, 6.10342e9+100e3 \n",
    "# startFreq, endFreq = 6.21755e9-100e3, 6.21755e9+100e3 \n",
    "# startFreq, endFreq = 6.42699e9-100e3, 6.42699e9+100e3 \n",
    "startFreq, endFreq =5.60228e9, 5.60328e9\n",
    "numPoints, avg = 801, 50\n",
    "IFStart, IFEnd = 5000, 100000 # Hz\n",
    "startPwr, endPwr, stepPwr = -40,20, 2\n",
    "Vglb_init = 0\n",
    "Vchip_init = 0\n",
    "\n",
    "sampleID = 'A4'\n",
    "suffix = 'plqtest'\n",
    "#save_path = r'Z:\\User\\Jaseung\\projects\\CSFQ\\measurement\\postdescumRes'\n",
    "#save_path = r'Z:\\User\\Jaseung\\projects\\CSFQ\\measurement\\W11\\C6\\DR1'\n",
    "#save_path = r'Z:\\User\\JJ\\SFQ2\\070717C\\ADR2\\E3'\n",
    "#save_path = r'Z:\\User\\JJ\\SFQ3\\HYP1'\n",
    "save_path = r'Z:\\Experiments\\Dirty Aluminum\\Qubit\\111919NbA\\A4'\n",
    "commentStr=''  # comment to be placed in the log file.\n",
    "############################################################################################\n",
    "\n",
    "# IFbandwidth scales up linearly as power increases.\n",
    "IF_arr = np.linspace(IFStart, IFEnd, np.arange(startPwr, endPwr + stepPwr, stepPwr).size) \n",
    "\n",
    "# dictionary for parameters to be saved in json file. Solely for log.\n",
    "xID, xStart, xEnd, xStep = 'Power (dBm)', startPwr, endPwr, stepPwr\n",
    "yID, yStart, yEnd, yStep = 'Frequency (Hz)',startFreq, endFreq, (endFreq-startFreq)/(numPoints-1)\n",
    "para = dict([('xID', xID), ('xStart', xStart), ('xEnd', xEnd)\n",
    "             , ('yID', yID), ('yStart', yStart), ('yEnd', yEnd)\n",
    "             , ('numPoints',numPoints), ('IFbandwidth start (Hz)', IF_arr[0]),('IFbandwidth end (Hz)', IF_arr[-1])\n",
    "             , ('avg',avg), ('Vglb_init (V)',Vglb_init),('Vchip_init (V)',Vchip_init), ('comment', commentStr)])\n",
    "\n",
    "# file setup\n",
    "if fridgeType=='ADR2':\n",
    "    FAA = float(lsci.tempGet('B')) # get temperature\n",
    "else:\n",
    "    FAA = 0\n",
    "timeStr = time.strftime(\"%H%M%S\")\n",
    "baseStr = sampleID + '_'+'S21vsFvsP_fr{:.9g}_{:.9g}_Pr{:.4g}_{:.4g}_{:.4g}_V{:.3g}_T{:.4g}_{}_{}'\n",
    "baseFileName = baseStr.format(startFreq/1e9, endFreq/1e9, startPwr, endPwr, stepPwr, Vglb_init, FAA, suffix, timeStr)\n",
    "dataFileName_mag, dataFileName_phase  = (os.path.join(save_path, baseFileName + '_mag.dat'), \n",
    "                                         os.path.join(save_path, baseFileName + '_phase.dat'))\n",
    "print('filename={}'.format(os.path.join(save_path, baseFileName + '_mag.dat')))\n",
    "logFileName =  os.path.join(save_path, baseFileName + '.json')\n",
    "with open(logFileName, 'w') as f:\n",
    "    json.dump(para,f,indent=4, sort_keys=True)\n",
    "\n",
    "# plot setup\n",
    "plotobj= myplots_py3.plot2D(ylabel = 'Frequency(Hz)', xlabel='Power (dBm)', title = baseFileName)\n",
    "\n",
    "# preconfigure instrument\n",
    "pna.setupMeas()\n",
    "pna.setSweepType('linear')\n",
    "pna.setFreqStartEnd(startFreq, endFreq)\n",
    "pna.avgCount(avg)\n",
    "pna.numPoints(numPoints)\n",
    "pna.pwrOn()\n",
    "#sim_glb.setVoltage(Vglb_init)\n",
    "#sim_chip.setVoltage(Vchip_init)\n",
    "\n",
    "# data initialization\n",
    "S21_mag_log_2D, S21_phase_2D = np.array([]), np.array([])\n",
    "\n",
    "i=0\n",
    "# sweep start\n",
    "for pwr in np.arange(startPwr, endPwr + stepPwr, stepPwr): # traverse in [pmin, pmax].\n",
    "    \n",
    "    clear_output()\n",
    "    print('startPwr={:.3g} dBm, endPwr={:.3g} dBm, current power={:.3g} dBm'.format(startPwr, endPwr, pwr))\n",
    "    \n",
    "    # configure\n",
    "    pna.setIF(IF_arr[i]) \n",
    "    pna.setPwr(pwr)\n",
    "    pna.avgClear()\n",
    "    i += 1\n",
    "    \n",
    "    # fetch data from PNA\n",
    "    freq, S21 = pna.getData(cplx=True) # S21 in linear scale\n",
    "    \n",
    "    # S21 conversion\n",
    "    S21_real, S21_imag = np.real(S21), np.imag(S21)\n",
    "    S21_mag, S21_phase = np.sqrt(S21_real**2 + S21_imag**2), np.angle(S21, deg=True) # phase in degree\n",
    "    S21_mag_log = 20.0 * np.log10(S21_mag)    # dB\n",
    "    \n",
    "    if S21_mag_log_2D.size == 0: # when S21_mag_2D is empty\n",
    "        S21_mag_log_2D = S21_mag_log\n",
    "        #S21_mag_log_2D = S21_real\n",
    "        S21_mag_log_2D.shape = (S21_mag_log.size, 1)\n",
    "        S21_phase_2D = S21_phase\n",
    "        #S21_phase_2D = S21_imag\n",
    "        S21_phase_2D.shape = (S21_phase.size, 1)\n",
    "    else:\n",
    "        S21_mag_log_2D = np.column_stack((S21_mag_log_2D, S21_mag_log))\n",
    "        S21_phase_2D = np.column_stack((S21_phase_2D, S21_phase))\n",
    "        #S21_mag_log_2D = np.column_stack((S21_mag_log_2D, S21_real))\n",
    "        #S21_phase_2D = np.column_stack((S21_phase_2D, S21_imag))\n",
    "     \n",
    "    # plot update\n",
    "    extent = [startPwr, pwr, startFreq, endFreq]\n",
    "    plotobj.update(S21_mag_log_2D, extent)\n",
    "        \n",
    "    # save data in each iteration\n",
    "    f_mag = open(dataFileName_mag, 'wb') \n",
    "    f_phase = open(dataFileName_phase, 'wb') \n",
    "    np.savetxt(f_mag, S21_mag_log_2D, fmt='%.9g', delimiter='\\t') \n",
    "    np.savetxt(f_phase, S21_phase_2D, fmt='%.9g', delimiter='\\t')\n",
    "    f_mag.close()\n",
    "    f_phase.close()\n",
    "    \n",
    "# Post measurement  \n",
    "# pna.setPwr(-50)\n",
    "pna.pwrOff()\n",
    "#sim_glb.setVoltage(0)\n",
    "plotobj.fig.savefig(os.path.join(save_path, baseFileName + '.png'))\n",
    "print('Measurement complete!!!')\n"
   ]
  },
  {
   "cell_type": "code",
   "execution_count": null,
   "metadata": {
    "ExecuteTime": {
     "end_time": "2018-04-12T20:52:01.055322Z",
     "start_time": "2018-04-12T20:52:00.757110Z"
    },
    "collapsed": true,
    "scrolled": true
   },
   "outputs": [],
   "source": [
    "%matplotlib\n",
    "filename =r'Z:\\User\\Jaseung\\projects\\CSFQ\\measurement\\postdescumRes\\Res1_S21vsFvsP_fr5.69532_5.69542_Pr-90_10_1_V0_T0.064__101617_mag.dat'\n",
    "data = np.loadtxt(filename)\n",
    "powerlist = np.arange(-90, 10,1)\n",
    "# freq = \n",
    "for index, value in enumerate(powerlist):\n",
    "    s21_mag = data[:,index]\n",
    "    if index % 10 ==3:\n",
    "        plt.plot(s21_mag )"
   ]
  },
  {
   "cell_type": "code",
   "execution_count": null,
   "metadata": {
    "ExecuteTime": {
     "end_time": "2019-05-20T18:44:30.817221Z",
     "start_time": "2019-05-20T18:44:30.811223Z"
    },
    "collapsed": true
   },
   "outputs": [],
   "source": [
    "list(range(0,1,1))"
   ]
  },
  {
   "cell_type": "markdown",
   "metadata": {},
   "source": [
    "# 2D S21 vs Pump Power (for TWPA)"
   ]
  },
  {
   "cell_type": "code",
   "execution_count": null,
   "metadata": {
    "code_folding": [
     0
    ],
    "collapsed": true
   },
   "outputs": [],
   "source": [
    "#########################################################################################\n",
    "# set up parameters\n",
    "\n",
    "##PNA Settings\n",
    "startFreq, endFreq =3.0e9, 10e9 # [Hz] 6.775e9 , 6.945e9 #6.881e9, 6.885e9 # 6.904e9, 6.912e9 #Probe Frequency (PNA)\n",
    "numPoints, avg = 801, 1\n",
    "IFStart, IFEnd =500, 500 # [Hz] IF Bandwidth\n",
    "\n",
    "##Pump Settings\n",
    "startPwr, endPwr, stepPwr = -20, -15, 1 # [Hz] Pump Frequency sweep (startPwr,endPwr) and step (stepPwr) (Looks like variable is for power?)\n",
    "pumpFreq = 7.606e9 #7.568e9\n",
    "\n",
    "sampleID = 'TWPA'\n",
    "suffix=''\n",
    "\n",
    "# Save to directory here\n",
    "\n",
    "#save_path = r'Z:\\User\\Jaseung\\projects\\CSFQ\\measurement\\W11\\A8\\ADR2'\n",
    "#save_path = r'Z:\\User\\Jaseung\\projects\\CSFQ\\measurement\\IBM\\384QB56\\BF'\n",
    "save_path = r'Z:\\User\\Andrew\\TWPA' \n",
    "#save_path = r'Z:\\Experiments\\ADR2\\Flux noise\\FN04262017B\\AB04_2'\n",
    "commentStr=''  # comment to be placed in the log file.\n",
    "\n",
    "############################################################################################\n",
    "\n",
    "# IFbandwidth scales up linearly as power increases.\n",
    "IF_arr = np.linspace(IFStart, IFEnd, np.arange(startPwr, endPwr + stepPwr, stepPwr).size) \n",
    "\n",
    "# dictionary for parameters to be saved in json file. Solely for log.\n",
    "xID, xStart, xEnd, xStep = 'Power (dBm)', startPwr, endPwr, stepPwr\n",
    "yID, yStart, yEnd, yStep = 'Frequency (Hz)',startFreq, endFreq, (endFreq-startFreq)/(numPoints-1)\n",
    "para = dict([('xID', xID), ('xStart', xStart), ('xEnd', xEnd)\n",
    "             , ('yID', yID), ('yStart', yStart), ('yEnd', yEnd)\n",
    "             , ('numPoints',numPoints), ('IFbandwidth start (Hz)', IF_arr[0]),('IFbandwidth end (Hz)', IF_arr[-1])\n",
    "             , ('avg',avg), ('pump Freq', ),('comment', commentStr)])\n",
    "\n",
    "\n",
    "# file setup\n",
    "if fridgeType=='ADR2': # Which fridge we are at.\n",
    "    FAA = float(lsci.tempGet('B')) # get temperature\n",
    "else:\n",
    "    FAA = 0\n",
    "timeStr = time.strftime(\"%H%M%S\")\n",
    "baseStr = sampleID + '_'+'S21vsFvsP_fr{:.9g}_{:.9g}_Pp{:.4g}_{:.4g}_{:.4g}_fp{:.9g}_T{:.4g}_{}_{}'\n",
    "baseFileName = baseStr.format(startFreq/1e9, endFreq/1e9, startPwr, endPwr, stepPwr, pumpFreq, FAA, suffix, timeStr)\n",
    "dataFileName_mag, dataFileName_phase  = (os.path.join(save_path, baseFileName + '_mag.dat'), \n",
    "                                         os.path.join(save_path, baseFileName + '_phase.dat'))\n",
    "logFileName =  os.path.join(save_path, baseFileName + '.json') # Name on saved file.\n",
    "with open(logFileName, 'w') as f:\n",
    "    json.dump(para,f,indent=4, sort_keys=True)\n",
    "\n",
    "# plot setup\n",
    "plotobj= myplots_py3.plot2D(xlabel = 'Pump Power(dBm)', ylabel='Probe Frequency (Hz)', title = baseFileName)\n",
    "\n",
    "# preconfigure instrument (for PNA)\n",
    "pna.setupMeas()\n",
    "pna.setSweepType('linear')\n",
    "pna.setFreqStartEnd(startFreq, endFreq)\n",
    "pna.avgCount(avg)\n",
    "pna.numPoints(numPoints)\n",
    "pna.pwrOn() #Turn on PNA Power\n",
    "\n",
    "pump.setFreq(pumpFreq) #Set Pump Frequency\n",
    "pump.pwrOn()\n",
    "\n",
    "# data initialization\n",
    "S21_mag_log_2D, S21_phase_2D = np.array([]), np.array([])\n",
    "\n",
    "### \n",
    "i=0\n",
    "# sweep start\n",
    "for pwr in np.arange(startPwr, endPwr + stepPwr, stepPwr): # traverse in [pmin, pmax].\n",
    "    \n",
    "    clear_output()\n",
    "    print('startPwr={:.3g} dBm, endPwr={:.3g} dBm, current power={:.3g} dBm'.format(startPwr, endPwr, pwr))\n",
    "    \n",
    "    # configure\n",
    "    pna.setIF(IF_arr[i]) \n",
    "    pna.avgClear()\n",
    "    pump.setPwr(pwr)\n",
    "    i += 1\n",
    "\n",
    "    # fetch data from PNA\n",
    "    freq, S21 = pna.getData(cplx=True) # S21 in linear scale\n",
    "    \n",
    "    # S21 conversion\n",
    "    S21_real, S21_imag = np.real(S21), np.imag(S21)\n",
    "    S21_mag, S21_phase = np.sqrt(S21_real**2 + S21_imag**2), np.angle(S21, deg=True) # phase in degree\n",
    "    S21_mag_log = 20.0 * np.log10(S21_mag)    # [dB]\n",
    "    \n",
    "    if S21_mag_log_2D.size == 0: # when S21_mag_2D is empty\n",
    "        S21_mag_log_2D = S21_mag_log\n",
    "        S21_mag_log_2D.shape = (S21_mag_log.size, 1)\n",
    "        S21_phase_2D = S21_phase\n",
    "        S21_phase_2D.shape = (S21_phase.size, 1)\n",
    "    else:\n",
    "        S21_mag_log_2D = np.column_stack((S21_mag_log_2D, S21_mag_log))\n",
    "        S21_phase_2D = np.column_stack((S21_phase_2D, S21_phase))\n",
    "     \n",
    "    # 2D plot update\n",
    "    extent = [startPwr, pwr, startFreq, endFreq]\n",
    "    \n",
    "    plotobj.update(S21_mag_log_2D, extent)\n",
    "        \n",
    "    # save data in each iteration\n",
    "    f_mag = open(dataFileName_mag, 'wb') \n",
    "    f_phase = open(dataFileName_phase, 'wb') \n",
    "    np.savetxt(f_mag, S21_mag_log_2D, fmt='%.9g', delimiter='\\t') \n",
    "    np.savetxt(f_phase, S21_phase_2D, fmt='%.9g', delimiter='\\t')\n",
    "    f_mag.close()\n",
    "    f_phase.close()\n",
    "    \n",
    "# Post measurement    \n",
    "pna.pwrOff()\n",
    "plotobj.fig.savefig(os.path.join(save_path, baseFileName + '.png'))\n",
    "print('Measurement complete!!!')"
   ]
  },
  {
   "cell_type": "markdown",
   "metadata": {},
   "source": [
    "# 2D S21 vs Pump Freq (for TWPA) "
   ]
  },
  {
   "cell_type": "code",
   "execution_count": 8,
   "metadata": {
    "ExecuteTime": {
     "end_time": "2019-05-20T18:47:29.564937Z",
     "start_time": "2019-05-20T18:47:03.595551Z"
    },
    "code_folding": [],
    "collapsed": true
   },
   "outputs": [],
   "source": [
    "# N=50\n",
    "# VP1list = list(np.linspace(sim_p1.askVoltage(),-0,N))\n",
    "# VP2list = list(np.linspace(sim_p2.askVoltage(),-0,N))\n",
    "# VSlist = list(np.linspace(sim_s.askVoltage(),-1,N))\n",
    "# for (vp1,vp2,vs) in zip(VP1list,VP2list,VSlist):\n",
    "#     sim_p1.setVoltage(vp1)\n",
    "#     sim_p2.setVoltage(vp2)\n",
    "#     sim_s.setVoltage(vs)\n",
    "#     time.sleep(0.5)\n",
    "N=51\n",
    "VP1list = list(np.linspace(-.7,0.225*4,N))\n",
    "VP2list = list(np.linspace(-2.9,-0.35*4,N))\n",
    "VSlist = list(np.linspace(1,-1.1,N))\n",
    "for (vp1,vp2,vs) in zip(VP1list,VP2list,VSlist):\n",
    "    sim_p1.setVoltage(vp1)\n",
    "    sim_p2.setVoltage(vp2)\n",
    "#     sim_s.setVoltage(vs)\n",
    "    time.sleep(0.2)"
   ]
  },
  {
   "cell_type": "markdown",
   "metadata": {},
   "source": [
    "# S21 vs Freq vs Flux, 2D flux scan"
   ]
  },
  {
   "cell_type": "code",
   "execution_count": 19,
   "metadata": {
    "ExecuteTime": {
     "end_time": "2020-01-07T22:40:05.308438Z",
     "start_time": "2020-01-07T22:37:41.084552Z"
    }
   },
   "outputs": [
    {
     "ename": "COMError",
     "evalue": "(-2147418113, 'Catastrophic failure', ('An internal error occurred.  Please contact your I/O vendor.', 'BasicFormattedIO', 'C:\\\\Users\\\\labuser\\\\Anaconda3\\\\visacom.chm', 1011, None))",
     "output_type": "error",
     "traceback": [
      "\u001b[1;31m---------------------------------------------------------------------------\u001b[0m",
      "\u001b[1;31mCOMError\u001b[0m                                  Traceback (most recent call last)",
      "\u001b[1;32m<timed exec>\u001b[0m in \u001b[0;36m<module>\u001b[1;34m\u001b[0m\n",
      "\u001b[1;32mZ:\\User\\Jaseung\\programs\\pythonCode\\Instrument Driver\\KeysightP9372A.py\u001b[0m in \u001b[0;36msetupMeas\u001b[1;34m(self, meas, name)\u001b[0m\n\u001b[0;32m     65\u001b[0m         '''\n\u001b[0;32m     66\u001b[0m         \u001b[1;32mif\u001b[0m \u001b[0mmeas\u001b[0m \u001b[1;32min\u001b[0m \u001b[1;33m[\u001b[0m\u001b[1;34m'S11'\u001b[0m\u001b[1;33m,\u001b[0m \u001b[1;34m'S12'\u001b[0m\u001b[1;33m,\u001b[0m \u001b[1;34m'S21'\u001b[0m\u001b[1;33m,\u001b[0m \u001b[1;34m'S22'\u001b[0m\u001b[1;33m]\u001b[0m\u001b[1;33m:\u001b[0m\u001b[1;33m\u001b[0m\u001b[1;33m\u001b[0m\u001b[0m\n\u001b[1;32m---> 67\u001b[1;33m             \u001b[0mself\u001b[0m\u001b[1;33m.\u001b[0m\u001b[0mwrite\u001b[0m\u001b[1;33m(\u001b[0m\u001b[1;34m\"CALCulate:PARameter:DEFine:EXT '{}',{}\"\u001b[0m\u001b[1;33m.\u001b[0m\u001b[0mformat\u001b[0m\u001b[1;33m(\u001b[0m\u001b[0mname\u001b[0m\u001b[1;33m,\u001b[0m \u001b[0mmeas\u001b[0m\u001b[1;33m)\u001b[0m\u001b[1;33m)\u001b[0m\u001b[1;33m\u001b[0m\u001b[1;33m\u001b[0m\u001b[0m\n\u001b[0m\u001b[0;32m     68\u001b[0m             \u001b[0mself\u001b[0m\u001b[1;33m.\u001b[0m\u001b[0mwrite\u001b[0m\u001b[1;33m(\u001b[0m\u001b[1;34m\"DISPlay:WINDow1:TRACe1:FEED '{}'\"\u001b[0m\u001b[1;33m.\u001b[0m\u001b[0mformat\u001b[0m\u001b[1;33m(\u001b[0m\u001b[0mname\u001b[0m\u001b[1;33m)\u001b[0m\u001b[1;33m)\u001b[0m\u001b[1;33m\u001b[0m\u001b[1;33m\u001b[0m\u001b[0m\n\u001b[0;32m     69\u001b[0m             \u001b[0mself\u001b[0m\u001b[1;33m.\u001b[0m\u001b[0mmeasurements\u001b[0m\u001b[1;33m.\u001b[0m\u001b[0mappend\u001b[0m\u001b[1;33m(\u001b[0m\u001b[0mname\u001b[0m\u001b[1;33m)\u001b[0m\u001b[1;33m\u001b[0m\u001b[1;33m\u001b[0m\u001b[0m\n",
      "\u001b[1;32mZ:\\User\\Jaseung\\programs\\pythonCode\\Instrument Driver\\KeysightP9372A.py\u001b[0m in \u001b[0;36mwrite\u001b[1;34m(self, command)\u001b[0m\n\u001b[0;32m     27\u001b[0m     \u001b[1;32mdef\u001b[0m \u001b[0mwrite\u001b[0m\u001b[1;33m(\u001b[0m\u001b[0mself\u001b[0m\u001b[1;33m,\u001b[0m \u001b[0mcommand\u001b[0m\u001b[1;33m)\u001b[0m\u001b[1;33m:\u001b[0m\u001b[1;33m\u001b[0m\u001b[1;33m\u001b[0m\u001b[0m\n\u001b[0;32m     28\u001b[0m         \u001b[1;34m\"\"\"Write commands to Instrument\"\"\"\u001b[0m\u001b[1;33m\u001b[0m\u001b[1;33m\u001b[0m\u001b[0m\n\u001b[1;32m---> 29\u001b[1;33m         \u001b[0mself\u001b[0m\u001b[1;33m.\u001b[0m\u001b[0mVNAObj\u001b[0m\u001b[1;33m.\u001b[0m\u001b[0mSystem\u001b[0m\u001b[1;33m.\u001b[0m\u001b[0mScpiPassThrough\u001b[0m\u001b[1;33m.\u001b[0m\u001b[0mWriteString\u001b[0m\u001b[1;33m(\u001b[0m\u001b[0mcommand\u001b[0m\u001b[1;33m)\u001b[0m\u001b[1;33m\u001b[0m\u001b[1;33m\u001b[0m\u001b[0m\n\u001b[0m\u001b[0;32m     30\u001b[0m \u001b[1;33m\u001b[0m\u001b[0m\n\u001b[0;32m     31\u001b[0m     \u001b[1;32mdef\u001b[0m \u001b[0mread\u001b[0m\u001b[1;33m(\u001b[0m\u001b[0mself\u001b[0m\u001b[1;33m)\u001b[0m\u001b[1;33m:\u001b[0m\u001b[1;33m\u001b[0m\u001b[1;33m\u001b[0m\u001b[0m\n",
      "\u001b[1;31mCOMError\u001b[0m: (-2147418113, 'Catastrophic failure', ('An internal error occurred.  Please contact your I/O vendor.', 'BasicFormattedIO', 'C:\\\\Users\\\\labuser\\\\Anaconda3\\\\visacom.chm', 1011, None))"
     ]
    },
    {
     "data": {
      "image/png": "[encoded data removed]",
      "text/plain": [
       "<Figure size 720x360 with 1 Axes>"
      ]
     },
     "metadata": {
      "needs_background": "light"
     },
     "output_type": "display_data"
    }
   ],
   "source": [
    "%%time\n",
    "###########################################################################\n",
    "# set up parameters\n",
    "startFreq, endFreq = 6.69, 6.692e9\n",
    "power = -36\n",
    "numPoints, IFbandwidth, avg = 801, 100000, 50\n",
    "startVolt, endVolt, stepVolt = -2, 2, 0.25\n",
    "\n",
    "sweepVoltSrc = 1 # 1: Vchip, 2: Vglb\n",
    "Vglb_init = 0\n",
    "Vglb_end = 0  \n",
    "Vchip_init =0\n",
    "Vchip_end = 0\n",
    "\n",
    "sampleID = 'D3'\n",
    "suffix = 'Gate'\n",
    "#save_path = r'Z:\\User\\Jaseung\\projects\\CSFQ\\measurement\\W19\\B3\\ADR1'\n",
    "#save_path = r'Z:\\User\\Andrew\\Flip-Chip_measurements\\HYP2'\n",
    "save_path = r'Z:\\Experiments\\Dirty Aluminum\\Qubit\\111919NbA\\ADR1\\D3'\n",
    "commentStr ='Flux_Test'\n",
    "############################################################################\n",
    "\n",
    "# dictionary for parameters to be saved in json file. Solely for log.\n",
    "xID, xStart, xEnd, xStep = 'Volt (V)', startVolt, endVolt, stepVolt\n",
    "yID, yStart, yEnd, yStep = 'Frequency (Hz)',startFreq, endFreq, (endFreq-startFreq)/(numPoints-1)\n",
    "para = dict([('xID', xID), ('xStart', xStart), ('xEnd', xEnd)\n",
    "             , ('yID', yID), ('yStart', yStart), ('yEnd', yEnd), ('Power (dBm)', power)\n",
    "             , ('numPoints',numPoints), ('IFbandwidth (Hz)', IFbandwidth) \n",
    "             , ('avg',avg), ('comment', commentStr)])\n",
    "\n",
    "# file setup\n",
    "if fridgeType=='ADR2':\n",
    "    FAA = float(lsci.tempGet('B')) # get temperature\n",
    "else :\n",
    "    FAA = 0    \n",
    "timeStr = time.strftime(\"%H%M%S\")\n",
    "baseStr = sampleID + '_S21vsFvsV_fr{:.9g}_{:.9g}_Pr{:.4g}_V{}_{}_{}_T{:.4g}_{}_{}'\n",
    "baseFileName = baseStr.format(startFreq/1e9, endFreq/1e9, power, startVolt, endVolt, stepVolt, FAA, suffix, timeStr)\n",
    "dataFileName_mag, dataFileName_phase  = (os.path.join(save_path, baseFileName + '_mag.dat'), \n",
    "                                         os.path.join(save_path, baseFileName + '_phase.dat'))\n",
    "logFileName =  os.path.join(save_path, baseFileName + '.json')\n",
    "with open(logFileName, 'w') as f:\n",
    "    json.dump(para,f,indent=4, sort_keys=True)\n",
    "\n",
    "# plot setup\n",
    "plotobj= myplots_py3.plot2D(ylabel = 'Frequency (Hz)', xlabel='Volt (V)', title = baseFileName)\n",
    "\n",
    "# preconfigure instrument\n",
    "# pna.connect()\n",
    "pna.setupMeas()\n",
    "time.sleep(0.1)\n",
    "# pna.setSweepType('linear')\n",
    "pna.setFreqStartEnd(startFreq, endFreq)\n",
    "time.sleep(0.1)\n",
    "pna.setPwr(power)\n",
    "time.sleep(0.1)\n",
    "pna.avgCount(avg)\n",
    "time.sleep(0.1)\n",
    "pna.numPoints(numPoints)\n",
    "time.sleep(0.1)\n",
    "pna.setIF(IFbandwidth)\n",
    "time.sleep(0.1)\n",
    "pna.pwrOn()\n",
    "time.sleep(0.1)\n",
    "\n",
    "#sim_glb.setVoltage(Vglb_init)\n",
    "#sim_chip.setVoltage(Vchip_init)\n",
    "# sim_glb.setVoltage(startVolt)\n",
    "#sim_chip.setVoltage(startVolt)\n",
    "# sim_s.setVoltage(startVolt)\n",
    "\n",
    "time.sleep(2)\n",
    "\n",
    "# data initialization\n",
    "S21_mag_log_2D, S21_phase_2D = np.array([]), np.array([])\n",
    "\n",
    "################ sweep start ################\n",
    "for volt in np.arange(startVolt, endVolt + stepVolt, stepVolt): # traverse in [pmin, pmax].\n",
    "    clear_output()\n",
    "    print('startV={:.3g} V, endV={:.3g} V, current volt={:.3g} V'.format(startVolt, endVolt, volt))\n",
    "\n",
    "    # configure\n",
    "    if sweepVoltSrc==1:\n",
    "        setVoltage(volt)\n",
    "#         pass\n",
    "    elif sweepVoltSrc==2:\n",
    "        sim_p1.setVoltage(volt)\n",
    "        \n",
    "    #time.sleep(0.5)\n",
    "    pna.avgClear()\n",
    "    time.sleep(0.1)\n",
    "    \n",
    "    # fetch data from PNA\n",
    "    freq, S21 = pna.getData(cplx=True) # S21 in linear scale\n",
    "    time.sleep(0.1)\n",
    "    \n",
    "    # S21 conversion\n",
    "    S21_real, S21_imag = np.real(S21), np.imag(S21)\n",
    "    S21_mag, S21_phase = np.sqrt(S21_real**2 + S21_imag**2), np.angle(S21, deg=True) # phase in degree\n",
    "    S21_mag_log = 20.0 * np.log10(S21_mag)    # dB\n",
    "    \n",
    "    if S21_mag_log_2D.size == 0: # when S21_mag_2D is empty\n",
    "        S21_mag_log_2D = S21_mag_log\n",
    "        #S21_mag_log_2D = S21_real\n",
    "        S21_mag_log_2D.shape = (S21_mag_log.size, 1)\n",
    "        S21_phase_2D = S21_phase\n",
    "        #S21_phase_2D = S21_imag\n",
    "        S21_phase_2D.shape = (S21_phase.size, 1)\n",
    "    else:\n",
    "        S21_mag_log_2D = np.column_stack((S21_mag_log_2D, S21_mag_log))\n",
    "        S21_phase_2D = np.column_stack((S21_phase_2D, S21_phase))\n",
    "        #S21_mag_log_2D = np.column_stack((S21_mag_log_2D, S21_real))\n",
    "        #S21_phase_2D = np.column_stack((S21_phase_2D, S21_imag))\n",
    "    \n",
    "    # plot update\n",
    "    extent = [startVolt, volt, startFreq, endFreq]\n",
    "    plotobj.update(S21_mag_log_2D, extent)\n",
    "        \n",
    "    # save data in each iteration\n",
    "#     f_mag = open(dataFileName_mag, 'w') \n",
    "#     f_phase = open(dataFileName_phase, 'w') \n",
    "#     np.savetxt(f_mag, S21_mag_log_2D, fmt='%.9g', delimiter='\\t') \n",
    "#     np.savetxt(f_phase, S21_phase_2D, fmt='%.9g', delimiter='\\t')\n",
    "#     f_mag.close()\n",
    "#     f_phase.close()\n",
    "    \n",
    "############## sweep end #########################    \n",
    "# save at the end\n",
    "f_mag = open(dataFileName_mag, 'wb') \n",
    "f_phase = open(dataFileName_phase, 'wb') \n",
    "np.savetxt(f_mag, S21_mag_log_2D, fmt='%.9g', delimiter='\\t') \n",
    "np.savetxt(f_phase, S21_phase_2D, fmt='%.9g', delimiter='\\t')\n",
    "f_mag.close()\n",
    "f_phase.close()\n",
    "\n",
    " \n",
    "# Post measurement   \n",
    "del S21_mag_log_2D, S21_phase_2D\n",
    "pna.pwrOff()\n",
    "time.sleep(0.1)\n",
    "# sim_s.setVoltage(Vglb_end)\n",
    "#sim_chip.setVoltage(Vchip_end)\n",
    "plotobj.fig.savefig(os.path.join(save_path, baseFileName + '.png'))\n",
    "print('Measurement done!!!')"
   ]
  },
  {
   "cell_type": "code",
   "execution_count": 13,
   "metadata": {
    "ExecuteTime": {
     "end_time": "2019-05-30T19:20:16.305436Z",
     "start_time": "2019-05-30T19:14:06.946085Z"
    },
    "scrolled": false
   },
   "outputs": [
    {
     "name": "stdout",
     "output_type": "stream",
     "text": [
      "startV=-2 V, endV=2 V, current volt=2 V\n",
      "Measurement done!!!\n"
     ]
    }
   ],
   "source": [
    "# %%time\n",
    "###########################################################################\n",
    "# Multi scan\n",
    "\n",
    "# set up parameters\n",
    "startFreq, endFreq = 6.1e9, 6.3e9\n",
    "startFreq2, endFreq2 = 7e9, 7.2e9\n",
    "startFreq3, endFreq3 = 7.94e9, 8.04e9\n",
    "# startFreq, endFreq = 6.0204e9, 6.1502e9\n",
    "power = -50\n",
    "numPoints, IFbandwidth, avg = 801, 100000, 50\n",
    "startVolt, endVolt, stepVolt = -1,1,.05\n",
    "\n",
    "sweepVoltSrc = 2 # 1: Vchip, 2: Vglb\n",
    "Vglb_init = 0\n",
    "Vglb_end = 0 \n",
    "Vchip_init =0\n",
    "Vchip_end = 0\n",
    "\n",
    "sampleID = 'PlaquetteC1'\n",
    "suffix = 'Plaq1_multiscan'\n",
    "\n",
    "# save_path = r'Z:\\PHY-PRL-Labshare\\Experiments\\Dirty Aluminum\\RF_SQUID\\0506'\n",
    "save_path = r'Z:\\Experiments\\JPM\\JPM-SFQ\\W0\\Die2'\n",
    "\n",
    "commentStr =''\n",
    "############################################################################\n",
    "\n",
    "# dictionary for parameters to be saved in json file. Solely for log.\n",
    "xID, xStart, xEnd, xStep = 'Volt (V)', startVolt, endVolt, stepVolt\n",
    "yID, yStart, yEnd, yStep = 'Frequency (Hz)',startFreq, endFreq, (endFreq-startFreq)/(numPoints-1)\n",
    "para = dict([('xID', xID), ('xStart', xStart), ('xEnd', xEnd)\n",
    "             , ('yID', yID), ('yStart', yStart), ('yEnd', yEnd), ('Power (dBm)', power)\n",
    "             , ('numPoints',numPoints), ('IFbandwidth (Hz)', IFbandwidth) \n",
    "             , ('avg',avg), ('comment', commentStr)])\n",
    "\n",
    "# file setup\n",
    "if fridgeType=='ADR2':\n",
    "    FAA = float(lsci.tempGet('B')) # get temperature\n",
    "else :\n",
    "    FAA = 0    \n",
    "timeStr = time.strftime(\"%H%M%S\")\n",
    "baseStr = sampleID + '_S21vsFvsV_fr{:.9g}_{:.9g}_Pr{:.4g}_V{}_{}_{}_T{:.4g}_{}_{}'\n",
    "\n",
    "baseFileName = baseStr.format(startFreq/1e9, endFreq/1e9, power, startVolt, endVolt, stepVolt, FAA, suffix, timeStr)\n",
    "baseFileName2 = baseStr.format(startFreq2/1e9, endFreq2/1e9, power, startVolt, endVolt, stepVolt, FAA, suffix, timeStr)\n",
    "baseFileName3 = baseStr.format(startFreq3/1e9, endFreq3/1e9, power, startVolt, endVolt, stepVolt, FAA, suffix, timeStr)\n",
    "\n",
    "dataFileName_mag, dataFileName_phase  = (os.path.join(save_path, baseFileName + '_mag.dat'), \n",
    "                                         os.path.join(save_path, baseFileName + '_phase.dat'))\n",
    "\n",
    "dataFileName_mag2, dataFileName_phase2  = (os.path.join(save_path, baseFileName2 + '_mag.dat'), \n",
    "                                         os.path.join(save_path, baseFileName2 + '_phase.dat'))\n",
    "\n",
    "dataFileName_mag3, dataFileName_phase3  = (os.path.join(save_path, baseFileName3 + '_mag.dat'), \n",
    "                                         os.path.join(save_path, baseFileName3 + '_phase.dat'))\n",
    "\n",
    "\n",
    "logFileName =  os.path.join(save_path, baseFileName + '.json')\n",
    "with open(logFileName, 'w') as f:\n",
    "    json.dump(para,f,indent=4, sort_keys=True)\n",
    "\n",
    "# plot setup\n",
    "plotobj= myplots_py3.plot2D(ylabel = 'Frequency (Hz)', xlabel='Volt (V)', title = baseFileName)\n",
    "\n",
    "# preconfigure instrument\n",
    "# pna.connect()\n",
    "pna.setupMeas()\n",
    "pna.setSweepType('linear')\n",
    "pna.setFreqStartEnd(startFreq, endFreq)\n",
    "pna.setPwr(power)\n",
    "pna.avgCount(avg)\n",
    "pna.numPoints(numPoints)\n",
    "pna.setIF(IFbandwidth)\n",
    "pna.pwrOn()\n",
    "\n",
    "# sim_p1.setVoltage(-.5)\n",
    "# sim_p2.setVoltage(-.5)\n",
    "\n",
    "#sim_glb.setVoltage(Vglb_init)\n",
    "#sim_chip.setVoltage(Vchip_init)\n",
    "# sim_glb.setVoltage(startVolt)\n",
    "#sim_chip.setVoltage(startVolt)\n",
    "# sim_c.setVoltage(startVolt)\n",
    "\n",
    "time.sleep(2)\n",
    "\n",
    "# data initialization\n",
    "S21_mag_log_2D, S21_phase_2D = np.array([]), np.array([])\n",
    "S21_mag_log_2D2, S21_phase_2D2 = np.array([]), np.array([])\n",
    "S21_mag_log_2D3, S21_phase_2D3 = np.array([]), np.array([])\n",
    "# variable to keep track on iterations\n",
    "i=0\n",
    "################ sweep start ################\n",
    "for volt in np.arange(startVolt, endVolt + stepVolt, stepVolt): # traverse in [pmin, pmax].\n",
    "    clear_output()\n",
    "    print('startV={:.3g} V, endV={:.3g} V, current volt={:.3g} V'.format(startVolt, endVolt, volt))\n",
    "\n",
    "    # configure\n",
    "    if sweepVoltSrc==1:\n",
    "        sim_chip.setVoltage(volt)\n",
    "#         pass\n",
    "    elif sweepVoltSrc==2:\n",
    "        sim_p1.setVoltage(volt)\n",
    "\n",
    "        \n",
    "    pna.setFreqStartEnd(startFreq, endFreq)    \n",
    "    pna.avgClear()\n",
    "    \n",
    "    # fetch data from PNA\n",
    "    freq, S21 = pna.getData(cplx=True) # S21 in linear scale\n",
    "    \n",
    "    # S21 conversion\n",
    "    S21_real, S21_imag = np.real(S21), np.imag(S21)\n",
    "    S21_mag, S21_phase = np.sqrt(S21_real**2 + S21_imag**2), np.angle(S21, deg=True) # phase in degree\n",
    "    S21_mag_log = 20.0 * np.log10(S21_mag)    # dB\n",
    "    \n",
    "    if S21_mag_log_2D.size == 0: # when S21_mag_2D is empty\n",
    "        S21_mag_log_2D = S21_mag_log\n",
    "        S21_mag_log_2D.shape = (S21_mag_log.size, 1)\n",
    "        S21_phase_2D = S21_phase\n",
    "        S21_phase_2D.shape = (S21_phase.size, 1)\n",
    "    else:\n",
    "        S21_mag_log_2D = np.column_stack((S21_mag_log_2D, S21_mag_log))\n",
    "        S21_phase_2D = np.column_stack((S21_phase_2D, S21_phase))\n",
    "    \n",
    "    \n",
    "    pna.setFreqStartEnd(startFreq2, endFreq2)    \n",
    "    pna.avgClear()\n",
    "    \n",
    "    # fetch data from PNA\n",
    "    freq, S21 = pna.getData(cplx=True) # S21 in linear scale\n",
    "    \n",
    "    # S21 conversion\n",
    "    S21_real, S21_imag = np.real(S21), np.imag(S21)\n",
    "    S21_mag, S21_phase = np.sqrt(S21_real**2 + S21_imag**2), np.angle(S21, deg=True) # phase in degree\n",
    "    S21_mag_log = 20.0 * np.log10(S21_mag)    # dB\n",
    "    \n",
    "    if S21_mag_log_2D2.size == 0: # when S21_mag_2D is empty\n",
    "        S21_mag_log_2D2 = S21_mag_log\n",
    "        S21_mag_log_2D2.shape = (S21_mag_log.size, 1)\n",
    "        S21_phase_2D2 = S21_phase\n",
    "        S21_phase_2D2.shape = (S21_phase.size, 1)\n",
    "    else:\n",
    "        S21_mag_log_2D2 = np.column_stack((S21_mag_log_2D2, S21_mag_log))\n",
    "        S21_phase_2D2 = np.column_stack((S21_phase_2D2, S21_phase))\n",
    "        \n",
    "        \n",
    "        \n",
    "    pna.setFreqStartEnd(startFreq3, endFreq3)    \n",
    "    pna.avgClear()\n",
    "    \n",
    "    # fetch data from PNA\n",
    "    freq, S21 = pna.getData(cplx=True) # S21 in linear scale\n",
    "    \n",
    "    # S21 conversion\n",
    "    S21_real, S21_imag = np.real(S21), np.imag(S21)\n",
    "    S21_mag, S21_phase = np.sqrt(S21_real**2 + S21_imag**2), np.angle(S21, deg=True) # phase in degree\n",
    "    S21_mag_log = 20.0 * np.log10(S21_mag)    # dB\n",
    "    \n",
    "    if S21_mag_log_2D3.size == 0: # when S21_mag_2D is empty\n",
    "        S21_mag_log_2D3 = S21_mag_log\n",
    "        S21_mag_log_2D3.shape = (S21_mag_log.size, 1)\n",
    "        S21_phase_2D3 = S21_phase\n",
    "        S21_phase_2D3.shape = (S21_phase.size, 1)\n",
    "    else:\n",
    "        S21_mag_log_2D3 = np.column_stack((S21_mag_log_2D3, S21_mag_log))\n",
    "        S21_phase_2D3 = np.column_stack((S21_phase_2D3, S21_phase))\n",
    "    \n",
    "    \n",
    "    \n",
    "    # plot update\n",
    "    extent = [startVolt, volt, startFreq, endFreq]\n",
    "    i=i+1\n",
    "    if i%10>0:\n",
    "        continue\n",
    "    plotobj.update(S21_mag_log_2D, extent)\n",
    "    # save data in each iteration\n",
    "#     f_mag = open(dataFileName_mag, 'w') \n",
    "#     f_phase = open(dataFileName_phase, 'w') \n",
    "#     np.savetxt(f_mag, S21_mag_log_2D, fmt='%.9g', delimiter='\\t') \n",
    "#     np.savetxt(f_phase, S21_phase_2D, fmt='%.9g', delimiter='\\t')\n",
    "#     f_mag.close()\n",
    "#     f_phase.close()\n",
    "    \n",
    "############## sweep end #########################    \n",
    "# save at the end\n",
    "# plotobj.update(S21_mag_log_2D, extent)\n",
    "f_mag = open(dataFileName_mag, 'wb') \n",
    "f_phase = open(dataFileName_phase, 'wb') \n",
    "np.savetxt(f_mag, S21_mag_log_2D, fmt='%.9g', delimiter='\\t') \n",
    "np.savetxt(f_phase, S21_phase_2D, fmt='%.9g', delimiter='\\t')\n",
    "f_mag.close()\n",
    "f_phase.close()\n",
    "\n",
    "f_mag2 = open(dataFileName_mag2, 'wb') \n",
    "f_phase2 = open(dataFileName_phase2, 'wb') \n",
    "np.savetxt(f_mag2, S21_mag_log_2D2, fmt='%.9g', delimiter='\\t') \n",
    "np.savetxt(f_phase2, S21_phase_2D2, fmt='%.9g', delimiter='\\t')\n",
    "f_mag2.close()\n",
    "f_phase2.close()\n",
    "\n",
    "f_mag3 = open(dataFileName_mag3, 'wb') \n",
    "f_phase3 = open(dataFileName_phase3, 'wb') \n",
    "np.savetxt(f_mag3, S21_mag_log_2D3, fmt='%.9g', delimiter='\\t') \n",
    "np.savetxt(f_phase3, S21_phase_2D3, fmt='%.9g', delimiter='\\t')\n",
    "f_mag3.close()\n",
    "f_phase3.close()\n",
    "\n",
    " \n",
    "# Post measurement   \n",
    "del S21_mag_log_2D, S21_phase_2D\n",
    "pna.pwrOff()\n",
    "# sim_p2.setVoltage(Vglb_end)\n",
    "#sim_chip.setVoltage(Vchip_end)\n",
    "plotobj.fig.savefig(os.path.join(save_path, baseFileName + '.png'))\n",
    "print('Measurement done!!!')\n",
    "\n",
    "# f50.close()\n",
    "\n",
    "# N=50\n",
    "# VP1list = list(np.linspace(0,0,N))\n",
    "# VP2list = list(np.linspace(0,0,N))\n",
    "# VSlist = list(np.linspace(5,0,N))\n",
    "# for (vp1,vp2,vs) in zip(VP1list,VP2list,VSlist):\n",
    "#     sim_p1.setVoltage(vp1)\n",
    "#     sim_p2.setVoltage(vp2)\n",
    "#     sim_s.setVoltage(vs)\n",
    "#     time.sleep(0.5)"
   ]
  },
  {
   "cell_type": "code",
   "execution_count": null,
   "metadata": {
    "ExecuteTime": {
     "end_time": "2018-09-08T20:23:12.264938Z",
     "start_time": "2018-09-08T20:23:12.256944Z"
    },
    "collapsed": true
   },
   "outputs": [],
   "source": [
    "sim_s.setVoltage(0)"
   ]
  },
  {
   "cell_type": "code",
   "execution_count": null,
   "metadata": {
    "collapsed": true
   },
   "outputs": [],
   "source": [
    "sim_v.getVoltage(3)"
   ]
  },
  {
   "cell_type": "code",
   "execution_count": null,
   "metadata": {
    "ExecuteTime": {
     "end_time": "2018-08-17T18:35:12.829767Z",
     "start_time": "2018-08-17T18:35:12.629879Z"
    },
    "code_folding": [
     3
    ],
    "collapsed": true
   },
   "outputs": [],
   "source": [
    "%%time\n",
    "###########################################################################\n",
    "# set up parameters\n",
    "def starkvsflux( flux, freqstart, freqend):\n",
    "    startFreq, endFreq = 9.105e9, 9.129e9\n",
    "    power = -70\n",
    "    numPoints, IFbandwidth, avg = 1601, 100000, 100\n",
    "    startVolt, endVolt, stepVolt = -5, 5, 0.5\n",
    "\n",
    "    sweepVoltSrc = 2 # 1: Vchip, 2: Vglb\n",
    "    Vglb_init = 0\n",
    "    Vglb_end = 0  \n",
    "    Vchip_init =0\n",
    "    Vchip_end = 0\n",
    "\n",
    "    sampleID = 'PLAQUETTE'\n",
    "    suffix = 'Bobbin'\n",
    "    #save_path = r'Z:\\User\\Jaseung\\projects\\CSFQ\\measurement\\W19\\B3\\ADR1'\n",
    "    #save_path = r'Z:\\User\\Andrew\\Flip-Chip_measurements\\HYP2'\n",
    "    save_path = r'C:\\Users\\Lab User\\Desktop\\Plaquette\\RF_SQUID\\0602'\n",
    "    #save_path = r'Z:\\User\\JJ\\SFQ3\\HYP1'\n",
    "    #save_path = r'Z:\\User\\Jaseung\\projects\\CSFQ\\measurement\\W14\\B8\\ADR2'\n",
    "    #save_path=r'Z:\\User\\Jaseung\\projects\\CSFQ\\measurement\\IBM\\384QB56\\BF'\n",
    "    #save_path=r'Z:\\User\\Jaseung\\projects\\CSFQ\\measurement\\W11\\DD5\\BF'\n",
    "    #save_path = r'Z:\\User\\Jaseung\\projects\\CSFQ\\measurement\\W11\\A8\\ADR2'\n",
    "    #save_path = r'Z:\\User\\Caleb\\ch061'\n",
    "    #save_path = r'C:\\Users\\Lab User\\Desktop\\Flux'\n",
    "    commentStr =''\n",
    "    ############################################################################\n",
    "\n",
    "    # dictionary for parameters to be saved in json file. Solely for log.\n",
    "    xID, xStart, xEnd, xStep = 'Volt (V)', startVolt, endVolt, stepVolt\n",
    "    yID, yStart, yEnd, yStep = 'Frequency (Hz)',startFreq, endFreq, (endFreq-startFreq)/(numPoints-1)\n",
    "    para = dict([('xID', xID), ('xStart', xStart), ('xEnd', xEnd)\n",
    "                 , ('yID', yID), ('yStart', yStart), ('yEnd', yEnd), ('Power (dBm)', power)\n",
    "                 , ('numPoints',numPoints), ('IFbandwidth (Hz)', IFbandwidth) \n",
    "                 , ('avg',avg), ('comment', commentStr)])\n",
    "\n",
    "    # file setup\n",
    "    if fridgeType=='ADR2':\n",
    "        FAA = float(lsci.tempGet('B')) # get temperature\n",
    "    else :\n",
    "        FAA = 0    \n",
    "    timeStr = time.strftime(\"%H%M%S\")\n",
    "    baseStr = sampleID + '_S21vsFvsV_fr{:.9g}_{:.9g}_Pr{:.4g}_V{}_{}_{}_T{:.4g}_{}_{}'\n",
    "    baseFileName = baseStr.format(startFreq/1e9, endFreq/1e9, power, startVolt, endVolt, stepVolt, FAA, suffix, timeStr)\n",
    "    dataFileName_mag, dataFileName_phase  = (os.path.join(save_path, baseFileName + '_mag.dat'), \n",
    "                                             os.path.join(save_path, baseFileName + '_phase.dat'))\n",
    "    logFileName =  os.path.join(save_path, baseFileName + '.json')\n",
    "    with open(logFileName, 'w') as f:\n",
    "        json.dump(para,f,indent=4, sort_keys=True)\n",
    "\n",
    "    # plot setup\n",
    "    plotobj= myplots_py3.plot2D(ylabel = 'Frequency (Hz)', xlabel='Volt (V)', title = baseFileName)\n",
    "\n",
    "    # preconfigure instrument\n",
    "    pna.setupMeas()\n",
    "    pna.setSweepType('linear')\n",
    "    pna.setFreqStartEnd(startFreq, endFreq)\n",
    "    pna.setPwr(power)\n",
    "    pna.avgCount(avg)\n",
    "    pna.numPoints(numPoints)\n",
    "    pna.setIF(IFbandwidth)\n",
    "    pna.pwrOn()\n",
    "\n",
    "    #sim_glb.setVoltage(Vglb_init)\n",
    "    #sim_chip.setVoltage(Vchip_init)\n",
    "    # sim_glb.setVoltage(startVolt)\n",
    "    #sim_chip.setVoltage(startVolt)\n",
    "    sim_p.setVoltage(startVolt)\n",
    "\n",
    "    time.sleep(2)\n",
    "\n",
    "    # data initialization\n",
    "    S21_mag_log_2D, S21_phase_2D = np.array([]), np.array([])\n",
    "\n",
    "    ################ sweep start ################\n",
    "    for volt in np.arange(startVolt, endVolt + stepVolt, stepVolt): # traverse in [pmin, pmax].\n",
    "        clear_output()\n",
    "        print('startV={:.3g} V, endV={:.3g} V, current volt={:.3g} V'.format(startVolt, endVolt, volt))\n",
    "\n",
    "        # configure\n",
    "        if sweepVoltSrc==1:\n",
    "            sim_chip.setVoltage(volt)\n",
    "    #         pass\n",
    "        elif sweepVoltSrc==2:\n",
    "            sim_p.setVoltage(volt)\n",
    "\n",
    "        #time.sleep(0.5)\n",
    "        pna.avgClear()\n",
    "\n",
    "        # fetch data from PNA\n",
    "        freq, S21 = pna.getData(cplx=True) # S21 in linear scale\n",
    "\n",
    "        # S21 conversion\n",
    "        S21_real, S21_imag = np.real(S21), np.imag(S21)\n",
    "        S21_mag, S21_phase = np.sqrt(S21_real**2 + S21_imag**2), np.angle(S21, deg=True) # phase in degree\n",
    "        S21_mag_log = 20.0 * np.log10(S21_mag)    # dB\n",
    "\n",
    "        if S21_mag_log_2D.size == 0: # when S21_mag_2D is empty\n",
    "            S21_mag_log_2D = S21_mag_log\n",
    "            #S21_mag_log_2D = S21_real\n",
    "            S21_mag_log_2D.shape = (S21_mag_log.size, 1)\n",
    "            S21_phase_2D = S21_phase\n",
    "            #S21_phase_2D = S21_imag\n",
    "            S21_phase_2D.shape = (S21_phase.size, 1)\n",
    "        else:\n",
    "            S21_mag_log_2D = np.column_stack((S21_mag_log_2D, S21_mag_log))\n",
    "            S21_phase_2D = np.column_stack((S21_phase_2D, S21_phase))\n",
    "            #S21_mag_log_2D = np.column_stack((S21_mag_log_2D, S21_real))\n",
    "            #S21_phase_2D = np.column_stack((S21_phase_2D, S21_imag))\n",
    "\n",
    "        # plot update\n",
    "        extent = [startVolt, volt, startFreq, endFreq]\n",
    "        plotobj.update(S21_mag_log_2D, extent)\n",
    "\n",
    "        # save data in each iteration\n",
    "    #     f_mag = open(dataFileName_mag, 'w') \n",
    "    #     f_phase = open(dataFileName_phase, 'w') \n",
    "    #     np.savetxt(f_mag, S21_mag_log_2D, fmt='%.9g', delimiter='\\t') \n",
    "    #     np.savetxt(f_phase, S21_phase_2D, fmt='%.9g', delimiter='\\t')\n",
    "    #     f_mag.close()\n",
    "    #     f_phase.close()\n",
    "\n",
    "    ############## sweep end #########################    \n",
    "    # save at the end\n",
    "    f_mag = open(dataFileName_mag, 'wb') \n",
    "    f_phase = open(dataFileName_phase, 'wb') \n",
    "    np.savetxt(f_mag, S21_mag_log_2D, fmt='%.9g', delimiter='\\t') \n",
    "    np.savetxt(f_phase, S21_phase_2D, fmt='%.9g', delimiter='\\t')\n",
    "    f_mag.close()\n",
    "    f_phase.close()\n",
    "\n",
    "\n",
    "    # Post measurement   \n",
    "    del S21_mag_log_2D, S21_phase_2D\n",
    "    pna.pwrOff()\n",
    "    sim_p.setVoltage(Vglb_end)\n",
    "    #sim_chip.setVoltage(Vchip_end)\n",
    "    plotobj.fig.savefig(os.path.join(save_path, baseFileName + '.png'))\n",
    "    print('Measurement done!!!')"
   ]
  },
  {
   "cell_type": "code",
   "execution_count": null,
   "metadata": {
    "collapsed": true
   },
   "outputs": [],
   "source": []
  },
  {
   "cell_type": "markdown",
   "metadata": {},
   "source": [
    "# S21 vs Freq vs Flux, 3D flux scan"
   ]
  },
  {
   "cell_type": "code",
   "execution_count": 17,
   "metadata": {
    "code_folding": []
   },
   "outputs": [
    {
     "ename": "SyntaxError",
     "evalue": "invalid syntax (<unknown>, line 31)",
     "output_type": "error",
     "traceback": [
      "Traceback \u001b[1;36m(most recent call last)\u001b[0m:\n",
      "  File \u001b[0;32m\"C:\\Users\\labuser\\Anaconda3\\lib\\site-packages\\IPython\\core\\interactiveshell.py\"\u001b[0m, line \u001b[0;32m3326\u001b[0m, in \u001b[0;35mrun_code\u001b[0m\n    exec(code_obj, self.user_global_ns, self.user_ns)\n",
      "  File \u001b[0;32m\"<ipython-input-17-fb1a56a1bf89>\"\u001b[0m, line \u001b[0;32m1\u001b[0m, in \u001b[0;35m<module>\u001b[0m\n    get_ipython().run_cell_magic('time', '', '###########################################################################\\n# set up parameters\\nstartFreq, endFreq = 6.685e9, 6.695e9 # 6.935e9, 6.9450e9 #6.7949e9 , 6.9676e9 #6.83e9, 6.894e9#6.856e9, 7.015e9 #6.85e9, 7.05e9\\npower = -43\\nnumPoints, IFbandwidth, avg = 401, 200, 20\\nstartVolt, endVolt, stepVolt = -5, 5, 0.5 #-5, 5, 0.05 #  #-15, 15, 0.4#-20, 20, 0.5 #-1, 1.5, 0.04\\nendV = 0  # end voltage for both global and onchip flux\\nstartVolt1, endVolt1, stepVolt1 =-5, 5, 0.5\\n\\nslop, Vglb_offset = 1, 0  # Vglb = slope * Vchip + Vglb_offset. Vglb_offset is the y-intercept in Vchip(x-axxis) vs Vglb (y) axis.\\n\\n#save_path = \\'Z:\\\\User\\\\JJ\\\\SFQ2\\\\C6\\'\\nsave_path = \\'Z:\\\\Experiments\\\\Dirty Aluminum\\\\Qubit\\\\111919NbA\\\\D3\\'\\nsuffix = \\'D3\\'\\ncommentStr= \\'First2Dscan\\'.format(slope, Vglb_offset)\\n############################################################################\\n\\n# dictionary for parameters to be saved in json file. Solely for log.\\nxID, xStart, xEnd, xStep = \\'Volt (V)\\', startVolt, endVolt, stepVolt\\nyID, yStart, yEnd, yStep = \\'Frequency (Hz)\\',startFreq, endFreq, (endFreq-startFreq)/(numPoints-1)\\nzID, zStart, zEnd, zStep = \\'Volt (V)\\', startVolt1, endVolt1, stepVolt1\\npara = dict([(\\'xID\\', xID), (\\'xStart\\', xStart), (\\'xEnd\\', xEnd)\\n             , (\\'yID\\', yID), (\\'yStart\\', yStart), (\\'yEnd\\', yEnd)\\n             ,(\\'zID\\', zID), (\\'zStart\\', zStart), (\\'zEnd\\', zEnd), (\\'Power (dBm)\\', power)\\n             , (\\'numPoints\\',numPoints), (\\'IFbandwidth (Hz)\\', IFbandwidth) \\n             , (\\'avg\\',avg), (\\'comment\\', commentStr)])\\n\\n# log file setup\\nif fridgeType==\\'ADR2\\':\\n    FAA = float(lsci.tempGet(\\'B\\')) # get temperature\\nelse FAA = 0\\ntimeStr = time.strftime(\"%H%M%S\")\\nbaseStr = \\'S21vsFvsV_fr{:.9g}_{:.9g}_Pr{:.4g}_V{}_{}_{}_T{:.4g}_{}_{}\\'\\nbaseFileName = baseStr.format(startFreq/1e9, endFreq/1e9, power, startVolt, endVolt, stepVolt, FAA, suffix,timeStr)\\nlogFileName =  os.path.join(save_path, baseFileName + \\'.json\\')\\nwith open(logFileName, \\'w\\') as f:\\n    json.dump(para,f,indent=4, sort_keys=True)\\n\\n# plot setup\\n#plotobj= myplots.plot2D(ylabel = \\'Frequency(Hz)\\', xlabel=\\'Volt (V)\\', title = \\'S21 vs Freq vs Volt\\')\\n\\n# preconfigure instrument\\npna.setupMeas()\\npna.setSweepType(\\'linear\\')\\npna.setFreqStartEnd(startFreq, endFreq)\\npna.setPwr(power)\\npna.avgCount(avg)\\npna.numPoints(numPoints)\\npna.setIF(IFbandwidth)\\npna.pwrOn()\\n\\nsim_glb.setVoltage(slope * startVolt + Vglb_offset)\\nsim_chip.setVoltage(startVolt)\\n\\ntime.sleep(2)\\n\\n################ sweep start ################\\nfor Vglb_offset in np.arange(startVolt1, endVolt1+stepVolt1, stepVolt1):\\n    # data initialization\\n    S21_mag_log_2D, S21_phase_2D = np.array([]), np.array([])\\n\\n    #sim_glb.setVoltage(volt_outer)\\n    \\n    for volt_inner in np.arange(startVolt, endVolt + stepVolt, stepVolt): # traverse in [pmin, pmax].\\n        clear_output()\\n        print(\\'Vglb_offset={:.3g}\\'.format(Vglb_offset))\\n        print(\\'startV={:.3g} V, endV={:.3g} V, current volt={:.3g} V\\'.format(startVolt, endVolt, volt_inner))\\n\\n        # configure\\n        sim_chip.setVoltage(volt_inner)\\n        sim_glb.setVoltage(slope * volt_inner + Vglb_offset)\\n        time.sleep(0.1)\\n        pna.avgClear()\\n\\n        # fetch data from PNA\\n        freq, S21 = pna.getData(cplx=True) # S21 in linear scale\\n\\n        # S21 conversion\\n        S21_real, S21_imag = np.real(S21), np.imag(S21)\\n        S21_mag, S21_phase = np.sqrt(S21_real**2 + S21_imag**2), np.angle(S21, deg=True) # phase in degree\\n        S21_mag_log = 20.0 * np.log10(S21_mag)    # dB\\n\\n        if S21_mag_log_2D.size == 0: # when S21_mag_2D is empty\\n            S21_mag_log_2D = S21_mag_log\\n            S21_mag_log_2D.shape = (S21_mag_log.size, 1)\\n            S21_phase_2D = S21_phase\\n            S21_phase_2D.shape = (S21_phase.size, 1)\\n        else:\\n            S21_mag_log_2D = np.column_stack((S21_mag_log_2D, S21_mag_log))\\n            S21_phase_2D = np.column_stack((S21_phase_2D, S21_phase))\\n\\n        # plot update\\n        #extent = [startVolt, volt, startFreq, endFreq]\\n        #plotobj.update(S21_mag_log_2D, extent)\\n     \\n    sim_chip.setVoltage(endV)\\n    time.sleep(3)\\n     \\n    # save at the end of inner loop\\n    fileIdStr = \\'_Vglb_offset={:.3g}\\'.format(Vglb_offset)\\n    dataFileName_mag, dataFileName_phase  = (os.path.join(save_path, baseFileName + fileIdStr + \\'_mag.dat\\'), \\n                                             os.path.join(save_path, baseFileName + fileIdStr + \\'_phase.dat\\'))\\n    f_mag = open(dataFileName_mag, \\'w\\') \\n    f_phase = open(dataFileName_phase, \\'w\\') \\n    np.savetxt(f_mag, S21_mag_log_2D, fmt=\\'%.9g\\', delimiter=\\'\\\\t\\') \\n    np.savetxt(f_phase, S21_phase_2D, fmt=\\'%.9g\\', delimiter=\\'\\\\t\\')\\n    f_mag.close()\\n    f_phase.close()\\n############## sweep end #########################    \\n\\n# Post measurement   \\ndel S21_mag_log_2D, S21_phase_2D\\npna.pwrOff()\\nsim_glb.setVoltage(endV)\\nsim_chip.setVoltage(endV)\\nprint(\\'Measurement done!!!\\')\\n')\n",
      "  File \u001b[0;32m\"C:\\Users\\labuser\\Anaconda3\\lib\\site-packages\\IPython\\core\\interactiveshell.py\"\u001b[0m, line \u001b[0;32m2359\u001b[0m, in \u001b[0;35mrun_cell_magic\u001b[0m\n    result = fn(*args, **kwargs)\n",
      "  File \u001b[0;32m\"<C:\\Users\\labuser\\Anaconda3\\lib\\site-packages\\decorator.py:decorator-gen-62>\"\u001b[0m, line \u001b[0;32m2\u001b[0m, in \u001b[0;35mtime\u001b[0m\n",
      "  File \u001b[0;32m\"C:\\Users\\labuser\\Anaconda3\\lib\\site-packages\\IPython\\core\\magic.py\"\u001b[0m, line \u001b[0;32m187\u001b[0m, in \u001b[0;35m<lambda>\u001b[0m\n    call = lambda f, *a, **k: f(*a, **k)\n",
      "  File \u001b[0;32m\"C:\\Users\\labuser\\Anaconda3\\lib\\site-packages\\IPython\\core\\magics\\execution.py\"\u001b[0m, line \u001b[0;32m1266\u001b[0m, in \u001b[0;35mtime\u001b[0m\n    expr_ast = self.shell.compile.ast_parse(expr)\n",
      "\u001b[1;36m  File \u001b[1;32m\"C:\\Users\\labuser\\Anaconda3\\lib\\site-packages\\IPython\\core\\compilerop.py\"\u001b[1;36m, line \u001b[1;32m101\u001b[1;36m, in \u001b[1;35mast_parse\u001b[1;36m\u001b[0m\n\u001b[1;33m    return compile(source, filename, symbol, self.flags | PyCF_ONLY_AST, 1)\u001b[0m\n",
      "\u001b[1;36m  File \u001b[1;32m\"<unknown>\"\u001b[1;36m, line \u001b[1;32m31\u001b[0m\n\u001b[1;33m    else FAA = 0\u001b[0m\n\u001b[1;37m           ^\u001b[0m\n\u001b[1;31mSyntaxError\u001b[0m\u001b[1;31m:\u001b[0m invalid syntax\n"
     ]
    }
   ],
   "source": [
    "%%time\n",
    "###########################################################################\n",
    "# set up parameters\n",
    "startFreq, endFreq = 6.685e9, 6.695e9 # 6.935e9, 6.9450e9 #6.7949e9 , 6.9676e9 #6.83e9, 6.894e9#6.856e9, 7.015e9 #6.85e9, 7.05e9\n",
    "power = -43\n",
    "numPoints, IFbandwidth, avg = 401, 200, 20\n",
    "startVolt, endVolt, stepVolt = -5, 5, 0.5 #-5, 5, 0.05 #  #-15, 15, 0.4#-20, 20, 0.5 #-1, 1.5, 0.04\n",
    "endV = 0  # end voltage for both global and onchip flux\n",
    "startVolt1, endVolt1, stepVolt1 =-5, 5, 0.5\n",
    "\n",
    "slop, Vglb_offset = 1, 0  # Vglb = slope * Vchip + Vglb_offset. Vglb_offset is the y-intercept in Vchip(x-axxis) vs Vglb (y) axis.\n",
    "\n",
    "#save_path = 'Z:\\User\\JJ\\SFQ2\\C6'\n",
    "save_path = 'Z:\\Experiments\\Dirty Aluminum\\Qubit\\111919NbA\\D3'\n",
    "suffix = 'D3'\n",
    "commentStr= 'First2Dscan'.format(slope, Vglb_offset)\n",
    "############################################################################\n",
    "\n",
    "# dictionary for parameters to be saved in json file. Solely for log.\n",
    "xID, xStart, xEnd, xStep = 'Volt (V)', startVolt, endVolt, stepVolt\n",
    "yID, yStart, yEnd, yStep = 'Frequency (Hz)',startFreq, endFreq, (endFreq-startFreq)/(numPoints-1)\n",
    "zID, zStart, zEnd, zStep = 'Volt (V)', startVolt1, endVolt1, stepVolt1\n",
    "para = dict([('xID', xID), ('xStart', xStart), ('xEnd', xEnd)\n",
    "             , ('yID', yID), ('yStart', yStart), ('yEnd', yEnd)\n",
    "             ,('zID', zID), ('zStart', zStart), ('zEnd', zEnd), ('Power (dBm)', power)\n",
    "             , ('numPoints',numPoints), ('IFbandwidth (Hz)', IFbandwidth) \n",
    "             , ('avg',avg), ('comment', commentStr)])\n",
    "\n",
    "# log file setup\n",
    "if fridgeType=='ADR2':\n",
    "    FAA = float(lsci.tempGet('B')) # get temperature\n",
    "else FAA = 0\n",
    "timeStr = time.strftime(\"%H%M%S\")\n",
    "baseStr = 'S21vsFvsV_fr{:.9g}_{:.9g}_Pr{:.4g}_V{}_{}_{}_T{:.4g}_{}_{}'\n",
    "baseFileName = baseStr.format(startFreq/1e9, endFreq/1e9, power, startVolt, endVolt, stepVolt, FAA, suffix,timeStr)\n",
    "logFileName =  os.path.join(save_path, baseFileName + '.json')\n",
    "with open(logFileName, 'w') as f:\n",
    "    json.dump(para,f,indent=4, sort_keys=True)\n",
    "\n",
    "# plot setup\n",
    "#plotobj= myplots.plot2D(ylabel = 'Frequency(Hz)', xlabel='Volt (V)', title = 'S21 vs Freq vs Volt')\n",
    "\n",
    "# preconfigure instrument\n",
    "pna.setupMeas()\n",
    "pna.setSweepType('linear')\n",
    "pna.setFreqStartEnd(startFreq, endFreq)\n",
    "pna.setPwr(power)\n",
    "pna.avgCount(avg)\n",
    "pna.numPoints(numPoints)\n",
    "pna.setIF(IFbandwidth)\n",
    "pna.pwrOn()\n",
    "\n",
    "sim_glb.setVoltage(slope * startVolt + Vglb_offset)\n",
    "sim_chip.setVoltage(startVolt)\n",
    "\n",
    "time.sleep(2)\n",
    "\n",
    "################ sweep start ################\n",
    "for Vglb_offset in np.arange(startVolt1, endVolt1+stepVolt1, stepVolt1):\n",
    "    # data initialization\n",
    "    S21_mag_log_2D, S21_phase_2D = np.array([]), np.array([])\n",
    "\n",
    "    #sim_glb.setVoltage(volt_outer)\n",
    "    \n",
    "    for volt_inner in np.arange(startVolt, endVolt + stepVolt, stepVolt): # traverse in [pmin, pmax].\n",
    "        clear_output()\n",
    "        print('Vglb_offset={:.3g}'.format(Vglb_offset))\n",
    "        print('startV={:.3g} V, endV={:.3g} V, current volt={:.3g} V'.format(startVolt, endVolt, volt_inner))\n",
    "\n",
    "        # configure\n",
    "        sim_chip.setVoltage(volt_inner)\n",
    "        sim_glb.setVoltage(slope * volt_inner + Vglb_offset)\n",
    "        time.sleep(0.1)\n",
    "        pna.avgClear()\n",
    "\n",
    "        # fetch data from PNA\n",
    "        freq, S21 = pna.getData(cplx=True) # S21 in linear scale\n",
    "\n",
    "        # S21 conversion\n",
    "        S21_real, S21_imag = np.real(S21), np.imag(S21)\n",
    "        S21_mag, S21_phase = np.sqrt(S21_real**2 + S21_imag**2), np.angle(S21, deg=True) # phase in degree\n",
    "        S21_mag_log = 20.0 * np.log10(S21_mag)    # dB\n",
    "\n",
    "        if S21_mag_log_2D.size == 0: # when S21_mag_2D is empty\n",
    "            S21_mag_log_2D = S21_mag_log\n",
    "            S21_mag_log_2D.shape = (S21_mag_log.size, 1)\n",
    "            S21_phase_2D = S21_phase\n",
    "            S21_phase_2D.shape = (S21_phase.size, 1)\n",
    "        else:\n",
    "            S21_mag_log_2D = np.column_stack((S21_mag_log_2D, S21_mag_log))\n",
    "            S21_phase_2D = np.column_stack((S21_phase_2D, S21_phase))\n",
    "\n",
    "        # plot update\n",
    "        #extent = [startVolt, volt, startFreq, endFreq]\n",
    "        #plotobj.update(S21_mag_log_2D, extent)\n",
    "     \n",
    "    sim_chip.setVoltage(endV)\n",
    "    time.sleep(3)\n",
    "     \n",
    "    # save at the end of inner loop\n",
    "    fileIdStr = '_Vglb_offset={:.3g}'.format(Vglb_offset)\n",
    "    dataFileName_mag, dataFileName_phase  = (os.path.join(save_path, baseFileName + fileIdStr + '_mag.dat'), \n",
    "                                             os.path.join(save_path, baseFileName + fileIdStr + '_phase.dat'))\n",
    "    f_mag = open(dataFileName_mag, 'w') \n",
    "    f_phase = open(dataFileName_phase, 'w') \n",
    "    np.savetxt(f_mag, S21_mag_log_2D, fmt='%.9g', delimiter='\\t') \n",
    "    np.savetxt(f_phase, S21_phase_2D, fmt='%.9g', delimiter='\\t')\n",
    "    f_mag.close()\n",
    "    f_phase.close()\n",
    "############## sweep end #########################    \n",
    "\n",
    "# Post measurement   \n",
    "del S21_mag_log_2D, S21_phase_2D\n",
    "pna.pwrOff()\n",
    "sim_glb.setVoltage(endV)\n",
    "sim_chip.setVoltage(endV)\n",
    "print('Measurement done!!!')"
   ]
  },
  {
   "cell_type": "markdown",
   "metadata": {},
   "source": [
    "# S21 vs Flux1 vs Flux2, 2D flux scan"
   ]
  },
  {
   "cell_type": "code",
   "execution_count": null,
   "metadata": {
    "collapsed": true
   },
   "outputs": [],
   "source": [
    "%reset"
   ]
  },
  {
   "cell_type": "code",
   "execution_count": null,
   "metadata": {
    "collapsed": true
   },
   "outputs": [],
   "source": [
    "import sys\n",
    "for i in dir():\n",
    "    try:\n",
    "        print (i, eval(i).nbytes )\n",
    "    except:\n",
    "        print (i, sys.getsizeof(eval(i)) )"
   ]
  },
  {
   "cell_type": "code",
   "execution_count": null,
   "metadata": {
    "collapsed": true
   },
   "outputs": [],
   "source": [
    "%%time\n",
    "##############################################################################\n",
    "# set up parameters\n",
    "readoutPwr = -75\n",
    "readoutFreq = 7.14567e9 #6.7917e9 #6.792e9 #6.82e9 \n",
    "numPoints, IFbandwidth, avg = 30, 500, 1\n",
    "startVolt1, endVolt1, stepVolt1 =-3, 3, 0.02#-10, 10, 0.2 #-10, 10, 0.05 #-1.2, 1, 0.025 # outer for-loop\n",
    "startVolt2, endVolt2, stepVolt2 =-20,20, 0.25 #-20, 20, 0.5 #-20, 20, 0.5 # y axis. Inner for-loop.\n",
    "endVolt = 0\n",
    "\n",
    "suffix = 'Q6_V2=onchip'\n",
    "save_path =  r'Z:\\User\\Jaseung\\projects\\CSFQ\\measurement\\W10\\B2\\ADR2'\n",
    "commentStr='with spec setup'\n",
    "##############################################################################\n",
    "\n",
    "xID, xStart, xEnd, xStep = 'Volt1 (V)', startVolt1, endVolt1, stepVolt1\n",
    "yID, yStart, yEnd, yStep = 'Volt2 (V)', startVolt2, endVolt2, stepVolt2\n",
    "para = dict([('xID', xID), ('xStart', xStart), ('xEnd', xEnd)\n",
    "             , ('yID', yID), ('yStart', yStart), ('yEnd', yEnd)\n",
    "             , ('readoutFreq (Hz)',readoutFreq),('power (dBm)',readoutPwr)\n",
    "             , ('numPoints',numPoints), ('IFbandwidth (Hz)', IFbandwidth) \n",
    "             , ('avg',avg), ('comment', commentStr)])\n",
    "\n",
    "# file setup\n",
    "if fridgeType=='ADR2':\n",
    "    FAA = float(lsci.tempGet('B')) # get temperature\n",
    "else:\n",
    "    FAA = 0\n",
    "\n",
    "baseStr = 'S21vsV1vsV2_fr{:.9g}_Pr{:.4g}_V1_{}_{}_{}_V2_{}_{}_{}_T{:.4g}_{}'\n",
    "baseFileName = baseStr.format(readoutFreq/1e9, readoutPwr, startVolt1, endVolt1, stepVolt1, startVolt2, endVolt2, stepVolt2, FAA, suffix)\n",
    "dataFileName1  = os.path.join(save_path, baseFileName + '_mag.dat')\n",
    "dataFileName2  = os.path.join(save_path, baseFileName + '_phase.dat')\n",
    "logFileName =  os.path.join(save_path, baseFileName + '.json')\n",
    "with open(logFileName, 'w') as f_log:\n",
    "    json.dump(para, f_log, indent=4, sort_keys=True)\n",
    "\n",
    "# plot setup\n",
    "plotobj= myplots_py3.plot2D_4sub(xlabel1 = 'Voltage2 (V)', ylabel1='S21 (dB)', \n",
    "                             xlabel2 = 'Voltage2 (V)', ylabel2='Phase(degree)',\n",
    "                             xlabel3 = 'Voltage, Vglb (V)', ylabel3='Voltage, Vchip (V)',\n",
    "                             xlabel4 = 'Voltage, Vglb (V)', ylabel4='Voltage, Vchip (V)',\n",
    "                             title = 'S21 vs Global Flux vs Gradiometric Flux', figsize=(12,8))\n",
    "\n",
    "# preconfigure instrument\n",
    "pna.setupMeas()\n",
    "pna.setSweepType(mode='CW')\n",
    "pna.setCWFreq(readoutFreq)\n",
    "pna.setPwr(readoutPwr)\n",
    "pna.avgCount(avg)\n",
    "pna.numPoints(numPoints)\n",
    "pna.setIF(IFbandwidth)\n",
    "pna.pwrOn()\n",
    "\n",
    "sim_glb.setVoltage(startVolt1)\n",
    "time.sleep(2)\n",
    "sim_chip.setVoltage(startVolt2)\n",
    "time.sleep(2)\n",
    "\n",
    "# data initialization\n",
    "data1_2D, data2_2D = np.array([]), np.array([])\n",
    "\n",
    "################ sweep start ################\n",
    "#for specFreq in arange(startFreq, endFreq + stepFreq, stepFreq): # traverse in [pmin, pmax].\n",
    "for volt1 in np.arange(startVolt1, endVolt1 + stepVolt1, stepVolt1):\n",
    "    #configure para\n",
    "    sim_glb.setVoltage(volt1)\n",
    "    \n",
    "    # data initialization\n",
    "    xdata1, ydata1, ydata2 = np.array([]), np.array([]), np.array([])\n",
    "    \n",
    "    for volt2 in np.arange(startVolt2, endVolt2 + stepVolt2, stepVolt2):\n",
    "        clear_output()\n",
    "        print('startVolt1={:.3g}, endtvolt1={:.3g}'.format(startVolt1, endVolt1))\n",
    "        print('startVolt2={:.3g}, endtvolt2={:.3g}'.format(startVolt2, endVolt2))\n",
    "        print('volt1={:.3g}, volt2={:.3g}'.format(volt1, volt2)) \n",
    "        \n",
    "        # configure\n",
    "        pna.avgClear()\n",
    "        sim_chip.setVoltage(volt2)\n",
    "    \n",
    "        # fetch data from PNA\n",
    "        freq, S21= pna.getData(cplx=True) # S21 in linear scale\n",
    "    \n",
    "        # S21 conversion\n",
    "        S21_real, S21_imag = np.real(S21), np.imag(S21)\n",
    "        S21_mag, S21_phase = np.sqrt(S21_real**2 + S21_imag**2), np.angle(S21, deg=True) # phase in degree\n",
    "        S21_mag_log = 20.0 * np.log10(S21_mag)    # dB\n",
    "\n",
    "        S21_mag_log_avg = np.average(S21_mag_log) \n",
    "        S21_phase_avg = np.average(S21_phase)\n",
    "\n",
    "        xdata1 = np.append(xdata1, volt2)\n",
    "        ydata1 = np.append(ydata1, S21_mag_log_avg)\n",
    "        ydata2 = np.append(ydata2, S21_phase_avg)\n",
    "\n",
    "        # plot and update\n",
    "        plotobj.update1D(xdata1, ydata1, xdata1, ydata2)\n",
    "\n",
    "    \n",
    "    if data1_2D.size == 0: # when S21_mag_2D is empty\n",
    "        data1_2D = ydata1 # make 2D array\n",
    "        data1_2D.shape = (data1_2D.size, 1)\n",
    "        data2_2D = ydata2\n",
    "        data2_2D.shape = (data2_2D.size, 1)\n",
    "        \n",
    "    else:\n",
    "        data1_2D = np.column_stack((data1_2D, ydata1))\n",
    "        data2_2D = np.column_stack((data2_2D, ydata2))\n",
    "             \n",
    "    # plot and update\n",
    "    extent = [startVolt1, volt1, startVolt2, endVolt2]\n",
    "    plotobj.update2D(data1_2D, data2_2D, extent, cmap='Blues_r')\n",
    "    \n",
    "    # save data in each iteration\n",
    "    f_mag = open(dataFileName1, 'wb') \n",
    "    f_phase = open(dataFileName2, 'wb') \n",
    "    np.savetxt(f_mag, data1_2D, fmt='%.9g', delimiter='\\t') \n",
    "    np.savetxt(f_phase, data2_2D, fmt='%.9g', delimiter='\\t')\n",
    "    f_mag.close()\n",
    "    f_phase.close()\n",
    "     \n",
    "############## sweep end #########################    \n",
    "\n",
    "# Post measurement    \n",
    "pna.pwrOff()\n",
    "pna.setSweepType(mode='linear')\n",
    "sim_glb.setVoltage(endVolt)\n",
    "sim_chip.setVoltage(endVolt)\n",
    "f_log.close()\n",
    "plotobj.fig.savefig(os.path.join(save_path, baseFileName + '.png'))\n",
    "print('Measurement done!!!')"
   ]
  },
  {
   "cell_type": "markdown",
   "metadata": {},
   "source": [
    "# S21 vs Freq vs Flux (linear comb. of flux1 and flux2), 2D"
   ]
  },
  {
   "cell_type": "code",
   "execution_count": null,
   "metadata": {
    "collapsed": true
   },
   "outputs": [],
   "source": [
    "reload(myplots)"
   ]
  },
  {
   "cell_type": "code",
   "execution_count": null,
   "metadata": {
    "collapsed": true
   },
   "outputs": [],
   "source": [
    "%%time\n",
    "###########################################################################\n",
    "# set up parameters\n",
    "startFreq, endFreq =  6.77e9, 6.81e9 #6.83e9, 6.894e9#6.856e9, 7.015e9 #6.85e9, 7.05e9\n",
    "power = -60\n",
    "numPoints, IFbandwidth, avg = 801, 1000, 1\n",
    "startVolt, endVolt, stepVolt =-20, 20, 0.2#-20, 20, 0.5 #-1, 1.5, 0.04\n",
    "endV = 0\n",
    "\n",
    "slope, Vglb_offset =-0.3378,2.4 # 0.2107, 0# 2.484#-0.3378, -0.9641# -0.0659, 0.7   # offset means Vglb when Vchip=0\n",
    "\n",
    "#save_path = 'Z:\\User\\JJ\\sput\\M5_1_spec'\n",
    "save_path = 'Z:\\User\\Jaseung\\projects\\CSFQ\\measurement\\W3\\B7\\BlueFors\\Jan2017\\S21vsFreqvsV'\n",
    "suffix = 'Q1_xID=Vchip_slope{}_Vglb_offset{}'.format(slope, Vglb_offset)\n",
    "comment= 'slope={:.3g}, Vglb_offset={:.3g}'.format(slope, Vglb_offset)\n",
    "\n",
    "plottitle = 'S21 vs Freq vs Vchip, Vglb_offset={:.3g}'.format(Vglb_offset)\n",
    "\n",
    "############################################################################\n",
    "\n",
    "# dictionary for parameters to be saved in json file. Solely for log.\n",
    "xID, xStart, xEnd, xStep = 'Volt (V)', startVolt, endVolt, stepVolt\n",
    "yID, yStart, yEnd, yStep = 'Frequency (Hz)',startFreq, endFreq, (endFreq-startFreq)/(numPoints-1)\n",
    "para = dict([('xID', xID), ('xStart', xStart), ('xEnd', xEnd)\n",
    "             , ('yID', yID), ('yStart', yStart), ('yEnd', yEnd), ('Power (dBm)', power)\n",
    "             , ('numPoints',numPoints), ('IFbandwidth (Hz)', IFbandwidth) \n",
    "             , ('avg',avg), ('comment', comment)])\n",
    "\n",
    "# file setup\n",
    "if fridgeType=='ADR2':\n",
    "    FAA = float(lsci.tempGet('B')) # get temperature\n",
    "else FAA = 0\n",
    "\n",
    "baseStr = 'S21vsFvsV_fr{:.9g}_{:.9g}_Pr{:.4g}_V{}_{}_{}_T{:.4g}_{}'\n",
    "baseFileName = baseStr.format(startFreq/1e9, endFreq/1e9, power, startVolt, endVolt, stepVolt, FAA, suffix)\n",
    "dataFileName_mag, dataFileName_phase  = (os.path.join(save_path, baseFileName + '_mag.dat'), \n",
    "                                         os.path.join(save_path, baseFileName + '_phase.dat'))\n",
    "logFileName =  os.path.join(save_path, baseFileName + '.json')\n",
    "with open(logFileName, 'w') as f:\n",
    "    json.dump(para,f,indent=4, sort_keys=True)\n",
    "\n",
    "# plot setup\n",
    "plotobj= myplots.plot2D(ylabel = 'Frequency(Hz)', xlabel='Volt (V)', title = plottitle)\n",
    "\n",
    "# preconfigure instrument\n",
    "pna.setupMeas()\n",
    "pna.setSweepType('linear')\n",
    "pna.setFreqStartEnd(startFreq, endFreq)\n",
    "pna.setPwr(power)\n",
    "pna.avgCount(avg)\n",
    "pna.numPoints(numPoints)\n",
    "pna.setIF(IFbandwidth)\n",
    "pna.pwrOn()\n",
    "\n",
    "sim_glb.setVoltage(slope*startVolt+Vglb_offset)\n",
    "sim_chip.setVoltage(startVolt)\n",
    "time.sleep(2)\n",
    "\n",
    "# data initialization\n",
    "S21_mag_log_2D, S21_phase_2D = np.array([]), np.array([])\n",
    "\n",
    "################ sweep start ################\n",
    "for volt_chip in np.arange(startVolt, endVolt + stepVolt, stepVolt): # traverse in [pmin, pmax].\n",
    "    # configure\n",
    "    volt_glb =  slope * volt_chip + Vglb_offset\n",
    "    #volt_glb = -1/slope* (volt_chip-20) - 0.55\n",
    "    clear_output()\n",
    "    print('volt_glb={:.3g}, volt_chip={:.3g}'.format(volt_glb, volt_chip))\n",
    "    sim_chip.setVoltage(volt_chip)\n",
    "    sim_glb.setVoltage(volt_glb)\n",
    "    \n",
    "    time.sleep(0.1)\n",
    "    pna.avgClear()\n",
    "    \n",
    "    # fetch data from PNA\n",
    "    freq, S21 = pna.getData(cplx=True) # S21 in linear scale\n",
    "    \n",
    "    # S21 conversion\n",
    "    S21_real, S21_imag = np.real(S21), np.imag(S21)\n",
    "    S21_mag, S21_phase = np.sqrt(S21_real**2 + S21_imag**2), np.angle(S21, deg=True) # phase in degree\n",
    "    S21_mag_log = 20.0 * np.log10(S21_mag)    # dB\n",
    "    \n",
    "    if S21_mag_log_2D.size == 0: # when S21_mag_2D is empty\n",
    "        S21_mag_log_2D = S21_mag_log\n",
    "        S21_mag_log_2D.shape = (S21_mag_log.size, 1)\n",
    "        S21_phase_2D = S21_phase\n",
    "        S21_phase_2D.shape = (S21_phase.size, 1)\n",
    "    else:\n",
    "        S21_mag_log_2D = np.column_stack((S21_mag_log_2D, S21_mag_log))\n",
    "        S21_phase_2D = np.column_stack((S21_phase_2D, S21_phase))\n",
    "     \n",
    "    # plot update\n",
    "    extent = [startVolt, volt_chip, startFreq, endFreq]\n",
    "    plotobj.update(S21_mag_log_2D, extent)\n",
    "        \n",
    "    # save data in each iteration\n",
    "    f_mag = open(dataFileName_mag, 'w') \n",
    "    f_phase = open(dataFileName_phase, 'w') \n",
    "    np.savetxt(f_mag, S21_mag_log_2D, fmt='%.9g', delimiter='\\t') \n",
    "    np.savetxt(f_phase, S21_phase_2D, fmt='%.9g', delimiter='\\t')\n",
    "    f_mag.close()\n",
    "    f_phase.close()\n",
    "    \n",
    "############## sweep end #########################    \n",
    "\n",
    "# Post measurement    \n",
    "pna.pwrOff()\n",
    "sim_glb.setVoltage(endV)\n",
    "sim_chip.setVoltage(endV)\n",
    "plotobj.fig.savefig(os.path.join(save_path, baseFileName + '.png'))\n",
    "print('Measurement done!!!')"
   ]
  },
  {
   "cell_type": "markdown",
   "metadata": {},
   "source": [
    "# S21 vs Freq, 1D continuous sweep, no save"
   ]
  },
  {
   "cell_type": "code",
   "execution_count": null,
   "metadata": {
    "collapsed": true
   },
   "outputs": [],
   "source": [
    "# set up parameters\n",
    "startFreq, endFreq = 6e9, 6.867e9\n",
    "power = -60\n",
    "numPoints, IFbandwidth, avg = 401, 500, 1\n",
    "#volt = 0.0 # -0.65 # -2.05  #2.4\n",
    "\n",
    "# plot setup\n",
    "plotobj= myplots_py3.plot1D(ylabel = 'S21 (dB)', xlabel='Frequency (Hz)', title = 'S21 vs Freq'\n",
    "                        , plotStyle='b-o')\n",
    "\n",
    "# preconfigure instrument\n",
    "pna.setupMeas()\n",
    "pna.setSweepType('linear')\n",
    "pna.setFreqStartEnd(startFreq, endFreq)\n",
    "pna.setPwr(power)\n",
    "pna.avgCount(avg)\n",
    "pna.numPoints(numPoints)\n",
    "pna.setIF(IFbandwidth)\n",
    "pna.pwrOn()\n",
    "\n",
    "#spec.pwrOff()\n",
    "#sim_glb.setVoltage(volt)\n",
    "\n",
    "# data initialization\n",
    "S21_mag_log_2D, S21_phase_2D = np.array([]), np.array([])\n",
    "\n",
    "################ sweep start ################\n",
    "for i in range(400):\n",
    "    # configure\n",
    "    pna.avgClear()\n",
    "        \n",
    "    # fetch data from PNA\n",
    "    freq, S21 = pna.getData(cplx=True) # S21 in linear scale\n",
    "    \n",
    "    # S21 conversion\n",
    "    S21_real, S21_imag = np.real(S21), np.imag(S21)\n",
    "    S21_mag, S21_phase = np.sqrt(S21_real**2 + S21_imag**2), np.angle(S21, deg=True) # phase in degree\n",
    "    S21_mag_log = 20.0 * np.log10(S21_mag)    # dB\n",
    "    \n",
    "    # plot update\n",
    "    plotobj.update(freq/1e9, S21_mag_log)\n",
    "       \n",
    "############## sweep end #########################    \n",
    "\n",
    "# Post measurement    \n",
    "pna.pwrOff()\n"
   ]
  },
  {
   "cell_type": "markdown",
   "metadata": {},
   "source": [
    "# S21 vs Flux, 1D, CW mode"
   ]
  },
  {
   "cell_type": "code",
   "execution_count": null,
   "metadata": {
    "collapsed": true
   },
   "outputs": [],
   "source": [
    "####################################################################################################\n",
    "# set up parameters\n",
    "readoutFreq = 6.9078e9 #6.9180e9 #6.873328e9\n",
    "readoutPwr = -70\n",
    "numPoints, IFbandwidth, avg = 50, 100, 1\n",
    "startVolt, endVolt, stepVolt =0.2, 0.5, 0.003\n",
    "endV = 0\n",
    "sweepNumber = 1\n",
    "timesleep = 0.1 # sec\n",
    "\n",
    "sampleID = 'IBM384QB56'\n",
    "suffix = 'Q2CSFQ'\n",
    "# save_path = 'C:\\Users\\Lab User\\Desktop\\W4'\n",
    "#save_path = r'Z:\\User\\Jaseung\\projects\\CSFQ\\measurement\\W11\\DD5\\ADR2'\n",
    "save_path = r'Z:\\User\\Jaseung\\projects\\CSFQ\\measurement\\IBM\\384QB56\\BF\\With_circulators'\n",
    "#save_path = r'Y:\\User\\Caleb'\n",
    "######################################################################################################\n",
    "\n",
    "# dictionary for parameters to be saved in json file. Solely for log.\n",
    "header = '{:s} {:s} {:s}'.format('Frequency(Hz)', 'mag(dB)', 'phase(degree)')\n",
    "para = dict([('readout Freq (Hz)',readoutFreq),('readout Power (dBm)', readoutPwr),('numPoints',numPoints),\n",
    "             ('IFbandwidth (Hz)', IFbandwidth),('avg',avg),('start volt (V)',startVolt),('end volt (V)', endVolt),\n",
    "             ('step volt (V)',stepVolt), ('header', header)])\n",
    "\n",
    "\n",
    "# file setup\n",
    "if fridgeType=='ADR2':\n",
    "    FAA = float(lsci.tempGet('B')) # get temperature\n",
    "else :\n",
    "    FAA = 0    \n",
    "timeStr = time.strftime(\"%H%M%S\")\n",
    "baseStr = sampleID + '_S21vsV_fr{:.9g}_Pr{:.9g}_V{:.9g}_{:.9g}_{:.9g}_T{:.3g}_{}_{}'\n",
    "baseFileName = baseStr.format(readoutFreq/1e9, readoutPwr, startVolt, endVolt, stepVolt, FAA, suffix, timeStr)\n",
    "dataFileName  = os.path.join(save_path, baseFileName + '.dat')\n",
    "logFileName = os.path.join(save_path, baseFileName + '.json')\n",
    "with open(logFileName, 'w') as f:\n",
    "    json.dump(para,f,indent=4, sort_keys=True)\n",
    "\n",
    "f_data = open(dataFileName, 'a')\n",
    "   \n",
    "# plot setup\n",
    "plotobj= myplots_py3.plot1D_2sub(xlabel1 = '', ylabel1='S21 (dB)', \n",
    "                             xlabel2 = 'Volt (V)', ylabel2='Phase(degree)',\n",
    "                             title = baseFileName, plotStyle='b-')\n",
    "\n",
    "# preconfigure instrument\n",
    "pna.setupMeas()\n",
    "pna.setSweepType('CW')\n",
    "pna.setCWFreq(readoutFreq)\n",
    "pna.setPwr(readoutPwr)\n",
    "pna.avgCount(avg)\n",
    "pna.numPoints(numPoints)\n",
    "pna.setIF(IFbandwidth)\n",
    "pna.pwrOn()\n",
    "\n",
    "#spec.pwrOff()\n",
    "sim_glb.setVoltage(startVolt)\n",
    "#sim_chip.setVoltage(0)\n",
    "\n",
    "#sim_glb.setVoltage(0.148)\n",
    "#sim_chip.setVoltage(startVolt)\n",
    "\n",
    "# data initialization\n",
    "xdata, ydata1, ydata2 = np.array([]), np.array([]),np.array([])\n",
    "\n",
    "# sweeper obj\n",
    "sweeper = myutils.Sweeper1D(start=startVolt, end=endVolt, \n",
    "                            step=stepVolt, sweepNum=sweepNumber)\n",
    "\n",
    "################ sweep start ################\n",
    "#for specFreq in arange(startFreq, endFreq + stepFreq, stepFreq): # traverse in [pmin, pmax].\n",
    "print(sweeper.stop())\n",
    "\n",
    "while not sweeper.stop(): \n",
    "    # configure\n",
    "    sim_glb.setVoltage(sweeper.curr_val)\n",
    "    #sim_chip.setVoltage(sweeper.curr_val)\n",
    "    \n",
    "    time.sleep(timesleep) # sec\n",
    "    pna.avgClear()\n",
    "    \n",
    "    # fetch data from PNA\n",
    "    freq, S21= pna.getData(cplx=True) # S21 in linear scale\n",
    "    \n",
    "    # S21 conversion\n",
    "    S21_real, S21_imag = np.real(S21), np.imag(S21)\n",
    "    S21_mag, S21_phase = np.sqrt(S21_real**2 + S21_imag**2), np.angle(S21, deg=True) # phase in degree\n",
    "    S21_mag_log = 20.0 * np.log10(S21_mag)    # dB\n",
    "    S21_mag_log_avg = np.average(S21_mag_log) \n",
    "    S21_phase_avg = np.average(S21_phase)\n",
    "    \n",
    "    # create spec freq, S21 1D array\n",
    "    xdata = np.append(xdata, sweeper.curr_val)\n",
    "    ydata1 = np.append(ydata1, S21_mag_log_avg)\n",
    "    ydata2 = np.append(ydata2, S21_phase_avg)\n",
    "    \n",
    "    # plot and update\n",
    "    plotobj.update(xdata, ydata1, xdata, ydata2)\n",
    "    \n",
    "    # save data in each iteration\n",
    "    string = '{:.9g}\\t{:.3g}\\t{:.3g} \\n'.format(sweeper.curr_val, S21_mag_log_avg,S21_phase_avg)\n",
    "    f_data.write(string)\n",
    "    \n",
    "    # update sweep\n",
    "    sweeper.update()\n",
    "############## sweep end #########################    \n",
    "\n",
    "# Post measurement    \n",
    "pna.pwrOff()\n",
    "pna.setSweepType(mode='linear')\n",
    "sim_glb.setVoltage(endV)\n",
    "#sim_chip.setVoltage(endV)\n",
    "f_data.close()\n",
    "f.close()\n",
    "plotobj.fig.savefig(os.path.join(save_path, baseFileName + '.png'))\n",
    "print('Measurement done!!')\n"
   ]
  },
  {
   "cell_type": "markdown",
   "metadata": {},
   "source": [
    "# S21 vs P, 1D, CW mode"
   ]
  },
  {
   "cell_type": "code",
   "execution_count": null,
   "metadata": {
    "collapsed": true
   },
   "outputs": [],
   "source": [
    "##################################################################\n",
    "# set up parameters\n",
    "readoutFreq = 6.103142e9 #6.873328e9\n",
    "numPoints, IFbandwidth, avg = 50, 200, 1\n",
    "startPwr, endPwr, stepPwr = -70, -40, 0.5\n",
    "volt = 0\n",
    "sweepNumber = 1\n",
    "\n",
    "sampleID = ''\n",
    "suffix = ''  # suffix to the file name\n",
    "save_path = 'C:\\Users\\Lab User\\Desktop\\JJ\\A4'\n",
    "#save_path = 'Z:\\User\\Jaseung\\projects\\CSFQ\\W1\\C5\\S21vsFreq'\n",
    "##################################################################\n",
    "\n",
    "# dictionary for parameters to be saved in json file. Solely for log.\n",
    "para = dict([('readout Freq (Hz)',readoutFreq),('numPoints',numPoints)\n",
    "             ,('IFbandwidth', IFbandwidth),('avg',avg)\n",
    "             ,('Power start (dBm)',startPwr),('Power end (dBm)',endPwr), ('Power step (dBm)',stepPwr)\n",
    "             ,('voltage (V)',volt)])\n",
    "\n",
    "# file setup\n",
    "FAA = float(lsci.tempGet('B')) # unicode to num    \n",
    "baseStr = sampleID + '_S21vsP_fr{:.9g}_Pr{:.9g}_{:.9g}_{:.9g}_V{:.3g}_T{:.4g}_{}'\n",
    "baseFileName = baseStr.format(readoutFreq/1e9, startPwr, endPwr, stepPwr, volt, FAA, suffix)\n",
    "dataFileName  = os.path.join(save_path, baseFileName + '.dat')\n",
    "logFileName = os.path.join(save_path, baseFileName + '.json')\n",
    "with open(logFileName, 'w') as f:\n",
    "    json.dump(para,f,indent=4, sort_keys=True)\n",
    "f_data = open(dataFileName, 'a')\n",
    "    \n",
    "# plot setup\n",
    "plotobj= myplots.plot1D_2sub(xlabel1 = '', ylabel1='S21 (dB)', \n",
    "                             xlabel2 = 'Volt (V)', ylabel2='Phase(degree)',\n",
    "                             title = 'S21 vs Volt', plotStyle='b-o')\n",
    "\n",
    "# preconfigure instrument\n",
    "pna.setupMeas()\n",
    "pna.setSweepType('CW')\n",
    "pna.setCWFreq(readoutFreq)\n",
    "pna.avgCount(avg)\n",
    "pna.numPoints(numPoints)\n",
    "pna.setIF(IFbandwidth)\n",
    "pna.pwrOn()\n",
    "#spec.pwrOff()\n",
    "sim_glb.setVoltage(volt)\n",
    "\n",
    "# data initialization\n",
    "xdata, ydata1, ydata2 = np.array([]), np.array([]),np.array([])\n",
    "\n",
    "# sweeper obj\n",
    "sweeper = myutils.Sweeper1D(start=startPwr, end=endPwr, step=stepPwr, sweepNum=sweepNumber)\n",
    "\n",
    "################ sweep start ################\n",
    "while not sweeper.stop(): \n",
    "    # configure\n",
    "    pna.setPwr(sweeper.curr_val)\n",
    "    pna.avgClear()\n",
    "    \n",
    "    # fetch data from PNA\n",
    "    freq, S21= pna.getData(cplx=True) # S21 in linear scale\n",
    "    \n",
    "    # S21 conversion\n",
    "    S21_real, S21_imag = np.real(S21), np.imag(S21)\n",
    "    S21_mag, S21_phase = np.sqrt(S21_real**2 + S21_imag**2), np.angle(S21, deg=True) # phase in degree\n",
    "    S21_mag_log = 20.0 * np.log10(S21_mag)    # dB\n",
    "    S21_mag_log_avg = np.average(S21_mag_log) \n",
    "    S21_phase_avg = np.average(S21_phase)\n",
    "    \n",
    "    # create spec freq, S21 1D array\n",
    "    xdata = np.append(xdata, sweeper.curr_val)\n",
    "    ydata1 = np.append(ydata1, S21_mag_log_avg)\n",
    "    ydata2 = np.append(ydata2, S21_phase_avg)\n",
    "    \n",
    "    # plot and update\n",
    "    plotobj.update(xdata, ydata1, xdata, ydata2)\n",
    "    \n",
    "    # save data in each iteration\n",
    "    string = '{:.9g}\\t{:.3g}\\t{:.3g} \\n'.format(sweeper.curr_val, S21_mag_log_avg,S21_phase_avg)\n",
    "    f_data.write(string)\n",
    "    \n",
    "    # update sweep\n",
    "    sweeper.update()\n",
    "############## sweep end #########################    \n",
    "\n",
    "# Post measurement    \n",
    "pna.pwrOff()\n",
    "pna.setSweepType(mode='linear')\n",
    "#sim_glb.setVoltage(endV)\n",
    "f_data.close()\n",
    "plotobj.fig.savefig(os.path.join(save_path, baseFileName + '.png'))\n",
    "print('Measurement finished!!!')"
   ]
  },
  {
   "cell_type": "markdown",
   "metadata": {},
   "source": [
    "# Resonator Power scan"
   ]
  },
  {
   "cell_type": "code",
   "execution_count": null,
   "metadata": {
    "ExecuteTime": {
     "end_time": "2018-05-14T20:40:37.554351Z",
     "start_time": "2018-05-14T20:40:18.387810Z"
    },
    "collapsed": true
   },
   "outputs": [],
   "source": [
    "#################################################################################\n",
    "# set up parameters\n",
    "startFreq, endFreq =6.40775e9, 6.40815e9\n",
    "power = -80\n",
    "numPoints, IFbandwidth, avg = 51, 1, 3\n",
    "volt = 0 # -0.65 # -2.05  #2.4\n",
    "\n",
    "sampleID = 'W19B4'\n",
    "suffix = '6Rs'  # suffix to the file name\n",
    "#save_path = r'Z:\\User\\Yebin\\Project\\Resonator Qi test\\Samples\\12062017_W10'\n",
    "save_path = r'Z:\\User\\Yebin\\Project\\Resonator Qi test\\Samples\\05232018-W19-HF after photolithography_ADR1'\n",
    "#################################################################################\n",
    "\n",
    "# dictionary for parameters to be saved in log file.\n",
    "header = 'freq (Hz) mag(dB) phase(degree) real imag'\n",
    "para = dict([('startFreq (Hz)',startFreq),('endFreq (Hz)', endFreq),('power (dBm)',power)\n",
    "             ,('numPoints',numPoints), ('IFbandwidth (Hz)', IFbandwidth),('avg',avg)\n",
    "             ,('volt',volt), ('header', header)])\n",
    "\n",
    "# file setup\n",
    "if fridgeType=='ADR2':\n",
    "    FAA = float(lsci.tempGet('B')) # get temperature\n",
    "else :\n",
    "    FAA = 0 \n",
    "timeStr = time.strftime(\"%H%M%S\")\n",
    "baseStr = sampleID + '_S21vsF_fr{:.9g}_{:.9g}_Pr{}_V{}_T{:.4g}_{}'\n",
    "baseFileName = baseStr.format(startFreq/1e9, endFreq/1e9, power, volt, FAA, timeStr)\n",
    "dataFileName = os.path.join(save_path, baseFileName + '.dat')                                 \n",
    "logFileName =  os.path.join(save_path, baseFileName + '.json')\n",
    "\n",
    "with open(logFileName, 'w') as f:\n",
    "    json.dump(para,f,indent=4, sort_keys=True)\n",
    "\n",
    "# plot setup\n",
    "plotobj= myplots_py3.plot1D(ylabel = 'S21 (dB)', xlabel='Frequency (Hz)', title = baseFileName, plotStyle='b-')\n",
    "\n",
    "# configure instrument\n",
    "pna.setupMeas()\n",
    "pna.setSweepType('linear')\n",
    "pna.setFreqStartEnd(startFreq, endFreq)\n",
    "pna.setPwr(power)\n",
    "pna.avgCount(avg)\n",
    "pna.numPoints(numPoints)\n",
    "pna.setIF(IFbandwidth)\n",
    "pna.pwrOn()\n",
    "\n",
    "#sim_glb.setVoltage(volt)\n",
    "\n",
    "# data initialization\n",
    "#S21_mag_log_2D, S21_phase_2D = np.array([]), np.array([])\n",
    "data = np.array([])\n",
    "\n",
    "# configure\n",
    "pna.avgClear()\n",
    "        \n",
    "# fetch data from PNA\n",
    "freq, S21 = pna.getData(cplx=True) # S21 in linear scale\n",
    " \n",
    "# S21 conversion\n",
    "S21_real, S21_imag = np.real(S21), np.imag(S21)\n",
    "S21_mag, S21_phase = np.sqrt(S21_real**2 + S21_imag**2), np.angle(S21, deg=True) # phase in degree\n",
    "S21_mag_log = 20.0 * np.log10(S21_mag)    # dB\n",
    "\n",
    "# make 2D array with freq, dB, phase\n",
    "data = freq\n",
    "data.shape = (freq.size, 1)\n",
    "data = np.column_stack((data, S21_mag_log))\n",
    "data = np.column_stack((data, S21_phase))\n",
    "data = np.column_stack((data, S21_real))\n",
    "data = np.column_stack((data, S21_imag))\n",
    "     \n",
    "# plot update\n",
    "plotobj.update(freq/1e9, S21_mag_log)\n",
    "\n",
    "# save files\n",
    "f = open(dataFileName, 'wb') \n",
    "np.savetxt(f, data, fmt='%.9g', delimiter='\\t') \n",
    "\n",
    "# Post measurement   \n",
    "\n",
    "pna.pwrOff()\n",
    "f.close()\n",
    "plotobj.fig.savefig(os.path.join(save_path, baseFileName + '.png'))\n",
    "print('Measurement finished!!!')"
   ]
  },
  {
   "cell_type": "code",
   "execution_count": null,
   "metadata": {
    "ExecuteTime": {
     "end_time": "2018-05-15T19:23:54.848683Z",
     "start_time": "2018-05-15T19:23:54.680564Z"
    },
    "collapsed": true
   },
   "outputs": [],
   "source": [
    "def cav1d(startFreq, endFreq,power,numPoints, IFbandwidth, avg,width,suffix = 'R5',sampleID ='W5', \\\n",
    "          save_path=r'Z:\\User\\Yebin\\Project\\Resonator Qi test\\Samples\\02192018_W5Res_HFinCNF_Post descum\\data\\R5'):\n",
    "    #################################################################################\n",
    "    # set up parameters   \n",
    "    volt = 0 # -0.65 # -2.05  #2.4\n",
    "    #suffix = 'Q4'  # suffix to the file name\n",
    "    #################################################################################\n",
    "\n",
    "    # dictionary for parameters to be saved in log file.\n",
    "    header = 'freq (Hz) mag(dB) phase(degree) real imag'\n",
    "    para = dict([('power (dBm)',power),('startFreq (Hz)',startFreq),('endFreq (Hz)', endFreq)\n",
    "                 ,('numPoints',numPoints), ('IFbandwidth (Hz)', IFbandwidth),('avg',avg)\n",
    "                 ,('volt',volt), ('header', header)])\n",
    "\n",
    "    # file setup\n",
    "    if fridgeType=='ADR2':\n",
    "        FAA = float(lsci.tempGet('B')) # get temperature\n",
    "    else :\n",
    "        FAA = 0.0 \n",
    "    timeStr = time.strftime(\"%H%M%S\")\n",
    "    baseStr = sampleID + '_S21vsF_Pr{}_fr{:.9g}_{:.9g}_V{}_T{:.4g}_{}_{}_{}'\n",
    "    baseFileName = baseStr.format(power,startFreq/1e9, endFreq/1e9, volt, FAA,width,suffix, timeStr)\n",
    "    dataFileName = os.path.join(save_path, baseFileName + '.dat')                                 \n",
    "    logFileName =  os.path.join(save_path, baseFileName + '.json')\n",
    "\n",
    "    with open(logFileName, 'w') as f:\n",
    "        json.dump(para,f,indent=4, sort_keys=True)\n",
    "\n",
    "    # plot setup\n",
    "    plotobj= myplots_py3.plot1D(ylabel = 'S21 (dB)', xlabel='Frequency (Hz)', title = baseFileName, plotStyle='b-')\n",
    "\n",
    "    # configure instrument\n",
    "    pna.setupMeas()\n",
    "    pna.setSweepType('linear')\n",
    "    pna.setFreqStartEnd(startFreq, endFreq)\n",
    "    pna.setPwr(power)\n",
    "    pna.avgCount(avg)\n",
    "    pna.numPoints(numPoints)\n",
    "    pna.setIF(IFbandwidth)\n",
    "    pna.pwrOn()\n",
    "\n",
    "    #sim_glb.setVoltage(volt)\n",
    "\n",
    "    # data initialization\n",
    "    #S21_mag_log_2D, S21_phase_2D = np.array([]), np.array([])\n",
    "    data = np.array([])\n",
    "\n",
    "    # configure\n",
    "    pna.avgClear()\n",
    "\n",
    "    # fetch data from PNA\n",
    "    freq, S21 = pna.getData(cplx=True) # S21 in linear scale\n",
    "\n",
    "    # S21 conversion\n",
    "    S21_real, S21_imag = np.real(S21), np.imag(S21)\n",
    "    S21_mag, S21_phase = np.sqrt(S21_real**2 + S21_imag**2), np.angle(S21, deg=True) # phase in degree\n",
    "    S21_mag_log = 20.0 * np.log10(S21_mag)    # dB\n",
    "\n",
    "    # make 2D array with freq, dB, phase\n",
    "    data = freq\n",
    "    data.shape = (freq.size, 1)\n",
    "    data = np.column_stack((data, S21_mag_log))\n",
    "    data = np.column_stack((data, S21_phase))\n",
    "    data = np.column_stack((data, S21_real))\n",
    "    data = np.column_stack((data, S21_imag))\n",
    "\n",
    "    # plot update\n",
    "    plotobj.update(freq/1e9, S21_mag_log)\n",
    "\n",
    "    # save files\n",
    "    f = open(dataFileName, 'wb') \n",
    "    np.savetxt(f, data, fmt='%.9g', delimiter='\\t') \n",
    "\n",
    "    # Post measurement    \n",
    "    pna.pwrOff()\n",
    "    f.close()\n",
    "    plotobj.fig.savefig(os.path.join(save_path, baseFileName + '.png'))\n",
    "    print('Measurement finished!!!')\n",
    "    return data"
   ]
  },
  {
   "cell_type": "code",
   "execution_count": null,
   "metadata": {
    "ExecuteTime": {
     "end_time": "2018-05-15T19:23:55.791973Z",
     "start_time": "2018-05-15T19:23:55.726929Z"
    },
    "collapsed": true
   },
   "outputs": [],
   "source": [
    "def Get_S21(freqStart, freqEnd,power,numPoints, IFbandwidth, avg,wideSpan,suffix = 'Q4',sampleID ='W14', \\\n",
    "          save_path=r'Z:\\User\\Yebin\\Project\\Resonator Qi test\\Samples'):\n",
    "    #get data 1 WS scan\n",
    "    freqCenter = (freqStart + freqEnd)/2\n",
    "    freqStartW = freqCenter - wideSpan/2\n",
    "    freqEndW = freqCenter + wideSpan/2 \n",
    "    dataS = cav1d(freqStart, freqEnd,power,numPoints,IFbandwidth, avg,'SS',suffix,sampleID,save_path) \n",
    "    dataW = cav1d(freqStartW, freqEndW,power,numPoints,IFbandwidth, avg,'WS',suffix,sampleID,save_path) \n",
    "    \n",
    "    volt = 0\n",
    "    \n",
    "    # fit baseline\n",
    "    p = len(dataW[:,0])\n",
    "    w = int(p/5)\n",
    "    freqW,freqW1,freqW2 = [],dataW[0:w,0] , dataW[(p-w):p,0]\n",
    "    freqW.extend(freqW1)\n",
    "    freqW.extend(freqW2)\n",
    "    magdataW,magdataW1,magdataW2 =  [],dataW[0:w,1], dataW[(p-w):p,1]\n",
    "    magdataW.extend(magdataW1)\n",
    "    magdataW.extend(magdataW2)\n",
    "    phasedataW,phasedataW1,phasedataW2 =  [],dataW[0:w,2] , dataW[(p-w):p,2]\n",
    "    phasedataW.extend(phasedataW1)\n",
    "    phasedataW.extend(phasedataW2)\n",
    "    magBasePara = np.polyfit(freqW,magdataW,2)\n",
    "    phaseBasePara = np.polyfit(freqW,phasedataW,1)\n",
    "    magBaseFit = np.polyval(magBasePara,dataS[:,0])\n",
    "    phaseBaseFit = np.polyval(phaseBasePara,dataS[:,0])\n",
    "    # base line subtraction\n",
    "    magSub = dataS[:,1] - magBaseFit\n",
    "    phaseSub = dataS[:,2] - phaseBaseFit\n",
    "    dataS[:,1] = magSub\n",
    "    dataS[:,2] = phaseSub\n",
    "    # dictionary for parameters to be saved in log file.\n",
    "    header = 'freq (Hz) mag(dB) phase(degree) real imag'\n",
    "    para = dict([('power (dBm)',power),('startFreq (Hz)',startFreq),('endFreq (Hz)', endFreq)\n",
    "                 ,('numPoints',numPoints), ('IFbandwidth (Hz)', IFbandwidth),('avg',avg)\n",
    "                 ,('volt',volt), ('header', header)])\n",
    "    # file setup\n",
    "    if fridgeType=='ADR2':\n",
    "        FAA = float(lsci.tempGet('B')) # get temperature\n",
    "    else :\n",
    "        FAA = 0 \n",
    "    timeStr = time.strftime(\"%H%M%S\")\n",
    "    baseStr = sampleID + '_S21vsF_Sub_Pr{}_fr{:.9g}_{:.9g}_V{}_T{:.4g}_{}_{}'\n",
    "    baseFileName = baseStr.format(power,startFreq/1e9, endFreq/1e9, volt, FAA,suffix, timeStr)\n",
    "    dataFileName = os.path.join(save_path, baseFileName + '.dat')                                 \n",
    "    logFileName =  os.path.join(save_path, baseFileName + '.json')\n",
    "    with open(logFileName, 'w') as f:\n",
    "        json.dump(para,f,indent=4, sort_keys=True)\n",
    "    # save files\n",
    "    f = open(dataFileName, 'wb') \n",
    "    np.savetxt(f, data, fmt='%.9g', delimiter='\\t') \n",
    "    f.close()"
   ]
  },
  {
   "cell_type": "code",
   "execution_count": null,
   "metadata": {
    "ExecuteTime": {
     "end_time": "2018-05-15T04:59:34.599071Z",
     "start_time": "2018-05-14T20:43:38.809316Z"
    },
    "collapsed": true
   },
   "outputs": [],
   "source": [
    "startFreq, endFreq =6.40775e9, 6.40815e9\n",
    "wideSpan = 10e6\n",
    "suffix = 'R5_RTAtt10'\n",
    "sampleID = 'W19B4'\n",
    "save_path =  r'Z:\\User\\Yebin\\Project\\Resonator Qi test\\Samples\\05232018-W19-HF after photolithography_ADR1\\R5'\n",
    "'''\n",
    "power = [10,\n",
    "         5,0,-5,-10,-15,-20,-25,-30,-35,\n",
    "         -40,-45,-50,-55,-60,-65,-70,-75,-80,-85,-90]\n",
    "IFbandwidth = [10,\n",
    "               10,10,10,10,10,10,10,10,10,\n",
    "               1,1,1,1,1,1,1,1,1,1,1]\n",
    "avg = [4,\n",
    "       4,4,4,8,8,8,10,10,10,\n",
    "       10,15,20,30,40,80,80,160,160,250,320]\n",
    "numPoints = [501,\n",
    "             501,501,501,301,301,301,201,201,201,101,\n",
    "            101,101,101,101,101,101,101,101,101,101]\n",
    "'''\n",
    "#####\n",
    "power = [10,\n",
    "         5,0,-5,-10,-15,-20,-25,-30,-35,\n",
    "         -40,-45,-50,-55,-60,-65,-70,-75,-80,-85,-90]\n",
    "IFbandwidth = [1000,\n",
    "               1000,1000,1000,1000,1000,1000,1000,1000,1000,\n",
    "               100,100,10,10,10,10,10,10,10,10,10]\n",
    "avg = [4,\n",
    "       4,4,4,8,8,8,10,10,10,\n",
    "       10,15,20,20,50,60,80,100,100,200,200]\n",
    "numPoints = [501,\n",
    "             501,501,501,301,301,301,201,201,201,201,\n",
    "            201,201,201,201,201,201,201,201,201,201]\n",
    "##########################\n",
    "# power = [0,-2,-4,-6,-8,-10,-12,-14,-16,-18]\n",
    "# IFbandwidth = [5000,5000,5000,5000,5000,5000,5000,5000,5000,5000]\n",
    "# avg = [20,20,20,20,20,20,20,20,20,20]\n",
    "# numPoints = [201,201,201,201,201,201,201,201,201,201]\n",
    "for i in range(len(power)):\n",
    "    #Get_S21(startFreq, endFreq,power[i],numPoints[i], IFbandwidth[i], avg[i],wideSpan,suffix ,sampleID, save_path)\n",
    "    Get_S21(startFreq, endFreq,power[i],numPoints[i], IFbandwidth[i], avg[i],wideSpan,suffix ,sampleID, save_path)"
   ]
  },
  {
   "cell_type": "code",
   "execution_count": null,
   "metadata": {
    "ExecuteTime": {
     "end_time": "2018-05-15T22:15:42.030695Z",
     "start_time": "2018-05-15T20:15:06.288003Z"
    },
    "collapsed": true
   },
   "outputs": [],
   "source": [
    "startFreq =6.21875e9\n",
    "endFreq= 6.21905e9\n",
    "wideSpan = 10e6\n",
    "suffix = 'R4_RTAtt30'\n",
    "sampleID = 'W17B5'\n",
    "save_path =  r'Z:\\User\\Yebin\\Project\\Resonator Qi test\\Samples\\05142018-W17B5_Furnace_post descum\\R4'\n",
    "'''\n",
    "power = [10,\n",
    "         5,0,-5,-10,-15,-20,-25,-30,-35,\n",
    "         -40,-45,-50,-55,-60,-65,-70,-75,-80,-85,-90]\n",
    "IFbandwidth = [10,\n",
    "               10,10,10,10,10,10,10,10,10,\n",
    "               1,1,1,1,1,1,1,1,1,1,1]\n",
    "avg = [4,\n",
    "       4,4,4,8,8,8,10,10,10,\n",
    "       10,15,20,30,40,80,80,160,160,250,320]\n",
    "numPoints = [501,\n",
    "             501,501,501,301,301,301,201,201,201,101,\n",
    "            101,101,101,101,101,101,101,101,101,101]\n",
    "'''\n",
    "#####\n",
    "power = [-85,-90]\n",
    "IFbandwidth = [1,1]\n",
    "avg = [40,40]\n",
    "numPoints = [51,51]\n",
    "##########################\n",
    "# power = [0,-2,-4,-6,-8,-10,-12,-14,-16,-18]\n",
    "# IFbandwidth = [5000,5000,5000,5000,5000,5000,5000,5000,5000,5000]\n",
    "# avg = [20,20,20,20,20,20,20,20,20,20]\n",
    "# numPoints = [201,201,201,201,201,201,201,201,201,201]\n",
    "for i in range(len(power)):\n",
    "    #Get_S21(startFreq, endFreq,power[i],numPoints[i], IFbandwidth[i], avg[i],wideSpan,suffix ,sampleID, save_path)\n",
    "    Get_S21(startFreq, endFreq,power[i],numPoints[i], IFbandwidth[i], avg[i],wideSpan,suffix ,sampleID, save_path)"
   ]
  },
  {
   "cell_type": "markdown",
   "metadata": {
    "collapsed": true
   },
   "source": [
    "# Playground. Try things out below."
   ]
  },
  {
   "cell_type": "code",
   "execution_count": null,
   "metadata": {
    "ExecuteTime": {
     "end_time": "2018-04-26T15:55:31.345841Z",
     "start_time": "2018-04-26T15:55:25.362630Z"
    },
    "code_folding": [
     0
    ],
    "collapsed": true
   },
   "outputs": [],
   "source": [
    "#################################################################################\n",
    "# set up parameters\n",
    "startFreq, endFreq =6.0382e9, 6.039e9\n",
    "power = -40 \n",
    "numPoints, IFbandwidth, avg = 501, 1000, 10\n",
    "volt = 0 # -0.65 # -2.05  #2.4\n",
    "\n",
    "sampleID = 'FlipchipAB14'\n",
    "suffix = 'cav2'  # suffix to the file name\n",
    "savepath = r'Z:\\User\\Andrew\\Flip-Chip_measurements\\AB14\\cavity_fit_Qc'\n",
    "#################################################################################\n",
    "\n",
    "# dictionary for parameters to be saved in log file.\n",
    "header = 'freq (Hz) mag(dB) phase(degree) real imag'\n",
    "para = dict([('startFreq (Hz)',startFreq),('endFreq (Hz)', endFreq),('power (dBm)',power)\n",
    "             ,('numPoints',numPoints), ('IFbandwidth (Hz)', IFbandwidth),('avg',avg)\n",
    "             ,('volt',volt), ('header', header)])\n",
    "\n",
    " #file setup\n",
    "if fridgeType=='ADR2':\n",
    "    FAA = float(lsci.tempGet('B')) # get temperature\n",
    "else :\n",
    "    FAA = 0 \n",
    "timeStr = time.strftime(\"%H%M%S\")\n",
    "baseStr = sampleID + '_S21vsF_fr{:.9g}_{:.9g}_Pr{}_V{}_T{:.4g}_{}'\n",
    "baseFileName = baseStr.format(startFreq/1e9, endFreq/1e9, power, volt, FAA, timeStr)\n",
    "dataFileName = os.path.join(save_path, baseFileName + '.dat')                                 \n",
    "logFileName =  os.path.join(save_path, baseFileName + '.json')\n",
    "\n",
    "with open(logFileName, 'w') as f:\n",
    "    json.dump(para,f,indent=4, sort_keys=True)\n",
    "\n",
    "# plot setup\n",
    "plotobj= myplots_py3.plot1D(ylabel = 'S21 (dB)', xlabel='Frequency (Hz)', title = baseFileName, plotStyle='b-')\n",
    "\n",
    "# configure instrument\n",
    "pna.setupMeas()\n",
    "pna.setSweepType('linear')\n",
    "pna.setFreqStartEnd(startFreq, endFreq)\n",
    "pna.setPwr(power)\n",
    "pna.avgCount(avg)\n",
    "pna.numPoints(numPoints)\n",
    "pna.setIF(IFbandwidth)\n",
    "pna.pwrOn()\n",
    "\n",
    "sim_glb.setVoltage(volt)\n",
    "\n",
    "# data initialization\n",
    "#S21_mag_log_2D, S21_phase_2D = np.array([]), np.array([])\n",
    "data = np.array([])\n",
    "\n",
    "# configure\n",
    "pna.avgClear()\n",
    "        \n",
    "# fetch data from PNA\n",
    "freq, S21 = pna.getData(cplx=True) # S21 in linear scale\n",
    " \n",
    "# S21 conversion\n",
    "S21_real, S21_imag = np.real(S21), np.imag(S21)\n",
    "S21_mag, S21_phase = np.sqrt(S21_real**2 + S21_imag**2), np.angle(S21, deg=True) # phase in degree\n",
    "S21_mag_log = 20.0 * np.log10(S21_mag)    # dB\n",
    "\n",
    "# make 2D array with freq, dB, phase\n",
    "data = freq\n",
    "data.shape = (freq.size, 1)\n",
    "data = np.column_stack((data, S21_mag_log))\n",
    "data = np.column_stack((data, S21_phase))\n",
    "data = np.column_stack((data, S21_real))\n",
    "data = np.column_stack((data, S21_imag))\n",
    "     \n",
    "# plot update\n",
    "plotobj.update(freq/1e9, S21_mag_log)\n",
    "\n",
    "# save files\n",
    "f = open(dataFileName, 'wb') \n",
    "#np.savetxt(f, data, fmt='%.9g', delimiter='\\t') \n",
    "np.savetxt(savepath+'Induc_cav_300um'+'.txt',list(zip(freq,S21_mag_log,S21_phase)),delimiter = '\\t',newline = '\\r\\n',fmt='%.10e')\n",
    "\n",
    "# Post measurement    \n",
    "pna.pwrOff()\n",
    "f.close()\n",
    "plotobj.fig.savefig(os.path.join(save_path, baseFileName + '.png'))\n",
    "print('Measurement finished!!!')\n",
    "\n",
    "\n"
   ]
  },
  {
   "cell_type": "code",
   "execution_count": null,
   "metadata": {
    "ExecuteTime": {
     "end_time": "2018-10-05T19:14:51.142568Z",
     "start_time": "2018-10-05T19:14:51.128590Z"
    },
    "collapsed": true
   },
   "outputs": [],
   "source": [
    "Vp1=0.96e-3*125+5*.005\n",
    "Vp2=0.34755e-3*125+5*.005\n",
    "sim_p.setVoltage(Vp1+(Vp2-Vp1)/401*(140-1))\n",
    "sim_s.setVoltage(4/401*(140-1))"
   ]
  },
  {
   "cell_type": "code",
   "execution_count": null,
   "metadata": {
    "ExecuteTime": {
     "end_time": "2019-02-21T04:03:00.542249Z",
     "start_time": "2019-02-21T04:03:00.523246Z"
    },
    "collapsed": true
   },
   "outputs": [],
   "source": [
    "sim_c.setVoltage(0)"
   ]
  },
  {
   "cell_type": "code",
   "execution_count": 22,
   "metadata": {
    "ExecuteTime": {
     "end_time": "2019-05-30T19:47:03.228927Z",
     "start_time": "2019-05-30T19:47:02.689227Z"
    }
   },
   "outputs": [
    {
     "name": "stdout",
     "output_type": "stream",
     "text": [
      "Initialized S21 Measurement 'S21Meas'\n"
     ]
    }
   ],
   "source": [
    "pna.setupMeas()\n",
    "# pna.setFreqStartEnd(5.9e9, 6.3e9)\n",
    "# pna.setPwr(-70)\n",
    "# pna.avgCount(1000)\n",
    "# pna.numPoints(1601)\n",
    "pna.pwrOn()\n",
    "\n",
    "freq, S21 = pna.getData(cplx=True)\n",
    "S21_real, S21_imag = np.real(S21), np.imag(S21)\n",
    "S21_mag, S21_phase = np.sqrt(S21_real**2 + S21_imag**2), np.angle(S21, deg=True) # phase in degree\n",
    "S21_mag_log = 20.0 * np.log10(S21_mag)\n",
    "np.savetxt('Z:\\\\Experiments\\\\Dirty Aluminum\\\\Qubit\\\\091119_H2\\\\Cav73LowPower.txt',list(zip(freq,S21_mag_log,S21_phase)),delimiter='\\t',newline='\\r\\n',fmt='%.10e')"
   ]
  },
  {
   "cell_type": "code",
   "execution_count": null,
   "metadata": {
    "ExecuteTime": {
     "end_time": "2019-01-19T08:32:38.116048Z",
     "start_time": "2019-01-19T06:32:21.405605Z"
    },
    "collapsed": true
   },
   "outputs": [],
   "source": [
    "startFreq, endFreq = 9e9, 9.37e9\n",
    "numPoints, avg = 1601, 100\n",
    "power = -62\n",
    "startVoltP, endVoltP, stepVoltP = -4, 4, .1\n",
    "startVoltS, endVoltS, stepVoltS = -3, 3, .1\n",
    "\n",
    "savepath = 'Z:\\\\PHY-PRL-Labshare\\\\Experiments\\\\Dirty Aluminum\\\\RF_SQUID\\\\0115\\\\scan2\\\\'\n",
    "\n",
    "# configure instrument\n",
    "pna.setupMeas()\n",
    "pna.setSweepType('linear')\n",
    "pna.setFreqStartEnd(startFreq, endFreq)\n",
    "pna.setPwr(power)\n",
    "pna.avgCount(avg)\n",
    "pna.numPoints(numPoints)\n",
    "pna.pwrOn()\n",
    "\n",
    "f02D = np.array([])\n",
    "S2D = np.array([])\n",
    "\n",
    "plotobj= myplots_py3.plot2D(xlabel = 'Plaquette Currents (mA)', ylabel='rf SQUID Current (mA)')\n",
    "\n",
    "for vp in np.linspace(startVoltP,endVoltP,(endVoltP-startVoltP)/stepVoltP+1):\n",
    "    f01D = np.array([])\n",
    "    S1D = np.array([])\n",
    "    sim_p1.setVoltage(vp)\n",
    "    sim_p2.setVoltage(vp)\n",
    "    \n",
    "    for vs in np.linspace(startVoltS,endVoltS,(endVoltS-startVoltS)/stepVoltS+1):\n",
    "        sim_s.setVoltage(vs)\n",
    "        time.sleep(0.1)\n",
    "        pna.avgClear()\n",
    "        \n",
    "        freq, S21 = pna.getData(cplx=True)\n",
    "        S21_real, S21_imag = np.real(S21), np.imag(S21)\n",
    "        S21_mag, S21_phase = np.sqrt(S21_real**2 + S21_imag**2), np.angle(S21, deg=True) # phase in degree\n",
    "        S21_mag_log = 20.0 * np.log10(S21_mag)\n",
    "        np.savetxt(savepath+'P'+str(vp)+'VS'+str(vs)+'V.txt',list(zip(freq,S21_mag_log,S21_phase)),delimiter='\\t',newline='\\r\\n',fmt='%.10e')\n",
    "        f0 = freq[list(S21_mag_log).index(min(S21_mag_log))]/1e9\n",
    "        Smin = min(S21_mag_log)\n",
    "#         if min(S21_mag_log) > -4:\n",
    "#             f0 = 9.11\n",
    "        #f01D.append(f0)\n",
    "        f01D = np.append(f01D,f0)\n",
    "        S1D = np.append(S1D,Smin)\n",
    "    \n",
    "    if f02D.size == 0: # when S21_mag_2D is empty\n",
    "        f02D = f01D\n",
    "        f02D.shape = (f02D.size, 1)\n",
    "        S2D = S1D\n",
    "        S2D.shape = (S2D.size, 1)\n",
    "    else:\n",
    "        f02D = np.column_stack((f02D, f01D))\n",
    "        S2D = np.column_stack((S2D, S1D))\n",
    "    for vs in reversed(np.linspace(startVoltS,endVoltS,(endVoltS-startVoltS)/stepVoltS+1)):\n",
    "        sim_s.setVoltage(vs)\n",
    "        time.sleep(0.2)\n",
    "    extent = [startVoltP/2, vp/2, startVoltS/2, endVoltS/2]\n",
    "    plotobj.update(f02D, extent)\n",
    "pna.pwrOff()\n",
    "sim_p1.setVoltage(0)\n",
    "sim_p2.setVoltage(0)\n",
    "sim_s.setVoltage(0)\n",
    "\n",
    "np.savetxt(savepath + 'Res10Pn12p12Sn12p12.csv',list(f02D),delimiter=',',newline='\\r\\n',fmt='%.10e')\n",
    "\n",
    "np.savetxt(savepath + 'Res10S21Pn12p12Sn12p12.csv',list(S2D),delimiter=',',newline='\\r\\n',fmt='%.10e')\n"
   ]
  },
  {
   "cell_type": "code",
   "execution_count": 13,
   "metadata": {
    "ExecuteTime": {
     "end_time": "2019-12-19T06:50:53.514368Z",
     "start_time": "2019-12-19T06:50:53.498397Z"
    }
   },
   "outputs": [],
   "source": [
    "sim_p1.setVoltage(0)\n",
    "sim_p2.setVoltage(0)"
   ]
  },
  {
   "cell_type": "code",
   "execution_count": null,
   "metadata": {
    "ExecuteTime": {
     "end_time": "2018-08-21T22:35:41.015319Z",
     "start_time": "2018-08-21T22:35:41.009336Z"
    },
    "collapsed": true
   },
   "outputs": [],
   "source": [
    "wave.setVoltage(0)"
   ]
  },
  {
   "cell_type": "code",
   "execution_count": 6,
   "metadata": {
    "ExecuteTime": {
     "end_time": "2018-11-20T19:39:34.517063Z",
     "start_time": "2018-11-20T19:31:55.659260Z"
    },
    "code_folding": [],
    "scrolled": true
   },
   "outputs": [
    {
     "name": "stdout",
     "output_type": "stream",
     "text": [
      "Initialized S21 Measurement 'S21Meas'\n"
     ]
    },
    {
     "ename": "NameError",
     "evalue": "name 'baseFileName' is not defined",
     "output_type": "error",
     "traceback": [
      "\u001b[1;31m---------------------------------------------------------------------------\u001b[0m",
      "\u001b[1;31mNameError\u001b[0m                                 Traceback (most recent call last)",
      "\u001b[1;32m<ipython-input-6-6536cd365988>\u001b[0m in \u001b[0;36m<module>\u001b[1;34m()\u001b[0m\n\u001b[0;32m     68\u001b[0m \u001b[1;31m#np.savetxt(savepath + 'Res91S21Pn8p8Sn5p5.csv',list(S2D),delimiter=',',newline='\\r\\n',fmt='%.10e')\u001b[0m\u001b[1;33m\u001b[0m\u001b[1;33m\u001b[0m\u001b[0m\n\u001b[0;32m     69\u001b[0m \u001b[1;33m\u001b[0m\u001b[0m\n\u001b[1;32m---> 70\u001b[1;33m \u001b[0mplotobj2\u001b[0m\u001b[1;33m=\u001b[0m \u001b[0mmyplots_py3\u001b[0m\u001b[1;33m.\u001b[0m\u001b[0mplot1D\u001b[0m\u001b[1;33m(\u001b[0m\u001b[0mylabel\u001b[0m \u001b[1;33m=\u001b[0m \u001b[1;34m'f0 (GHz)'\u001b[0m\u001b[1;33m,\u001b[0m \u001b[0mxlabel\u001b[0m\u001b[1;33m=\u001b[0m\u001b[1;34m'Index'\u001b[0m\u001b[1;33m,\u001b[0m \u001b[0mtitle\u001b[0m \u001b[1;33m=\u001b[0m \u001b[0mbaseFileName\u001b[0m\u001b[1;33m,\u001b[0m \u001b[0mplotStyle\u001b[0m\u001b[1;33m=\u001b[0m\u001b[1;34m'b-'\u001b[0m\u001b[1;33m)\u001b[0m\u001b[1;33m\u001b[0m\u001b[0m\n\u001b[0m\u001b[0;32m     71\u001b[0m \u001b[0mplotobj2\u001b[0m\u001b[1;33m.\u001b[0m\u001b[0mupdate\u001b[0m\u001b[1;33m(\u001b[0m\u001b[0mlist\u001b[0m\u001b[1;33m(\u001b[0m\u001b[0mnp\u001b[0m\u001b[1;33m.\u001b[0m\u001b[0mlinspace\u001b[0m\u001b[1;33m(\u001b[0m\u001b[1;36m1\u001b[0m\u001b[1;33m,\u001b[0m\u001b[0mN\u001b[0m\u001b[1;33m,\u001b[0m\u001b[0mN\u001b[0m\u001b[1;33m)\u001b[0m\u001b[1;33m)\u001b[0m\u001b[1;33m,\u001b[0m \u001b[0mf01D\u001b[0m\u001b[1;33m)\u001b[0m\u001b[1;33m\u001b[0m\u001b[0m\n",
      "\u001b[1;31mNameError\u001b[0m: name 'baseFileName' is not defined"
     ]
    }
   ],
   "source": [
    "# Tilted scan\n",
    "startFreq, endFreq = 5.9e9, 5.935e9\n",
    "numPoints, avg = 1601, 20\n",
    "power = -35\n",
    "startIP, endIP, RP =(1.7),  (-1.7),1 #(1e-3),  (-1e-3),2e3  # 0.96e-3+15*.005/125, .34755e-3+15*.005/1125\n",
    "startIS, endIS, RS =  (-2.043),  (2.093),1\n",
    "N = 101\n",
    "\n",
    "savepath='Z:\\\\Experiments\\\\DR1\\\\Data\\\\062519NbAlOX_H6\\\\1d Cav K2\\\\'\n",
    "\n",
    "startVP = startIP*RP\n",
    "endVP = endIP*RP\n",
    "startVS = startIS*RS\n",
    "endVS = endIS*RS\n",
    "\n",
    "VPlist = list(np.linspace(startVP,endVP,N))\n",
    "VSlist = list(np.linspace(startVS,endVS,N))\n",
    "\n",
    "\n",
    "# configure instrument\n",
    "pna.setupMeas()\n",
    "pna.setSweepType('linear')\n",
    "pna.setFreqStartEnd(startFreq, endFreq)\n",
    "pna.setPwr(power)\n",
    "pna.avgCount(avg)\n",
    "pna.numPoints(numPoints)\n",
    "pna.pwrOn()\n",
    "\n",
    "f02D = np.array([])\n",
    "f01D = np.array([])\n",
    "#S1D = np.array([])\n",
    "\n",
    "\n",
    "plotobj= myplots_py3.plot2D(xlabel = 'Index', ylabel='Frequency (GHz)')\n",
    "i=1\n",
    "for (vp,vs) in zip(VPlist,VSlist):\n",
    "    sim_p1.setVoltage(vp)\n",
    "    sim_p2.setVoltage(vs)\n",
    "    time.sleep(0.2)\n",
    "    pna.avgClear()\n",
    "        \n",
    "    freq, S21 = pna.getData(cplx=True)\n",
    "    S21_real, S21_imag = np.real(S21), np.imag(S21)\n",
    "    S21_mag, S21_phase = np.sqrt(S21_real**2 + S21_imag**2), np.angle(S21, deg=True) # phase in degree\n",
    "    S21_mag_log = 20.0 * np.log10(S21_mag)\n",
    "    np.savetxt(savepath+'P'+str(vp)+'VS'+str(vs)+'V.txt',list(zip(freq,S21_mag_log,S21_phase)),delimiter='\\t',newline='\\r\\n',fmt='%.10e')\n",
    "    f0 = freq[list(S21_mag_log).index(min(S21_mag_log))]/1e9\n",
    "    Smin = min(S21_mag_log)\n",
    "    if min(S21_mag_log) > 3:\n",
    "        f0 = np.nan\n",
    "    f01D = np.append(f01D,f0)\n",
    "    #S1D = np.append(S1D,Smin)\n",
    "    \n",
    "    if f02D.size == 0: # when S21_mag_2D is empty\n",
    "        f02D = S21_mag_log\n",
    "        f02D.shape = (f02D.size, 1)\n",
    "    else:\n",
    "        f02D = np.column_stack((f02D, S21_mag_log))\n",
    "    extent = [1, i, startFreq, endFreq]\n",
    "    i=i+1\n",
    "plotobj.update(f02D, extent)\n",
    "pna.pwrOff()\n",
    "sim_p1.setVoltage(0)\n",
    "sim_p2.setVoltage(0)\n",
    "\n",
    "np.savetxt(savepath + 'Res91Pn8p8Sn5p5.csv',list(f02D),delimiter=',',newline='\\r\\n',fmt='%.10e')\n",
    "\n",
    "#np.savetxt(savepath + 'Res91S21Pn8p8Sn5p5.csv',list(S2D),delimiter=',',newline='\\r\\n',fmt='%.10e')\n",
    "\n",
    "plotobj2= myplots_py3.plot1D(ylabel = 'f0 (GHz)', xlabel='Index', title = baseFileName, plotStyle='b-')\n",
    "plotobj2.update(list(np.linspace(1,N,N)), f01D)\n"
   ]
  },
  {
   "cell_type": "code",
   "execution_count": null,
   "metadata": {
    "ExecuteTime": {
     "end_time": "2018-10-25T20:44:22.362220Z",
     "start_time": "2018-10-25T20:44:22.351227Z"
    },
    "collapsed": true
   },
   "outputs": [],
   "source": [
    "i=12\n",
    "j=27\n",
    "startIP, endIP, RP = 5.4047e-3/2, -5.4047e-3/2,125\n",
    "startIS, endIS, RS = -4e-3/2, 4e-3/2,2e3\n",
    "plaqStep = 0.01/2\n",
    "sqdStep = 0.2162/2\n",
    "\n",
    "# startIP+j*plaqStep/RP+(endIP-startIP)/99*(i-1)\n",
    "startIS+j*sqdStep/RS+(endIS-startIS)/99*(i-1)"
   ]
  },
  {
   "cell_type": "code",
   "execution_count": null,
   "metadata": {
    "ExecuteTime": {
     "end_time": "2019-05-20T18:42:52.645623Z",
     "start_time": "2019-05-20T18:42:52.628621Z"
    },
    "collapsed": true
   },
   "outputs": [],
   "source": [
    "# from numpy.inter import interp\n",
    "\n",
    "startIP, endIP, RP = -0.34125e-3-2e-3*0.020075, -0.34125e-3+2e-3*0.020075,4e3\n",
    "startIS, endIS, RS = -0.015625e-3-2e-3, -0.015625e-3+2e-3,4e3 \n",
    "N = 201\n",
    "startVP = startIP*RP\n",
    "endVP = endIP*RP\n",
    "startVS = startIS*RS\n",
    "endVS = endIS*RS\n",
    "plaqStep = 0\n",
    "sqdStep = 0\n",
    "i=1\n",
    "j=0\n",
    "\n",
    "\n",
    "VPlist = np.linspace(startVP+plaqStep*j,endVP+plaqStep*(j),N)\n",
    "VSlist = np.linspace(startVS+sqdStep*j,endVS+sqdStep*j,N)\n",
    "\n",
    "print(np.interp(i,np.linspace(1,N,N),VPlist))\n",
    "print(np.interp(i,np.linspace(1,N,N),VSlist))"
   ]
  },
  {
   "cell_type": "code",
   "execution_count": null,
   "metadata": {
    "ExecuteTime": {
     "end_time": "2019-02-27T00:25:04.007777Z",
     "start_time": "2019-02-27T00:24:42.815095Z"
    },
    "collapsed": true
   },
   "outputs": [],
   "source": [
    "VP1list = list(np.linspace(sim_p1.askVoltage(),sim_p1.askVoltage()+0.76/2,N))\n",
    "VP2list = list(np.linspace(sim_p2.askVoltage(),sim_p2.askVoltage()+0.92/2,N))\n",
    "VSlist = list(np.linspace(sim_s.askVoltage(),-1,N))\n",
    "for (vp1,vp2,vs) in zip(VP1list,VP2list,VSlist):\n",
    "    sim_p1.setVoltage(vp1)\n",
    "    sim_p2.setVoltage(vp2)\n",
    "#         sim_s.setVoltage(vs)\n",
    "    time.sleep(0.5)"
   ]
  },
  {
   "cell_type": "code",
   "execution_count": 12,
   "metadata": {
    "ExecuteTime": {
     "end_time": "2019-12-19T05:44:41.344942Z",
     "start_time": "2019-12-19T05:44:10.012131Z"
    }
   },
   "outputs": [],
   "source": [
    "# sim_p1.setVoltage(0.000)\n",
    "# sim_p2.setVoltage(0)\n",
    "# sim_s.setVoltage(0)\n",
    "# sim_p1.askVoltage()\n",
    "VP1list = list(np.linspace(-6,0,N))\n",
    "VP2list = list(np.linspace(6,0.2,N))\n",
    "# VSlist = list(np.linspace(sim_s.askVoltage(),-1,N))\n",
    "for (vp1,vp2,vs) in zip(VP1list,VP2list,VSlist):\n",
    "    sim_p1.setVoltage(vp1)\n",
    "    sim_p2.setVoltage(vp2)\n",
    "#     sim_s.setVoltage(vs)\n",
    "    time.sleep(0.5)"
   ]
  },
  {
   "cell_type": "code",
   "execution_count": 11,
   "metadata": {
    "ExecuteTime": {
     "end_time": "2020-01-07T23:03:26.970466Z",
     "start_time": "2020-01-07T22:43:33.833769Z"
    }
   },
   "outputs": [
    {
     "name": "stdout",
     "output_type": "stream",
     "text": [
      "Initialized S21 Measurement 'S21Meas'\n"
     ]
    },
    {
     "name": "stderr",
     "output_type": "stream",
     "text": [
      "C:\\ProgramData\\Anaconda3\\lib\\site-packages\\matplotlib\\pyplot.py:514: RuntimeWarning: More than 20 figures have been opened. Figures created through the pyplot interface (`matplotlib.pyplot.figure`) are retained until explicitly closed and may consume too much memory. (To control this warning, see the rcParam `figure.max_open_warning`).\n",
      "  max_open_warning, RuntimeWarning)\n"
     ]
    },
    {
     "data": {
      "image/png": "[encoded data removed]",
      "text/plain": [
       "<Figure size 720x360 with 1 Axes>"
      ]
     },
     "metadata": {
      "needs_background": "light"
     },
     "output_type": "display_data"
    },
    {
     "data": {
      "image/png": "[encoded data removed]",
      "text/plain": [
       "<Figure size 720x360 with 1 Axes>"
      ]
     },
     "metadata": {
      "needs_background": "light"
     },
     "output_type": "display_data"
    },
    {
     "data": {
      "image/png": "[encoded data removed]",
      "text/plain": [
       "<Figure size 720x360 with 1 Axes>"
      ]
     },
     "metadata": {
      "needs_background": "light"
     },
     "output_type": "display_data"
    },
    {
     "data": {
      "image/png": "[encoded data removed]",
      "text/plain": [
       "<Figure size 720x360 with 1 Axes>"
      ]
     },
     "metadata": {
      "needs_background": "light"
     },
     "output_type": "display_data"
    },
    {
     "data": {
      "image/png": "[encoded data removed]",
      "text/plain": [
       "<Figure size 720x360 with 1 Axes>"
      ]
     },
     "metadata": {
      "needs_background": "light"
     },
     "output_type": "display_data"
    },
    {
     "data": {
      "image/png": "[encoded data removed]",
      "text/plain": [
       "<Figure size 720x360 with 1 Axes>"
      ]
     },
     "metadata": {
      "needs_background": "light"
     },
     "output_type": "display_data"
    },
    {
     "data": {
      "image/png": "[encoded data removed]",
      "text/plain": [
       "<Figure size 720x360 with 1 Axes>"
      ]
     },
     "metadata": {
      "needs_background": "light"
     },
     "output_type": "display_data"
    },
    {
     "data": {
      "image/png": "[encoded data removed]",
      "text/plain": [
       "<Figure size 720x360 with 1 Axes>"
      ]
     },
     "metadata": {
      "needs_background": "light"
     },
     "output_type": "display_data"
    },
    {
     "data": {
      "image/png": "[encoded data removed]",
      "text/plain": [
       "<Figure size 720x360 with 1 Axes>"
      ]
     },
     "metadata": {
      "needs_background": "light"
     },
     "output_type": "display_data"
    },
    {
     "data": {
      "image/png": "[encoded data removed]",
      "text/plain": [
       "<Figure size 720x360 with 1 Axes>"
      ]
     },
     "metadata": {
      "needs_background": "light"
     },
     "output_type": "display_data"
    },
    {
     "data": {
      "image/png": "[encoded data removed]",
      "text/plain": [
       "<Figure size 720x360 with 1 Axes>"
      ]
     },
     "metadata": {
      "needs_background": "light"
     },
     "output_type": "display_data"
    },
    {
     "data": {
      "image/png": "[encoded data removed]",
      "text/plain": [
       "<Figure size 720x360 with 1 Axes>"
      ]
     },
     "metadata": {
      "needs_background": "light"
     },
     "output_type": "display_data"
    },
    {
     "data": {
      "image/png": "[encoded data removed]",
      "text/plain": [
       "<Figure size 720x360 with 1 Axes>"
      ]
     },
     "metadata": {
      "needs_background": "light"
     },
     "output_type": "display_data"
    },
    {
     "data": {
      "image/png": "[encoded data removed]",
      "text/plain": [
       "<Figure size 720x360 with 1 Axes>"
      ]
     },
     "metadata": {
      "needs_background": "light"
     },
     "output_type": "display_data"
    },
    {
     "data": {
      "image/png": "[encoded data removed]",
      "text/plain": [
       "<Figure size 720x360 with 1 Axes>"
      ]
     },
     "metadata": {
      "needs_background": "light"
     },
     "output_type": "display_data"
    },
    {
     "data": {
      "image/png": "[encoded data removed]",
      "text/plain": [
       "<Figure size 720x360 with 1 Axes>"
      ]
     },
     "metadata": {
      "needs_background": "light"
     },
     "output_type": "display_data"
    },
    {
     "data": {
      "image/png": "[encoded data removed]",
      "text/plain": [
       "<Figure size 720x360 with 1 Axes>"
      ]
     },
     "metadata": {
      "needs_background": "light"
     },
     "output_type": "display_data"
    },
    {
     "data": {
      "image/png": "[encoded data removed]",
      "text/plain": [
       "<Figure size 720x360 with 1 Axes>"
      ]
     },
     "metadata": {
      "needs_background": "light"
     },
     "output_type": "display_data"
    },
    {
     "data": {
      "image/png": "[encoded data removed]",
      "text/plain": [
       "<Figure size 720x360 with 1 Axes>"
      ]
     },
     "metadata": {
      "needs_background": "light"
     },
     "output_type": "display_data"
    },
    {
     "data": {
      "image/png": "[encoded data removed]",
      "text/plain": [
       "<Figure size 720x360 with 1 Axes>"
      ]
     },
     "metadata": {
      "needs_background": "light"
     },
     "output_type": "display_data"
    },
    {
     "data": {
      "image/png": "[encoded data removed]",
      "text/plain": [
       "<Figure size 720x360 with 1 Axes>"
      ]
     },
     "metadata": {
      "needs_background": "light"
     },
     "output_type": "display_data"
    }
   ],
   "source": [
    "for num in range(0,1):\n",
    "\n",
    "    startFreq, endFreq =6.829e9, 6.831e9\n",
    "\n",
    "    startIP, endIP, RP = 0, 0,4e3     #-0.0368e-3, 0.0368e-3,4e3\n",
    "    startIS, endIS, RS = -1.5e-3, 1.5e-3,4e3     #0e-3, 4e-3/2.353,2e3\n",
    "    power = -25\n",
    "    N = 21\n",
    "    \n",
    "#     VP1list = list(np.linspace(0,-8.063,N))\n",
    "#     VP2list = list(np.linspace(0,-1.526,N))\n",
    "# #     VSlist = list(np.linspace(sim_s.askVoltage(),-1,N))\n",
    "#     for (vp1,vp2) in zip(VP1list,VP2list):\n",
    "#         sim_p1.setVoltage(vp1)\n",
    "#         sim_p2.setVoltage(vp2)\n",
    "# #         sim_s.setVoltage(vs)\n",
    "#         time.sleep(0.5)\n",
    "    \n",
    "\n",
    "    savepath='Z:\\\\Experiments\\\\Dirty Aluminum\\\\Qubit\\\\091119Nb_G3_010720\\\\scan1\\\\'\n",
    "\n",
    "    startVP = startIP*RP\n",
    "    endVP = endIP*RP\n",
    "    startVS = startIS*RS\n",
    "    endVS = endIS*RS\n",
    "\n",
    "    # configure instrument\n",
    "    pna.setupMeas()\n",
    "    time.sleep(0.1)\n",
    "    pna.setSweepType('linear')\n",
    "    time.sleep(0.1)\n",
    "    pna.setFreqStartEnd(startFreq, endFreq)\n",
    "    time.sleep(0.1)\n",
    "    pna.setPwr(power)\n",
    "    time.sleep(0.1)\n",
    "    pna.avgCount(100)\n",
    "    time.sleep(0.1)\n",
    "    pna.numPoints(401)\n",
    "    time.sleep(0.1)\n",
    "    pna.pwrOn()\n",
    "\n",
    "    for j in range(-10,11,1):\n",
    "        plaqStep = .6     #4e-3/2.772/50*2e3  #0.1/8\n",
    "        sqdStep = 0          #plaqStep/1.33        #-4e-3/2.353/50*2e3 #plaqStep*6.05144\n",
    "        VPlist = list(np.linspace(startVP+plaqStep*j,endVP+plaqStep*(j),N))\n",
    "        VSlist = list(np.linspace(startVS+sqdStep*j,endVS+sqdStep*j,N))\n",
    "\n",
    "        f02D = np.array([])\n",
    "        phase2D = np.array([])\n",
    "        f01D = np.array([])\n",
    "        #S1D = np.array([])\n",
    "\n",
    "\n",
    "        plotobj= myplots_py3.plot2D(xlabel = 'Index', ylabel='Frequency (GHz)')\n",
    "        i=1\n",
    "        for (vp,vs) in zip(VPlist,VSlist):\n",
    "            sim_p1.setVoltage(vs)\n",
    "            sim_p2.setVoltage(vp)\n",
    "#             sim_s.setVoltage(vs)\n",
    "    #         sim_s.setVoltage(-2.353*vs/2+2.772*vp/2)\n",
    "            time.sleep(0.1)\n",
    "            pna.avgClear()\n",
    "            time.sleep(0.05)\n",
    "\n",
    "            freq, S21 = pna.getData(cplx=True)\n",
    "            S21_real, S21_imag = np.real(S21), np.imag(S21)\n",
    "            S21_mag, S21_phase = np.sqrt(S21_real**2 + S21_imag**2), np.angle(S21, deg=True) # phase in degree\n",
    "            S21_mag_log = 20.0 * np.log10(S21_mag)\n",
    "            np.savetxt(savepath+'P'+str(vp)+'VS'+str(vs)+'V.txt',list(zip(freq,S21_mag_log,S21_phase)),delimiter='\\t',newline='\\r\\n',fmt='%.10e')\n",
    "            f0 = freq[list(S21_mag_log).index(min(S21_mag_log))]/1e9\n",
    "            Smin = min(S21_mag_log)\n",
    "            if min(S21_mag_log) > 3:\n",
    "                f0 = np.nan\n",
    "            f01D = np.append(f01D,f0)\n",
    "            #S1D = np.append(S1D,Smin)\n",
    "\n",
    "            if f02D.size == 0: # when S21_mag_2D is empty\n",
    "                f02D = S21_mag_log\n",
    "                f02D.shape = (f02D.size, 1)\n",
    "                phase2D = S21_phase\n",
    "                phase2D.shape = (phase2D.size, 1)\n",
    "            else:\n",
    "                f02D = np.column_stack((f02D, S21_mag_log))\n",
    "                phase2D = np.column_stack((phase2D, S21_phase))\n",
    "            extent = [1, i, startFreq, endFreq]\n",
    "            i=i+1\n",
    "    #         plotobj.update(f02D, extent)\n",
    "\n",
    "        np.savetxt(savepath + 'Shift'+str(j)+'.csv',list(f02D),delimiter=',',newline='\\r\\n',fmt='%.10e')\n",
    "        np.savetxt(savepath + 'Shift'+str(j)+'phase.csv',list(phase2D),delimiter=',',newline='\\r\\n',fmt='%.10e')\n",
    "        #np.savetxt(savepath + 'Res91S21Pn8p8Sn5p5.csv',list(S2D),delimiter=',',newline='\\r\\n',fmt='%.10e')\n",
    "        for (vp,vs) in zip(reversed(VPlist),reversed(VSlist)):\n",
    "            sim_p1.setVoltage(vs)\n",
    "            sim_p2.setVoltage(vp)\n",
    "#             sim_s.setVoltage(vs)\n",
    "            time.sleep(0.05)\n",
    "\n",
    "        plotobj.update(f02D, extent)\n",
    "    #     plotobj2= myplots_py3.plot1D(ylabel = 'f0 (GHz)', xlabel='Index', title = baseFileName, plotStyle='b-')\n",
    "    #     plotobj2.update(list(np.linspace(1,N,N)), f01D)\n",
    "    # sim_p1.setVoltage(0)\n",
    "    # sim_p2.setVoltage(0)\n",
    "    # sim_s.setVoltage(0)\n",
    "    pna.pwrOff()\n",
    "    \n",
    "#     VP1list = list(np.linspace(-16.9,0,N))\n",
    "#     VP2list = list(np.linspace(-1.5,0,N))\n",
    "# #     VSlist = list(np.linspace(sim_s.askVoltage(),-1,N))\n",
    "#     for (vp1,vp2) in zip(VP1list,VP2list):\n",
    "#         sim_p1.setVoltage(vp1)\n",
    "#         sim_p2.setVoltage(vp2)\n",
    "# #         sim_s.setVoltage(vs)\n",
    "#         time.sleep(0.5)\n",
    "#     VP1list = list(np.linspace(.8,-4,N))\n",
    "#     VP2list = list(np.linspace(.8,-4,N))\n",
    "#     VSlist = list(np.linspace(1.6,-4,N))\n",
    "#     for (vp1,vp2,vs) in zip(VP1list,VP2list,VSlist):\n",
    "# #         sim_p1.setVoltage(vp1)\n",
    "#         sim_p2.setVoltage(vp2)\n",
    "# #         sim_s.setVoltage(vs)\n",
    "#         time.sleep(0.5)\n",
    "    \n",
    "    \n",
    "    \n",
    "\n",
    "\n",
    "# for num in range(0,1):\n",
    "\n",
    "#     startFreq, endFreq =5.95e9, 6.2e9\n",
    "\n",
    "#     startIP, endIP, RP = -0e-3, 0e-3,4e3     #4e-3/2.772,0,2e3 #-0.03e-3, 0.03e-3,2e3\n",
    "#     startIS, endIS, RS = -1e-3, 1e-3,4e3     #0e-3, 4e-3/2.353,2e3\n",
    "#     power = -65\n",
    "#     N = 101\n",
    "    \n",
    "#     VP1list = list(np.linspace(2,-2,N))\n",
    "#     VP2list = list(np.linspace(2,-2,N))\n",
    "#     VSlist = list(np.linspace(-2,0,N))\n",
    "#     for (vp1,vp2,vs) in zip(VP1list,VP2list,VSlist):\n",
    "#         sim_p1.setVoltage(vp1)\n",
    "#         sim_p2.setVoltage(vp2)\n",
    "#         sim_s.setVoltage(vs)\n",
    "#         time.sleep(0.5)\n",
    "    \n",
    "\n",
    "#     savepath='Z:\\\\Experiments\\\\DR1\\\\Data\\\\PlaqH3\\\\scan'+str(13+num)+'\\\\'\n",
    "\n",
    "#     startVP = startIP*RP\n",
    "#     endVP = endIP*RP\n",
    "#     startVS = startIS*RS\n",
    "#     endVS = endIS*RS\n",
    "\n",
    "#     # configure instrument\n",
    "#     pna.setupMeas()\n",
    "#     pna.setSweepType('linear')\n",
    "#     pna.setFreqStartEnd(startFreq, endFreq)\n",
    "#     pna.setPwr(power)\n",
    "#     pna.avgCount(50)\n",
    "#     pna.numPoints(1601)\n",
    "#     pna.pwrOn()\n",
    "\n",
    "#     for j in range(-50,51,1):\n",
    "#         plaqStep = 0.08     #4e-3/2.772/50*2e3  #0.1/8\n",
    "#         sqdStep = 0.00        #-4e-3/2.353/50*2e3 #plaqStep*6.05144\n",
    "#         VPlist = list(np.linspace(startVP+plaqStep*j,endVP+plaqStep*(j),N))\n",
    "#         VSlist = list(np.linspace(startVS+sqdStep*j,endVS+sqdStep*j,N))\n",
    "\n",
    "#         f02D = np.array([])\n",
    "#         phase2D = np.array([])\n",
    "#         f01D = np.array([])\n",
    "#         #S1D = np.array([])\n",
    "\n",
    "\n",
    "#         plotobj= myplots_py3.plot2D(xlabel = 'Index', ylabel='Frequency (GHz)')\n",
    "#         i=1\n",
    "#         for (vp,vs) in zip(VPlist,VSlist):\n",
    "#             sim_p1.setVoltage(vs)\n",
    "#             sim_p2.setVoltage(vp)\n",
    "# #             sim_s.setVoltage(vs)\n",
    "#     #         sim_s.setVoltage(-2.353*vs/2+2.772*vp/2)\n",
    "#             time.sleep(0.2)\n",
    "#             pna.avgClear()\n",
    "\n",
    "#             freq, S21 = pna.getData(cplx=True)\n",
    "#             S21_real, S21_imag = np.real(S21), np.imag(S21)\n",
    "#             S21_mag, S21_phase = np.sqrt(S21_real**2 + S21_imag**2), np.angle(S21, deg=True) # phase in degree\n",
    "#             S21_mag_log = 20.0 * np.log10(S21_mag)\n",
    "#             np.savetxt(savepath+'P'+str(vp)+'VS'+str(vs)+'V.txt',list(zip(freq,S21_mag_log,S21_phase)),delimiter='\\t',newline='\\r\\n',fmt='%.10e')\n",
    "#             f0 = freq[list(S21_mag_log).index(min(S21_mag_log))]/1e9\n",
    "#             Smin = min(S21_mag_log)\n",
    "#             if min(S21_mag_log) > 3:\n",
    "#                 f0 = np.nan\n",
    "#             f01D = np.append(f01D,f0)\n",
    "#             #S1D = np.append(S1D,Smin)\n",
    "\n",
    "#             if f02D.size == 0: # when S21_mag_2D is empty\n",
    "#                 f02D = S21_mag_log\n",
    "#                 f02D.shape = (f02D.size, 1)\n",
    "#                 phase2D = S21_phase\n",
    "#                 phase2D.shape = (phase2D.size, 1)\n",
    "#             else:\n",
    "#                 f02D = np.column_stack((f02D, S21_mag_log))\n",
    "#                 phase2D = np.column_stack((phase2D, S21_phase))\n",
    "#             extent = [1, i, startFreq, endFreq]\n",
    "#             i=i+1\n",
    "#     #         plotobj.update(f02D, extent)\n",
    "\n",
    "#         np.savetxt(savepath + 'Shift'+str(j)+'.csv',list(f02D),delimiter=',',newline='\\r\\n',fmt='%.10e')\n",
    "#         np.savetxt(savepath + 'Shift'+str(j)+'phase.csv',list(phase2D),delimiter=',',newline='\\r\\n',fmt='%.10e')\n",
    "#         #np.savetxt(savepath + 'Res91S21Pn8p8Sn5p5.csv',list(S2D),delimiter=',',newline='\\r\\n',fmt='%.10e')\n",
    "#         for (vp,vs) in zip(reversed(VPlist),reversed(VSlist)):\n",
    "#             sim_p1.setVoltage(vs)\n",
    "#             sim_p2.setVoltage(vp)\n",
    "# #             sim_s.setVoltage(vs)\n",
    "#             time.sleep(0.5)\n",
    "\n",
    "#         plotobj.update(f02D, extent)\n",
    "#     #     plotobj2= myplots_py3.plot1D(ylabel = 'f0 (GHz)', xlabel='Index', title = baseFileName, plotStyle='b-')\n",
    "#     #     plotobj2.update(list(np.linspace(1,N,N)), f01D)\n",
    "#     # sim_p1.setVoltage(0)\n",
    "#     # sim_p2.setVoltage(0)\n",
    "#     # sim_s.setVoltage(0)\n",
    "#     pna.pwrOff()"
   ]
  },
  {
   "cell_type": "code",
   "execution_count": 4,
   "metadata": {
    "ExecuteTime": {
     "end_time": "2019-05-30T23:35:08.116103Z",
     "start_time": "2019-05-30T19:50:56.527654Z"
    }
   },
   "outputs": [
    {
     "name": "stdout",
     "output_type": "stream",
     "text": [
      "Initialized S21 Measurement 'S21Meas'\n"
     ]
    }
   ],
   "source": [
    "for num in range(0,1):\n",
    "\n",
    "    startFreq, endFreq =5.9e9, 5.93e9\n",
    "\n",
    "    startIP, endIP, RP = -.15e-3, -.15e-3,4e3     #-0.0368e-3, 0.0368e-3,4e3\n",
    "    startIS, endIS, RS = -.1e-3, .8e-3,4e3     #0e-3, 4e-3/2.353,2e3\n",
    "    power = -28\n",
    "    N = 37\n",
    "    \n",
    "#     VP1list = list(np.linspace(0,-4,N))\n",
    "#     VP2list = list(np.linspace(0,-4,N))\n",
    "#     VSlist = list(np.linspace(0,-4,N))\n",
    "#     for (vp1,vp2,vs) in zip(VP1list,VP2list,VSlist):\n",
    "#         sim_p1.setVoltage(vp1)\n",
    "#         sim_p2.setVoltage(vp2)\n",
    "#         sim_s.setVoltage(vs)\n",
    "#         time.sleep(0.2)\n",
    "    \n",
    "\n",
    "    savepath='Z:\\\\Experiments\\\\DR1\\\\Data\\\\062519NbAlOX_H6\\\\Cav 2d flux\\\\scan'+str(2+num)+'\\\\'\n",
    "\n",
    "    startVP = startIP*RP\n",
    "    endVP = endIP*RP\n",
    "    startVS = startIS*RS\n",
    "    endVS = endIS*RS\n",
    "\n",
    "    # configure instrument\n",
    "#     pna.connect()\n",
    "    pna.setupMeas()\n",
    "#     pna.setSweepType('linear')\n",
    "    pna.setFreqStartEnd(startFreq, endFreq)\n",
    "    pna.setPwr(power)\n",
    "    pna.avgCount(50)\n",
    "    pna.numPoints(101)\n",
    "    pna.pwrOn()\n",
    "\n",
    "    for j in range(0,53,1):\n",
    "        plaqStep = 0.1     #4e-3/2.772/50*2e3  #0.1/8\n",
    "        sqdStep = 0          #plaqStep/1.33        #-4e-3/2.353/50*2e3 #plaqStep*6.05144\n",
    "        VPlist = list(np.linspace(startVP+plaqStep*j,endVP+plaqStep*(j),N))\n",
    "        VSlist = list(np.linspace(startVS+sqdStep*j,endVS+sqdStep*j,N))\n",
    "\n",
    "        f02D = np.array([])\n",
    "        phase2D = np.array([])\n",
    "        f01D = np.array([])\n",
    "        #S1D = np.array([])\n",
    "\n",
    "\n",
    "#   plot      plotobj= myplots_py3.plot2D(xlabel = 'Index', ylabel='Frequency (GHz)')\n",
    "        i=1\n",
    "        for (vp,vs) in zip(VPlist,VSlist):\n",
    "            sim_p1.setVoltage(vs)\n",
    "            sim_p2.setVoltage(vp)\n",
    "#             sim_s.setVoltage(vs)\n",
    "    #         sim_s.setVoltage(-2.353*vs/2+2.772*vp/2)\n",
    "            time.sleep(0.05)\n",
    "            pna.avgClear()\n",
    "\n",
    "            freq, S21 = pna.getData(cplx=True)\n",
    "            S21_real, S21_imag = np.real(S21), np.imag(S21)\n",
    "            S21_mag, S21_phase = np.sqrt(S21_real**2 + S21_imag**2), np.angle(S21, deg=True) # phase in degree\n",
    "            S21_mag_log = 20.0 * np.log10(S21_mag)\n",
    "            np.savetxt(savepath+'P'+str(vp)+'VS'+str(vs)+'V.txt',list(zip(freq,S21_mag_log,S21_phase)),delimiter='\\t',newline='\\r\\n',fmt='%.10e')\n",
    "            f0 = freq[list(S21_mag_log).index(min(S21_mag_log))]/1e9\n",
    "            Smin = min(S21_mag_log)\n",
    "            if min(S21_mag_log) > 3:\n",
    "                f0 = np.nan\n",
    "            f01D = np.append(f01D,f0)\n",
    "            #S1D = np.append(S1D,Smin)\n",
    "\n",
    "            if f02D.size == 0: # when S21_mag_2D is empty\n",
    "                f02D = S21_mag_log\n",
    "                f02D.shape = (f02D.size, 1)\n",
    "                phase2D = S21_phase\n",
    "                phase2D.shape = (phase2D.size, 1)\n",
    "            else:\n",
    "                f02D = np.column_stack((f02D, S21_mag_log))\n",
    "                phase2D = np.column_stack((phase2D, S21_phase))\n",
    "            extent = [1, i, startFreq, endFreq]\n",
    "            i=i+1\n",
    "    #         plotobj.update(f02D, extent)\n",
    "\n",
    "        np.savetxt(savepath + 'Shift'+str(j)+'.csv',list(f02D),delimiter=',',newline='\\r\\n',fmt='%.10e')\n",
    "        np.savetxt(savepath + 'Shift'+str(j)+'phase.csv',list(phase2D),delimiter=',',newline='\\r\\n',fmt='%.10e')\n",
    "        #np.savetxt(savepath + 'Res91S21Pn8p8Sn5p5.csv',list(S2D),delimiter=',',newline='\\r\\n',fmt='%.10e')\n",
    "        for (vp,vs) in zip(reversed(VPlist),reversed(VSlist)):\n",
    "            sim_p1.setVoltage(vs)\n",
    "            sim_p2.setVoltage(vp)\n",
    "#             sim_s.setVoltage(vs)\n",
    "            time.sleep(0.01)\n",
    "\n",
    "#     plot    plotobj.update(f02D, extent)\n",
    "    #     plotobj2= myplots_py3.plot1D(ylabel = 'f0 (GHz)', xlabel='Index', title = baseFileName, plotStyle='b-')\n",
    "    #     plotobj2.update(list(np.linspace(1,N,N)), f01D)\n",
    "    # sim_p1.setVoltage(0)\n",
    "    # sim_p2.setVoltage(0)\n",
    "    # sim_s.setVoltage(0)\n",
    "    pna.pwrOff()\n",
    "    \n",
    "#     VP1list = list(np.linspace(4,0,N))\n",
    "#     VP2list = list(np.linspace(4,0,N))\n",
    "#     VSlist = list(np.linspace(-4,0,N))\n",
    "#     for (vp1,vp2,vs) in zip(VP1list,VP2list,VSlist):\n",
    "#         sim_p1.setVoltage(vp1)\n",
    "#         sim_p2.setVoltage(vp2)\n",
    "#         sim_s.setVoltage(vs)\n",
    "#         time.sleep(0.2)"
   ]
  },
  {
   "cell_type": "code",
   "execution_count": null,
   "metadata": {
    "collapsed": true
   },
   "outputs": [],
   "source": [
    "test = interpolate.interp1d([1,2,3], [2,4,6])"
   ]
  },
  {
   "cell_type": "code",
   "execution_count": null,
   "metadata": {
    "collapsed": true
   },
   "outputs": [],
   "source": [
    "test(np.array([1.5,2.5]))"
   ]
  },
  {
   "cell_type": "code",
   "execution_count": 7,
   "metadata": {},
   "outputs": [
    {
     "name": "stdout",
     "output_type": "stream",
     "text": [
      "Initialized S21 Measurement 'S21Meas'\n"
     ]
    },
    {
     "ename": "KeyboardInterrupt",
     "evalue": "",
     "output_type": "error",
     "traceback": [
      "\u001b[1;31m---------------------------------------------------------------------------\u001b[0m",
      "\u001b[1;31mKeyboardInterrupt\u001b[0m                         Traceback (most recent call last)",
      "\u001b[1;32m<ipython-input-7-100201d4c429>\u001b[0m in \u001b[0;36m<module>\u001b[1;34m()\u001b[0m\n\u001b[0;32m     79\u001b[0m \u001b[1;31m#             sim_s.setVoltage(vs)\u001b[0m\u001b[1;33m\u001b[0m\u001b[1;33m\u001b[0m\u001b[0m\n\u001b[0;32m     80\u001b[0m     \u001b[1;31m#         sim_s.setVoltage(-2.353*vs/2+2.772*vp/2)\u001b[0m\u001b[1;33m\u001b[0m\u001b[1;33m\u001b[0m\u001b[0m\n\u001b[1;32m---> 81\u001b[1;33m             \u001b[0mtime\u001b[0m\u001b[1;33m.\u001b[0m\u001b[0msleep\u001b[0m\u001b[1;33m(\u001b[0m\u001b[1;36m0.1\u001b[0m\u001b[1;33m)\u001b[0m\u001b[1;33m\u001b[0m\u001b[0m\n\u001b[0m\u001b[0;32m     82\u001b[0m             \u001b[0mpna\u001b[0m\u001b[1;33m.\u001b[0m\u001b[0mavgClear\u001b[0m\u001b[1;33m(\u001b[0m\u001b[1;33m)\u001b[0m\u001b[1;33m\u001b[0m\u001b[0m\n\u001b[0;32m     83\u001b[0m             \u001b[0mfreq\u001b[0m\u001b[1;33m,\u001b[0m \u001b[0mS21\u001b[0m \u001b[1;33m=\u001b[0m \u001b[0mpna\u001b[0m\u001b[1;33m.\u001b[0m\u001b[0mgetData\u001b[0m\u001b[1;33m(\u001b[0m\u001b[0mcplx\u001b[0m\u001b[1;33m=\u001b[0m\u001b[1;32mTrue\u001b[0m\u001b[1;33m)\u001b[0m\u001b[1;33m\u001b[0m\u001b[0m\n",
      "\u001b[1;31mKeyboardInterrupt\u001b[0m: "
     ]
    }
   ],
   "source": [
    "# Charge scan at each point\n",
    "\n",
    "from scipy import interpolate\n",
    "\n",
    "# load background\n",
    "f = open('Z:\\\\Experiments\\\\DR1\\\\Data\\\\PlaqG2\\\\BackgroundFrust.txt')\n",
    "data = list(f)\n",
    "f.close()\n",
    "BGfreq = []\n",
    "BGmag = []\n",
    "BGphase = []\n",
    "for line in data:\n",
    "    i = line.find('\\t')\n",
    "    j = line.find('\\t',i + 1)\n",
    "    if i is -1:\n",
    "        header.append(float(line))\n",
    "    else:\n",
    "        BGfreq.append(float(line[:i]))\n",
    "        BGmag.append(float(line[i:j]))\n",
    "        BGphase.append(float(line[j:]))\n",
    "\n",
    "bg = interpolate.interp1d(BGfreq, BGmag)\n",
    "        \n",
    "        \n",
    "for num in range(0,1):\n",
    "\n",
    "    startFreq, endFreq =4.82e9, 4.86e9\n",
    "\n",
    "    startIP, endIP, RP = 0, 0,4e3     #-0.0368e-3, 0.0368e-3,4e3\n",
    "    startIS, endIS, RS = -0.5e-3, 0.5e-3,4e3     #0e-3, 4e-3/2.353,2e3\n",
    "    power = -65\n",
    "    N = 41\n",
    "    \n",
    "#     VP1list = list(np.linspace(-1.06,-2,N))\n",
    "#     VP2list = list(np.linspace(-1.8,-2,N))\n",
    "# #     VSlist = list(np.linspace(sim_s.askVoltage(),-1,N))\n",
    "#     for (vp1,vp2) in zip(VP1list,VP2list):\n",
    "#         sim_p1.setVoltage(vp1)\n",
    "#         sim_p2.setVoltage(vp2)\n",
    "# #         sim_s.setVoltage(vs)\n",
    "#         time.sleep(0.5)\n",
    "    \n",
    "\n",
    "    savepath='Z:\\\\Experiments\\\\DR1\\\\Data\\\\PlaqG2\\\\scan'+str(4+num)+'\\\\'\n",
    "\n",
    "    startVP = startIP*RP\n",
    "    endVP = endIP*RP\n",
    "    startVS = startIS*RS\n",
    "    endVS = endIS*RS\n",
    "\n",
    "    # configure instrument\n",
    "    pna.setupMeas()\n",
    "    pna.setSweepType('linear')\n",
    "    pna.setFreqStartEnd(startFreq, endFreq)\n",
    "    pna.setPwr(power)\n",
    "    pna.avgCount(50)\n",
    "    pna.numPoints(401)\n",
    "    pna.pwrOn()\n",
    "\n",
    "    for j in range(-20,21,1):\n",
    "        plaqStep = 0.1     #4e-3/2.772/50*2e3  #0.1/8\n",
    "        sqdStep = 0          #plaqStep/1.33        #-4e-3/2.353/50*2e3 #plaqStep*6.05144\n",
    "        VPlist = list(np.linspace(startVP+plaqStep*j,endVP+plaqStep*(j),N))\n",
    "        VSlist = list(np.linspace(startVS+sqdStep*j,endVS+sqdStep*j,N))\n",
    "\n",
    "        f02D = np.array([])\n",
    "        phase2D = np.array([])\n",
    "        f01D = np.array([])\n",
    "        #S1D = np.array([])\n",
    "\n",
    "\n",
    "#         plotobj= myplots_py3.plot2D(xlabel = 'Index', ylabel='Frequency (GHz)')\n",
    "        i=1\n",
    "        for (vp,vs) in zip(VPlist,VSlist):\n",
    "#             pna.setFreqStartEnd(startFreq, endFreq)\n",
    "#             pna.numPoints(401)\n",
    "            sim_p1.setVoltage(vs)\n",
    "            sim_p2.setVoltage(vp)\n",
    "#             sim_s.setVoltage(vs)\n",
    "    #         sim_s.setVoltage(-2.353*vs/2+2.772*vp/2)\n",
    "            time.sleep(0.1)\n",
    "            pna.avgClear()\n",
    "            freq, S21 = pna.getData(cplx=True)\n",
    "            S21_real, S21_imag = np.real(S21), np.imag(S21)\n",
    "            S21_mag, S21_phase = np.sqrt(S21_real**2 + S21_imag**2), np.angle(S21, deg=True) # phase in degree\n",
    "            S21_mag_log = 20.0 * np.log10(S21_mag)\n",
    "            np.savetxt(savepath+'P'+str(vp)+'VS'+str(vs)+'V.txt',list(zip(freq,S21_mag_log,S21_phase)),delimiter='\\t',newline='\\r\\n',fmt='%.10e')\n",
    "            S21_mag_log_sub = S21_mag_log - bg(freq)\n",
    "            f0 = freq[list(S21_mag_log_sub).index(min(S21_mag_log_sub))]\n",
    "            f01D = np.append(f01D,f0)\n",
    "            #S1D = np.append(S1D,Smin)\n",
    "\n",
    "            if f02D.size == 0: # when S21_mag_2D is empty\n",
    "                f02D = S21_mag_log\n",
    "                f02D.shape = (f02D.size, 1)\n",
    "                phase2D = S21_phase\n",
    "                phase2D.shape = (phase2D.size, 1)\n",
    "            else:\n",
    "                f02D = np.column_stack((f02D, S21_mag_log))\n",
    "                phase2D = np.column_stack((phase2D, S21_phase))\n",
    "            extent = [1, i, startFreq, endFreq]\n",
    "            i=i+1\n",
    "            \n",
    "            #           charge scan part\n",
    "#             pna.setFreqStartEnd(f0-10e6, f0+10e6)\n",
    "#             pna.numPoints(401)\n",
    "            charge2D = np.array([])\n",
    "            for vc in np.linspace(0,.1,16):\n",
    "                sim_c.setVoltage(vc)\n",
    "                time.sleep(0.1)\n",
    "                pna.avgClear()\n",
    "                freq, S21 = pna.getData(cplx=True)\n",
    "                S21_real, S21_imag = np.real(S21), np.imag(S21)\n",
    "                S21_mag, S21_phase = np.sqrt(S21_real**2 + S21_imag**2), np.angle(S21, deg=True) # phase in degree\n",
    "                S21_mag_log = 20.0 * np.log10(S21_mag)\n",
    "                if charge2D.size == 0: # when S21_mag_2D is empty\n",
    "                    charge2D = S21_mag_log\n",
    "                    charge2D.shape = (charge2D.size, 1)\n",
    "                else:\n",
    "                    charge2D = np.column_stack((charge2D, S21_mag_log))\n",
    "    #         plotobj.update(f02D, extent)\n",
    "            np.savetxt(savepath + 'charge\\\\Charge'+str(i-1)+'_'+str(j)+'f'+str(f0/1e9)+'.csv',list(charge2D),delimiter=',',newline='\\r\\n',fmt='%.10e')\n",
    "        \n",
    "        \n",
    "            charge2D = np.array([])\n",
    "            for vc in np.linspace(.1,0,16):\n",
    "                sim_c.setVoltage(vc)\n",
    "                time.sleep(0.1)\n",
    "                pna.avgClear()\n",
    "                freq, S21 = pna.getData(cplx=True)\n",
    "                S21_real, S21_imag = np.real(S21), np.imag(S21)\n",
    "                S21_mag, S21_phase = np.sqrt(S21_real**2 + S21_imag**2), np.angle(S21, deg=True) # phase in degree\n",
    "                S21_mag_log = 20.0 * np.log10(S21_mag)\n",
    "                if charge2D.size == 0: # when S21_mag_2D is empty\n",
    "                    charge2D = S21_mag_log\n",
    "                    charge2D.shape = (charge2D.size, 1)\n",
    "                else:\n",
    "                    charge2D = np.column_stack((charge2D, S21_mag_log))\n",
    "    #         plotobj.update(f02D, extent)\n",
    "            np.savetxt(savepath + 'charge\\\\ChargeR'+str(i-1)+'_'+str(j)+'f'+str(f0/1e9)+'.csv',list(charge2D),delimiter=',',newline='\\r\\n',fmt='%.10e')\n",
    "        \n",
    "        \n",
    "\n",
    "        np.savetxt(savepath + 'Shift'+str(j)+'.csv',list(f02D),delimiter=',',newline='\\r\\n',fmt='%.10e')\n",
    "        np.savetxt(savepath + 'Shift'+str(j)+'phase.csv',list(phase2D),delimiter=',',newline='\\r\\n',fmt='%.10e')\n",
    "        #np.savetxt(savepath + 'Res91S21Pn8p8Sn5p5.csv',list(S2D),delimiter=',',newline='\\r\\n',fmt='%.10e')\n",
    "        for (vp,vs) in zip(reversed(VPlist),reversed(VSlist)):\n",
    "            sim_p1.setVoltage(vs)\n",
    "            sim_p2.setVoltage(vp)\n",
    "#             sim_s.setVoltage(vs)\n",
    "            time.sleep(0.1)\n",
    "\n",
    "#         plotobj.update(f02D, extent)\n",
    "    #     plotobj2= myplots_py3.plot1D(ylabel = 'f0 (GHz)', xlabel='Index', title = baseFileName, plotStyle='b-')\n",
    "    #     plotobj2.update(list(np.linspace(1,N,N)), f01D)\n",
    "    # sim_p1.setVoltage(0)\n",
    "    # sim_p2.setVoltage(0)\n",
    "    # sim_s.setVoltage(0)\n",
    "    pna.pwrOff()"
   ]
  },
  {
   "cell_type": "code",
   "execution_count": null,
   "metadata": {
    "ExecuteTime": {
     "end_time": "2019-02-21T11:55:11.039822Z",
     "start_time": "2019-02-21T04:05:11.342295Z"
    },
    "collapsed": true
   },
   "outputs": [],
   "source": [
    "startFreq, endFreq =6e9, 6.2e9\n",
    "\n",
    "startIP, endIP, RP = -.0696e-3,.0696e-3,2e3 #-.0126e-3,.0126e-3,2e3\n",
    "startIS, endIS, RS = -1e-3, 1e-3,1e3\n",
    "power = -70\n",
    "N = 101\n",
    "\n",
    "savepath='Z:\\\\PHY-PRL-Labshare\\\\Experiments\\\\Dirty Aluminum\\\\RF_SQUID\\\\0204\\\\scan26\\\\'\n",
    "\n",
    "VP1list = list(np.linspace(0,-2,N))\n",
    "VP2list = list(np.linspace(0.314,-0.75,N))\n",
    "VSlist = list(np.linspace(0.1,-1,N))\n",
    "for (vp1,vp2,vs) in zip(VP1list,VP2list,VSlist):\n",
    "#     sim_p1.setVoltage(vp1)\n",
    "    sim_p2.setVoltage(vp2)\n",
    "    sim_s.setVoltage(vs)\n",
    "    time.sleep(0.5)\n",
    "\n",
    "startVP = startIP*RP\n",
    "endVP = endIP*RP\n",
    "startVS = startIS*RS\n",
    "endVS = endIS*RS\n",
    "\n",
    "# configure instrument\n",
    "pna.setupMeas()\n",
    "pna.setSweepType('linear')\n",
    "pna.setFreqStartEnd(startFreq, endFreq)\n",
    "pna.setPwr(power)\n",
    "pna.avgCount(60)\n",
    "pna.numPoints(1601)\n",
    "pna.pwrOn()\n",
    "\n",
    "for j in range(-40,41,1):\n",
    "    plaqStep = 0.05  #0.1/8\n",
    "    sqdStep = 0 #plaqStep*6.05144\n",
    "    VPlist = list(np.linspace(startVP+plaqStep*j,endVP+plaqStep*(j),N))\n",
    "    VSlist = list(np.linspace(startVS+sqdStep*j,endVS+sqdStep*j,N))\n",
    "\n",
    "    f02D = np.array([])\n",
    "    phase2D = np.array([])\n",
    "    f01D = np.array([])\n",
    "    #S1D = np.array([])\n",
    "\n",
    "\n",
    "    plotobj= myplots_py3.plot2D(xlabel = 'Index', ylabel='Frequency (GHz)')\n",
    "    i=1\n",
    "    for (vp,vs) in zip(VPlist,VSlist):\n",
    "#         sim_p1.setVoltage(vp)\n",
    "#         sim_p2.setVoltage(-0.2+0.29*vp+0.0348*vs)\n",
    "        sim_p2.setVoltage(vp)\n",
    "        sim_s.setVoltage(vs)\n",
    "        time.sleep(0.2)\n",
    "        pna.avgClear()\n",
    "\n",
    "        freq, S21 = pna.getData(cplx=True)\n",
    "        S21_real, S21_imag = np.real(S21), np.imag(S21)\n",
    "        S21_mag, S21_phase = np.sqrt(S21_real**2 + S21_imag**2), np.angle(S21, deg=True) # phase in degree\n",
    "        S21_mag_log = 20.0 * np.log10(S21_mag)\n",
    "        np.savetxt(savepath+'P'+str(vp)+'VS'+str(vs)+'V.txt',list(zip(freq,S21_mag_log,S21_phase)),delimiter='\\t',newline='\\r\\n',fmt='%.10e')\n",
    "        f0 = freq[list(S21_mag_log).index(min(S21_mag_log))]/1e9\n",
    "        Smin = min(S21_mag_log)\n",
    "        if min(S21_mag_log) > 3:\n",
    "            f0 = np.nan\n",
    "        f01D = np.append(f01D,f0)\n",
    "        #S1D = np.append(S1D,Smin)\n",
    "\n",
    "        if f02D.size == 0: # when S21_mag_2D is empty\n",
    "            f02D = S21_mag_log\n",
    "            f02D.shape = (f02D.size, 1)\n",
    "            phase2D = S21_phase\n",
    "            phase2D.shape = (phase2D.size, 1)\n",
    "        else:\n",
    "            f02D = np.column_stack((f02D, S21_mag_log))\n",
    "            phase2D = np.column_stack((phase2D, S21_phase))\n",
    "        extent = [1, i, startFreq, endFreq]\n",
    "        i=i+1\n",
    "#         plotobj.update(f02D, extent)\n",
    "\n",
    "    np.savetxt(savepath + 'Shift'+str(j)+'.csv',list(f02D),delimiter=',',newline='\\r\\n',fmt='%.10e')\n",
    "    np.savetxt(savepath + 'Shift'+str(j)+'phase.csv',list(phase2D),delimiter=',',newline='\\r\\n',fmt='%.10e')\n",
    "    #np.savetxt(savepath + 'Res91S21Pn8p8Sn5p5.csv',list(S2D),delimiter=',',newline='\\r\\n',fmt='%.10e')\n",
    "    for (vp,vs) in zip(reversed(VPlist),reversed(VSlist)):\n",
    "#         sim_p1.setVoltage(vp)\n",
    "#         sim_p2.setVoltage(-0.2+0.29*vp+0.0348*vs)\n",
    "        sim_p2.setVoltage(vp)\n",
    "        sim_s.setVoltage(vs)\n",
    "        time.sleep(0.5)\n",
    "\n",
    "    plotobj.update(f02D, extent)\n",
    "#     plotobj2= myplots_py3.plot1D(ylabel = 'f0 (GHz)', xlabel='Index', title = baseFileName, plotStyle='b-')\n",
    "#     plotobj2.update(list(np.linspace(1,N,N)), f01D)\n",
    "# sim_p1.setVoltage(0)\n",
    "# sim_p2.setVoltage(0)\n",
    "# sim_s.setVoltage(0)\n",
    "pna.pwrOff()\n",
    "\n",
    "\n",
    "\n",
    "# savepath='Z:\\\\PHY-PRL-Labshare\\\\Experiments\\\\Dirty Aluminum\\\\RF_SQUID\\\\0204\\\\scan10\\\\'\n",
    "\n",
    "# VP1list = list(np.linspace(2,-2,N))\n",
    "# VP2list = list(np.linspace(2,-2+0.5,N))\n",
    "# VSlist = list(np.linspace(1,-1,N))\n",
    "# for (vp1,vp2,vs) in zip(VP1list,VP2list,VSlist):\n",
    "#     sim_p1.setVoltage(vp1)\n",
    "#     sim_p2.setVoltage(vp2)\n",
    "#     sim_s.setVoltage(vs)\n",
    "#     time.sleep(0.5)\n",
    "\n",
    "# startVP = startIP*RP\n",
    "# endVP = endIP*RP\n",
    "# startVS = startIS*RS\n",
    "# endVS = endIS*RS\n",
    "\n",
    "# # configure instrument\n",
    "# pna.setupMeas()\n",
    "# pna.setSweepType('linear')\n",
    "# pna.setFreqStartEnd(startFreq, endFreq)\n",
    "# pna.setPwr(power)\n",
    "# pna.avgCount(40)\n",
    "# pna.numPoints(1601)\n",
    "# pna.pwrOn()\n",
    "\n",
    "# for j in range(-40,41,1):\n",
    "#     plaqStep = 0.05  #0.1/8\n",
    "#     sqdStep = 0 #plaqStep*6.05144\n",
    "#     VPlist = list(np.linspace(startVP+plaqStep*j,endVP+plaqStep*(j),N))\n",
    "#     VSlist = list(np.linspace(startVS+sqdStep*j,endVS+sqdStep*j,N))\n",
    "\n",
    "#     f02D = np.array([])\n",
    "#     phase2D = np.array([])\n",
    "#     f01D = np.array([])\n",
    "#     #S1D = np.array([])\n",
    "\n",
    "\n",
    "#     plotobj= myplots_py3.plot2D(xlabel = 'Index', ylabel='Frequency (GHz)')\n",
    "#     i=1\n",
    "#     for (vp,vs) in zip(VPlist,VSlist):\n",
    "#         sim_p1.setVoltage(vp)\n",
    "#         sim_p2.setVoltage(vp+0.5)\n",
    "# #         sim_p2.setVoltage(vp+0.5)\n",
    "#         sim_s.setVoltage(vs)\n",
    "#         time.sleep(0.2)\n",
    "#         pna.avgClear()\n",
    "\n",
    "#         freq, S21 = pna.getData(cplx=True)\n",
    "#         S21_real, S21_imag = np.real(S21), np.imag(S21)\n",
    "#         S21_mag, S21_phase = np.sqrt(S21_real**2 + S21_imag**2), np.angle(S21, deg=True) # phase in degree\n",
    "#         S21_mag_log = 20.0 * np.log10(S21_mag)\n",
    "#         np.savetxt(savepath+'P'+str(vp)+'VS'+str(vs)+'V.txt',list(zip(freq,S21_mag_log,S21_phase)),delimiter='\\t',newline='\\r\\n',fmt='%.10e')\n",
    "#         f0 = freq[list(S21_mag_log).index(min(S21_mag_log))]/1e9\n",
    "#         Smin = min(S21_mag_log)\n",
    "#         if min(S21_mag_log) > 3:\n",
    "#             f0 = np.nan\n",
    "#         f01D = np.append(f01D,f0)\n",
    "#         #S1D = np.append(S1D,Smin)\n",
    "\n",
    "#         if f02D.size == 0: # when S21_mag_2D is empty\n",
    "#             f02D = S21_mag_log\n",
    "#             f02D.shape = (f02D.size, 1)\n",
    "#             phase2D = S21_phase\n",
    "#             phase2D.shape = (phase2D.size, 1)\n",
    "#         else:\n",
    "#             f02D = np.column_stack((f02D, S21_mag_log))\n",
    "#             phase2D = np.column_stack((phase2D, S21_phase))\n",
    "#         extent = [1, i, startFreq, endFreq]\n",
    "#         i=i+1\n",
    "# #         plotobj.update(f02D, extent)\n",
    "\n",
    "#     np.savetxt(savepath + 'Shift'+str(j)+'.csv',list(f02D),delimiter=',',newline='\\r\\n',fmt='%.10e')\n",
    "#     np.savetxt(savepath + 'Shift'+str(j)+'phase.csv',list(phase2D),delimiter=',',newline='\\r\\n',fmt='%.10e')\n",
    "#     #np.savetxt(savepath + 'Res91S21Pn8p8Sn5p5.csv',list(S2D),delimiter=',',newline='\\r\\n',fmt='%.10e')\n",
    "#     for (vp,vs) in zip(reversed(VPlist),reversed(VSlist)):\n",
    "#         sim_p1.setVoltage(vp)\n",
    "#         sim_p2.setVoltage(vp+0.5)\n",
    "# #         sim_p2.setVoltage(0.00425*j-0.55)\n",
    "#         sim_s.setVoltage(vs)\n",
    "#         time.sleep(0.5)\n",
    "\n",
    "#     plotobj.update(f02D, extent)\n",
    "# #     plotobj2= myplots_py3.plot1D(ylabel = 'f0 (GHz)', xlabel='Index', title = baseFileName, plotStyle='b-')\n",
    "# #     plotobj2.update(list(np.linspace(1,N,N)), f01D)\n",
    "# sim_p1.setVoltage(0)\n",
    "# sim_p2.setVoltage(0)\n",
    "# sim_s.setVoltage(0)\n",
    "# pna.pwrOff()\n",
    "\n",
    "\n",
    "# savepath='Z:\\\\PHY-PRL-Labshare\\\\Experiments\\\\Dirty Aluminum\\\\RF_SQUID\\\\0204\\\\scan11\\\\'\n",
    "\n",
    "# VP1list = list(np.linspace(2,-2,N))\n",
    "# VP2list = list(np.linspace(2+0.5,-2+1,N))\n",
    "# VSlist = list(np.linspace(1,-1,N))\n",
    "# for (vp1,vp2,vs) in zip(VP1list,VP2list,VSlist):\n",
    "#     sim_p1.setVoltage(vp1)\n",
    "#     sim_p2.setVoltage(vp2)\n",
    "#     sim_s.setVoltage(vs)\n",
    "#     time.sleep(0.5)\n",
    "\n",
    "# startVP = startIP*RP\n",
    "# endVP = endIP*RP\n",
    "# startVS = startIS*RS\n",
    "# endVS = endIS*RS\n",
    "\n",
    "# # configure instrument\n",
    "# pna.setupMeas()\n",
    "# pna.setSweepType('linear')\n",
    "# pna.setFreqStartEnd(startFreq, endFreq)\n",
    "# pna.setPwr(power)\n",
    "# pna.avgCount(40)\n",
    "# pna.numPoints(1601)\n",
    "# pna.pwrOn()\n",
    "\n",
    "# for j in range(-40,41,1):\n",
    "#     plaqStep = 0.05  #0.1/8\n",
    "#     sqdStep = 0 #plaqStep*6.05144\n",
    "#     VPlist = list(np.linspace(startVP+plaqStep*j,endVP+plaqStep*(j),N))\n",
    "#     VSlist = list(np.linspace(startVS+sqdStep*j,endVS+sqdStep*j,N))\n",
    "\n",
    "#     f02D = np.array([])\n",
    "#     phase2D = np.array([])\n",
    "#     f01D = np.array([])\n",
    "#     #S1D = np.array([])\n",
    "\n",
    "\n",
    "#     plotobj= myplots_py3.plot2D(xlabel = 'Index', ylabel='Frequency (GHz)')\n",
    "#     i=1\n",
    "#     for (vp,vs) in zip(VPlist,VSlist):\n",
    "#         sim_p1.setVoltage(vp)\n",
    "#         sim_p2.setVoltage(vp+1)\n",
    "# #         sim_p2.setVoltage(vp+0.5)\n",
    "#         sim_s.setVoltage(vs)\n",
    "#         time.sleep(0.2)\n",
    "#         pna.avgClear()\n",
    "\n",
    "#         freq, S21 = pna.getData(cplx=True)\n",
    "#         S21_real, S21_imag = np.real(S21), np.imag(S21)\n",
    "#         S21_mag, S21_phase = np.sqrt(S21_real**2 + S21_imag**2), np.angle(S21, deg=True) # phase in degree\n",
    "#         S21_mag_log = 20.0 * np.log10(S21_mag)\n",
    "#         np.savetxt(savepath+'P'+str(vp)+'VS'+str(vs)+'V.txt',list(zip(freq,S21_mag_log,S21_phase)),delimiter='\\t',newline='\\r\\n',fmt='%.10e')\n",
    "#         f0 = freq[list(S21_mag_log).index(min(S21_mag_log))]/1e9\n",
    "#         Smin = min(S21_mag_log)\n",
    "#         if min(S21_mag_log) > 3:\n",
    "#             f0 = np.nan\n",
    "#         f01D = np.append(f01D,f0)\n",
    "#         #S1D = np.append(S1D,Smin)\n",
    "\n",
    "#         if f02D.size == 0: # when S21_mag_2D is empty\n",
    "#             f02D = S21_mag_log\n",
    "#             f02D.shape = (f02D.size, 1)\n",
    "#             phase2D = S21_phase\n",
    "#             phase2D.shape = (phase2D.size, 1)\n",
    "#         else:\n",
    "#             f02D = np.column_stack((f02D, S21_mag_log))\n",
    "#             phase2D = np.column_stack((phase2D, S21_phase))\n",
    "#         extent = [1, i, startFreq, endFreq]\n",
    "#         i=i+1\n",
    "# #         plotobj.update(f02D, extent)\n",
    "\n",
    "#     np.savetxt(savepath + 'Shift'+str(j)+'.csv',list(f02D),delimiter=',',newline='\\r\\n',fmt='%.10e')\n",
    "#     np.savetxt(savepath + 'Shift'+str(j)+'phase.csv',list(phase2D),delimiter=',',newline='\\r\\n',fmt='%.10e')\n",
    "#     #np.savetxt(savepath + 'Res91S21Pn8p8Sn5p5.csv',list(S2D),delimiter=',',newline='\\r\\n',fmt='%.10e')\n",
    "#     for (vp,vs) in zip(reversed(VPlist),reversed(VSlist)):\n",
    "#         sim_p1.setVoltage(vp)\n",
    "#         sim_p2.setVoltage(vp+1)\n",
    "# #         sim_p2.setVoltage(0.00425*j-0.55)\n",
    "#         sim_s.setVoltage(vs)\n",
    "#         time.sleep(0.5)\n",
    "\n",
    "#     plotobj.update(f02D, extent)\n",
    "# #     plotobj2= myplots_py3.plot1D(ylabel = 'f0 (GHz)', xlabel='Index', title = baseFileName, plotStyle='b-')\n",
    "# #     plotobj2.update(list(np.linspace(1,N,N)), f01D)\n",
    "\n",
    "# VP1list = list(np.linspace(2,0,N))\n",
    "# VP2list = list(np.linspace(2+1,0,N))\n",
    "# VSlist = list(np.linspace(1,0,N))\n",
    "# for (vp1,vp2,vs) in zip(VP1list,VP2list,VSlist):\n",
    "#     sim_p1.setVoltage(vp1)\n",
    "#     sim_p2.setVoltage(vp2)\n",
    "#     sim_s.setVoltage(vs)\n",
    "#     time.sleep(0.5)\n",
    "\n",
    "# sim_p1.setVoltage(0)\n",
    "# sim_p2.setVoltage(0)\n",
    "# sim_s.setVoltage(0)\n",
    "# pna.pwrOff()"
   ]
  },
  {
   "cell_type": "code",
   "execution_count": null,
   "metadata": {
    "ExecuteTime": {
     "end_time": "2018-10-17T11:42:23.069418Z",
     "start_time": "2018-10-17T07:00:33.160851Z"
    },
    "collapsed": true
   },
   "outputs": [],
   "source": [
    "startFreq, endFreq = 5.9e9, 7.1e9\n",
    "numPoints, avg = 801, 100\n",
    "power = -70\n",
    "startVoltP, endVoltP, stepVoltP = -0.2, 0.2, .01\n",
    "startVoltS, endVoltS, stepVoltS = -6, 6, 0.15\n",
    "\n",
    "savepath = 'Z:\\\\PHY-PRL-Labshare\\\\Experiments\\\\Dirty Aluminum\\\\RF_SQUID\\\\0913\\\\scan40\\\\'\n",
    "\n",
    "# configure instrument\n",
    "pna.setupMeas()\n",
    "pna.setSweepType('linear')\n",
    "pna.setFreqStartEnd(startFreq, endFreq)\n",
    "pna.setPwr(power)\n",
    "pna.avgCount(avg)\n",
    "pna.numPoints(numPoints)\n",
    "pna.pwrOn()\n",
    "\n",
    "f02Dp = np.array([])\n",
    "f02Dn = np.array([])\n",
    "S2Dp = np.array([])\n",
    "S2Dn = np.array([])\n",
    "plt.figure()\n",
    "for vs in np.linspace(startVoltS,endVoltS,(endVoltS-startVoltS)/stepVoltS+1):\n",
    "    f01Dp = np.array([])\n",
    "    f01Dn = np.array([])\n",
    "    S1Dp = np.array([])\n",
    "    S1Dn = np.array([])\n",
    "    sim_s.setVoltage(vs)\n",
    "    \n",
    "    for vp in np.linspace(startVoltP,endVoltP,(endVoltP-startVoltP)/stepVoltP+1):\n",
    "        sim_p.setVoltage(vp)\n",
    "        time.sleep(0.1)\n",
    "        pna.avgClear()\n",
    "        \n",
    "        freq, S21 = pna.getData(cplx=True)\n",
    "        S21_real, S21_imag = np.real(S21), np.imag(S21)\n",
    "        S21_mag, S21_phase = np.sqrt(S21_real**2 + S21_imag**2), np.angle(S21, deg=True) # phase in degree\n",
    "        S21_mag_log = 20.0 * np.log10(S21_mag)\n",
    "        np.savetxt(savepath+'pP'+str(vp)+'VS'+str(vs)+'V.txt',list(zip(freq,S21_mag_log,S21_phase)),delimiter='\\t',newline='\\r\\n',fmt='%.10e')\n",
    "        Smin = min(S21_mag_log)\n",
    "        if Smin > 5:\n",
    "            f0 = np.nan\n",
    "        else:\n",
    "            f0 = freq[list(S21_mag_log).index(Smin)]/1e9\n",
    "        S1Dp = np.append(S1Dp,Smin)\n",
    "        f01Dp = np.append(f01Dp,f0)\n",
    "        \n",
    "    if f02Dp.size == 0: # when S21_mag_2D is empty\n",
    "        f02Dp = f01Dp\n",
    "        f02Dp.shape = (f02Dp.size, 1)\n",
    "        S2Dp = S1Dp\n",
    "        S2Dp.shape = (S2Dp.size, 1)\n",
    "    else:\n",
    "        f02Dp = np.column_stack((f02Dp, f01Dp))\n",
    "        S2Dp = np.column_stack((S2Dp, S1Dp))\n",
    "        \n",
    "    for vp in np.linspace(endVoltP,startVoltP,(endVoltP-startVoltP)/stepVoltP+1):\n",
    "        sim_p.setVoltage(vp)\n",
    "        time.sleep(0.1)\n",
    "        pna.avgClear()\n",
    "        \n",
    "        freq, S21 = pna.getData(cplx=True)\n",
    "        S21_real, S21_imag = np.real(S21), np.imag(S21)\n",
    "        S21_mag, S21_phase = np.sqrt(S21_real**2 + S21_imag**2), np.angle(S21, deg=True) # phase in degree\n",
    "        S21_mag_log = 20.0 * np.log10(S21_mag)\n",
    "        np.savetxt(savepath+'nP'+str(vp)+'VS'+str(vs)+'V.txt',list(zip(freq,S21_mag_log,S21_phase)),delimiter='\\t',newline='\\r\\n',fmt='%.10e')\n",
    "        Smin = min(S21_mag_log)\n",
    "        if Smin > 5.:\n",
    "            f0 = np.nan\n",
    "        else:\n",
    "            f0 = freq[list(S21_mag_log).index(Smin)]/1e9\n",
    "        S1Dn = np.append(S1Dn,Smin)\n",
    "        f01Dn = np.append(f01Dn,f0)\n",
    "        \n",
    "    if f02Dn.size == 0: # when S21_mag_2D is empty\n",
    "        f02Dn = f01Dn\n",
    "        f02Dn.shape = (f02Dn.size, 1)\n",
    "        S2Dn = S1Dn\n",
    "        S2Dn.shape = (S2Dn.size, 1)\n",
    "    else:\n",
    "        f02Dn = np.column_stack((f02Dn, f01Dn))\n",
    "        S2Dn = np.column_stack((S2Dn, S1Dn))\n",
    "        \n",
    "    t = np.array(np.linspace(startVoltP,endVoltP,(endVoltP-startVoltP)/stepVoltP+1))\n",
    "    t2 = np.array(np.linspace(endVoltP,startVoltP,(endVoltP-startVoltP)/stepVoltP+1))\n",
    "    plt.figure()\n",
    "    plt.title(str(vs))\n",
    "    plt.xlabel('Bobbin Current (V)')\n",
    "    plt.ylabel('f0 (GHz)')\n",
    "    plt.plot(t, f01Dp, 'b-', t2, f01Dn, 'r-')\n",
    "    plt.show()\n",
    "    plt.savefig(savepath+'Slice'+str(vs)+'.png')\n",
    "    \n",
    "pna.pwrOff()\n",
    "sim_p.setVoltage(0)\n",
    "sim_s.setVoltage(0)\n",
    "\n",
    "np.savetxt(savepath + 'Res10pPn20p20Sn16p16.csv',list(f02Dp),delimiter=',',newline='\\r\\n',fmt='%.10e')\n",
    "np.savetxt(savepath + 'Res10nPn20p20Sn16p16.csv',list(f02Dn),delimiter=',',newline='\\r\\n',fmt='%.10e')\n",
    "\n",
    "np.savetxt(savepath + 'Res10pS21Pn20p20Sn16p16.csv',list(S2Dp),delimiter=',',newline='\\r\\n',fmt='%.10e')\n",
    "np.savetxt(savepath + 'Res10nS21Pn20p20Sn16p16.csv',list(S2Dn),delimiter=',',newline='\\r\\n',fmt='%.10e')"
   ]
  },
  {
   "cell_type": "code",
   "execution_count": null,
   "metadata": {
    "ExecuteTime": {
     "end_time": "2018-09-26T14:37:14.825315Z",
     "start_time": "2018-09-26T14:37:14.616435Z"
    },
    "collapsed": true
   },
   "outputs": [],
   "source": [
    "np.savetxt(savepath + 'Res10pPn20p20Sn16p16.csv',list(f02Dp),delimiter=',',newline='\\r\\n',fmt='%.10e')\n",
    "np.savetxt(savepath + 'Res10nPn20p20Sn16p16.csv',list(f02Dn),delimiter=',',newline='\\r\\n',fmt='%.10e')\n",
    "\n",
    "np.savetxt(savepath + 'Res10pS21Pn20p20Sn16p16.csv',list(S2Dp),delimiter=',',newline='\\r\\n',fmt='%.10e')\n",
    "np.savetxt(savepath + 'Res10nS21Pn20p20Sn16p16.csv',list(S2Dn),delimiter=',',newline='\\r\\n',fmt='%.10e')"
   ]
  },
  {
   "cell_type": "code",
   "execution_count": null,
   "metadata": {
    "ExecuteTime": {
     "end_time": "2018-08-21T21:15:39.440023Z",
     "start_time": "2018-08-21T20:09:00.762875Z"
    },
    "collapsed": true
   },
   "outputs": [],
   "source": [
    "startFreq, endFreq = 10.49225e9, 10.5128e9\n",
    "numPoints, avg = 1600, 30\n",
    "power = -48\n",
    "startVoltP, endVoltP, stepVoltP = 0, 14, 0.1\n",
    "startVoltS, endVoltS, stepVoltS = -14, -4, 0.25\n",
    "\n",
    "savepath = 'Z:\\\\PHY-PRL-Labshare\\\\Experiments\\\\Dirty Aluminum\\\\RF_SQUID\\\\0817\\\\scan15\\\\'\n",
    "\n",
    "# configure instrument\n",
    "pna.setupMeas()\n",
    "pna.setSweepType('linear')\n",
    "pna.setFreqStartEnd(startFreq, endFreq)\n",
    "pna.setPwr(power)\n",
    "pna.avgCount(avg)\n",
    "pna.numPoints(numPoints)\n",
    "pna.pwrOn()\n",
    "\n",
    "f02Dp = np.array([])\n",
    "\n",
    "for vs in np.linspace(startVoltS,endVoltS,(endVoltS-startVoltS)/stepVoltS+1):\n",
    "    f01Dp = np.array([])\n",
    "    sim_s.setVoltage(vs)\n",
    "    \n",
    "    for vp in np.linspace(-20,0,21):\n",
    "        sim_p.setVoltage(vp)\n",
    "        time.sleep(0.2)\n",
    "    \n",
    "    for vp in np.linspace(startVoltP,endVoltP,(endVoltP-startVoltP)/stepVoltP+1):\n",
    "        sim_p.setVoltage(vp)\n",
    "        time.sleep(0.1)\n",
    "        pna.avgClear()\n",
    "        \n",
    "        freq, S21 = pna.getData(cplx=True)\n",
    "        S21_real, S21_imag = np.real(S21), np.imag(S21)\n",
    "        S21_mag, S21_phase = np.sqrt(S21_real**2 + S21_imag**2), np.angle(S21, deg=True) # phase in degree\n",
    "        S21_mag_log = 20.0 * np.log10(S21_mag)\n",
    "        np.savetxt(savepath+'pP'+str(vp)+'VS'+str(vs)+'V.txt',list(zip(freq,S21_mag_log,S21_phase)),delimiter='\\t',newline='\\r\\n',fmt='%.10e')\n",
    "        f0 = freq[list(S21_mag_log).index(min(S21_mag_log))]/1e9\n",
    "        Smin = min(S21_mag_log)\n",
    "        f01Dp = np.append(f01Dp,f0)\n",
    "        \n",
    "    if f02Dp.size == 0: # when S21_mag_2D is empty\n",
    "        f02Dp = f01Dp\n",
    "        f02Dp.shape = (f02Dp.size, 1)\n",
    "    else:\n",
    "        f02Dp = np.column_stack((f02Dp, f01Dp))\n",
    "        \n",
    "        \n",
    "    t = np.array(np.linspace(startVoltP,endVoltP,(endVoltP-startVoltP)/stepVoltP+1))\n",
    "    plt.figure()\n",
    "    plt.title(str(vs))\n",
    "    plt.xlabel('Bobbin Current (V)')\n",
    "    plt.ylabel('f0 (GHz)')\n",
    "    plt.plot(t, f01Dp, 'b-')\n",
    "    plt.show()\n",
    "    plt.savefig(savepath+'Slice'+str(vs)+'.png')\n",
    "    \n",
    "pna.pwrOff()\n",
    "sim_p.setVoltage(0)\n",
    "sim_s.setVoltage(0)\n",
    "\n",
    "np.savetxt(savepath + 'Res10pP0p14Sn14n4.csv',list(f02Dp),delimiter=',',newline='\\r\\n',fmt='%.10e')"
   ]
  },
  {
   "cell_type": "code",
   "execution_count": null,
   "metadata": {
    "ExecuteTime": {
     "end_time": "2018-08-21T18:22:51.623730Z",
     "start_time": "2018-08-21T18:22:51.462824Z"
    },
    "collapsed": true
   },
   "outputs": [],
   "source": [
    "np.savetxt(savepath + 'Res10pPn20p20Sn16p16.csv',list(f02Dp),delimiter=',',newline='\\r\\n',fmt='%.10e')\n",
    "np.savetxt(savepath + 'Res10nPn20p20Sn16p16.csv',list(f02Dn),delimiter=',',newline='\\r\\n',fmt='%.10e')"
   ]
  },
  {
   "cell_type": "code",
   "execution_count": null,
   "metadata": {
    "ExecuteTime": {
     "end_time": "2018-08-20T20:02:22.445087Z",
     "start_time": "2018-08-20T20:02:22.243199Z"
    },
    "collapsed": true
   },
   "outputs": [],
   "source": [
    "plotobj2= myplots_py3.plot1D(ylabel = 'f0 (GHz)', xlabel='Index', title = baseFileName, plotStyle='b-')\n",
    "plotobj2.update(list(np.linspace(1,N,N)), f01D)\n",
    "plotobj2.update(list(np.linspace(1,N,N)), f01D+1)"
   ]
  },
  {
   "cell_type": "code",
   "execution_count": null,
   "metadata": {
    "ExecuteTime": {
     "end_time": "2018-08-21T21:16:08.198770Z",
     "start_time": "2018-08-21T21:16:08.180780Z"
    },
    "collapsed": true
   },
   "outputs": [],
   "source": [
    "np.savetxt(savepath + 'Res10pP0p14Sn14n4.csv',list(f02Dp),delimiter=',',newline='\\r\\n',fmt='%.10e')"
   ]
  },
  {
   "cell_type": "code",
   "execution_count": null,
   "metadata": {
    "ExecuteTime": {
     "end_time": "2018-06-23T01:06:59.232746Z",
     "start_time": "2018-06-23T01:06:59.228749Z"
    },
    "collapsed": true
   },
   "outputs": [],
   "source": [
    "a=np.array([])"
   ]
  },
  {
   "cell_type": "code",
   "execution_count": null,
   "metadata": {
    "ExecuteTime": {
     "end_time": "2018-06-23T01:07:10.920178Z",
     "start_time": "2018-06-23T01:07:10.916178Z"
    },
    "collapsed": true
   },
   "outputs": [],
   "source": [
    "a=np.append(a,1)"
   ]
  },
  {
   "cell_type": "code",
   "execution_count": null,
   "metadata": {
    "ExecuteTime": {
     "end_time": "2018-09-28T02:43:02.228011Z",
     "start_time": "2018-09-28T02:43:02.221014Z"
    },
    "collapsed": true
   },
   "outputs": [],
   "source": [
    "len(list(range(10)))"
   ]
  },
  {
   "cell_type": "code",
   "execution_count": null,
   "metadata": {
    "ExecuteTime": {
     "end_time": "2018-09-24T05:58:56.239613Z",
     "start_time": "2018-09-24T05:58:56.231619Z"
    },
    "collapsed": true
   },
   "outputs": [],
   "source": [
    "# pna.pwrOff()\n",
    "sim_p.setVoltage(-1)\n",
    "# sim_s.setVoltage(0)"
   ]
  },
  {
   "cell_type": "code",
   "execution_count": null,
   "metadata": {
    "ExecuteTime": {
     "end_time": "2018-06-14T13:54:39.046176Z",
     "start_time": "2018-06-14T13:54:38.997219Z"
    },
    "collapsed": true
   },
   "outputs": [],
   "source": [
    "np.savetxt('Z:\\\\Presentations\\\\Skypes with Madison\\\\Res91f0s.csv',list(f01D),delimiter=',',newline='\\r\\n',fmt='%.10e')"
   ]
  },
  {
   "cell_type": "code",
   "execution_count": null,
   "metadata": {
    "ExecuteTime": {
     "end_time": "2018-07-27T22:06:43.195595Z",
     "start_time": "2018-07-27T22:06:43.168611Z"
    },
    "collapsed": true
   },
   "outputs": [],
   "source": [
    "lake = LSCI332S.LSCI332S(1)"
   ]
  },
  {
   "cell_type": "code",
   "execution_count": null,
   "metadata": {
    "ExecuteTime": {
     "end_time": "2018-06-23T00:28:22.909639Z",
     "start_time": "2018-06-23T00:28:22.890653Z"
    },
    "collapsed": true
   },
   "outputs": [],
   "source": [
    "float(lake.tempGet('A'))"
   ]
  },
  {
   "cell_type": "code",
   "execution_count": null,
   "metadata": {
    "ExecuteTime": {
     "end_time": "2018-06-23T00:48:13.089817Z",
     "start_time": "2018-06-23T00:48:13.056835Z"
    },
    "collapsed": true
   },
   "outputs": [],
   "source": [
    "f = open('Z:\\\\Experiments\\\\Vortex_measurements\\\\Ibrahim\\\\test.csv','a')\n",
    "np.savetxt(f,str([1.1,2.2,3.1]),delimiter=',',newline='\\r\\n',fmt='%s')\n",
    "f.close()"
   ]
  },
  {
   "cell_type": "code",
   "execution_count": null,
   "metadata": {
    "ExecuteTime": {
     "end_time": "2018-06-23T01:35:21.455060Z",
     "start_time": "2018-06-23T01:35:21.385103Z"
    },
    "collapsed": true
   },
   "outputs": [],
   "source": [
    "sim_v.getVoltage(3)"
   ]
  },
  {
   "cell_type": "code",
   "execution_count": null,
   "metadata": {
    "collapsed": true
   },
   "outputs": [],
   "source": [
    "float('0.1232164\\r\\n\\n'')"
   ]
  },
  {
   "cell_type": "code",
   "execution_count": null,
   "metadata": {
    "collapsed": true
   },
   "outputs": [],
   "source": [
    "sim_s.setVoltage(-.1)"
   ]
  },
  {
   "cell_type": "code",
   "execution_count": null,
   "metadata": {
    "ExecuteTime": {
     "end_time": "2018-06-23T01:18:30.526679Z",
     "start_time": "2018-06-23T01:18:30.522670Z"
    },
    "collapsed": true
   },
   "outputs": [],
   "source": [
    "b = np.polyfit(np.array([0,1]),np.array([0,4]),1)"
   ]
  },
  {
   "cell_type": "code",
   "execution_count": null,
   "metadata": {
    "ExecuteTime": {
     "end_time": "2018-06-23T01:18:56.443444Z",
     "start_time": "2018-06-23T01:18:56.435449Z"
    },
    "collapsed": true
   },
   "outputs": [],
   "source": [
    "b[0]"
   ]
  },
  {
   "cell_type": "code",
   "execution_count": null,
   "metadata": {
    "ExecuteTime": {
     "end_time": "2018-08-16T14:55:46.643178Z",
     "start_time": "2018-08-16T14:55:46.614194Z"
    },
    "collapsed": true
   },
   "outputs": [],
   "source": [
    "lake = LSCI332S.LSCI332S(1)"
   ]
  },
  {
   "cell_type": "code",
   "execution_count": 19,
   "metadata": {
    "ExecuteTime": {
     "end_time": "2018-08-16T14:55:37.124356Z",
     "start_time": "2018-08-16T14:55:37.101371Z"
    },
    "collapsed": true
   },
   "outputs": [],
   "source": [
    "# FAA\n",
    "lake = LSCI332S.LSCI332S(2)"
   ]
  },
  {
   "cell_type": "code",
   "execution_count": 5,
   "metadata": {
    "collapsed": true
   },
   "outputs": [],
   "source": [
    "#Run to get before resistance extract to get temperature from Lock-in\n",
    "\n",
    "def getTemperature(R_volt):\n",
    "    R = R_volt / (0.01 / 10e6)  # R: resistance of thermometer\n",
    "    if R > 3590:\n",
    "        Temp = 377*((1/(R-1500))+8.22e-6)**0.86296\n",
    "    else:\n",
    "        Temp = 4031*((1/(R-997.7))+4.54e-5)**1.15512\n",
    "\n",
    "    return Temp"
   ]
  },
  {
   "cell_type": "code",
   "execution_count": 9,
   "metadata": {
    "ExecuteTime": {
     "end_time": "2018-08-17T15:37:05.855570Z",
     "start_time": "2018-08-16T14:58:15.690751Z"
    }
   },
   "outputs": [
    {
     "ename": "OSError",
     "evalue": "[Errno 22] Invalid argument: 'Z:\\\\User\\\\Vito\\\\Flip_Chip\\\\Sheet Resistance\\\\Sample 16\\\\3KtoRT.csv'",
     "output_type": "error",
     "traceback": [
      "\u001b[0;31m---------------------------------------------------------------------------\u001b[0m",
      "\u001b[0;31mOSError\u001b[0m                                   Traceback (most recent call last)",
      "\u001b[0;32m<ipython-input-9-3ef7429d1907>\u001b[0m in \u001b[0;36m<module>\u001b[0;34m()\u001b[0m\n\u001b[1;32m      2\u001b[0m \u001b[1;33m\u001b[0m\u001b[0m\n\u001b[1;32m      3\u001b[0m \u001b[1;32mwhile\u001b[0m \u001b[1;32mTrue\u001b[0m\u001b[1;33m:\u001b[0m\u001b[1;33m\u001b[0m\u001b[0m\n\u001b[0;32m----> 4\u001b[0;31m     \u001b[0mf50\u001b[0m \u001b[1;33m=\u001b[0m \u001b[0mopen\u001b[0m\u001b[1;33m(\u001b[0m\u001b[1;34mr'Z:\\User\\Vito\\Flip_Chip\\Sheet Resistance\\Sample 16\\3KtoRT.csv'\u001b[0m\u001b[1;33m,\u001b[0m\u001b[1;34m'a'\u001b[0m\u001b[1;33m)\u001b[0m\u001b[1;33m\u001b[0m\u001b[0m\n\u001b[0m\u001b[1;32m      5\u001b[0m \u001b[1;31m#     f200 = open(r'Z:\\PHY-PRL-Labshare\\User\\Yebin\\Project\\Plaquette\\Measurement\\test chip nano wire resistance\\080618NbA\\D5\\\\40sq.csv','a')\u001b[0m\u001b[1;33m\u001b[0m\u001b[1;33m\u001b[0m\u001b[0m\n\u001b[1;32m      6\u001b[0m     \u001b[0mvlist\u001b[0m \u001b[1;33m=\u001b[0m \u001b[0mnp\u001b[0m\u001b[1;33m.\u001b[0m\u001b[0marray\u001b[0m\u001b[1;33m(\u001b[0m\u001b[1;33m[\u001b[0m\u001b[1;33m]\u001b[0m\u001b[1;33m)\u001b[0m\u001b[1;33m\u001b[0m\u001b[0m\n",
      "\u001b[0;31mOSError\u001b[0m: [Errno 22] Invalid argument: 'Z:\\\\User\\\\Vito\\\\Flip_Chip\\\\Sheet Resistance\\\\Sample 16\\\\3KtoRT.csv'"
     ]
    }
   ],
   "source": [
    "#Resistance_extract\n",
    "\n",
    "while True:\n",
    "    f50 = open(r'Z:\\User\\Vito\\Flip_Chip\\Sheet Resistance\\Sample 16\\3KtoRT.csv','a')\n",
    "#     f200 = open(r'Z:\\PHY-PRL-Labshare\\User\\Yebin\\Project\\Plaquette\\Measurement\\test chip nano wire resistance\\080618NbA\\D5\\\\40sq.csv','a')\n",
    "    vlist = np.array([])\n",
    "    for i in np.linspace(-10,10,11):\n",
    "        sim_50.setVoltage(i)\n",
    "        time.sleep(0.5)\n",
    "        vlist = np.append(vlist,sim_v.getVoltage(4))\n",
    "    sim_50.setVoltage(0)\n",
    "    R = np.polyfit(np.array(np.linspace(-10,10,11))/1e6,vlist,1)/100\n",
    "    f50.write(str(float(lake.tempGet('1')))+','+str(R[0])+'\\n') #Grab temp from lakeshore\n",
    "    \n",
    "#     f50.write(str(getTemperature(float(lockin.readValue('r'))))+','+str(R[0])+'\\n') #Lock-in Get temperature\n",
    "#     print(R)\n",
    "     \n",
    "#     vlist = np.array([])\n",
    "#     for i in np.linspace(-0,2,9):\n",
    "#         sim_200.setVoltage(i)\n",
    "#         time.sleep(0.5)\n",
    "#         vlist = np.append(vlist,sim_v.getVoltage(3))\n",
    "#     sim_200.setVoltage(0)\n",
    "#     R = np.polyfit(np.array(np.linspace(-0,2,9))/1e7,vlist,1)\n",
    "# #     print(R)\n",
    "#     f200.write(str(float(lake.tempGet('A')))+','+str(R[0])+'\\n')\n",
    "    f50.close()\n",
    "    if float(lake.tempGet('1')) < 30:\n",
    "        time.sleep(20)\n",
    "    else:\n",
    "        time.sleep(120)\n",
    "#     f200.close()\n",
    "#     time.sleep(30)"
   ]
  },
  {
   "cell_type": "code",
   "execution_count": null,
   "metadata": {
    "ExecuteTime": {
     "end_time": "2018-07-10T04:24:41.630509Z",
     "start_time": "2018-07-10T04:23:44.211068Z"
    },
    "collapsed": true
   },
   "outputs": [],
   "source": [
    "f50 = open('Z:\\\\User\\\\Yebin\\\\Project\\\\Plaquette\\\\Measurement\\\\test chip nano wire resistance\\\\07092018\\\\C2_SuperCon_IVneg3.csv','a')\n",
    "# f200 = open('Z:\\\\User\\\\Yebin\\\\Project\\\\Plaquette\\\\Measurement\\\\test chip nano wire resistance\\\\07092018\\\\C2_SuperCon_IV2.csv','a')\n",
    "vlist = np.array([])\n",
    "for i in np.linspace(-0,-20,101):\n",
    "    sim_200.setVoltage(i)\n",
    "    time.sleep(0.5)\n",
    "    V =sim_v.getVoltage(3)\n",
    "    I = i/1e6\n",
    "    f50.write(str(float(I))+','+str(V)+'\\n')\n",
    "sim_200.setVoltage(0)"
   ]
  },
  {
   "cell_type": "code",
   "execution_count": 3,
   "metadata": {
    "ExecuteTime": {
     "end_time": "2018-07-10T03:44:28.234688Z",
     "start_time": "2018-07-10T03:44:28.228679Z"
    },
    "collapsed": true
   },
   "outputs": [],
   "source": [
    "sim_50.setVoltage(0)"
   ]
  },
  {
   "cell_type": "code",
   "execution_count": 8,
   "metadata": {},
   "outputs": [
    {
     "data": {
      "text/plain": [
       "-0.0012549"
      ]
     },
     "execution_count": 8,
     "metadata": {},
     "output_type": "execute_result"
    }
   ],
   "source": [
    "sim_v.getVoltage(4)"
   ]
  },
  {
   "cell_type": "code",
   "execution_count": null,
   "metadata": {
    "ExecuteTime": {
     "end_time": "2018-07-01T03:14:20.839236Z",
     "start_time": "2018-07-01T03:14:20.833252Z"
    },
    "collapsed": true
   },
   "outputs": [],
   "source": [
    "f50.close()\n",
    "f200.close()"
   ]
  },
  {
   "cell_type": "code",
   "execution_count": null,
   "metadata": {
    "ExecuteTime": {
     "end_time": "2018-08-20T20:51:42.087319Z",
     "start_time": "2018-08-20T20:51:42.082336Z"
    },
    "collapsed": true
   },
   "outputs": [],
   "source": [
    "t = np.arange(0, 1.2, .2)"
   ]
  },
  {
   "cell_type": "code",
   "execution_count": null,
   "metadata": {
    "ExecuteTime": {
     "end_time": "2018-08-20T20:14:55.083590Z",
     "start_time": "2018-08-20T20:14:55.000632Z"
    },
    "collapsed": true
   },
   "outputs": [],
   "source": [
    "t = np.arange(0., 5., 0.2)\n",
    "plt.figure()\n",
    "# red dashes, blue squares and green triangles\n",
    "plt.plot(t, t, 'r--', t, t**2, 'bs', t, t**3-20, 'r^')\n",
    "plt.show()"
   ]
  },
  {
   "cell_type": "code",
   "execution_count": 4,
   "metadata": {
    "ExecuteTime": {
     "end_time": "2018-08-21T18:21:29.348850Z",
     "start_time": "2018-08-21T18:21:29.343861Z"
    }
   },
   "outputs": [
    {
     "data": {
      "text/plain": [
       "['',\n",
       " 'Z:\\\\Experiments\\\\DR1\\\\QGL',\n",
       " 'C:\\\\Anaconda3\\\\python36.zip',\n",
       " 'C:\\\\Anaconda3\\\\DLLs',\n",
       " 'C:\\\\Anaconda3\\\\lib',\n",
       " 'C:\\\\Anaconda3',\n",
       " 'C:\\\\Anaconda3\\\\lib\\\\site-packages',\n",
       " 'C:\\\\Anaconda3\\\\lib\\\\site-packages\\\\Sphinx-1.5.6-py3.6.egg',\n",
       " 'C:\\\\Anaconda3\\\\lib\\\\site-packages\\\\libalazar-0.1.0-py3.6.egg',\n",
       " 'C:\\\\Anaconda3\\\\lib\\\\site-packages\\\\win32',\n",
       " 'C:\\\\Anaconda3\\\\lib\\\\site-packages\\\\win32\\\\lib',\n",
       " 'C:\\\\Anaconda3\\\\lib\\\\site-packages\\\\Pythonwin',\n",
       " 'C:\\\\Anaconda3\\\\lib\\\\site-packages\\\\setuptools-27.2.0-py3.6.egg',\n",
       " 'C:\\\\Anaconda3\\\\lib\\\\site-packages\\\\IPython\\\\extensions',\n",
       " 'C:\\\\Users\\\\LabUser\\\\.ipython']"
      ]
     },
     "execution_count": 4,
     "metadata": {},
     "output_type": "execute_result"
    }
   ],
   "source": [
    "import sys\n",
    "sys.path"
   ]
  },
  {
   "cell_type": "code",
   "execution_count": null,
   "metadata": {
    "ExecuteTime": {
     "end_time": "2018-08-20T21:05:08.990036Z",
     "start_time": "2018-08-20T21:05:08.916090Z"
    },
    "collapsed": true
   },
   "outputs": [],
   "source": [
    "plt.figure()\n",
    "plt.title(str(vs))\n",
    "plt.xlabel('Bobbin Current (mA)')\n",
    "plt.ylabel('f0 (GHz)')\n",
    "plt.plot(t, f01Dp, 'b-', t2, f01Dn, 'r-')\n",
    "plt.show()"
   ]
  },
  {
   "cell_type": "code",
   "execution_count": null,
   "metadata": {
    "ExecuteTime": {
     "end_time": "2018-09-27T20:36:35.793008Z",
     "start_time": "2018-09-27T20:36:35.785998Z"
    },
    "collapsed": true
   },
   "outputs": [],
   "source": [
    "from IPython.core.display import display, HTML\n",
    "display(HTML(\"<style>.container { width:100% !important; }</style>\"))"
   ]
  },
  {
   "cell_type": "code",
   "execution_count": null,
   "metadata": {
    "collapsed": true
   },
   "outputs": [],
   "source": [
    "V =sim_v.getVoltage(3)\n",
    "f50.write(str(V)+'\\n')"
   ]
  },
  {
   "cell_type": "code",
   "execution_count": 4,
   "metadata": {},
   "outputs": [
    {
     "ename": "VisaIOError",
     "evalue": "VI_ERROR_NLISTENERS (-1073807265): No listeners condition is detected (both NRFD and NDAC are deasserted).",
     "output_type": "error",
     "traceback": [
      "\u001b[0;31m---------------------------------------------------------------------------\u001b[0m",
      "\u001b[0;31mVisaIOError\u001b[0m                               Traceback (most recent call last)",
      "\u001b[0;32m<ipython-input-4-50e4bbda7ab6>\u001b[0m in \u001b[0;36m<module>\u001b[0;34m()\u001b[0m\n\u001b[0;32m----> 1\u001b[0;31m \u001b[0mV\u001b[0m \u001b[1;33m=\u001b[0m\u001b[0msim_v\u001b[0m\u001b[1;33m.\u001b[0m\u001b[0mgetVoltage\u001b[0m\u001b[1;33m(\u001b[0m\u001b[1;36m3\u001b[0m\u001b[1;33m)\u001b[0m\u001b[1;33m\u001b[0m\u001b[0m\n\u001b[0m\u001b[1;32m      2\u001b[0m \u001b[0mstr\u001b[0m\u001b[1;33m(\u001b[0m\u001b[0mV\u001b[0m\u001b[1;33m)\u001b[0m\u001b[1;33m\u001b[0m\u001b[0m\n",
      "\u001b[0;32mZ:\\User\\Jaseung\\programs\\pythonCode\\Instrument Driver\\SIM.py\u001b[0m in \u001b[0;36mgetVoltage\u001b[0;34m(self, port)\u001b[0m\n\u001b[1;32m     41\u001b[0m         '''Measure voltage of port on a defined channel.\n\u001b[1;32m     42\u001b[0m         '''\n\u001b[0;32m---> 43\u001b[0;31m         \u001b[0mself\u001b[0m\u001b[1;33m.\u001b[0m\u001b[0minstr\u001b[0m\u001b[1;33m.\u001b[0m\u001b[0mwrite\u001b[0m\u001b[1;33m(\u001b[0m\u001b[1;34m'SNDT {}, \"VOLT? {}\"'\u001b[0m\u001b[1;33m.\u001b[0m\u001b[0mformat\u001b[0m\u001b[1;33m(\u001b[0m\u001b[0mself\u001b[0m\u001b[1;33m.\u001b[0m\u001b[0mchannel\u001b[0m\u001b[1;33m,\u001b[0m \u001b[0mport\u001b[0m\u001b[1;33m)\u001b[0m\u001b[1;33m)\u001b[0m\u001b[1;33m\u001b[0m\u001b[0m\n\u001b[0m\u001b[1;32m     44\u001b[0m         \u001b[0msleep\u001b[0m\u001b[1;33m(\u001b[0m\u001b[1;36m0.05\u001b[0m\u001b[1;33m)\u001b[0m\u001b[1;33m\u001b[0m\u001b[0m\n\u001b[1;32m     45\u001b[0m         \u001b[0mself\u001b[0m\u001b[1;33m.\u001b[0m\u001b[0minstr\u001b[0m\u001b[1;33m.\u001b[0m\u001b[0mwrite\u001b[0m\u001b[1;33m(\u001b[0m\u001b[1;34m'GETN? {}, 12'\u001b[0m\u001b[1;33m.\u001b[0m\u001b[0mformat\u001b[0m\u001b[1;33m(\u001b[0m\u001b[0mself\u001b[0m\u001b[1;33m.\u001b[0m\u001b[0mchannel\u001b[0m\u001b[1;33m)\u001b[0m\u001b[1;33m)\u001b[0m\u001b[1;33m\u001b[0m\u001b[0m\n",
      "\u001b[0;32mC:\\Program Files\\Anaconda3\\lib\\site-packages\\pyvisa\\resources\\messagebased.py\u001b[0m in \u001b[0;36mwrite\u001b[0;34m(self, message, termination, encoding)\u001b[0m\n\u001b[1;32m    205\u001b[0m             \u001b[0mmessage\u001b[0m \u001b[1;33m+=\u001b[0m \u001b[0mterm\u001b[0m\u001b[1;33m\u001b[0m\u001b[0m\n\u001b[1;32m    206\u001b[0m \u001b[1;33m\u001b[0m\u001b[0m\n\u001b[0;32m--> 207\u001b[0;31m         \u001b[0mcount\u001b[0m \u001b[1;33m=\u001b[0m \u001b[0mself\u001b[0m\u001b[1;33m.\u001b[0m\u001b[0mwrite_raw\u001b[0m\u001b[1;33m(\u001b[0m\u001b[0mmessage\u001b[0m\u001b[1;33m.\u001b[0m\u001b[0mencode\u001b[0m\u001b[1;33m(\u001b[0m\u001b[0menco\u001b[0m\u001b[1;33m)\u001b[0m\u001b[1;33m)\u001b[0m\u001b[1;33m\u001b[0m\u001b[0m\n\u001b[0m\u001b[1;32m    208\u001b[0m \u001b[1;33m\u001b[0m\u001b[0m\n\u001b[1;32m    209\u001b[0m         \u001b[1;32mreturn\u001b[0m \u001b[0mcount\u001b[0m\u001b[1;33m\u001b[0m\u001b[0m\n",
      "\u001b[0;32mC:\\Program Files\\Anaconda3\\lib\\site-packages\\pyvisa\\resources\\messagebased.py\u001b[0m in \u001b[0;36mwrite_raw\u001b[0;34m(self, message)\u001b[0m\n\u001b[1;32m    183\u001b[0m         \u001b[1;33m:\u001b[0m\u001b[0mrtype\u001b[0m\u001b[1;33m:\u001b[0m \u001b[0mint\u001b[0m\u001b[1;33m\u001b[0m\u001b[0m\n\u001b[1;32m    184\u001b[0m         \"\"\"\n\u001b[0;32m--> 185\u001b[0;31m         \u001b[1;32mreturn\u001b[0m \u001b[0mself\u001b[0m\u001b[1;33m.\u001b[0m\u001b[0mvisalib\u001b[0m\u001b[1;33m.\u001b[0m\u001b[0mwrite\u001b[0m\u001b[1;33m(\u001b[0m\u001b[0mself\u001b[0m\u001b[1;33m.\u001b[0m\u001b[0msession\u001b[0m\u001b[1;33m,\u001b[0m \u001b[0mmessage\u001b[0m\u001b[1;33m)\u001b[0m\u001b[1;33m\u001b[0m\u001b[0m\n\u001b[0m\u001b[1;32m    186\u001b[0m \u001b[1;33m\u001b[0m\u001b[0m\n\u001b[1;32m    187\u001b[0m     \u001b[1;32mdef\u001b[0m \u001b[0mwrite\u001b[0m\u001b[1;33m(\u001b[0m\u001b[0mself\u001b[0m\u001b[1;33m,\u001b[0m \u001b[0mmessage\u001b[0m\u001b[1;33m,\u001b[0m \u001b[0mtermination\u001b[0m\u001b[1;33m=\u001b[0m\u001b[1;32mNone\u001b[0m\u001b[1;33m,\u001b[0m \u001b[0mencoding\u001b[0m\u001b[1;33m=\u001b[0m\u001b[1;32mNone\u001b[0m\u001b[1;33m)\u001b[0m\u001b[1;33m:\u001b[0m\u001b[1;33m\u001b[0m\u001b[0m\n",
      "\u001b[0;32mC:\\Program Files\\Anaconda3\\lib\\site-packages\\pyvisa\\ctwrapper\\functions.py\u001b[0m in \u001b[0;36mwrite\u001b[0;34m(library, session, data)\u001b[0m\n\u001b[1;32m   1862\u001b[0m     \u001b[0mreturn_count\u001b[0m \u001b[1;33m=\u001b[0m \u001b[0mViUInt32\u001b[0m\u001b[1;33m(\u001b[0m\u001b[1;33m)\u001b[0m\u001b[1;33m\u001b[0m\u001b[0m\n\u001b[1;32m   1863\u001b[0m     \u001b[1;31m# [ViSession, ViBuf, ViUInt32, ViPUInt32]\u001b[0m\u001b[1;33m\u001b[0m\u001b[1;33m\u001b[0m\u001b[0m\n\u001b[0;32m-> 1864\u001b[0;31m     \u001b[0mret\u001b[0m \u001b[1;33m=\u001b[0m \u001b[0mlibrary\u001b[0m\u001b[1;33m.\u001b[0m\u001b[0mviWrite\u001b[0m\u001b[1;33m(\u001b[0m\u001b[0msession\u001b[0m\u001b[1;33m,\u001b[0m \u001b[0mdata\u001b[0m\u001b[1;33m,\u001b[0m \u001b[0mlen\u001b[0m\u001b[1;33m(\u001b[0m\u001b[0mdata\u001b[0m\u001b[1;33m)\u001b[0m\u001b[1;33m,\u001b[0m \u001b[0mbyref\u001b[0m\u001b[1;33m(\u001b[0m\u001b[0mreturn_count\u001b[0m\u001b[1;33m)\u001b[0m\u001b[1;33m)\u001b[0m\u001b[1;33m\u001b[0m\u001b[0m\n\u001b[0m\u001b[1;32m   1865\u001b[0m     \u001b[1;32mreturn\u001b[0m \u001b[0mreturn_count\u001b[0m\u001b[1;33m.\u001b[0m\u001b[0mvalue\u001b[0m\u001b[1;33m,\u001b[0m \u001b[0mret\u001b[0m\u001b[1;33m\u001b[0m\u001b[0m\n\u001b[1;32m   1866\u001b[0m \u001b[1;33m\u001b[0m\u001b[0m\n",
      "\u001b[0;32mC:\\Program Files\\Anaconda3\\lib\\site-packages\\pyvisa\\ctwrapper\\highlevel.py\u001b[0m in \u001b[0;36m_return_handler\u001b[0;34m(self, ret_value, func, arguments)\u001b[0m\n\u001b[1;32m    186\u001b[0m \u001b[1;33m\u001b[0m\u001b[0m\n\u001b[1;32m    187\u001b[0m         \u001b[1;32mif\u001b[0m \u001b[0mret_value\u001b[0m \u001b[1;33m<\u001b[0m \u001b[1;36m0\u001b[0m\u001b[1;33m:\u001b[0m\u001b[1;33m\u001b[0m\u001b[0m\n\u001b[0;32m--> 188\u001b[0;31m             \u001b[1;32mraise\u001b[0m \u001b[0merrors\u001b[0m\u001b[1;33m.\u001b[0m\u001b[0mVisaIOError\u001b[0m\u001b[1;33m(\u001b[0m\u001b[0mret_value\u001b[0m\u001b[1;33m)\u001b[0m\u001b[1;33m\u001b[0m\u001b[0m\n\u001b[0m\u001b[1;32m    189\u001b[0m \u001b[1;33m\u001b[0m\u001b[0m\n\u001b[1;32m    190\u001b[0m         \u001b[1;32mif\u001b[0m \u001b[0mret_value\u001b[0m \u001b[1;32min\u001b[0m \u001b[0mself\u001b[0m\u001b[1;33m.\u001b[0m\u001b[0missue_warning_on\u001b[0m\u001b[1;33m:\u001b[0m\u001b[1;33m\u001b[0m\u001b[0m\n",
      "\u001b[0;31mVisaIOError\u001b[0m: VI_ERROR_NLISTENERS (-1073807265): No listeners condition is detected (both NRFD and NDAC are deasserted)."
     ]
    }
   ],
   "source": [
    "V =sim_v.getVoltage(3)\n",
    "str(V)"
   ]
  },
  {
   "cell_type": "code",
   "execution_count": 7,
   "metadata": {},
   "outputs": [
    {
     "data": {
      "text/plain": [
       "296.4"
      ]
     },
     "execution_count": 7,
     "metadata": {},
     "output_type": "execute_result"
    }
   ],
   "source": [
    "float(lake.tempGet('1'))"
   ]
  },
  {
   "cell_type": "code",
   "execution_count": 7,
   "metadata": {},
   "outputs": [
    {
     "name": "stdout",
     "output_type": "stream",
     "text": [
      "fs=8560000000.0\n",
      "Measurement complete!!!\n"
     ]
    }
   ],
   "source": [
    "################################################################################\n",
    "# set up parameters\n",
    "startFreq, endFreq, stepFreq = 8.5e9, 8.56e9, .01e6\n",
    "avg = 1\n",
    "volt = 0\n",
    "sweepNumber = 1 # 1: one-way, 2: round-trip, 3: one-ways + roundtrip, 4: two roundtrip, ...\n",
    "\n",
    "sampleID = ''\n",
    "suffix = 'HomodyneTest'\n",
    "save_path = r'Z:\\Experiments\\Dirty Aluminum\\RF_SQUID\\112619'\n",
    "\n",
    "\n",
    "\n",
    "##################################################################################\n",
    "\n",
    "# dictionary for parameters to be saved in log file\n",
    "header = 'freq (Hz) mag(dB) phase(degree) real imag'\n",
    "para = dict([('readout Freq (Hz)',0),('readout Power (dBm)', 0),('numPoints',0),\n",
    "             ('IFbandwidth (Hz)', 0),('avg',avg),('Spec freq start (Hz)',startFreq),('Spec freq end (Hz)',endFreq),\n",
    "             ('Spec step Freq (Hz)',stepFreq),('Spec power(dBm)', 0),('volt_glb (V)',0), ('volt_chip (V)',0), \n",
    "             ('header',header)])\n",
    "\n",
    "\n",
    "# file setup\n",
    "if fridgeType=='ADR2':\n",
    "    FAA = float(lsci.tempGet('B')) # get temperature\n",
    "else :\n",
    "    FAA = 0    \n",
    "timeStr = time.strftime(\"%H%M%S\")\n",
    "baseStr = sampleID + '_Spec1D_fr{:.9g}_Pr{:.9g}_fs{:.9g}_{:.9g}_{:.9g}_Ps{:.9g}_V{:.3g}_T{:.3g}_{}_{}' \n",
    "baseFileName = baseStr.format(0/1e9, 0, startFreq/1e9, endFreq/1e9, stepFreq/1e9,\n",
    "                              0, 0, FAA, suffix, timeStr)\n",
    "dataFileName  = os.path.join(save_path, baseFileName + '.dat')\n",
    "logFileName = os.path.join(save_path, baseFileName + '.json')\n",
    "\n",
    "with open(logFileName, 'w') as f_log:\n",
    "    json.dump(para,f_log,indent=4, sort_keys=True)\n",
    "f_data = open(dataFileName, 'a')\n",
    "   \n",
    "# plot setup\n",
    "plotobj= myplots_py3.plot1D_2sub(xlabel1 = 'Spec. Frequency (Hz)', ylabel1='S21 (dB)',\n",
    "                             xlabel2 = 'Spec Frequency (Hz)',ylabel2='Phase (degree)',\n",
    "                             title = baseFileName, plotStyle='b-')\n",
    "\n",
    "# preconfigure instrument\n",
    "\n",
    "spec.pwrOn()\n",
    "\n",
    "#sim_chip.setVoltage(volt_chip)\n",
    "time.sleep(2)\n",
    "\n",
    "# data initialization\n",
    "xdata, ydata1, ydata2 = np.array([]), np.array([]),np.array([])\n",
    "\n",
    "# sweeper obj\n",
    "sweeper = myutils.Sweeper1D(start=startFreq, end=endFreq, step=stepFreq,\n",
    "                            sweepNum=sweepNumber)\n",
    "\n",
    "################ sweep start ################\n",
    "while not sweeper.stop(): \n",
    "    clear_output()\n",
    "    print('fs={}'.format(sweeper.curr_val))\n",
    "    \n",
    "    # configure\n",
    "    ##################################  \n",
    "    spec.setFreq(sweeper.curr_val)\n",
    "    time.sleep(0.1)\n",
    "    \n",
    "    # fetch data from PNA\n",
    "    x = sim_v.getVoltage(3)\n",
    "    y = sim_v.getVoltage(4)\n",
    "    \n",
    "    # S21 conversion\n",
    "    S21_real, S21_imag = x, y\n",
    "    S21_mag, S21_phase = np.sqrt(S21_real**2 + S21_imag**2), np.angle(x + 1j*y, deg=True) # phase in degree\n",
    "    S21_mag_log = 20.0 * np.log10(S21_mag)    # dB\n",
    "    S21_mag_log_avg = np.average(S21_mag_log) \n",
    "    S21_phase_avg = np.average(S21_phase)\n",
    "    \n",
    "    # create spec freq, S21 1D array\n",
    "    xdata = np.append(xdata, sweeper.curr_val)\n",
    "    ydata1 = np.append(ydata1, S21_mag_log_avg)\n",
    "    ydata2 = np.append(ydata2, S21_phase_avg)\n",
    "    \n",
    "    # plot and update\n",
    "    plotobj.update(xdata, ydata1, xdata, ydata2)\n",
    "    \n",
    "    # save data in each iteration\n",
    "    string = '{:.9g}\\t{:.6g}\\t{:.6g} \\n'.format(sweeper.curr_val, S21_mag_log_avg,S21_phase_avg)\n",
    "    f_data.write(string)\n",
    "    \n",
    "    # update sweep\n",
    "    sweeper.update()\n",
    "############## sweep end #########################    \n",
    "\n",
    "# Post measurement    \n",
    "spec.pwrOff()\n",
    "#sim_glb.setVoltage(0)\n",
    "\n",
    "f_data.close()\n",
    "f_log.close()\n",
    "plotobj.fig.savefig(os.path.join(save_path, baseFileName + '.png'))\n",
    "print('Measurement complete!!!')"
   ]
  },
  {
   "cell_type": "code",
   "execution_count": null,
   "metadata": {
    "collapsed": true
   },
   "outputs": [],
   "source": []
  }
 ],
 "metadata": {
  "anaconda-cloud": {},
  "kernelspec": {
   "display_name": "Python 3",
   "language": "python",
   "name": "python3"
  },
  "language_info": {
   "codemirror_mode": {
    "name": "ipython",
    "version": 3
   },
   "file_extension": ".py",
   "mimetype": "text/x-python",
   "name": "python",
   "nbconvert_exporter": "python",
   "pygments_lexer": "ipython3",
   "version": "3.7.3"
  },
  "toc": {
   "base_numbering": 1,
   "nav_menu": {
    "height": "209px",
    "width": "252px"
   },
   "number_sections": false,
   "sideBar": true,
   "skip_h1_title": false,
   "title_cell": "Table of Contents",
   "title_sidebar": "Contents",
   "toc_cell": false,
   "toc_position": {
    "height": "668px",
    "left": "0px",
    "right": "1434px",
    "top": "107px",
    "width": "226px"
   },
   "toc_section_display": "block",
   "toc_window_display": true
  }
 },
 "nbformat": 4,
 "nbformat_minor": 1
}
