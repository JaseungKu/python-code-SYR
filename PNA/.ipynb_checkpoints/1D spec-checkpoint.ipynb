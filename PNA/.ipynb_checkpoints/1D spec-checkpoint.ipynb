{
 "cells": [
  {
   "cell_type": "markdown",
   "metadata": {},
   "source": [
    "# 1D Spectroscopy, S21 vs spec. freq.  at fixed flux"
   ]
  },
  {
   "cell_type": "code",
   "execution_count": 45,
   "metadata": {
    "collapsed": false
   },
   "outputs": [
    {
     "name": "stdout",
     "output_type": "stream",
     "text": [
      "Using matplotlib backend: TkAgg\n",
      "Populating the interactive namespace from numpy and matplotlib\n",
      "Initialized S21 Measurement 'S21Meas'\n",
      "FAA PILL temperature is +00.061\n"
     ]
    }
   ],
   "source": [
    "#set up instrument\n",
    "import visa\n",
    "\n",
    "rm = visa.ResourceManager()\n",
    "rm.list_resources()\n",
    "\n",
    "# set up PNA\n",
    "import sys\n",
    "sys.path.append('\\\\\\\\shared.ad.syr.edu\\\\AS-Filer\\\\PHY-PRL-labshare\\\\Programs\\\\python\\\\Drivers')\n",
    "\n",
    "%pylab\n",
    "from AgilentN5230A import AgilentN5230A\n",
    "\n",
    "pna = AgilentN5230A(16)\n",
    "pna.connect()\n",
    "pna.setupMeas()\n",
    "pna.avgCount(50)\n",
    "pna.bandwidthSet(3)\n",
    "\n",
    "\n",
    "#lakeshore 332 control, get GGG and FAA temperature\n",
    "from LSCI332S import LSCI332S\n",
    "lsci = LSCI332S(2)\n",
    "lsci.connect()\n",
    "b = lsci.tempGet('B')\n",
    "print('FAA PILL temperature is {}'.format(b))"
   ]
  },
  {
   "cell_type": "code",
   "execution_count": 46,
   "metadata": {
    "collapsed": false
   },
   "outputs": [
    {
     "name": "stdout",
     "output_type": "stream",
     "text": [
      "Stanford_Research_Systems,SIM900,s/n072619,ver3.5\n",
      "\n",
      "Hittite,HMC-T2100,000469,1.8 5.6\n",
      "\n"
     ]
    }
   ],
   "source": [
    "# set up SIM928 (voltage source)\n",
    "sim = rm.open_resource('GPIB0::19::INSTR')\n",
    "print(sim.query(\"*IDN?\"))\n",
    "channel = 3 \n",
    "#inst.write('SNDT {}, \"OPON\"'.format(channel))\n",
    "\n",
    "# set up HMC microwave generator\n",
    "hmc = rm.open_resource('GPIB0::18::INSTR')\n",
    "print(hmc.query(\"*IDN?\"))"
   ]
  },
  {
   "cell_type": "code",
   "execution_count": 58,
   "metadata": {
    "collapsed": false
   },
   "outputs": [],
   "source": [
    "sim.write('SNDT {}, \"VOLT {}\"'.format(channel, -8.3))\n",
    "pna.pwrOn()\n",
    "pna.avgClear()\n",
    "pna.pwr(-65)\n",
    "pna.spanf(1)\n",
    "pna.bandwidthSet(10)\n",
    "pna.avgCount(1000)\n",
    "pna.centerF(7.12937)\n",
    "pna.numPoints(25)\n",
    "pna.plot()"
   ]
  },
  {
   "cell_type": "code",
   "execution_count": 70,
   "metadata": {
    "collapsed": false
   },
   "outputs": [
    {
     "name": "stdout",
     "output_type": "stream",
     "text": [
      "Using matplotlib backend: TkAgg\n",
      "Writing CSFQ4_08102016_1DSpec_7.127_0.0_-41_100_16_1_4600000000.0_2900000000.0_-20000000.0_-10_-8.3_+00.889_+00.141_att5.txt to file\n",
      "date fcent span pows point avg bwidth fmin fmax fstep pwr2 volt GGG FAA\n",
      "\\ CSFQ4_08102016_1DSpec\t7.127\t0.001\t-41\t100\t16\t1\t4600000000.0\t2900000000.0\t-20000000.0\t-10\t-8.3\t+00.889\t+00.141\t\n",
      "Writing output.txt to file\n"
     ]
    }
   ],
   "source": [
    "%matplotlib\n",
    "import matplotlib.pyplot as plt\n",
    "import time\n",
    "\n",
    "#instrument control\n",
    "hmc.write('OUTP On')\n",
    "\n",
    "\n",
    "\n",
    "#measurement set up\n",
    "date = \"CSFQ4_08102016_1DSpec\"\n",
    "pna.pwrOn()\n",
    "fcent = 7.12712#readout at this freqency GHz\n",
    "volt = -8.3\n",
    "\n",
    "span = 0.001 #MHz\n",
    "vend = 0                                                                                                                                                                                                                                                                                                                                                                                                                                                                                                                                                                                                                                                                                                                                                                                                                                                                                                                                                                                                                                        \n",
    "pwr1 = -65\n",
    "avg = 16*6\n",
    "bwidth = 0.5 #KHz\n",
    "point = 100\n",
    "surfix=\"att5\"\n",
    "\n",
    "#spec. microwave set up\n",
    "fmin = 4.6e9 #second tone freqency,minimum Hz\n",
    "fmax = 2.9e9\n",
    "fstep = -0.05e9\n",
    "pwr2 = -10\n",
    "\n",
    "# PNA and sim928 configuration\n",
    "pna.avgClear()\n",
    "pna.centerF(fcent)\n",
    "pna.spanf(span)\n",
    "pna.pwr(pwr1)\n",
    "pna.avgCount(avg)\n",
    "pna.numPoints(point)\n",
    "pna.bandwidthSet(bwidth)\n",
    "sim.write('SNDT {}, \"VOLT {}\"'.format(channel, volt))\n",
    "time.sleep(0.5)\n",
    "#hmc configuration\n",
    "hmc.write('power {}dBm'.format(pwr2))\n",
    "\n",
    "# data initialization\n",
    "fdata = []\n",
    "phasedata = []\n",
    "S21data = []\n",
    "\n",
    "# set up plot\n",
    "fig, axes = plt.subplots(nrows=1, figsize=(12,6))\n",
    "#gs = plt.GridSpec(2,1,height_ratios = [1,1])\n",
    "#fig,ax1 = plt.subplot(nrows =1, n, sharex=True, sharey = False)\n",
    "\n",
    "lines_f, = axes.plot(fdata, S21data, 'b-o') \n",
    "#lines_p, = ax2.plot(phasedata, S21data, 'b-') \n",
    "\n",
    "\n",
    "axes.set_xlabel('Spec.Freq.(Hz)') #plt.xlabel('index') works as well\n",
    "#plt.ylabel('S21 (dB)')\n",
    "axes.set_ylabel('S21 (dB)')\n",
    "#ax2.set_xlabel('Spec.Freq.(Hz)') #plt.xlabel('index') works as well\n",
    "#ax2.set_ylabel('Phase')\n",
    "plt.title('1D Spectroscopy')\n",
    "\n",
    "a = arange(fmin, fmax+fstep, fstep)\n",
    "aa = np.concatenate((a,a), axis=0)\n",
    "\n",
    "for fspec in  a: # traverse in [vmin, vmax].\n",
    "    pna.avgClear()\n",
    "    time.sleep(0.001)\n",
    "    hmc.write('freq {}'.format(fspec))    \n",
    "    # fetch data from PNA\n",
    "    freq, S21 = pna.getData(cplx=True) # f: freq, S21: S21 in linear\n",
    "    \n",
    "    # S21 conversion\n",
    "    S21_real = real(S21)\n",
    "    S21_imag = imag(S21)\n",
    "    S21_mag = sqrt (S21_real**2+S21_imag**2)\n",
    "    S21_mag_log =20.0* np.log10(S21_mag)    # dB\n",
    "    S21_phase = np.angle(S21, deg=True)     # degree\n",
    "    #average S21\n",
    "    S21_mag_log_avg = average(S21_mag_log)\n",
    "    S21_phase_avg = average(S21_phase)\n",
    "    \n",
    "    #get temperature\n",
    "    GGG = lsci.tempGet('A')\n",
    "    FAA = lsci.tempGet('B')\n",
    "    GGG_str = str(GGG)\n",
    "    FAA_str = str(FAA)\n",
    "    \n",
    "    # num to str\n",
    "    freq_r = round(fcent,3)\n",
    "    span_r = round(span,1)\n",
    "    freq_str = str(freq_r)\n",
    "    span_str = str (span_r)\n",
    "    fmin = round(fmin,3)\n",
    "    fmax = round(fmax,3)\n",
    "    fstep = round(fstep,3)\n",
    "    pow_str = str(pwr1)\n",
    "    point_str = str(point)\n",
    "    avg_str = str(avg)\n",
    "    fmin_str = str(fmin)\n",
    "    fmax_str = str(fmax)\n",
    "    fstep_str = str(fstep)\n",
    "    volt_str = str(volt)\n",
    "    bwidth_str = str(bwidth)\n",
    "    pwr2_str = str(pwr2)\n",
    "    \n",
    "    #print(\"Mesuring Fspecd  {}: Pow: {} AVG: {} PTS: {} volt: {}\".format(fspec, pwr1, avg, point,volt))\n",
    "    # data\n",
    "    fdata=append(fdata,fspec)\n",
    "    S21data=append(S21data,S21_mag_log_avg)\n",
    "    phasedata = append(phasedata, S21_phase_avg)\n",
    "        \n",
    "    # plot\n",
    "    lines_f.set_xdata(fdata)    \n",
    "    lines_f.set_ydata(S21data)\n",
    "#    lines_p.set_xdata(fdata)\n",
    "#    lines_p.set_ydata(phasedata)\n",
    "    \n",
    "    axes.relim()\n",
    "    axes.autoscale()\n",
    "    plt.draw()\n",
    "#file save\n",
    "\n",
    "name = date+\"_\"+freq_str+\"_\"+span_str+\"_\"+pow_str+\"_\"+point_str+\"_\"+avg_str+\"_\"+bwidth_str+\"_\"+fmin_str+\"_\"+fmax_str+\"_\"+fstep_str+\"_\"+pwr2_str+\"_\"+volt_str+\"_\"+GGG_str+\"_\"+FAA_str+\"_\"+surfix+\".txt\"\n",
    "\n",
    "f = open(name,'w')\n",
    "print(\"Writing {} to file\".format(name))\n",
    "np.savetxt(f, np.transpose([fdata,S21data]),delimiter='\\t')  # saving data only here.\n",
    "f.close()\n",
    "\n",
    "# set voltage to vend\n",
    "sim.write('SNDT {}, \"VOLT {}\"'.format(channel, vend))\n",
    "\n",
    "#save header , freq ,and voltage\n",
    "headername = date+\"_\"+freq_str+\"_\"+span_str+\"_\"+pow_str+\"_\"+point_str+\"_\"+avg_str+\"_\"+bwidth_str+\"_\"+fmin_str+\"_\"+fmax_str+\"_\"+fstep_str+\"_\"+pwr2_str+\"_\"+volt_str+\"_\"+GGG_str+\"_\"+FAA_str+\"_header_\"+\"_\"+surfix+\".txt\"\n",
    "head = [date,fcent,span,pwr1,point,avg,bwidth,fmin,fmax,fstep,pwr2,volt,GGG,FAA]\n",
    "f = open(\"head.txt\",\"w\")\n",
    "i = 0\n",
    "out2='\\ '\n",
    "for h in head:\n",
    "    out2 = out2+str(head[i])+'\\t'\n",
    "    i +=1\n",
    "\n",
    "out1 = \"date fcent span pows point avg bwidth fmin fmax fstep pwr2 volt GGG FAA\\n\"\n",
    "out =out1+ out2\n",
    "print(out)\n",
    "f.write(out)\n",
    "\n",
    "f.close()\n",
    "\n",
    "output = \"output.txt\"\n",
    "print(\"Writing {} to file\".format(output))\n",
    "savetxt(output,np.transpose(freq),delimiter=\",\")\n",
    "\n",
    "filename = [\"head.txt\",output]\n",
    "with open(headername,\"w\") as outfile:\n",
    "    for fname in filename:\n",
    "        with open(fname) as infile:\n",
    "            for line in infile:\n",
    "                outfile.write(line)\n",
    "\n",
    "#instrument control\n",
    "hmc.write('OUTP Off')\n",
    "pna.pwrOff()"
   ]
  },
  {
   "cell_type": "code",
   "execution_count": 29,
   "metadata": {
    "collapsed": false
   },
   "outputs": [],
   "source": []
  },
  {
   "cell_type": "code",
   "execution_count": 7,
   "metadata": {
    "collapsed": false
   },
   "outputs": [
    {
     "ename": "NameError",
     "evalue": "name 'point_str' is not defined",
     "output_type": "error",
     "traceback": [
      "\u001b[1;31m---------------------------------------------------------------------------\u001b[0m",
      "\u001b[1;31mNameError\u001b[0m                                 Traceback (most recent call last)",
      "\u001b[1;32m<ipython-input-7-9561f2be72e9>\u001b[0m in \u001b[0;36m<module>\u001b[1;34m()\u001b[0m\n\u001b[1;32m----> 1\u001b[1;33m \u001b[1;32mprint\u001b[0m\u001b[1;33m(\u001b[0m\u001b[0mpoint_str\u001b[0m\u001b[1;33m)\u001b[0m\u001b[1;33m\u001b[0m\u001b[0m\n\u001b[0m",
      "\u001b[1;31mNameError\u001b[0m: name 'point_str' is not defined"
     ]
    }
   ],
   "source": [
    "print(point_str)"
   ]
  },
  {
   "cell_type": "code",
   "execution_count": 65,
   "metadata": {
    "collapsed": false
   },
   "outputs": [
    {
     "data": {
      "text/plain": [
       "(10L, <StatusCode.success: 0>)"
      ]
     },
     "execution_count": 65,
     "metadata": {},
     "output_type": "execute_result"
    }
   ],
   "source": [
    "#pna.pwrOff()\n",
    "hmc.write('OUTP Off')"
   ]
  },
  {
   "cell_type": "code",
   "execution_count": 67,
   "metadata": {
    "collapsed": false
   },
   "outputs": [
    {
     "data": {
      "text/plain": [
       "(9L, <StatusCode.success: 0>)"
      ]
     },
     "execution_count": 67,
     "metadata": {},
     "output_type": "execute_result"
    }
   ],
   "source": [
    "   hmc.write('OUTP On')"
   ]
  },
  {
   "cell_type": "code",
   "execution_count": 70,
   "metadata": {
    "collapsed": false
   },
   "outputs": [
    {
     "data": {
      "text/plain": [
       "(19L, <StatusCode.success: 0>)"
      ]
     },
     "execution_count": 70,
     "metadata": {},
     "output_type": "execute_result"
    }
   ],
   "source": [
    "    hmc.write('freq {}'.format(4.5e9))    "
   ]
  },
  {
   "cell_type": "code",
   "execution_count": 75,
   "metadata": {
    "collapsed": false
   },
   "outputs": [
    {
     "data": {
      "text/plain": [
       "(13L, <StatusCode.success: 0>)"
      ]
     },
     "execution_count": 75,
     "metadata": {},
     "output_type": "execute_result"
    }
   ],
   "source": [
    "hmc.write('power {}dBm'.format(10))"
   ]
  },
  {
   "cell_type": "code",
   "execution_count": null,
   "metadata": {
    "collapsed": true
   },
   "outputs": [],
   "source": []
  }
 ],
 "metadata": {
  "kernelspec": {
   "display_name": "Python 3",
   "language": "python",
   "name": "python3"
  },
  "language_info": {
   "codemirror_mode": {
    "name": "ipython",
    "version": 3
   },
   "file_extension": ".py",
   "mimetype": "text/x-python",
   "name": "python",
   "nbconvert_exporter": "python",
   "pygments_lexer": "ipython3",
   "version": "3.4.3"
  }
 },
 "nbformat": 4,
 "nbformat_minor": 0
}
