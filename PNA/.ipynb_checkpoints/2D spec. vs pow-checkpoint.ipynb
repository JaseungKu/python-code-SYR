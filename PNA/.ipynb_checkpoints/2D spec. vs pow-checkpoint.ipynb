{
 "cells": [
  {
   "cell_type": "code",
   "execution_count": 12,
   "metadata": {
    "collapsed": false
   },
   "outputs": [
    {
     "name": "stdout",
     "output_type": "stream",
     "text": [
      "Using matplotlib backend: TkAgg\n",
      "Populating the interactive namespace from numpy and matplotlib\n",
      "Initialized S21 Measurement 'S21Meas'\n",
      "FAA PILL temperature is +02.239\n"
     ]
    },
    {
     "name": "stderr",
     "output_type": "stream",
     "text": [
      "WARNING: pylab import has clobbered these variables: ['axes', 'fmax', 'f', 'fmin']\n",
      "`%matplotlib` prevents importing * from pylab and numpy\n"
     ]
    }
   ],
   "source": [
    "#set up instrument\n",
    "import visa\n",
    "\n",
    "rm = visa.ResourceManager()\n",
    "rm.list_resources()\n",
    "\n",
    "# set up PNA\n",
    "import sys\n",
    "sys.path.append('\\\\\\\\shared.ad.syr.edu\\\\AS-Filer\\\\PHY-PRL-labshare\\\\Programs\\\\python\\\\Drivers')\n",
    "\n",
    "%pylab\n",
    "from AgilentN5230A import AgilentN5230A\n",
    "\n",
    "pna = AgilentN5230A(16)\n",
    "pna.connect()\n",
    "pna.setupMeas()\n",
    "pna.avgCount(50)\n",
    "pna.bandwidthSet(3)\n",
    "\n",
    "\n",
    "#lakeshore 332 control, get GGG and FAA temperature\n",
    "from LSCI332S import LSCI332S\n",
    "lsci = LSCI332S(2)\n",
    "lsci.connect()\n",
    "b = lsci.tempGet('B')\n",
    "print('FAA PILL temperature is {}'.format(b))"
   ]
  },
  {
   "cell_type": "code",
   "execution_count": 13,
   "metadata": {
    "collapsed": false
   },
   "outputs": [
    {
     "name": "stdout",
     "output_type": "stream",
     "text": [
      "Stanford_Research_Systems,SIM900,s/n072619,ver3.5\n",
      "\n",
      "Hittite,HMC-T2100,000469,1.8 5.6\n",
      "\n"
     ]
    }
   ],
   "source": [
    "# set up SIM928 (voltage source)\n",
    "sim = rm.open_resource('GPIB0::19::INSTR')\n",
    "print(sim.query(\"*IDN?\"))\n",
    "channel = 3 \n",
    "#inst.write('SNDT {}, \"OPON\"'.format(channel))\n",
    "\n",
    "# set up HMC microwave generator\n",
    "hmc = rm.open_resource('GPIB0::18::INSTR')\n",
    "print(hmc.query(\"*IDN?\"))"
   ]
  },
  {
   "cell_type": "code",
   "execution_count": 1,
   "metadata": {
    "collapsed": false
   },
   "outputs": [
    {
     "name": "stdout",
     "output_type": "stream",
     "text": [
      "Using matplotlib backend: TkAgg\n"
     ]
    },
    {
     "ename": "NameError",
     "evalue": "name 'hmc' is not defined",
     "output_type": "error",
     "traceback": [
      "\u001b[1;31m---------------------------------------------------------------------------\u001b[0m",
      "\u001b[1;31mNameError\u001b[0m                                 Traceback (most recent call last)",
      "\u001b[1;32m<ipython-input-1-8eaf7baf6b6a>\u001b[0m in \u001b[0;36m<module>\u001b[1;34m()\u001b[0m\n\u001b[0;32m      4\u001b[0m \u001b[1;33m\u001b[0m\u001b[0m\n\u001b[0;32m      5\u001b[0m \u001b[1;31m#instrument control\u001b[0m\u001b[1;33m\u001b[0m\u001b[1;33m\u001b[0m\u001b[0m\n\u001b[1;32m----> 6\u001b[1;33m \u001b[0mhmc\u001b[0m\u001b[1;33m.\u001b[0m\u001b[0mwrite\u001b[0m\u001b[1;33m(\u001b[0m\u001b[1;34m'OUTP On'\u001b[0m\u001b[1;33m)\u001b[0m\u001b[1;33m\u001b[0m\u001b[0m\n\u001b[0m\u001b[0;32m      7\u001b[0m \u001b[1;33m\u001b[0m\u001b[0m\n\u001b[0;32m      8\u001b[0m \u001b[1;33m\u001b[0m\u001b[0m\n",
      "\u001b[1;31mNameError\u001b[0m: name 'hmc' is not defined"
     ]
    }
   ],
   "source": [
    "%matplotlib\n",
    "import matplotlib.pyplot as plt\n",
    "import time\n",
    "\n",
    "#instrument control\n",
    "hmc.write('OUTP On')\n",
    "\n",
    "\n",
    "\n",
    "#measurement set up\n",
    "date = \"CSFQ1_07132016_1DSpec\"\n",
    "pna.pwrOn()\n",
    "fcent = 6.98652#readout at this freqency GHz\n",
    "span = 0.001 #MHz\n",
    "volt = -2.2\n",
    "vend = volt                                                                                                                                                                                                                                                                                                                                                                                                                                                                                                                                                                                                                                                                                                                                                                                                                                                                                                                                                                                                                                        \n",
    "pwr1 = -50\n",
    "avg = 8\n",
    "bwidth = 0.5 #KHz\n",
    "point = 10\n",
    "surfix=\"att10\"\n",
    "\n",
    "#spec. microwave set up\n",
    "fmin = 5e9 #second tone freqency,minimum Hz\n",
    "fmax = 5.5e9\n",
    "fstep = 0.1e9\n",
    "pwr2_min = -10\n",
    "pwr2_max = -20\n",
    "pwr2_step = -1\n",
    "\n",
    "\n",
    "\n",
    "# PNA and sim928 configuration\n",
    "pna.avgClear()\n",
    "pna.centerF(fcent)\n",
    "pna.spanf(span)\n",
    "pna.pwr(pwr1)\n",
    "pna.avgCount(avg)\n",
    "pna.numPoints(point)\n",
    "pna.bandwidthSet(bwidth)\n",
    "sim.write('SNDT {}, \"VOLT {}\"'.format(channel, volt))\n",
    "time.sleep(0.5)\n",
    "#hmc configuration\n",
    "\n",
    "\n",
    "# data initialization\n",
    "fdata = []\n",
    "S21data = []\n",
    "\n",
    "# set up plot\n",
    "fig, axes = plt.subplots(nrows=1, figsize=(12,6))\n",
    "\n",
    "\n",
    "\n",
    "plt.xlabel('Spec. Power (dBm)')  #plt.xlabel('index') works as well\n",
    "plt.ylabel('S21 (dB)')\n",
    "plt.title('1D Spectroscopy vs Spec. Power')\n",
    "axes.xaxis.set_ticks_position('bottom')\n",
    "\n",
    "#start temperature\n",
    "FAA_start = lsci.tempGet('B')\n",
    "\n",
    "for pwr2 in arange(pwr2_min, pwr2_max + pwr2_step, pwr2_step):\n",
    "    S21data = []  # 1D S21\n",
    "    for fspec in  arange(fmin, fmax+fstep, fstep): # traverse in [vmin, vmax].\n",
    "        pna.avgClear()\n",
    "        time.sleep(0.001)\n",
    "        hmc.write('power {}dBm'.format(pwr2))\n",
    "        hmc.write('freq {}'.format(fspec))    \n",
    "        # fetch data from PNA\n",
    "        freq, S21 = pna.getData(cplx=True) # f: freq, S21: S21 in linear\n",
    "\n",
    "        # S21 conversion\n",
    "        S21_real = real(S21)\n",
    "        S21_imag = imag(S21)\n",
    "        S21_mag = sqrt (S21_real**2+S21_imag**2)\n",
    "        S21_mag_log =20.0* np.log10(S21_mag)    # dB\n",
    "        S21_phase = np.angle(S21, deg=True)     # degree\n",
    "        #average S21\n",
    "        S21_mag_log_avg = average(S21_mag_log)\n",
    "\n",
    "        #get temperature\n",
    "        GGG = lsci.tempGet('A')\n",
    "        FAA = lsci.tempGet('B')\n",
    "        GGG_str = str(GGG)\n",
    "        FAA_str = str(FAA)\n",
    "\n",
    "        # num to str\n",
    "        freq_r = round(fcent,3)\n",
    "        span_r = round(span,1)\n",
    "        freq_str = str(freq_r)\n",
    "        span_str = str (span_r)\n",
    "        fmin = round(fmin,3)\n",
    "        fmax = round(fmax,3)\n",
    "        fstep = round(fstep,3)\n",
    "        pow_str = str(pwr1)\n",
    "        point_str = str(point)\n",
    "        avg_str = str(avg)\n",
    "        fmin_str = str(fmin)\n",
    "        fmax_str = str(fmax)\n",
    "        fstep_str = str(fstep)\n",
    "        volt_str = str(volt)\n",
    "        bwidth_str = str(bwidth)\n",
    "        pwr2_min_str = str(pwr2_min)\n",
    "        pwr2_max_str = str(pwr2_max)\n",
    "        pwr2_step_str = str(pwr2_step)\n",
    "\n",
    "        \n",
    "        fdata=append(fdata,fspec)\n",
    "        S21data=append(S21data,S21_mag_log_avg)\n",
    "    print(\"Mesuring Fspecd  {}: Pow: {} AVG: {} PTS: {} volt: {}\".format(fspec, pwr1, avg, point,volt))\n",
    "    if pwr2 == pwr2_min:\n",
    "        S21_2D = S21data\n",
    "        axesimage = axes.matshow([S21_2D],extent=[pwr2_min,pwr2_max,fmin,fmax], origin='lower', aspect='auto')\n",
    "    else:\n",
    "        S21_2D = np.column_stack([S21_2D, S21data])\n",
    "    \n",
    "    print(S21_2D)\n",
    "    if pwr2 != pwr2_min:\n",
    "        # plot\n",
    "        axesimage.set_data(S21_2D)\n",
    "        axesimage = axes.matshow(S21_2D,extent=[pwr2_min,pwr2_max,fmin,fmax], origin='lower', aspect='auto')\n",
    "        axes.autoscale()\n",
    "        plt.draw()\n",
    "        \n",
    "\n",
    "    #file save\n",
    "    name = date+\"_\"+freq_str+\"_\"+span_str+\"_\"+pow_str+\"_\"+point_str+\"_\"+avg_str+\"_\"+bwidth_str+\"_\"+fmin_str+\"_\"+fmax_str+\"_\"+fstep_str+\"_\"+pwr2_min_str+\"_\"+pwr2_max_str+\"_\"+pwr2_step_str+\"_\"+volt_str+\"_\"+GGG_str+\"_\"+FAA_str+\"_\"+surfix+\".txt\"\n",
    "\n",
    "    f = open(name,'w')\n",
    "    print(\"Writing {} to file\".format(name))\n",
    "    np.savetxt(f, S21_2D,delimiter='\\t')  # saving data only here.\n",
    "    f.close()\n",
    "\n",
    "#ending FAA temperature\n",
    "FAA_end = lsci.tempGet('B')\n",
    "\n",
    "# set voltage to vend\n",
    "sim.write('SNDT {}, \"VOLT {}\"'.format(channel, vend))\n",
    "\n",
    "#save header , freq ,and voltage\n",
    "headername = date+\"_\"+freq_str+\"_\"+span_str+\"_\"+pow_str+\"_\"+point_str+\"_\"+avg_str+\"_\"+bwidth_str+\"_\"+fmin_str+\"_\"+fmax_str+\"_\"+fstep_str+\"_\"+pwr2_min_str+\"_\"+pwr2_max_str+\"_\"+pwr2_step_str+\"_\"+volt_str+\"_\"+GGG_str+\"_\"+FAA_str+\"_\"+surfix+\"_header\"+\".txt\"\n",
    "head = [date,fcent,span,pwr1,point,avg,bwidth,fmin,fmax,fstep,pwr2_min,pwr2_max,pwr2_step,volt,GGG,FAA_start, FAA_end]\n",
    "f = open(\"head.txt\",\"w\")\n",
    "i = 0\n",
    "out2='\\ '\n",
    "for h in head:\n",
    "    out2 = out2+str(head[i])+'\\t'\n",
    "    i +=1\n",
    "\n",
    "out1 = \"date fcent span pows point avg bwidth fmin fmax fstep pwr2_min pwr2_max pwr2_step volt GGG FAA_start FAA_end\\n\"\n",
    "out =out1+ out2\n",
    "print(out)\n",
    "f.write(out)\n",
    "\n",
    "f.close()\n",
    "\n",
    "output = \"output.txt\"\n",
    "print(\"Writing {} to file\".format(output))\n",
    "savetxt(output,np.transpose(freq),delimiter=\",\")\n",
    "\n",
    "filename = [\"head.txt\",output]\n",
    "with open(headername,\"w\") as outfile:\n",
    "    for fname in filename:\n",
    "        with open(fname) as infile:\n",
    "            for line in infile:\n",
    "                outfile.write(line)\n",
    "\n",
    "#instrument control\n",
    "hmc.write('OUTP Off')\n",
    "pna.pwrOff()"
   ]
  },
  {
   "cell_type": "code",
   "execution_count": null,
   "metadata": {
    "collapsed": true
   },
   "outputs": [],
   "source": []
  },
  {
   "cell_type": "code",
   "execution_count": null,
   "metadata": {
    "collapsed": true
   },
   "outputs": [],
   "source": []
  }
 ],
 "metadata": {
  "kernelspec": {
   "display_name": "Python 3",
   "language": "python",
   "name": "python3"
  },
  "language_info": {
   "codemirror_mode": {
    "name": "ipython",
    "version": 3
   },
   "file_extension": ".py",
   "mimetype": "text/x-python",
   "name": "python",
   "nbconvert_exporter": "python",
   "pygments_lexer": "ipython3",
   "version": "3.4.3"
  }
 },
 "nbformat": 4,
 "nbformat_minor": 0
}
