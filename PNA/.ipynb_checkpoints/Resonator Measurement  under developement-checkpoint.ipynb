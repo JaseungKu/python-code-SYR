{
 "cells": [
  {
   "cell_type": "markdown",
   "metadata": {},
   "source": [
    "# Single resonance curve measurement, 1D\n",
    "Measure the resonance dip and do geometric fit to data to extract quality factors (and others)."
   ]
  },
  {
   "cell_type": "code",
   "execution_count": null,
   "metadata": {
    "collapsed": true
   },
   "outputs": [],
   "source": [
    "%matplotlib\n",
    "\n",
    "# import system modules\n",
    "import sys\n",
    "import os.path\n",
    "import matplotlib.pyplot as plt   \n",
    "from IPython.display import clear_output\n",
    "import numpy as np\n",
    "import json\n",
    "import visa\n",
    "import time\n",
    "\n",
    "# Add path\n",
    "sys.path.append('..\\Instrument Driver') # path added\n",
    "sys.path.append('..\\Helper') # path added\n",
    "\n",
    "# custom modules\n",
    "import myplots_py3, myutils # Jaseung's custom modules\n",
    "import QuarterWaveRes"
   ]
  },
  {
   "cell_type": "code",
   "execution_count": null,
   "metadata": {
    "collapsed": true
   },
   "outputs": [],
   "source": [
    "# instrument drivers\n",
    "import AgilentN5230A\n",
    "import LSCI332S\n",
    "import AgilentMXG\n",
    "\n",
    "# instrument instances. Make device objects.\n",
    "pna = AgilentN5230A.AgilentN5230A(16)\n",
    "lsci = LSCI332S.LSCI332S(2)\n",
    "\n",
    "# fridge type.\n",
    "fridgeType = 'ADR2'   # options: 'ADR2', 'BF', 'DR1'"
   ]
  },
  {
   "cell_type": "code",
   "execution_count": null,
   "metadata": {
    "collapsed": true
   },
   "outputs": [],
   "source": [
    "# set parameters\n",
    "# prepare files: log file, file name, ...\n",
    "# exp initialization\n",
    "# sweep\n",
    "# closing exp\n"
   ]
  },
  {
   "cell_type": "code",
   "execution_count": null,
   "metadata": {
    "collapsed": true
   },
   "outputs": [],
   "source": [
    "#################################################################################\n",
    "# set up parameters\n",
    "startFreq, endFreq = 5.5635e9, 5.565e9\n",
    "power = -85\n",
    "numPoints, IFbandwidth, avg = 201, 100, 5\n",
    "volt = 0 # -0.65 # -2.05  #2.4\n",
    "\n",
    "sampleID ='W10'\n",
    "suffix = 'R1'  # suffix to the file name\n",
    "save_path = r'Z:\\User\\Yebin\\Project\\Resonator Qi test\\Samples\\12062017_W10'\n",
    "#################################################################################\n",
    "\n",
    "# dictionary for parameters to be saved in log file.\n",
    "header = 'freq (Hz) mag(dB) phase(degree) real imag'\n",
    "para = dict([('startFreq (Hz)',startFreq),('endFreq (Hz)', endFreq),('power (dBm)',power)\n",
    "             ,('numPoints',numPoints), ('IFbandwidth (Hz)', IFbandwidth),('avg',avg)\n",
    "             ,('volt',volt), ('header', header)])\n",
    "\n",
    "# file setup\n",
    "if fridgeType=='ADR2':\n",
    "    FAA = float(lsci.tempGet('B')) # get temperature\n",
    "else :\n",
    "    FAA = 0 \n",
    "timeStr = time.strftime(\"%H%M%S\")\n",
    "baseStr = sampleID + '_S21vsF_fr{:.9g}_{:.9g}_Pr{}_V{}_T{:.4g}_{}'\n",
    "baseFileName = baseStr.format(startFreq/1e9, endFreq/1e9, power, volt, FAA, timeStr)\n",
    "dataFileName = os.path.join(save_path, baseFileName + '.dat')                                 \n",
    "logFileName =  os.path.join(save_path, baseFileName + '.json')\n",
    "\n",
    "with open(logFileName, 'w') as f:\n",
    "    json.dump(para,f,indent=4, sort_keys=True)\n",
    "\n",
    "# create an object for fit\n",
    "res_fit = QuarterWaveRes()\n",
    "\n",
    "# plot settup to show measurement data\n",
    "plotobj= QuarterWaveRes.ResPlot()\n",
    "\n",
    "# configure instrument\n",
    "pna.setupMeas()\n",
    "pna.setSweepType('linear')\n",
    "pna.setFreqStartEnd(startFreq, endFreq)\n",
    "pna.setPwr(power)\n",
    "pna.avgCount(avg)\n",
    "pna.numPoints(numPoints)\n",
    "pna.setIF(IFbandwidth)\n",
    "pna.pwrOn()\n",
    "\n",
    "# data initialization\n",
    "data = np.array([])\n",
    "\n",
    "# configure\n",
    "pna.avgClear()\n",
    "        \n",
    "# fetch data from PNA\n",
    "freq, S21 = pna.getData(cplx=True) # S21 in linear scale\n",
    " \n",
    "# S21 conversion\n",
    "S21_real, S21_imag = np.real(S21), np.imag(S21)\n",
    "S21_mag, S21_phase = np.sqrt(S21_real**2 + S21_imag**2), np.angle(S21, deg=True) # phase in degree\n",
    "S21_mag_log = 20.0 * np.log10(S21_mag)    # dB\n",
    "\n",
    "# make 2D array with freq, dB, phase\n",
    "data = freq\n",
    "data.shape = (freq.size, 1)\n",
    "data = np.column_stack((data, S21_mag_log))\n",
    "data = np.column_stack((data, S21_phase))\n",
    "data = np.column_stack((data, S21_real))\n",
    "data = np.column_stack((data, S21_imag))\n",
    "     \n",
    "# plot update\n",
    "plotobj.update(freq, S21_mag_log)\n",
    "\n",
    "# fit date and plot data+fit.\n",
    "res_fit.freq, res_fit.s21 = freq, S21\n",
    "res_fit.geometric_fit()\n",
    "res_fit.plot_fit()\n",
    "\n",
    "# save files\n",
    "f = open(dataFileName, 'wb') \n",
    "np.savetxt(f, data, fmt='%.9g', delimiter='\\t') \n",
    "\n",
    "# Post measurement    \n",
    "pna.pwrOff()\n",
    "f.close()\n",
    "plotobj.fig.savefig(os.path.join(save_path, baseFileName + '.png'))\n",
    "print('Measurement finished!!!')"
   ]
  },
  {
   "cell_type": "markdown",
   "metadata": {},
   "source": [
    "# Resonance curve vs Power, 2D"
   ]
  },
  {
   "cell_type": "code",
   "execution_count": null,
   "metadata": {
    "collapsed": true
   },
   "outputs": [],
   "source": [
    "Plots:\n",
    "    1. s21 data plot: s21, s21(dB), phase, complex \n",
    "    2. S21 vs freq vs Power, 2D\n",
    "    3. Quality factor vs power, 1D\n",
    "    \n",
    "resDataPlotO= QuarterWaveRes.ResPlot()\n",
    "plot2DScan = myplots_py3.plot2D()\n",
    "plotQF = myplot3_py3.plot1D()"
   ]
  }
 ],
 "metadata": {
  "kernelspec": {
   "display_name": "Python 3",
   "language": "python",
   "name": "python3"
  },
  "language_info": {
   "codemirror_mode": {
    "name": "ipython",
    "version": 3
   },
   "file_extension": ".py",
   "mimetype": "text/x-python",
   "name": "python",
   "nbconvert_exporter": "python",
   "pygments_lexer": "ipython3",
   "version": "3.6.1"
  },
  "toc": {
   "nav_menu": {},
   "number_sections": true,
   "sideBar": true,
   "skip_h1_title": false,
   "toc_cell": false,
   "toc_position": {},
   "toc_section_display": "block",
   "toc_window_display": true
  }
 },
 "nbformat": 4,
 "nbformat_minor": 2
}
