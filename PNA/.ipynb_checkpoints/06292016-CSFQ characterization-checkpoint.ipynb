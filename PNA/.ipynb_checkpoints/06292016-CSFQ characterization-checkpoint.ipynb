{
 "cells": [
  {
   "cell_type": "code",
   "execution_count": 43,
   "metadata": {
    "collapsed": false
   },
   "outputs": [],
   "source": [
    "import sys\n",
    "sys.path.append('\\\\\\\\shared.ad.syr.edu\\\\AS-Filer\\\\PHY-PRL-labshare\\\\Programs\\\\python\\\\Drivers')"
   ]
  },
  {
   "cell_type": "code",
   "execution_count": 44,
   "metadata": {
    "collapsed": false
   },
   "outputs": [
    {
     "name": "stdout",
     "output_type": "stream",
     "text": [
      "Populating the interactive namespace from numpy and matplotlib\n"
     ]
    },
    {
     "name": "stderr",
     "output_type": "stream",
     "text": [
      "WARNING: pylab import has clobbered these variables: ['axes', 'f']\n",
      "`%matplotlib` prevents importing * from pylab and numpy\n"
     ]
    }
   ],
   "source": [
    "%pylab inline\n"
   ]
  },
  {
   "cell_type": "code",
   "execution_count": 8,
   "metadata": {
    "collapsed": false
   },
   "outputs": [],
   "source": [
    "from LSCI332S import LSCI332S"
   ]
  },
  {
   "cell_type": "code",
   "execution_count": 28,
   "metadata": {
    "collapsed": false
   },
   "outputs": [
    {
     "name": "stdout",
     "output_type": "stream",
     "text": [
      "+00.412\n"
     ]
    }
   ],
   "source": [
    "#lakeshore 332 control, get GGG and FAA temperature\n",
    "from LSCI332S import LSCI332S\n",
    "lsci = LSCI332S(2)\n",
    "lsci.connect()\n",
    "b = lsci.tempGet('B')\n",
    "print(b)"
   ]
  },
  {
   "cell_type": "code",
   "execution_count": null,
   "metadata": {
    "collapsed": false
   },
   "outputs": [],
   "source": []
  },
  {
   "cell_type": "code",
   "execution_count": 10,
   "metadata": {
    "collapsed": false
   },
   "outputs": [],
   "source": [
    "from AgilentN5230A import AgilentN5230A"
   ]
  },
  {
   "cell_type": "code",
   "execution_count": 11,
   "metadata": {
    "collapsed": false
   },
   "outputs": [
    {
     "name": "stdout",
     "output_type": "stream",
     "text": [
      "Initialized S21 Measurement 'S21Meas'\n"
     ]
    }
   ],
   "source": [
    "pna = AgilentN5230A(16)\n",
    "pna.connect()\n",
    "pna.setupMeas()\n",
    "pna.avgCount(50)\n",
    "pna.bandwidthSet(0.5)"
   ]
  },
  {
   "cell_type": "code",
   "execution_count": 12,
   "metadata": {
    "collapsed": false
   },
   "outputs": [],
   "source": [
    "pna.centerF(8)\n",
    "pna.spanf(5)"
   ]
  },
  {
   "cell_type": "code",
   "execution_count": 13,
   "metadata": {
    "collapsed": false,
    "scrolled": true
   },
   "outputs": [],
   "source": [
    "pna.pwr(-50)"
   ]
  },
  {
   "cell_type": "code",
   "execution_count": 104,
   "metadata": {
    "collapsed": false
   },
   "outputs": [],
   "source": [
    "power = -30\n",
    "x,y = pna.getData(cplx=True)\n",
    "y_real = real(y)\n",
    "y_imag = imag(y)\n",
    "x_mag = sqrt(real(x)**2+imag(x)**2)\n",
    "y_mag = sqrt (y_real**2+y_imag**2)\n",
    "y_phase = np.angle(y,deg=True)\n",
    "savetxt(\"test.csv\",np.transpose([x_mag,y_mag,y_phase,y_real,y_imag]),delimiter=\",\")\n",
    "#pow_string = str(power)\n",
    "#name = 'power'+pow_string"
   ]
  },
  {
   "cell_type": "code",
   "execution_count": 27,
   "metadata": {
    "collapsed": false
   },
   "outputs": [
    {
     "name": "stdout",
     "output_type": "stream",
     "text": [
      "[-0.02047059]\n",
      "-0.02047059\n",
      "[  7.99780612e+09]\n",
      "[  7.99750000e+09   7.99760204e+09   7.99770408e+09   7.99780612e+09\n",
      "   7.99790816e+09   7.99801020e+09   7.99811224e+09   7.99821429e+09\n",
      "   7.99831633e+09   7.99841837e+09   7.99852041e+09   7.99862245e+09\n",
      "   7.99872449e+09   7.99882653e+09   7.99892857e+09   7.99903061e+09\n",
      "   7.99913265e+09   7.99923469e+09   7.99933673e+09   7.99943878e+09\n",
      "   7.99954082e+09   7.99964286e+09   7.99974490e+09   7.99984694e+09\n",
      "   7.99994898e+09   8.00005102e+09   8.00015306e+09   8.00025510e+09\n",
      "   8.00035714e+09   8.00045918e+09   8.00056122e+09   8.00066327e+09\n",
      "   8.00076531e+09   8.00086735e+09   8.00096939e+09   8.00107143e+09\n",
      "   8.00117347e+09   8.00127551e+09   8.00137755e+09   8.00147959e+09\n",
      "   8.00158163e+09   8.00168367e+09   8.00178571e+09   8.00188776e+09\n",
      "   8.00198980e+09   8.00209184e+09   8.00219388e+09   8.00229592e+09\n",
      "   8.00239796e+09   8.00250000e+09]\n",
      "[ 0.00134525  0.0066432   0.00801253 -0.02047059  0.00101165 -0.00686151\n",
      "  0.01923568 -0.00774469  0.02004351 -0.01451929 -0.00421502 -0.0166505\n",
      "  0.0171568   0.02053369 -0.01903111 -0.01116082  0.01564807 -0.00658124\n",
      "  0.0088692  -0.00475511 -0.00040467 -0.00487455 -0.00242828 -0.00887388\n",
      " -0.00711065  0.01091041  0.01478773  0.00919394 -0.00971963  0.00828174\n",
      "  0.01392314  0.01766451 -0.01659633  0.00114151 -0.00767743  0.01393992\n",
      "  0.00856201  0.01355154 -0.00102283 -0.00648308 -0.00067149  0.01424302\n",
      "  0.0046406   0.00978039  0.00435997  0.00681929 -0.01106481 -0.00185642\n",
      " -0.00707061  0.02108227]\n"
     ]
    }
   ],
   "source": [
    "freq, S21 = pna.getData(cplx=True)\n",
    "s21_real = real(S21)\n",
    "m = s21_real.min()\n",
    "i = np.where(s21_real == s21_real.min())[0]\n",
    "print(s21_real[i])\n",
    "print(m)\n",
    "print(freq[i])\n",
    "print(freq)\n",
    "print(s21_real)"
   ]
  },
  {
   "cell_type": "code",
   "execution_count": 42,
   "metadata": {
    "collapsed": false
   },
   "outputs": [
    {
     "ename": "NameError",
     "evalue": "name 'x' is not defined",
     "output_type": "error",
     "traceback": [
      "\u001b[1;31m---------------------------------------------------------------------------\u001b[0m",
      "\u001b[1;31mNameError\u001b[0m                                 Traceback (most recent call last)",
      "\u001b[1;32m<ipython-input-42-442e9f748af9>\u001b[0m in \u001b[0;36m<module>\u001b[1;34m()\u001b[0m\n\u001b[1;32m----> 1\u001b[1;33m \u001b[0mplt\u001b[0m\u001b[1;33m.\u001b[0m\u001b[0mplot\u001b[0m\u001b[1;33m(\u001b[0m\u001b[0mx\u001b[0m\u001b[1;33m,\u001b[0m \u001b[0msqrt\u001b[0m\u001b[1;33m(\u001b[0m\u001b[0mreal\u001b[0m\u001b[1;33m(\u001b[0m\u001b[0my\u001b[0m\u001b[1;33m)\u001b[0m\u001b[1;33m**\u001b[0m\u001b[1;36m2\u001b[0m \u001b[1;33m+\u001b[0m \u001b[0mimag\u001b[0m\u001b[1;33m(\u001b[0m\u001b[0my\u001b[0m\u001b[1;33m)\u001b[0m\u001b[1;33m**\u001b[0m\u001b[1;36m2\u001b[0m\u001b[1;33m)\u001b[0m\u001b[1;33m)\u001b[0m\u001b[1;33m\u001b[0m\u001b[0m\n\u001b[0m",
      "\u001b[1;31mNameError\u001b[0m: name 'x' is not defined"
     ]
    }
   ],
   "source": [
    "plt.plot(x, sqrt(real(y)**2 + imag(y)**2))"
   ]
  },
  {
   "cell_type": "code",
   "execution_count": 5,
   "metadata": {
    "collapsed": false
   },
   "outputs": [
    {
     "name": "stdout",
     "output_type": "stream",
     "text": [
      "Using matplotlib backend: TkAgg\n"
     ]
    }
   ],
   "source": [
    "%matplotlib\n",
    "import matplotlib.pyplot as plt"
   ]
  },
  {
   "cell_type": "markdown",
   "metadata": {},
   "source": [
    " # S21 vs freq vs flux, 2D "
   ]
  },
  {
   "cell_type": "code",
   "execution_count": 46,
   "metadata": {
    "collapsed": false
   },
   "outputs": [
    {
     "name": "stdout",
     "output_type": "stream",
     "text": [
      "Populating the interactive namespace from numpy and matplotlib\n",
      "Initialized S21 Measurement 'S21Meas'\n",
      "FAA PILL temperature is +00.116\n"
     ]
    }
   ],
   "source": [
    "#set up instrument\n",
    "import visa\n",
    "\n",
    "rm = visa.ResourceManager()\n",
    "rm.list_resources()\n",
    "\n",
    "# set up PNA\n",
    "import sys\n",
    "sys.path.append('\\\\\\\\shared.ad.syr.edu\\\\AS-Filer\\\\PHY-PRL-labshare\\\\Programs\\\\python\\\\Drivers')\n",
    "\n",
    "%pylab inline\n",
    "\n",
    "from AgilentN5230A import AgilentN5230A\n",
    "\n",
    "pna = AgilentN5230A(16)\n",
    "pna.connect()\n",
    "pna.setupMeas()\n",
    "pna.avgCount(50)\n",
    "pna.bandwidthSet(3)\n",
    "\n",
    "#lakeshore 332 control, get GGG and FAA temperature\n",
    "from LSCI332S import LSCI332S\n",
    "lsci = LSCI332S(2)\n",
    "lsci.connect()\n",
    "b = lsci.tempGet('B')\n",
    "print('FAA PILL temperature is {}'.format(b))"
   ]
  },
  {
   "cell_type": "code",
   "execution_count": 47,
   "metadata": {
    "collapsed": false,
    "scrolled": true
   },
   "outputs": [
    {
     "name": "stdout",
     "output_type": "stream",
     "text": [
      "Stanford_Research_Systems,SIM900,s/n072619,ver3.5\n",
      "\n",
      "Hittite,HMC-T2100,000469,1.8 5.6\n",
      "\n"
     ]
    }
   ],
   "source": [
    "# set up SIM928 (voltage source)\n",
    "sim = rm.open_resource('GPIB0::19::INSTR')\n",
    "print(sim.query(\"*IDN?\"))\n",
    "channel = 3 \n",
    "#inst.write('SNDT {}, \"OPON\"'.format(channel))\n",
    "\n",
    "# set up HMC microwave generator\n",
    "hmc = rm.open_resource('GPIB0::18::INSTR')\n",
    "print(hmc.query(\"*IDN?\"))"
   ]
  },
  {
   "cell_type": "code",
   "execution_count": 57,
   "metadata": {
    "collapsed": false,
    "scrolled": false
   },
   "outputs": [
    {
     "name": "stdout",
     "output_type": "stream",
     "text": [
      "Using matplotlib backend: TkAgg\n",
      "Writing 8qubits_08102016_S21 vs freq vs flux 2D_7.128_7.131_-65_80_200_1_-9_-7_0.1.txt to file\n",
      "date , freq1_start , freq1_end , pows point , avg , vmin , vmax , vstep , GGG , FAA \n",
      "\\ 8qubits_08102016_S21 vs freq vs flux 2D_\t7.128\t7.131\t-65\t80\t200\t1\t-9\t-7\t0.1\t+00.753\t+00.069\t\n",
      "Writing output.txt to file\n"
     ]
    }
   ],
   "source": [
    "%matplotlib\n",
    "import matplotlib.pyplot as plt\n",
    "\n",
    "date = \"8qubits_08102016_S21 vs freq vs flux 2D_\"\n",
    "\n",
    "#set up parameters\n",
    "freq1_start1 = 7.12772\n",
    "freq1_end1 = 7.13127 #GHz\n",
    "#freq1_start1 = 6.971\n",
    "#freq1_end1 = 7.168 #GHz\n",
    "pwr1 = -65\n",
    "avg = 200\n",
    "bwidth = 1 #KHz\n",
    "point = 80\n",
    "vmin =  -9 # volt\n",
    "vmax = -7\n",
    "vstep = 0.1\n",
    "vend = 0\n",
    "\n",
    "S21_2D =[]\n",
    "\n",
    "#plot setup\n",
    "fig, axes = plt.subplots(nrows=1, figsize=(10,5))\n",
    "\n",
    "\n",
    "plt.xlabel('Volt (V)') \n",
    "plt.ylabel('Freq. (Hz)')\n",
    "plt.title('2D S21 vs freq vs Flux')\n",
    "axes.xaxis.set_ticks_position('bottom')\n",
    "\n",
    "\n",
    "for volt in  arange(vmin, vmax+vstep, vstep): # traverse in [vmin, vmax].\n",
    "#while volt < 2:\n",
    "    sim.write('SNDT {}, \"VOLT {}\"'.format(channel, volt))\n",
    "    # PNA configuration\n",
    "    freq1_start = freq1_start1\n",
    "    freq1_end = freq1_end1\n",
    "    pna.pwrOn()\n",
    "    pna.avgClear()\n",
    "    pna.startF(freq1_start)\n",
    "    pna.stopF(freq1_end)\n",
    "    pna.pwr(pwr1)\n",
    "    pna.avgCount(avg)\n",
    "    pna.numPoints(point)\n",
    "    pna.bandwidthSet(bwidth)\n",
    "    \n",
    "    # fetch data from PNA\n",
    "    freq, S21 = pna.getData(cplx=True) # f: freq, S21: S21 in linear\n",
    "    \n",
    "    # S21 conversion\n",
    "    S21_real = real(S21)\n",
    "    S21_imag = imag(S21)\n",
    "    S21_mag = sqrt (S21_real**2+S21_imag**2)\n",
    "    S21_mag_log =20.0* np.log10(S21_mag)    # dB\n",
    "    S21_phase = np.angle(S21, deg=True)     # degree\n",
    "    \n",
    "    #get temperature\n",
    "    GGG = lsci.tempGet('A')\n",
    "    FAA = lsci.tempGet('B')\n",
    "    GGG_str = str(GGG)\n",
    "    FAA_str = str(FAA)\n",
    "    \n",
    "    # num to str\n",
    "    freq1_start = round(freq1_start,3)\n",
    "    freq1_end = round(freq1_end,3)\n",
    "    freq1_start_str = str(freq1_start)\n",
    "    freq1_end_str = str(freq1_end)\n",
    "    pow_str = str(pwr1)\n",
    "    point_str = str(point)\n",
    "    avg_str = str(avg)\n",
    "    vmin_str = str(vmin)\n",
    "    vmax_str = str(vmax)\n",
    "    vstep_str = str(vstep)\n",
    "    bwidth_str = str(bwidth)\n",
    "\n",
    "    \n",
    "#    print(\"Mesuring Freq Start {}: End {}: Pow: {} AVG: {} PTS: {} volt: {}\".format(freq1_start, freq1_end, pwr1, avg, point,volt))\n",
    "\n",
    "    if volt == vmin:\n",
    "        S21_2D = S21_mag_log\n",
    "        axesimage = axes.matshow([S21_2D],extent=[vmin,volt,freq1_start,freq1_end], origin='lower', aspect='auto')\n",
    "    else:\n",
    "        S21_2D = np.column_stack((S21_2D, S21_mag_log))\n",
    "    \n",
    "    if volt != vmin:\n",
    "#        plot\n",
    "        axesimage.set_data(S21_2D)\n",
    "        axesimage = axes.matshow(S21_2D,extent=[vmin,volt,freq1_start,freq1_end], origin='lower', aspect='auto')\n",
    "\n",
    "        axes.autoscale()\n",
    "        plt.draw()\n",
    "    \n",
    "    name = date+freq1_start_str+\"_\"+freq1_end_str+\"_\"+pow_str+\"_\"+point_str+\"_\"+avg_str+\"_\"+bwidth_str+\"_\"+vmin_str+\"_\"+vmax_str+\"_\"+vstep_str+\".txt\"\n",
    "\n",
    "    f = open(name,'w')\n",
    "\n",
    "    np.savetxt(f, S21_2D,delimiter='\\t')  # saving data only here.\n",
    "    f.close()\n",
    "\n",
    "print(\"Writing {} to file\".format(name))\n",
    "\n",
    "#save header , freq ,and voltage\n",
    "headername = date+freq1_start_str+\"_\"+freq1_end_str+\"_\"+pow_str+\"_\"+point_str+\"_\"+avg_str+\"_\"+bwidth_str+\"_\"+vmin_str+\"_\"+vmax_str+\"_\"+vstep_str+\\\n",
    "\"_\"+GGG_str+\"_\"+FAA_str+\"_header_\"+\".txt\"\n",
    "head = [date,freq1_start,freq1_end,pwr1,point,avg,bwidth,vmin,vmax,vstep,GGG,FAA]\n",
    "f = open(\"head.txt\",\"w\")\n",
    "i = 0\n",
    "out2='\\ '\n",
    "for h in head:\n",
    "    out2 = out2+str(head[i])+'\\t'\n",
    "    i +=1\n",
    "\n",
    "out1 = \"date , freq1_start , freq1_end , pows point , avg , vmin , vmax , vstep , GGG , FAA \\n\"\n",
    "out =out1+ out2\n",
    "print(out)\n",
    "f.write(out)\n",
    "\n",
    "f.close()\n",
    "\n",
    "output = \"output.txt\"\n",
    "print(\"Writing {} to file\".format(output))\n",
    "savetxt(output,np.transpose(freq),delimiter=\",\")\n",
    "\n",
    "filename = [\"head.txt\",output]\n",
    "with open(headername,\"w\") as outfile:\n",
    "    for fname in filename:\n",
    "        with open(fname) as infile: \n",
    "            for line in infile:\n",
    "                outfile.write(line)\n",
    "\n",
    "#set off machine\n",
    "# set voltage to vend\n",
    "sim.write('SNDT {}, \"VOLT {}\"'.format(channel, vend))\n",
    "pna.pwrOff()"
   ]
  },
  {
   "cell_type": "code",
   "execution_count": 37,
   "metadata": {
    "collapsed": false
   },
   "outputs": [
    {
     "data": {
      "text/plain": [
       "(18L, <StatusCode.success: 0>)"
      ]
     },
     "execution_count": 37,
     "metadata": {},
     "output_type": "execute_result"
    }
   ],
   "source": [
    "sim.write('SNDT {}, \"VOLT {}\"'.format(channel, 0))"
   ]
  },
  {
   "cell_type": "code",
   "execution_count": 15,
   "metadata": {
    "collapsed": false,
    "scrolled": true
   },
   "outputs": [
    {
     "name": "stdout",
     "output_type": "stream",
     "text": [
      "Using matplotlib backend: TkAgg\n"
     ]
    }
   ],
   "source": [
    "# plot 2D\n",
    "%matplotlib\n",
    "\n",
    "import numpy as np\n",
    "import matplotlib.pyplot as plt\n",
    "\n",
    "filename = \"8qubits_071252016_S21 vs freq vs flux 2D_6.948_7.189_-50_800_2_5_-5_5_0.4.txt\"\n",
    "S21_2D =np.genfromtxt(filename, unpack=True)\n",
    "fig, ax2 = plt.subplots(nrows=1, figsize=(10,5))\n",
    "\n",
    "im = np.transpose(S21_2D)\n",
    "ax2.matshow(im, extent=[-5,5,6.948,7.189], aspect='auto',origin='lower' )\n",
    "ax2.set_title('S21 vs freq vs flux')\n",
    "ax2.xaxis.set_ticks_position('bottom')\n",
    "\n",
    "\n",
    "plt.tight_layout()\n",
    "plt.show()"
   ]
  },
  {
   "cell_type": "markdown",
   "metadata": {},
   "source": [
    "\n",
    "# S21 vs power vs freq."
   ]
  },
  {
   "cell_type": "code",
   "execution_count": 79,
   "metadata": {
    "collapsed": false
   },
   "outputs": [
    {
     "name": "stdout",
     "output_type": "stream",
     "text": [
      "Populating the interactive namespace from numpy and matplotlib\n",
      "Initialized S21 Measurement 'S21Meas'\n",
      "FAA PILL temperature is +00.120\n"
     ]
    }
   ],
   "source": [
    "#set up instrument\n",
    "import visa\n",
    "\n",
    "rm = visa.ResourceManager()\n",
    "rm.list_resources()\n",
    "\n",
    "# set up PNA\n",
    "import sys\n",
    "sys.path.append('\\\\\\\\shared.ad.syr.edu\\\\AS-Filer\\\\PHY-PRL-labshare\\\\Programs\\\\python\\\\Drivers')\n",
    "\n",
    "%pylab inline\n",
    "\n",
    "from AgilentN5230A import AgilentN5230A\n",
    "\n",
    "pna = AgilentN5230A(16)\n",
    "pna.connect()\n",
    "pna.setupMeas()\n",
    "pna.avgCount(50)\n",
    "pna.bandwidthSet(3)\n",
    "\n",
    "#lakeshore 332 control, get GGG and FAA temperature\n",
    "from LSCI332S import LSCI332S\n",
    "lsci = LSCI332S(2)\n",
    "lsci.connect()\n",
    "b = lsci.tempGet('B')\n",
    "print('FAA PILL temperature is {}'.format(b))"
   ]
  },
  {
   "cell_type": "code",
   "execution_count": 80,
   "metadata": {
    "collapsed": false
   },
   "outputs": [
    {
     "name": "stdout",
     "output_type": "stream",
     "text": [
      "Stanford_Research_Systems,SIM900,s/n072619,ver3.5\n",
      "\n"
     ]
    }
   ],
   "source": [
    "# set up SIM928 (voltage source)\n",
    "sim = rm.open_resource('GPIB0::19::INSTR')\n",
    "print(sim.query(\"*IDN?\"))\n",
    "channel = 3 \n",
    "#inst.write('SNDT {}, \"OPON\"'.format(channel))\n",
    "\n",
    "# set up HMC microwave generator\n",
    "#hmc = rm.open_resource('GPIB0::18::INSTR')\n",
    "#print(hmc.query(\"*IDN?\"))"
   ]
  },
  {
   "cell_type": "code",
   "execution_count": 85,
   "metadata": {
    "collapsed": false
   },
   "outputs": [
    {
     "name": "stdout",
     "output_type": "stream",
     "text": [
      "Writing 08102016_CSFQ4_S21vsPOWERvsFREQ_7.126_7.131_-36_100_12_0.6_-44_-36_1_-8.3_+00.870_+00.125.txt to file\n",
      "date freq1_start freq1_end pows point avg bandwidth powermin powermax powerstep GGG FAA\n",
      "\\ 08102016_CSFQ4_S21vsPOWERvsFREQ_\t7.126\t7.131\t-36\t100\t12\t0.6\t-44\t-36\t1\t-8.3\t+00.870\t+00.125\t\n",
      "Writing output.txt to file\n"
     ]
    },
    {
     "data": {
      "text/plain": [
       "(21L, <StatusCode.success: 0>)"
      ]
     },
     "execution_count": 85,
     "metadata": {},
     "output_type": "execute_result"
    }
   ],
   "source": [
    "freq1 = 7  #readout frequency in GHZ\n",
    "\n",
    "pwr1 = -60 #readout powwer\n",
    "pwr2 = -12 #2nd tone power\n",
    "\n",
    "#set up readout parameter\n",
    "date = \"08102016_CSFQ4_S21vsPOWERvsFREQ_\"\n",
    "pna.pwrOn()\n",
    "freq1_start1= 7.12552\n",
    "freq1_end1 = 7.13065 #GHz\n",
    "avg = 12\n",
    "bwidth =  0.6 #KHz\n",
    "point = 100\n",
    "#vmin =  -3  # volt\n",
    "#vmax = 2\n",
    "#vstep = 1\n",
    "\n",
    "\n",
    "pmin = -44\n",
    "pmax = -36\n",
    "pstep = 1\n",
    "volt = -8.3\n",
    "vend = volt\n",
    "sim.write('SNDT {}, \"VOLT {}\"'.format(channel, volt))\n",
    "\n",
    "S21_2D =[]\n",
    "\n",
    "for pwr1 in  arange(pmin, pmax+pstep, pstep): # traverse in [pmin, pmax].\n",
    "#while volt < 2:\n",
    "    \n",
    "    freq1_start = freq1_start1\n",
    "    freq1_end = freq1_end1\n",
    "    # PNA configuration\n",
    "    pna.avgClear()\n",
    "    pna.startF(freq1_start)\n",
    "    pna.stopF(freq1_end)\n",
    "    pna.pwr(pwr1)\n",
    "    pna.avgCount(avg)\n",
    "    pna.numPoints(point)\n",
    "    pna.bandwidthSet(bwidth)\n",
    "    \n",
    "    # fetch data from PNA\n",
    "    freq, S21 = pna.getData(cplx=True) # f: freq, S21: S21 in linear\n",
    "    \n",
    "    # S21 conversion\n",
    "    S21_real = real(S21)\n",
    "    S21_imag = imag(S21)\n",
    "    S21_mag = sqrt (S21_real**2+S21_imag**2)\n",
    "    S21_mag_log =20.0* np.log10(S21_mag)    # dB\n",
    "    S21_phase = np.angle(S21, deg=True)     # degree\n",
    "    \n",
    "    #get temperature\n",
    "    GGG = lsci.tempGet('A')\n",
    "    FAA = lsci.tempGet('B')\n",
    "    GGG_str = str(GGG)\n",
    "    FAA_str = str(FAA)\n",
    "    \n",
    "    # num to str\n",
    "    freq1_start = round(freq1_start,3)\n",
    "    freq1_end = round(freq1_end,3)\n",
    "    freq1_start_str = str(freq1_start)\n",
    "    freq1_end_str = str(freq1_end)\n",
    "    pow_str = str(pwr1)\n",
    "    point_str = str(point)\n",
    "    avg_str = str(avg)\n",
    "    pmin_str = str(pmin)\n",
    "    pmax_str = str(pmax)\n",
    "    pstep_str = str(pstep)\n",
    "    volt_str = str(volt)\n",
    "    bwidth_str = str(bwidth)\n",
    "    \n",
    "#    print(\"Mesuring Freq Start {}: End {}: Pow: {} AVG: {} PTS: {} volt: {}\".format(freq1_start, freq1_end, pwr1, avg, point,volt))\n",
    "\n",
    "    if pwr1 == pmin:\n",
    "        S21_2D = S21_mag_log\n",
    "    else:\n",
    "        S21_2D = np.column_stack([S21_2D, S21_mag_log])\n",
    "\n",
    "        \n",
    "#file save\n",
    "name = date+freq1_start_str+\"_\"+freq1_end_str+\"_\"+pow_str+\"_\"+point_str+\"_\"+avg_str+\"_\"+bwidth_str+\"_\"+pmin_str+\"_\"+pmax_str+\"_\"+pstep_str+\"_\"+volt_str+\"_\"+GGG_str+\"_\"+FAA_str+\".txt\"\n",
    "\n",
    "f = open(name,'w')\n",
    "print(\"Writing {} to file\".format(name))\n",
    "np.savetxt(f, S21_2D,delimiter='\\t')  # saving data only here.\n",
    "f.close()\n",
    "\n",
    "# set voltage to vend\n",
    "sim.write('SNDT {}, \"VOLT {}\"'.format(channel, vend))\n",
    "\n",
    "#save header , freq ,and voltage\n",
    "headername = date+freq1_start_str+\"_\"+freq1_end_str+\"_\"+pow_str+\"_\"+point_str+\"_\"+avg_str+\"_\"+bwidth_str+\"_\"+pmin_str+\"_\"+pmax_str+\"_\"+pstep_str+\"_\"+volt_str+GGG_str+\"_\"+FAA_str+\"_header_\"+\".txt\"\n",
    "head = [date,freq1_start,freq1_end,pwr1,point,avg,bwidth,pmin,pmax,pstep,volt,GGG,FAA]\n",
    "f = open(\"head.txt\",\"w\")\n",
    "i = 0\n",
    "out2='\\ '\n",
    "for h in head:\n",
    "    out2 = out2+str(head[i])+'\\t'\n",
    "    i +=1\n",
    "\n",
    "out1 = \"date freq1_start freq1_end pows point avg bandwidth powermin powermax powerstep GGG FAA\\n\"\n",
    "out =out1+ out2\n",
    "print(out)\n",
    "f.write(out)\n",
    "\n",
    "f.close()\n",
    "\n",
    "output = \"output.txt\"\n",
    "print(\"Writing {} to file\".format(output))\n",
    "savetxt(output,np.transpose(freq),delimiter=\",\")\n",
    "\n",
    "filename = [\"head.txt\",output]\n",
    "with open(headername,\"w\") as outfile:\n",
    "    for fname in filename:\n",
    "        with open(fname) as infile:\n",
    "            for line in infile:\n",
    "                outfile.write(line)\n",
    "                \n",
    "pna.pwrOff()\n",
    "sim.write('SNDT {}, \"VOLT {}\"'.format(channel, vend))"
   ]
  },
  {
   "cell_type": "code",
   "execution_count": 33,
   "metadata": {
    "collapsed": false
   },
   "outputs": [
    {
     "data": {
      "image/png": "[encoded data removed]",
      "text/plain": [
       "<matplotlib.figure.Figure at 0x17c24d68>"
      ]
     },
     "metadata": {},
     "output_type": "display_data"
    }
   ],
   "source": [
    "sim.write('SNDT {}, \"VOLT {}\"'.format(channel, 1.4))\n",
    "pna.pwrOn()\n",
    "pna.pwr(-20)\n",
    "fcent = 7.059\n",
    "span = 11\n",
    "pna.centerF(fcent)\n",
    "pna.spanf(span)\n",
    "pna.plot()"
   ]
  },
  {
   "cell_type": "code",
   "execution_count": 86,
   "metadata": {
    "collapsed": false
   },
   "outputs": [
    {
     "name": "stdout",
     "output_type": "stream",
     "text": [
      "Using matplotlib backend: TkAgg\n",
      "Populating the interactive namespace from numpy and matplotlib\n"
     ]
    },
    {
     "name": "stderr",
     "output_type": "stream",
     "text": [
      "WARNING: pylab import has clobbered these variables: ['f']\n",
      "`%matplotlib` prevents importing * from pylab and numpy\n"
     ]
    },
    {
     "name": "stdout",
     "output_type": "stream",
     "text": [
      "7.131\n"
     ]
    }
   ],
   "source": [
    "# plot 2D\n",
    "%pylab \n",
    "import numpy as np\n",
    "import matplotlib.pyplot as plt\n",
    "\n",
    "filename = name\n",
    "S21_2D =genfromtxt(filename, unpack=True)\n",
    "fig, ax2 = plt.subplots(nrows=1, figsize=(10,5))\n",
    "\n",
    "ax2.matshow((S21_2D),cmap='Blues', extent=[freq1_start*1e9,freq1_end*1e9,pmin,pmax], aspect='auto', origin='lower' )\n",
    "ax2.set_title('S21 vs freq ')\n",
    "ax2.xaxis.set_ticks_position('bottom')\n",
    "\n",
    "plt.tight_layout()\n",
    "plt.show()\n",
    "print(freq1_end)"
   ]
  },
  {
   "cell_type": "code",
   "execution_count": 61,
   "metadata": {
    "collapsed": false
   },
   "outputs": [
    {
     "data": {
      "image/png": "[encoded data removed]",
      "text/plain": [
       "<matplotlib.figure.Figure at 0x163d6f60>"
      ]
     },
     "metadata": {},
     "output_type": "display_data"
    },
    {
     "name": "stdout",
     "output_type": "stream",
     "text": [
      "7.131\n"
     ]
    }
   ],
   "source": [
    "# plot 2D\n",
    "\n",
    "import numpy as np\n",
    "import matplotlib.pyplot as plt\n",
    "\n",
    "filename = \"07112016_8qubits_S21vsPOWERvsFREQ_6.971_7.168_-20_800_2_1_-75_-20_5_0_+00.698_+00.048.txt\"\n",
    "S21_2D =genfromtxt(filename, unpack=True)\n",
    "fig, ax2 = plt.subplots(nrows=1, figsize=(10,5))\n",
    "\n",
    "ax2.matshow((S21_2D),cmap='Blues', extent=[freq1_start*1e9,freq1_end*1e9,pmin,pmax], aspect='auto', origin='lower' )\n",
    "ax2.set_title('S21 vs freq vs flux')\n",
    "ax2.xaxis.set_ticks_position('bottom')\n",
    "\n",
    "plt.tight_layout()\n",
    "plt.show()\n",
    "print(freq1_end)"
   ]
  },
  {
   "cell_type": "code",
   "execution_count": 24,
   "metadata": {
    "collapsed": false
   },
   "outputs": [
    {
     "name": "stdout",
     "output_type": "stream",
     "text": [
      "[[-7.86312797 -8.0081391  -7.74844089 ..., -9.08856555 -9.02053346\n",
      "  -8.73781715]\n",
      " [-8.05489363 -7.36345412 -8.37459196 ..., -8.86393751 -8.6522804\n",
      "  -8.9288729 ]\n",
      " [-7.68151111 -7.94371149 -7.71980189 ..., -8.702166   -9.24684908\n",
      "  -9.31697729]\n",
      " ..., \n",
      " [-8.08258926 -7.36809724 -7.42428336 ..., -8.5708744  -9.20443968\n",
      "  -8.96875083]\n",
      " [-8.37001631 -7.8590011  -7.93064857 ..., -8.64858326 -9.15886659\n",
      "  -8.69867646]\n",
      " [-8.09258292 -8.19699511 -7.52738477 ..., -8.69782587 -8.64241198\n",
      "  -8.91746103]]\n"
     ]
    }
   ],
   "source": [
    "S21_2D =genfromtxt(\"CSFQ06302016_S21 vs freq vs flux 2D_6.968_6.998_-55_100_20_-5_5_0.1.txt\", unpack=True)\n",
    "print(data)"
   ]
  },
  {
   "cell_type": "markdown",
   "metadata": {
    "collapsed": false
   },
   "source": [
    "# 1D Spectroscopy, S21 vs spec. freq.  at fixed flux"
   ]
  },
  {
   "cell_type": "code",
   "execution_count": 77,
   "metadata": {
    "collapsed": false
   },
   "outputs": [
    {
     "name": "stdout",
     "output_type": "stream",
     "text": [
      "Stanford_Research_Systems,SIM900,s/n072619,ver3.5\n",
      "\n",
      "Hittite,HMC-T2100,000469,1.8 5.6\n",
      "\n"
     ]
    }
   ],
   "source": [
    "# set up SIM928 (voltage source)\n",
    "sim = rm.open_resource('GPIB0::19::INSTR')\n",
    "print(sim.query(\"*IDN?\"))\n",
    "channel = 3 \n",
    "#inst.write('SNDT {}, \"OPON\"'.format(channel))\n",
    "\n",
    "# set up HMC microwave generator\n",
    "hmc = rm.open_resource('GPIB0::18::INSTR')\n",
    "print(hmc.query(\"*IDN?\"))"
   ]
  },
  {
   "cell_type": "code",
   "execution_count": 93,
   "metadata": {
    "collapsed": false,
    "scrolled": false
   },
   "outputs": [
    {
     "name": "stdout",
     "output_type": "stream",
     "text": [
      "Writing CSFQ06302016_1DSpec6.968_6.998_-50_10_20_7100000000.0_9000000000.0_10000000.0_1.4.txt to file\n",
      "date freq1_start freq1_end pows point avg vmin vmax vstep \n",
      "\\ CSFQ06302016_1DSpec\t6.968\t6.998\t-50\t10\t20\t7100000000.0\t9000000000.0\t10000000.0\t1.4\t\n",
      "Writing output.txt to file\n"
     ]
    },
    {
     "data": {
      "text/plain": [
       "(10L, <StatusCode.success: 0>)"
      ]
     },
     "execution_count": 93,
     "metadata": {},
     "output_type": "execute_result"
    },
    {
     "data": {
      "image/png": "[encoded data removed]",
      "text/plain": [
       "<matplotlib.figure.Figure at 0xe010470>"
      ]
     },
     "metadata": {},
     "output_type": "display_data"
    }
   ],
   "source": []
  },
  {
   "cell_type": "code",
   "execution_count": 74,
   "metadata": {
    "collapsed": false
   },
   "outputs": [
    {
     "data": {
      "text/plain": [
       "(array([  6.99442500e+09,   6.99442611e+09,   6.99442722e+09,\n",
       "          6.99442833e+09,   6.99442944e+09,   6.99443056e+09,\n",
       "          6.99443167e+09,   6.99443278e+09,   6.99443389e+09,\n",
       "          6.99443500e+09]),\n",
       " array([ 0.08381142-0.3594021j,  0.08535104-0.3536051j,\n",
       "         0.09136269-0.3547488j,  0.08449501-0.3466834j,\n",
       "         0.08282991-0.3472805j,  0.08655339-0.3502726j,\n",
       "         0.08933729-0.3529034j,  0.07471273-0.3516392j,\n",
       "         0.08702822-0.3600754j,  0.07824273-0.3467208j]))"
      ]
     },
     "execution_count": 74,
     "metadata": {},
     "output_type": "execute_result"
    }
   ],
   "source": [
    "pna.getData(cplx=True)"
   ]
  },
  {
   "cell_type": "markdown",
   "metadata": {},
   "source": [
    "# 2D Spectroscopy, S21 vs spec. freq. vs flux"
   ]
  },
  {
   "cell_type": "code",
   "execution_count": 15,
   "metadata": {
    "collapsed": false
   },
   "outputs": [],
   "source": [
    "pna.pwrOff()"
   ]
  },
  {
   "cell_type": "code",
   "execution_count": 97,
   "metadata": {
    "collapsed": false
   },
   "outputs": [
    {
     "data": {
      "image/png": "[encoded data removed]",
      "text/plain": [
       "<matplotlib.figure.Figure at 0x10994a58>"
      ]
     },
     "metadata": {},
     "output_type": "display_data"
    }
   ],
   "source": [
    "pna.plot()"
   ]
  },
  {
   "cell_type": "code",
   "execution_count": 9,
   "metadata": {
    "collapsed": false
   },
   "outputs": [
    {
     "name": "stdout",
     "output_type": "stream",
     "text": [
      "+00.838\n"
     ]
    }
   ],
   "source": [
    "    #get temperature\n",
    "    GGG = lsci.tempGet('A')\n",
    "    FAA = lsci.tempGet('B')\n",
    "    GGG_str = str(GGG)\n",
    "    FAA_str = str(FAA)\n",
    "    print(GGG)\n",
    "    "
   ]
  },
  {
   "cell_type": "code",
   "execution_count": null,
   "metadata": {
    "collapsed": true
   },
   "outputs": [],
   "source": [
    "'''\n",
    "    #if volt change too much current has delay,\n",
    "    #time.sleep is to wait current to stable\n",
    "    if volt == vmin or vstep>0.5:\n",
    "        import time\n",
    "        time.sleep(0.5)\n",
    "'''"
   ]
  }
 ],
 "metadata": {
  "kernelspec": {
   "display_name": "Python 3",
   "language": "python",
   "name": "python3"
  },
  "language_info": {
   "codemirror_mode": {
    "name": "ipython",
    "version": 3
   },
   "file_extension": ".py",
   "mimetype": "text/x-python",
   "name": "python",
   "nbconvert_exporter": "python",
   "pygments_lexer": "ipython3",
   "version": "3.4.3"
  }
 },
 "nbformat": 4,
 "nbformat_minor": 0
}
