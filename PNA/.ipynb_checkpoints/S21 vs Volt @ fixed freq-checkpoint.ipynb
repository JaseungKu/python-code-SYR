{
 "cells": [
  {
   "cell_type": "markdown",
   "metadata": {},
   "source": [
    "# S21 in CW mode vs Volt"
   ]
  },
  {
   "cell_type": "code",
   "execution_count": 9,
   "metadata": {
    "collapsed": false
   },
   "outputs": [
    {
     "name": "stdout",
     "output_type": "stream",
     "text": [
      "Using matplotlib backend: TkAgg\n"
     ]
    }
   ],
   "source": [
    "%matplotlib\n",
    "import matplotlib.pyplot as plt\n",
    "import os.path\n",
    "import numpy as np\n",
    "import visa\n",
    "import myplots, myutils # custom modules\n",
    "import SIM              # instrument drivers\n",
    "import AgilentN5230A\n",
    "import AgilentMXG\n",
    "import LSCI332S\n",
    "import HittiteHMC"
   ]
  },
  {
   "cell_type": "code",
   "execution_count": 10,
   "metadata": {
    "collapsed": false
   },
   "outputs": [],
   "source": [
    "# instrument \n",
    "pna = AgilentN5230A.AgilentN5230A(16)\n",
    "#spec = HittiteHMC.HittiteHMC(18)\n",
    "spec = AgilentMXG.AgilentMXG(30)\n",
    "sim = SIM.SIM(19 , channel=3)\n",
    "lsci = LSCI332S.LSCI332S(2)"
   ]
  },
  {
   "cell_type": "code",
   "execution_count": 27,
   "metadata": {
    "collapsed": false
   },
   "outputs": [
    {
     "data": {
      "text/plain": [
       "<module 'myplots' from 'myplots.pyc'>"
      ]
     },
     "execution_count": 27,
     "metadata": {},
     "output_type": "execute_result"
    }
   ],
   "source": [
    "reload(AgilentN5230A)\n",
    "reload(myplots)"
   ]
  },
  {
   "cell_type": "code",
   "execution_count": 11,
   "metadata": {
    "collapsed": false
   },
   "outputs": [
    {
     "name": "stdout",
     "output_type": "stream",
     "text": [
      "('base file name: ', 'S21vsV_1D_fr6.10826_Pr-50_V-5_5_0.1_T0.09')\n",
      "Initialized S21 Measurement 'S21Meas'\n",
      "False\n"
     ]
    }
   ],
   "source": [
    "# set up parameters\n",
    "readoutFreq = 6.10826e9\n",
    "readoutPwr = -50\n",
    "numPoints, IFbandwidth, avg = 50, 1000, 1\n",
    "startVolt, endVolt, stepVolt = -5, 5, 0.1\n",
    "endV = 0\n",
    "\n",
    "para = dict([('readout Freq',readoutFreq),('readout Power', readoutPwr),('numPoints',numPoints),\n",
    "             ('IFbandwidth', IFbandwidth),('avg',avg),('start volt',startVolt),('end volt', endVolt),\n",
    "             ('step volt',stepVolt)])\n",
    "\n",
    "# get temperature\n",
    "FAA = float(lsci.tempGet('B')) # unicode to num\n",
    "\n",
    "# file setup\n",
    "save_path = 'Z:\\\\User\\\\Jaseung\\\\Projects\\\\SFQ\\\\E5'\n",
    "baseStr = 'S21vsV_1D_fr{:.9g}_Pr{:.9g}_V{:.9g}_{:.9g}_{:.9g}_T{:.3g}'\n",
    "baseFileName = baseStr.format(readoutFreq/1e9, readoutPwr, startVolt, endVolt, stepVolt, FAA)\n",
    "dataFileName  = os.path.join(save_path, baseFileName + '.dat')\n",
    "logFileName = os.path.join(save_path, baseFileName + '.log')\n",
    "print('base file name: ', baseFileName)\n",
    "\n",
    "f_data = open(dataFileName, 'a')\n",
    "   \n",
    "with open(logFileName, 'w') as f_log:\n",
    "    for k, v in para.items():  # write log file.\n",
    "        f_log.write('# {} : {} \\n'.format(k,v))\n",
    "\n",
    "# plot setup\n",
    "plotobj= myplots.plot1D_2sub(xlabel1 = '', ylabel1='S21 (dB)', \n",
    "                             xlabel2 = 'Volt (V)', ylabel2='Phase(degree)',\n",
    "                             title = 'S21 vs Volt')\n",
    "\n",
    "# preconfigure instrument\n",
    "pna.setupMeas()\n",
    "pna.setSweepType('CW')\n",
    "pna.setCWFreq(readoutFreq)\n",
    "pna.setPwr(readoutPwr)\n",
    "pna.avgCount(avg)\n",
    "pna.numPoints(numPoints)\n",
    "pna.setIF(IFbandwidth)\n",
    "pna.pwrOn()\n",
    "\n",
    "spec.pwrOff()\n",
    "sim.setVoltage(startVolt)\n",
    "\n",
    "# data initialization\n",
    "xdata, ydata1, ydata2 = np.array([]), np.array([]),np.array([])\n",
    "\n",
    "# sweeper obj\n",
    "sweeper = myutils.Sweeper1D(start=startVolt, end=endVolt, \n",
    "                            step=stepVolt, sweepNum=1)\n",
    "\n",
    "################ sweep start ################\n",
    "#for specFreq in arange(startFreq, endFreq + stepFreq, stepFreq): # traverse in [pmin, pmax].\n",
    "print(sweeper.stop())\n",
    "while not sweeper.stop(): \n",
    "    # configure\n",
    "    sim.setVoltage(sweeper.curr_val)\n",
    "    pna.avgClear()\n",
    "    \n",
    "    # fetch data from PNA\n",
    "    freq, S21= pna.getData(cplx=True) # S21 in linear scale\n",
    "    \n",
    "    # S21 conversion\n",
    "    S21_real, S21_imag = np.real(S21), np.imag(S21)\n",
    "    S21_mag, S21_phase = np.sqrt(S21_real**2 + S21_imag**2), np.angle(S21, deg=True) # phase in degree\n",
    "    S21_mag_log = 20.0 * np.log10(S21_mag)    # dB\n",
    "    S21_mag_log_avg = np.average(S21_mag_log) \n",
    "    S21_phase_avg = np.average(S21_phase)\n",
    "    # create spec freq, S21 1D array\n",
    "    xdata = np.append(xdata, sweeper.curr_val)\n",
    "    ydata1 = np.append(ydata1, S21_mag_log_avg)\n",
    "    ydata2 = np.append(ydata2, S21_phase_avg)\n",
    "    \n",
    "    # plot and update\n",
    "    plotobj.update(xdata, ydata1, xdata, ydata2)\n",
    "    \n",
    "    # save data in each iteration\n",
    "    string = '{:.9g}\\t{:.3g}\\t{:.3g} \\n'.format(sweeper.curr_val, S21_mag_log_avg,S21_phase_avg)\n",
    "    f_data.write(string)\n",
    "    \n",
    "    # update sweep\n",
    "    sweeper.update()\n",
    "############## sweep end #########################    \n",
    "\n",
    "# Post measurement    \n",
    "pna.pwrOff()\n",
    "pna.setSweepType(mode='linear')\n",
    "sim.setVoltage(endV)\n",
    "f_data.close()\n",
    "f_log.close()\n"
   ]
  },
  {
   "cell_type": "code",
   "execution_count": 6,
   "metadata": {
    "collapsed": true
   },
   "outputs": [],
   "source": [
    "FAA = lsci.tempGet('B')"
   ]
  },
  {
   "cell_type": "code",
   "execution_count": 7,
   "metadata": {
    "collapsed": false
   },
   "outputs": [
    {
     "data": {
      "text/plain": [
       "u'+00.097'"
      ]
     },
     "execution_count": 7,
     "metadata": {},
     "output_type": "execute_result"
    }
   ],
   "source": [
    "FAA"
   ]
  },
  {
   "cell_type": "code",
   "execution_count": 8,
   "metadata": {
    "collapsed": false
   },
   "outputs": [
    {
     "data": {
      "text/plain": [
       "0.097"
      ]
     },
     "execution_count": 8,
     "metadata": {},
     "output_type": "execute_result"
    }
   ],
   "source": [
    "float(FAA)"
   ]
  },
  {
   "cell_type": "code",
   "execution_count": null,
   "metadata": {
    "collapsed": true
   },
   "outputs": [],
   "source": []
  }
 ],
 "metadata": {
  "kernelspec": {
   "display_name": "Python 2",
   "language": "python",
   "name": "python2"
  },
  "language_info": {
   "codemirror_mode": {
    "name": "ipython",
    "version": 2
   },
   "file_extension": ".py",
   "mimetype": "text/x-python",
   "name": "python",
   "nbconvert_exporter": "python",
   "pygments_lexer": "ipython2",
   "version": "2.7.12"
  }
 },
 "nbformat": 4,
 "nbformat_minor": 0
}
