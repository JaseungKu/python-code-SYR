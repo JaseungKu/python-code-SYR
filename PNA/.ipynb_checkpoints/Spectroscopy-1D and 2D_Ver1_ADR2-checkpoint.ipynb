{
 "cells": [
  {
   "cell_type": "markdown",
   "metadata": {},
   "source": [
    "# 1D spectroscopy"
   ]
  },
  {
   "cell_type": "code",
   "execution_count": 1,
   "metadata": {
    "collapsed": false
   },
   "outputs": [],
   "source": [
    "%gui qt"
   ]
  },
  {
   "cell_type": "code",
   "execution_count": 2,
   "metadata": {
    "collapsed": false
   },
   "outputs": [
    {
     "ename": "RuntimeError",
     "evalue": "Cannot activate multiple GUI eventloops",
     "output_type": "error",
     "traceback": [
      "\u001b[1;31m---------------------------------------------------------------------------\u001b[0m",
      "\u001b[1;31mRuntimeError\u001b[0m                              Traceback (most recent call last)",
      "\u001b[1;32m<ipython-input-2-f64cd8484500>\u001b[0m in \u001b[0;36m<module>\u001b[1;34m()\u001b[0m\n\u001b[1;32m----> 1\u001b[1;33m \u001b[0mget_ipython\u001b[0m\u001b[1;33m(\u001b[0m\u001b[1;33m)\u001b[0m\u001b[1;33m.\u001b[0m\u001b[0mmagic\u001b[0m\u001b[1;33m(\u001b[0m\u001b[1;34mu'matplotlib'\u001b[0m\u001b[1;33m)\u001b[0m\u001b[1;33m\u001b[0m\u001b[0m\n\u001b[0m",
      "\u001b[1;32mC:\\Anaconda\\lib\\site-packages\\IPython\\core\\interactiveshell.pyc\u001b[0m in \u001b[0;36mmagic\u001b[1;34m(self, arg_s)\u001b[0m\n\u001b[0;32m   2161\u001b[0m         \u001b[0mmagic_name\u001b[0m\u001b[1;33m,\u001b[0m \u001b[0m_\u001b[0m\u001b[1;33m,\u001b[0m \u001b[0mmagic_arg_s\u001b[0m \u001b[1;33m=\u001b[0m \u001b[0marg_s\u001b[0m\u001b[1;33m.\u001b[0m\u001b[0mpartition\u001b[0m\u001b[1;33m(\u001b[0m\u001b[1;34m' '\u001b[0m\u001b[1;33m)\u001b[0m\u001b[1;33m\u001b[0m\u001b[0m\n\u001b[0;32m   2162\u001b[0m         \u001b[0mmagic_name\u001b[0m \u001b[1;33m=\u001b[0m \u001b[0mmagic_name\u001b[0m\u001b[1;33m.\u001b[0m\u001b[0mlstrip\u001b[0m\u001b[1;33m(\u001b[0m\u001b[0mprefilter\u001b[0m\u001b[1;33m.\u001b[0m\u001b[0mESC_MAGIC\u001b[0m\u001b[1;33m)\u001b[0m\u001b[1;33m\u001b[0m\u001b[0m\n\u001b[1;32m-> 2163\u001b[1;33m         \u001b[1;32mreturn\u001b[0m \u001b[0mself\u001b[0m\u001b[1;33m.\u001b[0m\u001b[0mrun_line_magic\u001b[0m\u001b[1;33m(\u001b[0m\u001b[0mmagic_name\u001b[0m\u001b[1;33m,\u001b[0m \u001b[0mmagic_arg_s\u001b[0m\u001b[1;33m)\u001b[0m\u001b[1;33m\u001b[0m\u001b[0m\n\u001b[0m\u001b[0;32m   2164\u001b[0m \u001b[1;33m\u001b[0m\u001b[0m\n\u001b[0;32m   2165\u001b[0m     \u001b[1;31m#-------------------------------------------------------------------------\u001b[0m\u001b[1;33m\u001b[0m\u001b[1;33m\u001b[0m\u001b[0m\n",
      "\u001b[1;32mC:\\Anaconda\\lib\\site-packages\\IPython\\core\\interactiveshell.pyc\u001b[0m in \u001b[0;36mrun_line_magic\u001b[1;34m(self, magic_name, line)\u001b[0m\n\u001b[0;32m   2082\u001b[0m                 \u001b[0mkwargs\u001b[0m\u001b[1;33m[\u001b[0m\u001b[1;34m'local_ns'\u001b[0m\u001b[1;33m]\u001b[0m \u001b[1;33m=\u001b[0m \u001b[0msys\u001b[0m\u001b[1;33m.\u001b[0m\u001b[0m_getframe\u001b[0m\u001b[1;33m(\u001b[0m\u001b[0mstack_depth\u001b[0m\u001b[1;33m)\u001b[0m\u001b[1;33m.\u001b[0m\u001b[0mf_locals\u001b[0m\u001b[1;33m\u001b[0m\u001b[0m\n\u001b[0;32m   2083\u001b[0m             \u001b[1;32mwith\u001b[0m \u001b[0mself\u001b[0m\u001b[1;33m.\u001b[0m\u001b[0mbuiltin_trap\u001b[0m\u001b[1;33m:\u001b[0m\u001b[1;33m\u001b[0m\u001b[0m\n\u001b[1;32m-> 2084\u001b[1;33m                 \u001b[0mresult\u001b[0m \u001b[1;33m=\u001b[0m \u001b[0mfn\u001b[0m\u001b[1;33m(\u001b[0m\u001b[1;33m*\u001b[0m\u001b[0margs\u001b[0m\u001b[1;33m,\u001b[0m\u001b[1;33m**\u001b[0m\u001b[0mkwargs\u001b[0m\u001b[1;33m)\u001b[0m\u001b[1;33m\u001b[0m\u001b[0m\n\u001b[0m\u001b[0;32m   2085\u001b[0m             \u001b[1;32mreturn\u001b[0m \u001b[0mresult\u001b[0m\u001b[1;33m\u001b[0m\u001b[0m\n\u001b[0;32m   2086\u001b[0m \u001b[1;33m\u001b[0m\u001b[0m\n",
      "\u001b[1;32m<decorator-gen-107>\u001b[0m in \u001b[0;36mmatplotlib\u001b[1;34m(self, line)\u001b[0m\n",
      "\u001b[1;32mC:\\Anaconda\\lib\\site-packages\\IPython\\core\\magic.pyc\u001b[0m in \u001b[0;36m<lambda>\u001b[1;34m(f, *a, **k)\u001b[0m\n\u001b[0;32m    191\u001b[0m     \u001b[1;31m# but it's overkill for just that one bit of state.\u001b[0m\u001b[1;33m\u001b[0m\u001b[1;33m\u001b[0m\u001b[0m\n\u001b[0;32m    192\u001b[0m     \u001b[1;32mdef\u001b[0m \u001b[0mmagic_deco\u001b[0m\u001b[1;33m(\u001b[0m\u001b[0marg\u001b[0m\u001b[1;33m)\u001b[0m\u001b[1;33m:\u001b[0m\u001b[1;33m\u001b[0m\u001b[0m\n\u001b[1;32m--> 193\u001b[1;33m         \u001b[0mcall\u001b[0m \u001b[1;33m=\u001b[0m \u001b[1;32mlambda\u001b[0m \u001b[0mf\u001b[0m\u001b[1;33m,\u001b[0m \u001b[1;33m*\u001b[0m\u001b[0ma\u001b[0m\u001b[1;33m,\u001b[0m \u001b[1;33m**\u001b[0m\u001b[0mk\u001b[0m\u001b[1;33m:\u001b[0m \u001b[0mf\u001b[0m\u001b[1;33m(\u001b[0m\u001b[1;33m*\u001b[0m\u001b[0ma\u001b[0m\u001b[1;33m,\u001b[0m \u001b[1;33m**\u001b[0m\u001b[0mk\u001b[0m\u001b[1;33m)\u001b[0m\u001b[1;33m\u001b[0m\u001b[0m\n\u001b[0m\u001b[0;32m    194\u001b[0m \u001b[1;33m\u001b[0m\u001b[0m\n\u001b[0;32m    195\u001b[0m         \u001b[1;32mif\u001b[0m \u001b[0mcallable\u001b[0m\u001b[1;33m(\u001b[0m\u001b[0marg\u001b[0m\u001b[1;33m)\u001b[0m\u001b[1;33m:\u001b[0m\u001b[1;33m\u001b[0m\u001b[0m\n",
      "\u001b[1;32mC:\\Anaconda\\lib\\site-packages\\IPython\\core\\magics\\pylab.pyc\u001b[0m in \u001b[0;36mmatplotlib\u001b[1;34m(self, line)\u001b[0m\n\u001b[0;32m     98\u001b[0m             \u001b[1;32mprint\u001b[0m\u001b[1;33m(\u001b[0m\u001b[1;34m\"Available matplotlib backends: %s\"\u001b[0m \u001b[1;33m%\u001b[0m \u001b[0mbackends_list\u001b[0m\u001b[1;33m)\u001b[0m\u001b[1;33m\u001b[0m\u001b[0m\n\u001b[0;32m     99\u001b[0m         \u001b[1;32melse\u001b[0m\u001b[1;33m:\u001b[0m\u001b[1;33m\u001b[0m\u001b[0m\n\u001b[1;32m--> 100\u001b[1;33m             \u001b[0mgui\u001b[0m\u001b[1;33m,\u001b[0m \u001b[0mbackend\u001b[0m \u001b[1;33m=\u001b[0m \u001b[0mself\u001b[0m\u001b[1;33m.\u001b[0m\u001b[0mshell\u001b[0m\u001b[1;33m.\u001b[0m\u001b[0menable_matplotlib\u001b[0m\u001b[1;33m(\u001b[0m\u001b[0margs\u001b[0m\u001b[1;33m.\u001b[0m\u001b[0mgui\u001b[0m\u001b[1;33m)\u001b[0m\u001b[1;33m\u001b[0m\u001b[0m\n\u001b[0m\u001b[0;32m    101\u001b[0m             \u001b[0mself\u001b[0m\u001b[1;33m.\u001b[0m\u001b[0m_show_matplotlib_backend\u001b[0m\u001b[1;33m(\u001b[0m\u001b[0margs\u001b[0m\u001b[1;33m.\u001b[0m\u001b[0mgui\u001b[0m\u001b[1;33m,\u001b[0m \u001b[0mbackend\u001b[0m\u001b[1;33m)\u001b[0m\u001b[1;33m\u001b[0m\u001b[0m\n\u001b[0;32m    102\u001b[0m \u001b[1;33m\u001b[0m\u001b[0m\n",
      "\u001b[1;32mC:\\Anaconda\\lib\\site-packages\\IPython\\core\\interactiveshell.pyc\u001b[0m in \u001b[0;36menable_matplotlib\u001b[1;34m(self, gui)\u001b[0m\n\u001b[0;32m   2954\u001b[0m         \u001b[1;31m# Now we must activate the gui pylab wants to use, and fix %run to take\u001b[0m\u001b[1;33m\u001b[0m\u001b[1;33m\u001b[0m\u001b[0m\n\u001b[0;32m   2955\u001b[0m         \u001b[1;31m# plot updates into account\u001b[0m\u001b[1;33m\u001b[0m\u001b[1;33m\u001b[0m\u001b[0m\n\u001b[1;32m-> 2956\u001b[1;33m         \u001b[0mself\u001b[0m\u001b[1;33m.\u001b[0m\u001b[0menable_gui\u001b[0m\u001b[1;33m(\u001b[0m\u001b[0mgui\u001b[0m\u001b[1;33m)\u001b[0m\u001b[1;33m\u001b[0m\u001b[0m\n\u001b[0m\u001b[0;32m   2957\u001b[0m         \u001b[0mself\u001b[0m\u001b[1;33m.\u001b[0m\u001b[0mmagics_manager\u001b[0m\u001b[1;33m.\u001b[0m\u001b[0mregistry\u001b[0m\u001b[1;33m[\u001b[0m\u001b[1;34m'ExecutionMagics'\u001b[0m\u001b[1;33m]\u001b[0m\u001b[1;33m.\u001b[0m\u001b[0mdefault_runner\u001b[0m \u001b[1;33m=\u001b[0m\u001b[0;31m \u001b[0m\u001b[0;31m\\\u001b[0m\u001b[1;33m\u001b[0m\u001b[0m\n\u001b[0;32m   2958\u001b[0m             \u001b[0mpt\u001b[0m\u001b[1;33m.\u001b[0m\u001b[0mmpl_runner\u001b[0m\u001b[1;33m(\u001b[0m\u001b[0mself\u001b[0m\u001b[1;33m.\u001b[0m\u001b[0msafe_execfile\u001b[0m\u001b[1;33m)\u001b[0m\u001b[1;33m\u001b[0m\u001b[0m\n",
      "\u001b[1;32mC:\\Anaconda\\lib\\site-packages\\ipykernel\\zmqshell.pyc\u001b[0m in \u001b[0;36menable_gui\u001b[1;34m(gui)\u001b[0m\n\u001b[0;32m    380\u001b[0m         \u001b[1;32mfrom\u001b[0m \u001b[1;33m.\u001b[0m\u001b[0meventloops\u001b[0m \u001b[1;32mimport\u001b[0m \u001b[0menable_gui\u001b[0m \u001b[1;32mas\u001b[0m \u001b[0mreal_enable_gui\u001b[0m\u001b[1;33m\u001b[0m\u001b[0m\n\u001b[0;32m    381\u001b[0m         \u001b[1;32mtry\u001b[0m\u001b[1;33m:\u001b[0m\u001b[1;33m\u001b[0m\u001b[0m\n\u001b[1;32m--> 382\u001b[1;33m             \u001b[0mreal_enable_gui\u001b[0m\u001b[1;33m(\u001b[0m\u001b[0mgui\u001b[0m\u001b[1;33m)\u001b[0m\u001b[1;33m\u001b[0m\u001b[0m\n\u001b[0m\u001b[0;32m    383\u001b[0m         \u001b[1;32mexcept\u001b[0m \u001b[0mValueError\u001b[0m \u001b[1;32mas\u001b[0m \u001b[0me\u001b[0m\u001b[1;33m:\u001b[0m\u001b[1;33m\u001b[0m\u001b[0m\n\u001b[0;32m    384\u001b[0m             \u001b[1;32mraise\u001b[0m \u001b[0mUsageError\u001b[0m\u001b[1;33m(\u001b[0m\u001b[1;34m\"%s\"\u001b[0m \u001b[1;33m%\u001b[0m \u001b[0me\u001b[0m\u001b[1;33m)\u001b[0m\u001b[1;33m\u001b[0m\u001b[0m\n",
      "\u001b[1;32mC:\\Anaconda\\lib\\site-packages\\ipykernel\\eventloops.pyc\u001b[0m in \u001b[0;36menable_gui\u001b[1;34m(gui, kernel)\u001b[0m\n\u001b[0;32m    270\u001b[0m     \u001b[0mloop\u001b[0m \u001b[1;33m=\u001b[0m \u001b[0mloop_map\u001b[0m\u001b[1;33m[\u001b[0m\u001b[0mgui\u001b[0m\u001b[1;33m]\u001b[0m\u001b[1;33m\u001b[0m\u001b[0m\n\u001b[0;32m    271\u001b[0m     \u001b[1;32mif\u001b[0m \u001b[0mloop\u001b[0m \u001b[1;32mand\u001b[0m \u001b[0mkernel\u001b[0m\u001b[1;33m.\u001b[0m\u001b[0meventloop\u001b[0m \u001b[1;32mis\u001b[0m \u001b[1;32mnot\u001b[0m \u001b[0mNone\u001b[0m \u001b[1;32mand\u001b[0m \u001b[0mkernel\u001b[0m\u001b[1;33m.\u001b[0m\u001b[0meventloop\u001b[0m \u001b[1;32mis\u001b[0m \u001b[1;32mnot\u001b[0m \u001b[0mloop\u001b[0m\u001b[1;33m:\u001b[0m\u001b[1;33m\u001b[0m\u001b[0m\n\u001b[1;32m--> 272\u001b[1;33m         \u001b[1;32mraise\u001b[0m \u001b[0mRuntimeError\u001b[0m\u001b[1;33m(\u001b[0m\u001b[1;34m\"Cannot activate multiple GUI eventloops\"\u001b[0m\u001b[1;33m)\u001b[0m\u001b[1;33m\u001b[0m\u001b[0m\n\u001b[0m\u001b[0;32m    273\u001b[0m     \u001b[0mkernel\u001b[0m\u001b[1;33m.\u001b[0m\u001b[0meventloop\u001b[0m \u001b[1;33m=\u001b[0m \u001b[0mloop\u001b[0m\u001b[1;33m\u001b[0m\u001b[0m\n",
      "\u001b[1;31mRuntimeError\u001b[0m: Cannot activate multiple GUI eventloops"
     ]
    }
   ],
   "source": [
    "%matplotlib "
   ]
  },
  {
   "cell_type": "code",
   "execution_count": 3,
   "metadata": {
    "collapsed": false
   },
   "outputs": [],
   "source": [
    "# import modules\n",
    "import matplotlib.pyplot as plt\n",
    "from IPython.display import clear_output\n",
    "import os.path\n",
    "import numpy as np\n",
    "import visa\n",
    "import json\n",
    "import myplots, myutils # custom modules\n",
    "import myplots2\n",
    "import SIM              # instrument drivers\n",
    "import AgilentN5230A\n",
    "import LSCI332S\n",
    "import HittiteHMC\n",
    "import AgilentMXG\n",
    "import time\n",
    "\n",
    "# instrument initialization\n",
    "pna = AgilentN5230A.AgilentN5230A(16)\n",
    "#spec = HittiteHMC.HittiteHMC(18)\n",
    "spec = HittiteHMC.HittiteHMC(10)\n",
    "#spec = AgilentMXG.AgilentMXG(30)\n",
    "#sim = SIM.SIM(19 , channel=3)\n",
    "sim_glb = SIM.SIM(19, channel=3)\n",
    "#sim_chip = SIM.SIM(19, channel=1)\n",
    "lsci = LSCI332S.LSCI332S(2)"
   ]
  },
  {
   "cell_type": "code",
   "execution_count": 4,
   "metadata": {
    "collapsed": false
   },
   "outputs": [
    {
     "data": {
      "text/plain": [
       "<module 'myplots2' from 'myplots2.pyc'>"
      ]
     },
     "execution_count": 4,
     "metadata": {},
     "output_type": "execute_result"
    }
   ],
   "source": [
    "reload(myplots2)"
   ]
  },
  {
   "cell_type": "code",
   "execution_count": 74,
   "metadata": {
    "collapsed": false
   },
   "outputs": [],
   "source": [
    "volt_glb = -5.9\n",
    "volt_chip = 0\n",
    "sim_glb.setVoltage(volt_glb)\n",
    "sim_chip.setVoltage(volt_chip)"
   ]
  },
  {
   "cell_type": "code",
   "execution_count": 67,
   "metadata": {
    "collapsed": false,
    "scrolled": true
   },
   "outputs": [
    {
     "name": "stdout",
     "output_type": "stream",
     "text": [
      "fs=6500000000.0\n",
      "Measurement complete!!!\n"
     ]
    }
   ],
   "source": [
    "################################################################################\n",
    "# set up parameters\n",
    "readoutFreq = 6.7306e9 #6.83444e9 #6.83614e9 #6.84248e9 #6.83759e9 #6.84371e9 \n",
    "readoutPwr = -70\n",
    "numPoints, IFbandwidth, avg = 50, 100, 1 \n",
    "startFreq, endFreq, stepFreq = 3e9, 6.5e9, 10e6\n",
    "specPwr =0 # nominal power from mw source\n",
    "fixedAtt = -20  # additional fixed attenuator if any\n",
    "#volt_glb = 1.2 #0.388 #1.87 #1.95 #1.79\n",
    "#volt_chip = 0 #-11.2  \n",
    "sweepNumber = 1 # 1: one-way, 2: round-trip, 3: one-ways + roundtrip, 4: two roundtrip, ...\n",
    "\n",
    "#save_path = 'Z:\\User\\JJ\\sput\\M5_1_spec'\n",
    "#save_path = 'C:\\Users\\Lab User\\Desktop\\Albany1222'\n",
    "#save_path = 'Z:\\User\\Jaseung\\projects\\CSFQ\\W1\\C5\\spec'\n",
    "save_path = 'Z:\\User\\Jaseung\\projects\\CSFQ\\measurement\\W3\\B7\\BlueFors\\Jan2017_2nd\\Spec'\n",
    "surfix = 'Q3_Vglb'\n",
    "title = '1D spec' + ', ' + 'Vglb={} V'.format(volt_glb)  # figure title\n",
    "##################################################################################\n",
    "\n",
    "# dictionary for parameters to be saved in log file\n",
    "specPwr_total = specPwr + fixedAtt\n",
    "header = 'freq (Hz) mag(dB) phase(degree) real imag'\n",
    "para = dict([('readout Freq (Hz)',readoutFreq),('readout Power (dBm)', readoutPwr),('numPoints',numPoints),\n",
    "             ('IFbandwidth (Hz)', IFbandwidth),('avg',avg),('Spec freq start (Hz)',startFreq),('Spec freq end (Hz)',endFreq),\n",
    "             ('Spec step Freq (Hz)',stepFreq),('Spec power(dBm)', specPwr_total),('volt_glb (V)',volt_glb), ('volt_chip (V)',volt_chip), ('header',header)])\n",
    "\n",
    "\n",
    "# file setup\n",
    "timeStr = time.strftime(\"%H%M%S\")\n",
    "FAA = float(lsci.tempGet('B')) # get temperature\n",
    "baseStr = 'Spec1D_fr{:.9g}_Pr{:.9g}_fs{:.9g}_{:.9g}_{:.9g}_Ps{:.9g}_V{:.3g}_T{:.3g}_{}_{}' \n",
    "baseFileName = baseStr.format(readoutFreq/1e9, readoutPwr, startFreq/1e9, endFreq/1e9, stepFreq/1e9,\n",
    "                              specPwr_total, volt_glb, FAA, surfix, timeStr)\n",
    "dataFileName  = os.path.join(save_path, baseFileName + '.dat')\n",
    "logFileName = os.path.join(save_path, baseFileName + '.json')\n",
    "with open(logFileName, 'w') as f_log:\n",
    "    json.dump(para,f_log,indent=4, sort_keys=True)\n",
    "f_data = open(dataFileName, 'a')\n",
    "   \n",
    "# plot setup\n",
    "plotobj= myplots.plot1D_2sub(xlabel1 = 'Spec. Frequency (Hz)', ylabel1='S21 (dB)',\n",
    "                             xlabel2 = 'Spec Frequency (Hz)',ylabel2='Phase (degree)',\n",
    "                             title = title, plotStyle='b-o')\n",
    "\n",
    "# preconfigure instrument\n",
    "pna.setupMeas()\n",
    "pna.setSweepType('CW')\n",
    "pna.setCWFreq(readoutFreq)\n",
    "pna.setPwr(readoutPwr)\n",
    "pna.avgCount(avg)\n",
    "pna.numPoints(numPoints)\n",
    "pna.setIF(IFbandwidth)\n",
    "pna.pwrOn()\n",
    "\n",
    "spec.pwrOn()\n",
    "spec.setPwr(specPwr)\n",
    "\n",
    "#sim_glb.setVoltage(volt_glb)\n",
    "#sim_chip.setVoltage(volt_chip)\n",
    "time.sleep(2)\n",
    "\n",
    "# data initialization\n",
    "xdata, ydata1, ydata2 = np.array([]), np.array([]),np.array([])\n",
    "\n",
    "# sweeper obj\n",
    "sweeper = myutils.Sweeper1D(start=startFreq, end=endFreq, step=stepFreq,\n",
    "                            sweepNum=sweepNumber)\n",
    "\n",
    "################ sweep start ################\n",
    "while not sweeper.stop(): \n",
    "    clear_output()\n",
    "    print('fs={}'.format(sweeper.curr_val))\n",
    "    \n",
    "    # configure\n",
    "    pna.avgClear()\n",
    "    spec.setFreq(sweeper.curr_val)\n",
    "    \n",
    "    # fetch data from PNA\n",
    "    freq, S21= pna.getData(cplx=True) # S21 in linear scale\n",
    "    \n",
    "    # S21 conversion\n",
    "    S21_real, S21_imag = np.real(S21), np.imag(S21)\n",
    "    S21_mag, S21_phase = np.sqrt(S21_real**2 + S21_imag**2), np.angle(S21, deg=True) # phase in degree\n",
    "    S21_mag_log = 20.0 * np.log10(S21_mag)    # dB\n",
    "    S21_mag_log_avg = np.average(S21_mag_log) \n",
    "    S21_phase_avg = np.average(S21_phase)\n",
    "    \n",
    "    # create spec freq, S21 1D array\n",
    "    xdata = np.append(xdata, sweeper.curr_val)\n",
    "    ydata1 = np.append(ydata1, S21_mag_log_avg)\n",
    "    ydata2 = np.append(ydata2, S21_phase_avg)\n",
    "    \n",
    "    # plot and update\n",
    "    plotobj.update(xdata, ydata1, xdata, ydata2)\n",
    "    \n",
    "    # save data in each iteration\n",
    "    string = '{:.9g}\\t{:.6g}\\t{:.6g} \\n'.format(sweeper.curr_val, S21_mag_log_avg,S21_phase_avg)\n",
    "    f_data.write(string)\n",
    "    \n",
    "    # update sweep\n",
    "    sweeper.update()\n",
    "############## sweep end #########################    \n",
    "\n",
    "# Post measurement    \n",
    "pna.pwrOff()\n",
    "spec.pwrOff()\n",
    "pna.setSweepType(mode='linear')\n",
    "\n",
    "f_data.close()\n",
    "f_log.close()\n",
    "print('Measurement complete!!!')"
   ]
  },
  {
   "cell_type": "markdown",
   "metadata": {},
   "source": [
    "## 2D spectroscopy"
   ]
  },
  {
   "cell_type": "code",
   "execution_count": 19,
   "metadata": {
    "collapsed": false
   },
   "outputs": [
    {
     "data": {
      "text/plain": [
       "'\\ndef lorentzian(x, f0, delF, scaling):\\n    return \\n\\ndef doLorenzianFit(freq, S21_mag_log):\\n    # set initial value\\n    p0 =[]\\n    p0.append(freq(np.argmin(S21_mag_log))) # f0\\n    \\n    popt, pcov = curve_fit(lorenzin, freq, S21_mag, p0)\\n    return popt, pcov\\n'"
      ]
     },
     "execution_count": 19,
     "metadata": {},
     "output_type": "execute_result"
    }
   ],
   "source": [
    "from scipy.optimize import curve_fit\n",
    "# measure resonance dip and do fit. Get the frequency at 3dB points\n",
    "def getBiasFreq(LorR):\n",
    "    pna.setSweepType(mode='linear')\n",
    "    pna.setFreqStartEnd(6.867318e9, 6.871318e9)\n",
    "    pna.setPwr(-65)\n",
    "    pna.avgCount(1)\n",
    "    pna.numPoints(401)\n",
    "    pna.setIF(50)\n",
    "    pna.avgClear()\n",
    "    \n",
    "    freq, S21= pna.getData(cplx=True)\n",
    "    S21_mag = np.sqrt(np.real(S21)**2 + np.imag(S21)**2)\n",
    "    S21_mag_log = np.log10(S21_mag)\n",
    "    \n",
    "    f0 = freq[np.argmin(S21_mag_log)]\n",
    "    \n",
    "    #popt, pcov = doLorenzianFit(freq, S21_mag_log) # fit_result is tuple of f0,delF and Q\n",
    "    #f0, delF = popt[0], popt[1]\n",
    "    return f0\n",
    "#     if LorR == 0:\n",
    "#         return f0 - 30e3\n",
    "#     else:\n",
    "#         return f0 + 30e3\n",
    "'''\n",
    "def lorentzian(x, f0, delF, scaling):\n",
    "    return \n",
    "\n",
    "def doLorenzianFit(freq, S21_mag_log):\n",
    "    # set initial value\n",
    "    p0 =[]\n",
    "    p0.append(freq(np.argmin(S21_mag_log))) # f0\n",
    "    \n",
    "    popt, pcov = curve_fit(lorenzin, freq, S21_mag, p0)\n",
    "    return popt, pcov\n",
    "'''"
   ]
  },
  {
   "cell_type": "code",
   "execution_count": 1,
   "metadata": {
    "collapsed": false
   },
   "outputs": [
    {
     "ename": "IndentationError",
     "evalue": "unexpected indent (<ipython-input-1-d31476893189>, line 25)",
     "output_type": "error",
     "traceback": [
      "\u001b[1;36m  File \u001b[1;32m\"<ipython-input-1-d31476893189>\"\u001b[1;36m, line \u001b[1;32m25\u001b[0m\n\u001b[1;33m    ('stepVolt', stepVolt)])\u001b[0m\n\u001b[1;37m    ^\u001b[0m\n\u001b[1;31mIndentationError\u001b[0m\u001b[1;31m:\u001b[0m unexpected indent\n"
     ]
    }
   ],
   "source": [
    "####################################################################################################################\n",
    "# set up parameters\n",
    "readoutPwr = -65\n",
    "readoutFreq = getBiasFreq(0)\n",
    "numPoints, IFbandwidth, avg = 100, 200, 1\n",
    "startFreq, endFreq, stepFreq = 2.0e9, 5e9, 10e6\n",
    "specPwr = -3\n",
    "startVolt, endVolt, stepVolt =0, 1.5, 0.05\n",
    "fixedAtt = -20\n",
    "endV = 0\n",
    "\n",
    "save_path = 'Z:\\User\\JJ\\sput\\M5_1_spec'\n",
    "####################################################################################################################\n",
    "\n",
    "# dictionary for parameters to be saved in log file.\n",
    "specPwr_total = specPwr + fixedAtt\n",
    "xID, xStart, xEnd, xStep = 'Voltage (V)', startVolt, endVolt, stepvolt\n",
    "yID, yStart, yEnd, yStep = 'Spec. Frequency (Hz)',startFreq, endFreq, (endFreq-startFreq)/(numPoints-1)\n",
    "para = dict([('xID', xID), ('xStart', xStart), ('xEnd', xEnd)\n",
    "             , ('yID', yID), ('yStart', yStart), ('yEnd', yEnd), ('Spec power', specPwr_total)\n",
    "             , ('readout Freq (Hz)',readoutFreq),('readout Power (dBm)', readoutPwr)\n",
    "             , ('numPoints',numPoints), ('IFbandwidth start (Hz)', IF_arr[0]),('IFbandwidth end (Hz)', IF_arr[-1])\n",
    "             , ('avg',avg), ('volt (V)',volt), ('comment', commentStr)])\n",
    "\n",
    "# file setup\n",
    "timeStr = time.strftime(\"%H%M%S\")\n",
    "FAA = float(lsci.tempGet('B'))  # get temperature\n",
    "baseStr = 'Spec2D_fr{:.9g}_Pr{:.9g}_fs{:.9g}_{:.9g}_{:.9g}_Ps{:.9g}_V{:.6g}_{:.3g}_{:.3g}_T{:.3g}_{}'\n",
    "baseFileName = baseStr.format(readoutFreq/1e9, readoutPwr, startFreq/1e9, endFreq/1e9, stepFreq/1e9, specPwr_total,\n",
    "                              startVolt, endVolt, stepVolt, FAA, timeStr)\n",
    "dataFileName1  = os.path.join(save_path, baseFileName + '_mag.dat')\n",
    "dataFileName2  = os.path.join(save_path, baseFileName + '_phase.dat')\n",
    "logFileName =  os.path.join(save_path, baseFileName + '.json')\n",
    "with open(logFileName, 'w') as f_log:\n",
    "    json.dump(para,f_log,indent=4, sort_keys=True)\n",
    "\n",
    "f_log = open(logFileName, 'a') \n",
    "\n",
    "\n",
    "# plot setup\n",
    "plotobj= myplots.plot2D_4sub(xlabel1 = '', ylabel1='S21 (dB)', \n",
    "                             xlabel2 = 'Spec Frequency(Hz)', ylabel2='Phase(degree)',\n",
    "                             xlabel3 = 'Volt (V)', ylabel3='Spec Frequency(Hz)',\n",
    "                             xlabel4 = 'Volt (V)', ylabel4='Spec Frequency(Hz)',\n",
    "                             title = '2D spectroscopy', figsize=(12,8))\n",
    "\n",
    "# preconfigure instrument\n",
    "pna.setupMeas()\n",
    "pna.setSweepType(mode='CW')\n",
    "pna.setCWFreq(readoutFreq)\n",
    "pna.setPwr(readoutPwr)\n",
    "pna.avgCount(avg)\n",
    "pna.numPoints(numPoints)\n",
    "pna.setIF(IFbandwidth)\n",
    "pna.pwrOn()\n",
    "\n",
    "spec.setPwr(specPwr)\n",
    "spec.pwrOn()\n",
    "\n",
    "# data initialization\n",
    "data1_2D, data2_2D = np.array([]), np.array([])\n",
    "\n",
    "################ sweep start ################\n",
    "#for specFreq in arange(startFreq, endFreq + stepFreq, stepFreq): # traverse in [pmin, pmax].\n",
    "for volt in np.arange(startVolt, endVolt+stepVolt, stepVolt):\n",
    "    #configure para\n",
    "    sim.setVoltage(volt)\n",
    "    \n",
    "    #readoutFreq = getBiasFreq(0) # find bias point from cavity resonance curve\n",
    "    readoutFreq = getBiasFreq(0) # 0 is lower freq side, 3dB higher\n",
    "        \n",
    "    pna.setSweepType(mode='CW')\n",
    "    pna.setCWFreq(readoutFreq)\n",
    "    pna.setPwr(readoutPwr)\n",
    "    pna.avgCount(avg)\n",
    "    pna.numPoints(numPoints)\n",
    "    pna.setIF(IFbandwidth)\n",
    "\n",
    "    # data initialization\n",
    "    xdata1, ydata1, ydata2 = np.array([]), np.array([]), np.array([])\n",
    "    \n",
    "    for specFreq in np.arange(startFreq, endFreq+stepFreq, stepFreq):\n",
    "        # configure\n",
    "        pna.avgClear()\n",
    "        spec.setFreq(specFreq)\n",
    "    \n",
    "        # fetch data from PNA\n",
    "        freq, S21= pna.getData(cplx=True) # S21 in linear scale\n",
    "    \n",
    "        # S21 conversion\n",
    "        S21_real, S21_imag = np.real(S21), np.imag(S21)\n",
    "        S21_mag, S21_phase = np.sqrt(S21_real**2 + S21_imag**2), np.angle(S21, deg=True) # phase in degree\n",
    "        S21_mag_log = 20.0 * np.log10(S21_mag)    # dB\n",
    "\n",
    "        S21_mag_log_avg = np.average(S21_mag_log) \n",
    "        S21_phase_avg = np.average(S21_phase)\n",
    "\n",
    "        xdata1 = np.append(xdata1, specFreq)\n",
    "        ydata1 = np.append(ydata1, S21_mag_log_avg)\n",
    "        ydata2 = np.append(ydata2, S21_phase_avg)\n",
    "\n",
    "        # plot and update\n",
    "        plotobj.update1D(xdata1, ydata1, xdata1, ydata2)\n",
    "\n",
    "    \n",
    "    if data1_2D.size == 0: # when S21_mag_2D is empty\n",
    "        data1_2D = ydata1 # make 2D array\n",
    "        data1_2D.shape = (data1_2D.size, 1)\n",
    "        data2_2D = ydata2\n",
    "        data2_2D.shape = (data2_2D.size, 1)\n",
    "        \n",
    "    else:\n",
    "        data1_2D = np.column_stack((data1_2D, ydata1))\n",
    "        data2_2D = np.column_stack((data2_2D, ydata2))\n",
    "             \n",
    "    # plot and update\n",
    "    extent = [startVolt, volt, startFreq, endFreq]\n",
    "    plotobj.update2D(data1_2D, data2_2D, extent, cmap='Blues_r')\n",
    "    \n",
    "    # save data in each iteration\n",
    "    f_mag = open(dataFileName1, 'w') \n",
    "    f_phase = open(dataFileName2, 'w') \n",
    "    np.savetxt(f_mag, data1_2D, fmt='%.9g', delimiter='\\t') \n",
    "    np.savetxt(f_phase, data2_2D, fmt='%.9g', delimiter='\\t')\n",
    "    f_mag.close()\n",
    "    f_phase.close()\n",
    "     \n",
    "############## sweep end #########################    \n",
    "\n",
    "# Post measurement    \n",
    "pna.pwrOff()\n",
    "pna.setSweepType(mode='linear')\n",
    "spec.pwrOff()\n",
    "sim.setVoltage(endV)\n",
    "f_log.close()\n"
   ]
  },
  {
   "cell_type": "markdown",
   "metadata": {},
   "source": [
    "# S21 continuous in CW vs Time"
   ]
  },
  {
   "cell_type": "code",
   "execution_count": 130,
   "metadata": {
    "collapsed": false
   },
   "outputs": [
    {
     "name": "stdout",
     "output_type": "stream",
     "text": [
      "Initialized S21 Measurement 'S21Meas'\n"
     ]
    },
    {
     "ename": "KeyboardInterrupt",
     "evalue": "",
     "output_type": "error",
     "traceback": [
      "\u001b[1;31m---------------------------------------------------------------------------\u001b[0m",
      "\u001b[1;31mKeyboardInterrupt\u001b[0m                         Traceback (most recent call last)",
      "\u001b[1;32m<ipython-input-130-74a12d7752d4>\u001b[0m in \u001b[0;36m<module>\u001b[1;34m()\u001b[0m\n\u001b[0;32m     36\u001b[0m \u001b[1;33m\u001b[0m\u001b[0m\n\u001b[0;32m     37\u001b[0m     \u001b[1;31m# fetch data from PNA\u001b[0m\u001b[1;33m\u001b[0m\u001b[1;33m\u001b[0m\u001b[0m\n\u001b[1;32m---> 38\u001b[1;33m     \u001b[0mfreq\u001b[0m\u001b[1;33m,\u001b[0m \u001b[0mS21\u001b[0m\u001b[1;33m=\u001b[0m \u001b[0mpna\u001b[0m\u001b[1;33m.\u001b[0m\u001b[0mgetData\u001b[0m\u001b[1;33m(\u001b[0m\u001b[0mcplx\u001b[0m\u001b[1;33m=\u001b[0m\u001b[0mTrue\u001b[0m\u001b[1;33m)\u001b[0m \u001b[1;31m# S21 in linear scale\u001b[0m\u001b[1;33m\u001b[0m\u001b[0m\n\u001b[0m\u001b[0;32m     39\u001b[0m \u001b[1;33m\u001b[0m\u001b[0m\n\u001b[0;32m     40\u001b[0m     \u001b[1;31m# S21 conversion\u001b[0m\u001b[1;33m\u001b[0m\u001b[1;33m\u001b[0m\u001b[0m\n",
      "\u001b[1;32mZ:\\User\\Jaseung\\Measurement\\AgilentN5230A.pyc\u001b[0m in \u001b[0;36mgetData\u001b[1;34m(self, cplx)\u001b[0m\n\u001b[0;32m    129\u001b[0m \u001b[1;33m\u001b[0m\u001b[0m\n\u001b[0;32m    130\u001b[0m         \u001b[1;32mif\u001b[0m \u001b[0mcplx\u001b[0m\u001b[1;33m:\u001b[0m\u001b[1;33m\u001b[0m\u001b[0m\n\u001b[1;32m--> 131\u001b[1;33m             \u001b[0mans\u001b[0m \u001b[1;33m=\u001b[0m \u001b[0mself\u001b[0m\u001b[1;33m.\u001b[0m\u001b[0minstr\u001b[0m\u001b[1;33m.\u001b[0m\u001b[0mask\u001b[0m\u001b[1;33m(\u001b[0m\u001b[1;34m\"Calculate:Data? SDATA\"\u001b[0m\u001b[1;33m)\u001b[0m\u001b[1;33m\u001b[0m\u001b[0m\n\u001b[0m\u001b[0;32m    132\u001b[0m             \u001b[0mreal\u001b[0m \u001b[1;33m=\u001b[0m \u001b[1;33m[\u001b[0m\u001b[1;33m]\u001b[0m\u001b[1;33m\u001b[0m\u001b[0m\n\u001b[0;32m    133\u001b[0m             \u001b[0mimag\u001b[0m \u001b[1;33m=\u001b[0m \u001b[1;33m[\u001b[0m\u001b[1;33m]\u001b[0m\u001b[1;33m\u001b[0m\u001b[0m\n",
      "\u001b[1;32mC:\\Anaconda\\lib\\site-packages\\pyvisa\\resources\\messagebased.pyc\u001b[0m in \u001b[0;36mquery\u001b[1;34m(self, message, delay)\u001b[0m\n\u001b[0;32m    405\u001b[0m         \u001b[1;32mif\u001b[0m \u001b[0mdelay\u001b[0m \u001b[1;33m>\u001b[0m \u001b[1;36m0.0\u001b[0m\u001b[1;33m:\u001b[0m\u001b[1;33m\u001b[0m\u001b[0m\n\u001b[0;32m    406\u001b[0m             \u001b[0mtime\u001b[0m\u001b[1;33m.\u001b[0m\u001b[0msleep\u001b[0m\u001b[1;33m(\u001b[0m\u001b[0mdelay\u001b[0m\u001b[1;33m)\u001b[0m\u001b[1;33m\u001b[0m\u001b[0m\n\u001b[1;32m--> 407\u001b[1;33m         \u001b[1;32mreturn\u001b[0m \u001b[0mself\u001b[0m\u001b[1;33m.\u001b[0m\u001b[0mread\u001b[0m\u001b[1;33m(\u001b[0m\u001b[1;33m)\u001b[0m\u001b[1;33m\u001b[0m\u001b[0m\n\u001b[0m\u001b[0;32m    408\u001b[0m \u001b[1;33m\u001b[0m\u001b[0m\n\u001b[0;32m    409\u001b[0m     \u001b[1;31m# Kept for backwards compatibility.\u001b[0m\u001b[1;33m\u001b[0m\u001b[1;33m\u001b[0m\u001b[0m\n",
      "\u001b[1;32mC:\\Anaconda\\lib\\site-packages\\pyvisa\\resources\\messagebased.pyc\u001b[0m in \u001b[0;36mread\u001b[1;34m(self, termination, encoding)\u001b[0m\n\u001b[0;32m    330\u001b[0m         \u001b[1;32mif\u001b[0m \u001b[0mtermination\u001b[0m \u001b[1;32mis\u001b[0m \u001b[0mNone\u001b[0m\u001b[1;33m:\u001b[0m\u001b[1;33m\u001b[0m\u001b[0m\n\u001b[0;32m    331\u001b[0m             \u001b[0mtermination\u001b[0m \u001b[1;33m=\u001b[0m \u001b[0mself\u001b[0m\u001b[1;33m.\u001b[0m\u001b[0m_read_termination\u001b[0m\u001b[1;33m\u001b[0m\u001b[0m\n\u001b[1;32m--> 332\u001b[1;33m             \u001b[0mmessage\u001b[0m \u001b[1;33m=\u001b[0m \u001b[0mself\u001b[0m\u001b[1;33m.\u001b[0m\u001b[0mread_raw\u001b[0m\u001b[1;33m(\u001b[0m\u001b[1;33m)\u001b[0m\u001b[1;33m.\u001b[0m\u001b[0mdecode\u001b[0m\u001b[1;33m(\u001b[0m\u001b[0menco\u001b[0m\u001b[1;33m)\u001b[0m\u001b[1;33m\u001b[0m\u001b[0m\n\u001b[0m\u001b[0;32m    333\u001b[0m         \u001b[1;32melse\u001b[0m\u001b[1;33m:\u001b[0m\u001b[1;33m\u001b[0m\u001b[0m\n\u001b[0;32m    334\u001b[0m             \u001b[1;32mwith\u001b[0m \u001b[0mself\u001b[0m\u001b[1;33m.\u001b[0m\u001b[0mread_termination_context\u001b[0m\u001b[1;33m(\u001b[0m\u001b[0mtermination\u001b[0m\u001b[1;33m)\u001b[0m\u001b[1;33m:\u001b[0m\u001b[1;33m\u001b[0m\u001b[0m\n",
      "\u001b[1;32mC:\\Anaconda\\lib\\site-packages\\pyvisa\\resources\\messagebased.pyc\u001b[0m in \u001b[0;36mread_raw\u001b[1;34m(self, size)\u001b[0m\n\u001b[0;32m    304\u001b[0m                     logger.debug('%s - reading %d bytes (last status %r)',\n\u001b[0;32m    305\u001b[0m                                  self._resource_name, size, status)\n\u001b[1;32m--> 306\u001b[1;33m                     \u001b[0mchunk\u001b[0m\u001b[1;33m,\u001b[0m \u001b[0mstatus\u001b[0m \u001b[1;33m=\u001b[0m \u001b[0mself\u001b[0m\u001b[1;33m.\u001b[0m\u001b[0mvisalib\u001b[0m\u001b[1;33m.\u001b[0m\u001b[0mread\u001b[0m\u001b[1;33m(\u001b[0m\u001b[0mself\u001b[0m\u001b[1;33m.\u001b[0m\u001b[0msession\u001b[0m\u001b[1;33m,\u001b[0m \u001b[0msize\u001b[0m\u001b[1;33m)\u001b[0m\u001b[1;33m\u001b[0m\u001b[0m\n\u001b[0m\u001b[0;32m    307\u001b[0m                     \u001b[0mret\u001b[0m \u001b[1;33m+=\u001b[0m \u001b[0mchunk\u001b[0m\u001b[1;33m\u001b[0m\u001b[0m\n\u001b[0;32m    308\u001b[0m             \u001b[1;32mexcept\u001b[0m \u001b[0merrors\u001b[0m\u001b[1;33m.\u001b[0m\u001b[0mVisaIOError\u001b[0m \u001b[1;32mas\u001b[0m \u001b[0me\u001b[0m\u001b[1;33m:\u001b[0m\u001b[1;33m\u001b[0m\u001b[0m\n",
      "\u001b[1;32mC:\\Anaconda\\lib\\site-packages\\pyvisa\\ctwrapper\\functions.pyc\u001b[0m in \u001b[0;36mread\u001b[1;34m(library, session, count)\u001b[0m\n\u001b[0;32m   1580\u001b[0m     \u001b[0mbuffer\u001b[0m \u001b[1;33m=\u001b[0m \u001b[0mcreate_string_buffer\u001b[0m\u001b[1;33m(\u001b[0m\u001b[0mcount\u001b[0m\u001b[1;33m)\u001b[0m\u001b[1;33m\u001b[0m\u001b[0m\n\u001b[0;32m   1581\u001b[0m     \u001b[0mreturn_count\u001b[0m \u001b[1;33m=\u001b[0m \u001b[0mViUInt32\u001b[0m\u001b[1;33m(\u001b[0m\u001b[1;33m)\u001b[0m\u001b[1;33m\u001b[0m\u001b[0m\n\u001b[1;32m-> 1582\u001b[1;33m     \u001b[0mret\u001b[0m \u001b[1;33m=\u001b[0m \u001b[0mlibrary\u001b[0m\u001b[1;33m.\u001b[0m\u001b[0mviRead\u001b[0m\u001b[1;33m(\u001b[0m\u001b[0msession\u001b[0m\u001b[1;33m,\u001b[0m \u001b[0mbuffer\u001b[0m\u001b[1;33m,\u001b[0m \u001b[0mcount\u001b[0m\u001b[1;33m,\u001b[0m \u001b[0mbyref\u001b[0m\u001b[1;33m(\u001b[0m\u001b[0mreturn_count\u001b[0m\u001b[1;33m)\u001b[0m\u001b[1;33m)\u001b[0m\u001b[1;33m\u001b[0m\u001b[0m\n\u001b[0m\u001b[0;32m   1583\u001b[0m     \u001b[1;32mreturn\u001b[0m \u001b[0mbuffer\u001b[0m\u001b[1;33m.\u001b[0m\u001b[0mraw\u001b[0m\u001b[1;33m[\u001b[0m\u001b[1;33m:\u001b[0m\u001b[0mreturn_count\u001b[0m\u001b[1;33m.\u001b[0m\u001b[0mvalue\u001b[0m\u001b[1;33m]\u001b[0m\u001b[1;33m,\u001b[0m \u001b[0mret\u001b[0m\u001b[1;33m\u001b[0m\u001b[0m\n\u001b[0;32m   1584\u001b[0m \u001b[1;33m\u001b[0m\u001b[0m\n",
      "\u001b[1;32mC:\\Anaconda\\lib\\site-packages\\pyvisa\\ctwrapper\\highlevel.pyc\u001b[0m in \u001b[0;36m_return_handler\u001b[1;34m(self, ret_value, func, arguments)\u001b[0m\n\u001b[0;32m    147\u001b[0m             \u001b[0msetattr\u001b[0m\u001b[1;33m(\u001b[0m\u001b[0mself\u001b[0m\u001b[1;33m,\u001b[0m \u001b[0mmethod_name\u001b[0m\u001b[1;33m,\u001b[0m \u001b[0mgetattr\u001b[0m\u001b[1;33m(\u001b[0m\u001b[0mself\u001b[0m\u001b[1;33m.\u001b[0m\u001b[0mlib\u001b[0m\u001b[1;33m,\u001b[0m \u001b[0mmethod_name\u001b[0m\u001b[1;33m)\u001b[0m\u001b[1;33m)\u001b[0m\u001b[1;33m\u001b[0m\u001b[0m\n\u001b[0;32m    148\u001b[0m \u001b[1;33m\u001b[0m\u001b[0m\n\u001b[1;32m--> 149\u001b[1;33m     \u001b[1;32mdef\u001b[0m \u001b[0m_return_handler\u001b[0m\u001b[1;33m(\u001b[0m\u001b[0mself\u001b[0m\u001b[1;33m,\u001b[0m \u001b[0mret_value\u001b[0m\u001b[1;33m,\u001b[0m \u001b[0mfunc\u001b[0m\u001b[1;33m,\u001b[0m \u001b[0marguments\u001b[0m\u001b[1;33m)\u001b[0m\u001b[1;33m:\u001b[0m\u001b[1;33m\u001b[0m\u001b[0m\n\u001b[0m\u001b[0;32m    150\u001b[0m         \"\"\"Check return values for errors and warnings.\n\u001b[0;32m    151\u001b[0m         \"\"\"\n",
      "\u001b[1;31mKeyboardInterrupt\u001b[0m: "
     ]
    }
   ],
   "source": [
    "##################################################################################################\n",
    "# set up parameters\n",
    "readoutFreq = 7.062425e9\n",
    "readoutPwr = -70\n",
    "numPoints, IFbandwidth, avg = 10, 1000, 2\n",
    "#specFreq = 5e9\n",
    "#specPwr = -20\n",
    "volt = 0\n",
    "###################################################################################################\n",
    "\n",
    "# plot setup\n",
    "plotobj= myplots.plot1D_2sub(xlabel1='index', ylabel1='S21 (dB)', ylabel2='Phase(degree)', title = 'CW mode')\n",
    "\n",
    "# preconfigure instrument\n",
    "pna.setupMeas()\n",
    "pna.setSweepType('CW')\n",
    "pna.setCWFreq(readoutFreq)\n",
    "pna.setPwr(readoutPwr)\n",
    "pna.avgCount(avg)\n",
    "pna.numPoints(numPoints)\n",
    "pna.setIF(IFbandwidth)\n",
    "pna.pwrOn()\n",
    "pna.avgClear()\n",
    "#spec.pwrOn()\n",
    "#spec.setPwr(specPwr)\n",
    "\n",
    "sim.setVoltage(volt)\n",
    "\n",
    "# data initialization\n",
    "xdata, ydata1, ydata2 = np.array([]), np.array([]),np.array([])\n",
    "\n",
    "################ sweep start ################\n",
    "\n",
    "N =1000\n",
    "for i in range(N): \n",
    "    i +=1\n",
    "    # configure\n",
    "    #spec.setFreq(sweeper.curr_val)\n",
    "    \n",
    "    # fetch data from PNA\n",
    "    freq, S21= pna.getData(cplx=True) # S21 in linear scale\n",
    "    \n",
    "    # S21 conversion\n",
    "    S21_real, S21_imag = np.real(S21), np.imag(S21)\n",
    "    S21_mag, S21_phase = np.sqrt(S21_real**2 + S21_imag**2), np.angle(S21, deg=True) # phase in degree\n",
    "    S21_mag_log = 20.0 * np.log10(S21_mag)    # dB\n",
    "    S21_mag_log_avg = np.average(S21_mag_log) \n",
    "    S21_phase_avg = np.average(S21_phase)\n",
    "    # create spec freq, S21 1D array\n",
    "    xdata = np.append(xdata, i)\n",
    "    ydata1 = np.append(ydata1, S21_mag_log_avg)\n",
    "    ydata2 = np.append(ydata2, S21_phase_avg)\n",
    "    \n",
    "    # plot and update\n",
    "    plotobj.update(xdata, ydata1, xdata, ydata2)\n",
    "    \n",
    "############## sweep end #########################    \n",
    "\n",
    "# Post measurement    \n",
    "pna.pwrOff()\n",
    "#spec.pwrOff()\n",
    "pna.setSweepType(mode='linear')\n"
   ]
  },
  {
   "cell_type": "code",
   "execution_count": 125,
   "metadata": {
    "collapsed": true
   },
   "outputs": [],
   "source": [
    "import LSCI332S\n",
    "lsci = LSCI332S.LSCI332S(2)"
   ]
  },
  {
   "cell_type": "code",
   "execution_count": 126,
   "metadata": {
    "collapsed": true
   },
   "outputs": [],
   "source": [
    "FAA = lsci.tempGet('B')"
   ]
  },
  {
   "cell_type": "code",
   "execution_count": 127,
   "metadata": {
    "collapsed": false
   },
   "outputs": [
    {
     "name": "stdout",
     "output_type": "stream",
     "text": [
      "+00.000\n"
     ]
    }
   ],
   "source": []
  },
  {
   "cell_type": "code",
   "execution_count": null,
   "metadata": {
    "collapsed": true
   },
   "outputs": [],
   "source": []
  }
 ],
 "metadata": {
  "kernelspec": {
   "display_name": "Python 2",
   "language": "python",
   "name": "python2"
  },
  "language_info": {
   "codemirror_mode": {
    "name": "ipython",
    "version": 2
   },
   "file_extension": ".py",
   "mimetype": "text/x-python",
   "name": "python",
   "nbconvert_exporter": "python",
   "pygments_lexer": "ipython2",
   "version": "2.7.12"
  }
 },
 "nbformat": 4,
 "nbformat_minor": 0
}
