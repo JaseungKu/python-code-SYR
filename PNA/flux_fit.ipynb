{
 "cells": [
  {
   "cell_type": "code",
   "execution_count": 2,
   "metadata": {
    "ExecuteTime": {
     "end_time": "2019-04-15T22:33:34.238031Z",
     "start_time": "2019-04-15T22:33:34.230034Z"
    },
    "collapsed": true
   },
   "outputs": [],
   "source": [
    "import matplotlib\n",
    "import matplotlib.pyplot as plt\n",
    "import numpy as np\n",
    "from scipy import constants as phy"
   ]
  },
  {
   "cell_type": "code",
   "execution_count": 3,
   "metadata": {
    "ExecuteTime": {
     "end_time": "2019-04-15T22:33:35.034058Z",
     "start_time": "2019-04-15T22:33:35.027061Z"
    },
    "collapsed": true
   },
   "outputs": [],
   "source": [
    "t = np.arange(-1.5,1.5,0.001)\n",
    "f = 5 #qubit freq\n",
    "d = 1.8 #asym junc ratio\n",
    "r = 6045.96 #high power res (MHz)\n",
    "g = 100 \n",
    "e = np.abs(np.cos(t))*np.sqrt(1+((d-1)/(d+1))**2*np.tan(t)**2)\n",
    "w = f*np.sqrt(e)\n",
    "l = (r + g**2*(r-w*1000)**-1)"
   ]
  },
  {
   "cell_type": "code",
   "execution_count": 4,
   "metadata": {
    "ExecuteTime": {
     "end_time": "2019-04-15T22:33:41.965757Z",
     "start_time": "2019-04-15T22:33:41.682912Z"
    }
   },
   "outputs": [
    {
     "data": {
      "image/png": "[encoded data removed]",
      "text/plain": [
       "<matplotlib.figure.Figure at 0x19b2172b7b8>"
      ]
     },
     "metadata": {},
     "output_type": "display_data"
    }
   ],
   "source": [
    "plt.figure(1)\n",
    "plt.subplot(211)\n",
    "plt.plot(t,l,'-b')\n",
    "plt.ylabel('Frequency (MHz)')\n",
    "plt.xlabel('Flux (no unit)')\n",
    "plt.ylim(6000,6200)\n",
    "#plt.ylim(6161,6200)\n",
    "plt.title('JN77 D4 shift estimation')\n",
    "\n",
    "plt.subplot(212)\n",
    "plt.plot(t,w,'-r')\n",
    "plt.ylabel('Frequency (GHz)')\n",
    "plt.xlabel('Flux (no unit)')\n",
    "#plt.title('D3 qubit estimation')\n",
    "plt.show()"
   ]
  },
  {
   "cell_type": "code",
   "execution_count": 11,
   "metadata": {
    "ExecuteTime": {
     "end_time": "2018-02-11T05:09:23.608547Z",
     "start_time": "2018-02-11T05:09:23.593535Z"
    },
    "collapsed": true
   },
   "outputs": [],
   "source": [
    "alpha = 215\n",
    "R = 5000#2600\n",
    "Ic = 40e-9\n",
    "flux = 2.067833831e-15\n",
    "Tc = 1.2\n",
    "f = 6.1\n",
    "\n",
    "Ej = Ic*flux/2/np.pi/phy.e*1e6\n",
    "Ec = alpha*1e6*phy.h/phy.e*1e6\n",
    "freq = (np.sqrt(8*Ej*Ec*1e-12*phy.e**2)-Ec*1e-6*phy.e)/phy.h*1e-9\n",
    "gap = Ic*R/np.pi*2*1e6\n",
    "dlt = 1.73*phy.k*Tc\n",
    "Rc = np.pi*dlt/2/phy.e/Ic\n",
    "Icc = np.pi*dlt/phy.e/2*1e9/R\n",
    "Ejcf = Ic*flux/2/np.pi/phy.h*1e-6\n",
    "fcc = (np.sqrt(Ejcf*8*alpha)-alpha)*1e-3\n",
    "V = 2*dlt/phy.e\n",
    "Ic2 = Icc*4/np.pi\n",
    "Rcnc = V/(Ic2*1e-9)*1e-3\n",
    "Ejcalc = (f*1e9+1e6*alpha)**2/(8*1e6*alpha)*phy.h\n",
    "Icalc = Ejcalc*(2*np.pi)/flux*1e9\n",
    "Rcalc = np.pi*dlt/2/phy.e/(Icalc*1e-9)*1e-3         "
   ]
  },
  {
   "cell_type": "code",
   "execution_count": 84,
   "metadata": {},
   "outputs": [
    {
     "name": "stdout",
     "output_type": "stream",
     "text": [
      "f = 5.63 GHz\n",
      "Ej = 82.2 ueV\n",
      "Ec = 0.9 ueV\n",
      "127.32395447351627\n",
      "Rci = 7025.2 \n",
      "Icr = 56.2 nA\n",
      "fcr = 5.63 GHz\n",
      "95.88791932074848\n",
      "Icf = 46.7 nA\n",
      "Rcf = 6.020k\n"
     ]
    }
   ],
   "source": [
    "print('f = %0.2f'%freq+' GHz')\n",
    "print('Ej = %0.1f'%Ej+' ueV')\n",
    "print('Ec = %0.1f'%Ec+' ueV')\n",
    "print(gap)\n",
    "print('Rci = %0.1f' %Rc+' ')\n",
    "print('Icr = %0.1f'%Icc+' nA')\n",
    "print('fcr = %0.2f'%fcc+' GHz')\n",
    "print(Ejcalc/phy.e*1e6)\n",
    "print('Icf = %0.1f'%Icalc+' nA')\n",
    "print('Rcf = %0.3f'%Rcalc+'k')"
   ]
  },
  {
   "cell_type": "code",
   "execution_count": 65,
   "metadata": {},
   "outputs": [
    {
     "name": "stdout",
     "output_type": "stream",
     "text": [
      "Ic = 31 nA\n",
      "Ej = 63.8 ueV\n",
      "Ec = 0.889 ueV\n",
      "Rc = 9.1 kOhm\n",
      "Tj = 740 mK\n"
     ]
    }
   ],
   "source": [
    "alpha = 215  #MHz\n",
    "Tc = 1.2     #K\n",
    "f = 5.15      #GHz\n",
    "\n",
    "Rq = phy.h*(2*phy.e)**-2\n",
    "flux = Rq*(2*phy.e)\n",
    "kev = phy.k/phy.e   #ueV to K\n",
    "\n",
    "Ec = 1e6*alpha*phy.h/phy.e*1e6 #ueV\n",
    "Ejf = f**2/(8*alpha*1e-3) #GHz\n",
    "Ej = 1e9*Ejf*phy.h/phy.e*1e6 #ueV\n",
    "Ic = Ej*1e-6*2*np.pi/flux*phy.e*1e9 #nA\n",
    "gap = 1.73*phy.k*Tc/phy.e*1e6 #ueV\n",
    "R = 0.5*(gap/Ej)*Rq*1e-3\n",
    "Tk = Ej*1e-6/kev*1e3\n",
    "\n",
    "print('Ic ={: .3g} nA'.format(Ic))\n",
    "print('Ej ={: .3g} ueV'.format(Ej))\n",
    "print('Ec ={: .3g} ueV'.format(Ec))\n",
    "print('Rc ={: .2g} kOhm'.format(R))\n",
    "print('Tj ={: .3g} mK'.format(Tk))"
   ]
  },
  {
   "cell_type": "code",
   "execution_count": 72,
   "metadata": {},
   "outputs": [
    {
     "data": {
      "image/png": "[encoded data removed]",
      "text/plain": [
       "<matplotlib.figure.Figure at 0x7fcd12f81588>"
      ]
     },
     "metadata": {},
     "output_type": "display_data"
    }
   ],
   "source": [
    "import matplotlib\n",
    "import matplotlib.pyplot as plt\n",
    "import numpy as np\n",
    "from scipy import constants as phy\n",
    "t = np.arange(0.0,7,0.001)\n",
    "f = 5.1\n",
    "d = 1.8\n",
    "r = 6160.5\n",
    "g = 120\n",
    "w = f*np.sqrt(np.abs(np.cos(t))*np.sqrt(1+((d-1)/(d+1))**2*np.tan(t)**2))\n",
    "l = (r + g**2*(r-w*1000)**-1)\n",
    "plt.plot(t,w,'-r')\n",
    "plt.ylabel('Frequency (GHz)')\n",
    "plt.xlabel('Flux (arbitrary unit)')\n",
    "#plt.title('D3 qubit estimation')\n",
    "plt.show()"
   ]
  },
  {
   "cell_type": "code",
   "execution_count": 74,
   "metadata": {},
   "outputs": [
    {
     "name": "stdout",
     "output_type": "stream",
     "text": [
      "60.55 pulses for Pi rotation\n",
      "35.3ns Pipulse at n = 3\n"
     ]
    }
   ],
   "source": [
    "alpha = 215  #MHz\n",
    "flux = phy.h/(2*phy.e)\n",
    "f01 = 5.15  #Ghz\n",
    "\n",
    "har = 3\n",
    "\n",
    "Cc = 304 #aF\n",
    "#Cc = 123\n",
    "C = phy.e**2/(2*alpha*1e6*phy.h)\n",
    "theta = 1e-18*Cc*flux*np.sqrt(2*(2*np.pi)**2*f01*1e9/(phy.h*C))\n",
    "pulses = np.pi/theta\n",
    "pipulse = pulses/f01*har\n",
    "print('{:.4g} pulses for Pi rotation'.format(pulses))\n",
    "#print('Pipulse = %0.1f' %pipulse +'ns at n=%d'%har)\n",
    "print(\"{:.3g}ns Pipulse at n = {:d}\".format(pipulse, har))"
   ]
  },
  {
   "cell_type": "code",
   "execution_count": null,
   "metadata": {
    "collapsed": true
   },
   "outputs": [],
   "source": []
  }
 ],
 "metadata": {
  "kernelspec": {
   "display_name": "Python 3",
   "language": "python",
   "name": "python3"
  },
  "language_info": {
   "codemirror_mode": {
    "name": "ipython",
    "version": 3
   },
   "file_extension": ".py",
   "mimetype": "text/x-python",
   "name": "python",
   "nbconvert_exporter": "python",
   "pygments_lexer": "ipython3",
   "version": "3.6.1"
  },
  "toc": {
   "nav_menu": {},
   "number_sections": true,
   "sideBar": true,
   "skip_h1_title": false,
   "toc_cell": false,
   "toc_position": {},
   "toc_section_display": "block",
   "toc_window_display": false
  }
 },
 "nbformat": 4,
 "nbformat_minor": 2
}
